{
 "cells": [
  {
   "cell_type": "code",
   "execution_count": 1,
   "id": "078d8ce5",
   "metadata": {
    "_cell_guid": "0bd5fd8f-4de5-406f-92da-d16f3c990795",
    "_uuid": "63737120-456d-498d-a950-7893b9099e72",
    "collapsed": false,
    "execution": {
     "iopub.execute_input": "2025-01-20T23:53:31.981994Z",
     "iopub.status.busy": "2025-01-20T23:53:31.981654Z",
     "iopub.status.idle": "2025-01-20T23:53:34.378701Z",
     "shell.execute_reply": "2025-01-20T23:53:34.377600Z"
    },
    "jupyter": {
     "outputs_hidden": false
    },
    "papermill": {
     "duration": 2.414719,
     "end_time": "2025-01-20T23:53:34.380531",
     "exception": false,
     "start_time": "2025-01-20T23:53:31.965812",
     "status": "completed"
    },
    "tags": []
   },
   "outputs": [],
   "source": [
    "# Packages / libraries\n",
    "import os #provides functions for interacting with the operating system\n",
    "import numpy as np\n",
    "import pandas as pd\n",
    "from matplotlib import pyplot as plt\n",
    "import seaborn as sns\n",
    "\n",
    "from sklearn.preprocessing import MinMaxScaler\n",
    "from sklearn.preprocessing import StandardScaler\n",
    "from sklearn.metrics import mean_squared_error, mean_absolute_error, r2_score\n",
    "\n",
    "# remove warnings\n",
    "import warnings\n",
    "warnings.simplefilter(action='ignore', category=RuntimeWarning)"
   ]
  },
  {
   "cell_type": "markdown",
   "id": "8dc4e743",
   "metadata": {
    "papermill": {
     "duration": 0.013316,
     "end_time": "2025-01-20T23:53:34.408012",
     "exception": false,
     "start_time": "2025-01-20T23:53:34.394696",
     "status": "completed"
    },
    "tags": []
   },
   "source": [
    "# **1. Loading Dataset**"
   ]
  },
  {
   "cell_type": "code",
   "execution_count": 2,
   "id": "865a30c0",
   "metadata": {
    "execution": {
     "iopub.execute_input": "2025-01-20T23:53:34.437533Z",
     "iopub.status.busy": "2025-01-20T23:53:34.437022Z",
     "iopub.status.idle": "2025-01-20T23:53:34.484738Z",
     "shell.execute_reply": "2025-01-20T23:53:34.483721Z"
    },
    "papermill": {
     "duration": 0.063968,
     "end_time": "2025-01-20T23:53:34.486317",
     "exception": false,
     "start_time": "2025-01-20T23:53:34.422349",
     "status": "completed"
    },
    "tags": []
   },
   "outputs": [
    {
     "name": "stdout",
     "output_type": "stream",
     "text": [
      "(2399, 12)\n"
     ]
    },
    {
     "data": {
      "text/html": [
       "<div>\n",
       "<style scoped>\n",
       "    .dataframe tbody tr th:only-of-type {\n",
       "        vertical-align: middle;\n",
       "    }\n",
       "\n",
       "    .dataframe tbody tr th {\n",
       "        vertical-align: top;\n",
       "    }\n",
       "\n",
       "    .dataframe thead th {\n",
       "        text-align: right;\n",
       "    }\n",
       "</style>\n",
       "<table border=\"1\" class=\"dataframe\">\n",
       "  <thead>\n",
       "    <tr style=\"text-align: right;\">\n",
       "      <th></th>\n",
       "      <th>Date</th>\n",
       "      <th>co</th>\n",
       "      <th>no2</th>\n",
       "      <th>o3</th>\n",
       "      <th>pm10</th>\n",
       "      <th>pm25</th>\n",
       "      <th>so2</th>\n",
       "      <th>humidity</th>\n",
       "      <th>pressure</th>\n",
       "      <th>temperature</th>\n",
       "      <th>wind-speed</th>\n",
       "      <th>Country_City</th>\n",
       "    </tr>\n",
       "  </thead>\n",
       "  <tbody>\n",
       "    <tr>\n",
       "      <th>0</th>\n",
       "      <td>2014-12-29</td>\n",
       "      <td>14.1</td>\n",
       "      <td>36.2</td>\n",
       "      <td>3.2</td>\n",
       "      <td>218.0</td>\n",
       "      <td>307.0</td>\n",
       "      <td>4.2</td>\n",
       "      <td>NaN</td>\n",
       "      <td>NaN</td>\n",
       "      <td>NaN</td>\n",
       "      <td>NaN</td>\n",
       "      <td>India_Delhi</td>\n",
       "    </tr>\n",
       "    <tr>\n",
       "      <th>1</th>\n",
       "      <td>2014-12-30</td>\n",
       "      <td>20.4</td>\n",
       "      <td>36.8</td>\n",
       "      <td>4.8</td>\n",
       "      <td>330.0</td>\n",
       "      <td>367.0</td>\n",
       "      <td>5.8</td>\n",
       "      <td>NaN</td>\n",
       "      <td>NaN</td>\n",
       "      <td>NaN</td>\n",
       "      <td>NaN</td>\n",
       "      <td>India_Delhi</td>\n",
       "    </tr>\n",
       "    <tr>\n",
       "      <th>2</th>\n",
       "      <td>2014-12-31</td>\n",
       "      <td>12.7</td>\n",
       "      <td>28.7</td>\n",
       "      <td>7.8</td>\n",
       "      <td>137.0</td>\n",
       "      <td>202.0</td>\n",
       "      <td>6.3</td>\n",
       "      <td>NaN</td>\n",
       "      <td>NaN</td>\n",
       "      <td>NaN</td>\n",
       "      <td>NaN</td>\n",
       "      <td>India_Delhi</td>\n",
       "    </tr>\n",
       "    <tr>\n",
       "      <th>3</th>\n",
       "      <td>2015-01-01</td>\n",
       "      <td>20.8</td>\n",
       "      <td>66.5</td>\n",
       "      <td>5.2</td>\n",
       "      <td>230.0</td>\n",
       "      <td>382.0</td>\n",
       "      <td>9.9</td>\n",
       "      <td>NaN</td>\n",
       "      <td>NaN</td>\n",
       "      <td>NaN</td>\n",
       "      <td>NaN</td>\n",
       "      <td>India_Delhi</td>\n",
       "    </tr>\n",
       "    <tr>\n",
       "      <th>4</th>\n",
       "      <td>2015-01-02</td>\n",
       "      <td>12.7</td>\n",
       "      <td>33.9</td>\n",
       "      <td>6.0</td>\n",
       "      <td>81.0</td>\n",
       "      <td>172.0</td>\n",
       "      <td>4.2</td>\n",
       "      <td>NaN</td>\n",
       "      <td>NaN</td>\n",
       "      <td>NaN</td>\n",
       "      <td>NaN</td>\n",
       "      <td>India_Delhi</td>\n",
       "    </tr>\n",
       "  </tbody>\n",
       "</table>\n",
       "</div>"
      ],
      "text/plain": [
       "         Date    co   no2   o3   pm10   pm25  so2  humidity  pressure  \\\n",
       "0  2014-12-29  14.1  36.2  3.2  218.0  307.0  4.2       NaN       NaN   \n",
       "1  2014-12-30  20.4  36.8  4.8  330.0  367.0  5.8       NaN       NaN   \n",
       "2  2014-12-31  12.7  28.7  7.8  137.0  202.0  6.3       NaN       NaN   \n",
       "3  2015-01-01  20.8  66.5  5.2  230.0  382.0  9.9       NaN       NaN   \n",
       "4  2015-01-02  12.7  33.9  6.0   81.0  172.0  4.2       NaN       NaN   \n",
       "\n",
       "   temperature  wind-speed Country_City  \n",
       "0          NaN         NaN  India_Delhi  \n",
       "1          NaN         NaN  India_Delhi  \n",
       "2          NaN         NaN  India_Delhi  \n",
       "3          NaN         NaN  India_Delhi  \n",
       "4          NaN         NaN  India_Delhi  "
      ]
     },
     "execution_count": 2,
     "metadata": {},
     "output_type": "execute_result"
    }
   ],
   "source": [
    "# Loading the data\n",
    "new_data = pd.read_csv(\"/kaggle/input/seperated-data/India_Delhi.csv\")\n",
    "\n",
    "# print the shape\n",
    "print(new_data.shape)\n",
    "\n",
    "#runs the first 5 rows\n",
    "new_data.head()"
   ]
  },
  {
   "cell_type": "code",
   "execution_count": 3,
   "id": "8769c4b3",
   "metadata": {
    "execution": {
     "iopub.execute_input": "2025-01-20T23:53:34.515656Z",
     "iopub.status.busy": "2025-01-20T23:53:34.515257Z",
     "iopub.status.idle": "2025-01-20T23:53:34.522718Z",
     "shell.execute_reply": "2025-01-20T23:53:34.521716Z"
    },
    "papermill": {
     "duration": 0.023806,
     "end_time": "2025-01-20T23:53:34.524279",
     "exception": false,
     "start_time": "2025-01-20T23:53:34.500473",
     "status": "completed"
    },
    "tags": []
   },
   "outputs": [
    {
     "name": "stdout",
     "output_type": "stream",
     "text": [
      "Minimum date: 2014-12-29\n",
      "Maximum date: 2023-10-01\n"
     ]
    }
   ],
   "source": [
    "# Find the minimum and maximum dates\n",
    "min_date = new_data['Date'].min()\n",
    "max_date = new_data['Date'].max()\n",
    "\n",
    "print('Minimum date:', min_date)\n",
    "print('Maximum date:', max_date)"
   ]
  },
  {
   "cell_type": "code",
   "execution_count": 4,
   "id": "a6a63b43",
   "metadata": {
    "execution": {
     "iopub.execute_input": "2025-01-20T23:53:34.553662Z",
     "iopub.status.busy": "2025-01-20T23:53:34.553250Z",
     "iopub.status.idle": "2025-01-20T23:53:34.576792Z",
     "shell.execute_reply": "2025-01-20T23:53:34.575582Z"
    },
    "papermill": {
     "duration": 0.040235,
     "end_time": "2025-01-20T23:53:34.578536",
     "exception": false,
     "start_time": "2025-01-20T23:53:34.538301",
     "status": "completed"
    },
    "tags": []
   },
   "outputs": [
    {
     "name": "stdout",
     "output_type": "stream",
     "text": [
      "<class 'pandas.core.frame.DataFrame'>\n",
      "RangeIndex: 2399 entries, 0 to 2398\n",
      "Data columns (total 12 columns):\n",
      " #   Column        Non-Null Count  Dtype  \n",
      "---  ------        --------------  -----  \n",
      " 0   Date          2399 non-null   object \n",
      " 1   co            2399 non-null   float64\n",
      " 2   no2           2399 non-null   float64\n",
      " 3   o3            2399 non-null   float64\n",
      " 4   pm10          2398 non-null   float64\n",
      " 5   pm25          2398 non-null   float64\n",
      " 6   so2           2399 non-null   float64\n",
      " 7   humidity      1698 non-null   float64\n",
      " 8   pressure      1698 non-null   float64\n",
      " 9   temperature   1698 non-null   float64\n",
      " 10  wind-speed    1629 non-null   float64\n",
      " 11  Country_City  2399 non-null   object \n",
      "dtypes: float64(10), object(2)\n",
      "memory usage: 225.0+ KB\n"
     ]
    }
   ],
   "source": [
    "new_data.info()"
   ]
  },
  {
   "cell_type": "code",
   "execution_count": 5,
   "id": "60e0f39a",
   "metadata": {
    "execution": {
     "iopub.execute_input": "2025-01-20T23:53:34.608427Z",
     "iopub.status.busy": "2025-01-20T23:53:34.608077Z",
     "iopub.status.idle": "2025-01-20T23:53:34.641560Z",
     "shell.execute_reply": "2025-01-20T23:53:34.640395Z"
    },
    "papermill": {
     "duration": 0.050476,
     "end_time": "2025-01-20T23:53:34.643322",
     "exception": false,
     "start_time": "2025-01-20T23:53:34.592846",
     "status": "completed"
    },
    "tags": []
   },
   "outputs": [
    {
     "data": {
      "text/html": [
       "<div>\n",
       "<style scoped>\n",
       "    .dataframe tbody tr th:only-of-type {\n",
       "        vertical-align: middle;\n",
       "    }\n",
       "\n",
       "    .dataframe tbody tr th {\n",
       "        vertical-align: top;\n",
       "    }\n",
       "\n",
       "    .dataframe thead th {\n",
       "        text-align: right;\n",
       "    }\n",
       "</style>\n",
       "<table border=\"1\" class=\"dataframe\">\n",
       "  <thead>\n",
       "    <tr style=\"text-align: right;\">\n",
       "      <th></th>\n",
       "      <th>co</th>\n",
       "      <th>no2</th>\n",
       "      <th>o3</th>\n",
       "      <th>pm10</th>\n",
       "      <th>pm25</th>\n",
       "      <th>so2</th>\n",
       "      <th>humidity</th>\n",
       "      <th>pressure</th>\n",
       "      <th>temperature</th>\n",
       "      <th>wind-speed</th>\n",
       "    </tr>\n",
       "  </thead>\n",
       "  <tbody>\n",
       "    <tr>\n",
       "      <th>count</th>\n",
       "      <td>2399.000000</td>\n",
       "      <td>2399.000000</td>\n",
       "      <td>2399.000000</td>\n",
       "      <td>2398.000000</td>\n",
       "      <td>2398.000000</td>\n",
       "      <td>2399.000000</td>\n",
       "      <td>1698.000000</td>\n",
       "      <td>1698.000000</td>\n",
       "      <td>1698.000000</td>\n",
       "      <td>1629.000000</td>\n",
       "    </tr>\n",
       "    <tr>\n",
       "      <th>mean</th>\n",
       "      <td>9.325594</td>\n",
       "      <td>16.870946</td>\n",
       "      <td>9.480700</td>\n",
       "      <td>131.572143</td>\n",
       "      <td>164.397832</td>\n",
       "      <td>5.702751</td>\n",
       "      <td>60.708304</td>\n",
       "      <td>985.184923</td>\n",
       "      <td>26.338869</td>\n",
       "      <td>1.101964</td>\n",
       "    </tr>\n",
       "    <tr>\n",
       "      <th>std</th>\n",
       "      <td>3.715709</td>\n",
       "      <td>7.805715</td>\n",
       "      <td>4.829603</td>\n",
       "      <td>77.174642</td>\n",
       "      <td>64.829240</td>\n",
       "      <td>2.289821</td>\n",
       "      <td>17.138084</td>\n",
       "      <td>10.022854</td>\n",
       "      <td>6.631277</td>\n",
       "      <td>0.493156</td>\n",
       "    </tr>\n",
       "    <tr>\n",
       "      <th>min</th>\n",
       "      <td>0.100000</td>\n",
       "      <td>5.000000</td>\n",
       "      <td>2.400000</td>\n",
       "      <td>12.000000</td>\n",
       "      <td>30.000000</td>\n",
       "      <td>1.700000</td>\n",
       "      <td>13.000000</td>\n",
       "      <td>743.000000</td>\n",
       "      <td>6.200000</td>\n",
       "      <td>0.300000</td>\n",
       "    </tr>\n",
       "    <tr>\n",
       "      <th>25%</th>\n",
       "      <td>7.050000</td>\n",
       "      <td>10.600000</td>\n",
       "      <td>6.000000</td>\n",
       "      <td>82.000000</td>\n",
       "      <td>123.000000</td>\n",
       "      <td>4.000000</td>\n",
       "      <td>48.500000</td>\n",
       "      <td>979.800000</td>\n",
       "      <td>22.100000</td>\n",
       "      <td>0.800000</td>\n",
       "    </tr>\n",
       "    <tr>\n",
       "      <th>50%</th>\n",
       "      <td>8.400000</td>\n",
       "      <td>15.800000</td>\n",
       "      <td>8.200000</td>\n",
       "      <td>120.000000</td>\n",
       "      <td>160.000000</td>\n",
       "      <td>5.300000</td>\n",
       "      <td>63.000000</td>\n",
       "      <td>983.900000</td>\n",
       "      <td>28.600000</td>\n",
       "      <td>1.000000</td>\n",
       "    </tr>\n",
       "    <tr>\n",
       "      <th>75%</th>\n",
       "      <td>10.700000</td>\n",
       "      <td>21.500000</td>\n",
       "      <td>11.800000</td>\n",
       "      <td>160.000000</td>\n",
       "      <td>189.000000</td>\n",
       "      <td>7.100000</td>\n",
       "      <td>74.000000</td>\n",
       "      <td>990.400000</td>\n",
       "      <td>31.100000</td>\n",
       "      <td>1.300000</td>\n",
       "    </tr>\n",
       "    <tr>\n",
       "      <th>max</th>\n",
       "      <td>30.600000</td>\n",
       "      <td>66.500000</td>\n",
       "      <td>40.300000</td>\n",
       "      <td>999.000000</td>\n",
       "      <td>577.000000</td>\n",
       "      <td>19.800000</td>\n",
       "      <td>99.100000</td>\n",
       "      <td>1020.500000</td>\n",
       "      <td>38.000000</td>\n",
       "      <td>4.600000</td>\n",
       "    </tr>\n",
       "  </tbody>\n",
       "</table>\n",
       "</div>"
      ],
      "text/plain": [
       "                co          no2           o3         pm10         pm25  \\\n",
       "count  2399.000000  2399.000000  2399.000000  2398.000000  2398.000000   \n",
       "mean      9.325594    16.870946     9.480700   131.572143   164.397832   \n",
       "std       3.715709     7.805715     4.829603    77.174642    64.829240   \n",
       "min       0.100000     5.000000     2.400000    12.000000    30.000000   \n",
       "25%       7.050000    10.600000     6.000000    82.000000   123.000000   \n",
       "50%       8.400000    15.800000     8.200000   120.000000   160.000000   \n",
       "75%      10.700000    21.500000    11.800000   160.000000   189.000000   \n",
       "max      30.600000    66.500000    40.300000   999.000000   577.000000   \n",
       "\n",
       "               so2     humidity     pressure  temperature   wind-speed  \n",
       "count  2399.000000  1698.000000  1698.000000  1698.000000  1629.000000  \n",
       "mean      5.702751    60.708304   985.184923    26.338869     1.101964  \n",
       "std       2.289821    17.138084    10.022854     6.631277     0.493156  \n",
       "min       1.700000    13.000000   743.000000     6.200000     0.300000  \n",
       "25%       4.000000    48.500000   979.800000    22.100000     0.800000  \n",
       "50%       5.300000    63.000000   983.900000    28.600000     1.000000  \n",
       "75%       7.100000    74.000000   990.400000    31.100000     1.300000  \n",
       "max      19.800000    99.100000  1020.500000    38.000000     4.600000  "
      ]
     },
     "execution_count": 5,
     "metadata": {},
     "output_type": "execute_result"
    }
   ],
   "source": [
    "new_data.describe()"
   ]
  },
  {
   "cell_type": "code",
   "execution_count": 6,
   "id": "fc6fa1a3",
   "metadata": {
    "execution": {
     "iopub.execute_input": "2025-01-20T23:53:34.673576Z",
     "iopub.status.busy": "2025-01-20T23:53:34.673178Z",
     "iopub.status.idle": "2025-01-20T23:53:34.684305Z",
     "shell.execute_reply": "2025-01-20T23:53:34.683341Z"
    },
    "papermill": {
     "duration": 0.02812,
     "end_time": "2025-01-20T23:53:34.686042",
     "exception": false,
     "start_time": "2025-01-20T23:53:34.657922",
     "status": "completed"
    },
    "tags": []
   },
   "outputs": [
    {
     "name": "stdout",
     "output_type": "stream",
     "text": [
      "The number of values for feature Date :2397\n",
      "The number of values for feature co :200\n",
      "The number of values for feature no2 :328\n",
      "The number of values for feature o3 :226\n",
      "The number of values for feature pm10 :320\n",
      "The number of values for feature pm25 :309\n",
      "The number of values for feature so2 :116\n",
      "The number of values for feature humidity :602\n",
      "The number of values for feature pressure :300\n",
      "The number of values for feature temperature :264\n",
      "The number of values for feature wind-speed :33\n",
      "The number of values for feature Country_City :1 -- ['India_Delhi']\n"
     ]
    }
   ],
   "source": [
    "# Investigate all the elements whithin each Feature\n",
    "\n",
    "for column in new_data:\n",
    "    # Handle numerical and string columns differently\n",
    "    if new_data[column].dtype == 'object':  # Check if column is of object type\n",
    "        unique_vals = new_data[column].unique()  # pandas unique for strings\n",
    "    else:\n",
    "        unique_vals = np.unique(new_data[column])  # numpy unique for numerical types\n",
    "\n",
    "    nr_values = len(unique_vals)\n",
    "    if nr_values < 14:\n",
    "        print('The number of values for feature {} :{} -- {}'.format(column, nr_values,unique_vals))\n",
    "    else:\n",
    "        print('The number of values for feature {} :{}'.format(column, nr_values))"
   ]
  },
  {
   "cell_type": "code",
   "execution_count": 7,
   "id": "578e30f6",
   "metadata": {
    "execution": {
     "iopub.execute_input": "2025-01-20T23:53:34.716074Z",
     "iopub.status.busy": "2025-01-20T23:53:34.715693Z",
     "iopub.status.idle": "2025-01-20T23:53:34.723156Z",
     "shell.execute_reply": "2025-01-20T23:53:34.722168Z"
    },
    "papermill": {
     "duration": 0.024369,
     "end_time": "2025-01-20T23:53:34.724808",
     "exception": false,
     "start_time": "2025-01-20T23:53:34.700439",
     "status": "completed"
    },
    "tags": []
   },
   "outputs": [
    {
     "data": {
      "text/plain": [
       "Date              0\n",
       "co                0\n",
       "no2               0\n",
       "o3                0\n",
       "pm10              1\n",
       "pm25              1\n",
       "so2               0\n",
       "humidity        701\n",
       "pressure        701\n",
       "temperature     701\n",
       "wind-speed      770\n",
       "Country_City      0\n",
       "dtype: int64"
      ]
     },
     "execution_count": 7,
     "metadata": {},
     "output_type": "execute_result"
    }
   ],
   "source": [
    "new_data.isna().sum()"
   ]
  },
  {
   "cell_type": "markdown",
   "id": "a51d11bf",
   "metadata": {
    "papermill": {
     "duration": 0.014094,
     "end_time": "2025-01-20T23:53:34.753415",
     "exception": false,
     "start_time": "2025-01-20T23:53:34.739321",
     "status": "completed"
    },
    "tags": []
   },
   "source": [
    "# **1.2 - Function**"
   ]
  },
  {
   "cell_type": "code",
   "execution_count": 8,
   "id": "dc72ea1a",
   "metadata": {
    "execution": {
     "iopub.execute_input": "2025-01-20T23:53:34.784329Z",
     "iopub.status.busy": "2025-01-20T23:53:34.783952Z",
     "iopub.status.idle": "2025-01-20T23:53:34.789165Z",
     "shell.execute_reply": "2025-01-20T23:53:34.788111Z"
    },
    "papermill": {
     "duration": 0.022046,
     "end_time": "2025-01-20T23:53:34.790748",
     "exception": false,
     "start_time": "2025-01-20T23:53:34.768702",
     "status": "completed"
    },
    "tags": []
   },
   "outputs": [
    {
     "name": "stdout",
     "output_type": "stream",
     "text": [
      "['__script__.py', '__results__.html', '__script__.ipynb', 'function.py', '__output__.json', 'custom.css']\n"
     ]
    }
   ],
   "source": [
    "print(os.listdir('/kaggle/usr/lib/function'))"
   ]
  },
  {
   "cell_type": "code",
   "execution_count": 9,
   "id": "b657fd50",
   "metadata": {
    "execution": {
     "iopub.execute_input": "2025-01-20T23:53:34.820864Z",
     "iopub.status.busy": "2025-01-20T23:53:34.820456Z",
     "iopub.status.idle": "2025-01-20T23:53:34.832624Z",
     "shell.execute_reply": "2025-01-20T23:53:34.831570Z"
    },
    "papermill": {
     "duration": 0.029155,
     "end_time": "2025-01-20T23:53:34.834391",
     "exception": false,
     "start_time": "2025-01-20T23:53:34.805236",
     "status": "completed"
    },
    "tags": []
   },
   "outputs": [],
   "source": [
    "import sys\n",
    "sys.path.append(\"/kaggle/usr/lib/function\")  # Add directory to the path\n",
    "\n",
    "import function as fn"
   ]
  },
  {
   "cell_type": "code",
   "execution_count": 10,
   "id": "6549e068",
   "metadata": {
    "execution": {
     "iopub.execute_input": "2025-01-20T23:53:34.865652Z",
     "iopub.status.busy": "2025-01-20T23:53:34.865246Z",
     "iopub.status.idle": "2025-01-20T23:53:34.890061Z",
     "shell.execute_reply": "2025-01-20T23:53:34.888995Z"
    },
    "papermill": {
     "duration": 0.042783,
     "end_time": "2025-01-20T23:53:34.892002",
     "exception": false,
     "start_time": "2025-01-20T23:53:34.849219",
     "status": "completed"
    },
    "tags": []
   },
   "outputs": [
    {
     "data": {
      "text/html": [
       "<div>\n",
       "<style scoped>\n",
       "    .dataframe tbody tr th:only-of-type {\n",
       "        vertical-align: middle;\n",
       "    }\n",
       "\n",
       "    .dataframe tbody tr th {\n",
       "        vertical-align: top;\n",
       "    }\n",
       "\n",
       "    .dataframe thead th {\n",
       "        text-align: right;\n",
       "    }\n",
       "</style>\n",
       "<table border=\"1\" class=\"dataframe\">\n",
       "  <thead>\n",
       "    <tr style=\"text-align: right;\">\n",
       "      <th></th>\n",
       "      <th>co</th>\n",
       "      <th>no2</th>\n",
       "      <th>o3</th>\n",
       "      <th>pm10</th>\n",
       "      <th>pm25</th>\n",
       "      <th>so2</th>\n",
       "      <th>humidity</th>\n",
       "      <th>pressure</th>\n",
       "      <th>temperature</th>\n",
       "      <th>wind-speed</th>\n",
       "      <th>Country_City</th>\n",
       "    </tr>\n",
       "    <tr>\n",
       "      <th>Date</th>\n",
       "      <th></th>\n",
       "      <th></th>\n",
       "      <th></th>\n",
       "      <th></th>\n",
       "      <th></th>\n",
       "      <th></th>\n",
       "      <th></th>\n",
       "      <th></th>\n",
       "      <th></th>\n",
       "      <th></th>\n",
       "      <th></th>\n",
       "    </tr>\n",
       "  </thead>\n",
       "  <tbody>\n",
       "    <tr>\n",
       "      <th>2014-12-29</th>\n",
       "      <td>14.1</td>\n",
       "      <td>36.2</td>\n",
       "      <td>3.2</td>\n",
       "      <td>218.0</td>\n",
       "      <td>307.0</td>\n",
       "      <td>4.2</td>\n",
       "      <td>NaN</td>\n",
       "      <td>NaN</td>\n",
       "      <td>NaN</td>\n",
       "      <td>NaN</td>\n",
       "      <td>India_Delhi</td>\n",
       "    </tr>\n",
       "    <tr>\n",
       "      <th>2014-12-30</th>\n",
       "      <td>20.4</td>\n",
       "      <td>36.8</td>\n",
       "      <td>4.8</td>\n",
       "      <td>330.0</td>\n",
       "      <td>367.0</td>\n",
       "      <td>5.8</td>\n",
       "      <td>NaN</td>\n",
       "      <td>NaN</td>\n",
       "      <td>NaN</td>\n",
       "      <td>NaN</td>\n",
       "      <td>India_Delhi</td>\n",
       "    </tr>\n",
       "    <tr>\n",
       "      <th>2014-12-31</th>\n",
       "      <td>12.7</td>\n",
       "      <td>28.7</td>\n",
       "      <td>7.8</td>\n",
       "      <td>137.0</td>\n",
       "      <td>202.0</td>\n",
       "      <td>6.3</td>\n",
       "      <td>NaN</td>\n",
       "      <td>NaN</td>\n",
       "      <td>NaN</td>\n",
       "      <td>NaN</td>\n",
       "      <td>India_Delhi</td>\n",
       "    </tr>\n",
       "    <tr>\n",
       "      <th>2015-01-01</th>\n",
       "      <td>20.8</td>\n",
       "      <td>66.5</td>\n",
       "      <td>5.2</td>\n",
       "      <td>230.0</td>\n",
       "      <td>382.0</td>\n",
       "      <td>9.9</td>\n",
       "      <td>NaN</td>\n",
       "      <td>NaN</td>\n",
       "      <td>NaN</td>\n",
       "      <td>NaN</td>\n",
       "      <td>India_Delhi</td>\n",
       "    </tr>\n",
       "    <tr>\n",
       "      <th>2015-01-02</th>\n",
       "      <td>12.7</td>\n",
       "      <td>33.9</td>\n",
       "      <td>6.0</td>\n",
       "      <td>81.0</td>\n",
       "      <td>172.0</td>\n",
       "      <td>4.2</td>\n",
       "      <td>NaN</td>\n",
       "      <td>NaN</td>\n",
       "      <td>NaN</td>\n",
       "      <td>NaN</td>\n",
       "      <td>India_Delhi</td>\n",
       "    </tr>\n",
       "  </tbody>\n",
       "</table>\n",
       "</div>"
      ],
      "text/plain": [
       "              co   no2   o3   pm10   pm25  so2  humidity  pressure  \\\n",
       "Date                                                                 \n",
       "2014-12-29  14.1  36.2  3.2  218.0  307.0  4.2       NaN       NaN   \n",
       "2014-12-30  20.4  36.8  4.8  330.0  367.0  5.8       NaN       NaN   \n",
       "2014-12-31  12.7  28.7  7.8  137.0  202.0  6.3       NaN       NaN   \n",
       "2015-01-01  20.8  66.5  5.2  230.0  382.0  9.9       NaN       NaN   \n",
       "2015-01-02  12.7  33.9  6.0   81.0  172.0  4.2       NaN       NaN   \n",
       "\n",
       "            temperature  wind-speed Country_City  \n",
       "Date                                              \n",
       "2014-12-29          NaN         NaN  India_Delhi  \n",
       "2014-12-30          NaN         NaN  India_Delhi  \n",
       "2014-12-31          NaN         NaN  India_Delhi  \n",
       "2015-01-01          NaN         NaN  India_Delhi  \n",
       "2015-01-02          NaN         NaN  India_Delhi  "
      ]
     },
     "execution_count": 10,
     "metadata": {},
     "output_type": "execute_result"
    }
   ],
   "source": [
    "# Use the functions\n",
    "new_data1 = fn.prepare_datetime_index(new_data, date_column='Date')\n",
    "new_data1.head()"
   ]
  },
  {
   "cell_type": "code",
   "execution_count": 11,
   "id": "82f28444",
   "metadata": {
    "execution": {
     "iopub.execute_input": "2025-01-20T23:53:34.922930Z",
     "iopub.status.busy": "2025-01-20T23:53:34.922470Z",
     "iopub.status.idle": "2025-01-20T23:53:34.936677Z",
     "shell.execute_reply": "2025-01-20T23:53:34.935412Z"
    },
    "papermill": {
     "duration": 0.03142,
     "end_time": "2025-01-20T23:53:34.938327",
     "exception": false,
     "start_time": "2025-01-20T23:53:34.906907",
     "status": "completed"
    },
    "tags": []
   },
   "outputs": [
    {
     "name": "stdout",
     "output_type": "stream",
     "text": [
      "co              0\n",
      "no2             0\n",
      "o3              0\n",
      "pm10            0\n",
      "pm25            0\n",
      "so2             0\n",
      "humidity        0\n",
      "pressure        0\n",
      "temperature     0\n",
      "wind-speed      0\n",
      "Country_City    0\n",
      "dtype: int64\n"
     ]
    }
   ],
   "source": [
    "# Use the functions\n",
    "new_data2 = fn.fill_pollutant_values(new_data1)\n",
    "print(new_data2.isna().sum())"
   ]
  },
  {
   "cell_type": "markdown",
   "id": "a98c1e69",
   "metadata": {
    "papermill": {
     "duration": 0.014416,
     "end_time": "2025-01-20T23:53:34.967603",
     "exception": false,
     "start_time": "2025-01-20T23:53:34.953187",
     "status": "completed"
    },
    "tags": []
   },
   "source": [
    "**Check**"
   ]
  },
  {
   "cell_type": "code",
   "execution_count": 12,
   "id": "5bdd42eb",
   "metadata": {
    "execution": {
     "iopub.execute_input": "2025-01-20T23:53:34.998104Z",
     "iopub.status.busy": "2025-01-20T23:53:34.997755Z",
     "iopub.status.idle": "2025-01-20T23:53:35.012120Z",
     "shell.execute_reply": "2025-01-20T23:53:35.010952Z"
    },
    "papermill": {
     "duration": 0.031769,
     "end_time": "2025-01-20T23:53:35.014040",
     "exception": false,
     "start_time": "2025-01-20T23:53:34.982271",
     "status": "completed"
    },
    "tags": []
   },
   "outputs": [
    {
     "name": "stdout",
     "output_type": "stream",
     "text": [
      "Missing Dates:\n",
      "DatetimeIndex(['2015-07-06', '2015-07-07', '2015-07-08', '2015-07-09',\n",
      "               '2015-07-10', '2015-07-11', '2015-07-12', '2015-07-13',\n",
      "               '2015-07-14', '2015-07-15',\n",
      "               ...\n",
      "               '2022-03-18', '2022-03-19', '2022-03-20', '2022-03-21',\n",
      "               '2022-03-22', '2022-03-23', '2022-03-24', '2022-03-25',\n",
      "               '2022-03-26', '2022-03-27'],\n",
      "              dtype='datetime64[ns]', length=802, freq=None)\n"
     ]
    }
   ],
   "source": [
    "# Create a complete range of dates\n",
    "full_range = pd.date_range(start=new_data2.index.min(), end=new_data2.index.max())\n",
    "\n",
    "# Find missing dates\n",
    "missing_dates = full_range.difference(new_data2.index)\n",
    "print(\"Missing Dates:\")\n",
    "print(missing_dates)"
   ]
  },
  {
   "cell_type": "code",
   "execution_count": 13,
   "id": "1e5a9980",
   "metadata": {
    "execution": {
     "iopub.execute_input": "2025-01-20T23:53:35.046336Z",
     "iopub.status.busy": "2025-01-20T23:53:35.045982Z",
     "iopub.status.idle": "2025-01-20T23:53:35.055401Z",
     "shell.execute_reply": "2025-01-20T23:53:35.054362Z"
    },
    "papermill": {
     "duration": 0.026934,
     "end_time": "2025-01-20T23:53:35.057211",
     "exception": false,
     "start_time": "2025-01-20T23:53:35.030277",
     "status": "completed"
    },
    "tags": []
   },
   "outputs": [],
   "source": [
    "new_data3 = fn.impute_missing_dates(new_data2)"
   ]
  },
  {
   "cell_type": "code",
   "execution_count": 14,
   "id": "5911531a",
   "metadata": {
    "execution": {
     "iopub.execute_input": "2025-01-20T23:53:35.088373Z",
     "iopub.status.busy": "2025-01-20T23:53:35.087988Z",
     "iopub.status.idle": "2025-01-20T23:53:35.095597Z",
     "shell.execute_reply": "2025-01-20T23:53:35.094401Z"
    },
    "papermill": {
     "duration": 0.024934,
     "end_time": "2025-01-20T23:53:35.097196",
     "exception": false,
     "start_time": "2025-01-20T23:53:35.072262",
     "status": "completed"
    },
    "tags": []
   },
   "outputs": [
    {
     "name": "stdout",
     "output_type": "stream",
     "text": [
      "Missing Dates:\n",
      "DatetimeIndex([], dtype='datetime64[ns]', freq='D')\n"
     ]
    }
   ],
   "source": [
    "# Create a complete range of dates\n",
    "full_range = pd.date_range(start=new_data3.index.min(), end=new_data3.index.max())\n",
    "\n",
    "# Find missing dates\n",
    "missing_dates = full_range.difference(new_data3.index)\n",
    "print(\"Missing Dates:\")\n",
    "print(missing_dates)"
   ]
  },
  {
   "cell_type": "code",
   "execution_count": 15,
   "id": "b39b0dae",
   "metadata": {
    "execution": {
     "iopub.execute_input": "2025-01-20T23:53:35.129020Z",
     "iopub.status.busy": "2025-01-20T23:53:35.128660Z",
     "iopub.status.idle": "2025-01-20T23:53:35.134551Z",
     "shell.execute_reply": "2025-01-20T23:53:35.133399Z"
    },
    "papermill": {
     "duration": 0.023306,
     "end_time": "2025-01-20T23:53:35.136160",
     "exception": false,
     "start_time": "2025-01-20T23:53:35.112854",
     "status": "completed"
    },
    "tags": []
   },
   "outputs": [
    {
     "name": "stdout",
     "output_type": "stream",
     "text": [
      "Duplicate indexes: DatetimeIndex([], dtype='datetime64[ns]', freq='D')\n"
     ]
    }
   ],
   "source": [
    "duplicates = new_data3.index[new_data3.index.duplicated()]\n",
    "print(f\"Duplicate indexes: {duplicates}\")"
   ]
  },
  {
   "cell_type": "markdown",
   "id": "02c6d5d9",
   "metadata": {
    "papermill": {
     "duration": 0.015008,
     "end_time": "2025-01-20T23:53:35.166746",
     "exception": false,
     "start_time": "2025-01-20T23:53:35.151738",
     "status": "completed"
    },
    "tags": []
   },
   "source": [
    "# **1.3.Normal AQI count, After Normal AQI count Smoothing AQI(IQR, Z-score, Rolling), (Preprocess Pollution --> Smooth Pollution --> Calculate smooth aqi).**"
   ]
  },
  {
   "cell_type": "code",
   "execution_count": 16,
   "id": "17396f98",
   "metadata": {
    "execution": {
     "iopub.execute_input": "2025-01-20T23:53:35.198024Z",
     "iopub.status.busy": "2025-01-20T23:53:35.197633Z",
     "iopub.status.idle": "2025-01-20T23:53:35.208585Z",
     "shell.execute_reply": "2025-01-20T23:53:35.207551Z"
    },
    "papermill": {
     "duration": 0.028483,
     "end_time": "2025-01-20T23:53:35.210252",
     "exception": false,
     "start_time": "2025-01-20T23:53:35.181769",
     "status": "completed"
    },
    "tags": []
   },
   "outputs": [],
   "source": [
    "new_data4 = fn.calculate_aqi(new_data3, subindex_columns=['co', 'no2', 'o3', 'pm10', 'pm25', 'so2'])"
   ]
  },
  {
   "cell_type": "code",
   "execution_count": 17,
   "id": "9aa7e841",
   "metadata": {
    "execution": {
     "iopub.execute_input": "2025-01-20T23:53:35.241903Z",
     "iopub.status.busy": "2025-01-20T23:53:35.241547Z",
     "iopub.status.idle": "2025-01-20T23:53:35.259027Z",
     "shell.execute_reply": "2025-01-20T23:53:35.258178Z"
    },
    "papermill": {
     "duration": 0.034935,
     "end_time": "2025-01-20T23:53:35.260470",
     "exception": false,
     "start_time": "2025-01-20T23:53:35.225535",
     "status": "completed"
    },
    "tags": []
   },
   "outputs": [
    {
     "data": {
      "text/html": [
       "<div>\n",
       "<style scoped>\n",
       "    .dataframe tbody tr th:only-of-type {\n",
       "        vertical-align: middle;\n",
       "    }\n",
       "\n",
       "    .dataframe tbody tr th {\n",
       "        vertical-align: top;\n",
       "    }\n",
       "\n",
       "    .dataframe thead th {\n",
       "        text-align: right;\n",
       "    }\n",
       "</style>\n",
       "<table border=\"1\" class=\"dataframe\">\n",
       "  <thead>\n",
       "    <tr style=\"text-align: right;\">\n",
       "      <th></th>\n",
       "      <th>co</th>\n",
       "      <th>no2</th>\n",
       "      <th>o3</th>\n",
       "      <th>pm10</th>\n",
       "      <th>pm25</th>\n",
       "      <th>so2</th>\n",
       "      <th>humidity</th>\n",
       "      <th>pressure</th>\n",
       "      <th>temperature</th>\n",
       "      <th>wind-speed</th>\n",
       "      <th>Country_City</th>\n",
       "      <th>Checks</th>\n",
       "      <th>AQI</th>\n",
       "    </tr>\n",
       "  </thead>\n",
       "  <tbody>\n",
       "    <tr>\n",
       "      <th>2014-12-29</th>\n",
       "      <td>14.1</td>\n",
       "      <td>36.2</td>\n",
       "      <td>3.2</td>\n",
       "      <td>218.0</td>\n",
       "      <td>307.0</td>\n",
       "      <td>4.2</td>\n",
       "      <td>60.691097</td>\n",
       "      <td>985.187382</td>\n",
       "      <td>26.3352</td>\n",
       "      <td>1.102459</td>\n",
       "      <td>India_Delhi</td>\n",
       "      <td>6</td>\n",
       "      <td>307.0</td>\n",
       "    </tr>\n",
       "    <tr>\n",
       "      <th>2014-12-30</th>\n",
       "      <td>20.4</td>\n",
       "      <td>36.8</td>\n",
       "      <td>4.8</td>\n",
       "      <td>330.0</td>\n",
       "      <td>367.0</td>\n",
       "      <td>5.8</td>\n",
       "      <td>60.691097</td>\n",
       "      <td>985.187382</td>\n",
       "      <td>26.3352</td>\n",
       "      <td>1.102459</td>\n",
       "      <td>India_Delhi</td>\n",
       "      <td>6</td>\n",
       "      <td>367.0</td>\n",
       "    </tr>\n",
       "    <tr>\n",
       "      <th>2014-12-31</th>\n",
       "      <td>12.7</td>\n",
       "      <td>28.7</td>\n",
       "      <td>7.8</td>\n",
       "      <td>137.0</td>\n",
       "      <td>202.0</td>\n",
       "      <td>6.3</td>\n",
       "      <td>60.691097</td>\n",
       "      <td>985.187382</td>\n",
       "      <td>26.3352</td>\n",
       "      <td>1.102459</td>\n",
       "      <td>India_Delhi</td>\n",
       "      <td>6</td>\n",
       "      <td>202.0</td>\n",
       "    </tr>\n",
       "    <tr>\n",
       "      <th>2015-01-01</th>\n",
       "      <td>20.8</td>\n",
       "      <td>66.5</td>\n",
       "      <td>5.2</td>\n",
       "      <td>230.0</td>\n",
       "      <td>382.0</td>\n",
       "      <td>9.9</td>\n",
       "      <td>60.691097</td>\n",
       "      <td>985.187382</td>\n",
       "      <td>26.3352</td>\n",
       "      <td>1.102459</td>\n",
       "      <td>India_Delhi</td>\n",
       "      <td>6</td>\n",
       "      <td>382.0</td>\n",
       "    </tr>\n",
       "    <tr>\n",
       "      <th>2015-01-02</th>\n",
       "      <td>12.7</td>\n",
       "      <td>33.9</td>\n",
       "      <td>6.0</td>\n",
       "      <td>81.0</td>\n",
       "      <td>172.0</td>\n",
       "      <td>4.2</td>\n",
       "      <td>60.691097</td>\n",
       "      <td>985.187382</td>\n",
       "      <td>26.3352</td>\n",
       "      <td>1.102459</td>\n",
       "      <td>India_Delhi</td>\n",
       "      <td>6</td>\n",
       "      <td>172.0</td>\n",
       "    </tr>\n",
       "  </tbody>\n",
       "</table>\n",
       "</div>"
      ],
      "text/plain": [
       "              co   no2   o3   pm10   pm25  so2   humidity    pressure  \\\n",
       "2014-12-29  14.1  36.2  3.2  218.0  307.0  4.2  60.691097  985.187382   \n",
       "2014-12-30  20.4  36.8  4.8  330.0  367.0  5.8  60.691097  985.187382   \n",
       "2014-12-31  12.7  28.7  7.8  137.0  202.0  6.3  60.691097  985.187382   \n",
       "2015-01-01  20.8  66.5  5.2  230.0  382.0  9.9  60.691097  985.187382   \n",
       "2015-01-02  12.7  33.9  6.0   81.0  172.0  4.2  60.691097  985.187382   \n",
       "\n",
       "            temperature  wind-speed Country_City  Checks    AQI  \n",
       "2014-12-29      26.3352    1.102459  India_Delhi       6  307.0  \n",
       "2014-12-30      26.3352    1.102459  India_Delhi       6  367.0  \n",
       "2014-12-31      26.3352    1.102459  India_Delhi       6  202.0  \n",
       "2015-01-01      26.3352    1.102459  India_Delhi       6  382.0  \n",
       "2015-01-02      26.3352    1.102459  India_Delhi       6  172.0  "
      ]
     },
     "execution_count": 17,
     "metadata": {},
     "output_type": "execute_result"
    }
   ],
   "source": [
    "new_data4.head()"
   ]
  },
  {
   "cell_type": "code",
   "execution_count": 18,
   "id": "73b1fab3",
   "metadata": {
    "execution": {
     "iopub.execute_input": "2025-01-20T23:53:35.292072Z",
     "iopub.status.busy": "2025-01-20T23:53:35.291736Z",
     "iopub.status.idle": "2025-01-20T23:53:35.297197Z",
     "shell.execute_reply": "2025-01-20T23:53:35.296203Z"
    },
    "papermill": {
     "duration": 0.022826,
     "end_time": "2025-01-20T23:53:35.298710",
     "exception": false,
     "start_time": "2025-01-20T23:53:35.275884",
     "status": "completed"
    },
    "tags": []
   },
   "outputs": [
    {
     "data": {
      "text/plain": [
       "(3199, 13)"
      ]
     },
     "execution_count": 18,
     "metadata": {},
     "output_type": "execute_result"
    }
   ],
   "source": [
    "new_data4.shape"
   ]
  },
  {
   "cell_type": "markdown",
   "id": "2cdd1f39",
   "metadata": {
    "papermill": {
     "duration": 0.015051,
     "end_time": "2025-01-20T23:53:35.329175",
     "exception": false,
     "start_time": "2025-01-20T23:53:35.314124",
     "status": "completed"
    },
    "tags": []
   },
   "source": [
    " After Normal AQI count Smoothing AQI(IQR, Z-score, Rolling)"
   ]
  },
  {
   "cell_type": "code",
   "execution_count": 19,
   "id": "6dfcbe19",
   "metadata": {
    "execution": {
     "iopub.execute_input": "2025-01-20T23:53:35.361257Z",
     "iopub.status.busy": "2025-01-20T23:53:35.360905Z",
     "iopub.status.idle": "2025-01-20T23:53:35.377813Z",
     "shell.execute_reply": "2025-01-20T23:53:35.376981Z"
    },
    "papermill": {
     "duration": 0.034967,
     "end_time": "2025-01-20T23:53:35.379615",
     "exception": false,
     "start_time": "2025-01-20T23:53:35.344648",
     "status": "completed"
    },
    "tags": []
   },
   "outputs": [],
   "source": [
    "# Apply the outlier handling function to the 'AQI' column only\n",
    "new_data4['AQI_smoothed_iqr'] = fn.handle_aqi_outliers(new_data4['AQI'], method='iqr')\n",
    "new_data4['AQI_smoothed_zscore'] = fn.handle_aqi_outliers(new_data4['AQI'], method='zscore')\n",
    "new_data4['AQI_smoothed_rolling'] = fn.handle_aqi_outliers(new_data4['AQI'], method='rolling')"
   ]
  },
  {
   "cell_type": "code",
   "execution_count": 20,
   "id": "0747e83d",
   "metadata": {
    "execution": {
     "iopub.execute_input": "2025-01-20T23:53:35.411750Z",
     "iopub.status.busy": "2025-01-20T23:53:35.411381Z",
     "iopub.status.idle": "2025-01-20T23:53:35.430668Z",
     "shell.execute_reply": "2025-01-20T23:53:35.429679Z"
    },
    "papermill": {
     "duration": 0.0373,
     "end_time": "2025-01-20T23:53:35.432376",
     "exception": false,
     "start_time": "2025-01-20T23:53:35.395076",
     "status": "completed"
    },
    "tags": []
   },
   "outputs": [
    {
     "data": {
      "text/html": [
       "<div>\n",
       "<style scoped>\n",
       "    .dataframe tbody tr th:only-of-type {\n",
       "        vertical-align: middle;\n",
       "    }\n",
       "\n",
       "    .dataframe tbody tr th {\n",
       "        vertical-align: top;\n",
       "    }\n",
       "\n",
       "    .dataframe thead th {\n",
       "        text-align: right;\n",
       "    }\n",
       "</style>\n",
       "<table border=\"1\" class=\"dataframe\">\n",
       "  <thead>\n",
       "    <tr style=\"text-align: right;\">\n",
       "      <th></th>\n",
       "      <th>co</th>\n",
       "      <th>no2</th>\n",
       "      <th>o3</th>\n",
       "      <th>pm10</th>\n",
       "      <th>pm25</th>\n",
       "      <th>so2</th>\n",
       "      <th>humidity</th>\n",
       "      <th>pressure</th>\n",
       "      <th>temperature</th>\n",
       "      <th>wind-speed</th>\n",
       "      <th>Country_City</th>\n",
       "      <th>Checks</th>\n",
       "      <th>AQI</th>\n",
       "      <th>AQI_smoothed_iqr</th>\n",
       "      <th>AQI_smoothed_zscore</th>\n",
       "      <th>AQI_smoothed_rolling</th>\n",
       "    </tr>\n",
       "  </thead>\n",
       "  <tbody>\n",
       "    <tr>\n",
       "      <th>2014-12-29</th>\n",
       "      <td>14.1</td>\n",
       "      <td>36.2</td>\n",
       "      <td>3.2</td>\n",
       "      <td>218.0</td>\n",
       "      <td>307.0</td>\n",
       "      <td>4.2</td>\n",
       "      <td>60.691097</td>\n",
       "      <td>985.187382</td>\n",
       "      <td>26.3352</td>\n",
       "      <td>1.102459</td>\n",
       "      <td>India_Delhi</td>\n",
       "      <td>6</td>\n",
       "      <td>307.0</td>\n",
       "      <td>307.0</td>\n",
       "      <td>307.0</td>\n",
       "      <td>307.0</td>\n",
       "    </tr>\n",
       "    <tr>\n",
       "      <th>2014-12-30</th>\n",
       "      <td>20.4</td>\n",
       "      <td>36.8</td>\n",
       "      <td>4.8</td>\n",
       "      <td>330.0</td>\n",
       "      <td>367.0</td>\n",
       "      <td>5.8</td>\n",
       "      <td>60.691097</td>\n",
       "      <td>985.187382</td>\n",
       "      <td>26.3352</td>\n",
       "      <td>1.102459</td>\n",
       "      <td>India_Delhi</td>\n",
       "      <td>6</td>\n",
       "      <td>367.0</td>\n",
       "      <td>367.0</td>\n",
       "      <td>367.0</td>\n",
       "      <td>367.0</td>\n",
       "    </tr>\n",
       "    <tr>\n",
       "      <th>2014-12-31</th>\n",
       "      <td>12.7</td>\n",
       "      <td>28.7</td>\n",
       "      <td>7.8</td>\n",
       "      <td>137.0</td>\n",
       "      <td>202.0</td>\n",
       "      <td>6.3</td>\n",
       "      <td>60.691097</td>\n",
       "      <td>985.187382</td>\n",
       "      <td>26.3352</td>\n",
       "      <td>1.102459</td>\n",
       "      <td>India_Delhi</td>\n",
       "      <td>6</td>\n",
       "      <td>202.0</td>\n",
       "      <td>202.0</td>\n",
       "      <td>202.0</td>\n",
       "      <td>202.0</td>\n",
       "    </tr>\n",
       "    <tr>\n",
       "      <th>2015-01-01</th>\n",
       "      <td>20.8</td>\n",
       "      <td>66.5</td>\n",
       "      <td>5.2</td>\n",
       "      <td>230.0</td>\n",
       "      <td>382.0</td>\n",
       "      <td>9.9</td>\n",
       "      <td>60.691097</td>\n",
       "      <td>985.187382</td>\n",
       "      <td>26.3352</td>\n",
       "      <td>1.102459</td>\n",
       "      <td>India_Delhi</td>\n",
       "      <td>6</td>\n",
       "      <td>382.0</td>\n",
       "      <td>382.0</td>\n",
       "      <td>158.0</td>\n",
       "      <td>382.0</td>\n",
       "    </tr>\n",
       "    <tr>\n",
       "      <th>2015-01-02</th>\n",
       "      <td>12.7</td>\n",
       "      <td>33.9</td>\n",
       "      <td>6.0</td>\n",
       "      <td>81.0</td>\n",
       "      <td>172.0</td>\n",
       "      <td>4.2</td>\n",
       "      <td>60.691097</td>\n",
       "      <td>985.187382</td>\n",
       "      <td>26.3352</td>\n",
       "      <td>1.102459</td>\n",
       "      <td>India_Delhi</td>\n",
       "      <td>6</td>\n",
       "      <td>172.0</td>\n",
       "      <td>172.0</td>\n",
       "      <td>172.0</td>\n",
       "      <td>172.0</td>\n",
       "    </tr>\n",
       "  </tbody>\n",
       "</table>\n",
       "</div>"
      ],
      "text/plain": [
       "              co   no2   o3   pm10   pm25  so2   humidity    pressure  \\\n",
       "2014-12-29  14.1  36.2  3.2  218.0  307.0  4.2  60.691097  985.187382   \n",
       "2014-12-30  20.4  36.8  4.8  330.0  367.0  5.8  60.691097  985.187382   \n",
       "2014-12-31  12.7  28.7  7.8  137.0  202.0  6.3  60.691097  985.187382   \n",
       "2015-01-01  20.8  66.5  5.2  230.0  382.0  9.9  60.691097  985.187382   \n",
       "2015-01-02  12.7  33.9  6.0   81.0  172.0  4.2  60.691097  985.187382   \n",
       "\n",
       "            temperature  wind-speed Country_City  Checks    AQI  \\\n",
       "2014-12-29      26.3352    1.102459  India_Delhi       6  307.0   \n",
       "2014-12-30      26.3352    1.102459  India_Delhi       6  367.0   \n",
       "2014-12-31      26.3352    1.102459  India_Delhi       6  202.0   \n",
       "2015-01-01      26.3352    1.102459  India_Delhi       6  382.0   \n",
       "2015-01-02      26.3352    1.102459  India_Delhi       6  172.0   \n",
       "\n",
       "            AQI_smoothed_iqr  AQI_smoothed_zscore  AQI_smoothed_rolling  \n",
       "2014-12-29             307.0                307.0                 307.0  \n",
       "2014-12-30             367.0                367.0                 367.0  \n",
       "2014-12-31             202.0                202.0                 202.0  \n",
       "2015-01-01             382.0                158.0                 382.0  \n",
       "2015-01-02             172.0                172.0                 172.0  "
      ]
     },
     "execution_count": 20,
     "metadata": {},
     "output_type": "execute_result"
    }
   ],
   "source": [
    "new_data4.head()"
   ]
  },
  {
   "cell_type": "markdown",
   "id": "2fbdbcf8",
   "metadata": {
    "papermill": {
     "duration": 0.015343,
     "end_time": "2025-01-20T23:53:35.463548",
     "exception": false,
     "start_time": "2025-01-20T23:53:35.448205",
     "status": "completed"
    },
    "tags": []
   },
   "source": [
    "(Preprocess Pollution --> Smooth Pollution --> Calculate smooth aqi)"
   ]
  },
  {
   "cell_type": "code",
   "execution_count": 21,
   "id": "923c77a4",
   "metadata": {
    "execution": {
     "iopub.execute_input": "2025-01-20T23:53:35.496142Z",
     "iopub.status.busy": "2025-01-20T23:53:35.495723Z",
     "iopub.status.idle": "2025-01-20T23:53:35.537276Z",
     "shell.execute_reply": "2025-01-20T23:53:35.536283Z"
    },
    "papermill": {
     "duration": 0.059636,
     "end_time": "2025-01-20T23:53:35.538780",
     "exception": false,
     "start_time": "2025-01-20T23:53:35.479144",
     "status": "completed"
    },
    "tags": []
   },
   "outputs": [
    {
     "data": {
      "text/html": [
       "<div>\n",
       "<style scoped>\n",
       "    .dataframe tbody tr th:only-of-type {\n",
       "        vertical-align: middle;\n",
       "    }\n",
       "\n",
       "    .dataframe tbody tr th {\n",
       "        vertical-align: top;\n",
       "    }\n",
       "\n",
       "    .dataframe thead th {\n",
       "        text-align: right;\n",
       "    }\n",
       "</style>\n",
       "<table border=\"1\" class=\"dataframe\">\n",
       "  <thead>\n",
       "    <tr style=\"text-align: right;\">\n",
       "      <th></th>\n",
       "      <th>co</th>\n",
       "      <th>no2</th>\n",
       "      <th>o3</th>\n",
       "      <th>pm10</th>\n",
       "      <th>pm25</th>\n",
       "      <th>so2</th>\n",
       "      <th>humidity</th>\n",
       "      <th>pressure</th>\n",
       "      <th>temperature</th>\n",
       "      <th>wind-speed</th>\n",
       "      <th>Country_City</th>\n",
       "      <th>AQI_Smooth</th>\n",
       "    </tr>\n",
       "  </thead>\n",
       "  <tbody>\n",
       "    <tr>\n",
       "      <th>2014-12-29</th>\n",
       "      <td>15.70</td>\n",
       "      <td>35.883333</td>\n",
       "      <td>5.366667</td>\n",
       "      <td>182.333333</td>\n",
       "      <td>268.166667</td>\n",
       "      <td>6.000000</td>\n",
       "      <td>60.691097</td>\n",
       "      <td>985.187382</td>\n",
       "      <td>26.3352</td>\n",
       "      <td>1.102459</td>\n",
       "      <td>India_Delhi</td>\n",
       "      <td>268.166667</td>\n",
       "    </tr>\n",
       "    <tr>\n",
       "      <th>2014-12-30</th>\n",
       "      <td>15.70</td>\n",
       "      <td>35.883333</td>\n",
       "      <td>5.366667</td>\n",
       "      <td>182.333333</td>\n",
       "      <td>268.166667</td>\n",
       "      <td>6.000000</td>\n",
       "      <td>60.691097</td>\n",
       "      <td>985.187382</td>\n",
       "      <td>26.3352</td>\n",
       "      <td>1.102459</td>\n",
       "      <td>India_Delhi</td>\n",
       "      <td>268.166667</td>\n",
       "    </tr>\n",
       "    <tr>\n",
       "      <th>2014-12-31</th>\n",
       "      <td>15.70</td>\n",
       "      <td>35.883333</td>\n",
       "      <td>5.366667</td>\n",
       "      <td>182.333333</td>\n",
       "      <td>268.166667</td>\n",
       "      <td>6.000000</td>\n",
       "      <td>60.691097</td>\n",
       "      <td>985.187382</td>\n",
       "      <td>26.3352</td>\n",
       "      <td>1.102459</td>\n",
       "      <td>India_Delhi</td>\n",
       "      <td>268.166667</td>\n",
       "    </tr>\n",
       "    <tr>\n",
       "      <th>2015-01-01</th>\n",
       "      <td>15.70</td>\n",
       "      <td>35.883333</td>\n",
       "      <td>5.366667</td>\n",
       "      <td>182.333333</td>\n",
       "      <td>268.166667</td>\n",
       "      <td>6.000000</td>\n",
       "      <td>60.691097</td>\n",
       "      <td>985.187382</td>\n",
       "      <td>26.3352</td>\n",
       "      <td>1.102459</td>\n",
       "      <td>India_Delhi</td>\n",
       "      <td>268.166667</td>\n",
       "    </tr>\n",
       "    <tr>\n",
       "      <th>2015-01-02</th>\n",
       "      <td>15.45</td>\n",
       "      <td>33.100000</td>\n",
       "      <td>5.816667</td>\n",
       "      <td>166.000000</td>\n",
       "      <td>249.500000</td>\n",
       "      <td>5.733333</td>\n",
       "      <td>60.691097</td>\n",
       "      <td>985.187382</td>\n",
       "      <td>26.3352</td>\n",
       "      <td>1.102459</td>\n",
       "      <td>India_Delhi</td>\n",
       "      <td>249.500000</td>\n",
       "    </tr>\n",
       "  </tbody>\n",
       "</table>\n",
       "</div>"
      ],
      "text/plain": [
       "               co        no2        o3        pm10        pm25       so2  \\\n",
       "2014-12-29  15.70  35.883333  5.366667  182.333333  268.166667  6.000000   \n",
       "2014-12-30  15.70  35.883333  5.366667  182.333333  268.166667  6.000000   \n",
       "2014-12-31  15.70  35.883333  5.366667  182.333333  268.166667  6.000000   \n",
       "2015-01-01  15.70  35.883333  5.366667  182.333333  268.166667  6.000000   \n",
       "2015-01-02  15.45  33.100000  5.816667  166.000000  249.500000  5.733333   \n",
       "\n",
       "             humidity    pressure  temperature  wind-speed Country_City  \\\n",
       "2014-12-29  60.691097  985.187382      26.3352    1.102459  India_Delhi   \n",
       "2014-12-30  60.691097  985.187382      26.3352    1.102459  India_Delhi   \n",
       "2014-12-31  60.691097  985.187382      26.3352    1.102459  India_Delhi   \n",
       "2015-01-01  60.691097  985.187382      26.3352    1.102459  India_Delhi   \n",
       "2015-01-02  60.691097  985.187382      26.3352    1.102459  India_Delhi   \n",
       "\n",
       "            AQI_Smooth  \n",
       "2014-12-29  268.166667  \n",
       "2014-12-30  268.166667  \n",
       "2014-12-31  268.166667  \n",
       "2015-01-01  268.166667  \n",
       "2015-01-02  249.500000  "
      ]
     },
     "execution_count": 21,
     "metadata": {},
     "output_type": "execute_result"
    }
   ],
   "source": [
    "new_smooth = fn.calculate_smooth_aqi(new_data3, columns=['co', 'no2', 'o3', 'pm10', 'pm25', 'so2'])\n",
    "new_smooth.head()"
   ]
  },
  {
   "cell_type": "markdown",
   "id": "b288f5e9",
   "metadata": {
    "papermill": {
     "duration": 0.015332,
     "end_time": "2025-01-20T23:53:35.569968",
     "exception": false,
     "start_time": "2025-01-20T23:53:35.554636",
     "status": "completed"
    },
    "tags": []
   },
   "source": [
    "**AQI (normal, smooth_iqr, smooth_zscore, smooth_rolling, smooth)**"
   ]
  },
  {
   "cell_type": "code",
   "execution_count": 22,
   "id": "07dcf238",
   "metadata": {
    "execution": {
     "iopub.execute_input": "2025-01-20T23:53:35.602643Z",
     "iopub.status.busy": "2025-01-20T23:53:35.602282Z",
     "iopub.status.idle": "2025-01-20T23:53:35.931867Z",
     "shell.execute_reply": "2025-01-20T23:53:35.930815Z"
    },
    "papermill": {
     "duration": 0.347881,
     "end_time": "2025-01-20T23:53:35.933576",
     "exception": false,
     "start_time": "2025-01-20T23:53:35.585695",
     "status": "completed"
    },
    "tags": []
   },
   "outputs": [
    {
     "data": {
      "text/plain": [
       "<Axes: >"
      ]
     },
     "execution_count": 22,
     "metadata": {},
     "output_type": "execute_result"
    },
    {
     "data": {
      "image/png": "[encoded data removed]",
      "text/plain": [
       "<Figure size 640x480 with 1 Axes>"
      ]
     },
     "metadata": {},
     "output_type": "display_data"
    }
   ],
   "source": [
    "#normal\n",
    "aqi_normal = new_data4['AQI']\n",
    "aqi_normal.plot()"
   ]
  },
  {
   "cell_type": "code",
   "execution_count": 23,
   "id": "7726edb3",
   "metadata": {
    "execution": {
     "iopub.execute_input": "2025-01-20T23:53:35.967784Z",
     "iopub.status.busy": "2025-01-20T23:53:35.967407Z",
     "iopub.status.idle": "2025-01-20T23:53:36.277636Z",
     "shell.execute_reply": "2025-01-20T23:53:36.276600Z"
    },
    "papermill": {
     "duration": 0.329214,
     "end_time": "2025-01-20T23:53:36.279264",
     "exception": false,
     "start_time": "2025-01-20T23:53:35.950050",
     "status": "completed"
    },
    "tags": []
   },
   "outputs": [
    {
     "data": {
      "text/plain": [
       "<Axes: >"
      ]
     },
     "execution_count": 23,
     "metadata": {},
     "output_type": "execute_result"
    },
    {
     "data": {
      "image/png": "[encoded data removed]",
      "text/plain": [
       "<Figure size 640x480 with 1 Axes>"
      ]
     },
     "metadata": {},
     "output_type": "display_data"
    }
   ],
   "source": [
    "#smooth_iqr\n",
    "aqi_smooth_iqr = new_data4['AQI_smoothed_iqr']\n",
    "aqi_smooth_iqr.plot()"
   ]
  },
  {
   "cell_type": "code",
   "execution_count": 24,
   "id": "950fca0b",
   "metadata": {
    "execution": {
     "iopub.execute_input": "2025-01-20T23:53:36.315709Z",
     "iopub.status.busy": "2025-01-20T23:53:36.315313Z",
     "iopub.status.idle": "2025-01-20T23:53:36.622187Z",
     "shell.execute_reply": "2025-01-20T23:53:36.621165Z"
    },
    "papermill": {
     "duration": 0.32715,
     "end_time": "2025-01-20T23:53:36.623968",
     "exception": false,
     "start_time": "2025-01-20T23:53:36.296818",
     "status": "completed"
    },
    "tags": []
   },
   "outputs": [
    {
     "data": {
      "text/plain": [
       "<Axes: >"
      ]
     },
     "execution_count": 24,
     "metadata": {},
     "output_type": "execute_result"
    },
    {
     "data": {
      "image/png": "[encoded data removed]",
      "text/plain": [
       "<Figure size 640x480 with 1 Axes>"
      ]
     },
     "metadata": {},
     "output_type": "display_data"
    }
   ],
   "source": [
    "#smooth_zscore\n",
    "aqi_smooth_zscore = new_data4['AQI_smoothed_zscore']\n",
    "aqi_smooth_zscore.plot()"
   ]
  },
  {
   "cell_type": "code",
   "execution_count": 25,
   "id": "41ce8fb3",
   "metadata": {
    "execution": {
     "iopub.execute_input": "2025-01-20T23:53:36.662370Z",
     "iopub.status.busy": "2025-01-20T23:53:36.661967Z",
     "iopub.status.idle": "2025-01-20T23:53:36.946399Z",
     "shell.execute_reply": "2025-01-20T23:53:36.945254Z"
    },
    "papermill": {
     "duration": 0.305487,
     "end_time": "2025-01-20T23:53:36.947997",
     "exception": false,
     "start_time": "2025-01-20T23:53:36.642510",
     "status": "completed"
    },
    "tags": []
   },
   "outputs": [
    {
     "data": {
      "text/plain": [
       "<Axes: >"
      ]
     },
     "execution_count": 25,
     "metadata": {},
     "output_type": "execute_result"
    },
    {
     "data": {
      "image/png": "[encoded data removed]",
      "text/plain": [
       "<Figure size 640x480 with 1 Axes>"
      ]
     },
     "metadata": {},
     "output_type": "display_data"
    }
   ],
   "source": [
    "#smooth_rolling\n",
    "aqi_smooth_rolling = new_data4['AQI_smoothed_rolling']\n",
    "aqi_smooth_rolling.plot()"
   ]
  },
  {
   "cell_type": "code",
   "execution_count": 26,
   "id": "89f86e7f",
   "metadata": {
    "execution": {
     "iopub.execute_input": "2025-01-20T23:53:36.987744Z",
     "iopub.status.busy": "2025-01-20T23:53:36.987366Z",
     "iopub.status.idle": "2025-01-20T23:53:37.374410Z",
     "shell.execute_reply": "2025-01-20T23:53:37.373341Z"
    },
    "papermill": {
     "duration": 0.408937,
     "end_time": "2025-01-20T23:53:37.376238",
     "exception": false,
     "start_time": "2025-01-20T23:53:36.967301",
     "status": "completed"
    },
    "tags": []
   },
   "outputs": [
    {
     "data": {
      "text/plain": [
       "<Axes: >"
      ]
     },
     "execution_count": 26,
     "metadata": {},
     "output_type": "execute_result"
    },
    {
     "data": {
      "image/png": "[encoded data removed]",
      "text/plain": [
       "<Figure size 640x480 with 1 Axes>"
      ]
     },
     "metadata": {},
     "output_type": "display_data"
    }
   ],
   "source": [
    "#smooth\n",
    "aqi_smooth = new_smooth['AQI_Smooth']\n",
    "aqi_smooth.plot()"
   ]
  },
  {
   "cell_type": "markdown",
   "id": "e15dbbf4",
   "metadata": {
    "papermill": {
     "duration": 0.019953,
     "end_time": "2025-01-20T23:53:37.416654",
     "exception": false,
     "start_time": "2025-01-20T23:53:37.396701",
     "status": "completed"
    },
    "tags": []
   },
   "source": [
    "# **2.1. Splitting & Preprocessing the Raw Data(AQI_Smooth)**"
   ]
  },
  {
   "cell_type": "markdown",
   "id": "ae2b2379",
   "metadata": {
    "papermill": {
     "duration": 0.019861,
     "end_time": "2025-01-20T23:53:37.456863",
     "exception": false,
     "start_time": "2025-01-20T23:53:37.437002",
     "status": "completed"
    },
    "tags": []
   },
   "source": [
    "Smooth AQI(All Pollutants)"
   ]
  },
  {
   "cell_type": "code",
   "execution_count": 27,
   "id": "27e0e3d7",
   "metadata": {
    "execution": {
     "iopub.execute_input": "2025-01-20T23:53:37.498706Z",
     "iopub.status.busy": "2025-01-20T23:53:37.498319Z",
     "iopub.status.idle": "2025-01-20T23:53:37.514828Z",
     "shell.execute_reply": "2025-01-20T23:53:37.513955Z"
    },
    "papermill": {
     "duration": 0.039282,
     "end_time": "2025-01-20T23:53:37.516308",
     "exception": false,
     "start_time": "2025-01-20T23:53:37.477026",
     "status": "completed"
    },
    "tags": []
   },
   "outputs": [
    {
     "data": {
      "text/html": [
       "<div>\n",
       "<style scoped>\n",
       "    .dataframe tbody tr th:only-of-type {\n",
       "        vertical-align: middle;\n",
       "    }\n",
       "\n",
       "    .dataframe tbody tr th {\n",
       "        vertical-align: top;\n",
       "    }\n",
       "\n",
       "    .dataframe thead th {\n",
       "        text-align: right;\n",
       "    }\n",
       "</style>\n",
       "<table border=\"1\" class=\"dataframe\">\n",
       "  <thead>\n",
       "    <tr style=\"text-align: right;\">\n",
       "      <th></th>\n",
       "      <th>co</th>\n",
       "      <th>no2</th>\n",
       "      <th>o3</th>\n",
       "      <th>pm10</th>\n",
       "      <th>pm25</th>\n",
       "      <th>so2</th>\n",
       "      <th>humidity</th>\n",
       "      <th>pressure</th>\n",
       "      <th>temperature</th>\n",
       "      <th>wind-speed</th>\n",
       "      <th>Country_City</th>\n",
       "      <th>AQI_Smooth</th>\n",
       "    </tr>\n",
       "  </thead>\n",
       "  <tbody>\n",
       "    <tr>\n",
       "      <th>2014-12-29</th>\n",
       "      <td>15.700000</td>\n",
       "      <td>35.883333</td>\n",
       "      <td>5.366667</td>\n",
       "      <td>182.333333</td>\n",
       "      <td>268.166667</td>\n",
       "      <td>6.000000</td>\n",
       "      <td>60.691097</td>\n",
       "      <td>985.187382</td>\n",
       "      <td>26.3352</td>\n",
       "      <td>1.102459</td>\n",
       "      <td>India_Delhi</td>\n",
       "      <td>268.166667</td>\n",
       "    </tr>\n",
       "    <tr>\n",
       "      <th>2014-12-30</th>\n",
       "      <td>15.700000</td>\n",
       "      <td>35.883333</td>\n",
       "      <td>5.366667</td>\n",
       "      <td>182.333333</td>\n",
       "      <td>268.166667</td>\n",
       "      <td>6.000000</td>\n",
       "      <td>60.691097</td>\n",
       "      <td>985.187382</td>\n",
       "      <td>26.3352</td>\n",
       "      <td>1.102459</td>\n",
       "      <td>India_Delhi</td>\n",
       "      <td>268.166667</td>\n",
       "    </tr>\n",
       "    <tr>\n",
       "      <th>2014-12-31</th>\n",
       "      <td>15.700000</td>\n",
       "      <td>35.883333</td>\n",
       "      <td>5.366667</td>\n",
       "      <td>182.333333</td>\n",
       "      <td>268.166667</td>\n",
       "      <td>6.000000</td>\n",
       "      <td>60.691097</td>\n",
       "      <td>985.187382</td>\n",
       "      <td>26.3352</td>\n",
       "      <td>1.102459</td>\n",
       "      <td>India_Delhi</td>\n",
       "      <td>268.166667</td>\n",
       "    </tr>\n",
       "    <tr>\n",
       "      <th>2015-01-01</th>\n",
       "      <td>15.700000</td>\n",
       "      <td>35.883333</td>\n",
       "      <td>5.366667</td>\n",
       "      <td>182.333333</td>\n",
       "      <td>268.166667</td>\n",
       "      <td>6.000000</td>\n",
       "      <td>60.691097</td>\n",
       "      <td>985.187382</td>\n",
       "      <td>26.3352</td>\n",
       "      <td>1.102459</td>\n",
       "      <td>India_Delhi</td>\n",
       "      <td>268.166667</td>\n",
       "    </tr>\n",
       "    <tr>\n",
       "      <th>2015-01-02</th>\n",
       "      <td>15.450000</td>\n",
       "      <td>33.100000</td>\n",
       "      <td>5.816667</td>\n",
       "      <td>166.000000</td>\n",
       "      <td>249.500000</td>\n",
       "      <td>5.733333</td>\n",
       "      <td>60.691097</td>\n",
       "      <td>985.187382</td>\n",
       "      <td>26.3352</td>\n",
       "      <td>1.102459</td>\n",
       "      <td>India_Delhi</td>\n",
       "      <td>249.500000</td>\n",
       "    </tr>\n",
       "    <tr>\n",
       "      <th>2015-01-03</th>\n",
       "      <td>14.266667</td>\n",
       "      <td>30.150000</td>\n",
       "      <td>6.416667</td>\n",
       "      <td>130.000000</td>\n",
       "      <td>219.166667</td>\n",
       "      <td>5.183333</td>\n",
       "      <td>60.691097</td>\n",
       "      <td>985.187382</td>\n",
       "      <td>26.3352</td>\n",
       "      <td>1.102459</td>\n",
       "      <td>India_Delhi</td>\n",
       "      <td>219.166667</td>\n",
       "    </tr>\n",
       "    <tr>\n",
       "      <th>2015-01-04</th>\n",
       "      <td>14.566667</td>\n",
       "      <td>29.766667</td>\n",
       "      <td>6.250000</td>\n",
       "      <td>131.333333</td>\n",
       "      <td>220.166667</td>\n",
       "      <td>4.716667</td>\n",
       "      <td>60.691097</td>\n",
       "      <td>985.187382</td>\n",
       "      <td>26.3352</td>\n",
       "      <td>1.102459</td>\n",
       "      <td>India_Delhi</td>\n",
       "      <td>220.166667</td>\n",
       "    </tr>\n",
       "    <tr>\n",
       "      <th>2015-01-05</th>\n",
       "      <td>14.066667</td>\n",
       "      <td>25.683333</td>\n",
       "      <td>6.166667</td>\n",
       "      <td>126.000000</td>\n",
       "      <td>204.833333</td>\n",
       "      <td>3.783333</td>\n",
       "      <td>60.691097</td>\n",
       "      <td>985.187382</td>\n",
       "      <td>26.3352</td>\n",
       "      <td>1.102459</td>\n",
       "      <td>India_Delhi</td>\n",
       "      <td>204.833333</td>\n",
       "    </tr>\n",
       "  </tbody>\n",
       "</table>\n",
       "</div>"
      ],
      "text/plain": [
       "                   co        no2        o3        pm10        pm25       so2  \\\n",
       "2014-12-29  15.700000  35.883333  5.366667  182.333333  268.166667  6.000000   \n",
       "2014-12-30  15.700000  35.883333  5.366667  182.333333  268.166667  6.000000   \n",
       "2014-12-31  15.700000  35.883333  5.366667  182.333333  268.166667  6.000000   \n",
       "2015-01-01  15.700000  35.883333  5.366667  182.333333  268.166667  6.000000   \n",
       "2015-01-02  15.450000  33.100000  5.816667  166.000000  249.500000  5.733333   \n",
       "2015-01-03  14.266667  30.150000  6.416667  130.000000  219.166667  5.183333   \n",
       "2015-01-04  14.566667  29.766667  6.250000  131.333333  220.166667  4.716667   \n",
       "2015-01-05  14.066667  25.683333  6.166667  126.000000  204.833333  3.783333   \n",
       "\n",
       "             humidity    pressure  temperature  wind-speed Country_City  \\\n",
       "2014-12-29  60.691097  985.187382      26.3352    1.102459  India_Delhi   \n",
       "2014-12-30  60.691097  985.187382      26.3352    1.102459  India_Delhi   \n",
       "2014-12-31  60.691097  985.187382      26.3352    1.102459  India_Delhi   \n",
       "2015-01-01  60.691097  985.187382      26.3352    1.102459  India_Delhi   \n",
       "2015-01-02  60.691097  985.187382      26.3352    1.102459  India_Delhi   \n",
       "2015-01-03  60.691097  985.187382      26.3352    1.102459  India_Delhi   \n",
       "2015-01-04  60.691097  985.187382      26.3352    1.102459  India_Delhi   \n",
       "2015-01-05  60.691097  985.187382      26.3352    1.102459  India_Delhi   \n",
       "\n",
       "            AQI_Smooth  \n",
       "2014-12-29  268.166667  \n",
       "2014-12-30  268.166667  \n",
       "2014-12-31  268.166667  \n",
       "2015-01-01  268.166667  \n",
       "2015-01-02  249.500000  \n",
       "2015-01-03  219.166667  \n",
       "2015-01-04  220.166667  \n",
       "2015-01-05  204.833333  "
      ]
     },
     "execution_count": 27,
     "metadata": {},
     "output_type": "execute_result"
    }
   ],
   "source": [
    "new_smooth.head(8)"
   ]
  },
  {
   "cell_type": "code",
   "execution_count": 28,
   "id": "d675299f",
   "metadata": {
    "execution": {
     "iopub.execute_input": "2025-01-20T23:53:37.559229Z",
     "iopub.status.busy": "2025-01-20T23:53:37.558869Z",
     "iopub.status.idle": "2025-01-20T23:53:37.564800Z",
     "shell.execute_reply": "2025-01-20T23:53:37.563883Z"
    },
    "papermill": {
     "duration": 0.029378,
     "end_time": "2025-01-20T23:53:37.566396",
     "exception": false,
     "start_time": "2025-01-20T23:53:37.537018",
     "status": "completed"
    },
    "tags": []
   },
   "outputs": [
    {
     "data": {
      "text/plain": [
       "Index(['co', 'no2', 'o3', 'pm10', 'pm25', 'so2', 'humidity', 'pressure',\n",
       "       'temperature', 'wind-speed', 'Country_City', 'AQI_Smooth'],\n",
       "      dtype='object')"
      ]
     },
     "execution_count": 28,
     "metadata": {},
     "output_type": "execute_result"
    }
   ],
   "source": [
    "new_smooth.columns"
   ]
  },
  {
   "cell_type": "markdown",
   "id": "048a05c2",
   "metadata": {
    "papermill": {
     "duration": 0.023941,
     "end_time": "2025-01-20T23:53:37.611069",
     "exception": false,
     "start_time": "2025-01-20T23:53:37.587128",
     "status": "completed"
    },
    "tags": []
   },
   "source": [
    "***Working with AQI_Smooth***"
   ]
  },
  {
   "cell_type": "code",
   "execution_count": 29,
   "id": "395f7209",
   "metadata": {
    "execution": {
     "iopub.execute_input": "2025-01-20T23:53:37.666058Z",
     "iopub.status.busy": "2025-01-20T23:53:37.665690Z",
     "iopub.status.idle": "2025-01-20T23:53:37.981585Z",
     "shell.execute_reply": "2025-01-20T23:53:37.980556Z"
    },
    "papermill": {
     "duration": 0.344156,
     "end_time": "2025-01-20T23:53:37.983380",
     "exception": false,
     "start_time": "2025-01-20T23:53:37.639224",
     "status": "completed"
    },
    "tags": []
   },
   "outputs": [
    {
     "data": {
      "text/plain": [
       "<Axes: >"
      ]
     },
     "execution_count": 29,
     "metadata": {},
     "output_type": "execute_result"
    },
    {
     "data": {
      "image/png": "[encoded data removed]",
      "text/plain": [
       "<Figure size 640x480 with 1 Axes>"
      ]
     },
     "metadata": {},
     "output_type": "display_data"
    }
   ],
   "source": [
    "aqi_smooth.plot()"
   ]
  },
  {
   "cell_type": "code",
   "execution_count": 30,
   "id": "8f937bd2",
   "metadata": {
    "execution": {
     "iopub.execute_input": "2025-01-20T23:53:38.028780Z",
     "iopub.status.busy": "2025-01-20T23:53:38.028370Z",
     "iopub.status.idle": "2025-01-20T23:53:38.035407Z",
     "shell.execute_reply": "2025-01-20T23:53:38.034382Z"
    },
    "papermill": {
     "duration": 0.031843,
     "end_time": "2025-01-20T23:53:38.037077",
     "exception": false,
     "start_time": "2025-01-20T23:53:38.005234",
     "status": "completed"
    },
    "tags": []
   },
   "outputs": [],
   "source": [
    "# Function to define window_size and convert data into X (features) and y (labels)\n",
    "def new_data_to_X_y(new_data, window_size, train_pct, val_pct, test_pct):\n",
    "    # Convert data to numpy array\n",
    "    new_data_as_np = new_data.to_numpy()\n",
    "    \n",
    "    # Split data based on percentages\n",
    "    total_len = len(new_data_as_np)\n",
    "    train_end = int(train_pct * total_len)\n",
    "    val_end = train_end + int(val_pct * total_len)\n",
    "    \n",
    "    # Prepare train, val, and test splits\n",
    "    train_data = new_data_as_np[:train_end]\n",
    "    val_data = new_data_as_np[train_end:val_end]\n",
    "    test_data = new_data_as_np[val_end:]\n",
    "    \n",
    "    # Helper function to create X and y\n",
    "    def create_X_y(data):\n",
    "        X, y = [], []\n",
    "        for i in range(len(data) - window_size):\n",
    "            row = [[a] for a in data[i:i + window_size]]\n",
    "            X.append(row)\n",
    "            label = data[i + window_size]\n",
    "            y.append(label)\n",
    "        return np.array(X), np.array(y)\n",
    "    \n",
    "    # Create X and y for train, validation, and test\n",
    "    X_train, y_train = create_X_y(train_data)\n",
    "    X_val, y_val = create_X_y(val_data)\n",
    "    X_test, y_test = create_X_y(test_data)\n",
    "    \n",
    "    return (X_train, y_train), (X_val, y_val), (X_test, y_test)"
   ]
  },
  {
   "cell_type": "code",
   "execution_count": 31,
   "id": "45dd7de6",
   "metadata": {
    "execution": {
     "iopub.execute_input": "2025-01-20T23:53:38.083375Z",
     "iopub.status.busy": "2025-01-20T23:53:38.083030Z",
     "iopub.status.idle": "2025-01-20T23:53:38.109144Z",
     "shell.execute_reply": "2025-01-20T23:53:38.108038Z"
    },
    "papermill": {
     "duration": 0.051183,
     "end_time": "2025-01-20T23:53:38.110983",
     "exception": false,
     "start_time": "2025-01-20T23:53:38.059800",
     "status": "completed"
    },
    "tags": []
   },
   "outputs": [
    {
     "name": "stdout",
     "output_type": "stream",
     "text": [
      "Train shapes: (2233, 6, 1) (2233,)\n",
      "Validation shapes: (633, 6, 1) (633,)\n",
      "Test shapes: (315, 6, 1) (315,)\n"
     ]
    }
   ],
   "source": [
    "#passing data to function\n",
    "\n",
    "# WINDOW_SIZE = 6\n",
    "# train_pct=0.7\n",
    "# val_pct=0.2\n",
    "# test_pct=0.1\n",
    "(X_train1, y_train1), (X_val1, y_val1), (X_test1, y_test1) = new_data_to_X_y(aqi_smooth, 6, 0.7, 0.2, 0.1)\n",
    "\n",
    "# shapes\n",
    "print(\"Train shapes:\", X_train1.shape, y_train1.shape)\n",
    "print(\"Validation shapes:\", X_val1.shape, y_val1.shape)\n",
    "print(\"Test shapes:\", X_test1.shape, y_test1.shape)"
   ]
  },
  {
   "cell_type": "markdown",
   "id": "9d38fa18",
   "metadata": {
    "papermill": {
     "duration": 0.022508,
     "end_time": "2025-01-20T23:53:38.156129",
     "exception": false,
     "start_time": "2025-01-20T23:53:38.133621",
     "status": "completed"
    },
    "tags": []
   },
   "source": [
    "# **2.2. Model Training & Testing**"
   ]
  },
  {
   "cell_type": "code",
   "execution_count": 32,
   "id": "02a0b581",
   "metadata": {
    "execution": {
     "iopub.execute_input": "2025-01-20T23:53:38.202052Z",
     "iopub.status.busy": "2025-01-20T23:53:38.201651Z",
     "iopub.status.idle": "2025-01-20T23:53:46.282985Z",
     "shell.execute_reply": "2025-01-20T23:53:46.281814Z"
    },
    "papermill": {
     "duration": 8.10684,
     "end_time": "2025-01-20T23:53:46.285258",
     "exception": false,
     "start_time": "2025-01-20T23:53:38.178418",
     "status": "completed"
    },
    "tags": []
   },
   "outputs": [],
   "source": [
    "# libraries for building model and testing\n",
    "from tensorflow.keras.models import Sequential\n",
    "from tensorflow.keras.layers import *\n",
    "from tensorflow.keras.callbacks import ModelCheckpoint\n",
    "from tensorflow.keras.callbacks import ReduceLROnPlateau\n",
    "from tensorflow.keras.losses import MeanSquaredError, MeanAbsoluteError\n",
    "from tensorflow.keras.metrics import RootMeanSquaredError\n",
    "from tensorflow.keras.optimizers import Adam\n",
    "from keras.regularizers import l2\n",
    "from keras.callbacks import EarlyStopping"
   ]
  },
  {
   "cell_type": "markdown",
   "id": "24684f10",
   "metadata": {
    "papermill": {
     "duration": 0.038229,
     "end_time": "2025-01-20T23:53:46.363228",
     "exception": false,
     "start_time": "2025-01-20T23:53:46.324999",
     "status": "completed"
    },
    "tags": []
   },
   "source": [
    "# LSTM(Smooth)"
   ]
  },
  {
   "cell_type": "code",
   "execution_count": 33,
   "id": "4b507968",
   "metadata": {
    "execution": {
     "iopub.execute_input": "2025-01-20T23:53:46.411183Z",
     "iopub.status.busy": "2025-01-20T23:53:46.410536Z",
     "iopub.status.idle": "2025-01-20T23:53:46.541382Z",
     "shell.execute_reply": "2025-01-20T23:53:46.540423Z"
    },
    "papermill": {
     "duration": 0.15682,
     "end_time": "2025-01-20T23:53:46.543254",
     "exception": false,
     "start_time": "2025-01-20T23:53:46.386434",
     "status": "completed"
    },
    "tags": []
   },
   "outputs": [
    {
     "data": {
      "text/html": [
       "<pre style=\"white-space:pre;overflow-x:auto;line-height:normal;font-family:Menlo,'DejaVu Sans Mono',consolas,'Courier New',monospace\"><span style=\"font-weight: bold\">Model: \"sequential\"</span>\n",
       "</pre>\n"
      ],
      "text/plain": [
       "\u001b[1mModel: \"sequential\"\u001b[0m\n"
      ]
     },
     "metadata": {},
     "output_type": "display_data"
    },
    {
     "data": {
      "text/html": [
       "<pre style=\"white-space:pre;overflow-x:auto;line-height:normal;font-family:Menlo,'DejaVu Sans Mono',consolas,'Courier New',monospace\">┏━━━━━━━━━━━━━━━━━━━━━━━━━━━━━━━━━━━━━━┳━━━━━━━━━━━━━━━━━━━━━━━━━━━━━┳━━━━━━━━━━━━━━━━━┓\n",
       "┃<span style=\"font-weight: bold\"> Layer (type)                         </span>┃<span style=\"font-weight: bold\"> Output Shape                </span>┃<span style=\"font-weight: bold\">         Param # </span>┃\n",
       "┡━━━━━━━━━━━━━━━━━━━━━━━━━━━━━━━━━━━━━━╇━━━━━━━━━━━━━━━━━━━━━━━━━━━━━╇━━━━━━━━━━━━━━━━━┩\n",
       "│ lstm (<span style=\"color: #0087ff; text-decoration-color: #0087ff\">LSTM</span>)                          │ (<span style=\"color: #00d7ff; text-decoration-color: #00d7ff\">None</span>, <span style=\"color: #00af00; text-decoration-color: #00af00\">32</span>)                  │           <span style=\"color: #00af00; text-decoration-color: #00af00\">4,352</span> │\n",
       "├──────────────────────────────────────┼─────────────────────────────┼─────────────────┤\n",
       "│ dense (<span style=\"color: #0087ff; text-decoration-color: #0087ff\">Dense</span>)                        │ (<span style=\"color: #00d7ff; text-decoration-color: #00d7ff\">None</span>, <span style=\"color: #00af00; text-decoration-color: #00af00\">8</span>)                   │             <span style=\"color: #00af00; text-decoration-color: #00af00\">264</span> │\n",
       "├──────────────────────────────────────┼─────────────────────────────┼─────────────────┤\n",
       "│ dense_1 (<span style=\"color: #0087ff; text-decoration-color: #0087ff\">Dense</span>)                      │ (<span style=\"color: #00d7ff; text-decoration-color: #00d7ff\">None</span>, <span style=\"color: #00af00; text-decoration-color: #00af00\">1</span>)                   │               <span style=\"color: #00af00; text-decoration-color: #00af00\">9</span> │\n",
       "└──────────────────────────────────────┴─────────────────────────────┴─────────────────┘\n",
       "</pre>\n"
      ],
      "text/plain": [
       "┏━━━━━━━━━━━━━━━━━━━━━━━━━━━━━━━━━━━━━━┳━━━━━━━━━━━━━━━━━━━━━━━━━━━━━┳━━━━━━━━━━━━━━━━━┓\n",
       "┃\u001b[1m \u001b[0m\u001b[1mLayer (type)                        \u001b[0m\u001b[1m \u001b[0m┃\u001b[1m \u001b[0m\u001b[1mOutput Shape               \u001b[0m\u001b[1m \u001b[0m┃\u001b[1m \u001b[0m\u001b[1m        Param #\u001b[0m\u001b[1m \u001b[0m┃\n",
       "┡━━━━━━━━━━━━━━━━━━━━━━━━━━━━━━━━━━━━━━╇━━━━━━━━━━━━━━━━━━━━━━━━━━━━━╇━━━━━━━━━━━━━━━━━┩\n",
       "│ lstm (\u001b[38;5;33mLSTM\u001b[0m)                          │ (\u001b[38;5;45mNone\u001b[0m, \u001b[38;5;34m32\u001b[0m)                  │           \u001b[38;5;34m4,352\u001b[0m │\n",
       "├──────────────────────────────────────┼─────────────────────────────┼─────────────────┤\n",
       "│ dense (\u001b[38;5;33mDense\u001b[0m)                        │ (\u001b[38;5;45mNone\u001b[0m, \u001b[38;5;34m8\u001b[0m)                   │             \u001b[38;5;34m264\u001b[0m │\n",
       "├──────────────────────────────────────┼─────────────────────────────┼─────────────────┤\n",
       "│ dense_1 (\u001b[38;5;33mDense\u001b[0m)                      │ (\u001b[38;5;45mNone\u001b[0m, \u001b[38;5;34m1\u001b[0m)                   │               \u001b[38;5;34m9\u001b[0m │\n",
       "└──────────────────────────────────────┴─────────────────────────────┴─────────────────┘\n"
      ]
     },
     "metadata": {},
     "output_type": "display_data"
    },
    {
     "data": {
      "text/html": [
       "<pre style=\"white-space:pre;overflow-x:auto;line-height:normal;font-family:Menlo,'DejaVu Sans Mono',consolas,'Courier New',monospace\"><span style=\"font-weight: bold\"> Total params: </span><span style=\"color: #00af00; text-decoration-color: #00af00\">4,625</span> (18.07 KB)\n",
       "</pre>\n"
      ],
      "text/plain": [
       "\u001b[1m Total params: \u001b[0m\u001b[38;5;34m4,625\u001b[0m (18.07 KB)\n"
      ]
     },
     "metadata": {},
     "output_type": "display_data"
    },
    {
     "data": {
      "text/html": [
       "<pre style=\"white-space:pre;overflow-x:auto;line-height:normal;font-family:Menlo,'DejaVu Sans Mono',consolas,'Courier New',monospace\"><span style=\"font-weight: bold\"> Trainable params: </span><span style=\"color: #00af00; text-decoration-color: #00af00\">4,625</span> (18.07 KB)\n",
       "</pre>\n"
      ],
      "text/plain": [
       "\u001b[1m Trainable params: \u001b[0m\u001b[38;5;34m4,625\u001b[0m (18.07 KB)\n"
      ]
     },
     "metadata": {},
     "output_type": "display_data"
    },
    {
     "data": {
      "text/html": [
       "<pre style=\"white-space:pre;overflow-x:auto;line-height:normal;font-family:Menlo,'DejaVu Sans Mono',consolas,'Courier New',monospace\"><span style=\"font-weight: bold\"> Non-trainable params: </span><span style=\"color: #00af00; text-decoration-color: #00af00\">0</span> (0.00 B)\n",
       "</pre>\n"
      ],
      "text/plain": [
       "\u001b[1m Non-trainable params: \u001b[0m\u001b[38;5;34m0\u001b[0m (0.00 B)\n"
      ]
     },
     "metadata": {},
     "output_type": "display_data"
    }
   ],
   "source": [
    "model1 = Sequential()\n",
    "model1.add(InputLayer((6, 1))) # 6 timestamp , 1 feature\n",
    "model1.add(LSTM(32)) # LSTM layer with 16 units\n",
    "model1.add(Dense(8, activation='relu')) # activation function- ReLU with 8 dense layer\n",
    "\n",
    "model1.add(Dense(1, 'linear')) # output - linear and data- 1\n",
    "\n",
    "model1.summary()"
   ]
  },
  {
   "cell_type": "code",
   "execution_count": 34,
   "id": "db5879b4",
   "metadata": {
    "execution": {
     "iopub.execute_input": "2025-01-20T23:53:46.606182Z",
     "iopub.status.busy": "2025-01-20T23:53:46.605704Z",
     "iopub.status.idle": "2025-01-20T23:53:46.628397Z",
     "shell.execute_reply": "2025-01-20T23:53:46.627312Z"
    },
    "papermill": {
     "duration": 0.050051,
     "end_time": "2025-01-20T23:53:46.630768",
     "exception": false,
     "start_time": "2025-01-20T23:53:46.580717",
     "status": "completed"
    },
    "tags": []
   },
   "outputs": [],
   "source": [
    "cp1 = ModelCheckpoint('/kaggle/working/model1.keras', save_best_only=True)\n",
    "\n",
    "model1.compile(loss=MeanSquaredError(), optimizer=Adam(learning_rate=0.0005), \n",
    "               metrics=[RootMeanSquaredError()])"
   ]
  },
  {
   "cell_type": "code",
   "execution_count": 35,
   "id": "9fb618c2",
   "metadata": {
    "_kg_hide-output": true,
    "execution": {
     "iopub.execute_input": "2025-01-20T23:53:46.692709Z",
     "iopub.status.busy": "2025-01-20T23:53:46.692309Z",
     "iopub.status.idle": "2025-01-20T23:54:18.611566Z",
     "shell.execute_reply": "2025-01-20T23:54:18.610550Z"
    },
    "papermill": {
     "duration": 31.951799,
     "end_time": "2025-01-20T23:54:18.613551",
     "exception": false,
     "start_time": "2025-01-20T23:53:46.661752",
     "status": "completed"
    },
    "tags": []
   },
   "outputs": [
    {
     "name": "stdout",
     "output_type": "stream",
     "text": [
      "Epoch 1/100\n",
      "\u001b[1m70/70\u001b[0m \u001b[32m━━━━━━━━━━━━━━━━━━━━\u001b[0m\u001b[37m\u001b[0m \u001b[1m3s\u001b[0m 8ms/step - loss: 29629.2734 - root_mean_squared_error: 172.1152 - val_loss: 32966.5938 - val_root_mean_squared_error: 181.5670\n",
      "Epoch 2/100\n",
      "\u001b[1m70/70\u001b[0m \u001b[32m━━━━━━━━━━━━━━━━━━━━\u001b[0m\u001b[37m\u001b[0m \u001b[1m0s\u001b[0m 4ms/step - loss: 28629.2559 - root_mean_squared_error: 169.1957 - val_loss: 32102.5410 - val_root_mean_squared_error: 179.1718\n",
      "Epoch 3/100\n",
      "\u001b[1m70/70\u001b[0m \u001b[32m━━━━━━━━━━━━━━━━━━━━\u001b[0m\u001b[37m\u001b[0m \u001b[1m0s\u001b[0m 4ms/step - loss: 26919.2773 - root_mean_squared_error: 164.0415 - val_loss: 30709.6367 - val_root_mean_squared_error: 175.2417\n",
      "Epoch 4/100\n",
      "\u001b[1m70/70\u001b[0m \u001b[32m━━━━━━━━━━━━━━━━━━━━\u001b[0m\u001b[37m\u001b[0m \u001b[1m0s\u001b[0m 4ms/step - loss: 26250.6484 - root_mean_squared_error: 162.0051 - val_loss: 28041.9082 - val_root_mean_squared_error: 167.4572\n",
      "Epoch 5/100\n",
      "\u001b[1m70/70\u001b[0m \u001b[32m━━━━━━━━━━━━━━━━━━━━\u001b[0m\u001b[37m\u001b[0m \u001b[1m0s\u001b[0m 4ms/step - loss: 23281.8477 - root_mean_squared_error: 152.5624 - val_loss: 25575.4492 - val_root_mean_squared_error: 159.9233\n",
      "Epoch 6/100\n",
      "\u001b[1m70/70\u001b[0m \u001b[32m━━━━━━━━━━━━━━━━━━━━\u001b[0m\u001b[37m\u001b[0m \u001b[1m0s\u001b[0m 4ms/step - loss: 21000.8477 - root_mean_squared_error: 144.9106 - val_loss: 23433.0996 - val_root_mean_squared_error: 153.0787\n",
      "Epoch 7/100\n",
      "\u001b[1m70/70\u001b[0m \u001b[32m━━━━━━━━━━━━━━━━━━━━\u001b[0m\u001b[37m\u001b[0m \u001b[1m0s\u001b[0m 4ms/step - loss: 19815.7520 - root_mean_squared_error: 140.6958 - val_loss: 21394.1699 - val_root_mean_squared_error: 146.2675\n",
      "Epoch 8/100\n",
      "\u001b[1m70/70\u001b[0m \u001b[32m━━━━━━━━━━━━━━━━━━━━\u001b[0m\u001b[37m\u001b[0m \u001b[1m0s\u001b[0m 4ms/step - loss: 16769.7402 - root_mean_squared_error: 129.4911 - val_loss: 19608.4883 - val_root_mean_squared_error: 140.0303\n",
      "Epoch 9/100\n",
      "\u001b[1m70/70\u001b[0m \u001b[32m━━━━━━━━━━━━━━━━━━━━\u001b[0m\u001b[37m\u001b[0m \u001b[1m0s\u001b[0m 4ms/step - loss: 15769.7520 - root_mean_squared_error: 125.5602 - val_loss: 17925.1562 - val_root_mean_squared_error: 133.8849\n",
      "Epoch 10/100\n",
      "\u001b[1m70/70\u001b[0m \u001b[32m━━━━━━━━━━━━━━━━━━━━\u001b[0m\u001b[37m\u001b[0m \u001b[1m0s\u001b[0m 4ms/step - loss: 13935.0781 - root_mean_squared_error: 118.0352 - val_loss: 16341.6270 - val_root_mean_squared_error: 127.8344\n",
      "Epoch 11/100\n",
      "\u001b[1m70/70\u001b[0m \u001b[32m━━━━━━━━━━━━━━━━━━━━\u001b[0m\u001b[37m\u001b[0m \u001b[1m0s\u001b[0m 4ms/step - loss: 12161.7520 - root_mean_squared_error: 110.2636 - val_loss: 14858.0723 - val_root_mean_squared_error: 121.8937\n",
      "Epoch 12/100\n",
      "\u001b[1m70/70\u001b[0m \u001b[32m━━━━━━━━━━━━━━━━━━━━\u001b[0m\u001b[37m\u001b[0m \u001b[1m0s\u001b[0m 4ms/step - loss: 10821.8916 - root_mean_squared_error: 104.0173 - val_loss: 13483.9512 - val_root_mean_squared_error: 116.1204\n",
      "Epoch 13/100\n",
      "\u001b[1m70/70\u001b[0m \u001b[32m━━━━━━━━━━━━━━━━━━━━\u001b[0m\u001b[37m\u001b[0m \u001b[1m0s\u001b[0m 4ms/step - loss: 9786.6826 - root_mean_squared_error: 98.8795 - val_loss: 12228.1494 - val_root_mean_squared_error: 110.5810\n",
      "Epoch 14/100\n",
      "\u001b[1m70/70\u001b[0m \u001b[32m━━━━━━━━━━━━━━━━━━━━\u001b[0m\u001b[37m\u001b[0m \u001b[1m0s\u001b[0m 4ms/step - loss: 8690.0312 - root_mean_squared_error: 93.1988 - val_loss: 11102.7168 - val_root_mean_squared_error: 105.3694\n",
      "Epoch 15/100\n",
      "\u001b[1m70/70\u001b[0m \u001b[32m━━━━━━━━━━━━━━━━━━━━\u001b[0m\u001b[37m\u001b[0m \u001b[1m0s\u001b[0m 4ms/step - loss: 7713.4893 - root_mean_squared_error: 87.8025 - val_loss: 10087.7100 - val_root_mean_squared_error: 100.4376\n",
      "Epoch 16/100\n",
      "\u001b[1m70/70\u001b[0m \u001b[32m━━━━━━━━━━━━━━━━━━━━\u001b[0m\u001b[37m\u001b[0m \u001b[1m0s\u001b[0m 4ms/step - loss: 6705.9800 - root_mean_squared_error: 81.8640 - val_loss: 9149.8945 - val_root_mean_squared_error: 95.6551\n",
      "Epoch 17/100\n",
      "\u001b[1m70/70\u001b[0m \u001b[32m━━━━━━━━━━━━━━━━━━━━\u001b[0m\u001b[37m\u001b[0m \u001b[1m0s\u001b[0m 4ms/step - loss: 6167.7793 - root_mean_squared_error: 78.5083 - val_loss: 8298.6387 - val_root_mean_squared_error: 91.0969\n",
      "Epoch 18/100\n",
      "\u001b[1m70/70\u001b[0m \u001b[32m━━━━━━━━━━━━━━━━━━━━\u001b[0m\u001b[37m\u001b[0m \u001b[1m0s\u001b[0m 4ms/step - loss: 5893.8491 - root_mean_squared_error: 76.5273 - val_loss: 7520.1831 - val_root_mean_squared_error: 86.7190\n",
      "Epoch 19/100\n",
      "\u001b[1m70/70\u001b[0m \u001b[32m━━━━━━━━━━━━━━━━━━━━\u001b[0m\u001b[37m\u001b[0m \u001b[1m0s\u001b[0m 4ms/step - loss: 4299.8052 - root_mean_squared_error: 65.5466 - val_loss: 6814.3711 - val_root_mean_squared_error: 82.5492\n",
      "Epoch 20/100\n",
      "\u001b[1m70/70\u001b[0m \u001b[32m━━━━━━━━━━━━━━━━━━━━\u001b[0m\u001b[37m\u001b[0m \u001b[1m0s\u001b[0m 4ms/step - loss: 3800.5164 - root_mean_squared_error: 61.6400 - val_loss: 6187.6313 - val_root_mean_squared_error: 78.6615\n",
      "Epoch 21/100\n",
      "\u001b[1m70/70\u001b[0m \u001b[32m━━━━━━━━━━━━━━━━━━━━\u001b[0m\u001b[37m\u001b[0m \u001b[1m0s\u001b[0m 4ms/step - loss: 3720.6472 - root_mean_squared_error: 60.7431 - val_loss: 5552.2427 - val_root_mean_squared_error: 74.5134\n",
      "Epoch 22/100\n",
      "\u001b[1m70/70\u001b[0m \u001b[32m━━━━━━━━━━━━━━━━━━━━\u001b[0m\u001b[37m\u001b[0m \u001b[1m0s\u001b[0m 4ms/step - loss: 3168.4470 - root_mean_squared_error: 56.1772 - val_loss: 5035.0098 - val_root_mean_squared_error: 70.9578\n",
      "Epoch 23/100\n",
      "\u001b[1m70/70\u001b[0m \u001b[32m━━━━━━━━━━━━━━━━━━━━\u001b[0m\u001b[37m\u001b[0m \u001b[1m0s\u001b[0m 4ms/step - loss: 2622.0364 - root_mean_squared_error: 51.1887 - val_loss: 4591.0776 - val_root_mean_squared_error: 67.7575\n",
      "Epoch 24/100\n",
      "\u001b[1m70/70\u001b[0m \u001b[32m━━━━━━━━━━━━━━━━━━━━\u001b[0m\u001b[37m\u001b[0m \u001b[1m0s\u001b[0m 4ms/step - loss: 2459.3953 - root_mean_squared_error: 49.5757 - val_loss: 4196.9844 - val_root_mean_squared_error: 64.7841\n",
      "Epoch 25/100\n",
      "\u001b[1m70/70\u001b[0m \u001b[32m━━━━━━━━━━━━━━━━━━━━\u001b[0m\u001b[37m\u001b[0m \u001b[1m0s\u001b[0m 4ms/step - loss: 2067.4731 - root_mean_squared_error: 45.3953 - val_loss: 3846.1545 - val_root_mean_squared_error: 62.0174\n",
      "Epoch 26/100\n",
      "\u001b[1m70/70\u001b[0m \u001b[32m━━━━━━━━━━━━━━━━━━━━\u001b[0m\u001b[37m\u001b[0m \u001b[1m0s\u001b[0m 4ms/step - loss: 1839.1659 - root_mean_squared_error: 42.7848 - val_loss: 3524.4790 - val_root_mean_squared_error: 59.3673\n",
      "Epoch 27/100\n",
      "\u001b[1m70/70\u001b[0m \u001b[32m━━━━━━━━━━━━━━━━━━━━\u001b[0m\u001b[37m\u001b[0m \u001b[1m0s\u001b[0m 4ms/step - loss: 1629.5736 - root_mean_squared_error: 40.3120 - val_loss: 3238.4243 - val_root_mean_squared_error: 56.9072\n",
      "Epoch 28/100\n",
      "\u001b[1m70/70\u001b[0m \u001b[32m━━━━━━━━━━━━━━━━━━━━\u001b[0m\u001b[37m\u001b[0m \u001b[1m0s\u001b[0m 4ms/step - loss: 1397.4878 - root_mean_squared_error: 37.2940 - val_loss: 2986.0427 - val_root_mean_squared_error: 54.6447\n",
      "Epoch 29/100\n",
      "\u001b[1m70/70\u001b[0m \u001b[32m━━━━━━━━━━━━━━━━━━━━\u001b[0m\u001b[37m\u001b[0m \u001b[1m0s\u001b[0m 4ms/step - loss: 1289.4906 - root_mean_squared_error: 35.8943 - val_loss: 2762.6306 - val_root_mean_squared_error: 52.5607\n",
      "Epoch 30/100\n",
      "\u001b[1m70/70\u001b[0m \u001b[32m━━━━━━━━━━━━━━━━━━━━\u001b[0m\u001b[37m\u001b[0m \u001b[1m0s\u001b[0m 4ms/step - loss: 1133.6321 - root_mean_squared_error: 33.6057 - val_loss: 2556.3604 - val_root_mean_squared_error: 50.5605\n",
      "Epoch 31/100\n",
      "\u001b[1m70/70\u001b[0m \u001b[32m━━━━━━━━━━━━━━━━━━━━\u001b[0m\u001b[37m\u001b[0m \u001b[1m0s\u001b[0m 4ms/step - loss: 991.6863 - root_mean_squared_error: 31.3453 - val_loss: 2366.7009 - val_root_mean_squared_error: 48.6488\n",
      "Epoch 32/100\n",
      "\u001b[1m70/70\u001b[0m \u001b[32m━━━━━━━━━━━━━━━━━━━━\u001b[0m\u001b[37m\u001b[0m \u001b[1m0s\u001b[0m 4ms/step - loss: 925.7787 - root_mean_squared_error: 30.1752 - val_loss: 2190.4980 - val_root_mean_squared_error: 46.8028\n",
      "Epoch 33/100\n",
      "\u001b[1m70/70\u001b[0m \u001b[32m━━━━━━━━━━━━━━━━━━━━\u001b[0m\u001b[37m\u001b[0m \u001b[1m0s\u001b[0m 4ms/step - loss: 872.8270 - root_mean_squared_error: 29.5041 - val_loss: 2032.3340 - val_root_mean_squared_error: 45.0814\n",
      "Epoch 34/100\n",
      "\u001b[1m70/70\u001b[0m \u001b[32m━━━━━━━━━━━━━━━━━━━━\u001b[0m\u001b[37m\u001b[0m \u001b[1m0s\u001b[0m 4ms/step - loss: 935.8745 - root_mean_squared_error: 30.5204 - val_loss: 1883.9398 - val_root_mean_squared_error: 43.4044\n",
      "Epoch 35/100\n",
      "\u001b[1m70/70\u001b[0m \u001b[32m━━━━━━━━━━━━━━━━━━━━\u001b[0m\u001b[37m\u001b[0m \u001b[1m0s\u001b[0m 4ms/step - loss: 854.8313 - root_mean_squared_error: 29.0332 - val_loss: 1746.1151 - val_root_mean_squared_error: 41.7865\n",
      "Epoch 36/100\n",
      "\u001b[1m70/70\u001b[0m \u001b[32m━━━━━━━━━━━━━━━━━━━━\u001b[0m\u001b[37m\u001b[0m \u001b[1m0s\u001b[0m 4ms/step - loss: 698.1367 - root_mean_squared_error: 26.3539 - val_loss: 1617.0162 - val_root_mean_squared_error: 40.2121\n",
      "Epoch 37/100\n",
      "\u001b[1m70/70\u001b[0m \u001b[32m━━━━━━━━━━━━━━━━━━━━\u001b[0m\u001b[37m\u001b[0m \u001b[1m0s\u001b[0m 4ms/step - loss: 728.0070 - root_mean_squared_error: 26.8386 - val_loss: 1500.7797 - val_root_mean_squared_error: 38.7399\n",
      "Epoch 38/100\n",
      "\u001b[1m70/70\u001b[0m \u001b[32m━━━━━━━━━━━━━━━━━━━━\u001b[0m\u001b[37m\u001b[0m \u001b[1m0s\u001b[0m 4ms/step - loss: 734.4619 - root_mean_squared_error: 26.9507 - val_loss: 1384.8049 - val_root_mean_squared_error: 37.2130\n",
      "Epoch 39/100\n",
      "\u001b[1m70/70\u001b[0m \u001b[32m━━━━━━━━━━━━━━━━━━━━\u001b[0m\u001b[37m\u001b[0m \u001b[1m0s\u001b[0m 4ms/step - loss: 667.7671 - root_mean_squared_error: 25.5621 - val_loss: 1282.1213 - val_root_mean_squared_error: 35.8067\n",
      "Epoch 40/100\n",
      "\u001b[1m70/70\u001b[0m \u001b[32m━━━━━━━━━━━━━━━━━━━━\u001b[0m\u001b[37m\u001b[0m \u001b[1m0s\u001b[0m 4ms/step - loss: 528.1030 - root_mean_squared_error: 22.8973 - val_loss: 1188.0039 - val_root_mean_squared_error: 34.4674\n",
      "Epoch 41/100\n",
      "\u001b[1m70/70\u001b[0m \u001b[32m━━━━━━━━━━━━━━━━━━━━\u001b[0m\u001b[37m\u001b[0m \u001b[1m0s\u001b[0m 4ms/step - loss: 584.6609 - root_mean_squared_error: 24.1224 - val_loss: 1090.7805 - val_root_mean_squared_error: 33.0270\n",
      "Epoch 42/100\n",
      "\u001b[1m70/70\u001b[0m \u001b[32m━━━━━━━━━━━━━━━━━━━━\u001b[0m\u001b[37m\u001b[0m \u001b[1m0s\u001b[0m 4ms/step - loss: 526.6600 - root_mean_squared_error: 22.8733 - val_loss: 1006.5815 - val_root_mean_squared_error: 31.7267\n",
      "Epoch 43/100\n",
      "\u001b[1m70/70\u001b[0m \u001b[32m━━━━━━━━━━━━━━━━━━━━\u001b[0m\u001b[37m\u001b[0m \u001b[1m0s\u001b[0m 4ms/step - loss: 481.9535 - root_mean_squared_error: 21.8953 - val_loss: 928.9538 - val_root_mean_squared_error: 30.4787\n",
      "Epoch 44/100\n",
      "\u001b[1m70/70\u001b[0m \u001b[32m━━━━━━━━━━━━━━━━━━━━\u001b[0m\u001b[37m\u001b[0m \u001b[1m0s\u001b[0m 4ms/step - loss: 398.6897 - root_mean_squared_error: 19.8909 - val_loss: 855.3400 - val_root_mean_squared_error: 29.2462\n",
      "Epoch 45/100\n",
      "\u001b[1m70/70\u001b[0m \u001b[32m━━━━━━━━━━━━━━━━━━━━\u001b[0m\u001b[37m\u001b[0m \u001b[1m0s\u001b[0m 4ms/step - loss: 479.7624 - root_mean_squared_error: 21.7962 - val_loss: 784.1601 - val_root_mean_squared_error: 28.0029\n",
      "Epoch 46/100\n",
      "\u001b[1m70/70\u001b[0m \u001b[32m━━━━━━━━━━━━━━━━━━━━\u001b[0m\u001b[37m\u001b[0m \u001b[1m0s\u001b[0m 4ms/step - loss: 418.9298 - root_mean_squared_error: 20.4316 - val_loss: 720.6200 - val_root_mean_squared_error: 26.8444\n",
      "Epoch 47/100\n",
      "\u001b[1m70/70\u001b[0m \u001b[32m━━━━━━━━━━━━━━━━━━━━\u001b[0m\u001b[37m\u001b[0m \u001b[1m0s\u001b[0m 4ms/step - loss: 407.9432 - root_mean_squared_error: 20.0044 - val_loss: 660.6238 - val_root_mean_squared_error: 25.7026\n",
      "Epoch 48/100\n",
      "\u001b[1m70/70\u001b[0m \u001b[32m━━━━━━━━━━━━━━━━━━━━\u001b[0m\u001b[37m\u001b[0m \u001b[1m0s\u001b[0m 4ms/step - loss: 316.3514 - root_mean_squared_error: 17.7471 - val_loss: 606.3428 - val_root_mean_squared_error: 24.6240\n",
      "Epoch 49/100\n",
      "\u001b[1m70/70\u001b[0m \u001b[32m━━━━━━━━━━━━━━━━━━━━\u001b[0m\u001b[37m\u001b[0m \u001b[1m0s\u001b[0m 4ms/step - loss: 337.5118 - root_mean_squared_error: 18.2750 - val_loss: 557.1111 - val_root_mean_squared_error: 23.6032\n",
      "Epoch 50/100\n",
      "\u001b[1m70/70\u001b[0m \u001b[32m━━━━━━━━━━━━━━━━━━━━\u001b[0m\u001b[37m\u001b[0m \u001b[1m0s\u001b[0m 4ms/step - loss: 267.9554 - root_mean_squared_error: 16.2687 - val_loss: 507.0239 - val_root_mean_squared_error: 22.5172\n",
      "Epoch 51/100\n",
      "\u001b[1m70/70\u001b[0m \u001b[32m━━━━━━━━━━━━━━━━━━━━\u001b[0m\u001b[37m\u001b[0m \u001b[1m0s\u001b[0m 4ms/step - loss: 287.6556 - root_mean_squared_error: 16.9150 - val_loss: 464.2603 - val_root_mean_squared_error: 21.5467\n",
      "Epoch 52/100\n",
      "\u001b[1m70/70\u001b[0m \u001b[32m━━━━━━━━━━━━━━━━━━━━\u001b[0m\u001b[37m\u001b[0m \u001b[1m0s\u001b[0m 4ms/step - loss: 291.2182 - root_mean_squared_error: 17.0323 - val_loss: 420.4619 - val_root_mean_squared_error: 20.5052\n",
      "Epoch 53/100\n",
      "\u001b[1m70/70\u001b[0m \u001b[32m━━━━━━━━━━━━━━━━━━━━\u001b[0m\u001b[37m\u001b[0m \u001b[1m0s\u001b[0m 4ms/step - loss: 261.0842 - root_mean_squared_error: 16.1165 - val_loss: 386.0300 - val_root_mean_squared_error: 19.6476\n",
      "Epoch 54/100\n",
      "\u001b[1m70/70\u001b[0m \u001b[32m━━━━━━━━━━━━━━━━━━━━\u001b[0m\u001b[37m\u001b[0m \u001b[1m0s\u001b[0m 4ms/step - loss: 227.6009 - root_mean_squared_error: 15.0631 - val_loss: 351.5281 - val_root_mean_squared_error: 18.7491\n",
      "Epoch 55/100\n",
      "\u001b[1m70/70\u001b[0m \u001b[32m━━━━━━━━━━━━━━━━━━━━\u001b[0m\u001b[37m\u001b[0m \u001b[1m0s\u001b[0m 4ms/step - loss: 222.2380 - root_mean_squared_error: 14.8545 - val_loss: 319.5894 - val_root_mean_squared_error: 17.8771\n",
      "Epoch 56/100\n",
      "\u001b[1m70/70\u001b[0m \u001b[32m━━━━━━━━━━━━━━━━━━━━\u001b[0m\u001b[37m\u001b[0m \u001b[1m0s\u001b[0m 4ms/step - loss: 192.1194 - root_mean_squared_error: 13.8376 - val_loss: 290.6760 - val_root_mean_squared_error: 17.0492\n",
      "Epoch 57/100\n",
      "\u001b[1m70/70\u001b[0m \u001b[32m━━━━━━━━━━━━━━━━━━━━\u001b[0m\u001b[37m\u001b[0m \u001b[1m0s\u001b[0m 4ms/step - loss: 177.2022 - root_mean_squared_error: 13.2242 - val_loss: 267.4737 - val_root_mean_squared_error: 16.3546\n",
      "Epoch 58/100\n",
      "\u001b[1m70/70\u001b[0m \u001b[32m━━━━━━━━━━━━━━━━━━━━\u001b[0m\u001b[37m\u001b[0m \u001b[1m0s\u001b[0m 4ms/step - loss: 183.2657 - root_mean_squared_error: 13.4807 - val_loss: 239.6669 - val_root_mean_squared_error: 15.4812\n",
      "Epoch 59/100\n",
      "\u001b[1m70/70\u001b[0m \u001b[32m━━━━━━━━━━━━━━━━━━━━\u001b[0m\u001b[37m\u001b[0m \u001b[1m0s\u001b[0m 4ms/step - loss: 194.9261 - root_mean_squared_error: 13.9217 - val_loss: 218.3648 - val_root_mean_squared_error: 14.7772\n",
      "Epoch 60/100\n",
      "\u001b[1m70/70\u001b[0m \u001b[32m━━━━━━━━━━━━━━━━━━━━\u001b[0m\u001b[37m\u001b[0m \u001b[1m0s\u001b[0m 4ms/step - loss: 182.0473 - root_mean_squared_error: 13.4780 - val_loss: 200.5553 - val_root_mean_squared_error: 14.1618\n",
      "Epoch 61/100\n",
      "\u001b[1m70/70\u001b[0m \u001b[32m━━━━━━━━━━━━━━━━━━━━\u001b[0m\u001b[37m\u001b[0m \u001b[1m0s\u001b[0m 4ms/step - loss: 157.0152 - root_mean_squared_error: 12.5208 - val_loss: 181.1377 - val_root_mean_squared_error: 13.4587\n",
      "Epoch 62/100\n",
      "\u001b[1m70/70\u001b[0m \u001b[32m━━━━━━━━━━━━━━━━━━━━\u001b[0m\u001b[37m\u001b[0m \u001b[1m0s\u001b[0m 4ms/step - loss: 155.7652 - root_mean_squared_error: 12.4566 - val_loss: 171.9300 - val_root_mean_squared_error: 13.1122\n",
      "Epoch 63/100\n",
      "\u001b[1m70/70\u001b[0m \u001b[32m━━━━━━━━━━━━━━━━━━━━\u001b[0m\u001b[37m\u001b[0m \u001b[1m0s\u001b[0m 4ms/step - loss: 133.2931 - root_mean_squared_error: 11.5286 - val_loss: 151.3699 - val_root_mean_squared_error: 12.3032\n",
      "Epoch 64/100\n",
      "\u001b[1m70/70\u001b[0m \u001b[32m━━━━━━━━━━━━━━━━━━━━\u001b[0m\u001b[37m\u001b[0m \u001b[1m0s\u001b[0m 4ms/step - loss: 144.6837 - root_mean_squared_error: 11.9715 - val_loss: 141.8870 - val_root_mean_squared_error: 11.9116\n",
      "Epoch 65/100\n",
      "\u001b[1m70/70\u001b[0m \u001b[32m━━━━━━━━━━━━━━━━━━━━\u001b[0m\u001b[37m\u001b[0m \u001b[1m0s\u001b[0m 4ms/step - loss: 132.4909 - root_mean_squared_error: 11.4966 - val_loss: 127.5758 - val_root_mean_squared_error: 11.2949\n",
      "Epoch 66/100\n",
      "\u001b[1m70/70\u001b[0m \u001b[32m━━━━━━━━━━━━━━━━━━━━\u001b[0m\u001b[37m\u001b[0m \u001b[1m0s\u001b[0m 4ms/step - loss: 123.5290 - root_mean_squared_error: 11.0390 - val_loss: 121.5438 - val_root_mean_squared_error: 11.0247\n",
      "Epoch 67/100\n",
      "\u001b[1m70/70\u001b[0m \u001b[32m━━━━━━━━━━━━━━━━━━━━\u001b[0m\u001b[37m\u001b[0m \u001b[1m0s\u001b[0m 4ms/step - loss: 165.5954 - root_mean_squared_error: 12.7742 - val_loss: 115.3000 - val_root_mean_squared_error: 10.7378\n",
      "Epoch 68/100\n",
      "\u001b[1m70/70\u001b[0m \u001b[32m━━━━━━━━━━━━━━━━━━━━\u001b[0m\u001b[37m\u001b[0m \u001b[1m0s\u001b[0m 4ms/step - loss: 112.9072 - root_mean_squared_error: 10.6033 - val_loss: 99.7429 - val_root_mean_squared_error: 9.9871\n",
      "Epoch 69/100\n",
      "\u001b[1m70/70\u001b[0m \u001b[32m━━━━━━━━━━━━━━━━━━━━\u001b[0m\u001b[37m\u001b[0m \u001b[1m0s\u001b[0m 4ms/step - loss: 128.5037 - root_mean_squared_error: 11.2828 - val_loss: 92.9102 - val_root_mean_squared_error: 9.6390\n",
      "Epoch 70/100\n",
      "\u001b[1m70/70\u001b[0m \u001b[32m━━━━━━━━━━━━━━━━━━━━\u001b[0m\u001b[37m\u001b[0m \u001b[1m0s\u001b[0m 4ms/step - loss: 122.8785 - root_mean_squared_error: 11.0396 - val_loss: 90.1299 - val_root_mean_squared_error: 9.4937\n",
      "Epoch 71/100\n",
      "\u001b[1m70/70\u001b[0m \u001b[32m━━━━━━━━━━━━━━━━━━━━\u001b[0m\u001b[37m\u001b[0m \u001b[1m0s\u001b[0m 4ms/step - loss: 131.6266 - root_mean_squared_error: 11.3282 - val_loss: 85.5714 - val_root_mean_squared_error: 9.2505\n",
      "Epoch 72/100\n",
      "\u001b[1m70/70\u001b[0m \u001b[32m━━━━━━━━━━━━━━━━━━━━\u001b[0m\u001b[37m\u001b[0m \u001b[1m0s\u001b[0m 4ms/step - loss: 105.4851 - root_mean_squared_error: 10.2337 - val_loss: 81.6193 - val_root_mean_squared_error: 9.0343\n",
      "Epoch 73/100\n",
      "\u001b[1m70/70\u001b[0m \u001b[32m━━━━━━━━━━━━━━━━━━━━\u001b[0m\u001b[37m\u001b[0m \u001b[1m0s\u001b[0m 4ms/step - loss: 101.4744 - root_mean_squared_error: 10.0418 - val_loss: 77.0929 - val_root_mean_squared_error: 8.7803\n",
      "Epoch 74/100\n",
      "\u001b[1m70/70\u001b[0m \u001b[32m━━━━━━━━━━━━━━━━━━━━\u001b[0m\u001b[37m\u001b[0m \u001b[1m0s\u001b[0m 4ms/step - loss: 87.3893 - root_mean_squared_error: 9.3324 - val_loss: 72.2756 - val_root_mean_squared_error: 8.5015\n",
      "Epoch 75/100\n",
      "\u001b[1m70/70\u001b[0m \u001b[32m━━━━━━━━━━━━━━━━━━━━\u001b[0m\u001b[37m\u001b[0m \u001b[1m0s\u001b[0m 4ms/step - loss: 84.1948 - root_mean_squared_error: 9.1650 - val_loss: 67.9895 - val_root_mean_squared_error: 8.2456\n",
      "Epoch 76/100\n",
      "\u001b[1m70/70\u001b[0m \u001b[32m━━━━━━━━━━━━━━━━━━━━\u001b[0m\u001b[37m\u001b[0m \u001b[1m0s\u001b[0m 4ms/step - loss: 76.8817 - root_mean_squared_error: 8.7549 - val_loss: 69.1713 - val_root_mean_squared_error: 8.3169\n",
      "Epoch 77/100\n",
      "\u001b[1m70/70\u001b[0m \u001b[32m━━━━━━━━━━━━━━━━━━━━\u001b[0m\u001b[37m\u001b[0m \u001b[1m0s\u001b[0m 4ms/step - loss: 95.1025 - root_mean_squared_error: 9.6913 - val_loss: 64.2864 - val_root_mean_squared_error: 8.0179\n",
      "Epoch 78/100\n",
      "\u001b[1m70/70\u001b[0m \u001b[32m━━━━━━━━━━━━━━━━━━━━\u001b[0m\u001b[37m\u001b[0m \u001b[1m0s\u001b[0m 4ms/step - loss: 88.4825 - root_mean_squared_error: 9.3701 - val_loss: 61.7573 - val_root_mean_squared_error: 7.8586\n",
      "Epoch 79/100\n",
      "\u001b[1m70/70\u001b[0m \u001b[32m━━━━━━━━━━━━━━━━━━━━\u001b[0m\u001b[37m\u001b[0m \u001b[1m0s\u001b[0m 4ms/step - loss: 87.6590 - root_mean_squared_error: 9.3537 - val_loss: 58.8067 - val_root_mean_squared_error: 7.6686\n",
      "Epoch 80/100\n",
      "\u001b[1m70/70\u001b[0m \u001b[32m━━━━━━━━━━━━━━━━━━━━\u001b[0m\u001b[37m\u001b[0m \u001b[1m0s\u001b[0m 4ms/step - loss: 87.8367 - root_mean_squared_error: 9.3521 - val_loss: 59.4299 - val_root_mean_squared_error: 7.7091\n",
      "Epoch 81/100\n",
      "\u001b[1m70/70\u001b[0m \u001b[32m━━━━━━━━━━━━━━━━━━━━\u001b[0m\u001b[37m\u001b[0m \u001b[1m0s\u001b[0m 4ms/step - loss: 79.8833 - root_mean_squared_error: 8.9124 - val_loss: 55.7335 - val_root_mean_squared_error: 7.4655\n",
      "Epoch 82/100\n",
      "\u001b[1m70/70\u001b[0m \u001b[32m━━━━━━━━━━━━━━━━━━━━\u001b[0m\u001b[37m\u001b[0m \u001b[1m0s\u001b[0m 4ms/step - loss: 89.4092 - root_mean_squared_error: 9.4132 - val_loss: 54.2146 - val_root_mean_squared_error: 7.3631\n",
      "Epoch 83/100\n",
      "\u001b[1m70/70\u001b[0m \u001b[32m━━━━━━━━━━━━━━━━━━━━\u001b[0m\u001b[37m\u001b[0m \u001b[1m0s\u001b[0m 4ms/step - loss: 78.3133 - root_mean_squared_error: 8.8351 - val_loss: 54.2908 - val_root_mean_squared_error: 7.3682\n",
      "Epoch 84/100\n",
      "\u001b[1m70/70\u001b[0m \u001b[32m━━━━━━━━━━━━━━━━━━━━\u001b[0m\u001b[37m\u001b[0m \u001b[1m0s\u001b[0m 4ms/step - loss: 80.8823 - root_mean_squared_error: 8.9507 - val_loss: 53.6965 - val_root_mean_squared_error: 7.3278\n",
      "Epoch 85/100\n",
      "\u001b[1m70/70\u001b[0m \u001b[32m━━━━━━━━━━━━━━━━━━━━\u001b[0m\u001b[37m\u001b[0m \u001b[1m0s\u001b[0m 4ms/step - loss: 72.9881 - root_mean_squared_error: 8.5270 - val_loss: 50.7581 - val_root_mean_squared_error: 7.1245\n",
      "Epoch 86/100\n",
      "\u001b[1m70/70\u001b[0m \u001b[32m━━━━━━━━━━━━━━━━━━━━\u001b[0m\u001b[37m\u001b[0m \u001b[1m0s\u001b[0m 4ms/step - loss: 73.8702 - root_mean_squared_error: 8.5875 - val_loss: 51.4450 - val_root_mean_squared_error: 7.1725\n",
      "Epoch 87/100\n",
      "\u001b[1m70/70\u001b[0m \u001b[32m━━━━━━━━━━━━━━━━━━━━\u001b[0m\u001b[37m\u001b[0m \u001b[1m0s\u001b[0m 4ms/step - loss: 74.3979 - root_mean_squared_error: 8.6149 - val_loss: 53.8531 - val_root_mean_squared_error: 7.3385\n",
      "Epoch 88/100\n",
      "\u001b[1m70/70\u001b[0m \u001b[32m━━━━━━━━━━━━━━━━━━━━\u001b[0m\u001b[37m\u001b[0m \u001b[1m0s\u001b[0m 4ms/step - loss: 71.1900 - root_mean_squared_error: 8.4296 - val_loss: 52.3297 - val_root_mean_squared_error: 7.2339\n",
      "Epoch 89/100\n",
      "\u001b[1m70/70\u001b[0m \u001b[32m━━━━━━━━━━━━━━━━━━━━\u001b[0m\u001b[37m\u001b[0m \u001b[1m0s\u001b[0m 4ms/step - loss: 61.3138 - root_mean_squared_error: 7.8159 - val_loss: 52.8861 - val_root_mean_squared_error: 7.2723\n",
      "Epoch 90/100\n",
      "\u001b[1m70/70\u001b[0m \u001b[32m━━━━━━━━━━━━━━━━━━━━\u001b[0m\u001b[37m\u001b[0m \u001b[1m0s\u001b[0m 4ms/step - loss: 62.7390 - root_mean_squared_error: 7.9139 - val_loss: 50.2448 - val_root_mean_squared_error: 7.0884\n",
      "Epoch 91/100\n",
      "\u001b[1m70/70\u001b[0m \u001b[32m━━━━━━━━━━━━━━━━━━━━\u001b[0m\u001b[37m\u001b[0m \u001b[1m0s\u001b[0m 4ms/step - loss: 62.5004 - root_mean_squared_error: 7.8941 - val_loss: 48.0206 - val_root_mean_squared_error: 6.9297\n",
      "Epoch 92/100\n",
      "\u001b[1m70/70\u001b[0m \u001b[32m━━━━━━━━━━━━━━━━━━━━\u001b[0m\u001b[37m\u001b[0m \u001b[1m0s\u001b[0m 4ms/step - loss: 62.4567 - root_mean_squared_error: 7.8953 - val_loss: 52.4976 - val_root_mean_squared_error: 7.2455\n",
      "Epoch 93/100\n",
      "\u001b[1m70/70\u001b[0m \u001b[32m━━━━━━━━━━━━━━━━━━━━\u001b[0m\u001b[37m\u001b[0m \u001b[1m0s\u001b[0m 3ms/step - loss: 62.8700 - root_mean_squared_error: 7.9243 - val_loss: 48.1416 - val_root_mean_squared_error: 6.9384\n",
      "Epoch 94/100\n",
      "\u001b[1m70/70\u001b[0m \u001b[32m━━━━━━━━━━━━━━━━━━━━\u001b[0m\u001b[37m\u001b[0m \u001b[1m0s\u001b[0m 4ms/step - loss: 60.7508 - root_mean_squared_error: 7.7700 - val_loss: 48.5230 - val_root_mean_squared_error: 6.9658\n",
      "Epoch 95/100\n",
      "\u001b[1m70/70\u001b[0m \u001b[32m━━━━━━━━━━━━━━━━━━━━\u001b[0m\u001b[37m\u001b[0m \u001b[1m0s\u001b[0m 3ms/step - loss: 55.7081 - root_mean_squared_error: 7.4482 - val_loss: 54.9290 - val_root_mean_squared_error: 7.4114\n",
      "Epoch 96/100\n",
      "\u001b[1m70/70\u001b[0m \u001b[32m━━━━━━━━━━━━━━━━━━━━\u001b[0m\u001b[37m\u001b[0m \u001b[1m0s\u001b[0m 4ms/step - loss: 56.5436 - root_mean_squared_error: 7.5099 - val_loss: 53.3591 - val_root_mean_squared_error: 7.3047\n",
      "Epoch 97/100\n",
      "\u001b[1m70/70\u001b[0m \u001b[32m━━━━━━━━━━━━━━━━━━━━\u001b[0m\u001b[37m\u001b[0m \u001b[1m0s\u001b[0m 4ms/step - loss: 52.2840 - root_mean_squared_error: 7.2042 - val_loss: 51.3202 - val_root_mean_squared_error: 7.1638\n",
      "Epoch 98/100\n",
      "\u001b[1m70/70\u001b[0m \u001b[32m━━━━━━━━━━━━━━━━━━━━\u001b[0m\u001b[37m\u001b[0m \u001b[1m0s\u001b[0m 4ms/step - loss: 51.0442 - root_mean_squared_error: 7.1271 - val_loss: 47.6466 - val_root_mean_squared_error: 6.9027\n",
      "Epoch 99/100\n",
      "\u001b[1m70/70\u001b[0m \u001b[32m━━━━━━━━━━━━━━━━━━━━\u001b[0m\u001b[37m\u001b[0m \u001b[1m0s\u001b[0m 4ms/step - loss: 50.8742 - root_mean_squared_error: 7.0879 - val_loss: 50.6138 - val_root_mean_squared_error: 7.1143\n",
      "Epoch 100/100\n",
      "\u001b[1m70/70\u001b[0m \u001b[32m━━━━━━━━━━━━━━━━━━━━\u001b[0m\u001b[37m\u001b[0m \u001b[1m0s\u001b[0m 4ms/step - loss: 60.4748 - root_mean_squared_error: 7.7476 - val_loss: 47.1329 - val_root_mean_squared_error: 6.8653\n"
     ]
    },
    {
     "data": {
      "text/plain": [
       "<keras.src.callbacks.history.History at 0x7e98806f1ea0>"
      ]
     },
     "execution_count": 35,
     "metadata": {},
     "output_type": "execute_result"
    }
   ],
   "source": [
    "model1.fit(X_train1, y_train1, validation_data=(X_val1, y_val1), epochs=100, \n",
    "           callbacks=[cp1])"
   ]
  },
  {
   "cell_type": "code",
   "execution_count": 36,
   "id": "7c404018",
   "metadata": {
    "execution": {
     "iopub.execute_input": "2025-01-20T23:54:18.813548Z",
     "iopub.status.busy": "2025-01-20T23:54:18.813054Z",
     "iopub.status.idle": "2025-01-20T23:54:18.913160Z",
     "shell.execute_reply": "2025-01-20T23:54:18.912156Z"
    },
    "papermill": {
     "duration": 0.23239,
     "end_time": "2025-01-20T23:54:18.915018",
     "exception": false,
     "start_time": "2025-01-20T23:54:18.682628",
     "status": "completed"
    },
    "tags": []
   },
   "outputs": [],
   "source": [
    "from tensorflow.keras.models import load_model\n",
    "model1 = load_model('/kaggle/working/model1.keras')"
   ]
  },
  {
   "cell_type": "code",
   "execution_count": 37,
   "id": "4e308149",
   "metadata": {
    "execution": {
     "iopub.execute_input": "2025-01-20T23:54:19.031638Z",
     "iopub.status.busy": "2025-01-20T23:54:19.031250Z",
     "iopub.status.idle": "2025-01-20T23:54:19.537802Z",
     "shell.execute_reply": "2025-01-20T23:54:19.536654Z"
    },
    "papermill": {
     "duration": 0.566921,
     "end_time": "2025-01-20T23:54:19.539682",
     "exception": false,
     "start_time": "2025-01-20T23:54:18.972761",
     "status": "completed"
    },
    "tags": []
   },
   "outputs": [
    {
     "name": "stdout",
     "output_type": "stream",
     "text": [
      "\u001b[1m70/70\u001b[0m \u001b[32m━━━━━━━━━━━━━━━━━━━━\u001b[0m\u001b[37m\u001b[0m \u001b[1m0s\u001b[0m 4ms/step\n",
      "Evaluation Metrics:\n",
      "Mean Absolute Error (MAE): 4.1498\n",
      "Mean Squared Error (MSE): 55.1649\n",
      "Root Mean Squared Error (RMSE): 7.4273\n",
      "R-squared (Accuracy): 0.9829\n"
     ]
    }
   ],
   "source": [
    "# Evaluate the model on the train data\n",
    "train_result = model1.predict(X_train1)\n",
    "\n",
    "# Calculate metrics\n",
    "mse = mean_squared_error(y_train1, train_result)\n",
    "rmse = np.sqrt(mse)\n",
    "mae = mean_absolute_error(y_train1, train_result)\n",
    "r2 = r2_score(y_train1, train_result)\n",
    "\n",
    "# Print the results\n",
    "print(\"Evaluation Metrics:\")\n",
    "print(f\"Mean Absolute Error (MAE): {mae:.4f}\")\n",
    "print(f\"Mean Squared Error (MSE): {mse:.4f}\")\n",
    "print(f\"Root Mean Squared Error (RMSE): {rmse:.4f}\")\n",
    "print(f\"R-squared (Accuracy): {r2:.4f}\")"
   ]
  },
  {
   "cell_type": "code",
   "execution_count": 38,
   "id": "627a35a1",
   "metadata": {
    "execution": {
     "iopub.execute_input": "2025-01-20T23:54:19.663936Z",
     "iopub.status.busy": "2025-01-20T23:54:19.663440Z",
     "iopub.status.idle": "2025-01-20T23:54:19.785460Z",
     "shell.execute_reply": "2025-01-20T23:54:19.784231Z"
    },
    "papermill": {
     "duration": 0.183134,
     "end_time": "2025-01-20T23:54:19.787831",
     "exception": false,
     "start_time": "2025-01-20T23:54:19.604697",
     "status": "completed"
    },
    "tags": []
   },
   "outputs": [
    {
     "name": "stdout",
     "output_type": "stream",
     "text": [
      "\u001b[1m20/20\u001b[0m \u001b[32m━━━━━━━━━━━━━━━━━━━━\u001b[0m\u001b[37m\u001b[0m \u001b[1m0s\u001b[0m 2ms/step \n",
      "Evaluation Metrics:\n",
      "Mean Absolute Error (MAE): 5.0458\n",
      "Mean Squared Error (MSE): 47.1329\n",
      "Root Mean Squared Error (RMSE): 6.8653\n",
      "R-squared (Accuracy): 0.9916\n"
     ]
    }
   ],
   "source": [
    "# Evaluate the model on the validation data\n",
    "val_result = model1.predict(X_val1)\n",
    "\n",
    "# Calculate metrics\n",
    "mse = mean_squared_error(y_val1, val_result)\n",
    "rmse = np.sqrt(mse)\n",
    "mae = mean_absolute_error(y_val1, val_result)\n",
    "r2 = r2_score(y_val1, val_result)\n",
    "\n",
    "# Print the results\n",
    "print(\"Evaluation Metrics:\")\n",
    "print(f\"Mean Absolute Error (MAE): {mae:.4f}\")\n",
    "print(f\"Mean Squared Error (MSE): {mse:.4f}\")\n",
    "print(f\"Root Mean Squared Error (RMSE): {rmse:.4f}\")\n",
    "print(f\"R-squared (Accuracy): {r2:.4f}\")"
   ]
  },
  {
   "cell_type": "code",
   "execution_count": 39,
   "id": "1683a277",
   "metadata": {
    "execution": {
     "iopub.execute_input": "2025-01-20T23:54:19.909096Z",
     "iopub.status.busy": "2025-01-20T23:54:19.908704Z",
     "iopub.status.idle": "2025-01-20T23:54:19.999964Z",
     "shell.execute_reply": "2025-01-20T23:54:19.998785Z"
    },
    "papermill": {
     "duration": 0.151593,
     "end_time": "2025-01-20T23:54:20.001602",
     "exception": false,
     "start_time": "2025-01-20T23:54:19.850009",
     "status": "completed"
    },
    "tags": []
   },
   "outputs": [
    {
     "name": "stdout",
     "output_type": "stream",
     "text": [
      "\u001b[1m10/10\u001b[0m \u001b[32m━━━━━━━━━━━━━━━━━━━━\u001b[0m\u001b[37m\u001b[0m \u001b[1m0s\u001b[0m 2ms/step \n",
      "Evaluation Metrics:\n",
      "Mean Absolute Error (MAE): 4.8111\n",
      "Mean Squared Error (MSE): 47.1017\n",
      "Root Mean Squared Error (RMSE): 6.8631\n",
      "R-squared (Accuracy): 0.9813\n"
     ]
    }
   ],
   "source": [
    "# Evaluate the model on the test data\n",
    "test_result = model1.predict(X_test1)\n",
    "\n",
    "# Calculate metrics\n",
    "mse = mean_squared_error(y_test1, test_result)\n",
    "rmse = np.sqrt(mse)\n",
    "mae = mean_absolute_error(y_test1, test_result)\n",
    "r2 = r2_score(y_test1, test_result)\n",
    "\n",
    "# Print the results\n",
    "print(\"Evaluation Metrics:\")\n",
    "print(f\"Mean Absolute Error (MAE): {mae:.4f}\")\n",
    "print(f\"Mean Squared Error (MSE): {mse:.4f}\")\n",
    "print(f\"Root Mean Squared Error (RMSE): {rmse:.4f}\")\n",
    "print(f\"R-squared (Accuracy): {r2:.4f}\")"
   ]
  },
  {
   "cell_type": "code",
   "execution_count": 40,
   "id": "86c908ae",
   "metadata": {
    "execution": {
     "iopub.execute_input": "2025-01-20T23:54:20.118860Z",
     "iopub.status.busy": "2025-01-20T23:54:20.118418Z",
     "iopub.status.idle": "2025-01-20T23:54:20.319379Z",
     "shell.execute_reply": "2025-01-20T23:54:20.318330Z"
    },
    "papermill": {
     "duration": 0.261596,
     "end_time": "2025-01-20T23:54:20.320963",
     "exception": false,
     "start_time": "2025-01-20T23:54:20.059367",
     "status": "completed"
    },
    "tags": []
   },
   "outputs": [
    {
     "name": "stdout",
     "output_type": "stream",
     "text": [
      "\u001b[1m70/70\u001b[0m \u001b[32m━━━━━━━━━━━━━━━━━━━━\u001b[0m\u001b[37m\u001b[0m \u001b[1m0s\u001b[0m 1ms/step\n"
     ]
    },
    {
     "data": {
      "text/html": [
       "<div>\n",
       "<style scoped>\n",
       "    .dataframe tbody tr th:only-of-type {\n",
       "        vertical-align: middle;\n",
       "    }\n",
       "\n",
       "    .dataframe tbody tr th {\n",
       "        vertical-align: top;\n",
       "    }\n",
       "\n",
       "    .dataframe thead th {\n",
       "        text-align: right;\n",
       "    }\n",
       "</style>\n",
       "<table border=\"1\" class=\"dataframe\">\n",
       "  <thead>\n",
       "    <tr style=\"text-align: right;\">\n",
       "      <th></th>\n",
       "      <th>Train Predictions</th>\n",
       "      <th>Actuals</th>\n",
       "    </tr>\n",
       "  </thead>\n",
       "  <tbody>\n",
       "    <tr>\n",
       "      <th>0</th>\n",
       "      <td>199.536560</td>\n",
       "      <td>220.166667</td>\n",
       "    </tr>\n",
       "    <tr>\n",
       "      <th>1</th>\n",
       "      <td>223.862625</td>\n",
       "      <td>204.833333</td>\n",
       "    </tr>\n",
       "    <tr>\n",
       "      <th>2</th>\n",
       "      <td>195.449554</td>\n",
       "      <td>220.666667</td>\n",
       "    </tr>\n",
       "    <tr>\n",
       "      <th>3</th>\n",
       "      <td>236.085114</td>\n",
       "      <td>244.666667</td>\n",
       "    </tr>\n",
       "    <tr>\n",
       "      <th>4</th>\n",
       "      <td>265.383240</td>\n",
       "      <td>257.166667</td>\n",
       "    </tr>\n",
       "    <tr>\n",
       "      <th>...</th>\n",
       "      <td>...</td>\n",
       "      <td>...</td>\n",
       "    </tr>\n",
       "    <tr>\n",
       "      <th>2228</th>\n",
       "      <td>196.199890</td>\n",
       "      <td>203.666667</td>\n",
       "    </tr>\n",
       "    <tr>\n",
       "      <th>2229</th>\n",
       "      <td>213.012665</td>\n",
       "      <td>220.333333</td>\n",
       "    </tr>\n",
       "    <tr>\n",
       "      <th>2230</th>\n",
       "      <td>234.891647</td>\n",
       "      <td>227.500000</td>\n",
       "    </tr>\n",
       "    <tr>\n",
       "      <th>2231</th>\n",
       "      <td>233.984909</td>\n",
       "      <td>229.333333</td>\n",
       "    </tr>\n",
       "    <tr>\n",
       "      <th>2232</th>\n",
       "      <td>231.259842</td>\n",
       "      <td>233.166667</td>\n",
       "    </tr>\n",
       "  </tbody>\n",
       "</table>\n",
       "<p>2233 rows × 2 columns</p>\n",
       "</div>"
      ],
      "text/plain": [
       "      Train Predictions     Actuals\n",
       "0            199.536560  220.166667\n",
       "1            223.862625  204.833333\n",
       "2            195.449554  220.666667\n",
       "3            236.085114  244.666667\n",
       "4            265.383240  257.166667\n",
       "...                 ...         ...\n",
       "2228         196.199890  203.666667\n",
       "2229         213.012665  220.333333\n",
       "2230         234.891647  227.500000\n",
       "2231         233.984909  229.333333\n",
       "2232         231.259842  233.166667\n",
       "\n",
       "[2233 rows x 2 columns]"
      ]
     },
     "execution_count": 40,
     "metadata": {},
     "output_type": "execute_result"
    }
   ],
   "source": [
    "train_predictions = model1.predict(X_train1).flatten()\n",
    "train_results = pd.DataFrame(data={'Train Predictions':train_predictions, 'Actuals':y_train1})\n",
    "train_results"
   ]
  },
  {
   "cell_type": "code",
   "execution_count": 41,
   "id": "720de8b6",
   "metadata": {
    "execution": {
     "iopub.execute_input": "2025-01-20T23:54:20.437465Z",
     "iopub.status.busy": "2025-01-20T23:54:20.437118Z",
     "iopub.status.idle": "2025-01-20T23:54:20.660018Z",
     "shell.execute_reply": "2025-01-20T23:54:20.658804Z"
    },
    "papermill": {
     "duration": 0.282667,
     "end_time": "2025-01-20T23:54:20.661871",
     "exception": false,
     "start_time": "2025-01-20T23:54:20.379204",
     "status": "completed"
    },
    "tags": []
   },
   "outputs": [
    {
     "data": {
      "image/png": "[encoded data removed]",
      "text/plain": [
       "<Figure size 640x480 with 1 Axes>"
      ]
     },
     "metadata": {},
     "output_type": "display_data"
    }
   ],
   "source": [
    "plt.plot(train_results['Actuals'][1:50], label='Actual')\n",
    "plt.plot(train_results['Train Predictions'][1:50], label='Predicted')\n",
    "plt.legend()\n",
    "plt.show()"
   ]
  },
  {
   "cell_type": "code",
   "execution_count": 42,
   "id": "9dc43eca",
   "metadata": {
    "execution": {
     "iopub.execute_input": "2025-01-20T23:54:20.782539Z",
     "iopub.status.busy": "2025-01-20T23:54:20.782173Z",
     "iopub.status.idle": "2025-01-20T23:54:20.893159Z",
     "shell.execute_reply": "2025-01-20T23:54:20.892156Z"
    },
    "papermill": {
     "duration": 0.173015,
     "end_time": "2025-01-20T23:54:20.894668",
     "exception": false,
     "start_time": "2025-01-20T23:54:20.721653",
     "status": "completed"
    },
    "tags": []
   },
   "outputs": [
    {
     "name": "stdout",
     "output_type": "stream",
     "text": [
      "\u001b[1m20/20\u001b[0m \u001b[32m━━━━━━━━━━━━━━━━━━━━\u001b[0m\u001b[37m\u001b[0m \u001b[1m0s\u001b[0m 2ms/step \n"
     ]
    },
    {
     "data": {
      "text/html": [
       "<div>\n",
       "<style scoped>\n",
       "    .dataframe tbody tr th:only-of-type {\n",
       "        vertical-align: middle;\n",
       "    }\n",
       "\n",
       "    .dataframe tbody tr th {\n",
       "        vertical-align: top;\n",
       "    }\n",
       "\n",
       "    .dataframe thead th {\n",
       "        text-align: right;\n",
       "    }\n",
       "</style>\n",
       "<table border=\"1\" class=\"dataframe\">\n",
       "  <thead>\n",
       "    <tr style=\"text-align: right;\">\n",
       "      <th></th>\n",
       "      <th>Train Predictions</th>\n",
       "      <th>Actuals</th>\n",
       "    </tr>\n",
       "  </thead>\n",
       "  <tbody>\n",
       "    <tr>\n",
       "      <th>0</th>\n",
       "      <td>203.885941</td>\n",
       "      <td>198.333333</td>\n",
       "    </tr>\n",
       "    <tr>\n",
       "      <th>1</th>\n",
       "      <td>195.009048</td>\n",
       "      <td>194.000000</td>\n",
       "    </tr>\n",
       "    <tr>\n",
       "      <th>2</th>\n",
       "      <td>192.006622</td>\n",
       "      <td>192.333333</td>\n",
       "    </tr>\n",
       "    <tr>\n",
       "      <th>3</th>\n",
       "      <td>191.982193</td>\n",
       "      <td>189.166667</td>\n",
       "    </tr>\n",
       "    <tr>\n",
       "      <th>4</th>\n",
       "      <td>187.556763</td>\n",
       "      <td>187.166667</td>\n",
       "    </tr>\n",
       "    <tr>\n",
       "      <th>...</th>\n",
       "      <td>...</td>\n",
       "      <td>...</td>\n",
       "    </tr>\n",
       "    <tr>\n",
       "      <th>628</th>\n",
       "      <td>211.358261</td>\n",
       "      <td>211.666667</td>\n",
       "    </tr>\n",
       "    <tr>\n",
       "      <th>629</th>\n",
       "      <td>212.573914</td>\n",
       "      <td>207.000000</td>\n",
       "    </tr>\n",
       "    <tr>\n",
       "      <th>630</th>\n",
       "      <td>204.336349</td>\n",
       "      <td>190.833333</td>\n",
       "    </tr>\n",
       "    <tr>\n",
       "      <th>631</th>\n",
       "      <td>182.049362</td>\n",
       "      <td>190.833333</td>\n",
       "    </tr>\n",
       "    <tr>\n",
       "      <th>632</th>\n",
       "      <td>192.806564</td>\n",
       "      <td>188.500000</td>\n",
       "    </tr>\n",
       "  </tbody>\n",
       "</table>\n",
       "<p>633 rows × 2 columns</p>\n",
       "</div>"
      ],
      "text/plain": [
       "     Train Predictions     Actuals\n",
       "0           203.885941  198.333333\n",
       "1           195.009048  194.000000\n",
       "2           192.006622  192.333333\n",
       "3           191.982193  189.166667\n",
       "4           187.556763  187.166667\n",
       "..                 ...         ...\n",
       "628         211.358261  211.666667\n",
       "629         212.573914  207.000000\n",
       "630         204.336349  190.833333\n",
       "631         182.049362  190.833333\n",
       "632         192.806564  188.500000\n",
       "\n",
       "[633 rows x 2 columns]"
      ]
     },
     "execution_count": 42,
     "metadata": {},
     "output_type": "execute_result"
    }
   ],
   "source": [
    "val_predictions = model1.predict(X_val1).flatten()\n",
    "val_results = pd.DataFrame(data={'Train Predictions':val_predictions, 'Actuals':y_val1})\n",
    "val_results"
   ]
  },
  {
   "cell_type": "code",
   "execution_count": 43,
   "id": "11e86f93",
   "metadata": {
    "execution": {
     "iopub.execute_input": "2025-01-20T23:54:21.012560Z",
     "iopub.status.busy": "2025-01-20T23:54:21.012151Z",
     "iopub.status.idle": "2025-01-20T23:54:21.230495Z",
     "shell.execute_reply": "2025-01-20T23:54:21.229435Z"
    },
    "papermill": {
     "duration": 0.279124,
     "end_time": "2025-01-20T23:54:21.232216",
     "exception": false,
     "start_time": "2025-01-20T23:54:20.953092",
     "status": "completed"
    },
    "tags": []
   },
   "outputs": [
    {
     "data": {
      "image/png": "[encoded data removed]",
      "text/plain": [
       "<Figure size 640x480 with 1 Axes>"
      ]
     },
     "metadata": {},
     "output_type": "display_data"
    }
   ],
   "source": [
    "plt.plot(val_results['Actuals'][1:50], label='Actual')\n",
    "plt.plot(val_results['Train Predictions'][1:50], label='Predicted')\n",
    "plt.legend()\n",
    "plt.show()"
   ]
  },
  {
   "cell_type": "code",
   "execution_count": 44,
   "id": "2fed4a2f",
   "metadata": {
    "execution": {
     "iopub.execute_input": "2025-01-20T23:54:21.355826Z",
     "iopub.status.busy": "2025-01-20T23:54:21.355419Z",
     "iopub.status.idle": "2025-01-20T23:54:21.451094Z",
     "shell.execute_reply": "2025-01-20T23:54:21.449977Z"
    },
    "papermill": {
     "duration": 0.159968,
     "end_time": "2025-01-20T23:54:21.452906",
     "exception": false,
     "start_time": "2025-01-20T23:54:21.292938",
     "status": "completed"
    },
    "tags": []
   },
   "outputs": [
    {
     "name": "stdout",
     "output_type": "stream",
     "text": [
      "\u001b[1m10/10\u001b[0m \u001b[32m━━━━━━━━━━━━━━━━━━━━\u001b[0m\u001b[37m\u001b[0m \u001b[1m0s\u001b[0m 2ms/step \n"
     ]
    },
    {
     "data": {
      "text/html": [
       "<div>\n",
       "<style scoped>\n",
       "    .dataframe tbody tr th:only-of-type {\n",
       "        vertical-align: middle;\n",
       "    }\n",
       "\n",
       "    .dataframe tbody tr th {\n",
       "        vertical-align: top;\n",
       "    }\n",
       "\n",
       "    .dataframe thead th {\n",
       "        text-align: right;\n",
       "    }\n",
       "</style>\n",
       "<table border=\"1\" class=\"dataframe\">\n",
       "  <thead>\n",
       "    <tr style=\"text-align: right;\">\n",
       "      <th></th>\n",
       "      <th>Train Predictions</th>\n",
       "      <th>Actuals</th>\n",
       "    </tr>\n",
       "  </thead>\n",
       "  <tbody>\n",
       "    <tr>\n",
       "      <th>0</th>\n",
       "      <td>188.992844</td>\n",
       "      <td>187.166667</td>\n",
       "    </tr>\n",
       "    <tr>\n",
       "      <th>1</th>\n",
       "      <td>186.478333</td>\n",
       "      <td>183.833333</td>\n",
       "    </tr>\n",
       "    <tr>\n",
       "      <th>2</th>\n",
       "      <td>182.261765</td>\n",
       "      <td>184.833333</td>\n",
       "    </tr>\n",
       "    <tr>\n",
       "      <th>3</th>\n",
       "      <td>186.307800</td>\n",
       "      <td>187.500000</td>\n",
       "    </tr>\n",
       "    <tr>\n",
       "      <th>4</th>\n",
       "      <td>189.790710</td>\n",
       "      <td>192.500000</td>\n",
       "    </tr>\n",
       "    <tr>\n",
       "      <th>...</th>\n",
       "      <td>...</td>\n",
       "      <td>...</td>\n",
       "    </tr>\n",
       "    <tr>\n",
       "      <th>310</th>\n",
       "      <td>144.312027</td>\n",
       "      <td>149.166667</td>\n",
       "    </tr>\n",
       "    <tr>\n",
       "      <th>311</th>\n",
       "      <td>153.146057</td>\n",
       "      <td>149.833333</td>\n",
       "    </tr>\n",
       "    <tr>\n",
       "      <th>312</th>\n",
       "      <td>149.556534</td>\n",
       "      <td>149.666667</td>\n",
       "    </tr>\n",
       "    <tr>\n",
       "      <th>313</th>\n",
       "      <td>149.157639</td>\n",
       "      <td>149.666667</td>\n",
       "    </tr>\n",
       "    <tr>\n",
       "      <th>314</th>\n",
       "      <td>149.435806</td>\n",
       "      <td>149.666667</td>\n",
       "    </tr>\n",
       "  </tbody>\n",
       "</table>\n",
       "<p>315 rows × 2 columns</p>\n",
       "</div>"
      ],
      "text/plain": [
       "     Train Predictions     Actuals\n",
       "0           188.992844  187.166667\n",
       "1           186.478333  183.833333\n",
       "2           182.261765  184.833333\n",
       "3           186.307800  187.500000\n",
       "4           189.790710  192.500000\n",
       "..                 ...         ...\n",
       "310         144.312027  149.166667\n",
       "311         153.146057  149.833333\n",
       "312         149.556534  149.666667\n",
       "313         149.157639  149.666667\n",
       "314         149.435806  149.666667\n",
       "\n",
       "[315 rows x 2 columns]"
      ]
     },
     "execution_count": 44,
     "metadata": {},
     "output_type": "execute_result"
    }
   ],
   "source": [
    "test_predictions = model1.predict(X_test1).flatten()\n",
    "test_results = pd.DataFrame(data={'Train Predictions':test_predictions, 'Actuals':y_test1})\n",
    "test_results"
   ]
  },
  {
   "cell_type": "code",
   "execution_count": 45,
   "id": "4b83ebbd",
   "metadata": {
    "execution": {
     "iopub.execute_input": "2025-01-20T23:54:21.576544Z",
     "iopub.status.busy": "2025-01-20T23:54:21.576147Z",
     "iopub.status.idle": "2025-01-20T23:54:21.801822Z",
     "shell.execute_reply": "2025-01-20T23:54:21.800812Z"
    },
    "papermill": {
     "duration": 0.289124,
     "end_time": "2025-01-20T23:54:21.803424",
     "exception": false,
     "start_time": "2025-01-20T23:54:21.514300",
     "status": "completed"
    },
    "tags": []
   },
   "outputs": [
    {
     "data": {
      "image/png": "[encoded data removed]",
      "text/plain": [
       "<Figure size 640x480 with 1 Axes>"
      ]
     },
     "metadata": {},
     "output_type": "display_data"
    }
   ],
   "source": [
    "plt.plot(test_results['Train Predictions'][1:50], label='Predicted')\n",
    "plt.plot(test_results['Actuals'][1:50], label='Actual')\n",
    "plt.legend()\n",
    "plt.show()"
   ]
  },
  {
   "cell_type": "markdown",
   "id": "3d36eb9c",
   "metadata": {
    "papermill": {
     "duration": 0.060456,
     "end_time": "2025-01-20T23:54:21.926608",
     "exception": false,
     "start_time": "2025-01-20T23:54:21.866152",
     "status": "completed"
    },
    "tags": []
   },
   "source": [
    "# GRU(Smooth)"
   ]
  },
  {
   "cell_type": "code",
   "execution_count": 46,
   "id": "28f51b9b",
   "metadata": {
    "execution": {
     "iopub.execute_input": "2025-01-20T23:54:22.048767Z",
     "iopub.status.busy": "2025-01-20T23:54:22.048374Z",
     "iopub.status.idle": "2025-01-20T23:54:22.100050Z",
     "shell.execute_reply": "2025-01-20T23:54:22.099066Z"
    },
    "papermill": {
     "duration": 0.115078,
     "end_time": "2025-01-20T23:54:22.101711",
     "exception": false,
     "start_time": "2025-01-20T23:54:21.986633",
     "status": "completed"
    },
    "tags": []
   },
   "outputs": [
    {
     "data": {
      "text/html": [
       "<pre style=\"white-space:pre;overflow-x:auto;line-height:normal;font-family:Menlo,'DejaVu Sans Mono',consolas,'Courier New',monospace\"><span style=\"font-weight: bold\">Model: \"sequential_1\"</span>\n",
       "</pre>\n"
      ],
      "text/plain": [
       "\u001b[1mModel: \"sequential_1\"\u001b[0m\n"
      ]
     },
     "metadata": {},
     "output_type": "display_data"
    },
    {
     "data": {
      "text/html": [
       "<pre style=\"white-space:pre;overflow-x:auto;line-height:normal;font-family:Menlo,'DejaVu Sans Mono',consolas,'Courier New',monospace\">┏━━━━━━━━━━━━━━━━━━━━━━━━━━━━━━━━━━━━━━┳━━━━━━━━━━━━━━━━━━━━━━━━━━━━━┳━━━━━━━━━━━━━━━━━┓\n",
       "┃<span style=\"font-weight: bold\"> Layer (type)                         </span>┃<span style=\"font-weight: bold\"> Output Shape                </span>┃<span style=\"font-weight: bold\">         Param # </span>┃\n",
       "┡━━━━━━━━━━━━━━━━━━━━━━━━━━━━━━━━━━━━━━╇━━━━━━━━━━━━━━━━━━━━━━━━━━━━━╇━━━━━━━━━━━━━━━━━┩\n",
       "│ gru (<span style=\"color: #0087ff; text-decoration-color: #0087ff\">GRU</span>)                            │ (<span style=\"color: #00d7ff; text-decoration-color: #00d7ff\">None</span>, <span style=\"color: #00af00; text-decoration-color: #00af00\">32</span>)                  │           <span style=\"color: #00af00; text-decoration-color: #00af00\">3,360</span> │\n",
       "├──────────────────────────────────────┼─────────────────────────────┼─────────────────┤\n",
       "│ dense_2 (<span style=\"color: #0087ff; text-decoration-color: #0087ff\">Dense</span>)                      │ (<span style=\"color: #00d7ff; text-decoration-color: #00d7ff\">None</span>, <span style=\"color: #00af00; text-decoration-color: #00af00\">8</span>)                   │             <span style=\"color: #00af00; text-decoration-color: #00af00\">264</span> │\n",
       "├──────────────────────────────────────┼─────────────────────────────┼─────────────────┤\n",
       "│ dense_3 (<span style=\"color: #0087ff; text-decoration-color: #0087ff\">Dense</span>)                      │ (<span style=\"color: #00d7ff; text-decoration-color: #00d7ff\">None</span>, <span style=\"color: #00af00; text-decoration-color: #00af00\">1</span>)                   │               <span style=\"color: #00af00; text-decoration-color: #00af00\">9</span> │\n",
       "└──────────────────────────────────────┴─────────────────────────────┴─────────────────┘\n",
       "</pre>\n"
      ],
      "text/plain": [
       "┏━━━━━━━━━━━━━━━━━━━━━━━━━━━━━━━━━━━━━━┳━━━━━━━━━━━━━━━━━━━━━━━━━━━━━┳━━━━━━━━━━━━━━━━━┓\n",
       "┃\u001b[1m \u001b[0m\u001b[1mLayer (type)                        \u001b[0m\u001b[1m \u001b[0m┃\u001b[1m \u001b[0m\u001b[1mOutput Shape               \u001b[0m\u001b[1m \u001b[0m┃\u001b[1m \u001b[0m\u001b[1m        Param #\u001b[0m\u001b[1m \u001b[0m┃\n",
       "┡━━━━━━━━━━━━━━━━━━━━━━━━━━━━━━━━━━━━━━╇━━━━━━━━━━━━━━━━━━━━━━━━━━━━━╇━━━━━━━━━━━━━━━━━┩\n",
       "│ gru (\u001b[38;5;33mGRU\u001b[0m)                            │ (\u001b[38;5;45mNone\u001b[0m, \u001b[38;5;34m32\u001b[0m)                  │           \u001b[38;5;34m3,360\u001b[0m │\n",
       "├──────────────────────────────────────┼─────────────────────────────┼─────────────────┤\n",
       "│ dense_2 (\u001b[38;5;33mDense\u001b[0m)                      │ (\u001b[38;5;45mNone\u001b[0m, \u001b[38;5;34m8\u001b[0m)                   │             \u001b[38;5;34m264\u001b[0m │\n",
       "├──────────────────────────────────────┼─────────────────────────────┼─────────────────┤\n",
       "│ dense_3 (\u001b[38;5;33mDense\u001b[0m)                      │ (\u001b[38;5;45mNone\u001b[0m, \u001b[38;5;34m1\u001b[0m)                   │               \u001b[38;5;34m9\u001b[0m │\n",
       "└──────────────────────────────────────┴─────────────────────────────┴─────────────────┘\n"
      ]
     },
     "metadata": {},
     "output_type": "display_data"
    },
    {
     "data": {
      "text/html": [
       "<pre style=\"white-space:pre;overflow-x:auto;line-height:normal;font-family:Menlo,'DejaVu Sans Mono',consolas,'Courier New',monospace\"><span style=\"font-weight: bold\"> Total params: </span><span style=\"color: #00af00; text-decoration-color: #00af00\">3,633</span> (14.19 KB)\n",
       "</pre>\n"
      ],
      "text/plain": [
       "\u001b[1m Total params: \u001b[0m\u001b[38;5;34m3,633\u001b[0m (14.19 KB)\n"
      ]
     },
     "metadata": {},
     "output_type": "display_data"
    },
    {
     "data": {
      "text/html": [
       "<pre style=\"white-space:pre;overflow-x:auto;line-height:normal;font-family:Menlo,'DejaVu Sans Mono',consolas,'Courier New',monospace\"><span style=\"font-weight: bold\"> Trainable params: </span><span style=\"color: #00af00; text-decoration-color: #00af00\">3,633</span> (14.19 KB)\n",
       "</pre>\n"
      ],
      "text/plain": [
       "\u001b[1m Trainable params: \u001b[0m\u001b[38;5;34m3,633\u001b[0m (14.19 KB)\n"
      ]
     },
     "metadata": {},
     "output_type": "display_data"
    },
    {
     "data": {
      "text/html": [
       "<pre style=\"white-space:pre;overflow-x:auto;line-height:normal;font-family:Menlo,'DejaVu Sans Mono',consolas,'Courier New',monospace\"><span style=\"font-weight: bold\"> Non-trainable params: </span><span style=\"color: #00af00; text-decoration-color: #00af00\">0</span> (0.00 B)\n",
       "</pre>\n"
      ],
      "text/plain": [
       "\u001b[1m Non-trainable params: \u001b[0m\u001b[38;5;34m0\u001b[0m (0.00 B)\n"
      ]
     },
     "metadata": {},
     "output_type": "display_data"
    }
   ],
   "source": [
    "model2 = Sequential()\n",
    "model2.add(InputLayer((6, 1)))\n",
    "model2.add(GRU(32))\n",
    "model2.add(Dense(8, 'relu'))\n",
    "model2.add(Dense(1, 'linear'))\n",
    "model2.summary()"
   ]
  },
  {
   "cell_type": "code",
   "execution_count": 47,
   "id": "95a71489",
   "metadata": {
    "_kg_hide-output": true,
    "execution": {
     "iopub.execute_input": "2025-01-20T23:54:22.225947Z",
     "iopub.status.busy": "2025-01-20T23:54:22.225597Z",
     "iopub.status.idle": "2025-01-20T23:54:22.235396Z",
     "shell.execute_reply": "2025-01-20T23:54:22.234423Z"
    },
    "papermill": {
     "duration": 0.072899,
     "end_time": "2025-01-20T23:54:22.236936",
     "exception": false,
     "start_time": "2025-01-20T23:54:22.164037",
     "status": "completed"
    },
    "tags": []
   },
   "outputs": [],
   "source": [
    "cp2 = ModelCheckpoint('/kaggle/working/model2.keras', save_best_only=True)\n",
    "model2.compile(loss=MeanSquaredError(), optimizer=Adam(learning_rate=0.0005), \n",
    "               metrics=[RootMeanSquaredError()])"
   ]
  },
  {
   "cell_type": "code",
   "execution_count": 48,
   "id": "c875ff93",
   "metadata": {
    "execution": {
     "iopub.execute_input": "2025-01-20T23:54:22.362689Z",
     "iopub.status.busy": "2025-01-20T23:54:22.362301Z",
     "iopub.status.idle": "2025-01-20T23:54:56.346249Z",
     "shell.execute_reply": "2025-01-20T23:54:56.345334Z"
    },
    "papermill": {
     "duration": 34.048187,
     "end_time": "2025-01-20T23:54:56.347914",
     "exception": false,
     "start_time": "2025-01-20T23:54:22.299727",
     "status": "completed"
    },
    "tags": []
   },
   "outputs": [
    {
     "name": "stdout",
     "output_type": "stream",
     "text": [
      "Epoch 1/100\n",
      "\u001b[1m70/70\u001b[0m \u001b[32m━━━━━━━━━━━━━━━━━━━━\u001b[0m\u001b[37m\u001b[0m \u001b[1m3s\u001b[0m 8ms/step - loss: 28861.1387 - root_mean_squared_error: 169.8785 - val_loss: 32406.9863 - val_root_mean_squared_error: 180.0194\n",
      "Epoch 2/100\n",
      "\u001b[1m70/70\u001b[0m \u001b[32m━━━━━━━━━━━━━━━━━━━━\u001b[0m\u001b[37m\u001b[0m \u001b[1m0s\u001b[0m 4ms/step - loss: 28463.5820 - root_mean_squared_error: 168.6959 - val_loss: 31704.2969 - val_root_mean_squared_error: 178.0570\n",
      "Epoch 3/100\n",
      "\u001b[1m70/70\u001b[0m \u001b[32m━━━━━━━━━━━━━━━━━━━━\u001b[0m\u001b[37m\u001b[0m \u001b[1m0s\u001b[0m 4ms/step - loss: 26833.4219 - root_mean_squared_error: 163.7789 - val_loss: 30341.2832 - val_root_mean_squared_error: 174.1875\n",
      "Epoch 4/100\n",
      "\u001b[1m70/70\u001b[0m \u001b[32m━━━━━━━━━━━━━━━━━━━━\u001b[0m\u001b[37m\u001b[0m \u001b[1m0s\u001b[0m 4ms/step - loss: 26048.5586 - root_mean_squared_error: 161.3768 - val_loss: 29303.3867 - val_root_mean_squared_error: 171.1823\n",
      "Epoch 5/100\n",
      "\u001b[1m70/70\u001b[0m \u001b[32m━━━━━━━━━━━━━━━━━━━━\u001b[0m\u001b[37m\u001b[0m \u001b[1m0s\u001b[0m 4ms/step - loss: 24749.7344 - root_mean_squared_error: 157.3131 - val_loss: 27749.5488 - val_root_mean_squared_error: 166.5820\n",
      "Epoch 6/100\n",
      "\u001b[1m70/70\u001b[0m \u001b[32m━━━━━━━━━━━━━━━━━━━━\u001b[0m\u001b[37m\u001b[0m \u001b[1m0s\u001b[0m 4ms/step - loss: 23868.8789 - root_mean_squared_error: 154.4698 - val_loss: 26173.5469 - val_root_mean_squared_error: 161.7824\n",
      "Epoch 7/100\n",
      "\u001b[1m70/70\u001b[0m \u001b[32m━━━━━━━━━━━━━━━━━━━━\u001b[0m\u001b[37m\u001b[0m \u001b[1m0s\u001b[0m 4ms/step - loss: 22104.2363 - root_mean_squared_error: 148.6639 - val_loss: 24360.1445 - val_root_mean_squared_error: 156.0774\n",
      "Epoch 8/100\n",
      "\u001b[1m70/70\u001b[0m \u001b[32m━━━━━━━━━━━━━━━━━━━━\u001b[0m\u001b[37m\u001b[0m \u001b[1m0s\u001b[0m 4ms/step - loss: 20052.4590 - root_mean_squared_error: 141.6032 - val_loss: 22720.5996 - val_root_mean_squared_error: 150.7335\n",
      "Epoch 9/100\n",
      "\u001b[1m70/70\u001b[0m \u001b[32m━━━━━━━━━━━━━━━━━━━━\u001b[0m\u001b[37m\u001b[0m \u001b[1m0s\u001b[0m 4ms/step - loss: 17993.4355 - root_mean_squared_error: 134.1342 - val_loss: 20851.0703 - val_root_mean_squared_error: 144.3990\n",
      "Epoch 10/100\n",
      "\u001b[1m70/70\u001b[0m \u001b[32m━━━━━━━━━━━━━━━━━━━━\u001b[0m\u001b[37m\u001b[0m \u001b[1m0s\u001b[0m 4ms/step - loss: 16602.4844 - root_mean_squared_error: 128.8454 - val_loss: 19167.1152 - val_root_mean_squared_error: 138.4454\n",
      "Epoch 11/100\n",
      "\u001b[1m70/70\u001b[0m \u001b[32m━━━━━━━━━━━━━━━━━━━━\u001b[0m\u001b[37m\u001b[0m \u001b[1m0s\u001b[0m 4ms/step - loss: 15434.3252 - root_mean_squared_error: 124.1942 - val_loss: 17551.5332 - val_root_mean_squared_error: 132.4822\n",
      "Epoch 12/100\n",
      "\u001b[1m70/70\u001b[0m \u001b[32m━━━━━━━━━━━━━━━━━━━━\u001b[0m\u001b[37m\u001b[0m \u001b[1m0s\u001b[0m 4ms/step - loss: 13576.2236 - root_mean_squared_error: 116.4950 - val_loss: 16009.5225 - val_root_mean_squared_error: 126.5287\n",
      "Epoch 13/100\n",
      "\u001b[1m70/70\u001b[0m \u001b[32m━━━━━━━━━━━━━━━━━━━━\u001b[0m\u001b[37m\u001b[0m \u001b[1m0s\u001b[0m 4ms/step - loss: 12356.8271 - root_mean_squared_error: 111.1461 - val_loss: 14565.8184 - val_root_mean_squared_error: 120.6889\n",
      "Epoch 14/100\n",
      "\u001b[1m70/70\u001b[0m \u001b[32m━━━━━━━━━━━━━━━━━━━━\u001b[0m\u001b[37m\u001b[0m \u001b[1m0s\u001b[0m 4ms/step - loss: 10643.5928 - root_mean_squared_error: 103.1575 - val_loss: 13225.8916 - val_root_mean_squared_error: 115.0039\n",
      "Epoch 15/100\n",
      "\u001b[1m70/70\u001b[0m \u001b[32m━━━━━━━━━━━━━━━━━━━━\u001b[0m\u001b[37m\u001b[0m \u001b[1m0s\u001b[0m 4ms/step - loss: 9753.5479 - root_mean_squared_error: 98.7225 - val_loss: 11993.5166 - val_root_mean_squared_error: 109.5149\n",
      "Epoch 16/100\n",
      "\u001b[1m70/70\u001b[0m \u001b[32m━━━━━━━━━━━━━━━━━━━━\u001b[0m\u001b[37m\u001b[0m \u001b[1m0s\u001b[0m 4ms/step - loss: 8804.3857 - root_mean_squared_error: 93.7750 - val_loss: 10889.5859 - val_root_mean_squared_error: 104.3532\n",
      "Epoch 17/100\n",
      "\u001b[1m70/70\u001b[0m \u001b[32m━━━━━━━━━━━━━━━━━━━━\u001b[0m\u001b[37m\u001b[0m \u001b[1m0s\u001b[0m 4ms/step - loss: 7292.3076 - root_mean_squared_error: 85.3863 - val_loss: 9853.8066 - val_root_mean_squared_error: 99.2663\n",
      "Epoch 18/100\n",
      "\u001b[1m70/70\u001b[0m \u001b[32m━━━━━━━━━━━━━━━━━━━━\u001b[0m\u001b[37m\u001b[0m \u001b[1m0s\u001b[0m 4ms/step - loss: 7143.7798 - root_mean_squared_error: 84.4268 - val_loss: 8910.5146 - val_root_mean_squared_error: 94.3955\n",
      "Epoch 19/100\n",
      "\u001b[1m70/70\u001b[0m \u001b[32m━━━━━━━━━━━━━━━━━━━━\u001b[0m\u001b[37m\u001b[0m \u001b[1m0s\u001b[0m 4ms/step - loss: 5732.3491 - root_mean_squared_error: 75.6946 - val_loss: 8068.8618 - val_root_mean_squared_error: 89.8268\n",
      "Epoch 20/100\n",
      "\u001b[1m70/70\u001b[0m \u001b[32m━━━━━━━━━━━━━━━━━━━━\u001b[0m\u001b[37m\u001b[0m \u001b[1m0s\u001b[0m 4ms/step - loss: 5006.9009 - root_mean_squared_error: 70.7418 - val_loss: 7302.7749 - val_root_mean_squared_error: 85.4563\n",
      "Epoch 21/100\n",
      "\u001b[1m70/70\u001b[0m \u001b[32m━━━━━━━━━━━━━━━━━━━━\u001b[0m\u001b[37m\u001b[0m \u001b[1m0s\u001b[0m 4ms/step - loss: 4467.2959 - root_mean_squared_error: 66.7993 - val_loss: 6614.9785 - val_root_mean_squared_error: 81.3325\n",
      "Epoch 22/100\n",
      "\u001b[1m70/70\u001b[0m \u001b[32m━━━━━━━━━━━━━━━━━━━━\u001b[0m\u001b[37m\u001b[0m \u001b[1m0s\u001b[0m 4ms/step - loss: 3824.6721 - root_mean_squared_error: 61.8229 - val_loss: 6016.6187 - val_root_mean_squared_error: 77.5669\n",
      "Epoch 23/100\n",
      "\u001b[1m70/70\u001b[0m \u001b[32m━━━━━━━━━━━━━━━━━━━━\u001b[0m\u001b[37m\u001b[0m \u001b[1m0s\u001b[0m 4ms/step - loss: 3170.1245 - root_mean_squared_error: 56.2268 - val_loss: 5478.4434 - val_root_mean_squared_error: 74.0165\n",
      "Epoch 24/100\n",
      "\u001b[1m70/70\u001b[0m \u001b[32m━━━━━━━━━━━━━━━━━━━━\u001b[0m\u001b[37m\u001b[0m \u001b[1m0s\u001b[0m 4ms/step - loss: 2791.1753 - root_mean_squared_error: 52.8009 - val_loss: 5014.4971 - val_root_mean_squared_error: 70.8131\n",
      "Epoch 25/100\n",
      "\u001b[1m70/70\u001b[0m \u001b[32m━━━━━━━━━━━━━━━━━━━━\u001b[0m\u001b[37m\u001b[0m \u001b[1m0s\u001b[0m 4ms/step - loss: 2841.1245 - root_mean_squared_error: 53.2190 - val_loss: 4585.6724 - val_root_mean_squared_error: 67.7176\n",
      "Epoch 26/100\n",
      "\u001b[1m70/70\u001b[0m \u001b[32m━━━━━━━━━━━━━━━━━━━━\u001b[0m\u001b[37m\u001b[0m \u001b[1m0s\u001b[0m 4ms/step - loss: 2483.8633 - root_mean_squared_error: 49.7813 - val_loss: 4226.0142 - val_root_mean_squared_error: 65.0078\n",
      "Epoch 27/100\n",
      "\u001b[1m70/70\u001b[0m \u001b[32m━━━━━━━━━━━━━━━━━━━━\u001b[0m\u001b[37m\u001b[0m \u001b[1m0s\u001b[0m 4ms/step - loss: 2119.7686 - root_mean_squared_error: 46.0201 - val_loss: 3892.9150 - val_root_mean_squared_error: 62.3932\n",
      "Epoch 28/100\n",
      "\u001b[1m70/70\u001b[0m \u001b[32m━━━━━━━━━━━━━━━━━━━━\u001b[0m\u001b[37m\u001b[0m \u001b[1m0s\u001b[0m 4ms/step - loss: 1638.9436 - root_mean_squared_error: 40.4395 - val_loss: 3605.9431 - val_root_mean_squared_error: 60.0495\n",
      "Epoch 29/100\n",
      "\u001b[1m70/70\u001b[0m \u001b[32m━━━━━━━━━━━━━━━━━━━━\u001b[0m\u001b[37m\u001b[0m \u001b[1m0s\u001b[0m 4ms/step - loss: 1860.8657 - root_mean_squared_error: 43.0554 - val_loss: 3329.8191 - val_root_mean_squared_error: 57.7046\n",
      "Epoch 30/100\n",
      "\u001b[1m70/70\u001b[0m \u001b[32m━━━━━━━━━━━━━━━━━━━━\u001b[0m\u001b[37m\u001b[0m \u001b[1m0s\u001b[0m 4ms/step - loss: 1456.0858 - root_mean_squared_error: 38.1164 - val_loss: 3095.1265 - val_root_mean_squared_error: 55.6339\n",
      "Epoch 31/100\n",
      "\u001b[1m70/70\u001b[0m \u001b[32m━━━━━━━━━━━━━━━━━━━━\u001b[0m\u001b[37m\u001b[0m \u001b[1m0s\u001b[0m 4ms/step - loss: 1393.5903 - root_mean_squared_error: 37.2963 - val_loss: 2874.6633 - val_root_mean_squared_error: 53.6159\n",
      "Epoch 32/100\n",
      "\u001b[1m70/70\u001b[0m \u001b[32m━━━━━━━━━━━━━━━━━━━━\u001b[0m\u001b[37m\u001b[0m \u001b[1m0s\u001b[0m 4ms/step - loss: 1563.7375 - root_mean_squared_error: 39.3062 - val_loss: 2672.7693 - val_root_mean_squared_error: 51.6988\n",
      "Epoch 33/100\n",
      "\u001b[1m70/70\u001b[0m \u001b[32m━━━━━━━━━━━━━━━━━━━━\u001b[0m\u001b[37m\u001b[0m \u001b[1m0s\u001b[0m 4ms/step - loss: 1045.9091 - root_mean_squared_error: 32.1902 - val_loss: 2493.7151 - val_root_mean_squared_error: 49.9371\n",
      "Epoch 34/100\n",
      "\u001b[1m70/70\u001b[0m \u001b[32m━━━━━━━━━━━━━━━━━━━━\u001b[0m\u001b[37m\u001b[0m \u001b[1m0s\u001b[0m 4ms/step - loss: 1129.8683 - root_mean_squared_error: 33.5305 - val_loss: 2323.5408 - val_root_mean_squared_error: 48.2031\n",
      "Epoch 35/100\n",
      "\u001b[1m70/70\u001b[0m \u001b[32m━━━━━━━━━━━━━━━━━━━━\u001b[0m\u001b[37m\u001b[0m \u001b[1m0s\u001b[0m 4ms/step - loss: 930.9734 - root_mean_squared_error: 30.4798 - val_loss: 2165.7883 - val_root_mean_squared_error: 46.5380\n",
      "Epoch 36/100\n",
      "\u001b[1m70/70\u001b[0m \u001b[32m━━━━━━━━━━━━━━━━━━━━\u001b[0m\u001b[37m\u001b[0m \u001b[1m0s\u001b[0m 4ms/step - loss: 847.6912 - root_mean_squared_error: 29.0305 - val_loss: 2019.6687 - val_root_mean_squared_error: 44.9407\n",
      "Epoch 37/100\n",
      "\u001b[1m70/70\u001b[0m \u001b[32m━━━━━━━━━━━━━━━━━━━━\u001b[0m\u001b[37m\u001b[0m \u001b[1m0s\u001b[0m 4ms/step - loss: 957.9827 - root_mean_squared_error: 30.8754 - val_loss: 1874.3293 - val_root_mean_squared_error: 43.2935\n",
      "Epoch 38/100\n",
      "\u001b[1m70/70\u001b[0m \u001b[32m━━━━━━━━━━━━━━━━━━━━\u001b[0m\u001b[37m\u001b[0m \u001b[1m0s\u001b[0m 4ms/step - loss: 822.0726 - root_mean_squared_error: 28.6294 - val_loss: 1745.6816 - val_root_mean_squared_error: 41.7814\n",
      "Epoch 39/100\n",
      "\u001b[1m70/70\u001b[0m \u001b[32m━━━━━━━━━━━━━━━━━━━━\u001b[0m\u001b[37m\u001b[0m \u001b[1m0s\u001b[0m 4ms/step - loss: 821.6976 - root_mean_squared_error: 28.6145 - val_loss: 1619.2471 - val_root_mean_squared_error: 40.2399\n",
      "Epoch 40/100\n",
      "\u001b[1m70/70\u001b[0m \u001b[32m━━━━━━━━━━━━━━━━━━━━\u001b[0m\u001b[37m\u001b[0m \u001b[1m0s\u001b[0m 4ms/step - loss: 725.1428 - root_mean_squared_error: 26.9078 - val_loss: 1503.9890 - val_root_mean_squared_error: 38.7813\n",
      "Epoch 41/100\n",
      "\u001b[1m70/70\u001b[0m \u001b[32m━━━━━━━━━━━━━━━━━━━━\u001b[0m\u001b[37m\u001b[0m \u001b[1m0s\u001b[0m 4ms/step - loss: 585.5953 - root_mean_squared_error: 24.0998 - val_loss: 1401.3142 - val_root_mean_squared_error: 37.4341\n",
      "Epoch 42/100\n",
      "\u001b[1m70/70\u001b[0m \u001b[32m━━━━━━━━━━━━━━━━━━━━\u001b[0m\u001b[37m\u001b[0m \u001b[1m0s\u001b[0m 5ms/step - loss: 575.8220 - root_mean_squared_error: 23.9824 - val_loss: 1296.3741 - val_root_mean_squared_error: 36.0052\n",
      "Epoch 43/100\n",
      "\u001b[1m70/70\u001b[0m \u001b[32m━━━━━━━━━━━━━━━━━━━━\u001b[0m\u001b[37m\u001b[0m \u001b[1m0s\u001b[0m 4ms/step - loss: 491.6010 - root_mean_squared_error: 22.1258 - val_loss: 1200.3840 - val_root_mean_squared_error: 34.6466\n",
      "Epoch 44/100\n",
      "\u001b[1m70/70\u001b[0m \u001b[32m━━━━━━━━━━━━━━━━━━━━\u001b[0m\u001b[37m\u001b[0m \u001b[1m0s\u001b[0m 4ms/step - loss: 535.4241 - root_mean_squared_error: 23.0857 - val_loss: 1109.5530 - val_root_mean_squared_error: 33.3100\n",
      "Epoch 45/100\n",
      "\u001b[1m70/70\u001b[0m \u001b[32m━━━━━━━━━━━━━━━━━━━━\u001b[0m\u001b[37m\u001b[0m \u001b[1m0s\u001b[0m 4ms/step - loss: 550.8736 - root_mean_squared_error: 23.3547 - val_loss: 1024.8800 - val_root_mean_squared_error: 32.0137\n",
      "Epoch 46/100\n",
      "\u001b[1m70/70\u001b[0m \u001b[32m━━━━━━━━━━━━━━━━━━━━\u001b[0m\u001b[37m\u001b[0m \u001b[1m0s\u001b[0m 4ms/step - loss: 449.7563 - root_mean_squared_error: 21.1734 - val_loss: 946.7471 - val_root_mean_squared_error: 30.7693\n",
      "Epoch 47/100\n",
      "\u001b[1m70/70\u001b[0m \u001b[32m━━━━━━━━━━━━━━━━━━━━\u001b[0m\u001b[37m\u001b[0m \u001b[1m0s\u001b[0m 4ms/step - loss: 452.2272 - root_mean_squared_error: 21.2329 - val_loss: 872.0353 - val_root_mean_squared_error: 29.5302\n",
      "Epoch 48/100\n",
      "\u001b[1m70/70\u001b[0m \u001b[32m━━━━━━━━━━━━━━━━━━━━\u001b[0m\u001b[37m\u001b[0m \u001b[1m0s\u001b[0m 4ms/step - loss: 431.5109 - root_mean_squared_error: 20.7265 - val_loss: 809.0195 - val_root_mean_squared_error: 28.4433\n",
      "Epoch 49/100\n",
      "\u001b[1m70/70\u001b[0m \u001b[32m━━━━━━━━━━━━━━━━━━━━\u001b[0m\u001b[37m\u001b[0m \u001b[1m0s\u001b[0m 4ms/step - loss: 448.4914 - root_mean_squared_error: 21.0299 - val_loss: 740.8098 - val_root_mean_squared_error: 27.2178\n",
      "Epoch 50/100\n",
      "\u001b[1m70/70\u001b[0m \u001b[32m━━━━━━━━━━━━━━━━━━━━\u001b[0m\u001b[37m\u001b[0m \u001b[1m0s\u001b[0m 4ms/step - loss: 369.3768 - root_mean_squared_error: 19.1540 - val_loss: 685.8099 - val_root_mean_squared_error: 26.1880\n",
      "Epoch 51/100\n",
      "\u001b[1m70/70\u001b[0m \u001b[32m━━━━━━━━━━━━━━━━━━━━\u001b[0m\u001b[37m\u001b[0m \u001b[1m0s\u001b[0m 4ms/step - loss: 353.0885 - root_mean_squared_error: 18.7734 - val_loss: 620.5933 - val_root_mean_squared_error: 24.9117\n",
      "Epoch 52/100\n",
      "\u001b[1m70/70\u001b[0m \u001b[32m━━━━━━━━━━━━━━━━━━━━\u001b[0m\u001b[37m\u001b[0m \u001b[1m0s\u001b[0m 4ms/step - loss: 335.2003 - root_mean_squared_error: 18.2631 - val_loss: 572.1304 - val_root_mean_squared_error: 23.9192\n",
      "Epoch 53/100\n",
      "\u001b[1m70/70\u001b[0m \u001b[32m━━━━━━━━━━━━━━━━━━━━\u001b[0m\u001b[37m\u001b[0m \u001b[1m0s\u001b[0m 4ms/step - loss: 246.8493 - root_mean_squared_error: 15.6349 - val_loss: 524.4684 - val_root_mean_squared_error: 22.9013\n",
      "Epoch 54/100\n",
      "\u001b[1m70/70\u001b[0m \u001b[32m━━━━━━━━━━━━━━━━━━━━\u001b[0m\u001b[37m\u001b[0m \u001b[1m0s\u001b[0m 4ms/step - loss: 249.3001 - root_mean_squared_error: 15.7256 - val_loss: 477.5277 - val_root_mean_squared_error: 21.8524\n",
      "Epoch 55/100\n",
      "\u001b[1m70/70\u001b[0m \u001b[32m━━━━━━━━━━━━━━━━━━━━\u001b[0m\u001b[37m\u001b[0m \u001b[1m0s\u001b[0m 4ms/step - loss: 243.3786 - root_mean_squared_error: 15.5737 - val_loss: 437.2993 - val_root_mean_squared_error: 20.9117\n",
      "Epoch 56/100\n",
      "\u001b[1m70/70\u001b[0m \u001b[32m━━━━━━━━━━━━━━━━━━━━\u001b[0m\u001b[37m\u001b[0m \u001b[1m0s\u001b[0m 4ms/step - loss: 255.8060 - root_mean_squared_error: 15.9462 - val_loss: 395.7939 - val_root_mean_squared_error: 19.8946\n",
      "Epoch 57/100\n",
      "\u001b[1m70/70\u001b[0m \u001b[32m━━━━━━━━━━━━━━━━━━━━\u001b[0m\u001b[37m\u001b[0m \u001b[1m0s\u001b[0m 4ms/step - loss: 228.6908 - root_mean_squared_error: 15.0712 - val_loss: 365.2640 - val_root_mean_squared_error: 19.1119\n",
      "Epoch 58/100\n",
      "\u001b[1m70/70\u001b[0m \u001b[32m━━━━━━━━━━━━━━━━━━━━\u001b[0m\u001b[37m\u001b[0m \u001b[1m0s\u001b[0m 4ms/step - loss: 252.2926 - root_mean_squared_error: 15.7092 - val_loss: 332.8048 - val_root_mean_squared_error: 18.2429\n",
      "Epoch 59/100\n",
      "\u001b[1m70/70\u001b[0m \u001b[32m━━━━━━━━━━━━━━━━━━━━\u001b[0m\u001b[37m\u001b[0m \u001b[1m0s\u001b[0m 4ms/step - loss: 204.9348 - root_mean_squared_error: 14.2743 - val_loss: 296.9784 - val_root_mean_squared_error: 17.2331\n",
      "Epoch 60/100\n",
      "\u001b[1m70/70\u001b[0m \u001b[32m━━━━━━━━━━━━━━━━━━━━\u001b[0m\u001b[37m\u001b[0m \u001b[1m0s\u001b[0m 4ms/step - loss: 198.0123 - root_mean_squared_error: 14.0415 - val_loss: 276.7462 - val_root_mean_squared_error: 16.6357\n",
      "Epoch 61/100\n",
      "\u001b[1m70/70\u001b[0m \u001b[32m━━━━━━━━━━━━━━━━━━━━\u001b[0m\u001b[37m\u001b[0m \u001b[1m0s\u001b[0m 4ms/step - loss: 181.5808 - root_mean_squared_error: 13.4236 - val_loss: 250.2510 - val_root_mean_squared_error: 15.8193\n",
      "Epoch 62/100\n",
      "\u001b[1m70/70\u001b[0m \u001b[32m━━━━━━━━━━━━━━━━━━━━\u001b[0m\u001b[37m\u001b[0m \u001b[1m0s\u001b[0m 4ms/step - loss: 170.2474 - root_mean_squared_error: 13.0258 - val_loss: 218.4867 - val_root_mean_squared_error: 14.7813\n",
      "Epoch 63/100\n",
      "\u001b[1m70/70\u001b[0m \u001b[32m━━━━━━━━━━━━━━━━━━━━\u001b[0m\u001b[37m\u001b[0m \u001b[1m0s\u001b[0m 4ms/step - loss: 160.8349 - root_mean_squared_error: 12.6586 - val_loss: 201.7609 - val_root_mean_squared_error: 14.2043\n",
      "Epoch 64/100\n",
      "\u001b[1m70/70\u001b[0m \u001b[32m━━━━━━━━━━━━━━━━━━━━\u001b[0m\u001b[37m\u001b[0m \u001b[1m0s\u001b[0m 4ms/step - loss: 172.1172 - root_mean_squared_error: 13.0835 - val_loss: 182.7099 - val_root_mean_squared_error: 13.5170\n",
      "Epoch 65/100\n",
      "\u001b[1m70/70\u001b[0m \u001b[32m━━━━━━━━━━━━━━━━━━━━\u001b[0m\u001b[37m\u001b[0m \u001b[1m0s\u001b[0m 4ms/step - loss: 149.4362 - root_mean_squared_error: 12.2087 - val_loss: 160.9663 - val_root_mean_squared_error: 12.6873\n",
      "Epoch 66/100\n",
      "\u001b[1m70/70\u001b[0m \u001b[32m━━━━━━━━━━━━━━━━━━━━\u001b[0m\u001b[37m\u001b[0m \u001b[1m0s\u001b[0m 4ms/step - loss: 136.1807 - root_mean_squared_error: 11.6373 - val_loss: 148.0600 - val_root_mean_squared_error: 12.1680\n",
      "Epoch 67/100\n",
      "\u001b[1m70/70\u001b[0m \u001b[32m━━━━━━━━━━━━━━━━━━━━\u001b[0m\u001b[37m\u001b[0m \u001b[1m0s\u001b[0m 4ms/step - loss: 141.0029 - root_mean_squared_error: 11.8277 - val_loss: 132.4668 - val_root_mean_squared_error: 11.5094\n",
      "Epoch 68/100\n",
      "\u001b[1m70/70\u001b[0m \u001b[32m━━━━━━━━━━━━━━━━━━━━\u001b[0m\u001b[37m\u001b[0m \u001b[1m0s\u001b[0m 4ms/step - loss: 136.3375 - root_mean_squared_error: 11.6354 - val_loss: 118.6538 - val_root_mean_squared_error: 10.8928\n",
      "Epoch 69/100\n",
      "\u001b[1m70/70\u001b[0m \u001b[32m━━━━━━━━━━━━━━━━━━━━\u001b[0m\u001b[37m\u001b[0m \u001b[1m0s\u001b[0m 4ms/step - loss: 124.3288 - root_mean_squared_error: 11.1311 - val_loss: 134.4443 - val_root_mean_squared_error: 11.5950\n",
      "Epoch 70/100\n",
      "\u001b[1m70/70\u001b[0m \u001b[32m━━━━━━━━━━━━━━━━━━━━\u001b[0m\u001b[37m\u001b[0m \u001b[1m0s\u001b[0m 4ms/step - loss: 145.8515 - root_mean_squared_error: 12.0026 - val_loss: 95.6583 - val_root_mean_squared_error: 9.7805\n",
      "Epoch 71/100\n",
      "\u001b[1m70/70\u001b[0m \u001b[32m━━━━━━━━━━━━━━━━━━━━\u001b[0m\u001b[37m\u001b[0m \u001b[1m0s\u001b[0m 4ms/step - loss: 128.8102 - root_mean_squared_error: 11.2780 - val_loss: 103.3631 - val_root_mean_squared_error: 10.1668\n",
      "Epoch 72/100\n",
      "\u001b[1m70/70\u001b[0m \u001b[32m━━━━━━━━━━━━━━━━━━━━\u001b[0m\u001b[37m\u001b[0m \u001b[1m0s\u001b[0m 4ms/step - loss: 106.2576 - root_mean_squared_error: 10.2795 - val_loss: 85.3976 - val_root_mean_squared_error: 9.2411\n",
      "Epoch 73/100\n",
      "\u001b[1m70/70\u001b[0m \u001b[32m━━━━━━━━━━━━━━━━━━━━\u001b[0m\u001b[37m\u001b[0m \u001b[1m0s\u001b[0m 5ms/step - loss: 118.8092 - root_mean_squared_error: 10.8627 - val_loss: 81.6064 - val_root_mean_squared_error: 9.0336\n",
      "Epoch 74/100\n",
      "\u001b[1m70/70\u001b[0m \u001b[32m━━━━━━━━━━━━━━━━━━━━\u001b[0m\u001b[37m\u001b[0m \u001b[1m0s\u001b[0m 4ms/step - loss: 98.4438 - root_mean_squared_error: 9.8985 - val_loss: 79.1090 - val_root_mean_squared_error: 8.8943\n",
      "Epoch 75/100\n",
      "\u001b[1m70/70\u001b[0m \u001b[32m━━━━━━━━━━━━━━━━━━━━\u001b[0m\u001b[37m\u001b[0m \u001b[1m0s\u001b[0m 5ms/step - loss: 100.4779 - root_mean_squared_error: 10.0105 - val_loss: 77.5579 - val_root_mean_squared_error: 8.8067\n",
      "Epoch 76/100\n",
      "\u001b[1m70/70\u001b[0m \u001b[32m━━━━━━━━━━━━━━━━━━━━\u001b[0m\u001b[37m\u001b[0m \u001b[1m0s\u001b[0m 4ms/step - loss: 105.9062 - root_mean_squared_error: 10.2368 - val_loss: 84.7511 - val_root_mean_squared_error: 9.2060\n",
      "Epoch 77/100\n",
      "\u001b[1m70/70\u001b[0m \u001b[32m━━━━━━━━━━━━━━━━━━━━\u001b[0m\u001b[37m\u001b[0m \u001b[1m0s\u001b[0m 4ms/step - loss: 93.3147 - root_mean_squared_error: 9.6560 - val_loss: 67.6793 - val_root_mean_squared_error: 8.2267\n",
      "Epoch 78/100\n",
      "\u001b[1m70/70\u001b[0m \u001b[32m━━━━━━━━━━━━━━━━━━━━\u001b[0m\u001b[37m\u001b[0m \u001b[1m0s\u001b[0m 4ms/step - loss: 77.4179 - root_mean_squared_error: 8.7751 - val_loss: 67.4632 - val_root_mean_squared_error: 8.2136\n",
      "Epoch 79/100\n",
      "\u001b[1m70/70\u001b[0m \u001b[32m━━━━━━━━━━━━━━━━━━━━\u001b[0m\u001b[37m\u001b[0m \u001b[1m0s\u001b[0m 4ms/step - loss: 76.1748 - root_mean_squared_error: 8.6736 - val_loss: 75.7048 - val_root_mean_squared_error: 8.7008\n",
      "Epoch 80/100\n",
      "\u001b[1m70/70\u001b[0m \u001b[32m━━━━━━━━━━━━━━━━━━━━\u001b[0m\u001b[37m\u001b[0m \u001b[1m0s\u001b[0m 4ms/step - loss: 90.7991 - root_mean_squared_error: 9.5046 - val_loss: 57.4244 - val_root_mean_squared_error: 7.5779\n",
      "Epoch 81/100\n",
      "\u001b[1m70/70\u001b[0m \u001b[32m━━━━━━━━━━━━━━━━━━━━\u001b[0m\u001b[37m\u001b[0m \u001b[1m0s\u001b[0m 4ms/step - loss: 88.8844 - root_mean_squared_error: 9.3983 - val_loss: 72.2335 - val_root_mean_squared_error: 8.4990\n",
      "Epoch 82/100\n",
      "\u001b[1m70/70\u001b[0m \u001b[32m━━━━━━━━━━━━━━━━━━━━\u001b[0m\u001b[37m\u001b[0m \u001b[1m0s\u001b[0m 5ms/step - loss: 76.7813 - root_mean_squared_error: 8.7415 - val_loss: 53.8331 - val_root_mean_squared_error: 7.3371\n",
      "Epoch 83/100\n",
      "\u001b[1m70/70\u001b[0m \u001b[32m━━━━━━━━━━━━━━━━━━━━\u001b[0m\u001b[37m\u001b[0m \u001b[1m0s\u001b[0m 4ms/step - loss: 70.6497 - root_mean_squared_error: 8.3949 - val_loss: 78.9862 - val_root_mean_squared_error: 8.8874\n",
      "Epoch 84/100\n",
      "\u001b[1m70/70\u001b[0m \u001b[32m━━━━━━━━━━━━━━━━━━━━\u001b[0m\u001b[37m\u001b[0m \u001b[1m0s\u001b[0m 4ms/step - loss: 77.2197 - root_mean_squared_error: 8.7733 - val_loss: 63.9493 - val_root_mean_squared_error: 7.9968\n",
      "Epoch 85/100\n",
      "\u001b[1m70/70\u001b[0m \u001b[32m━━━━━━━━━━━━━━━━━━━━\u001b[0m\u001b[37m\u001b[0m \u001b[1m0s\u001b[0m 4ms/step - loss: 78.7351 - root_mean_squared_error: 8.8448 - val_loss: 56.3472 - val_root_mean_squared_error: 7.5065\n",
      "Epoch 86/100\n",
      "\u001b[1m70/70\u001b[0m \u001b[32m━━━━━━━━━━━━━━━━━━━━\u001b[0m\u001b[37m\u001b[0m \u001b[1m0s\u001b[0m 4ms/step - loss: 80.2950 - root_mean_squared_error: 8.9396 - val_loss: 76.1221 - val_root_mean_squared_error: 8.7248\n",
      "Epoch 87/100\n",
      "\u001b[1m70/70\u001b[0m \u001b[32m━━━━━━━━━━━━━━━━━━━━\u001b[0m\u001b[37m\u001b[0m \u001b[1m0s\u001b[0m 4ms/step - loss: 69.9154 - root_mean_squared_error: 8.3545 - val_loss: 52.7234 - val_root_mean_squared_error: 7.2611\n",
      "Epoch 88/100\n",
      "\u001b[1m70/70\u001b[0m \u001b[32m━━━━━━━━━━━━━━━━━━━━\u001b[0m\u001b[37m\u001b[0m \u001b[1m0s\u001b[0m 4ms/step - loss: 72.9775 - root_mean_squared_error: 8.5225 - val_loss: 60.4392 - val_root_mean_squared_error: 7.7743\n",
      "Epoch 89/100\n",
      "\u001b[1m70/70\u001b[0m \u001b[32m━━━━━━━━━━━━━━━━━━━━\u001b[0m\u001b[37m\u001b[0m \u001b[1m0s\u001b[0m 4ms/step - loss: 64.1517 - root_mean_squared_error: 7.9702 - val_loss: 61.8825 - val_root_mean_squared_error: 7.8665\n",
      "Epoch 90/100\n",
      "\u001b[1m70/70\u001b[0m \u001b[32m━━━━━━━━━━━━━━━━━━━━\u001b[0m\u001b[37m\u001b[0m \u001b[1m0s\u001b[0m 4ms/step - loss: 66.6425 - root_mean_squared_error: 8.1563 - val_loss: 53.2265 - val_root_mean_squared_error: 7.2956\n",
      "Epoch 91/100\n",
      "\u001b[1m70/70\u001b[0m \u001b[32m━━━━━━━━━━━━━━━━━━━━\u001b[0m\u001b[37m\u001b[0m \u001b[1m0s\u001b[0m 4ms/step - loss: 66.0353 - root_mean_squared_error: 8.1175 - val_loss: 52.5549 - val_root_mean_squared_error: 7.2495\n",
      "Epoch 92/100\n",
      "\u001b[1m70/70\u001b[0m \u001b[32m━━━━━━━━━━━━━━━━━━━━\u001b[0m\u001b[37m\u001b[0m \u001b[1m0s\u001b[0m 4ms/step - loss: 62.6487 - root_mean_squared_error: 7.9089 - val_loss: 49.8958 - val_root_mean_squared_error: 7.0637\n",
      "Epoch 93/100\n",
      "\u001b[1m70/70\u001b[0m \u001b[32m━━━━━━━━━━━━━━━━━━━━\u001b[0m\u001b[37m\u001b[0m \u001b[1m0s\u001b[0m 4ms/step - loss: 54.1436 - root_mean_squared_error: 7.3404 - val_loss: 62.2856 - val_root_mean_squared_error: 7.8921\n",
      "Epoch 94/100\n",
      "\u001b[1m70/70\u001b[0m \u001b[32m━━━━━━━━━━━━━━━━━━━━\u001b[0m\u001b[37m\u001b[0m \u001b[1m0s\u001b[0m 4ms/step - loss: 69.1871 - root_mean_squared_error: 8.2832 - val_loss: 46.5713 - val_root_mean_squared_error: 6.8243\n",
      "Epoch 95/100\n",
      "\u001b[1m70/70\u001b[0m \u001b[32m━━━━━━━━━━━━━━━━━━━━\u001b[0m\u001b[37m\u001b[0m \u001b[1m0s\u001b[0m 4ms/step - loss: 60.6592 - root_mean_squared_error: 7.7771 - val_loss: 48.0644 - val_root_mean_squared_error: 6.9329\n",
      "Epoch 96/100\n",
      "\u001b[1m70/70\u001b[0m \u001b[32m━━━━━━━━━━━━━━━━━━━━\u001b[0m\u001b[37m\u001b[0m \u001b[1m0s\u001b[0m 4ms/step - loss: 58.6028 - root_mean_squared_error: 7.6464 - val_loss: 49.0902 - val_root_mean_squared_error: 7.0064\n",
      "Epoch 97/100\n",
      "\u001b[1m70/70\u001b[0m \u001b[32m━━━━━━━━━━━━━━━━━━━━\u001b[0m\u001b[37m\u001b[0m \u001b[1m0s\u001b[0m 4ms/step - loss: 61.7305 - root_mean_squared_error: 7.8412 - val_loss: 46.4093 - val_root_mean_squared_error: 6.8124\n",
      "Epoch 98/100\n",
      "\u001b[1m70/70\u001b[0m \u001b[32m━━━━━━━━━━━━━━━━━━━━\u001b[0m\u001b[37m\u001b[0m \u001b[1m0s\u001b[0m 4ms/step - loss: 60.8627 - root_mean_squared_error: 7.7990 - val_loss: 64.9602 - val_root_mean_squared_error: 8.0598\n",
      "Epoch 99/100\n",
      "\u001b[1m70/70\u001b[0m \u001b[32m━━━━━━━━━━━━━━━━━━━━\u001b[0m\u001b[37m\u001b[0m \u001b[1m0s\u001b[0m 4ms/step - loss: 62.9234 - root_mean_squared_error: 7.9228 - val_loss: 49.2214 - val_root_mean_squared_error: 7.0158\n",
      "Epoch 100/100\n",
      "\u001b[1m70/70\u001b[0m \u001b[32m━━━━━━━━━━━━━━━━━━━━\u001b[0m\u001b[37m\u001b[0m \u001b[1m0s\u001b[0m 4ms/step - loss: 62.0677 - root_mean_squared_error: 7.8590 - val_loss: 45.2695 - val_root_mean_squared_error: 6.7283\n"
     ]
    },
    {
     "data": {
      "text/plain": [
       "<keras.src.callbacks.history.History at 0x7e9869ecafe0>"
      ]
     },
     "execution_count": 48,
     "metadata": {},
     "output_type": "execute_result"
    }
   ],
   "source": [
    "model2.fit(X_train1, y_train1, validation_data=(X_val1, y_val1), \n",
    "           epochs=100, callbacks=[cp2])"
   ]
  },
  {
   "cell_type": "code",
   "execution_count": 49,
   "id": "44f704a1",
   "metadata": {
    "execution": {
     "iopub.execute_input": "2025-01-20T23:54:56.603410Z",
     "iopub.status.busy": "2025-01-20T23:54:56.603074Z",
     "iopub.status.idle": "2025-01-20T23:54:56.690922Z",
     "shell.execute_reply": "2025-01-20T23:54:56.689839Z"
    },
    "papermill": {
     "duration": 0.242489,
     "end_time": "2025-01-20T23:54:56.692733",
     "exception": false,
     "start_time": "2025-01-20T23:54:56.450244",
     "status": "completed"
    },
    "tags": []
   },
   "outputs": [],
   "source": [
    "from tensorflow.keras.models import load_model\n",
    "model2 = load_model('/kaggle/working/model2.keras')"
   ]
  },
  {
   "cell_type": "code",
   "execution_count": 50,
   "id": "be7e3e41",
   "metadata": {
    "execution": {
     "iopub.execute_input": "2025-01-20T23:54:56.895230Z",
     "iopub.status.busy": "2025-01-20T23:54:56.894855Z",
     "iopub.status.idle": "2025-01-20T23:54:57.416920Z",
     "shell.execute_reply": "2025-01-20T23:54:57.415895Z"
    },
    "papermill": {
     "duration": 0.625907,
     "end_time": "2025-01-20T23:54:57.418544",
     "exception": false,
     "start_time": "2025-01-20T23:54:56.792637",
     "status": "completed"
    },
    "tags": []
   },
   "outputs": [
    {
     "name": "stdout",
     "output_type": "stream",
     "text": [
      "\u001b[1m70/70\u001b[0m \u001b[32m━━━━━━━━━━━━━━━━━━━━\u001b[0m\u001b[37m\u001b[0m \u001b[1m0s\u001b[0m 4ms/step\n",
      "Evaluation Metrics:\n",
      "Mean Absolute Error (MAE): 4.1486\n",
      "Mean Squared Error (MSE): 54.8655\n",
      "Root Mean Squared Error (RMSE): 7.4071\n",
      "R-squared (Accuracy): 0.9830\n"
     ]
    }
   ],
   "source": [
    "# Evaluate the model on the train data\n",
    "train_result = model2.predict(X_train1)\n",
    "\n",
    "# Calculate metrics\n",
    "mse = mean_squared_error(y_train1, train_result)\n",
    "rmse = np.sqrt(mse)\n",
    "mae = mean_absolute_error(y_train1, train_result)\n",
    "r2 = r2_score(y_train1, train_result)\n",
    "\n",
    "# Print the results\n",
    "print(\"Evaluation Metrics:\")\n",
    "print(f\"Mean Absolute Error (MAE): {mae:.4f}\")\n",
    "print(f\"Mean Squared Error (MSE): {mse:.4f}\")\n",
    "print(f\"Root Mean Squared Error (RMSE): {rmse:.4f}\")\n",
    "print(f\"R-squared (Accuracy): {r2:.4f}\")"
   ]
  },
  {
   "cell_type": "code",
   "execution_count": 51,
   "id": "4b2e94f6",
   "metadata": {
    "execution": {
     "iopub.execute_input": "2025-01-20T23:54:57.623180Z",
     "iopub.status.busy": "2025-01-20T23:54:57.622796Z",
     "iopub.status.idle": "2025-01-20T23:54:57.734798Z",
     "shell.execute_reply": "2025-01-20T23:54:57.733536Z"
    },
    "papermill": {
     "duration": 0.218728,
     "end_time": "2025-01-20T23:54:57.736800",
     "exception": false,
     "start_time": "2025-01-20T23:54:57.518072",
     "status": "completed"
    },
    "tags": []
   },
   "outputs": [
    {
     "name": "stdout",
     "output_type": "stream",
     "text": [
      "\u001b[1m20/20\u001b[0m \u001b[32m━━━━━━━━━━━━━━━━━━━━\u001b[0m\u001b[37m\u001b[0m \u001b[1m0s\u001b[0m 2ms/step \n",
      "Evaluation Metrics:\n",
      "Mean Absolute Error (MAE): 4.8933\n",
      "Mean Squared Error (MSE): 45.2695\n",
      "Root Mean Squared Error (RMSE): 6.7283\n",
      "R-squared (Accuracy): 0.9919\n"
     ]
    }
   ],
   "source": [
    "# Evaluate the model on the validation data\n",
    "val_result = model2.predict(X_val1)\n",
    "\n",
    "# Calculate metrics\n",
    "mse = mean_squared_error(y_val1, val_result)\n",
    "rmse = np.sqrt(mse)\n",
    "mae = mean_absolute_error(y_val1, val_result)\n",
    "r2 = r2_score(y_val1, val_result)\n",
    "\n",
    "# Print the results\n",
    "print(\"Evaluation Metrics:\")\n",
    "print(f\"Mean Absolute Error (MAE): {mae:.4f}\")\n",
    "print(f\"Mean Squared Error (MSE): {mse:.4f}\")\n",
    "print(f\"Root Mean Squared Error (RMSE): {rmse:.4f}\")\n",
    "print(f\"R-squared (Accuracy): {r2:.4f}\")"
   ]
  },
  {
   "cell_type": "code",
   "execution_count": 52,
   "id": "ff9f2762",
   "metadata": {
    "execution": {
     "iopub.execute_input": "2025-01-20T23:54:57.955962Z",
     "iopub.status.busy": "2025-01-20T23:54:57.955585Z",
     "iopub.status.idle": "2025-01-20T23:54:58.042895Z",
     "shell.execute_reply": "2025-01-20T23:54:58.041747Z"
    },
    "papermill": {
     "duration": 0.191905,
     "end_time": "2025-01-20T23:54:58.044524",
     "exception": false,
     "start_time": "2025-01-20T23:54:57.852619",
     "status": "completed"
    },
    "tags": []
   },
   "outputs": [
    {
     "name": "stdout",
     "output_type": "stream",
     "text": [
      "\u001b[1m10/10\u001b[0m \u001b[32m━━━━━━━━━━━━━━━━━━━━\u001b[0m\u001b[37m\u001b[0m \u001b[1m0s\u001b[0m 2ms/step \n",
      "Evaluation Metrics:\n",
      "Mean Absolute Error (MAE): 4.7336\n",
      "Mean Squared Error (MSE): 45.2857\n",
      "Root Mean Squared Error (RMSE): 6.7295\n",
      "R-squared (Accuracy): 0.9820\n"
     ]
    }
   ],
   "source": [
    "# Evaluate the model on the test data\n",
    "test_result = model2.predict(X_test1)\n",
    "\n",
    "# Calculate metrics\n",
    "mse = mean_squared_error(y_test1, test_result)\n",
    "rmse = np.sqrt(mse)\n",
    "mae = mean_absolute_error(y_test1, test_result)\n",
    "r2 = r2_score(y_test1, test_result)\n",
    "\n",
    "# Print the results\n",
    "print(\"Evaluation Metrics:\")\n",
    "print(f\"Mean Absolute Error (MAE): {mae:.4f}\")\n",
    "print(f\"Mean Squared Error (MSE): {mse:.4f}\")\n",
    "print(f\"Root Mean Squared Error (RMSE): {rmse:.4f}\")\n",
    "print(f\"R-squared (Accuracy): {r2:.4f}\")"
   ]
  },
  {
   "cell_type": "code",
   "execution_count": 53,
   "id": "6c32ae0f",
   "metadata": {
    "execution": {
     "iopub.execute_input": "2025-01-20T23:54:58.246848Z",
     "iopub.status.busy": "2025-01-20T23:54:58.246444Z",
     "iopub.status.idle": "2025-01-20T23:54:58.444133Z",
     "shell.execute_reply": "2025-01-20T23:54:58.443151Z"
    },
    "papermill": {
     "duration": 0.300601,
     "end_time": "2025-01-20T23:54:58.445610",
     "exception": false,
     "start_time": "2025-01-20T23:54:58.145009",
     "status": "completed"
    },
    "tags": []
   },
   "outputs": [
    {
     "name": "stdout",
     "output_type": "stream",
     "text": [
      "\u001b[1m70/70\u001b[0m \u001b[32m━━━━━━━━━━━━━━━━━━━━\u001b[0m\u001b[37m\u001b[0m \u001b[1m0s\u001b[0m 1ms/step\n"
     ]
    },
    {
     "data": {
      "text/html": [
       "<div>\n",
       "<style scoped>\n",
       "    .dataframe tbody tr th:only-of-type {\n",
       "        vertical-align: middle;\n",
       "    }\n",
       "\n",
       "    .dataframe tbody tr th {\n",
       "        vertical-align: top;\n",
       "    }\n",
       "\n",
       "    .dataframe thead th {\n",
       "        text-align: right;\n",
       "    }\n",
       "</style>\n",
       "<table border=\"1\" class=\"dataframe\">\n",
       "  <thead>\n",
       "    <tr style=\"text-align: right;\">\n",
       "      <th></th>\n",
       "      <th>Train Predictions</th>\n",
       "      <th>Actuals</th>\n",
       "    </tr>\n",
       "  </thead>\n",
       "  <tbody>\n",
       "    <tr>\n",
       "      <th>0</th>\n",
       "      <td>202.168442</td>\n",
       "      <td>220.166667</td>\n",
       "    </tr>\n",
       "    <tr>\n",
       "      <th>1</th>\n",
       "      <td>225.363174</td>\n",
       "      <td>204.833333</td>\n",
       "    </tr>\n",
       "    <tr>\n",
       "      <th>2</th>\n",
       "      <td>199.450745</td>\n",
       "      <td>220.666667</td>\n",
       "    </tr>\n",
       "    <tr>\n",
       "      <th>3</th>\n",
       "      <td>233.503235</td>\n",
       "      <td>244.666667</td>\n",
       "    </tr>\n",
       "    <tr>\n",
       "      <th>4</th>\n",
       "      <td>260.767670</td>\n",
       "      <td>257.166667</td>\n",
       "    </tr>\n",
       "    <tr>\n",
       "      <th>...</th>\n",
       "      <td>...</td>\n",
       "      <td>...</td>\n",
       "    </tr>\n",
       "    <tr>\n",
       "      <th>2228</th>\n",
       "      <td>195.571823</td>\n",
       "      <td>203.666667</td>\n",
       "    </tr>\n",
       "    <tr>\n",
       "      <th>2229</th>\n",
       "      <td>210.948196</td>\n",
       "      <td>220.333333</td>\n",
       "    </tr>\n",
       "    <tr>\n",
       "      <th>2230</th>\n",
       "      <td>231.311508</td>\n",
       "      <td>227.500000</td>\n",
       "    </tr>\n",
       "    <tr>\n",
       "      <th>2231</th>\n",
       "      <td>230.858948</td>\n",
       "      <td>229.333333</td>\n",
       "    </tr>\n",
       "    <tr>\n",
       "      <th>2232</th>\n",
       "      <td>228.268799</td>\n",
       "      <td>233.166667</td>\n",
       "    </tr>\n",
       "  </tbody>\n",
       "</table>\n",
       "<p>2233 rows × 2 columns</p>\n",
       "</div>"
      ],
      "text/plain": [
       "      Train Predictions     Actuals\n",
       "0            202.168442  220.166667\n",
       "1            225.363174  204.833333\n",
       "2            199.450745  220.666667\n",
       "3            233.503235  244.666667\n",
       "4            260.767670  257.166667\n",
       "...                 ...         ...\n",
       "2228         195.571823  203.666667\n",
       "2229         210.948196  220.333333\n",
       "2230         231.311508  227.500000\n",
       "2231         230.858948  229.333333\n",
       "2232         228.268799  233.166667\n",
       "\n",
       "[2233 rows x 2 columns]"
      ]
     },
     "execution_count": 53,
     "metadata": {},
     "output_type": "execute_result"
    }
   ],
   "source": [
    "train_predictions = model2.predict(X_train1).flatten()\n",
    "train_results = pd.DataFrame(data={'Train Predictions':train_predictions, 'Actuals':y_train1})\n",
    "train_results"
   ]
  },
  {
   "cell_type": "code",
   "execution_count": 54,
   "id": "fb3bf682",
   "metadata": {
    "execution": {
     "iopub.execute_input": "2025-01-20T23:54:58.649191Z",
     "iopub.status.busy": "2025-01-20T23:54:58.648808Z",
     "iopub.status.idle": "2025-01-20T23:54:58.870626Z",
     "shell.execute_reply": "2025-01-20T23:54:58.869572Z"
    },
    "papermill": {
     "duration": 0.326349,
     "end_time": "2025-01-20T23:54:58.872619",
     "exception": false,
     "start_time": "2025-01-20T23:54:58.546270",
     "status": "completed"
    },
    "tags": []
   },
   "outputs": [
    {
     "data": {
      "image/png": "[encoded data removed]",
      "text/plain": [
       "<Figure size 640x480 with 1 Axes>"
      ]
     },
     "metadata": {},
     "output_type": "display_data"
    }
   ],
   "source": [
    "plt.plot(train_results['Actuals'][1:50], label='Actual')\n",
    "plt.plot(train_results['Train Predictions'][1:50], label='Predicted')\n",
    "plt.legend()\n",
    "plt.show()"
   ]
  },
  {
   "cell_type": "code",
   "execution_count": 55,
   "id": "757fe109",
   "metadata": {
    "execution": {
     "iopub.execute_input": "2025-01-20T23:54:59.081079Z",
     "iopub.status.busy": "2025-01-20T23:54:59.080654Z",
     "iopub.status.idle": "2025-01-20T23:54:59.195421Z",
     "shell.execute_reply": "2025-01-20T23:54:59.194335Z"
    },
    "papermill": {
     "duration": 0.219888,
     "end_time": "2025-01-20T23:54:59.197156",
     "exception": false,
     "start_time": "2025-01-20T23:54:58.977268",
     "status": "completed"
    },
    "tags": []
   },
   "outputs": [
    {
     "name": "stdout",
     "output_type": "stream",
     "text": [
      "\u001b[1m20/20\u001b[0m \u001b[32m━━━━━━━━━━━━━━━━━━━━\u001b[0m\u001b[37m\u001b[0m \u001b[1m0s\u001b[0m 2ms/step \n"
     ]
    },
    {
     "data": {
      "text/html": [
       "<div>\n",
       "<style scoped>\n",
       "    .dataframe tbody tr th:only-of-type {\n",
       "        vertical-align: middle;\n",
       "    }\n",
       "\n",
       "    .dataframe tbody tr th {\n",
       "        vertical-align: top;\n",
       "    }\n",
       "\n",
       "    .dataframe thead th {\n",
       "        text-align: right;\n",
       "    }\n",
       "</style>\n",
       "<table border=\"1\" class=\"dataframe\">\n",
       "  <thead>\n",
       "    <tr style=\"text-align: right;\">\n",
       "      <th></th>\n",
       "      <th>Train Predictions</th>\n",
       "      <th>Actuals</th>\n",
       "    </tr>\n",
       "  </thead>\n",
       "  <tbody>\n",
       "    <tr>\n",
       "      <th>0</th>\n",
       "      <td>202.768311</td>\n",
       "      <td>198.333333</td>\n",
       "    </tr>\n",
       "    <tr>\n",
       "      <th>1</th>\n",
       "      <td>194.761200</td>\n",
       "      <td>194.000000</td>\n",
       "    </tr>\n",
       "    <tr>\n",
       "      <th>2</th>\n",
       "      <td>191.741089</td>\n",
       "      <td>192.333333</td>\n",
       "    </tr>\n",
       "    <tr>\n",
       "      <th>3</th>\n",
       "      <td>191.577957</td>\n",
       "      <td>189.166667</td>\n",
       "    </tr>\n",
       "    <tr>\n",
       "      <th>4</th>\n",
       "      <td>187.402924</td>\n",
       "      <td>187.166667</td>\n",
       "    </tr>\n",
       "    <tr>\n",
       "      <th>...</th>\n",
       "      <td>...</td>\n",
       "      <td>...</td>\n",
       "    </tr>\n",
       "    <tr>\n",
       "      <th>628</th>\n",
       "      <td>213.285431</td>\n",
       "      <td>211.666667</td>\n",
       "    </tr>\n",
       "    <tr>\n",
       "      <th>629</th>\n",
       "      <td>212.802795</td>\n",
       "      <td>207.000000</td>\n",
       "    </tr>\n",
       "    <tr>\n",
       "      <th>630</th>\n",
       "      <td>203.942032</td>\n",
       "      <td>190.833333</td>\n",
       "    </tr>\n",
       "    <tr>\n",
       "      <th>631</th>\n",
       "      <td>182.188156</td>\n",
       "      <td>190.833333</td>\n",
       "    </tr>\n",
       "    <tr>\n",
       "      <th>632</th>\n",
       "      <td>192.933884</td>\n",
       "      <td>188.500000</td>\n",
       "    </tr>\n",
       "  </tbody>\n",
       "</table>\n",
       "<p>633 rows × 2 columns</p>\n",
       "</div>"
      ],
      "text/plain": [
       "     Train Predictions     Actuals\n",
       "0           202.768311  198.333333\n",
       "1           194.761200  194.000000\n",
       "2           191.741089  192.333333\n",
       "3           191.577957  189.166667\n",
       "4           187.402924  187.166667\n",
       "..                 ...         ...\n",
       "628         213.285431  211.666667\n",
       "629         212.802795  207.000000\n",
       "630         203.942032  190.833333\n",
       "631         182.188156  190.833333\n",
       "632         192.933884  188.500000\n",
       "\n",
       "[633 rows x 2 columns]"
      ]
     },
     "execution_count": 55,
     "metadata": {},
     "output_type": "execute_result"
    }
   ],
   "source": [
    "val_predictions = model2.predict(X_val1).flatten()\n",
    "val_results = pd.DataFrame(data={'Train Predictions':val_predictions, 'Actuals':y_val1})\n",
    "val_results"
   ]
  },
  {
   "cell_type": "code",
   "execution_count": 56,
   "id": "dfdec85a",
   "metadata": {
    "execution": {
     "iopub.execute_input": "2025-01-20T23:54:59.407354Z",
     "iopub.status.busy": "2025-01-20T23:54:59.406981Z",
     "iopub.status.idle": "2025-01-20T23:54:59.577146Z",
     "shell.execute_reply": "2025-01-20T23:54:59.576108Z"
    },
    "papermill": {
     "duration": 0.27776,
     "end_time": "2025-01-20T23:54:59.578633",
     "exception": false,
     "start_time": "2025-01-20T23:54:59.300873",
     "status": "completed"
    },
    "tags": []
   },
   "outputs": [
    {
     "data": {
      "image/png": "[encoded data removed]",
      "text/plain": [
       "<Figure size 640x480 with 1 Axes>"
      ]
     },
     "metadata": {},
     "output_type": "display_data"
    }
   ],
   "source": [
    "plt.plot(val_results['Actuals'][1:50], label='Actual')\n",
    "plt.plot(val_results['Train Predictions'][1:50], label='Predicted')\n",
    "plt.legend()\n",
    "plt.show()"
   ]
  },
  {
   "cell_type": "code",
   "execution_count": 57,
   "id": "5bed5b35",
   "metadata": {
    "execution": {
     "iopub.execute_input": "2025-01-20T23:54:59.786617Z",
     "iopub.status.busy": "2025-01-20T23:54:59.786205Z",
     "iopub.status.idle": "2025-01-20T23:54:59.879950Z",
     "shell.execute_reply": "2025-01-20T23:54:59.878918Z"
    },
    "papermill": {
     "duration": 0.199499,
     "end_time": "2025-01-20T23:54:59.881413",
     "exception": false,
     "start_time": "2025-01-20T23:54:59.681914",
     "status": "completed"
    },
    "tags": []
   },
   "outputs": [
    {
     "name": "stdout",
     "output_type": "stream",
     "text": [
      "\u001b[1m10/10\u001b[0m \u001b[32m━━━━━━━━━━━━━━━━━━━━\u001b[0m\u001b[37m\u001b[0m \u001b[1m0s\u001b[0m 2ms/step \n"
     ]
    },
    {
     "data": {
      "text/html": [
       "<div>\n",
       "<style scoped>\n",
       "    .dataframe tbody tr th:only-of-type {\n",
       "        vertical-align: middle;\n",
       "    }\n",
       "\n",
       "    .dataframe tbody tr th {\n",
       "        vertical-align: top;\n",
       "    }\n",
       "\n",
       "    .dataframe thead th {\n",
       "        text-align: right;\n",
       "    }\n",
       "</style>\n",
       "<table border=\"1\" class=\"dataframe\">\n",
       "  <thead>\n",
       "    <tr style=\"text-align: right;\">\n",
       "      <th></th>\n",
       "      <th>Train Predictions</th>\n",
       "      <th>Actuals</th>\n",
       "    </tr>\n",
       "  </thead>\n",
       "  <tbody>\n",
       "    <tr>\n",
       "      <th>0</th>\n",
       "      <td>188.820343</td>\n",
       "      <td>187.166667</td>\n",
       "    </tr>\n",
       "    <tr>\n",
       "      <th>1</th>\n",
       "      <td>186.525345</td>\n",
       "      <td>183.833333</td>\n",
       "    </tr>\n",
       "    <tr>\n",
       "      <th>2</th>\n",
       "      <td>182.241669</td>\n",
       "      <td>184.833333</td>\n",
       "    </tr>\n",
       "    <tr>\n",
       "      <th>3</th>\n",
       "      <td>186.253815</td>\n",
       "      <td>187.500000</td>\n",
       "    </tr>\n",
       "    <tr>\n",
       "      <th>4</th>\n",
       "      <td>189.232941</td>\n",
       "      <td>192.500000</td>\n",
       "    </tr>\n",
       "    <tr>\n",
       "      <th>...</th>\n",
       "      <td>...</td>\n",
       "      <td>...</td>\n",
       "    </tr>\n",
       "    <tr>\n",
       "      <th>310</th>\n",
       "      <td>145.196930</td>\n",
       "      <td>149.166667</td>\n",
       "    </tr>\n",
       "    <tr>\n",
       "      <th>311</th>\n",
       "      <td>153.050308</td>\n",
       "      <td>149.833333</td>\n",
       "    </tr>\n",
       "    <tr>\n",
       "      <th>312</th>\n",
       "      <td>149.757599</td>\n",
       "      <td>149.666667</td>\n",
       "    </tr>\n",
       "    <tr>\n",
       "      <th>313</th>\n",
       "      <td>150.677811</td>\n",
       "      <td>149.666667</td>\n",
       "    </tr>\n",
       "    <tr>\n",
       "      <th>314</th>\n",
       "      <td>150.067627</td>\n",
       "      <td>149.666667</td>\n",
       "    </tr>\n",
       "  </tbody>\n",
       "</table>\n",
       "<p>315 rows × 2 columns</p>\n",
       "</div>"
      ],
      "text/plain": [
       "     Train Predictions     Actuals\n",
       "0           188.820343  187.166667\n",
       "1           186.525345  183.833333\n",
       "2           182.241669  184.833333\n",
       "3           186.253815  187.500000\n",
       "4           189.232941  192.500000\n",
       "..                 ...         ...\n",
       "310         145.196930  149.166667\n",
       "311         153.050308  149.833333\n",
       "312         149.757599  149.666667\n",
       "313         150.677811  149.666667\n",
       "314         150.067627  149.666667\n",
       "\n",
       "[315 rows x 2 columns]"
      ]
     },
     "execution_count": 57,
     "metadata": {},
     "output_type": "execute_result"
    }
   ],
   "source": [
    "test_predictions = model2.predict(X_test1).flatten()\n",
    "test_results = pd.DataFrame(data={'Train Predictions':test_predictions, 'Actuals':y_test1})\n",
    "test_results"
   ]
  },
  {
   "cell_type": "code",
   "execution_count": 58,
   "id": "64c763d9",
   "metadata": {
    "execution": {
     "iopub.execute_input": "2025-01-20T23:55:00.089646Z",
     "iopub.status.busy": "2025-01-20T23:55:00.089258Z",
     "iopub.status.idle": "2025-01-20T23:55:00.308002Z",
     "shell.execute_reply": "2025-01-20T23:55:00.306997Z"
    },
    "papermill": {
     "duration": 0.324972,
     "end_time": "2025-01-20T23:55:00.309594",
     "exception": false,
     "start_time": "2025-01-20T23:54:59.984622",
     "status": "completed"
    },
    "tags": []
   },
   "outputs": [
    {
     "data": {
      "image/png": "[encoded data removed]",
      "text/plain": [
       "<Figure size 640x480 with 1 Axes>"
      ]
     },
     "metadata": {},
     "output_type": "display_data"
    }
   ],
   "source": [
    "plt.plot(test_results['Train Predictions'][1:50], label='Predicted')\n",
    "plt.plot(test_results['Actuals'][1:50], label='Actual')\n",
    "plt.legend()\n",
    "plt.show()"
   ]
  },
  {
   "cell_type": "markdown",
   "id": "a2678c79",
   "metadata": {
    "papermill": {
     "duration": 0.104515,
     "end_time": "2025-01-20T23:55:00.521348",
     "exception": false,
     "start_time": "2025-01-20T23:55:00.416833",
     "status": "completed"
    },
    "tags": []
   },
   "source": [
    "# RNN(Smooth)"
   ]
  },
  {
   "cell_type": "code",
   "execution_count": 59,
   "id": "37da7f33",
   "metadata": {
    "execution": {
     "iopub.execute_input": "2025-01-20T23:55:00.731478Z",
     "iopub.status.busy": "2025-01-20T23:55:00.731119Z",
     "iopub.status.idle": "2025-01-20T23:55:00.782525Z",
     "shell.execute_reply": "2025-01-20T23:55:00.781277Z"
    },
    "papermill": {
     "duration": 0.158452,
     "end_time": "2025-01-20T23:55:00.784004",
     "exception": false,
     "start_time": "2025-01-20T23:55:00.625552",
     "status": "completed"
    },
    "tags": []
   },
   "outputs": [
    {
     "data": {
      "text/html": [
       "<pre style=\"white-space:pre;overflow-x:auto;line-height:normal;font-family:Menlo,'DejaVu Sans Mono',consolas,'Courier New',monospace\"><span style=\"font-weight: bold\">Model: \"sequential_2\"</span>\n",
       "</pre>\n"
      ],
      "text/plain": [
       "\u001b[1mModel: \"sequential_2\"\u001b[0m\n"
      ]
     },
     "metadata": {},
     "output_type": "display_data"
    },
    {
     "data": {
      "text/html": [
       "<pre style=\"white-space:pre;overflow-x:auto;line-height:normal;font-family:Menlo,'DejaVu Sans Mono',consolas,'Courier New',monospace\">┏━━━━━━━━━━━━━━━━━━━━━━━━━━━━━━━━━━━━━━┳━━━━━━━━━━━━━━━━━━━━━━━━━━━━━┳━━━━━━━━━━━━━━━━━┓\n",
       "┃<span style=\"font-weight: bold\"> Layer (type)                         </span>┃<span style=\"font-weight: bold\"> Output Shape                </span>┃<span style=\"font-weight: bold\">         Param # </span>┃\n",
       "┡━━━━━━━━━━━━━━━━━━━━━━━━━━━━━━━━━━━━━━╇━━━━━━━━━━━━━━━━━━━━━━━━━━━━━╇━━━━━━━━━━━━━━━━━┩\n",
       "│ simple_rnn (<span style=\"color: #0087ff; text-decoration-color: #0087ff\">SimpleRNN</span>)               │ (<span style=\"color: #00d7ff; text-decoration-color: #00d7ff\">None</span>, <span style=\"color: #00af00; text-decoration-color: #00af00\">32</span>)                  │           <span style=\"color: #00af00; text-decoration-color: #00af00\">1,088</span> │\n",
       "├──────────────────────────────────────┼─────────────────────────────┼─────────────────┤\n",
       "│ dense_4 (<span style=\"color: #0087ff; text-decoration-color: #0087ff\">Dense</span>)                      │ (<span style=\"color: #00d7ff; text-decoration-color: #00d7ff\">None</span>, <span style=\"color: #00af00; text-decoration-color: #00af00\">8</span>)                   │             <span style=\"color: #00af00; text-decoration-color: #00af00\">264</span> │\n",
       "├──────────────────────────────────────┼─────────────────────────────┼─────────────────┤\n",
       "│ dense_5 (<span style=\"color: #0087ff; text-decoration-color: #0087ff\">Dense</span>)                      │ (<span style=\"color: #00d7ff; text-decoration-color: #00d7ff\">None</span>, <span style=\"color: #00af00; text-decoration-color: #00af00\">1</span>)                   │               <span style=\"color: #00af00; text-decoration-color: #00af00\">9</span> │\n",
       "└──────────────────────────────────────┴─────────────────────────────┴─────────────────┘\n",
       "</pre>\n"
      ],
      "text/plain": [
       "┏━━━━━━━━━━━━━━━━━━━━━━━━━━━━━━━━━━━━━━┳━━━━━━━━━━━━━━━━━━━━━━━━━━━━━┳━━━━━━━━━━━━━━━━━┓\n",
       "┃\u001b[1m \u001b[0m\u001b[1mLayer (type)                        \u001b[0m\u001b[1m \u001b[0m┃\u001b[1m \u001b[0m\u001b[1mOutput Shape               \u001b[0m\u001b[1m \u001b[0m┃\u001b[1m \u001b[0m\u001b[1m        Param #\u001b[0m\u001b[1m \u001b[0m┃\n",
       "┡━━━━━━━━━━━━━━━━━━━━━━━━━━━━━━━━━━━━━━╇━━━━━━━━━━━━━━━━━━━━━━━━━━━━━╇━━━━━━━━━━━━━━━━━┩\n",
       "│ simple_rnn (\u001b[38;5;33mSimpleRNN\u001b[0m)               │ (\u001b[38;5;45mNone\u001b[0m, \u001b[38;5;34m32\u001b[0m)                  │           \u001b[38;5;34m1,088\u001b[0m │\n",
       "├──────────────────────────────────────┼─────────────────────────────┼─────────────────┤\n",
       "│ dense_4 (\u001b[38;5;33mDense\u001b[0m)                      │ (\u001b[38;5;45mNone\u001b[0m, \u001b[38;5;34m8\u001b[0m)                   │             \u001b[38;5;34m264\u001b[0m │\n",
       "├──────────────────────────────────────┼─────────────────────────────┼─────────────────┤\n",
       "│ dense_5 (\u001b[38;5;33mDense\u001b[0m)                      │ (\u001b[38;5;45mNone\u001b[0m, \u001b[38;5;34m1\u001b[0m)                   │               \u001b[38;5;34m9\u001b[0m │\n",
       "└──────────────────────────────────────┴─────────────────────────────┴─────────────────┘\n"
      ]
     },
     "metadata": {},
     "output_type": "display_data"
    },
    {
     "data": {
      "text/html": [
       "<pre style=\"white-space:pre;overflow-x:auto;line-height:normal;font-family:Menlo,'DejaVu Sans Mono',consolas,'Courier New',monospace\"><span style=\"font-weight: bold\"> Total params: </span><span style=\"color: #00af00; text-decoration-color: #00af00\">1,361</span> (5.32 KB)\n",
       "</pre>\n"
      ],
      "text/plain": [
       "\u001b[1m Total params: \u001b[0m\u001b[38;5;34m1,361\u001b[0m (5.32 KB)\n"
      ]
     },
     "metadata": {},
     "output_type": "display_data"
    },
    {
     "data": {
      "text/html": [
       "<pre style=\"white-space:pre;overflow-x:auto;line-height:normal;font-family:Menlo,'DejaVu Sans Mono',consolas,'Courier New',monospace\"><span style=\"font-weight: bold\"> Trainable params: </span><span style=\"color: #00af00; text-decoration-color: #00af00\">1,361</span> (5.32 KB)\n",
       "</pre>\n"
      ],
      "text/plain": [
       "\u001b[1m Trainable params: \u001b[0m\u001b[38;5;34m1,361\u001b[0m (5.32 KB)\n"
      ]
     },
     "metadata": {},
     "output_type": "display_data"
    },
    {
     "data": {
      "text/html": [
       "<pre style=\"white-space:pre;overflow-x:auto;line-height:normal;font-family:Menlo,'DejaVu Sans Mono',consolas,'Courier New',monospace\"><span style=\"font-weight: bold\"> Non-trainable params: </span><span style=\"color: #00af00; text-decoration-color: #00af00\">0</span> (0.00 B)\n",
       "</pre>\n"
      ],
      "text/plain": [
       "\u001b[1m Non-trainable params: \u001b[0m\u001b[38;5;34m0\u001b[0m (0.00 B)\n"
      ]
     },
     "metadata": {},
     "output_type": "display_data"
    }
   ],
   "source": [
    "model3 = Sequential()\n",
    "model3.add(InputLayer((6, 1)))\n",
    "model3.add(SimpleRNN(32))\n",
    "model3.add(Dense(8, 'relu'))\n",
    "model3.add(Dense(1, 'linear'))\n",
    "model3.summary()"
   ]
  },
  {
   "cell_type": "code",
   "execution_count": 60,
   "id": "f37ba632",
   "metadata": {
    "execution": {
     "iopub.execute_input": "2025-01-20T23:55:00.997308Z",
     "iopub.status.busy": "2025-01-20T23:55:00.996964Z",
     "iopub.status.idle": "2025-01-20T23:55:01.006722Z",
     "shell.execute_reply": "2025-01-20T23:55:01.005878Z"
    },
    "papermill": {
     "duration": 0.117073,
     "end_time": "2025-01-20T23:55:01.008306",
     "exception": false,
     "start_time": "2025-01-20T23:55:00.891233",
     "status": "completed"
    },
    "tags": []
   },
   "outputs": [],
   "source": [
    "cp3 = ModelCheckpoint('/kaggle/working/model3.keras', save_best_only=True)\n",
    "model3.compile(loss=MeanSquaredError(), optimizer=Adam(learning_rate=0.0005), \n",
    "               metrics=[RootMeanSquaredError()])"
   ]
  },
  {
   "cell_type": "code",
   "execution_count": 61,
   "id": "9bbba3a5",
   "metadata": {
    "execution": {
     "iopub.execute_input": "2025-01-20T23:55:01.220241Z",
     "iopub.status.busy": "2025-01-20T23:55:01.219849Z",
     "iopub.status.idle": "2025-01-20T23:55:25.929935Z",
     "shell.execute_reply": "2025-01-20T23:55:25.928923Z"
    },
    "papermill": {
     "duration": 24.817988,
     "end_time": "2025-01-20T23:55:25.931873",
     "exception": false,
     "start_time": "2025-01-20T23:55:01.113885",
     "status": "completed"
    },
    "tags": []
   },
   "outputs": [
    {
     "name": "stdout",
     "output_type": "stream",
     "text": [
      "Epoch 1/100\n",
      "\u001b[1m70/70\u001b[0m \u001b[32m━━━━━━━━━━━━━━━━━━━━\u001b[0m\u001b[37m\u001b[0m \u001b[1m2s\u001b[0m 6ms/step - loss: 28647.4551 - root_mean_squared_error: 169.2358 - val_loss: 32950.3125 - val_root_mean_squared_error: 181.5222\n",
      "Epoch 2/100\n",
      "\u001b[1m70/70\u001b[0m \u001b[32m━━━━━━━━━━━━━━━━━━━━\u001b[0m\u001b[37m\u001b[0m \u001b[1m0s\u001b[0m 3ms/step - loss: 28680.0117 - root_mean_squared_error: 169.3320 - val_loss: 32733.8672 - val_root_mean_squared_error: 180.9250\n",
      "Epoch 3/100\n",
      "\u001b[1m70/70\u001b[0m \u001b[32m━━━━━━━━━━━━━━━━━━━━\u001b[0m\u001b[37m\u001b[0m \u001b[1m0s\u001b[0m 3ms/step - loss: 29084.0039 - root_mean_squared_error: 170.5289 - val_loss: 32468.8750 - val_root_mean_squared_error: 180.1912\n",
      "Epoch 4/100\n",
      "\u001b[1m70/70\u001b[0m \u001b[32m━━━━━━━━━━━━━━━━━━━━\u001b[0m\u001b[37m\u001b[0m \u001b[1m0s\u001b[0m 3ms/step - loss: 27902.0801 - root_mean_squared_error: 167.0097 - val_loss: 32154.6504 - val_root_mean_squared_error: 179.3172\n",
      "Epoch 5/100\n",
      "\u001b[1m70/70\u001b[0m \u001b[32m━━━━━━━━━━━━━━━━━━━━\u001b[0m\u001b[37m\u001b[0m \u001b[1m0s\u001b[0m 3ms/step - loss: 28006.2754 - root_mean_squared_error: 167.3377 - val_loss: 31786.2754 - val_root_mean_squared_error: 178.2871\n",
      "Epoch 6/100\n",
      "\u001b[1m70/70\u001b[0m \u001b[32m━━━━━━━━━━━━━━━━━━━━\u001b[0m\u001b[37m\u001b[0m \u001b[1m0s\u001b[0m 3ms/step - loss: 28326.1914 - root_mean_squared_error: 168.2923 - val_loss: 31366.0059 - val_root_mean_squared_error: 177.1045\n",
      "Epoch 7/100\n",
      "\u001b[1m70/70\u001b[0m \u001b[32m━━━━━━━━━━━━━━━━━━━━\u001b[0m\u001b[37m\u001b[0m \u001b[1m0s\u001b[0m 3ms/step - loss: 27696.1914 - root_mean_squared_error: 166.3684 - val_loss: 30897.5859 - val_root_mean_squared_error: 175.7771\n",
      "Epoch 8/100\n",
      "\u001b[1m70/70\u001b[0m \u001b[32m━━━━━━━━━━━━━━━━━━━━\u001b[0m\u001b[37m\u001b[0m \u001b[1m0s\u001b[0m 3ms/step - loss: 26483.6895 - root_mean_squared_error: 162.7215 - val_loss: 30380.6250 - val_root_mean_squared_error: 174.3004\n",
      "Epoch 9/100\n",
      "\u001b[1m70/70\u001b[0m \u001b[32m━━━━━━━━━━━━━━━━━━━━\u001b[0m\u001b[37m\u001b[0m \u001b[1m0s\u001b[0m 3ms/step - loss: 26240.6074 - root_mean_squared_error: 161.9823 - val_loss: 29818.8086 - val_root_mean_squared_error: 172.6812\n",
      "Epoch 10/100\n",
      "\u001b[1m70/70\u001b[0m \u001b[32m━━━━━━━━━━━━━━━━━━━━\u001b[0m\u001b[37m\u001b[0m \u001b[1m0s\u001b[0m 3ms/step - loss: 25777.5723 - root_mean_squared_error: 160.5288 - val_loss: 29211.6719 - val_root_mean_squared_error: 170.9142\n",
      "Epoch 11/100\n",
      "\u001b[1m70/70\u001b[0m \u001b[32m━━━━━━━━━━━━━━━━━━━━\u001b[0m\u001b[37m\u001b[0m \u001b[1m0s\u001b[0m 3ms/step - loss: 25088.5723 - root_mean_squared_error: 158.3776 - val_loss: 28567.6270 - val_root_mean_squared_error: 169.0196\n",
      "Epoch 12/100\n",
      "\u001b[1m70/70\u001b[0m \u001b[32m━━━━━━━━━━━━━━━━━━━━\u001b[0m\u001b[37m\u001b[0m \u001b[1m0s\u001b[0m 3ms/step - loss: 24445.4395 - root_mean_squared_error: 156.3468 - val_loss: 27886.6992 - val_root_mean_squared_error: 166.9931\n",
      "Epoch 13/100\n",
      "\u001b[1m70/70\u001b[0m \u001b[32m━━━━━━━━━━━━━━━━━━━━\u001b[0m\u001b[37m\u001b[0m \u001b[1m0s\u001b[0m 3ms/step - loss: 23926.3828 - root_mean_squared_error: 154.6702 - val_loss: 27179.4180 - val_root_mean_squared_error: 164.8618\n",
      "Epoch 14/100\n",
      "\u001b[1m70/70\u001b[0m \u001b[32m━━━━━━━━━━━━━━━━━━━━\u001b[0m\u001b[37m\u001b[0m \u001b[1m0s\u001b[0m 3ms/step - loss: 23750.2715 - root_mean_squared_error: 154.0859 - val_loss: 26438.5059 - val_root_mean_squared_error: 162.5992\n",
      "Epoch 15/100\n",
      "\u001b[1m70/70\u001b[0m \u001b[32m━━━━━━━━━━━━━━━━━━━━\u001b[0m\u001b[37m\u001b[0m \u001b[1m0s\u001b[0m 3ms/step - loss: 22758.7793 - root_mean_squared_error: 150.8134 - val_loss: 25679.6191 - val_root_mean_squared_error: 160.2486\n",
      "Epoch 16/100\n",
      "\u001b[1m70/70\u001b[0m \u001b[32m━━━━━━━━━━━━━━━━━━━━\u001b[0m\u001b[37m\u001b[0m \u001b[1m0s\u001b[0m 3ms/step - loss: 21442.7480 - root_mean_squared_error: 146.3998 - val_loss: 24900.1133 - val_root_mean_squared_error: 157.7977\n",
      "Epoch 17/100\n",
      "\u001b[1m70/70\u001b[0m \u001b[32m━━━━━━━━━━━━━━━━━━━━\u001b[0m\u001b[37m\u001b[0m \u001b[1m0s\u001b[0m 3ms/step - loss: 20521.8691 - root_mean_squared_error: 143.2042 - val_loss: 24100.8359 - val_root_mean_squared_error: 155.2444\n",
      "Epoch 18/100\n",
      "\u001b[1m70/70\u001b[0m \u001b[32m━━━━━━━━━━━━━━━━━━━━\u001b[0m\u001b[37m\u001b[0m \u001b[1m0s\u001b[0m 3ms/step - loss: 20094.3164 - root_mean_squared_error: 141.7504 - val_loss: 23293.9316 - val_root_mean_squared_error: 152.6235\n",
      "Epoch 19/100\n",
      "\u001b[1m70/70\u001b[0m \u001b[32m━━━━━━━━━━━━━━━━━━━━\u001b[0m\u001b[37m\u001b[0m \u001b[1m0s\u001b[0m 3ms/step - loss: 18831.9043 - root_mean_squared_error: 137.2157 - val_loss: 22475.7480 - val_root_mean_squared_error: 149.9191\n",
      "Epoch 20/100\n",
      "\u001b[1m70/70\u001b[0m \u001b[32m━━━━━━━━━━━━━━━━━━━━\u001b[0m\u001b[37m\u001b[0m \u001b[1m0s\u001b[0m 3ms/step - loss: 18362.5293 - root_mean_squared_error: 135.4998 - val_loss: 21658.2754 - val_root_mean_squared_error: 147.1675\n",
      "Epoch 21/100\n",
      "\u001b[1m70/70\u001b[0m \u001b[32m━━━━━━━━━━━━━━━━━━━━\u001b[0m\u001b[37m\u001b[0m \u001b[1m0s\u001b[0m 3ms/step - loss: 17513.8281 - root_mean_squared_error: 132.3225 - val_loss: 20839.7227 - val_root_mean_squared_error: 144.3597\n",
      "Epoch 22/100\n",
      "\u001b[1m70/70\u001b[0m \u001b[32m━━━━━━━━━━━━━━━━━━━━\u001b[0m\u001b[37m\u001b[0m \u001b[1m0s\u001b[0m 3ms/step - loss: 16655.9883 - root_mean_squared_error: 129.0531 - val_loss: 20021.5332 - val_root_mean_squared_error: 141.4975\n",
      "Epoch 23/100\n",
      "\u001b[1m70/70\u001b[0m \u001b[32m━━━━━━━━━━━━━━━━━━━━\u001b[0m\u001b[37m\u001b[0m \u001b[1m0s\u001b[0m 3ms/step - loss: 15707.7100 - root_mean_squared_error: 125.3261 - val_loss: 19214.0723 - val_root_mean_squared_error: 138.6148\n",
      "Epoch 24/100\n",
      "\u001b[1m70/70\u001b[0m \u001b[32m━━━━━━━━━━━━━━━━━━━━\u001b[0m\u001b[37m\u001b[0m \u001b[1m0s\u001b[0m 3ms/step - loss: 15340.7998 - root_mean_squared_error: 123.8516 - val_loss: 18411.1016 - val_root_mean_squared_error: 135.6875\n",
      "Epoch 25/100\n",
      "\u001b[1m70/70\u001b[0m \u001b[32m━━━━━━━━━━━━━━━━━━━━\u001b[0m\u001b[37m\u001b[0m \u001b[1m0s\u001b[0m 3ms/step - loss: 15031.1533 - root_mean_squared_error: 122.4942 - val_loss: 17627.5254 - val_root_mean_squared_error: 132.7687\n",
      "Epoch 26/100\n",
      "\u001b[1m70/70\u001b[0m \u001b[32m━━━━━━━━━━━━━━━━━━━━\u001b[0m\u001b[37m\u001b[0m \u001b[1m0s\u001b[0m 3ms/step - loss: 14321.8457 - root_mean_squared_error: 119.6499 - val_loss: 16854.6289 - val_root_mean_squared_error: 129.8254\n",
      "Epoch 27/100\n",
      "\u001b[1m70/70\u001b[0m \u001b[32m━━━━━━━━━━━━━━━━━━━━\u001b[0m\u001b[37m\u001b[0m \u001b[1m0s\u001b[0m 3ms/step - loss: 13447.9141 - root_mean_squared_error: 115.9394 - val_loss: 16098.2324 - val_root_mean_squared_error: 126.8788\n",
      "Epoch 28/100\n",
      "\u001b[1m70/70\u001b[0m \u001b[32m━━━━━━━━━━━━━━━━━━━━\u001b[0m\u001b[37m\u001b[0m \u001b[1m0s\u001b[0m 3ms/step - loss: 12316.9688 - root_mean_squared_error: 110.9650 - val_loss: 15367.9434 - val_root_mean_squared_error: 123.9675\n",
      "Epoch 29/100\n",
      "\u001b[1m70/70\u001b[0m \u001b[32m━━━━━━━━━━━━━━━━━━━━\u001b[0m\u001b[37m\u001b[0m \u001b[1m0s\u001b[0m 3ms/step - loss: 11990.6250 - root_mean_squared_error: 109.4814 - val_loss: 14655.5605 - val_root_mean_squared_error: 121.0602\n",
      "Epoch 30/100\n",
      "\u001b[1m70/70\u001b[0m \u001b[32m━━━━━━━━━━━━━━━━━━━━\u001b[0m\u001b[37m\u001b[0m \u001b[1m0s\u001b[0m 3ms/step - loss: 10940.0273 - root_mean_squared_error: 104.5775 - val_loss: 13970.0430 - val_root_mean_squared_error: 118.1949\n",
      "Epoch 31/100\n",
      "\u001b[1m70/70\u001b[0m \u001b[32m━━━━━━━━━━━━━━━━━━━━\u001b[0m\u001b[37m\u001b[0m \u001b[1m0s\u001b[0m 3ms/step - loss: 10281.3652 - root_mean_squared_error: 101.3691 - val_loss: 13309.1553 - val_root_mean_squared_error: 115.3653\n",
      "Epoch 32/100\n",
      "\u001b[1m70/70\u001b[0m \u001b[32m━━━━━━━━━━━━━━━━━━━━\u001b[0m\u001b[37m\u001b[0m \u001b[1m0s\u001b[0m 3ms/step - loss: 10034.0586 - root_mean_squared_error: 100.1441 - val_loss: 12675.2275 - val_root_mean_squared_error: 112.5843\n",
      "Epoch 33/100\n",
      "\u001b[1m70/70\u001b[0m \u001b[32m━━━━━━━━━━━━━━━━━━━━\u001b[0m\u001b[37m\u001b[0m \u001b[1m0s\u001b[0m 3ms/step - loss: 9039.5244 - root_mean_squared_error: 95.0411 - val_loss: 12067.0107 - val_root_mean_squared_error: 109.8499\n",
      "Epoch 34/100\n",
      "\u001b[1m70/70\u001b[0m \u001b[32m━━━━━━━━━━━━━━━━━━━━\u001b[0m\u001b[37m\u001b[0m \u001b[1m0s\u001b[0m 3ms/step - loss: 8776.8018 - root_mean_squared_error: 93.6268 - val_loss: 11495.3848 - val_root_mean_squared_error: 107.2165\n",
      "Epoch 35/100\n",
      "\u001b[1m70/70\u001b[0m \u001b[32m━━━━━━━━━━━━━━━━━━━━\u001b[0m\u001b[37m\u001b[0m \u001b[1m0s\u001b[0m 3ms/step - loss: 8308.5342 - root_mean_squared_error: 91.1265 - val_loss: 10938.0273 - val_root_mean_squared_error: 104.5850\n",
      "Epoch 36/100\n",
      "\u001b[1m70/70\u001b[0m \u001b[32m━━━━━━━━━━━━━━━━━━━━\u001b[0m\u001b[37m\u001b[0m \u001b[1m0s\u001b[0m 3ms/step - loss: 7479.6782 - root_mean_squared_error: 86.4261 - val_loss: 10405.4473 - val_root_mean_squared_error: 102.0071\n",
      "Epoch 37/100\n",
      "\u001b[1m70/70\u001b[0m \u001b[32m━━━━━━━━━━━━━━━━━━━━\u001b[0m\u001b[37m\u001b[0m \u001b[1m0s\u001b[0m 3ms/step - loss: 7349.8765 - root_mean_squared_error: 85.6496 - val_loss: 9899.1553 - val_root_mean_squared_error: 99.4945\n",
      "Epoch 38/100\n",
      "\u001b[1m70/70\u001b[0m \u001b[32m━━━━━━━━━━━━━━━━━━━━\u001b[0m\u001b[37m\u001b[0m \u001b[1m0s\u001b[0m 3ms/step - loss: 6447.1758 - root_mean_squared_error: 80.2504 - val_loss: 9417.3057 - val_root_mean_squared_error: 97.0428\n",
      "Epoch 39/100\n",
      "\u001b[1m70/70\u001b[0m \u001b[32m━━━━━━━━━━━━━━━━━━━━\u001b[0m\u001b[37m\u001b[0m \u001b[1m0s\u001b[0m 3ms/step - loss: 6166.4268 - root_mean_squared_error: 78.5218 - val_loss: 8966.1182 - val_root_mean_squared_error: 94.6896\n",
      "Epoch 40/100\n",
      "\u001b[1m70/70\u001b[0m \u001b[32m━━━━━━━━━━━━━━━━━━━━\u001b[0m\u001b[37m\u001b[0m \u001b[1m0s\u001b[0m 3ms/step - loss: 6426.2456 - root_mean_squared_error: 80.0482 - val_loss: 8538.4365 - val_root_mean_squared_error: 92.4037\n",
      "Epoch 41/100\n",
      "\u001b[1m70/70\u001b[0m \u001b[32m━━━━━━━━━━━━━━━━━━━━\u001b[0m\u001b[37m\u001b[0m \u001b[1m0s\u001b[0m 3ms/step - loss: 5935.1221 - root_mean_squared_error: 76.9923 - val_loss: 8135.3057 - val_root_mean_squared_error: 90.1959\n",
      "Epoch 42/100\n",
      "\u001b[1m70/70\u001b[0m \u001b[32m━━━━━━━━━━━━━━━━━━━━\u001b[0m\u001b[37m\u001b[0m \u001b[1m0s\u001b[0m 3ms/step - loss: 4906.6533 - root_mean_squared_error: 70.0029 - val_loss: 7764.3159 - val_root_mean_squared_error: 88.1154\n",
      "Epoch 43/100\n",
      "\u001b[1m70/70\u001b[0m \u001b[32m━━━━━━━━━━━━━━━━━━━━\u001b[0m\u001b[37m\u001b[0m \u001b[1m0s\u001b[0m 3ms/step - loss: 4707.0259 - root_mean_squared_error: 68.5977 - val_loss: 7372.6255 - val_root_mean_squared_error: 85.8640\n",
      "Epoch 44/100\n",
      "\u001b[1m70/70\u001b[0m \u001b[32m━━━━━━━━━━━━━━━━━━━━\u001b[0m\u001b[37m\u001b[0m \u001b[1m0s\u001b[0m 3ms/step - loss: 4578.5884 - root_mean_squared_error: 67.6438 - val_loss: 7022.8872 - val_root_mean_squared_error: 83.8027\n",
      "Epoch 45/100\n",
      "\u001b[1m70/70\u001b[0m \u001b[32m━━━━━━━━━━━━━━━━━━━━\u001b[0m\u001b[37m\u001b[0m \u001b[1m0s\u001b[0m 3ms/step - loss: 4410.1279 - root_mean_squared_error: 66.3455 - val_loss: 6631.4951 - val_root_mean_squared_error: 81.4340\n",
      "Epoch 46/100\n",
      "\u001b[1m70/70\u001b[0m \u001b[32m━━━━━━━━━━━━━━━━━━━━\u001b[0m\u001b[37m\u001b[0m \u001b[1m0s\u001b[0m 3ms/step - loss: 3774.1289 - root_mean_squared_error: 61.4228 - val_loss: 6289.8164 - val_root_mean_squared_error: 79.3084\n",
      "Epoch 47/100\n",
      "\u001b[1m70/70\u001b[0m \u001b[32m━━━━━━━━━━━━━━━━━━━━\u001b[0m\u001b[37m\u001b[0m \u001b[1m0s\u001b[0m 3ms/step - loss: 3679.7283 - root_mean_squared_error: 60.6403 - val_loss: 5982.4883 - val_root_mean_squared_error: 77.3465\n",
      "Epoch 48/100\n",
      "\u001b[1m70/70\u001b[0m \u001b[32m━━━━━━━━━━━━━━━━━━━━\u001b[0m\u001b[37m\u001b[0m \u001b[1m0s\u001b[0m 3ms/step - loss: 3212.4348 - root_mean_squared_error: 56.5915 - val_loss: 5689.5273 - val_root_mean_squared_error: 75.4290\n",
      "Epoch 49/100\n",
      "\u001b[1m70/70\u001b[0m \u001b[32m━━━━━━━━━━━━━━━━━━━━\u001b[0m\u001b[37m\u001b[0m \u001b[1m0s\u001b[0m 3ms/step - loss: 2859.6284 - root_mean_squared_error: 53.4175 - val_loss: 5414.4927 - val_root_mean_squared_error: 73.5832\n",
      "Epoch 50/100\n",
      "\u001b[1m70/70\u001b[0m \u001b[32m━━━━━━━━━━━━━━━━━━━━\u001b[0m\u001b[37m\u001b[0m \u001b[1m0s\u001b[0m 3ms/step - loss: 2845.6157 - root_mean_squared_error: 53.3144 - val_loss: 5166.0166 - val_root_mean_squared_error: 71.8750\n",
      "Epoch 51/100\n",
      "\u001b[1m70/70\u001b[0m \u001b[32m━━━━━━━━━━━━━━━━━━━━\u001b[0m\u001b[37m\u001b[0m \u001b[1m0s\u001b[0m 3ms/step - loss: 2614.8821 - root_mean_squared_error: 51.0405 - val_loss: 4922.0464 - val_root_mean_squared_error: 70.1573\n",
      "Epoch 52/100\n",
      "\u001b[1m70/70\u001b[0m \u001b[32m━━━━━━━━━━━━━━━━━━━━\u001b[0m\u001b[37m\u001b[0m \u001b[1m0s\u001b[0m 3ms/step - loss: 2627.2642 - root_mean_squared_error: 51.2399 - val_loss: 4697.1289 - val_root_mean_squared_error: 68.5356\n",
      "Epoch 53/100\n",
      "\u001b[1m70/70\u001b[0m \u001b[32m━━━━━━━━━━━━━━━━━━━━\u001b[0m\u001b[37m\u001b[0m \u001b[1m0s\u001b[0m 3ms/step - loss: 2249.0732 - root_mean_squared_error: 47.3168 - val_loss: 4484.7300 - val_root_mean_squared_error: 66.9681\n",
      "Epoch 54/100\n",
      "\u001b[1m70/70\u001b[0m \u001b[32m━━━━━━━━━━━━━━━━━━━━\u001b[0m\u001b[37m\u001b[0m \u001b[1m0s\u001b[0m 3ms/step - loss: 2249.7175 - root_mean_squared_error: 47.3770 - val_loss: 4282.4717 - val_root_mean_squared_error: 65.4406\n",
      "Epoch 55/100\n",
      "\u001b[1m70/70\u001b[0m \u001b[32m━━━━━━━━━━━━━━━━━━━━\u001b[0m\u001b[37m\u001b[0m \u001b[1m0s\u001b[0m 3ms/step - loss: 2207.5981 - root_mean_squared_error: 46.8667 - val_loss: 4097.9199 - val_root_mean_squared_error: 64.0150\n",
      "Epoch 56/100\n",
      "\u001b[1m70/70\u001b[0m \u001b[32m━━━━━━━━━━━━━━━━━━━━\u001b[0m\u001b[37m\u001b[0m \u001b[1m0s\u001b[0m 3ms/step - loss: 2303.7085 - root_mean_squared_error: 47.8676 - val_loss: 3918.1440 - val_root_mean_squared_error: 62.5951\n",
      "Epoch 57/100\n",
      "\u001b[1m70/70\u001b[0m \u001b[32m━━━━━━━━━━━━━━━━━━━━\u001b[0m\u001b[37m\u001b[0m \u001b[1m0s\u001b[0m 3ms/step - loss: 1785.2699 - root_mean_squared_error: 42.2067 - val_loss: 3748.4954 - val_root_mean_squared_error: 61.2250\n",
      "Epoch 58/100\n",
      "\u001b[1m70/70\u001b[0m \u001b[32m━━━━━━━━━━━━━━━━━━━━\u001b[0m\u001b[37m\u001b[0m \u001b[1m0s\u001b[0m 3ms/step - loss: 1761.3409 - root_mean_squared_error: 41.9301 - val_loss: 3586.2820 - val_root_mean_squared_error: 59.8856\n",
      "Epoch 59/100\n",
      "\u001b[1m70/70\u001b[0m \u001b[32m━━━━━━━━━━━━━━━━━━━━\u001b[0m\u001b[37m\u001b[0m \u001b[1m0s\u001b[0m 3ms/step - loss: 1723.1309 - root_mean_squared_error: 41.4934 - val_loss: 3435.5161 - val_root_mean_squared_error: 58.6133\n",
      "Epoch 60/100\n",
      "\u001b[1m70/70\u001b[0m \u001b[32m━━━━━━━━━━━━━━━━━━━━\u001b[0m\u001b[37m\u001b[0m \u001b[1m0s\u001b[0m 3ms/step - loss: 1688.0592 - root_mean_squared_error: 40.9709 - val_loss: 3291.2410 - val_root_mean_squared_error: 57.3693\n",
      "Epoch 61/100\n",
      "\u001b[1m70/70\u001b[0m \u001b[32m━━━━━━━━━━━━━━━━━━━━\u001b[0m\u001b[37m\u001b[0m \u001b[1m0s\u001b[0m 3ms/step - loss: 1519.4615 - root_mean_squared_error: 38.9594 - val_loss: 3154.8652 - val_root_mean_squared_error: 56.1682\n",
      "Epoch 62/100\n",
      "\u001b[1m70/70\u001b[0m \u001b[32m━━━━━━━━━━━━━━━━━━━━\u001b[0m\u001b[37m\u001b[0m \u001b[1m0s\u001b[0m 3ms/step - loss: 1309.8362 - root_mean_squared_error: 36.1537 - val_loss: 3022.8140 - val_root_mean_squared_error: 54.9801\n",
      "Epoch 63/100\n",
      "\u001b[1m70/70\u001b[0m \u001b[32m━━━━━━━━━━━━━━━━━━━━\u001b[0m\u001b[37m\u001b[0m \u001b[1m0s\u001b[0m 3ms/step - loss: 1375.1385 - root_mean_squared_error: 37.0363 - val_loss: 2895.1912 - val_root_mean_squared_error: 53.8070\n",
      "Epoch 64/100\n",
      "\u001b[1m70/70\u001b[0m \u001b[32m━━━━━━━━━━━━━━━━━━━━\u001b[0m\u001b[37m\u001b[0m \u001b[1m0s\u001b[0m 3ms/step - loss: 1233.8280 - root_mean_squared_error: 35.0340 - val_loss: 2774.8491 - val_root_mean_squared_error: 52.6768\n",
      "Epoch 65/100\n",
      "\u001b[1m70/70\u001b[0m \u001b[32m━━━━━━━━━━━━━━━━━━━━\u001b[0m\u001b[37m\u001b[0m \u001b[1m0s\u001b[0m 3ms/step - loss: 1231.9652 - root_mean_squared_error: 35.0007 - val_loss: 2660.8042 - val_root_mean_squared_error: 51.5830\n",
      "Epoch 66/100\n",
      "\u001b[1m70/70\u001b[0m \u001b[32m━━━━━━━━━━━━━━━━━━━━\u001b[0m\u001b[37m\u001b[0m \u001b[1m0s\u001b[0m 3ms/step - loss: 1196.9290 - root_mean_squared_error: 34.5490 - val_loss: 2549.1704 - val_root_mean_squared_error: 50.4893\n",
      "Epoch 67/100\n",
      "\u001b[1m70/70\u001b[0m \u001b[32m━━━━━━━━━━━━━━━━━━━━\u001b[0m\u001b[37m\u001b[0m \u001b[1m0s\u001b[0m 3ms/step - loss: 1047.6736 - root_mean_squared_error: 32.3358 - val_loss: 2444.7019 - val_root_mean_squared_error: 49.4439\n",
      "Epoch 68/100\n",
      "\u001b[1m70/70\u001b[0m \u001b[32m━━━━━━━━━━━━━━━━━━━━\u001b[0m\u001b[37m\u001b[0m \u001b[1m0s\u001b[0m 3ms/step - loss: 991.4268 - root_mean_squared_error: 31.4395 - val_loss: 2337.7131 - val_root_mean_squared_error: 48.3499\n",
      "Epoch 69/100\n",
      "\u001b[1m70/70\u001b[0m \u001b[32m━━━━━━━━━━━━━━━━━━━━\u001b[0m\u001b[37m\u001b[0m \u001b[1m0s\u001b[0m 3ms/step - loss: 1008.1254 - root_mean_squared_error: 31.7141 - val_loss: 2239.4409 - val_root_mean_squared_error: 47.3227\n",
      "Epoch 70/100\n",
      "\u001b[1m70/70\u001b[0m \u001b[32m━━━━━━━━━━━━━━━━━━━━\u001b[0m\u001b[37m\u001b[0m \u001b[1m0s\u001b[0m 3ms/step - loss: 918.3000 - root_mean_squared_error: 30.2324 - val_loss: 2142.8669 - val_root_mean_squared_error: 46.2911\n",
      "Epoch 71/100\n",
      "\u001b[1m70/70\u001b[0m \u001b[32m━━━━━━━━━━━━━━━━━━━━\u001b[0m\u001b[37m\u001b[0m \u001b[1m0s\u001b[0m 3ms/step - loss: 911.0107 - root_mean_squared_error: 30.1521 - val_loss: 2048.1082 - val_root_mean_squared_error: 45.2560\n",
      "Epoch 72/100\n",
      "\u001b[1m70/70\u001b[0m \u001b[32m━━━━━━━━━━━━━━━━━━━━\u001b[0m\u001b[37m\u001b[0m \u001b[1m0s\u001b[0m 3ms/step - loss: 796.8946 - root_mean_squared_error: 28.1999 - val_loss: 1960.4434 - val_root_mean_squared_error: 44.2769\n",
      "Epoch 73/100\n",
      "\u001b[1m70/70\u001b[0m \u001b[32m━━━━━━━━━━━━━━━━━━━━\u001b[0m\u001b[37m\u001b[0m \u001b[1m0s\u001b[0m 3ms/step - loss: 950.5816 - root_mean_squared_error: 30.7455 - val_loss: 1869.7632 - val_root_mean_squared_error: 43.2408\n",
      "Epoch 74/100\n",
      "\u001b[1m70/70\u001b[0m \u001b[32m━━━━━━━━━━━━━━━━━━━━\u001b[0m\u001b[37m\u001b[0m \u001b[1m0s\u001b[0m 3ms/step - loss: 886.0052 - root_mean_squared_error: 29.7199 - val_loss: 1784.9457 - val_root_mean_squared_error: 42.2486\n",
      "Epoch 75/100\n",
      "\u001b[1m70/70\u001b[0m \u001b[32m━━━━━━━━━━━━━━━━━━━━\u001b[0m\u001b[37m\u001b[0m \u001b[1m0s\u001b[0m 3ms/step - loss: 866.8437 - root_mean_squared_error: 29.3686 - val_loss: 1703.1244 - val_root_mean_squared_error: 41.2689\n",
      "Epoch 76/100\n",
      "\u001b[1m70/70\u001b[0m \u001b[32m━━━━━━━━━━━━━━━━━━━━\u001b[0m\u001b[37m\u001b[0m \u001b[1m0s\u001b[0m 3ms/step - loss: 804.1620 - root_mean_squared_error: 28.3093 - val_loss: 1626.0332 - val_root_mean_squared_error: 40.3241\n",
      "Epoch 77/100\n",
      "\u001b[1m70/70\u001b[0m \u001b[32m━━━━━━━━━━━━━━━━━━━━\u001b[0m\u001b[37m\u001b[0m \u001b[1m0s\u001b[0m 3ms/step - loss: 730.9014 - root_mean_squared_error: 26.9515 - val_loss: 1550.3862 - val_root_mean_squared_error: 39.3749\n",
      "Epoch 78/100\n",
      "\u001b[1m70/70\u001b[0m \u001b[32m━━━━━━━━━━━━━━━━━━━━\u001b[0m\u001b[37m\u001b[0m \u001b[1m0s\u001b[0m 3ms/step - loss: 623.8173 - root_mean_squared_error: 24.8674 - val_loss: 1476.2883 - val_root_mean_squared_error: 38.4225\n",
      "Epoch 79/100\n",
      "\u001b[1m70/70\u001b[0m \u001b[32m━━━━━━━━━━━━━━━━━━━━\u001b[0m\u001b[37m\u001b[0m \u001b[1m0s\u001b[0m 3ms/step - loss: 612.9156 - root_mean_squared_error: 24.6071 - val_loss: 1405.4310 - val_root_mean_squared_error: 37.4891\n",
      "Epoch 80/100\n",
      "\u001b[1m70/70\u001b[0m \u001b[32m━━━━━━━━━━━━━━━━━━━━\u001b[0m\u001b[37m\u001b[0m \u001b[1m0s\u001b[0m 3ms/step - loss: 739.6541 - root_mean_squared_error: 27.1209 - val_loss: 1335.0679 - val_root_mean_squared_error: 36.5386\n",
      "Epoch 81/100\n",
      "\u001b[1m70/70\u001b[0m \u001b[32m━━━━━━━━━━━━━━━━━━━━\u001b[0m\u001b[37m\u001b[0m \u001b[1m0s\u001b[0m 3ms/step - loss: 609.2404 - root_mean_squared_error: 24.6038 - val_loss: 1271.5333 - val_root_mean_squared_error: 35.6586\n",
      "Epoch 82/100\n",
      "\u001b[1m70/70\u001b[0m \u001b[32m━━━━━━━━━━━━━━━━━━━━\u001b[0m\u001b[37m\u001b[0m \u001b[1m0s\u001b[0m 3ms/step - loss: 562.2728 - root_mean_squared_error: 23.6513 - val_loss: 1209.9945 - val_root_mean_squared_error: 34.7850\n",
      "Epoch 83/100\n",
      "\u001b[1m70/70\u001b[0m \u001b[32m━━━━━━━━━━━━━━━━━━━━\u001b[0m\u001b[37m\u001b[0m \u001b[1m0s\u001b[0m 3ms/step - loss: 535.5135 - root_mean_squared_error: 23.0799 - val_loss: 1150.5526 - val_root_mean_squared_error: 33.9198\n",
      "Epoch 84/100\n",
      "\u001b[1m70/70\u001b[0m \u001b[32m━━━━━━━━━━━━━━━━━━━━\u001b[0m\u001b[37m\u001b[0m \u001b[1m0s\u001b[0m 3ms/step - loss: 486.5253 - root_mean_squared_error: 22.0249 - val_loss: 1087.0590 - val_root_mean_squared_error: 32.9706\n",
      "Epoch 85/100\n",
      "\u001b[1m70/70\u001b[0m \u001b[32m━━━━━━━━━━━━━━━━━━━━\u001b[0m\u001b[37m\u001b[0m \u001b[1m0s\u001b[0m 3ms/step - loss: 536.2589 - root_mean_squared_error: 23.0799 - val_loss: 1030.6334 - val_root_mean_squared_error: 32.1035\n",
      "Epoch 86/100\n",
      "\u001b[1m70/70\u001b[0m \u001b[32m━━━━━━━━━━━━━━━━━━━━\u001b[0m\u001b[37m\u001b[0m \u001b[1m0s\u001b[0m 3ms/step - loss: 515.0403 - root_mean_squared_error: 22.5961 - val_loss: 975.5193 - val_root_mean_squared_error: 31.2333\n",
      "Epoch 87/100\n",
      "\u001b[1m70/70\u001b[0m \u001b[32m━━━━━━━━━━━━━━━━━━━━\u001b[0m\u001b[37m\u001b[0m \u001b[1m0s\u001b[0m 3ms/step - loss: 447.7708 - root_mean_squared_error: 21.0670 - val_loss: 923.2134 - val_root_mean_squared_error: 30.3844\n",
      "Epoch 88/100\n",
      "\u001b[1m70/70\u001b[0m \u001b[32m━━━━━━━━━━━━━━━━━━━━\u001b[0m\u001b[37m\u001b[0m \u001b[1m0s\u001b[0m 3ms/step - loss: 434.4861 - root_mean_squared_error: 20.8046 - val_loss: 872.7994 - val_root_mean_squared_error: 29.5432\n",
      "Epoch 89/100\n",
      "\u001b[1m70/70\u001b[0m \u001b[32m━━━━━━━━━━━━━━━━━━━━\u001b[0m\u001b[37m\u001b[0m \u001b[1m0s\u001b[0m 3ms/step - loss: 360.0105 - root_mean_squared_error: 18.8385 - val_loss: 825.1224 - val_root_mean_squared_error: 28.7249\n",
      "Epoch 90/100\n",
      "\u001b[1m70/70\u001b[0m \u001b[32m━━━━━━━━━━━━━━━━━━━━\u001b[0m\u001b[37m\u001b[0m \u001b[1m0s\u001b[0m 3ms/step - loss: 412.9873 - root_mean_squared_error: 20.2904 - val_loss: 780.1196 - val_root_mean_squared_error: 27.9306\n",
      "Epoch 91/100\n",
      "\u001b[1m70/70\u001b[0m \u001b[32m━━━━━━━━━━━━━━━━━━━━\u001b[0m\u001b[37m\u001b[0m \u001b[1m0s\u001b[0m 3ms/step - loss: 331.7372 - root_mean_squared_error: 18.2030 - val_loss: 735.5735 - val_root_mean_squared_error: 27.1215\n",
      "Epoch 92/100\n",
      "\u001b[1m70/70\u001b[0m \u001b[32m━━━━━━━━━━━━━━━━━━━━\u001b[0m\u001b[37m\u001b[0m \u001b[1m0s\u001b[0m 3ms/step - loss: 370.3755 - root_mean_squared_error: 19.1811 - val_loss: 690.9186 - val_root_mean_squared_error: 26.2853\n",
      "Epoch 93/100\n",
      "\u001b[1m70/70\u001b[0m \u001b[32m━━━━━━━━━━━━━━━━━━━━\u001b[0m\u001b[37m\u001b[0m \u001b[1m0s\u001b[0m 3ms/step - loss: 394.5536 - root_mean_squared_error: 19.8019 - val_loss: 650.6050 - val_root_mean_squared_error: 25.5070\n",
      "Epoch 94/100\n",
      "\u001b[1m70/70\u001b[0m \u001b[32m━━━━━━━━━━━━━━━━━━━━\u001b[0m\u001b[37m\u001b[0m \u001b[1m0s\u001b[0m 3ms/step - loss: 343.1426 - root_mean_squared_error: 18.4459 - val_loss: 612.5598 - val_root_mean_squared_error: 24.7499\n",
      "Epoch 95/100\n",
      "\u001b[1m70/70\u001b[0m \u001b[32m━━━━━━━━━━━━━━━━━━━━\u001b[0m\u001b[37m\u001b[0m \u001b[1m0s\u001b[0m 3ms/step - loss: 316.6866 - root_mean_squared_error: 17.7668 - val_loss: 575.5095 - val_root_mean_squared_error: 23.9898\n",
      "Epoch 96/100\n",
      "\u001b[1m70/70\u001b[0m \u001b[32m━━━━━━━━━━━━━━━━━━━━\u001b[0m\u001b[37m\u001b[0m \u001b[1m0s\u001b[0m 3ms/step - loss: 282.1234 - root_mean_squared_error: 16.7368 - val_loss: 542.4113 - val_root_mean_squared_error: 23.2897\n",
      "Epoch 97/100\n",
      "\u001b[1m70/70\u001b[0m \u001b[32m━━━━━━━━━━━━━━━━━━━━\u001b[0m\u001b[37m\u001b[0m \u001b[1m0s\u001b[0m 3ms/step - loss: 275.1961 - root_mean_squared_error: 16.5131 - val_loss: 510.6438 - val_root_mean_squared_error: 22.5974\n",
      "Epoch 98/100\n",
      "\u001b[1m70/70\u001b[0m \u001b[32m━━━━━━━━━━━━━━━━━━━━\u001b[0m\u001b[37m\u001b[0m \u001b[1m0s\u001b[0m 3ms/step - loss: 250.5230 - root_mean_squared_error: 15.7632 - val_loss: 474.0122 - val_root_mean_squared_error: 21.7718\n",
      "Epoch 99/100\n",
      "\u001b[1m70/70\u001b[0m \u001b[32m━━━━━━━━━━━━━━━━━━━━\u001b[0m\u001b[37m\u001b[0m \u001b[1m0s\u001b[0m 3ms/step - loss: 288.5257 - root_mean_squared_error: 16.8752 - val_loss: 445.8056 - val_root_mean_squared_error: 21.1141\n",
      "Epoch 100/100\n",
      "\u001b[1m70/70\u001b[0m \u001b[32m━━━━━━━━━━━━━━━━━━━━\u001b[0m\u001b[37m\u001b[0m \u001b[1m0s\u001b[0m 3ms/step - loss: 239.6309 - root_mean_squared_error: 15.4646 - val_loss: 416.5960 - val_root_mean_squared_error: 20.4107\n"
     ]
    },
    {
     "data": {
      "text/plain": [
       "<keras.src.callbacks.history.History at 0x7e9868363760>"
      ]
     },
     "execution_count": 61,
     "metadata": {},
     "output_type": "execute_result"
    }
   ],
   "source": [
    "model3.fit(X_train1, y_train1, validation_data=(X_val1, y_val1), \n",
    "           epochs=100, callbacks=[cp3])"
   ]
  },
  {
   "cell_type": "code",
   "execution_count": 62,
   "id": "2522621f",
   "metadata": {
    "execution": {
     "iopub.execute_input": "2025-01-20T23:55:26.257324Z",
     "iopub.status.busy": "2025-01-20T23:55:26.256960Z",
     "iopub.status.idle": "2025-01-20T23:55:26.345883Z",
     "shell.execute_reply": "2025-01-20T23:55:26.345061Z"
    },
    "papermill": {
     "duration": 0.224486,
     "end_time": "2025-01-20T23:55:26.347700",
     "exception": false,
     "start_time": "2025-01-20T23:55:26.123214",
     "status": "completed"
    },
    "tags": []
   },
   "outputs": [],
   "source": [
    "from tensorflow.keras.models import load_model\n",
    "model3 = load_model('/kaggle/working/model3.keras')"
   ]
  },
  {
   "cell_type": "code",
   "execution_count": 63,
   "id": "7c4ac492",
   "metadata": {
    "execution": {
     "iopub.execute_input": "2025-01-20T23:55:26.613456Z",
     "iopub.status.busy": "2025-01-20T23:55:26.613104Z",
     "iopub.status.idle": "2025-01-20T23:55:27.034140Z",
     "shell.execute_reply": "2025-01-20T23:55:27.033151Z"
    },
    "papermill": {
     "duration": 0.555503,
     "end_time": "2025-01-20T23:55:27.036153",
     "exception": false,
     "start_time": "2025-01-20T23:55:26.480650",
     "status": "completed"
    },
    "tags": []
   },
   "outputs": [
    {
     "name": "stdout",
     "output_type": "stream",
     "text": [
      "\u001b[1m70/70\u001b[0m \u001b[32m━━━━━━━━━━━━━━━━━━━━\u001b[0m\u001b[37m\u001b[0m \u001b[1m0s\u001b[0m 3ms/step\n",
      "Evaluation Metrics:\n",
      "Mean Absolute Error (MAE): 6.8160\n",
      "Mean Squared Error (MSE): 240.7947\n",
      "Root Mean Squared Error (RMSE): 15.5176\n",
      "R-squared (Accuracy): 0.9256\n"
     ]
    }
   ],
   "source": [
    "# Evaluate the model on the train data\n",
    "train_result = model3.predict(X_train1)\n",
    "\n",
    "# Calculate metrics\n",
    "mse = mean_squared_error(y_train1, train_result)\n",
    "rmse = np.sqrt(mse)\n",
    "mae = mean_absolute_error(y_train1, train_result)\n",
    "r2 = r2_score(y_train1, train_result)\n",
    "\n",
    "# Print the results\n",
    "print(\"Evaluation Metrics:\")\n",
    "print(f\"Mean Absolute Error (MAE): {mae:.4f}\")\n",
    "print(f\"Mean Squared Error (MSE): {mse:.4f}\")\n",
    "print(f\"Root Mean Squared Error (RMSE): {rmse:.4f}\")\n",
    "print(f\"R-squared (Accuracy): {r2:.4f}\")"
   ]
  },
  {
   "cell_type": "code",
   "execution_count": 64,
   "id": "f26bf7c4",
   "metadata": {
    "execution": {
     "iopub.execute_input": "2025-01-20T23:55:27.303954Z",
     "iopub.status.busy": "2025-01-20T23:55:27.303597Z",
     "iopub.status.idle": "2025-01-20T23:55:27.405453Z",
     "shell.execute_reply": "2025-01-20T23:55:27.404471Z"
    },
    "papermill": {
     "duration": 0.23796,
     "end_time": "2025-01-20T23:55:27.407076",
     "exception": false,
     "start_time": "2025-01-20T23:55:27.169116",
     "status": "completed"
    },
    "tags": []
   },
   "outputs": [
    {
     "name": "stdout",
     "output_type": "stream",
     "text": [
      "\u001b[1m20/20\u001b[0m \u001b[32m━━━━━━━━━━━━━━━━━━━━\u001b[0m\u001b[37m\u001b[0m \u001b[1m0s\u001b[0m 1ms/step \n",
      "Evaluation Metrics:\n",
      "Mean Absolute Error (MAE): 12.4673\n",
      "Mean Squared Error (MSE): 416.5960\n",
      "Root Mean Squared Error (RMSE): 20.4107\n",
      "R-squared (Accuracy): 0.9258\n"
     ]
    }
   ],
   "source": [
    "# Evaluate the model on the validation data\n",
    "val_result = model3.predict(X_val1)\n",
    "\n",
    "# Calculate metrics\n",
    "mse = mean_squared_error(y_val1, val_result)\n",
    "rmse = np.sqrt(mse)\n",
    "mae = mean_absolute_error(y_val1, val_result)\n",
    "r2 = r2_score(y_val1, val_result)\n",
    "\n",
    "# Print the results\n",
    "print(\"Evaluation Metrics:\")\n",
    "print(f\"Mean Absolute Error (MAE): {mae:.4f}\")\n",
    "print(f\"Mean Squared Error (MSE): {mse:.4f}\")\n",
    "print(f\"Root Mean Squared Error (RMSE): {rmse:.4f}\")\n",
    "print(f\"R-squared (Accuracy): {r2:.4f}\")"
   ]
  },
  {
   "cell_type": "code",
   "execution_count": 65,
   "id": "9e22c7c4",
   "metadata": {
    "execution": {
     "iopub.execute_input": "2025-01-20T23:55:27.682429Z",
     "iopub.status.busy": "2025-01-20T23:55:27.682039Z",
     "iopub.status.idle": "2025-01-20T23:55:27.787801Z",
     "shell.execute_reply": "2025-01-20T23:55:27.786359Z"
    },
    "papermill": {
     "duration": 0.249973,
     "end_time": "2025-01-20T23:55:27.790371",
     "exception": false,
     "start_time": "2025-01-20T23:55:27.540398",
     "status": "completed"
    },
    "tags": []
   },
   "outputs": [
    {
     "name": "stdout",
     "output_type": "stream",
     "text": [
      "\u001b[1m10/10\u001b[0m \u001b[32m━━━━━━━━━━━━━━━━━━━━\u001b[0m\u001b[37m\u001b[0m \u001b[1m0s\u001b[0m 2ms/step \n",
      "Evaluation Metrics:\n",
      "Mean Absolute Error (MAE): 5.2357\n",
      "Mean Squared Error (MSE): 54.3196\n",
      "Root Mean Squared Error (RMSE): 7.3702\n",
      "R-squared (Accuracy): 0.9785\n"
     ]
    }
   ],
   "source": [
    "# Evaluate the model on the test data\n",
    "test_result = model3.predict(X_test1)\n",
    "\n",
    "# Calculate metrics\n",
    "mse = mean_squared_error(y_test1, test_result)\n",
    "rmse = np.sqrt(mse)\n",
    "mae = mean_absolute_error(y_test1, test_result)\n",
    "r2 = r2_score(y_test1, test_result)\n",
    "\n",
    "# Print the results\n",
    "print(\"Evaluation Metrics:\")\n",
    "print(f\"Mean Absolute Error (MAE): {mae:.4f}\")\n",
    "print(f\"Mean Squared Error (MSE): {mse:.4f}\")\n",
    "print(f\"Root Mean Squared Error (RMSE): {rmse:.4f}\")\n",
    "print(f\"R-squared (Accuracy): {r2:.4f}\")"
   ]
  },
  {
   "cell_type": "code",
   "execution_count": 66,
   "id": "1efb2a04",
   "metadata": {
    "execution": {
     "iopub.execute_input": "2025-01-20T23:55:28.060097Z",
     "iopub.status.busy": "2025-01-20T23:55:28.059718Z",
     "iopub.status.idle": "2025-01-20T23:55:28.244204Z",
     "shell.execute_reply": "2025-01-20T23:55:28.243210Z"
    },
    "papermill": {
     "duration": 0.321161,
     "end_time": "2025-01-20T23:55:28.245708",
     "exception": false,
     "start_time": "2025-01-20T23:55:27.924547",
     "status": "completed"
    },
    "tags": []
   },
   "outputs": [
    {
     "name": "stdout",
     "output_type": "stream",
     "text": [
      "\u001b[1m70/70\u001b[0m \u001b[32m━━━━━━━━━━━━━━━━━━━━\u001b[0m\u001b[37m\u001b[0m \u001b[1m0s\u001b[0m 1ms/step\n"
     ]
    },
    {
     "data": {
      "text/html": [
       "<div>\n",
       "<style scoped>\n",
       "    .dataframe tbody tr th:only-of-type {\n",
       "        vertical-align: middle;\n",
       "    }\n",
       "\n",
       "    .dataframe tbody tr th {\n",
       "        vertical-align: top;\n",
       "    }\n",
       "\n",
       "    .dataframe thead th {\n",
       "        text-align: right;\n",
       "    }\n",
       "</style>\n",
       "<table border=\"1\" class=\"dataframe\">\n",
       "  <thead>\n",
       "    <tr style=\"text-align: right;\">\n",
       "      <th></th>\n",
       "      <th>Train Predictions</th>\n",
       "      <th>Actuals</th>\n",
       "    </tr>\n",
       "  </thead>\n",
       "  <tbody>\n",
       "    <tr>\n",
       "      <th>0</th>\n",
       "      <td>196.221329</td>\n",
       "      <td>220.166667</td>\n",
       "    </tr>\n",
       "    <tr>\n",
       "      <th>1</th>\n",
       "      <td>229.092789</td>\n",
       "      <td>204.833333</td>\n",
       "    </tr>\n",
       "    <tr>\n",
       "      <th>2</th>\n",
       "      <td>186.620880</td>\n",
       "      <td>220.666667</td>\n",
       "    </tr>\n",
       "    <tr>\n",
       "      <th>3</th>\n",
       "      <td>237.250000</td>\n",
       "      <td>244.666667</td>\n",
       "    </tr>\n",
       "    <tr>\n",
       "      <th>4</th>\n",
       "      <td>246.716934</td>\n",
       "      <td>257.166667</td>\n",
       "    </tr>\n",
       "    <tr>\n",
       "      <th>...</th>\n",
       "      <td>...</td>\n",
       "      <td>...</td>\n",
       "    </tr>\n",
       "    <tr>\n",
       "      <th>2228</th>\n",
       "      <td>194.320435</td>\n",
       "      <td>203.666667</td>\n",
       "    </tr>\n",
       "    <tr>\n",
       "      <th>2229</th>\n",
       "      <td>209.922424</td>\n",
       "      <td>220.333333</td>\n",
       "    </tr>\n",
       "    <tr>\n",
       "      <th>2230</th>\n",
       "      <td>229.868561</td>\n",
       "      <td>227.500000</td>\n",
       "    </tr>\n",
       "    <tr>\n",
       "      <th>2231</th>\n",
       "      <td>226.860550</td>\n",
       "      <td>229.333333</td>\n",
       "    </tr>\n",
       "    <tr>\n",
       "      <th>2232</th>\n",
       "      <td>227.899216</td>\n",
       "      <td>233.166667</td>\n",
       "    </tr>\n",
       "  </tbody>\n",
       "</table>\n",
       "<p>2233 rows × 2 columns</p>\n",
       "</div>"
      ],
      "text/plain": [
       "      Train Predictions     Actuals\n",
       "0            196.221329  220.166667\n",
       "1            229.092789  204.833333\n",
       "2            186.620880  220.666667\n",
       "3            237.250000  244.666667\n",
       "4            246.716934  257.166667\n",
       "...                 ...         ...\n",
       "2228         194.320435  203.666667\n",
       "2229         209.922424  220.333333\n",
       "2230         229.868561  227.500000\n",
       "2231         226.860550  229.333333\n",
       "2232         227.899216  233.166667\n",
       "\n",
       "[2233 rows x 2 columns]"
      ]
     },
     "execution_count": 66,
     "metadata": {},
     "output_type": "execute_result"
    }
   ],
   "source": [
    "train_predictions = model3.predict(X_train1).flatten()\n",
    "train_results = pd.DataFrame(data={'Train Predictions':train_predictions, 'Actuals':y_train1})\n",
    "train_results"
   ]
  },
  {
   "cell_type": "code",
   "execution_count": 67,
   "id": "55d0e9de",
   "metadata": {
    "execution": {
     "iopub.execute_input": "2025-01-20T23:55:28.520115Z",
     "iopub.status.busy": "2025-01-20T23:55:28.519730Z",
     "iopub.status.idle": "2025-01-20T23:55:28.734154Z",
     "shell.execute_reply": "2025-01-20T23:55:28.733157Z"
    },
    "papermill": {
     "duration": 0.353853,
     "end_time": "2025-01-20T23:55:28.735797",
     "exception": false,
     "start_time": "2025-01-20T23:55:28.381944",
     "status": "completed"
    },
    "tags": []
   },
   "outputs": [
    {
     "data": {
      "image/png": "[encoded data removed]",
      "text/plain": [
       "<Figure size 640x480 with 1 Axes>"
      ]
     },
     "metadata": {},
     "output_type": "display_data"
    }
   ],
   "source": [
    "plt.plot(train_results['Actuals'][1:50], label='Actual')\n",
    "plt.plot(train_results['Train Predictions'][1:50], label='Predicted')\n",
    "plt.legend()\n",
    "plt.show()"
   ]
  },
  {
   "cell_type": "code",
   "execution_count": 68,
   "id": "d0ba3712",
   "metadata": {
    "execution": {
     "iopub.execute_input": "2025-01-20T23:55:29.010073Z",
     "iopub.status.busy": "2025-01-20T23:55:29.009692Z",
     "iopub.status.idle": "2025-01-20T23:55:29.114641Z",
     "shell.execute_reply": "2025-01-20T23:55:29.113654Z"
    },
    "papermill": {
     "duration": 0.243222,
     "end_time": "2025-01-20T23:55:29.116349",
     "exception": false,
     "start_time": "2025-01-20T23:55:28.873127",
     "status": "completed"
    },
    "tags": []
   },
   "outputs": [
    {
     "name": "stdout",
     "output_type": "stream",
     "text": [
      "\u001b[1m20/20\u001b[0m \u001b[32m━━━━━━━━━━━━━━━━━━━━\u001b[0m\u001b[37m\u001b[0m \u001b[1m0s\u001b[0m 1ms/step \n"
     ]
    },
    {
     "data": {
      "text/html": [
       "<div>\n",
       "<style scoped>\n",
       "    .dataframe tbody tr th:only-of-type {\n",
       "        vertical-align: middle;\n",
       "    }\n",
       "\n",
       "    .dataframe tbody tr th {\n",
       "        vertical-align: top;\n",
       "    }\n",
       "\n",
       "    .dataframe thead th {\n",
       "        text-align: right;\n",
       "    }\n",
       "</style>\n",
       "<table border=\"1\" class=\"dataframe\">\n",
       "  <thead>\n",
       "    <tr style=\"text-align: right;\">\n",
       "      <th></th>\n",
       "      <th>Train Predictions</th>\n",
       "      <th>Actuals</th>\n",
       "    </tr>\n",
       "  </thead>\n",
       "  <tbody>\n",
       "    <tr>\n",
       "      <th>0</th>\n",
       "      <td>204.001862</td>\n",
       "      <td>198.333333</td>\n",
       "    </tr>\n",
       "    <tr>\n",
       "      <th>1</th>\n",
       "      <td>191.178543</td>\n",
       "      <td>194.000000</td>\n",
       "    </tr>\n",
       "    <tr>\n",
       "      <th>2</th>\n",
       "      <td>190.496399</td>\n",
       "      <td>192.333333</td>\n",
       "    </tr>\n",
       "    <tr>\n",
       "      <th>3</th>\n",
       "      <td>189.765472</td>\n",
       "      <td>189.166667</td>\n",
       "    </tr>\n",
       "    <tr>\n",
       "      <th>4</th>\n",
       "      <td>185.630936</td>\n",
       "      <td>187.166667</td>\n",
       "    </tr>\n",
       "    <tr>\n",
       "      <th>...</th>\n",
       "      <td>...</td>\n",
       "      <td>...</td>\n",
       "    </tr>\n",
       "    <tr>\n",
       "      <th>628</th>\n",
       "      <td>215.738815</td>\n",
       "      <td>211.666667</td>\n",
       "    </tr>\n",
       "    <tr>\n",
       "      <th>629</th>\n",
       "      <td>207.778061</td>\n",
       "      <td>207.000000</td>\n",
       "    </tr>\n",
       "    <tr>\n",
       "      <th>630</th>\n",
       "      <td>203.624786</td>\n",
       "      <td>190.833333</td>\n",
       "    </tr>\n",
       "    <tr>\n",
       "      <th>631</th>\n",
       "      <td>180.129395</td>\n",
       "      <td>190.833333</td>\n",
       "    </tr>\n",
       "    <tr>\n",
       "      <th>632</th>\n",
       "      <td>191.956680</td>\n",
       "      <td>188.500000</td>\n",
       "    </tr>\n",
       "  </tbody>\n",
       "</table>\n",
       "<p>633 rows × 2 columns</p>\n",
       "</div>"
      ],
      "text/plain": [
       "     Train Predictions     Actuals\n",
       "0           204.001862  198.333333\n",
       "1           191.178543  194.000000\n",
       "2           190.496399  192.333333\n",
       "3           189.765472  189.166667\n",
       "4           185.630936  187.166667\n",
       "..                 ...         ...\n",
       "628         215.738815  211.666667\n",
       "629         207.778061  207.000000\n",
       "630         203.624786  190.833333\n",
       "631         180.129395  190.833333\n",
       "632         191.956680  188.500000\n",
       "\n",
       "[633 rows x 2 columns]"
      ]
     },
     "execution_count": 68,
     "metadata": {},
     "output_type": "execute_result"
    }
   ],
   "source": [
    "val_predictions = model3.predict(X_val1).flatten()\n",
    "val_results = pd.DataFrame(data={'Train Predictions':val_predictions, 'Actuals':y_val1})\n",
    "val_results"
   ]
  },
  {
   "cell_type": "code",
   "execution_count": 69,
   "id": "509feb32",
   "metadata": {
    "execution": {
     "iopub.execute_input": "2025-01-20T23:55:29.390927Z",
     "iopub.status.busy": "2025-01-20T23:55:29.390551Z",
     "iopub.status.idle": "2025-01-20T23:55:29.565498Z",
     "shell.execute_reply": "2025-01-20T23:55:29.564410Z"
    },
    "papermill": {
     "duration": 0.31372,
     "end_time": "2025-01-20T23:55:29.567034",
     "exception": false,
     "start_time": "2025-01-20T23:55:29.253314",
     "status": "completed"
    },
    "tags": []
   },
   "outputs": [
    {
     "data": {
      "image/png": "[encoded data removed]",
      "text/plain": [
       "<Figure size 640x480 with 1 Axes>"
      ]
     },
     "metadata": {},
     "output_type": "display_data"
    }
   ],
   "source": [
    "plt.plot(val_results['Actuals'][1:50], label='Actual')\n",
    "plt.plot(val_results['Train Predictions'][1:50], label='Predicted')\n",
    "plt.legend()\n",
    "plt.show()"
   ]
  },
  {
   "cell_type": "code",
   "execution_count": 70,
   "id": "ae3197c4",
   "metadata": {
    "execution": {
     "iopub.execute_input": "2025-01-20T23:55:29.890068Z",
     "iopub.status.busy": "2025-01-20T23:55:29.889718Z",
     "iopub.status.idle": "2025-01-20T23:55:29.980867Z",
     "shell.execute_reply": "2025-01-20T23:55:29.979838Z"
    },
    "papermill": {
     "duration": 0.280352,
     "end_time": "2025-01-20T23:55:29.982404",
     "exception": false,
     "start_time": "2025-01-20T23:55:29.702052",
     "status": "completed"
    },
    "tags": []
   },
   "outputs": [
    {
     "name": "stdout",
     "output_type": "stream",
     "text": [
      "\u001b[1m10/10\u001b[0m \u001b[32m━━━━━━━━━━━━━━━━━━━━\u001b[0m\u001b[37m\u001b[0m \u001b[1m0s\u001b[0m 1ms/step \n"
     ]
    },
    {
     "data": {
      "text/html": [
       "<div>\n",
       "<style scoped>\n",
       "    .dataframe tbody tr th:only-of-type {\n",
       "        vertical-align: middle;\n",
       "    }\n",
       "\n",
       "    .dataframe tbody tr th {\n",
       "        vertical-align: top;\n",
       "    }\n",
       "\n",
       "    .dataframe thead th {\n",
       "        text-align: right;\n",
       "    }\n",
       "</style>\n",
       "<table border=\"1\" class=\"dataframe\">\n",
       "  <thead>\n",
       "    <tr style=\"text-align: right;\">\n",
       "      <th></th>\n",
       "      <th>Train Predictions</th>\n",
       "      <th>Actuals</th>\n",
       "    </tr>\n",
       "  </thead>\n",
       "  <tbody>\n",
       "    <tr>\n",
       "      <th>0</th>\n",
       "      <td>187.058640</td>\n",
       "      <td>187.166667</td>\n",
       "    </tr>\n",
       "    <tr>\n",
       "      <th>1</th>\n",
       "      <td>184.957504</td>\n",
       "      <td>183.833333</td>\n",
       "    </tr>\n",
       "    <tr>\n",
       "      <th>2</th>\n",
       "      <td>180.937424</td>\n",
       "      <td>184.833333</td>\n",
       "    </tr>\n",
       "    <tr>\n",
       "      <th>3</th>\n",
       "      <td>184.703171</td>\n",
       "      <td>187.500000</td>\n",
       "    </tr>\n",
       "    <tr>\n",
       "      <th>4</th>\n",
       "      <td>187.886780</td>\n",
       "      <td>192.500000</td>\n",
       "    </tr>\n",
       "    <tr>\n",
       "      <th>...</th>\n",
       "      <td>...</td>\n",
       "      <td>...</td>\n",
       "    </tr>\n",
       "    <tr>\n",
       "      <th>310</th>\n",
       "      <td>142.997818</td>\n",
       "      <td>149.166667</td>\n",
       "    </tr>\n",
       "    <tr>\n",
       "      <th>311</th>\n",
       "      <td>150.702011</td>\n",
       "      <td>149.833333</td>\n",
       "    </tr>\n",
       "    <tr>\n",
       "      <th>312</th>\n",
       "      <td>149.060059</td>\n",
       "      <td>149.666667</td>\n",
       "    </tr>\n",
       "    <tr>\n",
       "      <th>313</th>\n",
       "      <td>148.334229</td>\n",
       "      <td>149.666667</td>\n",
       "    </tr>\n",
       "    <tr>\n",
       "      <th>314</th>\n",
       "      <td>148.679153</td>\n",
       "      <td>149.666667</td>\n",
       "    </tr>\n",
       "  </tbody>\n",
       "</table>\n",
       "<p>315 rows × 2 columns</p>\n",
       "</div>"
      ],
      "text/plain": [
       "     Train Predictions     Actuals\n",
       "0           187.058640  187.166667\n",
       "1           184.957504  183.833333\n",
       "2           180.937424  184.833333\n",
       "3           184.703171  187.500000\n",
       "4           187.886780  192.500000\n",
       "..                 ...         ...\n",
       "310         142.997818  149.166667\n",
       "311         150.702011  149.833333\n",
       "312         149.060059  149.666667\n",
       "313         148.334229  149.666667\n",
       "314         148.679153  149.666667\n",
       "\n",
       "[315 rows x 2 columns]"
      ]
     },
     "execution_count": 70,
     "metadata": {},
     "output_type": "execute_result"
    }
   ],
   "source": [
    "test_predictions = model3.predict(X_test1).flatten()\n",
    "test_results = pd.DataFrame(data={'Train Predictions':test_predictions, 'Actuals':y_test1})\n",
    "test_results"
   ]
  },
  {
   "cell_type": "code",
   "execution_count": 71,
   "id": "81935051",
   "metadata": {
    "execution": {
     "iopub.execute_input": "2025-01-20T23:55:30.259773Z",
     "iopub.status.busy": "2025-01-20T23:55:30.259377Z",
     "iopub.status.idle": "2025-01-20T23:55:30.433010Z",
     "shell.execute_reply": "2025-01-20T23:55:30.431985Z"
    },
    "papermill": {
     "duration": 0.315138,
     "end_time": "2025-01-20T23:55:30.434579",
     "exception": false,
     "start_time": "2025-01-20T23:55:30.119441",
     "status": "completed"
    },
    "tags": []
   },
   "outputs": [
    {
     "data": {
      "image/png": "[encoded data removed]",
      "text/plain": [
       "<Figure size 640x480 with 1 Axes>"
      ]
     },
     "metadata": {},
     "output_type": "display_data"
    }
   ],
   "source": [
    "plt.plot(test_results['Train Predictions'][1:50], label='Predicted')\n",
    "plt.plot(test_results['Actuals'][1:50], label='Actual')\n",
    "plt.legend()\n",
    "plt.show()"
   ]
  },
  {
   "cell_type": "code",
   "execution_count": null,
   "id": "a03da317",
   "metadata": {
    "papermill": {
     "duration": 0.136781,
     "end_time": "2025-01-20T23:55:30.711563",
     "exception": false,
     "start_time": "2025-01-20T23:55:30.574782",
     "status": "completed"
    },
    "tags": []
   },
   "outputs": [],
   "source": []
  }
 ],
 "metadata": {
  "kaggle": {
   "accelerator": "none",
   "dataSources": [
    {
     "datasetId": 6454996,
     "sourceId": 10415081,
     "sourceType": "datasetVersion"
    },
    {
     "sourceId": 217469152,
     "sourceType": "kernelVersion"
    }
   ],
   "dockerImageVersionId": 30822,
   "isGpuEnabled": false,
   "isInternetEnabled": true,
   "language": "python",
   "sourceType": "notebook"
  },
  "kernelspec": {
   "display_name": "Python 3",
   "language": "python",
   "name": "python3"
  },
  "language_info": {
   "codemirror_mode": {
    "name": "ipython",
    "version": 3
   },
   "file_extension": ".py",
   "mimetype": "text/x-python",
   "name": "python",
   "nbconvert_exporter": "python",
   "pygments_lexer": "ipython3",
   "version": "3.10.12"
  },
  "papermill": {
   "default_parameters": {},
   "duration": 124.012936,
   "end_time": "2025-01-20T23:55:33.386842",
   "environment_variables": {},
   "exception": null,
   "input_path": "__notebook__.ipynb",
   "output_path": "__notebook__.ipynb",
   "parameters": {},
   "start_time": "2025-01-20T23:53:29.373906",
   "version": "2.6.0"
  }
 },
 "nbformat": 4,
 "nbformat_minor": 5
}
