{
 "cells": [
  {
   "cell_type": "code",
   "execution_count": 1,
   "id": "b0fbd300",
   "metadata": {
    "_cell_guid": "0bd5fd8f-4de5-406f-92da-d16f3c990795",
    "_uuid": "63737120-456d-498d-a950-7893b9099e72",
    "collapsed": false,
    "execution": {
     "iopub.execute_input": "2025-01-14T20:24:47.951433Z",
     "iopub.status.busy": "2025-01-14T20:24:47.951061Z",
     "iopub.status.idle": "2025-01-14T20:24:50.140714Z",
     "shell.execute_reply": "2025-01-14T20:24:50.139776Z"
    },
    "jupyter": {
     "outputs_hidden": false
    },
    "papermill": {
     "duration": 2.207722,
     "end_time": "2025-01-14T20:24:50.142596",
     "exception": false,
     "start_time": "2025-01-14T20:24:47.934874",
     "status": "completed"
    },
    "tags": []
   },
   "outputs": [],
   "source": [
    "# Packages / libraries\n",
    "import os #provides functions for interacting with the operating system\n",
    "import numpy as np\n",
    "import pandas as pd\n",
    "from matplotlib import pyplot as plt\n",
    "import seaborn as sns\n",
    "\n",
    "from sklearn.preprocessing import MinMaxScaler\n",
    "from sklearn.preprocessing import StandardScaler\n",
    "from sklearn.metrics import mean_squared_error, mean_absolute_error, r2_score\n",
    "\n",
    "# remove warnings\n",
    "import warnings\n",
    "warnings.simplefilter(action='ignore', category=FutureWarning)"
   ]
  },
  {
   "cell_type": "markdown",
   "id": "78dbc719",
   "metadata": {
    "papermill": {
     "duration": 0.020981,
     "end_time": "2025-01-14T20:24:50.181959",
     "exception": false,
     "start_time": "2025-01-14T20:24:50.160978",
     "status": "completed"
    },
    "tags": []
   },
   "source": [
    "# **1. Loading Dataset**"
   ]
  },
  {
   "cell_type": "code",
   "execution_count": 2,
   "id": "77006736",
   "metadata": {
    "execution": {
     "iopub.execute_input": "2025-01-14T20:24:50.223278Z",
     "iopub.status.busy": "2025-01-14T20:24:50.222780Z",
     "iopub.status.idle": "2025-01-14T20:24:50.278169Z",
     "shell.execute_reply": "2025-01-14T20:24:50.276590Z"
    },
    "papermill": {
     "duration": 0.073067,
     "end_time": "2025-01-14T20:24:50.280332",
     "exception": false,
     "start_time": "2025-01-14T20:24:50.207265",
     "status": "completed"
    },
    "tags": []
   },
   "outputs": [
    {
     "name": "stdout",
     "output_type": "stream",
     "text": [
      "(2769, 12)\n"
     ]
    },
    {
     "data": {
      "text/html": [
       "<div>\n",
       "<style scoped>\n",
       "    .dataframe tbody tr th:only-of-type {\n",
       "        vertical-align: middle;\n",
       "    }\n",
       "\n",
       "    .dataframe tbody tr th {\n",
       "        vertical-align: top;\n",
       "    }\n",
       "\n",
       "    .dataframe thead th {\n",
       "        text-align: right;\n",
       "    }\n",
       "</style>\n",
       "<table border=\"1\" class=\"dataframe\">\n",
       "  <thead>\n",
       "    <tr style=\"text-align: right;\">\n",
       "      <th></th>\n",
       "      <th>Date</th>\n",
       "      <th>co</th>\n",
       "      <th>no2</th>\n",
       "      <th>o3</th>\n",
       "      <th>pm10</th>\n",
       "      <th>pm25</th>\n",
       "      <th>so2</th>\n",
       "      <th>humidity</th>\n",
       "      <th>pressure</th>\n",
       "      <th>temperature</th>\n",
       "      <th>wind-speed</th>\n",
       "      <th>Country_City</th>\n",
       "    </tr>\n",
       "  </thead>\n",
       "  <tbody>\n",
       "    <tr>\n",
       "      <th>0</th>\n",
       "      <td>2014-12-29</td>\n",
       "      <td>NaN</td>\n",
       "      <td>4.7</td>\n",
       "      <td>15.2</td>\n",
       "      <td>9.0</td>\n",
       "      <td>12.0</td>\n",
       "      <td>2.9</td>\n",
       "      <td>NaN</td>\n",
       "      <td>NaN</td>\n",
       "      <td>NaN</td>\n",
       "      <td>NaN</td>\n",
       "      <td>Australia_Newcastle</td>\n",
       "    </tr>\n",
       "    <tr>\n",
       "      <th>1</th>\n",
       "      <td>2014-12-30</td>\n",
       "      <td>3.4</td>\n",
       "      <td>4.7</td>\n",
       "      <td>19.2</td>\n",
       "      <td>21.0</td>\n",
       "      <td>23.0</td>\n",
       "      <td>1.5</td>\n",
       "      <td>NaN</td>\n",
       "      <td>NaN</td>\n",
       "      <td>NaN</td>\n",
       "      <td>NaN</td>\n",
       "      <td>Australia_Newcastle</td>\n",
       "    </tr>\n",
       "    <tr>\n",
       "      <th>2</th>\n",
       "      <td>2014-12-31</td>\n",
       "      <td>2.3</td>\n",
       "      <td>2.8</td>\n",
       "      <td>17.6</td>\n",
       "      <td>38.0</td>\n",
       "      <td>39.0</td>\n",
       "      <td>1.5</td>\n",
       "      <td>NaN</td>\n",
       "      <td>NaN</td>\n",
       "      <td>NaN</td>\n",
       "      <td>NaN</td>\n",
       "      <td>Australia_Newcastle</td>\n",
       "    </tr>\n",
       "    <tr>\n",
       "      <th>3</th>\n",
       "      <td>2015-01-01</td>\n",
       "      <td>2.3</td>\n",
       "      <td>1.9</td>\n",
       "      <td>16.8</td>\n",
       "      <td>24.0</td>\n",
       "      <td>38.0</td>\n",
       "      <td>1.5</td>\n",
       "      <td>NaN</td>\n",
       "      <td>NaN</td>\n",
       "      <td>NaN</td>\n",
       "      <td>NaN</td>\n",
       "      <td>Australia_Newcastle</td>\n",
       "    </tr>\n",
       "    <tr>\n",
       "      <th>4</th>\n",
       "      <td>2015-01-02</td>\n",
       "      <td>NaN</td>\n",
       "      <td>3.8</td>\n",
       "      <td>10.4</td>\n",
       "      <td>24.0</td>\n",
       "      <td>42.0</td>\n",
       "      <td>2.9</td>\n",
       "      <td>NaN</td>\n",
       "      <td>NaN</td>\n",
       "      <td>NaN</td>\n",
       "      <td>NaN</td>\n",
       "      <td>Australia_Newcastle</td>\n",
       "    </tr>\n",
       "  </tbody>\n",
       "</table>\n",
       "</div>"
      ],
      "text/plain": [
       "         Date   co  no2    o3  pm10  pm25  so2  humidity  pressure  \\\n",
       "0  2014-12-29  NaN  4.7  15.2   9.0  12.0  2.9       NaN       NaN   \n",
       "1  2014-12-30  3.4  4.7  19.2  21.0  23.0  1.5       NaN       NaN   \n",
       "2  2014-12-31  2.3  2.8  17.6  38.0  39.0  1.5       NaN       NaN   \n",
       "3  2015-01-01  2.3  1.9  16.8  24.0  38.0  1.5       NaN       NaN   \n",
       "4  2015-01-02  NaN  3.8  10.4  24.0  42.0  2.9       NaN       NaN   \n",
       "\n",
       "   temperature  wind-speed         Country_City  \n",
       "0          NaN         NaN  Australia_Newcastle  \n",
       "1          NaN         NaN  Australia_Newcastle  \n",
       "2          NaN         NaN  Australia_Newcastle  \n",
       "3          NaN         NaN  Australia_Newcastle  \n",
       "4          NaN         NaN  Australia_Newcastle  "
      ]
     },
     "execution_count": 2,
     "metadata": {},
     "output_type": "execute_result"
    }
   ],
   "source": [
    "# Loading the data\n",
    "new_data = pd.read_csv(\"/kaggle/input/seperated-data/Australia_Newcastle.csv\")\n",
    "\n",
    "# print the shape\n",
    "print(new_data.shape)\n",
    "\n",
    "#runs the first 5 rows\n",
    "new_data.head()"
   ]
  },
  {
   "cell_type": "code",
   "execution_count": 3,
   "id": "2595e1d1",
   "metadata": {
    "execution": {
     "iopub.execute_input": "2025-01-14T20:24:50.316661Z",
     "iopub.status.busy": "2025-01-14T20:24:50.316116Z",
     "iopub.status.idle": "2025-01-14T20:24:50.325697Z",
     "shell.execute_reply": "2025-01-14T20:24:50.324662Z"
    },
    "papermill": {
     "duration": 0.031869,
     "end_time": "2025-01-14T20:24:50.327313",
     "exception": false,
     "start_time": "2025-01-14T20:24:50.295444",
     "status": "completed"
    },
    "tags": []
   },
   "outputs": [
    {
     "name": "stdout",
     "output_type": "stream",
     "text": [
      "Minimum date: 2014-12-29\n",
      "Maximum date: 2025-01-09\n"
     ]
    }
   ],
   "source": [
    "# Find the minimum and maximum dates\n",
    "min_date = new_data['Date'].min()\n",
    "max_date = new_data['Date'].max()\n",
    "\n",
    "print('Minimum date:', min_date)\n",
    "print('Maximum date:', max_date)"
   ]
  },
  {
   "cell_type": "code",
   "execution_count": 4,
   "id": "8b363f5b",
   "metadata": {
    "execution": {
     "iopub.execute_input": "2025-01-14T20:24:50.359710Z",
     "iopub.status.busy": "2025-01-14T20:24:50.359228Z",
     "iopub.status.idle": "2025-01-14T20:24:50.387521Z",
     "shell.execute_reply": "2025-01-14T20:24:50.386427Z"
    },
    "papermill": {
     "duration": 0.04626,
     "end_time": "2025-01-14T20:24:50.389204",
     "exception": false,
     "start_time": "2025-01-14T20:24:50.342944",
     "status": "completed"
    },
    "tags": []
   },
   "outputs": [
    {
     "name": "stdout",
     "output_type": "stream",
     "text": [
      "<class 'pandas.core.frame.DataFrame'>\n",
      "RangeIndex: 2769 entries, 0 to 2768\n",
      "Data columns (total 12 columns):\n",
      " #   Column        Non-Null Count  Dtype  \n",
      "---  ------        --------------  -----  \n",
      " 0   Date          2769 non-null   object \n",
      " 1   co            858 non-null    float64\n",
      " 2   no2           2769 non-null   float64\n",
      " 3   o3            1067 non-null   float64\n",
      " 4   pm10          2769 non-null   float64\n",
      " 5   pm25          2768 non-null   float64\n",
      " 6   so2           2760 non-null   float64\n",
      " 7   humidity      2053 non-null   float64\n",
      " 8   pressure      2053 non-null   float64\n",
      " 9   temperature   2053 non-null   float64\n",
      " 10  wind-speed    1971 non-null   float64\n",
      " 11  Country_City  2769 non-null   object \n",
      "dtypes: float64(10), object(2)\n",
      "memory usage: 259.7+ KB\n"
     ]
    }
   ],
   "source": [
    "new_data.info()"
   ]
  },
  {
   "cell_type": "code",
   "execution_count": 5,
   "id": "5f2178c7",
   "metadata": {
    "execution": {
     "iopub.execute_input": "2025-01-14T20:24:50.419629Z",
     "iopub.status.busy": "2025-01-14T20:24:50.419136Z",
     "iopub.status.idle": "2025-01-14T20:24:50.461416Z",
     "shell.execute_reply": "2025-01-14T20:24:50.457763Z"
    },
    "papermill": {
     "duration": 0.059994,
     "end_time": "2025-01-14T20:24:50.463721",
     "exception": false,
     "start_time": "2025-01-14T20:24:50.403727",
     "status": "completed"
    },
    "tags": []
   },
   "outputs": [
    {
     "data": {
      "text/html": [
       "<div>\n",
       "<style scoped>\n",
       "    .dataframe tbody tr th:only-of-type {\n",
       "        vertical-align: middle;\n",
       "    }\n",
       "\n",
       "    .dataframe tbody tr th {\n",
       "        vertical-align: top;\n",
       "    }\n",
       "\n",
       "    .dataframe thead th {\n",
       "        text-align: right;\n",
       "    }\n",
       "</style>\n",
       "<table border=\"1\" class=\"dataframe\">\n",
       "  <thead>\n",
       "    <tr style=\"text-align: right;\">\n",
       "      <th></th>\n",
       "      <th>co</th>\n",
       "      <th>no2</th>\n",
       "      <th>o3</th>\n",
       "      <th>pm10</th>\n",
       "      <th>pm25</th>\n",
       "      <th>so2</th>\n",
       "      <th>humidity</th>\n",
       "      <th>pressure</th>\n",
       "      <th>temperature</th>\n",
       "      <th>wind-speed</th>\n",
       "    </tr>\n",
       "  </thead>\n",
       "  <tbody>\n",
       "    <tr>\n",
       "      <th>count</th>\n",
       "      <td>858.000000</td>\n",
       "      <td>2769.000000</td>\n",
       "      <td>1067.000000</td>\n",
       "      <td>2769.000000</td>\n",
       "      <td>2768.000000</td>\n",
       "      <td>2760.000000</td>\n",
       "      <td>2053.000000</td>\n",
       "      <td>2053.000000</td>\n",
       "      <td>2053.000000</td>\n",
       "      <td>1971.000000</td>\n",
       "    </tr>\n",
       "    <tr>\n",
       "      <th>mean</th>\n",
       "      <td>3.138695</td>\n",
       "      <td>6.514121</td>\n",
       "      <td>13.619213</td>\n",
       "      <td>18.044059</td>\n",
       "      <td>26.636199</td>\n",
       "      <td>2.290507</td>\n",
       "      <td>76.125037</td>\n",
       "      <td>1017.074963</td>\n",
       "      <td>18.027667</td>\n",
       "      <td>3.545358</td>\n",
       "    </tr>\n",
       "    <tr>\n",
       "      <th>std</th>\n",
       "      <td>1.590218</td>\n",
       "      <td>3.673895</td>\n",
       "      <td>5.315606</td>\n",
       "      <td>7.945911</td>\n",
       "      <td>14.282966</td>\n",
       "      <td>1.146280</td>\n",
       "      <td>12.383626</td>\n",
       "      <td>6.779257</td>\n",
       "      <td>4.160502</td>\n",
       "      <td>1.683754</td>\n",
       "    </tr>\n",
       "    <tr>\n",
       "      <th>min</th>\n",
       "      <td>1.200000</td>\n",
       "      <td>1.000000</td>\n",
       "      <td>0.800000</td>\n",
       "      <td>4.000000</td>\n",
       "      <td>8.000000</td>\n",
       "      <td>1.500000</td>\n",
       "      <td>27.000000</td>\n",
       "      <td>993.700000</td>\n",
       "      <td>8.200000</td>\n",
       "      <td>0.300000</td>\n",
       "    </tr>\n",
       "    <tr>\n",
       "      <th>25%</th>\n",
       "      <td>2.300000</td>\n",
       "      <td>3.800000</td>\n",
       "      <td>10.400000</td>\n",
       "      <td>13.000000</td>\n",
       "      <td>17.000000</td>\n",
       "      <td>1.500000</td>\n",
       "      <td>69.600000</td>\n",
       "      <td>1012.400000</td>\n",
       "      <td>14.400000</td>\n",
       "      <td>2.500000</td>\n",
       "    </tr>\n",
       "    <tr>\n",
       "      <th>50%</th>\n",
       "      <td>3.400000</td>\n",
       "      <td>5.600000</td>\n",
       "      <td>13.600000</td>\n",
       "      <td>17.000000</td>\n",
       "      <td>23.000000</td>\n",
       "      <td>1.500000</td>\n",
       "      <td>78.200000</td>\n",
       "      <td>1017.000000</td>\n",
       "      <td>18.200000</td>\n",
       "      <td>3.100000</td>\n",
       "    </tr>\n",
       "    <tr>\n",
       "      <th>75%</th>\n",
       "      <td>3.400000</td>\n",
       "      <td>9.300000</td>\n",
       "      <td>16.800000</td>\n",
       "      <td>21.000000</td>\n",
       "      <td>32.000000</td>\n",
       "      <td>2.900000</td>\n",
       "      <td>85.100000</td>\n",
       "      <td>1022.000000</td>\n",
       "      <td>21.200000</td>\n",
       "      <td>4.300000</td>\n",
       "    </tr>\n",
       "    <tr>\n",
       "      <th>max</th>\n",
       "      <td>16.700000</td>\n",
       "      <td>22.300000</td>\n",
       "      <td>41.600000</td>\n",
       "      <td>87.000000</td>\n",
       "      <td>172.000000</td>\n",
       "      <td>17.200000</td>\n",
       "      <td>98.000000</td>\n",
       "      <td>1035.900000</td>\n",
       "      <td>32.000000</td>\n",
       "      <td>13.000000</td>\n",
       "    </tr>\n",
       "  </tbody>\n",
       "</table>\n",
       "</div>"
      ],
      "text/plain": [
       "               co          no2           o3         pm10         pm25  \\\n",
       "count  858.000000  2769.000000  1067.000000  2769.000000  2768.000000   \n",
       "mean     3.138695     6.514121    13.619213    18.044059    26.636199   \n",
       "std      1.590218     3.673895     5.315606     7.945911    14.282966   \n",
       "min      1.200000     1.000000     0.800000     4.000000     8.000000   \n",
       "25%      2.300000     3.800000    10.400000    13.000000    17.000000   \n",
       "50%      3.400000     5.600000    13.600000    17.000000    23.000000   \n",
       "75%      3.400000     9.300000    16.800000    21.000000    32.000000   \n",
       "max     16.700000    22.300000    41.600000    87.000000   172.000000   \n",
       "\n",
       "               so2     humidity     pressure  temperature   wind-speed  \n",
       "count  2760.000000  2053.000000  2053.000000  2053.000000  1971.000000  \n",
       "mean      2.290507    76.125037  1017.074963    18.027667     3.545358  \n",
       "std       1.146280    12.383626     6.779257     4.160502     1.683754  \n",
       "min       1.500000    27.000000   993.700000     8.200000     0.300000  \n",
       "25%       1.500000    69.600000  1012.400000    14.400000     2.500000  \n",
       "50%       1.500000    78.200000  1017.000000    18.200000     3.100000  \n",
       "75%       2.900000    85.100000  1022.000000    21.200000     4.300000  \n",
       "max      17.200000    98.000000  1035.900000    32.000000    13.000000  "
      ]
     },
     "execution_count": 5,
     "metadata": {},
     "output_type": "execute_result"
    }
   ],
   "source": [
    "new_data.describe()"
   ]
  },
  {
   "cell_type": "code",
   "execution_count": 6,
   "id": "61844376",
   "metadata": {
    "execution": {
     "iopub.execute_input": "2025-01-14T20:24:50.495155Z",
     "iopub.status.busy": "2025-01-14T20:24:50.494788Z",
     "iopub.status.idle": "2025-01-14T20:24:50.509550Z",
     "shell.execute_reply": "2025-01-14T20:24:50.508116Z"
    },
    "papermill": {
     "duration": 0.032876,
     "end_time": "2025-01-14T20:24:50.511887",
     "exception": false,
     "start_time": "2025-01-14T20:24:50.479011",
     "status": "completed"
    },
    "tags": []
   },
   "outputs": [
    {
     "name": "stdout",
     "output_type": "stream",
     "text": [
      "The number of values for feature Date :2767\n",
      "The number of values for feature co :11 -- [ 1.2  2.3  3.4  4.5  5.6  6.7  7.8  8.9 11.2 16.7  nan]\n",
      "The number of values for feature no2 :22\n",
      "The number of values for feature o3 :40\n",
      "The number of values for feature pm10 :61\n",
      "The number of values for feature pm25 :81\n",
      "The number of values for feature so2 :9 -- [ 1.5  2.9  4.3  5.8  7.2  8.6 10.  17.2  nan]\n",
      "The number of values for feature humidity :477\n",
      "The number of values for feature pressure :323\n",
      "The number of values for feature temperature :189\n",
      "The number of values for feature wind-speed :105\n",
      "The number of values for feature Country_City :1 -- ['Australia_Newcastle']\n"
     ]
    }
   ],
   "source": [
    "# Investigate all the elements whithin each Feature\n",
    "\n",
    "for column in new_data:\n",
    "    # Handle numerical and string columns differently\n",
    "    if new_data[column].dtype == 'object':  # Check if column is of object type\n",
    "        unique_vals = new_data[column].unique()  # pandas unique for strings\n",
    "    else:\n",
    "        unique_vals = np.unique(new_data[column])  # numpy unique for numerical types\n",
    "\n",
    "    nr_values = len(unique_vals)\n",
    "    if nr_values < 14:\n",
    "        print('The number of values for feature {} :{} -- {}'.format(column, nr_values,unique_vals))\n",
    "    else:\n",
    "        print('The number of values for feature {} :{}'.format(column, nr_values))"
   ]
  },
  {
   "cell_type": "code",
   "execution_count": 7,
   "id": "3648e670",
   "metadata": {
    "execution": {
     "iopub.execute_input": "2025-01-14T20:24:50.543981Z",
     "iopub.status.busy": "2025-01-14T20:24:50.543589Z",
     "iopub.status.idle": "2025-01-14T20:24:50.552497Z",
     "shell.execute_reply": "2025-01-14T20:24:50.551079Z"
    },
    "papermill": {
     "duration": 0.027301,
     "end_time": "2025-01-14T20:24:50.554716",
     "exception": false,
     "start_time": "2025-01-14T20:24:50.527415",
     "status": "completed"
    },
    "tags": []
   },
   "outputs": [
    {
     "data": {
      "text/plain": [
       "Date               0\n",
       "co              1911\n",
       "no2                0\n",
       "o3              1702\n",
       "pm10               0\n",
       "pm25               1\n",
       "so2                9\n",
       "humidity         716\n",
       "pressure         716\n",
       "temperature      716\n",
       "wind-speed       798\n",
       "Country_City       0\n",
       "dtype: int64"
      ]
     },
     "execution_count": 7,
     "metadata": {},
     "output_type": "execute_result"
    }
   ],
   "source": [
    "new_data.isna().sum()"
   ]
  },
  {
   "cell_type": "markdown",
   "id": "083faa2c",
   "metadata": {
    "papermill": {
     "duration": 0.014646,
     "end_time": "2025-01-14T20:24:50.594115",
     "exception": false,
     "start_time": "2025-01-14T20:24:50.579469",
     "status": "completed"
    },
    "tags": []
   },
   "source": [
    "# **1.2 - Function**"
   ]
  },
  {
   "cell_type": "code",
   "execution_count": 8,
   "id": "98280fdb",
   "metadata": {
    "execution": {
     "iopub.execute_input": "2025-01-14T20:24:50.625526Z",
     "iopub.status.busy": "2025-01-14T20:24:50.625041Z",
     "iopub.status.idle": "2025-01-14T20:24:50.631209Z",
     "shell.execute_reply": "2025-01-14T20:24:50.630119Z"
    },
    "papermill": {
     "duration": 0.024035,
     "end_time": "2025-01-14T20:24:50.632971",
     "exception": false,
     "start_time": "2025-01-14T20:24:50.608936",
     "status": "completed"
    },
    "tags": []
   },
   "outputs": [
    {
     "name": "stdout",
     "output_type": "stream",
     "text": [
      "['__script__.py', '__results__.html', '__script__.ipynb', 'function.py', '__output__.json', 'custom.css']\n"
     ]
    }
   ],
   "source": [
    "print(os.listdir('/kaggle/usr/lib/function'))"
   ]
  },
  {
   "cell_type": "code",
   "execution_count": 9,
   "id": "c14b90f9",
   "metadata": {
    "execution": {
     "iopub.execute_input": "2025-01-14T20:24:50.673402Z",
     "iopub.status.busy": "2025-01-14T20:24:50.672922Z",
     "iopub.status.idle": "2025-01-14T20:24:50.686475Z",
     "shell.execute_reply": "2025-01-14T20:24:50.685174Z"
    },
    "papermill": {
     "duration": 0.040101,
     "end_time": "2025-01-14T20:24:50.689180",
     "exception": false,
     "start_time": "2025-01-14T20:24:50.649079",
     "status": "completed"
    },
    "tags": []
   },
   "outputs": [],
   "source": [
    "import sys\n",
    "sys.path.append(\"/kaggle/usr/lib/function\")  # Add directory to the path\n",
    "\n",
    "import function as fn"
   ]
  },
  {
   "cell_type": "code",
   "execution_count": 10,
   "id": "337cd54c",
   "metadata": {
    "execution": {
     "iopub.execute_input": "2025-01-14T20:24:50.727004Z",
     "iopub.status.busy": "2025-01-14T20:24:50.726487Z",
     "iopub.status.idle": "2025-01-14T20:24:50.761832Z",
     "shell.execute_reply": "2025-01-14T20:24:50.760852Z"
    },
    "papermill": {
     "duration": 0.056194,
     "end_time": "2025-01-14T20:24:50.763966",
     "exception": false,
     "start_time": "2025-01-14T20:24:50.707772",
     "status": "completed"
    },
    "tags": []
   },
   "outputs": [
    {
     "data": {
      "text/html": [
       "<div>\n",
       "<style scoped>\n",
       "    .dataframe tbody tr th:only-of-type {\n",
       "        vertical-align: middle;\n",
       "    }\n",
       "\n",
       "    .dataframe tbody tr th {\n",
       "        vertical-align: top;\n",
       "    }\n",
       "\n",
       "    .dataframe thead th {\n",
       "        text-align: right;\n",
       "    }\n",
       "</style>\n",
       "<table border=\"1\" class=\"dataframe\">\n",
       "  <thead>\n",
       "    <tr style=\"text-align: right;\">\n",
       "      <th></th>\n",
       "      <th>co</th>\n",
       "      <th>no2</th>\n",
       "      <th>o3</th>\n",
       "      <th>pm10</th>\n",
       "      <th>pm25</th>\n",
       "      <th>so2</th>\n",
       "      <th>humidity</th>\n",
       "      <th>pressure</th>\n",
       "      <th>temperature</th>\n",
       "      <th>wind-speed</th>\n",
       "      <th>Country_City</th>\n",
       "    </tr>\n",
       "    <tr>\n",
       "      <th>Date</th>\n",
       "      <th></th>\n",
       "      <th></th>\n",
       "      <th></th>\n",
       "      <th></th>\n",
       "      <th></th>\n",
       "      <th></th>\n",
       "      <th></th>\n",
       "      <th></th>\n",
       "      <th></th>\n",
       "      <th></th>\n",
       "      <th></th>\n",
       "    </tr>\n",
       "  </thead>\n",
       "  <tbody>\n",
       "    <tr>\n",
       "      <th>2014-12-29</th>\n",
       "      <td>NaN</td>\n",
       "      <td>4.7</td>\n",
       "      <td>15.2</td>\n",
       "      <td>9.0</td>\n",
       "      <td>12.0</td>\n",
       "      <td>2.9</td>\n",
       "      <td>NaN</td>\n",
       "      <td>NaN</td>\n",
       "      <td>NaN</td>\n",
       "      <td>NaN</td>\n",
       "      <td>Australia_Newcastle</td>\n",
       "    </tr>\n",
       "    <tr>\n",
       "      <th>2014-12-30</th>\n",
       "      <td>3.4</td>\n",
       "      <td>4.7</td>\n",
       "      <td>19.2</td>\n",
       "      <td>21.0</td>\n",
       "      <td>23.0</td>\n",
       "      <td>1.5</td>\n",
       "      <td>NaN</td>\n",
       "      <td>NaN</td>\n",
       "      <td>NaN</td>\n",
       "      <td>NaN</td>\n",
       "      <td>Australia_Newcastle</td>\n",
       "    </tr>\n",
       "    <tr>\n",
       "      <th>2014-12-31</th>\n",
       "      <td>2.3</td>\n",
       "      <td>2.8</td>\n",
       "      <td>17.6</td>\n",
       "      <td>38.0</td>\n",
       "      <td>39.0</td>\n",
       "      <td>1.5</td>\n",
       "      <td>NaN</td>\n",
       "      <td>NaN</td>\n",
       "      <td>NaN</td>\n",
       "      <td>NaN</td>\n",
       "      <td>Australia_Newcastle</td>\n",
       "    </tr>\n",
       "    <tr>\n",
       "      <th>2015-01-01</th>\n",
       "      <td>2.3</td>\n",
       "      <td>1.9</td>\n",
       "      <td>16.8</td>\n",
       "      <td>24.0</td>\n",
       "      <td>38.0</td>\n",
       "      <td>1.5</td>\n",
       "      <td>NaN</td>\n",
       "      <td>NaN</td>\n",
       "      <td>NaN</td>\n",
       "      <td>NaN</td>\n",
       "      <td>Australia_Newcastle</td>\n",
       "    </tr>\n",
       "    <tr>\n",
       "      <th>2015-01-02</th>\n",
       "      <td>NaN</td>\n",
       "      <td>3.8</td>\n",
       "      <td>10.4</td>\n",
       "      <td>24.0</td>\n",
       "      <td>42.0</td>\n",
       "      <td>2.9</td>\n",
       "      <td>NaN</td>\n",
       "      <td>NaN</td>\n",
       "      <td>NaN</td>\n",
       "      <td>NaN</td>\n",
       "      <td>Australia_Newcastle</td>\n",
       "    </tr>\n",
       "  </tbody>\n",
       "</table>\n",
       "</div>"
      ],
      "text/plain": [
       "             co  no2    o3  pm10  pm25  so2  humidity  pressure  temperature  \\\n",
       "Date                                                                           \n",
       "2014-12-29  NaN  4.7  15.2   9.0  12.0  2.9       NaN       NaN          NaN   \n",
       "2014-12-30  3.4  4.7  19.2  21.0  23.0  1.5       NaN       NaN          NaN   \n",
       "2014-12-31  2.3  2.8  17.6  38.0  39.0  1.5       NaN       NaN          NaN   \n",
       "2015-01-01  2.3  1.9  16.8  24.0  38.0  1.5       NaN       NaN          NaN   \n",
       "2015-01-02  NaN  3.8  10.4  24.0  42.0  2.9       NaN       NaN          NaN   \n",
       "\n",
       "            wind-speed         Country_City  \n",
       "Date                                         \n",
       "2014-12-29         NaN  Australia_Newcastle  \n",
       "2014-12-30         NaN  Australia_Newcastle  \n",
       "2014-12-31         NaN  Australia_Newcastle  \n",
       "2015-01-01         NaN  Australia_Newcastle  \n",
       "2015-01-02         NaN  Australia_Newcastle  "
      ]
     },
     "execution_count": 10,
     "metadata": {},
     "output_type": "execute_result"
    }
   ],
   "source": [
    "# Use the functions\n",
    "new_data1 = fn.prepare_datetime_index(new_data, date_column='Date')\n",
    "new_data1.head()"
   ]
  },
  {
   "cell_type": "code",
   "execution_count": 11,
   "id": "97424ed6",
   "metadata": {
    "execution": {
     "iopub.execute_input": "2025-01-14T20:24:50.796075Z",
     "iopub.status.busy": "2025-01-14T20:24:50.795741Z",
     "iopub.status.idle": "2025-01-14T20:24:50.810392Z",
     "shell.execute_reply": "2025-01-14T20:24:50.809150Z"
    },
    "papermill": {
     "duration": 0.032759,
     "end_time": "2025-01-14T20:24:50.812358",
     "exception": false,
     "start_time": "2025-01-14T20:24:50.779599",
     "status": "completed"
    },
    "tags": []
   },
   "outputs": [
    {
     "name": "stdout",
     "output_type": "stream",
     "text": [
      "co              0\n",
      "no2             0\n",
      "o3              0\n",
      "pm10            0\n",
      "pm25            0\n",
      "so2             0\n",
      "humidity        0\n",
      "pressure        0\n",
      "temperature     0\n",
      "wind-speed      0\n",
      "Country_City    0\n",
      "dtype: int64\n"
     ]
    }
   ],
   "source": [
    "# Use the functions\n",
    "new_data2 = fn.fill_pollutant_values(new_data1)\n",
    "print(new_data2.isna().sum())"
   ]
  },
  {
   "cell_type": "markdown",
   "id": "66ae7eb7",
   "metadata": {
    "papermill": {
     "duration": 0.014781,
     "end_time": "2025-01-14T20:24:50.842766",
     "exception": false,
     "start_time": "2025-01-14T20:24:50.827985",
     "status": "completed"
    },
    "tags": []
   },
   "source": [
    "**Check**"
   ]
  },
  {
   "cell_type": "code",
   "execution_count": 12,
   "id": "5c3472a3",
   "metadata": {
    "execution": {
     "iopub.execute_input": "2025-01-14T20:24:50.874121Z",
     "iopub.status.busy": "2025-01-14T20:24:50.873663Z",
     "iopub.status.idle": "2025-01-14T20:24:50.891297Z",
     "shell.execute_reply": "2025-01-14T20:24:50.889796Z"
    },
    "papermill": {
     "duration": 0.035126,
     "end_time": "2025-01-14T20:24:50.892924",
     "exception": false,
     "start_time": "2025-01-14T20:24:50.857798",
     "status": "completed"
    },
    "tags": []
   },
   "outputs": [
    {
     "name": "stdout",
     "output_type": "stream",
     "text": [
      "Missing Dates:\n",
      "DatetimeIndex(['2015-01-18', '2015-07-06', '2015-07-07', '2015-07-08',\n",
      "               '2015-07-09', '2015-07-10', '2015-07-11', '2015-07-12',\n",
      "               '2015-07-13', '2015-07-14',\n",
      "               ...\n",
      "               '2023-12-22', '2023-12-23', '2023-12-24', '2023-12-25',\n",
      "               '2023-12-26', '2023-12-27', '2023-12-28', '2023-12-29',\n",
      "               '2023-12-30', '2023-12-31'],\n",
      "              dtype='datetime64[ns]', length=898, freq=None)\n"
     ]
    }
   ],
   "source": [
    "# Create a complete range of dates\n",
    "full_range = pd.date_range(start=new_data2.index.min(), end=new_data2.index.max())\n",
    "\n",
    "# Find missing dates\n",
    "missing_dates = full_range.difference(new_data2.index)\n",
    "print(\"Missing Dates:\")\n",
    "print(missing_dates)"
   ]
  },
  {
   "cell_type": "code",
   "execution_count": 13,
   "id": "ff038028",
   "metadata": {
    "execution": {
     "iopub.execute_input": "2025-01-14T20:24:50.924614Z",
     "iopub.status.busy": "2025-01-14T20:24:50.924161Z",
     "iopub.status.idle": "2025-01-14T20:24:50.935796Z",
     "shell.execute_reply": "2025-01-14T20:24:50.934854Z"
    },
    "papermill": {
     "duration": 0.029722,
     "end_time": "2025-01-14T20:24:50.937853",
     "exception": false,
     "start_time": "2025-01-14T20:24:50.908131",
     "status": "completed"
    },
    "tags": []
   },
   "outputs": [],
   "source": [
    "new_data3 = fn.impute_missing_dates(new_data2)"
   ]
  },
  {
   "cell_type": "code",
   "execution_count": 14,
   "id": "8d7551c5",
   "metadata": {
    "execution": {
     "iopub.execute_input": "2025-01-14T20:24:50.978336Z",
     "iopub.status.busy": "2025-01-14T20:24:50.977852Z",
     "iopub.status.idle": "2025-01-14T20:24:50.987203Z",
     "shell.execute_reply": "2025-01-14T20:24:50.985942Z"
    },
    "papermill": {
     "duration": 0.027445,
     "end_time": "2025-01-14T20:24:50.988937",
     "exception": false,
     "start_time": "2025-01-14T20:24:50.961492",
     "status": "completed"
    },
    "tags": []
   },
   "outputs": [
    {
     "name": "stdout",
     "output_type": "stream",
     "text": [
      "Missing Dates:\n",
      "DatetimeIndex([], dtype='datetime64[ns]', freq='D')\n"
     ]
    }
   ],
   "source": [
    "# Create a complete range of dates\n",
    "full_range = pd.date_range(start=new_data3.index.min(), end=new_data3.index.max())\n",
    "\n",
    "# Find missing dates\n",
    "missing_dates = full_range.difference(new_data3.index)\n",
    "print(\"Missing Dates:\")\n",
    "print(missing_dates)"
   ]
  },
  {
   "cell_type": "code",
   "execution_count": 15,
   "id": "14ce5c90",
   "metadata": {
    "execution": {
     "iopub.execute_input": "2025-01-14T20:24:51.021949Z",
     "iopub.status.busy": "2025-01-14T20:24:51.021445Z",
     "iopub.status.idle": "2025-01-14T20:24:51.028277Z",
     "shell.execute_reply": "2025-01-14T20:24:51.027061Z"
    },
    "papermill": {
     "duration": 0.024967,
     "end_time": "2025-01-14T20:24:51.029982",
     "exception": false,
     "start_time": "2025-01-14T20:24:51.005015",
     "status": "completed"
    },
    "tags": []
   },
   "outputs": [
    {
     "name": "stdout",
     "output_type": "stream",
     "text": [
      "Duplicate indexes: DatetimeIndex([], dtype='datetime64[ns]', freq='D')\n"
     ]
    }
   ],
   "source": [
    "duplicates = new_data3.index[new_data3.index.duplicated()]\n",
    "print(f\"Duplicate indexes: {duplicates}\")"
   ]
  },
  {
   "cell_type": "markdown",
   "id": "a59a8d5e",
   "metadata": {
    "papermill": {
     "duration": 0.015402,
     "end_time": "2025-01-14T20:24:51.060753",
     "exception": false,
     "start_time": "2025-01-14T20:24:51.045351",
     "status": "completed"
    },
    "tags": []
   },
   "source": [
    "# **1.3.Normal AQI count, After Normal AQI count Smoothing AQI(IQR, Z-score, Rolling), (Preprocess Pollution --> Smooth Pollution --> Calculate smooth aqi).**"
   ]
  },
  {
   "cell_type": "code",
   "execution_count": 16,
   "id": "f9c7e9f1",
   "metadata": {
    "execution": {
     "iopub.execute_input": "2025-01-14T20:24:51.092718Z",
     "iopub.status.busy": "2025-01-14T20:24:51.092330Z",
     "iopub.status.idle": "2025-01-14T20:24:51.103279Z",
     "shell.execute_reply": "2025-01-14T20:24:51.101934Z"
    },
    "papermill": {
     "duration": 0.029414,
     "end_time": "2025-01-14T20:24:51.105484",
     "exception": false,
     "start_time": "2025-01-14T20:24:51.076070",
     "status": "completed"
    },
    "tags": []
   },
   "outputs": [],
   "source": [
    "new_data4 = fn.calculate_aqi(new_data3, subindex_columns=['co', 'no2', 'o3', 'pm10', 'pm25', 'so2'])"
   ]
  },
  {
   "cell_type": "code",
   "execution_count": 17,
   "id": "7b2d0c75",
   "metadata": {
    "execution": {
     "iopub.execute_input": "2025-01-14T20:24:51.148136Z",
     "iopub.status.busy": "2025-01-14T20:24:51.147683Z",
     "iopub.status.idle": "2025-01-14T20:24:51.171338Z",
     "shell.execute_reply": "2025-01-14T20:24:51.170124Z"
    },
    "papermill": {
     "duration": 0.04461,
     "end_time": "2025-01-14T20:24:51.173100",
     "exception": false,
     "start_time": "2025-01-14T20:24:51.128490",
     "status": "completed"
    },
    "tags": []
   },
   "outputs": [
    {
     "data": {
      "text/html": [
       "<div>\n",
       "<style scoped>\n",
       "    .dataframe tbody tr th:only-of-type {\n",
       "        vertical-align: middle;\n",
       "    }\n",
       "\n",
       "    .dataframe tbody tr th {\n",
       "        vertical-align: top;\n",
       "    }\n",
       "\n",
       "    .dataframe thead th {\n",
       "        text-align: right;\n",
       "    }\n",
       "</style>\n",
       "<table border=\"1\" class=\"dataframe\">\n",
       "  <thead>\n",
       "    <tr style=\"text-align: right;\">\n",
       "      <th></th>\n",
       "      <th>co</th>\n",
       "      <th>no2</th>\n",
       "      <th>o3</th>\n",
       "      <th>pm10</th>\n",
       "      <th>pm25</th>\n",
       "      <th>so2</th>\n",
       "      <th>humidity</th>\n",
       "      <th>pressure</th>\n",
       "      <th>temperature</th>\n",
       "      <th>wind-speed</th>\n",
       "      <th>Country_City</th>\n",
       "      <th>Checks</th>\n",
       "      <th>AQI</th>\n",
       "    </tr>\n",
       "  </thead>\n",
       "  <tbody>\n",
       "    <tr>\n",
       "      <th>2014-12-29</th>\n",
       "      <td>3.138695</td>\n",
       "      <td>4.7</td>\n",
       "      <td>15.2</td>\n",
       "      <td>9.0</td>\n",
       "      <td>12.0</td>\n",
       "      <td>2.9</td>\n",
       "      <td>76.126377</td>\n",
       "      <td>1017.086884</td>\n",
       "      <td>18.027986</td>\n",
       "      <td>3.545607</td>\n",
       "      <td>Australia_Newcastle</td>\n",
       "      <td>6</td>\n",
       "      <td>15.0</td>\n",
       "    </tr>\n",
       "    <tr>\n",
       "      <th>2014-12-30</th>\n",
       "      <td>3.400000</td>\n",
       "      <td>4.7</td>\n",
       "      <td>19.2</td>\n",
       "      <td>21.0</td>\n",
       "      <td>23.0</td>\n",
       "      <td>1.5</td>\n",
       "      <td>76.126377</td>\n",
       "      <td>1017.086884</td>\n",
       "      <td>18.027986</td>\n",
       "      <td>3.545607</td>\n",
       "      <td>Australia_Newcastle</td>\n",
       "      <td>6</td>\n",
       "      <td>23.0</td>\n",
       "    </tr>\n",
       "    <tr>\n",
       "      <th>2014-12-31</th>\n",
       "      <td>2.300000</td>\n",
       "      <td>2.8</td>\n",
       "      <td>17.6</td>\n",
       "      <td>38.0</td>\n",
       "      <td>39.0</td>\n",
       "      <td>1.5</td>\n",
       "      <td>76.126377</td>\n",
       "      <td>1017.086884</td>\n",
       "      <td>18.027986</td>\n",
       "      <td>3.545607</td>\n",
       "      <td>Australia_Newcastle</td>\n",
       "      <td>6</td>\n",
       "      <td>39.0</td>\n",
       "    </tr>\n",
       "    <tr>\n",
       "      <th>2015-01-01</th>\n",
       "      <td>2.300000</td>\n",
       "      <td>1.9</td>\n",
       "      <td>16.8</td>\n",
       "      <td>24.0</td>\n",
       "      <td>38.0</td>\n",
       "      <td>1.5</td>\n",
       "      <td>76.126377</td>\n",
       "      <td>1017.086884</td>\n",
       "      <td>18.027986</td>\n",
       "      <td>3.545607</td>\n",
       "      <td>Australia_Newcastle</td>\n",
       "      <td>6</td>\n",
       "      <td>38.0</td>\n",
       "    </tr>\n",
       "    <tr>\n",
       "      <th>2015-01-02</th>\n",
       "      <td>3.138695</td>\n",
       "      <td>3.8</td>\n",
       "      <td>10.4</td>\n",
       "      <td>24.0</td>\n",
       "      <td>42.0</td>\n",
       "      <td>2.9</td>\n",
       "      <td>76.126377</td>\n",
       "      <td>1017.086884</td>\n",
       "      <td>18.027986</td>\n",
       "      <td>3.545607</td>\n",
       "      <td>Australia_Newcastle</td>\n",
       "      <td>6</td>\n",
       "      <td>42.0</td>\n",
       "    </tr>\n",
       "  </tbody>\n",
       "</table>\n",
       "</div>"
      ],
      "text/plain": [
       "                  co  no2    o3  pm10  pm25  so2   humidity     pressure  \\\n",
       "2014-12-29  3.138695  4.7  15.2   9.0  12.0  2.9  76.126377  1017.086884   \n",
       "2014-12-30  3.400000  4.7  19.2  21.0  23.0  1.5  76.126377  1017.086884   \n",
       "2014-12-31  2.300000  2.8  17.6  38.0  39.0  1.5  76.126377  1017.086884   \n",
       "2015-01-01  2.300000  1.9  16.8  24.0  38.0  1.5  76.126377  1017.086884   \n",
       "2015-01-02  3.138695  3.8  10.4  24.0  42.0  2.9  76.126377  1017.086884   \n",
       "\n",
       "            temperature  wind-speed         Country_City  Checks   AQI  \n",
       "2014-12-29    18.027986    3.545607  Australia_Newcastle       6  15.0  \n",
       "2014-12-30    18.027986    3.545607  Australia_Newcastle       6  23.0  \n",
       "2014-12-31    18.027986    3.545607  Australia_Newcastle       6  39.0  \n",
       "2015-01-01    18.027986    3.545607  Australia_Newcastle       6  38.0  \n",
       "2015-01-02    18.027986    3.545607  Australia_Newcastle       6  42.0  "
      ]
     },
     "execution_count": 17,
     "metadata": {},
     "output_type": "execute_result"
    }
   ],
   "source": [
    "new_data4.head()"
   ]
  },
  {
   "cell_type": "code",
   "execution_count": 18,
   "id": "d94f0a6a",
   "metadata": {
    "execution": {
     "iopub.execute_input": "2025-01-14T20:24:51.207125Z",
     "iopub.status.busy": "2025-01-14T20:24:51.206617Z",
     "iopub.status.idle": "2025-01-14T20:24:51.213337Z",
     "shell.execute_reply": "2025-01-14T20:24:51.212346Z"
    },
    "papermill": {
     "duration": 0.025418,
     "end_time": "2025-01-14T20:24:51.215109",
     "exception": false,
     "start_time": "2025-01-14T20:24:51.189691",
     "status": "completed"
    },
    "tags": []
   },
   "outputs": [
    {
     "data": {
      "text/plain": [
       "(3665, 13)"
      ]
     },
     "execution_count": 18,
     "metadata": {},
     "output_type": "execute_result"
    }
   ],
   "source": [
    "new_data4.shape"
   ]
  },
  {
   "cell_type": "markdown",
   "id": "b13d9212",
   "metadata": {
    "papermill": {
     "duration": 0.01542,
     "end_time": "2025-01-14T20:24:51.247613",
     "exception": false,
     "start_time": "2025-01-14T20:24:51.232193",
     "status": "completed"
    },
    "tags": []
   },
   "source": [
    " After Normal AQI count Smoothing AQI(IQR, Z-score, Rolling)"
   ]
  },
  {
   "cell_type": "code",
   "execution_count": 19,
   "id": "708e3e51",
   "metadata": {
    "execution": {
     "iopub.execute_input": "2025-01-14T20:24:51.280803Z",
     "iopub.status.busy": "2025-01-14T20:24:51.280366Z",
     "iopub.status.idle": "2025-01-14T20:24:51.301982Z",
     "shell.execute_reply": "2025-01-14T20:24:51.301007Z"
    },
    "papermill": {
     "duration": 0.040634,
     "end_time": "2025-01-14T20:24:51.303903",
     "exception": false,
     "start_time": "2025-01-14T20:24:51.263269",
     "status": "completed"
    },
    "tags": []
   },
   "outputs": [],
   "source": [
    "# Apply the outlier handling function to the 'AQI' column only\n",
    "new_data4['AQI_smoothed_iqr'] = fn.handle_aqi_outliers(new_data4['AQI'], method='iqr')\n",
    "new_data4['AQI_smoothed_zscore'] = fn.handle_aqi_outliers(new_data4['AQI'], method='zscore')\n",
    "new_data4['AQI_smoothed_rolling'] = fn.handle_aqi_outliers(new_data4['AQI'], method='rolling')"
   ]
  },
  {
   "cell_type": "code",
   "execution_count": 20,
   "id": "78cc7a24",
   "metadata": {
    "execution": {
     "iopub.execute_input": "2025-01-14T20:24:51.336111Z",
     "iopub.status.busy": "2025-01-14T20:24:51.335770Z",
     "iopub.status.idle": "2025-01-14T20:24:51.355035Z",
     "shell.execute_reply": "2025-01-14T20:24:51.353894Z"
    },
    "papermill": {
     "duration": 0.037584,
     "end_time": "2025-01-14T20:24:51.357013",
     "exception": false,
     "start_time": "2025-01-14T20:24:51.319429",
     "status": "completed"
    },
    "tags": []
   },
   "outputs": [
    {
     "data": {
      "text/html": [
       "<div>\n",
       "<style scoped>\n",
       "    .dataframe tbody tr th:only-of-type {\n",
       "        vertical-align: middle;\n",
       "    }\n",
       "\n",
       "    .dataframe tbody tr th {\n",
       "        vertical-align: top;\n",
       "    }\n",
       "\n",
       "    .dataframe thead th {\n",
       "        text-align: right;\n",
       "    }\n",
       "</style>\n",
       "<table border=\"1\" class=\"dataframe\">\n",
       "  <thead>\n",
       "    <tr style=\"text-align: right;\">\n",
       "      <th></th>\n",
       "      <th>co</th>\n",
       "      <th>no2</th>\n",
       "      <th>o3</th>\n",
       "      <th>pm10</th>\n",
       "      <th>pm25</th>\n",
       "      <th>so2</th>\n",
       "      <th>humidity</th>\n",
       "      <th>pressure</th>\n",
       "      <th>temperature</th>\n",
       "      <th>wind-speed</th>\n",
       "      <th>Country_City</th>\n",
       "      <th>Checks</th>\n",
       "      <th>AQI</th>\n",
       "      <th>AQI_smoothed_iqr</th>\n",
       "      <th>AQI_smoothed_zscore</th>\n",
       "      <th>AQI_smoothed_rolling</th>\n",
       "    </tr>\n",
       "  </thead>\n",
       "  <tbody>\n",
       "    <tr>\n",
       "      <th>2014-12-29</th>\n",
       "      <td>3.138695</td>\n",
       "      <td>4.7</td>\n",
       "      <td>15.2</td>\n",
       "      <td>9.0</td>\n",
       "      <td>12.0</td>\n",
       "      <td>2.9</td>\n",
       "      <td>76.126377</td>\n",
       "      <td>1017.086884</td>\n",
       "      <td>18.027986</td>\n",
       "      <td>3.545607</td>\n",
       "      <td>Australia_Newcastle</td>\n",
       "      <td>6</td>\n",
       "      <td>15.0</td>\n",
       "      <td>15.0</td>\n",
       "      <td>15.0</td>\n",
       "      <td>15.0</td>\n",
       "    </tr>\n",
       "    <tr>\n",
       "      <th>2014-12-30</th>\n",
       "      <td>3.400000</td>\n",
       "      <td>4.7</td>\n",
       "      <td>19.2</td>\n",
       "      <td>21.0</td>\n",
       "      <td>23.0</td>\n",
       "      <td>1.5</td>\n",
       "      <td>76.126377</td>\n",
       "      <td>1017.086884</td>\n",
       "      <td>18.027986</td>\n",
       "      <td>3.545607</td>\n",
       "      <td>Australia_Newcastle</td>\n",
       "      <td>6</td>\n",
       "      <td>23.0</td>\n",
       "      <td>23.0</td>\n",
       "      <td>23.0</td>\n",
       "      <td>23.0</td>\n",
       "    </tr>\n",
       "    <tr>\n",
       "      <th>2014-12-31</th>\n",
       "      <td>2.300000</td>\n",
       "      <td>2.8</td>\n",
       "      <td>17.6</td>\n",
       "      <td>38.0</td>\n",
       "      <td>39.0</td>\n",
       "      <td>1.5</td>\n",
       "      <td>76.126377</td>\n",
       "      <td>1017.086884</td>\n",
       "      <td>18.027986</td>\n",
       "      <td>3.545607</td>\n",
       "      <td>Australia_Newcastle</td>\n",
       "      <td>6</td>\n",
       "      <td>39.0</td>\n",
       "      <td>39.0</td>\n",
       "      <td>39.0</td>\n",
       "      <td>39.0</td>\n",
       "    </tr>\n",
       "    <tr>\n",
       "      <th>2015-01-01</th>\n",
       "      <td>2.300000</td>\n",
       "      <td>1.9</td>\n",
       "      <td>16.8</td>\n",
       "      <td>24.0</td>\n",
       "      <td>38.0</td>\n",
       "      <td>1.5</td>\n",
       "      <td>76.126377</td>\n",
       "      <td>1017.086884</td>\n",
       "      <td>18.027986</td>\n",
       "      <td>3.545607</td>\n",
       "      <td>Australia_Newcastle</td>\n",
       "      <td>6</td>\n",
       "      <td>38.0</td>\n",
       "      <td>38.0</td>\n",
       "      <td>38.0</td>\n",
       "      <td>38.0</td>\n",
       "    </tr>\n",
       "    <tr>\n",
       "      <th>2015-01-02</th>\n",
       "      <td>3.138695</td>\n",
       "      <td>3.8</td>\n",
       "      <td>10.4</td>\n",
       "      <td>24.0</td>\n",
       "      <td>42.0</td>\n",
       "      <td>2.9</td>\n",
       "      <td>76.126377</td>\n",
       "      <td>1017.086884</td>\n",
       "      <td>18.027986</td>\n",
       "      <td>3.545607</td>\n",
       "      <td>Australia_Newcastle</td>\n",
       "      <td>6</td>\n",
       "      <td>42.0</td>\n",
       "      <td>42.0</td>\n",
       "      <td>42.0</td>\n",
       "      <td>42.0</td>\n",
       "    </tr>\n",
       "  </tbody>\n",
       "</table>\n",
       "</div>"
      ],
      "text/plain": [
       "                  co  no2    o3  pm10  pm25  so2   humidity     pressure  \\\n",
       "2014-12-29  3.138695  4.7  15.2   9.0  12.0  2.9  76.126377  1017.086884   \n",
       "2014-12-30  3.400000  4.7  19.2  21.0  23.0  1.5  76.126377  1017.086884   \n",
       "2014-12-31  2.300000  2.8  17.6  38.0  39.0  1.5  76.126377  1017.086884   \n",
       "2015-01-01  2.300000  1.9  16.8  24.0  38.0  1.5  76.126377  1017.086884   \n",
       "2015-01-02  3.138695  3.8  10.4  24.0  42.0  2.9  76.126377  1017.086884   \n",
       "\n",
       "            temperature  wind-speed         Country_City  Checks   AQI  \\\n",
       "2014-12-29    18.027986    3.545607  Australia_Newcastle       6  15.0   \n",
       "2014-12-30    18.027986    3.545607  Australia_Newcastle       6  23.0   \n",
       "2014-12-31    18.027986    3.545607  Australia_Newcastle       6  39.0   \n",
       "2015-01-01    18.027986    3.545607  Australia_Newcastle       6  38.0   \n",
       "2015-01-02    18.027986    3.545607  Australia_Newcastle       6  42.0   \n",
       "\n",
       "            AQI_smoothed_iqr  AQI_smoothed_zscore  AQI_smoothed_rolling  \n",
       "2014-12-29              15.0                 15.0                  15.0  \n",
       "2014-12-30              23.0                 23.0                  23.0  \n",
       "2014-12-31              39.0                 39.0                  39.0  \n",
       "2015-01-01              38.0                 38.0                  38.0  \n",
       "2015-01-02              42.0                 42.0                  42.0  "
      ]
     },
     "execution_count": 20,
     "metadata": {},
     "output_type": "execute_result"
    }
   ],
   "source": [
    "new_data4.head()"
   ]
  },
  {
   "cell_type": "markdown",
   "id": "4c31f559",
   "metadata": {
    "papermill": {
     "duration": 0.015479,
     "end_time": "2025-01-14T20:24:51.388548",
     "exception": false,
     "start_time": "2025-01-14T20:24:51.373069",
     "status": "completed"
    },
    "tags": []
   },
   "source": [
    "(Preprocess Pollution --> Smooth Pollution --> Calculate smooth aqi)"
   ]
  },
  {
   "cell_type": "code",
   "execution_count": 21,
   "id": "4d125b3a",
   "metadata": {
    "execution": {
     "iopub.execute_input": "2025-01-14T20:24:51.421726Z",
     "iopub.status.busy": "2025-01-14T20:24:51.421221Z",
     "iopub.status.idle": "2025-01-14T20:24:51.471277Z",
     "shell.execute_reply": "2025-01-14T20:24:51.470130Z"
    },
    "papermill": {
     "duration": 0.068557,
     "end_time": "2025-01-14T20:24:51.473055",
     "exception": false,
     "start_time": "2025-01-14T20:24:51.404498",
     "status": "completed"
    },
    "tags": []
   },
   "outputs": [
    {
     "data": {
      "text/html": [
       "<div>\n",
       "<style scoped>\n",
       "    .dataframe tbody tr th:only-of-type {\n",
       "        vertical-align: middle;\n",
       "    }\n",
       "\n",
       "    .dataframe tbody tr th {\n",
       "        vertical-align: top;\n",
       "    }\n",
       "\n",
       "    .dataframe thead th {\n",
       "        text-align: right;\n",
       "    }\n",
       "</style>\n",
       "<table border=\"1\" class=\"dataframe\">\n",
       "  <thead>\n",
       "    <tr style=\"text-align: right;\">\n",
       "      <th></th>\n",
       "      <th>co</th>\n",
       "      <th>no2</th>\n",
       "      <th>o3</th>\n",
       "      <th>pm10</th>\n",
       "      <th>pm25</th>\n",
       "      <th>so2</th>\n",
       "      <th>humidity</th>\n",
       "      <th>pressure</th>\n",
       "      <th>temperature</th>\n",
       "      <th>wind-speed</th>\n",
       "      <th>Country_City</th>\n",
       "      <th>AQI_Smooth</th>\n",
       "    </tr>\n",
       "  </thead>\n",
       "  <tbody>\n",
       "    <tr>\n",
       "      <th>2014-12-29</th>\n",
       "      <td>2.920940</td>\n",
       "      <td>3.616667</td>\n",
       "      <td>15.333333</td>\n",
       "      <td>22.666667</td>\n",
       "      <td>32.000000</td>\n",
       "      <td>1.966667</td>\n",
       "      <td>76.126377</td>\n",
       "      <td>1017.086884</td>\n",
       "      <td>18.027986</td>\n",
       "      <td>3.545607</td>\n",
       "      <td>Australia_Newcastle</td>\n",
       "      <td>32.000000</td>\n",
       "    </tr>\n",
       "    <tr>\n",
       "      <th>2014-12-30</th>\n",
       "      <td>2.920940</td>\n",
       "      <td>3.616667</td>\n",
       "      <td>15.333333</td>\n",
       "      <td>22.666667</td>\n",
       "      <td>32.000000</td>\n",
       "      <td>1.966667</td>\n",
       "      <td>76.126377</td>\n",
       "      <td>1017.086884</td>\n",
       "      <td>18.027986</td>\n",
       "      <td>3.545607</td>\n",
       "      <td>Australia_Newcastle</td>\n",
       "      <td>32.000000</td>\n",
       "    </tr>\n",
       "    <tr>\n",
       "      <th>2014-12-31</th>\n",
       "      <td>2.920940</td>\n",
       "      <td>3.616667</td>\n",
       "      <td>15.333333</td>\n",
       "      <td>22.666667</td>\n",
       "      <td>32.000000</td>\n",
       "      <td>1.966667</td>\n",
       "      <td>76.126377</td>\n",
       "      <td>1017.086884</td>\n",
       "      <td>18.027986</td>\n",
       "      <td>3.545607</td>\n",
       "      <td>Australia_Newcastle</td>\n",
       "      <td>32.000000</td>\n",
       "    </tr>\n",
       "    <tr>\n",
       "      <th>2015-01-01</th>\n",
       "      <td>2.920940</td>\n",
       "      <td>3.616667</td>\n",
       "      <td>15.333333</td>\n",
       "      <td>22.666667</td>\n",
       "      <td>32.000000</td>\n",
       "      <td>1.966667</td>\n",
       "      <td>76.126377</td>\n",
       "      <td>1017.086884</td>\n",
       "      <td>18.027986</td>\n",
       "      <td>3.545607</td>\n",
       "      <td>Australia_Newcastle</td>\n",
       "      <td>32.000000</td>\n",
       "    </tr>\n",
       "    <tr>\n",
       "      <th>2015-01-02</th>\n",
       "      <td>2.964491</td>\n",
       "      <td>3.466667</td>\n",
       "      <td>14.816667</td>\n",
       "      <td>24.000000</td>\n",
       "      <td>34.166667</td>\n",
       "      <td>1.966667</td>\n",
       "      <td>76.126377</td>\n",
       "      <td>1017.086884</td>\n",
       "      <td>18.027986</td>\n",
       "      <td>3.545607</td>\n",
       "      <td>Australia_Newcastle</td>\n",
       "      <td>34.166667</td>\n",
       "    </tr>\n",
       "  </tbody>\n",
       "</table>\n",
       "</div>"
      ],
      "text/plain": [
       "                  co       no2         o3       pm10       pm25       so2  \\\n",
       "2014-12-29  2.920940  3.616667  15.333333  22.666667  32.000000  1.966667   \n",
       "2014-12-30  2.920940  3.616667  15.333333  22.666667  32.000000  1.966667   \n",
       "2014-12-31  2.920940  3.616667  15.333333  22.666667  32.000000  1.966667   \n",
       "2015-01-01  2.920940  3.616667  15.333333  22.666667  32.000000  1.966667   \n",
       "2015-01-02  2.964491  3.466667  14.816667  24.000000  34.166667  1.966667   \n",
       "\n",
       "             humidity     pressure  temperature  wind-speed  \\\n",
       "2014-12-29  76.126377  1017.086884    18.027986    3.545607   \n",
       "2014-12-30  76.126377  1017.086884    18.027986    3.545607   \n",
       "2014-12-31  76.126377  1017.086884    18.027986    3.545607   \n",
       "2015-01-01  76.126377  1017.086884    18.027986    3.545607   \n",
       "2015-01-02  76.126377  1017.086884    18.027986    3.545607   \n",
       "\n",
       "                   Country_City  AQI_Smooth  \n",
       "2014-12-29  Australia_Newcastle   32.000000  \n",
       "2014-12-30  Australia_Newcastle   32.000000  \n",
       "2014-12-31  Australia_Newcastle   32.000000  \n",
       "2015-01-01  Australia_Newcastle   32.000000  \n",
       "2015-01-02  Australia_Newcastle   34.166667  "
      ]
     },
     "execution_count": 21,
     "metadata": {},
     "output_type": "execute_result"
    }
   ],
   "source": [
    "new_smooth = fn.calculate_smooth_aqi(new_data3, columns=['co', 'no2', 'o3', 'pm10', 'pm25', 'so2'])\n",
    "new_smooth.head()"
   ]
  },
  {
   "cell_type": "markdown",
   "id": "7d4e3f17",
   "metadata": {
    "papermill": {
     "duration": 0.015918,
     "end_time": "2025-01-14T20:24:51.505937",
     "exception": false,
     "start_time": "2025-01-14T20:24:51.490019",
     "status": "completed"
    },
    "tags": []
   },
   "source": [
    "**AQI (normal, smooth_iqr, smooth_zscore, smooth_rolling, smooth)**"
   ]
  },
  {
   "cell_type": "code",
   "execution_count": 22,
   "id": "91d49140",
   "metadata": {
    "execution": {
     "iopub.execute_input": "2025-01-14T20:24:51.540651Z",
     "iopub.status.busy": "2025-01-14T20:24:51.540158Z",
     "iopub.status.idle": "2025-01-14T20:24:52.007080Z",
     "shell.execute_reply": "2025-01-14T20:24:52.005902Z"
    },
    "papermill": {
     "duration": 0.486293,
     "end_time": "2025-01-14T20:24:52.009105",
     "exception": false,
     "start_time": "2025-01-14T20:24:51.522812",
     "status": "completed"
    },
    "tags": []
   },
   "outputs": [
    {
     "data": {
      "text/plain": [
       "<Axes: >"
      ]
     },
     "execution_count": 22,
     "metadata": {},
     "output_type": "execute_result"
    },
    {
     "data": {
      "image/png": "[encoded data removed]",
      "text/plain": [
       "<Figure size 640x480 with 1 Axes>"
      ]
     },
     "metadata": {},
     "output_type": "display_data"
    }
   ],
   "source": [
    "#normal\n",
    "aqi_normal = new_data4['AQI']\n",
    "aqi_normal.plot()"
   ]
  },
  {
   "cell_type": "code",
   "execution_count": 23,
   "id": "fc95bc6d",
   "metadata": {
    "execution": {
     "iopub.execute_input": "2025-01-14T20:24:52.045035Z",
     "iopub.status.busy": "2025-01-14T20:24:52.044693Z",
     "iopub.status.idle": "2025-01-14T20:24:52.441719Z",
     "shell.execute_reply": "2025-01-14T20:24:52.440643Z"
    },
    "papermill": {
     "duration": 0.417267,
     "end_time": "2025-01-14T20:24:52.443411",
     "exception": false,
     "start_time": "2025-01-14T20:24:52.026144",
     "status": "completed"
    },
    "tags": []
   },
   "outputs": [
    {
     "data": {
      "text/plain": [
       "<Axes: >"
      ]
     },
     "execution_count": 23,
     "metadata": {},
     "output_type": "execute_result"
    },
    {
     "data": {
      "image/png": "[encoded data removed]",
      "text/plain": [
       "<Figure size 640x480 with 1 Axes>"
      ]
     },
     "metadata": {},
     "output_type": "display_data"
    }
   ],
   "source": [
    "#smooth_iqr\n",
    "aqi_smooth_iqr = new_data4['AQI_smoothed_iqr']\n",
    "aqi_smooth_iqr.plot()"
   ]
  },
  {
   "cell_type": "code",
   "execution_count": 24,
   "id": "26134430",
   "metadata": {
    "execution": {
     "iopub.execute_input": "2025-01-14T20:24:52.479602Z",
     "iopub.status.busy": "2025-01-14T20:24:52.479180Z",
     "iopub.status.idle": "2025-01-14T20:24:52.844628Z",
     "shell.execute_reply": "2025-01-14T20:24:52.843511Z"
    },
    "papermill": {
     "duration": 0.385375,
     "end_time": "2025-01-14T20:24:52.846299",
     "exception": false,
     "start_time": "2025-01-14T20:24:52.460924",
     "status": "completed"
    },
    "tags": []
   },
   "outputs": [
    {
     "data": {
      "text/plain": [
       "<Axes: >"
      ]
     },
     "execution_count": 24,
     "metadata": {},
     "output_type": "execute_result"
    },
    {
     "data": {
      "image/png": "[encoded data removed]",
      "text/plain": [
       "<Figure size 640x480 with 1 Axes>"
      ]
     },
     "metadata": {},
     "output_type": "display_data"
    }
   ],
   "source": [
    "#smooth_zscore\n",
    "aqi_smooth_zscore = new_data4['AQI_smoothed_zscore']\n",
    "aqi_smooth_zscore.plot()"
   ]
  },
  {
   "cell_type": "code",
   "execution_count": 25,
   "id": "60d026c2",
   "metadata": {
    "execution": {
     "iopub.execute_input": "2025-01-14T20:24:52.884825Z",
     "iopub.status.busy": "2025-01-14T20:24:52.884405Z",
     "iopub.status.idle": "2025-01-14T20:24:53.222979Z",
     "shell.execute_reply": "2025-01-14T20:24:53.221778Z"
    },
    "papermill": {
     "duration": 0.359472,
     "end_time": "2025-01-14T20:24:53.224621",
     "exception": false,
     "start_time": "2025-01-14T20:24:52.865149",
     "status": "completed"
    },
    "tags": []
   },
   "outputs": [
    {
     "data": {
      "text/plain": [
       "<Axes: >"
      ]
     },
     "execution_count": 25,
     "metadata": {},
     "output_type": "execute_result"
    },
    {
     "data": {
      "image/png": "[encoded data removed]",
      "text/plain": [
       "<Figure size 640x480 with 1 Axes>"
      ]
     },
     "metadata": {},
     "output_type": "display_data"
    }
   ],
   "source": [
    "#smooth_rolling\n",
    "aqi_smooth_rolling = new_data4['AQI_smoothed_rolling']\n",
    "aqi_smooth_rolling.plot()"
   ]
  },
  {
   "cell_type": "code",
   "execution_count": 26,
   "id": "f74eb5e8",
   "metadata": {
    "execution": {
     "iopub.execute_input": "2025-01-14T20:24:53.267026Z",
     "iopub.status.busy": "2025-01-14T20:24:53.266618Z",
     "iopub.status.idle": "2025-01-14T20:24:53.671418Z",
     "shell.execute_reply": "2025-01-14T20:24:53.670277Z"
    },
    "papermill": {
     "duration": 0.429021,
     "end_time": "2025-01-14T20:24:53.673250",
     "exception": false,
     "start_time": "2025-01-14T20:24:53.244229",
     "status": "completed"
    },
    "tags": []
   },
   "outputs": [
    {
     "data": {
      "text/plain": [
       "<Axes: >"
      ]
     },
     "execution_count": 26,
     "metadata": {},
     "output_type": "execute_result"
    },
    {
     "data": {
      "image/png": "[encoded data removed]",
      "text/plain": [
       "<Figure size 640x480 with 1 Axes>"
      ]
     },
     "metadata": {},
     "output_type": "display_data"
    }
   ],
   "source": [
    "#smooth\n",
    "aqi_smooth = new_smooth['AQI_Smooth']\n",
    "aqi_smooth.plot()"
   ]
  },
  {
   "cell_type": "markdown",
   "id": "5b587434",
   "metadata": {
    "papermill": {
     "duration": 0.019332,
     "end_time": "2025-01-14T20:24:53.712864",
     "exception": false,
     "start_time": "2025-01-14T20:24:53.693532",
     "status": "completed"
    },
    "tags": []
   },
   "source": [
    "# **2.1. Splitting & Preprocessing the Raw Data(Normal AQI)**"
   ]
  },
  {
   "cell_type": "markdown",
   "id": "8614c7ba",
   "metadata": {
    "papermill": {
     "duration": 0.019854,
     "end_time": "2025-01-14T20:24:53.752370",
     "exception": false,
     "start_time": "2025-01-14T20:24:53.732516",
     "status": "completed"
    },
    "tags": []
   },
   "source": [
    "Smooth AQI(All Pollutants)"
   ]
  },
  {
   "cell_type": "code",
   "execution_count": 27,
   "id": "18ca6292",
   "metadata": {
    "execution": {
     "iopub.execute_input": "2025-01-14T20:24:53.794178Z",
     "iopub.status.busy": "2025-01-14T20:24:53.793840Z",
     "iopub.status.idle": "2025-01-14T20:24:53.810243Z",
     "shell.execute_reply": "2025-01-14T20:24:53.809220Z"
    },
    "papermill": {
     "duration": 0.039572,
     "end_time": "2025-01-14T20:24:53.811989",
     "exception": false,
     "start_time": "2025-01-14T20:24:53.772417",
     "status": "completed"
    },
    "tags": []
   },
   "outputs": [
    {
     "data": {
      "text/html": [
       "<div>\n",
       "<style scoped>\n",
       "    .dataframe tbody tr th:only-of-type {\n",
       "        vertical-align: middle;\n",
       "    }\n",
       "\n",
       "    .dataframe tbody tr th {\n",
       "        vertical-align: top;\n",
       "    }\n",
       "\n",
       "    .dataframe thead th {\n",
       "        text-align: right;\n",
       "    }\n",
       "</style>\n",
       "<table border=\"1\" class=\"dataframe\">\n",
       "  <thead>\n",
       "    <tr style=\"text-align: right;\">\n",
       "      <th></th>\n",
       "      <th>co</th>\n",
       "      <th>no2</th>\n",
       "      <th>o3</th>\n",
       "      <th>pm10</th>\n",
       "      <th>pm25</th>\n",
       "      <th>so2</th>\n",
       "      <th>humidity</th>\n",
       "      <th>pressure</th>\n",
       "      <th>temperature</th>\n",
       "      <th>wind-speed</th>\n",
       "      <th>Country_City</th>\n",
       "      <th>AQI_Smooth</th>\n",
       "    </tr>\n",
       "  </thead>\n",
       "  <tbody>\n",
       "    <tr>\n",
       "      <th>2014-12-29</th>\n",
       "      <td>2.920940</td>\n",
       "      <td>3.616667</td>\n",
       "      <td>15.333333</td>\n",
       "      <td>22.666667</td>\n",
       "      <td>32.000000</td>\n",
       "      <td>1.966667</td>\n",
       "      <td>76.126377</td>\n",
       "      <td>1017.086884</td>\n",
       "      <td>18.027986</td>\n",
       "      <td>3.545607</td>\n",
       "      <td>Australia_Newcastle</td>\n",
       "      <td>32.000000</td>\n",
       "    </tr>\n",
       "    <tr>\n",
       "      <th>2014-12-30</th>\n",
       "      <td>2.920940</td>\n",
       "      <td>3.616667</td>\n",
       "      <td>15.333333</td>\n",
       "      <td>22.666667</td>\n",
       "      <td>32.000000</td>\n",
       "      <td>1.966667</td>\n",
       "      <td>76.126377</td>\n",
       "      <td>1017.086884</td>\n",
       "      <td>18.027986</td>\n",
       "      <td>3.545607</td>\n",
       "      <td>Australia_Newcastle</td>\n",
       "      <td>32.000000</td>\n",
       "    </tr>\n",
       "    <tr>\n",
       "      <th>2014-12-31</th>\n",
       "      <td>2.920940</td>\n",
       "      <td>3.616667</td>\n",
       "      <td>15.333333</td>\n",
       "      <td>22.666667</td>\n",
       "      <td>32.000000</td>\n",
       "      <td>1.966667</td>\n",
       "      <td>76.126377</td>\n",
       "      <td>1017.086884</td>\n",
       "      <td>18.027986</td>\n",
       "      <td>3.545607</td>\n",
       "      <td>Australia_Newcastle</td>\n",
       "      <td>32.000000</td>\n",
       "    </tr>\n",
       "    <tr>\n",
       "      <th>2015-01-01</th>\n",
       "      <td>2.920940</td>\n",
       "      <td>3.616667</td>\n",
       "      <td>15.333333</td>\n",
       "      <td>22.666667</td>\n",
       "      <td>32.000000</td>\n",
       "      <td>1.966667</td>\n",
       "      <td>76.126377</td>\n",
       "      <td>1017.086884</td>\n",
       "      <td>18.027986</td>\n",
       "      <td>3.545607</td>\n",
       "      <td>Australia_Newcastle</td>\n",
       "      <td>32.000000</td>\n",
       "    </tr>\n",
       "    <tr>\n",
       "      <th>2015-01-02</th>\n",
       "      <td>2.964491</td>\n",
       "      <td>3.466667</td>\n",
       "      <td>14.816667</td>\n",
       "      <td>24.000000</td>\n",
       "      <td>34.166667</td>\n",
       "      <td>1.966667</td>\n",
       "      <td>76.126377</td>\n",
       "      <td>1017.086884</td>\n",
       "      <td>18.027986</td>\n",
       "      <td>3.545607</td>\n",
       "      <td>Australia_Newcastle</td>\n",
       "      <td>34.166667</td>\n",
       "    </tr>\n",
       "    <tr>\n",
       "      <th>2015-01-03</th>\n",
       "      <td>2.790287</td>\n",
       "      <td>3.150000</td>\n",
       "      <td>14.033333</td>\n",
       "      <td>24.166667</td>\n",
       "      <td>35.000000</td>\n",
       "      <td>1.966667</td>\n",
       "      <td>76.126377</td>\n",
       "      <td>1017.086884</td>\n",
       "      <td>18.027986</td>\n",
       "      <td>3.545607</td>\n",
       "      <td>Australia_Newcastle</td>\n",
       "      <td>35.000000</td>\n",
       "    </tr>\n",
       "    <tr>\n",
       "      <th>2015-01-04</th>\n",
       "      <td>2.920940</td>\n",
       "      <td>3.000000</td>\n",
       "      <td>12.833333</td>\n",
       "      <td>20.666667</td>\n",
       "      <td>33.000000</td>\n",
       "      <td>1.966667</td>\n",
       "      <td>76.126377</td>\n",
       "      <td>1017.086884</td>\n",
       "      <td>18.027986</td>\n",
       "      <td>3.545607</td>\n",
       "      <td>Australia_Newcastle</td>\n",
       "      <td>33.000000</td>\n",
       "    </tr>\n",
       "    <tr>\n",
       "      <th>2015-01-05</th>\n",
       "      <td>2.920940</td>\n",
       "      <td>3.000000</td>\n",
       "      <td>11.900000</td>\n",
       "      <td>18.333333</td>\n",
       "      <td>29.500000</td>\n",
       "      <td>1.966667</td>\n",
       "      <td>76.126377</td>\n",
       "      <td>1017.086884</td>\n",
       "      <td>18.027986</td>\n",
       "      <td>3.545607</td>\n",
       "      <td>Australia_Newcastle</td>\n",
       "      <td>29.500000</td>\n",
       "    </tr>\n",
       "  </tbody>\n",
       "</table>\n",
       "</div>"
      ],
      "text/plain": [
       "                  co       no2         o3       pm10       pm25       so2  \\\n",
       "2014-12-29  2.920940  3.616667  15.333333  22.666667  32.000000  1.966667   \n",
       "2014-12-30  2.920940  3.616667  15.333333  22.666667  32.000000  1.966667   \n",
       "2014-12-31  2.920940  3.616667  15.333333  22.666667  32.000000  1.966667   \n",
       "2015-01-01  2.920940  3.616667  15.333333  22.666667  32.000000  1.966667   \n",
       "2015-01-02  2.964491  3.466667  14.816667  24.000000  34.166667  1.966667   \n",
       "2015-01-03  2.790287  3.150000  14.033333  24.166667  35.000000  1.966667   \n",
       "2015-01-04  2.920940  3.000000  12.833333  20.666667  33.000000  1.966667   \n",
       "2015-01-05  2.920940  3.000000  11.900000  18.333333  29.500000  1.966667   \n",
       "\n",
       "             humidity     pressure  temperature  wind-speed  \\\n",
       "2014-12-29  76.126377  1017.086884    18.027986    3.545607   \n",
       "2014-12-30  76.126377  1017.086884    18.027986    3.545607   \n",
       "2014-12-31  76.126377  1017.086884    18.027986    3.545607   \n",
       "2015-01-01  76.126377  1017.086884    18.027986    3.545607   \n",
       "2015-01-02  76.126377  1017.086884    18.027986    3.545607   \n",
       "2015-01-03  76.126377  1017.086884    18.027986    3.545607   \n",
       "2015-01-04  76.126377  1017.086884    18.027986    3.545607   \n",
       "2015-01-05  76.126377  1017.086884    18.027986    3.545607   \n",
       "\n",
       "                   Country_City  AQI_Smooth  \n",
       "2014-12-29  Australia_Newcastle   32.000000  \n",
       "2014-12-30  Australia_Newcastle   32.000000  \n",
       "2014-12-31  Australia_Newcastle   32.000000  \n",
       "2015-01-01  Australia_Newcastle   32.000000  \n",
       "2015-01-02  Australia_Newcastle   34.166667  \n",
       "2015-01-03  Australia_Newcastle   35.000000  \n",
       "2015-01-04  Australia_Newcastle   33.000000  \n",
       "2015-01-05  Australia_Newcastle   29.500000  "
      ]
     },
     "execution_count": 27,
     "metadata": {},
     "output_type": "execute_result"
    }
   ],
   "source": [
    "new_smooth.head(8)"
   ]
  },
  {
   "cell_type": "code",
   "execution_count": 28,
   "id": "1edd653a",
   "metadata": {
    "execution": {
     "iopub.execute_input": "2025-01-14T20:24:53.855191Z",
     "iopub.status.busy": "2025-01-14T20:24:53.854803Z",
     "iopub.status.idle": "2025-01-14T20:24:53.860745Z",
     "shell.execute_reply": "2025-01-14T20:24:53.859734Z"
    },
    "papermill": {
     "duration": 0.029293,
     "end_time": "2025-01-14T20:24:53.862430",
     "exception": false,
     "start_time": "2025-01-14T20:24:53.833137",
     "status": "completed"
    },
    "tags": []
   },
   "outputs": [
    {
     "data": {
      "text/plain": [
       "Index(['co', 'no2', 'o3', 'pm10', 'pm25', 'so2', 'humidity', 'pressure',\n",
       "       'temperature', 'wind-speed', 'Country_City', 'AQI_Smooth'],\n",
       "      dtype='object')"
      ]
     },
     "execution_count": 28,
     "metadata": {},
     "output_type": "execute_result"
    }
   ],
   "source": [
    "new_smooth.columns"
   ]
  },
  {
   "cell_type": "markdown",
   "id": "2f8fb587",
   "metadata": {
    "papermill": {
     "duration": 0.020527,
     "end_time": "2025-01-14T20:24:53.903253",
     "exception": false,
     "start_time": "2025-01-14T20:24:53.882726",
     "status": "completed"
    },
    "tags": []
   },
   "source": [
    "***Working with Normal AQI***"
   ]
  },
  {
   "cell_type": "code",
   "execution_count": 29,
   "id": "980e7ff7",
   "metadata": {
    "execution": {
     "iopub.execute_input": "2025-01-14T20:24:53.945074Z",
     "iopub.status.busy": "2025-01-14T20:24:53.944700Z",
     "iopub.status.idle": "2025-01-14T20:24:54.325905Z",
     "shell.execute_reply": "2025-01-14T20:24:54.324779Z"
    },
    "papermill": {
     "duration": 0.40418,
     "end_time": "2025-01-14T20:24:54.327718",
     "exception": false,
     "start_time": "2025-01-14T20:24:53.923538",
     "status": "completed"
    },
    "tags": []
   },
   "outputs": [
    {
     "data": {
      "text/plain": [
       "<Axes: >"
      ]
     },
     "execution_count": 29,
     "metadata": {},
     "output_type": "execute_result"
    },
    {
     "data": {
      "image/png": "[encoded data removed]",
      "text/plain": [
       "<Figure size 640x480 with 1 Axes>"
      ]
     },
     "metadata": {},
     "output_type": "display_data"
    }
   ],
   "source": [
    "aqi_smooth.plot()"
   ]
  },
  {
   "cell_type": "code",
   "execution_count": 30,
   "id": "688f9c41",
   "metadata": {
    "execution": {
     "iopub.execute_input": "2025-01-14T20:24:54.372508Z",
     "iopub.status.busy": "2025-01-14T20:24:54.372148Z",
     "iopub.status.idle": "2025-01-14T20:24:54.379876Z",
     "shell.execute_reply": "2025-01-14T20:24:54.378552Z"
    },
    "papermill": {
     "duration": 0.032274,
     "end_time": "2025-01-14T20:24:54.381760",
     "exception": false,
     "start_time": "2025-01-14T20:24:54.349486",
     "status": "completed"
    },
    "tags": []
   },
   "outputs": [],
   "source": [
    "# Function to define window_size and convert data into X (features) and y (labels)\n",
    "def new_data_to_X_y(new_data, window_size, train_pct, val_pct, test_pct):\n",
    "    # Convert data to numpy array\n",
    "    new_data_as_np = new_data.to_numpy()\n",
    "    \n",
    "    # Split data based on percentages\n",
    "    total_len = len(new_data_as_np)\n",
    "    train_end = int(train_pct * total_len)\n",
    "    val_end = train_end + int(val_pct * total_len)\n",
    "    \n",
    "    # Prepare train, val, and test splits\n",
    "    train_data = new_data_as_np[:train_end]\n",
    "    val_data = new_data_as_np[train_end:val_end]\n",
    "    test_data = new_data_as_np[val_end:]\n",
    "    \n",
    "    # Helper function to create X and y\n",
    "    def create_X_y(data):\n",
    "        X, y = [], []\n",
    "        for i in range(len(data) - window_size):\n",
    "            row = [[a] for a in data[i:i + window_size]]\n",
    "            X.append(row)\n",
    "            label = data[i + window_size]\n",
    "            y.append(label)\n",
    "        return np.array(X), np.array(y)\n",
    "    \n",
    "    # Create X and y for train, validation, and test\n",
    "    X_train, y_train = create_X_y(train_data)\n",
    "    X_val, y_val = create_X_y(val_data)\n",
    "    X_test, y_test = create_X_y(test_data)\n",
    "    \n",
    "    return (X_train, y_train), (X_val, y_val), (X_test, y_test)"
   ]
  },
  {
   "cell_type": "code",
   "execution_count": 31,
   "id": "598b90ba",
   "metadata": {
    "execution": {
     "iopub.execute_input": "2025-01-14T20:24:54.427939Z",
     "iopub.status.busy": "2025-01-14T20:24:54.427439Z",
     "iopub.status.idle": "2025-01-14T20:24:54.456145Z",
     "shell.execute_reply": "2025-01-14T20:24:54.454914Z"
    },
    "papermill": {
     "duration": 0.053812,
     "end_time": "2025-01-14T20:24:54.457876",
     "exception": false,
     "start_time": "2025-01-14T20:24:54.404064",
     "status": "completed"
    },
    "tags": []
   },
   "outputs": [
    {
     "name": "stdout",
     "output_type": "stream",
     "text": [
      "Train shapes: (2559, 6, 1) (2559,)\n",
      "Validation shapes: (727, 6, 1) (727,)\n",
      "Test shapes: (361, 6, 1) (361,)\n"
     ]
    }
   ],
   "source": [
    "#passing data to function\n",
    "\n",
    "# WINDOW_SIZE = 6\n",
    "# train_pct=0.7\n",
    "# val_pct=0.2\n",
    "# test_pct=0.1\n",
    "(X_train1, y_train1), (X_val1, y_val1), (X_test1, y_test1) = new_data_to_X_y(aqi_smooth, 6, 0.7, 0.2, 0.1)\n",
    "\n",
    "# shapes\n",
    "print(\"Train shapes:\", X_train1.shape, y_train1.shape)\n",
    "print(\"Validation shapes:\", X_val1.shape, y_val1.shape)\n",
    "print(\"Test shapes:\", X_test1.shape, y_test1.shape)"
   ]
  },
  {
   "cell_type": "markdown",
   "id": "7c1f497e",
   "metadata": {
    "papermill": {
     "duration": 0.021033,
     "end_time": "2025-01-14T20:24:54.501129",
     "exception": false,
     "start_time": "2025-01-14T20:24:54.480096",
     "status": "completed"
    },
    "tags": []
   },
   "source": [
    "# **2.2. Model Training & Testing**"
   ]
  },
  {
   "cell_type": "code",
   "execution_count": 32,
   "id": "54487772",
   "metadata": {
    "execution": {
     "iopub.execute_input": "2025-01-14T20:24:54.544810Z",
     "iopub.status.busy": "2025-01-14T20:24:54.544383Z",
     "iopub.status.idle": "2025-01-14T20:25:04.069804Z",
     "shell.execute_reply": "2025-01-14T20:25:04.068808Z"
    },
    "papermill": {
     "duration": 9.54968,
     "end_time": "2025-01-14T20:25:04.071851",
     "exception": false,
     "start_time": "2025-01-14T20:24:54.522171",
     "status": "completed"
    },
    "tags": []
   },
   "outputs": [],
   "source": [
    "# libraries for building model and testing\n",
    "from tensorflow.keras.models import Sequential\n",
    "from tensorflow.keras.layers import *\n",
    "from tensorflow.keras.callbacks import ModelCheckpoint\n",
    "from tensorflow.keras.callbacks import ReduceLROnPlateau\n",
    "from tensorflow.keras.losses import MeanSquaredError, MeanAbsoluteError\n",
    "from tensorflow.keras.metrics import RootMeanSquaredError\n",
    "from tensorflow.keras.optimizers import Adam\n",
    "from keras.regularizers import l2\n",
    "from keras.callbacks import EarlyStopping"
   ]
  },
  {
   "cell_type": "markdown",
   "id": "0dbabe81",
   "metadata": {
    "papermill": {
     "duration": 0.020887,
     "end_time": "2025-01-14T20:25:04.114054",
     "exception": false,
     "start_time": "2025-01-14T20:25:04.093167",
     "status": "completed"
    },
    "tags": []
   },
   "source": [
    "# LSTM(Smooth)"
   ]
  },
  {
   "cell_type": "code",
   "execution_count": 33,
   "id": "939d6f9b",
   "metadata": {
    "execution": {
     "iopub.execute_input": "2025-01-14T20:25:04.158095Z",
     "iopub.status.busy": "2025-01-14T20:25:04.157373Z",
     "iopub.status.idle": "2025-01-14T20:25:04.301159Z",
     "shell.execute_reply": "2025-01-14T20:25:04.300255Z"
    },
    "papermill": {
     "duration": 0.167331,
     "end_time": "2025-01-14T20:25:04.302548",
     "exception": false,
     "start_time": "2025-01-14T20:25:04.135217",
     "status": "completed"
    },
    "tags": []
   },
   "outputs": [
    {
     "data": {
      "text/html": [
       "<pre style=\"white-space:pre;overflow-x:auto;line-height:normal;font-family:Menlo,'DejaVu Sans Mono',consolas,'Courier New',monospace\"><span style=\"font-weight: bold\">Model: \"sequential\"</span>\n",
       "</pre>\n"
      ],
      "text/plain": [
       "\u001b[1mModel: \"sequential\"\u001b[0m\n"
      ]
     },
     "metadata": {},
     "output_type": "display_data"
    },
    {
     "data": {
      "text/html": [
       "<pre style=\"white-space:pre;overflow-x:auto;line-height:normal;font-family:Menlo,'DejaVu Sans Mono',consolas,'Courier New',monospace\">┏━━━━━━━━━━━━━━━━━━━━━━━━━━━━━━━━━━━━━━┳━━━━━━━━━━━━━━━━━━━━━━━━━━━━━┳━━━━━━━━━━━━━━━━━┓\n",
       "┃<span style=\"font-weight: bold\"> Layer (type)                         </span>┃<span style=\"font-weight: bold\"> Output Shape                </span>┃<span style=\"font-weight: bold\">         Param # </span>┃\n",
       "┡━━━━━━━━━━━━━━━━━━━━━━━━━━━━━━━━━━━━━━╇━━━━━━━━━━━━━━━━━━━━━━━━━━━━━╇━━━━━━━━━━━━━━━━━┩\n",
       "│ lstm (<span style=\"color: #0087ff; text-decoration-color: #0087ff\">LSTM</span>)                          │ (<span style=\"color: #00d7ff; text-decoration-color: #00d7ff\">None</span>, <span style=\"color: #00af00; text-decoration-color: #00af00\">32</span>)                  │           <span style=\"color: #00af00; text-decoration-color: #00af00\">4,352</span> │\n",
       "├──────────────────────────────────────┼─────────────────────────────┼─────────────────┤\n",
       "│ dense (<span style=\"color: #0087ff; text-decoration-color: #0087ff\">Dense</span>)                        │ (<span style=\"color: #00d7ff; text-decoration-color: #00d7ff\">None</span>, <span style=\"color: #00af00; text-decoration-color: #00af00\">8</span>)                   │             <span style=\"color: #00af00; text-decoration-color: #00af00\">264</span> │\n",
       "├──────────────────────────────────────┼─────────────────────────────┼─────────────────┤\n",
       "│ dense_1 (<span style=\"color: #0087ff; text-decoration-color: #0087ff\">Dense</span>)                      │ (<span style=\"color: #00d7ff; text-decoration-color: #00d7ff\">None</span>, <span style=\"color: #00af00; text-decoration-color: #00af00\">1</span>)                   │               <span style=\"color: #00af00; text-decoration-color: #00af00\">9</span> │\n",
       "└──────────────────────────────────────┴─────────────────────────────┴─────────────────┘\n",
       "</pre>\n"
      ],
      "text/plain": [
       "┏━━━━━━━━━━━━━━━━━━━━━━━━━━━━━━━━━━━━━━┳━━━━━━━━━━━━━━━━━━━━━━━━━━━━━┳━━━━━━━━━━━━━━━━━┓\n",
       "┃\u001b[1m \u001b[0m\u001b[1mLayer (type)                        \u001b[0m\u001b[1m \u001b[0m┃\u001b[1m \u001b[0m\u001b[1mOutput Shape               \u001b[0m\u001b[1m \u001b[0m┃\u001b[1m \u001b[0m\u001b[1m        Param #\u001b[0m\u001b[1m \u001b[0m┃\n",
       "┡━━━━━━━━━━━━━━━━━━━━━━━━━━━━━━━━━━━━━━╇━━━━━━━━━━━━━━━━━━━━━━━━━━━━━╇━━━━━━━━━━━━━━━━━┩\n",
       "│ lstm (\u001b[38;5;33mLSTM\u001b[0m)                          │ (\u001b[38;5;45mNone\u001b[0m, \u001b[38;5;34m32\u001b[0m)                  │           \u001b[38;5;34m4,352\u001b[0m │\n",
       "├──────────────────────────────────────┼─────────────────────────────┼─────────────────┤\n",
       "│ dense (\u001b[38;5;33mDense\u001b[0m)                        │ (\u001b[38;5;45mNone\u001b[0m, \u001b[38;5;34m8\u001b[0m)                   │             \u001b[38;5;34m264\u001b[0m │\n",
       "├──────────────────────────────────────┼─────────────────────────────┼─────────────────┤\n",
       "│ dense_1 (\u001b[38;5;33mDense\u001b[0m)                      │ (\u001b[38;5;45mNone\u001b[0m, \u001b[38;5;34m1\u001b[0m)                   │               \u001b[38;5;34m9\u001b[0m │\n",
       "└──────────────────────────────────────┴─────────────────────────────┴─────────────────┘\n"
      ]
     },
     "metadata": {},
     "output_type": "display_data"
    },
    {
     "data": {
      "text/html": [
       "<pre style=\"white-space:pre;overflow-x:auto;line-height:normal;font-family:Menlo,'DejaVu Sans Mono',consolas,'Courier New',monospace\"><span style=\"font-weight: bold\"> Total params: </span><span style=\"color: #00af00; text-decoration-color: #00af00\">4,625</span> (18.07 KB)\n",
       "</pre>\n"
      ],
      "text/plain": [
       "\u001b[1m Total params: \u001b[0m\u001b[38;5;34m4,625\u001b[0m (18.07 KB)\n"
      ]
     },
     "metadata": {},
     "output_type": "display_data"
    },
    {
     "data": {
      "text/html": [
       "<pre style=\"white-space:pre;overflow-x:auto;line-height:normal;font-family:Menlo,'DejaVu Sans Mono',consolas,'Courier New',monospace\"><span style=\"font-weight: bold\"> Trainable params: </span><span style=\"color: #00af00; text-decoration-color: #00af00\">4,625</span> (18.07 KB)\n",
       "</pre>\n"
      ],
      "text/plain": [
       "\u001b[1m Trainable params: \u001b[0m\u001b[38;5;34m4,625\u001b[0m (18.07 KB)\n"
      ]
     },
     "metadata": {},
     "output_type": "display_data"
    },
    {
     "data": {
      "text/html": [
       "<pre style=\"white-space:pre;overflow-x:auto;line-height:normal;font-family:Menlo,'DejaVu Sans Mono',consolas,'Courier New',monospace\"><span style=\"font-weight: bold\"> Non-trainable params: </span><span style=\"color: #00af00; text-decoration-color: #00af00\">0</span> (0.00 B)\n",
       "</pre>\n"
      ],
      "text/plain": [
       "\u001b[1m Non-trainable params: \u001b[0m\u001b[38;5;34m0\u001b[0m (0.00 B)\n"
      ]
     },
     "metadata": {},
     "output_type": "display_data"
    }
   ],
   "source": [
    "model1 = Sequential()\n",
    "model1.add(InputLayer((6, 1))) # 6 timestamp , 1 feature\n",
    "model1.add(LSTM(32)) # LSTM layer with 16 units\n",
    "model1.add(Dense(8, activation='relu')) # activation function- ReLU with 8 dense layer\n",
    "\n",
    "model1.add(Dense(1, 'linear')) # output - linear and data- 1\n",
    "\n",
    "model1.summary()"
   ]
  },
  {
   "cell_type": "code",
   "execution_count": 34,
   "id": "91bed555",
   "metadata": {
    "execution": {
     "iopub.execute_input": "2025-01-14T20:25:04.349941Z",
     "iopub.status.busy": "2025-01-14T20:25:04.349526Z",
     "iopub.status.idle": "2025-01-14T20:25:04.366436Z",
     "shell.execute_reply": "2025-01-14T20:25:04.365514Z"
    },
    "papermill": {
     "duration": 0.042551,
     "end_time": "2025-01-14T20:25:04.368203",
     "exception": false,
     "start_time": "2025-01-14T20:25:04.325652",
     "status": "completed"
    },
    "tags": []
   },
   "outputs": [],
   "source": [
    "cp1 = ModelCheckpoint('/kaggle/working/model1.keras', save_best_only=True)\n",
    "\n",
    "model1.compile(loss=MeanSquaredError(), optimizer=Adam(learning_rate=0.0005), \n",
    "               metrics=[RootMeanSquaredError()])"
   ]
  },
  {
   "cell_type": "code",
   "execution_count": 35,
   "id": "b923daeb",
   "metadata": {
    "_kg_hide-output": true,
    "execution": {
     "iopub.execute_input": "2025-01-14T20:25:04.416688Z",
     "iopub.status.busy": "2025-01-14T20:25:04.416274Z",
     "iopub.status.idle": "2025-01-14T20:25:46.634239Z",
     "shell.execute_reply": "2025-01-14T20:25:46.633191Z"
    },
    "papermill": {
     "duration": 42.24367,
     "end_time": "2025-01-14T20:25:46.636212",
     "exception": false,
     "start_time": "2025-01-14T20:25:04.392542",
     "status": "completed"
    },
    "tags": []
   },
   "outputs": [
    {
     "name": "stdout",
     "output_type": "stream",
     "text": [
      "Epoch 1/100\n",
      "\u001b[1m80/80\u001b[0m \u001b[32m━━━━━━━━━━━━━━━━━━━━\u001b[0m\u001b[37m\u001b[0m \u001b[1m3s\u001b[0m 8ms/step - loss: 1561.5245 - root_mean_squared_error: 39.5122 - val_loss: 410.2011 - val_root_mean_squared_error: 20.2534\n",
      "Epoch 2/100\n",
      "\u001b[1m80/80\u001b[0m \u001b[32m━━━━━━━━━━━━━━━━━━━━\u001b[0m\u001b[37m\u001b[0m \u001b[1m0s\u001b[0m 5ms/step - loss: 1420.1332 - root_mean_squared_error: 37.6774 - val_loss: 300.4627 - val_root_mean_squared_error: 17.3339\n",
      "Epoch 3/100\n",
      "\u001b[1m80/80\u001b[0m \u001b[32m━━━━━━━━━━━━━━━━━━━━\u001b[0m\u001b[37m\u001b[0m \u001b[1m0s\u001b[0m 5ms/step - loss: 1204.0979 - root_mean_squared_error: 34.6959 - val_loss: 211.5633 - val_root_mean_squared_error: 14.5452\n",
      "Epoch 4/100\n",
      "\u001b[1m80/80\u001b[0m \u001b[32m━━━━━━━━━━━━━━━━━━━━\u001b[0m\u001b[37m\u001b[0m \u001b[1m0s\u001b[0m 5ms/step - loss: 998.5748 - root_mean_squared_error: 31.5982 - val_loss: 122.4889 - val_root_mean_squared_error: 11.0675\n",
      "Epoch 5/100\n",
      "\u001b[1m80/80\u001b[0m \u001b[32m━━━━━━━━━━━━━━━━━━━━\u001b[0m\u001b[37m\u001b[0m \u001b[1m0s\u001b[0m 5ms/step - loss: 775.3718 - root_mean_squared_error: 27.8387 - val_loss: 66.4167 - val_root_mean_squared_error: 8.1496\n",
      "Epoch 6/100\n",
      "\u001b[1m80/80\u001b[0m \u001b[32m━━━━━━━━━━━━━━━━━━━━\u001b[0m\u001b[37m\u001b[0m \u001b[1m0s\u001b[0m 5ms/step - loss: 645.4032 - root_mean_squared_error: 25.3904 - val_loss: 38.6531 - val_root_mean_squared_error: 6.2172\n",
      "Epoch 7/100\n",
      "\u001b[1m80/80\u001b[0m \u001b[32m━━━━━━━━━━━━━━━━━━━━\u001b[0m\u001b[37m\u001b[0m \u001b[1m0s\u001b[0m 5ms/step - loss: 528.4047 - root_mean_squared_error: 22.9829 - val_loss: 32.1758 - val_root_mean_squared_error: 5.6724\n",
      "Epoch 8/100\n",
      "\u001b[1m80/80\u001b[0m \u001b[32m━━━━━━━━━━━━━━━━━━━━\u001b[0m\u001b[37m\u001b[0m \u001b[1m0s\u001b[0m 4ms/step - loss: 413.1436 - root_mean_squared_error: 20.3218 - val_loss: 43.4012 - val_root_mean_squared_error: 6.5880\n",
      "Epoch 9/100\n",
      "\u001b[1m80/80\u001b[0m \u001b[32m━━━━━━━━━━━━━━━━━━━━\u001b[0m\u001b[37m\u001b[0m \u001b[1m0s\u001b[0m 4ms/step - loss: 364.3654 - root_mean_squared_error: 19.0839 - val_loss: 56.2120 - val_root_mean_squared_error: 7.4975\n",
      "Epoch 10/100\n",
      "\u001b[1m80/80\u001b[0m \u001b[32m━━━━━━━━━━━━━━━━━━━━\u001b[0m\u001b[37m\u001b[0m \u001b[1m0s\u001b[0m 5ms/step - loss: 301.0829 - root_mean_squared_error: 17.3457 - val_loss: 34.4896 - val_root_mean_squared_error: 5.8728\n",
      "Epoch 11/100\n",
      "\u001b[1m80/80\u001b[0m \u001b[32m━━━━━━━━━━━━━━━━━━━━\u001b[0m\u001b[37m\u001b[0m \u001b[1m0s\u001b[0m 5ms/step - loss: 229.0092 - root_mean_squared_error: 15.1229 - val_loss: 27.8100 - val_root_mean_squared_error: 5.2735\n",
      "Epoch 12/100\n",
      "\u001b[1m80/80\u001b[0m \u001b[32m━━━━━━━━━━━━━━━━━━━━\u001b[0m\u001b[37m\u001b[0m \u001b[1m0s\u001b[0m 5ms/step - loss: 199.3019 - root_mean_squared_error: 14.1117 - val_loss: 14.5176 - val_root_mean_squared_error: 3.8102\n",
      "Epoch 13/100\n",
      "\u001b[1m80/80\u001b[0m \u001b[32m━━━━━━━━━━━━━━━━━━━━\u001b[0m\u001b[37m\u001b[0m \u001b[1m0s\u001b[0m 5ms/step - loss: 164.7180 - root_mean_squared_error: 12.8245 - val_loss: 12.7589 - val_root_mean_squared_error: 3.5720\n",
      "Epoch 14/100\n",
      "\u001b[1m80/80\u001b[0m \u001b[32m━━━━━━━━━━━━━━━━━━━━\u001b[0m\u001b[37m\u001b[0m \u001b[1m0s\u001b[0m 5ms/step - loss: 122.7351 - root_mean_squared_error: 11.0654 - val_loss: 12.3140 - val_root_mean_squared_error: 3.5091\n",
      "Epoch 15/100\n",
      "\u001b[1m80/80\u001b[0m \u001b[32m━━━━━━━━━━━━━━━━━━━━\u001b[0m\u001b[37m\u001b[0m \u001b[1m0s\u001b[0m 5ms/step - loss: 98.8092 - root_mean_squared_error: 9.9375 - val_loss: 8.9979 - val_root_mean_squared_error: 2.9996\n",
      "Epoch 16/100\n",
      "\u001b[1m80/80\u001b[0m \u001b[32m━━━━━━━━━━━━━━━━━━━━\u001b[0m\u001b[37m\u001b[0m \u001b[1m0s\u001b[0m 5ms/step - loss: 74.6705 - root_mean_squared_error: 8.6358 - val_loss: 2.3067 - val_root_mean_squared_error: 1.5188\n",
      "Epoch 17/100\n",
      "\u001b[1m80/80\u001b[0m \u001b[32m━━━━━━━━━━━━━━━━━━━━\u001b[0m\u001b[37m\u001b[0m \u001b[1m0s\u001b[0m 5ms/step - loss: 68.2696 - root_mean_squared_error: 8.2450 - val_loss: 2.3016 - val_root_mean_squared_error: 1.5171\n",
      "Epoch 18/100\n",
      "\u001b[1m80/80\u001b[0m \u001b[32m━━━━━━━━━━━━━━━━━━━━\u001b[0m\u001b[37m\u001b[0m \u001b[1m0s\u001b[0m 4ms/step - loss: 45.6280 - root_mean_squared_error: 6.7436 - val_loss: 2.3179 - val_root_mean_squared_error: 1.5225\n",
      "Epoch 19/100\n",
      "\u001b[1m80/80\u001b[0m \u001b[32m━━━━━━━━━━━━━━━━━━━━\u001b[0m\u001b[37m\u001b[0m \u001b[1m0s\u001b[0m 5ms/step - loss: 34.1803 - root_mean_squared_error: 5.8319 - val_loss: 2.1279 - val_root_mean_squared_error: 1.4587\n",
      "Epoch 20/100\n",
      "\u001b[1m80/80\u001b[0m \u001b[32m━━━━━━━━━━━━━━━━━━━━\u001b[0m\u001b[37m\u001b[0m \u001b[1m0s\u001b[0m 5ms/step - loss: 28.8642 - root_mean_squared_error: 5.3613 - val_loss: 1.9848 - val_root_mean_squared_error: 1.4088\n",
      "Epoch 21/100\n",
      "\u001b[1m80/80\u001b[0m \u001b[32m━━━━━━━━━━━━━━━━━━━━\u001b[0m\u001b[37m\u001b[0m \u001b[1m0s\u001b[0m 5ms/step - loss: 24.2371 - root_mean_squared_error: 4.9031 - val_loss: 1.9540 - val_root_mean_squared_error: 1.3979\n",
      "Epoch 22/100\n",
      "\u001b[1m80/80\u001b[0m \u001b[32m━━━━━━━━━━━━━━━━━━━━\u001b[0m\u001b[37m\u001b[0m \u001b[1m0s\u001b[0m 4ms/step - loss: 28.0346 - root_mean_squared_error: 5.2674 - val_loss: 2.1851 - val_root_mean_squared_error: 1.4782\n",
      "Epoch 23/100\n",
      "\u001b[1m80/80\u001b[0m \u001b[32m━━━━━━━━━━━━━━━━━━━━\u001b[0m\u001b[37m\u001b[0m \u001b[1m0s\u001b[0m 5ms/step - loss: 16.5013 - root_mean_squared_error: 4.0319 - val_loss: 1.9876 - val_root_mean_squared_error: 1.4098\n",
      "Epoch 24/100\n",
      "\u001b[1m80/80\u001b[0m \u001b[32m━━━━━━━━━━━━━━━━━━━━\u001b[0m\u001b[37m\u001b[0m \u001b[1m0s\u001b[0m 5ms/step - loss: 17.3899 - root_mean_squared_error: 4.1514 - val_loss: 1.8506 - val_root_mean_squared_error: 1.3604\n",
      "Epoch 25/100\n",
      "\u001b[1m80/80\u001b[0m \u001b[32m━━━━━━━━━━━━━━━━━━━━\u001b[0m\u001b[37m\u001b[0m \u001b[1m0s\u001b[0m 5ms/step - loss: 16.9472 - root_mean_squared_error: 4.0920 - val_loss: 1.9167 - val_root_mean_squared_error: 1.3845\n",
      "Epoch 26/100\n",
      "\u001b[1m80/80\u001b[0m \u001b[32m━━━━━━━━━━━━━━━━━━━━\u001b[0m\u001b[37m\u001b[0m \u001b[1m0s\u001b[0m 5ms/step - loss: 17.0335 - root_mean_squared_error: 4.1098 - val_loss: 1.7908 - val_root_mean_squared_error: 1.3382\n",
      "Epoch 27/100\n",
      "\u001b[1m80/80\u001b[0m \u001b[32m━━━━━━━━━━━━━━━━━━━━\u001b[0m\u001b[37m\u001b[0m \u001b[1m0s\u001b[0m 4ms/step - loss: 14.3675 - root_mean_squared_error: 3.7646 - val_loss: 1.8948 - val_root_mean_squared_error: 1.3765\n",
      "Epoch 28/100\n",
      "\u001b[1m80/80\u001b[0m \u001b[32m━━━━━━━━━━━━━━━━━━━━\u001b[0m\u001b[37m\u001b[0m \u001b[1m0s\u001b[0m 4ms/step - loss: 17.2812 - root_mean_squared_error: 4.1133 - val_loss: 2.0167 - val_root_mean_squared_error: 1.4201\n",
      "Epoch 29/100\n",
      "\u001b[1m80/80\u001b[0m \u001b[32m━━━━━━━━━━━━━━━━━━━━\u001b[0m\u001b[37m\u001b[0m \u001b[1m0s\u001b[0m 4ms/step - loss: 11.6629 - root_mean_squared_error: 3.3831 - val_loss: 1.8358 - val_root_mean_squared_error: 1.3549\n",
      "Epoch 30/100\n",
      "\u001b[1m80/80\u001b[0m \u001b[32m━━━━━━━━━━━━━━━━━━━━\u001b[0m\u001b[37m\u001b[0m \u001b[1m0s\u001b[0m 5ms/step - loss: 12.3013 - root_mean_squared_error: 3.4903 - val_loss: 1.8312 - val_root_mean_squared_error: 1.3532\n",
      "Epoch 31/100\n",
      "\u001b[1m80/80\u001b[0m \u001b[32m━━━━━━━━━━━━━━━━━━━━\u001b[0m\u001b[37m\u001b[0m \u001b[1m0s\u001b[0m 5ms/step - loss: 11.1869 - root_mean_squared_error: 3.3314 - val_loss: 1.9438 - val_root_mean_squared_error: 1.3942\n",
      "Epoch 32/100\n",
      "\u001b[1m80/80\u001b[0m \u001b[32m━━━━━━━━━━━━━━━━━━━━\u001b[0m\u001b[37m\u001b[0m \u001b[1m0s\u001b[0m 5ms/step - loss: 8.0397 - root_mean_squared_error: 2.8130 - val_loss: 1.8907 - val_root_mean_squared_error: 1.3750\n",
      "Epoch 33/100\n",
      "\u001b[1m80/80\u001b[0m \u001b[32m━━━━━━━━━━━━━━━━━━━━\u001b[0m\u001b[37m\u001b[0m \u001b[1m0s\u001b[0m 5ms/step - loss: 11.5397 - root_mean_squared_error: 3.3505 - val_loss: 1.8473 - val_root_mean_squared_error: 1.3591\n",
      "Epoch 34/100\n",
      "\u001b[1m80/80\u001b[0m \u001b[32m━━━━━━━━━━━━━━━━━━━━\u001b[0m\u001b[37m\u001b[0m \u001b[1m0s\u001b[0m 4ms/step - loss: 7.8227 - root_mean_squared_error: 2.7669 - val_loss: 2.1062 - val_root_mean_squared_error: 1.4513\n",
      "Epoch 35/100\n",
      "\u001b[1m80/80\u001b[0m \u001b[32m━━━━━━━━━━━━━━━━━━━━\u001b[0m\u001b[37m\u001b[0m \u001b[1m0s\u001b[0m 4ms/step - loss: 10.8225 - root_mean_squared_error: 3.2553 - val_loss: 1.8513 - val_root_mean_squared_error: 1.3606\n",
      "Epoch 36/100\n",
      "\u001b[1m80/80\u001b[0m \u001b[32m━━━━━━━━━━━━━━━━━━━━\u001b[0m\u001b[37m\u001b[0m \u001b[1m0s\u001b[0m 4ms/step - loss: 9.7726 - root_mean_squared_error: 3.1133 - val_loss: 1.8545 - val_root_mean_squared_error: 1.3618\n",
      "Epoch 37/100\n",
      "\u001b[1m80/80\u001b[0m \u001b[32m━━━━━━━━━━━━━━━━━━━━\u001b[0m\u001b[37m\u001b[0m \u001b[1m0s\u001b[0m 5ms/step - loss: 11.4719 - root_mean_squared_error: 3.3656 - val_loss: 1.8948 - val_root_mean_squared_error: 1.3765\n",
      "Epoch 38/100\n",
      "\u001b[1m80/80\u001b[0m \u001b[32m━━━━━━━━━━━━━━━━━━━━\u001b[0m\u001b[37m\u001b[0m \u001b[1m0s\u001b[0m 5ms/step - loss: 9.8066 - root_mean_squared_error: 3.1068 - val_loss: 1.7657 - val_root_mean_squared_error: 1.3288\n",
      "Epoch 39/100\n",
      "\u001b[1m80/80\u001b[0m \u001b[32m━━━━━━━━━━━━━━━━━━━━\u001b[0m\u001b[37m\u001b[0m \u001b[1m0s\u001b[0m 5ms/step - loss: 8.2205 - root_mean_squared_error: 2.8300 - val_loss: 1.9668 - val_root_mean_squared_error: 1.4024\n",
      "Epoch 40/100\n",
      "\u001b[1m80/80\u001b[0m \u001b[32m━━━━━━━━━━━━━━━━━━━━\u001b[0m\u001b[37m\u001b[0m \u001b[1m0s\u001b[0m 5ms/step - loss: 12.0664 - root_mean_squared_error: 3.4581 - val_loss: 1.9263 - val_root_mean_squared_error: 1.3879\n",
      "Epoch 41/100\n",
      "\u001b[1m80/80\u001b[0m \u001b[32m━━━━━━━━━━━━━━━━━━━━\u001b[0m\u001b[37m\u001b[0m \u001b[1m0s\u001b[0m 5ms/step - loss: 12.6946 - root_mean_squared_error: 3.5244 - val_loss: 1.7405 - val_root_mean_squared_error: 1.3193\n",
      "Epoch 42/100\n",
      "\u001b[1m80/80\u001b[0m \u001b[32m━━━━━━━━━━━━━━━━━━━━\u001b[0m\u001b[37m\u001b[0m \u001b[1m0s\u001b[0m 5ms/step - loss: 13.6146 - root_mean_squared_error: 3.5789 - val_loss: 2.0084 - val_root_mean_squared_error: 1.4172\n",
      "Epoch 43/100\n",
      "\u001b[1m80/80\u001b[0m \u001b[32m━━━━━━━━━━━━━━━━━━━━\u001b[0m\u001b[37m\u001b[0m \u001b[1m0s\u001b[0m 5ms/step - loss: 7.2681 - root_mean_squared_error: 2.6727 - val_loss: 1.7908 - val_root_mean_squared_error: 1.3382\n",
      "Epoch 44/100\n",
      "\u001b[1m80/80\u001b[0m \u001b[32m━━━━━━━━━━━━━━━━━━━━\u001b[0m\u001b[37m\u001b[0m \u001b[1m0s\u001b[0m 5ms/step - loss: 8.9551 - root_mean_squared_error: 2.9736 - val_loss: 1.8341 - val_root_mean_squared_error: 1.3543\n",
      "Epoch 45/100\n",
      "\u001b[1m80/80\u001b[0m \u001b[32m━━━━━━━━━━━━━━━━━━━━\u001b[0m\u001b[37m\u001b[0m \u001b[1m0s\u001b[0m 4ms/step - loss: 7.7887 - root_mean_squared_error: 2.7840 - val_loss: 1.8447 - val_root_mean_squared_error: 1.3582\n",
      "Epoch 46/100\n",
      "\u001b[1m80/80\u001b[0m \u001b[32m━━━━━━━━━━━━━━━━━━━━\u001b[0m\u001b[37m\u001b[0m \u001b[1m0s\u001b[0m 4ms/step - loss: 7.3296 - root_mean_squared_error: 2.6769 - val_loss: 1.9324 - val_root_mean_squared_error: 1.3901\n",
      "Epoch 47/100\n",
      "\u001b[1m80/80\u001b[0m \u001b[32m━━━━━━━━━━━━━━━━━━━━\u001b[0m\u001b[37m\u001b[0m \u001b[1m0s\u001b[0m 5ms/step - loss: 9.3668 - root_mean_squared_error: 3.0507 - val_loss: 1.8566 - val_root_mean_squared_error: 1.3626\n",
      "Epoch 48/100\n",
      "\u001b[1m80/80\u001b[0m \u001b[32m━━━━━━━━━━━━━━━━━━━━\u001b[0m\u001b[37m\u001b[0m \u001b[1m0s\u001b[0m 5ms/step - loss: 7.7899 - root_mean_squared_error: 2.7778 - val_loss: 1.8237 - val_root_mean_squared_error: 1.3504\n",
      "Epoch 49/100\n",
      "\u001b[1m80/80\u001b[0m \u001b[32m━━━━━━━━━━━━━━━━━━━━\u001b[0m\u001b[37m\u001b[0m \u001b[1m0s\u001b[0m 4ms/step - loss: 7.4286 - root_mean_squared_error: 2.6973 - val_loss: 1.9302 - val_root_mean_squared_error: 1.3893\n",
      "Epoch 50/100\n",
      "\u001b[1m80/80\u001b[0m \u001b[32m━━━━━━━━━━━━━━━━━━━━\u001b[0m\u001b[37m\u001b[0m \u001b[1m0s\u001b[0m 5ms/step - loss: 9.7944 - root_mean_squared_error: 3.1150 - val_loss: 1.9955 - val_root_mean_squared_error: 1.4126\n",
      "Epoch 51/100\n",
      "\u001b[1m80/80\u001b[0m \u001b[32m━━━━━━━━━━━━━━━━━━━━\u001b[0m\u001b[37m\u001b[0m \u001b[1m0s\u001b[0m 4ms/step - loss: 8.0240 - root_mean_squared_error: 2.8154 - val_loss: 1.7523 - val_root_mean_squared_error: 1.3237\n",
      "Epoch 52/100\n",
      "\u001b[1m80/80\u001b[0m \u001b[32m━━━━━━━━━━━━━━━━━━━━\u001b[0m\u001b[37m\u001b[0m \u001b[1m0s\u001b[0m 5ms/step - loss: 5.6793 - root_mean_squared_error: 2.3684 - val_loss: 1.7525 - val_root_mean_squared_error: 1.3238\n",
      "Epoch 53/100\n",
      "\u001b[1m80/80\u001b[0m \u001b[32m━━━━━━━━━━━━━━━━━━━━\u001b[0m\u001b[37m\u001b[0m \u001b[1m0s\u001b[0m 5ms/step - loss: 8.6039 - root_mean_squared_error: 2.9147 - val_loss: 2.1016 - val_root_mean_squared_error: 1.4497\n",
      "Epoch 54/100\n",
      "\u001b[1m80/80\u001b[0m \u001b[32m━━━━━━━━━━━━━━━━━━━━\u001b[0m\u001b[37m\u001b[0m \u001b[1m0s\u001b[0m 5ms/step - loss: 6.8250 - root_mean_squared_error: 2.6001 - val_loss: 2.2235 - val_root_mean_squared_error: 1.4911\n",
      "Epoch 55/100\n",
      "\u001b[1m80/80\u001b[0m \u001b[32m━━━━━━━━━━━━━━━━━━━━\u001b[0m\u001b[37m\u001b[0m \u001b[1m0s\u001b[0m 5ms/step - loss: 7.7077 - root_mean_squared_error: 2.7667 - val_loss: 1.9299 - val_root_mean_squared_error: 1.3892\n",
      "Epoch 56/100\n",
      "\u001b[1m80/80\u001b[0m \u001b[32m━━━━━━━━━━━━━━━━━━━━\u001b[0m\u001b[37m\u001b[0m \u001b[1m0s\u001b[0m 5ms/step - loss: 7.3737 - root_mean_squared_error: 2.7066 - val_loss: 2.0217 - val_root_mean_squared_error: 1.4219\n",
      "Epoch 57/100\n",
      "\u001b[1m80/80\u001b[0m \u001b[32m━━━━━━━━━━━━━━━━━━━━\u001b[0m\u001b[37m\u001b[0m \u001b[1m0s\u001b[0m 5ms/step - loss: 7.0616 - root_mean_squared_error: 2.6540 - val_loss: 1.9174 - val_root_mean_squared_error: 1.3847\n",
      "Epoch 58/100\n",
      "\u001b[1m80/80\u001b[0m \u001b[32m━━━━━━━━━━━━━━━━━━━━\u001b[0m\u001b[37m\u001b[0m \u001b[1m0s\u001b[0m 5ms/step - loss: 7.3064 - root_mean_squared_error: 2.6730 - val_loss: 1.7895 - val_root_mean_squared_error: 1.3377\n",
      "Epoch 59/100\n",
      "\u001b[1m80/80\u001b[0m \u001b[32m━━━━━━━━━━━━━━━━━━━━\u001b[0m\u001b[37m\u001b[0m \u001b[1m0s\u001b[0m 5ms/step - loss: 5.4962 - root_mean_squared_error: 2.3133 - val_loss: 1.7725 - val_root_mean_squared_error: 1.3314\n",
      "Epoch 60/100\n",
      "\u001b[1m80/80\u001b[0m \u001b[32m━━━━━━━━━━━━━━━━━━━━\u001b[0m\u001b[37m\u001b[0m \u001b[1m0s\u001b[0m 5ms/step - loss: 6.8488 - root_mean_squared_error: 2.5723 - val_loss: 1.9279 - val_root_mean_squared_error: 1.3885\n",
      "Epoch 61/100\n",
      "\u001b[1m80/80\u001b[0m \u001b[32m━━━━━━━━━━━━━━━━━━━━\u001b[0m\u001b[37m\u001b[0m \u001b[1m0s\u001b[0m 5ms/step - loss: 7.4428 - root_mean_squared_error: 2.7197 - val_loss: 2.0576 - val_root_mean_squared_error: 1.4344\n",
      "Epoch 62/100\n",
      "\u001b[1m80/80\u001b[0m \u001b[32m━━━━━━━━━━━━━━━━━━━━\u001b[0m\u001b[37m\u001b[0m \u001b[1m0s\u001b[0m 5ms/step - loss: 5.5529 - root_mean_squared_error: 2.3465 - val_loss: 2.1463 - val_root_mean_squared_error: 1.4650\n",
      "Epoch 63/100\n",
      "\u001b[1m80/80\u001b[0m \u001b[32m━━━━━━━━━━━━━━━━━━━━\u001b[0m\u001b[37m\u001b[0m \u001b[1m0s\u001b[0m 5ms/step - loss: 7.2095 - root_mean_squared_error: 2.6191 - val_loss: 1.7277 - val_root_mean_squared_error: 1.3144\n",
      "Epoch 64/100\n",
      "\u001b[1m80/80\u001b[0m \u001b[32m━━━━━━━━━━━━━━━━━━━━\u001b[0m\u001b[37m\u001b[0m \u001b[1m0s\u001b[0m 4ms/step - loss: 6.4569 - root_mean_squared_error: 2.5281 - val_loss: 1.8209 - val_root_mean_squared_error: 1.3494\n",
      "Epoch 65/100\n",
      "\u001b[1m80/80\u001b[0m \u001b[32m━━━━━━━━━━━━━━━━━━━━\u001b[0m\u001b[37m\u001b[0m \u001b[1m0s\u001b[0m 4ms/step - loss: 5.5713 - root_mean_squared_error: 2.3523 - val_loss: 1.9777 - val_root_mean_squared_error: 1.4063\n",
      "Epoch 66/100\n",
      "\u001b[1m80/80\u001b[0m \u001b[32m━━━━━━━━━━━━━━━━━━━━\u001b[0m\u001b[37m\u001b[0m \u001b[1m0s\u001b[0m 5ms/step - loss: 6.4889 - root_mean_squared_error: 2.5378 - val_loss: 1.7566 - val_root_mean_squared_error: 1.3254\n",
      "Epoch 67/100\n",
      "\u001b[1m80/80\u001b[0m \u001b[32m━━━━━━━━━━━━━━━━━━━━\u001b[0m\u001b[37m\u001b[0m \u001b[1m0s\u001b[0m 5ms/step - loss: 5.6953 - root_mean_squared_error: 2.3757 - val_loss: 1.6870 - val_root_mean_squared_error: 1.2988\n",
      "Epoch 68/100\n",
      "\u001b[1m80/80\u001b[0m \u001b[32m━━━━━━━━━━━━━━━━━━━━\u001b[0m\u001b[37m\u001b[0m \u001b[1m0s\u001b[0m 4ms/step - loss: 4.9332 - root_mean_squared_error: 2.2131 - val_loss: 1.6898 - val_root_mean_squared_error: 1.2999\n",
      "Epoch 69/100\n",
      "\u001b[1m80/80\u001b[0m \u001b[32m━━━━━━━━━━━━━━━━━━━━\u001b[0m\u001b[37m\u001b[0m \u001b[1m0s\u001b[0m 5ms/step - loss: 5.0899 - root_mean_squared_error: 2.2469 - val_loss: 1.8846 - val_root_mean_squared_error: 1.3728\n",
      "Epoch 70/100\n",
      "\u001b[1m80/80\u001b[0m \u001b[32m━━━━━━━━━━━━━━━━━━━━\u001b[0m\u001b[37m\u001b[0m \u001b[1m0s\u001b[0m 5ms/step - loss: 5.2647 - root_mean_squared_error: 2.2914 - val_loss: 1.7437 - val_root_mean_squared_error: 1.3205\n",
      "Epoch 71/100\n",
      "\u001b[1m80/80\u001b[0m \u001b[32m━━━━━━━━━━━━━━━━━━━━\u001b[0m\u001b[37m\u001b[0m \u001b[1m0s\u001b[0m 5ms/step - loss: 5.1589 - root_mean_squared_error: 2.2627 - val_loss: 1.8815 - val_root_mean_squared_error: 1.3717\n",
      "Epoch 72/100\n",
      "\u001b[1m80/80\u001b[0m \u001b[32m━━━━━━━━━━━━━━━━━━━━\u001b[0m\u001b[37m\u001b[0m \u001b[1m0s\u001b[0m 5ms/step - loss: 5.3799 - root_mean_squared_error: 2.3155 - val_loss: 1.7118 - val_root_mean_squared_error: 1.3084\n",
      "Epoch 73/100\n",
      "\u001b[1m80/80\u001b[0m \u001b[32m━━━━━━━━━━━━━━━━━━━━\u001b[0m\u001b[37m\u001b[0m \u001b[1m0s\u001b[0m 5ms/step - loss: 6.4476 - root_mean_squared_error: 2.5296 - val_loss: 1.7311 - val_root_mean_squared_error: 1.3157\n",
      "Epoch 74/100\n",
      "\u001b[1m80/80\u001b[0m \u001b[32m━━━━━━━━━━━━━━━━━━━━\u001b[0m\u001b[37m\u001b[0m \u001b[1m0s\u001b[0m 5ms/step - loss: 4.9443 - root_mean_squared_error: 2.2159 - val_loss: 1.7998 - val_root_mean_squared_error: 1.3415\n",
      "Epoch 75/100\n",
      "\u001b[1m80/80\u001b[0m \u001b[32m━━━━━━━━━━━━━━━━━━━━\u001b[0m\u001b[37m\u001b[0m \u001b[1m0s\u001b[0m 4ms/step - loss: 4.7589 - root_mean_squared_error: 2.1729 - val_loss: 1.8411 - val_root_mean_squared_error: 1.3569\n",
      "Epoch 76/100\n",
      "\u001b[1m80/80\u001b[0m \u001b[32m━━━━━━━━━━━━━━━━━━━━\u001b[0m\u001b[37m\u001b[0m \u001b[1m0s\u001b[0m 5ms/step - loss: 5.7818 - root_mean_squared_error: 2.3996 - val_loss: 2.2026 - val_root_mean_squared_error: 1.4841\n",
      "Epoch 77/100\n",
      "\u001b[1m80/80\u001b[0m \u001b[32m━━━━━━━━━━━━━━━━━━━━\u001b[0m\u001b[37m\u001b[0m \u001b[1m0s\u001b[0m 5ms/step - loss: 5.8971 - root_mean_squared_error: 2.4238 - val_loss: 1.8713 - val_root_mean_squared_error: 1.3680\n",
      "Epoch 78/100\n",
      "\u001b[1m80/80\u001b[0m \u001b[32m━━━━━━━━━━━━━━━━━━━━\u001b[0m\u001b[37m\u001b[0m \u001b[1m0s\u001b[0m 4ms/step - loss: 4.9173 - root_mean_squared_error: 2.2126 - val_loss: 2.0550 - val_root_mean_squared_error: 1.4335\n",
      "Epoch 79/100\n",
      "\u001b[1m80/80\u001b[0m \u001b[32m━━━━━━━━━━━━━━━━━━━━\u001b[0m\u001b[37m\u001b[0m \u001b[1m0s\u001b[0m 4ms/step - loss: 5.0107 - root_mean_squared_error: 2.2316 - val_loss: 1.8013 - val_root_mean_squared_error: 1.3421\n",
      "Epoch 80/100\n",
      "\u001b[1m80/80\u001b[0m \u001b[32m━━━━━━━━━━━━━━━━━━━━\u001b[0m\u001b[37m\u001b[0m \u001b[1m0s\u001b[0m 5ms/step - loss: 4.8421 - root_mean_squared_error: 2.1990 - val_loss: 1.9268 - val_root_mean_squared_error: 1.3881\n",
      "Epoch 81/100\n",
      "\u001b[1m80/80\u001b[0m \u001b[32m━━━━━━━━━━━━━━━━━━━━\u001b[0m\u001b[37m\u001b[0m \u001b[1m0s\u001b[0m 5ms/step - loss: 4.9430 - root_mean_squared_error: 2.2180 - val_loss: 1.7247 - val_root_mean_squared_error: 1.3133\n",
      "Epoch 82/100\n",
      "\u001b[1m80/80\u001b[0m \u001b[32m━━━━━━━━━━━━━━━━━━━━\u001b[0m\u001b[37m\u001b[0m \u001b[1m0s\u001b[0m 5ms/step - loss: 4.2790 - root_mean_squared_error: 2.0640 - val_loss: 1.8232 - val_root_mean_squared_error: 1.3503\n",
      "Epoch 83/100\n",
      "\u001b[1m80/80\u001b[0m \u001b[32m━━━━━━━━━━━━━━━━━━━━\u001b[0m\u001b[37m\u001b[0m \u001b[1m0s\u001b[0m 5ms/step - loss: 4.6304 - root_mean_squared_error: 2.1431 - val_loss: 1.8481 - val_root_mean_squared_error: 1.3595\n",
      "Epoch 84/100\n",
      "\u001b[1m80/80\u001b[0m \u001b[32m━━━━━━━━━━━━━━━━━━━━\u001b[0m\u001b[37m\u001b[0m \u001b[1m0s\u001b[0m 5ms/step - loss: 4.7890 - root_mean_squared_error: 2.1844 - val_loss: 1.7319 - val_root_mean_squared_error: 1.3160\n",
      "Epoch 85/100\n",
      "\u001b[1m80/80\u001b[0m \u001b[32m━━━━━━━━━━━━━━━━━━━━\u001b[0m\u001b[37m\u001b[0m \u001b[1m0s\u001b[0m 5ms/step - loss: 4.8759 - root_mean_squared_error: 2.2031 - val_loss: 1.8493 - val_root_mean_squared_error: 1.3599\n",
      "Epoch 86/100\n",
      "\u001b[1m80/80\u001b[0m \u001b[32m━━━━━━━━━━━━━━━━━━━━\u001b[0m\u001b[37m\u001b[0m \u001b[1m0s\u001b[0m 5ms/step - loss: 5.1575 - root_mean_squared_error: 2.2621 - val_loss: 1.8573 - val_root_mean_squared_error: 1.3628\n",
      "Epoch 87/100\n",
      "\u001b[1m80/80\u001b[0m \u001b[32m━━━━━━━━━━━━━━━━━━━━\u001b[0m\u001b[37m\u001b[0m \u001b[1m0s\u001b[0m 5ms/step - loss: 5.7314 - root_mean_squared_error: 2.3785 - val_loss: 1.8508 - val_root_mean_squared_error: 1.3604\n",
      "Epoch 88/100\n",
      "\u001b[1m80/80\u001b[0m \u001b[32m━━━━━━━━━━━━━━━━━━━━\u001b[0m\u001b[37m\u001b[0m \u001b[1m0s\u001b[0m 5ms/step - loss: 5.1444 - root_mean_squared_error: 2.2614 - val_loss: 2.0467 - val_root_mean_squared_error: 1.4306\n",
      "Epoch 89/100\n",
      "\u001b[1m80/80\u001b[0m \u001b[32m━━━━━━━━━━━━━━━━━━━━\u001b[0m\u001b[37m\u001b[0m \u001b[1m0s\u001b[0m 5ms/step - loss: 4.0975 - root_mean_squared_error: 2.0203 - val_loss: 1.9597 - val_root_mean_squared_error: 1.3999\n",
      "Epoch 90/100\n",
      "\u001b[1m80/80\u001b[0m \u001b[32m━━━━━━━━━━━━━━━━━━━━\u001b[0m\u001b[37m\u001b[0m \u001b[1m0s\u001b[0m 5ms/step - loss: 4.0022 - root_mean_squared_error: 1.9957 - val_loss: 1.8647 - val_root_mean_squared_error: 1.3656\n",
      "Epoch 91/100\n",
      "\u001b[1m80/80\u001b[0m \u001b[32m━━━━━━━━━━━━━━━━━━━━\u001b[0m\u001b[37m\u001b[0m \u001b[1m0s\u001b[0m 5ms/step - loss: 5.2946 - root_mean_squared_error: 2.2903 - val_loss: 2.2457 - val_root_mean_squared_error: 1.4986\n",
      "Epoch 92/100\n",
      "\u001b[1m80/80\u001b[0m \u001b[32m━━━━━━━━━━━━━━━━━━━━\u001b[0m\u001b[37m\u001b[0m \u001b[1m0s\u001b[0m 5ms/step - loss: 4.8446 - root_mean_squared_error: 2.1972 - val_loss: 1.7952 - val_root_mean_squared_error: 1.3399\n",
      "Epoch 93/100\n",
      "\u001b[1m80/80\u001b[0m \u001b[32m━━━━━━━━━━━━━━━━━━━━\u001b[0m\u001b[37m\u001b[0m \u001b[1m0s\u001b[0m 5ms/step - loss: 4.3735 - root_mean_squared_error: 2.0853 - val_loss: 1.7263 - val_root_mean_squared_error: 1.3139\n",
      "Epoch 94/100\n",
      "\u001b[1m80/80\u001b[0m \u001b[32m━━━━━━━━━━━━━━━━━━━━\u001b[0m\u001b[37m\u001b[0m \u001b[1m0s\u001b[0m 5ms/step - loss: 4.6655 - root_mean_squared_error: 2.1573 - val_loss: 1.7721 - val_root_mean_squared_error: 1.3312\n",
      "Epoch 95/100\n",
      "\u001b[1m80/80\u001b[0m \u001b[32m━━━━━━━━━━━━━━━━━━━━\u001b[0m\u001b[37m\u001b[0m \u001b[1m0s\u001b[0m 5ms/step - loss: 3.9568 - root_mean_squared_error: 1.9877 - val_loss: 1.7491 - val_root_mean_squared_error: 1.3225\n",
      "Epoch 96/100\n",
      "\u001b[1m80/80\u001b[0m \u001b[32m━━━━━━━━━━━━━━━━━━━━\u001b[0m\u001b[37m\u001b[0m \u001b[1m0s\u001b[0m 5ms/step - loss: 4.2602 - root_mean_squared_error: 2.0506 - val_loss: 1.8044 - val_root_mean_squared_error: 1.3433\n",
      "Epoch 97/100\n",
      "\u001b[1m80/80\u001b[0m \u001b[32m━━━━━━━━━━━━━━━━━━━━\u001b[0m\u001b[37m\u001b[0m \u001b[1m0s\u001b[0m 5ms/step - loss: 4.0827 - root_mean_squared_error: 2.0116 - val_loss: 1.8403 - val_root_mean_squared_error: 1.3566\n",
      "Epoch 98/100\n",
      "\u001b[1m80/80\u001b[0m \u001b[32m━━━━━━━━━━━━━━━━━━━━\u001b[0m\u001b[37m\u001b[0m \u001b[1m0s\u001b[0m 5ms/step - loss: 4.5471 - root_mean_squared_error: 2.1240 - val_loss: 1.8190 - val_root_mean_squared_error: 1.3487\n",
      "Epoch 99/100\n",
      "\u001b[1m80/80\u001b[0m \u001b[32m━━━━━━━━━━━━━━━━━━━━\u001b[0m\u001b[37m\u001b[0m \u001b[1m0s\u001b[0m 5ms/step - loss: 4.3123 - root_mean_squared_error: 2.0748 - val_loss: 1.8618 - val_root_mean_squared_error: 1.3645\n",
      "Epoch 100/100\n",
      "\u001b[1m80/80\u001b[0m \u001b[32m━━━━━━━━━━━━━━━━━━━━\u001b[0m\u001b[37m\u001b[0m \u001b[1m0s\u001b[0m 4ms/step - loss: 3.7936 - root_mean_squared_error: 1.9455 - val_loss: 1.7562 - val_root_mean_squared_error: 1.3252\n"
     ]
    },
    {
     "data": {
      "text/plain": [
       "<keras.src.callbacks.history.History at 0x7fa68c700dc0>"
      ]
     },
     "execution_count": 35,
     "metadata": {},
     "output_type": "execute_result"
    }
   ],
   "source": [
    "model1.fit(X_train1, y_train1, validation_data=(X_val1, y_val1), epochs=100, \n",
    "           callbacks=[cp1])"
   ]
  },
  {
   "cell_type": "code",
   "execution_count": 36,
   "id": "65ebac30",
   "metadata": {
    "execution": {
     "iopub.execute_input": "2025-01-14T20:25:46.835906Z",
     "iopub.status.busy": "2025-01-14T20:25:46.835500Z",
     "iopub.status.idle": "2025-01-14T20:25:46.938971Z",
     "shell.execute_reply": "2025-01-14T20:25:46.937794Z"
    },
    "papermill": {
     "duration": 0.174289,
     "end_time": "2025-01-14T20:25:46.941056",
     "exception": false,
     "start_time": "2025-01-14T20:25:46.766767",
     "status": "completed"
    },
    "tags": []
   },
   "outputs": [],
   "source": [
    "from tensorflow.keras.models import load_model\n",
    "model1 = load_model('/kaggle/working/model1.keras')"
   ]
  },
  {
   "cell_type": "code",
   "execution_count": 37,
   "id": "266749d6",
   "metadata": {
    "execution": {
     "iopub.execute_input": "2025-01-14T20:25:47.079111Z",
     "iopub.status.busy": "2025-01-14T20:25:47.078762Z",
     "iopub.status.idle": "2025-01-14T20:25:47.626216Z",
     "shell.execute_reply": "2025-01-14T20:25:47.624973Z"
    },
    "papermill": {
     "duration": 0.618022,
     "end_time": "2025-01-14T20:25:47.628156",
     "exception": false,
     "start_time": "2025-01-14T20:25:47.010134",
     "status": "completed"
    },
    "tags": []
   },
   "outputs": [
    {
     "name": "stdout",
     "output_type": "stream",
     "text": [
      "\u001b[1m80/80\u001b[0m \u001b[32m━━━━━━━━━━━━━━━━━━━━\u001b[0m\u001b[37m\u001b[0m \u001b[1m0s\u001b[0m 4ms/step\n",
      "Evaluation Metrics:\n",
      "Mean Absolute Error (MAE): 1.3004\n",
      "Mean Squared Error (MSE): 5.9858\n",
      "Root Mean Squared Error (RMSE): 2.4466\n",
      "R-squared (Accuracy): 0.9751\n"
     ]
    }
   ],
   "source": [
    "# Evaluate the model on the train data\n",
    "train_result = model1.predict(X_train1)\n",
    "\n",
    "# Calculate metrics\n",
    "mse = mean_squared_error(y_train1, train_result)\n",
    "rmse = np.sqrt(mse)\n",
    "mae = mean_absolute_error(y_train1, train_result)\n",
    "r2 = r2_score(y_train1, train_result)\n",
    "\n",
    "# Print the results\n",
    "print(\"Evaluation Metrics:\")\n",
    "print(f\"Mean Absolute Error (MAE): {mae:.4f}\")\n",
    "print(f\"Mean Squared Error (MSE): {mse:.4f}\")\n",
    "print(f\"Root Mean Squared Error (RMSE): {rmse:.4f}\")\n",
    "print(f\"R-squared (Accuracy): {r2:.4f}\")"
   ]
  },
  {
   "cell_type": "code",
   "execution_count": 38,
   "id": "b97f9498",
   "metadata": {
    "execution": {
     "iopub.execute_input": "2025-01-14T20:25:47.767291Z",
     "iopub.status.busy": "2025-01-14T20:25:47.766906Z",
     "iopub.status.idle": "2025-01-14T20:25:47.898914Z",
     "shell.execute_reply": "2025-01-14T20:25:47.897755Z"
    },
    "papermill": {
     "duration": 0.202169,
     "end_time": "2025-01-14T20:25:47.900526",
     "exception": false,
     "start_time": "2025-01-14T20:25:47.698357",
     "status": "completed"
    },
    "tags": []
   },
   "outputs": [
    {
     "name": "stdout",
     "output_type": "stream",
     "text": [
      "\u001b[1m23/23\u001b[0m \u001b[32m━━━━━━━━━━━━━━━━━━━━\u001b[0m\u001b[37m\u001b[0m \u001b[1m0s\u001b[0m 2ms/step \n",
      "Evaluation Metrics:\n",
      "Mean Absolute Error (MAE): 0.8991\n",
      "Mean Squared Error (MSE): 1.6870\n",
      "Root Mean Squared Error (RMSE): 1.2988\n",
      "R-squared (Accuracy): 0.9474\n"
     ]
    }
   ],
   "source": [
    "# Evaluate the model on the validation data\n",
    "val_result = model1.predict(X_val1)\n",
    "\n",
    "# Calculate metrics\n",
    "mse = mean_squared_error(y_val1, val_result)\n",
    "rmse = np.sqrt(mse)\n",
    "mae = mean_absolute_error(y_val1, val_result)\n",
    "r2 = r2_score(y_val1, val_result)\n",
    "\n",
    "# Print the results\n",
    "print(\"Evaluation Metrics:\")\n",
    "print(f\"Mean Absolute Error (MAE): {mae:.4f}\")\n",
    "print(f\"Mean Squared Error (MSE): {mse:.4f}\")\n",
    "print(f\"Root Mean Squared Error (RMSE): {rmse:.4f}\")\n",
    "print(f\"R-squared (Accuracy): {r2:.4f}\")"
   ]
  },
  {
   "cell_type": "code",
   "execution_count": 39,
   "id": "85506d1b",
   "metadata": {
    "execution": {
     "iopub.execute_input": "2025-01-14T20:25:48.040159Z",
     "iopub.status.busy": "2025-01-14T20:25:48.039773Z",
     "iopub.status.idle": "2025-01-14T20:25:48.146025Z",
     "shell.execute_reply": "2025-01-14T20:25:48.144751Z"
    },
    "papermill": {
     "duration": 0.177748,
     "end_time": "2025-01-14T20:25:48.147849",
     "exception": false,
     "start_time": "2025-01-14T20:25:47.970101",
     "status": "completed"
    },
    "tags": []
   },
   "outputs": [
    {
     "name": "stdout",
     "output_type": "stream",
     "text": [
      "\u001b[1m12/12\u001b[0m \u001b[32m━━━━━━━━━━━━━━━━━━━━\u001b[0m\u001b[37m\u001b[0m \u001b[1m0s\u001b[0m 2ms/step \n",
      "Evaluation Metrics:\n",
      "Mean Absolute Error (MAE): 1.1573\n",
      "Mean Squared Error (MSE): 2.4168\n",
      "Root Mean Squared Error (RMSE): 1.5546\n",
      "R-squared (Accuracy): 0.9177\n"
     ]
    }
   ],
   "source": [
    "# Evaluate the model on the test data\n",
    "test_result = model1.predict(X_test1)\n",
    "\n",
    "# Calculate metrics\n",
    "mse = mean_squared_error(y_test1, test_result)\n",
    "rmse = np.sqrt(mse)\n",
    "mae = mean_absolute_error(y_test1, test_result)\n",
    "r2 = r2_score(y_test1, test_result)\n",
    "\n",
    "# Print the results\n",
    "print(\"Evaluation Metrics:\")\n",
    "print(f\"Mean Absolute Error (MAE): {mae:.4f}\")\n",
    "print(f\"Mean Squared Error (MSE): {mse:.4f}\")\n",
    "print(f\"Root Mean Squared Error (RMSE): {rmse:.4f}\")\n",
    "print(f\"R-squared (Accuracy): {r2:.4f}\")"
   ]
  },
  {
   "cell_type": "code",
   "execution_count": 40,
   "id": "a8ede97e",
   "metadata": {
    "execution": {
     "iopub.execute_input": "2025-01-14T20:25:48.284028Z",
     "iopub.status.busy": "2025-01-14T20:25:48.283621Z",
     "iopub.status.idle": "2025-01-14T20:25:48.532816Z",
     "shell.execute_reply": "2025-01-14T20:25:48.531747Z"
    },
    "papermill": {
     "duration": 0.319287,
     "end_time": "2025-01-14T20:25:48.534728",
     "exception": false,
     "start_time": "2025-01-14T20:25:48.215441",
     "status": "completed"
    },
    "tags": []
   },
   "outputs": [
    {
     "name": "stdout",
     "output_type": "stream",
     "text": [
      "\u001b[1m80/80\u001b[0m \u001b[32m━━━━━━━━━━━━━━━━━━━━\u001b[0m\u001b[37m\u001b[0m \u001b[1m0s\u001b[0m 2ms/step\n"
     ]
    },
    {
     "data": {
      "text/html": [
       "<div>\n",
       "<style scoped>\n",
       "    .dataframe tbody tr th:only-of-type {\n",
       "        vertical-align: middle;\n",
       "    }\n",
       "\n",
       "    .dataframe tbody tr th {\n",
       "        vertical-align: top;\n",
       "    }\n",
       "\n",
       "    .dataframe thead th {\n",
       "        text-align: right;\n",
       "    }\n",
       "</style>\n",
       "<table border=\"1\" class=\"dataframe\">\n",
       "  <thead>\n",
       "    <tr style=\"text-align: right;\">\n",
       "      <th></th>\n",
       "      <th>Train Predictions</th>\n",
       "      <th>Actuals</th>\n",
       "    </tr>\n",
       "  </thead>\n",
       "  <tbody>\n",
       "    <tr>\n",
       "      <th>0</th>\n",
       "      <td>34.638767</td>\n",
       "      <td>33.000000</td>\n",
       "    </tr>\n",
       "    <tr>\n",
       "      <th>1</th>\n",
       "      <td>31.282694</td>\n",
       "      <td>29.500000</td>\n",
       "    </tr>\n",
       "    <tr>\n",
       "      <th>2</th>\n",
       "      <td>27.604012</td>\n",
       "      <td>26.166667</td>\n",
       "    </tr>\n",
       "    <tr>\n",
       "      <th>3</th>\n",
       "      <td>24.711355</td>\n",
       "      <td>24.833333</td>\n",
       "    </tr>\n",
       "    <tr>\n",
       "      <th>4</th>\n",
       "      <td>24.386623</td>\n",
       "      <td>25.000000</td>\n",
       "    </tr>\n",
       "    <tr>\n",
       "      <th>...</th>\n",
       "      <td>...</td>\n",
       "      <td>...</td>\n",
       "    </tr>\n",
       "    <tr>\n",
       "      <th>2554</th>\n",
       "      <td>14.417193</td>\n",
       "      <td>14.333333</td>\n",
       "    </tr>\n",
       "    <tr>\n",
       "      <th>2555</th>\n",
       "      <td>14.981708</td>\n",
       "      <td>15.166667</td>\n",
       "    </tr>\n",
       "    <tr>\n",
       "      <th>2556</th>\n",
       "      <td>15.865878</td>\n",
       "      <td>16.000000</td>\n",
       "    </tr>\n",
       "    <tr>\n",
       "      <th>2557</th>\n",
       "      <td>16.600033</td>\n",
       "      <td>16.500000</td>\n",
       "    </tr>\n",
       "    <tr>\n",
       "      <th>2558</th>\n",
       "      <td>16.866800</td>\n",
       "      <td>17.000000</td>\n",
       "    </tr>\n",
       "  </tbody>\n",
       "</table>\n",
       "<p>2559 rows × 2 columns</p>\n",
       "</div>"
      ],
      "text/plain": [
       "      Train Predictions    Actuals\n",
       "0             34.638767  33.000000\n",
       "1             31.282694  29.500000\n",
       "2             27.604012  26.166667\n",
       "3             24.711355  24.833333\n",
       "4             24.386623  25.000000\n",
       "...                 ...        ...\n",
       "2554          14.417193  14.333333\n",
       "2555          14.981708  15.166667\n",
       "2556          15.865878  16.000000\n",
       "2557          16.600033  16.500000\n",
       "2558          16.866800  17.000000\n",
       "\n",
       "[2559 rows x 2 columns]"
      ]
     },
     "execution_count": 40,
     "metadata": {},
     "output_type": "execute_result"
    }
   ],
   "source": [
    "train_predictions = model1.predict(X_train1).flatten()\n",
    "train_results = pd.DataFrame(data={'Train Predictions':train_predictions, 'Actuals':y_train1})\n",
    "train_results"
   ]
  },
  {
   "cell_type": "code",
   "execution_count": 41,
   "id": "b5f1e3d3",
   "metadata": {
    "execution": {
     "iopub.execute_input": "2025-01-14T20:25:48.674225Z",
     "iopub.status.busy": "2025-01-14T20:25:48.673875Z",
     "iopub.status.idle": "2025-01-14T20:25:48.928625Z",
     "shell.execute_reply": "2025-01-14T20:25:48.927381Z"
    },
    "papermill": {
     "duration": 0.32701,
     "end_time": "2025-01-14T20:25:48.930590",
     "exception": false,
     "start_time": "2025-01-14T20:25:48.603580",
     "status": "completed"
    },
    "tags": []
   },
   "outputs": [
    {
     "data": {
      "image/png": "[encoded data removed]",
      "text/plain": [
       "<Figure size 640x480 with 1 Axes>"
      ]
     },
     "metadata": {},
     "output_type": "display_data"
    }
   ],
   "source": [
    "plt.plot(train_results['Actuals'][1:50], label='Actual')\n",
    "plt.plot(train_results['Train Predictions'][1:50], label='Predicted')\n",
    "plt.legend()\n",
    "plt.show()"
   ]
  },
  {
   "cell_type": "code",
   "execution_count": 42,
   "id": "b07bfb5f",
   "metadata": {
    "execution": {
     "iopub.execute_input": "2025-01-14T20:25:49.072417Z",
     "iopub.status.busy": "2025-01-14T20:25:49.072040Z",
     "iopub.status.idle": "2025-01-14T20:25:49.198176Z",
     "shell.execute_reply": "2025-01-14T20:25:49.197049Z"
    },
    "papermill": {
     "duration": 0.199144,
     "end_time": "2025-01-14T20:25:49.200123",
     "exception": false,
     "start_time": "2025-01-14T20:25:49.000979",
     "status": "completed"
    },
    "tags": []
   },
   "outputs": [
    {
     "name": "stdout",
     "output_type": "stream",
     "text": [
      "\u001b[1m23/23\u001b[0m \u001b[32m━━━━━━━━━━━━━━━━━━━━\u001b[0m\u001b[37m\u001b[0m \u001b[1m0s\u001b[0m 2ms/step \n"
     ]
    },
    {
     "data": {
      "text/html": [
       "<div>\n",
       "<style scoped>\n",
       "    .dataframe tbody tr th:only-of-type {\n",
       "        vertical-align: middle;\n",
       "    }\n",
       "\n",
       "    .dataframe tbody tr th {\n",
       "        vertical-align: top;\n",
       "    }\n",
       "\n",
       "    .dataframe thead th {\n",
       "        text-align: right;\n",
       "    }\n",
       "</style>\n",
       "<table border=\"1\" class=\"dataframe\">\n",
       "  <thead>\n",
       "    <tr style=\"text-align: right;\">\n",
       "      <th></th>\n",
       "      <th>Train Predictions</th>\n",
       "      <th>Actuals</th>\n",
       "    </tr>\n",
       "  </thead>\n",
       "  <tbody>\n",
       "    <tr>\n",
       "      <th>0</th>\n",
       "      <td>17.099260</td>\n",
       "      <td>17.000000</td>\n",
       "    </tr>\n",
       "    <tr>\n",
       "      <th>1</th>\n",
       "      <td>17.099260</td>\n",
       "      <td>17.000000</td>\n",
       "    </tr>\n",
       "    <tr>\n",
       "      <th>2</th>\n",
       "      <td>17.099260</td>\n",
       "      <td>17.000000</td>\n",
       "    </tr>\n",
       "    <tr>\n",
       "      <th>3</th>\n",
       "      <td>17.099260</td>\n",
       "      <td>17.000000</td>\n",
       "    </tr>\n",
       "    <tr>\n",
       "      <th>4</th>\n",
       "      <td>17.099260</td>\n",
       "      <td>17.000000</td>\n",
       "    </tr>\n",
       "    <tr>\n",
       "      <th>...</th>\n",
       "      <td>...</td>\n",
       "      <td>...</td>\n",
       "    </tr>\n",
       "    <tr>\n",
       "      <th>722</th>\n",
       "      <td>19.968771</td>\n",
       "      <td>20.166667</td>\n",
       "    </tr>\n",
       "    <tr>\n",
       "      <th>723</th>\n",
       "      <td>19.872652</td>\n",
       "      <td>20.500000</td>\n",
       "    </tr>\n",
       "    <tr>\n",
       "      <th>724</th>\n",
       "      <td>20.754435</td>\n",
       "      <td>20.666667</td>\n",
       "    </tr>\n",
       "    <tr>\n",
       "      <th>725</th>\n",
       "      <td>20.645931</td>\n",
       "      <td>20.500000</td>\n",
       "    </tr>\n",
       "    <tr>\n",
       "      <th>726</th>\n",
       "      <td>20.322996</td>\n",
       "      <td>18.666667</td>\n",
       "    </tr>\n",
       "  </tbody>\n",
       "</table>\n",
       "<p>727 rows × 2 columns</p>\n",
       "</div>"
      ],
      "text/plain": [
       "     Train Predictions    Actuals\n",
       "0            17.099260  17.000000\n",
       "1            17.099260  17.000000\n",
       "2            17.099260  17.000000\n",
       "3            17.099260  17.000000\n",
       "4            17.099260  17.000000\n",
       "..                 ...        ...\n",
       "722          19.968771  20.166667\n",
       "723          19.872652  20.500000\n",
       "724          20.754435  20.666667\n",
       "725          20.645931  20.500000\n",
       "726          20.322996  18.666667\n",
       "\n",
       "[727 rows x 2 columns]"
      ]
     },
     "execution_count": 42,
     "metadata": {},
     "output_type": "execute_result"
    }
   ],
   "source": [
    "val_predictions = model1.predict(X_val1).flatten()\n",
    "val_results = pd.DataFrame(data={'Train Predictions':val_predictions, 'Actuals':y_val1})\n",
    "val_results"
   ]
  },
  {
   "cell_type": "code",
   "execution_count": 43,
   "id": "029e58dc",
   "metadata": {
    "execution": {
     "iopub.execute_input": "2025-01-14T20:25:49.344451Z",
     "iopub.status.busy": "2025-01-14T20:25:49.344066Z",
     "iopub.status.idle": "2025-01-14T20:25:49.508385Z",
     "shell.execute_reply": "2025-01-14T20:25:49.507291Z"
    },
    "papermill": {
     "duration": 0.239851,
     "end_time": "2025-01-14T20:25:49.510105",
     "exception": false,
     "start_time": "2025-01-14T20:25:49.270254",
     "status": "completed"
    },
    "tags": []
   },
   "outputs": [
    {
     "data": {
      "image/png": "[encoded data removed]",
      "text/plain": [
       "<Figure size 640x480 with 1 Axes>"
      ]
     },
     "metadata": {},
     "output_type": "display_data"
    }
   ],
   "source": [
    "plt.plot(val_results['Actuals'][700:], label='Actual')\n",
    "plt.plot(val_results['Train Predictions'][700:], label='Predicted')\n",
    "plt.legend()\n",
    "plt.show()"
   ]
  },
  {
   "cell_type": "code",
   "execution_count": 44,
   "id": "dc4f1171",
   "metadata": {
    "execution": {
     "iopub.execute_input": "2025-01-14T20:25:49.652851Z",
     "iopub.status.busy": "2025-01-14T20:25:49.652452Z",
     "iopub.status.idle": "2025-01-14T20:25:49.757214Z",
     "shell.execute_reply": "2025-01-14T20:25:49.756006Z"
    },
    "papermill": {
     "duration": 0.178222,
     "end_time": "2025-01-14T20:25:49.759068",
     "exception": false,
     "start_time": "2025-01-14T20:25:49.580846",
     "status": "completed"
    },
    "tags": []
   },
   "outputs": [
    {
     "name": "stdout",
     "output_type": "stream",
     "text": [
      "\u001b[1m12/12\u001b[0m \u001b[32m━━━━━━━━━━━━━━━━━━━━\u001b[0m\u001b[37m\u001b[0m \u001b[1m0s\u001b[0m 2ms/step \n"
     ]
    },
    {
     "data": {
      "text/html": [
       "<div>\n",
       "<style scoped>\n",
       "    .dataframe tbody tr th:only-of-type {\n",
       "        vertical-align: middle;\n",
       "    }\n",
       "\n",
       "    .dataframe tbody tr th {\n",
       "        vertical-align: top;\n",
       "    }\n",
       "\n",
       "    .dataframe thead th {\n",
       "        text-align: right;\n",
       "    }\n",
       "</style>\n",
       "<table border=\"1\" class=\"dataframe\">\n",
       "  <thead>\n",
       "    <tr style=\"text-align: right;\">\n",
       "      <th></th>\n",
       "      <th>Train Predictions</th>\n",
       "      <th>Actuals</th>\n",
       "    </tr>\n",
       "  </thead>\n",
       "  <tbody>\n",
       "    <tr>\n",
       "      <th>0</th>\n",
       "      <td>23.800764</td>\n",
       "      <td>23.166667</td>\n",
       "    </tr>\n",
       "    <tr>\n",
       "      <th>1</th>\n",
       "      <td>22.968973</td>\n",
       "      <td>22.000000</td>\n",
       "    </tr>\n",
       "    <tr>\n",
       "      <th>2</th>\n",
       "      <td>21.195473</td>\n",
       "      <td>21.333333</td>\n",
       "    </tr>\n",
       "    <tr>\n",
       "      <th>3</th>\n",
       "      <td>20.939383</td>\n",
       "      <td>23.333333</td>\n",
       "    </tr>\n",
       "    <tr>\n",
       "      <th>4</th>\n",
       "      <td>24.539938</td>\n",
       "      <td>22.333333</td>\n",
       "    </tr>\n",
       "    <tr>\n",
       "      <th>...</th>\n",
       "      <td>...</td>\n",
       "      <td>...</td>\n",
       "    </tr>\n",
       "    <tr>\n",
       "      <th>356</th>\n",
       "      <td>20.777420</td>\n",
       "      <td>20.500000</td>\n",
       "    </tr>\n",
       "    <tr>\n",
       "      <th>357</th>\n",
       "      <td>20.217516</td>\n",
       "      <td>18.000000</td>\n",
       "    </tr>\n",
       "    <tr>\n",
       "      <th>358</th>\n",
       "      <td>16.945896</td>\n",
       "      <td>16.666667</td>\n",
       "    </tr>\n",
       "    <tr>\n",
       "      <th>359</th>\n",
       "      <td>16.448526</td>\n",
       "      <td>16.666667</td>\n",
       "    </tr>\n",
       "    <tr>\n",
       "      <th>360</th>\n",
       "      <td>17.015190</td>\n",
       "      <td>16.666667</td>\n",
       "    </tr>\n",
       "  </tbody>\n",
       "</table>\n",
       "<p>361 rows × 2 columns</p>\n",
       "</div>"
      ],
      "text/plain": [
       "     Train Predictions    Actuals\n",
       "0            23.800764  23.166667\n",
       "1            22.968973  22.000000\n",
       "2            21.195473  21.333333\n",
       "3            20.939383  23.333333\n",
       "4            24.539938  22.333333\n",
       "..                 ...        ...\n",
       "356          20.777420  20.500000\n",
       "357          20.217516  18.000000\n",
       "358          16.945896  16.666667\n",
       "359          16.448526  16.666667\n",
       "360          17.015190  16.666667\n",
       "\n",
       "[361 rows x 2 columns]"
      ]
     },
     "execution_count": 44,
     "metadata": {},
     "output_type": "execute_result"
    }
   ],
   "source": [
    "test_predictions = model1.predict(X_test1).flatten()\n",
    "test_results = pd.DataFrame(data={'Train Predictions':test_predictions, 'Actuals':y_test1})\n",
    "test_results"
   ]
  },
  {
   "cell_type": "code",
   "execution_count": 45,
   "id": "51b3cedf",
   "metadata": {
    "execution": {
     "iopub.execute_input": "2025-01-14T20:25:49.903902Z",
     "iopub.status.busy": "2025-01-14T20:25:49.903491Z",
     "iopub.status.idle": "2025-01-14T20:25:50.150749Z",
     "shell.execute_reply": "2025-01-14T20:25:50.149719Z"
    },
    "papermill": {
     "duration": 0.321119,
     "end_time": "2025-01-14T20:25:50.152357",
     "exception": false,
     "start_time": "2025-01-14T20:25:49.831238",
     "status": "completed"
    },
    "tags": []
   },
   "outputs": [
    {
     "data": {
      "image/png": "[encoded data removed]",
      "text/plain": [
       "<Figure size 640x480 with 1 Axes>"
      ]
     },
     "metadata": {},
     "output_type": "display_data"
    }
   ],
   "source": [
    "plt.plot(test_results['Train Predictions'][1:50], label='Predicted')\n",
    "plt.plot(test_results['Actuals'][1:50], label='Actual')\n",
    "plt.legend()\n",
    "plt.show()"
   ]
  },
  {
   "cell_type": "markdown",
   "id": "a12ac7ce",
   "metadata": {
    "papermill": {
     "duration": 0.071545,
     "end_time": "2025-01-14T20:25:50.298367",
     "exception": false,
     "start_time": "2025-01-14T20:25:50.226822",
     "status": "completed"
    },
    "tags": []
   },
   "source": [
    "# GRU(Smooth)"
   ]
  },
  {
   "cell_type": "code",
   "execution_count": 46,
   "id": "15a8a501",
   "metadata": {
    "execution": {
     "iopub.execute_input": "2025-01-14T20:25:50.451458Z",
     "iopub.status.busy": "2025-01-14T20:25:50.451092Z",
     "iopub.status.idle": "2025-01-14T20:25:50.508422Z",
     "shell.execute_reply": "2025-01-14T20:25:50.507308Z"
    },
    "papermill": {
     "duration": 0.134496,
     "end_time": "2025-01-14T20:25:50.510248",
     "exception": false,
     "start_time": "2025-01-14T20:25:50.375752",
     "status": "completed"
    },
    "tags": []
   },
   "outputs": [
    {
     "data": {
      "text/html": [
       "<pre style=\"white-space:pre;overflow-x:auto;line-height:normal;font-family:Menlo,'DejaVu Sans Mono',consolas,'Courier New',monospace\"><span style=\"font-weight: bold\">Model: \"sequential_1\"</span>\n",
       "</pre>\n"
      ],
      "text/plain": [
       "\u001b[1mModel: \"sequential_1\"\u001b[0m\n"
      ]
     },
     "metadata": {},
     "output_type": "display_data"
    },
    {
     "data": {
      "text/html": [
       "<pre style=\"white-space:pre;overflow-x:auto;line-height:normal;font-family:Menlo,'DejaVu Sans Mono',consolas,'Courier New',monospace\">┏━━━━━━━━━━━━━━━━━━━━━━━━━━━━━━━━━━━━━━┳━━━━━━━━━━━━━━━━━━━━━━━━━━━━━┳━━━━━━━━━━━━━━━━━┓\n",
       "┃<span style=\"font-weight: bold\"> Layer (type)                         </span>┃<span style=\"font-weight: bold\"> Output Shape                </span>┃<span style=\"font-weight: bold\">         Param # </span>┃\n",
       "┡━━━━━━━━━━━━━━━━━━━━━━━━━━━━━━━━━━━━━━╇━━━━━━━━━━━━━━━━━━━━━━━━━━━━━╇━━━━━━━━━━━━━━━━━┩\n",
       "│ gru (<span style=\"color: #0087ff; text-decoration-color: #0087ff\">GRU</span>)                            │ (<span style=\"color: #00d7ff; text-decoration-color: #00d7ff\">None</span>, <span style=\"color: #00af00; text-decoration-color: #00af00\">32</span>)                  │           <span style=\"color: #00af00; text-decoration-color: #00af00\">3,360</span> │\n",
       "├──────────────────────────────────────┼─────────────────────────────┼─────────────────┤\n",
       "│ dense_2 (<span style=\"color: #0087ff; text-decoration-color: #0087ff\">Dense</span>)                      │ (<span style=\"color: #00d7ff; text-decoration-color: #00d7ff\">None</span>, <span style=\"color: #00af00; text-decoration-color: #00af00\">8</span>)                   │             <span style=\"color: #00af00; text-decoration-color: #00af00\">264</span> │\n",
       "├──────────────────────────────────────┼─────────────────────────────┼─────────────────┤\n",
       "│ dense_3 (<span style=\"color: #0087ff; text-decoration-color: #0087ff\">Dense</span>)                      │ (<span style=\"color: #00d7ff; text-decoration-color: #00d7ff\">None</span>, <span style=\"color: #00af00; text-decoration-color: #00af00\">1</span>)                   │               <span style=\"color: #00af00; text-decoration-color: #00af00\">9</span> │\n",
       "└──────────────────────────────────────┴─────────────────────────────┴─────────────────┘\n",
       "</pre>\n"
      ],
      "text/plain": [
       "┏━━━━━━━━━━━━━━━━━━━━━━━━━━━━━━━━━━━━━━┳━━━━━━━━━━━━━━━━━━━━━━━━━━━━━┳━━━━━━━━━━━━━━━━━┓\n",
       "┃\u001b[1m \u001b[0m\u001b[1mLayer (type)                        \u001b[0m\u001b[1m \u001b[0m┃\u001b[1m \u001b[0m\u001b[1mOutput Shape               \u001b[0m\u001b[1m \u001b[0m┃\u001b[1m \u001b[0m\u001b[1m        Param #\u001b[0m\u001b[1m \u001b[0m┃\n",
       "┡━━━━━━━━━━━━━━━━━━━━━━━━━━━━━━━━━━━━━━╇━━━━━━━━━━━━━━━━━━━━━━━━━━━━━╇━━━━━━━━━━━━━━━━━┩\n",
       "│ gru (\u001b[38;5;33mGRU\u001b[0m)                            │ (\u001b[38;5;45mNone\u001b[0m, \u001b[38;5;34m32\u001b[0m)                  │           \u001b[38;5;34m3,360\u001b[0m │\n",
       "├──────────────────────────────────────┼─────────────────────────────┼─────────────────┤\n",
       "│ dense_2 (\u001b[38;5;33mDense\u001b[0m)                      │ (\u001b[38;5;45mNone\u001b[0m, \u001b[38;5;34m8\u001b[0m)                   │             \u001b[38;5;34m264\u001b[0m │\n",
       "├──────────────────────────────────────┼─────────────────────────────┼─────────────────┤\n",
       "│ dense_3 (\u001b[38;5;33mDense\u001b[0m)                      │ (\u001b[38;5;45mNone\u001b[0m, \u001b[38;5;34m1\u001b[0m)                   │               \u001b[38;5;34m9\u001b[0m │\n",
       "└──────────────────────────────────────┴─────────────────────────────┴─────────────────┘\n"
      ]
     },
     "metadata": {},
     "output_type": "display_data"
    },
    {
     "data": {
      "text/html": [
       "<pre style=\"white-space:pre;overflow-x:auto;line-height:normal;font-family:Menlo,'DejaVu Sans Mono',consolas,'Courier New',monospace\"><span style=\"font-weight: bold\"> Total params: </span><span style=\"color: #00af00; text-decoration-color: #00af00\">3,633</span> (14.19 KB)\n",
       "</pre>\n"
      ],
      "text/plain": [
       "\u001b[1m Total params: \u001b[0m\u001b[38;5;34m3,633\u001b[0m (14.19 KB)\n"
      ]
     },
     "metadata": {},
     "output_type": "display_data"
    },
    {
     "data": {
      "text/html": [
       "<pre style=\"white-space:pre;overflow-x:auto;line-height:normal;font-family:Menlo,'DejaVu Sans Mono',consolas,'Courier New',monospace\"><span style=\"font-weight: bold\"> Trainable params: </span><span style=\"color: #00af00; text-decoration-color: #00af00\">3,633</span> (14.19 KB)\n",
       "</pre>\n"
      ],
      "text/plain": [
       "\u001b[1m Trainable params: \u001b[0m\u001b[38;5;34m3,633\u001b[0m (14.19 KB)\n"
      ]
     },
     "metadata": {},
     "output_type": "display_data"
    },
    {
     "data": {
      "text/html": [
       "<pre style=\"white-space:pre;overflow-x:auto;line-height:normal;font-family:Menlo,'DejaVu Sans Mono',consolas,'Courier New',monospace\"><span style=\"font-weight: bold\"> Non-trainable params: </span><span style=\"color: #00af00; text-decoration-color: #00af00\">0</span> (0.00 B)\n",
       "</pre>\n"
      ],
      "text/plain": [
       "\u001b[1m Non-trainable params: \u001b[0m\u001b[38;5;34m0\u001b[0m (0.00 B)\n"
      ]
     },
     "metadata": {},
     "output_type": "display_data"
    }
   ],
   "source": [
    "model2 = Sequential()\n",
    "model2.add(InputLayer((6, 1)))\n",
    "model2.add(GRU(32))\n",
    "model2.add(Dense(8, 'relu'))\n",
    "model2.add(Dense(1, 'linear'))\n",
    "model2.summary()"
   ]
  },
  {
   "cell_type": "code",
   "execution_count": 47,
   "id": "8c3872ae",
   "metadata": {
    "_kg_hide-output": true,
    "execution": {
     "iopub.execute_input": "2025-01-14T20:25:50.656371Z",
     "iopub.status.busy": "2025-01-14T20:25:50.656012Z",
     "iopub.status.idle": "2025-01-14T20:25:50.666019Z",
     "shell.execute_reply": "2025-01-14T20:25:50.665068Z"
    },
    "papermill": {
     "duration": 0.08549,
     "end_time": "2025-01-14T20:25:50.667778",
     "exception": false,
     "start_time": "2025-01-14T20:25:50.582288",
     "status": "completed"
    },
    "tags": []
   },
   "outputs": [],
   "source": [
    "cp2 = ModelCheckpoint('/kaggle/working/model2.keras', save_best_only=True)\n",
    "model2.compile(loss=MeanSquaredError(), optimizer=Adam(learning_rate=0.0005), \n",
    "               metrics=[RootMeanSquaredError()])"
   ]
  },
  {
   "cell_type": "code",
   "execution_count": 48,
   "id": "2bae7983",
   "metadata": {
    "execution": {
     "iopub.execute_input": "2025-01-14T20:25:50.812502Z",
     "iopub.status.busy": "2025-01-14T20:25:50.812154Z",
     "iopub.status.idle": "2025-01-14T20:26:36.411113Z",
     "shell.execute_reply": "2025-01-14T20:26:36.409981Z"
    },
    "papermill": {
     "duration": 45.67361,
     "end_time": "2025-01-14T20:26:36.412892",
     "exception": false,
     "start_time": "2025-01-14T20:25:50.739282",
     "status": "completed"
    },
    "tags": []
   },
   "outputs": [
    {
     "name": "stdout",
     "output_type": "stream",
     "text": [
      "Epoch 1/100\n",
      "\u001b[1m80/80\u001b[0m \u001b[32m━━━━━━━━━━━━━━━━━━━━\u001b[0m\u001b[37m\u001b[0m \u001b[1m3s\u001b[0m 9ms/step - loss: 1600.6884 - root_mean_squared_error: 40.0043 - val_loss: 490.8961 - val_root_mean_squared_error: 22.1562\n",
      "Epoch 2/100\n",
      "\u001b[1m80/80\u001b[0m \u001b[32m━━━━━━━━━━━━━━━━━━━━\u001b[0m\u001b[37m\u001b[0m \u001b[1m0s\u001b[0m 5ms/step - loss: 1583.2428 - root_mean_squared_error: 39.7847 - val_loss: 489.1871 - val_root_mean_squared_error: 22.1176\n",
      "Epoch 3/100\n",
      "\u001b[1m80/80\u001b[0m \u001b[32m━━━━━━━━━━━━━━━━━━━━\u001b[0m\u001b[37m\u001b[0m \u001b[1m0s\u001b[0m 5ms/step - loss: 1520.7577 - root_mean_squared_error: 38.9845 - val_loss: 487.4867 - val_root_mean_squared_error: 22.0791\n",
      "Epoch 4/100\n",
      "\u001b[1m80/80\u001b[0m \u001b[32m━━━━━━━━━━━━━━━━━━━━\u001b[0m\u001b[37m\u001b[0m \u001b[1m0s\u001b[0m 6ms/step - loss: 1546.2600 - root_mean_squared_error: 39.3209 - val_loss: 485.7881 - val_root_mean_squared_error: 22.0406\n",
      "Epoch 5/100\n",
      "\u001b[1m80/80\u001b[0m \u001b[32m━━━━━━━━━━━━━━━━━━━━\u001b[0m\u001b[37m\u001b[0m \u001b[1m1s\u001b[0m 6ms/step - loss: 1572.5663 - root_mean_squared_error: 39.6543 - val_loss: 484.0952 - val_root_mean_squared_error: 22.0022\n",
      "Epoch 6/100\n",
      "\u001b[1m80/80\u001b[0m \u001b[32m━━━━━━━━━━━━━━━━━━━━\u001b[0m\u001b[37m\u001b[0m \u001b[1m0s\u001b[0m 5ms/step - loss: 1557.4410 - root_mean_squared_error: 39.4581 - val_loss: 482.4053 - val_root_mean_squared_error: 21.9637\n",
      "Epoch 7/100\n",
      "\u001b[1m80/80\u001b[0m \u001b[32m━━━━━━━━━━━━━━━━━━━━\u001b[0m\u001b[37m\u001b[0m \u001b[1m0s\u001b[0m 6ms/step - loss: 1558.0314 - root_mean_squared_error: 39.4698 - val_loss: 480.7167 - val_root_mean_squared_error: 21.9253\n",
      "Epoch 8/100\n",
      "\u001b[1m80/80\u001b[0m \u001b[32m━━━━━━━━━━━━━━━━━━━━\u001b[0m\u001b[37m\u001b[0m \u001b[1m0s\u001b[0m 5ms/step - loss: 1538.1954 - root_mean_squared_error: 39.2177 - val_loss: 479.0344 - val_root_mean_squared_error: 21.8869\n",
      "Epoch 9/100\n",
      "\u001b[1m80/80\u001b[0m \u001b[32m━━━━━━━━━━━━━━━━━━━━\u001b[0m\u001b[37m\u001b[0m \u001b[1m0s\u001b[0m 5ms/step - loss: 1572.0658 - root_mean_squared_error: 39.6462 - val_loss: 477.3557 - val_root_mean_squared_error: 21.8485\n",
      "Epoch 10/100\n",
      "\u001b[1m80/80\u001b[0m \u001b[32m━━━━━━━━━━━━━━━━━━━━\u001b[0m\u001b[37m\u001b[0m \u001b[1m0s\u001b[0m 5ms/step - loss: 1602.9105 - root_mean_squared_error: 40.0271 - val_loss: 475.6810 - val_root_mean_squared_error: 21.8101\n",
      "Epoch 11/100\n",
      "\u001b[1m80/80\u001b[0m \u001b[32m━━━━━━━━━━━━━━━━━━━━\u001b[0m\u001b[37m\u001b[0m \u001b[1m0s\u001b[0m 5ms/step - loss: 1532.3759 - root_mean_squared_error: 39.1423 - val_loss: 474.0175 - val_root_mean_squared_error: 21.7719\n",
      "Epoch 12/100\n",
      "\u001b[1m80/80\u001b[0m \u001b[32m━━━━━━━━━━━━━━━━━━━━\u001b[0m\u001b[37m\u001b[0m \u001b[1m0s\u001b[0m 5ms/step - loss: 1528.7274 - root_mean_squared_error: 39.0897 - val_loss: 472.3476 - val_root_mean_squared_error: 21.7336\n",
      "Epoch 13/100\n",
      "\u001b[1m80/80\u001b[0m \u001b[32m━━━━━━━━━━━━━━━━━━━━\u001b[0m\u001b[37m\u001b[0m \u001b[1m0s\u001b[0m 5ms/step - loss: 1514.2047 - root_mean_squared_error: 38.9051 - val_loss: 470.6861 - val_root_mean_squared_error: 21.6953\n",
      "Epoch 14/100\n",
      "\u001b[1m80/80\u001b[0m \u001b[32m━━━━━━━━━━━━━━━━━━━━\u001b[0m\u001b[37m\u001b[0m \u001b[1m0s\u001b[0m 5ms/step - loss: 1552.0956 - root_mean_squared_error: 39.3919 - val_loss: 469.0301 - val_root_mean_squared_error: 21.6571\n",
      "Epoch 15/100\n",
      "\u001b[1m80/80\u001b[0m \u001b[32m━━━━━━━━━━━━━━━━━━━━\u001b[0m\u001b[37m\u001b[0m \u001b[1m0s\u001b[0m 5ms/step - loss: 1565.7615 - root_mean_squared_error: 39.5627 - val_loss: 467.3727 - val_root_mean_squared_error: 21.6188\n",
      "Epoch 16/100\n",
      "\u001b[1m80/80\u001b[0m \u001b[32m━━━━━━━━━━━━━━━━━━━━\u001b[0m\u001b[37m\u001b[0m \u001b[1m0s\u001b[0m 5ms/step - loss: 1594.4841 - root_mean_squared_error: 39.9230 - val_loss: 465.7170 - val_root_mean_squared_error: 21.5805\n",
      "Epoch 17/100\n",
      "\u001b[1m80/80\u001b[0m \u001b[32m━━━━━━━━━━━━━━━━━━━━\u001b[0m\u001b[37m\u001b[0m \u001b[1m0s\u001b[0m 5ms/step - loss: 1540.4973 - root_mean_squared_error: 39.2470 - val_loss: 464.0700 - val_root_mean_squared_error: 21.5423\n",
      "Epoch 18/100\n",
      "\u001b[1m80/80\u001b[0m \u001b[32m━━━━━━━━━━━━━━━━━━━━\u001b[0m\u001b[37m\u001b[0m \u001b[1m0s\u001b[0m 5ms/step - loss: 1477.8806 - root_mean_squared_error: 38.4261 - val_loss: 462.4262 - val_root_mean_squared_error: 21.5041\n",
      "Epoch 19/100\n",
      "\u001b[1m80/80\u001b[0m \u001b[32m━━━━━━━━━━━━━━━━━━━━\u001b[0m\u001b[37m\u001b[0m \u001b[1m0s\u001b[0m 5ms/step - loss: 1536.3715 - root_mean_squared_error: 39.1945 - val_loss: 460.7910 - val_root_mean_squared_error: 21.4660\n",
      "Epoch 20/100\n",
      "\u001b[1m80/80\u001b[0m \u001b[32m━━━━━━━━━━━━━━━━━━━━\u001b[0m\u001b[37m\u001b[0m \u001b[1m0s\u001b[0m 5ms/step - loss: 1562.5800 - root_mean_squared_error: 39.5257 - val_loss: 459.1531 - val_root_mean_squared_error: 21.4279\n",
      "Epoch 21/100\n",
      "\u001b[1m80/80\u001b[0m \u001b[32m━━━━━━━━━━━━━━━━━━━━\u001b[0m\u001b[37m\u001b[0m \u001b[1m0s\u001b[0m 5ms/step - loss: 1499.3965 - root_mean_squared_error: 38.7134 - val_loss: 457.5160 - val_root_mean_squared_error: 21.3896\n",
      "Epoch 22/100\n",
      "\u001b[1m80/80\u001b[0m \u001b[32m━━━━━━━━━━━━━━━━━━━━\u001b[0m\u001b[37m\u001b[0m \u001b[1m0s\u001b[0m 5ms/step - loss: 1529.0045 - root_mean_squared_error: 39.1018 - val_loss: 455.8885 - val_root_mean_squared_error: 21.3515\n",
      "Epoch 23/100\n",
      "\u001b[1m80/80\u001b[0m \u001b[32m━━━━━━━━━━━━━━━━━━━━\u001b[0m\u001b[37m\u001b[0m \u001b[1m0s\u001b[0m 5ms/step - loss: 1510.6871 - root_mean_squared_error: 38.8653 - val_loss: 454.2626 - val_root_mean_squared_error: 21.3134\n",
      "Epoch 24/100\n",
      "\u001b[1m80/80\u001b[0m \u001b[32m━━━━━━━━━━━━━━━━━━━━\u001b[0m\u001b[37m\u001b[0m \u001b[1m0s\u001b[0m 5ms/step - loss: 1521.6392 - root_mean_squared_error: 39.0078 - val_loss: 452.6400 - val_root_mean_squared_error: 21.2753\n",
      "Epoch 25/100\n",
      "\u001b[1m80/80\u001b[0m \u001b[32m━━━━━━━━━━━━━━━━━━━━\u001b[0m\u001b[37m\u001b[0m \u001b[1m0s\u001b[0m 5ms/step - loss: 1503.8186 - root_mean_squared_error: 38.7743 - val_loss: 451.0246 - val_root_mean_squared_error: 21.2373\n",
      "Epoch 26/100\n",
      "\u001b[1m80/80\u001b[0m \u001b[32m━━━━━━━━━━━━━━━━━━━━\u001b[0m\u001b[37m\u001b[0m \u001b[1m0s\u001b[0m 5ms/step - loss: 1500.1206 - root_mean_squared_error: 38.7298 - val_loss: 449.4051 - val_root_mean_squared_error: 21.1992\n",
      "Epoch 27/100\n",
      "\u001b[1m80/80\u001b[0m \u001b[32m━━━━━━━━━━━━━━━━━━━━\u001b[0m\u001b[37m\u001b[0m \u001b[1m0s\u001b[0m 5ms/step - loss: 1502.1632 - root_mean_squared_error: 38.7562 - val_loss: 447.7944 - val_root_mean_squared_error: 21.1612\n",
      "Epoch 28/100\n",
      "\u001b[1m80/80\u001b[0m \u001b[32m━━━━━━━━━━━━━━━━━━━━\u001b[0m\u001b[37m\u001b[0m \u001b[1m0s\u001b[0m 5ms/step - loss: 1516.7659 - root_mean_squared_error: 38.9424 - val_loss: 446.1825 - val_root_mean_squared_error: 21.1230\n",
      "Epoch 29/100\n",
      "\u001b[1m80/80\u001b[0m \u001b[32m━━━━━━━━━━━━━━━━━━━━\u001b[0m\u001b[37m\u001b[0m \u001b[1m0s\u001b[0m 5ms/step - loss: 1469.9869 - root_mean_squared_error: 38.3373 - val_loss: 444.5779 - val_root_mean_squared_error: 21.0850\n",
      "Epoch 30/100\n",
      "\u001b[1m80/80\u001b[0m \u001b[32m━━━━━━━━━━━━━━━━━━━━\u001b[0m\u001b[37m\u001b[0m \u001b[1m0s\u001b[0m 5ms/step - loss: 1512.2827 - root_mean_squared_error: 38.8867 - val_loss: 442.9761 - val_root_mean_squared_error: 21.0470\n",
      "Epoch 31/100\n",
      "\u001b[1m80/80\u001b[0m \u001b[32m━━━━━━━━━━━━━━━━━━━━\u001b[0m\u001b[37m\u001b[0m \u001b[1m0s\u001b[0m 5ms/step - loss: 1488.1930 - root_mean_squared_error: 38.5747 - val_loss: 441.3791 - val_root_mean_squared_error: 21.0090\n",
      "Epoch 32/100\n",
      "\u001b[1m80/80\u001b[0m \u001b[32m━━━━━━━━━━━━━━━━━━━━\u001b[0m\u001b[37m\u001b[0m \u001b[1m0s\u001b[0m 5ms/step - loss: 1480.0022 - root_mean_squared_error: 38.4701 - val_loss: 439.7839 - val_root_mean_squared_error: 20.9710\n",
      "Epoch 33/100\n",
      "\u001b[1m80/80\u001b[0m \u001b[32m━━━━━━━━━━━━━━━━━━━━\u001b[0m\u001b[37m\u001b[0m \u001b[1m0s\u001b[0m 5ms/step - loss: 1478.5977 - root_mean_squared_error: 38.4512 - val_loss: 438.1933 - val_root_mean_squared_error: 20.9331\n",
      "Epoch 34/100\n",
      "\u001b[1m80/80\u001b[0m \u001b[32m━━━━━━━━━━━━━━━━━━━━\u001b[0m\u001b[37m\u001b[0m \u001b[1m0s\u001b[0m 5ms/step - loss: 1501.8976 - root_mean_squared_error: 38.7529 - val_loss: 436.6011 - val_root_mean_squared_error: 20.8950\n",
      "Epoch 35/100\n",
      "\u001b[1m80/80\u001b[0m \u001b[32m━━━━━━━━━━━━━━━━━━━━\u001b[0m\u001b[37m\u001b[0m \u001b[1m0s\u001b[0m 5ms/step - loss: 1505.1842 - root_mean_squared_error: 38.7890 - val_loss: 435.0199 - val_root_mean_squared_error: 20.8571\n",
      "Epoch 36/100\n",
      "\u001b[1m80/80\u001b[0m \u001b[32m━━━━━━━━━━━━━━━━━━━━\u001b[0m\u001b[37m\u001b[0m \u001b[1m0s\u001b[0m 5ms/step - loss: 1526.3097 - root_mean_squared_error: 39.0624 - val_loss: 433.4349 - val_root_mean_squared_error: 20.8191\n",
      "Epoch 37/100\n",
      "\u001b[1m80/80\u001b[0m \u001b[32m━━━━━━━━━━━━━━━━━━━━\u001b[0m\u001b[37m\u001b[0m \u001b[1m0s\u001b[0m 5ms/step - loss: 1499.4459 - root_mean_squared_error: 38.7214 - val_loss: 431.8557 - val_root_mean_squared_error: 20.7811\n",
      "Epoch 38/100\n",
      "\u001b[1m80/80\u001b[0m \u001b[32m━━━━━━━━━━━━━━━━━━━━\u001b[0m\u001b[37m\u001b[0m \u001b[1m0s\u001b[0m 5ms/step - loss: 1429.1920 - root_mean_squared_error: 37.7926 - val_loss: 430.2840 - val_root_mean_squared_error: 20.7433\n",
      "Epoch 39/100\n",
      "\u001b[1m80/80\u001b[0m \u001b[32m━━━━━━━━━━━━━━━━━━━━\u001b[0m\u001b[37m\u001b[0m \u001b[1m0s\u001b[0m 5ms/step - loss: 1426.6315 - root_mean_squared_error: 37.7642 - val_loss: 428.7167 - val_root_mean_squared_error: 20.7055\n",
      "Epoch 40/100\n",
      "\u001b[1m80/80\u001b[0m \u001b[32m━━━━━━━━━━━━━━━━━━━━\u001b[0m\u001b[37m\u001b[0m \u001b[1m0s\u001b[0m 5ms/step - loss: 1510.0059 - root_mean_squared_error: 38.8528 - val_loss: 427.1414 - val_root_mean_squared_error: 20.6674\n",
      "Epoch 41/100\n",
      "\u001b[1m80/80\u001b[0m \u001b[32m━━━━━━━━━━━━━━━━━━━━\u001b[0m\u001b[37m\u001b[0m \u001b[1m0s\u001b[0m 5ms/step - loss: 1450.8990 - root_mean_squared_error: 38.0844 - val_loss: 425.5808 - val_root_mean_squared_error: 20.6296\n",
      "Epoch 42/100\n",
      "\u001b[1m80/80\u001b[0m \u001b[32m━━━━━━━━━━━━━━━━━━━━\u001b[0m\u001b[37m\u001b[0m \u001b[1m0s\u001b[0m 5ms/step - loss: 1429.7521 - root_mean_squared_error: 37.8101 - val_loss: 424.0205 - val_root_mean_squared_error: 20.5918\n",
      "Epoch 43/100\n",
      "\u001b[1m80/80\u001b[0m \u001b[32m━━━━━━━━━━━━━━━━━━━━\u001b[0m\u001b[37m\u001b[0m \u001b[1m0s\u001b[0m 5ms/step - loss: 1461.8384 - root_mean_squared_error: 38.2316 - val_loss: 422.4570 - val_root_mean_squared_error: 20.5538\n",
      "Epoch 44/100\n",
      "\u001b[1m80/80\u001b[0m \u001b[32m━━━━━━━━━━━━━━━━━━━━\u001b[0m\u001b[37m\u001b[0m \u001b[1m0s\u001b[0m 5ms/step - loss: 1424.1492 - root_mean_squared_error: 37.7359 - val_loss: 420.9049 - val_root_mean_squared_error: 20.5160\n",
      "Epoch 45/100\n",
      "\u001b[1m80/80\u001b[0m \u001b[32m━━━━━━━━━━━━━━━━━━━━\u001b[0m\u001b[37m\u001b[0m \u001b[1m0s\u001b[0m 5ms/step - loss: 1498.7965 - root_mean_squared_error: 38.7124 - val_loss: 419.3431 - val_root_mean_squared_error: 20.4779\n",
      "Epoch 46/100\n",
      "\u001b[1m80/80\u001b[0m \u001b[32m━━━━━━━━━━━━━━━━━━━━\u001b[0m\u001b[37m\u001b[0m \u001b[1m0s\u001b[0m 5ms/step - loss: 1449.3383 - root_mean_squared_error: 38.0664 - val_loss: 417.8045 - val_root_mean_squared_error: 20.4403\n",
      "Epoch 47/100\n",
      "\u001b[1m80/80\u001b[0m \u001b[32m━━━━━━━━━━━━━━━━━━━━\u001b[0m\u001b[37m\u001b[0m \u001b[1m0s\u001b[0m 5ms/step - loss: 1461.8729 - root_mean_squared_error: 38.2331 - val_loss: 416.2558 - val_root_mean_squared_error: 20.4023\n",
      "Epoch 48/100\n",
      "\u001b[1m80/80\u001b[0m \u001b[32m━━━━━━━━━━━━━━━━━━━━\u001b[0m\u001b[37m\u001b[0m \u001b[1m0s\u001b[0m 5ms/step - loss: 1471.3348 - root_mean_squared_error: 38.3544 - val_loss: 414.7138 - val_root_mean_squared_error: 20.3645\n",
      "Epoch 49/100\n",
      "\u001b[1m80/80\u001b[0m \u001b[32m━━━━━━━━━━━━━━━━━━━━\u001b[0m\u001b[37m\u001b[0m \u001b[1m0s\u001b[0m 5ms/step - loss: 1453.4557 - root_mean_squared_error: 38.1205 - val_loss: 413.1760 - val_root_mean_squared_error: 20.3267\n",
      "Epoch 50/100\n",
      "\u001b[1m80/80\u001b[0m \u001b[32m━━━━━━━━━━━━━━━━━━━━\u001b[0m\u001b[37m\u001b[0m \u001b[1m0s\u001b[0m 5ms/step - loss: 1487.4843 - root_mean_squared_error: 38.5643 - val_loss: 411.6368 - val_root_mean_squared_error: 20.2888\n",
      "Epoch 51/100\n",
      "\u001b[1m80/80\u001b[0m \u001b[32m━━━━━━━━━━━━━━━━━━━━\u001b[0m\u001b[37m\u001b[0m \u001b[1m0s\u001b[0m 5ms/step - loss: 1478.7385 - root_mean_squared_error: 38.4503 - val_loss: 410.1013 - val_root_mean_squared_error: 20.2510\n",
      "Epoch 52/100\n",
      "\u001b[1m80/80\u001b[0m \u001b[32m━━━━━━━━━━━━━━━━━━━━\u001b[0m\u001b[37m\u001b[0m \u001b[1m0s\u001b[0m 5ms/step - loss: 1448.0834 - root_mean_squared_error: 38.0470 - val_loss: 408.5827 - val_root_mean_squared_error: 20.2134\n",
      "Epoch 53/100\n",
      "\u001b[1m80/80\u001b[0m \u001b[32m━━━━━━━━━━━━━━━━━━━━\u001b[0m\u001b[37m\u001b[0m \u001b[1m0s\u001b[0m 5ms/step - loss: 1441.0901 - root_mean_squared_error: 37.9600 - val_loss: 407.0543 - val_root_mean_squared_error: 20.1756\n",
      "Epoch 54/100\n",
      "\u001b[1m80/80\u001b[0m \u001b[32m━━━━━━━━━━━━━━━━━━━━\u001b[0m\u001b[37m\u001b[0m \u001b[1m0s\u001b[0m 5ms/step - loss: 1403.5934 - root_mean_squared_error: 37.4631 - val_loss: 405.5350 - val_root_mean_squared_error: 20.1379\n",
      "Epoch 55/100\n",
      "\u001b[1m80/80\u001b[0m \u001b[32m━━━━━━━━━━━━━━━━━━━━\u001b[0m\u001b[37m\u001b[0m \u001b[1m0s\u001b[0m 5ms/step - loss: 1395.4252 - root_mean_squared_error: 37.3539 - val_loss: 404.0125 - val_root_mean_squared_error: 20.1001\n",
      "Epoch 56/100\n",
      "\u001b[1m80/80\u001b[0m \u001b[32m━━━━━━━━━━━━━━━━━━━━\u001b[0m\u001b[37m\u001b[0m \u001b[1m0s\u001b[0m 5ms/step - loss: 1406.8882 - root_mean_squared_error: 37.4995 - val_loss: 402.4951 - val_root_mean_squared_error: 20.0623\n",
      "Epoch 57/100\n",
      "\u001b[1m80/80\u001b[0m \u001b[32m━━━━━━━━━━━━━━━━━━━━\u001b[0m\u001b[37m\u001b[0m \u001b[1m0s\u001b[0m 5ms/step - loss: 1453.1970 - root_mean_squared_error: 38.1090 - val_loss: 400.9833 - val_root_mean_squared_error: 20.0246\n",
      "Epoch 58/100\n",
      "\u001b[1m80/80\u001b[0m \u001b[32m━━━━━━━━━━━━━━━━━━━━\u001b[0m\u001b[37m\u001b[0m \u001b[1m0s\u001b[0m 5ms/step - loss: 1370.8824 - root_mean_squared_error: 37.0222 - val_loss: 399.4773 - val_root_mean_squared_error: 19.9869\n",
      "Epoch 59/100\n",
      "\u001b[1m80/80\u001b[0m \u001b[32m━━━━━━━━━━━━━━━━━━━━\u001b[0m\u001b[37m\u001b[0m \u001b[1m0s\u001b[0m 5ms/step - loss: 1459.8020 - root_mean_squared_error: 38.1997 - val_loss: 397.9672 - val_root_mean_squared_error: 19.9491\n",
      "Epoch 60/100\n",
      "\u001b[1m80/80\u001b[0m \u001b[32m━━━━━━━━━━━━━━━━━━━━\u001b[0m\u001b[37m\u001b[0m \u001b[1m0s\u001b[0m 5ms/step - loss: 1395.4161 - root_mean_squared_error: 37.3454 - val_loss: 396.4646 - val_root_mean_squared_error: 19.9114\n",
      "Epoch 61/100\n",
      "\u001b[1m80/80\u001b[0m \u001b[32m━━━━━━━━━━━━━━━━━━━━\u001b[0m\u001b[37m\u001b[0m \u001b[1m0s\u001b[0m 5ms/step - loss: 1402.6107 - root_mean_squared_error: 37.4421 - val_loss: 394.9642 - val_root_mean_squared_error: 19.8737\n",
      "Epoch 62/100\n",
      "\u001b[1m80/80\u001b[0m \u001b[32m━━━━━━━━━━━━━━━━━━━━\u001b[0m\u001b[37m\u001b[0m \u001b[1m0s\u001b[0m 5ms/step - loss: 1429.7802 - root_mean_squared_error: 37.8111 - val_loss: 393.4637 - val_root_mean_squared_error: 19.8359\n",
      "Epoch 63/100\n",
      "\u001b[1m80/80\u001b[0m \u001b[32m━━━━━━━━━━━━━━━━━━━━\u001b[0m\u001b[37m\u001b[0m \u001b[1m0s\u001b[0m 5ms/step - loss: 1447.6074 - root_mean_squared_error: 38.0434 - val_loss: 391.9660 - val_root_mean_squared_error: 19.7981\n",
      "Epoch 64/100\n",
      "\u001b[1m80/80\u001b[0m \u001b[32m━━━━━━━━━━━━━━━━━━━━\u001b[0m\u001b[37m\u001b[0m \u001b[1m0s\u001b[0m 5ms/step - loss: 1432.8262 - root_mean_squared_error: 37.8473 - val_loss: 390.4818 - val_root_mean_squared_error: 19.7606\n",
      "Epoch 65/100\n",
      "\u001b[1m80/80\u001b[0m \u001b[32m━━━━━━━━━━━━━━━━━━━━\u001b[0m\u001b[37m\u001b[0m \u001b[1m0s\u001b[0m 5ms/step - loss: 1446.7784 - root_mean_squared_error: 38.0293 - val_loss: 388.9895 - val_root_mean_squared_error: 19.7228\n",
      "Epoch 66/100\n",
      "\u001b[1m80/80\u001b[0m \u001b[32m━━━━━━━━━━━━━━━━━━━━\u001b[0m\u001b[37m\u001b[0m \u001b[1m0s\u001b[0m 5ms/step - loss: 1395.4167 - root_mean_squared_error: 37.3546 - val_loss: 387.5099 - val_root_mean_squared_error: 19.6853\n",
      "Epoch 67/100\n",
      "\u001b[1m80/80\u001b[0m \u001b[32m━━━━━━━━━━━━━━━━━━━━\u001b[0m\u001b[37m\u001b[0m \u001b[1m0s\u001b[0m 5ms/step - loss: 1426.5725 - root_mean_squared_error: 37.7685 - val_loss: 386.0260 - val_root_mean_squared_error: 19.6475\n",
      "Epoch 68/100\n",
      "\u001b[1m80/80\u001b[0m \u001b[32m━━━━━━━━━━━━━━━━━━━━\u001b[0m\u001b[37m\u001b[0m \u001b[1m0s\u001b[0m 5ms/step - loss: 1395.8367 - root_mean_squared_error: 37.3473 - val_loss: 384.5502 - val_root_mean_squared_error: 19.6100\n",
      "Epoch 69/100\n",
      "\u001b[1m80/80\u001b[0m \u001b[32m━━━━━━━━━━━━━━━━━━━━\u001b[0m\u001b[37m\u001b[0m \u001b[1m0s\u001b[0m 5ms/step - loss: 1361.6362 - root_mean_squared_error: 36.8915 - val_loss: 383.0748 - val_root_mean_squared_error: 19.5723\n",
      "Epoch 70/100\n",
      "\u001b[1m80/80\u001b[0m \u001b[32m━━━━━━━━━━━━━━━━━━━━\u001b[0m\u001b[37m\u001b[0m \u001b[1m0s\u001b[0m 5ms/step - loss: 1437.2709 - root_mean_squared_error: 37.9038 - val_loss: 381.6030 - val_root_mean_squared_error: 19.5347\n",
      "Epoch 71/100\n",
      "\u001b[1m80/80\u001b[0m \u001b[32m━━━━━━━━━━━━━━━━━━━━\u001b[0m\u001b[37m\u001b[0m \u001b[1m0s\u001b[0m 5ms/step - loss: 1399.2056 - root_mean_squared_error: 37.4003 - val_loss: 380.1296 - val_root_mean_squared_error: 19.4969\n",
      "Epoch 72/100\n",
      "\u001b[1m80/80\u001b[0m \u001b[32m━━━━━━━━━━━━━━━━━━━━\u001b[0m\u001b[37m\u001b[0m \u001b[1m0s\u001b[0m 5ms/step - loss: 1391.2882 - root_mean_squared_error: 37.2993 - val_loss: 378.6704 - val_root_mean_squared_error: 19.4595\n",
      "Epoch 73/100\n",
      "\u001b[1m80/80\u001b[0m \u001b[32m━━━━━━━━━━━━━━━━━━━━\u001b[0m\u001b[37m\u001b[0m \u001b[1m0s\u001b[0m 5ms/step - loss: 1373.7379 - root_mean_squared_error: 37.0597 - val_loss: 377.2042 - val_root_mean_squared_error: 19.4217\n",
      "Epoch 74/100\n",
      "\u001b[1m80/80\u001b[0m \u001b[32m━━━━━━━━━━━━━━━━━━━━\u001b[0m\u001b[37m\u001b[0m \u001b[1m0s\u001b[0m 5ms/step - loss: 1392.7361 - root_mean_squared_error: 37.3124 - val_loss: 375.7473 - val_root_mean_squared_error: 19.3842\n",
      "Epoch 75/100\n",
      "\u001b[1m80/80\u001b[0m \u001b[32m━━━━━━━━━━━━━━━━━━━━\u001b[0m\u001b[37m\u001b[0m \u001b[1m0s\u001b[0m 5ms/step - loss: 1374.2906 - root_mean_squared_error: 37.0661 - val_loss: 374.2944 - val_root_mean_squared_error: 19.3467\n",
      "Epoch 76/100\n",
      "\u001b[1m80/80\u001b[0m \u001b[32m━━━━━━━━━━━━━━━━━━━━\u001b[0m\u001b[37m\u001b[0m \u001b[1m0s\u001b[0m 5ms/step - loss: 1360.8574 - root_mean_squared_error: 36.8851 - val_loss: 372.8360 - val_root_mean_squared_error: 19.3090\n",
      "Epoch 77/100\n",
      "\u001b[1m80/80\u001b[0m \u001b[32m━━━━━━━━━━━━━━━━━━━━\u001b[0m\u001b[37m\u001b[0m \u001b[1m0s\u001b[0m 5ms/step - loss: 1367.5020 - root_mean_squared_error: 36.9779 - val_loss: 371.3888 - val_root_mean_squared_error: 19.2715\n",
      "Epoch 78/100\n",
      "\u001b[1m80/80\u001b[0m \u001b[32m━━━━━━━━━━━━━━━━━━━━\u001b[0m\u001b[37m\u001b[0m \u001b[1m0s\u001b[0m 5ms/step - loss: 1330.3772 - root_mean_squared_error: 36.4628 - val_loss: 369.9400 - val_root_mean_squared_error: 19.2338\n",
      "Epoch 79/100\n",
      "\u001b[1m80/80\u001b[0m \u001b[32m━━━━━━━━━━━━━━━━━━━━\u001b[0m\u001b[37m\u001b[0m \u001b[1m0s\u001b[0m 6ms/step - loss: 1331.0612 - root_mean_squared_error: 36.4769 - val_loss: 368.4998 - val_root_mean_squared_error: 19.1963\n",
      "Epoch 80/100\n",
      "\u001b[1m80/80\u001b[0m \u001b[32m━━━━━━━━━━━━━━━━━━━━\u001b[0m\u001b[37m\u001b[0m \u001b[1m0s\u001b[0m 6ms/step - loss: 1371.1217 - root_mean_squared_error: 37.0248 - val_loss: 367.0585 - val_root_mean_squared_error: 19.1588\n",
      "Epoch 81/100\n",
      "\u001b[1m80/80\u001b[0m \u001b[32m━━━━━━━━━━━━━━━━━━━━\u001b[0m\u001b[37m\u001b[0m \u001b[1m0s\u001b[0m 5ms/step - loss: 1366.2930 - root_mean_squared_error: 36.9625 - val_loss: 365.6193 - val_root_mean_squared_error: 19.1212\n",
      "Epoch 82/100\n",
      "\u001b[1m80/80\u001b[0m \u001b[32m━━━━━━━━━━━━━━━━━━━━\u001b[0m\u001b[37m\u001b[0m \u001b[1m0s\u001b[0m 5ms/step - loss: 1325.8016 - root_mean_squared_error: 36.4051 - val_loss: 364.1920 - val_root_mean_squared_error: 19.0838\n",
      "Epoch 83/100\n",
      "\u001b[1m80/80\u001b[0m \u001b[32m━━━━━━━━━━━━━━━━━━━━\u001b[0m\u001b[37m\u001b[0m \u001b[1m0s\u001b[0m 5ms/step - loss: 1376.2482 - root_mean_squared_error: 37.0926 - val_loss: 362.7516 - val_root_mean_squared_error: 19.0460\n",
      "Epoch 84/100\n",
      "\u001b[1m80/80\u001b[0m \u001b[32m━━━━━━━━━━━━━━━━━━━━\u001b[0m\u001b[37m\u001b[0m \u001b[1m0s\u001b[0m 5ms/step - loss: 1345.0343 - root_mean_squared_error: 36.6716 - val_loss: 361.3273 - val_root_mean_squared_error: 19.0086\n",
      "Epoch 85/100\n",
      "\u001b[1m80/80\u001b[0m \u001b[32m━━━━━━━━━━━━━━━━━━━━\u001b[0m\u001b[37m\u001b[0m \u001b[1m0s\u001b[0m 5ms/step - loss: 1306.3057 - root_mean_squared_error: 36.1400 - val_loss: 359.9071 - val_root_mean_squared_error: 18.9712\n",
      "Epoch 86/100\n",
      "\u001b[1m80/80\u001b[0m \u001b[32m━━━━━━━━━━━━━━━━━━━━\u001b[0m\u001b[37m\u001b[0m \u001b[1m0s\u001b[0m 5ms/step - loss: 1328.4482 - root_mean_squared_error: 36.4457 - val_loss: 358.4835 - val_root_mean_squared_error: 18.9337\n",
      "Epoch 87/100\n",
      "\u001b[1m80/80\u001b[0m \u001b[32m━━━━━━━━━━━━━━━━━━━━\u001b[0m\u001b[37m\u001b[0m \u001b[1m0s\u001b[0m 5ms/step - loss: 1362.5432 - root_mean_squared_error: 36.9117 - val_loss: 357.0600 - val_root_mean_squared_error: 18.8960\n",
      "Epoch 88/100\n",
      "\u001b[1m80/80\u001b[0m \u001b[32m━━━━━━━━━━━━━━━━━━━━\u001b[0m\u001b[37m\u001b[0m \u001b[1m0s\u001b[0m 5ms/step - loss: 1352.1749 - root_mean_squared_error: 36.7676 - val_loss: 355.6462 - val_root_mean_squared_error: 18.8586\n",
      "Epoch 89/100\n",
      "\u001b[1m80/80\u001b[0m \u001b[32m━━━━━━━━━━━━━━━━━━━━\u001b[0m\u001b[37m\u001b[0m \u001b[1m0s\u001b[0m 5ms/step - loss: 1360.6486 - root_mean_squared_error: 36.8815 - val_loss: 354.2354 - val_root_mean_squared_error: 18.8211\n",
      "Epoch 90/100\n",
      "\u001b[1m80/80\u001b[0m \u001b[32m━━━━━━━━━━━━━━━━━━━━\u001b[0m\u001b[37m\u001b[0m \u001b[1m0s\u001b[0m 5ms/step - loss: 1327.1953 - root_mean_squared_error: 36.4300 - val_loss: 352.8271 - val_root_mean_squared_error: 18.7837\n",
      "Epoch 91/100\n",
      "\u001b[1m80/80\u001b[0m \u001b[32m━━━━━━━━━━━━━━━━━━━━\u001b[0m\u001b[37m\u001b[0m \u001b[1m0s\u001b[0m 5ms/step - loss: 1338.8834 - root_mean_squared_error: 36.5855 - val_loss: 351.4207 - val_root_mean_squared_error: 18.7462\n",
      "Epoch 92/100\n",
      "\u001b[1m80/80\u001b[0m \u001b[32m━━━━━━━━━━━━━━━━━━━━\u001b[0m\u001b[37m\u001b[0m \u001b[1m0s\u001b[0m 5ms/step - loss: 1359.8514 - root_mean_squared_error: 36.8701 - val_loss: 350.0181 - val_root_mean_squared_error: 18.7088\n",
      "Epoch 93/100\n",
      "\u001b[1m80/80\u001b[0m \u001b[32m━━━━━━━━━━━━━━━━━━━━\u001b[0m\u001b[37m\u001b[0m \u001b[1m0s\u001b[0m 5ms/step - loss: 1275.2483 - root_mean_squared_error: 35.7012 - val_loss: 348.6208 - val_root_mean_squared_error: 18.6714\n",
      "Epoch 94/100\n",
      "\u001b[1m80/80\u001b[0m \u001b[32m━━━━━━━━━━━━━━━━━━━━\u001b[0m\u001b[37m\u001b[0m \u001b[1m0s\u001b[0m 5ms/step - loss: 1352.4490 - root_mean_squared_error: 36.7743 - val_loss: 347.2205 - val_root_mean_squared_error: 18.6339\n",
      "Epoch 95/100\n",
      "\u001b[1m80/80\u001b[0m \u001b[32m━━━━━━━━━━━━━━━━━━━━\u001b[0m\u001b[37m\u001b[0m \u001b[1m0s\u001b[0m 5ms/step - loss: 1332.1851 - root_mean_squared_error: 36.4973 - val_loss: 345.8296 - val_root_mean_squared_error: 18.5965\n",
      "Epoch 96/100\n",
      "\u001b[1m80/80\u001b[0m \u001b[32m━━━━━━━━━━━━━━━━━━━━\u001b[0m\u001b[37m\u001b[0m \u001b[1m0s\u001b[0m 5ms/step - loss: 1311.8114 - root_mean_squared_error: 36.2124 - val_loss: 344.4421 - val_root_mean_squared_error: 18.5592\n",
      "Epoch 97/100\n",
      "\u001b[1m80/80\u001b[0m \u001b[32m━━━━━━━━━━━━━━━━━━━━\u001b[0m\u001b[37m\u001b[0m \u001b[1m0s\u001b[0m 5ms/step - loss: 1295.5416 - root_mean_squared_error: 35.9875 - val_loss: 343.0457 - val_root_mean_squared_error: 18.5215\n",
      "Epoch 98/100\n",
      "\u001b[1m80/80\u001b[0m \u001b[32m━━━━━━━━━━━━━━━━━━━━\u001b[0m\u001b[37m\u001b[0m \u001b[1m0s\u001b[0m 6ms/step - loss: 1328.1444 - root_mean_squared_error: 36.4399 - val_loss: 341.6694 - val_root_mean_squared_error: 18.4843\n",
      "Epoch 99/100\n",
      "\u001b[1m80/80\u001b[0m \u001b[32m━━━━━━━━━━━━━━━━━━━━\u001b[0m\u001b[37m\u001b[0m \u001b[1m0s\u001b[0m 5ms/step - loss: 1302.6952 - root_mean_squared_error: 36.0866 - val_loss: 340.2906 - val_root_mean_squared_error: 18.4470\n",
      "Epoch 100/100\n",
      "\u001b[1m80/80\u001b[0m \u001b[32m━━━━━━━━━━━━━━━━━━━━\u001b[0m\u001b[37m\u001b[0m \u001b[1m0s\u001b[0m 5ms/step - loss: 1294.1899 - root_mean_squared_error: 35.9701 - val_loss: 338.9067 - val_root_mean_squared_error: 18.4094\n"
     ]
    },
    {
     "data": {
      "text/plain": [
       "<keras.src.callbacks.history.History at 0x7fa684d230a0>"
      ]
     },
     "execution_count": 48,
     "metadata": {},
     "output_type": "execute_result"
    }
   ],
   "source": [
    "model2.fit(X_train1, y_train1, validation_data=(X_val1, y_val1), \n",
    "           epochs=100, callbacks=[cp2])"
   ]
  },
  {
   "cell_type": "code",
   "execution_count": 49,
   "id": "a78b5d02",
   "metadata": {
    "execution": {
     "iopub.execute_input": "2025-01-14T20:26:36.660756Z",
     "iopub.status.busy": "2025-01-14T20:26:36.660366Z",
     "iopub.status.idle": "2025-01-14T20:26:36.752681Z",
     "shell.execute_reply": "2025-01-14T20:26:36.751739Z"
    },
    "papermill": {
     "duration": 0.216789,
     "end_time": "2025-01-14T20:26:36.754675",
     "exception": false,
     "start_time": "2025-01-14T20:26:36.537886",
     "status": "completed"
    },
    "tags": []
   },
   "outputs": [],
   "source": [
    "from tensorflow.keras.models import load_model\n",
    "model2 = load_model('/kaggle/working/model2.keras')"
   ]
  },
  {
   "cell_type": "code",
   "execution_count": 50,
   "id": "caf68f2f",
   "metadata": {
    "execution": {
     "iopub.execute_input": "2025-01-14T20:26:36.998438Z",
     "iopub.status.busy": "2025-01-14T20:26:36.998081Z",
     "iopub.status.idle": "2025-01-14T20:26:37.571419Z",
     "shell.execute_reply": "2025-01-14T20:26:37.570376Z"
    },
    "papermill": {
     "duration": 0.69671,
     "end_time": "2025-01-14T20:26:37.573264",
     "exception": false,
     "start_time": "2025-01-14T20:26:36.876554",
     "status": "completed"
    },
    "tags": []
   },
   "outputs": [
    {
     "name": "stdout",
     "output_type": "stream",
     "text": [
      "\u001b[1m80/80\u001b[0m \u001b[32m━━━━━━━━━━━━━━━━━━━━\u001b[0m\u001b[37m\u001b[0m \u001b[1m0s\u001b[0m 4ms/step\n",
      "Evaluation Metrics:\n",
      "Mean Absolute Error (MAE): 32.7004\n",
      "Mean Squared Error (MSE): 1309.3535\n",
      "Root Mean Squared Error (RMSE): 36.1850\n",
      "R-squared (Accuracy): -4.4547\n"
     ]
    }
   ],
   "source": [
    "# Evaluate the model on the train data\n",
    "train_result = model2.predict(X_train1)\n",
    "\n",
    "# Calculate metrics\n",
    "mse = mean_squared_error(y_train1, train_result)\n",
    "rmse = np.sqrt(mse)\n",
    "mae = mean_absolute_error(y_train1, train_result)\n",
    "r2 = r2_score(y_train1, train_result)\n",
    "\n",
    "# Print the results\n",
    "print(\"Evaluation Metrics:\")\n",
    "print(f\"Mean Absolute Error (MAE): {mae:.4f}\")\n",
    "print(f\"Mean Squared Error (MSE): {mse:.4f}\")\n",
    "print(f\"Root Mean Squared Error (RMSE): {rmse:.4f}\")\n",
    "print(f\"R-squared (Accuracy): {r2:.4f}\")"
   ]
  },
  {
   "cell_type": "code",
   "execution_count": 51,
   "id": "8d8c20fa",
   "metadata": {
    "execution": {
     "iopub.execute_input": "2025-01-14T20:26:37.819621Z",
     "iopub.status.busy": "2025-01-14T20:26:37.819196Z",
     "iopub.status.idle": "2025-01-14T20:26:37.944707Z",
     "shell.execute_reply": "2025-01-14T20:26:37.943300Z"
    },
    "papermill": {
     "duration": 0.25209,
     "end_time": "2025-01-14T20:26:37.946510",
     "exception": false,
     "start_time": "2025-01-14T20:26:37.694420",
     "status": "completed"
    },
    "tags": []
   },
   "outputs": [
    {
     "name": "stdout",
     "output_type": "stream",
     "text": [
      "\u001b[1m23/23\u001b[0m \u001b[32m━━━━━━━━━━━━━━━━━━━━\u001b[0m\u001b[37m\u001b[0m \u001b[1m0s\u001b[0m 2ms/step \n",
      "Evaluation Metrics:\n",
      "Mean Absolute Error (MAE): 17.5170\n",
      "Mean Squared Error (MSE): 338.9067\n",
      "Root Mean Squared Error (RMSE): 18.4094\n",
      "R-squared (Accuracy): -9.5705\n"
     ]
    }
   ],
   "source": [
    "# Evaluate the model on the validation data\n",
    "val_result = model2.predict(X_val1)\n",
    "\n",
    "# Calculate metrics\n",
    "mse = mean_squared_error(y_val1, val_result)\n",
    "rmse = np.sqrt(mse)\n",
    "mae = mean_absolute_error(y_val1, val_result)\n",
    "r2 = r2_score(y_val1, val_result)\n",
    "\n",
    "# Print the results\n",
    "print(\"Evaluation Metrics:\")\n",
    "print(f\"Mean Absolute Error (MAE): {mae:.4f}\")\n",
    "print(f\"Mean Squared Error (MSE): {mse:.4f}\")\n",
    "print(f\"Root Mean Squared Error (RMSE): {rmse:.4f}\")\n",
    "print(f\"R-squared (Accuracy): {r2:.4f}\")"
   ]
  },
  {
   "cell_type": "code",
   "execution_count": 52,
   "id": "3001ea7d",
   "metadata": {
    "execution": {
     "iopub.execute_input": "2025-01-14T20:26:38.193383Z",
     "iopub.status.busy": "2025-01-14T20:26:38.193023Z",
     "iopub.status.idle": "2025-01-14T20:26:38.295141Z",
     "shell.execute_reply": "2025-01-14T20:26:38.293774Z"
    },
    "papermill": {
     "duration": 0.227023,
     "end_time": "2025-01-14T20:26:38.296955",
     "exception": false,
     "start_time": "2025-01-14T20:26:38.069932",
     "status": "completed"
    },
    "tags": []
   },
   "outputs": [
    {
     "name": "stdout",
     "output_type": "stream",
     "text": [
      "\u001b[1m12/12\u001b[0m \u001b[32m━━━━━━━━━━━━━━━━━━━━\u001b[0m\u001b[37m\u001b[0m \u001b[1m0s\u001b[0m 2ms/step \n",
      "Evaluation Metrics:\n",
      "Mean Absolute Error (MAE): 18.1232\n",
      "Mean Squared Error (MSE): 357.8235\n",
      "Root Mean Squared Error (RMSE): 18.9162\n",
      "R-squared (Accuracy): -11.1821\n"
     ]
    }
   ],
   "source": [
    "# Evaluate the model on the test data\n",
    "test_result = model2.predict(X_test1)\n",
    "\n",
    "# Calculate metrics\n",
    "mse = mean_squared_error(y_test1, test_result)\n",
    "rmse = np.sqrt(mse)\n",
    "mae = mean_absolute_error(y_test1, test_result)\n",
    "r2 = r2_score(y_test1, test_result)\n",
    "\n",
    "# Print the results\n",
    "print(\"Evaluation Metrics:\")\n",
    "print(f\"Mean Absolute Error (MAE): {mae:.4f}\")\n",
    "print(f\"Mean Squared Error (MSE): {mse:.4f}\")\n",
    "print(f\"Root Mean Squared Error (RMSE): {rmse:.4f}\")\n",
    "print(f\"R-squared (Accuracy): {r2:.4f}\")"
   ]
  },
  {
   "cell_type": "code",
   "execution_count": 53,
   "id": "251f7101",
   "metadata": {
    "execution": {
     "iopub.execute_input": "2025-01-14T20:26:38.545970Z",
     "iopub.status.busy": "2025-01-14T20:26:38.545555Z",
     "iopub.status.idle": "2025-01-14T20:26:38.786862Z",
     "shell.execute_reply": "2025-01-14T20:26:38.785608Z"
    },
    "papermill": {
     "duration": 0.369446,
     "end_time": "2025-01-14T20:26:38.788859",
     "exception": false,
     "start_time": "2025-01-14T20:26:38.419413",
     "status": "completed"
    },
    "tags": []
   },
   "outputs": [
    {
     "name": "stdout",
     "output_type": "stream",
     "text": [
      "\u001b[1m80/80\u001b[0m \u001b[32m━━━━━━━━━━━━━━━━━━━━\u001b[0m\u001b[37m\u001b[0m \u001b[1m0s\u001b[0m 2ms/step\n"
     ]
    },
    {
     "data": {
      "text/html": [
       "<div>\n",
       "<style scoped>\n",
       "    .dataframe tbody tr th:only-of-type {\n",
       "        vertical-align: middle;\n",
       "    }\n",
       "\n",
       "    .dataframe tbody tr th {\n",
       "        vertical-align: top;\n",
       "    }\n",
       "\n",
       "    .dataframe thead th {\n",
       "        text-align: right;\n",
       "    }\n",
       "</style>\n",
       "<table border=\"1\" class=\"dataframe\">\n",
       "  <thead>\n",
       "    <tr style=\"text-align: right;\">\n",
       "      <th></th>\n",
       "      <th>Train Predictions</th>\n",
       "      <th>Actuals</th>\n",
       "    </tr>\n",
       "  </thead>\n",
       "  <tbody>\n",
       "    <tr>\n",
       "      <th>0</th>\n",
       "      <td>3.943151</td>\n",
       "      <td>33.000000</td>\n",
       "    </tr>\n",
       "    <tr>\n",
       "      <th>1</th>\n",
       "      <td>3.943151</td>\n",
       "      <td>29.500000</td>\n",
       "    </tr>\n",
       "    <tr>\n",
       "      <th>2</th>\n",
       "      <td>3.943151</td>\n",
       "      <td>26.166667</td>\n",
       "    </tr>\n",
       "    <tr>\n",
       "      <th>3</th>\n",
       "      <td>3.943151</td>\n",
       "      <td>24.833333</td>\n",
       "    </tr>\n",
       "    <tr>\n",
       "      <th>4</th>\n",
       "      <td>3.943151</td>\n",
       "      <td>25.000000</td>\n",
       "    </tr>\n",
       "    <tr>\n",
       "      <th>...</th>\n",
       "      <td>...</td>\n",
       "      <td>...</td>\n",
       "    </tr>\n",
       "    <tr>\n",
       "      <th>2554</th>\n",
       "      <td>3.943151</td>\n",
       "      <td>14.333333</td>\n",
       "    </tr>\n",
       "    <tr>\n",
       "      <th>2555</th>\n",
       "      <td>3.943151</td>\n",
       "      <td>15.166667</td>\n",
       "    </tr>\n",
       "    <tr>\n",
       "      <th>2556</th>\n",
       "      <td>3.943151</td>\n",
       "      <td>16.000000</td>\n",
       "    </tr>\n",
       "    <tr>\n",
       "      <th>2557</th>\n",
       "      <td>3.943151</td>\n",
       "      <td>16.500000</td>\n",
       "    </tr>\n",
       "    <tr>\n",
       "      <th>2558</th>\n",
       "      <td>3.943151</td>\n",
       "      <td>17.000000</td>\n",
       "    </tr>\n",
       "  </tbody>\n",
       "</table>\n",
       "<p>2559 rows × 2 columns</p>\n",
       "</div>"
      ],
      "text/plain": [
       "      Train Predictions    Actuals\n",
       "0              3.943151  33.000000\n",
       "1              3.943151  29.500000\n",
       "2              3.943151  26.166667\n",
       "3              3.943151  24.833333\n",
       "4              3.943151  25.000000\n",
       "...                 ...        ...\n",
       "2554           3.943151  14.333333\n",
       "2555           3.943151  15.166667\n",
       "2556           3.943151  16.000000\n",
       "2557           3.943151  16.500000\n",
       "2558           3.943151  17.000000\n",
       "\n",
       "[2559 rows x 2 columns]"
      ]
     },
     "execution_count": 53,
     "metadata": {},
     "output_type": "execute_result"
    }
   ],
   "source": [
    "train_predictions = model2.predict(X_train1).flatten()\n",
    "train_results = pd.DataFrame(data={'Train Predictions':train_predictions, 'Actuals':y_train1})\n",
    "train_results"
   ]
  },
  {
   "cell_type": "code",
   "execution_count": 54,
   "id": "4f68109a",
   "metadata": {
    "execution": {
     "iopub.execute_input": "2025-01-14T20:26:39.094465Z",
     "iopub.status.busy": "2025-01-14T20:26:39.094094Z",
     "iopub.status.idle": "2025-01-14T20:26:39.330159Z",
     "shell.execute_reply": "2025-01-14T20:26:39.329130Z"
    },
    "papermill": {
     "duration": 0.361383,
     "end_time": "2025-01-14T20:26:39.331889",
     "exception": false,
     "start_time": "2025-01-14T20:26:38.970506",
     "status": "completed"
    },
    "tags": []
   },
   "outputs": [
    {
     "data": {
      "image/png": "[encoded data removed]",
      "text/plain": [
       "<Figure size 640x480 with 1 Axes>"
      ]
     },
     "metadata": {},
     "output_type": "display_data"
    }
   ],
   "source": [
    "plt.plot(train_results['Actuals'][1:50], label='Actual')\n",
    "plt.plot(train_results['Train Predictions'][1:50], label='Predicted')\n",
    "plt.legend()\n",
    "plt.show()"
   ]
  },
  {
   "cell_type": "code",
   "execution_count": 55,
   "id": "d5bd0989",
   "metadata": {
    "execution": {
     "iopub.execute_input": "2025-01-14T20:26:39.585130Z",
     "iopub.status.busy": "2025-01-14T20:26:39.584760Z",
     "iopub.status.idle": "2025-01-14T20:26:39.712808Z",
     "shell.execute_reply": "2025-01-14T20:26:39.711745Z"
    },
    "papermill": {
     "duration": 0.255418,
     "end_time": "2025-01-14T20:26:39.714474",
     "exception": false,
     "start_time": "2025-01-14T20:26:39.459056",
     "status": "completed"
    },
    "tags": []
   },
   "outputs": [
    {
     "name": "stdout",
     "output_type": "stream",
     "text": [
      "\u001b[1m23/23\u001b[0m \u001b[32m━━━━━━━━━━━━━━━━━━━━\u001b[0m\u001b[37m\u001b[0m \u001b[1m0s\u001b[0m 2ms/step \n"
     ]
    },
    {
     "data": {
      "text/html": [
       "<div>\n",
       "<style scoped>\n",
       "    .dataframe tbody tr th:only-of-type {\n",
       "        vertical-align: middle;\n",
       "    }\n",
       "\n",
       "    .dataframe tbody tr th {\n",
       "        vertical-align: top;\n",
       "    }\n",
       "\n",
       "    .dataframe thead th {\n",
       "        text-align: right;\n",
       "    }\n",
       "</style>\n",
       "<table border=\"1\" class=\"dataframe\">\n",
       "  <thead>\n",
       "    <tr style=\"text-align: right;\">\n",
       "      <th></th>\n",
       "      <th>Train Predictions</th>\n",
       "      <th>Actuals</th>\n",
       "    </tr>\n",
       "  </thead>\n",
       "  <tbody>\n",
       "    <tr>\n",
       "      <th>0</th>\n",
       "      <td>3.943151</td>\n",
       "      <td>17.000000</td>\n",
       "    </tr>\n",
       "    <tr>\n",
       "      <th>1</th>\n",
       "      <td>3.943151</td>\n",
       "      <td>17.000000</td>\n",
       "    </tr>\n",
       "    <tr>\n",
       "      <th>2</th>\n",
       "      <td>3.943151</td>\n",
       "      <td>17.000000</td>\n",
       "    </tr>\n",
       "    <tr>\n",
       "      <th>3</th>\n",
       "      <td>3.943151</td>\n",
       "      <td>17.000000</td>\n",
       "    </tr>\n",
       "    <tr>\n",
       "      <th>4</th>\n",
       "      <td>3.943151</td>\n",
       "      <td>17.000000</td>\n",
       "    </tr>\n",
       "    <tr>\n",
       "      <th>...</th>\n",
       "      <td>...</td>\n",
       "      <td>...</td>\n",
       "    </tr>\n",
       "    <tr>\n",
       "      <th>722</th>\n",
       "      <td>3.943151</td>\n",
       "      <td>20.166667</td>\n",
       "    </tr>\n",
       "    <tr>\n",
       "      <th>723</th>\n",
       "      <td>3.943151</td>\n",
       "      <td>20.500000</td>\n",
       "    </tr>\n",
       "    <tr>\n",
       "      <th>724</th>\n",
       "      <td>3.943151</td>\n",
       "      <td>20.666667</td>\n",
       "    </tr>\n",
       "    <tr>\n",
       "      <th>725</th>\n",
       "      <td>3.943151</td>\n",
       "      <td>20.500000</td>\n",
       "    </tr>\n",
       "    <tr>\n",
       "      <th>726</th>\n",
       "      <td>3.943151</td>\n",
       "      <td>18.666667</td>\n",
       "    </tr>\n",
       "  </tbody>\n",
       "</table>\n",
       "<p>727 rows × 2 columns</p>\n",
       "</div>"
      ],
      "text/plain": [
       "     Train Predictions    Actuals\n",
       "0             3.943151  17.000000\n",
       "1             3.943151  17.000000\n",
       "2             3.943151  17.000000\n",
       "3             3.943151  17.000000\n",
       "4             3.943151  17.000000\n",
       "..                 ...        ...\n",
       "722           3.943151  20.166667\n",
       "723           3.943151  20.500000\n",
       "724           3.943151  20.666667\n",
       "725           3.943151  20.500000\n",
       "726           3.943151  18.666667\n",
       "\n",
       "[727 rows x 2 columns]"
      ]
     },
     "execution_count": 55,
     "metadata": {},
     "output_type": "execute_result"
    }
   ],
   "source": [
    "val_predictions = model2.predict(X_val1).flatten()\n",
    "val_results = pd.DataFrame(data={'Train Predictions':val_predictions, 'Actuals':y_val1})\n",
    "val_results"
   ]
  },
  {
   "cell_type": "code",
   "execution_count": 56,
   "id": "18a4a161",
   "metadata": {
    "execution": {
     "iopub.execute_input": "2025-01-14T20:26:39.962566Z",
     "iopub.status.busy": "2025-01-14T20:26:39.962212Z",
     "iopub.status.idle": "2025-01-14T20:26:40.195203Z",
     "shell.execute_reply": "2025-01-14T20:26:40.194061Z"
    },
    "papermill": {
     "duration": 0.359796,
     "end_time": "2025-01-14T20:26:40.197047",
     "exception": false,
     "start_time": "2025-01-14T20:26:39.837251",
     "status": "completed"
    },
    "tags": []
   },
   "outputs": [
    {
     "data": {
      "image/png": "[encoded data removed]",
      "text/plain": [
       "<Figure size 640x480 with 1 Axes>"
      ]
     },
     "metadata": {},
     "output_type": "display_data"
    }
   ],
   "source": [
    "plt.plot(val_results['Actuals'][700:], label='Actual')\n",
    "plt.plot(val_results['Train Predictions'][700:], label='Predicted')\n",
    "plt.legend()\n",
    "plt.show()"
   ]
  },
  {
   "cell_type": "code",
   "execution_count": 57,
   "id": "47a390a1",
   "metadata": {
    "execution": {
     "iopub.execute_input": "2025-01-14T20:26:40.442738Z",
     "iopub.status.busy": "2025-01-14T20:26:40.442302Z",
     "iopub.status.idle": "2025-01-14T20:26:40.548738Z",
     "shell.execute_reply": "2025-01-14T20:26:40.547589Z"
    },
    "papermill": {
     "duration": 0.2314,
     "end_time": "2025-01-14T20:26:40.550582",
     "exception": false,
     "start_time": "2025-01-14T20:26:40.319182",
     "status": "completed"
    },
    "tags": []
   },
   "outputs": [
    {
     "name": "stdout",
     "output_type": "stream",
     "text": [
      "\u001b[1m12/12\u001b[0m \u001b[32m━━━━━━━━━━━━━━━━━━━━\u001b[0m\u001b[37m\u001b[0m \u001b[1m0s\u001b[0m 2ms/step \n"
     ]
    },
    {
     "data": {
      "text/html": [
       "<div>\n",
       "<style scoped>\n",
       "    .dataframe tbody tr th:only-of-type {\n",
       "        vertical-align: middle;\n",
       "    }\n",
       "\n",
       "    .dataframe tbody tr th {\n",
       "        vertical-align: top;\n",
       "    }\n",
       "\n",
       "    .dataframe thead th {\n",
       "        text-align: right;\n",
       "    }\n",
       "</style>\n",
       "<table border=\"1\" class=\"dataframe\">\n",
       "  <thead>\n",
       "    <tr style=\"text-align: right;\">\n",
       "      <th></th>\n",
       "      <th>Train Predictions</th>\n",
       "      <th>Actuals</th>\n",
       "    </tr>\n",
       "  </thead>\n",
       "  <tbody>\n",
       "    <tr>\n",
       "      <th>0</th>\n",
       "      <td>3.943151</td>\n",
       "      <td>23.166667</td>\n",
       "    </tr>\n",
       "    <tr>\n",
       "      <th>1</th>\n",
       "      <td>3.943151</td>\n",
       "      <td>22.000000</td>\n",
       "    </tr>\n",
       "    <tr>\n",
       "      <th>2</th>\n",
       "      <td>3.943151</td>\n",
       "      <td>21.333333</td>\n",
       "    </tr>\n",
       "    <tr>\n",
       "      <th>3</th>\n",
       "      <td>3.943151</td>\n",
       "      <td>23.333333</td>\n",
       "    </tr>\n",
       "    <tr>\n",
       "      <th>4</th>\n",
       "      <td>3.943151</td>\n",
       "      <td>22.333333</td>\n",
       "    </tr>\n",
       "    <tr>\n",
       "      <th>...</th>\n",
       "      <td>...</td>\n",
       "      <td>...</td>\n",
       "    </tr>\n",
       "    <tr>\n",
       "      <th>356</th>\n",
       "      <td>3.943151</td>\n",
       "      <td>20.500000</td>\n",
       "    </tr>\n",
       "    <tr>\n",
       "      <th>357</th>\n",
       "      <td>3.943151</td>\n",
       "      <td>18.000000</td>\n",
       "    </tr>\n",
       "    <tr>\n",
       "      <th>358</th>\n",
       "      <td>3.943151</td>\n",
       "      <td>16.666667</td>\n",
       "    </tr>\n",
       "    <tr>\n",
       "      <th>359</th>\n",
       "      <td>3.943151</td>\n",
       "      <td>16.666667</td>\n",
       "    </tr>\n",
       "    <tr>\n",
       "      <th>360</th>\n",
       "      <td>3.943151</td>\n",
       "      <td>16.666667</td>\n",
       "    </tr>\n",
       "  </tbody>\n",
       "</table>\n",
       "<p>361 rows × 2 columns</p>\n",
       "</div>"
      ],
      "text/plain": [
       "     Train Predictions    Actuals\n",
       "0             3.943151  23.166667\n",
       "1             3.943151  22.000000\n",
       "2             3.943151  21.333333\n",
       "3             3.943151  23.333333\n",
       "4             3.943151  22.333333\n",
       "..                 ...        ...\n",
       "356           3.943151  20.500000\n",
       "357           3.943151  18.000000\n",
       "358           3.943151  16.666667\n",
       "359           3.943151  16.666667\n",
       "360           3.943151  16.666667\n",
       "\n",
       "[361 rows x 2 columns]"
      ]
     },
     "execution_count": 57,
     "metadata": {},
     "output_type": "execute_result"
    }
   ],
   "source": [
    "test_predictions = model2.predict(X_test1).flatten()\n",
    "test_results = pd.DataFrame(data={'Train Predictions':test_predictions, 'Actuals':y_test1})\n",
    "test_results"
   ]
  },
  {
   "cell_type": "code",
   "execution_count": 58,
   "id": "3839336e",
   "metadata": {
    "execution": {
     "iopub.execute_input": "2025-01-14T20:26:40.799850Z",
     "iopub.status.busy": "2025-01-14T20:26:40.799452Z",
     "iopub.status.idle": "2025-01-14T20:26:41.035132Z",
     "shell.execute_reply": "2025-01-14T20:26:41.034036Z"
    },
    "papermill": {
     "duration": 0.36222,
     "end_time": "2025-01-14T20:26:41.036842",
     "exception": false,
     "start_time": "2025-01-14T20:26:40.674622",
     "status": "completed"
    },
    "tags": []
   },
   "outputs": [
    {
     "data": {
      "image/png": "[encoded data removed]",
      "text/plain": [
       "<Figure size 640x480 with 1 Axes>"
      ]
     },
     "metadata": {},
     "output_type": "display_data"
    }
   ],
   "source": [
    "plt.plot(test_results['Train Predictions'][1:50], label='Predicted')\n",
    "plt.plot(test_results['Actuals'][1:50], label='Actual')\n",
    "plt.legend()\n",
    "plt.show()"
   ]
  },
  {
   "cell_type": "markdown",
   "id": "0e39541a",
   "metadata": {
    "papermill": {
     "duration": 0.125754,
     "end_time": "2025-01-14T20:26:41.292459",
     "exception": false,
     "start_time": "2025-01-14T20:26:41.166705",
     "status": "completed"
    },
    "tags": []
   },
   "source": [
    "# RNN(Smooth)"
   ]
  },
  {
   "cell_type": "code",
   "execution_count": 59,
   "id": "4b9ca24e",
   "metadata": {
    "execution": {
     "iopub.execute_input": "2025-01-14T20:26:41.544559Z",
     "iopub.status.busy": "2025-01-14T20:26:41.544210Z",
     "iopub.status.idle": "2025-01-14T20:26:41.597545Z",
     "shell.execute_reply": "2025-01-14T20:26:41.596390Z"
    },
    "papermill": {
     "duration": 0.182332,
     "end_time": "2025-01-14T20:26:41.599552",
     "exception": false,
     "start_time": "2025-01-14T20:26:41.417220",
     "status": "completed"
    },
    "tags": []
   },
   "outputs": [
    {
     "data": {
      "text/html": [
       "<pre style=\"white-space:pre;overflow-x:auto;line-height:normal;font-family:Menlo,'DejaVu Sans Mono',consolas,'Courier New',monospace\"><span style=\"font-weight: bold\">Model: \"sequential_2\"</span>\n",
       "</pre>\n"
      ],
      "text/plain": [
       "\u001b[1mModel: \"sequential_2\"\u001b[0m\n"
      ]
     },
     "metadata": {},
     "output_type": "display_data"
    },
    {
     "data": {
      "text/html": [
       "<pre style=\"white-space:pre;overflow-x:auto;line-height:normal;font-family:Menlo,'DejaVu Sans Mono',consolas,'Courier New',monospace\">┏━━━━━━━━━━━━━━━━━━━━━━━━━━━━━━━━━━━━━━┳━━━━━━━━━━━━━━━━━━━━━━━━━━━━━┳━━━━━━━━━━━━━━━━━┓\n",
       "┃<span style=\"font-weight: bold\"> Layer (type)                         </span>┃<span style=\"font-weight: bold\"> Output Shape                </span>┃<span style=\"font-weight: bold\">         Param # </span>┃\n",
       "┡━━━━━━━━━━━━━━━━━━━━━━━━━━━━━━━━━━━━━━╇━━━━━━━━━━━━━━━━━━━━━━━━━━━━━╇━━━━━━━━━━━━━━━━━┩\n",
       "│ simple_rnn (<span style=\"color: #0087ff; text-decoration-color: #0087ff\">SimpleRNN</span>)               │ (<span style=\"color: #00d7ff; text-decoration-color: #00d7ff\">None</span>, <span style=\"color: #00af00; text-decoration-color: #00af00\">32</span>)                  │           <span style=\"color: #00af00; text-decoration-color: #00af00\">1,088</span> │\n",
       "├──────────────────────────────────────┼─────────────────────────────┼─────────────────┤\n",
       "│ dense_4 (<span style=\"color: #0087ff; text-decoration-color: #0087ff\">Dense</span>)                      │ (<span style=\"color: #00d7ff; text-decoration-color: #00d7ff\">None</span>, <span style=\"color: #00af00; text-decoration-color: #00af00\">8</span>)                   │             <span style=\"color: #00af00; text-decoration-color: #00af00\">264</span> │\n",
       "├──────────────────────────────────────┼─────────────────────────────┼─────────────────┤\n",
       "│ dense_5 (<span style=\"color: #0087ff; text-decoration-color: #0087ff\">Dense</span>)                      │ (<span style=\"color: #00d7ff; text-decoration-color: #00d7ff\">None</span>, <span style=\"color: #00af00; text-decoration-color: #00af00\">1</span>)                   │               <span style=\"color: #00af00; text-decoration-color: #00af00\">9</span> │\n",
       "└──────────────────────────────────────┴─────────────────────────────┴─────────────────┘\n",
       "</pre>\n"
      ],
      "text/plain": [
       "┏━━━━━━━━━━━━━━━━━━━━━━━━━━━━━━━━━━━━━━┳━━━━━━━━━━━━━━━━━━━━━━━━━━━━━┳━━━━━━━━━━━━━━━━━┓\n",
       "┃\u001b[1m \u001b[0m\u001b[1mLayer (type)                        \u001b[0m\u001b[1m \u001b[0m┃\u001b[1m \u001b[0m\u001b[1mOutput Shape               \u001b[0m\u001b[1m \u001b[0m┃\u001b[1m \u001b[0m\u001b[1m        Param #\u001b[0m\u001b[1m \u001b[0m┃\n",
       "┡━━━━━━━━━━━━━━━━━━━━━━━━━━━━━━━━━━━━━━╇━━━━━━━━━━━━━━━━━━━━━━━━━━━━━╇━━━━━━━━━━━━━━━━━┩\n",
       "│ simple_rnn (\u001b[38;5;33mSimpleRNN\u001b[0m)               │ (\u001b[38;5;45mNone\u001b[0m, \u001b[38;5;34m32\u001b[0m)                  │           \u001b[38;5;34m1,088\u001b[0m │\n",
       "├──────────────────────────────────────┼─────────────────────────────┼─────────────────┤\n",
       "│ dense_4 (\u001b[38;5;33mDense\u001b[0m)                      │ (\u001b[38;5;45mNone\u001b[0m, \u001b[38;5;34m8\u001b[0m)                   │             \u001b[38;5;34m264\u001b[0m │\n",
       "├──────────────────────────────────────┼─────────────────────────────┼─────────────────┤\n",
       "│ dense_5 (\u001b[38;5;33mDense\u001b[0m)                      │ (\u001b[38;5;45mNone\u001b[0m, \u001b[38;5;34m1\u001b[0m)                   │               \u001b[38;5;34m9\u001b[0m │\n",
       "└──────────────────────────────────────┴─────────────────────────────┴─────────────────┘\n"
      ]
     },
     "metadata": {},
     "output_type": "display_data"
    },
    {
     "data": {
      "text/html": [
       "<pre style=\"white-space:pre;overflow-x:auto;line-height:normal;font-family:Menlo,'DejaVu Sans Mono',consolas,'Courier New',monospace\"><span style=\"font-weight: bold\"> Total params: </span><span style=\"color: #00af00; text-decoration-color: #00af00\">1,361</span> (5.32 KB)\n",
       "</pre>\n"
      ],
      "text/plain": [
       "\u001b[1m Total params: \u001b[0m\u001b[38;5;34m1,361\u001b[0m (5.32 KB)\n"
      ]
     },
     "metadata": {},
     "output_type": "display_data"
    },
    {
     "data": {
      "text/html": [
       "<pre style=\"white-space:pre;overflow-x:auto;line-height:normal;font-family:Menlo,'DejaVu Sans Mono',consolas,'Courier New',monospace\"><span style=\"font-weight: bold\"> Trainable params: </span><span style=\"color: #00af00; text-decoration-color: #00af00\">1,361</span> (5.32 KB)\n",
       "</pre>\n"
      ],
      "text/plain": [
       "\u001b[1m Trainable params: \u001b[0m\u001b[38;5;34m1,361\u001b[0m (5.32 KB)\n"
      ]
     },
     "metadata": {},
     "output_type": "display_data"
    },
    {
     "data": {
      "text/html": [
       "<pre style=\"white-space:pre;overflow-x:auto;line-height:normal;font-family:Menlo,'DejaVu Sans Mono',consolas,'Courier New',monospace\"><span style=\"font-weight: bold\"> Non-trainable params: </span><span style=\"color: #00af00; text-decoration-color: #00af00\">0</span> (0.00 B)\n",
       "</pre>\n"
      ],
      "text/plain": [
       "\u001b[1m Non-trainable params: \u001b[0m\u001b[38;5;34m0\u001b[0m (0.00 B)\n"
      ]
     },
     "metadata": {},
     "output_type": "display_data"
    }
   ],
   "source": [
    "model3 = Sequential()\n",
    "model3.add(InputLayer((6, 1)))\n",
    "model3.add(SimpleRNN(32))\n",
    "model3.add(Dense(8, 'relu'))\n",
    "model3.add(Dense(1, 'linear'))\n",
    "model3.summary()"
   ]
  },
  {
   "cell_type": "code",
   "execution_count": 60,
   "id": "85e86903",
   "metadata": {
    "execution": {
     "iopub.execute_input": "2025-01-14T20:26:41.848905Z",
     "iopub.status.busy": "2025-01-14T20:26:41.848503Z",
     "iopub.status.idle": "2025-01-14T20:26:41.859894Z",
     "shell.execute_reply": "2025-01-14T20:26:41.858722Z"
    },
    "papermill": {
     "duration": 0.138808,
     "end_time": "2025-01-14T20:26:41.861923",
     "exception": false,
     "start_time": "2025-01-14T20:26:41.723115",
     "status": "completed"
    },
    "tags": []
   },
   "outputs": [],
   "source": [
    "cp3 = ModelCheckpoint('/kaggle/working/model3.keras', save_best_only=True)\n",
    "model3.compile(loss=MeanSquaredError(), optimizer=Adam(learning_rate=0.0005), \n",
    "               metrics=[RootMeanSquaredError()])"
   ]
  },
  {
   "cell_type": "code",
   "execution_count": 61,
   "id": "5ab60bc1",
   "metadata": {
    "execution": {
     "iopub.execute_input": "2025-01-14T20:26:42.113977Z",
     "iopub.status.busy": "2025-01-14T20:26:42.113562Z",
     "iopub.status.idle": "2025-01-14T20:27:12.245530Z",
     "shell.execute_reply": "2025-01-14T20:27:12.244289Z"
    },
    "papermill": {
     "duration": 30.353103,
     "end_time": "2025-01-14T20:27:12.339389",
     "exception": false,
     "start_time": "2025-01-14T20:26:41.986286",
     "status": "completed"
    },
    "tags": []
   },
   "outputs": [
    {
     "name": "stdout",
     "output_type": "stream",
     "text": [
      "Epoch 1/100\n",
      "\u001b[1m80/80\u001b[0m \u001b[32m━━━━━━━━━━━━━━━━━━━━\u001b[0m\u001b[37m\u001b[0m \u001b[1m2s\u001b[0m 6ms/step - loss: 1323.8478 - root_mean_squared_error: 36.3785 - val_loss: 250.4959 - val_root_mean_squared_error: 15.8271\n",
      "Epoch 2/100\n",
      "\u001b[1m80/80\u001b[0m \u001b[32m━━━━━━━━━━━━━━━━━━━━\u001b[0m\u001b[37m\u001b[0m \u001b[1m0s\u001b[0m 3ms/step - loss: 1046.7661 - root_mean_squared_error: 32.3487 - val_loss: 135.5546 - val_root_mean_squared_error: 11.6428\n",
      "Epoch 3/100\n",
      "\u001b[1m80/80\u001b[0m \u001b[32m━━━━━━━━━━━━━━━━━━━━\u001b[0m\u001b[37m\u001b[0m \u001b[1m0s\u001b[0m 3ms/step - loss: 835.1766 - root_mean_squared_error: 28.8840 - val_loss: 63.8182 - val_root_mean_squared_error: 7.9886\n",
      "Epoch 4/100\n",
      "\u001b[1m80/80\u001b[0m \u001b[32m━━━━━━━━━━━━━━━━━━━━\u001b[0m\u001b[37m\u001b[0m \u001b[1m0s\u001b[0m 3ms/step - loss: 620.1930 - root_mean_squared_error: 24.8988 - val_loss: 32.6956 - val_root_mean_squared_error: 5.7180\n",
      "Epoch 5/100\n",
      "\u001b[1m80/80\u001b[0m \u001b[32m━━━━━━━━━━━━━━━━━━━━\u001b[0m\u001b[37m\u001b[0m \u001b[1m0s\u001b[0m 4ms/step - loss: 480.2794 - root_mean_squared_error: 21.8914 - val_loss: 28.1618 - val_root_mean_squared_error: 5.3068\n",
      "Epoch 6/100\n",
      "\u001b[1m80/80\u001b[0m \u001b[32m━━━━━━━━━━━━━━━━━━━━\u001b[0m\u001b[37m\u001b[0m \u001b[1m0s\u001b[0m 3ms/step - loss: 358.0873 - root_mean_squared_error: 18.9151 - val_loss: 5.4801 - val_root_mean_squared_error: 2.3410\n",
      "Epoch 7/100\n",
      "\u001b[1m80/80\u001b[0m \u001b[32m━━━━━━━━━━━━━━━━━━━━\u001b[0m\u001b[37m\u001b[0m \u001b[1m0s\u001b[0m 3ms/step - loss: 243.7509 - root_mean_squared_error: 15.6062 - val_loss: 3.4105 - val_root_mean_squared_error: 1.8468\n",
      "Epoch 8/100\n",
      "\u001b[1m80/80\u001b[0m \u001b[32m━━━━━━━━━━━━━━━━━━━━\u001b[0m\u001b[37m\u001b[0m \u001b[1m0s\u001b[0m 3ms/step - loss: 193.1163 - root_mean_squared_error: 13.8733 - val_loss: 2.6469 - val_root_mean_squared_error: 1.6269\n",
      "Epoch 9/100\n",
      "\u001b[1m80/80\u001b[0m \u001b[32m━━━━━━━━━━━━━━━━━━━━\u001b[0m\u001b[37m\u001b[0m \u001b[1m0s\u001b[0m 3ms/step - loss: 134.6818 - root_mean_squared_error: 11.5971 - val_loss: 2.1856 - val_root_mean_squared_error: 1.4784\n",
      "Epoch 10/100\n",
      "\u001b[1m80/80\u001b[0m \u001b[32m━━━━━━━━━━━━━━━━━━━━\u001b[0m\u001b[37m\u001b[0m \u001b[1m0s\u001b[0m 3ms/step - loss: 94.2081 - root_mean_squared_error: 9.7000 - val_loss: 2.0189 - val_root_mean_squared_error: 1.4209\n",
      "Epoch 11/100\n",
      "\u001b[1m80/80\u001b[0m \u001b[32m━━━━━━━━━━━━━━━━━━━━\u001b[0m\u001b[37m\u001b[0m \u001b[1m0s\u001b[0m 3ms/step - loss: 73.7501 - root_mean_squared_error: 8.5710 - val_loss: 2.1248 - val_root_mean_squared_error: 1.4577\n",
      "Epoch 12/100\n",
      "\u001b[1m80/80\u001b[0m \u001b[32m━━━━━━━━━━━━━━━━━━━━\u001b[0m\u001b[37m\u001b[0m \u001b[1m0s\u001b[0m 3ms/step - loss: 45.7189 - root_mean_squared_error: 6.7601 - val_loss: 2.3790 - val_root_mean_squared_error: 1.5424\n",
      "Epoch 13/100\n",
      "\u001b[1m80/80\u001b[0m \u001b[32m━━━━━━━━━━━━━━━━━━━━\u001b[0m\u001b[37m\u001b[0m \u001b[1m0s\u001b[0m 3ms/step - loss: 36.2433 - root_mean_squared_error: 6.0068 - val_loss: 2.1704 - val_root_mean_squared_error: 1.4732\n",
      "Epoch 14/100\n",
      "\u001b[1m80/80\u001b[0m \u001b[32m━━━━━━━━━━━━━━━━━━━━\u001b[0m\u001b[37m\u001b[0m \u001b[1m0s\u001b[0m 3ms/step - loss: 25.3216 - root_mean_squared_error: 5.0227 - val_loss: 1.9392 - val_root_mean_squared_error: 1.3925\n",
      "Epoch 15/100\n",
      "\u001b[1m80/80\u001b[0m \u001b[32m━━━━━━━━━━━━━━━━━━━━\u001b[0m\u001b[37m\u001b[0m \u001b[1m0s\u001b[0m 3ms/step - loss: 19.2124 - root_mean_squared_error: 4.3649 - val_loss: 2.0704 - val_root_mean_squared_error: 1.4389\n",
      "Epoch 16/100\n",
      "\u001b[1m80/80\u001b[0m \u001b[32m━━━━━━━━━━━━━━━━━━━━\u001b[0m\u001b[37m\u001b[0m \u001b[1m0s\u001b[0m 3ms/step - loss: 18.7534 - root_mean_squared_error: 4.3114 - val_loss: 2.1261 - val_root_mean_squared_error: 1.4581\n",
      "Epoch 17/100\n",
      "\u001b[1m80/80\u001b[0m \u001b[32m━━━━━━━━━━━━━━━━━━━━\u001b[0m\u001b[37m\u001b[0m \u001b[1m0s\u001b[0m 3ms/step - loss: 17.1336 - root_mean_squared_error: 4.1326 - val_loss: 1.8638 - val_root_mean_squared_error: 1.3652\n",
      "Epoch 18/100\n",
      "\u001b[1m80/80\u001b[0m \u001b[32m━━━━━━━━━━━━━━━━━━━━\u001b[0m\u001b[37m\u001b[0m \u001b[1m0s\u001b[0m 3ms/step - loss: 18.2788 - root_mean_squared_error: 4.2560 - val_loss: 2.2329 - val_root_mean_squared_error: 1.4943\n",
      "Epoch 19/100\n",
      "\u001b[1m80/80\u001b[0m \u001b[32m━━━━━━━━━━━━━━━━━━━━\u001b[0m\u001b[37m\u001b[0m \u001b[1m0s\u001b[0m 3ms/step - loss: 13.3830 - root_mean_squared_error: 3.6451 - val_loss: 1.9739 - val_root_mean_squared_error: 1.4050\n",
      "Epoch 20/100\n",
      "\u001b[1m80/80\u001b[0m \u001b[32m━━━━━━━━━━━━━━━━━━━━\u001b[0m\u001b[37m\u001b[0m \u001b[1m0s\u001b[0m 3ms/step - loss: 10.8454 - root_mean_squared_error: 3.2645 - val_loss: 1.9019 - val_root_mean_squared_error: 1.3791\n",
      "Epoch 21/100\n",
      "\u001b[1m80/80\u001b[0m \u001b[32m━━━━━━━━━━━━━━━━━━━━\u001b[0m\u001b[37m\u001b[0m \u001b[1m0s\u001b[0m 3ms/step - loss: 10.7462 - root_mean_squared_error: 3.2606 - val_loss: 1.9524 - val_root_mean_squared_error: 1.3973\n",
      "Epoch 22/100\n",
      "\u001b[1m80/80\u001b[0m \u001b[32m━━━━━━━━━━━━━━━━━━━━\u001b[0m\u001b[37m\u001b[0m \u001b[1m0s\u001b[0m 3ms/step - loss: 14.1843 - root_mean_squared_error: 3.7388 - val_loss: 1.8506 - val_root_mean_squared_error: 1.3604\n",
      "Epoch 23/100\n",
      "\u001b[1m80/80\u001b[0m \u001b[32m━━━━━━━━━━━━━━━━━━━━\u001b[0m\u001b[37m\u001b[0m \u001b[1m0s\u001b[0m 3ms/step - loss: 15.5031 - root_mean_squared_error: 3.9023 - val_loss: 1.9033 - val_root_mean_squared_error: 1.3796\n",
      "Epoch 24/100\n",
      "\u001b[1m80/80\u001b[0m \u001b[32m━━━━━━━━━━━━━━━━━━━━\u001b[0m\u001b[37m\u001b[0m \u001b[1m0s\u001b[0m 4ms/step - loss: 13.2538 - root_mean_squared_error: 3.6183 - val_loss: 1.8348 - val_root_mean_squared_error: 1.3545\n",
      "Epoch 25/100\n",
      "\u001b[1m80/80\u001b[0m \u001b[32m━━━━━━━━━━━━━━━━━━━━\u001b[0m\u001b[37m\u001b[0m \u001b[1m0s\u001b[0m 3ms/step - loss: 10.8193 - root_mean_squared_error: 3.2721 - val_loss: 1.8292 - val_root_mean_squared_error: 1.3525\n",
      "Epoch 26/100\n",
      "\u001b[1m80/80\u001b[0m \u001b[32m━━━━━━━━━━━━━━━━━━━━\u001b[0m\u001b[37m\u001b[0m \u001b[1m0s\u001b[0m 3ms/step - loss: 13.8072 - root_mean_squared_error: 3.6919 - val_loss: 1.9645 - val_root_mean_squared_error: 1.4016\n",
      "Epoch 27/100\n",
      "\u001b[1m80/80\u001b[0m \u001b[32m━━━━━━━━━━━━━━━━━━━━\u001b[0m\u001b[37m\u001b[0m \u001b[1m0s\u001b[0m 3ms/step - loss: 6.9703 - root_mean_squared_error: 2.6025 - val_loss: 1.9846 - val_root_mean_squared_error: 1.4087\n",
      "Epoch 28/100\n",
      "\u001b[1m80/80\u001b[0m \u001b[32m━━━━━━━━━━━━━━━━━━━━\u001b[0m\u001b[37m\u001b[0m \u001b[1m0s\u001b[0m 3ms/step - loss: 9.0650 - root_mean_squared_error: 2.9884 - val_loss: 1.8042 - val_root_mean_squared_error: 1.3432\n",
      "Epoch 29/100\n",
      "\u001b[1m80/80\u001b[0m \u001b[32m━━━━━━━━━━━━━━━━━━━━\u001b[0m\u001b[37m\u001b[0m \u001b[1m0s\u001b[0m 3ms/step - loss: 12.2783 - root_mean_squared_error: 3.3986 - val_loss: 1.8334 - val_root_mean_squared_error: 1.3540\n",
      "Epoch 30/100\n",
      "\u001b[1m80/80\u001b[0m \u001b[32m━━━━━━━━━━━━━━━━━━━━\u001b[0m\u001b[37m\u001b[0m \u001b[1m0s\u001b[0m 3ms/step - loss: 7.4997 - root_mean_squared_error: 2.7233 - val_loss: 1.7966 - val_root_mean_squared_error: 1.3404\n",
      "Epoch 31/100\n",
      "\u001b[1m80/80\u001b[0m \u001b[32m━━━━━━━━━━━━━━━━━━━━\u001b[0m\u001b[37m\u001b[0m \u001b[1m0s\u001b[0m 3ms/step - loss: 7.5806 - root_mean_squared_error: 2.7317 - val_loss: 1.8975 - val_root_mean_squared_error: 1.3775\n",
      "Epoch 32/100\n",
      "\u001b[1m80/80\u001b[0m \u001b[32m━━━━━━━━━━━━━━━━━━━━\u001b[0m\u001b[37m\u001b[0m \u001b[1m0s\u001b[0m 3ms/step - loss: 8.3287 - root_mean_squared_error: 2.8548 - val_loss: 1.7996 - val_root_mean_squared_error: 1.3415\n",
      "Epoch 33/100\n",
      "\u001b[1m80/80\u001b[0m \u001b[32m━━━━━━━━━━━━━━━━━━━━\u001b[0m\u001b[37m\u001b[0m \u001b[1m0s\u001b[0m 3ms/step - loss: 10.7780 - root_mean_squared_error: 3.2540 - val_loss: 2.0178 - val_root_mean_squared_error: 1.4205\n",
      "Epoch 34/100\n",
      "\u001b[1m80/80\u001b[0m \u001b[32m━━━━━━━━━━━━━━━━━━━━\u001b[0m\u001b[37m\u001b[0m \u001b[1m0s\u001b[0m 3ms/step - loss: 8.8607 - root_mean_squared_error: 2.9590 - val_loss: 1.8776 - val_root_mean_squared_error: 1.3702\n",
      "Epoch 35/100\n",
      "\u001b[1m80/80\u001b[0m \u001b[32m━━━━━━━━━━━━━━━━━━━━\u001b[0m\u001b[37m\u001b[0m \u001b[1m0s\u001b[0m 3ms/step - loss: 8.8975 - root_mean_squared_error: 2.9468 - val_loss: 1.8095 - val_root_mean_squared_error: 1.3452\n",
      "Epoch 36/100\n",
      "\u001b[1m80/80\u001b[0m \u001b[32m━━━━━━━━━━━━━━━━━━━━\u001b[0m\u001b[37m\u001b[0m \u001b[1m0s\u001b[0m 3ms/step - loss: 8.2871 - root_mean_squared_error: 2.8583 - val_loss: 2.0921 - val_root_mean_squared_error: 1.4464\n",
      "Epoch 37/100\n",
      "\u001b[1m80/80\u001b[0m \u001b[32m━━━━━━━━━━━━━━━━━━━━\u001b[0m\u001b[37m\u001b[0m \u001b[1m0s\u001b[0m 3ms/step - loss: 8.0787 - root_mean_squared_error: 2.8269 - val_loss: 1.8097 - val_root_mean_squared_error: 1.3452\n",
      "Epoch 38/100\n",
      "\u001b[1m80/80\u001b[0m \u001b[32m━━━━━━━━━━━━━━━━━━━━\u001b[0m\u001b[37m\u001b[0m \u001b[1m0s\u001b[0m 3ms/step - loss: 8.3188 - root_mean_squared_error: 2.8618 - val_loss: 1.8382 - val_root_mean_squared_error: 1.3558\n",
      "Epoch 39/100\n",
      "\u001b[1m80/80\u001b[0m \u001b[32m━━━━━━━━━━━━━━━━━━━━\u001b[0m\u001b[37m\u001b[0m \u001b[1m0s\u001b[0m 3ms/step - loss: 10.2627 - root_mean_squared_error: 3.1616 - val_loss: 1.8372 - val_root_mean_squared_error: 1.3554\n",
      "Epoch 40/100\n",
      "\u001b[1m80/80\u001b[0m \u001b[32m━━━━━━━━━━━━━━━━━━━━\u001b[0m\u001b[37m\u001b[0m \u001b[1m0s\u001b[0m 3ms/step - loss: 7.9074 - root_mean_squared_error: 2.7949 - val_loss: 1.8373 - val_root_mean_squared_error: 1.3555\n",
      "Epoch 41/100\n",
      "\u001b[1m80/80\u001b[0m \u001b[32m━━━━━━━━━━━━━━━━━━━━\u001b[0m\u001b[37m\u001b[0m \u001b[1m0s\u001b[0m 4ms/step - loss: 7.7643 - root_mean_squared_error: 2.7737 - val_loss: 1.7877 - val_root_mean_squared_error: 1.3370\n",
      "Epoch 42/100\n",
      "\u001b[1m80/80\u001b[0m \u001b[32m━━━━━━━━━━━━━━━━━━━━\u001b[0m\u001b[37m\u001b[0m \u001b[1m0s\u001b[0m 3ms/step - loss: 7.6874 - root_mean_squared_error: 2.7470 - val_loss: 1.8589 - val_root_mean_squared_error: 1.3634\n",
      "Epoch 43/100\n",
      "\u001b[1m80/80\u001b[0m \u001b[32m━━━━━━━━━━━━━━━━━━━━\u001b[0m\u001b[37m\u001b[0m \u001b[1m0s\u001b[0m 3ms/step - loss: 5.9963 - root_mean_squared_error: 2.4390 - val_loss: 2.0115 - val_root_mean_squared_error: 1.4183\n",
      "Epoch 44/100\n",
      "\u001b[1m80/80\u001b[0m \u001b[32m━━━━━━━━━━━━━━━━━━━━\u001b[0m\u001b[37m\u001b[0m \u001b[1m0s\u001b[0m 3ms/step - loss: 7.9958 - root_mean_squared_error: 2.8170 - val_loss: 1.8780 - val_root_mean_squared_error: 1.3704\n",
      "Epoch 45/100\n",
      "\u001b[1m80/80\u001b[0m \u001b[32m━━━━━━━━━━━━━━━━━━━━\u001b[0m\u001b[37m\u001b[0m \u001b[1m0s\u001b[0m 3ms/step - loss: 6.2905 - root_mean_squared_error: 2.4955 - val_loss: 1.8737 - val_root_mean_squared_error: 1.3688\n",
      "Epoch 46/100\n",
      "\u001b[1m80/80\u001b[0m \u001b[32m━━━━━━━━━━━━━━━━━━━━\u001b[0m\u001b[37m\u001b[0m \u001b[1m0s\u001b[0m 3ms/step - loss: 6.7099 - root_mean_squared_error: 2.5828 - val_loss: 2.0037 - val_root_mean_squared_error: 1.4155\n",
      "Epoch 47/100\n",
      "\u001b[1m80/80\u001b[0m \u001b[32m━━━━━━━━━━━━━━━━━━━━\u001b[0m\u001b[37m\u001b[0m \u001b[1m0s\u001b[0m 3ms/step - loss: 6.6750 - root_mean_squared_error: 2.5480 - val_loss: 1.9815 - val_root_mean_squared_error: 1.4077\n",
      "Epoch 48/100\n",
      "\u001b[1m80/80\u001b[0m \u001b[32m━━━━━━━━━━━━━━━━━━━━\u001b[0m\u001b[37m\u001b[0m \u001b[1m0s\u001b[0m 3ms/step - loss: 7.5339 - root_mean_squared_error: 2.7364 - val_loss: 1.8043 - val_root_mean_squared_error: 1.3432\n",
      "Epoch 49/100\n",
      "\u001b[1m80/80\u001b[0m \u001b[32m━━━━━━━━━━━━━━━━━━━━\u001b[0m\u001b[37m\u001b[0m \u001b[1m0s\u001b[0m 3ms/step - loss: 6.8121 - root_mean_squared_error: 2.5996 - val_loss: 1.8064 - val_root_mean_squared_error: 1.3440\n",
      "Epoch 50/100\n",
      "\u001b[1m80/80\u001b[0m \u001b[32m━━━━━━━━━━━━━━━━━━━━\u001b[0m\u001b[37m\u001b[0m \u001b[1m0s\u001b[0m 3ms/step - loss: 5.5917 - root_mean_squared_error: 2.3518 - val_loss: 2.0813 - val_root_mean_squared_error: 1.4427\n",
      "Epoch 51/100\n",
      "\u001b[1m80/80\u001b[0m \u001b[32m━━━━━━━━━━━━━━━━━━━━\u001b[0m\u001b[37m\u001b[0m \u001b[1m0s\u001b[0m 3ms/step - loss: 6.0754 - root_mean_squared_error: 2.4533 - val_loss: 1.7447 - val_root_mean_squared_error: 1.3209\n",
      "Epoch 52/100\n",
      "\u001b[1m80/80\u001b[0m \u001b[32m━━━━━━━━━━━━━━━━━━━━\u001b[0m\u001b[37m\u001b[0m \u001b[1m0s\u001b[0m 3ms/step - loss: 6.3729 - root_mean_squared_error: 2.5094 - val_loss: 1.8098 - val_root_mean_squared_error: 1.3453\n",
      "Epoch 53/100\n",
      "\u001b[1m80/80\u001b[0m \u001b[32m━━━━━━━━━━━━━━━━━━━━\u001b[0m\u001b[37m\u001b[0m \u001b[1m0s\u001b[0m 3ms/step - loss: 7.6065 - root_mean_squared_error: 2.6906 - val_loss: 2.3409 - val_root_mean_squared_error: 1.5300\n",
      "Epoch 54/100\n",
      "\u001b[1m80/80\u001b[0m \u001b[32m━━━━━━━━━━━━━━━━━━━━\u001b[0m\u001b[37m\u001b[0m \u001b[1m0s\u001b[0m 3ms/step - loss: 5.6174 - root_mean_squared_error: 2.3660 - val_loss: 1.8065 - val_root_mean_squared_error: 1.3441\n",
      "Epoch 55/100\n",
      "\u001b[1m80/80\u001b[0m \u001b[32m━━━━━━━━━━━━━━━━━━━━\u001b[0m\u001b[37m\u001b[0m \u001b[1m0s\u001b[0m 3ms/step - loss: 4.9791 - root_mean_squared_error: 2.2251 - val_loss: 2.0658 - val_root_mean_squared_error: 1.4373\n",
      "Epoch 56/100\n",
      "\u001b[1m80/80\u001b[0m \u001b[32m━━━━━━━━━━━━━━━━━━━━\u001b[0m\u001b[37m\u001b[0m \u001b[1m0s\u001b[0m 4ms/step - loss: 6.3441 - root_mean_squared_error: 2.5079 - val_loss: 1.7576 - val_root_mean_squared_error: 1.3257\n",
      "Epoch 57/100\n",
      "\u001b[1m80/80\u001b[0m \u001b[32m━━━━━━━━━━━━━━━━━━━━\u001b[0m\u001b[37m\u001b[0m \u001b[1m0s\u001b[0m 4ms/step - loss: 4.5951 - root_mean_squared_error: 2.1281 - val_loss: 1.8082 - val_root_mean_squared_error: 1.3447\n",
      "Epoch 58/100\n",
      "\u001b[1m80/80\u001b[0m \u001b[32m━━━━━━━━━━━━━━━━━━━━\u001b[0m\u001b[37m\u001b[0m \u001b[1m0s\u001b[0m 3ms/step - loss: 4.6365 - root_mean_squared_error: 2.1355 - val_loss: 1.8757 - val_root_mean_squared_error: 1.3696\n",
      "Epoch 59/100\n",
      "\u001b[1m80/80\u001b[0m \u001b[32m━━━━━━━━━━━━━━━━━━━━\u001b[0m\u001b[37m\u001b[0m \u001b[1m0s\u001b[0m 3ms/step - loss: 5.0686 - root_mean_squared_error: 2.2360 - val_loss: 2.1492 - val_root_mean_squared_error: 1.4660\n",
      "Epoch 60/100\n",
      "\u001b[1m80/80\u001b[0m \u001b[32m━━━━━━━━━━━━━━━━━━━━\u001b[0m\u001b[37m\u001b[0m \u001b[1m0s\u001b[0m 3ms/step - loss: 5.2082 - root_mean_squared_error: 2.2773 - val_loss: 1.7670 - val_root_mean_squared_error: 1.3293\n",
      "Epoch 61/100\n",
      "\u001b[1m80/80\u001b[0m \u001b[32m━━━━━━━━━━━━━━━━━━━━\u001b[0m\u001b[37m\u001b[0m \u001b[1m0s\u001b[0m 3ms/step - loss: 6.0850 - root_mean_squared_error: 2.4573 - val_loss: 1.8128 - val_root_mean_squared_error: 1.3464\n",
      "Epoch 62/100\n",
      "\u001b[1m80/80\u001b[0m \u001b[32m━━━━━━━━━━━━━━━━━━━━\u001b[0m\u001b[37m\u001b[0m \u001b[1m0s\u001b[0m 3ms/step - loss: 6.6649 - root_mean_squared_error: 2.5409 - val_loss: 1.8128 - val_root_mean_squared_error: 1.3464\n",
      "Epoch 63/100\n",
      "\u001b[1m80/80\u001b[0m \u001b[32m━━━━━━━━━━━━━━━━━━━━\u001b[0m\u001b[37m\u001b[0m \u001b[1m0s\u001b[0m 3ms/step - loss: 4.5685 - root_mean_squared_error: 2.1309 - val_loss: 1.8083 - val_root_mean_squared_error: 1.3447\n",
      "Epoch 64/100\n",
      "\u001b[1m80/80\u001b[0m \u001b[32m━━━━━━━━━━━━━━━━━━━━\u001b[0m\u001b[37m\u001b[0m \u001b[1m0s\u001b[0m 3ms/step - loss: 5.2549 - root_mean_squared_error: 2.2862 - val_loss: 2.1971 - val_root_mean_squared_error: 1.4823\n",
      "Epoch 65/100\n",
      "\u001b[1m80/80\u001b[0m \u001b[32m━━━━━━━━━━━━━━━━━━━━\u001b[0m\u001b[37m\u001b[0m \u001b[1m0s\u001b[0m 3ms/step - loss: 4.1537 - root_mean_squared_error: 2.0273 - val_loss: 1.8150 - val_root_mean_squared_error: 1.3472\n",
      "Epoch 66/100\n",
      "\u001b[1m80/80\u001b[0m \u001b[32m━━━━━━━━━━━━━━━━━━━━\u001b[0m\u001b[37m\u001b[0m \u001b[1m0s\u001b[0m 3ms/step - loss: 4.8272 - root_mean_squared_error: 2.1840 - val_loss: 1.8067 - val_root_mean_squared_error: 1.3441\n",
      "Epoch 67/100\n",
      "\u001b[1m80/80\u001b[0m \u001b[32m━━━━━━━━━━━━━━━━━━━━\u001b[0m\u001b[37m\u001b[0m \u001b[1m0s\u001b[0m 3ms/step - loss: 4.9458 - root_mean_squared_error: 2.2221 - val_loss: 1.8435 - val_root_mean_squared_error: 1.3577\n",
      "Epoch 68/100\n",
      "\u001b[1m80/80\u001b[0m \u001b[32m━━━━━━━━━━━━━━━━━━━━\u001b[0m\u001b[37m\u001b[0m \u001b[1m0s\u001b[0m 3ms/step - loss: 4.2529 - root_mean_squared_error: 2.0493 - val_loss: 1.8967 - val_root_mean_squared_error: 1.3772\n",
      "Epoch 69/100\n",
      "\u001b[1m80/80\u001b[0m \u001b[32m━━━━━━━━━━━━━━━━━━━━\u001b[0m\u001b[37m\u001b[0m \u001b[1m0s\u001b[0m 3ms/step - loss: 5.2945 - root_mean_squared_error: 2.2959 - val_loss: 1.9353 - val_root_mean_squared_error: 1.3912\n",
      "Epoch 70/100\n",
      "\u001b[1m80/80\u001b[0m \u001b[32m━━━━━━━━━━━━━━━━━━━━\u001b[0m\u001b[37m\u001b[0m \u001b[1m0s\u001b[0m 3ms/step - loss: 5.8806 - root_mean_squared_error: 2.3967 - val_loss: 1.8067 - val_root_mean_squared_error: 1.3441\n",
      "Epoch 71/100\n",
      "\u001b[1m80/80\u001b[0m \u001b[32m━━━━━━━━━━━━━━━━━━━━\u001b[0m\u001b[37m\u001b[0m \u001b[1m0s\u001b[0m 3ms/step - loss: 4.5372 - root_mean_squared_error: 2.1264 - val_loss: 1.9515 - val_root_mean_squared_error: 1.3970\n",
      "Epoch 72/100\n",
      "\u001b[1m80/80\u001b[0m \u001b[32m━━━━━━━━━━━━━━━━━━━━\u001b[0m\u001b[37m\u001b[0m \u001b[1m0s\u001b[0m 3ms/step - loss: 4.6665 - root_mean_squared_error: 2.1570 - val_loss: 1.7976 - val_root_mean_squared_error: 1.3408\n",
      "Epoch 73/100\n",
      "\u001b[1m80/80\u001b[0m \u001b[32m━━━━━━━━━━━━━━━━━━━━\u001b[0m\u001b[37m\u001b[0m \u001b[1m0s\u001b[0m 3ms/step - loss: 4.7973 - root_mean_squared_error: 2.1872 - val_loss: 2.0255 - val_root_mean_squared_error: 1.4232\n",
      "Epoch 74/100\n",
      "\u001b[1m80/80\u001b[0m \u001b[32m━━━━━━━━━━━━━━━━━━━━\u001b[0m\u001b[37m\u001b[0m \u001b[1m0s\u001b[0m 3ms/step - loss: 4.8036 - root_mean_squared_error: 2.1884 - val_loss: 1.7607 - val_root_mean_squared_error: 1.3269\n",
      "Epoch 75/100\n",
      "\u001b[1m80/80\u001b[0m \u001b[32m━━━━━━━━━━━━━━━━━━━━\u001b[0m\u001b[37m\u001b[0m \u001b[1m0s\u001b[0m 3ms/step - loss: 4.8328 - root_mean_squared_error: 2.1965 - val_loss: 1.7707 - val_root_mean_squared_error: 1.3307\n",
      "Epoch 76/100\n",
      "\u001b[1m80/80\u001b[0m \u001b[32m━━━━━━━━━━━━━━━━━━━━\u001b[0m\u001b[37m\u001b[0m \u001b[1m0s\u001b[0m 4ms/step - loss: 4.5142 - root_mean_squared_error: 2.1210 - val_loss: 1.8600 - val_root_mean_squared_error: 1.3638\n",
      "Epoch 77/100\n",
      "\u001b[1m80/80\u001b[0m \u001b[32m━━━━━━━━━━━━━━━━━━━━\u001b[0m\u001b[37m\u001b[0m \u001b[1m0s\u001b[0m 3ms/step - loss: 4.2673 - root_mean_squared_error: 2.0612 - val_loss: 1.9927 - val_root_mean_squared_error: 1.4116\n",
      "Epoch 78/100\n",
      "\u001b[1m80/80\u001b[0m \u001b[32m━━━━━━━━━━━━━━━━━━━━\u001b[0m\u001b[37m\u001b[0m \u001b[1m0s\u001b[0m 3ms/step - loss: 3.9630 - root_mean_squared_error: 1.9881 - val_loss: 1.8617 - val_root_mean_squared_error: 1.3645\n",
      "Epoch 79/100\n",
      "\u001b[1m80/80\u001b[0m \u001b[32m━━━━━━━━━━━━━━━━━━━━\u001b[0m\u001b[37m\u001b[0m \u001b[1m0s\u001b[0m 3ms/step - loss: 4.5467 - root_mean_squared_error: 2.1259 - val_loss: 1.8324 - val_root_mean_squared_error: 1.3537\n",
      "Epoch 80/100\n",
      "\u001b[1m80/80\u001b[0m \u001b[32m━━━━━━━━━━━━━━━━━━━━\u001b[0m\u001b[37m\u001b[0m \u001b[1m0s\u001b[0m 3ms/step - loss: 4.7327 - root_mean_squared_error: 2.1727 - val_loss: 2.0286 - val_root_mean_squared_error: 1.4243\n",
      "Epoch 81/100\n",
      "\u001b[1m80/80\u001b[0m \u001b[32m━━━━━━━━━━━━━━━━━━━━\u001b[0m\u001b[37m\u001b[0m \u001b[1m0s\u001b[0m 3ms/step - loss: 4.0957 - root_mean_squared_error: 2.0207 - val_loss: 1.7880 - val_root_mean_squared_error: 1.3372\n",
      "Epoch 82/100\n",
      "\u001b[1m80/80\u001b[0m \u001b[32m━━━━━━━━━━━━━━━━━━━━\u001b[0m\u001b[37m\u001b[0m \u001b[1m0s\u001b[0m 3ms/step - loss: 4.4835 - root_mean_squared_error: 2.1147 - val_loss: 2.3082 - val_root_mean_squared_error: 1.5193\n",
      "Epoch 83/100\n",
      "\u001b[1m80/80\u001b[0m \u001b[32m━━━━━━━━━━━━━━━━━━━━\u001b[0m\u001b[37m\u001b[0m \u001b[1m0s\u001b[0m 3ms/step - loss: 4.7197 - root_mean_squared_error: 2.1666 - val_loss: 1.8993 - val_root_mean_squared_error: 1.3781\n",
      "Epoch 84/100\n",
      "\u001b[1m80/80\u001b[0m \u001b[32m━━━━━━━━━━━━━━━━━━━━\u001b[0m\u001b[37m\u001b[0m \u001b[1m0s\u001b[0m 3ms/step - loss: 3.9817 - root_mean_squared_error: 1.9925 - val_loss: 1.7844 - val_root_mean_squared_error: 1.3358\n",
      "Epoch 85/100\n",
      "\u001b[1m80/80\u001b[0m \u001b[32m━━━━━━━━━━━━━━━━━━━━\u001b[0m\u001b[37m\u001b[0m \u001b[1m0s\u001b[0m 3ms/step - loss: 3.7728 - root_mean_squared_error: 1.9408 - val_loss: 1.9235 - val_root_mean_squared_error: 1.3869\n",
      "Epoch 86/100\n",
      "\u001b[1m80/80\u001b[0m \u001b[32m━━━━━━━━━━━━━━━━━━━━\u001b[0m\u001b[37m\u001b[0m \u001b[1m0s\u001b[0m 3ms/step - loss: 4.2530 - root_mean_squared_error: 2.0600 - val_loss: 1.7920 - val_root_mean_squared_error: 1.3387\n",
      "Epoch 87/100\n",
      "\u001b[1m80/80\u001b[0m \u001b[32m━━━━━━━━━━━━━━━━━━━━\u001b[0m\u001b[37m\u001b[0m \u001b[1m0s\u001b[0m 3ms/step - loss: 4.2940 - root_mean_squared_error: 2.0709 - val_loss: 1.9099 - val_root_mean_squared_error: 1.3820\n",
      "Epoch 88/100\n",
      "\u001b[1m80/80\u001b[0m \u001b[32m━━━━━━━━━━━━━━━━━━━━\u001b[0m\u001b[37m\u001b[0m \u001b[1m0s\u001b[0m 3ms/step - loss: 4.4126 - root_mean_squared_error: 2.0980 - val_loss: 1.9042 - val_root_mean_squared_error: 1.3799\n",
      "Epoch 89/100\n",
      "\u001b[1m80/80\u001b[0m \u001b[32m━━━━━━━━━━━━━━━━━━━━\u001b[0m\u001b[37m\u001b[0m \u001b[1m0s\u001b[0m 3ms/step - loss: 4.2897 - root_mean_squared_error: 2.0698 - val_loss: 1.7615 - val_root_mean_squared_error: 1.3272\n",
      "Epoch 90/100\n",
      "\u001b[1m80/80\u001b[0m \u001b[32m━━━━━━━━━━━━━━━━━━━━\u001b[0m\u001b[37m\u001b[0m \u001b[1m0s\u001b[0m 3ms/step - loss: 4.1811 - root_mean_squared_error: 2.0425 - val_loss: 2.1329 - val_root_mean_squared_error: 1.4605\n",
      "Epoch 91/100\n",
      "\u001b[1m80/80\u001b[0m \u001b[32m━━━━━━━━━━━━━━━━━━━━\u001b[0m\u001b[37m\u001b[0m \u001b[1m0s\u001b[0m 3ms/step - loss: 5.0952 - root_mean_squared_error: 2.2466 - val_loss: 1.8146 - val_root_mean_squared_error: 1.3471\n",
      "Epoch 92/100\n",
      "\u001b[1m80/80\u001b[0m \u001b[32m━━━━━━━━━━━━━━━━━━━━\u001b[0m\u001b[37m\u001b[0m \u001b[1m0s\u001b[0m 3ms/step - loss: 4.4584 - root_mean_squared_error: 2.1108 - val_loss: 1.9062 - val_root_mean_squared_error: 1.3807\n",
      "Epoch 93/100\n",
      "\u001b[1m80/80\u001b[0m \u001b[32m━━━━━━━━━━━━━━━━━━━━\u001b[0m\u001b[37m\u001b[0m \u001b[1m0s\u001b[0m 3ms/step - loss: 4.1691 - root_mean_squared_error: 2.0404 - val_loss: 1.8404 - val_root_mean_squared_error: 1.3566\n",
      "Epoch 94/100\n",
      "\u001b[1m80/80\u001b[0m \u001b[32m━━━━━━━━━━━━━━━━━━━━\u001b[0m\u001b[37m\u001b[0m \u001b[1m0s\u001b[0m 3ms/step - loss: 4.2020 - root_mean_squared_error: 2.0481 - val_loss: 1.8908 - val_root_mean_squared_error: 1.3751\n",
      "Epoch 95/100\n",
      "\u001b[1m80/80\u001b[0m \u001b[32m━━━━━━━━━━━━━━━━━━━━\u001b[0m\u001b[37m\u001b[0m \u001b[1m0s\u001b[0m 3ms/step - loss: 4.1212 - root_mean_squared_error: 2.0290 - val_loss: 1.7706 - val_root_mean_squared_error: 1.3306\n",
      "Epoch 96/100\n",
      "\u001b[1m80/80\u001b[0m \u001b[32m━━━━━━━━━━━━━━━━━━━━\u001b[0m\u001b[37m\u001b[0m \u001b[1m0s\u001b[0m 3ms/step - loss: 4.2662 - root_mean_squared_error: 2.0647 - val_loss: 1.8487 - val_root_mean_squared_error: 1.3597\n",
      "Epoch 97/100\n",
      "\u001b[1m80/80\u001b[0m \u001b[32m━━━━━━━━━━━━━━━━━━━━\u001b[0m\u001b[37m\u001b[0m \u001b[1m0s\u001b[0m 3ms/step - loss: 4.1284 - root_mean_squared_error: 2.0273 - val_loss: 2.4265 - val_root_mean_squared_error: 1.5577\n",
      "Epoch 98/100\n",
      "\u001b[1m80/80\u001b[0m \u001b[32m━━━━━━━━━━━━━━━━━━━━\u001b[0m\u001b[37m\u001b[0m \u001b[1m0s\u001b[0m 3ms/step - loss: 4.5909 - root_mean_squared_error: 2.1368 - val_loss: 1.8026 - val_root_mean_squared_error: 1.3426\n",
      "Epoch 99/100\n",
      "\u001b[1m80/80\u001b[0m \u001b[32m━━━━━━━━━━━━━━━━━━━━\u001b[0m\u001b[37m\u001b[0m \u001b[1m0s\u001b[0m 3ms/step - loss: 4.0378 - root_mean_squared_error: 2.0057 - val_loss: 1.8532 - val_root_mean_squared_error: 1.3613\n",
      "Epoch 100/100\n",
      "\u001b[1m80/80\u001b[0m \u001b[32m━━━━━━━━━━━━━━━━━━━━\u001b[0m\u001b[37m\u001b[0m \u001b[1m0s\u001b[0m 3ms/step - loss: 4.4356 - root_mean_squared_error: 2.1004 - val_loss: 1.8148 - val_root_mean_squared_error: 1.3471\n"
     ]
    },
    {
     "data": {
      "text/plain": [
       "<keras.src.callbacks.history.History at 0x7fa6843b78b0>"
      ]
     },
     "execution_count": 61,
     "metadata": {},
     "output_type": "execute_result"
    }
   ],
   "source": [
    "model3.fit(X_train1, y_train1, validation_data=(X_val1, y_val1), \n",
    "           epochs=100, callbacks=[cp3])"
   ]
  },
  {
   "cell_type": "code",
   "execution_count": 62,
   "id": "30d5bb2e",
   "metadata": {
    "execution": {
     "iopub.execute_input": "2025-01-14T20:27:12.725587Z",
     "iopub.status.busy": "2025-01-14T20:27:12.725217Z",
     "iopub.status.idle": "2025-01-14T20:27:12.824463Z",
     "shell.execute_reply": "2025-01-14T20:27:12.823480Z"
    },
    "papermill": {
     "duration": 0.265375,
     "end_time": "2025-01-14T20:27:12.826559",
     "exception": false,
     "start_time": "2025-01-14T20:27:12.561184",
     "status": "completed"
    },
    "tags": []
   },
   "outputs": [],
   "source": [
    "from tensorflow.keras.models import load_model\n",
    "model3 = load_model('/kaggle/working/model3.keras')"
   ]
  },
  {
   "cell_type": "code",
   "execution_count": 63,
   "id": "d250bae9",
   "metadata": {
    "execution": {
     "iopub.execute_input": "2025-01-14T20:27:13.151735Z",
     "iopub.status.busy": "2025-01-14T20:27:13.151226Z",
     "iopub.status.idle": "2025-01-14T20:27:13.624777Z",
     "shell.execute_reply": "2025-01-14T20:27:13.623376Z"
    },
    "papermill": {
     "duration": 0.63837,
     "end_time": "2025-01-14T20:27:13.626558",
     "exception": false,
     "start_time": "2025-01-14T20:27:12.988188",
     "status": "completed"
    },
    "tags": []
   },
   "outputs": [
    {
     "name": "stdout",
     "output_type": "stream",
     "text": [
      "\u001b[1m80/80\u001b[0m \u001b[32m━━━━━━━━━━━━━━━━━━━━\u001b[0m\u001b[37m\u001b[0m \u001b[1m0s\u001b[0m 3ms/step\n",
      "Evaluation Metrics:\n",
      "Mean Absolute Error (MAE): 1.3457\n",
      "Mean Squared Error (MSE): 6.2344\n",
      "Root Mean Squared Error (RMSE): 2.4969\n",
      "R-squared (Accuracy): 0.9740\n"
     ]
    }
   ],
   "source": [
    "# Evaluate the model on the train data\n",
    "train_result = model3.predict(X_train1)\n",
    "\n",
    "# Calculate metrics\n",
    "mse = mean_squared_error(y_train1, train_result)\n",
    "rmse = np.sqrt(mse)\n",
    "mae = mean_absolute_error(y_train1, train_result)\n",
    "r2 = r2_score(y_train1, train_result)\n",
    "\n",
    "# Print the results\n",
    "print(\"Evaluation Metrics:\")\n",
    "print(f\"Mean Absolute Error (MAE): {mae:.4f}\")\n",
    "print(f\"Mean Squared Error (MSE): {mse:.4f}\")\n",
    "print(f\"Root Mean Squared Error (RMSE): {rmse:.4f}\")\n",
    "print(f\"R-squared (Accuracy): {r2:.4f}\")"
   ]
  },
  {
   "cell_type": "code",
   "execution_count": 64,
   "id": "3b4be41d",
   "metadata": {
    "execution": {
     "iopub.execute_input": "2025-01-14T20:27:13.952691Z",
     "iopub.status.busy": "2025-01-14T20:27:13.952294Z",
     "iopub.status.idle": "2025-01-14T20:27:14.074067Z",
     "shell.execute_reply": "2025-01-14T20:27:14.073006Z"
    },
    "papermill": {
     "duration": 0.285378,
     "end_time": "2025-01-14T20:27:14.075854",
     "exception": false,
     "start_time": "2025-01-14T20:27:13.790476",
     "status": "completed"
    },
    "tags": []
   },
   "outputs": [
    {
     "name": "stdout",
     "output_type": "stream",
     "text": [
      "\u001b[1m23/23\u001b[0m \u001b[32m━━━━━━━━━━━━━━━━━━━━\u001b[0m\u001b[37m\u001b[0m \u001b[1m0s\u001b[0m 2ms/step \n",
      "Evaluation Metrics:\n",
      "Mean Absolute Error (MAE): 0.9446\n",
      "Mean Squared Error (MSE): 1.7447\n",
      "Root Mean Squared Error (RMSE): 1.3209\n",
      "R-squared (Accuracy): 0.9456\n"
     ]
    }
   ],
   "source": [
    "# Evaluate the model on the validation data\n",
    "val_result = model3.predict(X_val1)\n",
    "\n",
    "# Calculate metrics\n",
    "mse = mean_squared_error(y_val1, val_result)\n",
    "rmse = np.sqrt(mse)\n",
    "mae = mean_absolute_error(y_val1, val_result)\n",
    "r2 = r2_score(y_val1, val_result)\n",
    "\n",
    "# Print the results\n",
    "print(\"Evaluation Metrics:\")\n",
    "print(f\"Mean Absolute Error (MAE): {mae:.4f}\")\n",
    "print(f\"Mean Squared Error (MSE): {mse:.4f}\")\n",
    "print(f\"Root Mean Squared Error (RMSE): {rmse:.4f}\")\n",
    "print(f\"R-squared (Accuracy): {r2:.4f}\")"
   ]
  },
  {
   "cell_type": "code",
   "execution_count": 65,
   "id": "99fc991c",
   "metadata": {
    "execution": {
     "iopub.execute_input": "2025-01-14T20:27:14.399931Z",
     "iopub.status.busy": "2025-01-14T20:27:14.399529Z",
     "iopub.status.idle": "2025-01-14T20:27:14.501471Z",
     "shell.execute_reply": "2025-01-14T20:27:14.499742Z"
    },
    "papermill": {
     "duration": 0.266479,
     "end_time": "2025-01-14T20:27:14.503595",
     "exception": false,
     "start_time": "2025-01-14T20:27:14.237116",
     "status": "completed"
    },
    "tags": []
   },
   "outputs": [
    {
     "name": "stdout",
     "output_type": "stream",
     "text": [
      "\u001b[1m12/12\u001b[0m \u001b[32m━━━━━━━━━━━━━━━━━━━━\u001b[0m\u001b[37m\u001b[0m \u001b[1m0s\u001b[0m 2ms/step \n",
      "Evaluation Metrics:\n",
      "Mean Absolute Error (MAE): 1.1390\n",
      "Mean Squared Error (MSE): 2.3614\n",
      "Root Mean Squared Error (RMSE): 1.5367\n",
      "R-squared (Accuracy): 0.9196\n"
     ]
    }
   ],
   "source": [
    "# Evaluate the model on the test data\n",
    "test_result = model3.predict(X_test1)\n",
    "\n",
    "# Calculate metrics\n",
    "mse = mean_squared_error(y_test1, test_result)\n",
    "rmse = np.sqrt(mse)\n",
    "mae = mean_absolute_error(y_test1, test_result)\n",
    "r2 = r2_score(y_test1, test_result)\n",
    "\n",
    "# Print the results\n",
    "print(\"Evaluation Metrics:\")\n",
    "print(f\"Mean Absolute Error (MAE): {mae:.4f}\")\n",
    "print(f\"Mean Squared Error (MSE): {mse:.4f}\")\n",
    "print(f\"Root Mean Squared Error (RMSE): {rmse:.4f}\")\n",
    "print(f\"R-squared (Accuracy): {r2:.4f}\")"
   ]
  },
  {
   "cell_type": "code",
   "execution_count": 66,
   "id": "865792a4",
   "metadata": {
    "execution": {
     "iopub.execute_input": "2025-01-14T20:27:14.831899Z",
     "iopub.status.busy": "2025-01-14T20:27:14.831465Z",
     "iopub.status.idle": "2025-01-14T20:27:15.067236Z",
     "shell.execute_reply": "2025-01-14T20:27:15.066088Z"
    },
    "papermill": {
     "duration": 0.401273,
     "end_time": "2025-01-14T20:27:15.069049",
     "exception": false,
     "start_time": "2025-01-14T20:27:14.667776",
     "status": "completed"
    },
    "tags": []
   },
   "outputs": [
    {
     "name": "stdout",
     "output_type": "stream",
     "text": [
      "\u001b[1m80/80\u001b[0m \u001b[32m━━━━━━━━━━━━━━━━━━━━\u001b[0m\u001b[37m\u001b[0m \u001b[1m0s\u001b[0m 2ms/step\n"
     ]
    },
    {
     "data": {
      "text/html": [
       "<div>\n",
       "<style scoped>\n",
       "    .dataframe tbody tr th:only-of-type {\n",
       "        vertical-align: middle;\n",
       "    }\n",
       "\n",
       "    .dataframe tbody tr th {\n",
       "        vertical-align: top;\n",
       "    }\n",
       "\n",
       "    .dataframe thead th {\n",
       "        text-align: right;\n",
       "    }\n",
       "</style>\n",
       "<table border=\"1\" class=\"dataframe\">\n",
       "  <thead>\n",
       "    <tr style=\"text-align: right;\">\n",
       "      <th></th>\n",
       "      <th>Train Predictions</th>\n",
       "      <th>Actuals</th>\n",
       "    </tr>\n",
       "  </thead>\n",
       "  <tbody>\n",
       "    <tr>\n",
       "      <th>0</th>\n",
       "      <td>34.495773</td>\n",
       "      <td>33.000000</td>\n",
       "    </tr>\n",
       "    <tr>\n",
       "      <th>1</th>\n",
       "      <td>31.053219</td>\n",
       "      <td>29.500000</td>\n",
       "    </tr>\n",
       "    <tr>\n",
       "      <th>2</th>\n",
       "      <td>27.032455</td>\n",
       "      <td>26.166667</td>\n",
       "    </tr>\n",
       "    <tr>\n",
       "      <th>3</th>\n",
       "      <td>24.134031</td>\n",
       "      <td>24.833333</td>\n",
       "    </tr>\n",
       "    <tr>\n",
       "      <th>4</th>\n",
       "      <td>24.253132</td>\n",
       "      <td>25.000000</td>\n",
       "    </tr>\n",
       "    <tr>\n",
       "      <th>...</th>\n",
       "      <td>...</td>\n",
       "      <td>...</td>\n",
       "    </tr>\n",
       "    <tr>\n",
       "      <th>2554</th>\n",
       "      <td>14.343406</td>\n",
       "      <td>14.333333</td>\n",
       "    </tr>\n",
       "    <tr>\n",
       "      <th>2555</th>\n",
       "      <td>14.970095</td>\n",
       "      <td>15.166667</td>\n",
       "    </tr>\n",
       "    <tr>\n",
       "      <th>2556</th>\n",
       "      <td>15.932484</td>\n",
       "      <td>16.000000</td>\n",
       "    </tr>\n",
       "    <tr>\n",
       "      <th>2557</th>\n",
       "      <td>16.686499</td>\n",
       "      <td>16.500000</td>\n",
       "    </tr>\n",
       "    <tr>\n",
       "      <th>2558</th>\n",
       "      <td>16.949770</td>\n",
       "      <td>17.000000</td>\n",
       "    </tr>\n",
       "  </tbody>\n",
       "</table>\n",
       "<p>2559 rows × 2 columns</p>\n",
       "</div>"
      ],
      "text/plain": [
       "      Train Predictions    Actuals\n",
       "0             34.495773  33.000000\n",
       "1             31.053219  29.500000\n",
       "2             27.032455  26.166667\n",
       "3             24.134031  24.833333\n",
       "4             24.253132  25.000000\n",
       "...                 ...        ...\n",
       "2554          14.343406  14.333333\n",
       "2555          14.970095  15.166667\n",
       "2556          15.932484  16.000000\n",
       "2557          16.686499  16.500000\n",
       "2558          16.949770  17.000000\n",
       "\n",
       "[2559 rows x 2 columns]"
      ]
     },
     "execution_count": 66,
     "metadata": {},
     "output_type": "execute_result"
    }
   ],
   "source": [
    "train_predictions = model3.predict(X_train1).flatten()\n",
    "train_results = pd.DataFrame(data={'Train Predictions':train_predictions, 'Actuals':y_train1})\n",
    "train_results"
   ]
  },
  {
   "cell_type": "code",
   "execution_count": 67,
   "id": "93925d13",
   "metadata": {
    "execution": {
     "iopub.execute_input": "2025-01-14T20:27:15.433728Z",
     "iopub.status.busy": "2025-01-14T20:27:15.433280Z",
     "iopub.status.idle": "2025-01-14T20:27:15.690988Z",
     "shell.execute_reply": "2025-01-14T20:27:15.689916Z"
    },
    "papermill": {
     "duration": 0.452388,
     "end_time": "2025-01-14T20:27:15.692840",
     "exception": false,
     "start_time": "2025-01-14T20:27:15.240452",
     "status": "completed"
    },
    "tags": []
   },
   "outputs": [
    {
     "data": {
      "image/png": "[encoded data removed]",
      "text/plain": [
       "<Figure size 640x480 with 1 Axes>"
      ]
     },
     "metadata": {},
     "output_type": "display_data"
    }
   ],
   "source": [
    "plt.plot(train_results['Actuals'][1:50], label='Actual')\n",
    "plt.plot(train_results['Train Predictions'][1:50], label='Predicted')\n",
    "plt.legend()\n",
    "plt.show()"
   ]
  },
  {
   "cell_type": "code",
   "execution_count": 68,
   "id": "6836d0a9",
   "metadata": {
    "execution": {
     "iopub.execute_input": "2025-01-14T20:27:16.085521Z",
     "iopub.status.busy": "2025-01-14T20:27:16.085170Z",
     "iopub.status.idle": "2025-01-14T20:27:16.209560Z",
     "shell.execute_reply": "2025-01-14T20:27:16.208126Z"
    },
    "papermill": {
     "duration": 0.351823,
     "end_time": "2025-01-14T20:27:16.211514",
     "exception": false,
     "start_time": "2025-01-14T20:27:15.859691",
     "status": "completed"
    },
    "tags": []
   },
   "outputs": [
    {
     "name": "stdout",
     "output_type": "stream",
     "text": [
      "\u001b[1m23/23\u001b[0m \u001b[32m━━━━━━━━━━━━━━━━━━━━\u001b[0m\u001b[37m\u001b[0m \u001b[1m0s\u001b[0m 2ms/step \n"
     ]
    },
    {
     "data": {
      "text/html": [
       "<div>\n",
       "<style scoped>\n",
       "    .dataframe tbody tr th:only-of-type {\n",
       "        vertical-align: middle;\n",
       "    }\n",
       "\n",
       "    .dataframe tbody tr th {\n",
       "        vertical-align: top;\n",
       "    }\n",
       "\n",
       "    .dataframe thead th {\n",
       "        text-align: right;\n",
       "    }\n",
       "</style>\n",
       "<table border=\"1\" class=\"dataframe\">\n",
       "  <thead>\n",
       "    <tr style=\"text-align: right;\">\n",
       "      <th></th>\n",
       "      <th>Train Predictions</th>\n",
       "      <th>Actuals</th>\n",
       "    </tr>\n",
       "  </thead>\n",
       "  <tbody>\n",
       "    <tr>\n",
       "      <th>0</th>\n",
       "      <td>17.231466</td>\n",
       "      <td>17.000000</td>\n",
       "    </tr>\n",
       "    <tr>\n",
       "      <th>1</th>\n",
       "      <td>17.231466</td>\n",
       "      <td>17.000000</td>\n",
       "    </tr>\n",
       "    <tr>\n",
       "      <th>2</th>\n",
       "      <td>17.231466</td>\n",
       "      <td>17.000000</td>\n",
       "    </tr>\n",
       "    <tr>\n",
       "      <th>3</th>\n",
       "      <td>17.231466</td>\n",
       "      <td>17.000000</td>\n",
       "    </tr>\n",
       "    <tr>\n",
       "      <th>4</th>\n",
       "      <td>17.231466</td>\n",
       "      <td>17.000000</td>\n",
       "    </tr>\n",
       "    <tr>\n",
       "      <th>...</th>\n",
       "      <td>...</td>\n",
       "      <td>...</td>\n",
       "    </tr>\n",
       "    <tr>\n",
       "      <th>722</th>\n",
       "      <td>20.047112</td>\n",
       "      <td>20.166667</td>\n",
       "    </tr>\n",
       "    <tr>\n",
       "      <th>723</th>\n",
       "      <td>19.775099</td>\n",
       "      <td>20.500000</td>\n",
       "    </tr>\n",
       "    <tr>\n",
       "      <th>724</th>\n",
       "      <td>20.772963</td>\n",
       "      <td>20.666667</td>\n",
       "    </tr>\n",
       "    <tr>\n",
       "      <th>725</th>\n",
       "      <td>20.746735</td>\n",
       "      <td>20.500000</td>\n",
       "    </tr>\n",
       "    <tr>\n",
       "      <th>726</th>\n",
       "      <td>20.348717</td>\n",
       "      <td>18.666667</td>\n",
       "    </tr>\n",
       "  </tbody>\n",
       "</table>\n",
       "<p>727 rows × 2 columns</p>\n",
       "</div>"
      ],
      "text/plain": [
       "     Train Predictions    Actuals\n",
       "0            17.231466  17.000000\n",
       "1            17.231466  17.000000\n",
       "2            17.231466  17.000000\n",
       "3            17.231466  17.000000\n",
       "4            17.231466  17.000000\n",
       "..                 ...        ...\n",
       "722          20.047112  20.166667\n",
       "723          19.775099  20.500000\n",
       "724          20.772963  20.666667\n",
       "725          20.746735  20.500000\n",
       "726          20.348717  18.666667\n",
       "\n",
       "[727 rows x 2 columns]"
      ]
     },
     "execution_count": 68,
     "metadata": {},
     "output_type": "execute_result"
    }
   ],
   "source": [
    "val_predictions = model3.predict(X_val1).flatten()\n",
    "val_results = pd.DataFrame(data={'Train Predictions':val_predictions, 'Actuals':y_val1})\n",
    "val_results"
   ]
  },
  {
   "cell_type": "code",
   "execution_count": 69,
   "id": "7f90d776",
   "metadata": {
    "execution": {
     "iopub.execute_input": "2025-01-14T20:27:16.541540Z",
     "iopub.status.busy": "2025-01-14T20:27:16.541187Z",
     "iopub.status.idle": "2025-01-14T20:27:16.766864Z",
     "shell.execute_reply": "2025-01-14T20:27:16.765681Z"
    },
    "papermill": {
     "duration": 0.394405,
     "end_time": "2025-01-14T20:27:16.768969",
     "exception": false,
     "start_time": "2025-01-14T20:27:16.374564",
     "status": "completed"
    },
    "tags": []
   },
   "outputs": [
    {
     "data": {
      "image/png": "[encoded data removed]",
      "text/plain": [
       "<Figure size 640x480 with 1 Axes>"
      ]
     },
     "metadata": {},
     "output_type": "display_data"
    }
   ],
   "source": [
    "plt.plot(val_results['Actuals'][700:], label='Actual')\n",
    "plt.plot(val_results['Train Predictions'][700:], label='Predicted')\n",
    "plt.legend()\n",
    "plt.show()"
   ]
  },
  {
   "cell_type": "code",
   "execution_count": 70,
   "id": "9a2c6d5b",
   "metadata": {
    "execution": {
     "iopub.execute_input": "2025-01-14T20:27:17.099120Z",
     "iopub.status.busy": "2025-01-14T20:27:17.098760Z",
     "iopub.status.idle": "2025-01-14T20:27:17.200903Z",
     "shell.execute_reply": "2025-01-14T20:27:17.199784Z"
    },
    "papermill": {
     "duration": 0.26738,
     "end_time": "2025-01-14T20:27:17.202546",
     "exception": false,
     "start_time": "2025-01-14T20:27:16.935166",
     "status": "completed"
    },
    "tags": []
   },
   "outputs": [
    {
     "name": "stdout",
     "output_type": "stream",
     "text": [
      "\u001b[1m12/12\u001b[0m \u001b[32m━━━━━━━━━━━━━━━━━━━━\u001b[0m\u001b[37m\u001b[0m \u001b[1m0s\u001b[0m 2ms/step \n"
     ]
    },
    {
     "data": {
      "text/html": [
       "<div>\n",
       "<style scoped>\n",
       "    .dataframe tbody tr th:only-of-type {\n",
       "        vertical-align: middle;\n",
       "    }\n",
       "\n",
       "    .dataframe tbody tr th {\n",
       "        vertical-align: top;\n",
       "    }\n",
       "\n",
       "    .dataframe thead th {\n",
       "        text-align: right;\n",
       "    }\n",
       "</style>\n",
       "<table border=\"1\" class=\"dataframe\">\n",
       "  <thead>\n",
       "    <tr style=\"text-align: right;\">\n",
       "      <th></th>\n",
       "      <th>Train Predictions</th>\n",
       "      <th>Actuals</th>\n",
       "    </tr>\n",
       "  </thead>\n",
       "  <tbody>\n",
       "    <tr>\n",
       "      <th>0</th>\n",
       "      <td>23.880207</td>\n",
       "      <td>23.166667</td>\n",
       "    </tr>\n",
       "    <tr>\n",
       "      <th>1</th>\n",
       "      <td>23.026756</td>\n",
       "      <td>22.000000</td>\n",
       "    </tr>\n",
       "    <tr>\n",
       "      <th>2</th>\n",
       "      <td>21.145020</td>\n",
       "      <td>21.333333</td>\n",
       "    </tr>\n",
       "    <tr>\n",
       "      <th>3</th>\n",
       "      <td>20.861244</td>\n",
       "      <td>23.333333</td>\n",
       "    </tr>\n",
       "    <tr>\n",
       "      <th>4</th>\n",
       "      <td>24.488556</td>\n",
       "      <td>22.333333</td>\n",
       "    </tr>\n",
       "    <tr>\n",
       "      <th>...</th>\n",
       "      <td>...</td>\n",
       "      <td>...</td>\n",
       "    </tr>\n",
       "    <tr>\n",
       "      <th>356</th>\n",
       "      <td>20.924549</td>\n",
       "      <td>20.500000</td>\n",
       "    </tr>\n",
       "    <tr>\n",
       "      <th>357</th>\n",
       "      <td>20.263180</td>\n",
       "      <td>18.000000</td>\n",
       "    </tr>\n",
       "    <tr>\n",
       "      <th>358</th>\n",
       "      <td>16.957283</td>\n",
       "      <td>16.666667</td>\n",
       "    </tr>\n",
       "    <tr>\n",
       "      <th>359</th>\n",
       "      <td>16.365517</td>\n",
       "      <td>16.666667</td>\n",
       "    </tr>\n",
       "    <tr>\n",
       "      <th>360</th>\n",
       "      <td>17.174524</td>\n",
       "      <td>16.666667</td>\n",
       "    </tr>\n",
       "  </tbody>\n",
       "</table>\n",
       "<p>361 rows × 2 columns</p>\n",
       "</div>"
      ],
      "text/plain": [
       "     Train Predictions    Actuals\n",
       "0            23.880207  23.166667\n",
       "1            23.026756  22.000000\n",
       "2            21.145020  21.333333\n",
       "3            20.861244  23.333333\n",
       "4            24.488556  22.333333\n",
       "..                 ...        ...\n",
       "356          20.924549  20.500000\n",
       "357          20.263180  18.000000\n",
       "358          16.957283  16.666667\n",
       "359          16.365517  16.666667\n",
       "360          17.174524  16.666667\n",
       "\n",
       "[361 rows x 2 columns]"
      ]
     },
     "execution_count": 70,
     "metadata": {},
     "output_type": "execute_result"
    }
   ],
   "source": [
    "test_predictions = model3.predict(X_test1).flatten()\n",
    "test_results = pd.DataFrame(data={'Train Predictions':test_predictions, 'Actuals':y_test1})\n",
    "test_results"
   ]
  },
  {
   "cell_type": "code",
   "execution_count": 71,
   "id": "8ee58865",
   "metadata": {
    "execution": {
     "iopub.execute_input": "2025-01-14T20:27:17.551095Z",
     "iopub.status.busy": "2025-01-14T20:27:17.550696Z",
     "iopub.status.idle": "2025-01-14T20:27:17.748894Z",
     "shell.execute_reply": "2025-01-14T20:27:17.747672Z"
    },
    "papermill": {
     "duration": 0.373498,
     "end_time": "2025-01-14T20:27:17.751086",
     "exception": false,
     "start_time": "2025-01-14T20:27:17.377588",
     "status": "completed"
    },
    "tags": []
   },
   "outputs": [
    {
     "data": {
      "image/png": "[encoded data removed]",
      "text/plain": [
       "<Figure size 640x480 with 1 Axes>"
      ]
     },
     "metadata": {},
     "output_type": "display_data"
    }
   ],
   "source": [
    "plt.plot(test_results['Train Predictions'][1:50], label='Predicted')\n",
    "plt.plot(test_results['Actuals'][1:50], label='Actual')\n",
    "plt.legend()\n",
    "plt.show()"
   ]
  },
  {
   "cell_type": "code",
   "execution_count": null,
   "id": "7f0da764",
   "metadata": {
    "papermill": {
     "duration": 0.169295,
     "end_time": "2025-01-14T20:27:18.092516",
     "exception": false,
     "start_time": "2025-01-14T20:27:17.923221",
     "status": "completed"
    },
    "tags": []
   },
   "outputs": [],
   "source": []
  }
 ],
 "metadata": {
  "kaggle": {
   "accelerator": "none",
   "dataSources": [
    {
     "datasetId": 6454996,
     "sourceId": 10415081,
     "sourceType": "datasetVersion"
    },
    {
     "sourceId": 217469152,
     "sourceType": "kernelVersion"
    }
   ],
   "dockerImageVersionId": 30822,
   "isGpuEnabled": false,
   "isInternetEnabled": true,
   "language": "python",
   "sourceType": "notebook"
  },
  "kernelspec": {
   "display_name": "Python 3",
   "language": "python",
   "name": "python3"
  },
  "language_info": {
   "codemirror_mode": {
    "name": "ipython",
    "version": 3
   },
   "file_extension": ".py",
   "mimetype": "text/x-python",
   "name": "python",
   "nbconvert_exporter": "python",
   "pygments_lexer": "ipython3",
   "version": "3.10.12"
  },
  "papermill": {
   "default_parameters": {},
   "duration": 154.601661,
   "end_time": "2025-01-14T20:27:20.287538",
   "environment_variables": {},
   "exception": null,
   "input_path": "__notebook__.ipynb",
   "output_path": "__notebook__.ipynb",
   "parameters": {},
   "start_time": "2025-01-14T20:24:45.685877",
   "version": "2.6.0"
  }
 },
 "nbformat": 4,
 "nbformat_minor": 5
}
