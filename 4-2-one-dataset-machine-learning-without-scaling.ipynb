{
 "cells": [
  {
   "cell_type": "code",
   "execution_count": 1,
   "id": "0bf84f80",
   "metadata": {
    "_cell_guid": "0bd5fd8f-4de5-406f-92da-d16f3c990795",
    "_uuid": "63737120-456d-498d-a950-7893b9099e72",
    "collapsed": false,
    "execution": {
     "iopub.execute_input": "2025-01-13T16:29:09.415500Z",
     "iopub.status.busy": "2025-01-13T16:29:09.415133Z",
     "iopub.status.idle": "2025-01-13T16:29:12.842674Z",
     "shell.execute_reply": "2025-01-13T16:29:12.841711Z"
    },
    "jupyter": {
     "outputs_hidden": false
    },
    "papermill": {
     "duration": 3.464125,
     "end_time": "2025-01-13T16:29:12.844688",
     "exception": false,
     "start_time": "2025-01-13T16:29:09.380563",
     "status": "completed"
    },
    "tags": []
   },
   "outputs": [],
   "source": [
    "# Packages / libraries\n",
    "import os #provides functions for interacting with the operating system\n",
    "import numpy as np\n",
    "import pandas as pd\n",
    "from matplotlib import pyplot as plt\n",
    "import seaborn as sns\n",
    "\n",
    "\n",
    "from sklearn.model_selection import train_test_split\n",
    "from sklearn.pipeline import Pipeline\n",
    "from sklearn.preprocessing import StandardScaler, MinMaxScaler, LabelEncoder, OneHotEncoder, PolynomialFeatures\n",
    "from sklearn.metrics import r2_score, explained_variance_score, mean_absolute_error, mean_squared_error\n",
    "from math import sqrt\n",
    "from sklearn.impute import SimpleImputer\n",
    "from sklearn.compose import ColumnTransformer\n",
    "from sklearn.model_selection import GridSearchCV\n",
    "from sklearn.model_selection import RandomizedSearchCV\n",
    "\n",
    "from sklearn.linear_model import LinearRegression\n",
    "from sklearn.ensemble import RandomForestRegressor\n",
    "from sklearn.neighbors import KNeighborsRegressor\n",
    "from sklearn.tree import DecisionTreeRegressor\n",
    "from sklearn.svm import SVR\n",
    "from sklearn.neural_network import MLPRegressor\n",
    "from xgboost import XGBRegressor\n",
    "from sklearn.ensemble import GradientBoostingRegressor\n",
    "\n",
    "import graphviz\n",
    "from sklearn import tree\n",
    "\n",
    "# remove warnings\n",
    "import warnings\n",
    "warnings.simplefilter(action='ignore', category=FutureWarning)"
   ]
  },
  {
   "cell_type": "markdown",
   "id": "ffe3a37b",
   "metadata": {
    "papermill": {
     "duration": 0.028608,
     "end_time": "2025-01-13T16:29:12.904689",
     "exception": false,
     "start_time": "2025-01-13T16:29:12.876081",
     "status": "completed"
    },
    "tags": []
   },
   "source": [
    "# **1. Loading Dataset**"
   ]
  },
  {
   "cell_type": "code",
   "execution_count": 2,
   "id": "e6a7ee86",
   "metadata": {
    "execution": {
     "iopub.execute_input": "2025-01-13T16:29:12.963651Z",
     "iopub.status.busy": "2025-01-13T16:29:12.963132Z",
     "iopub.status.idle": "2025-01-13T16:29:13.016793Z",
     "shell.execute_reply": "2025-01-13T16:29:13.015598Z"
    },
    "papermill": {
     "duration": 0.084942,
     "end_time": "2025-01-13T16:29:13.018382",
     "exception": false,
     "start_time": "2025-01-13T16:29:12.933440",
     "status": "completed"
    },
    "tags": []
   },
   "outputs": [
    {
     "name": "stdout",
     "output_type": "stream",
     "text": [
      "(2769, 12)\n"
     ]
    },
    {
     "data": {
      "text/html": [
       "<div>\n",
       "<style scoped>\n",
       "    .dataframe tbody tr th:only-of-type {\n",
       "        vertical-align: middle;\n",
       "    }\n",
       "\n",
       "    .dataframe tbody tr th {\n",
       "        vertical-align: top;\n",
       "    }\n",
       "\n",
       "    .dataframe thead th {\n",
       "        text-align: right;\n",
       "    }\n",
       "</style>\n",
       "<table border=\"1\" class=\"dataframe\">\n",
       "  <thead>\n",
       "    <tr style=\"text-align: right;\">\n",
       "      <th></th>\n",
       "      <th>Date</th>\n",
       "      <th>co</th>\n",
       "      <th>no2</th>\n",
       "      <th>o3</th>\n",
       "      <th>pm10</th>\n",
       "      <th>pm25</th>\n",
       "      <th>so2</th>\n",
       "      <th>humidity</th>\n",
       "      <th>pressure</th>\n",
       "      <th>temperature</th>\n",
       "      <th>wind-speed</th>\n",
       "      <th>Country_City</th>\n",
       "    </tr>\n",
       "  </thead>\n",
       "  <tbody>\n",
       "    <tr>\n",
       "      <th>0</th>\n",
       "      <td>2014-12-29</td>\n",
       "      <td>NaN</td>\n",
       "      <td>4.7</td>\n",
       "      <td>15.2</td>\n",
       "      <td>9.0</td>\n",
       "      <td>12.0</td>\n",
       "      <td>2.9</td>\n",
       "      <td>NaN</td>\n",
       "      <td>NaN</td>\n",
       "      <td>NaN</td>\n",
       "      <td>NaN</td>\n",
       "      <td>Australia_Newcastle</td>\n",
       "    </tr>\n",
       "    <tr>\n",
       "      <th>1</th>\n",
       "      <td>2014-12-30</td>\n",
       "      <td>3.4</td>\n",
       "      <td>4.7</td>\n",
       "      <td>19.2</td>\n",
       "      <td>21.0</td>\n",
       "      <td>23.0</td>\n",
       "      <td>1.5</td>\n",
       "      <td>NaN</td>\n",
       "      <td>NaN</td>\n",
       "      <td>NaN</td>\n",
       "      <td>NaN</td>\n",
       "      <td>Australia_Newcastle</td>\n",
       "    </tr>\n",
       "    <tr>\n",
       "      <th>2</th>\n",
       "      <td>2014-12-31</td>\n",
       "      <td>2.3</td>\n",
       "      <td>2.8</td>\n",
       "      <td>17.6</td>\n",
       "      <td>38.0</td>\n",
       "      <td>39.0</td>\n",
       "      <td>1.5</td>\n",
       "      <td>NaN</td>\n",
       "      <td>NaN</td>\n",
       "      <td>NaN</td>\n",
       "      <td>NaN</td>\n",
       "      <td>Australia_Newcastle</td>\n",
       "    </tr>\n",
       "    <tr>\n",
       "      <th>3</th>\n",
       "      <td>2015-01-01</td>\n",
       "      <td>2.3</td>\n",
       "      <td>1.9</td>\n",
       "      <td>16.8</td>\n",
       "      <td>24.0</td>\n",
       "      <td>38.0</td>\n",
       "      <td>1.5</td>\n",
       "      <td>NaN</td>\n",
       "      <td>NaN</td>\n",
       "      <td>NaN</td>\n",
       "      <td>NaN</td>\n",
       "      <td>Australia_Newcastle</td>\n",
       "    </tr>\n",
       "    <tr>\n",
       "      <th>4</th>\n",
       "      <td>2015-01-02</td>\n",
       "      <td>NaN</td>\n",
       "      <td>3.8</td>\n",
       "      <td>10.4</td>\n",
       "      <td>24.0</td>\n",
       "      <td>42.0</td>\n",
       "      <td>2.9</td>\n",
       "      <td>NaN</td>\n",
       "      <td>NaN</td>\n",
       "      <td>NaN</td>\n",
       "      <td>NaN</td>\n",
       "      <td>Australia_Newcastle</td>\n",
       "    </tr>\n",
       "  </tbody>\n",
       "</table>\n",
       "</div>"
      ],
      "text/plain": [
       "         Date   co  no2    o3  pm10  pm25  so2  humidity  pressure  \\\n",
       "0  2014-12-29  NaN  4.7  15.2   9.0  12.0  2.9       NaN       NaN   \n",
       "1  2014-12-30  3.4  4.7  19.2  21.0  23.0  1.5       NaN       NaN   \n",
       "2  2014-12-31  2.3  2.8  17.6  38.0  39.0  1.5       NaN       NaN   \n",
       "3  2015-01-01  2.3  1.9  16.8  24.0  38.0  1.5       NaN       NaN   \n",
       "4  2015-01-02  NaN  3.8  10.4  24.0  42.0  2.9       NaN       NaN   \n",
       "\n",
       "   temperature  wind-speed         Country_City  \n",
       "0          NaN         NaN  Australia_Newcastle  \n",
       "1          NaN         NaN  Australia_Newcastle  \n",
       "2          NaN         NaN  Australia_Newcastle  \n",
       "3          NaN         NaN  Australia_Newcastle  \n",
       "4          NaN         NaN  Australia_Newcastle  "
      ]
     },
     "execution_count": 2,
     "metadata": {},
     "output_type": "execute_result"
    }
   ],
   "source": [
    "# Loading the data\n",
    "new_data = pd.read_csv(\"/kaggle/input/seperated-data/Australia_Newcastle.csv\")\n",
    "\n",
    "# print the shape\n",
    "print(new_data.shape)\n",
    "\n",
    "#runs the first 5 rows\n",
    "new_data.head()"
   ]
  },
  {
   "cell_type": "code",
   "execution_count": 3,
   "id": "b4048f69",
   "metadata": {
    "execution": {
     "iopub.execute_input": "2025-01-13T16:29:13.079007Z",
     "iopub.status.busy": "2025-01-13T16:29:13.078635Z",
     "iopub.status.idle": "2025-01-13T16:29:13.087295Z",
     "shell.execute_reply": "2025-01-13T16:29:13.086022Z"
    },
    "papermill": {
     "duration": 0.041167,
     "end_time": "2025-01-13T16:29:13.089112",
     "exception": false,
     "start_time": "2025-01-13T16:29:13.047945",
     "status": "completed"
    },
    "tags": []
   },
   "outputs": [
    {
     "name": "stdout",
     "output_type": "stream",
     "text": [
      "Minimum date: 2014-12-29\n",
      "Maximum date: 2025-01-09\n"
     ]
    }
   ],
   "source": [
    "# Find the minimum and maximum dates\n",
    "min_date = new_data['Date'].min()\n",
    "max_date = new_data['Date'].max()\n",
    "\n",
    "print('Minimum date:', min_date)\n",
    "print('Maximum date:', max_date)"
   ]
  },
  {
   "cell_type": "code",
   "execution_count": 4,
   "id": "476a4217",
   "metadata": {
    "execution": {
     "iopub.execute_input": "2025-01-13T16:29:13.160425Z",
     "iopub.status.busy": "2025-01-13T16:29:13.160054Z",
     "iopub.status.idle": "2025-01-13T16:29:13.189634Z",
     "shell.execute_reply": "2025-01-13T16:29:13.188217Z"
    },
    "papermill": {
     "duration": 0.073228,
     "end_time": "2025-01-13T16:29:13.192314",
     "exception": false,
     "start_time": "2025-01-13T16:29:13.119086",
     "status": "completed"
    },
    "tags": []
   },
   "outputs": [
    {
     "name": "stdout",
     "output_type": "stream",
     "text": [
      "<class 'pandas.core.frame.DataFrame'>\n",
      "RangeIndex: 2769 entries, 0 to 2768\n",
      "Data columns (total 12 columns):\n",
      " #   Column        Non-Null Count  Dtype  \n",
      "---  ------        --------------  -----  \n",
      " 0   Date          2769 non-null   object \n",
      " 1   co            858 non-null    float64\n",
      " 2   no2           2769 non-null   float64\n",
      " 3   o3            1067 non-null   float64\n",
      " 4   pm10          2769 non-null   float64\n",
      " 5   pm25          2768 non-null   float64\n",
      " 6   so2           2760 non-null   float64\n",
      " 7   humidity      2053 non-null   float64\n",
      " 8   pressure      2053 non-null   float64\n",
      " 9   temperature   2053 non-null   float64\n",
      " 10  wind-speed    1971 non-null   float64\n",
      " 11  Country_City  2769 non-null   object \n",
      "dtypes: float64(10), object(2)\n",
      "memory usage: 259.7+ KB\n"
     ]
    }
   ],
   "source": [
    "new_data.info()"
   ]
  },
  {
   "cell_type": "code",
   "execution_count": 5,
   "id": "dff0ed87",
   "metadata": {
    "execution": {
     "iopub.execute_input": "2025-01-13T16:29:13.261453Z",
     "iopub.status.busy": "2025-01-13T16:29:13.261066Z",
     "iopub.status.idle": "2025-01-13T16:29:13.305126Z",
     "shell.execute_reply": "2025-01-13T16:29:13.303991Z"
    },
    "papermill": {
     "duration": 0.076317,
     "end_time": "2025-01-13T16:29:13.307204",
     "exception": false,
     "start_time": "2025-01-13T16:29:13.230887",
     "status": "completed"
    },
    "tags": []
   },
   "outputs": [
    {
     "data": {
      "text/html": [
       "<div>\n",
       "<style scoped>\n",
       "    .dataframe tbody tr th:only-of-type {\n",
       "        vertical-align: middle;\n",
       "    }\n",
       "\n",
       "    .dataframe tbody tr th {\n",
       "        vertical-align: top;\n",
       "    }\n",
       "\n",
       "    .dataframe thead th {\n",
       "        text-align: right;\n",
       "    }\n",
       "</style>\n",
       "<table border=\"1\" class=\"dataframe\">\n",
       "  <thead>\n",
       "    <tr style=\"text-align: right;\">\n",
       "      <th></th>\n",
       "      <th>co</th>\n",
       "      <th>no2</th>\n",
       "      <th>o3</th>\n",
       "      <th>pm10</th>\n",
       "      <th>pm25</th>\n",
       "      <th>so2</th>\n",
       "      <th>humidity</th>\n",
       "      <th>pressure</th>\n",
       "      <th>temperature</th>\n",
       "      <th>wind-speed</th>\n",
       "    </tr>\n",
       "  </thead>\n",
       "  <tbody>\n",
       "    <tr>\n",
       "      <th>count</th>\n",
       "      <td>858.000000</td>\n",
       "      <td>2769.000000</td>\n",
       "      <td>1067.000000</td>\n",
       "      <td>2769.000000</td>\n",
       "      <td>2768.000000</td>\n",
       "      <td>2760.000000</td>\n",
       "      <td>2053.000000</td>\n",
       "      <td>2053.000000</td>\n",
       "      <td>2053.000000</td>\n",
       "      <td>1971.000000</td>\n",
       "    </tr>\n",
       "    <tr>\n",
       "      <th>mean</th>\n",
       "      <td>3.138695</td>\n",
       "      <td>6.514121</td>\n",
       "      <td>13.619213</td>\n",
       "      <td>18.044059</td>\n",
       "      <td>26.636199</td>\n",
       "      <td>2.290507</td>\n",
       "      <td>76.125037</td>\n",
       "      <td>1017.074963</td>\n",
       "      <td>18.027667</td>\n",
       "      <td>3.545358</td>\n",
       "    </tr>\n",
       "    <tr>\n",
       "      <th>std</th>\n",
       "      <td>1.590218</td>\n",
       "      <td>3.673895</td>\n",
       "      <td>5.315606</td>\n",
       "      <td>7.945911</td>\n",
       "      <td>14.282966</td>\n",
       "      <td>1.146280</td>\n",
       "      <td>12.383626</td>\n",
       "      <td>6.779257</td>\n",
       "      <td>4.160502</td>\n",
       "      <td>1.683754</td>\n",
       "    </tr>\n",
       "    <tr>\n",
       "      <th>min</th>\n",
       "      <td>1.200000</td>\n",
       "      <td>1.000000</td>\n",
       "      <td>0.800000</td>\n",
       "      <td>4.000000</td>\n",
       "      <td>8.000000</td>\n",
       "      <td>1.500000</td>\n",
       "      <td>27.000000</td>\n",
       "      <td>993.700000</td>\n",
       "      <td>8.200000</td>\n",
       "      <td>0.300000</td>\n",
       "    </tr>\n",
       "    <tr>\n",
       "      <th>25%</th>\n",
       "      <td>2.300000</td>\n",
       "      <td>3.800000</td>\n",
       "      <td>10.400000</td>\n",
       "      <td>13.000000</td>\n",
       "      <td>17.000000</td>\n",
       "      <td>1.500000</td>\n",
       "      <td>69.600000</td>\n",
       "      <td>1012.400000</td>\n",
       "      <td>14.400000</td>\n",
       "      <td>2.500000</td>\n",
       "    </tr>\n",
       "    <tr>\n",
       "      <th>50%</th>\n",
       "      <td>3.400000</td>\n",
       "      <td>5.600000</td>\n",
       "      <td>13.600000</td>\n",
       "      <td>17.000000</td>\n",
       "      <td>23.000000</td>\n",
       "      <td>1.500000</td>\n",
       "      <td>78.200000</td>\n",
       "      <td>1017.000000</td>\n",
       "      <td>18.200000</td>\n",
       "      <td>3.100000</td>\n",
       "    </tr>\n",
       "    <tr>\n",
       "      <th>75%</th>\n",
       "      <td>3.400000</td>\n",
       "      <td>9.300000</td>\n",
       "      <td>16.800000</td>\n",
       "      <td>21.000000</td>\n",
       "      <td>32.000000</td>\n",
       "      <td>2.900000</td>\n",
       "      <td>85.100000</td>\n",
       "      <td>1022.000000</td>\n",
       "      <td>21.200000</td>\n",
       "      <td>4.300000</td>\n",
       "    </tr>\n",
       "    <tr>\n",
       "      <th>max</th>\n",
       "      <td>16.700000</td>\n",
       "      <td>22.300000</td>\n",
       "      <td>41.600000</td>\n",
       "      <td>87.000000</td>\n",
       "      <td>172.000000</td>\n",
       "      <td>17.200000</td>\n",
       "      <td>98.000000</td>\n",
       "      <td>1035.900000</td>\n",
       "      <td>32.000000</td>\n",
       "      <td>13.000000</td>\n",
       "    </tr>\n",
       "  </tbody>\n",
       "</table>\n",
       "</div>"
      ],
      "text/plain": [
       "               co          no2           o3         pm10         pm25  \\\n",
       "count  858.000000  2769.000000  1067.000000  2769.000000  2768.000000   \n",
       "mean     3.138695     6.514121    13.619213    18.044059    26.636199   \n",
       "std      1.590218     3.673895     5.315606     7.945911    14.282966   \n",
       "min      1.200000     1.000000     0.800000     4.000000     8.000000   \n",
       "25%      2.300000     3.800000    10.400000    13.000000    17.000000   \n",
       "50%      3.400000     5.600000    13.600000    17.000000    23.000000   \n",
       "75%      3.400000     9.300000    16.800000    21.000000    32.000000   \n",
       "max     16.700000    22.300000    41.600000    87.000000   172.000000   \n",
       "\n",
       "               so2     humidity     pressure  temperature   wind-speed  \n",
       "count  2760.000000  2053.000000  2053.000000  2053.000000  1971.000000  \n",
       "mean      2.290507    76.125037  1017.074963    18.027667     3.545358  \n",
       "std       1.146280    12.383626     6.779257     4.160502     1.683754  \n",
       "min       1.500000    27.000000   993.700000     8.200000     0.300000  \n",
       "25%       1.500000    69.600000  1012.400000    14.400000     2.500000  \n",
       "50%       1.500000    78.200000  1017.000000    18.200000     3.100000  \n",
       "75%       2.900000    85.100000  1022.000000    21.200000     4.300000  \n",
       "max      17.200000    98.000000  1035.900000    32.000000    13.000000  "
      ]
     },
     "execution_count": 5,
     "metadata": {},
     "output_type": "execute_result"
    }
   ],
   "source": [
    "new_data.describe()"
   ]
  },
  {
   "cell_type": "code",
   "execution_count": 6,
   "id": "ca2cc3d9",
   "metadata": {
    "execution": {
     "iopub.execute_input": "2025-01-13T16:29:13.385433Z",
     "iopub.status.busy": "2025-01-13T16:29:13.385069Z",
     "iopub.status.idle": "2025-01-13T16:29:13.404196Z",
     "shell.execute_reply": "2025-01-13T16:29:13.402617Z"
    },
    "papermill": {
     "duration": 0.064963,
     "end_time": "2025-01-13T16:29:13.406773",
     "exception": false,
     "start_time": "2025-01-13T16:29:13.341810",
     "status": "completed"
    },
    "tags": []
   },
   "outputs": [
    {
     "name": "stdout",
     "output_type": "stream",
     "text": [
      "The number of values for feature Date :2767\n",
      "The number of values for feature co :11 -- [ 1.2  2.3  3.4  4.5  5.6  6.7  7.8  8.9 11.2 16.7  nan]\n",
      "The number of values for feature no2 :22\n",
      "The number of values for feature o3 :40\n",
      "The number of values for feature pm10 :61\n",
      "The number of values for feature pm25 :81\n",
      "The number of values for feature so2 :9 -- [ 1.5  2.9  4.3  5.8  7.2  8.6 10.  17.2  nan]\n",
      "The number of values for feature humidity :477\n",
      "The number of values for feature pressure :323\n",
      "The number of values for feature temperature :189\n",
      "The number of values for feature wind-speed :105\n",
      "The number of values for feature Country_City :1 -- ['Australia_Newcastle']\n"
     ]
    }
   ],
   "source": [
    "# Investigate all the elements whithin each Feature\n",
    "\n",
    "for column in new_data:\n",
    "    # Handle numerical and string columns differently\n",
    "    if new_data[column].dtype == 'object':  # Check if column is of object type\n",
    "        unique_vals = new_data[column].unique()  # pandas unique for strings\n",
    "    else:\n",
    "        unique_vals = np.unique(new_data[column])  # numpy unique for numerical types\n",
    "\n",
    "    nr_values = len(unique_vals)\n",
    "    if nr_values < 14:\n",
    "        print('The number of values for feature {} :{} -- {}'.format(column, nr_values,unique_vals))\n",
    "    else:\n",
    "        print('The number of values for feature {} :{}'.format(column, nr_values))"
   ]
  },
  {
   "cell_type": "code",
   "execution_count": 7,
   "id": "5c322a22",
   "metadata": {
    "execution": {
     "iopub.execute_input": "2025-01-13T16:29:13.494128Z",
     "iopub.status.busy": "2025-01-13T16:29:13.493746Z",
     "iopub.status.idle": "2025-01-13T16:29:13.501590Z",
     "shell.execute_reply": "2025-01-13T16:29:13.500707Z"
    },
    "papermill": {
     "duration": 0.050132,
     "end_time": "2025-01-13T16:29:13.503086",
     "exception": false,
     "start_time": "2025-01-13T16:29:13.452954",
     "status": "completed"
    },
    "tags": []
   },
   "outputs": [
    {
     "data": {
      "text/plain": [
       "Date               0\n",
       "co              1911\n",
       "no2                0\n",
       "o3              1702\n",
       "pm10               0\n",
       "pm25               1\n",
       "so2                9\n",
       "humidity         716\n",
       "pressure         716\n",
       "temperature      716\n",
       "wind-speed       798\n",
       "Country_City       0\n",
       "dtype: int64"
      ]
     },
     "execution_count": 7,
     "metadata": {},
     "output_type": "execute_result"
    }
   ],
   "source": [
    "new_data.isna().sum()"
   ]
  },
  {
   "cell_type": "markdown",
   "id": "82e2d5b7",
   "metadata": {
    "papermill": {
     "duration": 0.030162,
     "end_time": "2025-01-13T16:29:13.563353",
     "exception": false,
     "start_time": "2025-01-13T16:29:13.533191",
     "status": "completed"
    },
    "tags": []
   },
   "source": [
    "# **1.2 - Function**"
   ]
  },
  {
   "cell_type": "code",
   "execution_count": 8,
   "id": "5ded02e6",
   "metadata": {
    "execution": {
     "iopub.execute_input": "2025-01-13T16:29:13.680547Z",
     "iopub.status.busy": "2025-01-13T16:29:13.680146Z",
     "iopub.status.idle": "2025-01-13T16:29:13.685899Z",
     "shell.execute_reply": "2025-01-13T16:29:13.684780Z"
    },
    "papermill": {
     "duration": 0.094405,
     "end_time": "2025-01-13T16:29:13.687501",
     "exception": false,
     "start_time": "2025-01-13T16:29:13.593096",
     "status": "completed"
    },
    "tags": []
   },
   "outputs": [
    {
     "name": "stdout",
     "output_type": "stream",
     "text": [
      "['__script__.py', '__results__.html', '__script__.ipynb', 'function.py', '__output__.json', 'custom.css']\n"
     ]
    }
   ],
   "source": [
    "print(os.listdir('/kaggle/usr/lib/function'))"
   ]
  },
  {
   "cell_type": "code",
   "execution_count": 9,
   "id": "3c63e047",
   "metadata": {
    "execution": {
     "iopub.execute_input": "2025-01-13T16:29:13.749112Z",
     "iopub.status.busy": "2025-01-13T16:29:13.748720Z",
     "iopub.status.idle": "2025-01-13T16:29:13.763263Z",
     "shell.execute_reply": "2025-01-13T16:29:13.762335Z"
    },
    "papermill": {
     "duration": 0.047483,
     "end_time": "2025-01-13T16:29:13.765223",
     "exception": false,
     "start_time": "2025-01-13T16:29:13.717740",
     "status": "completed"
    },
    "tags": []
   },
   "outputs": [],
   "source": [
    "import sys\n",
    "sys.path.append(\"/kaggle/usr/lib/function\")  # Add directory to the path\n",
    "\n",
    "import function as fn"
   ]
  },
  {
   "cell_type": "code",
   "execution_count": 10,
   "id": "148d6c72",
   "metadata": {
    "execution": {
     "iopub.execute_input": "2025-01-13T16:29:13.827497Z",
     "iopub.status.busy": "2025-01-13T16:29:13.827063Z",
     "iopub.status.idle": "2025-01-13T16:29:13.851601Z",
     "shell.execute_reply": "2025-01-13T16:29:13.850416Z"
    },
    "papermill": {
     "duration": 0.058005,
     "end_time": "2025-01-13T16:29:13.853252",
     "exception": false,
     "start_time": "2025-01-13T16:29:13.795247",
     "status": "completed"
    },
    "tags": []
   },
   "outputs": [
    {
     "data": {
      "text/html": [
       "<div>\n",
       "<style scoped>\n",
       "    .dataframe tbody tr th:only-of-type {\n",
       "        vertical-align: middle;\n",
       "    }\n",
       "\n",
       "    .dataframe tbody tr th {\n",
       "        vertical-align: top;\n",
       "    }\n",
       "\n",
       "    .dataframe thead th {\n",
       "        text-align: right;\n",
       "    }\n",
       "</style>\n",
       "<table border=\"1\" class=\"dataframe\">\n",
       "  <thead>\n",
       "    <tr style=\"text-align: right;\">\n",
       "      <th></th>\n",
       "      <th>co</th>\n",
       "      <th>no2</th>\n",
       "      <th>o3</th>\n",
       "      <th>pm10</th>\n",
       "      <th>pm25</th>\n",
       "      <th>so2</th>\n",
       "      <th>humidity</th>\n",
       "      <th>pressure</th>\n",
       "      <th>temperature</th>\n",
       "      <th>wind-speed</th>\n",
       "      <th>Country_City</th>\n",
       "    </tr>\n",
       "    <tr>\n",
       "      <th>Date</th>\n",
       "      <th></th>\n",
       "      <th></th>\n",
       "      <th></th>\n",
       "      <th></th>\n",
       "      <th></th>\n",
       "      <th></th>\n",
       "      <th></th>\n",
       "      <th></th>\n",
       "      <th></th>\n",
       "      <th></th>\n",
       "      <th></th>\n",
       "    </tr>\n",
       "  </thead>\n",
       "  <tbody>\n",
       "    <tr>\n",
       "      <th>2014-12-29</th>\n",
       "      <td>NaN</td>\n",
       "      <td>4.7</td>\n",
       "      <td>15.2</td>\n",
       "      <td>9.0</td>\n",
       "      <td>12.0</td>\n",
       "      <td>2.9</td>\n",
       "      <td>NaN</td>\n",
       "      <td>NaN</td>\n",
       "      <td>NaN</td>\n",
       "      <td>NaN</td>\n",
       "      <td>Australia_Newcastle</td>\n",
       "    </tr>\n",
       "    <tr>\n",
       "      <th>2014-12-30</th>\n",
       "      <td>3.4</td>\n",
       "      <td>4.7</td>\n",
       "      <td>19.2</td>\n",
       "      <td>21.0</td>\n",
       "      <td>23.0</td>\n",
       "      <td>1.5</td>\n",
       "      <td>NaN</td>\n",
       "      <td>NaN</td>\n",
       "      <td>NaN</td>\n",
       "      <td>NaN</td>\n",
       "      <td>Australia_Newcastle</td>\n",
       "    </tr>\n",
       "    <tr>\n",
       "      <th>2014-12-31</th>\n",
       "      <td>2.3</td>\n",
       "      <td>2.8</td>\n",
       "      <td>17.6</td>\n",
       "      <td>38.0</td>\n",
       "      <td>39.0</td>\n",
       "      <td>1.5</td>\n",
       "      <td>NaN</td>\n",
       "      <td>NaN</td>\n",
       "      <td>NaN</td>\n",
       "      <td>NaN</td>\n",
       "      <td>Australia_Newcastle</td>\n",
       "    </tr>\n",
       "    <tr>\n",
       "      <th>2015-01-01</th>\n",
       "      <td>2.3</td>\n",
       "      <td>1.9</td>\n",
       "      <td>16.8</td>\n",
       "      <td>24.0</td>\n",
       "      <td>38.0</td>\n",
       "      <td>1.5</td>\n",
       "      <td>NaN</td>\n",
       "      <td>NaN</td>\n",
       "      <td>NaN</td>\n",
       "      <td>NaN</td>\n",
       "      <td>Australia_Newcastle</td>\n",
       "    </tr>\n",
       "    <tr>\n",
       "      <th>2015-01-02</th>\n",
       "      <td>NaN</td>\n",
       "      <td>3.8</td>\n",
       "      <td>10.4</td>\n",
       "      <td>24.0</td>\n",
       "      <td>42.0</td>\n",
       "      <td>2.9</td>\n",
       "      <td>NaN</td>\n",
       "      <td>NaN</td>\n",
       "      <td>NaN</td>\n",
       "      <td>NaN</td>\n",
       "      <td>Australia_Newcastle</td>\n",
       "    </tr>\n",
       "  </tbody>\n",
       "</table>\n",
       "</div>"
      ],
      "text/plain": [
       "             co  no2    o3  pm10  pm25  so2  humidity  pressure  temperature  \\\n",
       "Date                                                                           \n",
       "2014-12-29  NaN  4.7  15.2   9.0  12.0  2.9       NaN       NaN          NaN   \n",
       "2014-12-30  3.4  4.7  19.2  21.0  23.0  1.5       NaN       NaN          NaN   \n",
       "2014-12-31  2.3  2.8  17.6  38.0  39.0  1.5       NaN       NaN          NaN   \n",
       "2015-01-01  2.3  1.9  16.8  24.0  38.0  1.5       NaN       NaN          NaN   \n",
       "2015-01-02  NaN  3.8  10.4  24.0  42.0  2.9       NaN       NaN          NaN   \n",
       "\n",
       "            wind-speed         Country_City  \n",
       "Date                                         \n",
       "2014-12-29         NaN  Australia_Newcastle  \n",
       "2014-12-30         NaN  Australia_Newcastle  \n",
       "2014-12-31         NaN  Australia_Newcastle  \n",
       "2015-01-01         NaN  Australia_Newcastle  \n",
       "2015-01-02         NaN  Australia_Newcastle  "
      ]
     },
     "execution_count": 10,
     "metadata": {},
     "output_type": "execute_result"
    }
   ],
   "source": [
    "# Use the functions\n",
    "new_data1 = fn.prepare_datetime_index(new_data, date_column='Date')\n",
    "new_data1.head()"
   ]
  },
  {
   "cell_type": "code",
   "execution_count": 11,
   "id": "4093e498",
   "metadata": {
    "execution": {
     "iopub.execute_input": "2025-01-13T16:29:13.915318Z",
     "iopub.status.busy": "2025-01-13T16:29:13.914989Z",
     "iopub.status.idle": "2025-01-13T16:29:13.929895Z",
     "shell.execute_reply": "2025-01-13T16:29:13.928641Z"
    },
    "papermill": {
     "duration": 0.047973,
     "end_time": "2025-01-13T16:29:13.931752",
     "exception": false,
     "start_time": "2025-01-13T16:29:13.883779",
     "status": "completed"
    },
    "tags": []
   },
   "outputs": [
    {
     "name": "stdout",
     "output_type": "stream",
     "text": [
      "co              0\n",
      "no2             0\n",
      "o3              0\n",
      "pm10            0\n",
      "pm25            0\n",
      "so2             0\n",
      "humidity        0\n",
      "pressure        0\n",
      "temperature     0\n",
      "wind-speed      0\n",
      "Country_City    0\n",
      "dtype: int64\n"
     ]
    }
   ],
   "source": [
    "# Use the functions\n",
    "new_data2 = fn.fill_pollutant_values(new_data1)\n",
    "print(new_data2.isna().sum())"
   ]
  },
  {
   "cell_type": "markdown",
   "id": "25967853",
   "metadata": {
    "papermill": {
     "duration": 0.029626,
     "end_time": "2025-01-13T16:29:13.992235",
     "exception": false,
     "start_time": "2025-01-13T16:29:13.962609",
     "status": "completed"
    },
    "tags": []
   },
   "source": [
    "**Check**"
   ]
  },
  {
   "cell_type": "code",
   "execution_count": 12,
   "id": "b44ed43a",
   "metadata": {
    "execution": {
     "iopub.execute_input": "2025-01-13T16:29:14.053916Z",
     "iopub.status.busy": "2025-01-13T16:29:14.053557Z",
     "iopub.status.idle": "2025-01-13T16:29:14.069263Z",
     "shell.execute_reply": "2025-01-13T16:29:14.067903Z"
    },
    "papermill": {
     "duration": 0.048366,
     "end_time": "2025-01-13T16:29:14.070956",
     "exception": false,
     "start_time": "2025-01-13T16:29:14.022590",
     "status": "completed"
    },
    "tags": []
   },
   "outputs": [
    {
     "name": "stdout",
     "output_type": "stream",
     "text": [
      "Missing Dates:\n",
      "DatetimeIndex(['2015-01-18', '2015-07-06', '2015-07-07', '2015-07-08',\n",
      "               '2015-07-09', '2015-07-10', '2015-07-11', '2015-07-12',\n",
      "               '2015-07-13', '2015-07-14',\n",
      "               ...\n",
      "               '2023-12-22', '2023-12-23', '2023-12-24', '2023-12-25',\n",
      "               '2023-12-26', '2023-12-27', '2023-12-28', '2023-12-29',\n",
      "               '2023-12-30', '2023-12-31'],\n",
      "              dtype='datetime64[ns]', length=898, freq=None)\n"
     ]
    }
   ],
   "source": [
    "# Create a complete range of dates\n",
    "full_range = pd.date_range(start=new_data2.index.min(), end=new_data2.index.max())\n",
    "\n",
    "# Find missing dates\n",
    "missing_dates = full_range.difference(new_data2.index)\n",
    "print(\"Missing Dates:\")\n",
    "print(missing_dates)"
   ]
  },
  {
   "cell_type": "code",
   "execution_count": 13,
   "id": "9b94ea76",
   "metadata": {
    "execution": {
     "iopub.execute_input": "2025-01-13T16:29:14.133427Z",
     "iopub.status.busy": "2025-01-13T16:29:14.133077Z",
     "iopub.status.idle": "2025-01-13T16:29:14.145684Z",
     "shell.execute_reply": "2025-01-13T16:29:14.144563Z"
    },
    "papermill": {
     "duration": 0.045919,
     "end_time": "2025-01-13T16:29:14.147409",
     "exception": false,
     "start_time": "2025-01-13T16:29:14.101490",
     "status": "completed"
    },
    "tags": []
   },
   "outputs": [],
   "source": [
    "new_data3 = fn.impute_missing_dates(new_data2)"
   ]
  },
  {
   "cell_type": "code",
   "execution_count": 14,
   "id": "46c28d5e",
   "metadata": {
    "execution": {
     "iopub.execute_input": "2025-01-13T16:29:14.211634Z",
     "iopub.status.busy": "2025-01-13T16:29:14.211177Z",
     "iopub.status.idle": "2025-01-13T16:29:14.219506Z",
     "shell.execute_reply": "2025-01-13T16:29:14.218208Z"
    },
    "papermill": {
     "duration": 0.041975,
     "end_time": "2025-01-13T16:29:14.221227",
     "exception": false,
     "start_time": "2025-01-13T16:29:14.179252",
     "status": "completed"
    },
    "tags": []
   },
   "outputs": [
    {
     "name": "stdout",
     "output_type": "stream",
     "text": [
      "Missing Dates:\n",
      "DatetimeIndex([], dtype='datetime64[ns]', freq='D')\n"
     ]
    }
   ],
   "source": [
    "# Create a complete range of dates\n",
    "full_range = pd.date_range(start=new_data3.index.min(), end=new_data3.index.max())\n",
    "\n",
    "# Find missing dates\n",
    "missing_dates = full_range.difference(new_data3.index)\n",
    "print(\"Missing Dates:\")\n",
    "print(missing_dates)"
   ]
  },
  {
   "cell_type": "code",
   "execution_count": 15,
   "id": "82dd3647",
   "metadata": {
    "execution": {
     "iopub.execute_input": "2025-01-13T16:29:14.282731Z",
     "iopub.status.busy": "2025-01-13T16:29:14.282291Z",
     "iopub.status.idle": "2025-01-13T16:29:14.288512Z",
     "shell.execute_reply": "2025-01-13T16:29:14.287167Z"
    },
    "papermill": {
     "duration": 0.038837,
     "end_time": "2025-01-13T16:29:14.290162",
     "exception": false,
     "start_time": "2025-01-13T16:29:14.251325",
     "status": "completed"
    },
    "tags": []
   },
   "outputs": [
    {
     "name": "stdout",
     "output_type": "stream",
     "text": [
      "Duplicate indexes: DatetimeIndex([], dtype='datetime64[ns]', freq='D')\n"
     ]
    }
   ],
   "source": [
    "duplicates = new_data3.index[new_data3.index.duplicated()]\n",
    "print(f\"Duplicate indexes: {duplicates}\")"
   ]
  },
  {
   "cell_type": "markdown",
   "id": "ccdd536a",
   "metadata": {
    "papermill": {
     "duration": 0.03012,
     "end_time": "2025-01-13T16:29:14.350862",
     "exception": false,
     "start_time": "2025-01-13T16:29:14.320742",
     "status": "completed"
    },
    "tags": []
   },
   "source": [
    "# **1.3.Normal AQI count, After Normal AQI count Smoothing AQI(IQR, Z-score, Rolling), (Preprocess Pollution --> Smooth Pollution --> Calculate smooth aqi).**"
   ]
  },
  {
   "cell_type": "code",
   "execution_count": 16,
   "id": "5ad5a639",
   "metadata": {
    "execution": {
     "iopub.execute_input": "2025-01-13T16:29:14.412627Z",
     "iopub.status.busy": "2025-01-13T16:29:14.412178Z",
     "iopub.status.idle": "2025-01-13T16:29:14.424270Z",
     "shell.execute_reply": "2025-01-13T16:29:14.423050Z"
    },
    "papermill": {
     "duration": 0.045041,
     "end_time": "2025-01-13T16:29:14.426072",
     "exception": false,
     "start_time": "2025-01-13T16:29:14.381031",
     "status": "completed"
    },
    "tags": []
   },
   "outputs": [],
   "source": [
    "new_data4 = fn.calculate_aqi(new_data3, subindex_columns=['co', 'no2', 'o3', 'pm10', 'pm25', 'so2'])"
   ]
  },
  {
   "cell_type": "code",
   "execution_count": 17,
   "id": "d4089831",
   "metadata": {
    "execution": {
     "iopub.execute_input": "2025-01-13T16:29:14.490788Z",
     "iopub.status.busy": "2025-01-13T16:29:14.490345Z",
     "iopub.status.idle": "2025-01-13T16:29:14.507744Z",
     "shell.execute_reply": "2025-01-13T16:29:14.506787Z"
    },
    "papermill": {
     "duration": 0.05264,
     "end_time": "2025-01-13T16:29:14.509531",
     "exception": false,
     "start_time": "2025-01-13T16:29:14.456891",
     "status": "completed"
    },
    "tags": []
   },
   "outputs": [
    {
     "data": {
      "text/html": [
       "<div>\n",
       "<style scoped>\n",
       "    .dataframe tbody tr th:only-of-type {\n",
       "        vertical-align: middle;\n",
       "    }\n",
       "\n",
       "    .dataframe tbody tr th {\n",
       "        vertical-align: top;\n",
       "    }\n",
       "\n",
       "    .dataframe thead th {\n",
       "        text-align: right;\n",
       "    }\n",
       "</style>\n",
       "<table border=\"1\" class=\"dataframe\">\n",
       "  <thead>\n",
       "    <tr style=\"text-align: right;\">\n",
       "      <th></th>\n",
       "      <th>co</th>\n",
       "      <th>no2</th>\n",
       "      <th>o3</th>\n",
       "      <th>pm10</th>\n",
       "      <th>pm25</th>\n",
       "      <th>so2</th>\n",
       "      <th>humidity</th>\n",
       "      <th>pressure</th>\n",
       "      <th>temperature</th>\n",
       "      <th>wind-speed</th>\n",
       "      <th>Country_City</th>\n",
       "      <th>Checks</th>\n",
       "      <th>AQI</th>\n",
       "    </tr>\n",
       "  </thead>\n",
       "  <tbody>\n",
       "    <tr>\n",
       "      <th>2014-12-29</th>\n",
       "      <td>3.138695</td>\n",
       "      <td>4.7</td>\n",
       "      <td>15.2</td>\n",
       "      <td>9.0</td>\n",
       "      <td>12.0</td>\n",
       "      <td>2.9</td>\n",
       "      <td>76.126377</td>\n",
       "      <td>1017.086884</td>\n",
       "      <td>18.027986</td>\n",
       "      <td>3.545607</td>\n",
       "      <td>Australia_Newcastle</td>\n",
       "      <td>6</td>\n",
       "      <td>15.0</td>\n",
       "    </tr>\n",
       "    <tr>\n",
       "      <th>2014-12-30</th>\n",
       "      <td>3.400000</td>\n",
       "      <td>4.7</td>\n",
       "      <td>19.2</td>\n",
       "      <td>21.0</td>\n",
       "      <td>23.0</td>\n",
       "      <td>1.5</td>\n",
       "      <td>76.126377</td>\n",
       "      <td>1017.086884</td>\n",
       "      <td>18.027986</td>\n",
       "      <td>3.545607</td>\n",
       "      <td>Australia_Newcastle</td>\n",
       "      <td>6</td>\n",
       "      <td>23.0</td>\n",
       "    </tr>\n",
       "    <tr>\n",
       "      <th>2014-12-31</th>\n",
       "      <td>2.300000</td>\n",
       "      <td>2.8</td>\n",
       "      <td>17.6</td>\n",
       "      <td>38.0</td>\n",
       "      <td>39.0</td>\n",
       "      <td>1.5</td>\n",
       "      <td>76.126377</td>\n",
       "      <td>1017.086884</td>\n",
       "      <td>18.027986</td>\n",
       "      <td>3.545607</td>\n",
       "      <td>Australia_Newcastle</td>\n",
       "      <td>6</td>\n",
       "      <td>39.0</td>\n",
       "    </tr>\n",
       "    <tr>\n",
       "      <th>2015-01-01</th>\n",
       "      <td>2.300000</td>\n",
       "      <td>1.9</td>\n",
       "      <td>16.8</td>\n",
       "      <td>24.0</td>\n",
       "      <td>38.0</td>\n",
       "      <td>1.5</td>\n",
       "      <td>76.126377</td>\n",
       "      <td>1017.086884</td>\n",
       "      <td>18.027986</td>\n",
       "      <td>3.545607</td>\n",
       "      <td>Australia_Newcastle</td>\n",
       "      <td>6</td>\n",
       "      <td>38.0</td>\n",
       "    </tr>\n",
       "    <tr>\n",
       "      <th>2015-01-02</th>\n",
       "      <td>3.138695</td>\n",
       "      <td>3.8</td>\n",
       "      <td>10.4</td>\n",
       "      <td>24.0</td>\n",
       "      <td>42.0</td>\n",
       "      <td>2.9</td>\n",
       "      <td>76.126377</td>\n",
       "      <td>1017.086884</td>\n",
       "      <td>18.027986</td>\n",
       "      <td>3.545607</td>\n",
       "      <td>Australia_Newcastle</td>\n",
       "      <td>6</td>\n",
       "      <td>42.0</td>\n",
       "    </tr>\n",
       "  </tbody>\n",
       "</table>\n",
       "</div>"
      ],
      "text/plain": [
       "                  co  no2    o3  pm10  pm25  so2   humidity     pressure  \\\n",
       "2014-12-29  3.138695  4.7  15.2   9.0  12.0  2.9  76.126377  1017.086884   \n",
       "2014-12-30  3.400000  4.7  19.2  21.0  23.0  1.5  76.126377  1017.086884   \n",
       "2014-12-31  2.300000  2.8  17.6  38.0  39.0  1.5  76.126377  1017.086884   \n",
       "2015-01-01  2.300000  1.9  16.8  24.0  38.0  1.5  76.126377  1017.086884   \n",
       "2015-01-02  3.138695  3.8  10.4  24.0  42.0  2.9  76.126377  1017.086884   \n",
       "\n",
       "            temperature  wind-speed         Country_City  Checks   AQI  \n",
       "2014-12-29    18.027986    3.545607  Australia_Newcastle       6  15.0  \n",
       "2014-12-30    18.027986    3.545607  Australia_Newcastle       6  23.0  \n",
       "2014-12-31    18.027986    3.545607  Australia_Newcastle       6  39.0  \n",
       "2015-01-01    18.027986    3.545607  Australia_Newcastle       6  38.0  \n",
       "2015-01-02    18.027986    3.545607  Australia_Newcastle       6  42.0  "
      ]
     },
     "execution_count": 17,
     "metadata": {},
     "output_type": "execute_result"
    }
   ],
   "source": [
    "new_data4.head()"
   ]
  },
  {
   "cell_type": "code",
   "execution_count": 18,
   "id": "24a16fb9",
   "metadata": {
    "execution": {
     "iopub.execute_input": "2025-01-13T16:29:14.572755Z",
     "iopub.status.busy": "2025-01-13T16:29:14.572296Z",
     "iopub.status.idle": "2025-01-13T16:29:14.578381Z",
     "shell.execute_reply": "2025-01-13T16:29:14.577501Z"
    },
    "papermill": {
     "duration": 0.039546,
     "end_time": "2025-01-13T16:29:14.580199",
     "exception": false,
     "start_time": "2025-01-13T16:29:14.540653",
     "status": "completed"
    },
    "tags": []
   },
   "outputs": [
    {
     "data": {
      "text/plain": [
       "(3665, 13)"
      ]
     },
     "execution_count": 18,
     "metadata": {},
     "output_type": "execute_result"
    }
   ],
   "source": [
    "new_data4.shape"
   ]
  },
  {
   "cell_type": "markdown",
   "id": "9b0e285c",
   "metadata": {
    "papermill": {
     "duration": 0.030871,
     "end_time": "2025-01-13T16:29:14.643017",
     "exception": false,
     "start_time": "2025-01-13T16:29:14.612146",
     "status": "completed"
    },
    "tags": []
   },
   "source": [
    " After Normal AQI count Smoothing AQI(IQR, Z-score, Rolling)"
   ]
  },
  {
   "cell_type": "code",
   "execution_count": 19,
   "id": "7d46e189",
   "metadata": {
    "execution": {
     "iopub.execute_input": "2025-01-13T16:29:14.706995Z",
     "iopub.status.busy": "2025-01-13T16:29:14.706597Z",
     "iopub.status.idle": "2025-01-13T16:29:14.727595Z",
     "shell.execute_reply": "2025-01-13T16:29:14.726487Z"
    },
    "papermill": {
     "duration": 0.055498,
     "end_time": "2025-01-13T16:29:14.729381",
     "exception": false,
     "start_time": "2025-01-13T16:29:14.673883",
     "status": "completed"
    },
    "tags": []
   },
   "outputs": [],
   "source": [
    "# Apply the outlier handling function to the 'AQI' column only\n",
    "new_data4['AQI_smoothed_iqr'] = fn.handle_aqi_outliers(new_data4['AQI'], method='iqr')\n",
    "new_data4['AQI_smoothed_zscore'] = fn.handle_aqi_outliers(new_data4['AQI'], method='zscore')\n",
    "new_data4['AQI_smoothed_rolling'] = fn.handle_aqi_outliers(new_data4['AQI'], method='rolling')"
   ]
  },
  {
   "cell_type": "code",
   "execution_count": 20,
   "id": "f3ac7d7e",
   "metadata": {
    "execution": {
     "iopub.execute_input": "2025-01-13T16:29:14.792792Z",
     "iopub.status.busy": "2025-01-13T16:29:14.792302Z",
     "iopub.status.idle": "2025-01-13T16:29:14.813260Z",
     "shell.execute_reply": "2025-01-13T16:29:14.812198Z"
    },
    "papermill": {
     "duration": 0.054861,
     "end_time": "2025-01-13T16:29:14.814907",
     "exception": false,
     "start_time": "2025-01-13T16:29:14.760046",
     "status": "completed"
    },
    "tags": []
   },
   "outputs": [
    {
     "data": {
      "text/html": [
       "<div>\n",
       "<style scoped>\n",
       "    .dataframe tbody tr th:only-of-type {\n",
       "        vertical-align: middle;\n",
       "    }\n",
       "\n",
       "    .dataframe tbody tr th {\n",
       "        vertical-align: top;\n",
       "    }\n",
       "\n",
       "    .dataframe thead th {\n",
       "        text-align: right;\n",
       "    }\n",
       "</style>\n",
       "<table border=\"1\" class=\"dataframe\">\n",
       "  <thead>\n",
       "    <tr style=\"text-align: right;\">\n",
       "      <th></th>\n",
       "      <th>co</th>\n",
       "      <th>no2</th>\n",
       "      <th>o3</th>\n",
       "      <th>pm10</th>\n",
       "      <th>pm25</th>\n",
       "      <th>so2</th>\n",
       "      <th>humidity</th>\n",
       "      <th>pressure</th>\n",
       "      <th>temperature</th>\n",
       "      <th>wind-speed</th>\n",
       "      <th>Country_City</th>\n",
       "      <th>Checks</th>\n",
       "      <th>AQI</th>\n",
       "      <th>AQI_smoothed_iqr</th>\n",
       "      <th>AQI_smoothed_zscore</th>\n",
       "      <th>AQI_smoothed_rolling</th>\n",
       "    </tr>\n",
       "  </thead>\n",
       "  <tbody>\n",
       "    <tr>\n",
       "      <th>2014-12-29</th>\n",
       "      <td>3.138695</td>\n",
       "      <td>4.7</td>\n",
       "      <td>15.2</td>\n",
       "      <td>9.0</td>\n",
       "      <td>12.0</td>\n",
       "      <td>2.9</td>\n",
       "      <td>76.126377</td>\n",
       "      <td>1017.086884</td>\n",
       "      <td>18.027986</td>\n",
       "      <td>3.545607</td>\n",
       "      <td>Australia_Newcastle</td>\n",
       "      <td>6</td>\n",
       "      <td>15.0</td>\n",
       "      <td>15.0</td>\n",
       "      <td>15.0</td>\n",
       "      <td>15.0</td>\n",
       "    </tr>\n",
       "    <tr>\n",
       "      <th>2014-12-30</th>\n",
       "      <td>3.400000</td>\n",
       "      <td>4.7</td>\n",
       "      <td>19.2</td>\n",
       "      <td>21.0</td>\n",
       "      <td>23.0</td>\n",
       "      <td>1.5</td>\n",
       "      <td>76.126377</td>\n",
       "      <td>1017.086884</td>\n",
       "      <td>18.027986</td>\n",
       "      <td>3.545607</td>\n",
       "      <td>Australia_Newcastle</td>\n",
       "      <td>6</td>\n",
       "      <td>23.0</td>\n",
       "      <td>23.0</td>\n",
       "      <td>23.0</td>\n",
       "      <td>23.0</td>\n",
       "    </tr>\n",
       "    <tr>\n",
       "      <th>2014-12-31</th>\n",
       "      <td>2.300000</td>\n",
       "      <td>2.8</td>\n",
       "      <td>17.6</td>\n",
       "      <td>38.0</td>\n",
       "      <td>39.0</td>\n",
       "      <td>1.5</td>\n",
       "      <td>76.126377</td>\n",
       "      <td>1017.086884</td>\n",
       "      <td>18.027986</td>\n",
       "      <td>3.545607</td>\n",
       "      <td>Australia_Newcastle</td>\n",
       "      <td>6</td>\n",
       "      <td>39.0</td>\n",
       "      <td>39.0</td>\n",
       "      <td>39.0</td>\n",
       "      <td>39.0</td>\n",
       "    </tr>\n",
       "    <tr>\n",
       "      <th>2015-01-01</th>\n",
       "      <td>2.300000</td>\n",
       "      <td>1.9</td>\n",
       "      <td>16.8</td>\n",
       "      <td>24.0</td>\n",
       "      <td>38.0</td>\n",
       "      <td>1.5</td>\n",
       "      <td>76.126377</td>\n",
       "      <td>1017.086884</td>\n",
       "      <td>18.027986</td>\n",
       "      <td>3.545607</td>\n",
       "      <td>Australia_Newcastle</td>\n",
       "      <td>6</td>\n",
       "      <td>38.0</td>\n",
       "      <td>38.0</td>\n",
       "      <td>38.0</td>\n",
       "      <td>38.0</td>\n",
       "    </tr>\n",
       "    <tr>\n",
       "      <th>2015-01-02</th>\n",
       "      <td>3.138695</td>\n",
       "      <td>3.8</td>\n",
       "      <td>10.4</td>\n",
       "      <td>24.0</td>\n",
       "      <td>42.0</td>\n",
       "      <td>2.9</td>\n",
       "      <td>76.126377</td>\n",
       "      <td>1017.086884</td>\n",
       "      <td>18.027986</td>\n",
       "      <td>3.545607</td>\n",
       "      <td>Australia_Newcastle</td>\n",
       "      <td>6</td>\n",
       "      <td>42.0</td>\n",
       "      <td>42.0</td>\n",
       "      <td>42.0</td>\n",
       "      <td>42.0</td>\n",
       "    </tr>\n",
       "  </tbody>\n",
       "</table>\n",
       "</div>"
      ],
      "text/plain": [
       "                  co  no2    o3  pm10  pm25  so2   humidity     pressure  \\\n",
       "2014-12-29  3.138695  4.7  15.2   9.0  12.0  2.9  76.126377  1017.086884   \n",
       "2014-12-30  3.400000  4.7  19.2  21.0  23.0  1.5  76.126377  1017.086884   \n",
       "2014-12-31  2.300000  2.8  17.6  38.0  39.0  1.5  76.126377  1017.086884   \n",
       "2015-01-01  2.300000  1.9  16.8  24.0  38.0  1.5  76.126377  1017.086884   \n",
       "2015-01-02  3.138695  3.8  10.4  24.0  42.0  2.9  76.126377  1017.086884   \n",
       "\n",
       "            temperature  wind-speed         Country_City  Checks   AQI  \\\n",
       "2014-12-29    18.027986    3.545607  Australia_Newcastle       6  15.0   \n",
       "2014-12-30    18.027986    3.545607  Australia_Newcastle       6  23.0   \n",
       "2014-12-31    18.027986    3.545607  Australia_Newcastle       6  39.0   \n",
       "2015-01-01    18.027986    3.545607  Australia_Newcastle       6  38.0   \n",
       "2015-01-02    18.027986    3.545607  Australia_Newcastle       6  42.0   \n",
       "\n",
       "            AQI_smoothed_iqr  AQI_smoothed_zscore  AQI_smoothed_rolling  \n",
       "2014-12-29              15.0                 15.0                  15.0  \n",
       "2014-12-30              23.0                 23.0                  23.0  \n",
       "2014-12-31              39.0                 39.0                  39.0  \n",
       "2015-01-01              38.0                 38.0                  38.0  \n",
       "2015-01-02              42.0                 42.0                  42.0  "
      ]
     },
     "execution_count": 20,
     "metadata": {},
     "output_type": "execute_result"
    }
   ],
   "source": [
    "new_data4.head()"
   ]
  },
  {
   "cell_type": "code",
   "execution_count": 21,
   "id": "cdb3cddb",
   "metadata": {
    "execution": {
     "iopub.execute_input": "2025-01-13T16:29:14.877715Z",
     "iopub.status.busy": "2025-01-13T16:29:14.877312Z",
     "iopub.status.idle": "2025-01-13T16:29:16.646633Z",
     "shell.execute_reply": "2025-01-13T16:29:16.645366Z"
    },
    "papermill": {
     "duration": 1.8049,
     "end_time": "2025-01-13T16:29:16.650548",
     "exception": false,
     "start_time": "2025-01-13T16:29:14.845648",
     "status": "completed"
    },
    "tags": []
   },
   "outputs": [
    {
     "data": {
      "image/png": "[encoded data removed]",
      "text/plain": [
       "<Figure size 1500x1000 with 4 Axes>"
      ]
     },
     "metadata": {},
     "output_type": "display_data"
    }
   ],
   "source": [
    "# Create subplots\n",
    "fig, axes = plt.subplots(2, 2, figsize=(15, 10))\n",
    "\n",
    "# Plot original AQI\n",
    "new_data4['AQI'].plot(\n",
    "    ax=axes[0, 0], \n",
    "    title='Original AQI', \n",
    "    color='blue', \n",
    "    label='Original AQI'\n",
    ")\n",
    "axes[0, 0].legend()\n",
    "\n",
    "# Plot IQR Method smoothed AQI\n",
    "new_data4['AQI_smoothed_iqr'].plot(\n",
    "    ax=axes[0, 1], \n",
    "    title='IQR Method', \n",
    "    color='green', \n",
    "    label='IQR Smoothed'\n",
    ")\n",
    "axes[0, 1].legend()\n",
    "\n",
    "# Plot Z-Score Method smoothed AQI\n",
    "new_data4['AQI_smoothed_zscore'].plot(\n",
    "    ax=axes[1, 0], \n",
    "    title='Z-Score Method', \n",
    "    color='red', \n",
    "    label='Z-Score Smoothed'\n",
    ")\n",
    "axes[1, 0].legend()\n",
    "\n",
    "# Plot Rolling Method smoothed AQI\n",
    "new_data4['AQI_smoothed_rolling'].plot(\n",
    "    ax=axes[1, 1], \n",
    "    title='Rolling Method', \n",
    "    color='purple', \n",
    "    label='Rolling Smoothed'\n",
    ")\n",
    "axes[1, 1].legend()\n",
    "\n",
    "\n",
    "plt.tight_layout()\n",
    "plt.show()"
   ]
  },
  {
   "cell_type": "markdown",
   "id": "c609f923",
   "metadata": {
    "papermill": {
     "duration": 0.034241,
     "end_time": "2025-01-13T16:29:16.719375",
     "exception": false,
     "start_time": "2025-01-13T16:29:16.685134",
     "status": "completed"
    },
    "tags": []
   },
   "source": [
    "(Preprocess Pollution --> Smooth Pollution --> Calculate smooth aqi)"
   ]
  },
  {
   "cell_type": "code",
   "execution_count": 22,
   "id": "39abfabd",
   "metadata": {
    "execution": {
     "iopub.execute_input": "2025-01-13T16:29:16.791172Z",
     "iopub.status.busy": "2025-01-13T16:29:16.790796Z",
     "iopub.status.idle": "2025-01-13T16:29:16.838877Z",
     "shell.execute_reply": "2025-01-13T16:29:16.837765Z"
    },
    "papermill": {
     "duration": 0.086528,
     "end_time": "2025-01-13T16:29:16.840660",
     "exception": false,
     "start_time": "2025-01-13T16:29:16.754132",
     "status": "completed"
    },
    "tags": []
   },
   "outputs": [
    {
     "data": {
      "text/html": [
       "<div>\n",
       "<style scoped>\n",
       "    .dataframe tbody tr th:only-of-type {\n",
       "        vertical-align: middle;\n",
       "    }\n",
       "\n",
       "    .dataframe tbody tr th {\n",
       "        vertical-align: top;\n",
       "    }\n",
       "\n",
       "    .dataframe thead th {\n",
       "        text-align: right;\n",
       "    }\n",
       "</style>\n",
       "<table border=\"1\" class=\"dataframe\">\n",
       "  <thead>\n",
       "    <tr style=\"text-align: right;\">\n",
       "      <th></th>\n",
       "      <th>co</th>\n",
       "      <th>no2</th>\n",
       "      <th>o3</th>\n",
       "      <th>pm10</th>\n",
       "      <th>pm25</th>\n",
       "      <th>so2</th>\n",
       "      <th>humidity</th>\n",
       "      <th>pressure</th>\n",
       "      <th>temperature</th>\n",
       "      <th>wind-speed</th>\n",
       "      <th>Country_City</th>\n",
       "      <th>AQI_Smooth</th>\n",
       "    </tr>\n",
       "  </thead>\n",
       "  <tbody>\n",
       "    <tr>\n",
       "      <th>2014-12-29</th>\n",
       "      <td>2.920940</td>\n",
       "      <td>3.616667</td>\n",
       "      <td>15.333333</td>\n",
       "      <td>22.666667</td>\n",
       "      <td>32.000000</td>\n",
       "      <td>1.966667</td>\n",
       "      <td>76.126377</td>\n",
       "      <td>1017.086884</td>\n",
       "      <td>18.027986</td>\n",
       "      <td>3.545607</td>\n",
       "      <td>Australia_Newcastle</td>\n",
       "      <td>32.000000</td>\n",
       "    </tr>\n",
       "    <tr>\n",
       "      <th>2014-12-30</th>\n",
       "      <td>2.920940</td>\n",
       "      <td>3.616667</td>\n",
       "      <td>15.333333</td>\n",
       "      <td>22.666667</td>\n",
       "      <td>32.000000</td>\n",
       "      <td>1.966667</td>\n",
       "      <td>76.126377</td>\n",
       "      <td>1017.086884</td>\n",
       "      <td>18.027986</td>\n",
       "      <td>3.545607</td>\n",
       "      <td>Australia_Newcastle</td>\n",
       "      <td>32.000000</td>\n",
       "    </tr>\n",
       "    <tr>\n",
       "      <th>2014-12-31</th>\n",
       "      <td>2.920940</td>\n",
       "      <td>3.616667</td>\n",
       "      <td>15.333333</td>\n",
       "      <td>22.666667</td>\n",
       "      <td>32.000000</td>\n",
       "      <td>1.966667</td>\n",
       "      <td>76.126377</td>\n",
       "      <td>1017.086884</td>\n",
       "      <td>18.027986</td>\n",
       "      <td>3.545607</td>\n",
       "      <td>Australia_Newcastle</td>\n",
       "      <td>32.000000</td>\n",
       "    </tr>\n",
       "    <tr>\n",
       "      <th>2015-01-01</th>\n",
       "      <td>2.920940</td>\n",
       "      <td>3.616667</td>\n",
       "      <td>15.333333</td>\n",
       "      <td>22.666667</td>\n",
       "      <td>32.000000</td>\n",
       "      <td>1.966667</td>\n",
       "      <td>76.126377</td>\n",
       "      <td>1017.086884</td>\n",
       "      <td>18.027986</td>\n",
       "      <td>3.545607</td>\n",
       "      <td>Australia_Newcastle</td>\n",
       "      <td>32.000000</td>\n",
       "    </tr>\n",
       "    <tr>\n",
       "      <th>2015-01-02</th>\n",
       "      <td>2.964491</td>\n",
       "      <td>3.466667</td>\n",
       "      <td>14.816667</td>\n",
       "      <td>24.000000</td>\n",
       "      <td>34.166667</td>\n",
       "      <td>1.966667</td>\n",
       "      <td>76.126377</td>\n",
       "      <td>1017.086884</td>\n",
       "      <td>18.027986</td>\n",
       "      <td>3.545607</td>\n",
       "      <td>Australia_Newcastle</td>\n",
       "      <td>34.166667</td>\n",
       "    </tr>\n",
       "  </tbody>\n",
       "</table>\n",
       "</div>"
      ],
      "text/plain": [
       "                  co       no2         o3       pm10       pm25       so2  \\\n",
       "2014-12-29  2.920940  3.616667  15.333333  22.666667  32.000000  1.966667   \n",
       "2014-12-30  2.920940  3.616667  15.333333  22.666667  32.000000  1.966667   \n",
       "2014-12-31  2.920940  3.616667  15.333333  22.666667  32.000000  1.966667   \n",
       "2015-01-01  2.920940  3.616667  15.333333  22.666667  32.000000  1.966667   \n",
       "2015-01-02  2.964491  3.466667  14.816667  24.000000  34.166667  1.966667   \n",
       "\n",
       "             humidity     pressure  temperature  wind-speed  \\\n",
       "2014-12-29  76.126377  1017.086884    18.027986    3.545607   \n",
       "2014-12-30  76.126377  1017.086884    18.027986    3.545607   \n",
       "2014-12-31  76.126377  1017.086884    18.027986    3.545607   \n",
       "2015-01-01  76.126377  1017.086884    18.027986    3.545607   \n",
       "2015-01-02  76.126377  1017.086884    18.027986    3.545607   \n",
       "\n",
       "                   Country_City  AQI_Smooth  \n",
       "2014-12-29  Australia_Newcastle   32.000000  \n",
       "2014-12-30  Australia_Newcastle   32.000000  \n",
       "2014-12-31  Australia_Newcastle   32.000000  \n",
       "2015-01-01  Australia_Newcastle   32.000000  \n",
       "2015-01-02  Australia_Newcastle   34.166667  "
      ]
     },
     "execution_count": 22,
     "metadata": {},
     "output_type": "execute_result"
    }
   ],
   "source": [
    "new_smooth = fn.calculate_smooth_aqi(new_data3, columns=['co', 'no2', 'o3', 'pm10', 'pm25', 'so2'])\n",
    "new_smooth.head()"
   ]
  },
  {
   "cell_type": "markdown",
   "id": "cb80bf51",
   "metadata": {
    "papermill": {
     "duration": 0.035415,
     "end_time": "2025-01-13T16:29:16.911173",
     "exception": false,
     "start_time": "2025-01-13T16:29:16.875758",
     "status": "completed"
    },
    "tags": []
   },
   "source": [
    "# **2.1. Splitting & Preprocessing the Raw Data(Normal AQI)**"
   ]
  },
  {
   "cell_type": "markdown",
   "id": "f96dcca9",
   "metadata": {
    "papermill": {
     "duration": 0.034201,
     "end_time": "2025-01-13T16:29:16.980091",
     "exception": false,
     "start_time": "2025-01-13T16:29:16.945890",
     "status": "completed"
    },
    "tags": []
   },
   "source": [
    "Normal AQI"
   ]
  },
  {
   "cell_type": "code",
   "execution_count": 23,
   "id": "ccf9cb06",
   "metadata": {
    "execution": {
     "iopub.execute_input": "2025-01-13T16:29:17.051092Z",
     "iopub.status.busy": "2025-01-13T16:29:17.050741Z",
     "iopub.status.idle": "2025-01-13T16:29:17.070668Z",
     "shell.execute_reply": "2025-01-13T16:29:17.069623Z"
    },
    "papermill": {
     "duration": 0.057598,
     "end_time": "2025-01-13T16:29:17.072422",
     "exception": false,
     "start_time": "2025-01-13T16:29:17.014824",
     "status": "completed"
    },
    "tags": []
   },
   "outputs": [
    {
     "data": {
      "text/html": [
       "<div>\n",
       "<style scoped>\n",
       "    .dataframe tbody tr th:only-of-type {\n",
       "        vertical-align: middle;\n",
       "    }\n",
       "\n",
       "    .dataframe tbody tr th {\n",
       "        vertical-align: top;\n",
       "    }\n",
       "\n",
       "    .dataframe thead th {\n",
       "        text-align: right;\n",
       "    }\n",
       "</style>\n",
       "<table border=\"1\" class=\"dataframe\">\n",
       "  <thead>\n",
       "    <tr style=\"text-align: right;\">\n",
       "      <th></th>\n",
       "      <th>co</th>\n",
       "      <th>no2</th>\n",
       "      <th>o3</th>\n",
       "      <th>pm10</th>\n",
       "      <th>pm25</th>\n",
       "      <th>so2</th>\n",
       "      <th>humidity</th>\n",
       "      <th>pressure</th>\n",
       "      <th>temperature</th>\n",
       "      <th>wind-speed</th>\n",
       "      <th>Country_City</th>\n",
       "      <th>Checks</th>\n",
       "      <th>AQI</th>\n",
       "      <th>AQI_smoothed_iqr</th>\n",
       "      <th>AQI_smoothed_zscore</th>\n",
       "      <th>AQI_smoothed_rolling</th>\n",
       "    </tr>\n",
       "  </thead>\n",
       "  <tbody>\n",
       "    <tr>\n",
       "      <th>2014-12-29</th>\n",
       "      <td>3.138695</td>\n",
       "      <td>4.7</td>\n",
       "      <td>15.2</td>\n",
       "      <td>9.0</td>\n",
       "      <td>12.0</td>\n",
       "      <td>2.9</td>\n",
       "      <td>76.126377</td>\n",
       "      <td>1017.086884</td>\n",
       "      <td>18.027986</td>\n",
       "      <td>3.545607</td>\n",
       "      <td>Australia_Newcastle</td>\n",
       "      <td>6</td>\n",
       "      <td>15.0</td>\n",
       "      <td>15.0</td>\n",
       "      <td>15.0</td>\n",
       "      <td>15.0</td>\n",
       "    </tr>\n",
       "    <tr>\n",
       "      <th>2014-12-30</th>\n",
       "      <td>3.400000</td>\n",
       "      <td>4.7</td>\n",
       "      <td>19.2</td>\n",
       "      <td>21.0</td>\n",
       "      <td>23.0</td>\n",
       "      <td>1.5</td>\n",
       "      <td>76.126377</td>\n",
       "      <td>1017.086884</td>\n",
       "      <td>18.027986</td>\n",
       "      <td>3.545607</td>\n",
       "      <td>Australia_Newcastle</td>\n",
       "      <td>6</td>\n",
       "      <td>23.0</td>\n",
       "      <td>23.0</td>\n",
       "      <td>23.0</td>\n",
       "      <td>23.0</td>\n",
       "    </tr>\n",
       "    <tr>\n",
       "      <th>2014-12-31</th>\n",
       "      <td>2.300000</td>\n",
       "      <td>2.8</td>\n",
       "      <td>17.6</td>\n",
       "      <td>38.0</td>\n",
       "      <td>39.0</td>\n",
       "      <td>1.5</td>\n",
       "      <td>76.126377</td>\n",
       "      <td>1017.086884</td>\n",
       "      <td>18.027986</td>\n",
       "      <td>3.545607</td>\n",
       "      <td>Australia_Newcastle</td>\n",
       "      <td>6</td>\n",
       "      <td>39.0</td>\n",
       "      <td>39.0</td>\n",
       "      <td>39.0</td>\n",
       "      <td>39.0</td>\n",
       "    </tr>\n",
       "    <tr>\n",
       "      <th>2015-01-01</th>\n",
       "      <td>2.300000</td>\n",
       "      <td>1.9</td>\n",
       "      <td>16.8</td>\n",
       "      <td>24.0</td>\n",
       "      <td>38.0</td>\n",
       "      <td>1.5</td>\n",
       "      <td>76.126377</td>\n",
       "      <td>1017.086884</td>\n",
       "      <td>18.027986</td>\n",
       "      <td>3.545607</td>\n",
       "      <td>Australia_Newcastle</td>\n",
       "      <td>6</td>\n",
       "      <td>38.0</td>\n",
       "      <td>38.0</td>\n",
       "      <td>38.0</td>\n",
       "      <td>38.0</td>\n",
       "    </tr>\n",
       "    <tr>\n",
       "      <th>2015-01-02</th>\n",
       "      <td>3.138695</td>\n",
       "      <td>3.8</td>\n",
       "      <td>10.4</td>\n",
       "      <td>24.0</td>\n",
       "      <td>42.0</td>\n",
       "      <td>2.9</td>\n",
       "      <td>76.126377</td>\n",
       "      <td>1017.086884</td>\n",
       "      <td>18.027986</td>\n",
       "      <td>3.545607</td>\n",
       "      <td>Australia_Newcastle</td>\n",
       "      <td>6</td>\n",
       "      <td>42.0</td>\n",
       "      <td>42.0</td>\n",
       "      <td>42.0</td>\n",
       "      <td>42.0</td>\n",
       "    </tr>\n",
       "  </tbody>\n",
       "</table>\n",
       "</div>"
      ],
      "text/plain": [
       "                  co  no2    o3  pm10  pm25  so2   humidity     pressure  \\\n",
       "2014-12-29  3.138695  4.7  15.2   9.0  12.0  2.9  76.126377  1017.086884   \n",
       "2014-12-30  3.400000  4.7  19.2  21.0  23.0  1.5  76.126377  1017.086884   \n",
       "2014-12-31  2.300000  2.8  17.6  38.0  39.0  1.5  76.126377  1017.086884   \n",
       "2015-01-01  2.300000  1.9  16.8  24.0  38.0  1.5  76.126377  1017.086884   \n",
       "2015-01-02  3.138695  3.8  10.4  24.0  42.0  2.9  76.126377  1017.086884   \n",
       "\n",
       "            temperature  wind-speed         Country_City  Checks   AQI  \\\n",
       "2014-12-29    18.027986    3.545607  Australia_Newcastle       6  15.0   \n",
       "2014-12-30    18.027986    3.545607  Australia_Newcastle       6  23.0   \n",
       "2014-12-31    18.027986    3.545607  Australia_Newcastle       6  39.0   \n",
       "2015-01-01    18.027986    3.545607  Australia_Newcastle       6  38.0   \n",
       "2015-01-02    18.027986    3.545607  Australia_Newcastle       6  42.0   \n",
       "\n",
       "            AQI_smoothed_iqr  AQI_smoothed_zscore  AQI_smoothed_rolling  \n",
       "2014-12-29              15.0                 15.0                  15.0  \n",
       "2014-12-30              23.0                 23.0                  23.0  \n",
       "2014-12-31              39.0                 39.0                  39.0  \n",
       "2015-01-01              38.0                 38.0                  38.0  \n",
       "2015-01-02              42.0                 42.0                  42.0  "
      ]
     },
     "execution_count": 23,
     "metadata": {},
     "output_type": "execute_result"
    }
   ],
   "source": [
    "new_data4.head()"
   ]
  },
  {
   "cell_type": "code",
   "execution_count": 24,
   "id": "3f473c21",
   "metadata": {
    "execution": {
     "iopub.execute_input": "2025-01-13T16:29:17.144162Z",
     "iopub.status.busy": "2025-01-13T16:29:17.143776Z",
     "iopub.status.idle": "2025-01-13T16:29:17.149890Z",
     "shell.execute_reply": "2025-01-13T16:29:17.148929Z"
    },
    "papermill": {
     "duration": 0.043217,
     "end_time": "2025-01-13T16:29:17.151413",
     "exception": false,
     "start_time": "2025-01-13T16:29:17.108196",
     "status": "completed"
    },
    "tags": []
   },
   "outputs": [
    {
     "data": {
      "text/plain": [
       "Index(['co', 'no2', 'o3', 'pm10', 'pm25', 'so2', 'humidity', 'pressure',\n",
       "       'temperature', 'wind-speed', 'Country_City', 'Checks', 'AQI',\n",
       "       'AQI_smoothed_iqr', 'AQI_smoothed_zscore', 'AQI_smoothed_rolling'],\n",
       "      dtype='object')"
      ]
     },
     "execution_count": 24,
     "metadata": {},
     "output_type": "execute_result"
    }
   ],
   "source": [
    "new_data4.columns"
   ]
  },
  {
   "cell_type": "markdown",
   "id": "a7be7d84",
   "metadata": {
    "papermill": {
     "duration": 0.034433,
     "end_time": "2025-01-13T16:29:17.223275",
     "exception": false,
     "start_time": "2025-01-13T16:29:17.188842",
     "status": "completed"
    },
    "tags": []
   },
   "source": [
    "***Working with Normal AQI***"
   ]
  },
  {
   "cell_type": "code",
   "execution_count": 25,
   "id": "1c966366",
   "metadata": {
    "execution": {
     "iopub.execute_input": "2025-01-13T16:29:17.294485Z",
     "iopub.status.busy": "2025-01-13T16:29:17.294104Z",
     "iopub.status.idle": "2025-01-13T16:29:17.299287Z",
     "shell.execute_reply": "2025-01-13T16:29:17.298403Z"
    },
    "papermill": {
     "duration": 0.042577,
     "end_time": "2025-01-13T16:29:17.300924",
     "exception": false,
     "start_time": "2025-01-13T16:29:17.258347",
     "status": "completed"
    },
    "tags": []
   },
   "outputs": [],
   "source": [
    "data = new_data4.drop(['Country_City', 'Checks',\n",
    "       'AQI_smoothed_iqr', 'AQI_smoothed_zscore', \n",
    "                       'AQI_smoothed_rolling'],axis=1)"
   ]
  },
  {
   "cell_type": "code",
   "execution_count": 26,
   "id": "21b77e73",
   "metadata": {
    "execution": {
     "iopub.execute_input": "2025-01-13T16:29:17.373212Z",
     "iopub.status.busy": "2025-01-13T16:29:17.372839Z",
     "iopub.status.idle": "2025-01-13T16:29:17.389806Z",
     "shell.execute_reply": "2025-01-13T16:29:17.388575Z"
    },
    "papermill": {
     "duration": 0.054563,
     "end_time": "2025-01-13T16:29:17.391446",
     "exception": false,
     "start_time": "2025-01-13T16:29:17.336883",
     "status": "completed"
    },
    "tags": []
   },
   "outputs": [
    {
     "data": {
      "text/html": [
       "<div>\n",
       "<style scoped>\n",
       "    .dataframe tbody tr th:only-of-type {\n",
       "        vertical-align: middle;\n",
       "    }\n",
       "\n",
       "    .dataframe tbody tr th {\n",
       "        vertical-align: top;\n",
       "    }\n",
       "\n",
       "    .dataframe thead th {\n",
       "        text-align: right;\n",
       "    }\n",
       "</style>\n",
       "<table border=\"1\" class=\"dataframe\">\n",
       "  <thead>\n",
       "    <tr style=\"text-align: right;\">\n",
       "      <th></th>\n",
       "      <th>co</th>\n",
       "      <th>no2</th>\n",
       "      <th>o3</th>\n",
       "      <th>pm10</th>\n",
       "      <th>pm25</th>\n",
       "      <th>so2</th>\n",
       "      <th>humidity</th>\n",
       "      <th>pressure</th>\n",
       "      <th>temperature</th>\n",
       "      <th>wind-speed</th>\n",
       "      <th>AQI</th>\n",
       "    </tr>\n",
       "  </thead>\n",
       "  <tbody>\n",
       "    <tr>\n",
       "      <th>2014-12-29</th>\n",
       "      <td>3.138695</td>\n",
       "      <td>4.7</td>\n",
       "      <td>15.2</td>\n",
       "      <td>9.0</td>\n",
       "      <td>12.0</td>\n",
       "      <td>2.9</td>\n",
       "      <td>76.126377</td>\n",
       "      <td>1017.086884</td>\n",
       "      <td>18.027986</td>\n",
       "      <td>3.545607</td>\n",
       "      <td>15.0</td>\n",
       "    </tr>\n",
       "    <tr>\n",
       "      <th>2014-12-30</th>\n",
       "      <td>3.400000</td>\n",
       "      <td>4.7</td>\n",
       "      <td>19.2</td>\n",
       "      <td>21.0</td>\n",
       "      <td>23.0</td>\n",
       "      <td>1.5</td>\n",
       "      <td>76.126377</td>\n",
       "      <td>1017.086884</td>\n",
       "      <td>18.027986</td>\n",
       "      <td>3.545607</td>\n",
       "      <td>23.0</td>\n",
       "    </tr>\n",
       "    <tr>\n",
       "      <th>2014-12-31</th>\n",
       "      <td>2.300000</td>\n",
       "      <td>2.8</td>\n",
       "      <td>17.6</td>\n",
       "      <td>38.0</td>\n",
       "      <td>39.0</td>\n",
       "      <td>1.5</td>\n",
       "      <td>76.126377</td>\n",
       "      <td>1017.086884</td>\n",
       "      <td>18.027986</td>\n",
       "      <td>3.545607</td>\n",
       "      <td>39.0</td>\n",
       "    </tr>\n",
       "    <tr>\n",
       "      <th>2015-01-01</th>\n",
       "      <td>2.300000</td>\n",
       "      <td>1.9</td>\n",
       "      <td>16.8</td>\n",
       "      <td>24.0</td>\n",
       "      <td>38.0</td>\n",
       "      <td>1.5</td>\n",
       "      <td>76.126377</td>\n",
       "      <td>1017.086884</td>\n",
       "      <td>18.027986</td>\n",
       "      <td>3.545607</td>\n",
       "      <td>38.0</td>\n",
       "    </tr>\n",
       "    <tr>\n",
       "      <th>2015-01-02</th>\n",
       "      <td>3.138695</td>\n",
       "      <td>3.8</td>\n",
       "      <td>10.4</td>\n",
       "      <td>24.0</td>\n",
       "      <td>42.0</td>\n",
       "      <td>2.9</td>\n",
       "      <td>76.126377</td>\n",
       "      <td>1017.086884</td>\n",
       "      <td>18.027986</td>\n",
       "      <td>3.545607</td>\n",
       "      <td>42.0</td>\n",
       "    </tr>\n",
       "  </tbody>\n",
       "</table>\n",
       "</div>"
      ],
      "text/plain": [
       "                  co  no2    o3  pm10  pm25  so2   humidity     pressure  \\\n",
       "2014-12-29  3.138695  4.7  15.2   9.0  12.0  2.9  76.126377  1017.086884   \n",
       "2014-12-30  3.400000  4.7  19.2  21.0  23.0  1.5  76.126377  1017.086884   \n",
       "2014-12-31  2.300000  2.8  17.6  38.0  39.0  1.5  76.126377  1017.086884   \n",
       "2015-01-01  2.300000  1.9  16.8  24.0  38.0  1.5  76.126377  1017.086884   \n",
       "2015-01-02  3.138695  3.8  10.4  24.0  42.0  2.9  76.126377  1017.086884   \n",
       "\n",
       "            temperature  wind-speed   AQI  \n",
       "2014-12-29    18.027986    3.545607  15.0  \n",
       "2014-12-30    18.027986    3.545607  23.0  \n",
       "2014-12-31    18.027986    3.545607  39.0  \n",
       "2015-01-01    18.027986    3.545607  38.0  \n",
       "2015-01-02    18.027986    3.545607  42.0  "
      ]
     },
     "execution_count": 26,
     "metadata": {},
     "output_type": "execute_result"
    }
   ],
   "source": [
    "data.head()"
   ]
  },
  {
   "cell_type": "code",
   "execution_count": 27,
   "id": "c508a2d4",
   "metadata": {
    "execution": {
     "iopub.execute_input": "2025-01-13T16:29:17.462339Z",
     "iopub.status.busy": "2025-01-13T16:29:17.461947Z",
     "iopub.status.idle": "2025-01-13T16:29:17.470378Z",
     "shell.execute_reply": "2025-01-13T16:29:17.469425Z"
    },
    "papermill": {
     "duration": 0.045879,
     "end_time": "2025-01-13T16:29:17.472091",
     "exception": false,
     "start_time": "2025-01-13T16:29:17.426212",
     "status": "completed"
    },
    "tags": []
   },
   "outputs": [
    {
     "name": "stdout",
     "output_type": "stream",
     "text": [
      "Index(['co', 'no2', 'o3', 'pm10', 'pm25', 'so2', 'humidity', 'pressure',\n",
      "       'temperature', 'wind-speed', 'AQI'],\n",
      "      dtype='object')\n",
      "Index([], dtype='object')\n"
     ]
    }
   ],
   "source": [
    "num = data.select_dtypes(include=['int16', 'int32', 'int64', 'float16', 'float32', 'float64'])\n",
    "cat = data.select_dtypes(include=['object'])\n",
    "\n",
    "print(num.columns)\n",
    "print(cat.columns)"
   ]
  },
  {
   "cell_type": "code",
   "execution_count": 28,
   "id": "c439a345",
   "metadata": {
    "execution": {
     "iopub.execute_input": "2025-01-13T16:29:17.544362Z",
     "iopub.status.busy": "2025-01-13T16:29:17.543973Z",
     "iopub.status.idle": "2025-01-13T16:29:17.555676Z",
     "shell.execute_reply": "2025-01-13T16:29:17.554689Z"
    },
    "papermill": {
     "duration": 0.049542,
     "end_time": "2025-01-13T16:29:17.557190",
     "exception": false,
     "start_time": "2025-01-13T16:29:17.507648",
     "status": "completed"
    },
    "tags": []
   },
   "outputs": [
    {
     "name": "stdout",
     "output_type": "stream",
     "text": [
      "(2932, 10) (2932,) (733, 10) (733,)\n"
     ]
    }
   ],
   "source": [
    "X = data[['co', 'no2', 'o3', 'pm10', 'pm25', 'so2', 'humidity', 'pressure',\n",
    "       'temperature', 'wind-speed']]\n",
    "\n",
    "y = data['AQI']\n",
    "\n",
    "X_train, X_test, y_train, y_test = train_test_split(X, y, test_size = 0.2, random_state = 42)\n",
    "\n",
    "print(X_train.shape, y_train.shape, X_test.shape, y_test.shape)"
   ]
  },
  {
   "cell_type": "code",
   "execution_count": 29,
   "id": "7f947a11",
   "metadata": {
    "execution": {
     "iopub.execute_input": "2025-01-13T16:29:17.629096Z",
     "iopub.status.busy": "2025-01-13T16:29:17.628718Z",
     "iopub.status.idle": "2025-01-13T16:29:17.633534Z",
     "shell.execute_reply": "2025-01-13T16:29:17.632621Z"
    },
    "papermill": {
     "duration": 0.042567,
     "end_time": "2025-01-13T16:29:17.635169",
     "exception": false,
     "start_time": "2025-01-13T16:29:17.592602",
     "status": "completed"
    },
    "tags": []
   },
   "outputs": [],
   "source": [
    "# Preprocessor without scaling\n",
    "preprocessor = ColumnTransformer(\n",
    "    transformers=[\n",
    "        ('num', 'passthrough', ['co', 'no2', 'o3', 'pm10', 'pm25', 'so2', 'humidity', \n",
    "                                'pressure', 'temperature', 'wind-speed'])\n",
    "    ])\n",
    "# Pipeline\n",
    "pipeline = Pipeline(steps=[\n",
    "    ('preprocessor', preprocessor)\n",
    "])"
   ]
  },
  {
   "cell_type": "markdown",
   "id": "3dfcfc0f",
   "metadata": {
    "papermill": {
     "duration": 0.035044,
     "end_time": "2025-01-13T16:29:17.706264",
     "exception": false,
     "start_time": "2025-01-13T16:29:17.671220",
     "status": "completed"
    },
    "tags": []
   },
   "source": [
    "# **2.2. Model Training & Testing**"
   ]
  },
  {
   "cell_type": "markdown",
   "id": "3485e894",
   "metadata": {
    "papermill": {
     "duration": 0.03524,
     "end_time": "2025-01-13T16:29:17.776760",
     "exception": false,
     "start_time": "2025-01-13T16:29:17.741520",
     "status": "completed"
    },
    "tags": []
   },
   "source": [
    "## **2.2.1. LinearRegression**"
   ]
  },
  {
   "cell_type": "code",
   "execution_count": 30,
   "id": "d036344a",
   "metadata": {
    "execution": {
     "iopub.execute_input": "2025-01-13T16:29:17.849345Z",
     "iopub.status.busy": "2025-01-13T16:29:17.848959Z",
     "iopub.status.idle": "2025-01-13T16:29:17.888710Z",
     "shell.execute_reply": "2025-01-13T16:29:17.885790Z"
    },
    "papermill": {
     "duration": 0.082686,
     "end_time": "2025-01-13T16:29:17.894727",
     "exception": false,
     "start_time": "2025-01-13T16:29:17.812041",
     "status": "completed"
    },
    "tags": []
   },
   "outputs": [],
   "source": [
    "# training with LinearRegression\n",
    "\n",
    "lm = LinearRegression(fit_intercept = True)\n",
    "\n",
    "pipeline = Pipeline(steps=[('preprocessor', preprocessor), ('regressor', lm)])\n",
    "\n",
    "# Fit the pipeline to the training data\n",
    "pipeline.fit(X_train,y_train)\n",
    "\n",
    "# Predict on the training and test datasets\n",
    "y_pred_train_lm = pipeline.predict(X_train)\n",
    "y_pred_test_lm = pipeline.predict(X_test)"
   ]
  },
  {
   "cell_type": "code",
   "execution_count": 31,
   "id": "0e5ba62f",
   "metadata": {
    "execution": {
     "iopub.execute_input": "2025-01-13T16:29:18.030681Z",
     "iopub.status.busy": "2025-01-13T16:29:18.030247Z",
     "iopub.status.idle": "2025-01-13T16:29:18.045832Z",
     "shell.execute_reply": "2025-01-13T16:29:18.044599Z"
    },
    "papermill": {
     "duration": 0.06581,
     "end_time": "2025-01-13T16:29:18.047735",
     "exception": false,
     "start_time": "2025-01-13T16:29:17.981925",
     "status": "completed"
    },
    "tags": []
   },
   "outputs": [
    {
     "name": "stdout",
     "output_type": "stream",
     "text": [
      "The r2 Accuracy on the training dataset prediction is:  0.995331275763755\n",
      "The r2 Accuracy on the test dataset prediction is:  0.9948381337124453\n",
      "\n",
      "The RMSE  on the training dataset is:  1.1487534988956953\n",
      "The RMSE  on the testing dataset is:  1.2008192876938473\n",
      "\n",
      "The MAE  on the training dataset is:  0.6971392288871283\n",
      "The MAE  on the testing dataset is:  0.7023485378895562\n",
      "\n",
      "The MSE  on the training dataset is:  1.3196346012251023\n",
      "The MSE  on the testing dataset is:  1.441966961697559\n"
     ]
    }
   ],
   "source": [
    "# Model Accuracy on training and testing dataset\n",
    "\n",
    "print('The r2 Accuracy on the training dataset prediction is: ',r2_score(y_train,y_pred_train_lm) )\n",
    "print('The r2 Accuracy on the test dataset prediction is: ',r2_score(y_test,y_pred_test_lm) )\n",
    "\n",
    "print(\"\")\n",
    "\n",
    "# The Root Mean Squared Error (RMSE)\n",
    "print('The RMSE  on the training dataset is: ',sqrt(mean_squared_error(y_train, y_pred_train_lm)))\n",
    "print('The RMSE  on the testing dataset is: ',sqrt(mean_squared_error(y_test, y_pred_test_lm)))\n",
    "\n",
    "print(\"\")\n",
    "# The Mean Absolute Error (MAE)\n",
    "print('The MAE  on the training dataset is: ',mean_absolute_error(y_train, y_pred_train_lm))\n",
    "print('The MAE  on the testing dataset is: ',mean_absolute_error(y_test, y_pred_test_lm))\n",
    "\n",
    "print(\"\")\n",
    "# The Mean Squared Error (MSE)\n",
    "print('The MSE  on the training dataset is: ',mean_squared_error(y_train, y_pred_train_lm))\n",
    "print('The MSE  on the testing dataset is: ',mean_squared_error(y_test, y_pred_test_lm))"
   ]
  },
  {
   "cell_type": "markdown",
   "id": "79ff2353",
   "metadata": {
    "papermill": {
     "duration": 0.035069,
     "end_time": "2025-01-13T16:29:18.118442",
     "exception": false,
     "start_time": "2025-01-13T16:29:18.083373",
     "status": "completed"
    },
    "tags": []
   },
   "source": [
    "## **2.2.2.  KNeighborsRegressor**"
   ]
  },
  {
   "cell_type": "code",
   "execution_count": 32,
   "id": "7ca1bf0b",
   "metadata": {
    "execution": {
     "iopub.execute_input": "2025-01-13T16:29:18.191192Z",
     "iopub.status.busy": "2025-01-13T16:29:18.190793Z",
     "iopub.status.idle": "2025-01-13T16:29:18.241990Z",
     "shell.execute_reply": "2025-01-13T16:29:18.241047Z"
    },
    "papermill": {
     "duration": 0.090256,
     "end_time": "2025-01-13T16:29:18.243857",
     "exception": false,
     "start_time": "2025-01-13T16:29:18.153601",
     "status": "completed"
    },
    "tags": []
   },
   "outputs": [],
   "source": [
    "# training with KNeighborsRegressor\n",
    "\n",
    "neigh = KNeighborsRegressor(n_neighbors=2)\n",
    "\n",
    "pipeline = Pipeline(steps=[('preprocessor', preprocessor), ('regressor', neigh)])\n",
    "\n",
    "# Fit the pipeline to the training data\n",
    "pipeline.fit(X_train,y_train)\n",
    "\n",
    "# Predict on the training and test datasets\n",
    "y_pred_train_knn = pipeline.predict(X_train)\n",
    "y_pred_test_knn = pipeline.predict(X_test)"
   ]
  },
  {
   "cell_type": "code",
   "execution_count": 33,
   "id": "b4e3e5c2",
   "metadata": {
    "execution": {
     "iopub.execute_input": "2025-01-13T16:29:18.315207Z",
     "iopub.status.busy": "2025-01-13T16:29:18.314843Z",
     "iopub.status.idle": "2025-01-13T16:29:18.329378Z",
     "shell.execute_reply": "2025-01-13T16:29:18.328150Z"
    },
    "papermill": {
     "duration": 0.052256,
     "end_time": "2025-01-13T16:29:18.331074",
     "exception": false,
     "start_time": "2025-01-13T16:29:18.278818",
     "status": "completed"
    },
    "tags": []
   },
   "outputs": [
    {
     "name": "stdout",
     "output_type": "stream",
     "text": [
      "The R2 score on the training dataset prediction is:  0.9973598543896987\n",
      "The R2 score on the test dataset prediction is:  0.9909297797541584\n",
      "\n",
      "The RMSE  on the training dataset is:  0.863856640119991\n",
      "The RMSE  on the testing dataset is:  1.5917805589607514\n",
      "\n",
      "The MAE  on the training dataset is:  0.5078444747612552\n",
      "The MAE  on the testing dataset is:  0.8806275579809004\n",
      "\n",
      "The MSE  on the training dataset is:  0.7462482946793997\n",
      "The MSE  on the testing dataset is:  2.5337653478854025\n"
     ]
    }
   ],
   "source": [
    "# Model Accuracy on training dataset\n",
    "print('The R2 score on the training dataset prediction is: ', r2_score(y_train,y_pred_train_knn))\n",
    "print('The R2 score on the test dataset prediction is: ', r2_score(y_test, y_pred_test_knn))\n",
    "print(\"\")\n",
    "\n",
    "# The Root Mean Squared Error (RMSE)\n",
    "print('The RMSE  on the training dataset is: ',sqrt(mean_squared_error(y_train,y_pred_train_knn)))\n",
    "print('The RMSE  on the testing dataset is: ',sqrt(mean_squared_error(y_test, y_pred_test_knn)))\n",
    "\n",
    "print(\"\")\n",
    "# The Mean Absolute Error (MAE)\n",
    "print('The MAE  on the training dataset is: ',mean_absolute_error(y_train,y_pred_train_knn))\n",
    "print('The MAE  on the testing dataset is: ',mean_absolute_error(y_test, y_pred_test_knn))\n",
    "\n",
    "print(\"\")\n",
    "# The Mean Squared Error (MSE)\n",
    "print('The MSE  on the training dataset is: ',mean_squared_error(y_train, y_pred_train_knn))\n",
    "print('The MSE  on the testing dataset is: ',mean_squared_error(y_test, y_pred_test_knn))"
   ]
  },
  {
   "cell_type": "markdown",
   "id": "fd9a4991",
   "metadata": {
    "papermill": {
     "duration": 0.034569,
     "end_time": "2025-01-13T16:29:18.400804",
     "exception": false,
     "start_time": "2025-01-13T16:29:18.366235",
     "status": "completed"
    },
    "tags": []
   },
   "source": [
    "## **2.2.3.  Random Forest Regressor**"
   ]
  },
  {
   "cell_type": "code",
   "execution_count": 34,
   "id": "fc561ef1",
   "metadata": {
    "execution": {
     "iopub.execute_input": "2025-01-13T16:29:18.473659Z",
     "iopub.status.busy": "2025-01-13T16:29:18.473219Z",
     "iopub.status.idle": "2025-01-13T16:29:19.204204Z",
     "shell.execute_reply": "2025-01-13T16:29:19.203105Z"
    },
    "papermill": {
     "duration": 0.768987,
     "end_time": "2025-01-13T16:29:19.206273",
     "exception": false,
     "start_time": "2025-01-13T16:29:18.437286",
     "status": "completed"
    },
    "tags": []
   },
   "outputs": [],
   "source": [
    "# Training with random forest regressor\n",
    "random = RandomForestRegressor()\n",
    "\n",
    "pipeline = Pipeline(steps=[('preprocessor', preprocessor), ('regressor', random)])\n",
    "\n",
    "# Fit the pipeline to the training data\n",
    "pipeline.fit(X_train,y_train)\n",
    "\n",
    "# Predict on the training and test datasets\n",
    "y_pred_train_random = pipeline.predict(X_train)\n",
    "y_pred_test_random = pipeline.predict(X_test)"
   ]
  },
  {
   "cell_type": "code",
   "execution_count": 35,
   "id": "a0b6de45",
   "metadata": {
    "execution": {
     "iopub.execute_input": "2025-01-13T16:29:19.278142Z",
     "iopub.status.busy": "2025-01-13T16:29:19.277778Z",
     "iopub.status.idle": "2025-01-13T16:29:19.295525Z",
     "shell.execute_reply": "2025-01-13T16:29:19.294369Z"
    },
    "papermill": {
     "duration": 0.055293,
     "end_time": "2025-01-13T16:29:19.297279",
     "exception": false,
     "start_time": "2025-01-13T16:29:19.241986",
     "status": "completed"
    },
    "tags": []
   },
   "outputs": [
    {
     "name": "stdout",
     "output_type": "stream",
     "text": [
      "The R2 score on the training dataset prediction is:  0.9995435895335459\n",
      "The R2 score on the test dataset prediction is:  0.9963112492333184\n",
      "\n",
      "The RMSE  on the training dataset is:  0.35917453110240566\n",
      "The RMSE  on the testing dataset is:  1.0151119401441364\n",
      "\n",
      "The MAE  on the training dataset is:  0.039870395634379274\n",
      "The MAE  on the testing dataset is:  0.1313096862210095\n",
      "\n",
      "The MSE  on the training dataset is:  0.12900634379263295\n",
      "The MSE  on the testing dataset is:  1.0304522510231926\n"
     ]
    }
   ],
   "source": [
    "# Model Accuracy on training dataset\n",
    "print('The R2 score on the training dataset prediction is: ', r2_score(y_train,y_pred_train_random))\n",
    "print('The R2 score on the test dataset prediction is: ', r2_score(y_test, y_pred_test_random))\n",
    "print(\"\")\n",
    "\n",
    "# The Root Mean Squared Error (RMSE)\n",
    "print('The RMSE  on the training dataset is: ',sqrt(mean_squared_error(y_train,y_pred_train_random)))\n",
    "print('The RMSE  on the testing dataset is: ',sqrt(mean_squared_error(y_test, y_pred_test_random)))\n",
    "\n",
    "print(\"\")\n",
    "# The Mean Absolute Error (MAE)\n",
    "print('The MAE  on the training dataset is: ',mean_absolute_error(y_train,y_pred_train_random))\n",
    "print('The MAE  on the testing dataset is: ',mean_absolute_error(y_test, y_pred_test_random))\n",
    "\n",
    "print(\"\")\n",
    "# The Mean Squared Error (MSE)\n",
    "print('The MSE  on the training dataset is: ',mean_squared_error(y_train, y_pred_train_random))\n",
    "print('The MSE  on the testing dataset is: ',mean_squared_error(y_test, y_pred_test_random))"
   ]
  },
  {
   "cell_type": "markdown",
   "id": "4cc64641",
   "metadata": {
    "papermill": {
     "duration": 0.035088,
     "end_time": "2025-01-13T16:29:19.367802",
     "exception": false,
     "start_time": "2025-01-13T16:29:19.332714",
     "status": "completed"
    },
    "tags": []
   },
   "source": [
    "## **2.2.4.  Decision Tree regressor**"
   ]
  },
  {
   "cell_type": "code",
   "execution_count": 36,
   "id": "da003ff7",
   "metadata": {
    "execution": {
     "iopub.execute_input": "2025-01-13T16:29:19.439818Z",
     "iopub.status.busy": "2025-01-13T16:29:19.439400Z",
     "iopub.status.idle": "2025-01-13T16:29:19.458690Z",
     "shell.execute_reply": "2025-01-13T16:29:19.457747Z"
    },
    "papermill": {
     "duration": 0.057371,
     "end_time": "2025-01-13T16:29:19.460570",
     "exception": false,
     "start_time": "2025-01-13T16:29:19.403199",
     "status": "completed"
    },
    "tags": []
   },
   "outputs": [],
   "source": [
    "# Training with Decision Tree regressor\n",
    "dt = DecisionTreeRegressor()\n",
    "\n",
    "pipeline = Pipeline(steps=[('preprocessor', preprocessor), ('regressor', dt)])\n",
    "\n",
    "# Fit the pipeline to the training data\n",
    "pipeline.fit(X_train,y_train)\n",
    "\n",
    "# Predict on the training and test datasets\n",
    "y_pred_train_dt = pipeline.predict(X_train)\n",
    "y_pred_test_dt = pipeline.predict(X_test)"
   ]
  },
  {
   "cell_type": "code",
   "execution_count": 37,
   "id": "be571f81",
   "metadata": {
    "execution": {
     "iopub.execute_input": "2025-01-13T16:29:19.539876Z",
     "iopub.status.busy": "2025-01-13T16:29:19.539461Z",
     "iopub.status.idle": "2025-01-13T16:29:19.553873Z",
     "shell.execute_reply": "2025-01-13T16:29:19.552635Z"
    },
    "papermill": {
     "duration": 0.058447,
     "end_time": "2025-01-13T16:29:19.555515",
     "exception": false,
     "start_time": "2025-01-13T16:29:19.497068",
     "status": "completed"
    },
    "tags": []
   },
   "outputs": [
    {
     "name": "stdout",
     "output_type": "stream",
     "text": [
      "The R2 score on the training dataset prediction is:  1.0\n",
      "The R2 score on the test dataset prediction is:  0.9969330470779979\n",
      "\n",
      "The RMSE  on the training dataset is:  0.0\n",
      "The RMSE  on the testing dataset is:  0.9256095664896082\n",
      "\n",
      "The MAE  on the training dataset is:  0.0\n",
      "The MAE  on the testing dataset is:  0.13096862210095497\n",
      "\n",
      "The MSE  on the training dataset is:  0.0\n",
      "The MSE  on the testing dataset is:  0.8567530695770805\n"
     ]
    }
   ],
   "source": [
    "# Model Accuracy on training dataset\n",
    "print('The R2 score on the training dataset prediction is: ', r2_score(y_train,y_pred_train_dt))\n",
    "print('The R2 score on the test dataset prediction is: ', r2_score(y_test, y_pred_test_dt))\n",
    "print(\"\")\n",
    "\n",
    "# The Root Mean Squared Error (RMSE)\n",
    "print('The RMSE  on the training dataset is: ',sqrt(mean_squared_error(y_train,y_pred_train_dt)))\n",
    "print('The RMSE  on the testing dataset is: ',sqrt(mean_squared_error(y_test, y_pred_test_dt)))\n",
    "\n",
    "print(\"\")\n",
    "# The Mean Absolute Error (MAE)\n",
    "print('The MAE  on the training dataset is: ',mean_absolute_error(y_train,y_pred_train_dt))\n",
    "print('The MAE  on the testing dataset is: ',mean_absolute_error(y_test, y_pred_test_dt))\n",
    "\n",
    "print(\"\")\n",
    "# The Mean Squared Error (MSE)\n",
    "print('The MSE  on the training dataset is: ',mean_squared_error(y_train, y_pred_train_dt))\n",
    "print('The MSE  on the testing dataset is: ',mean_squared_error(y_test, y_pred_test_dt))"
   ]
  },
  {
   "cell_type": "markdown",
   "id": "6f2fdaf0",
   "metadata": {
    "papermill": {
     "duration": 0.034839,
     "end_time": "2025-01-13T16:29:19.625647",
     "exception": false,
     "start_time": "2025-01-13T16:29:19.590808",
     "status": "completed"
    },
    "tags": []
   },
   "source": [
    "## **2.2.5.  Support Vector Machine regressor**"
   ]
  },
  {
   "cell_type": "code",
   "execution_count": 38,
   "id": "1353e226",
   "metadata": {
    "execution": {
     "iopub.execute_input": "2025-01-13T16:29:19.698896Z",
     "iopub.status.busy": "2025-01-13T16:29:19.698421Z",
     "iopub.status.idle": "2025-01-13T16:29:23.524711Z",
     "shell.execute_reply": "2025-01-13T16:29:23.523645Z"
    },
    "papermill": {
     "duration": 3.865646,
     "end_time": "2025-01-13T16:29:23.526707",
     "exception": false,
     "start_time": "2025-01-13T16:29:19.661061",
     "status": "completed"
    },
    "tags": []
   },
   "outputs": [],
   "source": [
    "# Training with Support Vector Machine regressor\n",
    "svr = SVR(kernel='linear')\n",
    "\n",
    "pipeline = Pipeline(steps=[('preprocessor', preprocessor), ('regressor', svr)])\n",
    "\n",
    "# Fit the pipeline to the training data\n",
    "pipeline.fit(X_train, y_train)\n",
    "\n",
    "# Predict on the training and test datasets\n",
    "y_pred_train_svr = pipeline.predict(X_train)\n",
    "y_pred_test_svr = pipeline.predict(X_test)"
   ]
  },
  {
   "cell_type": "code",
   "execution_count": 39,
   "id": "4fba7b3c",
   "metadata": {
    "execution": {
     "iopub.execute_input": "2025-01-13T16:29:23.603196Z",
     "iopub.status.busy": "2025-01-13T16:29:23.602794Z",
     "iopub.status.idle": "2025-01-13T16:29:23.617326Z",
     "shell.execute_reply": "2025-01-13T16:29:23.616026Z"
    },
    "papermill": {
     "duration": 0.054199,
     "end_time": "2025-01-13T16:29:23.619015",
     "exception": false,
     "start_time": "2025-01-13T16:29:23.564816",
     "status": "completed"
    },
    "tags": []
   },
   "outputs": [
    {
     "name": "stdout",
     "output_type": "stream",
     "text": [
      "The R2 score on the training dataset prediction is:  0.8974923933941128\n",
      "The R2 score on the test dataset prediction is:  0.9072166982438198\n",
      "\n",
      "The RMSE on the training dataset is:  5.3827694966323305\n",
      "The RMSE on the testing dataset is:  5.091071440489744\n",
      "\n",
      "The MAE on the training dataset is:  3.9632738337369426\n",
      "The MAE on the testing dataset is:  3.870216681763994\n",
      "\n",
      "The MSE  on the training dataset is:  28.97420745387547\n",
      "The MSE  on the testing dataset is:  25.919008412170317\n"
     ]
    }
   ],
   "source": [
    "# Model Accuracy on training dataset\n",
    "print('The R2 score on the training dataset prediction is: ', r2_score(y_train, y_pred_train_svr))\n",
    "print('The R2 score on the test dataset prediction is: ', r2_score(y_test, y_pred_test_svr))\n",
    "print(\"\")\n",
    "\n",
    "# The Root Mean Squared Error (RMSE)\n",
    "print('The RMSE on the training dataset is: ', sqrt(mean_squared_error(y_train, y_pred_train_svr)))\n",
    "print('The RMSE on the testing dataset is: ', sqrt(mean_squared_error(y_test, y_pred_test_svr)))\n",
    "print(\"\")\n",
    "\n",
    "# The Mean Absolute Error (MAE)\n",
    "print('The MAE on the training dataset is: ', mean_absolute_error(y_train, y_pred_train_svr))\n",
    "print('The MAE on the testing dataset is: ', mean_absolute_error(y_test, y_pred_test_svr))\n",
    "\n",
    "print(\"\")\n",
    "# The Mean Squared Error (MSE)\n",
    "print('The MSE  on the training dataset is: ',mean_squared_error(y_train, y_pred_train_svr))\n",
    "print('The MSE  on the testing dataset is: ',mean_squared_error(y_test, y_pred_test_svr))"
   ]
  },
  {
   "cell_type": "markdown",
   "id": "7e82daf0",
   "metadata": {
    "papermill": {
     "duration": 0.035059,
     "end_time": "2025-01-13T16:29:23.690063",
     "exception": false,
     "start_time": "2025-01-13T16:29:23.655004",
     "status": "completed"
    },
    "tags": []
   },
   "source": [
    "## **2.2.6.  XGBoost Regressor**"
   ]
  },
  {
   "cell_type": "code",
   "execution_count": 40,
   "id": "2a14d4fc",
   "metadata": {
    "execution": {
     "iopub.execute_input": "2025-01-13T16:29:23.762014Z",
     "iopub.status.busy": "2025-01-13T16:29:23.761662Z",
     "iopub.status.idle": "2025-01-13T16:29:23.910845Z",
     "shell.execute_reply": "2025-01-13T16:29:23.909973Z"
    },
    "papermill": {
     "duration": 0.187687,
     "end_time": "2025-01-13T16:29:23.913007",
     "exception": false,
     "start_time": "2025-01-13T16:29:23.725320",
     "status": "completed"
    },
    "tags": []
   },
   "outputs": [],
   "source": [
    "# Training with XGBoost regressor\n",
    "xgb_regressor = XGBRegressor(objective='reg:squarederror')\n",
    "\n",
    "pipeline = Pipeline(steps=[('preprocessor', preprocessor), ('regressor', xgb_regressor)])\n",
    "\n",
    "# Fit the pipeline to the training data\n",
    "pipeline.fit(X_train, y_train)\n",
    "\n",
    "# Predict on the training and test datasets\n",
    "y_pred_train_xgb = pipeline.predict(X_train)\n",
    "y_pred_test_xgb = pipeline.predict(X_test)"
   ]
  },
  {
   "cell_type": "code",
   "execution_count": 41,
   "id": "cd58bd70",
   "metadata": {
    "execution": {
     "iopub.execute_input": "2025-01-13T16:29:23.990143Z",
     "iopub.status.busy": "2025-01-13T16:29:23.989776Z",
     "iopub.status.idle": "2025-01-13T16:29:24.008298Z",
     "shell.execute_reply": "2025-01-13T16:29:24.006955Z"
    },
    "papermill": {
     "duration": 0.057983,
     "end_time": "2025-01-13T16:29:24.010116",
     "exception": false,
     "start_time": "2025-01-13T16:29:23.952133",
     "status": "completed"
    },
    "tags": []
   },
   "outputs": [
    {
     "name": "stdout",
     "output_type": "stream",
     "text": [
      "The R2 score on the training dataset prediction is:  0.9999987625068888\n",
      "The R2 score on the test dataset prediction is:  0.9981333586203575\n",
      "\n",
      "The RMSE on the training dataset is:  0.01870247706765454\n",
      "The RMSE on the testing dataset is:  0.7221122696053701\n",
      "\n",
      "The MAE on the training dataset is:  0.009324649508945938\n",
      "The MAE on the testing dataset is:  0.11870223665953007\n",
      "\n",
      "The MSE  on the training dataset is:  0.000349782648466144\n",
      "The MSE  on the testing dataset is:  0.5214461299146188\n"
     ]
    }
   ],
   "source": [
    "# Model Accuracy on training dataset\n",
    "print('The R2 score on the training dataset prediction is: ', r2_score(y_train, y_pred_train_xgb))\n",
    "print('The R2 score on the test dataset prediction is: ', r2_score(y_test, y_pred_test_xgb))\n",
    "print(\"\")\n",
    "\n",
    "# The Root Mean Squared Error (RMSE)\n",
    "print('The RMSE on the training dataset is: ', sqrt(mean_squared_error(y_train, y_pred_train_xgb)))\n",
    "print('The RMSE on the testing dataset is: ', sqrt(mean_squared_error(y_test, y_pred_test_xgb)))\n",
    "print(\"\")\n",
    "\n",
    "# The Mean Absolute Error (MAE)\n",
    "print('The MAE on the training dataset is: ', mean_absolute_error(y_train, y_pred_train_xgb))\n",
    "print('The MAE on the testing dataset is: ', mean_absolute_error(y_test, y_pred_test_xgb))\n",
    "\n",
    "print(\"\")\n",
    "# The Mean Squared Error (MSE)\n",
    "print('The MSE  on the training dataset is: ',mean_squared_error(y_train, y_pred_train_xgb))\n",
    "print('The MSE  on the testing dataset is: ',mean_squared_error(y_test, y_pred_test_xgb))"
   ]
  },
  {
   "cell_type": "markdown",
   "id": "bc678a42",
   "metadata": {
    "papermill": {
     "duration": 0.035218,
     "end_time": "2025-01-13T16:29:24.080913",
     "exception": false,
     "start_time": "2025-01-13T16:29:24.045695",
     "status": "completed"
    },
    "tags": []
   },
   "source": [
    "## **2.2.7.  Neural Network Regressor**"
   ]
  },
  {
   "cell_type": "code",
   "execution_count": 42,
   "id": "6edf3c4c",
   "metadata": {
    "execution": {
     "iopub.execute_input": "2025-01-13T16:29:24.153873Z",
     "iopub.status.busy": "2025-01-13T16:29:24.153408Z",
     "iopub.status.idle": "2025-01-13T16:29:25.240114Z",
     "shell.execute_reply": "2025-01-13T16:29:25.238495Z"
    },
    "papermill": {
     "duration": 1.127266,
     "end_time": "2025-01-13T16:29:25.243557",
     "exception": false,
     "start_time": "2025-01-13T16:29:24.116291",
     "status": "completed"
    },
    "tags": []
   },
   "outputs": [],
   "source": [
    "# training with neural network regressor\n",
    "\n",
    "nn = MLPRegressor(hidden_layer_sizes=(8,), activation='relu', solver='adam', max_iter=2000, learning_rate_init=0.001)\n",
    "\n",
    "pipeline = Pipeline(steps=[('preprocessor', preprocessor), ('regressor', nn)])\n",
    "\n",
    "# Fit the pipeline to the training data\n",
    "pipeline.fit(X_train,y_train)\n",
    "\n",
    "# Predict on the training and test datasets\n",
    "y_pred_train_nn = pipeline.predict(X_train)\n",
    "y_pred_test_nn = pipeline.predict(X_test)"
   ]
  },
  {
   "cell_type": "code",
   "execution_count": 43,
   "id": "ccb563e3",
   "metadata": {
    "execution": {
     "iopub.execute_input": "2025-01-13T16:29:25.392065Z",
     "iopub.status.busy": "2025-01-13T16:29:25.391686Z",
     "iopub.status.idle": "2025-01-13T16:29:25.407137Z",
     "shell.execute_reply": "2025-01-13T16:29:25.405810Z"
    },
    "papermill": {
     "duration": 0.055695,
     "end_time": "2025-01-13T16:29:25.409080",
     "exception": false,
     "start_time": "2025-01-13T16:29:25.353385",
     "status": "completed"
    },
    "tags": []
   },
   "outputs": [
    {
     "name": "stdout",
     "output_type": "stream",
     "text": [
      "The R2 score on the training dataset prediction is:  0.9952503727123728\n",
      "The R2 score on the test dataset prediction is:  0.9943918753184677\n",
      "\n",
      "The RMSE on the training dataset is:  1.1586639676810155\n",
      "The RMSE on the testing dataset is:  1.251650594498178\n",
      "\n",
      "The MAE on the training dataset is:  0.6854992226164989\n",
      "The MAE on the testing dataset is:  0.7050679010971272\n",
      "\n",
      "The MSE  on the training dataset is:  1.3425021900023135\n",
      "The MSE  on the testing dataset is:  1.5666292107076425\n"
     ]
    }
   ],
   "source": [
    "# Model Accuracy on training dataset\n",
    "print('The R2 score on the training dataset prediction is: ', r2_score(y_train, y_pred_train_nn))\n",
    "print('The R2 score on the test dataset prediction is: ', r2_score(y_test, y_pred_test_nn))\n",
    "print(\"\")\n",
    "\n",
    "# The Root Mean Squared Error (RMSE)\n",
    "print('The RMSE on the training dataset is: ', sqrt(mean_squared_error(y_train, y_pred_train_nn)))\n",
    "print('The RMSE on the testing dataset is: ', sqrt(mean_squared_error(y_test, y_pred_test_nn)))\n",
    "print(\"\")\n",
    "\n",
    "# The Mean Absolute Error (MAE)\n",
    "print('The MAE on the training dataset is: ', mean_absolute_error(y_train, y_pred_train_nn))\n",
    "print('The MAE on the testing dataset is: ', mean_absolute_error(y_test, y_pred_test_nn))\n",
    "\n",
    "print(\"\")\n",
    "# The Mean Squared Error (MSE)\n",
    "print('The MSE  on the training dataset is: ',mean_squared_error(y_train, y_pred_train_nn))\n",
    "print('The MSE  on the testing dataset is: ',mean_squared_error(y_test, y_pred_test_nn))"
   ]
  },
  {
   "cell_type": "code",
   "execution_count": null,
   "id": "2035113e",
   "metadata": {
    "papermill": {
     "duration": 0.03598,
     "end_time": "2025-01-13T16:29:25.481933",
     "exception": false,
     "start_time": "2025-01-13T16:29:25.445953",
     "status": "completed"
    },
    "tags": []
   },
   "outputs": [],
   "source": []
  },
  {
   "cell_type": "code",
   "execution_count": null,
   "id": "52573c98",
   "metadata": {
    "papermill": {
     "duration": 0.036224,
     "end_time": "2025-01-13T16:29:25.554509",
     "exception": false,
     "start_time": "2025-01-13T16:29:25.518285",
     "status": "completed"
    },
    "tags": []
   },
   "outputs": [],
   "source": []
  },
  {
   "cell_type": "markdown",
   "id": "e3ba09e2",
   "metadata": {
    "papermill": {
     "duration": 0.036608,
     "end_time": "2025-01-13T16:29:25.629199",
     "exception": false,
     "start_time": "2025-01-13T16:29:25.592591",
     "status": "completed"
    },
    "tags": []
   },
   "source": [
    "# **3.1. Splitting & Preprocessing the Raw Data(Smoothed iqr)**"
   ]
  },
  {
   "cell_type": "markdown",
   "id": "afa0e5fc",
   "metadata": {
    "papermill": {
     "duration": 0.035826,
     "end_time": "2025-01-13T16:29:25.701659",
     "exception": false,
     "start_time": "2025-01-13T16:29:25.665833",
     "status": "completed"
    },
    "tags": []
   },
   "source": [
    "AQI Smoothed iqr"
   ]
  },
  {
   "cell_type": "code",
   "execution_count": 44,
   "id": "3b3d4299",
   "metadata": {
    "execution": {
     "iopub.execute_input": "2025-01-13T16:29:25.775324Z",
     "iopub.status.busy": "2025-01-13T16:29:25.774971Z",
     "iopub.status.idle": "2025-01-13T16:29:25.796941Z",
     "shell.execute_reply": "2025-01-13T16:29:25.795700Z"
    },
    "papermill": {
     "duration": 0.060961,
     "end_time": "2025-01-13T16:29:25.798748",
     "exception": false,
     "start_time": "2025-01-13T16:29:25.737787",
     "status": "completed"
    },
    "tags": []
   },
   "outputs": [
    {
     "data": {
      "text/html": [
       "<div>\n",
       "<style scoped>\n",
       "    .dataframe tbody tr th:only-of-type {\n",
       "        vertical-align: middle;\n",
       "    }\n",
       "\n",
       "    .dataframe tbody tr th {\n",
       "        vertical-align: top;\n",
       "    }\n",
       "\n",
       "    .dataframe thead th {\n",
       "        text-align: right;\n",
       "    }\n",
       "</style>\n",
       "<table border=\"1\" class=\"dataframe\">\n",
       "  <thead>\n",
       "    <tr style=\"text-align: right;\">\n",
       "      <th></th>\n",
       "      <th>co</th>\n",
       "      <th>no2</th>\n",
       "      <th>o3</th>\n",
       "      <th>pm10</th>\n",
       "      <th>pm25</th>\n",
       "      <th>so2</th>\n",
       "      <th>humidity</th>\n",
       "      <th>pressure</th>\n",
       "      <th>temperature</th>\n",
       "      <th>wind-speed</th>\n",
       "      <th>Country_City</th>\n",
       "      <th>Checks</th>\n",
       "      <th>AQI</th>\n",
       "      <th>AQI_smoothed_iqr</th>\n",
       "      <th>AQI_smoothed_zscore</th>\n",
       "      <th>AQI_smoothed_rolling</th>\n",
       "    </tr>\n",
       "  </thead>\n",
       "  <tbody>\n",
       "    <tr>\n",
       "      <th>2014-12-29</th>\n",
       "      <td>3.138695</td>\n",
       "      <td>4.7</td>\n",
       "      <td>15.2</td>\n",
       "      <td>9.0</td>\n",
       "      <td>12.0</td>\n",
       "      <td>2.9</td>\n",
       "      <td>76.126377</td>\n",
       "      <td>1017.086884</td>\n",
       "      <td>18.027986</td>\n",
       "      <td>3.545607</td>\n",
       "      <td>Australia_Newcastle</td>\n",
       "      <td>6</td>\n",
       "      <td>15.0</td>\n",
       "      <td>15.0</td>\n",
       "      <td>15.0</td>\n",
       "      <td>15.0</td>\n",
       "    </tr>\n",
       "    <tr>\n",
       "      <th>2014-12-30</th>\n",
       "      <td>3.400000</td>\n",
       "      <td>4.7</td>\n",
       "      <td>19.2</td>\n",
       "      <td>21.0</td>\n",
       "      <td>23.0</td>\n",
       "      <td>1.5</td>\n",
       "      <td>76.126377</td>\n",
       "      <td>1017.086884</td>\n",
       "      <td>18.027986</td>\n",
       "      <td>3.545607</td>\n",
       "      <td>Australia_Newcastle</td>\n",
       "      <td>6</td>\n",
       "      <td>23.0</td>\n",
       "      <td>23.0</td>\n",
       "      <td>23.0</td>\n",
       "      <td>23.0</td>\n",
       "    </tr>\n",
       "    <tr>\n",
       "      <th>2014-12-31</th>\n",
       "      <td>2.300000</td>\n",
       "      <td>2.8</td>\n",
       "      <td>17.6</td>\n",
       "      <td>38.0</td>\n",
       "      <td>39.0</td>\n",
       "      <td>1.5</td>\n",
       "      <td>76.126377</td>\n",
       "      <td>1017.086884</td>\n",
       "      <td>18.027986</td>\n",
       "      <td>3.545607</td>\n",
       "      <td>Australia_Newcastle</td>\n",
       "      <td>6</td>\n",
       "      <td>39.0</td>\n",
       "      <td>39.0</td>\n",
       "      <td>39.0</td>\n",
       "      <td>39.0</td>\n",
       "    </tr>\n",
       "    <tr>\n",
       "      <th>2015-01-01</th>\n",
       "      <td>2.300000</td>\n",
       "      <td>1.9</td>\n",
       "      <td>16.8</td>\n",
       "      <td>24.0</td>\n",
       "      <td>38.0</td>\n",
       "      <td>1.5</td>\n",
       "      <td>76.126377</td>\n",
       "      <td>1017.086884</td>\n",
       "      <td>18.027986</td>\n",
       "      <td>3.545607</td>\n",
       "      <td>Australia_Newcastle</td>\n",
       "      <td>6</td>\n",
       "      <td>38.0</td>\n",
       "      <td>38.0</td>\n",
       "      <td>38.0</td>\n",
       "      <td>38.0</td>\n",
       "    </tr>\n",
       "    <tr>\n",
       "      <th>2015-01-02</th>\n",
       "      <td>3.138695</td>\n",
       "      <td>3.8</td>\n",
       "      <td>10.4</td>\n",
       "      <td>24.0</td>\n",
       "      <td>42.0</td>\n",
       "      <td>2.9</td>\n",
       "      <td>76.126377</td>\n",
       "      <td>1017.086884</td>\n",
       "      <td>18.027986</td>\n",
       "      <td>3.545607</td>\n",
       "      <td>Australia_Newcastle</td>\n",
       "      <td>6</td>\n",
       "      <td>42.0</td>\n",
       "      <td>42.0</td>\n",
       "      <td>42.0</td>\n",
       "      <td>42.0</td>\n",
       "    </tr>\n",
       "  </tbody>\n",
       "</table>\n",
       "</div>"
      ],
      "text/plain": [
       "                  co  no2    o3  pm10  pm25  so2   humidity     pressure  \\\n",
       "2014-12-29  3.138695  4.7  15.2   9.0  12.0  2.9  76.126377  1017.086884   \n",
       "2014-12-30  3.400000  4.7  19.2  21.0  23.0  1.5  76.126377  1017.086884   \n",
       "2014-12-31  2.300000  2.8  17.6  38.0  39.0  1.5  76.126377  1017.086884   \n",
       "2015-01-01  2.300000  1.9  16.8  24.0  38.0  1.5  76.126377  1017.086884   \n",
       "2015-01-02  3.138695  3.8  10.4  24.0  42.0  2.9  76.126377  1017.086884   \n",
       "\n",
       "            temperature  wind-speed         Country_City  Checks   AQI  \\\n",
       "2014-12-29    18.027986    3.545607  Australia_Newcastle       6  15.0   \n",
       "2014-12-30    18.027986    3.545607  Australia_Newcastle       6  23.0   \n",
       "2014-12-31    18.027986    3.545607  Australia_Newcastle       6  39.0   \n",
       "2015-01-01    18.027986    3.545607  Australia_Newcastle       6  38.0   \n",
       "2015-01-02    18.027986    3.545607  Australia_Newcastle       6  42.0   \n",
       "\n",
       "            AQI_smoothed_iqr  AQI_smoothed_zscore  AQI_smoothed_rolling  \n",
       "2014-12-29              15.0                 15.0                  15.0  \n",
       "2014-12-30              23.0                 23.0                  23.0  \n",
       "2014-12-31              39.0                 39.0                  39.0  \n",
       "2015-01-01              38.0                 38.0                  38.0  \n",
       "2015-01-02              42.0                 42.0                  42.0  "
      ]
     },
     "execution_count": 44,
     "metadata": {},
     "output_type": "execute_result"
    }
   ],
   "source": [
    "new_data4.head()"
   ]
  },
  {
   "cell_type": "code",
   "execution_count": 45,
   "id": "40cf7348",
   "metadata": {
    "execution": {
     "iopub.execute_input": "2025-01-13T16:29:25.872892Z",
     "iopub.status.busy": "2025-01-13T16:29:25.872424Z",
     "iopub.status.idle": "2025-01-13T16:29:25.878582Z",
     "shell.execute_reply": "2025-01-13T16:29:25.877550Z"
    },
    "papermill": {
     "duration": 0.044943,
     "end_time": "2025-01-13T16:29:25.880122",
     "exception": false,
     "start_time": "2025-01-13T16:29:25.835179",
     "status": "completed"
    },
    "tags": []
   },
   "outputs": [
    {
     "data": {
      "text/plain": [
       "Index(['co', 'no2', 'o3', 'pm10', 'pm25', 'so2', 'humidity', 'pressure',\n",
       "       'temperature', 'wind-speed', 'Country_City', 'Checks', 'AQI',\n",
       "       'AQI_smoothed_iqr', 'AQI_smoothed_zscore', 'AQI_smoothed_rolling'],\n",
       "      dtype='object')"
      ]
     },
     "execution_count": 45,
     "metadata": {},
     "output_type": "execute_result"
    }
   ],
   "source": [
    "new_data4.columns"
   ]
  },
  {
   "cell_type": "markdown",
   "id": "a1ae109f",
   "metadata": {
    "papermill": {
     "duration": 0.035471,
     "end_time": "2025-01-13T16:29:25.951922",
     "exception": false,
     "start_time": "2025-01-13T16:29:25.916451",
     "status": "completed"
    },
    "tags": []
   },
   "source": [
    "***Working with AQI_smoothed_iqr***"
   ]
  },
  {
   "cell_type": "code",
   "execution_count": 46,
   "id": "985b11fa",
   "metadata": {
    "execution": {
     "iopub.execute_input": "2025-01-13T16:29:26.025251Z",
     "iopub.status.busy": "2025-01-13T16:29:26.024878Z",
     "iopub.status.idle": "2025-01-13T16:29:26.030578Z",
     "shell.execute_reply": "2025-01-13T16:29:26.029416Z"
    },
    "papermill": {
     "duration": 0.044682,
     "end_time": "2025-01-13T16:29:26.032376",
     "exception": false,
     "start_time": "2025-01-13T16:29:25.987694",
     "status": "completed"
    },
    "tags": []
   },
   "outputs": [],
   "source": [
    "data = new_data4.drop(['Country_City', 'Checks', 'AQI', 'AQI_smoothed_zscore', 'AQI_smoothed_rolling'],axis=1)"
   ]
  },
  {
   "cell_type": "code",
   "execution_count": 47,
   "id": "8b126032",
   "metadata": {
    "execution": {
     "iopub.execute_input": "2025-01-13T16:29:26.107929Z",
     "iopub.status.busy": "2025-01-13T16:29:26.107501Z",
     "iopub.status.idle": "2025-01-13T16:29:26.124565Z",
     "shell.execute_reply": "2025-01-13T16:29:26.123506Z"
    },
    "papermill": {
     "duration": 0.056888,
     "end_time": "2025-01-13T16:29:26.126348",
     "exception": false,
     "start_time": "2025-01-13T16:29:26.069460",
     "status": "completed"
    },
    "tags": []
   },
   "outputs": [
    {
     "data": {
      "text/html": [
       "<div>\n",
       "<style scoped>\n",
       "    .dataframe tbody tr th:only-of-type {\n",
       "        vertical-align: middle;\n",
       "    }\n",
       "\n",
       "    .dataframe tbody tr th {\n",
       "        vertical-align: top;\n",
       "    }\n",
       "\n",
       "    .dataframe thead th {\n",
       "        text-align: right;\n",
       "    }\n",
       "</style>\n",
       "<table border=\"1\" class=\"dataframe\">\n",
       "  <thead>\n",
       "    <tr style=\"text-align: right;\">\n",
       "      <th></th>\n",
       "      <th>co</th>\n",
       "      <th>no2</th>\n",
       "      <th>o3</th>\n",
       "      <th>pm10</th>\n",
       "      <th>pm25</th>\n",
       "      <th>so2</th>\n",
       "      <th>humidity</th>\n",
       "      <th>pressure</th>\n",
       "      <th>temperature</th>\n",
       "      <th>wind-speed</th>\n",
       "      <th>AQI_smoothed_iqr</th>\n",
       "    </tr>\n",
       "  </thead>\n",
       "  <tbody>\n",
       "    <tr>\n",
       "      <th>2014-12-29</th>\n",
       "      <td>3.138695</td>\n",
       "      <td>4.7</td>\n",
       "      <td>15.2</td>\n",
       "      <td>9.0</td>\n",
       "      <td>12.0</td>\n",
       "      <td>2.9</td>\n",
       "      <td>76.126377</td>\n",
       "      <td>1017.086884</td>\n",
       "      <td>18.027986</td>\n",
       "      <td>3.545607</td>\n",
       "      <td>15.0</td>\n",
       "    </tr>\n",
       "    <tr>\n",
       "      <th>2014-12-30</th>\n",
       "      <td>3.400000</td>\n",
       "      <td>4.7</td>\n",
       "      <td>19.2</td>\n",
       "      <td>21.0</td>\n",
       "      <td>23.0</td>\n",
       "      <td>1.5</td>\n",
       "      <td>76.126377</td>\n",
       "      <td>1017.086884</td>\n",
       "      <td>18.027986</td>\n",
       "      <td>3.545607</td>\n",
       "      <td>23.0</td>\n",
       "    </tr>\n",
       "    <tr>\n",
       "      <th>2014-12-31</th>\n",
       "      <td>2.300000</td>\n",
       "      <td>2.8</td>\n",
       "      <td>17.6</td>\n",
       "      <td>38.0</td>\n",
       "      <td>39.0</td>\n",
       "      <td>1.5</td>\n",
       "      <td>76.126377</td>\n",
       "      <td>1017.086884</td>\n",
       "      <td>18.027986</td>\n",
       "      <td>3.545607</td>\n",
       "      <td>39.0</td>\n",
       "    </tr>\n",
       "    <tr>\n",
       "      <th>2015-01-01</th>\n",
       "      <td>2.300000</td>\n",
       "      <td>1.9</td>\n",
       "      <td>16.8</td>\n",
       "      <td>24.0</td>\n",
       "      <td>38.0</td>\n",
       "      <td>1.5</td>\n",
       "      <td>76.126377</td>\n",
       "      <td>1017.086884</td>\n",
       "      <td>18.027986</td>\n",
       "      <td>3.545607</td>\n",
       "      <td>38.0</td>\n",
       "    </tr>\n",
       "    <tr>\n",
       "      <th>2015-01-02</th>\n",
       "      <td>3.138695</td>\n",
       "      <td>3.8</td>\n",
       "      <td>10.4</td>\n",
       "      <td>24.0</td>\n",
       "      <td>42.0</td>\n",
       "      <td>2.9</td>\n",
       "      <td>76.126377</td>\n",
       "      <td>1017.086884</td>\n",
       "      <td>18.027986</td>\n",
       "      <td>3.545607</td>\n",
       "      <td>42.0</td>\n",
       "    </tr>\n",
       "  </tbody>\n",
       "</table>\n",
       "</div>"
      ],
      "text/plain": [
       "                  co  no2    o3  pm10  pm25  so2   humidity     pressure  \\\n",
       "2014-12-29  3.138695  4.7  15.2   9.0  12.0  2.9  76.126377  1017.086884   \n",
       "2014-12-30  3.400000  4.7  19.2  21.0  23.0  1.5  76.126377  1017.086884   \n",
       "2014-12-31  2.300000  2.8  17.6  38.0  39.0  1.5  76.126377  1017.086884   \n",
       "2015-01-01  2.300000  1.9  16.8  24.0  38.0  1.5  76.126377  1017.086884   \n",
       "2015-01-02  3.138695  3.8  10.4  24.0  42.0  2.9  76.126377  1017.086884   \n",
       "\n",
       "            temperature  wind-speed  AQI_smoothed_iqr  \n",
       "2014-12-29    18.027986    3.545607              15.0  \n",
       "2014-12-30    18.027986    3.545607              23.0  \n",
       "2014-12-31    18.027986    3.545607              39.0  \n",
       "2015-01-01    18.027986    3.545607              38.0  \n",
       "2015-01-02    18.027986    3.545607              42.0  "
      ]
     },
     "execution_count": 47,
     "metadata": {},
     "output_type": "execute_result"
    }
   ],
   "source": [
    "data.head()"
   ]
  },
  {
   "cell_type": "code",
   "execution_count": 48,
   "id": "f0c00400",
   "metadata": {
    "execution": {
     "iopub.execute_input": "2025-01-13T16:29:26.203556Z",
     "iopub.status.busy": "2025-01-13T16:29:26.203153Z",
     "iopub.status.idle": "2025-01-13T16:29:26.211248Z",
     "shell.execute_reply": "2025-01-13T16:29:26.209973Z"
    },
    "papermill": {
     "duration": 0.048335,
     "end_time": "2025-01-13T16:29:26.213179",
     "exception": false,
     "start_time": "2025-01-13T16:29:26.164844",
     "status": "completed"
    },
    "tags": []
   },
   "outputs": [
    {
     "name": "stdout",
     "output_type": "stream",
     "text": [
      "Index(['co', 'no2', 'o3', 'pm10', 'pm25', 'so2', 'humidity', 'pressure',\n",
      "       'temperature', 'wind-speed', 'AQI_smoothed_iqr'],\n",
      "      dtype='object')\n",
      "Index([], dtype='object')\n"
     ]
    }
   ],
   "source": [
    "num = data.select_dtypes(include=['int16', 'int32', 'int64', 'float16', 'float32', 'float64'])\n",
    "cat = data.select_dtypes(include=['object'])\n",
    "\n",
    "print(num.columns)\n",
    "print(cat.columns)"
   ]
  },
  {
   "cell_type": "code",
   "execution_count": 49,
   "id": "099d8aec",
   "metadata": {
    "execution": {
     "iopub.execute_input": "2025-01-13T16:29:26.286707Z",
     "iopub.status.busy": "2025-01-13T16:29:26.286293Z",
     "iopub.status.idle": "2025-01-13T16:29:26.297211Z",
     "shell.execute_reply": "2025-01-13T16:29:26.296152Z"
    },
    "papermill": {
     "duration": 0.04969,
     "end_time": "2025-01-13T16:29:26.299016",
     "exception": false,
     "start_time": "2025-01-13T16:29:26.249326",
     "status": "completed"
    },
    "tags": []
   },
   "outputs": [
    {
     "name": "stdout",
     "output_type": "stream",
     "text": [
      "(2932, 10) (2932,) (733, 10) (733,)\n"
     ]
    }
   ],
   "source": [
    "X = data[['co', 'no2', 'o3', 'pm10', 'pm25', 'so2', 'humidity', 'pressure',\n",
    "       'temperature', 'wind-speed']]\n",
    "\n",
    "y = data['AQI_smoothed_iqr']\n",
    "\n",
    "X_train, X_test, y_train, y_test = train_test_split(X, y, test_size = 0.2, random_state = 42)\n",
    "\n",
    "print(X_train.shape, y_train.shape, X_test.shape, y_test.shape)"
   ]
  },
  {
   "cell_type": "code",
   "execution_count": 50,
   "id": "733d48d8",
   "metadata": {
    "execution": {
     "iopub.execute_input": "2025-01-13T16:29:26.373043Z",
     "iopub.status.busy": "2025-01-13T16:29:26.372640Z",
     "iopub.status.idle": "2025-01-13T16:29:26.377461Z",
     "shell.execute_reply": "2025-01-13T16:29:26.376391Z"
    },
    "papermill": {
     "duration": 0.044141,
     "end_time": "2025-01-13T16:29:26.379461",
     "exception": false,
     "start_time": "2025-01-13T16:29:26.335320",
     "status": "completed"
    },
    "tags": []
   },
   "outputs": [],
   "source": [
    "# Preprocessor without scaling\n",
    "preprocessor = ColumnTransformer(\n",
    "    transformers=[\n",
    "        ('num', 'passthrough', ['co', 'no2', 'o3', 'pm10', 'pm25', 'so2', 'humidity', \n",
    "                                'pressure', 'temperature', 'wind-speed'])\n",
    "    ])\n",
    "# Pipeline\n",
    "pipeline = Pipeline(steps=[\n",
    "    ('preprocessor', preprocessor)\n",
    "])"
   ]
  },
  {
   "cell_type": "markdown",
   "id": "398b373a",
   "metadata": {
    "papermill": {
     "duration": 0.036212,
     "end_time": "2025-01-13T16:29:26.452338",
     "exception": false,
     "start_time": "2025-01-13T16:29:26.416126",
     "status": "completed"
    },
    "tags": []
   },
   "source": [
    "# **3.2. Model Training & Testing**"
   ]
  },
  {
   "cell_type": "markdown",
   "id": "dbad939e",
   "metadata": {
    "papermill": {
     "duration": 0.035838,
     "end_time": "2025-01-13T16:29:26.525226",
     "exception": false,
     "start_time": "2025-01-13T16:29:26.489388",
     "status": "completed"
    },
    "tags": []
   },
   "source": [
    "## **3.2.1. LinearRegression**"
   ]
  },
  {
   "cell_type": "code",
   "execution_count": 51,
   "id": "777036c2",
   "metadata": {
    "execution": {
     "iopub.execute_input": "2025-01-13T16:29:26.601303Z",
     "iopub.status.busy": "2025-01-13T16:29:26.600948Z",
     "iopub.status.idle": "2025-01-13T16:29:26.620639Z",
     "shell.execute_reply": "2025-01-13T16:29:26.618502Z"
    },
    "papermill": {
     "duration": 0.067408,
     "end_time": "2025-01-13T16:29:26.628682",
     "exception": false,
     "start_time": "2025-01-13T16:29:26.561274",
     "status": "completed"
    },
    "tags": []
   },
   "outputs": [],
   "source": [
    "# training with LinearRegression\n",
    "\n",
    "lm = LinearRegression(fit_intercept = True)\n",
    "\n",
    "pipeline = Pipeline(steps=[('preprocessor', preprocessor), ('regressor', lm)])\n",
    "\n",
    "# Fit the pipeline to the training data\n",
    "pipeline.fit(X_train,y_train)\n",
    "\n",
    "# Predict on the training and test datasets\n",
    "y_pred_train_lm = pipeline.predict(X_train)\n",
    "y_pred_test_lm = pipeline.predict(X_test)"
   ]
  },
  {
   "cell_type": "code",
   "execution_count": 52,
   "id": "7931220b",
   "metadata": {
    "execution": {
     "iopub.execute_input": "2025-01-13T16:29:26.790061Z",
     "iopub.status.busy": "2025-01-13T16:29:26.789686Z",
     "iopub.status.idle": "2025-01-13T16:29:26.806293Z",
     "shell.execute_reply": "2025-01-13T16:29:26.805060Z"
    },
    "papermill": {
     "duration": 0.057213,
     "end_time": "2025-01-13T16:29:26.808631",
     "exception": false,
     "start_time": "2025-01-13T16:29:26.751418",
     "status": "completed"
    },
    "tags": []
   },
   "outputs": [
    {
     "name": "stdout",
     "output_type": "stream",
     "text": [
      "The r2 Accuracy on the training dataset prediction is:  0.9931928417969202\n",
      "The r2 Accuracy on the test dataset prediction is:  0.9902797840757875\n",
      "\n",
      "The RMSE  on the training dataset is:  1.3691049779272801\n",
      "The RMSE  on the testing dataset is:  1.6149016010186281\n",
      "\n",
      "The MAE  on the training dataset is:  0.8015042911910482\n",
      "The MAE  on the testing dataset is:  0.8134377518210754\n",
      "\n",
      "The MSE  on the training dataset is:  1.874448440585258\n",
      "The MSE  on the testing dataset is:  2.6079071809725285\n"
     ]
    }
   ],
   "source": [
    "# Model Accuracy on training and testing dataset\n",
    "\n",
    "print('The r2 Accuracy on the training dataset prediction is: ',r2_score(y_train,y_pred_train_lm) )\n",
    "print('The r2 Accuracy on the test dataset prediction is: ',r2_score(y_test,y_pred_test_lm) )\n",
    "\n",
    "print(\"\")\n",
    "\n",
    "# The Root Mean Squared Error (RMSE)\n",
    "print('The RMSE  on the training dataset is: ',sqrt(mean_squared_error(y_train, y_pred_train_lm)))\n",
    "print('The RMSE  on the testing dataset is: ',sqrt(mean_squared_error(y_test, y_pred_test_lm)))\n",
    "\n",
    "print(\"\")\n",
    "# The Mean Absolute Error (MAE)\n",
    "print('The MAE  on the training dataset is: ',mean_absolute_error(y_train, y_pred_train_lm))\n",
    "print('The MAE  on the testing dataset is: ',mean_absolute_error(y_test, y_pred_test_lm))\n",
    "\n",
    "print(\"\")\n",
    "# The Mean Squared Error (MSE)\n",
    "print('The MSE  on the training dataset is: ',mean_squared_error(y_train, y_pred_train_lm))\n",
    "print('The MSE  on the testing dataset is: ',mean_squared_error(y_test, y_pred_test_lm))"
   ]
  },
  {
   "cell_type": "markdown",
   "id": "60ce9516",
   "metadata": {
    "papermill": {
     "duration": 0.036491,
     "end_time": "2025-01-13T16:29:26.884301",
     "exception": false,
     "start_time": "2025-01-13T16:29:26.847810",
     "status": "completed"
    },
    "tags": []
   },
   "source": [
    "## **3.2.2.  KNeighborsRegressor**"
   ]
  },
  {
   "cell_type": "code",
   "execution_count": 53,
   "id": "fea950b6",
   "metadata": {
    "execution": {
     "iopub.execute_input": "2025-01-13T16:29:26.958294Z",
     "iopub.status.busy": "2025-01-13T16:29:26.957945Z",
     "iopub.status.idle": "2025-01-13T16:29:27.008845Z",
     "shell.execute_reply": "2025-01-13T16:29:27.007797Z"
    },
    "papermill": {
     "duration": 0.090294,
     "end_time": "2025-01-13T16:29:27.010958",
     "exception": false,
     "start_time": "2025-01-13T16:29:26.920664",
     "status": "completed"
    },
    "tags": []
   },
   "outputs": [],
   "source": [
    "# training with KNeighborsRegressor\n",
    "\n",
    "neigh = KNeighborsRegressor(n_neighbors=2)\n",
    "\n",
    "pipeline = Pipeline(steps=[('preprocessor', preprocessor), ('regressor', neigh)])\n",
    "\n",
    "# Fit the pipeline to the training data\n",
    "pipeline.fit(X_train,y_train)\n",
    "\n",
    "# Predict on the training and test datasets\n",
    "y_pred_train_knn = pipeline.predict(X_train)\n",
    "y_pred_test_knn = pipeline.predict(X_test)"
   ]
  },
  {
   "cell_type": "code",
   "execution_count": 54,
   "id": "4a01f416",
   "metadata": {
    "execution": {
     "iopub.execute_input": "2025-01-13T16:29:27.087090Z",
     "iopub.status.busy": "2025-01-13T16:29:27.086708Z",
     "iopub.status.idle": "2025-01-13T16:29:27.102142Z",
     "shell.execute_reply": "2025-01-13T16:29:27.100905Z"
    },
    "papermill": {
     "duration": 0.055828,
     "end_time": "2025-01-13T16:29:27.103845",
     "exception": false,
     "start_time": "2025-01-13T16:29:27.048017",
     "status": "completed"
    },
    "tags": []
   },
   "outputs": [
    {
     "name": "stdout",
     "output_type": "stream",
     "text": [
      "The R2 score on the training dataset prediction is:  0.9974212508121292\n",
      "The R2 score on the test dataset prediction is:  0.9915527606193302\n",
      "\n",
      "The RMSE  on the training dataset is:  0.8426716430221295\n",
      "The RMSE  on the testing dataset is:  1.5054471354925152\n",
      "\n",
      "The MAE  on the training dataset is:  0.5017053206002728\n",
      "The MAE  on the testing dataset is:  0.8615279672578445\n",
      "\n",
      "The MSE  on the training dataset is:  0.7100954979536153\n",
      "The MSE  on the testing dataset is:  2.2663710777626194\n"
     ]
    }
   ],
   "source": [
    "# Model Accuracy on training dataset\n",
    "print('The R2 score on the training dataset prediction is: ', r2_score(y_train,y_pred_train_knn))\n",
    "print('The R2 score on the test dataset prediction is: ', r2_score(y_test, y_pred_test_knn))\n",
    "print(\"\")\n",
    "\n",
    "# The Root Mean Squared Error (RMSE)\n",
    "print('The RMSE  on the training dataset is: ',sqrt(mean_squared_error(y_train,y_pred_train_knn)))\n",
    "print('The RMSE  on the testing dataset is: ',sqrt(mean_squared_error(y_test, y_pred_test_knn)))\n",
    "\n",
    "print(\"\")\n",
    "# The Mean Absolute Error (MAE)\n",
    "print('The MAE  on the training dataset is: ',mean_absolute_error(y_train,y_pred_train_knn))\n",
    "print('The MAE  on the testing dataset is: ',mean_absolute_error(y_test, y_pred_test_knn))\n",
    "\n",
    "print(\"\")\n",
    "# The Mean Squared Error (MSE)\n",
    "print('The MSE  on the training dataset is: ',mean_squared_error(y_train, y_pred_train_knn))\n",
    "print('The MSE  on the testing dataset is: ',mean_squared_error(y_test, y_pred_test_knn))"
   ]
  },
  {
   "cell_type": "markdown",
   "id": "b66cb7a3",
   "metadata": {
    "papermill": {
     "duration": 0.035958,
     "end_time": "2025-01-13T16:29:27.176387",
     "exception": false,
     "start_time": "2025-01-13T16:29:27.140429",
     "status": "completed"
    },
    "tags": []
   },
   "source": [
    "## **3.2.3.  Random Forest Regressor**"
   ]
  },
  {
   "cell_type": "code",
   "execution_count": 55,
   "id": "cc776757",
   "metadata": {
    "execution": {
     "iopub.execute_input": "2025-01-13T16:29:27.252205Z",
     "iopub.status.busy": "2025-01-13T16:29:27.251846Z",
     "iopub.status.idle": "2025-01-13T16:29:27.969124Z",
     "shell.execute_reply": "2025-01-13T16:29:27.967898Z"
    },
    "papermill": {
     "duration": 0.757033,
     "end_time": "2025-01-13T16:29:27.971407",
     "exception": false,
     "start_time": "2025-01-13T16:29:27.214374",
     "status": "completed"
    },
    "tags": []
   },
   "outputs": [],
   "source": [
    "# Training with random forest regressor\n",
    "random = RandomForestRegressor()\n",
    "\n",
    "pipeline = Pipeline(steps=[('preprocessor', preprocessor), ('regressor', random)])\n",
    "\n",
    "# Fit the pipeline to the training data\n",
    "pipeline.fit(X_train,y_train)\n",
    "\n",
    "# Predict on the training and test datasets\n",
    "y_pred_train_random = pipeline.predict(X_train)\n",
    "y_pred_test_random = pipeline.predict(X_test)"
   ]
  },
  {
   "cell_type": "code",
   "execution_count": 56,
   "id": "f2c8ee0c",
   "metadata": {
    "execution": {
     "iopub.execute_input": "2025-01-13T16:29:28.047381Z",
     "iopub.status.busy": "2025-01-13T16:29:28.046984Z",
     "iopub.status.idle": "2025-01-13T16:29:28.065247Z",
     "shell.execute_reply": "2025-01-13T16:29:28.064033Z"
    },
    "papermill": {
     "duration": 0.058545,
     "end_time": "2025-01-13T16:29:28.067150",
     "exception": false,
     "start_time": "2025-01-13T16:29:28.008605",
     "status": "completed"
    },
    "tags": []
   },
   "outputs": [
    {
     "name": "stdout",
     "output_type": "stream",
     "text": [
      "The R2 score on the training dataset prediction is:  0.9997420081580989\n",
      "The R2 score on the test dataset prediction is:  0.9980551330293419\n",
      "\n",
      "The RMSE  on the training dataset is:  0.26653657581708123\n",
      "The RMSE  on the testing dataset is:  0.7223589520879936\n",
      "\n",
      "The MAE  on the training dataset is:  0.036152796725784454\n",
      "The MAE  on the testing dataset is:  0.11004092769440654\n",
      "\n",
      "The MSE  on the training dataset is:  0.07104174624829468\n",
      "The MSE  on the testing dataset is:  0.5218024556616643\n"
     ]
    }
   ],
   "source": [
    "# Model Accuracy on training dataset\n",
    "print('The R2 score on the training dataset prediction is: ', r2_score(y_train,y_pred_train_random))\n",
    "print('The R2 score on the test dataset prediction is: ', r2_score(y_test, y_pred_test_random))\n",
    "print(\"\")\n",
    "\n",
    "# The Root Mean Squared Error (RMSE)\n",
    "print('The RMSE  on the training dataset is: ',sqrt(mean_squared_error(y_train,y_pred_train_random)))\n",
    "print('The RMSE  on the testing dataset is: ',sqrt(mean_squared_error(y_test, y_pred_test_random)))\n",
    "\n",
    "print(\"\")\n",
    "# The Mean Absolute Error (MAE)\n",
    "print('The MAE  on the training dataset is: ',mean_absolute_error(y_train,y_pred_train_random))\n",
    "print('The MAE  on the testing dataset is: ',mean_absolute_error(y_test, y_pred_test_random))\n",
    "\n",
    "print(\"\")\n",
    "# The Mean Squared Error (MSE)\n",
    "print('The MSE  on the training dataset is: ',mean_squared_error(y_train, y_pred_train_random))\n",
    "print('The MSE  on the testing dataset is: ',mean_squared_error(y_test, y_pred_test_random))"
   ]
  },
  {
   "cell_type": "markdown",
   "id": "85cb25ac",
   "metadata": {
    "papermill": {
     "duration": 0.036284,
     "end_time": "2025-01-13T16:29:28.140447",
     "exception": false,
     "start_time": "2025-01-13T16:29:28.104163",
     "status": "completed"
    },
    "tags": []
   },
   "source": [
    "## **3.2.4.  Decision Tree regressor**"
   ]
  },
  {
   "cell_type": "code",
   "execution_count": 57,
   "id": "4b120178",
   "metadata": {
    "execution": {
     "iopub.execute_input": "2025-01-13T16:29:28.218194Z",
     "iopub.status.busy": "2025-01-13T16:29:28.217817Z",
     "iopub.status.idle": "2025-01-13T16:29:28.238137Z",
     "shell.execute_reply": "2025-01-13T16:29:28.236828Z"
    },
    "papermill": {
     "duration": 0.062585,
     "end_time": "2025-01-13T16:29:28.240035",
     "exception": false,
     "start_time": "2025-01-13T16:29:28.177450",
     "status": "completed"
    },
    "tags": []
   },
   "outputs": [],
   "source": [
    "# Training with Decision Tree regressor\n",
    "dt = DecisionTreeRegressor()\n",
    "\n",
    "pipeline = Pipeline(steps=[('preprocessor', preprocessor), ('regressor', dt)])\n",
    "\n",
    "# Fit the pipeline to the training data\n",
    "pipeline.fit(X_train,y_train)\n",
    "\n",
    "# Predict on the training and test datasets\n",
    "y_pred_train_dt = pipeline.predict(X_train)\n",
    "y_pred_test_dt = pipeline.predict(X_test)"
   ]
  },
  {
   "cell_type": "code",
   "execution_count": 58,
   "id": "d9fe4141",
   "metadata": {
    "execution": {
     "iopub.execute_input": "2025-01-13T16:29:28.315630Z",
     "iopub.status.busy": "2025-01-13T16:29:28.315204Z",
     "iopub.status.idle": "2025-01-13T16:29:28.333863Z",
     "shell.execute_reply": "2025-01-13T16:29:28.332552Z"
    },
    "papermill": {
     "duration": 0.058882,
     "end_time": "2025-01-13T16:29:28.335554",
     "exception": false,
     "start_time": "2025-01-13T16:29:28.276672",
     "status": "completed"
    },
    "tags": []
   },
   "outputs": [
    {
     "name": "stdout",
     "output_type": "stream",
     "text": [
      "The R2 score on the training dataset prediction is:  1.0\n",
      "The R2 score on the test dataset prediction is:  0.9974168863173031\n",
      "\n",
      "The RMSE  on the training dataset is:  0.0\n",
      "The RMSE  on the testing dataset is:  0.8324916167451097\n",
      "\n",
      "The MAE  on the training dataset is:  0.0\n",
      "The MAE  on the testing dataset is:  0.10914051841746249\n",
      "\n",
      "The MSE  on the training dataset is:  0.0\n",
      "The MSE  on the testing dataset is:  0.6930422919508867\n"
     ]
    }
   ],
   "source": [
    "# Model Accuracy on training dataset\n",
    "print('The R2 score on the training dataset prediction is: ', r2_score(y_train,y_pred_train_dt))\n",
    "print('The R2 score on the test dataset prediction is: ', r2_score(y_test, y_pred_test_dt))\n",
    "print(\"\")\n",
    "\n",
    "# The Root Mean Squared Error (RMSE)\n",
    "print('The RMSE  on the training dataset is: ',sqrt(mean_squared_error(y_train,y_pred_train_dt)))\n",
    "print('The RMSE  on the testing dataset is: ',sqrt(mean_squared_error(y_test, y_pred_test_dt)))\n",
    "\n",
    "print(\"\")\n",
    "# The Mean Absolute Error (MAE)\n",
    "print('The MAE  on the training dataset is: ',mean_absolute_error(y_train,y_pred_train_dt))\n",
    "print('The MAE  on the testing dataset is: ',mean_absolute_error(y_test, y_pred_test_dt))\n",
    "\n",
    "print(\"\")\n",
    "# The Mean Squared Error (MSE)\n",
    "print('The MSE  on the training dataset is: ',mean_squared_error(y_train, y_pred_train_dt))\n",
    "print('The MSE  on the testing dataset is: ',mean_squared_error(y_test, y_pred_test_dt))"
   ]
  },
  {
   "cell_type": "markdown",
   "id": "5d0a4ba3",
   "metadata": {
    "papermill": {
     "duration": 0.036626,
     "end_time": "2025-01-13T16:29:28.409672",
     "exception": false,
     "start_time": "2025-01-13T16:29:28.373046",
     "status": "completed"
    },
    "tags": []
   },
   "source": [
    "## **3.2.5.  Support Vector Machine regressor**"
   ]
  },
  {
   "cell_type": "code",
   "execution_count": 59,
   "id": "b23da829",
   "metadata": {
    "execution": {
     "iopub.execute_input": "2025-01-13T16:29:28.485763Z",
     "iopub.status.busy": "2025-01-13T16:29:28.485309Z",
     "iopub.status.idle": "2025-01-13T16:29:32.619732Z",
     "shell.execute_reply": "2025-01-13T16:29:32.618697Z"
    },
    "papermill": {
     "duration": 4.17497,
     "end_time": "2025-01-13T16:29:32.621512",
     "exception": false,
     "start_time": "2025-01-13T16:29:28.446542",
     "status": "completed"
    },
    "tags": []
   },
   "outputs": [],
   "source": [
    "# Training with Support Vector Machine regressor\n",
    "svr = SVR(kernel='linear')\n",
    "\n",
    "pipeline = Pipeline(steps=[('preprocessor', preprocessor), ('regressor', svr)])\n",
    "\n",
    "# Fit the pipeline to the training data\n",
    "pipeline.fit(X_train, y_train)\n",
    "\n",
    "# Predict on the training and test datasets\n",
    "y_pred_train_svr = pipeline.predict(X_train)\n",
    "y_pred_test_svr = pipeline.predict(X_test)"
   ]
  },
  {
   "cell_type": "code",
   "execution_count": 60,
   "id": "86264a3c",
   "metadata": {
    "execution": {
     "iopub.execute_input": "2025-01-13T16:29:32.696610Z",
     "iopub.status.busy": "2025-01-13T16:29:32.696168Z",
     "iopub.status.idle": "2025-01-13T16:29:32.714302Z",
     "shell.execute_reply": "2025-01-13T16:29:32.713043Z"
    },
    "papermill": {
     "duration": 0.057922,
     "end_time": "2025-01-13T16:29:32.716166",
     "exception": false,
     "start_time": "2025-01-13T16:29:32.658244",
     "status": "completed"
    },
    "tags": []
   },
   "outputs": [
    {
     "name": "stdout",
     "output_type": "stream",
     "text": [
      "The R2 score on the training dataset prediction is:  0.8937263686649852\n",
      "The R2 score on the test dataset prediction is:  0.8989412212674365\n",
      "\n",
      "The RMSE on the training dataset is:  5.409617866296017\n",
      "The RMSE on the testing dataset is:  5.207090570079813\n",
      "\n",
      "The MAE on the training dataset is:  4.009581177699853\n",
      "The MAE on the testing dataset is:  3.9479332975440102\n",
      "\n",
      "The MSE  on the training dataset is:  29.263965459349077\n",
      "The MSE  on the testing dataset is:  27.11379220501411\n"
     ]
    }
   ],
   "source": [
    "# Model Accuracy on training dataset\n",
    "print('The R2 score on the training dataset prediction is: ', r2_score(y_train, y_pred_train_svr))\n",
    "print('The R2 score on the test dataset prediction is: ', r2_score(y_test, y_pred_test_svr))\n",
    "print(\"\")\n",
    "\n",
    "# The Root Mean Squared Error (RMSE)\n",
    "print('The RMSE on the training dataset is: ', sqrt(mean_squared_error(y_train, y_pred_train_svr)))\n",
    "print('The RMSE on the testing dataset is: ', sqrt(mean_squared_error(y_test, y_pred_test_svr)))\n",
    "print(\"\")\n",
    "\n",
    "# The Mean Absolute Error (MAE)\n",
    "print('The MAE on the training dataset is: ', mean_absolute_error(y_train, y_pred_train_svr))\n",
    "print('The MAE on the testing dataset is: ', mean_absolute_error(y_test, y_pred_test_svr))\n",
    "\n",
    "print(\"\")\n",
    "# The Mean Squared Error (MSE)\n",
    "print('The MSE  on the training dataset is: ',mean_squared_error(y_train, y_pred_train_svr))\n",
    "print('The MSE  on the testing dataset is: ',mean_squared_error(y_test, y_pred_test_svr))"
   ]
  },
  {
   "cell_type": "markdown",
   "id": "4f7bb01d",
   "metadata": {
    "papermill": {
     "duration": 0.036353,
     "end_time": "2025-01-13T16:29:32.789548",
     "exception": false,
     "start_time": "2025-01-13T16:29:32.753195",
     "status": "completed"
    },
    "tags": []
   },
   "source": [
    "## **3.2.6.  XGBoost Regressor**"
   ]
  },
  {
   "cell_type": "code",
   "execution_count": 61,
   "id": "a7050337",
   "metadata": {
    "execution": {
     "iopub.execute_input": "2025-01-13T16:29:32.865016Z",
     "iopub.status.busy": "2025-01-13T16:29:32.864639Z",
     "iopub.status.idle": "2025-01-13T16:29:32.976201Z",
     "shell.execute_reply": "2025-01-13T16:29:32.975340Z"
    },
    "papermill": {
     "duration": 0.151539,
     "end_time": "2025-01-13T16:29:32.978329",
     "exception": false,
     "start_time": "2025-01-13T16:29:32.826790",
     "status": "completed"
    },
    "tags": []
   },
   "outputs": [],
   "source": [
    "# Training with XGBoost regressor\n",
    "xgb_regressor = XGBRegressor(objective='reg:squarederror')\n",
    "\n",
    "pipeline = Pipeline(steps=[('preprocessor', preprocessor), ('regressor', xgb_regressor)])\n",
    "\n",
    "# Fit the pipeline to the training data\n",
    "pipeline.fit(X_train, y_train)\n",
    "\n",
    "# Predict on the training and test datasets\n",
    "y_pred_train_xgb = pipeline.predict(X_train)\n",
    "y_pred_test_xgb = pipeline.predict(X_test)"
   ]
  },
  {
   "cell_type": "code",
   "execution_count": 62,
   "id": "c159c778",
   "metadata": {
    "execution": {
     "iopub.execute_input": "2025-01-13T16:29:33.056205Z",
     "iopub.status.busy": "2025-01-13T16:29:33.055844Z",
     "iopub.status.idle": "2025-01-13T16:29:33.072171Z",
     "shell.execute_reply": "2025-01-13T16:29:33.070701Z"
    },
    "papermill": {
     "duration": 0.055875,
     "end_time": "2025-01-13T16:29:33.074175",
     "exception": false,
     "start_time": "2025-01-13T16:29:33.018300",
     "status": "completed"
    },
    "tags": []
   },
   "outputs": [
    {
     "name": "stdout",
     "output_type": "stream",
     "text": [
      "The R2 score on the training dataset prediction is:  0.9999987059222593\n",
      "The R2 score on the test dataset prediction is:  0.9988284299654144\n",
      "\n",
      "The RMSE on the training dataset is:  0.01887704499579252\n",
      "The RMSE on the testing dataset is:  0.5606505292449767\n",
      "\n",
      "The MAE on the training dataset is:  0.008750064636480271\n",
      "The MAE on the testing dataset is:  0.10149664442991332\n",
      "\n",
      "The MSE  on the training dataset is:  0.0003563428277731754\n",
      "The MSE  on the testing dataset is:  0.3143290159426725\n"
     ]
    }
   ],
   "source": [
    "# Model Accuracy on training dataset\n",
    "print('The R2 score on the training dataset prediction is: ', r2_score(y_train, y_pred_train_xgb))\n",
    "print('The R2 score on the test dataset prediction is: ', r2_score(y_test, y_pred_test_xgb))\n",
    "print(\"\")\n",
    "\n",
    "# The Root Mean Squared Error (RMSE)\n",
    "print('The RMSE on the training dataset is: ', sqrt(mean_squared_error(y_train, y_pred_train_xgb)))\n",
    "print('The RMSE on the testing dataset is: ', sqrt(mean_squared_error(y_test, y_pred_test_xgb)))\n",
    "print(\"\")\n",
    "\n",
    "# The Mean Absolute Error (MAE)\n",
    "print('The MAE on the training dataset is: ', mean_absolute_error(y_train, y_pred_train_xgb))\n",
    "print('The MAE on the testing dataset is: ', mean_absolute_error(y_test, y_pred_test_xgb))\n",
    "\n",
    "print(\"\")\n",
    "# The Mean Squared Error (MSE)\n",
    "print('The MSE  on the training dataset is: ',mean_squared_error(y_train, y_pred_train_xgb))\n",
    "print('The MSE  on the testing dataset is: ',mean_squared_error(y_test, y_pred_test_xgb))"
   ]
  },
  {
   "cell_type": "markdown",
   "id": "194be5f2",
   "metadata": {
    "papermill": {
     "duration": 0.04024,
     "end_time": "2025-01-13T16:29:33.151778",
     "exception": false,
     "start_time": "2025-01-13T16:29:33.111538",
     "status": "completed"
    },
    "tags": []
   },
   "source": [
    "## **3.2.7.  Neural Network Regressor**"
   ]
  },
  {
   "cell_type": "code",
   "execution_count": 63,
   "id": "8e73955b",
   "metadata": {
    "execution": {
     "iopub.execute_input": "2025-01-13T16:29:33.231732Z",
     "iopub.status.busy": "2025-01-13T16:29:33.231302Z",
     "iopub.status.idle": "2025-01-13T16:29:36.192194Z",
     "shell.execute_reply": "2025-01-13T16:29:36.190770Z"
    },
    "papermill": {
     "duration": 3.005752,
     "end_time": "2025-01-13T16:29:36.195860",
     "exception": false,
     "start_time": "2025-01-13T16:29:33.190108",
     "status": "completed"
    },
    "tags": []
   },
   "outputs": [],
   "source": [
    "# training with neural network regressor\n",
    "\n",
    "nn = MLPRegressor(hidden_layer_sizes=(8,), activation='relu', solver='adam', max_iter=2000, learning_rate_init=0.001)\n",
    "\n",
    "pipeline = Pipeline(steps=[('preprocessor', preprocessor), ('regressor', nn)])\n",
    "\n",
    "# Fit the pipeline to the training data\n",
    "pipeline.fit(X_train,y_train)\n",
    "\n",
    "# Predict on the training and test datasets\n",
    "y_pred_train_nn = pipeline.predict(X_train)\n",
    "y_pred_test_nn = pipeline.predict(X_test)"
   ]
  },
  {
   "cell_type": "code",
   "execution_count": 64,
   "id": "c2cd43eb",
   "metadata": {
    "execution": {
     "iopub.execute_input": "2025-01-13T16:29:36.348802Z",
     "iopub.status.busy": "2025-01-13T16:29:36.348373Z",
     "iopub.status.idle": "2025-01-13T16:29:36.369259Z",
     "shell.execute_reply": "2025-01-13T16:29:36.367889Z"
    },
    "papermill": {
     "duration": 0.060657,
     "end_time": "2025-01-13T16:29:36.371255",
     "exception": false,
     "start_time": "2025-01-13T16:29:36.310598",
     "status": "completed"
    },
    "tags": []
   },
   "outputs": [
    {
     "name": "stdout",
     "output_type": "stream",
     "text": [
      "The R2 score on the training dataset prediction is:  0.9945672907313766\n",
      "The R2 score on the test dataset prediction is:  0.9933302471852766\n",
      "\n",
      "The RMSE on the training dataset is:  1.2231002633862662\n",
      "The RMSE on the testing dataset is:  1.3377130948110962\n",
      "\n",
      "The MAE on the training dataset is:  0.7792968545684331\n",
      "The MAE on the testing dataset is:  0.789595749888263\n",
      "\n",
      "The MSE  on the training dataset is:  1.4959742542955539\n",
      "The MSE  on the testing dataset is:  1.7894763240290807\n"
     ]
    }
   ],
   "source": [
    "# Model Accuracy on training dataset\n",
    "print('The R2 score on the training dataset prediction is: ', r2_score(y_train, y_pred_train_nn))\n",
    "print('The R2 score on the test dataset prediction is: ', r2_score(y_test, y_pred_test_nn))\n",
    "print(\"\")\n",
    "\n",
    "# The Root Mean Squared Error (RMSE)\n",
    "print('The RMSE on the training dataset is: ', sqrt(mean_squared_error(y_train, y_pred_train_nn)))\n",
    "print('The RMSE on the testing dataset is: ', sqrt(mean_squared_error(y_test, y_pred_test_nn)))\n",
    "print(\"\")\n",
    "\n",
    "# The Mean Absolute Error (MAE)\n",
    "print('The MAE on the training dataset is: ', mean_absolute_error(y_train, y_pred_train_nn))\n",
    "print('The MAE on the testing dataset is: ', mean_absolute_error(y_test, y_pred_test_nn))\n",
    "\n",
    "print(\"\")\n",
    "# The Mean Squared Error (MSE)\n",
    "print('The MSE  on the training dataset is: ',mean_squared_error(y_train, y_pred_train_nn))\n",
    "print('The MSE  on the testing dataset is: ',mean_squared_error(y_test, y_pred_test_nn))"
   ]
  },
  {
   "cell_type": "code",
   "execution_count": null,
   "id": "b8fd9428",
   "metadata": {
    "papermill": {
     "duration": 0.037163,
     "end_time": "2025-01-13T16:29:36.446661",
     "exception": false,
     "start_time": "2025-01-13T16:29:36.409498",
     "status": "completed"
    },
    "tags": []
   },
   "outputs": [],
   "source": []
  },
  {
   "cell_type": "code",
   "execution_count": null,
   "id": "e0002ba6",
   "metadata": {
    "papermill": {
     "duration": 0.036635,
     "end_time": "2025-01-13T16:29:36.521223",
     "exception": false,
     "start_time": "2025-01-13T16:29:36.484588",
     "status": "completed"
    },
    "tags": []
   },
   "outputs": [],
   "source": []
  },
  {
   "cell_type": "code",
   "execution_count": null,
   "id": "b080b75c",
   "metadata": {
    "papermill": {
     "duration": 0.039708,
     "end_time": "2025-01-13T16:29:36.598794",
     "exception": false,
     "start_time": "2025-01-13T16:29:36.559086",
     "status": "completed"
    },
    "tags": []
   },
   "outputs": [],
   "source": []
  },
  {
   "cell_type": "markdown",
   "id": "f338dd32",
   "metadata": {
    "papermill": {
     "duration": 0.037227,
     "end_time": "2025-01-13T16:29:36.672850",
     "exception": false,
     "start_time": "2025-01-13T16:29:36.635623",
     "status": "completed"
    },
    "tags": []
   },
   "source": [
    "# **4.1. Splitting & Preprocessing the Raw Data(zscore)**"
   ]
  },
  {
   "cell_type": "markdown",
   "id": "96d46ba1",
   "metadata": {
    "papermill": {
     "duration": 0.038124,
     "end_time": "2025-01-13T16:29:36.749149",
     "exception": false,
     "start_time": "2025-01-13T16:29:36.711025",
     "status": "completed"
    },
    "tags": []
   },
   "source": [
    "AQI smoothed zscore"
   ]
  },
  {
   "cell_type": "code",
   "execution_count": 65,
   "id": "5fdbae46",
   "metadata": {
    "execution": {
     "iopub.execute_input": "2025-01-13T16:29:36.825688Z",
     "iopub.status.busy": "2025-01-13T16:29:36.825295Z",
     "iopub.status.idle": "2025-01-13T16:29:36.846525Z",
     "shell.execute_reply": "2025-01-13T16:29:36.845422Z"
    },
    "papermill": {
     "duration": 0.061377,
     "end_time": "2025-01-13T16:29:36.848270",
     "exception": false,
     "start_time": "2025-01-13T16:29:36.786893",
     "status": "completed"
    },
    "tags": []
   },
   "outputs": [
    {
     "data": {
      "text/html": [
       "<div>\n",
       "<style scoped>\n",
       "    .dataframe tbody tr th:only-of-type {\n",
       "        vertical-align: middle;\n",
       "    }\n",
       "\n",
       "    .dataframe tbody tr th {\n",
       "        vertical-align: top;\n",
       "    }\n",
       "\n",
       "    .dataframe thead th {\n",
       "        text-align: right;\n",
       "    }\n",
       "</style>\n",
       "<table border=\"1\" class=\"dataframe\">\n",
       "  <thead>\n",
       "    <tr style=\"text-align: right;\">\n",
       "      <th></th>\n",
       "      <th>co</th>\n",
       "      <th>no2</th>\n",
       "      <th>o3</th>\n",
       "      <th>pm10</th>\n",
       "      <th>pm25</th>\n",
       "      <th>so2</th>\n",
       "      <th>humidity</th>\n",
       "      <th>pressure</th>\n",
       "      <th>temperature</th>\n",
       "      <th>wind-speed</th>\n",
       "      <th>Country_City</th>\n",
       "      <th>Checks</th>\n",
       "      <th>AQI</th>\n",
       "      <th>AQI_smoothed_iqr</th>\n",
       "      <th>AQI_smoothed_zscore</th>\n",
       "      <th>AQI_smoothed_rolling</th>\n",
       "    </tr>\n",
       "  </thead>\n",
       "  <tbody>\n",
       "    <tr>\n",
       "      <th>2014-12-29</th>\n",
       "      <td>3.138695</td>\n",
       "      <td>4.7</td>\n",
       "      <td>15.2</td>\n",
       "      <td>9.0</td>\n",
       "      <td>12.0</td>\n",
       "      <td>2.9</td>\n",
       "      <td>76.126377</td>\n",
       "      <td>1017.086884</td>\n",
       "      <td>18.027986</td>\n",
       "      <td>3.545607</td>\n",
       "      <td>Australia_Newcastle</td>\n",
       "      <td>6</td>\n",
       "      <td>15.0</td>\n",
       "      <td>15.0</td>\n",
       "      <td>15.0</td>\n",
       "      <td>15.0</td>\n",
       "    </tr>\n",
       "    <tr>\n",
       "      <th>2014-12-30</th>\n",
       "      <td>3.400000</td>\n",
       "      <td>4.7</td>\n",
       "      <td>19.2</td>\n",
       "      <td>21.0</td>\n",
       "      <td>23.0</td>\n",
       "      <td>1.5</td>\n",
       "      <td>76.126377</td>\n",
       "      <td>1017.086884</td>\n",
       "      <td>18.027986</td>\n",
       "      <td>3.545607</td>\n",
       "      <td>Australia_Newcastle</td>\n",
       "      <td>6</td>\n",
       "      <td>23.0</td>\n",
       "      <td>23.0</td>\n",
       "      <td>23.0</td>\n",
       "      <td>23.0</td>\n",
       "    </tr>\n",
       "    <tr>\n",
       "      <th>2014-12-31</th>\n",
       "      <td>2.300000</td>\n",
       "      <td>2.8</td>\n",
       "      <td>17.6</td>\n",
       "      <td>38.0</td>\n",
       "      <td>39.0</td>\n",
       "      <td>1.5</td>\n",
       "      <td>76.126377</td>\n",
       "      <td>1017.086884</td>\n",
       "      <td>18.027986</td>\n",
       "      <td>3.545607</td>\n",
       "      <td>Australia_Newcastle</td>\n",
       "      <td>6</td>\n",
       "      <td>39.0</td>\n",
       "      <td>39.0</td>\n",
       "      <td>39.0</td>\n",
       "      <td>39.0</td>\n",
       "    </tr>\n",
       "    <tr>\n",
       "      <th>2015-01-01</th>\n",
       "      <td>2.300000</td>\n",
       "      <td>1.9</td>\n",
       "      <td>16.8</td>\n",
       "      <td>24.0</td>\n",
       "      <td>38.0</td>\n",
       "      <td>1.5</td>\n",
       "      <td>76.126377</td>\n",
       "      <td>1017.086884</td>\n",
       "      <td>18.027986</td>\n",
       "      <td>3.545607</td>\n",
       "      <td>Australia_Newcastle</td>\n",
       "      <td>6</td>\n",
       "      <td>38.0</td>\n",
       "      <td>38.0</td>\n",
       "      <td>38.0</td>\n",
       "      <td>38.0</td>\n",
       "    </tr>\n",
       "    <tr>\n",
       "      <th>2015-01-02</th>\n",
       "      <td>3.138695</td>\n",
       "      <td>3.8</td>\n",
       "      <td>10.4</td>\n",
       "      <td>24.0</td>\n",
       "      <td>42.0</td>\n",
       "      <td>2.9</td>\n",
       "      <td>76.126377</td>\n",
       "      <td>1017.086884</td>\n",
       "      <td>18.027986</td>\n",
       "      <td>3.545607</td>\n",
       "      <td>Australia_Newcastle</td>\n",
       "      <td>6</td>\n",
       "      <td>42.0</td>\n",
       "      <td>42.0</td>\n",
       "      <td>42.0</td>\n",
       "      <td>42.0</td>\n",
       "    </tr>\n",
       "  </tbody>\n",
       "</table>\n",
       "</div>"
      ],
      "text/plain": [
       "                  co  no2    o3  pm10  pm25  so2   humidity     pressure  \\\n",
       "2014-12-29  3.138695  4.7  15.2   9.0  12.0  2.9  76.126377  1017.086884   \n",
       "2014-12-30  3.400000  4.7  19.2  21.0  23.0  1.5  76.126377  1017.086884   \n",
       "2014-12-31  2.300000  2.8  17.6  38.0  39.0  1.5  76.126377  1017.086884   \n",
       "2015-01-01  2.300000  1.9  16.8  24.0  38.0  1.5  76.126377  1017.086884   \n",
       "2015-01-02  3.138695  3.8  10.4  24.0  42.0  2.9  76.126377  1017.086884   \n",
       "\n",
       "            temperature  wind-speed         Country_City  Checks   AQI  \\\n",
       "2014-12-29    18.027986    3.545607  Australia_Newcastle       6  15.0   \n",
       "2014-12-30    18.027986    3.545607  Australia_Newcastle       6  23.0   \n",
       "2014-12-31    18.027986    3.545607  Australia_Newcastle       6  39.0   \n",
       "2015-01-01    18.027986    3.545607  Australia_Newcastle       6  38.0   \n",
       "2015-01-02    18.027986    3.545607  Australia_Newcastle       6  42.0   \n",
       "\n",
       "            AQI_smoothed_iqr  AQI_smoothed_zscore  AQI_smoothed_rolling  \n",
       "2014-12-29              15.0                 15.0                  15.0  \n",
       "2014-12-30              23.0                 23.0                  23.0  \n",
       "2014-12-31              39.0                 39.0                  39.0  \n",
       "2015-01-01              38.0                 38.0                  38.0  \n",
       "2015-01-02              42.0                 42.0                  42.0  "
      ]
     },
     "execution_count": 65,
     "metadata": {},
     "output_type": "execute_result"
    }
   ],
   "source": [
    "new_data4.head()"
   ]
  },
  {
   "cell_type": "code",
   "execution_count": 66,
   "id": "b40ff984",
   "metadata": {
    "execution": {
     "iopub.execute_input": "2025-01-13T16:29:36.927193Z",
     "iopub.status.busy": "2025-01-13T16:29:36.926842Z",
     "iopub.status.idle": "2025-01-13T16:29:36.932949Z",
     "shell.execute_reply": "2025-01-13T16:29:36.931953Z"
    },
    "papermill": {
     "duration": 0.048007,
     "end_time": "2025-01-13T16:29:36.934603",
     "exception": false,
     "start_time": "2025-01-13T16:29:36.886596",
     "status": "completed"
    },
    "tags": []
   },
   "outputs": [
    {
     "data": {
      "text/plain": [
       "Index(['co', 'no2', 'o3', 'pm10', 'pm25', 'so2', 'humidity', 'pressure',\n",
       "       'temperature', 'wind-speed', 'Country_City', 'Checks', 'AQI',\n",
       "       'AQI_smoothed_iqr', 'AQI_smoothed_zscore', 'AQI_smoothed_rolling'],\n",
       "      dtype='object')"
      ]
     },
     "execution_count": 66,
     "metadata": {},
     "output_type": "execute_result"
    }
   ],
   "source": [
    "new_data4.columns"
   ]
  },
  {
   "cell_type": "markdown",
   "id": "dfc2b09f",
   "metadata": {
    "papermill": {
     "duration": 0.037633,
     "end_time": "2025-01-13T16:29:37.009496",
     "exception": false,
     "start_time": "2025-01-13T16:29:36.971863",
     "status": "completed"
    },
    "tags": []
   },
   "source": [
    "***Working with AQI_smoothed_iqr***"
   ]
  },
  {
   "cell_type": "code",
   "execution_count": 67,
   "id": "9a675af3",
   "metadata": {
    "execution": {
     "iopub.execute_input": "2025-01-13T16:29:37.144460Z",
     "iopub.status.busy": "2025-01-13T16:29:37.144107Z",
     "iopub.status.idle": "2025-01-13T16:29:37.149546Z",
     "shell.execute_reply": "2025-01-13T16:29:37.148505Z"
    },
    "papermill": {
     "duration": 0.104861,
     "end_time": "2025-01-13T16:29:37.151346",
     "exception": false,
     "start_time": "2025-01-13T16:29:37.046485",
     "status": "completed"
    },
    "tags": []
   },
   "outputs": [],
   "source": [
    "data = new_data4.drop(['Country_City', 'Checks', 'AQI',\n",
    "       'AQI_smoothed_iqr', 'AQI_smoothed_rolling'],axis=1)"
   ]
  },
  {
   "cell_type": "code",
   "execution_count": 68,
   "id": "8607ca4d",
   "metadata": {
    "execution": {
     "iopub.execute_input": "2025-01-13T16:29:37.230377Z",
     "iopub.status.busy": "2025-01-13T16:29:37.230039Z",
     "iopub.status.idle": "2025-01-13T16:29:37.248009Z",
     "shell.execute_reply": "2025-01-13T16:29:37.246747Z"
    },
    "papermill": {
     "duration": 0.059893,
     "end_time": "2025-01-13T16:29:37.249872",
     "exception": false,
     "start_time": "2025-01-13T16:29:37.189979",
     "status": "completed"
    },
    "tags": []
   },
   "outputs": [
    {
     "data": {
      "text/html": [
       "<div>\n",
       "<style scoped>\n",
       "    .dataframe tbody tr th:only-of-type {\n",
       "        vertical-align: middle;\n",
       "    }\n",
       "\n",
       "    .dataframe tbody tr th {\n",
       "        vertical-align: top;\n",
       "    }\n",
       "\n",
       "    .dataframe thead th {\n",
       "        text-align: right;\n",
       "    }\n",
       "</style>\n",
       "<table border=\"1\" class=\"dataframe\">\n",
       "  <thead>\n",
       "    <tr style=\"text-align: right;\">\n",
       "      <th></th>\n",
       "      <th>co</th>\n",
       "      <th>no2</th>\n",
       "      <th>o3</th>\n",
       "      <th>pm10</th>\n",
       "      <th>pm25</th>\n",
       "      <th>so2</th>\n",
       "      <th>humidity</th>\n",
       "      <th>pressure</th>\n",
       "      <th>temperature</th>\n",
       "      <th>wind-speed</th>\n",
       "      <th>AQI_smoothed_zscore</th>\n",
       "    </tr>\n",
       "  </thead>\n",
       "  <tbody>\n",
       "    <tr>\n",
       "      <th>2014-12-29</th>\n",
       "      <td>3.138695</td>\n",
       "      <td>4.7</td>\n",
       "      <td>15.2</td>\n",
       "      <td>9.0</td>\n",
       "      <td>12.0</td>\n",
       "      <td>2.9</td>\n",
       "      <td>76.126377</td>\n",
       "      <td>1017.086884</td>\n",
       "      <td>18.027986</td>\n",
       "      <td>3.545607</td>\n",
       "      <td>15.0</td>\n",
       "    </tr>\n",
       "    <tr>\n",
       "      <th>2014-12-30</th>\n",
       "      <td>3.400000</td>\n",
       "      <td>4.7</td>\n",
       "      <td>19.2</td>\n",
       "      <td>21.0</td>\n",
       "      <td>23.0</td>\n",
       "      <td>1.5</td>\n",
       "      <td>76.126377</td>\n",
       "      <td>1017.086884</td>\n",
       "      <td>18.027986</td>\n",
       "      <td>3.545607</td>\n",
       "      <td>23.0</td>\n",
       "    </tr>\n",
       "    <tr>\n",
       "      <th>2014-12-31</th>\n",
       "      <td>2.300000</td>\n",
       "      <td>2.8</td>\n",
       "      <td>17.6</td>\n",
       "      <td>38.0</td>\n",
       "      <td>39.0</td>\n",
       "      <td>1.5</td>\n",
       "      <td>76.126377</td>\n",
       "      <td>1017.086884</td>\n",
       "      <td>18.027986</td>\n",
       "      <td>3.545607</td>\n",
       "      <td>39.0</td>\n",
       "    </tr>\n",
       "    <tr>\n",
       "      <th>2015-01-01</th>\n",
       "      <td>2.300000</td>\n",
       "      <td>1.9</td>\n",
       "      <td>16.8</td>\n",
       "      <td>24.0</td>\n",
       "      <td>38.0</td>\n",
       "      <td>1.5</td>\n",
       "      <td>76.126377</td>\n",
       "      <td>1017.086884</td>\n",
       "      <td>18.027986</td>\n",
       "      <td>3.545607</td>\n",
       "      <td>38.0</td>\n",
       "    </tr>\n",
       "    <tr>\n",
       "      <th>2015-01-02</th>\n",
       "      <td>3.138695</td>\n",
       "      <td>3.8</td>\n",
       "      <td>10.4</td>\n",
       "      <td>24.0</td>\n",
       "      <td>42.0</td>\n",
       "      <td>2.9</td>\n",
       "      <td>76.126377</td>\n",
       "      <td>1017.086884</td>\n",
       "      <td>18.027986</td>\n",
       "      <td>3.545607</td>\n",
       "      <td>42.0</td>\n",
       "    </tr>\n",
       "  </tbody>\n",
       "</table>\n",
       "</div>"
      ],
      "text/plain": [
       "                  co  no2    o3  pm10  pm25  so2   humidity     pressure  \\\n",
       "2014-12-29  3.138695  4.7  15.2   9.0  12.0  2.9  76.126377  1017.086884   \n",
       "2014-12-30  3.400000  4.7  19.2  21.0  23.0  1.5  76.126377  1017.086884   \n",
       "2014-12-31  2.300000  2.8  17.6  38.0  39.0  1.5  76.126377  1017.086884   \n",
       "2015-01-01  2.300000  1.9  16.8  24.0  38.0  1.5  76.126377  1017.086884   \n",
       "2015-01-02  3.138695  3.8  10.4  24.0  42.0  2.9  76.126377  1017.086884   \n",
       "\n",
       "            temperature  wind-speed  AQI_smoothed_zscore  \n",
       "2014-12-29    18.027986    3.545607                 15.0  \n",
       "2014-12-30    18.027986    3.545607                 23.0  \n",
       "2014-12-31    18.027986    3.545607                 39.0  \n",
       "2015-01-01    18.027986    3.545607                 38.0  \n",
       "2015-01-02    18.027986    3.545607                 42.0  "
      ]
     },
     "execution_count": 68,
     "metadata": {},
     "output_type": "execute_result"
    }
   ],
   "source": [
    "data.head()"
   ]
  },
  {
   "cell_type": "code",
   "execution_count": 69,
   "id": "05e992d4",
   "metadata": {
    "execution": {
     "iopub.execute_input": "2025-01-13T16:29:37.326725Z",
     "iopub.status.busy": "2025-01-13T16:29:37.326278Z",
     "iopub.status.idle": "2025-01-13T16:29:37.334679Z",
     "shell.execute_reply": "2025-01-13T16:29:37.333391Z"
    },
    "papermill": {
     "duration": 0.049349,
     "end_time": "2025-01-13T16:29:37.336457",
     "exception": false,
     "start_time": "2025-01-13T16:29:37.287108",
     "status": "completed"
    },
    "tags": []
   },
   "outputs": [
    {
     "name": "stdout",
     "output_type": "stream",
     "text": [
      "Index(['co', 'no2', 'o3', 'pm10', 'pm25', 'so2', 'humidity', 'pressure',\n",
      "       'temperature', 'wind-speed', 'AQI_smoothed_zscore'],\n",
      "      dtype='object')\n",
      "Index([], dtype='object')\n"
     ]
    }
   ],
   "source": [
    "num = data.select_dtypes(include=['int16', 'int32', 'int64', 'float16', 'float32', 'float64'])\n",
    "cat = data.select_dtypes(include=['object'])\n",
    "\n",
    "print(num.columns)\n",
    "print(cat.columns)"
   ]
  },
  {
   "cell_type": "code",
   "execution_count": 70,
   "id": "9d68854c",
   "metadata": {
    "execution": {
     "iopub.execute_input": "2025-01-13T16:29:37.413686Z",
     "iopub.status.busy": "2025-01-13T16:29:37.413253Z",
     "iopub.status.idle": "2025-01-13T16:29:37.423874Z",
     "shell.execute_reply": "2025-01-13T16:29:37.422775Z"
    },
    "papermill": {
     "duration": 0.050768,
     "end_time": "2025-01-13T16:29:37.425456",
     "exception": false,
     "start_time": "2025-01-13T16:29:37.374688",
     "status": "completed"
    },
    "tags": []
   },
   "outputs": [
    {
     "name": "stdout",
     "output_type": "stream",
     "text": [
      "(2932, 10) (2932,) (733, 10) (733,)\n"
     ]
    }
   ],
   "source": [
    "X = data[['co', 'no2', 'o3', 'pm10', 'pm25', 'so2', 'humidity', 'pressure',\n",
    "       'temperature', 'wind-speed']]\n",
    "\n",
    "y = data['AQI_smoothed_zscore']\n",
    "\n",
    "X_train, X_test, y_train, y_test = train_test_split(X, y, test_size = 0.2, random_state = 42)\n",
    "\n",
    "print(X_train.shape, y_train.shape, X_test.shape, y_test.shape)"
   ]
  },
  {
   "cell_type": "code",
   "execution_count": 71,
   "id": "1adc2e35",
   "metadata": {
    "execution": {
     "iopub.execute_input": "2025-01-13T16:29:37.502954Z",
     "iopub.status.busy": "2025-01-13T16:29:37.502549Z",
     "iopub.status.idle": "2025-01-13T16:29:37.507737Z",
     "shell.execute_reply": "2025-01-13T16:29:37.506580Z"
    },
    "papermill": {
     "duration": 0.046223,
     "end_time": "2025-01-13T16:29:37.509505",
     "exception": false,
     "start_time": "2025-01-13T16:29:37.463282",
     "status": "completed"
    },
    "tags": []
   },
   "outputs": [],
   "source": [
    "# Preprocessor without scaling\n",
    "preprocessor = ColumnTransformer(\n",
    "    transformers=[\n",
    "        ('num', 'passthrough', ['co', 'no2', 'o3', 'pm10', 'pm25', 'so2', 'humidity', \n",
    "                                'pressure', 'temperature', 'wind-speed'])\n",
    "    ])\n",
    "# Pipeline\n",
    "pipeline = Pipeline(steps=[\n",
    "    ('preprocessor', preprocessor)\n",
    "])"
   ]
  },
  {
   "cell_type": "markdown",
   "id": "7e064206",
   "metadata": {
    "papermill": {
     "duration": 0.03902,
     "end_time": "2025-01-13T16:29:37.587008",
     "exception": false,
     "start_time": "2025-01-13T16:29:37.547988",
     "status": "completed"
    },
    "tags": []
   },
   "source": [
    "# **4.2. Model Training & Testing**"
   ]
  },
  {
   "cell_type": "markdown",
   "id": "b97b2821",
   "metadata": {
    "papermill": {
     "duration": 0.039155,
     "end_time": "2025-01-13T16:29:37.666348",
     "exception": false,
     "start_time": "2025-01-13T16:29:37.627193",
     "status": "completed"
    },
    "tags": []
   },
   "source": [
    "## **4.2.1. LinearRegression**"
   ]
  },
  {
   "cell_type": "code",
   "execution_count": 72,
   "id": "cc842f90",
   "metadata": {
    "execution": {
     "iopub.execute_input": "2025-01-13T16:29:37.750175Z",
     "iopub.status.busy": "2025-01-13T16:29:37.749814Z",
     "iopub.status.idle": "2025-01-13T16:29:37.774814Z",
     "shell.execute_reply": "2025-01-13T16:29:37.771201Z"
    },
    "papermill": {
     "duration": 0.071054,
     "end_time": "2025-01-13T16:29:37.780798",
     "exception": false,
     "start_time": "2025-01-13T16:29:37.709744",
     "status": "completed"
    },
    "tags": []
   },
   "outputs": [],
   "source": [
    "# training with LinearRegression\n",
    "\n",
    "lm = LinearRegression(fit_intercept = True)\n",
    "\n",
    "pipeline = Pipeline(steps=[('preprocessor', preprocessor), ('regressor', lm)])\n",
    "\n",
    "# Fit the pipeline to the training data\n",
    "pipeline.fit(X_train,y_train)\n",
    "\n",
    "# Predict on the training and test datasets\n",
    "y_pred_train_lm = pipeline.predict(X_train)\n",
    "y_pred_test_lm = pipeline.predict(X_test)"
   ]
  },
  {
   "cell_type": "code",
   "execution_count": 73,
   "id": "1c390f3b",
   "metadata": {
    "execution": {
     "iopub.execute_input": "2025-01-13T16:29:37.943366Z",
     "iopub.status.busy": "2025-01-13T16:29:37.942977Z",
     "iopub.status.idle": "2025-01-13T16:29:37.962036Z",
     "shell.execute_reply": "2025-01-13T16:29:37.960750Z"
    },
    "papermill": {
     "duration": 0.060183,
     "end_time": "2025-01-13T16:29:37.964029",
     "exception": false,
     "start_time": "2025-01-13T16:29:37.903846",
     "status": "completed"
    },
    "tags": []
   },
   "outputs": [
    {
     "name": "stdout",
     "output_type": "stream",
     "text": [
      "The r2 Accuracy on the training dataset prediction is:  0.8544452331608134\n",
      "The r2 Accuracy on the test dataset prediction is:  0.8843283186935816\n",
      "\n",
      "The RMSE  on the training dataset is:  5.8884456348967795\n",
      "The RMSE  on the testing dataset is:  5.340356688032515\n",
      "\n",
      "The MAE  on the training dataset is:  2.8171000882377006\n",
      "The MAE  on the testing dataset is:  2.7340493224021127\n",
      "\n",
      "The MSE  on the training dataset is:  34.67379199513494\n",
      "The MSE  on the testing dataset is:  28.519409555413617\n"
     ]
    }
   ],
   "source": [
    "# Model Accuracy on training and testing dataset\n",
    "\n",
    "print('The r2 Accuracy on the training dataset prediction is: ',r2_score(y_train,y_pred_train_lm) )\n",
    "print('The r2 Accuracy on the test dataset prediction is: ',r2_score(y_test,y_pred_test_lm) )\n",
    "\n",
    "print(\"\")\n",
    "\n",
    "# The Root Mean Squared Error (RMSE)\n",
    "print('The RMSE  on the training dataset is: ',sqrt(mean_squared_error(y_train, y_pred_train_lm)))\n",
    "print('The RMSE  on the testing dataset is: ',sqrt(mean_squared_error(y_test, y_pred_test_lm)))\n",
    "\n",
    "print(\"\")\n",
    "# The Mean Absolute Error (MAE)\n",
    "print('The MAE  on the training dataset is: ',mean_absolute_error(y_train, y_pred_train_lm))\n",
    "print('The MAE  on the testing dataset is: ',mean_absolute_error(y_test, y_pred_test_lm))\n",
    "\n",
    "print(\"\")\n",
    "# The Mean Squared Error (MSE)\n",
    "print('The MSE  on the training dataset is: ',mean_squared_error(y_train, y_pred_train_lm))\n",
    "print('The MSE  on the testing dataset is: ',mean_squared_error(y_test, y_pred_test_lm))"
   ]
  },
  {
   "cell_type": "markdown",
   "id": "904b41cc",
   "metadata": {
    "papermill": {
     "duration": 0.037386,
     "end_time": "2025-01-13T16:29:38.039492",
     "exception": false,
     "start_time": "2025-01-13T16:29:38.002106",
     "status": "completed"
    },
    "tags": []
   },
   "source": [
    "## **4.2.2.  KNeighborsRegressor**"
   ]
  },
  {
   "cell_type": "code",
   "execution_count": 74,
   "id": "369d6627",
   "metadata": {
    "execution": {
     "iopub.execute_input": "2025-01-13T16:29:38.118597Z",
     "iopub.status.busy": "2025-01-13T16:29:38.118185Z",
     "iopub.status.idle": "2025-01-13T16:29:38.169781Z",
     "shell.execute_reply": "2025-01-13T16:29:38.168442Z"
    },
    "papermill": {
     "duration": 0.094166,
     "end_time": "2025-01-13T16:29:38.171898",
     "exception": false,
     "start_time": "2025-01-13T16:29:38.077732",
     "status": "completed"
    },
    "tags": []
   },
   "outputs": [],
   "source": [
    "# training with KNeighborsRegressor\n",
    "\n",
    "neigh = KNeighborsRegressor(n_neighbors=2)\n",
    "\n",
    "pipeline = Pipeline(steps=[('preprocessor', preprocessor), ('regressor', neigh)])\n",
    "\n",
    "# Fit the pipeline to the training data\n",
    "pipeline.fit(X_train,y_train)\n",
    "\n",
    "# Predict on the training and test datasets\n",
    "y_pred_train_knn = pipeline.predict(X_train)\n",
    "y_pred_test_knn = pipeline.predict(X_test)"
   ]
  },
  {
   "cell_type": "code",
   "execution_count": 75,
   "id": "fe02aa35",
   "metadata": {
    "execution": {
     "iopub.execute_input": "2025-01-13T16:29:38.250348Z",
     "iopub.status.busy": "2025-01-13T16:29:38.249961Z",
     "iopub.status.idle": "2025-01-13T16:29:38.267678Z",
     "shell.execute_reply": "2025-01-13T16:29:38.266569Z"
    },
    "papermill": {
     "duration": 0.060005,
     "end_time": "2025-01-13T16:29:38.269409",
     "exception": false,
     "start_time": "2025-01-13T16:29:38.209404",
     "status": "completed"
    },
    "tags": []
   },
   "outputs": [
    {
     "name": "stdout",
     "output_type": "stream",
     "text": [
      "The R2 score on the training dataset prediction is:  0.9962277493628529\n",
      "The R2 score on the test dataset prediction is:  0.9911190877219279\n",
      "\n",
      "The RMSE  on the training dataset is:  0.9479550043719264\n",
      "The RMSE  on the testing dataset is:  1.4797403997831313\n",
      "\n",
      "The MAE  on the training dataset is:  0.5008526603001364\n",
      "The MAE  on the testing dataset is:  0.8512960436562074\n",
      "\n",
      "The MSE  on the training dataset is:  0.898618690313779\n",
      "The MSE  on the testing dataset is:  2.189631650750341\n"
     ]
    }
   ],
   "source": [
    "# Model Accuracy on training dataset\n",
    "print('The R2 score on the training dataset prediction is: ', r2_score(y_train,y_pred_train_knn))\n",
    "print('The R2 score on the test dataset prediction is: ', r2_score(y_test, y_pred_test_knn))\n",
    "print(\"\")\n",
    "\n",
    "# The Root Mean Squared Error (RMSE)\n",
    "print('The RMSE  on the training dataset is: ',sqrt(mean_squared_error(y_train,y_pred_train_knn)))\n",
    "print('The RMSE  on the testing dataset is: ',sqrt(mean_squared_error(y_test, y_pred_test_knn)))\n",
    "\n",
    "print(\"\")\n",
    "# The Mean Absolute Error (MAE)\n",
    "print('The MAE  on the training dataset is: ',mean_absolute_error(y_train,y_pred_train_knn))\n",
    "print('The MAE  on the testing dataset is: ',mean_absolute_error(y_test, y_pred_test_knn))\n",
    "\n",
    "print(\"\")\n",
    "# The Mean Squared Error (MSE)\n",
    "print('The MSE  on the training dataset is: ',mean_squared_error(y_train, y_pred_train_knn))\n",
    "print('The MSE  on the testing dataset is: ',mean_squared_error(y_test, y_pred_test_knn))"
   ]
  },
  {
   "cell_type": "markdown",
   "id": "3469aec2",
   "metadata": {
    "papermill": {
     "duration": 0.03688,
     "end_time": "2025-01-13T16:29:38.344284",
     "exception": false,
     "start_time": "2025-01-13T16:29:38.307404",
     "status": "completed"
    },
    "tags": []
   },
   "source": [
    "## **4.2.3.  Random Forest Regressor**"
   ]
  },
  {
   "cell_type": "code",
   "execution_count": 76,
   "id": "a86a67de",
   "metadata": {
    "execution": {
     "iopub.execute_input": "2025-01-13T16:29:38.420811Z",
     "iopub.status.busy": "2025-01-13T16:29:38.420398Z",
     "iopub.status.idle": "2025-01-13T16:29:39.123106Z",
     "shell.execute_reply": "2025-01-13T16:29:39.122074Z"
    },
    "papermill": {
     "duration": 0.743432,
     "end_time": "2025-01-13T16:29:39.125079",
     "exception": false,
     "start_time": "2025-01-13T16:29:38.381647",
     "status": "completed"
    },
    "tags": []
   },
   "outputs": [],
   "source": [
    "# Training with random forest regressor\n",
    "random = RandomForestRegressor()\n",
    "\n",
    "pipeline = Pipeline(steps=[('preprocessor', preprocessor), ('regressor', random)])\n",
    "\n",
    "# Fit the pipeline to the training data\n",
    "pipeline.fit(X_train,y_train)\n",
    "\n",
    "# Predict on the training and test datasets\n",
    "y_pred_train_random = pipeline.predict(X_train)\n",
    "y_pred_test_random = pipeline.predict(X_test)"
   ]
  },
  {
   "cell_type": "code",
   "execution_count": 77,
   "id": "81d488ad",
   "metadata": {
    "execution": {
     "iopub.execute_input": "2025-01-13T16:29:39.201597Z",
     "iopub.status.busy": "2025-01-13T16:29:39.201199Z",
     "iopub.status.idle": "2025-01-13T16:29:39.215728Z",
     "shell.execute_reply": "2025-01-13T16:29:39.214301Z"
    },
    "papermill": {
     "duration": 0.054935,
     "end_time": "2025-01-13T16:29:39.217621",
     "exception": false,
     "start_time": "2025-01-13T16:29:39.162686",
     "status": "completed"
    },
    "tags": []
   },
   "outputs": [
    {
     "name": "stdout",
     "output_type": "stream",
     "text": [
      "The R2 score on the training dataset prediction is:  0.9997664811132857\n",
      "The R2 score on the test dataset prediction is:  0.9980620853419084\n",
      "\n",
      "The RMSE  on the training dataset is:  0.2358568310386887\n",
      "The RMSE  on the testing dataset is:  0.6912323652798444\n",
      "\n",
      "The MAE  on the training dataset is:  0.028560709413369717\n",
      "The MAE  on the testing dataset is:  0.09852660300136426\n",
      "\n",
      "The MSE  on the training dataset is:  0.05562844474761255\n",
      "The MSE  on the testing dataset is:  0.47780218281036824\n"
     ]
    }
   ],
   "source": [
    "# Model Accuracy on training dataset\n",
    "print('The R2 score on the training dataset prediction is: ', r2_score(y_train,y_pred_train_random))\n",
    "print('The R2 score on the test dataset prediction is: ', r2_score(y_test, y_pred_test_random))\n",
    "print(\"\")\n",
    "\n",
    "# The Root Mean Squared Error (RMSE)\n",
    "print('The RMSE  on the training dataset is: ',sqrt(mean_squared_error(y_train,y_pred_train_random)))\n",
    "print('The RMSE  on the testing dataset is: ',sqrt(mean_squared_error(y_test, y_pred_test_random)))\n",
    "\n",
    "print(\"\")\n",
    "# The Mean Absolute Error (MAE)\n",
    "print('The MAE  on the training dataset is: ',mean_absolute_error(y_train,y_pred_train_random))\n",
    "print('The MAE  on the testing dataset is: ',mean_absolute_error(y_test, y_pred_test_random))\n",
    "\n",
    "print(\"\")\n",
    "# The Mean Squared Error (MSE)\n",
    "print('The MSE  on the training dataset is: ',mean_squared_error(y_train, y_pred_train_random))\n",
    "print('The MSE  on the testing dataset is: ',mean_squared_error(y_test, y_pred_test_random))"
   ]
  },
  {
   "cell_type": "markdown",
   "id": "dd55b1aa",
   "metadata": {
    "papermill": {
     "duration": 0.037077,
     "end_time": "2025-01-13T16:29:39.293960",
     "exception": false,
     "start_time": "2025-01-13T16:29:39.256883",
     "status": "completed"
    },
    "tags": []
   },
   "source": [
    "## **4.2.4.  Decision Tree regressor**"
   ]
  },
  {
   "cell_type": "code",
   "execution_count": 78,
   "id": "50d8db0c",
   "metadata": {
    "execution": {
     "iopub.execute_input": "2025-01-13T16:29:39.371068Z",
     "iopub.status.busy": "2025-01-13T16:29:39.370726Z",
     "iopub.status.idle": "2025-01-13T16:29:39.389877Z",
     "shell.execute_reply": "2025-01-13T16:29:39.388898Z"
    },
    "papermill": {
     "duration": 0.059497,
     "end_time": "2025-01-13T16:29:39.391662",
     "exception": false,
     "start_time": "2025-01-13T16:29:39.332165",
     "status": "completed"
    },
    "tags": []
   },
   "outputs": [],
   "source": [
    "# Training with Decision Tree regressor\n",
    "dt = DecisionTreeRegressor()\n",
    "\n",
    "pipeline = Pipeline(steps=[('preprocessor', preprocessor), ('regressor', dt)])\n",
    "\n",
    "# Fit the pipeline to the training data\n",
    "pipeline.fit(X_train,y_train)\n",
    "\n",
    "# Predict on the training and test datasets\n",
    "y_pred_train_dt = pipeline.predict(X_train)\n",
    "y_pred_test_dt = pipeline.predict(X_test)"
   ]
  },
  {
   "cell_type": "code",
   "execution_count": 79,
   "id": "10b84821",
   "metadata": {
    "execution": {
     "iopub.execute_input": "2025-01-13T16:29:39.472573Z",
     "iopub.status.busy": "2025-01-13T16:29:39.472189Z",
     "iopub.status.idle": "2025-01-13T16:29:39.487801Z",
     "shell.execute_reply": "2025-01-13T16:29:39.486523Z"
    },
    "papermill": {
     "duration": 0.058397,
     "end_time": "2025-01-13T16:29:39.489549",
     "exception": false,
     "start_time": "2025-01-13T16:29:39.431152",
     "status": "completed"
    },
    "tags": []
   },
   "outputs": [
    {
     "name": "stdout",
     "output_type": "stream",
     "text": [
      "The R2 score on the training dataset prediction is:  1.0\n",
      "The R2 score on the test dataset prediction is:  0.9984672818062144\n",
      "\n",
      "The RMSE  on the training dataset is:  0.0\n",
      "The RMSE  on the testing dataset is:  0.6147349388317406\n",
      "\n",
      "The MAE  on the training dataset is:  0.0\n",
      "The MAE  on the testing dataset is:  0.08049113233287858\n",
      "\n",
      "The MSE  on the training dataset is:  0.0\n",
      "The MSE  on the testing dataset is:  0.37789904502046384\n"
     ]
    }
   ],
   "source": [
    "# Model Accuracy on training dataset\n",
    "print('The R2 score on the training dataset prediction is: ', r2_score(y_train,y_pred_train_dt))\n",
    "print('The R2 score on the test dataset prediction is: ', r2_score(y_test, y_pred_test_dt))\n",
    "print(\"\")\n",
    "\n",
    "# The Root Mean Squared Error (RMSE)\n",
    "print('The RMSE  on the training dataset is: ',sqrt(mean_squared_error(y_train,y_pred_train_dt)))\n",
    "print('The RMSE  on the testing dataset is: ',sqrt(mean_squared_error(y_test, y_pred_test_dt)))\n",
    "\n",
    "print(\"\")\n",
    "# The Mean Absolute Error (MAE)\n",
    "print('The MAE  on the training dataset is: ',mean_absolute_error(y_train,y_pred_train_dt))\n",
    "print('The MAE  on the testing dataset is: ',mean_absolute_error(y_test, y_pred_test_dt))\n",
    "\n",
    "print(\"\")\n",
    "# The Mean Squared Error (MSE)\n",
    "print('The MSE  on the training dataset is: ',mean_squared_error(y_train, y_pred_train_dt))\n",
    "print('The MSE  on the testing dataset is: ',mean_squared_error(y_test, y_pred_test_dt))"
   ]
  },
  {
   "cell_type": "markdown",
   "id": "40ca438f",
   "metadata": {
    "papermill": {
     "duration": 0.039098,
     "end_time": "2025-01-13T16:29:39.567533",
     "exception": false,
     "start_time": "2025-01-13T16:29:39.528435",
     "status": "completed"
    },
    "tags": []
   },
   "source": [
    "## **4.2.5.  Support Vector Machine regressor**"
   ]
  },
  {
   "cell_type": "code",
   "execution_count": 80,
   "id": "431dbf07",
   "metadata": {
    "execution": {
     "iopub.execute_input": "2025-01-13T16:29:39.649064Z",
     "iopub.status.busy": "2025-01-13T16:29:39.648718Z",
     "iopub.status.idle": "2025-01-13T16:29:43.407891Z",
     "shell.execute_reply": "2025-01-13T16:29:43.406640Z"
    },
    "papermill": {
     "duration": 3.801684,
     "end_time": "2025-01-13T16:29:43.410095",
     "exception": false,
     "start_time": "2025-01-13T16:29:39.608411",
     "status": "completed"
    },
    "tags": []
   },
   "outputs": [],
   "source": [
    "# Training with Support Vector Machine regressor\n",
    "svr = SVR(kernel='linear')\n",
    "\n",
    "pipeline = Pipeline(steps=[('preprocessor', preprocessor), ('regressor', svr)])\n",
    "\n",
    "# Fit the pipeline to the training data\n",
    "pipeline.fit(X_train, y_train)\n",
    "\n",
    "# Predict on the training and test datasets\n",
    "y_pred_train_svr = pipeline.predict(X_train)\n",
    "y_pred_test_svr = pipeline.predict(X_test)"
   ]
  },
  {
   "cell_type": "code",
   "execution_count": 81,
   "id": "cdf8827f",
   "metadata": {
    "execution": {
     "iopub.execute_input": "2025-01-13T16:29:43.502248Z",
     "iopub.status.busy": "2025-01-13T16:29:43.501915Z",
     "iopub.status.idle": "2025-01-13T16:29:43.517189Z",
     "shell.execute_reply": "2025-01-13T16:29:43.515821Z"
    },
    "papermill": {
     "duration": 0.060152,
     "end_time": "2025-01-13T16:29:43.519074",
     "exception": false,
     "start_time": "2025-01-13T16:29:43.458922",
     "status": "completed"
    },
    "tags": []
   },
   "outputs": [
    {
     "name": "stdout",
     "output_type": "stream",
     "text": [
      "The R2 score on the training dataset prediction is:  0.6794164907706325\n",
      "The R2 score on the test dataset prediction is:  0.756788309408054\n",
      "\n",
      "The RMSE on the training dataset is:  8.738925613251157\n",
      "The RMSE on the testing dataset is:  7.743707928116468\n",
      "\n",
      "The MAE on the training dataset is:  4.502347353622158\n",
      "The MAE on the testing dataset is:  4.17773242822227\n",
      "\n",
      "The MSE  on the training dataset is:  76.3688208739371\n",
      "The MSE  on the testing dataset is:  59.96501247597384\n"
     ]
    }
   ],
   "source": [
    "# Model Accuracy on training dataset\n",
    "print('The R2 score on the training dataset prediction is: ', r2_score(y_train, y_pred_train_svr))\n",
    "print('The R2 score on the test dataset prediction is: ', r2_score(y_test, y_pred_test_svr))\n",
    "print(\"\")\n",
    "\n",
    "# The Root Mean Squared Error (RMSE)\n",
    "print('The RMSE on the training dataset is: ', sqrt(mean_squared_error(y_train, y_pred_train_svr)))\n",
    "print('The RMSE on the testing dataset is: ', sqrt(mean_squared_error(y_test, y_pred_test_svr)))\n",
    "print(\"\")\n",
    "\n",
    "# The Mean Absolute Error (MAE)\n",
    "print('The MAE on the training dataset is: ', mean_absolute_error(y_train, y_pred_train_svr))\n",
    "print('The MAE on the testing dataset is: ', mean_absolute_error(y_test, y_pred_test_svr))\n",
    "\n",
    "print(\"\")\n",
    "# The Mean Squared Error (MSE)\n",
    "print('The MSE  on the training dataset is: ',mean_squared_error(y_train, y_pred_train_svr))\n",
    "print('The MSE  on the testing dataset is: ',mean_squared_error(y_test, y_pred_test_svr))"
   ]
  },
  {
   "cell_type": "markdown",
   "id": "2885c592",
   "metadata": {
    "papermill": {
     "duration": 0.042222,
     "end_time": "2025-01-13T16:29:43.599292",
     "exception": false,
     "start_time": "2025-01-13T16:29:43.557070",
     "status": "completed"
    },
    "tags": []
   },
   "source": [
    "## **4.2.6.  XGBoost Regressor**"
   ]
  },
  {
   "cell_type": "code",
   "execution_count": 82,
   "id": "cb78f4cd",
   "metadata": {
    "execution": {
     "iopub.execute_input": "2025-01-13T16:29:43.676883Z",
     "iopub.status.busy": "2025-01-13T16:29:43.676511Z",
     "iopub.status.idle": "2025-01-13T16:29:43.787585Z",
     "shell.execute_reply": "2025-01-13T16:29:43.786685Z"
    },
    "papermill": {
     "duration": 0.151874,
     "end_time": "2025-01-13T16:29:43.789680",
     "exception": false,
     "start_time": "2025-01-13T16:29:43.637806",
     "status": "completed"
    },
    "tags": []
   },
   "outputs": [],
   "source": [
    "# Training with XGBoost regressor\n",
    "xgb_regressor = XGBRegressor(objective='reg:squarederror')\n",
    "\n",
    "pipeline = Pipeline(steps=[('preprocessor', preprocessor), ('regressor', xgb_regressor)])\n",
    "\n",
    "# Fit the pipeline to the training data\n",
    "pipeline.fit(X_train, y_train)\n",
    "\n",
    "# Predict on the training and test datasets\n",
    "y_pred_train_xgb = pipeline.predict(X_train)\n",
    "y_pred_test_xgb = pipeline.predict(X_test)"
   ]
  },
  {
   "cell_type": "code",
   "execution_count": 83,
   "id": "4434f7a5",
   "metadata": {
    "execution": {
     "iopub.execute_input": "2025-01-13T16:29:43.869506Z",
     "iopub.status.busy": "2025-01-13T16:29:43.869143Z",
     "iopub.status.idle": "2025-01-13T16:29:43.887743Z",
     "shell.execute_reply": "2025-01-13T16:29:43.886633Z"
    },
    "papermill": {
     "duration": 0.059355,
     "end_time": "2025-01-13T16:29:43.889671",
     "exception": false,
     "start_time": "2025-01-13T16:29:43.830316",
     "status": "completed"
    },
    "tags": []
   },
   "outputs": [
    {
     "name": "stdout",
     "output_type": "stream",
     "text": [
      "The R2 score on the training dataset prediction is:  0.9999989025497232\n",
      "The R2 score on the test dataset prediction is:  0.9986730071285584\n",
      "\n",
      "The RMSE on the training dataset is:  0.016168877827354655\n",
      "The RMSE on the testing dataset is:  0.5719934239076157\n",
      "\n",
      "The MAE on the training dataset is:  0.007297073184712034\n",
      "The MAE on the testing dataset is:  0.1003376465051919\n",
      "\n",
      "The MSE  on the training dataset is:  0.000261432610195921\n",
      "The MSE  on the testing dataset is:  0.32717647699355734\n"
     ]
    }
   ],
   "source": [
    "# Model Accuracy on training dataset\n",
    "print('The R2 score on the training dataset prediction is: ', r2_score(y_train, y_pred_train_xgb))\n",
    "print('The R2 score on the test dataset prediction is: ', r2_score(y_test, y_pred_test_xgb))\n",
    "print(\"\")\n",
    "\n",
    "# The Root Mean Squared Error (RMSE)\n",
    "print('The RMSE on the training dataset is: ', sqrt(mean_squared_error(y_train, y_pred_train_xgb)))\n",
    "print('The RMSE on the testing dataset is: ', sqrt(mean_squared_error(y_test, y_pred_test_xgb)))\n",
    "print(\"\")\n",
    "\n",
    "# The Mean Absolute Error (MAE)\n",
    "print('The MAE on the training dataset is: ', mean_absolute_error(y_train, y_pred_train_xgb))\n",
    "print('The MAE on the testing dataset is: ', mean_absolute_error(y_test, y_pred_test_xgb))\n",
    "\n",
    "print(\"\")\n",
    "# The Mean Squared Error (MSE)\n",
    "print('The MSE  on the training dataset is: ',mean_squared_error(y_train, y_pred_train_xgb))\n",
    "print('The MSE  on the testing dataset is: ',mean_squared_error(y_test, y_pred_test_xgb))"
   ]
  },
  {
   "cell_type": "markdown",
   "id": "c3b6d043",
   "metadata": {
    "papermill": {
     "duration": 0.037605,
     "end_time": "2025-01-13T16:29:43.965219",
     "exception": false,
     "start_time": "2025-01-13T16:29:43.927614",
     "status": "completed"
    },
    "tags": []
   },
   "source": [
    "## **4.2.7.  Neural Network Regressor**"
   ]
  },
  {
   "cell_type": "code",
   "execution_count": 84,
   "id": "1958cd24",
   "metadata": {
    "execution": {
     "iopub.execute_input": "2025-01-13T16:29:44.042990Z",
     "iopub.status.busy": "2025-01-13T16:29:44.042594Z",
     "iopub.status.idle": "2025-01-13T16:29:45.601203Z",
     "shell.execute_reply": "2025-01-13T16:29:45.599688Z"
    },
    "papermill": {
     "duration": 1.601454,
     "end_time": "2025-01-13T16:29:45.604086",
     "exception": false,
     "start_time": "2025-01-13T16:29:44.002632",
     "status": "completed"
    },
    "tags": []
   },
   "outputs": [],
   "source": [
    "# training with neural network regressor\n",
    "\n",
    "nn = MLPRegressor(hidden_layer_sizes=(8,), activation='relu', solver='adam', max_iter=2000, learning_rate_init=0.001)\n",
    "\n",
    "pipeline = Pipeline(steps=[('preprocessor', preprocessor), ('regressor', nn)])\n",
    "\n",
    "# Fit the pipeline to the training data\n",
    "pipeline.fit(X_train,y_train)\n",
    "\n",
    "# Predict on the training and test datasets\n",
    "y_pred_train_nn = pipeline.predict(X_train)\n",
    "y_pred_test_nn = pipeline.predict(X_test)"
   ]
  },
  {
   "cell_type": "code",
   "execution_count": 85,
   "id": "3b11b38e",
   "metadata": {
    "execution": {
     "iopub.execute_input": "2025-01-13T16:29:45.757299Z",
     "iopub.status.busy": "2025-01-13T16:29:45.756954Z",
     "iopub.status.idle": "2025-01-13T16:29:45.771059Z",
     "shell.execute_reply": "2025-01-13T16:29:45.769779Z"
    },
    "papermill": {
     "duration": 0.055077,
     "end_time": "2025-01-13T16:29:45.772570",
     "exception": false,
     "start_time": "2025-01-13T16:29:45.717493",
     "status": "completed"
    },
    "tags": []
   },
   "outputs": [
    {
     "name": "stdout",
     "output_type": "stream",
     "text": [
      "The R2 score on the training dataset prediction is:  0.8510344479881696\n",
      "The R2 score on the test dataset prediction is:  0.8834702486248643\n",
      "\n",
      "The RMSE on the training dataset is:  5.957038109622662\n",
      "The RMSE on the testing dataset is:  5.360127877138262\n",
      "\n",
      "The MAE on the training dataset is:  2.8700270430249617\n",
      "The MAE on the testing dataset is:  2.735224183198011\n",
      "\n",
      "The MSE  on the training dataset is:  35.48630303949674\n",
      "The MSE  on the testing dataset is:  28.730970859274727\n"
     ]
    }
   ],
   "source": [
    "# Model Accuracy on training dataset\n",
    "print('The R2 score on the training dataset prediction is: ', r2_score(y_train, y_pred_train_nn))\n",
    "print('The R2 score on the test dataset prediction is: ', r2_score(y_test, y_pred_test_nn))\n",
    "print(\"\")\n",
    "\n",
    "# The Root Mean Squared Error (RMSE)\n",
    "print('The RMSE on the training dataset is: ', sqrt(mean_squared_error(y_train, y_pred_train_nn)))\n",
    "print('The RMSE on the testing dataset is: ', sqrt(mean_squared_error(y_test, y_pred_test_nn)))\n",
    "print(\"\")\n",
    "\n",
    "# The Mean Absolute Error (MAE)\n",
    "print('The MAE on the training dataset is: ', mean_absolute_error(y_train, y_pred_train_nn))\n",
    "print('The MAE on the testing dataset is: ', mean_absolute_error(y_test, y_pred_test_nn))\n",
    "\n",
    "print(\"\")\n",
    "# The Mean Squared Error (MSE)\n",
    "print('The MSE  on the training dataset is: ',mean_squared_error(y_train, y_pred_train_nn))\n",
    "print('The MSE  on the testing dataset is: ',mean_squared_error(y_test, y_pred_test_nn))"
   ]
  },
  {
   "cell_type": "code",
   "execution_count": null,
   "id": "ece08493",
   "metadata": {
    "papermill": {
     "duration": 0.03764,
     "end_time": "2025-01-13T16:29:45.848693",
     "exception": false,
     "start_time": "2025-01-13T16:29:45.811053",
     "status": "completed"
    },
    "tags": []
   },
   "outputs": [],
   "source": []
  },
  {
   "cell_type": "code",
   "execution_count": null,
   "id": "63251849",
   "metadata": {
    "papermill": {
     "duration": 0.037677,
     "end_time": "2025-01-13T16:29:45.924376",
     "exception": false,
     "start_time": "2025-01-13T16:29:45.886699",
     "status": "completed"
    },
    "tags": []
   },
   "outputs": [],
   "source": []
  },
  {
   "cell_type": "code",
   "execution_count": null,
   "id": "f79b2d3a",
   "metadata": {
    "papermill": {
     "duration": 0.038197,
     "end_time": "2025-01-13T16:29:46.000345",
     "exception": false,
     "start_time": "2025-01-13T16:29:45.962148",
     "status": "completed"
    },
    "tags": []
   },
   "outputs": [],
   "source": []
  },
  {
   "cell_type": "markdown",
   "id": "20a8e56b",
   "metadata": {
    "papermill": {
     "duration": 0.03829,
     "end_time": "2025-01-13T16:29:46.076959",
     "exception": false,
     "start_time": "2025-01-13T16:29:46.038669",
     "status": "completed"
    },
    "tags": []
   },
   "source": [
    "# **5.1. Splitting & Preprocessing the Raw Data(AQI_smoothed_rolling)**"
   ]
  },
  {
   "cell_type": "markdown",
   "id": "4da7078c",
   "metadata": {
    "papermill": {
     "duration": 0.037781,
     "end_time": "2025-01-13T16:29:46.152606",
     "exception": false,
     "start_time": "2025-01-13T16:29:46.114825",
     "status": "completed"
    },
    "tags": []
   },
   "source": [
    "AQI_smoothed_rolling"
   ]
  },
  {
   "cell_type": "code",
   "execution_count": 86,
   "id": "914a18d3",
   "metadata": {
    "execution": {
     "iopub.execute_input": "2025-01-13T16:29:46.230078Z",
     "iopub.status.busy": "2025-01-13T16:29:46.229695Z",
     "iopub.status.idle": "2025-01-13T16:29:46.249379Z",
     "shell.execute_reply": "2025-01-13T16:29:46.248523Z"
    },
    "papermill": {
     "duration": 0.060287,
     "end_time": "2025-01-13T16:29:46.250837",
     "exception": false,
     "start_time": "2025-01-13T16:29:46.190550",
     "status": "completed"
    },
    "tags": []
   },
   "outputs": [
    {
     "data": {
      "text/html": [
       "<div>\n",
       "<style scoped>\n",
       "    .dataframe tbody tr th:only-of-type {\n",
       "        vertical-align: middle;\n",
       "    }\n",
       "\n",
       "    .dataframe tbody tr th {\n",
       "        vertical-align: top;\n",
       "    }\n",
       "\n",
       "    .dataframe thead th {\n",
       "        text-align: right;\n",
       "    }\n",
       "</style>\n",
       "<table border=\"1\" class=\"dataframe\">\n",
       "  <thead>\n",
       "    <tr style=\"text-align: right;\">\n",
       "      <th></th>\n",
       "      <th>co</th>\n",
       "      <th>no2</th>\n",
       "      <th>o3</th>\n",
       "      <th>pm10</th>\n",
       "      <th>pm25</th>\n",
       "      <th>so2</th>\n",
       "      <th>humidity</th>\n",
       "      <th>pressure</th>\n",
       "      <th>temperature</th>\n",
       "      <th>wind-speed</th>\n",
       "      <th>Country_City</th>\n",
       "      <th>Checks</th>\n",
       "      <th>AQI</th>\n",
       "      <th>AQI_smoothed_iqr</th>\n",
       "      <th>AQI_smoothed_zscore</th>\n",
       "      <th>AQI_smoothed_rolling</th>\n",
       "    </tr>\n",
       "  </thead>\n",
       "  <tbody>\n",
       "    <tr>\n",
       "      <th>2014-12-29</th>\n",
       "      <td>3.138695</td>\n",
       "      <td>4.7</td>\n",
       "      <td>15.2</td>\n",
       "      <td>9.0</td>\n",
       "      <td>12.0</td>\n",
       "      <td>2.9</td>\n",
       "      <td>76.126377</td>\n",
       "      <td>1017.086884</td>\n",
       "      <td>18.027986</td>\n",
       "      <td>3.545607</td>\n",
       "      <td>Australia_Newcastle</td>\n",
       "      <td>6</td>\n",
       "      <td>15.0</td>\n",
       "      <td>15.0</td>\n",
       "      <td>15.0</td>\n",
       "      <td>15.0</td>\n",
       "    </tr>\n",
       "    <tr>\n",
       "      <th>2014-12-30</th>\n",
       "      <td>3.400000</td>\n",
       "      <td>4.7</td>\n",
       "      <td>19.2</td>\n",
       "      <td>21.0</td>\n",
       "      <td>23.0</td>\n",
       "      <td>1.5</td>\n",
       "      <td>76.126377</td>\n",
       "      <td>1017.086884</td>\n",
       "      <td>18.027986</td>\n",
       "      <td>3.545607</td>\n",
       "      <td>Australia_Newcastle</td>\n",
       "      <td>6</td>\n",
       "      <td>23.0</td>\n",
       "      <td>23.0</td>\n",
       "      <td>23.0</td>\n",
       "      <td>23.0</td>\n",
       "    </tr>\n",
       "    <tr>\n",
       "      <th>2014-12-31</th>\n",
       "      <td>2.300000</td>\n",
       "      <td>2.8</td>\n",
       "      <td>17.6</td>\n",
       "      <td>38.0</td>\n",
       "      <td>39.0</td>\n",
       "      <td>1.5</td>\n",
       "      <td>76.126377</td>\n",
       "      <td>1017.086884</td>\n",
       "      <td>18.027986</td>\n",
       "      <td>3.545607</td>\n",
       "      <td>Australia_Newcastle</td>\n",
       "      <td>6</td>\n",
       "      <td>39.0</td>\n",
       "      <td>39.0</td>\n",
       "      <td>39.0</td>\n",
       "      <td>39.0</td>\n",
       "    </tr>\n",
       "    <tr>\n",
       "      <th>2015-01-01</th>\n",
       "      <td>2.300000</td>\n",
       "      <td>1.9</td>\n",
       "      <td>16.8</td>\n",
       "      <td>24.0</td>\n",
       "      <td>38.0</td>\n",
       "      <td>1.5</td>\n",
       "      <td>76.126377</td>\n",
       "      <td>1017.086884</td>\n",
       "      <td>18.027986</td>\n",
       "      <td>3.545607</td>\n",
       "      <td>Australia_Newcastle</td>\n",
       "      <td>6</td>\n",
       "      <td>38.0</td>\n",
       "      <td>38.0</td>\n",
       "      <td>38.0</td>\n",
       "      <td>38.0</td>\n",
       "    </tr>\n",
       "    <tr>\n",
       "      <th>2015-01-02</th>\n",
       "      <td>3.138695</td>\n",
       "      <td>3.8</td>\n",
       "      <td>10.4</td>\n",
       "      <td>24.0</td>\n",
       "      <td>42.0</td>\n",
       "      <td>2.9</td>\n",
       "      <td>76.126377</td>\n",
       "      <td>1017.086884</td>\n",
       "      <td>18.027986</td>\n",
       "      <td>3.545607</td>\n",
       "      <td>Australia_Newcastle</td>\n",
       "      <td>6</td>\n",
       "      <td>42.0</td>\n",
       "      <td>42.0</td>\n",
       "      <td>42.0</td>\n",
       "      <td>42.0</td>\n",
       "    </tr>\n",
       "  </tbody>\n",
       "</table>\n",
       "</div>"
      ],
      "text/plain": [
       "                  co  no2    o3  pm10  pm25  so2   humidity     pressure  \\\n",
       "2014-12-29  3.138695  4.7  15.2   9.0  12.0  2.9  76.126377  1017.086884   \n",
       "2014-12-30  3.400000  4.7  19.2  21.0  23.0  1.5  76.126377  1017.086884   \n",
       "2014-12-31  2.300000  2.8  17.6  38.0  39.0  1.5  76.126377  1017.086884   \n",
       "2015-01-01  2.300000  1.9  16.8  24.0  38.0  1.5  76.126377  1017.086884   \n",
       "2015-01-02  3.138695  3.8  10.4  24.0  42.0  2.9  76.126377  1017.086884   \n",
       "\n",
       "            temperature  wind-speed         Country_City  Checks   AQI  \\\n",
       "2014-12-29    18.027986    3.545607  Australia_Newcastle       6  15.0   \n",
       "2014-12-30    18.027986    3.545607  Australia_Newcastle       6  23.0   \n",
       "2014-12-31    18.027986    3.545607  Australia_Newcastle       6  39.0   \n",
       "2015-01-01    18.027986    3.545607  Australia_Newcastle       6  38.0   \n",
       "2015-01-02    18.027986    3.545607  Australia_Newcastle       6  42.0   \n",
       "\n",
       "            AQI_smoothed_iqr  AQI_smoothed_zscore  AQI_smoothed_rolling  \n",
       "2014-12-29              15.0                 15.0                  15.0  \n",
       "2014-12-30              23.0                 23.0                  23.0  \n",
       "2014-12-31              39.0                 39.0                  39.0  \n",
       "2015-01-01              38.0                 38.0                  38.0  \n",
       "2015-01-02              42.0                 42.0                  42.0  "
      ]
     },
     "execution_count": 86,
     "metadata": {},
     "output_type": "execute_result"
    }
   ],
   "source": [
    "new_data4.head()"
   ]
  },
  {
   "cell_type": "code",
   "execution_count": 87,
   "id": "5bdadaee",
   "metadata": {
    "execution": {
     "iopub.execute_input": "2025-01-13T16:29:46.331550Z",
     "iopub.status.busy": "2025-01-13T16:29:46.331152Z",
     "iopub.status.idle": "2025-01-13T16:29:46.337093Z",
     "shell.execute_reply": "2025-01-13T16:29:46.336085Z"
    },
    "papermill": {
     "duration": 0.046673,
     "end_time": "2025-01-13T16:29:46.338784",
     "exception": false,
     "start_time": "2025-01-13T16:29:46.292111",
     "status": "completed"
    },
    "tags": []
   },
   "outputs": [
    {
     "data": {
      "text/plain": [
       "Index(['co', 'no2', 'o3', 'pm10', 'pm25', 'so2', 'humidity', 'pressure',\n",
       "       'temperature', 'wind-speed', 'Country_City', 'Checks', 'AQI',\n",
       "       'AQI_smoothed_iqr', 'AQI_smoothed_zscore', 'AQI_smoothed_rolling'],\n",
       "      dtype='object')"
      ]
     },
     "execution_count": 87,
     "metadata": {},
     "output_type": "execute_result"
    }
   ],
   "source": [
    "new_data4.columns"
   ]
  },
  {
   "cell_type": "markdown",
   "id": "f800bb2f",
   "metadata": {
    "papermill": {
     "duration": 0.038838,
     "end_time": "2025-01-13T16:29:46.416885",
     "exception": false,
     "start_time": "2025-01-13T16:29:46.378047",
     "status": "completed"
    },
    "tags": []
   },
   "source": [
    "***Working with AQI_smoothed_iqr***"
   ]
  },
  {
   "cell_type": "code",
   "execution_count": 88,
   "id": "413a8374",
   "metadata": {
    "execution": {
     "iopub.execute_input": "2025-01-13T16:29:46.496315Z",
     "iopub.status.busy": "2025-01-13T16:29:46.495949Z",
     "iopub.status.idle": "2025-01-13T16:29:46.501608Z",
     "shell.execute_reply": "2025-01-13T16:29:46.500558Z"
    },
    "papermill": {
     "duration": 0.047379,
     "end_time": "2025-01-13T16:29:46.503221",
     "exception": false,
     "start_time": "2025-01-13T16:29:46.455842",
     "status": "completed"
    },
    "tags": []
   },
   "outputs": [],
   "source": [
    "data = new_data4.drop([ 'Country_City', 'Checks', 'AQI',\n",
    "       'AQI_smoothed_iqr', 'AQI_smoothed_zscore'],axis=1)"
   ]
  },
  {
   "cell_type": "code",
   "execution_count": 89,
   "id": "5e0e4936",
   "metadata": {
    "execution": {
     "iopub.execute_input": "2025-01-13T16:29:46.582363Z",
     "iopub.status.busy": "2025-01-13T16:29:46.581999Z",
     "iopub.status.idle": "2025-01-13T16:29:46.598964Z",
     "shell.execute_reply": "2025-01-13T16:29:46.597810Z"
    },
    "papermill": {
     "duration": 0.058561,
     "end_time": "2025-01-13T16:29:46.600648",
     "exception": false,
     "start_time": "2025-01-13T16:29:46.542087",
     "status": "completed"
    },
    "tags": []
   },
   "outputs": [
    {
     "data": {
      "text/html": [
       "<div>\n",
       "<style scoped>\n",
       "    .dataframe tbody tr th:only-of-type {\n",
       "        vertical-align: middle;\n",
       "    }\n",
       "\n",
       "    .dataframe tbody tr th {\n",
       "        vertical-align: top;\n",
       "    }\n",
       "\n",
       "    .dataframe thead th {\n",
       "        text-align: right;\n",
       "    }\n",
       "</style>\n",
       "<table border=\"1\" class=\"dataframe\">\n",
       "  <thead>\n",
       "    <tr style=\"text-align: right;\">\n",
       "      <th></th>\n",
       "      <th>co</th>\n",
       "      <th>no2</th>\n",
       "      <th>o3</th>\n",
       "      <th>pm10</th>\n",
       "      <th>pm25</th>\n",
       "      <th>so2</th>\n",
       "      <th>humidity</th>\n",
       "      <th>pressure</th>\n",
       "      <th>temperature</th>\n",
       "      <th>wind-speed</th>\n",
       "      <th>AQI_smoothed_rolling</th>\n",
       "    </tr>\n",
       "  </thead>\n",
       "  <tbody>\n",
       "    <tr>\n",
       "      <th>2014-12-29</th>\n",
       "      <td>3.138695</td>\n",
       "      <td>4.7</td>\n",
       "      <td>15.2</td>\n",
       "      <td>9.0</td>\n",
       "      <td>12.0</td>\n",
       "      <td>2.9</td>\n",
       "      <td>76.126377</td>\n",
       "      <td>1017.086884</td>\n",
       "      <td>18.027986</td>\n",
       "      <td>3.545607</td>\n",
       "      <td>15.0</td>\n",
       "    </tr>\n",
       "    <tr>\n",
       "      <th>2014-12-30</th>\n",
       "      <td>3.400000</td>\n",
       "      <td>4.7</td>\n",
       "      <td>19.2</td>\n",
       "      <td>21.0</td>\n",
       "      <td>23.0</td>\n",
       "      <td>1.5</td>\n",
       "      <td>76.126377</td>\n",
       "      <td>1017.086884</td>\n",
       "      <td>18.027986</td>\n",
       "      <td>3.545607</td>\n",
       "      <td>23.0</td>\n",
       "    </tr>\n",
       "    <tr>\n",
       "      <th>2014-12-31</th>\n",
       "      <td>2.300000</td>\n",
       "      <td>2.8</td>\n",
       "      <td>17.6</td>\n",
       "      <td>38.0</td>\n",
       "      <td>39.0</td>\n",
       "      <td>1.5</td>\n",
       "      <td>76.126377</td>\n",
       "      <td>1017.086884</td>\n",
       "      <td>18.027986</td>\n",
       "      <td>3.545607</td>\n",
       "      <td>39.0</td>\n",
       "    </tr>\n",
       "    <tr>\n",
       "      <th>2015-01-01</th>\n",
       "      <td>2.300000</td>\n",
       "      <td>1.9</td>\n",
       "      <td>16.8</td>\n",
       "      <td>24.0</td>\n",
       "      <td>38.0</td>\n",
       "      <td>1.5</td>\n",
       "      <td>76.126377</td>\n",
       "      <td>1017.086884</td>\n",
       "      <td>18.027986</td>\n",
       "      <td>3.545607</td>\n",
       "      <td>38.0</td>\n",
       "    </tr>\n",
       "    <tr>\n",
       "      <th>2015-01-02</th>\n",
       "      <td>3.138695</td>\n",
       "      <td>3.8</td>\n",
       "      <td>10.4</td>\n",
       "      <td>24.0</td>\n",
       "      <td>42.0</td>\n",
       "      <td>2.9</td>\n",
       "      <td>76.126377</td>\n",
       "      <td>1017.086884</td>\n",
       "      <td>18.027986</td>\n",
       "      <td>3.545607</td>\n",
       "      <td>42.0</td>\n",
       "    </tr>\n",
       "  </tbody>\n",
       "</table>\n",
       "</div>"
      ],
      "text/plain": [
       "                  co  no2    o3  pm10  pm25  so2   humidity     pressure  \\\n",
       "2014-12-29  3.138695  4.7  15.2   9.0  12.0  2.9  76.126377  1017.086884   \n",
       "2014-12-30  3.400000  4.7  19.2  21.0  23.0  1.5  76.126377  1017.086884   \n",
       "2014-12-31  2.300000  2.8  17.6  38.0  39.0  1.5  76.126377  1017.086884   \n",
       "2015-01-01  2.300000  1.9  16.8  24.0  38.0  1.5  76.126377  1017.086884   \n",
       "2015-01-02  3.138695  3.8  10.4  24.0  42.0  2.9  76.126377  1017.086884   \n",
       "\n",
       "            temperature  wind-speed  AQI_smoothed_rolling  \n",
       "2014-12-29    18.027986    3.545607                  15.0  \n",
       "2014-12-30    18.027986    3.545607                  23.0  \n",
       "2014-12-31    18.027986    3.545607                  39.0  \n",
       "2015-01-01    18.027986    3.545607                  38.0  \n",
       "2015-01-02    18.027986    3.545607                  42.0  "
      ]
     },
     "execution_count": 89,
     "metadata": {},
     "output_type": "execute_result"
    }
   ],
   "source": [
    "data.head()"
   ]
  },
  {
   "cell_type": "code",
   "execution_count": 90,
   "id": "5b70dfaf",
   "metadata": {
    "execution": {
     "iopub.execute_input": "2025-01-13T16:29:46.679962Z",
     "iopub.status.busy": "2025-01-13T16:29:46.679590Z",
     "iopub.status.idle": "2025-01-13T16:29:46.687971Z",
     "shell.execute_reply": "2025-01-13T16:29:46.686754Z"
    },
    "papermill": {
     "duration": 0.050263,
     "end_time": "2025-01-13T16:29:46.689460",
     "exception": false,
     "start_time": "2025-01-13T16:29:46.639197",
     "status": "completed"
    },
    "tags": []
   },
   "outputs": [
    {
     "name": "stdout",
     "output_type": "stream",
     "text": [
      "Index(['co', 'no2', 'o3', 'pm10', 'pm25', 'so2', 'humidity', 'pressure',\n",
      "       'temperature', 'wind-speed', 'AQI_smoothed_rolling'],\n",
      "      dtype='object')\n",
      "Index([], dtype='object')\n"
     ]
    }
   ],
   "source": [
    "num = data.select_dtypes(include=['int16', 'int32', 'int64', 'float16', 'float32', 'float64'])\n",
    "cat = data.select_dtypes(include=['object'])\n",
    "\n",
    "print(num.columns)\n",
    "print(cat.columns)"
   ]
  },
  {
   "cell_type": "code",
   "execution_count": 91,
   "id": "e5b68767",
   "metadata": {
    "execution": {
     "iopub.execute_input": "2025-01-13T16:29:46.769409Z",
     "iopub.status.busy": "2025-01-13T16:29:46.769064Z",
     "iopub.status.idle": "2025-01-13T16:29:46.779910Z",
     "shell.execute_reply": "2025-01-13T16:29:46.778754Z"
    },
    "papermill": {
     "duration": 0.052367,
     "end_time": "2025-01-13T16:29:46.781604",
     "exception": false,
     "start_time": "2025-01-13T16:29:46.729237",
     "status": "completed"
    },
    "tags": []
   },
   "outputs": [
    {
     "name": "stdout",
     "output_type": "stream",
     "text": [
      "(2932, 10) (2932,) (733, 10) (733,)\n"
     ]
    }
   ],
   "source": [
    "X = data[['co', 'no2', 'o3', 'pm10', 'pm25', 'so2', 'humidity', 'pressure',\n",
    "       'temperature', 'wind-speed']]\n",
    "\n",
    "y = data['AQI_smoothed_rolling']\n",
    "\n",
    "X_train, X_test, y_train, y_test = train_test_split(X, y, test_size = 0.2, random_state = 42)\n",
    "\n",
    "print(X_train.shape, y_train.shape, X_test.shape, y_test.shape)"
   ]
  },
  {
   "cell_type": "code",
   "execution_count": 92,
   "id": "d69c5a90",
   "metadata": {
    "execution": {
     "iopub.execute_input": "2025-01-13T16:29:46.861263Z",
     "iopub.status.busy": "2025-01-13T16:29:46.860909Z",
     "iopub.status.idle": "2025-01-13T16:29:46.865874Z",
     "shell.execute_reply": "2025-01-13T16:29:46.864783Z"
    },
    "papermill": {
     "duration": 0.046732,
     "end_time": "2025-01-13T16:29:46.867583",
     "exception": false,
     "start_time": "2025-01-13T16:29:46.820851",
     "status": "completed"
    },
    "tags": []
   },
   "outputs": [],
   "source": [
    "# Preprocessor without scaling\n",
    "preprocessor = ColumnTransformer(\n",
    "    transformers=[\n",
    "        ('num', 'passthrough', ['co', 'no2', 'o3', 'pm10', 'pm25', 'so2', 'humidity', \n",
    "                                'pressure', 'temperature', 'wind-speed'])\n",
    "    ])\n",
    "# Pipeline\n",
    "pipeline = Pipeline(steps=[\n",
    "    ('preprocessor', preprocessor)\n",
    "])"
   ]
  },
  {
   "cell_type": "markdown",
   "id": "ecc934fa",
   "metadata": {
    "papermill": {
     "duration": 0.038518,
     "end_time": "2025-01-13T16:29:46.945144",
     "exception": false,
     "start_time": "2025-01-13T16:29:46.906626",
     "status": "completed"
    },
    "tags": []
   },
   "source": [
    "# **5.2. Model Training & Testing**"
   ]
  },
  {
   "cell_type": "markdown",
   "id": "c7553408",
   "metadata": {
    "papermill": {
     "duration": 0.03852,
     "end_time": "2025-01-13T16:29:47.023195",
     "exception": false,
     "start_time": "2025-01-13T16:29:46.984675",
     "status": "completed"
    },
    "tags": []
   },
   "source": [
    "## **5.2.1. LinearRegression**"
   ]
  },
  {
   "cell_type": "code",
   "execution_count": 93,
   "id": "5ecf7958",
   "metadata": {
    "execution": {
     "iopub.execute_input": "2025-01-13T16:29:47.103182Z",
     "iopub.status.busy": "2025-01-13T16:29:47.102808Z",
     "iopub.status.idle": "2025-01-13T16:29:47.117354Z",
     "shell.execute_reply": "2025-01-13T16:29:47.116461Z"
    },
    "papermill": {
     "duration": 0.058233,
     "end_time": "2025-01-13T16:29:47.120459",
     "exception": false,
     "start_time": "2025-01-13T16:29:47.062226",
     "status": "completed"
    },
    "tags": []
   },
   "outputs": [],
   "source": [
    "# training with LinearRegression\n",
    "\n",
    "lm = LinearRegression(fit_intercept = True)\n",
    "\n",
    "pipeline = Pipeline(steps=[('preprocessor', preprocessor), ('regressor', lm)])\n",
    "\n",
    "# Fit the pipeline to the training data\n",
    "pipeline.fit(X_train,y_train)\n",
    "\n",
    "# Predict on the training and test datasets\n",
    "y_pred_train_lm = pipeline.predict(X_train)\n",
    "y_pred_test_lm = pipeline.predict(X_test)"
   ]
  },
  {
   "cell_type": "code",
   "execution_count": 94,
   "id": "479f52e1",
   "metadata": {
    "execution": {
     "iopub.execute_input": "2025-01-13T16:29:47.276594Z",
     "iopub.status.busy": "2025-01-13T16:29:47.276168Z",
     "iopub.status.idle": "2025-01-13T16:29:47.291067Z",
     "shell.execute_reply": "2025-01-13T16:29:47.289769Z"
    },
    "papermill": {
     "duration": 0.058113,
     "end_time": "2025-01-13T16:29:47.292819",
     "exception": false,
     "start_time": "2025-01-13T16:29:47.234706",
     "status": "completed"
    },
    "tags": []
   },
   "outputs": [
    {
     "name": "stdout",
     "output_type": "stream",
     "text": [
      "The r2 Accuracy on the training dataset prediction is:  0.995331275763755\n",
      "The r2 Accuracy on the test dataset prediction is:  0.9948381337124453\n",
      "\n",
      "The RMSE  on the training dataset is:  1.1487534988956953\n",
      "The RMSE  on the testing dataset is:  1.2008192876938473\n",
      "\n",
      "The MAE  on the training dataset is:  0.6971392288871283\n",
      "The MAE  on the testing dataset is:  0.7023485378895562\n",
      "\n",
      "The MSE  on the training dataset is:  1.3196346012251023\n",
      "The MSE  on the testing dataset is:  1.441966961697559\n"
     ]
    }
   ],
   "source": [
    "# Model Accuracy on training and testing dataset\n",
    "\n",
    "print('The r2 Accuracy on the training dataset prediction is: ',r2_score(y_train,y_pred_train_lm) )\n",
    "print('The r2 Accuracy on the test dataset prediction is: ',r2_score(y_test,y_pred_test_lm) )\n",
    "\n",
    "print(\"\")\n",
    "\n",
    "# The Root Mean Squared Error (RMSE)\n",
    "print('The RMSE  on the training dataset is: ',sqrt(mean_squared_error(y_train, y_pred_train_lm)))\n",
    "print('The RMSE  on the testing dataset is: ',sqrt(mean_squared_error(y_test, y_pred_test_lm)))\n",
    "\n",
    "print(\"\")\n",
    "# The Mean Absolute Error (MAE)\n",
    "print('The MAE  on the training dataset is: ',mean_absolute_error(y_train, y_pred_train_lm))\n",
    "print('The MAE  on the testing dataset is: ',mean_absolute_error(y_test, y_pred_test_lm))\n",
    "\n",
    "print(\"\")\n",
    "# The Mean Squared Error (MSE)\n",
    "print('The MSE  on the training dataset is: ',mean_squared_error(y_train, y_pred_train_lm))\n",
    "print('The MSE  on the testing dataset is: ',mean_squared_error(y_test, y_pred_test_lm))"
   ]
  },
  {
   "cell_type": "markdown",
   "id": "a00e65df",
   "metadata": {
    "papermill": {
     "duration": 0.038315,
     "end_time": "2025-01-13T16:29:47.425964",
     "exception": false,
     "start_time": "2025-01-13T16:29:47.387649",
     "status": "completed"
    },
    "tags": []
   },
   "source": [
    "## **5.2.2.  KNeighborsRegressor**"
   ]
  },
  {
   "cell_type": "code",
   "execution_count": 95,
   "id": "dbcd0c71",
   "metadata": {
    "execution": {
     "iopub.execute_input": "2025-01-13T16:29:47.505868Z",
     "iopub.status.busy": "2025-01-13T16:29:47.505389Z",
     "iopub.status.idle": "2025-01-13T16:29:47.556066Z",
     "shell.execute_reply": "2025-01-13T16:29:47.554926Z"
    },
    "papermill": {
     "duration": 0.092434,
     "end_time": "2025-01-13T16:29:47.557882",
     "exception": false,
     "start_time": "2025-01-13T16:29:47.465448",
     "status": "completed"
    },
    "tags": []
   },
   "outputs": [],
   "source": [
    "# training with KNeighborsRegressor\n",
    "\n",
    "neigh = KNeighborsRegressor(n_neighbors=2)\n",
    "\n",
    "pipeline = Pipeline(steps=[('preprocessor', preprocessor), ('regressor', neigh)])\n",
    "\n",
    "# Fit the pipeline to the training data\n",
    "pipeline.fit(X_train,y_train)\n",
    "\n",
    "# Predict on the training and test datasets\n",
    "y_pred_train_knn = pipeline.predict(X_train)\n",
    "y_pred_test_knn = pipeline.predict(X_test)"
   ]
  },
  {
   "cell_type": "code",
   "execution_count": 96,
   "id": "909fafd9",
   "metadata": {
    "execution": {
     "iopub.execute_input": "2025-01-13T16:29:47.637444Z",
     "iopub.status.busy": "2025-01-13T16:29:47.637080Z",
     "iopub.status.idle": "2025-01-13T16:29:47.651865Z",
     "shell.execute_reply": "2025-01-13T16:29:47.650611Z"
    },
    "papermill": {
     "duration": 0.056857,
     "end_time": "2025-01-13T16:29:47.653861",
     "exception": false,
     "start_time": "2025-01-13T16:29:47.597004",
     "status": "completed"
    },
    "tags": []
   },
   "outputs": [
    {
     "name": "stdout",
     "output_type": "stream",
     "text": [
      "The R2 score on the training dataset prediction is:  0.9973598543896987\n",
      "The R2 score on the test dataset prediction is:  0.9909297797541584\n",
      "\n",
      "The RMSE  on the training dataset is:  0.863856640119991\n",
      "The RMSE  on the testing dataset is:  1.5917805589607514\n",
      "\n",
      "The MAE  on the training dataset is:  0.5078444747612552\n",
      "The MAE  on the testing dataset is:  0.8806275579809004\n",
      "\n",
      "The MSE  on the training dataset is:  0.7462482946793997\n",
      "The MSE  on the testing dataset is:  2.5337653478854025\n"
     ]
    }
   ],
   "source": [
    "# Model Accuracy on training dataset\n",
    "print('The R2 score on the training dataset prediction is: ', r2_score(y_train,y_pred_train_knn))\n",
    "print('The R2 score on the test dataset prediction is: ', r2_score(y_test, y_pred_test_knn))\n",
    "print(\"\")\n",
    "\n",
    "# The Root Mean Squared Error (RMSE)\n",
    "print('The RMSE  on the training dataset is: ',sqrt(mean_squared_error(y_train,y_pred_train_knn)))\n",
    "print('The RMSE  on the testing dataset is: ',sqrt(mean_squared_error(y_test, y_pred_test_knn)))\n",
    "\n",
    "print(\"\")\n",
    "# The Mean Absolute Error (MAE)\n",
    "print('The MAE  on the training dataset is: ',mean_absolute_error(y_train,y_pred_train_knn))\n",
    "print('The MAE  on the testing dataset is: ',mean_absolute_error(y_test, y_pred_test_knn))\n",
    "\n",
    "print(\"\")\n",
    "# The Mean Squared Error (MSE)\n",
    "print('The MSE  on the training dataset is: ',mean_squared_error(y_train, y_pred_train_knn))\n",
    "print('The MSE  on the testing dataset is: ',mean_squared_error(y_test, y_pred_test_knn))"
   ]
  },
  {
   "cell_type": "markdown",
   "id": "d7ef3445",
   "metadata": {
    "papermill": {
     "duration": 0.03854,
     "end_time": "2025-01-13T16:29:47.732371",
     "exception": false,
     "start_time": "2025-01-13T16:29:47.693831",
     "status": "completed"
    },
    "tags": []
   },
   "source": [
    "## **5.2.3.  Random Forest Regressor**"
   ]
  },
  {
   "cell_type": "code",
   "execution_count": 97,
   "id": "c00a1816",
   "metadata": {
    "execution": {
     "iopub.execute_input": "2025-01-13T16:29:47.812385Z",
     "iopub.status.busy": "2025-01-13T16:29:47.812014Z",
     "iopub.status.idle": "2025-01-13T16:29:48.530405Z",
     "shell.execute_reply": "2025-01-13T16:29:48.529350Z"
    },
    "papermill": {
     "duration": 0.761208,
     "end_time": "2025-01-13T16:29:48.532333",
     "exception": false,
     "start_time": "2025-01-13T16:29:47.771125",
     "status": "completed"
    },
    "tags": []
   },
   "outputs": [],
   "source": [
    "# Training with random forest regressor\n",
    "random = RandomForestRegressor()\n",
    "\n",
    "pipeline = Pipeline(steps=[('preprocessor', preprocessor), ('regressor', random)])\n",
    "\n",
    "# Fit the pipeline to the training data\n",
    "pipeline.fit(X_train,y_train)\n",
    "\n",
    "# Predict on the training and test datasets\n",
    "y_pred_train_random = pipeline.predict(X_train)\n",
    "y_pred_test_random = pipeline.predict(X_test)"
   ]
  },
  {
   "cell_type": "code",
   "execution_count": 98,
   "id": "acc27a86",
   "metadata": {
    "execution": {
     "iopub.execute_input": "2025-01-13T16:29:48.613454Z",
     "iopub.status.busy": "2025-01-13T16:29:48.613092Z",
     "iopub.status.idle": "2025-01-13T16:29:48.630676Z",
     "shell.execute_reply": "2025-01-13T16:29:48.629203Z"
    },
    "papermill": {
     "duration": 0.060525,
     "end_time": "2025-01-13T16:29:48.632642",
     "exception": false,
     "start_time": "2025-01-13T16:29:48.572117",
     "status": "completed"
    },
    "tags": []
   },
   "outputs": [
    {
     "name": "stdout",
     "output_type": "stream",
     "text": [
      "The R2 score on the training dataset prediction is:  0.9996888281909693\n",
      "The R2 score on the test dataset prediction is:  0.9962426198129007\n",
      "\n",
      "The RMSE  on the training dataset is:  0.29657043776583064\n",
      "The RMSE  on the testing dataset is:  1.0245115297000826\n",
      "\n",
      "The MAE  on the training dataset is:  0.0367462482946794\n",
      "The MAE  on the testing dataset is:  0.13488403819918146\n",
      "\n",
      "The MSE  on the training dataset is:  0.08795402455661644\n",
      "The MSE  on the testing dataset is:  1.0496238744884034\n"
     ]
    }
   ],
   "source": [
    "# Model Accuracy on training dataset\n",
    "print('The R2 score on the training dataset prediction is: ', r2_score(y_train,y_pred_train_random))\n",
    "print('The R2 score on the test dataset prediction is: ', r2_score(y_test, y_pred_test_random))\n",
    "print(\"\")\n",
    "\n",
    "# The Root Mean Squared Error (RMSE)\n",
    "print('The RMSE  on the training dataset is: ',sqrt(mean_squared_error(y_train,y_pred_train_random)))\n",
    "print('The RMSE  on the testing dataset is: ',sqrt(mean_squared_error(y_test, y_pred_test_random)))\n",
    "\n",
    "print(\"\")\n",
    "# The Mean Absolute Error (MAE)\n",
    "print('The MAE  on the training dataset is: ',mean_absolute_error(y_train,y_pred_train_random))\n",
    "print('The MAE  on the testing dataset is: ',mean_absolute_error(y_test, y_pred_test_random))\n",
    "\n",
    "print(\"\")\n",
    "# The Mean Squared Error (MSE)\n",
    "print('The MSE  on the training dataset is: ',mean_squared_error(y_train, y_pred_train_random))\n",
    "print('The MSE  on the testing dataset is: ',mean_squared_error(y_test, y_pred_test_random))"
   ]
  },
  {
   "cell_type": "markdown",
   "id": "cde2f88e",
   "metadata": {
    "papermill": {
     "duration": 0.041997,
     "end_time": "2025-01-13T16:29:48.714640",
     "exception": false,
     "start_time": "2025-01-13T16:29:48.672643",
     "status": "completed"
    },
    "tags": []
   },
   "source": [
    "## **5.2.4.  Decision Tree regressor**"
   ]
  },
  {
   "cell_type": "code",
   "execution_count": 99,
   "id": "cdcf96c4",
   "metadata": {
    "execution": {
     "iopub.execute_input": "2025-01-13T16:29:48.797816Z",
     "iopub.status.busy": "2025-01-13T16:29:48.797390Z",
     "iopub.status.idle": "2025-01-13T16:29:48.819137Z",
     "shell.execute_reply": "2025-01-13T16:29:48.817836Z"
    },
    "papermill": {
     "duration": 0.064563,
     "end_time": "2025-01-13T16:29:48.821235",
     "exception": false,
     "start_time": "2025-01-13T16:29:48.756672",
     "status": "completed"
    },
    "tags": []
   },
   "outputs": [],
   "source": [
    "# Training with Decision Tree regressor\n",
    "dt = DecisionTreeRegressor()\n",
    "\n",
    "pipeline = Pipeline(steps=[('preprocessor', preprocessor), ('regressor', dt)])\n",
    "\n",
    "# Fit the pipeline to the training data\n",
    "pipeline.fit(X_train,y_train)\n",
    "\n",
    "# Predict on the training and test datasets\n",
    "y_pred_train_dt = pipeline.predict(X_train)\n",
    "y_pred_test_dt = pipeline.predict(X_test)"
   ]
  },
  {
   "cell_type": "code",
   "execution_count": 100,
   "id": "82cbabce",
   "metadata": {
    "execution": {
     "iopub.execute_input": "2025-01-13T16:29:48.901282Z",
     "iopub.status.busy": "2025-01-13T16:29:48.900906Z",
     "iopub.status.idle": "2025-01-13T16:29:48.918720Z",
     "shell.execute_reply": "2025-01-13T16:29:48.917328Z"
    },
    "papermill": {
     "duration": 0.059798,
     "end_time": "2025-01-13T16:29:48.920495",
     "exception": false,
     "start_time": "2025-01-13T16:29:48.860697",
     "status": "completed"
    },
    "tags": []
   },
   "outputs": [
    {
     "name": "stdout",
     "output_type": "stream",
     "text": [
      "The R2 score on the training dataset prediction is:  1.0\n",
      "The R2 score on the test dataset prediction is:  0.9909798375048758\n",
      "\n",
      "The RMSE  on the training dataset is:  0.0\n",
      "The RMSE  on the testing dataset is:  1.5873820330856605\n",
      "\n",
      "The MAE  on the training dataset is:  0.0\n",
      "The MAE  on the testing dataset is:  0.15143246930422918\n",
      "\n",
      "The MSE  on the training dataset is:  0.0\n",
      "The MSE  on the testing dataset is:  2.519781718963165\n"
     ]
    }
   ],
   "source": [
    "# Model Accuracy on training dataset\n",
    "print('The R2 score on the training dataset prediction is: ', r2_score(y_train,y_pred_train_dt))\n",
    "print('The R2 score on the test dataset prediction is: ', r2_score(y_test, y_pred_test_dt))\n",
    "print(\"\")\n",
    "\n",
    "# The Root Mean Squared Error (RMSE)\n",
    "print('The RMSE  on the training dataset is: ',sqrt(mean_squared_error(y_train,y_pred_train_dt)))\n",
    "print('The RMSE  on the testing dataset is: ',sqrt(mean_squared_error(y_test, y_pred_test_dt)))\n",
    "\n",
    "print(\"\")\n",
    "# The Mean Absolute Error (MAE)\n",
    "print('The MAE  on the training dataset is: ',mean_absolute_error(y_train,y_pred_train_dt))\n",
    "print('The MAE  on the testing dataset is: ',mean_absolute_error(y_test, y_pred_test_dt))\n",
    "\n",
    "print(\"\")\n",
    "# The Mean Squared Error (MSE)\n",
    "print('The MSE  on the training dataset is: ',mean_squared_error(y_train, y_pred_train_dt))\n",
    "print('The MSE  on the testing dataset is: ',mean_squared_error(y_test, y_pred_test_dt))"
   ]
  },
  {
   "cell_type": "markdown",
   "id": "cc5f8983",
   "metadata": {
    "papermill": {
     "duration": 0.039041,
     "end_time": "2025-01-13T16:29:48.999360",
     "exception": false,
     "start_time": "2025-01-13T16:29:48.960319",
     "status": "completed"
    },
    "tags": []
   },
   "source": [
    "## **5.2.5.  Support Vector Machine regressor**"
   ]
  },
  {
   "cell_type": "code",
   "execution_count": 101,
   "id": "591a715b",
   "metadata": {
    "execution": {
     "iopub.execute_input": "2025-01-13T16:29:49.079403Z",
     "iopub.status.busy": "2025-01-13T16:29:49.079062Z",
     "iopub.status.idle": "2025-01-13T16:29:52.870041Z",
     "shell.execute_reply": "2025-01-13T16:29:52.869004Z"
    },
    "papermill": {
     "duration": 3.833713,
     "end_time": "2025-01-13T16:29:52.872065",
     "exception": false,
     "start_time": "2025-01-13T16:29:49.038352",
     "status": "completed"
    },
    "tags": []
   },
   "outputs": [],
   "source": [
    "# Training with Support Vector Machine regressor\n",
    "svr = SVR(kernel='linear')\n",
    "\n",
    "pipeline = Pipeline(steps=[('preprocessor', preprocessor), ('regressor', svr)])\n",
    "\n",
    "# Fit the pipeline to the training data\n",
    "pipeline.fit(X_train, y_train)\n",
    "\n",
    "# Predict on the training and test datasets\n",
    "y_pred_train_svr = pipeline.predict(X_train)\n",
    "y_pred_test_svr = pipeline.predict(X_test)"
   ]
  },
  {
   "cell_type": "code",
   "execution_count": 102,
   "id": "536650ca",
   "metadata": {
    "execution": {
     "iopub.execute_input": "2025-01-13T16:29:52.953423Z",
     "iopub.status.busy": "2025-01-13T16:29:52.953039Z",
     "iopub.status.idle": "2025-01-13T16:29:52.968526Z",
     "shell.execute_reply": "2025-01-13T16:29:52.967407Z"
    },
    "papermill": {
     "duration": 0.057697,
     "end_time": "2025-01-13T16:29:52.970374",
     "exception": false,
     "start_time": "2025-01-13T16:29:52.912677",
     "status": "completed"
    },
    "tags": []
   },
   "outputs": [
    {
     "name": "stdout",
     "output_type": "stream",
     "text": [
      "The R2 score on the training dataset prediction is:  0.8974923933941128\n",
      "The R2 score on the test dataset prediction is:  0.9072166982438198\n",
      "\n",
      "The RMSE on the training dataset is:  5.3827694966323305\n",
      "The RMSE on the testing dataset is:  5.091071440489744\n",
      "\n",
      "The MAE on the training dataset is:  3.9632738337369426\n",
      "The MAE on the testing dataset is:  3.870216681763994\n",
      "\n",
      "The MSE  on the training dataset is:  28.97420745387547\n",
      "The MSE  on the testing dataset is:  25.919008412170317\n"
     ]
    }
   ],
   "source": [
    "# Model Accuracy on training dataset\n",
    "print('The R2 score on the training dataset prediction is: ', r2_score(y_train, y_pred_train_svr))\n",
    "print('The R2 score on the test dataset prediction is: ', r2_score(y_test, y_pred_test_svr))\n",
    "print(\"\")\n",
    "\n",
    "# The Root Mean Squared Error (RMSE)\n",
    "print('The RMSE on the training dataset is: ', sqrt(mean_squared_error(y_train, y_pred_train_svr)))\n",
    "print('The RMSE on the testing dataset is: ', sqrt(mean_squared_error(y_test, y_pred_test_svr)))\n",
    "print(\"\")\n",
    "\n",
    "# The Mean Absolute Error (MAE)\n",
    "print('The MAE on the training dataset is: ', mean_absolute_error(y_train, y_pred_train_svr))\n",
    "print('The MAE on the testing dataset is: ', mean_absolute_error(y_test, y_pred_test_svr))\n",
    "\n",
    "print(\"\")\n",
    "# The Mean Squared Error (MSE)\n",
    "print('The MSE  on the training dataset is: ',mean_squared_error(y_train, y_pred_train_svr))\n",
    "print('The MSE  on the testing dataset is: ',mean_squared_error(y_test, y_pred_test_svr))"
   ]
  },
  {
   "cell_type": "markdown",
   "id": "f6c734b7",
   "metadata": {
    "papermill": {
     "duration": 0.03993,
     "end_time": "2025-01-13T16:29:53.049922",
     "exception": false,
     "start_time": "2025-01-13T16:29:53.009992",
     "status": "completed"
    },
    "tags": []
   },
   "source": [
    "## **5.2.6.  XGBoost Regressor**"
   ]
  },
  {
   "cell_type": "code",
   "execution_count": 103,
   "id": "c79039a1",
   "metadata": {
    "execution": {
     "iopub.execute_input": "2025-01-13T16:29:53.131269Z",
     "iopub.status.busy": "2025-01-13T16:29:53.130934Z",
     "iopub.status.idle": "2025-01-13T16:29:53.249827Z",
     "shell.execute_reply": "2025-01-13T16:29:53.248936Z"
    },
    "papermill": {
     "duration": 0.162844,
     "end_time": "2025-01-13T16:29:53.251996",
     "exception": false,
     "start_time": "2025-01-13T16:29:53.089152",
     "status": "completed"
    },
    "tags": []
   },
   "outputs": [],
   "source": [
    "# Training with XGBoost regressor\n",
    "xgb_regressor = XGBRegressor(objective='reg:squarederror')\n",
    "\n",
    "pipeline = Pipeline(steps=[('preprocessor', preprocessor), ('regressor', xgb_regressor)])\n",
    "\n",
    "# Fit the pipeline to the training data\n",
    "pipeline.fit(X_train, y_train)\n",
    "\n",
    "# Predict on the training and test datasets\n",
    "y_pred_train_xgb = pipeline.predict(X_train)\n",
    "y_pred_test_xgb = pipeline.predict(X_test)"
   ]
  },
  {
   "cell_type": "code",
   "execution_count": 104,
   "id": "eeb2005a",
   "metadata": {
    "execution": {
     "iopub.execute_input": "2025-01-13T16:29:53.336716Z",
     "iopub.status.busy": "2025-01-13T16:29:53.336340Z",
     "iopub.status.idle": "2025-01-13T16:29:53.350684Z",
     "shell.execute_reply": "2025-01-13T16:29:53.349300Z"
    },
    "papermill": {
     "duration": 0.056594,
     "end_time": "2025-01-13T16:29:53.352635",
     "exception": false,
     "start_time": "2025-01-13T16:29:53.296041",
     "status": "completed"
    },
    "tags": []
   },
   "outputs": [
    {
     "name": "stdout",
     "output_type": "stream",
     "text": [
      "The R2 score on the training dataset prediction is:  0.9999987625068888\n",
      "The R2 score on the test dataset prediction is:  0.9981333586203575\n",
      "\n",
      "The RMSE on the training dataset is:  0.01870247706765454\n",
      "The RMSE on the testing dataset is:  0.7221122696053701\n",
      "\n",
      "The MAE on the training dataset is:  0.009324649508945938\n",
      "The MAE on the testing dataset is:  0.11870223665953007\n",
      "\n",
      "The MSE  on the training dataset is:  0.000349782648466144\n",
      "The MSE  on the testing dataset is:  0.5214461299146188\n"
     ]
    }
   ],
   "source": [
    "# Model Accuracy on training dataset\n",
    "print('The R2 score on the training dataset prediction is: ', r2_score(y_train, y_pred_train_xgb))\n",
    "print('The R2 score on the test dataset prediction is: ', r2_score(y_test, y_pred_test_xgb))\n",
    "print(\"\")\n",
    "\n",
    "# The Root Mean Squared Error (RMSE)\n",
    "print('The RMSE on the training dataset is: ', sqrt(mean_squared_error(y_train, y_pred_train_xgb)))\n",
    "print('The RMSE on the testing dataset is: ', sqrt(mean_squared_error(y_test, y_pred_test_xgb)))\n",
    "print(\"\")\n",
    "\n",
    "# The Mean Absolute Error (MAE)\n",
    "print('The MAE on the training dataset is: ', mean_absolute_error(y_train, y_pred_train_xgb))\n",
    "print('The MAE on the testing dataset is: ', mean_absolute_error(y_test, y_pred_test_xgb))\n",
    "\n",
    "print(\"\")\n",
    "# The Mean Squared Error (MSE)\n",
    "print('The MSE  on the training dataset is: ',mean_squared_error(y_train, y_pred_train_xgb))\n",
    "print('The MSE  on the testing dataset is: ',mean_squared_error(y_test, y_pred_test_xgb))"
   ]
  },
  {
   "cell_type": "markdown",
   "id": "3f709cc9",
   "metadata": {
    "papermill": {
     "duration": 0.053156,
     "end_time": "2025-01-13T16:29:53.462118",
     "exception": false,
     "start_time": "2025-01-13T16:29:53.408962",
     "status": "completed"
    },
    "tags": []
   },
   "source": [
    "## **5.2.7.  Neural Network Regressor**"
   ]
  },
  {
   "cell_type": "code",
   "execution_count": 105,
   "id": "1a959da2",
   "metadata": {
    "execution": {
     "iopub.execute_input": "2025-01-13T16:29:53.542305Z",
     "iopub.status.busy": "2025-01-13T16:29:53.541971Z",
     "iopub.status.idle": "2025-01-13T16:29:54.144571Z",
     "shell.execute_reply": "2025-01-13T16:29:54.142245Z"
    },
    "papermill": {
     "duration": 0.646063,
     "end_time": "2025-01-13T16:29:54.147899",
     "exception": false,
     "start_time": "2025-01-13T16:29:53.501836",
     "status": "completed"
    },
    "tags": []
   },
   "outputs": [],
   "source": [
    "# training with neural network regressor\n",
    "\n",
    "nn = MLPRegressor(hidden_layer_sizes=(8,), activation='relu', solver='adam', max_iter=2000, learning_rate_init=0.001)\n",
    "\n",
    "pipeline = Pipeline(steps=[('preprocessor', preprocessor), ('regressor', nn)])\n",
    "\n",
    "# Fit the pipeline to the training data\n",
    "pipeline.fit(X_train,y_train)\n",
    "\n",
    "# Predict on the training and test datasets\n",
    "y_pred_train_nn = pipeline.predict(X_train)\n",
    "y_pred_test_nn = pipeline.predict(X_test)"
   ]
  },
  {
   "cell_type": "code",
   "execution_count": 106,
   "id": "078eebf8",
   "metadata": {
    "execution": {
     "iopub.execute_input": "2025-01-13T16:29:54.304019Z",
     "iopub.status.busy": "2025-01-13T16:29:54.303603Z",
     "iopub.status.idle": "2025-01-13T16:29:54.322008Z",
     "shell.execute_reply": "2025-01-13T16:29:54.320804Z"
    },
    "papermill": {
     "duration": 0.061755,
     "end_time": "2025-01-13T16:29:54.323818",
     "exception": false,
     "start_time": "2025-01-13T16:29:54.262063",
     "status": "completed"
    },
    "tags": []
   },
   "outputs": [
    {
     "name": "stdout",
     "output_type": "stream",
     "text": [
      "The R2 score on the training dataset prediction is:  0.9951973445481734\n",
      "The R2 score on the test dataset prediction is:  0.9946753241171059\n",
      "\n",
      "The RMSE on the training dataset is:  1.1651140821061556\n",
      "The RMSE on the testing dataset is:  1.2196096957589972\n",
      "\n",
      "The MAE on the training dataset is:  0.6922409204067184\n",
      "The MAE on the testing dataset is:  0.6998705007744287\n",
      "\n",
      "The MSE  on the training dataset is:  1.3574908243220694\n",
      "The MSE  on the testing dataset is:  1.4874478099893538\n"
     ]
    }
   ],
   "source": [
    "# Model Accuracy on training dataset\n",
    "print('The R2 score on the training dataset prediction is: ', r2_score(y_train, y_pred_train_nn))\n",
    "print('The R2 score on the test dataset prediction is: ', r2_score(y_test, y_pred_test_nn))\n",
    "print(\"\")\n",
    "\n",
    "# The Root Mean Squared Error (RMSE)\n",
    "print('The RMSE on the training dataset is: ', sqrt(mean_squared_error(y_train, y_pred_train_nn)))\n",
    "print('The RMSE on the testing dataset is: ', sqrt(mean_squared_error(y_test, y_pred_test_nn)))\n",
    "print(\"\")\n",
    "\n",
    "# The Mean Absolute Error (MAE)\n",
    "print('The MAE on the training dataset is: ', mean_absolute_error(y_train, y_pred_train_nn))\n",
    "print('The MAE on the testing dataset is: ', mean_absolute_error(y_test, y_pred_test_nn))\n",
    "\n",
    "print(\"\")\n",
    "# The Mean Squared Error (MSE)\n",
    "print('The MSE  on the training dataset is: ',mean_squared_error(y_train, y_pred_train_nn))\n",
    "print('The MSE  on the testing dataset is: ',mean_squared_error(y_test, y_pred_test_nn))"
   ]
  },
  {
   "cell_type": "code",
   "execution_count": null,
   "id": "7e2666c8",
   "metadata": {
    "papermill": {
     "duration": 0.038994,
     "end_time": "2025-01-13T16:29:54.402345",
     "exception": false,
     "start_time": "2025-01-13T16:29:54.363351",
     "status": "completed"
    },
    "tags": []
   },
   "outputs": [],
   "source": []
  },
  {
   "cell_type": "code",
   "execution_count": null,
   "id": "c277245e",
   "metadata": {
    "papermill": {
     "duration": 0.039741,
     "end_time": "2025-01-13T16:29:54.481304",
     "exception": false,
     "start_time": "2025-01-13T16:29:54.441563",
     "status": "completed"
    },
    "tags": []
   },
   "outputs": [],
   "source": []
  },
  {
   "cell_type": "code",
   "execution_count": null,
   "id": "6c4ec5e0",
   "metadata": {
    "papermill": {
     "duration": 0.038657,
     "end_time": "2025-01-13T16:29:54.559199",
     "exception": false,
     "start_time": "2025-01-13T16:29:54.520542",
     "status": "completed"
    },
    "tags": []
   },
   "outputs": [],
   "source": []
  },
  {
   "cell_type": "markdown",
   "id": "06a95f0b",
   "metadata": {
    "papermill": {
     "duration": 0.038696,
     "end_time": "2025-01-13T16:29:54.637362",
     "exception": false,
     "start_time": "2025-01-13T16:29:54.598666",
     "status": "completed"
    },
    "tags": []
   },
   "source": [
    "# **6.1. Splitting & Preprocessing the Raw Data**"
   ]
  },
  {
   "cell_type": "markdown",
   "id": "0769984d",
   "metadata": {
    "papermill": {
     "duration": 0.040887,
     "end_time": "2025-01-13T16:29:54.717107",
     "exception": false,
     "start_time": "2025-01-13T16:29:54.676220",
     "status": "completed"
    },
    "tags": []
   },
   "source": [
    "(Preprocess Pollution --> Smooth Pollution --> Calculate smooth aqi)"
   ]
  },
  {
   "cell_type": "code",
   "execution_count": 107,
   "id": "4d91d352",
   "metadata": {
    "execution": {
     "iopub.execute_input": "2025-01-13T16:29:54.797525Z",
     "iopub.status.busy": "2025-01-13T16:29:54.797087Z",
     "iopub.status.idle": "2025-01-13T16:29:54.812771Z",
     "shell.execute_reply": "2025-01-13T16:29:54.811621Z"
    },
    "papermill": {
     "duration": 0.058048,
     "end_time": "2025-01-13T16:29:54.814353",
     "exception": false,
     "start_time": "2025-01-13T16:29:54.756305",
     "status": "completed"
    },
    "tags": []
   },
   "outputs": [
    {
     "data": {
      "text/html": [
       "<div>\n",
       "<style scoped>\n",
       "    .dataframe tbody tr th:only-of-type {\n",
       "        vertical-align: middle;\n",
       "    }\n",
       "\n",
       "    .dataframe tbody tr th {\n",
       "        vertical-align: top;\n",
       "    }\n",
       "\n",
       "    .dataframe thead th {\n",
       "        text-align: right;\n",
       "    }\n",
       "</style>\n",
       "<table border=\"1\" class=\"dataframe\">\n",
       "  <thead>\n",
       "    <tr style=\"text-align: right;\">\n",
       "      <th></th>\n",
       "      <th>co</th>\n",
       "      <th>no2</th>\n",
       "      <th>o3</th>\n",
       "      <th>pm10</th>\n",
       "      <th>pm25</th>\n",
       "      <th>so2</th>\n",
       "      <th>humidity</th>\n",
       "      <th>pressure</th>\n",
       "      <th>temperature</th>\n",
       "      <th>wind-speed</th>\n",
       "      <th>Country_City</th>\n",
       "      <th>AQI_Smooth</th>\n",
       "    </tr>\n",
       "  </thead>\n",
       "  <tbody>\n",
       "    <tr>\n",
       "      <th>2014-12-29</th>\n",
       "      <td>2.920940</td>\n",
       "      <td>3.616667</td>\n",
       "      <td>15.333333</td>\n",
       "      <td>22.666667</td>\n",
       "      <td>32.000000</td>\n",
       "      <td>1.966667</td>\n",
       "      <td>76.126377</td>\n",
       "      <td>1017.086884</td>\n",
       "      <td>18.027986</td>\n",
       "      <td>3.545607</td>\n",
       "      <td>Australia_Newcastle</td>\n",
       "      <td>32.000000</td>\n",
       "    </tr>\n",
       "    <tr>\n",
       "      <th>2014-12-30</th>\n",
       "      <td>2.920940</td>\n",
       "      <td>3.616667</td>\n",
       "      <td>15.333333</td>\n",
       "      <td>22.666667</td>\n",
       "      <td>32.000000</td>\n",
       "      <td>1.966667</td>\n",
       "      <td>76.126377</td>\n",
       "      <td>1017.086884</td>\n",
       "      <td>18.027986</td>\n",
       "      <td>3.545607</td>\n",
       "      <td>Australia_Newcastle</td>\n",
       "      <td>32.000000</td>\n",
       "    </tr>\n",
       "    <tr>\n",
       "      <th>2014-12-31</th>\n",
       "      <td>2.920940</td>\n",
       "      <td>3.616667</td>\n",
       "      <td>15.333333</td>\n",
       "      <td>22.666667</td>\n",
       "      <td>32.000000</td>\n",
       "      <td>1.966667</td>\n",
       "      <td>76.126377</td>\n",
       "      <td>1017.086884</td>\n",
       "      <td>18.027986</td>\n",
       "      <td>3.545607</td>\n",
       "      <td>Australia_Newcastle</td>\n",
       "      <td>32.000000</td>\n",
       "    </tr>\n",
       "    <tr>\n",
       "      <th>2015-01-01</th>\n",
       "      <td>2.920940</td>\n",
       "      <td>3.616667</td>\n",
       "      <td>15.333333</td>\n",
       "      <td>22.666667</td>\n",
       "      <td>32.000000</td>\n",
       "      <td>1.966667</td>\n",
       "      <td>76.126377</td>\n",
       "      <td>1017.086884</td>\n",
       "      <td>18.027986</td>\n",
       "      <td>3.545607</td>\n",
       "      <td>Australia_Newcastle</td>\n",
       "      <td>32.000000</td>\n",
       "    </tr>\n",
       "    <tr>\n",
       "      <th>2015-01-02</th>\n",
       "      <td>2.964491</td>\n",
       "      <td>3.466667</td>\n",
       "      <td>14.816667</td>\n",
       "      <td>24.000000</td>\n",
       "      <td>34.166667</td>\n",
       "      <td>1.966667</td>\n",
       "      <td>76.126377</td>\n",
       "      <td>1017.086884</td>\n",
       "      <td>18.027986</td>\n",
       "      <td>3.545607</td>\n",
       "      <td>Australia_Newcastle</td>\n",
       "      <td>34.166667</td>\n",
       "    </tr>\n",
       "  </tbody>\n",
       "</table>\n",
       "</div>"
      ],
      "text/plain": [
       "                  co       no2         o3       pm10       pm25       so2  \\\n",
       "2014-12-29  2.920940  3.616667  15.333333  22.666667  32.000000  1.966667   \n",
       "2014-12-30  2.920940  3.616667  15.333333  22.666667  32.000000  1.966667   \n",
       "2014-12-31  2.920940  3.616667  15.333333  22.666667  32.000000  1.966667   \n",
       "2015-01-01  2.920940  3.616667  15.333333  22.666667  32.000000  1.966667   \n",
       "2015-01-02  2.964491  3.466667  14.816667  24.000000  34.166667  1.966667   \n",
       "\n",
       "             humidity     pressure  temperature  wind-speed  \\\n",
       "2014-12-29  76.126377  1017.086884    18.027986    3.545607   \n",
       "2014-12-30  76.126377  1017.086884    18.027986    3.545607   \n",
       "2014-12-31  76.126377  1017.086884    18.027986    3.545607   \n",
       "2015-01-01  76.126377  1017.086884    18.027986    3.545607   \n",
       "2015-01-02  76.126377  1017.086884    18.027986    3.545607   \n",
       "\n",
       "                   Country_City  AQI_Smooth  \n",
       "2014-12-29  Australia_Newcastle   32.000000  \n",
       "2014-12-30  Australia_Newcastle   32.000000  \n",
       "2014-12-31  Australia_Newcastle   32.000000  \n",
       "2015-01-01  Australia_Newcastle   32.000000  \n",
       "2015-01-02  Australia_Newcastle   34.166667  "
      ]
     },
     "execution_count": 107,
     "metadata": {},
     "output_type": "execute_result"
    }
   ],
   "source": [
    "new_smooth.head()"
   ]
  },
  {
   "cell_type": "code",
   "execution_count": 108,
   "id": "4409f124",
   "metadata": {
    "execution": {
     "iopub.execute_input": "2025-01-13T16:29:54.895515Z",
     "iopub.status.busy": "2025-01-13T16:29:54.895105Z",
     "iopub.status.idle": "2025-01-13T16:29:54.901002Z",
     "shell.execute_reply": "2025-01-13T16:29:54.899977Z"
    },
    "papermill": {
     "duration": 0.04811,
     "end_time": "2025-01-13T16:29:54.902553",
     "exception": false,
     "start_time": "2025-01-13T16:29:54.854443",
     "status": "completed"
    },
    "tags": []
   },
   "outputs": [
    {
     "data": {
      "text/plain": [
       "Index(['co', 'no2', 'o3', 'pm10', 'pm25', 'so2', 'humidity', 'pressure',\n",
       "       'temperature', 'wind-speed', 'Country_City', 'AQI_Smooth'],\n",
       "      dtype='object')"
      ]
     },
     "execution_count": 108,
     "metadata": {},
     "output_type": "execute_result"
    }
   ],
   "source": [
    "new_smooth.columns"
   ]
  },
  {
   "cell_type": "markdown",
   "id": "d4908621",
   "metadata": {
    "papermill": {
     "duration": 0.038926,
     "end_time": "2025-01-13T16:29:54.981093",
     "exception": false,
     "start_time": "2025-01-13T16:29:54.942167",
     "status": "completed"
    },
    "tags": []
   },
   "source": [
    "***Working with AQI_smoothed_iqr***"
   ]
  },
  {
   "cell_type": "code",
   "execution_count": 109,
   "id": "13804c7e",
   "metadata": {
    "execution": {
     "iopub.execute_input": "2025-01-13T16:29:55.061114Z",
     "iopub.status.busy": "2025-01-13T16:29:55.060722Z",
     "iopub.status.idle": "2025-01-13T16:29:55.066039Z",
     "shell.execute_reply": "2025-01-13T16:29:55.065027Z"
    },
    "papermill": {
     "duration": 0.047525,
     "end_time": "2025-01-13T16:29:55.067880",
     "exception": false,
     "start_time": "2025-01-13T16:29:55.020355",
     "status": "completed"
    },
    "tags": []
   },
   "outputs": [],
   "source": [
    "data = new_smooth.drop(['Country_City'],axis=1)"
   ]
  },
  {
   "cell_type": "code",
   "execution_count": 110,
   "id": "8c3758de",
   "metadata": {
    "execution": {
     "iopub.execute_input": "2025-01-13T16:29:55.150328Z",
     "iopub.status.busy": "2025-01-13T16:29:55.149949Z",
     "iopub.status.idle": "2025-01-13T16:29:55.165654Z",
     "shell.execute_reply": "2025-01-13T16:29:55.164617Z"
    },
    "papermill": {
     "duration": 0.058537,
     "end_time": "2025-01-13T16:29:55.167378",
     "exception": false,
     "start_time": "2025-01-13T16:29:55.108841",
     "status": "completed"
    },
    "tags": []
   },
   "outputs": [
    {
     "data": {
      "text/html": [
       "<div>\n",
       "<style scoped>\n",
       "    .dataframe tbody tr th:only-of-type {\n",
       "        vertical-align: middle;\n",
       "    }\n",
       "\n",
       "    .dataframe tbody tr th {\n",
       "        vertical-align: top;\n",
       "    }\n",
       "\n",
       "    .dataframe thead th {\n",
       "        text-align: right;\n",
       "    }\n",
       "</style>\n",
       "<table border=\"1\" class=\"dataframe\">\n",
       "  <thead>\n",
       "    <tr style=\"text-align: right;\">\n",
       "      <th></th>\n",
       "      <th>co</th>\n",
       "      <th>no2</th>\n",
       "      <th>o3</th>\n",
       "      <th>pm10</th>\n",
       "      <th>pm25</th>\n",
       "      <th>so2</th>\n",
       "      <th>humidity</th>\n",
       "      <th>pressure</th>\n",
       "      <th>temperature</th>\n",
       "      <th>wind-speed</th>\n",
       "      <th>AQI_Smooth</th>\n",
       "    </tr>\n",
       "  </thead>\n",
       "  <tbody>\n",
       "    <tr>\n",
       "      <th>2014-12-29</th>\n",
       "      <td>2.920940</td>\n",
       "      <td>3.616667</td>\n",
       "      <td>15.333333</td>\n",
       "      <td>22.666667</td>\n",
       "      <td>32.000000</td>\n",
       "      <td>1.966667</td>\n",
       "      <td>76.126377</td>\n",
       "      <td>1017.086884</td>\n",
       "      <td>18.027986</td>\n",
       "      <td>3.545607</td>\n",
       "      <td>32.000000</td>\n",
       "    </tr>\n",
       "    <tr>\n",
       "      <th>2014-12-30</th>\n",
       "      <td>2.920940</td>\n",
       "      <td>3.616667</td>\n",
       "      <td>15.333333</td>\n",
       "      <td>22.666667</td>\n",
       "      <td>32.000000</td>\n",
       "      <td>1.966667</td>\n",
       "      <td>76.126377</td>\n",
       "      <td>1017.086884</td>\n",
       "      <td>18.027986</td>\n",
       "      <td>3.545607</td>\n",
       "      <td>32.000000</td>\n",
       "    </tr>\n",
       "    <tr>\n",
       "      <th>2014-12-31</th>\n",
       "      <td>2.920940</td>\n",
       "      <td>3.616667</td>\n",
       "      <td>15.333333</td>\n",
       "      <td>22.666667</td>\n",
       "      <td>32.000000</td>\n",
       "      <td>1.966667</td>\n",
       "      <td>76.126377</td>\n",
       "      <td>1017.086884</td>\n",
       "      <td>18.027986</td>\n",
       "      <td>3.545607</td>\n",
       "      <td>32.000000</td>\n",
       "    </tr>\n",
       "    <tr>\n",
       "      <th>2015-01-01</th>\n",
       "      <td>2.920940</td>\n",
       "      <td>3.616667</td>\n",
       "      <td>15.333333</td>\n",
       "      <td>22.666667</td>\n",
       "      <td>32.000000</td>\n",
       "      <td>1.966667</td>\n",
       "      <td>76.126377</td>\n",
       "      <td>1017.086884</td>\n",
       "      <td>18.027986</td>\n",
       "      <td>3.545607</td>\n",
       "      <td>32.000000</td>\n",
       "    </tr>\n",
       "    <tr>\n",
       "      <th>2015-01-02</th>\n",
       "      <td>2.964491</td>\n",
       "      <td>3.466667</td>\n",
       "      <td>14.816667</td>\n",
       "      <td>24.000000</td>\n",
       "      <td>34.166667</td>\n",
       "      <td>1.966667</td>\n",
       "      <td>76.126377</td>\n",
       "      <td>1017.086884</td>\n",
       "      <td>18.027986</td>\n",
       "      <td>3.545607</td>\n",
       "      <td>34.166667</td>\n",
       "    </tr>\n",
       "  </tbody>\n",
       "</table>\n",
       "</div>"
      ],
      "text/plain": [
       "                  co       no2         o3       pm10       pm25       so2  \\\n",
       "2014-12-29  2.920940  3.616667  15.333333  22.666667  32.000000  1.966667   \n",
       "2014-12-30  2.920940  3.616667  15.333333  22.666667  32.000000  1.966667   \n",
       "2014-12-31  2.920940  3.616667  15.333333  22.666667  32.000000  1.966667   \n",
       "2015-01-01  2.920940  3.616667  15.333333  22.666667  32.000000  1.966667   \n",
       "2015-01-02  2.964491  3.466667  14.816667  24.000000  34.166667  1.966667   \n",
       "\n",
       "             humidity     pressure  temperature  wind-speed  AQI_Smooth  \n",
       "2014-12-29  76.126377  1017.086884    18.027986    3.545607   32.000000  \n",
       "2014-12-30  76.126377  1017.086884    18.027986    3.545607   32.000000  \n",
       "2014-12-31  76.126377  1017.086884    18.027986    3.545607   32.000000  \n",
       "2015-01-01  76.126377  1017.086884    18.027986    3.545607   32.000000  \n",
       "2015-01-02  76.126377  1017.086884    18.027986    3.545607   34.166667  "
      ]
     },
     "execution_count": 110,
     "metadata": {},
     "output_type": "execute_result"
    }
   ],
   "source": [
    "data.head()"
   ]
  },
  {
   "cell_type": "code",
   "execution_count": 111,
   "id": "7bc8302f",
   "metadata": {
    "execution": {
     "iopub.execute_input": "2025-01-13T16:29:55.248283Z",
     "iopub.status.busy": "2025-01-13T16:29:55.247907Z",
     "iopub.status.idle": "2025-01-13T16:29:55.256240Z",
     "shell.execute_reply": "2025-01-13T16:29:55.254614Z"
    },
    "papermill": {
     "duration": 0.050701,
     "end_time": "2025-01-13T16:29:55.258049",
     "exception": false,
     "start_time": "2025-01-13T16:29:55.207348",
     "status": "completed"
    },
    "tags": []
   },
   "outputs": [
    {
     "name": "stdout",
     "output_type": "stream",
     "text": [
      "Index(['co', 'no2', 'o3', 'pm10', 'pm25', 'so2', 'humidity', 'pressure',\n",
      "       'temperature', 'wind-speed', 'AQI_Smooth'],\n",
      "      dtype='object')\n",
      "Index([], dtype='object')\n"
     ]
    }
   ],
   "source": [
    "num = data.select_dtypes(include=['int16', 'int32', 'int64', 'float16', 'float32', 'float64'])\n",
    "cat = data.select_dtypes(include=['object'])\n",
    "\n",
    "print(num.columns)\n",
    "print(cat.columns)"
   ]
  },
  {
   "cell_type": "code",
   "execution_count": 112,
   "id": "79b03a5e",
   "metadata": {
    "execution": {
     "iopub.execute_input": "2025-01-13T16:29:55.342046Z",
     "iopub.status.busy": "2025-01-13T16:29:55.341662Z",
     "iopub.status.idle": "2025-01-13T16:29:55.352669Z",
     "shell.execute_reply": "2025-01-13T16:29:55.351458Z"
    },
    "papermill": {
     "duration": 0.054272,
     "end_time": "2025-01-13T16:29:55.354308",
     "exception": false,
     "start_time": "2025-01-13T16:29:55.300036",
     "status": "completed"
    },
    "tags": []
   },
   "outputs": [
    {
     "name": "stdout",
     "output_type": "stream",
     "text": [
      "(2932, 10) (2932,) (733, 10) (733,)\n"
     ]
    }
   ],
   "source": [
    "X = data[['co', 'no2', 'o3', 'pm10', 'pm25', 'so2', 'humidity', 'pressure',\n",
    "       'temperature', 'wind-speed']]\n",
    "\n",
    "y = data['AQI_Smooth']\n",
    "\n",
    "X_train, X_test, y_train, y_test = train_test_split(X, y, test_size = 0.2, random_state = 42)\n",
    "\n",
    "print(X_train.shape, y_train.shape, X_test.shape, y_test.shape)"
   ]
  },
  {
   "cell_type": "code",
   "execution_count": 113,
   "id": "4e547044",
   "metadata": {
    "execution": {
     "iopub.execute_input": "2025-01-13T16:29:55.436695Z",
     "iopub.status.busy": "2025-01-13T16:29:55.436257Z",
     "iopub.status.idle": "2025-01-13T16:29:55.441755Z",
     "shell.execute_reply": "2025-01-13T16:29:55.440361Z"
    },
    "papermill": {
     "duration": 0.048924,
     "end_time": "2025-01-13T16:29:55.443736",
     "exception": false,
     "start_time": "2025-01-13T16:29:55.394812",
     "status": "completed"
    },
    "tags": []
   },
   "outputs": [],
   "source": [
    "# Preprocessor without scaling\n",
    "preprocessor = ColumnTransformer(\n",
    "    transformers=[\n",
    "        ('num', 'passthrough', ['co', 'no2', 'o3', 'pm10', 'pm25', 'so2', 'humidity', \n",
    "                                'pressure', 'temperature', 'wind-speed'])\n",
    "    ])\n",
    "# Pipeline\n",
    "pipeline = Pipeline(steps=[\n",
    "    ('preprocessor', preprocessor)\n",
    "])"
   ]
  },
  {
   "cell_type": "markdown",
   "id": "f691cf80",
   "metadata": {
    "papermill": {
     "duration": 0.039596,
     "end_time": "2025-01-13T16:29:55.524252",
     "exception": false,
     "start_time": "2025-01-13T16:29:55.484656",
     "status": "completed"
    },
    "tags": []
   },
   "source": [
    "# **6.2. Model Training & Testing**"
   ]
  },
  {
   "cell_type": "markdown",
   "id": "08ac0b63",
   "metadata": {
    "papermill": {
     "duration": 0.039996,
     "end_time": "2025-01-13T16:29:55.604398",
     "exception": false,
     "start_time": "2025-01-13T16:29:55.564402",
     "status": "completed"
    },
    "tags": []
   },
   "source": [
    "## **6.2.1. LinearRegression**"
   ]
  },
  {
   "cell_type": "code",
   "execution_count": 114,
   "id": "62fd6a49",
   "metadata": {
    "execution": {
     "iopub.execute_input": "2025-01-13T16:29:55.685397Z",
     "iopub.status.busy": "2025-01-13T16:29:55.685043Z",
     "iopub.status.idle": "2025-01-13T16:29:55.711103Z",
     "shell.execute_reply": "2025-01-13T16:29:55.708534Z"
    },
    "papermill": {
     "duration": 0.069562,
     "end_time": "2025-01-13T16:29:55.713525",
     "exception": false,
     "start_time": "2025-01-13T16:29:55.643963",
     "status": "completed"
    },
    "tags": []
   },
   "outputs": [],
   "source": [
    "# training with LinearRegression\n",
    "\n",
    "lm = LinearRegression(fit_intercept = True)\n",
    "\n",
    "pipeline = Pipeline(steps=[('preprocessor', preprocessor), ('regressor', lm)])\n",
    "\n",
    "# Fit the pipeline to the training data\n",
    "pipeline.fit(X_train,y_train)\n",
    "\n",
    "# Predict on the training and test datasets\n",
    "y_pred_train_lm = pipeline.predict(X_train)\n",
    "y_pred_test_lm = pipeline.predict(X_test)"
   ]
  },
  {
   "cell_type": "code",
   "execution_count": 115,
   "id": "aa7dcf73",
   "metadata": {
    "execution": {
     "iopub.execute_input": "2025-01-13T16:29:55.876164Z",
     "iopub.status.busy": "2025-01-13T16:29:55.875802Z",
     "iopub.status.idle": "2025-01-13T16:29:55.891387Z",
     "shell.execute_reply": "2025-01-13T16:29:55.890084Z"
    },
    "papermill": {
     "duration": 0.058848,
     "end_time": "2025-01-13T16:29:55.893172",
     "exception": false,
     "start_time": "2025-01-13T16:29:55.834324",
     "status": "completed"
    },
    "tags": []
   },
   "outputs": [
    {
     "name": "stdout",
     "output_type": "stream",
     "text": [
      "The r2 Accuracy on the training dataset prediction is:  0.9988762416029494\n",
      "The r2 Accuracy on the test dataset prediction is:  0.9991095052912659\n",
      "\n",
      "The RMSE  on the training dataset is:  0.5017093952213822\n",
      "The RMSE  on the testing dataset is:  0.4477365376688324\n",
      "\n",
      "The MAE  on the training dataset is:  0.274953137915057\n",
      "The MAE  on the testing dataset is:  0.25577240180500205\n",
      "\n",
      "The MSE  on the training dataset is:  0.25171231725340515\n",
      "The MSE  on the testing dataset is:  0.2004680071636738\n"
     ]
    }
   ],
   "source": [
    "# Model Accuracy on training and testing dataset\n",
    "\n",
    "print('The r2 Accuracy on the training dataset prediction is: ',r2_score(y_train,y_pred_train_lm) )\n",
    "print('The r2 Accuracy on the test dataset prediction is: ',r2_score(y_test,y_pred_test_lm) )\n",
    "\n",
    "print(\"\")\n",
    "\n",
    "# The Root Mean Squared Error (RMSE)\n",
    "print('The RMSE  on the training dataset is: ',sqrt(mean_squared_error(y_train, y_pred_train_lm)))\n",
    "print('The RMSE  on the testing dataset is: ',sqrt(mean_squared_error(y_test, y_pred_test_lm)))\n",
    "\n",
    "print(\"\")\n",
    "# The Mean Absolute Error (MAE)\n",
    "print('The MAE  on the training dataset is: ',mean_absolute_error(y_train, y_pred_train_lm))\n",
    "print('The MAE  on the testing dataset is: ',mean_absolute_error(y_test, y_pred_test_lm))\n",
    "\n",
    "print(\"\")\n",
    "# The Mean Squared Error (MSE)\n",
    "print('The MSE  on the training dataset is: ',mean_squared_error(y_train, y_pred_train_lm))\n",
    "print('The MSE  on the testing dataset is: ',mean_squared_error(y_test, y_pred_test_lm))"
   ]
  },
  {
   "cell_type": "markdown",
   "id": "4a240b6b",
   "metadata": {
    "papermill": {
     "duration": 0.039483,
     "end_time": "2025-01-13T16:29:55.973150",
     "exception": false,
     "start_time": "2025-01-13T16:29:55.933667",
     "status": "completed"
    },
    "tags": []
   },
   "source": [
    "## **6.2.2.  KNeighborsRegressor**"
   ]
  },
  {
   "cell_type": "code",
   "execution_count": 116,
   "id": "a017c304",
   "metadata": {
    "execution": {
     "iopub.execute_input": "2025-01-13T16:29:56.054678Z",
     "iopub.status.busy": "2025-01-13T16:29:56.054279Z",
     "iopub.status.idle": "2025-01-13T16:29:56.099770Z",
     "shell.execute_reply": "2025-01-13T16:29:56.098733Z"
    },
    "papermill": {
     "duration": 0.088241,
     "end_time": "2025-01-13T16:29:56.101526",
     "exception": false,
     "start_time": "2025-01-13T16:29:56.013285",
     "status": "completed"
    },
    "tags": []
   },
   "outputs": [],
   "source": [
    "# training with KNeighborsRegressor\n",
    "\n",
    "neigh = KNeighborsRegressor(n_neighbors=2)\n",
    "\n",
    "pipeline = Pipeline(steps=[('preprocessor', preprocessor), ('regressor', neigh)])\n",
    "\n",
    "# Fit the pipeline to the training data\n",
    "pipeline.fit(X_train,y_train)\n",
    "\n",
    "# Predict on the training and test datasets\n",
    "y_pred_train_knn = pipeline.predict(X_train)\n",
    "y_pred_test_knn = pipeline.predict(X_test)"
   ]
  },
  {
   "cell_type": "code",
   "execution_count": 117,
   "id": "290d2819",
   "metadata": {
    "execution": {
     "iopub.execute_input": "2025-01-13T16:29:56.184063Z",
     "iopub.status.busy": "2025-01-13T16:29:56.183689Z",
     "iopub.status.idle": "2025-01-13T16:29:56.199065Z",
     "shell.execute_reply": "2025-01-13T16:29:56.197772Z"
    },
    "papermill": {
     "duration": 0.058163,
     "end_time": "2025-01-13T16:29:56.200921",
     "exception": false,
     "start_time": "2025-01-13T16:29:56.142758",
     "status": "completed"
    },
    "tags": []
   },
   "outputs": [
    {
     "name": "stdout",
     "output_type": "stream",
     "text": [
      "The R2 score on the training dataset prediction is:  0.9979676668960807\n",
      "The R2 score on the test dataset prediction is:  0.9948211506862064\n",
      "\n",
      "The RMSE  on the training dataset is:  0.6747038752040818\n",
      "The RMSE  on the testing dataset is:  1.079750719989159\n",
      "\n",
      "The MAE  on the training dataset is:  0.42387272413560323\n",
      "The MAE  on the testing dataset is:  0.6660650683428141\n",
      "\n",
      "The MSE  on the training dataset is:  0.45522531921540516\n",
      "The MSE  on the testing dataset is:  1.165861617317107\n"
     ]
    }
   ],
   "source": [
    "# Model Accuracy on training dataset\n",
    "print('The R2 score on the training dataset prediction is: ', r2_score(y_train,y_pred_train_knn))\n",
    "print('The R2 score on the test dataset prediction is: ', r2_score(y_test, y_pred_test_knn))\n",
    "print(\"\")\n",
    "\n",
    "# The Root Mean Squared Error (RMSE)\n",
    "print('The RMSE  on the training dataset is: ',sqrt(mean_squared_error(y_train,y_pred_train_knn)))\n",
    "print('The RMSE  on the testing dataset is: ',sqrt(mean_squared_error(y_test, y_pred_test_knn)))\n",
    "\n",
    "print(\"\")\n",
    "# The Mean Absolute Error (MAE)\n",
    "print('The MAE  on the training dataset is: ',mean_absolute_error(y_train,y_pred_train_knn))\n",
    "print('The MAE  on the testing dataset is: ',mean_absolute_error(y_test, y_pred_test_knn))\n",
    "\n",
    "print(\"\")\n",
    "# The Mean Squared Error (MSE)\n",
    "print('The MSE  on the training dataset is: ',mean_squared_error(y_train, y_pred_train_knn))\n",
    "print('The MSE  on the testing dataset is: ',mean_squared_error(y_test, y_pred_test_knn))"
   ]
  },
  {
   "cell_type": "markdown",
   "id": "31e52c2e",
   "metadata": {
    "papermill": {
     "duration": 0.04031,
     "end_time": "2025-01-13T16:29:56.281439",
     "exception": false,
     "start_time": "2025-01-13T16:29:56.241129",
     "status": "completed"
    },
    "tags": []
   },
   "source": [
    "## **6.2.3.  Random Forest Regressor**"
   ]
  },
  {
   "cell_type": "code",
   "execution_count": 118,
   "id": "c650afbb",
   "metadata": {
    "execution": {
     "iopub.execute_input": "2025-01-13T16:29:56.367213Z",
     "iopub.status.busy": "2025-01-13T16:29:56.366865Z",
     "iopub.status.idle": "2025-01-13T16:29:57.379225Z",
     "shell.execute_reply": "2025-01-13T16:29:57.378023Z"
    },
    "papermill": {
     "duration": 1.056116,
     "end_time": "2025-01-13T16:29:57.381229",
     "exception": false,
     "start_time": "2025-01-13T16:29:56.325113",
     "status": "completed"
    },
    "tags": []
   },
   "outputs": [],
   "source": [
    "# Training with random forest regressor\n",
    "random = RandomForestRegressor()\n",
    "\n",
    "pipeline = Pipeline(steps=[('preprocessor', preprocessor), ('regressor', random)])\n",
    "\n",
    "# Fit the pipeline to the training data\n",
    "pipeline.fit(X_train,y_train)\n",
    "\n",
    "# Predict on the training and test datasets\n",
    "y_pred_train_random = pipeline.predict(X_train)\n",
    "y_pred_test_random = pipeline.predict(X_test)"
   ]
  },
  {
   "cell_type": "code",
   "execution_count": 119,
   "id": "b7e471ee",
   "metadata": {
    "execution": {
     "iopub.execute_input": "2025-01-13T16:29:57.463320Z",
     "iopub.status.busy": "2025-01-13T16:29:57.462970Z",
     "iopub.status.idle": "2025-01-13T16:29:57.478500Z",
     "shell.execute_reply": "2025-01-13T16:29:57.477022Z"
    },
    "papermill": {
     "duration": 0.058528,
     "end_time": "2025-01-13T16:29:57.480324",
     "exception": false,
     "start_time": "2025-01-13T16:29:57.421796",
     "status": "completed"
    },
    "tags": []
   },
   "outputs": [
    {
     "name": "stdout",
     "output_type": "stream",
     "text": [
      "The R2 score on the training dataset prediction is:  0.999935302374378\n",
      "The R2 score on the test dataset prediction is:  0.9996523315749265\n",
      "\n",
      "The RMSE  on the training dataset is:  0.12038154980574083\n",
      "The RMSE  on the testing dataset is:  0.2797624934375777\n",
      "\n",
      "The MAE  on the training dataset is:  0.01590013706605905\n",
      "The MAE  on the testing dataset is:  0.036933750531350194\n",
      "\n",
      "The MSE  on the training dataset is:  0.01449171753363206\n",
      "The MSE  on the testing dataset is:  0.07826705273441072\n"
     ]
    }
   ],
   "source": [
    "# Model Accuracy on training dataset\n",
    "print('The R2 score on the training dataset prediction is: ', r2_score(y_train,y_pred_train_random))\n",
    "print('The R2 score on the test dataset prediction is: ', r2_score(y_test, y_pred_test_random))\n",
    "print(\"\")\n",
    "\n",
    "# The Root Mean Squared Error (RMSE)\n",
    "print('The RMSE  on the training dataset is: ',sqrt(mean_squared_error(y_train,y_pred_train_random)))\n",
    "print('The RMSE  on the testing dataset is: ',sqrt(mean_squared_error(y_test, y_pred_test_random)))\n",
    "\n",
    "print(\"\")\n",
    "# The Mean Absolute Error (MAE)\n",
    "print('The MAE  on the training dataset is: ',mean_absolute_error(y_train,y_pred_train_random))\n",
    "print('The MAE  on the testing dataset is: ',mean_absolute_error(y_test, y_pred_test_random))\n",
    "\n",
    "print(\"\")\n",
    "# The Mean Squared Error (MSE)\n",
    "print('The MSE  on the training dataset is: ',mean_squared_error(y_train, y_pred_train_random))\n",
    "print('The MSE  on the testing dataset is: ',mean_squared_error(y_test, y_pred_test_random))"
   ]
  },
  {
   "cell_type": "markdown",
   "id": "07506034",
   "metadata": {
    "papermill": {
     "duration": 0.039752,
     "end_time": "2025-01-13T16:29:57.560423",
     "exception": false,
     "start_time": "2025-01-13T16:29:57.520671",
     "status": "completed"
    },
    "tags": []
   },
   "source": [
    "## **6.2.4.  Decision Tree regressor**"
   ]
  },
  {
   "cell_type": "code",
   "execution_count": 120,
   "id": "a9a912a5",
   "metadata": {
    "execution": {
     "iopub.execute_input": "2025-01-13T16:29:57.641725Z",
     "iopub.status.busy": "2025-01-13T16:29:57.641349Z",
     "iopub.status.idle": "2025-01-13T16:29:57.666947Z",
     "shell.execute_reply": "2025-01-13T16:29:57.665869Z"
    },
    "papermill": {
     "duration": 0.068348,
     "end_time": "2025-01-13T16:29:57.668994",
     "exception": false,
     "start_time": "2025-01-13T16:29:57.600646",
     "status": "completed"
    },
    "tags": []
   },
   "outputs": [],
   "source": [
    "# Training with Decision Tree regressor\n",
    "dt = DecisionTreeRegressor()\n",
    "\n",
    "pipeline = Pipeline(steps=[('preprocessor', preprocessor), ('regressor', dt)])\n",
    "\n",
    "# Fit the pipeline to the training data\n",
    "pipeline.fit(X_train,y_train)\n",
    "\n",
    "# Predict on the training and test datasets\n",
    "y_pred_train_dt = pipeline.predict(X_train)\n",
    "y_pred_test_dt = pipeline.predict(X_test)"
   ]
  },
  {
   "cell_type": "code",
   "execution_count": 121,
   "id": "65497bb3",
   "metadata": {
    "execution": {
     "iopub.execute_input": "2025-01-13T16:29:57.751095Z",
     "iopub.status.busy": "2025-01-13T16:29:57.750743Z",
     "iopub.status.idle": "2025-01-13T16:29:57.765151Z",
     "shell.execute_reply": "2025-01-13T16:29:57.763730Z"
    },
    "papermill": {
     "duration": 0.057312,
     "end_time": "2025-01-13T16:29:57.767004",
     "exception": false,
     "start_time": "2025-01-13T16:29:57.709692",
     "status": "completed"
    },
    "tags": []
   },
   "outputs": [
    {
     "name": "stdout",
     "output_type": "stream",
     "text": [
      "The R2 score on the training dataset prediction is:  1.0\n",
      "The R2 score on the test dataset prediction is:  0.9992543924553693\n",
      "\n",
      "The RMSE  on the training dataset is:  2.367238515717083e-15\n",
      "The RMSE  on the testing dataset is:  0.40969627174835915\n",
      "\n",
      "The MAE  on the training dataset is:  1.0814450744643407e-15\n",
      "The MAE  on the testing dataset is:  0.05132139534929691\n",
      "\n",
      "The MSE  on the training dataset is:  5.603818190294418e-30\n",
      "The MSE  on the testing dataset is:  0.16785103508450533\n"
     ]
    }
   ],
   "source": [
    "# Model Accuracy on training dataset\n",
    "print('The R2 score on the training dataset prediction is: ', r2_score(y_train,y_pred_train_dt))\n",
    "print('The R2 score on the test dataset prediction is: ', r2_score(y_test, y_pred_test_dt))\n",
    "print(\"\")\n",
    "\n",
    "# The Root Mean Squared Error (RMSE)\n",
    "print('The RMSE  on the training dataset is: ',sqrt(mean_squared_error(y_train,y_pred_train_dt)))\n",
    "print('The RMSE  on the testing dataset is: ',sqrt(mean_squared_error(y_test, y_pred_test_dt)))\n",
    "\n",
    "print(\"\")\n",
    "# The Mean Absolute Error (MAE)\n",
    "print('The MAE  on the training dataset is: ',mean_absolute_error(y_train,y_pred_train_dt))\n",
    "print('The MAE  on the testing dataset is: ',mean_absolute_error(y_test, y_pred_test_dt))\n",
    "\n",
    "print(\"\")\n",
    "# The Mean Squared Error (MSE)\n",
    "print('The MSE  on the training dataset is: ',mean_squared_error(y_train, y_pred_train_dt))\n",
    "print('The MSE  on the testing dataset is: ',mean_squared_error(y_test, y_pred_test_dt))"
   ]
  },
  {
   "cell_type": "markdown",
   "id": "bcfb8094",
   "metadata": {
    "papermill": {
     "duration": 0.040094,
     "end_time": "2025-01-13T16:29:57.848025",
     "exception": false,
     "start_time": "2025-01-13T16:29:57.807931",
     "status": "completed"
    },
    "tags": []
   },
   "source": [
    "## **6.2.5.  Support Vector Machine regressor**"
   ]
  },
  {
   "cell_type": "code",
   "execution_count": 122,
   "id": "5be8a865",
   "metadata": {
    "execution": {
     "iopub.execute_input": "2025-01-13T16:29:57.929796Z",
     "iopub.status.busy": "2025-01-13T16:29:57.929241Z",
     "iopub.status.idle": "2025-01-13T16:30:03.965993Z",
     "shell.execute_reply": "2025-01-13T16:30:03.964639Z"
    },
    "papermill": {
     "duration": 6.080087,
     "end_time": "2025-01-13T16:30:03.968196",
     "exception": false,
     "start_time": "2025-01-13T16:29:57.888109",
     "status": "completed"
    },
    "tags": []
   },
   "outputs": [],
   "source": [
    "# Training with Support Vector Machine regressor\n",
    "svr = SVR(kernel='linear')\n",
    "\n",
    "pipeline = Pipeline(steps=[('preprocessor', preprocessor), ('regressor', svr)])\n",
    "\n",
    "# Fit the pipeline to the training data\n",
    "pipeline.fit(X_train, y_train)\n",
    "\n",
    "# Predict on the training and test datasets\n",
    "y_pred_train_svr = pipeline.predict(X_train)\n",
    "y_pred_test_svr = pipeline.predict(X_test)"
   ]
  },
  {
   "cell_type": "code",
   "execution_count": 123,
   "id": "a0edeb3f",
   "metadata": {
    "execution": {
     "iopub.execute_input": "2025-01-13T16:30:04.051099Z",
     "iopub.status.busy": "2025-01-13T16:30:04.050708Z",
     "iopub.status.idle": "2025-01-13T16:30:04.066876Z",
     "shell.execute_reply": "2025-01-13T16:30:04.065746Z"
    },
    "papermill": {
     "duration": 0.059476,
     "end_time": "2025-01-13T16:30:04.068713",
     "exception": false,
     "start_time": "2025-01-13T16:30:04.009237",
     "status": "completed"
    },
    "tags": []
   },
   "outputs": [
    {
     "name": "stdout",
     "output_type": "stream",
     "text": [
      "The R2 score on the training dataset prediction is:  0.9207712234008976\n",
      "The R2 score on the test dataset prediction is:  0.9230657485474713\n",
      "\n",
      "The RMSE on the training dataset is:  4.21266800091349\n",
      "The RMSE on the testing dataset is:  4.1616612932598605\n",
      "\n",
      "The MAE on the training dataset is:  3.1224744902242794\n",
      "The MAE on the testing dataset is:  3.1153742502187596\n",
      "\n",
      "The MSE  on the training dataset is:  17.746571685920454\n",
      "The MSE  on the testing dataset is:  17.319424719817334\n"
     ]
    }
   ],
   "source": [
    "# Model Accuracy on training dataset\n",
    "print('The R2 score on the training dataset prediction is: ', r2_score(y_train, y_pred_train_svr))\n",
    "print('The R2 score on the test dataset prediction is: ', r2_score(y_test, y_pred_test_svr))\n",
    "print(\"\")\n",
    "\n",
    "# The Root Mean Squared Error (RMSE)\n",
    "print('The RMSE on the training dataset is: ', sqrt(mean_squared_error(y_train, y_pred_train_svr)))\n",
    "print('The RMSE on the testing dataset is: ', sqrt(mean_squared_error(y_test, y_pred_test_svr)))\n",
    "print(\"\")\n",
    "\n",
    "# The Mean Absolute Error (MAE)\n",
    "print('The MAE on the training dataset is: ', mean_absolute_error(y_train, y_pred_train_svr))\n",
    "print('The MAE on the testing dataset is: ', mean_absolute_error(y_test, y_pred_test_svr))\n",
    "\n",
    "print(\"\")\n",
    "# The Mean Squared Error (MSE)\n",
    "print('The MSE  on the training dataset is: ',mean_squared_error(y_train, y_pred_train_svr))\n",
    "print('The MSE  on the testing dataset is: ',mean_squared_error(y_test, y_pred_test_svr))"
   ]
  },
  {
   "cell_type": "markdown",
   "id": "92d7eb76",
   "metadata": {
    "papermill": {
     "duration": 0.040825,
     "end_time": "2025-01-13T16:30:04.150800",
     "exception": false,
     "start_time": "2025-01-13T16:30:04.109975",
     "status": "completed"
    },
    "tags": []
   },
   "source": [
    "## **6.2.6.  XGBoost Regressor**"
   ]
  },
  {
   "cell_type": "code",
   "execution_count": 124,
   "id": "fe8debc7",
   "metadata": {
    "execution": {
     "iopub.execute_input": "2025-01-13T16:30:04.236150Z",
     "iopub.status.busy": "2025-01-13T16:30:04.235775Z",
     "iopub.status.idle": "2025-01-13T16:30:04.380930Z",
     "shell.execute_reply": "2025-01-13T16:30:04.380029Z"
    },
    "papermill": {
     "duration": 0.189558,
     "end_time": "2025-01-13T16:30:04.383219",
     "exception": false,
     "start_time": "2025-01-13T16:30:04.193661",
     "status": "completed"
    },
    "tags": []
   },
   "outputs": [],
   "source": [
    "# Training with XGBoost regressor\n",
    "xgb_regressor = XGBRegressor(objective='reg:squarederror')\n",
    "\n",
    "pipeline = Pipeline(steps=[('preprocessor', preprocessor), ('regressor', xgb_regressor)])\n",
    "\n",
    "# Fit the pipeline to the training data\n",
    "pipeline.fit(X_train, y_train)\n",
    "\n",
    "# Predict on the training and test datasets\n",
    "y_pred_train_xgb = pipeline.predict(X_train)\n",
    "y_pred_test_xgb = pipeline.predict(X_test)"
   ]
  },
  {
   "cell_type": "code",
   "execution_count": 125,
   "id": "cf41f924",
   "metadata": {
    "execution": {
     "iopub.execute_input": "2025-01-13T16:30:04.471130Z",
     "iopub.status.busy": "2025-01-13T16:30:04.470746Z",
     "iopub.status.idle": "2025-01-13T16:30:04.489832Z",
     "shell.execute_reply": "2025-01-13T16:30:04.488448Z"
    },
    "papermill": {
     "duration": 0.063968,
     "end_time": "2025-01-13T16:30:04.491883",
     "exception": false,
     "start_time": "2025-01-13T16:30:04.427915",
     "status": "completed"
    },
    "tags": []
   },
   "outputs": [
    {
     "name": "stdout",
     "output_type": "stream",
     "text": [
      "The R2 score on the training dataset prediction is:  0.9999964637715734\n",
      "The R2 score on the test dataset prediction is:  0.9994999163576812\n",
      "\n",
      "The RMSE on the training dataset is:  0.028144005981225472\n",
      "The RMSE on the testing dataset is:  0.33552755292250036\n",
      "\n",
      "The MAE on the training dataset is:  0.0169450034831701\n",
      "The MAE on the testing dataset is:  0.08782131577908157\n",
      "\n",
      "The MSE  on the training dataset is:  0.0007920850726712552\n",
      "The MSE  on the testing dataset is:  0.1125787387701613\n"
     ]
    }
   ],
   "source": [
    "# Model Accuracy on training dataset\n",
    "print('The R2 score on the training dataset prediction is: ', r2_score(y_train, y_pred_train_xgb))\n",
    "print('The R2 score on the test dataset prediction is: ', r2_score(y_test, y_pred_test_xgb))\n",
    "print(\"\")\n",
    "\n",
    "# The Root Mean Squared Error (RMSE)\n",
    "print('The RMSE on the training dataset is: ', sqrt(mean_squared_error(y_train, y_pred_train_xgb)))\n",
    "print('The RMSE on the testing dataset is: ', sqrt(mean_squared_error(y_test, y_pred_test_xgb)))\n",
    "print(\"\")\n",
    "\n",
    "# The Mean Absolute Error (MAE)\n",
    "print('The MAE on the training dataset is: ', mean_absolute_error(y_train, y_pred_train_xgb))\n",
    "print('The MAE on the testing dataset is: ', mean_absolute_error(y_test, y_pred_test_xgb))\n",
    "\n",
    "print(\"\")\n",
    "# The Mean Squared Error (MSE)\n",
    "print('The MSE  on the training dataset is: ',mean_squared_error(y_train, y_pred_train_xgb))\n",
    "print('The MSE  on the testing dataset is: ',mean_squared_error(y_test, y_pred_test_xgb))"
   ]
  },
  {
   "cell_type": "markdown",
   "id": "cc620179",
   "metadata": {
    "papermill": {
     "duration": 0.042335,
     "end_time": "2025-01-13T16:30:04.574712",
     "exception": false,
     "start_time": "2025-01-13T16:30:04.532377",
     "status": "completed"
    },
    "tags": []
   },
   "source": [
    "## **6.2.7.  Neural Network Regressor**"
   ]
  },
  {
   "cell_type": "code",
   "execution_count": 126,
   "id": "63d15645",
   "metadata": {
    "execution": {
     "iopub.execute_input": "2025-01-13T16:30:04.659674Z",
     "iopub.status.busy": "2025-01-13T16:30:04.659238Z",
     "iopub.status.idle": "2025-01-13T16:30:06.466937Z",
     "shell.execute_reply": "2025-01-13T16:30:06.465279Z"
    },
    "papermill": {
     "duration": 1.85322,
     "end_time": "2025-01-13T16:30:06.470172",
     "exception": false,
     "start_time": "2025-01-13T16:30:04.616952",
     "status": "completed"
    },
    "tags": []
   },
   "outputs": [],
   "source": [
    "# training with neural network regressor\n",
    "\n",
    "nn = MLPRegressor(hidden_layer_sizes=(8,), activation='relu', solver='adam', max_iter=2000, learning_rate_init=0.001)\n",
    "\n",
    "pipeline = Pipeline(steps=[('preprocessor', preprocessor), ('regressor', nn)])\n",
    "\n",
    "# Fit the pipeline to the training data\n",
    "pipeline.fit(X_train,y_train)\n",
    "\n",
    "# Predict on the training and test datasets\n",
    "y_pred_train_nn = pipeline.predict(X_train)\n",
    "y_pred_test_nn = pipeline.predict(X_test)"
   ]
  },
  {
   "cell_type": "code",
   "execution_count": 127,
   "id": "14515a59",
   "metadata": {
    "execution": {
     "iopub.execute_input": "2025-01-13T16:30:06.634515Z",
     "iopub.status.busy": "2025-01-13T16:30:06.633974Z",
     "iopub.status.idle": "2025-01-13T16:30:06.652194Z",
     "shell.execute_reply": "2025-01-13T16:30:06.650780Z"
    },
    "papermill": {
     "duration": 0.065703,
     "end_time": "2025-01-13T16:30:06.654161",
     "exception": false,
     "start_time": "2025-01-13T16:30:06.588458",
     "status": "completed"
    },
    "tags": []
   },
   "outputs": [
    {
     "name": "stdout",
     "output_type": "stream",
     "text": [
      "The R2 score on the training dataset prediction is:  0.9992687537876884\n",
      "The R2 score on the test dataset prediction is:  0.9994601649754951\n",
      "\n",
      "The RMSE on the training dataset is:  0.4047133903466778\n",
      "The RMSE on the testing dataset is:  0.3486080359245625\n",
      "\n",
      "The MAE on the training dataset is:  0.2505906730859179\n",
      "The MAE on the testing dataset is:  0.23221261872944093\n",
      "\n",
      "The MSE  on the training dataset is:  0.16379292832590242\n",
      "The MSE  on the testing dataset is:  0.12152756271118106\n"
     ]
    }
   ],
   "source": [
    "# Model Accuracy on training dataset\n",
    "print('The R2 score on the training dataset prediction is: ', r2_score(y_train, y_pred_train_nn))\n",
    "print('The R2 score on the test dataset prediction is: ', r2_score(y_test, y_pred_test_nn))\n",
    "print(\"\")\n",
    "\n",
    "# The Root Mean Squared Error (RMSE)\n",
    "print('The RMSE on the training dataset is: ', sqrt(mean_squared_error(y_train, y_pred_train_nn)))\n",
    "print('The RMSE on the testing dataset is: ', sqrt(mean_squared_error(y_test, y_pred_test_nn)))\n",
    "print(\"\")\n",
    "\n",
    "# The Mean Absolute Error (MAE)\n",
    "print('The MAE on the training dataset is: ', mean_absolute_error(y_train, y_pred_train_nn))\n",
    "print('The MAE on the testing dataset is: ', mean_absolute_error(y_test, y_pred_test_nn))\n",
    "\n",
    "print(\"\")\n",
    "# The Mean Squared Error (MSE)\n",
    "print('The MSE  on the training dataset is: ',mean_squared_error(y_train, y_pred_train_nn))\n",
    "print('The MSE  on the testing dataset is: ',mean_squared_error(y_test, y_pred_test_nn))"
   ]
  },
  {
   "cell_type": "code",
   "execution_count": null,
   "id": "a97a0d24",
   "metadata": {
    "papermill": {
     "duration": 0.043347,
     "end_time": "2025-01-13T16:30:06.740581",
     "exception": false,
     "start_time": "2025-01-13T16:30:06.697234",
     "status": "completed"
    },
    "tags": []
   },
   "outputs": [],
   "source": []
  }
 ],
 "metadata": {
  "kaggle": {
   "accelerator": "none",
   "dataSources": [
    {
     "datasetId": 6454996,
     "sourceId": 10415081,
     "sourceType": "datasetVersion"
    },
    {
     "sourceId": 217455072,
     "sourceType": "kernelVersion"
    }
   ],
   "dockerImageVersionId": 30822,
   "isGpuEnabled": false,
   "isInternetEnabled": true,
   "language": "python",
   "sourceType": "notebook"
  },
  "kernelspec": {
   "display_name": "Python 3",
   "language": "python",
   "name": "python3"
  },
  "language_info": {
   "codemirror_mode": {
    "name": "ipython",
    "version": 3
   },
   "file_extension": ".py",
   "mimetype": "text/x-python",
   "name": "python",
   "nbconvert_exporter": "python",
   "pygments_lexer": "ipython3",
   "version": "3.10.12"
  },
  "papermill": {
   "default_parameters": {},
   "duration": 61.067158,
   "end_time": "2025-01-13T16:30:07.604418",
   "environment_variables": {},
   "exception": null,
   "input_path": "__notebook__.ipynb",
   "output_path": "__notebook__.ipynb",
   "parameters": {},
   "start_time": "2025-01-13T16:29:06.537260",
   "version": "2.6.0"
  }
 },
 "nbformat": 4,
 "nbformat_minor": 5
}
