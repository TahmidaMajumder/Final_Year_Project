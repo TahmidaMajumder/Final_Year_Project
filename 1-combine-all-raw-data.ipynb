{
 "cells": [
  {
   "cell_type": "markdown",
   "id": "cdbbd903",
   "metadata": {
    "id": "gkLCIjIYqlP_",
    "papermill": {
     "duration": 0.043486,
     "end_time": "2025-01-09T17:54:55.868204",
     "exception": false,
     "start_time": "2025-01-09T17:54:55.824718",
     "status": "completed"
    },
    "tags": []
   },
   "source": [
    "**About the dataset**\n",
    "\n",
    "WAQI project data-set is updated 3 times a day, and covering about 380 major cities in the world.\n",
    "\n",
    "The data for each major cities is based on the average (median) of several stations. The data set provides min, max, median and standard deviation for each of the air pollutant species (PM2.5,PM10, Ozone ...) as well as meteorological data (Wind, Temperature, ...).\n",
    "\n",
    "All air pollutant species are converted to the US EPA standard (i.e. no raw concentrations). All dates are UTC based.\n",
    "\n",
    "The count column is the number of samples used for calculating the median and standard deviation.\n",
    "\n",
    "The city-median value is computed per day using all AQI values for available stations.\n",
    "\n",
    "More Info: https://aqicn.org/data-platform/covid19/"
   ]
  },
  {
   "cell_type": "markdown",
   "id": "1c36e510",
   "metadata": {
    "id": "ZAGE3N7_rCRw",
    "papermill": {
     "duration": 0.036915,
     "end_time": "2025-01-09T17:54:55.944158",
     "exception": false,
     "start_time": "2025-01-09T17:54:55.907243",
     "status": "completed"
    },
    "tags": []
   },
   "source": [
    "**WORKING STEPS OF THE WITH DATASET**\n",
    "\n",
    "\n",
    "1.   Group the content of the dataset based on date, country and city(4 dataset separately)\n",
    "\n",
    "*   Each unique specie will become new column\n",
    "*   Values of species if found duplicate max value all be assigned among the values\n",
    "\n",
    "\n",
    "2.   Combine 4 dataframe into one\n",
    "3.   Export the combine dataset\n",
    "\n",
    "***Additional Information***\n",
    "\n",
    "01/01/2024 - 31-12-2024\n",
    "\n",
    "\n",
    "Dataset 1 starting and end date(mm/dd/yyyy) : 12/26/2022-4/2/2023\n",
    "\n",
    "Dataset 2 starting and end date(mm/dd/yyyy) : 3/27/2023-7/2/2023\n",
    "\n",
    "Dataset 3 starting and end date(mm/dd/yyyy) : 6/26/2023-10/1/2023\n",
    "\n",
    "Dataset 4 starting and end date(mm/dd/yyyy) : 9/25/2023-12/31/2023\n",
    "\n",
    "\n",
    "2023:\n",
    "\n",
    "12/26/2022-4/2/2023\n",
    "\n",
    "3/27/2023-7/2/2023\n",
    "\n",
    "6/26/2023-10/1/2023\n",
    "\n",
    "9/25/2023-12/31/2023\n",
    "\n",
    "2022:\n",
    "\n",
    "3/28/2022-7/3/2022\n",
    "\n",
    "6/27/2022-10/2/2022\n",
    "\n",
    "9/26/2022-1/1/2023\n",
    "\n",
    "2021:\n",
    "\n",
    "12/28/2020-4/4/2021\n",
    "\n",
    "3/29/2021-7/4/2021\n",
    "\n",
    "6/28/2021-10/3/2021\n",
    "\n",
    "9/27/2021-1/2/2022\n",
    "\n",
    "2020:\n",
    "\n",
    "12/30/2019-4/5/2020\n",
    "\n",
    "3/30/2020-7/5/2020\n",
    "\n",
    "6/29/2020-10/4/2020\n",
    "\n",
    "9/28/2020-1/3/2021\n",
    "\n",
    "2019:\n",
    "\n",
    "12/31/2018-3/31/2019\n",
    "\n",
    "4/1/2019-6/30/2019\n",
    "\n",
    "7/1/2019-10/6/2019\n",
    "\n",
    "9/30/2019-1/5/2020\n",
    "\n",
    "2018:\n",
    "\n",
    "1/1/2018-7/1/2018\n",
    "\n",
    "2017:\n",
    "\n",
    "12/26/2016-7/2/2017\n",
    "\n",
    "2016:\n",
    "\n",
    "12/28/2015-7/3/2016\n",
    "\n",
    "2015:\n",
    "\n",
    "12/29/2014-7/5/2015\n",
    "\n"
   ]
  },
  {
   "cell_type": "code",
   "execution_count": 1,
   "id": "d19f24ba",
   "metadata": {
    "execution": {
     "iopub.execute_input": "2025-01-09T17:54:56.020552Z",
     "iopub.status.busy": "2025-01-09T17:54:56.020184Z",
     "iopub.status.idle": "2025-01-09T17:54:56.424976Z",
     "shell.execute_reply": "2025-01-09T17:54:56.423225Z"
    },
    "id": "avxZMh6YjPCn",
    "papermill": {
     "duration": 0.446182,
     "end_time": "2025-01-09T17:54:56.427313",
     "exception": false,
     "start_time": "2025-01-09T17:54:55.981131",
     "status": "completed"
    },
    "tags": []
   },
   "outputs": [],
   "source": [
    "import pandas as pd\n",
    "import numpy as np"
   ]
  },
  {
   "cell_type": "markdown",
   "id": "c2674fe2",
   "metadata": {
    "id": "l1bJgJpbVwf5",
    "papermill": {
     "duration": 0.038303,
     "end_time": "2025-01-09T17:54:56.503349",
     "exception": false,
     "start_time": "2025-01-09T17:54:56.465046",
     "status": "completed"
    },
    "tags": []
   },
   "source": [
    "# 2024"
   ]
  },
  {
   "cell_type": "code",
   "execution_count": 2,
   "id": "08c246aa",
   "metadata": {
    "execution": {
     "iopub.execute_input": "2025-01-09T17:54:56.581440Z",
     "iopub.status.busy": "2025-01-09T17:54:56.580974Z",
     "iopub.status.idle": "2025-01-09T17:54:57.729263Z",
     "shell.execute_reply": "2025-01-09T17:54:57.728203Z"
    },
    "papermill": {
     "duration": 1.188281,
     "end_time": "2025-01-09T17:54:57.730838",
     "exception": false,
     "start_time": "2025-01-09T17:54:56.542557",
     "status": "completed"
    },
    "tags": []
   },
   "outputs": [
    {
     "name": "stdout",
     "output_type": "stream",
     "text": [
      "(1048571, 5)\n"
     ]
    },
    {
     "data": {
      "text/html": [
       "<div>\n",
       "<style scoped>\n",
       "    .dataframe tbody tr th:only-of-type {\n",
       "        vertical-align: middle;\n",
       "    }\n",
       "\n",
       "    .dataframe tbody tr th {\n",
       "        vertical-align: top;\n",
       "    }\n",
       "\n",
       "    .dataframe thead th {\n",
       "        text-align: right;\n",
       "    }\n",
       "</style>\n",
       "<table border=\"1\" class=\"dataframe\">\n",
       "  <thead>\n",
       "    <tr style=\"text-align: right;\">\n",
       "      <th></th>\n",
       "      <th>Date</th>\n",
       "      <th>Country</th>\n",
       "      <th>City</th>\n",
       "      <th>Specie</th>\n",
       "      <th>median</th>\n",
       "    </tr>\n",
       "  </thead>\n",
       "  <tbody>\n",
       "    <tr>\n",
       "      <th>0</th>\n",
       "      <td>8/4/2024</td>\n",
       "      <td>ET</td>\n",
       "      <td>Addis Ababa</td>\n",
       "      <td>dew</td>\n",
       "      <td>14.0</td>\n",
       "    </tr>\n",
       "    <tr>\n",
       "      <th>1</th>\n",
       "      <td>11/17/2024</td>\n",
       "      <td>ET</td>\n",
       "      <td>Addis Ababa</td>\n",
       "      <td>dew</td>\n",
       "      <td>1.0</td>\n",
       "    </tr>\n",
       "    <tr>\n",
       "      <th>2</th>\n",
       "      <td>1/1/2025</td>\n",
       "      <td>ET</td>\n",
       "      <td>Addis Ababa</td>\n",
       "      <td>dew</td>\n",
       "      <td>6.0</td>\n",
       "    </tr>\n",
       "    <tr>\n",
       "      <th>3</th>\n",
       "      <td>7/8/2024</td>\n",
       "      <td>ET</td>\n",
       "      <td>Addis Ababa</td>\n",
       "      <td>dew</td>\n",
       "      <td>13.0</td>\n",
       "    </tr>\n",
       "    <tr>\n",
       "      <th>4</th>\n",
       "      <td>1/29/2024</td>\n",
       "      <td>ET</td>\n",
       "      <td>Addis Ababa</td>\n",
       "      <td>dew</td>\n",
       "      <td>11.0</td>\n",
       "    </tr>\n",
       "  </tbody>\n",
       "</table>\n",
       "</div>"
      ],
      "text/plain": [
       "         Date Country         City Specie  median\n",
       "0    8/4/2024      ET  Addis Ababa    dew    14.0\n",
       "1  11/17/2024      ET  Addis Ababa    dew     1.0\n",
       "2    1/1/2025      ET  Addis Ababa    dew     6.0\n",
       "3    7/8/2024      ET  Addis Ababa    dew    13.0\n",
       "4   1/29/2024      ET  Addis Ababa    dew    11.0"
      ]
     },
     "execution_count": 2,
     "metadata": {},
     "output_type": "execute_result"
    }
   ],
   "source": [
    "# Load the dataset into a DataFrame\n",
    "raw_data_2024 = pd.read_csv(r'/kaggle/input/complete-raw-median/waqi-covid19-airqualitydata-2025.csv')\n",
    "\n",
    "# print the shape\n",
    "print(raw_data_2024.shape)\n",
    "\n",
    "#runs the first 5 rows\n",
    "raw_data_2024.head()"
   ]
  },
  {
   "cell_type": "code",
   "execution_count": 3,
   "id": "de16b547",
   "metadata": {
    "execution": {
     "iopub.execute_input": "2025-01-09T17:54:57.806306Z",
     "iopub.status.busy": "2025-01-09T17:54:57.805972Z",
     "iopub.status.idle": "2025-01-09T17:55:00.363690Z",
     "shell.execute_reply": "2025-01-09T17:55:00.362687Z"
    },
    "id": "O6AgwvutU_wH",
    "papermill": {
     "duration": 2.597957,
     "end_time": "2025-01-09T17:55:00.365643",
     "exception": false,
     "start_time": "2025-01-09T17:54:57.767686",
     "status": "completed"
    },
    "tags": []
   },
   "outputs": [],
   "source": [
    "# Convert 'Date' to datetime\n",
    "raw_data_2024['Date'] = pd.to_datetime(raw_data_2024['Date'])"
   ]
  },
  {
   "cell_type": "code",
   "execution_count": 4,
   "id": "9e414c8d",
   "metadata": {
    "execution": {
     "iopub.execute_input": "2025-01-09T17:55:00.440390Z",
     "iopub.status.busy": "2025-01-09T17:55:00.440063Z",
     "iopub.status.idle": "2025-01-09T17:55:00.445406Z",
     "shell.execute_reply": "2025-01-09T17:55:00.444420Z"
    },
    "executionInfo": {
     "elapsed": 14,
     "status": "ok",
     "timestamp": 1734445417435,
     "user": {
      "displayName": "Tahmida Majumder",
      "userId": "15415648085337204568"
     },
     "user_tz": -480
    },
    "id": "BYUTr5WOU_wH",
    "outputId": "f7341c48-836b-4c19-cd26-b07d7752136b",
    "papermill": {
     "duration": 0.044498,
     "end_time": "2025-01-09T17:55:00.446993",
     "exception": false,
     "start_time": "2025-01-09T17:55:00.402495",
     "status": "completed"
    },
    "tags": []
   },
   "outputs": [
    {
     "data": {
      "text/plain": [
       "(1048571, 5)"
      ]
     },
     "execution_count": 4,
     "metadata": {},
     "output_type": "execute_result"
    }
   ],
   "source": [
    "raw_data_2024.shape"
   ]
  },
  {
   "cell_type": "code",
   "execution_count": 5,
   "id": "5450c22a",
   "metadata": {
    "execution": {
     "iopub.execute_input": "2025-01-09T17:55:00.580925Z",
     "iopub.status.busy": "2025-01-09T17:55:00.580543Z",
     "iopub.status.idle": "2025-01-09T17:55:01.441616Z",
     "shell.execute_reply": "2025-01-09T17:55:01.440255Z"
    },
    "id": "vDVgKgQFU_wH",
    "papermill": {
     "duration": 0.958933,
     "end_time": "2025-01-09T17:55:01.444314",
     "exception": false,
     "start_time": "2025-01-09T17:55:00.485381",
     "status": "completed"
    },
    "tags": []
   },
   "outputs": [],
   "source": [
    "# Pivot the data\n",
    "data_df_2024 = raw_data_2024.pivot_table(\n",
    "    index=['Date', 'Country', 'City'],  # Grouping columns\n",
    "    columns='Specie',                  # Unique values become columns\n",
    "    values='median',                   # Values to aggregate\n",
    "    aggfunc='mean'                     # Aggregation function\n",
    ").reset_index()"
   ]
  },
  {
   "cell_type": "code",
   "execution_count": 6,
   "id": "dfb26488",
   "metadata": {
    "execution": {
     "iopub.execute_input": "2025-01-09T17:55:01.534037Z",
     "iopub.status.busy": "2025-01-09T17:55:01.533344Z",
     "iopub.status.idle": "2025-01-09T17:55:01.574280Z",
     "shell.execute_reply": "2025-01-09T17:55:01.572709Z"
    },
    "executionInfo": {
     "elapsed": 8,
     "status": "ok",
     "timestamp": 1734445418344,
     "user": {
      "displayName": "Tahmida Majumder",
      "userId": "15415648085337204568"
     },
     "user_tz": -480
    },
    "id": "eR6ZzK3RU_wH",
    "outputId": "493998b8-a5fc-46bc-b2b2-4230e483fddf",
    "papermill": {
     "duration": 0.091563,
     "end_time": "2025-01-09T17:55:01.576861",
     "exception": false,
     "start_time": "2025-01-09T17:55:01.485298",
     "status": "completed"
    },
    "tags": []
   },
   "outputs": [
    {
     "name": "stdout",
     "output_type": "stream",
     "text": [
      "(105139, 21)\n"
     ]
    },
    {
     "data": {
      "text/html": [
       "<div>\n",
       "<style scoped>\n",
       "    .dataframe tbody tr th:only-of-type {\n",
       "        vertical-align: middle;\n",
       "    }\n",
       "\n",
       "    .dataframe tbody tr th {\n",
       "        vertical-align: top;\n",
       "    }\n",
       "\n",
       "    .dataframe thead th {\n",
       "        text-align: right;\n",
       "    }\n",
       "</style>\n",
       "<table border=\"1\" class=\"dataframe\">\n",
       "  <thead>\n",
       "    <tr style=\"text-align: right;\">\n",
       "      <th>Specie</th>\n",
       "      <th>Date</th>\n",
       "      <th>Country</th>\n",
       "      <th>City</th>\n",
       "      <th>aqi</th>\n",
       "      <th>co</th>\n",
       "      <th>dew</th>\n",
       "      <th>humidity</th>\n",
       "      <th>mepaqi</th>\n",
       "      <th>neph</th>\n",
       "      <th>no2</th>\n",
       "      <th>...</th>\n",
       "      <th>pm10</th>\n",
       "      <th>pm25</th>\n",
       "      <th>precipitation</th>\n",
       "      <th>pressure</th>\n",
       "      <th>so2</th>\n",
       "      <th>temperature</th>\n",
       "      <th>uvi</th>\n",
       "      <th>wd</th>\n",
       "      <th>wind-gust</th>\n",
       "      <th>wind-speed</th>\n",
       "    </tr>\n",
       "  </thead>\n",
       "  <tbody>\n",
       "    <tr>\n",
       "      <th>0</th>\n",
       "      <td>2024-01-01</td>\n",
       "      <td>AE</td>\n",
       "      <td>Abu Dhabi</td>\n",
       "      <td>NaN</td>\n",
       "      <td>0.1</td>\n",
       "      <td>19.0</td>\n",
       "      <td>73.0</td>\n",
       "      <td>NaN</td>\n",
       "      <td>NaN</td>\n",
       "      <td>8.1</td>\n",
       "      <td>...</td>\n",
       "      <td>50.0</td>\n",
       "      <td>53.0</td>\n",
       "      <td>NaN</td>\n",
       "      <td>1017.0</td>\n",
       "      <td>4.2</td>\n",
       "      <td>24.0</td>\n",
       "      <td>NaN</td>\n",
       "      <td>NaN</td>\n",
       "      <td>NaN</td>\n",
       "      <td>3.0</td>\n",
       "    </tr>\n",
       "    <tr>\n",
       "      <th>1</th>\n",
       "      <td>2024-01-01</td>\n",
       "      <td>AE</td>\n",
       "      <td>Dubai</td>\n",
       "      <td>NaN</td>\n",
       "      <td>2.2</td>\n",
       "      <td>18.0</td>\n",
       "      <td>65.0</td>\n",
       "      <td>NaN</td>\n",
       "      <td>NaN</td>\n",
       "      <td>8.1</td>\n",
       "      <td>...</td>\n",
       "      <td>39.0</td>\n",
       "      <td>74.0</td>\n",
       "      <td>NaN</td>\n",
       "      <td>1017.0</td>\n",
       "      <td>3.7</td>\n",
       "      <td>25.0</td>\n",
       "      <td>NaN</td>\n",
       "      <td>NaN</td>\n",
       "      <td>NaN</td>\n",
       "      <td>3.6</td>\n",
       "    </tr>\n",
       "    <tr>\n",
       "      <th>2</th>\n",
       "      <td>2024-01-01</td>\n",
       "      <td>AR</td>\n",
       "      <td>Buenos Aires</td>\n",
       "      <td>NaN</td>\n",
       "      <td>1.9</td>\n",
       "      <td>15.8</td>\n",
       "      <td>63.0</td>\n",
       "      <td>NaN</td>\n",
       "      <td>NaN</td>\n",
       "      <td>4.6</td>\n",
       "      <td>...</td>\n",
       "      <td>14.0</td>\n",
       "      <td>34.0</td>\n",
       "      <td>99.0</td>\n",
       "      <td>1011.5</td>\n",
       "      <td>2.6</td>\n",
       "      <td>24.2</td>\n",
       "      <td>NaN</td>\n",
       "      <td>67.5</td>\n",
       "      <td>9.1</td>\n",
       "      <td>3.3</td>\n",
       "    </tr>\n",
       "    <tr>\n",
       "      <th>3</th>\n",
       "      <td>2024-01-01</td>\n",
       "      <td>AT</td>\n",
       "      <td>Graz</td>\n",
       "      <td>NaN</td>\n",
       "      <td>0.1</td>\n",
       "      <td>2.9</td>\n",
       "      <td>93.0</td>\n",
       "      <td>NaN</td>\n",
       "      <td>NaN</td>\n",
       "      <td>6.0</td>\n",
       "      <td>...</td>\n",
       "      <td>9.0</td>\n",
       "      <td>25.0</td>\n",
       "      <td>1.2</td>\n",
       "      <td>1011.3</td>\n",
       "      <td>1.1</td>\n",
       "      <td>3.5</td>\n",
       "      <td>NaN</td>\n",
       "      <td>NaN</td>\n",
       "      <td>2.8</td>\n",
       "      <td>1.0</td>\n",
       "    </tr>\n",
       "    <tr>\n",
       "      <th>4</th>\n",
       "      <td>2024-01-01</td>\n",
       "      <td>AT</td>\n",
       "      <td>Innsbruck</td>\n",
       "      <td>NaN</td>\n",
       "      <td>0.1</td>\n",
       "      <td>1.8</td>\n",
       "      <td>92.1</td>\n",
       "      <td>NaN</td>\n",
       "      <td>NaN</td>\n",
       "      <td>11.9</td>\n",
       "      <td>...</td>\n",
       "      <td>16.0</td>\n",
       "      <td>NaN</td>\n",
       "      <td>0.4</td>\n",
       "      <td>1006.2</td>\n",
       "      <td>0.6</td>\n",
       "      <td>1.1</td>\n",
       "      <td>NaN</td>\n",
       "      <td>NaN</td>\n",
       "      <td>5.8</td>\n",
       "      <td>2.1</td>\n",
       "    </tr>\n",
       "  </tbody>\n",
       "</table>\n",
       "<p>5 rows × 21 columns</p>\n",
       "</div>"
      ],
      "text/plain": [
       "Specie       Date Country          City  aqi   co   dew  humidity  mepaqi  \\\n",
       "0      2024-01-01      AE     Abu Dhabi  NaN  0.1  19.0      73.0     NaN   \n",
       "1      2024-01-01      AE         Dubai  NaN  2.2  18.0      65.0     NaN   \n",
       "2      2024-01-01      AR  Buenos Aires  NaN  1.9  15.8      63.0     NaN   \n",
       "3      2024-01-01      AT          Graz  NaN  0.1   2.9      93.0     NaN   \n",
       "4      2024-01-01      AT     Innsbruck  NaN  0.1   1.8      92.1     NaN   \n",
       "\n",
       "Specie  neph   no2  ...  pm10  pm25  precipitation  pressure  so2  \\\n",
       "0        NaN   8.1  ...  50.0  53.0            NaN    1017.0  4.2   \n",
       "1        NaN   8.1  ...  39.0  74.0            NaN    1017.0  3.7   \n",
       "2        NaN   4.6  ...  14.0  34.0           99.0    1011.5  2.6   \n",
       "3        NaN   6.0  ...   9.0  25.0            1.2    1011.3  1.1   \n",
       "4        NaN  11.9  ...  16.0   NaN            0.4    1006.2  0.6   \n",
       "\n",
       "Specie  temperature  uvi    wd  wind-gust  wind-speed  \n",
       "0              24.0  NaN   NaN        NaN         3.0  \n",
       "1              25.0  NaN   NaN        NaN         3.6  \n",
       "2              24.2  NaN  67.5        9.1         3.3  \n",
       "3               3.5  NaN   NaN        2.8         1.0  \n",
       "4               1.1  NaN   NaN        5.8         2.1  \n",
       "\n",
       "[5 rows x 21 columns]"
      ]
     },
     "execution_count": 6,
     "metadata": {},
     "output_type": "execute_result"
    }
   ],
   "source": [
    "print(data_df_2024.shape)\n",
    "data_df_2024.head()"
   ]
  },
  {
   "cell_type": "code",
   "execution_count": 7,
   "id": "0849dfb5",
   "metadata": {
    "execution": {
     "iopub.execute_input": "2025-01-09T17:55:01.681039Z",
     "iopub.status.busy": "2025-01-09T17:55:01.680445Z",
     "iopub.status.idle": "2025-01-09T17:55:01.707816Z",
     "shell.execute_reply": "2025-01-09T17:55:01.706666Z"
    },
    "executionInfo": {
     "elapsed": 7,
     "status": "ok",
     "timestamp": 1734445418344,
     "user": {
      "displayName": "Tahmida Majumder",
      "userId": "15415648085337204568"
     },
     "user_tz": -480
    },
    "id": "KZi3vcfqU_wH",
    "outputId": "6c69afaa-9d12-40da-b88a-92ed834ee111",
    "papermill": {
     "duration": 0.089728,
     "end_time": "2025-01-09T17:55:01.709879",
     "exception": false,
     "start_time": "2025-01-09T17:55:01.620151",
     "status": "completed"
    },
    "tags": []
   },
   "outputs": [
    {
     "data": {
      "text/plain": [
       "Specie\n",
       "Date                  0\n",
       "Country               0\n",
       "City                  0\n",
       "aqi              100279\n",
       "co                41010\n",
       "dew               19393\n",
       "humidity           1879\n",
       "mepaqi           104901\n",
       "neph             104390\n",
       "no2               19293\n",
       "o3                34967\n",
       "pm10              19230\n",
       "pm25              13083\n",
       "precipitation     91681\n",
       "pressure           1887\n",
       "so2               32639\n",
       "temperature        1606\n",
       "uvi              101739\n",
       "wd                98975\n",
       "wind-gust         54471\n",
       "wind-speed         2508\n",
       "dtype: int64"
      ]
     },
     "execution_count": 7,
     "metadata": {},
     "output_type": "execute_result"
    }
   ],
   "source": [
    "data_df_2024.isnull().sum()"
   ]
  },
  {
   "cell_type": "markdown",
   "id": "f03fe7b4",
   "metadata": {
    "id": "TK5W8oRPV2sQ",
    "papermill": {
     "duration": 0.056047,
     "end_time": "2025-01-09T17:55:01.831504",
     "exception": false,
     "start_time": "2025-01-09T17:55:01.775457",
     "status": "completed"
    },
    "tags": []
   },
   "source": [
    "# 2023_Q1"
   ]
  },
  {
   "cell_type": "code",
   "execution_count": 8,
   "id": "3e145290",
   "metadata": {
    "execution": {
     "iopub.execute_input": "2025-01-09T17:55:01.908100Z",
     "iopub.status.busy": "2025-01-09T17:55:01.907705Z",
     "iopub.status.idle": "2025-01-09T17:55:02.475165Z",
     "shell.execute_reply": "2025-01-09T17:55:02.474064Z"
    },
    "executionInfo": {
     "elapsed": 1444,
     "status": "ok",
     "timestamp": 1734445419782,
     "user": {
      "displayName": "Tahmida Majumder",
      "userId": "15415648085337204568"
     },
     "user_tz": -480
    },
    "id": "lJK9ahVCjTGd",
    "outputId": "38a9d229-7253-4f6e-ccaa-14e12d6cdfbd",
    "papermill": {
     "duration": 0.607763,
     "end_time": "2025-01-09T17:55:02.476874",
     "exception": false,
     "start_time": "2025-01-09T17:55:01.869111",
     "status": "completed"
    },
    "tags": []
   },
   "outputs": [
    {
     "name": "stdout",
     "output_type": "stream",
     "text": [
      "(553335, 5)\n"
     ]
    },
    {
     "data": {
      "text/html": [
       "<div>\n",
       "<style scoped>\n",
       "    .dataframe tbody tr th:only-of-type {\n",
       "        vertical-align: middle;\n",
       "    }\n",
       "\n",
       "    .dataframe tbody tr th {\n",
       "        vertical-align: top;\n",
       "    }\n",
       "\n",
       "    .dataframe thead th {\n",
       "        text-align: right;\n",
       "    }\n",
       "</style>\n",
       "<table border=\"1\" class=\"dataframe\">\n",
       "  <thead>\n",
       "    <tr style=\"text-align: right;\">\n",
       "      <th></th>\n",
       "      <th>Date</th>\n",
       "      <th>Country</th>\n",
       "      <th>City</th>\n",
       "      <th>Specie</th>\n",
       "      <th>median</th>\n",
       "    </tr>\n",
       "  </thead>\n",
       "  <tbody>\n",
       "    <tr>\n",
       "      <th>0</th>\n",
       "      <td>4/1/2023</td>\n",
       "      <td>BH</td>\n",
       "      <td>Manama</td>\n",
       "      <td>pressure</td>\n",
       "      <td>1014.3</td>\n",
       "    </tr>\n",
       "    <tr>\n",
       "      <th>1</th>\n",
       "      <td>4/2/2023</td>\n",
       "      <td>BH</td>\n",
       "      <td>Manama</td>\n",
       "      <td>pressure</td>\n",
       "      <td>1015.7</td>\n",
       "    </tr>\n",
       "    <tr>\n",
       "      <th>2</th>\n",
       "      <td>3/27/2023</td>\n",
       "      <td>BH</td>\n",
       "      <td>Manama</td>\n",
       "      <td>pressure</td>\n",
       "      <td>1011.7</td>\n",
       "    </tr>\n",
       "    <tr>\n",
       "      <th>3</th>\n",
       "      <td>3/28/2023</td>\n",
       "      <td>BH</td>\n",
       "      <td>Manama</td>\n",
       "      <td>pressure</td>\n",
       "      <td>1013.5</td>\n",
       "    </tr>\n",
       "    <tr>\n",
       "      <th>4</th>\n",
       "      <td>3/29/2023</td>\n",
       "      <td>BH</td>\n",
       "      <td>Manama</td>\n",
       "      <td>pressure</td>\n",
       "      <td>1014.4</td>\n",
       "    </tr>\n",
       "    <tr>\n",
       "      <th>5</th>\n",
       "      <td>3/30/2023</td>\n",
       "      <td>BH</td>\n",
       "      <td>Manama</td>\n",
       "      <td>pressure</td>\n",
       "      <td>1013.0</td>\n",
       "    </tr>\n",
       "    <tr>\n",
       "      <th>6</th>\n",
       "      <td>3/31/2023</td>\n",
       "      <td>BH</td>\n",
       "      <td>Manama</td>\n",
       "      <td>pressure</td>\n",
       "      <td>1009.1</td>\n",
       "    </tr>\n",
       "    <tr>\n",
       "      <th>7</th>\n",
       "      <td>4/2/2023</td>\n",
       "      <td>BH</td>\n",
       "      <td>Manama</td>\n",
       "      <td>pm25</td>\n",
       "      <td>25.0</td>\n",
       "    </tr>\n",
       "    <tr>\n",
       "      <th>8</th>\n",
       "      <td>3/27/2023</td>\n",
       "      <td>BH</td>\n",
       "      <td>Manama</td>\n",
       "      <td>temperature</td>\n",
       "      <td>24.6</td>\n",
       "    </tr>\n",
       "    <tr>\n",
       "      <th>9</th>\n",
       "      <td>3/28/2023</td>\n",
       "      <td>BH</td>\n",
       "      <td>Manama</td>\n",
       "      <td>temperature</td>\n",
       "      <td>23.8</td>\n",
       "    </tr>\n",
       "  </tbody>\n",
       "</table>\n",
       "</div>"
      ],
      "text/plain": [
       "        Date Country    City       Specie  median\n",
       "0   4/1/2023      BH  Manama     pressure  1014.3\n",
       "1   4/2/2023      BH  Manama     pressure  1015.7\n",
       "2  3/27/2023      BH  Manama     pressure  1011.7\n",
       "3  3/28/2023      BH  Manama     pressure  1013.5\n",
       "4  3/29/2023      BH  Manama     pressure  1014.4\n",
       "5  3/30/2023      BH  Manama     pressure  1013.0\n",
       "6  3/31/2023      BH  Manama     pressure  1009.1\n",
       "7   4/2/2023      BH  Manama         pm25    25.0\n",
       "8  3/27/2023      BH  Manama  temperature    24.6\n",
       "9  3/28/2023      BH  Manama  temperature    23.8"
      ]
     },
     "execution_count": 8,
     "metadata": {},
     "output_type": "execute_result"
    }
   ],
   "source": [
    "# Loading the data\n",
    "raw_data_2023_Q1 = pd.read_csv(r\"/kaggle/input/complete-raw-median/waqi-covid19-airqualitydata-2023Q1.csv\")\n",
    "\n",
    "# print the shape\n",
    "print(raw_data_2023_Q1.shape)\n",
    "\n",
    "#runs the first 5 rows\n",
    "raw_data_2023_Q1.head(10)"
   ]
  },
  {
   "cell_type": "code",
   "execution_count": 9,
   "id": "5f8b950a",
   "metadata": {
    "execution": {
     "iopub.execute_input": "2025-01-09T17:55:02.557538Z",
     "iopub.status.busy": "2025-01-09T17:55:02.557206Z",
     "iopub.status.idle": "2025-01-09T17:55:02.641626Z",
     "shell.execute_reply": "2025-01-09T17:55:02.640597Z"
    },
    "id": "FQuE6s68jrTe",
    "papermill": {
     "duration": 0.127938,
     "end_time": "2025-01-09T17:55:02.643506",
     "exception": false,
     "start_time": "2025-01-09T17:55:02.515568",
     "status": "completed"
    },
    "tags": []
   },
   "outputs": [],
   "source": [
    "# Convert 'Date' to datetime\n",
    "raw_data_2023_Q1['Date'] = pd.to_datetime(raw_data_2023_Q1['Date'])"
   ]
  },
  {
   "cell_type": "code",
   "execution_count": 10,
   "id": "cddf6c52",
   "metadata": {
    "execution": {
     "iopub.execute_input": "2025-01-09T17:55:02.721565Z",
     "iopub.status.busy": "2025-01-09T17:55:02.721218Z",
     "iopub.status.idle": "2025-01-09T17:55:02.726822Z",
     "shell.execute_reply": "2025-01-09T17:55:02.725883Z"
    },
    "executionInfo": {
     "elapsed": 9,
     "status": "ok",
     "timestamp": 1734445419782,
     "user": {
      "displayName": "Tahmida Majumder",
      "userId": "15415648085337204568"
     },
     "user_tz": -480
    },
    "id": "f8VkcrBkjy40",
    "outputId": "b8e6eee3-71f3-4705-d29f-b197dd8af8a3",
    "papermill": {
     "duration": 0.046629,
     "end_time": "2025-01-09T17:55:02.728339",
     "exception": false,
     "start_time": "2025-01-09T17:55:02.681710",
     "status": "completed"
    },
    "tags": []
   },
   "outputs": [
    {
     "data": {
      "text/plain": [
       "(553335, 5)"
      ]
     },
     "execution_count": 10,
     "metadata": {},
     "output_type": "execute_result"
    }
   ],
   "source": [
    "raw_data_2023_Q1.shape"
   ]
  },
  {
   "cell_type": "code",
   "execution_count": 11,
   "id": "bd58d64d",
   "metadata": {
    "execution": {
     "iopub.execute_input": "2025-01-09T17:55:02.811359Z",
     "iopub.status.busy": "2025-01-09T17:55:02.811001Z",
     "iopub.status.idle": "2025-01-09T17:55:03.227967Z",
     "shell.execute_reply": "2025-01-09T17:55:03.226860Z"
    },
    "id": "FZcov_NSj1vM",
    "papermill": {
     "duration": 0.462579,
     "end_time": "2025-01-09T17:55:03.230160",
     "exception": false,
     "start_time": "2025-01-09T17:55:02.767581",
     "status": "completed"
    },
    "tags": []
   },
   "outputs": [],
   "source": [
    "# Pivot the data\n",
    "data_df_2023_Q1 = raw_data_2023_Q1.pivot_table(\n",
    "    index=['Date', 'Country', 'City'],  # Grouping columns\n",
    "    columns='Specie',                  # Unique values become columns\n",
    "    values='median',                   # Values to aggregate\n",
    "    aggfunc='mean'                     # Aggregation function\n",
    ").reset_index()"
   ]
  },
  {
   "cell_type": "code",
   "execution_count": 12,
   "id": "ccc41b4d",
   "metadata": {
    "cellView": "form",
    "execution": {
     "iopub.execute_input": "2025-01-09T17:55:03.308837Z",
     "iopub.status.busy": "2025-01-09T17:55:03.308445Z",
     "iopub.status.idle": "2025-01-09T17:55:03.334868Z",
     "shell.execute_reply": "2025-01-09T17:55:03.333851Z"
    },
    "executionInfo": {
     "elapsed": 11,
     "status": "ok",
     "timestamp": 1734445420200,
     "user": {
      "displayName": "Tahmida Majumder",
      "userId": "15415648085337204568"
     },
     "user_tz": -480
    },
    "id": "MIFdzoOGkBDe",
    "outputId": "fb1ae07d-9969-438b-97ad-4aaa91dde2c3",
    "papermill": {
     "duration": 0.067947,
     "end_time": "2025-01-09T17:55:03.336517",
     "exception": false,
     "start_time": "2025-01-09T17:55:03.268570",
     "status": "completed"
    },
    "tags": []
   },
   "outputs": [
    {
     "name": "stdout",
     "output_type": "stream",
     "text": [
      "(54535, 22)\n"
     ]
    },
    {
     "data": {
      "text/html": [
       "<div>\n",
       "<style scoped>\n",
       "    .dataframe tbody tr th:only-of-type {\n",
       "        vertical-align: middle;\n",
       "    }\n",
       "\n",
       "    .dataframe tbody tr th {\n",
       "        vertical-align: top;\n",
       "    }\n",
       "\n",
       "    .dataframe thead th {\n",
       "        text-align: right;\n",
       "    }\n",
       "</style>\n",
       "<table border=\"1\" class=\"dataframe\">\n",
       "  <thead>\n",
       "    <tr style=\"text-align: right;\">\n",
       "      <th>Specie</th>\n",
       "      <th>Date</th>\n",
       "      <th>Country</th>\n",
       "      <th>City</th>\n",
       "      <th>aqi</th>\n",
       "      <th>co</th>\n",
       "      <th>dew</th>\n",
       "      <th>humidity</th>\n",
       "      <th>mepaqi</th>\n",
       "      <th>neph</th>\n",
       "      <th>no2</th>\n",
       "      <th>...</th>\n",
       "      <th>pm10</th>\n",
       "      <th>pm25</th>\n",
       "      <th>precipitation</th>\n",
       "      <th>pressure</th>\n",
       "      <th>so2</th>\n",
       "      <th>temperature</th>\n",
       "      <th>uvi</th>\n",
       "      <th>wd</th>\n",
       "      <th>wind-gust</th>\n",
       "      <th>wind-speed</th>\n",
       "    </tr>\n",
       "  </thead>\n",
       "  <tbody>\n",
       "    <tr>\n",
       "      <th>0</th>\n",
       "      <td>2022-12-26</td>\n",
       "      <td>AE</td>\n",
       "      <td>Abu Dhabi</td>\n",
       "      <td>NaN</td>\n",
       "      <td>0.1</td>\n",
       "      <td>16.0</td>\n",
       "      <td>72.0</td>\n",
       "      <td>NaN</td>\n",
       "      <td>NaN</td>\n",
       "      <td>9.0</td>\n",
       "      <td>...</td>\n",
       "      <td>36.0</td>\n",
       "      <td>65.0</td>\n",
       "      <td>NaN</td>\n",
       "      <td>1016.0</td>\n",
       "      <td>5.4</td>\n",
       "      <td>21.0</td>\n",
       "      <td>NaN</td>\n",
       "      <td>NaN</td>\n",
       "      <td>1.5</td>\n",
       "      <td>2.0</td>\n",
       "    </tr>\n",
       "    <tr>\n",
       "      <th>1</th>\n",
       "      <td>2022-12-26</td>\n",
       "      <td>AE</td>\n",
       "      <td>Dubai</td>\n",
       "      <td>NaN</td>\n",
       "      <td>NaN</td>\n",
       "      <td>15.0</td>\n",
       "      <td>68.0</td>\n",
       "      <td>NaN</td>\n",
       "      <td>NaN</td>\n",
       "      <td>NaN</td>\n",
       "      <td>...</td>\n",
       "      <td>NaN</td>\n",
       "      <td>87.0</td>\n",
       "      <td>NaN</td>\n",
       "      <td>1016.0</td>\n",
       "      <td>NaN</td>\n",
       "      <td>21.0</td>\n",
       "      <td>NaN</td>\n",
       "      <td>NaN</td>\n",
       "      <td>NaN</td>\n",
       "      <td>3.0</td>\n",
       "    </tr>\n",
       "    <tr>\n",
       "      <th>2</th>\n",
       "      <td>2022-12-26</td>\n",
       "      <td>AR</td>\n",
       "      <td>Buenos Aires</td>\n",
       "      <td>NaN</td>\n",
       "      <td>1.7</td>\n",
       "      <td>10.5</td>\n",
       "      <td>58.0</td>\n",
       "      <td>NaN</td>\n",
       "      <td>NaN</td>\n",
       "      <td>7.4</td>\n",
       "      <td>...</td>\n",
       "      <td>34.0</td>\n",
       "      <td>NaN</td>\n",
       "      <td>NaN</td>\n",
       "      <td>1013.7</td>\n",
       "      <td>3.6</td>\n",
       "      <td>23.5</td>\n",
       "      <td>NaN</td>\n",
       "      <td>67.5</td>\n",
       "      <td>2.5</td>\n",
       "      <td>1.0</td>\n",
       "    </tr>\n",
       "    <tr>\n",
       "      <th>3</th>\n",
       "      <td>2022-12-26</td>\n",
       "      <td>AT</td>\n",
       "      <td>Graz</td>\n",
       "      <td>NaN</td>\n",
       "      <td>0.1</td>\n",
       "      <td>0.6</td>\n",
       "      <td>75.5</td>\n",
       "      <td>NaN</td>\n",
       "      <td>NaN</td>\n",
       "      <td>9.6</td>\n",
       "      <td>...</td>\n",
       "      <td>17.0</td>\n",
       "      <td>63.0</td>\n",
       "      <td>NaN</td>\n",
       "      <td>975.1</td>\n",
       "      <td>1.6</td>\n",
       "      <td>3.1</td>\n",
       "      <td>NaN</td>\n",
       "      <td>NaN</td>\n",
       "      <td>NaN</td>\n",
       "      <td>1.0</td>\n",
       "    </tr>\n",
       "    <tr>\n",
       "      <th>4</th>\n",
       "      <td>2022-12-26</td>\n",
       "      <td>AT</td>\n",
       "      <td>Innsbruck</td>\n",
       "      <td>NaN</td>\n",
       "      <td>0.1</td>\n",
       "      <td>1.2</td>\n",
       "      <td>92.5</td>\n",
       "      <td>NaN</td>\n",
       "      <td>NaN</td>\n",
       "      <td>9.2</td>\n",
       "      <td>...</td>\n",
       "      <td>8.0</td>\n",
       "      <td>NaN</td>\n",
       "      <td>NaN</td>\n",
       "      <td>954.1</td>\n",
       "      <td>0.6</td>\n",
       "      <td>2.7</td>\n",
       "      <td>NaN</td>\n",
       "      <td>NaN</td>\n",
       "      <td>7.2</td>\n",
       "      <td>2.0</td>\n",
       "    </tr>\n",
       "  </tbody>\n",
       "</table>\n",
       "<p>5 rows × 22 columns</p>\n",
       "</div>"
      ],
      "text/plain": [
       "Specie       Date Country          City  aqi   co   dew  humidity  mepaqi  \\\n",
       "0      2022-12-26      AE     Abu Dhabi  NaN  0.1  16.0      72.0     NaN   \n",
       "1      2022-12-26      AE         Dubai  NaN  NaN  15.0      68.0     NaN   \n",
       "2      2022-12-26      AR  Buenos Aires  NaN  1.7  10.5      58.0     NaN   \n",
       "3      2022-12-26      AT          Graz  NaN  0.1   0.6      75.5     NaN   \n",
       "4      2022-12-26      AT     Innsbruck  NaN  0.1   1.2      92.5     NaN   \n",
       "\n",
       "Specie  neph  no2  ...  pm10  pm25  precipitation  pressure  so2  temperature  \\\n",
       "0        NaN  9.0  ...  36.0  65.0            NaN    1016.0  5.4         21.0   \n",
       "1        NaN  NaN  ...   NaN  87.0            NaN    1016.0  NaN         21.0   \n",
       "2        NaN  7.4  ...  34.0   NaN            NaN    1013.7  3.6         23.5   \n",
       "3        NaN  9.6  ...  17.0  63.0            NaN     975.1  1.6          3.1   \n",
       "4        NaN  9.2  ...   8.0   NaN            NaN     954.1  0.6          2.7   \n",
       "\n",
       "Specie  uvi    wd  wind-gust  wind-speed  \n",
       "0       NaN   NaN        1.5         2.0  \n",
       "1       NaN   NaN        NaN         3.0  \n",
       "2       NaN  67.5        2.5         1.0  \n",
       "3       NaN   NaN        NaN         1.0  \n",
       "4       NaN   NaN        7.2         2.0  \n",
       "\n",
       "[5 rows x 22 columns]"
      ]
     },
     "execution_count": 12,
     "metadata": {},
     "output_type": "execute_result"
    }
   ],
   "source": [
    "print(data_df_2023_Q1.shape)\n",
    "data_df_2023_Q1.head()"
   ]
  },
  {
   "cell_type": "code",
   "execution_count": 13,
   "id": "6c2a878c",
   "metadata": {
    "execution": {
     "iopub.execute_input": "2025-01-09T17:55:03.417129Z",
     "iopub.status.busy": "2025-01-09T17:55:03.416731Z",
     "iopub.status.idle": "2025-01-09T17:55:03.434128Z",
     "shell.execute_reply": "2025-01-09T17:55:03.432808Z"
    },
    "executionInfo": {
     "elapsed": 7,
     "status": "ok",
     "timestamp": 1734445420200,
     "user": {
      "displayName": "Tahmida Majumder",
      "userId": "15415648085337204568"
     },
     "user_tz": -480
    },
    "id": "STIfeqmakbsN",
    "outputId": "b5b5eec3-5a38-42e3-d176-9fd400390c6a",
    "papermill": {
     "duration": 0.06129,
     "end_time": "2025-01-09T17:55:03.436194",
     "exception": false,
     "start_time": "2025-01-09T17:55:03.374904",
     "status": "completed"
    },
    "tags": []
   },
   "outputs": [
    {
     "data": {
      "text/plain": [
       "Specie\n",
       "Date                 0\n",
       "Country              0\n",
       "City                 0\n",
       "aqi              53716\n",
       "co               20563\n",
       "dew              10232\n",
       "humidity           192\n",
       "mepaqi           54437\n",
       "neph             54339\n",
       "no2               9381\n",
       "o3               12986\n",
       "pm1              54255\n",
       "pm10              9970\n",
       "pm25              6880\n",
       "precipitation    48004\n",
       "pressure           324\n",
       "so2              16332\n",
       "temperature        106\n",
       "uvi              53557\n",
       "wd               50771\n",
       "wind-gust        25751\n",
       "wind-speed        1034\n",
       "dtype: int64"
      ]
     },
     "execution_count": 13,
     "metadata": {},
     "output_type": "execute_result"
    }
   ],
   "source": [
    "data_df_2023_Q1.isnull().sum()"
   ]
  },
  {
   "cell_type": "code",
   "execution_count": null,
   "id": "3f8bb7a7",
   "metadata": {
    "id": "eGWahjkooqpz",
    "papermill": {
     "duration": 0.038272,
     "end_time": "2025-01-09T17:55:03.514672",
     "exception": false,
     "start_time": "2025-01-09T17:55:03.476400",
     "status": "completed"
    },
    "tags": []
   },
   "outputs": [],
   "source": []
  },
  {
   "cell_type": "markdown",
   "id": "a600ad31",
   "metadata": {
    "id": "enZ5-ZNNWCau",
    "papermill": {
     "duration": 0.038922,
     "end_time": "2025-01-09T17:55:03.596229",
     "exception": false,
     "start_time": "2025-01-09T17:55:03.557307",
     "status": "completed"
    },
    "tags": []
   },
   "source": [
    "# 2023_Q2"
   ]
  },
  {
   "cell_type": "code",
   "execution_count": 14,
   "id": "4b5831bd",
   "metadata": {
    "execution": {
     "iopub.execute_input": "2025-01-09T17:55:03.677146Z",
     "iopub.status.busy": "2025-01-09T17:55:03.676800Z",
     "iopub.status.idle": "2025-01-09T17:55:04.232171Z",
     "shell.execute_reply": "2025-01-09T17:55:04.231100Z"
    },
    "executionInfo": {
     "elapsed": 426,
     "status": "ok",
     "timestamp": 1734445420620,
     "user": {
      "displayName": "Tahmida Majumder",
      "userId": "15415648085337204568"
     },
     "user_tz": -480
    },
    "id": "5vEBWIVToq_X",
    "outputId": "dff81ce9-0c01-4222-d909-7b4731ba9f42",
    "papermill": {
     "duration": 0.597764,
     "end_time": "2025-01-09T17:55:04.233985",
     "exception": false,
     "start_time": "2025-01-09T17:55:03.636221",
     "status": "completed"
    },
    "tags": []
   },
   "outputs": [
    {
     "name": "stdout",
     "output_type": "stream",
     "text": [
      "(564703, 5)\n"
     ]
    },
    {
     "data": {
      "text/html": [
       "<div>\n",
       "<style scoped>\n",
       "    .dataframe tbody tr th:only-of-type {\n",
       "        vertical-align: middle;\n",
       "    }\n",
       "\n",
       "    .dataframe tbody tr th {\n",
       "        vertical-align: top;\n",
       "    }\n",
       "\n",
       "    .dataframe thead th {\n",
       "        text-align: right;\n",
       "    }\n",
       "</style>\n",
       "<table border=\"1\" class=\"dataframe\">\n",
       "  <thead>\n",
       "    <tr style=\"text-align: right;\">\n",
       "      <th></th>\n",
       "      <th>Date</th>\n",
       "      <th>Country</th>\n",
       "      <th>City</th>\n",
       "      <th>Specie</th>\n",
       "      <th>median</th>\n",
       "    </tr>\n",
       "  </thead>\n",
       "  <tbody>\n",
       "    <tr>\n",
       "      <th>0</th>\n",
       "      <td>4/4/2023</td>\n",
       "      <td>DZ</td>\n",
       "      <td>Algiers</td>\n",
       "      <td>pressure</td>\n",
       "      <td>1014.0</td>\n",
       "    </tr>\n",
       "    <tr>\n",
       "      <th>1</th>\n",
       "      <td>4/25/2023</td>\n",
       "      <td>DZ</td>\n",
       "      <td>Algiers</td>\n",
       "      <td>pressure</td>\n",
       "      <td>1016.0</td>\n",
       "    </tr>\n",
       "    <tr>\n",
       "      <th>2</th>\n",
       "      <td>5/25/2023</td>\n",
       "      <td>DZ</td>\n",
       "      <td>Algiers</td>\n",
       "      <td>pressure</td>\n",
       "      <td>1015.5</td>\n",
       "    </tr>\n",
       "    <tr>\n",
       "      <th>3</th>\n",
       "      <td>3/27/2023</td>\n",
       "      <td>DZ</td>\n",
       "      <td>Algiers</td>\n",
       "      <td>pressure</td>\n",
       "      <td>1021.0</td>\n",
       "    </tr>\n",
       "    <tr>\n",
       "      <th>4</th>\n",
       "      <td>3/31/2023</td>\n",
       "      <td>DZ</td>\n",
       "      <td>Algiers</td>\n",
       "      <td>pressure</td>\n",
       "      <td>1020.0</td>\n",
       "    </tr>\n",
       "    <tr>\n",
       "      <th>5</th>\n",
       "      <td>4/14/2023</td>\n",
       "      <td>DZ</td>\n",
       "      <td>Algiers</td>\n",
       "      <td>pressure</td>\n",
       "      <td>1017.0</td>\n",
       "    </tr>\n",
       "    <tr>\n",
       "      <th>6</th>\n",
       "      <td>4/30/2023</td>\n",
       "      <td>DZ</td>\n",
       "      <td>Algiers</td>\n",
       "      <td>pressure</td>\n",
       "      <td>1016.0</td>\n",
       "    </tr>\n",
       "    <tr>\n",
       "      <th>7</th>\n",
       "      <td>5/18/2023</td>\n",
       "      <td>DZ</td>\n",
       "      <td>Algiers</td>\n",
       "      <td>pressure</td>\n",
       "      <td>1015.0</td>\n",
       "    </tr>\n",
       "    <tr>\n",
       "      <th>8</th>\n",
       "      <td>6/11/2023</td>\n",
       "      <td>DZ</td>\n",
       "      <td>Algiers</td>\n",
       "      <td>pressure</td>\n",
       "      <td>1014.0</td>\n",
       "    </tr>\n",
       "    <tr>\n",
       "      <th>9</th>\n",
       "      <td>6/24/2023</td>\n",
       "      <td>DZ</td>\n",
       "      <td>Algiers</td>\n",
       "      <td>pressure</td>\n",
       "      <td>1018.0</td>\n",
       "    </tr>\n",
       "  </tbody>\n",
       "</table>\n",
       "</div>"
      ],
      "text/plain": [
       "        Date Country     City    Specie  median\n",
       "0   4/4/2023      DZ  Algiers  pressure  1014.0\n",
       "1  4/25/2023      DZ  Algiers  pressure  1016.0\n",
       "2  5/25/2023      DZ  Algiers  pressure  1015.5\n",
       "3  3/27/2023      DZ  Algiers  pressure  1021.0\n",
       "4  3/31/2023      DZ  Algiers  pressure  1020.0\n",
       "5  4/14/2023      DZ  Algiers  pressure  1017.0\n",
       "6  4/30/2023      DZ  Algiers  pressure  1016.0\n",
       "7  5/18/2023      DZ  Algiers  pressure  1015.0\n",
       "8  6/11/2023      DZ  Algiers  pressure  1014.0\n",
       "9  6/24/2023      DZ  Algiers  pressure  1018.0"
      ]
     },
     "execution_count": 14,
     "metadata": {},
     "output_type": "execute_result"
    }
   ],
   "source": [
    "# Loading the data\n",
    "raw_data_2023_Q2 = pd.read_csv(r\"/kaggle/input/complete-raw-median/waqi-covid19-airqualitydata-2023Q2.csv\")\n",
    "\n",
    "# print the shape\n",
    "print(raw_data_2023_Q2.shape)\n",
    "\n",
    "#runs the first 5 rows\n",
    "raw_data_2023_Q2.head(10)"
   ]
  },
  {
   "cell_type": "code",
   "execution_count": 15,
   "id": "79fc76fb",
   "metadata": {
    "execution": {
     "iopub.execute_input": "2025-01-09T17:55:04.312592Z",
     "iopub.status.busy": "2025-01-09T17:55:04.312240Z",
     "iopub.status.idle": "2025-01-09T17:55:04.396081Z",
     "shell.execute_reply": "2025-01-09T17:55:04.395068Z"
    },
    "id": "e0NZtVbIpC0V",
    "papermill": {
     "duration": 0.125696,
     "end_time": "2025-01-09T17:55:04.398014",
     "exception": false,
     "start_time": "2025-01-09T17:55:04.272318",
     "status": "completed"
    },
    "tags": []
   },
   "outputs": [],
   "source": [
    "# Convert 'Date' to datetime\n",
    "raw_data_2023_Q2['Date'] = pd.to_datetime(raw_data_2023_Q2['Date'])"
   ]
  },
  {
   "cell_type": "code",
   "execution_count": 16,
   "id": "7c69ae99",
   "metadata": {
    "execution": {
     "iopub.execute_input": "2025-01-09T17:55:04.476596Z",
     "iopub.status.busy": "2025-01-09T17:55:04.476262Z",
     "iopub.status.idle": "2025-01-09T17:55:04.481635Z",
     "shell.execute_reply": "2025-01-09T17:55:04.480809Z"
    },
    "executionInfo": {
     "elapsed": 7,
     "status": "ok",
     "timestamp": 1734445420621,
     "user": {
      "displayName": "Tahmida Majumder",
      "userId": "15415648085337204568"
     },
     "user_tz": -480
    },
    "id": "BUtlKAl2pYgH",
    "outputId": "645ffa67-69d8-401c-a95e-c36877b3448c",
    "papermill": {
     "duration": 0.046166,
     "end_time": "2025-01-09T17:55:04.483095",
     "exception": false,
     "start_time": "2025-01-09T17:55:04.436929",
     "status": "completed"
    },
    "tags": []
   },
   "outputs": [
    {
     "data": {
      "text/plain": [
       "(564703, 5)"
      ]
     },
     "execution_count": 16,
     "metadata": {},
     "output_type": "execute_result"
    }
   ],
   "source": [
    "raw_data_2023_Q2.shape"
   ]
  },
  {
   "cell_type": "code",
   "execution_count": 17,
   "id": "ef13b138",
   "metadata": {
    "execution": {
     "iopub.execute_input": "2025-01-09T17:55:04.565219Z",
     "iopub.status.busy": "2025-01-09T17:55:04.564888Z",
     "iopub.status.idle": "2025-01-09T17:55:04.964901Z",
     "shell.execute_reply": "2025-01-09T17:55:04.963970Z"
    },
    "id": "CPkWhbJQpgz2",
    "papermill": {
     "duration": 0.443342,
     "end_time": "2025-01-09T17:55:04.966833",
     "exception": false,
     "start_time": "2025-01-09T17:55:04.523491",
     "status": "completed"
    },
    "tags": []
   },
   "outputs": [],
   "source": [
    "# Pivot the data\n",
    "data_df_2023_Q2 = raw_data_2023_Q2.pivot_table(\n",
    "    index=['Date', 'Country', 'City'],  # Grouping columns\n",
    "    columns='Specie',                  # Unique values become columns\n",
    "    values='median',                   # Values to aggregate\n",
    "    aggfunc='mean'                     # Aggregation function\n",
    ").reset_index()\n"
   ]
  },
  {
   "cell_type": "code",
   "execution_count": 18,
   "id": "1b2d95dd",
   "metadata": {
    "execution": {
     "iopub.execute_input": "2025-01-09T17:55:05.047282Z",
     "iopub.status.busy": "2025-01-09T17:55:05.046919Z",
     "iopub.status.idle": "2025-01-09T17:55:05.072657Z",
     "shell.execute_reply": "2025-01-09T17:55:05.071845Z"
    },
    "executionInfo": {
     "elapsed": 12,
     "status": "ok",
     "timestamp": 1734445421619,
     "user": {
      "displayName": "Tahmida Majumder",
      "userId": "15415648085337204568"
     },
     "user_tz": -480
    },
    "id": "BKi-RIYAptUD",
    "outputId": "965baf5c-5018-4367-cc8b-f10880025ed4",
    "papermill": {
     "duration": 0.067221,
     "end_time": "2025-01-09T17:55:05.074204",
     "exception": false,
     "start_time": "2025-01-09T17:55:05.006983",
     "status": "completed"
    },
    "tags": []
   },
   "outputs": [
    {
     "name": "stdout",
     "output_type": "stream",
     "text": [
      "(55730, 22)\n"
     ]
    },
    {
     "data": {
      "text/html": [
       "<div>\n",
       "<style scoped>\n",
       "    .dataframe tbody tr th:only-of-type {\n",
       "        vertical-align: middle;\n",
       "    }\n",
       "\n",
       "    .dataframe tbody tr th {\n",
       "        vertical-align: top;\n",
       "    }\n",
       "\n",
       "    .dataframe thead th {\n",
       "        text-align: right;\n",
       "    }\n",
       "</style>\n",
       "<table border=\"1\" class=\"dataframe\">\n",
       "  <thead>\n",
       "    <tr style=\"text-align: right;\">\n",
       "      <th>Specie</th>\n",
       "      <th>Date</th>\n",
       "      <th>Country</th>\n",
       "      <th>City</th>\n",
       "      <th>aqi</th>\n",
       "      <th>co</th>\n",
       "      <th>dew</th>\n",
       "      <th>humidity</th>\n",
       "      <th>mepaqi</th>\n",
       "      <th>neph</th>\n",
       "      <th>no2</th>\n",
       "      <th>...</th>\n",
       "      <th>pm10</th>\n",
       "      <th>pm25</th>\n",
       "      <th>precipitation</th>\n",
       "      <th>pressure</th>\n",
       "      <th>so2</th>\n",
       "      <th>temperature</th>\n",
       "      <th>uvi</th>\n",
       "      <th>wd</th>\n",
       "      <th>wind-gust</th>\n",
       "      <th>wind-speed</th>\n",
       "    </tr>\n",
       "  </thead>\n",
       "  <tbody>\n",
       "    <tr>\n",
       "      <th>0</th>\n",
       "      <td>2023-03-27</td>\n",
       "      <td>AE</td>\n",
       "      <td>Abu Dhabi</td>\n",
       "      <td>NaN</td>\n",
       "      <td>0.1</td>\n",
       "      <td>16.0</td>\n",
       "      <td>53.0</td>\n",
       "      <td>NaN</td>\n",
       "      <td>NaN</td>\n",
       "      <td>13.6</td>\n",
       "      <td>...</td>\n",
       "      <td>94.0</td>\n",
       "      <td>85.0</td>\n",
       "      <td>NaN</td>\n",
       "      <td>1009.0</td>\n",
       "      <td>6.3</td>\n",
       "      <td>26.0</td>\n",
       "      <td>NaN</td>\n",
       "      <td>NaN</td>\n",
       "      <td>3.5</td>\n",
       "      <td>3.6</td>\n",
       "    </tr>\n",
       "    <tr>\n",
       "      <th>1</th>\n",
       "      <td>2023-03-27</td>\n",
       "      <td>AE</td>\n",
       "      <td>Dubai</td>\n",
       "      <td>NaN</td>\n",
       "      <td>NaN</td>\n",
       "      <td>14.0</td>\n",
       "      <td>38.0</td>\n",
       "      <td>NaN</td>\n",
       "      <td>NaN</td>\n",
       "      <td>NaN</td>\n",
       "      <td>...</td>\n",
       "      <td>NaN</td>\n",
       "      <td>89.0</td>\n",
       "      <td>NaN</td>\n",
       "      <td>1010.0</td>\n",
       "      <td>NaN</td>\n",
       "      <td>28.0</td>\n",
       "      <td>NaN</td>\n",
       "      <td>NaN</td>\n",
       "      <td>NaN</td>\n",
       "      <td>3.6</td>\n",
       "    </tr>\n",
       "    <tr>\n",
       "      <th>2</th>\n",
       "      <td>2023-03-27</td>\n",
       "      <td>AR</td>\n",
       "      <td>Buenos Aires</td>\n",
       "      <td>NaN</td>\n",
       "      <td>3.5</td>\n",
       "      <td>12.7</td>\n",
       "      <td>64.8</td>\n",
       "      <td>NaN</td>\n",
       "      <td>NaN</td>\n",
       "      <td>11.0</td>\n",
       "      <td>...</td>\n",
       "      <td>27.0</td>\n",
       "      <td>NaN</td>\n",
       "      <td>NaN</td>\n",
       "      <td>1015.7</td>\n",
       "      <td>4.6</td>\n",
       "      <td>21.4</td>\n",
       "      <td>NaN</td>\n",
       "      <td>67.5</td>\n",
       "      <td>5.5</td>\n",
       "      <td>2.5</td>\n",
       "    </tr>\n",
       "    <tr>\n",
       "      <th>3</th>\n",
       "      <td>2023-03-27</td>\n",
       "      <td>AT</td>\n",
       "      <td>Graz</td>\n",
       "      <td>NaN</td>\n",
       "      <td>0.1</td>\n",
       "      <td>-0.2</td>\n",
       "      <td>52.3</td>\n",
       "      <td>NaN</td>\n",
       "      <td>NaN</td>\n",
       "      <td>3.2</td>\n",
       "      <td>...</td>\n",
       "      <td>7.0</td>\n",
       "      <td>19.0</td>\n",
       "      <td>0.5</td>\n",
       "      <td>964.0</td>\n",
       "      <td>1.1</td>\n",
       "      <td>7.2</td>\n",
       "      <td>NaN</td>\n",
       "      <td>NaN</td>\n",
       "      <td>NaN</td>\n",
       "      <td>3.0</td>\n",
       "    </tr>\n",
       "    <tr>\n",
       "      <th>4</th>\n",
       "      <td>2023-03-27</td>\n",
       "      <td>AT</td>\n",
       "      <td>Innsbruck</td>\n",
       "      <td>NaN</td>\n",
       "      <td>0.1</td>\n",
       "      <td>1.5</td>\n",
       "      <td>77.4</td>\n",
       "      <td>NaN</td>\n",
       "      <td>NaN</td>\n",
       "      <td>6.4</td>\n",
       "      <td>...</td>\n",
       "      <td>4.0</td>\n",
       "      <td>NaN</td>\n",
       "      <td>0.4</td>\n",
       "      <td>1001.9</td>\n",
       "      <td>0.6</td>\n",
       "      <td>3.3</td>\n",
       "      <td>NaN</td>\n",
       "      <td>NaN</td>\n",
       "      <td>11.6</td>\n",
       "      <td>6.1</td>\n",
       "    </tr>\n",
       "  </tbody>\n",
       "</table>\n",
       "<p>5 rows × 22 columns</p>\n",
       "</div>"
      ],
      "text/plain": [
       "Specie       Date Country          City  aqi   co   dew  humidity  mepaqi  \\\n",
       "0      2023-03-27      AE     Abu Dhabi  NaN  0.1  16.0      53.0     NaN   \n",
       "1      2023-03-27      AE         Dubai  NaN  NaN  14.0      38.0     NaN   \n",
       "2      2023-03-27      AR  Buenos Aires  NaN  3.5  12.7      64.8     NaN   \n",
       "3      2023-03-27      AT          Graz  NaN  0.1  -0.2      52.3     NaN   \n",
       "4      2023-03-27      AT     Innsbruck  NaN  0.1   1.5      77.4     NaN   \n",
       "\n",
       "Specie  neph   no2  ...  pm10  pm25  precipitation  pressure  so2  \\\n",
       "0        NaN  13.6  ...  94.0  85.0            NaN    1009.0  6.3   \n",
       "1        NaN   NaN  ...   NaN  89.0            NaN    1010.0  NaN   \n",
       "2        NaN  11.0  ...  27.0   NaN            NaN    1015.7  4.6   \n",
       "3        NaN   3.2  ...   7.0  19.0            0.5     964.0  1.1   \n",
       "4        NaN   6.4  ...   4.0   NaN            0.4    1001.9  0.6   \n",
       "\n",
       "Specie  temperature  uvi    wd  wind-gust  wind-speed  \n",
       "0              26.0  NaN   NaN        3.5         3.6  \n",
       "1              28.0  NaN   NaN        NaN         3.6  \n",
       "2              21.4  NaN  67.5        5.5         2.5  \n",
       "3               7.2  NaN   NaN        NaN         3.0  \n",
       "4               3.3  NaN   NaN       11.6         6.1  \n",
       "\n",
       "[5 rows x 22 columns]"
      ]
     },
     "execution_count": 18,
     "metadata": {},
     "output_type": "execute_result"
    }
   ],
   "source": [
    "print(data_df_2023_Q2.shape)\n",
    "data_df_2023_Q2.head()"
   ]
  },
  {
   "cell_type": "code",
   "execution_count": 19,
   "id": "2e6bf3fb",
   "metadata": {
    "execution": {
     "iopub.execute_input": "2025-01-09T17:55:05.156421Z",
     "iopub.status.busy": "2025-01-09T17:55:05.156061Z",
     "iopub.status.idle": "2025-01-09T17:55:05.170656Z",
     "shell.execute_reply": "2025-01-09T17:55:05.169475Z"
    },
    "executionInfo": {
     "elapsed": 8,
     "status": "ok",
     "timestamp": 1734445421619,
     "user": {
      "displayName": "Tahmida Majumder",
      "userId": "15415648085337204568"
     },
     "user_tz": -480
    },
    "id": "ZB66ln4Lp3PI",
    "outputId": "1dbc8623-eb83-4a88-c64a-cfa883194649",
    "papermill": {
     "duration": 0.059138,
     "end_time": "2025-01-09T17:55:05.172561",
     "exception": false,
     "start_time": "2025-01-09T17:55:05.113423",
     "status": "completed"
    },
    "tags": []
   },
   "outputs": [
    {
     "data": {
      "text/plain": [
       "Specie\n",
       "Date                 0\n",
       "Country              0\n",
       "City                 0\n",
       "aqi              54358\n",
       "co               21724\n",
       "dew              11112\n",
       "humidity           206\n",
       "mepaqi           55632\n",
       "neph             55534\n",
       "no2               9257\n",
       "o3               12462\n",
       "pm1              55479\n",
       "pm10             10038\n",
       "pm25              7057\n",
       "precipitation    49911\n",
       "pressure           391\n",
       "so2              17226\n",
       "temperature        150\n",
       "uvi              54759\n",
       "wd               51871\n",
       "wind-gust        25758\n",
       "wind-speed        1242\n",
       "dtype: int64"
      ]
     },
     "execution_count": 19,
     "metadata": {},
     "output_type": "execute_result"
    }
   ],
   "source": [
    "data_df_2023_Q2.isnull().sum()"
   ]
  },
  {
   "cell_type": "markdown",
   "id": "a1aa0234",
   "metadata": {
    "id": "NzGm9wFEWInj",
    "papermill": {
     "duration": 0.038833,
     "end_time": "2025-01-09T17:55:05.251377",
     "exception": false,
     "start_time": "2025-01-09T17:55:05.212544",
     "status": "completed"
    },
    "tags": []
   },
   "source": [
    "# 2023_Q3"
   ]
  },
  {
   "cell_type": "code",
   "execution_count": 20,
   "id": "d5ff272b",
   "metadata": {
    "execution": {
     "iopub.execute_input": "2025-01-09T17:55:05.331097Z",
     "iopub.status.busy": "2025-01-09T17:55:05.330682Z",
     "iopub.status.idle": "2025-01-09T17:55:05.584183Z",
     "shell.execute_reply": "2025-01-09T17:55:05.583204Z"
    },
    "executionInfo": {
     "elapsed": 394,
     "status": "ok",
     "timestamp": 1734445422006,
     "user": {
      "displayName": "Tahmida Majumder",
      "userId": "15415648085337204568"
     },
     "user_tz": -480
    },
    "id": "YPhZZpfTotON",
    "outputId": "72aecce4-09d7-4988-9826-c92f2869761e",
    "papermill": {
     "duration": 0.295358,
     "end_time": "2025-01-09T17:55:05.585919",
     "exception": false,
     "start_time": "2025-01-09T17:55:05.290561",
     "status": "completed"
    },
    "tags": []
   },
   "outputs": [
    {
     "name": "stdout",
     "output_type": "stream",
     "text": [
      "(255419, 5)\n"
     ]
    },
    {
     "data": {
      "text/html": [
       "<div>\n",
       "<style scoped>\n",
       "    .dataframe tbody tr th:only-of-type {\n",
       "        vertical-align: middle;\n",
       "    }\n",
       "\n",
       "    .dataframe tbody tr th {\n",
       "        vertical-align: top;\n",
       "    }\n",
       "\n",
       "    .dataframe thead th {\n",
       "        text-align: right;\n",
       "    }\n",
       "</style>\n",
       "<table border=\"1\" class=\"dataframe\">\n",
       "  <thead>\n",
       "    <tr style=\"text-align: right;\">\n",
       "      <th></th>\n",
       "      <th>Date</th>\n",
       "      <th>Country</th>\n",
       "      <th>City</th>\n",
       "      <th>Specie</th>\n",
       "      <th>median</th>\n",
       "    </tr>\n",
       "  </thead>\n",
       "  <tbody>\n",
       "    <tr>\n",
       "      <th>0</th>\n",
       "      <td>7/20/2023</td>\n",
       "      <td>JP</td>\n",
       "      <td>Kumamoto</td>\n",
       "      <td>so2</td>\n",
       "      <td>1.5</td>\n",
       "    </tr>\n",
       "    <tr>\n",
       "      <th>1</th>\n",
       "      <td>8/12/2023</td>\n",
       "      <td>JP</td>\n",
       "      <td>Kumamoto</td>\n",
       "      <td>so2</td>\n",
       "      <td>1.5</td>\n",
       "    </tr>\n",
       "    <tr>\n",
       "      <th>2</th>\n",
       "      <td>8/23/2023</td>\n",
       "      <td>JP</td>\n",
       "      <td>Kumamoto</td>\n",
       "      <td>so2</td>\n",
       "      <td>1.5</td>\n",
       "    </tr>\n",
       "    <tr>\n",
       "      <th>3</th>\n",
       "      <td>8/25/2023</td>\n",
       "      <td>JP</td>\n",
       "      <td>Kumamoto</td>\n",
       "      <td>so2</td>\n",
       "      <td>1.5</td>\n",
       "    </tr>\n",
       "    <tr>\n",
       "      <th>4</th>\n",
       "      <td>9/13/2023</td>\n",
       "      <td>JP</td>\n",
       "      <td>Kumamoto</td>\n",
       "      <td>so2</td>\n",
       "      <td>1.5</td>\n",
       "    </tr>\n",
       "    <tr>\n",
       "      <th>5</th>\n",
       "      <td>9/11/2023</td>\n",
       "      <td>JP</td>\n",
       "      <td>Kumamoto</td>\n",
       "      <td>so2</td>\n",
       "      <td>1.5</td>\n",
       "    </tr>\n",
       "    <tr>\n",
       "      <th>6</th>\n",
       "      <td>6/30/2023</td>\n",
       "      <td>JP</td>\n",
       "      <td>Kumamoto</td>\n",
       "      <td>so2</td>\n",
       "      <td>1.5</td>\n",
       "    </tr>\n",
       "    <tr>\n",
       "      <th>7</th>\n",
       "      <td>7/1/2023</td>\n",
       "      <td>JP</td>\n",
       "      <td>Kumamoto</td>\n",
       "      <td>so2</td>\n",
       "      <td>1.5</td>\n",
       "    </tr>\n",
       "    <tr>\n",
       "      <th>8</th>\n",
       "      <td>7/2/2023</td>\n",
       "      <td>JP</td>\n",
       "      <td>Kumamoto</td>\n",
       "      <td>so2</td>\n",
       "      <td>1.5</td>\n",
       "    </tr>\n",
       "    <tr>\n",
       "      <th>9</th>\n",
       "      <td>7/5/2023</td>\n",
       "      <td>JP</td>\n",
       "      <td>Kumamoto</td>\n",
       "      <td>so2</td>\n",
       "      <td>1.5</td>\n",
       "    </tr>\n",
       "  </tbody>\n",
       "</table>\n",
       "</div>"
      ],
      "text/plain": [
       "        Date Country      City Specie  median\n",
       "0  7/20/2023      JP  Kumamoto    so2     1.5\n",
       "1  8/12/2023      JP  Kumamoto    so2     1.5\n",
       "2  8/23/2023      JP  Kumamoto    so2     1.5\n",
       "3  8/25/2023      JP  Kumamoto    so2     1.5\n",
       "4  9/13/2023      JP  Kumamoto    so2     1.5\n",
       "5  9/11/2023      JP  Kumamoto    so2     1.5\n",
       "6  6/30/2023      JP  Kumamoto    so2     1.5\n",
       "7   7/1/2023      JP  Kumamoto    so2     1.5\n",
       "8   7/2/2023      JP  Kumamoto    so2     1.5\n",
       "9   7/5/2023      JP  Kumamoto    so2     1.5"
      ]
     },
     "execution_count": 20,
     "metadata": {},
     "output_type": "execute_result"
    }
   ],
   "source": [
    "# Loading the data\n",
    "raw_data_2023_Q3 = pd.read_csv(r\"/kaggle/input/complete-raw-median/waqi-covid19-airqualitydata-2023Q3.csv\")\n",
    "\n",
    "# print the shape\n",
    "print(raw_data_2023_Q3.shape)\n",
    "\n",
    "#runs the first 5 rows\n",
    "raw_data_2023_Q3.head(10)"
   ]
  },
  {
   "cell_type": "code",
   "execution_count": 21,
   "id": "f517b0a1",
   "metadata": {
    "execution": {
     "iopub.execute_input": "2025-01-09T17:55:05.666788Z",
     "iopub.status.busy": "2025-01-09T17:55:05.666420Z",
     "iopub.status.idle": "2025-01-09T17:55:05.703090Z",
     "shell.execute_reply": "2025-01-09T17:55:05.702282Z"
    },
    "id": "egnxcT2UpMuV",
    "papermill": {
     "duration": 0.078853,
     "end_time": "2025-01-09T17:55:05.704972",
     "exception": false,
     "start_time": "2025-01-09T17:55:05.626119",
     "status": "completed"
    },
    "tags": []
   },
   "outputs": [],
   "source": [
    "# Convert 'Date' to datetime\n",
    "raw_data_2023_Q3['Date'] = pd.to_datetime(raw_data_2023_Q3['Date'])"
   ]
  },
  {
   "cell_type": "code",
   "execution_count": 22,
   "id": "93b40a83",
   "metadata": {
    "execution": {
     "iopub.execute_input": "2025-01-09T17:55:05.788188Z",
     "iopub.status.busy": "2025-01-09T17:55:05.787748Z",
     "iopub.status.idle": "2025-01-09T17:55:05.793407Z",
     "shell.execute_reply": "2025-01-09T17:55:05.792381Z"
    },
    "executionInfo": {
     "elapsed": 8,
     "status": "ok",
     "timestamp": 1734445422007,
     "user": {
      "displayName": "Tahmida Majumder",
      "userId": "15415648085337204568"
     },
     "user_tz": -480
    },
    "id": "vOvM6fDlpaAi",
    "outputId": "41886017-a791-4866-ea2c-d82414ed3d88",
    "papermill": {
     "duration": 0.049178,
     "end_time": "2025-01-09T17:55:05.795118",
     "exception": false,
     "start_time": "2025-01-09T17:55:05.745940",
     "status": "completed"
    },
    "tags": []
   },
   "outputs": [
    {
     "data": {
      "text/plain": [
       "(255419, 5)"
      ]
     },
     "execution_count": 22,
     "metadata": {},
     "output_type": "execute_result"
    }
   ],
   "source": [
    "raw_data_2023_Q3.shape"
   ]
  },
  {
   "cell_type": "code",
   "execution_count": 23,
   "id": "c63c89a8",
   "metadata": {
    "execution": {
     "iopub.execute_input": "2025-01-09T17:55:05.878371Z",
     "iopub.status.busy": "2025-01-09T17:55:05.878016Z",
     "iopub.status.idle": "2025-01-09T17:55:06.045853Z",
     "shell.execute_reply": "2025-01-09T17:55:06.044777Z"
    },
    "id": "4JO0oj4upiAU",
    "papermill": {
     "duration": 0.211164,
     "end_time": "2025-01-09T17:55:06.047725",
     "exception": false,
     "start_time": "2025-01-09T17:55:05.836561",
     "status": "completed"
    },
    "tags": []
   },
   "outputs": [],
   "source": [
    "# Pivot the data\n",
    "data_df_2023_Q3 = raw_data_2023_Q3.pivot_table(\n",
    "    index=['Date', 'Country', 'City'],  # Grouping columns\n",
    "    columns='Specie',                  # Unique values become columns\n",
    "    values='median',                   # Values to aggregate\n",
    "    aggfunc='mean'                     # Aggregation function\n",
    ").reset_index()"
   ]
  },
  {
   "cell_type": "code",
   "execution_count": 24,
   "id": "4772c90c",
   "metadata": {
    "execution": {
     "iopub.execute_input": "2025-01-09T17:55:06.130836Z",
     "iopub.status.busy": "2025-01-09T17:55:06.130436Z",
     "iopub.status.idle": "2025-01-09T17:55:06.155234Z",
     "shell.execute_reply": "2025-01-09T17:55:06.154122Z"
    },
    "executionInfo": {
     "elapsed": 416,
     "status": "ok",
     "timestamp": 1734445422417,
     "user": {
      "displayName": "Tahmida Majumder",
      "userId": "15415648085337204568"
     },
     "user_tz": -480
    },
    "id": "IOPN1iyrpuXD",
    "outputId": "04d7043f-dced-4ae7-9aef-524a2155aede",
    "papermill": {
     "duration": 0.06815,
     "end_time": "2025-01-09T17:55:06.156811",
     "exception": false,
     "start_time": "2025-01-09T17:55:06.088661",
     "status": "completed"
    },
    "tags": []
   },
   "outputs": [
    {
     "name": "stdout",
     "output_type": "stream",
     "text": [
      "(25197, 21)\n"
     ]
    },
    {
     "data": {
      "text/html": [
       "<div>\n",
       "<style scoped>\n",
       "    .dataframe tbody tr th:only-of-type {\n",
       "        vertical-align: middle;\n",
       "    }\n",
       "\n",
       "    .dataframe tbody tr th {\n",
       "        vertical-align: top;\n",
       "    }\n",
       "\n",
       "    .dataframe thead th {\n",
       "        text-align: right;\n",
       "    }\n",
       "</style>\n",
       "<table border=\"1\" class=\"dataframe\">\n",
       "  <thead>\n",
       "    <tr style=\"text-align: right;\">\n",
       "      <th>Specie</th>\n",
       "      <th>Date</th>\n",
       "      <th>Country</th>\n",
       "      <th>City</th>\n",
       "      <th>aqi</th>\n",
       "      <th>co</th>\n",
       "      <th>dew</th>\n",
       "      <th>humidity</th>\n",
       "      <th>mepaqi</th>\n",
       "      <th>neph</th>\n",
       "      <th>no2</th>\n",
       "      <th>...</th>\n",
       "      <th>pm1</th>\n",
       "      <th>pm10</th>\n",
       "      <th>pm25</th>\n",
       "      <th>precipitation</th>\n",
       "      <th>pressure</th>\n",
       "      <th>so2</th>\n",
       "      <th>temperature</th>\n",
       "      <th>wd</th>\n",
       "      <th>wind-gust</th>\n",
       "      <th>wind-speed</th>\n",
       "    </tr>\n",
       "  </thead>\n",
       "  <tbody>\n",
       "    <tr>\n",
       "      <th>0</th>\n",
       "      <td>2023-06-26</td>\n",
       "      <td>AE</td>\n",
       "      <td>Abu Dhabi</td>\n",
       "      <td>NaN</td>\n",
       "      <td>0.1</td>\n",
       "      <td>24.0</td>\n",
       "      <td>56.0</td>\n",
       "      <td>NaN</td>\n",
       "      <td>NaN</td>\n",
       "      <td>6.4</td>\n",
       "      <td>...</td>\n",
       "      <td>NaN</td>\n",
       "      <td>72.0</td>\n",
       "      <td>99.0</td>\n",
       "      <td>NaN</td>\n",
       "      <td>996.0</td>\n",
       "      <td>4.4</td>\n",
       "      <td>32.0</td>\n",
       "      <td>NaN</td>\n",
       "      <td>NaN</td>\n",
       "      <td>3.0</td>\n",
       "    </tr>\n",
       "    <tr>\n",
       "      <th>1</th>\n",
       "      <td>2023-06-26</td>\n",
       "      <td>AE</td>\n",
       "      <td>Dubai</td>\n",
       "      <td>NaN</td>\n",
       "      <td>NaN</td>\n",
       "      <td>26.0</td>\n",
       "      <td>53.0</td>\n",
       "      <td>NaN</td>\n",
       "      <td>NaN</td>\n",
       "      <td>NaN</td>\n",
       "      <td>...</td>\n",
       "      <td>NaN</td>\n",
       "      <td>NaN</td>\n",
       "      <td>102.0</td>\n",
       "      <td>NaN</td>\n",
       "      <td>995.0</td>\n",
       "      <td>NaN</td>\n",
       "      <td>37.0</td>\n",
       "      <td>NaN</td>\n",
       "      <td>NaN</td>\n",
       "      <td>3.6</td>\n",
       "    </tr>\n",
       "    <tr>\n",
       "      <th>2</th>\n",
       "      <td>2023-06-26</td>\n",
       "      <td>AR</td>\n",
       "      <td>Buenos Aires</td>\n",
       "      <td>NaN</td>\n",
       "      <td>5.7</td>\n",
       "      <td>12.4</td>\n",
       "      <td>86.0</td>\n",
       "      <td>NaN</td>\n",
       "      <td>NaN</td>\n",
       "      <td>14.2</td>\n",
       "      <td>...</td>\n",
       "      <td>NaN</td>\n",
       "      <td>35.0</td>\n",
       "      <td>78.0</td>\n",
       "      <td>NaN</td>\n",
       "      <td>1010.5</td>\n",
       "      <td>1.6</td>\n",
       "      <td>15.0</td>\n",
       "      <td>202.5</td>\n",
       "      <td>0.8</td>\n",
       "      <td>1.5</td>\n",
       "    </tr>\n",
       "    <tr>\n",
       "      <th>3</th>\n",
       "      <td>2023-06-26</td>\n",
       "      <td>AU</td>\n",
       "      <td>Adelaide</td>\n",
       "      <td>NaN</td>\n",
       "      <td>2.3</td>\n",
       "      <td>10.2</td>\n",
       "      <td>81.2</td>\n",
       "      <td>NaN</td>\n",
       "      <td>NaN</td>\n",
       "      <td>4.6</td>\n",
       "      <td>...</td>\n",
       "      <td>NaN</td>\n",
       "      <td>13.0</td>\n",
       "      <td>21.0</td>\n",
       "      <td>0.1</td>\n",
       "      <td>1018.6</td>\n",
       "      <td>NaN</td>\n",
       "      <td>11.6</td>\n",
       "      <td>NaN</td>\n",
       "      <td>6.7</td>\n",
       "      <td>3.8</td>\n",
       "    </tr>\n",
       "    <tr>\n",
       "      <th>4</th>\n",
       "      <td>2023-06-26</td>\n",
       "      <td>AU</td>\n",
       "      <td>Brisbane</td>\n",
       "      <td>NaN</td>\n",
       "      <td>1.5</td>\n",
       "      <td>1.0</td>\n",
       "      <td>27.3</td>\n",
       "      <td>NaN</td>\n",
       "      <td>NaN</td>\n",
       "      <td>5.5</td>\n",
       "      <td>...</td>\n",
       "      <td>NaN</td>\n",
       "      <td>11.0</td>\n",
       "      <td>14.0</td>\n",
       "      <td>NaN</td>\n",
       "      <td>1016.0</td>\n",
       "      <td>1.1</td>\n",
       "      <td>19.7</td>\n",
       "      <td>260.0</td>\n",
       "      <td>10.6</td>\n",
       "      <td>1.8</td>\n",
       "    </tr>\n",
       "  </tbody>\n",
       "</table>\n",
       "<p>5 rows × 21 columns</p>\n",
       "</div>"
      ],
      "text/plain": [
       "Specie       Date Country          City  aqi   co   dew  humidity  mepaqi  \\\n",
       "0      2023-06-26      AE     Abu Dhabi  NaN  0.1  24.0      56.0     NaN   \n",
       "1      2023-06-26      AE         Dubai  NaN  NaN  26.0      53.0     NaN   \n",
       "2      2023-06-26      AR  Buenos Aires  NaN  5.7  12.4      86.0     NaN   \n",
       "3      2023-06-26      AU      Adelaide  NaN  2.3  10.2      81.2     NaN   \n",
       "4      2023-06-26      AU      Brisbane  NaN  1.5   1.0      27.3     NaN   \n",
       "\n",
       "Specie  neph   no2  ...  pm1  pm10   pm25  precipitation  pressure  so2  \\\n",
       "0        NaN   6.4  ...  NaN  72.0   99.0            NaN     996.0  4.4   \n",
       "1        NaN   NaN  ...  NaN   NaN  102.0            NaN     995.0  NaN   \n",
       "2        NaN  14.2  ...  NaN  35.0   78.0            NaN    1010.5  1.6   \n",
       "3        NaN   4.6  ...  NaN  13.0   21.0            0.1    1018.6  NaN   \n",
       "4        NaN   5.5  ...  NaN  11.0   14.0            NaN    1016.0  1.1   \n",
       "\n",
       "Specie  temperature     wd  wind-gust  wind-speed  \n",
       "0              32.0    NaN        NaN         3.0  \n",
       "1              37.0    NaN        NaN         3.6  \n",
       "2              15.0  202.5        0.8         1.5  \n",
       "3              11.6    NaN        6.7         3.8  \n",
       "4              19.7  260.0       10.6         1.8  \n",
       "\n",
       "[5 rows x 21 columns]"
      ]
     },
     "execution_count": 24,
     "metadata": {},
     "output_type": "execute_result"
    }
   ],
   "source": [
    "print(data_df_2023_Q3.shape)\n",
    "data_df_2023_Q3.head()"
   ]
  },
  {
   "cell_type": "code",
   "execution_count": 25,
   "id": "b3cb785d",
   "metadata": {
    "execution": {
     "iopub.execute_input": "2025-01-09T17:55:06.238080Z",
     "iopub.status.busy": "2025-01-09T17:55:06.237638Z",
     "iopub.status.idle": "2025-01-09T17:55:06.248146Z",
     "shell.execute_reply": "2025-01-09T17:55:06.247108Z"
    },
    "executionInfo": {
     "elapsed": 7,
     "status": "ok",
     "timestamp": 1734445422417,
     "user": {
      "displayName": "Tahmida Majumder",
      "userId": "15415648085337204568"
     },
     "user_tz": -480
    },
    "id": "nmU29RmFp4aI",
    "outputId": "840ca7e9-e5b2-4ec1-b8b5-60f43e5204ef",
    "papermill": {
     "duration": 0.052481,
     "end_time": "2025-01-09T17:55:06.249742",
     "exception": false,
     "start_time": "2025-01-09T17:55:06.197261",
     "status": "completed"
    },
    "tags": []
   },
   "outputs": [
    {
     "data": {
      "text/plain": [
       "Specie\n",
       "Date                 0\n",
       "Country              0\n",
       "City                 0\n",
       "aqi              25102\n",
       "co               10340\n",
       "dew               5166\n",
       "humidity            23\n",
       "mepaqi           25099\n",
       "neph             25001\n",
       "no2               4438\n",
       "o3                3734\n",
       "pm1              25100\n",
       "pm10              5937\n",
       "pm25              2644\n",
       "precipitation    21924\n",
       "pressure           169\n",
       "so2               8920\n",
       "temperature          2\n",
       "wd               24217\n",
       "wind-gust         9754\n",
       "wind-speed         557\n",
       "dtype: int64"
      ]
     },
     "execution_count": 25,
     "metadata": {},
     "output_type": "execute_result"
    }
   ],
   "source": [
    "data_df_2023_Q3.isnull().sum()"
   ]
  },
  {
   "cell_type": "code",
   "execution_count": null,
   "id": "ba8293a4",
   "metadata": {
    "id": "ZCn5R1Oqo4ES",
    "papermill": {
     "duration": 0.04002,
     "end_time": "2025-01-09T17:55:06.329996",
     "exception": false,
     "start_time": "2025-01-09T17:55:06.289976",
     "status": "completed"
    },
    "tags": []
   },
   "outputs": [],
   "source": []
  },
  {
   "cell_type": "markdown",
   "id": "d51ac3ee",
   "metadata": {
    "id": "zx7OUYrpWORd",
    "papermill": {
     "duration": 0.039848,
     "end_time": "2025-01-09T17:55:06.409703",
     "exception": false,
     "start_time": "2025-01-09T17:55:06.369855",
     "status": "completed"
    },
    "tags": []
   },
   "source": [
    "# 2023_Q4"
   ]
  },
  {
   "cell_type": "code",
   "execution_count": 26,
   "id": "9b567d76",
   "metadata": {
    "execution": {
     "iopub.execute_input": "2025-01-09T17:55:06.495143Z",
     "iopub.status.busy": "2025-01-09T17:55:06.494736Z",
     "iopub.status.idle": "2025-01-09T17:55:06.737309Z",
     "shell.execute_reply": "2025-01-09T17:55:06.736287Z"
    },
    "executionInfo": {
     "elapsed": 461,
     "status": "ok",
     "timestamp": 1734445422872,
     "user": {
      "displayName": "Tahmida Majumder",
      "userId": "15415648085337204568"
     },
     "user_tz": -480
    },
    "id": "pSl4NkPDot4g",
    "outputId": "6c541288-bf4c-4ab5-f571-68ecaa520f34",
    "papermill": {
     "duration": 0.287351,
     "end_time": "2025-01-09T17:55:06.739213",
     "exception": false,
     "start_time": "2025-01-09T17:55:06.451862",
     "status": "completed"
    },
    "tags": []
   },
   "outputs": [
    {
     "name": "stdout",
     "output_type": "stream",
     "text": [
      "(217731, 5)\n"
     ]
    },
    {
     "data": {
      "text/html": [
       "<div>\n",
       "<style scoped>\n",
       "    .dataframe tbody tr th:only-of-type {\n",
       "        vertical-align: middle;\n",
       "    }\n",
       "\n",
       "    .dataframe tbody tr th {\n",
       "        vertical-align: top;\n",
       "    }\n",
       "\n",
       "    .dataframe thead th {\n",
       "        text-align: right;\n",
       "    }\n",
       "</style>\n",
       "<table border=\"1\" class=\"dataframe\">\n",
       "  <thead>\n",
       "    <tr style=\"text-align: right;\">\n",
       "      <th></th>\n",
       "      <th>Date</th>\n",
       "      <th>Country</th>\n",
       "      <th>City</th>\n",
       "      <th>Specie</th>\n",
       "      <th>median</th>\n",
       "    </tr>\n",
       "  </thead>\n",
       "  <tbody>\n",
       "    <tr>\n",
       "      <th>0</th>\n",
       "      <td>10/30/2023</td>\n",
       "      <td>FI</td>\n",
       "      <td>Turku</td>\n",
       "      <td>pressure</td>\n",
       "      <td>1002.0</td>\n",
       "    </tr>\n",
       "    <tr>\n",
       "      <th>1</th>\n",
       "      <td>11/9/2023</td>\n",
       "      <td>FI</td>\n",
       "      <td>Turku</td>\n",
       "      <td>pressure</td>\n",
       "      <td>1004.0</td>\n",
       "    </tr>\n",
       "    <tr>\n",
       "      <th>2</th>\n",
       "      <td>11/26/2023</td>\n",
       "      <td>FI</td>\n",
       "      <td>Turku</td>\n",
       "      <td>pressure</td>\n",
       "      <td>1005.0</td>\n",
       "    </tr>\n",
       "    <tr>\n",
       "      <th>3</th>\n",
       "      <td>12/6/2023</td>\n",
       "      <td>FI</td>\n",
       "      <td>Turku</td>\n",
       "      <td>pressure</td>\n",
       "      <td>1023.0</td>\n",
       "    </tr>\n",
       "    <tr>\n",
       "      <th>4</th>\n",
       "      <td>12/12/2023</td>\n",
       "      <td>FI</td>\n",
       "      <td>Turku</td>\n",
       "      <td>pressure</td>\n",
       "      <td>1008.0</td>\n",
       "    </tr>\n",
       "    <tr>\n",
       "      <th>5</th>\n",
       "      <td>12/13/2023</td>\n",
       "      <td>FI</td>\n",
       "      <td>Turku</td>\n",
       "      <td>pressure</td>\n",
       "      <td>1007.0</td>\n",
       "    </tr>\n",
       "    <tr>\n",
       "      <th>6</th>\n",
       "      <td>12/30/2023</td>\n",
       "      <td>FI</td>\n",
       "      <td>Turku</td>\n",
       "      <td>pressure</td>\n",
       "      <td>995.5</td>\n",
       "    </tr>\n",
       "    <tr>\n",
       "      <th>7</th>\n",
       "      <td>10/8/2023</td>\n",
       "      <td>FI</td>\n",
       "      <td>Turku</td>\n",
       "      <td>pressure</td>\n",
       "      <td>1005.5</td>\n",
       "    </tr>\n",
       "    <tr>\n",
       "      <th>8</th>\n",
       "      <td>11/10/2023</td>\n",
       "      <td>FI</td>\n",
       "      <td>Turku</td>\n",
       "      <td>pressure</td>\n",
       "      <td>999.0</td>\n",
       "    </tr>\n",
       "    <tr>\n",
       "      <th>9</th>\n",
       "      <td>11/22/2023</td>\n",
       "      <td>FI</td>\n",
       "      <td>Turku</td>\n",
       "      <td>pressure</td>\n",
       "      <td>1016.5</td>\n",
       "    </tr>\n",
       "  </tbody>\n",
       "</table>\n",
       "</div>"
      ],
      "text/plain": [
       "         Date Country   City    Specie  median\n",
       "0  10/30/2023      FI  Turku  pressure  1002.0\n",
       "1   11/9/2023      FI  Turku  pressure  1004.0\n",
       "2  11/26/2023      FI  Turku  pressure  1005.0\n",
       "3   12/6/2023      FI  Turku  pressure  1023.0\n",
       "4  12/12/2023      FI  Turku  pressure  1008.0\n",
       "5  12/13/2023      FI  Turku  pressure  1007.0\n",
       "6  12/30/2023      FI  Turku  pressure   995.5\n",
       "7   10/8/2023      FI  Turku  pressure  1005.5\n",
       "8  11/10/2023      FI  Turku  pressure   999.0\n",
       "9  11/22/2023      FI  Turku  pressure  1016.5"
      ]
     },
     "execution_count": 26,
     "metadata": {},
     "output_type": "execute_result"
    }
   ],
   "source": [
    "# Loading the data\n",
    "raw_data_2023_Q4 = pd.read_csv(r\"/kaggle/input/complete-raw-median/waqi-covid19-airqualitydata-2023Q4.csv\")\n",
    "\n",
    "# print the shape\n",
    "print(raw_data_2023_Q4.shape)\n",
    "\n",
    "#runs the first 5 rows\n",
    "raw_data_2023_Q4.head(10)"
   ]
  },
  {
   "cell_type": "code",
   "execution_count": 27,
   "id": "bb16b946",
   "metadata": {
    "execution": {
     "iopub.execute_input": "2025-01-09T17:55:06.820996Z",
     "iopub.status.busy": "2025-01-09T17:55:06.820609Z",
     "iopub.status.idle": "2025-01-09T17:55:06.854680Z",
     "shell.execute_reply": "2025-01-09T17:55:06.853601Z"
    },
    "id": "svTbkVghpOnR",
    "papermill": {
     "duration": 0.07724,
     "end_time": "2025-01-09T17:55:06.856592",
     "exception": false,
     "start_time": "2025-01-09T17:55:06.779352",
     "status": "completed"
    },
    "tags": []
   },
   "outputs": [],
   "source": [
    "# Convert 'Date' to datetime\n",
    "raw_data_2023_Q4['Date'] = pd.to_datetime(raw_data_2023_Q4['Date'])"
   ]
  },
  {
   "cell_type": "code",
   "execution_count": 28,
   "id": "6c133df5",
   "metadata": {
    "execution": {
     "iopub.execute_input": "2025-01-09T17:55:06.940187Z",
     "iopub.status.busy": "2025-01-09T17:55:06.939792Z",
     "iopub.status.idle": "2025-01-09T17:55:06.945488Z",
     "shell.execute_reply": "2025-01-09T17:55:06.944492Z"
    },
    "executionInfo": {
     "elapsed": 8,
     "status": "ok",
     "timestamp": 1734445422873,
     "user": {
      "displayName": "Tahmida Majumder",
      "userId": "15415648085337204568"
     },
     "user_tz": -480
    },
    "id": "D9JWIFFVpbUZ",
    "outputId": "80ebfeb3-e4e3-4c0c-c1f6-eaf4f678715e",
    "papermill": {
     "duration": 0.049083,
     "end_time": "2025-01-09T17:55:06.947123",
     "exception": false,
     "start_time": "2025-01-09T17:55:06.898040",
     "status": "completed"
    },
    "tags": []
   },
   "outputs": [
    {
     "data": {
      "text/plain": [
       "(217731, 5)"
      ]
     },
     "execution_count": 28,
     "metadata": {},
     "output_type": "execute_result"
    }
   ],
   "source": [
    "raw_data_2023_Q4.shape"
   ]
  },
  {
   "cell_type": "code",
   "execution_count": 29,
   "id": "d0e254a4",
   "metadata": {
    "execution": {
     "iopub.execute_input": "2025-01-09T17:55:07.031325Z",
     "iopub.status.busy": "2025-01-09T17:55:07.030992Z",
     "iopub.status.idle": "2025-01-09T17:55:07.174665Z",
     "shell.execute_reply": "2025-01-09T17:55:07.173822Z"
    },
    "id": "JEg6HZkRpjGB",
    "papermill": {
     "duration": 0.188862,
     "end_time": "2025-01-09T17:55:07.176481",
     "exception": false,
     "start_time": "2025-01-09T17:55:06.987619",
     "status": "completed"
    },
    "tags": []
   },
   "outputs": [],
   "source": [
    "# Pivot the data\n",
    "data_df_2023_Q4 = raw_data_2023_Q4.pivot_table(\n",
    "    index=['Date', 'Country', 'City'],  # Grouping columns\n",
    "    columns='Specie',                  # Unique values become columns\n",
    "    values='median',                   # Values to aggregate\n",
    "    aggfunc='mean'                     # Aggregation function\n",
    ").reset_index()"
   ]
  },
  {
   "cell_type": "code",
   "execution_count": 30,
   "id": "cdda045d",
   "metadata": {
    "execution": {
     "iopub.execute_input": "2025-01-09T17:55:07.262781Z",
     "iopub.status.busy": "2025-01-09T17:55:07.262400Z",
     "iopub.status.idle": "2025-01-09T17:55:07.287116Z",
     "shell.execute_reply": "2025-01-09T17:55:07.286118Z"
    },
    "executionInfo": {
     "elapsed": 11,
     "status": "ok",
     "timestamp": 1734445423320,
     "user": {
      "displayName": "Tahmida Majumder",
      "userId": "15415648085337204568"
     },
     "user_tz": -480
    },
    "id": "TK9gogykpwCE",
    "outputId": "9d3dc0f3-f47a-4e33-a8eb-924bde7fa8c3",
    "papermill": {
     "duration": 0.069879,
     "end_time": "2025-01-09T17:55:07.288750",
     "exception": false,
     "start_time": "2025-01-09T17:55:07.218871",
     "status": "completed"
    },
    "tags": []
   },
   "outputs": [
    {
     "name": "stdout",
     "output_type": "stream",
     "text": [
      "(22632, 21)\n"
     ]
    },
    {
     "data": {
      "text/html": [
       "<div>\n",
       "<style scoped>\n",
       "    .dataframe tbody tr th:only-of-type {\n",
       "        vertical-align: middle;\n",
       "    }\n",
       "\n",
       "    .dataframe tbody tr th {\n",
       "        vertical-align: top;\n",
       "    }\n",
       "\n",
       "    .dataframe thead th {\n",
       "        text-align: right;\n",
       "    }\n",
       "</style>\n",
       "<table border=\"1\" class=\"dataframe\">\n",
       "  <thead>\n",
       "    <tr style=\"text-align: right;\">\n",
       "      <th>Specie</th>\n",
       "      <th>Date</th>\n",
       "      <th>Country</th>\n",
       "      <th>City</th>\n",
       "      <th>aqi</th>\n",
       "      <th>co</th>\n",
       "      <th>dew</th>\n",
       "      <th>humidity</th>\n",
       "      <th>mepaqi</th>\n",
       "      <th>no2</th>\n",
       "      <th>o3</th>\n",
       "      <th>...</th>\n",
       "      <th>pm10</th>\n",
       "      <th>pm25</th>\n",
       "      <th>precipitation</th>\n",
       "      <th>pressure</th>\n",
       "      <th>so2</th>\n",
       "      <th>temperature</th>\n",
       "      <th>uvi</th>\n",
       "      <th>wd</th>\n",
       "      <th>wind-gust</th>\n",
       "      <th>wind-speed</th>\n",
       "    </tr>\n",
       "  </thead>\n",
       "  <tbody>\n",
       "    <tr>\n",
       "      <th>0</th>\n",
       "      <td>2023-09-25</td>\n",
       "      <td>AT</td>\n",
       "      <td>Graz</td>\n",
       "      <td>NaN</td>\n",
       "      <td>0.1</td>\n",
       "      <td>11.0</td>\n",
       "      <td>93.0</td>\n",
       "      <td>NaN</td>\n",
       "      <td>6.4</td>\n",
       "      <td>NaN</td>\n",
       "      <td>...</td>\n",
       "      <td>11.0</td>\n",
       "      <td>36.0</td>\n",
       "      <td>NaN</td>\n",
       "      <td>1025.0</td>\n",
       "      <td>0.6</td>\n",
       "      <td>13.0</td>\n",
       "      <td>NaN</td>\n",
       "      <td>NaN</td>\n",
       "      <td>5.5</td>\n",
       "      <td>1.0</td>\n",
       "    </tr>\n",
       "    <tr>\n",
       "      <th>1</th>\n",
       "      <td>2023-09-25</td>\n",
       "      <td>AT</td>\n",
       "      <td>Innsbruck</td>\n",
       "      <td>NaN</td>\n",
       "      <td>0.1</td>\n",
       "      <td>NaN</td>\n",
       "      <td>58.0</td>\n",
       "      <td>NaN</td>\n",
       "      <td>6.4</td>\n",
       "      <td>NaN</td>\n",
       "      <td>...</td>\n",
       "      <td>8.0</td>\n",
       "      <td>NaN</td>\n",
       "      <td>NaN</td>\n",
       "      <td>1022.1</td>\n",
       "      <td>1.1</td>\n",
       "      <td>26.6</td>\n",
       "      <td>NaN</td>\n",
       "      <td>NaN</td>\n",
       "      <td>6.0</td>\n",
       "      <td>2.0</td>\n",
       "    </tr>\n",
       "    <tr>\n",
       "      <th>2</th>\n",
       "      <td>2023-09-25</td>\n",
       "      <td>AT</td>\n",
       "      <td>Linz</td>\n",
       "      <td>NaN</td>\n",
       "      <td>0.1</td>\n",
       "      <td>10.5</td>\n",
       "      <td>78.0</td>\n",
       "      <td>NaN</td>\n",
       "      <td>7.1</td>\n",
       "      <td>NaN</td>\n",
       "      <td>...</td>\n",
       "      <td>11.0</td>\n",
       "      <td>30.0</td>\n",
       "      <td>NaN</td>\n",
       "      <td>1025.2</td>\n",
       "      <td>1.6</td>\n",
       "      <td>16.8</td>\n",
       "      <td>NaN</td>\n",
       "      <td>NaN</td>\n",
       "      <td>1.6</td>\n",
       "      <td>1.0</td>\n",
       "    </tr>\n",
       "    <tr>\n",
       "      <th>3</th>\n",
       "      <td>2023-09-25</td>\n",
       "      <td>AT</td>\n",
       "      <td>Salzburg</td>\n",
       "      <td>NaN</td>\n",
       "      <td>0.1</td>\n",
       "      <td>9.0</td>\n",
       "      <td>87.0</td>\n",
       "      <td>NaN</td>\n",
       "      <td>7.4</td>\n",
       "      <td>NaN</td>\n",
       "      <td>...</td>\n",
       "      <td>10.0</td>\n",
       "      <td>25.0</td>\n",
       "      <td>NaN</td>\n",
       "      <td>1024.5</td>\n",
       "      <td>1.1</td>\n",
       "      <td>12.5</td>\n",
       "      <td>NaN</td>\n",
       "      <td>NaN</td>\n",
       "      <td>NaN</td>\n",
       "      <td>1.5</td>\n",
       "    </tr>\n",
       "    <tr>\n",
       "      <th>4</th>\n",
       "      <td>2023-09-25</td>\n",
       "      <td>AT</td>\n",
       "      <td>Vienna</td>\n",
       "      <td>NaN</td>\n",
       "      <td>0.1</td>\n",
       "      <td>11.5</td>\n",
       "      <td>71.1</td>\n",
       "      <td>NaN</td>\n",
       "      <td>6.4</td>\n",
       "      <td>NaN</td>\n",
       "      <td>...</td>\n",
       "      <td>11.0</td>\n",
       "      <td>30.0</td>\n",
       "      <td>NaN</td>\n",
       "      <td>1025.0</td>\n",
       "      <td>1.6</td>\n",
       "      <td>16.3</td>\n",
       "      <td>NaN</td>\n",
       "      <td>NaN</td>\n",
       "      <td>4.8</td>\n",
       "      <td>2.3</td>\n",
       "    </tr>\n",
       "  </tbody>\n",
       "</table>\n",
       "<p>5 rows × 21 columns</p>\n",
       "</div>"
      ],
      "text/plain": [
       "Specie       Date Country       City  aqi   co   dew  humidity  mepaqi  no2  \\\n",
       "0      2023-09-25      AT       Graz  NaN  0.1  11.0      93.0     NaN  6.4   \n",
       "1      2023-09-25      AT  Innsbruck  NaN  0.1   NaN      58.0     NaN  6.4   \n",
       "2      2023-09-25      AT       Linz  NaN  0.1  10.5      78.0     NaN  7.1   \n",
       "3      2023-09-25      AT   Salzburg  NaN  0.1   9.0      87.0     NaN  7.4   \n",
       "4      2023-09-25      AT     Vienna  NaN  0.1  11.5      71.1     NaN  6.4   \n",
       "\n",
       "Specie  o3  ...  pm10  pm25  precipitation  pressure  so2  temperature  uvi  \\\n",
       "0      NaN  ...  11.0  36.0            NaN    1025.0  0.6         13.0  NaN   \n",
       "1      NaN  ...   8.0   NaN            NaN    1022.1  1.1         26.6  NaN   \n",
       "2      NaN  ...  11.0  30.0            NaN    1025.2  1.6         16.8  NaN   \n",
       "3      NaN  ...  10.0  25.0            NaN    1024.5  1.1         12.5  NaN   \n",
       "4      NaN  ...  11.0  30.0            NaN    1025.0  1.6         16.3  NaN   \n",
       "\n",
       "Specie  wd  wind-gust  wind-speed  \n",
       "0      NaN        5.5         1.0  \n",
       "1      NaN        6.0         2.0  \n",
       "2      NaN        1.6         1.0  \n",
       "3      NaN        NaN         1.5  \n",
       "4      NaN        4.8         2.3  \n",
       "\n",
       "[5 rows x 21 columns]"
      ]
     },
     "execution_count": 30,
     "metadata": {},
     "output_type": "execute_result"
    }
   ],
   "source": [
    "print(data_df_2023_Q4.shape)\n",
    "data_df_2023_Q4.head()"
   ]
  },
  {
   "cell_type": "code",
   "execution_count": 31,
   "id": "776c4968",
   "metadata": {
    "execution": {
     "iopub.execute_input": "2025-01-09T17:55:07.375462Z",
     "iopub.status.busy": "2025-01-09T17:55:07.375136Z",
     "iopub.status.idle": "2025-01-09T17:55:07.384705Z",
     "shell.execute_reply": "2025-01-09T17:55:07.383827Z"
    },
    "executionInfo": {
     "elapsed": 6,
     "status": "ok",
     "timestamp": 1734445423320,
     "user": {
      "displayName": "Tahmida Majumder",
      "userId": "15415648085337204568"
     },
     "user_tz": -480
    },
    "id": "tVHbYj0dp59i",
    "outputId": "f3cf929b-27ac-48c7-aeea-5604a0aca082",
    "papermill": {
     "duration": 0.053625,
     "end_time": "2025-01-09T17:55:07.386212",
     "exception": false,
     "start_time": "2025-01-09T17:55:07.332587",
     "status": "completed"
    },
    "tags": []
   },
   "outputs": [
    {
     "data": {
      "text/plain": [
       "Specie\n",
       "Date                 0\n",
       "Country              0\n",
       "City                 0\n",
       "aqi              21358\n",
       "co               11602\n",
       "dew               4359\n",
       "humidity            65\n",
       "mepaqi           22534\n",
       "no2               5375\n",
       "o3                7954\n",
       "pm1              22372\n",
       "pm10              5288\n",
       "pm25              5839\n",
       "precipitation    19716\n",
       "pressure           201\n",
       "so2               8084\n",
       "temperature         32\n",
       "uvi              21841\n",
       "wd               21683\n",
       "wind-gust        11027\n",
       "wind-speed         315\n",
       "dtype: int64"
      ]
     },
     "execution_count": 31,
     "metadata": {},
     "output_type": "execute_result"
    }
   ],
   "source": [
    "data_df_2023_Q4.isnull().sum()"
   ]
  },
  {
   "cell_type": "markdown",
   "id": "9f9ccfc1",
   "metadata": {
    "id": "QY0v8HWwWVbJ",
    "papermill": {
     "duration": 0.041626,
     "end_time": "2025-01-09T17:55:07.468786",
     "exception": false,
     "start_time": "2025-01-09T17:55:07.427160",
     "status": "completed"
    },
    "tags": []
   },
   "source": [
    "# 2022_Q2"
   ]
  },
  {
   "cell_type": "code",
   "execution_count": 32,
   "id": "021ea5b9",
   "metadata": {
    "execution": {
     "iopub.execute_input": "2025-01-09T17:55:07.553110Z",
     "iopub.status.busy": "2025-01-09T17:55:07.552737Z",
     "iopub.status.idle": "2025-01-09T17:55:08.122514Z",
     "shell.execute_reply": "2025-01-09T17:55:08.121186Z"
    },
    "executionInfo": {
     "elapsed": 963,
     "status": "ok",
     "timestamp": 1734445424278,
     "user": {
      "displayName": "Tahmida Majumder",
      "userId": "15415648085337204568"
     },
     "user_tz": -480
    },
    "id": "58jUmENe5eqK",
    "outputId": "a45fd0b4-9269-43c8-ff9e-36269f11ba3b",
    "papermill": {
     "duration": 0.613874,
     "end_time": "2025-01-09T17:55:08.124910",
     "exception": false,
     "start_time": "2025-01-09T17:55:07.511036",
     "status": "completed"
    },
    "tags": []
   },
   "outputs": [
    {
     "name": "stdout",
     "output_type": "stream",
     "text": [
      "(573836, 5)\n"
     ]
    },
    {
     "data": {
      "text/html": [
       "<div>\n",
       "<style scoped>\n",
       "    .dataframe tbody tr th:only-of-type {\n",
       "        vertical-align: middle;\n",
       "    }\n",
       "\n",
       "    .dataframe tbody tr th {\n",
       "        vertical-align: top;\n",
       "    }\n",
       "\n",
       "    .dataframe thead th {\n",
       "        text-align: right;\n",
       "    }\n",
       "</style>\n",
       "<table border=\"1\" class=\"dataframe\">\n",
       "  <thead>\n",
       "    <tr style=\"text-align: right;\">\n",
       "      <th></th>\n",
       "      <th>Date</th>\n",
       "      <th>Country</th>\n",
       "      <th>City</th>\n",
       "      <th>Specie</th>\n",
       "      <th>median</th>\n",
       "    </tr>\n",
       "  </thead>\n",
       "  <tbody>\n",
       "    <tr>\n",
       "      <th>0</th>\n",
       "      <td>3/31/2022</td>\n",
       "      <td>GT</td>\n",
       "      <td>Guatemala City</td>\n",
       "      <td>pressure</td>\n",
       "      <td>1018.0</td>\n",
       "    </tr>\n",
       "    <tr>\n",
       "      <th>1</th>\n",
       "      <td>4/23/2022</td>\n",
       "      <td>GT</td>\n",
       "      <td>Guatemala City</td>\n",
       "      <td>pressure</td>\n",
       "      <td>1020.0</td>\n",
       "    </tr>\n",
       "    <tr>\n",
       "      <th>2</th>\n",
       "      <td>5/6/2022</td>\n",
       "      <td>GT</td>\n",
       "      <td>Guatemala City</td>\n",
       "      <td>pressure</td>\n",
       "      <td>1021.0</td>\n",
       "    </tr>\n",
       "    <tr>\n",
       "      <th>3</th>\n",
       "      <td>6/10/2022</td>\n",
       "      <td>GT</td>\n",
       "      <td>Guatemala City</td>\n",
       "      <td>pressure</td>\n",
       "      <td>1021.0</td>\n",
       "    </tr>\n",
       "    <tr>\n",
       "      <th>4</th>\n",
       "      <td>4/4/2022</td>\n",
       "      <td>GT</td>\n",
       "      <td>Guatemala City</td>\n",
       "      <td>pressure</td>\n",
       "      <td>1018.0</td>\n",
       "    </tr>\n",
       "    <tr>\n",
       "      <th>5</th>\n",
       "      <td>5/13/2022</td>\n",
       "      <td>GT</td>\n",
       "      <td>Guatemala City</td>\n",
       "      <td>pressure</td>\n",
       "      <td>1020.0</td>\n",
       "    </tr>\n",
       "    <tr>\n",
       "      <th>6</th>\n",
       "      <td>6/3/2022</td>\n",
       "      <td>GT</td>\n",
       "      <td>Guatemala City</td>\n",
       "      <td>pressure</td>\n",
       "      <td>1018.0</td>\n",
       "    </tr>\n",
       "    <tr>\n",
       "      <th>7</th>\n",
       "      <td>6/9/2022</td>\n",
       "      <td>GT</td>\n",
       "      <td>Guatemala City</td>\n",
       "      <td>pressure</td>\n",
       "      <td>1020.0</td>\n",
       "    </tr>\n",
       "    <tr>\n",
       "      <th>8</th>\n",
       "      <td>6/2/2022</td>\n",
       "      <td>GT</td>\n",
       "      <td>Guatemala City</td>\n",
       "      <td>pressure</td>\n",
       "      <td>1017.0</td>\n",
       "    </tr>\n",
       "    <tr>\n",
       "      <th>9</th>\n",
       "      <td>6/30/2022</td>\n",
       "      <td>GT</td>\n",
       "      <td>Guatemala City</td>\n",
       "      <td>pressure</td>\n",
       "      <td>1023.0</td>\n",
       "    </tr>\n",
       "  </tbody>\n",
       "</table>\n",
       "</div>"
      ],
      "text/plain": [
       "        Date Country            City    Specie  median\n",
       "0  3/31/2022      GT  Guatemala City  pressure  1018.0\n",
       "1  4/23/2022      GT  Guatemala City  pressure  1020.0\n",
       "2   5/6/2022      GT  Guatemala City  pressure  1021.0\n",
       "3  6/10/2022      GT  Guatemala City  pressure  1021.0\n",
       "4   4/4/2022      GT  Guatemala City  pressure  1018.0\n",
       "5  5/13/2022      GT  Guatemala City  pressure  1020.0\n",
       "6   6/3/2022      GT  Guatemala City  pressure  1018.0\n",
       "7   6/9/2022      GT  Guatemala City  pressure  1020.0\n",
       "8   6/2/2022      GT  Guatemala City  pressure  1017.0\n",
       "9  6/30/2022      GT  Guatemala City  pressure  1023.0"
      ]
     },
     "execution_count": 32,
     "metadata": {},
     "output_type": "execute_result"
    }
   ],
   "source": [
    "# Loading the data\n",
    "raw_data_2022_Q2 = pd.read_csv(r\"/kaggle/input/complete-raw-median/waqi-covid19-airqualitydata-2022Q2.csv\")\n",
    "\n",
    "# print the shape\n",
    "print(raw_data_2022_Q2.shape)\n",
    "\n",
    "#runs the first 5 rows\n",
    "raw_data_2022_Q2.head(10)"
   ]
  },
  {
   "cell_type": "code",
   "execution_count": 33,
   "id": "b4c8e161",
   "metadata": {
    "execution": {
     "iopub.execute_input": "2025-01-09T17:55:08.217558Z",
     "iopub.status.busy": "2025-01-09T17:55:08.217187Z",
     "iopub.status.idle": "2025-01-09T17:55:08.299258Z",
     "shell.execute_reply": "2025-01-09T17:55:08.298139Z"
    },
    "id": "WRRaOcrK5eqK",
    "papermill": {
     "duration": 0.126617,
     "end_time": "2025-01-09T17:55:08.301229",
     "exception": false,
     "start_time": "2025-01-09T17:55:08.174612",
     "status": "completed"
    },
    "tags": []
   },
   "outputs": [],
   "source": [
    "# Convert 'Date' to datetime\n",
    "raw_data_2022_Q2['Date'] = pd.to_datetime(raw_data_2022_Q2['Date'])"
   ]
  },
  {
   "cell_type": "code",
   "execution_count": 34,
   "id": "5eb29fcb",
   "metadata": {
    "execution": {
     "iopub.execute_input": "2025-01-09T17:55:08.385070Z",
     "iopub.status.busy": "2025-01-09T17:55:08.384680Z",
     "iopub.status.idle": "2025-01-09T17:55:08.390271Z",
     "shell.execute_reply": "2025-01-09T17:55:08.389422Z"
    },
    "executionInfo": {
     "elapsed": 8,
     "status": "ok",
     "timestamp": 1734445424279,
     "user": {
      "displayName": "Tahmida Majumder",
      "userId": "15415648085337204568"
     },
     "user_tz": -480
    },
    "id": "EzyYRpJ25eqL",
    "outputId": "21656761-5883-4d1f-9437-70912960c206",
    "papermill": {
     "duration": 0.049234,
     "end_time": "2025-01-09T17:55:08.391741",
     "exception": false,
     "start_time": "2025-01-09T17:55:08.342507",
     "status": "completed"
    },
    "tags": []
   },
   "outputs": [
    {
     "data": {
      "text/plain": [
       "(573836, 5)"
      ]
     },
     "execution_count": 34,
     "metadata": {},
     "output_type": "execute_result"
    }
   ],
   "source": [
    "raw_data_2022_Q2.shape"
   ]
  },
  {
   "cell_type": "code",
   "execution_count": 35,
   "id": "ac8772df",
   "metadata": {
    "execution": {
     "iopub.execute_input": "2025-01-09T17:55:08.479834Z",
     "iopub.status.busy": "2025-01-09T17:55:08.479436Z",
     "iopub.status.idle": "2025-01-09T17:55:08.905184Z",
     "shell.execute_reply": "2025-01-09T17:55:08.904295Z"
    },
    "id": "sa6wsiuz5eqL",
    "papermill": {
     "duration": 0.473002,
     "end_time": "2025-01-09T17:55:08.907374",
     "exception": false,
     "start_time": "2025-01-09T17:55:08.434372",
     "status": "completed"
    },
    "tags": []
   },
   "outputs": [],
   "source": [
    "# Pivot the data\n",
    "data_df_2022_Q2 = raw_data_2022_Q2.pivot_table(\n",
    "    index=['Date', 'Country', 'City'],  # Grouping columns\n",
    "    columns='Specie',                  # Unique values become columns\n",
    "    values='median',                   # Values to aggregate\n",
    "    aggfunc='mean'                     # Aggregation function\n",
    ").reset_index()"
   ]
  },
  {
   "cell_type": "code",
   "execution_count": 36,
   "id": "b1982bc0",
   "metadata": {
    "execution": {
     "iopub.execute_input": "2025-01-09T17:55:08.994181Z",
     "iopub.status.busy": "2025-01-09T17:55:08.993849Z",
     "iopub.status.idle": "2025-01-09T17:55:09.020746Z",
     "shell.execute_reply": "2025-01-09T17:55:09.019700Z"
    },
    "executionInfo": {
     "elapsed": 11,
     "status": "ok",
     "timestamp": 1734445424705,
     "user": {
      "displayName": "Tahmida Majumder",
      "userId": "15415648085337204568"
     },
     "user_tz": -480
    },
    "id": "ouR90SnN5eqL",
    "outputId": "30e9aa2c-b89e-4e26-c740-6544e30b9b38",
    "papermill": {
     "duration": 0.073059,
     "end_time": "2025-01-09T17:55:09.022277",
     "exception": false,
     "start_time": "2025-01-09T17:55:08.949218",
     "status": "completed"
    },
    "tags": []
   },
   "outputs": [
    {
     "name": "stdout",
     "output_type": "stream",
     "text": [
      "(56751, 22)\n"
     ]
    },
    {
     "data": {
      "text/html": [
       "<div>\n",
       "<style scoped>\n",
       "    .dataframe tbody tr th:only-of-type {\n",
       "        vertical-align: middle;\n",
       "    }\n",
       "\n",
       "    .dataframe tbody tr th {\n",
       "        vertical-align: top;\n",
       "    }\n",
       "\n",
       "    .dataframe thead th {\n",
       "        text-align: right;\n",
       "    }\n",
       "</style>\n",
       "<table border=\"1\" class=\"dataframe\">\n",
       "  <thead>\n",
       "    <tr style=\"text-align: right;\">\n",
       "      <th>Specie</th>\n",
       "      <th>Date</th>\n",
       "      <th>Country</th>\n",
       "      <th>City</th>\n",
       "      <th>aqi</th>\n",
       "      <th>co</th>\n",
       "      <th>dew</th>\n",
       "      <th>humidity</th>\n",
       "      <th>mepaqi</th>\n",
       "      <th>neph</th>\n",
       "      <th>no2</th>\n",
       "      <th>...</th>\n",
       "      <th>pm10</th>\n",
       "      <th>pm25</th>\n",
       "      <th>precipitation</th>\n",
       "      <th>pressure</th>\n",
       "      <th>so2</th>\n",
       "      <th>temperature</th>\n",
       "      <th>uvi</th>\n",
       "      <th>wd</th>\n",
       "      <th>wind-gust</th>\n",
       "      <th>wind-speed</th>\n",
       "    </tr>\n",
       "  </thead>\n",
       "  <tbody>\n",
       "    <tr>\n",
       "      <th>0</th>\n",
       "      <td>2022-03-28</td>\n",
       "      <td>AE</td>\n",
       "      <td>Abu Dhabi</td>\n",
       "      <td>NaN</td>\n",
       "      <td>0.1</td>\n",
       "      <td>15.0</td>\n",
       "      <td>64.0</td>\n",
       "      <td>NaN</td>\n",
       "      <td>NaN</td>\n",
       "      <td>5.1</td>\n",
       "      <td>...</td>\n",
       "      <td>69.0</td>\n",
       "      <td>50.0</td>\n",
       "      <td>NaN</td>\n",
       "      <td>1017.0</td>\n",
       "      <td>7.2</td>\n",
       "      <td>22.0</td>\n",
       "      <td>NaN</td>\n",
       "      <td>NaN</td>\n",
       "      <td>4.7</td>\n",
       "      <td>5.1</td>\n",
       "    </tr>\n",
       "    <tr>\n",
       "      <th>1</th>\n",
       "      <td>2022-03-28</td>\n",
       "      <td>AE</td>\n",
       "      <td>Dubai</td>\n",
       "      <td>NaN</td>\n",
       "      <td>NaN</td>\n",
       "      <td>15.0</td>\n",
       "      <td>60.0</td>\n",
       "      <td>NaN</td>\n",
       "      <td>NaN</td>\n",
       "      <td>NaN</td>\n",
       "      <td>...</td>\n",
       "      <td>NaN</td>\n",
       "      <td>70.0</td>\n",
       "      <td>NaN</td>\n",
       "      <td>1015.0</td>\n",
       "      <td>NaN</td>\n",
       "      <td>23.0</td>\n",
       "      <td>NaN</td>\n",
       "      <td>NaN</td>\n",
       "      <td>NaN</td>\n",
       "      <td>4.6</td>\n",
       "    </tr>\n",
       "    <tr>\n",
       "      <th>2</th>\n",
       "      <td>2022-03-28</td>\n",
       "      <td>AR</td>\n",
       "      <td>Buenos Aires</td>\n",
       "      <td>NaN</td>\n",
       "      <td>0.1</td>\n",
       "      <td>15.8</td>\n",
       "      <td>73.0</td>\n",
       "      <td>NaN</td>\n",
       "      <td>NaN</td>\n",
       "      <td>NaN</td>\n",
       "      <td>...</td>\n",
       "      <td>10.0</td>\n",
       "      <td>30.0</td>\n",
       "      <td>NaN</td>\n",
       "      <td>1012.8</td>\n",
       "      <td>8.7</td>\n",
       "      <td>22.8</td>\n",
       "      <td>NaN</td>\n",
       "      <td>45.0</td>\n",
       "      <td>4.0</td>\n",
       "      <td>1.3</td>\n",
       "    </tr>\n",
       "    <tr>\n",
       "      <th>3</th>\n",
       "      <td>2022-03-28</td>\n",
       "      <td>AT</td>\n",
       "      <td>Graz</td>\n",
       "      <td>NaN</td>\n",
       "      <td>0.1</td>\n",
       "      <td>1.9</td>\n",
       "      <td>50.4</td>\n",
       "      <td>NaN</td>\n",
       "      <td>NaN</td>\n",
       "      <td>13.3</td>\n",
       "      <td>...</td>\n",
       "      <td>33.0</td>\n",
       "      <td>NaN</td>\n",
       "      <td>NaN</td>\n",
       "      <td>1014.3</td>\n",
       "      <td>1.6</td>\n",
       "      <td>11.4</td>\n",
       "      <td>NaN</td>\n",
       "      <td>NaN</td>\n",
       "      <td>2.6</td>\n",
       "      <td>1.0</td>\n",
       "    </tr>\n",
       "    <tr>\n",
       "      <th>4</th>\n",
       "      <td>2022-03-28</td>\n",
       "      <td>AT</td>\n",
       "      <td>Innsbruck</td>\n",
       "      <td>NaN</td>\n",
       "      <td>0.1</td>\n",
       "      <td>-2.1</td>\n",
       "      <td>41.9</td>\n",
       "      <td>NaN</td>\n",
       "      <td>NaN</td>\n",
       "      <td>11.9</td>\n",
       "      <td>...</td>\n",
       "      <td>20.0</td>\n",
       "      <td>NaN</td>\n",
       "      <td>99.0</td>\n",
       "      <td>959.3</td>\n",
       "      <td>0.6</td>\n",
       "      <td>7.5</td>\n",
       "      <td>NaN</td>\n",
       "      <td>NaN</td>\n",
       "      <td>3.7</td>\n",
       "      <td>1.0</td>\n",
       "    </tr>\n",
       "  </tbody>\n",
       "</table>\n",
       "<p>5 rows × 22 columns</p>\n",
       "</div>"
      ],
      "text/plain": [
       "Specie       Date Country          City  aqi   co   dew  humidity  mepaqi  \\\n",
       "0      2022-03-28      AE     Abu Dhabi  NaN  0.1  15.0      64.0     NaN   \n",
       "1      2022-03-28      AE         Dubai  NaN  NaN  15.0      60.0     NaN   \n",
       "2      2022-03-28      AR  Buenos Aires  NaN  0.1  15.8      73.0     NaN   \n",
       "3      2022-03-28      AT          Graz  NaN  0.1   1.9      50.4     NaN   \n",
       "4      2022-03-28      AT     Innsbruck  NaN  0.1  -2.1      41.9     NaN   \n",
       "\n",
       "Specie  neph   no2  ...  pm10  pm25  precipitation  pressure  so2  \\\n",
       "0        NaN   5.1  ...  69.0  50.0            NaN    1017.0  7.2   \n",
       "1        NaN   NaN  ...   NaN  70.0            NaN    1015.0  NaN   \n",
       "2        NaN   NaN  ...  10.0  30.0            NaN    1012.8  8.7   \n",
       "3        NaN  13.3  ...  33.0   NaN            NaN    1014.3  1.6   \n",
       "4        NaN  11.9  ...  20.0   NaN           99.0     959.3  0.6   \n",
       "\n",
       "Specie  temperature  uvi    wd  wind-gust  wind-speed  \n",
       "0              22.0  NaN   NaN        4.7         5.1  \n",
       "1              23.0  NaN   NaN        NaN         4.6  \n",
       "2              22.8  NaN  45.0        4.0         1.3  \n",
       "3              11.4  NaN   NaN        2.6         1.0  \n",
       "4               7.5  NaN   NaN        3.7         1.0  \n",
       "\n",
       "[5 rows x 22 columns]"
      ]
     },
     "execution_count": 36,
     "metadata": {},
     "output_type": "execute_result"
    }
   ],
   "source": [
    "print(data_df_2022_Q2.shape)\n",
    "data_df_2022_Q2.head()"
   ]
  },
  {
   "cell_type": "code",
   "execution_count": 37,
   "id": "e254b884",
   "metadata": {
    "execution": {
     "iopub.execute_input": "2025-01-09T17:55:09.108373Z",
     "iopub.status.busy": "2025-01-09T17:55:09.108041Z",
     "iopub.status.idle": "2025-01-09T17:55:09.122545Z",
     "shell.execute_reply": "2025-01-09T17:55:09.121553Z"
    },
    "executionInfo": {
     "elapsed": 8,
     "status": "ok",
     "timestamp": 1734445424705,
     "user": {
      "displayName": "Tahmida Majumder",
      "userId": "15415648085337204568"
     },
     "user_tz": -480
    },
    "id": "1Oex3eQC5eqL",
    "outputId": "1d3cf39e-1740-47e0-bd36-82b17d176256",
    "papermill": {
     "duration": 0.060562,
     "end_time": "2025-01-09T17:55:09.124304",
     "exception": false,
     "start_time": "2025-01-09T17:55:09.063742",
     "status": "completed"
    },
    "tags": []
   },
   "outputs": [
    {
     "data": {
      "text/plain": [
       "Specie\n",
       "Date                 0\n",
       "Country              0\n",
       "City                 0\n",
       "aqi              55322\n",
       "co               20880\n",
       "dew              12576\n",
       "humidity            86\n",
       "mepaqi           56653\n",
       "neph             56555\n",
       "no2              10984\n",
       "o3               14660\n",
       "pm1              56486\n",
       "pm10              9916\n",
       "pm25              7691\n",
       "precipitation    50204\n",
       "pressure           358\n",
       "so2              18493\n",
       "temperature         69\n",
       "uvi              55772\n",
       "wd               52418\n",
       "wind-gust        24603\n",
       "wind-speed         707\n",
       "dtype: int64"
      ]
     },
     "execution_count": 37,
     "metadata": {},
     "output_type": "execute_result"
    }
   ],
   "source": [
    "data_df_2022_Q2.isnull().sum()"
   ]
  },
  {
   "cell_type": "code",
   "execution_count": null,
   "id": "f60592d0",
   "metadata": {
    "id": "eg2MYloopQVg",
    "papermill": {
     "duration": 0.043344,
     "end_time": "2025-01-09T17:55:09.210621",
     "exception": false,
     "start_time": "2025-01-09T17:55:09.167277",
     "status": "completed"
    },
    "tags": []
   },
   "outputs": [],
   "source": []
  },
  {
   "cell_type": "markdown",
   "id": "84591054",
   "metadata": {
    "id": "SOVFr2FF6Vbg",
    "papermill": {
     "duration": 0.041616,
     "end_time": "2025-01-09T17:55:09.294592",
     "exception": false,
     "start_time": "2025-01-09T17:55:09.252976",
     "status": "completed"
    },
    "tags": []
   },
   "source": [
    "# 2022_Q3"
   ]
  },
  {
   "cell_type": "code",
   "execution_count": 38,
   "id": "640f3037",
   "metadata": {
    "execution": {
     "iopub.execute_input": "2025-01-09T17:55:09.381425Z",
     "iopub.status.busy": "2025-01-09T17:55:09.381090Z",
     "iopub.status.idle": "2025-01-09T17:55:09.909091Z",
     "shell.execute_reply": "2025-01-09T17:55:09.907897Z"
    },
    "executionInfo": {
     "elapsed": 1126,
     "status": "ok",
     "timestamp": 1734445425824,
     "user": {
      "displayName": "Tahmida Majumder",
      "userId": "15415648085337204568"
     },
     "user_tz": -480
    },
    "id": "AgeZtu0d6Vbh",
    "outputId": "66b85b8c-f8b6-4ed4-98a7-a9b4035b976b",
    "papermill": {
     "duration": 0.573327,
     "end_time": "2025-01-09T17:55:09.910750",
     "exception": false,
     "start_time": "2025-01-09T17:55:09.337423",
     "status": "completed"
    },
    "tags": []
   },
   "outputs": [
    {
     "name": "stdout",
     "output_type": "stream",
     "text": [
      "(570466, 5)\n"
     ]
    },
    {
     "data": {
      "text/html": [
       "<div>\n",
       "<style scoped>\n",
       "    .dataframe tbody tr th:only-of-type {\n",
       "        vertical-align: middle;\n",
       "    }\n",
       "\n",
       "    .dataframe tbody tr th {\n",
       "        vertical-align: top;\n",
       "    }\n",
       "\n",
       "    .dataframe thead th {\n",
       "        text-align: right;\n",
       "    }\n",
       "</style>\n",
       "<table border=\"1\" class=\"dataframe\">\n",
       "  <thead>\n",
       "    <tr style=\"text-align: right;\">\n",
       "      <th></th>\n",
       "      <th>Date</th>\n",
       "      <th>Country</th>\n",
       "      <th>City</th>\n",
       "      <th>Specie</th>\n",
       "      <th>median</th>\n",
       "    </tr>\n",
       "  </thead>\n",
       "  <tbody>\n",
       "    <tr>\n",
       "      <th>0</th>\n",
       "      <td>7/14/2022</td>\n",
       "      <td>MX</td>\n",
       "      <td>Guadalajara</td>\n",
       "      <td>wind-speed</td>\n",
       "      <td>2.0</td>\n",
       "    </tr>\n",
       "    <tr>\n",
       "      <th>1</th>\n",
       "      <td>8/6/2022</td>\n",
       "      <td>MX</td>\n",
       "      <td>Guadalajara</td>\n",
       "      <td>wind-speed</td>\n",
       "      <td>2.0</td>\n",
       "    </tr>\n",
       "    <tr>\n",
       "      <th>2</th>\n",
       "      <td>8/25/2022</td>\n",
       "      <td>MX</td>\n",
       "      <td>Guadalajara</td>\n",
       "      <td>wind-speed</td>\n",
       "      <td>1.0</td>\n",
       "    </tr>\n",
       "    <tr>\n",
       "      <th>3</th>\n",
       "      <td>8/29/2022</td>\n",
       "      <td>MX</td>\n",
       "      <td>Guadalajara</td>\n",
       "      <td>wind-speed</td>\n",
       "      <td>1.6</td>\n",
       "    </tr>\n",
       "    <tr>\n",
       "      <th>4</th>\n",
       "      <td>8/31/2022</td>\n",
       "      <td>MX</td>\n",
       "      <td>Guadalajara</td>\n",
       "      <td>wind-speed</td>\n",
       "      <td>1.1</td>\n",
       "    </tr>\n",
       "    <tr>\n",
       "      <th>5</th>\n",
       "      <td>9/5/2022</td>\n",
       "      <td>MX</td>\n",
       "      <td>Guadalajara</td>\n",
       "      <td>wind-speed</td>\n",
       "      <td>2.0</td>\n",
       "    </tr>\n",
       "    <tr>\n",
       "      <th>6</th>\n",
       "      <td>6/30/2022</td>\n",
       "      <td>MX</td>\n",
       "      <td>Guadalajara</td>\n",
       "      <td>wind-speed</td>\n",
       "      <td>1.0</td>\n",
       "    </tr>\n",
       "    <tr>\n",
       "      <th>7</th>\n",
       "      <td>7/30/2022</td>\n",
       "      <td>MX</td>\n",
       "      <td>Guadalajara</td>\n",
       "      <td>wind-speed</td>\n",
       "      <td>1.1</td>\n",
       "    </tr>\n",
       "    <tr>\n",
       "      <th>8</th>\n",
       "      <td>8/9/2022</td>\n",
       "      <td>MX</td>\n",
       "      <td>Guadalajara</td>\n",
       "      <td>wind-speed</td>\n",
       "      <td>1.5</td>\n",
       "    </tr>\n",
       "    <tr>\n",
       "      <th>9</th>\n",
       "      <td>8/15/2022</td>\n",
       "      <td>MX</td>\n",
       "      <td>Guadalajara</td>\n",
       "      <td>wind-speed</td>\n",
       "      <td>1.3</td>\n",
       "    </tr>\n",
       "  </tbody>\n",
       "</table>\n",
       "</div>"
      ],
      "text/plain": [
       "        Date Country         City      Specie  median\n",
       "0  7/14/2022      MX  Guadalajara  wind-speed     2.0\n",
       "1   8/6/2022      MX  Guadalajara  wind-speed     2.0\n",
       "2  8/25/2022      MX  Guadalajara  wind-speed     1.0\n",
       "3  8/29/2022      MX  Guadalajara  wind-speed     1.6\n",
       "4  8/31/2022      MX  Guadalajara  wind-speed     1.1\n",
       "5   9/5/2022      MX  Guadalajara  wind-speed     2.0\n",
       "6  6/30/2022      MX  Guadalajara  wind-speed     1.0\n",
       "7  7/30/2022      MX  Guadalajara  wind-speed     1.1\n",
       "8   8/9/2022      MX  Guadalajara  wind-speed     1.5\n",
       "9  8/15/2022      MX  Guadalajara  wind-speed     1.3"
      ]
     },
     "execution_count": 38,
     "metadata": {},
     "output_type": "execute_result"
    }
   ],
   "source": [
    "# Loading the data\n",
    "raw_data_2022_Q3 = pd.read_csv(r\"/kaggle/input/complete-raw-median/waqi-covid19-airqualitydata-2022Q3.csv\")\n",
    "\n",
    "# print the shape\n",
    "print(raw_data_2022_Q3.shape)\n",
    "\n",
    "#runs the first 5 rows\n",
    "raw_data_2022_Q3.head(10)"
   ]
  },
  {
   "cell_type": "code",
   "execution_count": 39,
   "id": "feb4fa17",
   "metadata": {
    "execution": {
     "iopub.execute_input": "2025-01-09T17:55:09.995277Z",
     "iopub.status.busy": "2025-01-09T17:55:09.994913Z",
     "iopub.status.idle": "2025-01-09T17:55:10.078304Z",
     "shell.execute_reply": "2025-01-09T17:55:10.077427Z"
    },
    "id": "yAJNENbK6Vbi",
    "papermill": {
     "duration": 0.127886,
     "end_time": "2025-01-09T17:55:10.080389",
     "exception": false,
     "start_time": "2025-01-09T17:55:09.952503",
     "status": "completed"
    },
    "tags": []
   },
   "outputs": [],
   "source": [
    "# Convert 'Date' to datetime\n",
    "raw_data_2022_Q3['Date'] = pd.to_datetime(raw_data_2022_Q3['Date'])"
   ]
  },
  {
   "cell_type": "code",
   "execution_count": 40,
   "id": "795a56d6",
   "metadata": {
    "execution": {
     "iopub.execute_input": "2025-01-09T17:55:10.165919Z",
     "iopub.status.busy": "2025-01-09T17:55:10.165508Z",
     "iopub.status.idle": "2025-01-09T17:55:10.171173Z",
     "shell.execute_reply": "2025-01-09T17:55:10.170301Z"
    },
    "executionInfo": {
     "elapsed": 8,
     "status": "ok",
     "timestamp": 1734445425824,
     "user": {
      "displayName": "Tahmida Majumder",
      "userId": "15415648085337204568"
     },
     "user_tz": -480
    },
    "id": "dDim3zDh6Vbi",
    "outputId": "11d63b59-b554-40b4-9752-62006ec0e248",
    "papermill": {
     "duration": 0.050505,
     "end_time": "2025-01-09T17:55:10.172680",
     "exception": false,
     "start_time": "2025-01-09T17:55:10.122175",
     "status": "completed"
    },
    "tags": []
   },
   "outputs": [
    {
     "data": {
      "text/plain": [
       "(570466, 5)"
      ]
     },
     "execution_count": 40,
     "metadata": {},
     "output_type": "execute_result"
    }
   ],
   "source": [
    "raw_data_2022_Q3.shape"
   ]
  },
  {
   "cell_type": "code",
   "execution_count": 41,
   "id": "69a390e5",
   "metadata": {
    "execution": {
     "iopub.execute_input": "2025-01-09T17:55:10.260622Z",
     "iopub.status.busy": "2025-01-09T17:55:10.260281Z",
     "iopub.status.idle": "2025-01-09T17:55:10.686097Z",
     "shell.execute_reply": "2025-01-09T17:55:10.684904Z"
    },
    "id": "g5o4tt6R6Vbj",
    "papermill": {
     "duration": 0.470479,
     "end_time": "2025-01-09T17:55:10.688157",
     "exception": false,
     "start_time": "2025-01-09T17:55:10.217678",
     "status": "completed"
    },
    "tags": []
   },
   "outputs": [],
   "source": [
    "# Pivot the data\n",
    "data_df_2022_Q3 = raw_data_2022_Q3.pivot_table(\n",
    "    index=['Date', 'Country', 'City'],  # Grouping columns\n",
    "    columns='Specie',                  # Unique values become columns\n",
    "    values='median',                   # Values to aggregate\n",
    "    aggfunc='mean'                     # Aggregation function\n",
    ").reset_index()"
   ]
  },
  {
   "cell_type": "code",
   "execution_count": 42,
   "id": "12f7ade1",
   "metadata": {
    "execution": {
     "iopub.execute_input": "2025-01-09T17:55:10.777267Z",
     "iopub.status.busy": "2025-01-09T17:55:10.776929Z",
     "iopub.status.idle": "2025-01-09T17:55:10.803320Z",
     "shell.execute_reply": "2025-01-09T17:55:10.801870Z"
    },
    "executionInfo": {
     "elapsed": 11,
     "status": "ok",
     "timestamp": 1734445426240,
     "user": {
      "displayName": "Tahmida Majumder",
      "userId": "15415648085337204568"
     },
     "user_tz": -480
    },
    "id": "ukZIcdZa6Vbj",
    "outputId": "007240c0-154f-438a-de96-d5338d934cdf",
    "papermill": {
     "duration": 0.072423,
     "end_time": "2025-01-09T17:55:10.805055",
     "exception": false,
     "start_time": "2025-01-09T17:55:10.732632",
     "status": "completed"
    },
    "tags": []
   },
   "outputs": [
    {
     "name": "stdout",
     "output_type": "stream",
     "text": [
      "(56219, 22)\n"
     ]
    },
    {
     "data": {
      "text/html": [
       "<div>\n",
       "<style scoped>\n",
       "    .dataframe tbody tr th:only-of-type {\n",
       "        vertical-align: middle;\n",
       "    }\n",
       "\n",
       "    .dataframe tbody tr th {\n",
       "        vertical-align: top;\n",
       "    }\n",
       "\n",
       "    .dataframe thead th {\n",
       "        text-align: right;\n",
       "    }\n",
       "</style>\n",
       "<table border=\"1\" class=\"dataframe\">\n",
       "  <thead>\n",
       "    <tr style=\"text-align: right;\">\n",
       "      <th>Specie</th>\n",
       "      <th>Date</th>\n",
       "      <th>Country</th>\n",
       "      <th>City</th>\n",
       "      <th>aqi</th>\n",
       "      <th>co</th>\n",
       "      <th>dew</th>\n",
       "      <th>humidity</th>\n",
       "      <th>mepaqi</th>\n",
       "      <th>neph</th>\n",
       "      <th>no2</th>\n",
       "      <th>...</th>\n",
       "      <th>pm10</th>\n",
       "      <th>pm25</th>\n",
       "      <th>precipitation</th>\n",
       "      <th>pressure</th>\n",
       "      <th>so2</th>\n",
       "      <th>temperature</th>\n",
       "      <th>uvi</th>\n",
       "      <th>wd</th>\n",
       "      <th>wind-gust</th>\n",
       "      <th>wind-speed</th>\n",
       "    </tr>\n",
       "  </thead>\n",
       "  <tbody>\n",
       "    <tr>\n",
       "      <th>0</th>\n",
       "      <td>2022-06-27</td>\n",
       "      <td>AE</td>\n",
       "      <td>Abu Dhabi</td>\n",
       "      <td>NaN</td>\n",
       "      <td>0.1</td>\n",
       "      <td>27.0</td>\n",
       "      <td>74.0</td>\n",
       "      <td>NaN</td>\n",
       "      <td>NaN</td>\n",
       "      <td>6.9</td>\n",
       "      <td>...</td>\n",
       "      <td>107.0</td>\n",
       "      <td>139.0</td>\n",
       "      <td>NaN</td>\n",
       "      <td>996.0</td>\n",
       "      <td>4.1</td>\n",
       "      <td>33.0</td>\n",
       "      <td>NaN</td>\n",
       "      <td>NaN</td>\n",
       "      <td>0.9</td>\n",
       "      <td>3.0</td>\n",
       "    </tr>\n",
       "    <tr>\n",
       "      <th>1</th>\n",
       "      <td>2022-06-27</td>\n",
       "      <td>AE</td>\n",
       "      <td>Dubai</td>\n",
       "      <td>NaN</td>\n",
       "      <td>NaN</td>\n",
       "      <td>24.0</td>\n",
       "      <td>49.0</td>\n",
       "      <td>NaN</td>\n",
       "      <td>NaN</td>\n",
       "      <td>NaN</td>\n",
       "      <td>...</td>\n",
       "      <td>NaN</td>\n",
       "      <td>203.0</td>\n",
       "      <td>NaN</td>\n",
       "      <td>996.0</td>\n",
       "      <td>NaN</td>\n",
       "      <td>36.0</td>\n",
       "      <td>NaN</td>\n",
       "      <td>NaN</td>\n",
       "      <td>NaN</td>\n",
       "      <td>4.6</td>\n",
       "    </tr>\n",
       "    <tr>\n",
       "      <th>2</th>\n",
       "      <td>2022-06-27</td>\n",
       "      <td>AR</td>\n",
       "      <td>Buenos Aires</td>\n",
       "      <td>NaN</td>\n",
       "      <td>2.0</td>\n",
       "      <td>5.0</td>\n",
       "      <td>75.5</td>\n",
       "      <td>NaN</td>\n",
       "      <td>NaN</td>\n",
       "      <td>NaN</td>\n",
       "      <td>...</td>\n",
       "      <td>10.0</td>\n",
       "      <td>53.0</td>\n",
       "      <td>NaN</td>\n",
       "      <td>1016.0</td>\n",
       "      <td>3.1</td>\n",
       "      <td>10.3</td>\n",
       "      <td>NaN</td>\n",
       "      <td>270.0</td>\n",
       "      <td>1.3</td>\n",
       "      <td>1.5</td>\n",
       "    </tr>\n",
       "    <tr>\n",
       "      <th>3</th>\n",
       "      <td>2022-06-27</td>\n",
       "      <td>AT</td>\n",
       "      <td>Graz</td>\n",
       "      <td>NaN</td>\n",
       "      <td>0.1</td>\n",
       "      <td>17.6</td>\n",
       "      <td>48.6</td>\n",
       "      <td>NaN</td>\n",
       "      <td>NaN</td>\n",
       "      <td>5.1</td>\n",
       "      <td>...</td>\n",
       "      <td>20.0</td>\n",
       "      <td>34.0</td>\n",
       "      <td>NaN</td>\n",
       "      <td>972.7</td>\n",
       "      <td>1.1</td>\n",
       "      <td>26.7</td>\n",
       "      <td>NaN</td>\n",
       "      <td>NaN</td>\n",
       "      <td>4.1</td>\n",
       "      <td>2.0</td>\n",
       "    </tr>\n",
       "    <tr>\n",
       "      <th>4</th>\n",
       "      <td>2022-06-27</td>\n",
       "      <td>AT</td>\n",
       "      <td>Innsbruck</td>\n",
       "      <td>NaN</td>\n",
       "      <td>0.1</td>\n",
       "      <td>13.5</td>\n",
       "      <td>52.7</td>\n",
       "      <td>NaN</td>\n",
       "      <td>NaN</td>\n",
       "      <td>4.6</td>\n",
       "      <td>...</td>\n",
       "      <td>20.0</td>\n",
       "      <td>NaN</td>\n",
       "      <td>NaN</td>\n",
       "      <td>1013.0</td>\n",
       "      <td>0.6</td>\n",
       "      <td>25.0</td>\n",
       "      <td>NaN</td>\n",
       "      <td>NaN</td>\n",
       "      <td>13.0</td>\n",
       "      <td>5.0</td>\n",
       "    </tr>\n",
       "  </tbody>\n",
       "</table>\n",
       "<p>5 rows × 22 columns</p>\n",
       "</div>"
      ],
      "text/plain": [
       "Specie       Date Country          City  aqi   co   dew  humidity  mepaqi  \\\n",
       "0      2022-06-27      AE     Abu Dhabi  NaN  0.1  27.0      74.0     NaN   \n",
       "1      2022-06-27      AE         Dubai  NaN  NaN  24.0      49.0     NaN   \n",
       "2      2022-06-27      AR  Buenos Aires  NaN  2.0   5.0      75.5     NaN   \n",
       "3      2022-06-27      AT          Graz  NaN  0.1  17.6      48.6     NaN   \n",
       "4      2022-06-27      AT     Innsbruck  NaN  0.1  13.5      52.7     NaN   \n",
       "\n",
       "Specie  neph  no2  ...   pm10   pm25  precipitation  pressure  so2  \\\n",
       "0        NaN  6.9  ...  107.0  139.0            NaN     996.0  4.1   \n",
       "1        NaN  NaN  ...    NaN  203.0            NaN     996.0  NaN   \n",
       "2        NaN  NaN  ...   10.0   53.0            NaN    1016.0  3.1   \n",
       "3        NaN  5.1  ...   20.0   34.0            NaN     972.7  1.1   \n",
       "4        NaN  4.6  ...   20.0    NaN            NaN    1013.0  0.6   \n",
       "\n",
       "Specie  temperature  uvi     wd  wind-gust  wind-speed  \n",
       "0              33.0  NaN    NaN        0.9         3.0  \n",
       "1              36.0  NaN    NaN        NaN         4.6  \n",
       "2              10.3  NaN  270.0        1.3         1.5  \n",
       "3              26.7  NaN    NaN        4.1         2.0  \n",
       "4              25.0  NaN    NaN       13.0         5.0  \n",
       "\n",
       "[5 rows x 22 columns]"
      ]
     },
     "execution_count": 42,
     "metadata": {},
     "output_type": "execute_result"
    }
   ],
   "source": [
    "print(data_df_2022_Q3.shape)\n",
    "data_df_2022_Q3.head()"
   ]
  },
  {
   "cell_type": "code",
   "execution_count": 43,
   "id": "3eda2617",
   "metadata": {
    "execution": {
     "iopub.execute_input": "2025-01-09T17:55:10.898267Z",
     "iopub.status.busy": "2025-01-09T17:55:10.897923Z",
     "iopub.status.idle": "2025-01-09T17:55:10.911942Z",
     "shell.execute_reply": "2025-01-09T17:55:10.910868Z"
    },
    "executionInfo": {
     "elapsed": 7,
     "status": "ok",
     "timestamp": 1734445426240,
     "user": {
      "displayName": "Tahmida Majumder",
      "userId": "15415648085337204568"
     },
     "user_tz": -480
    },
    "id": "MySkp3RM6Vbj",
    "outputId": "6a76951d-4879-41e5-a327-7b4cd882bef3",
    "papermill": {
     "duration": 0.061213,
     "end_time": "2025-01-09T17:55:10.913939",
     "exception": false,
     "start_time": "2025-01-09T17:55:10.852726",
     "status": "completed"
    },
    "tags": []
   },
   "outputs": [
    {
     "data": {
      "text/plain": [
       "Specie\n",
       "Date                 0\n",
       "Country              0\n",
       "City                 0\n",
       "aqi              54757\n",
       "co               20304\n",
       "dew              12264\n",
       "humidity            85\n",
       "mepaqi           56121\n",
       "neph             56023\n",
       "no2              10326\n",
       "o3               13608\n",
       "pm1              56023\n",
       "pm10              9727\n",
       "pm25              7383\n",
       "precipitation    48775\n",
       "pressure           337\n",
       "so2              18086\n",
       "temperature         45\n",
       "uvi              55241\n",
       "wd               52204\n",
       "wind-gust        25319\n",
       "wind-speed        1067\n",
       "dtype: int64"
      ]
     },
     "execution_count": 43,
     "metadata": {},
     "output_type": "execute_result"
    }
   ],
   "source": [
    "data_df_2022_Q3.isnull().sum()"
   ]
  },
  {
   "cell_type": "code",
   "execution_count": null,
   "id": "c7ae8ce7",
   "metadata": {
    "id": "I4MMewJjpQYF",
    "papermill": {
     "duration": 0.041956,
     "end_time": "2025-01-09T17:55:11.054990",
     "exception": false,
     "start_time": "2025-01-09T17:55:11.013034",
     "status": "completed"
    },
    "tags": []
   },
   "outputs": [],
   "source": []
  },
  {
   "cell_type": "markdown",
   "id": "6496db39",
   "metadata": {
    "id": "zI8XTgoj6qcm",
    "papermill": {
     "duration": 0.043264,
     "end_time": "2025-01-09T17:55:11.140708",
     "exception": false,
     "start_time": "2025-01-09T17:55:11.097444",
     "status": "completed"
    },
    "tags": []
   },
   "source": [
    "# 2022_Q4"
   ]
  },
  {
   "cell_type": "code",
   "execution_count": 44,
   "id": "6b41d0e6",
   "metadata": {
    "execution": {
     "iopub.execute_input": "2025-01-09T17:55:11.230818Z",
     "iopub.status.busy": "2025-01-09T17:55:11.230444Z",
     "iopub.status.idle": "2025-01-09T17:55:11.806918Z",
     "shell.execute_reply": "2025-01-09T17:55:11.805836Z"
    },
    "executionInfo": {
     "elapsed": 1222,
     "status": "ok",
     "timestamp": 1734445427456,
     "user": {
      "displayName": "Tahmida Majumder",
      "userId": "15415648085337204568"
     },
     "user_tz": -480
    },
    "id": "YNPmqfXx6qcm",
    "outputId": "3a06361b-d30d-46bf-d1b5-ff60ff1de083",
    "papermill": {
     "duration": 0.625074,
     "end_time": "2025-01-09T17:55:11.808725",
     "exception": false,
     "start_time": "2025-01-09T17:55:11.183651",
     "status": "completed"
    },
    "tags": []
   },
   "outputs": [
    {
     "name": "stdout",
     "output_type": "stream",
     "text": [
      "(551341, 5)\n"
     ]
    },
    {
     "data": {
      "text/html": [
       "<div>\n",
       "<style scoped>\n",
       "    .dataframe tbody tr th:only-of-type {\n",
       "        vertical-align: middle;\n",
       "    }\n",
       "\n",
       "    .dataframe tbody tr th {\n",
       "        vertical-align: top;\n",
       "    }\n",
       "\n",
       "    .dataframe thead th {\n",
       "        text-align: right;\n",
       "    }\n",
       "</style>\n",
       "<table border=\"1\" class=\"dataframe\">\n",
       "  <thead>\n",
       "    <tr style=\"text-align: right;\">\n",
       "      <th></th>\n",
       "      <th>Date</th>\n",
       "      <th>Country</th>\n",
       "      <th>City</th>\n",
       "      <th>Specie</th>\n",
       "      <th>median</th>\n",
       "    </tr>\n",
       "  </thead>\n",
       "  <tbody>\n",
       "    <tr>\n",
       "      <th>0</th>\n",
       "      <td>10/20/2022</td>\n",
       "      <td>GB</td>\n",
       "      <td>Edinburgh</td>\n",
       "      <td>humidity</td>\n",
       "      <td>94.2</td>\n",
       "    </tr>\n",
       "    <tr>\n",
       "      <th>1</th>\n",
       "      <td>11/2/2022</td>\n",
       "      <td>GB</td>\n",
       "      <td>Edinburgh</td>\n",
       "      <td>humidity</td>\n",
       "      <td>84.0</td>\n",
       "    </tr>\n",
       "    <tr>\n",
       "      <th>2</th>\n",
       "      <td>11/8/2022</td>\n",
       "      <td>GB</td>\n",
       "      <td>Edinburgh</td>\n",
       "      <td>humidity</td>\n",
       "      <td>81.0</td>\n",
       "    </tr>\n",
       "    <tr>\n",
       "      <th>3</th>\n",
       "      <td>11/13/2022</td>\n",
       "      <td>GB</td>\n",
       "      <td>Edinburgh</td>\n",
       "      <td>humidity</td>\n",
       "      <td>91.3</td>\n",
       "    </tr>\n",
       "    <tr>\n",
       "      <th>4</th>\n",
       "      <td>11/19/2022</td>\n",
       "      <td>GB</td>\n",
       "      <td>Edinburgh</td>\n",
       "      <td>humidity</td>\n",
       "      <td>91.4</td>\n",
       "    </tr>\n",
       "    <tr>\n",
       "      <th>5</th>\n",
       "      <td>11/20/2022</td>\n",
       "      <td>GB</td>\n",
       "      <td>Edinburgh</td>\n",
       "      <td>humidity</td>\n",
       "      <td>88.0</td>\n",
       "    </tr>\n",
       "    <tr>\n",
       "      <th>6</th>\n",
       "      <td>12/4/2022</td>\n",
       "      <td>GB</td>\n",
       "      <td>Edinburgh</td>\n",
       "      <td>humidity</td>\n",
       "      <td>89.8</td>\n",
       "    </tr>\n",
       "    <tr>\n",
       "      <th>7</th>\n",
       "      <td>12/6/2022</td>\n",
       "      <td>GB</td>\n",
       "      <td>Edinburgh</td>\n",
       "      <td>humidity</td>\n",
       "      <td>84.0</td>\n",
       "    </tr>\n",
       "    <tr>\n",
       "      <th>8</th>\n",
       "      <td>12/13/2022</td>\n",
       "      <td>GB</td>\n",
       "      <td>Edinburgh</td>\n",
       "      <td>humidity</td>\n",
       "      <td>92.0</td>\n",
       "    </tr>\n",
       "    <tr>\n",
       "      <th>9</th>\n",
       "      <td>12/15/2022</td>\n",
       "      <td>GB</td>\n",
       "      <td>Edinburgh</td>\n",
       "      <td>humidity</td>\n",
       "      <td>83.2</td>\n",
       "    </tr>\n",
       "  </tbody>\n",
       "</table>\n",
       "</div>"
      ],
      "text/plain": [
       "         Date Country       City    Specie  median\n",
       "0  10/20/2022      GB  Edinburgh  humidity    94.2\n",
       "1   11/2/2022      GB  Edinburgh  humidity    84.0\n",
       "2   11/8/2022      GB  Edinburgh  humidity    81.0\n",
       "3  11/13/2022      GB  Edinburgh  humidity    91.3\n",
       "4  11/19/2022      GB  Edinburgh  humidity    91.4\n",
       "5  11/20/2022      GB  Edinburgh  humidity    88.0\n",
       "6   12/4/2022      GB  Edinburgh  humidity    89.8\n",
       "7   12/6/2022      GB  Edinburgh  humidity    84.0\n",
       "8  12/13/2022      GB  Edinburgh  humidity    92.0\n",
       "9  12/15/2022      GB  Edinburgh  humidity    83.2"
      ]
     },
     "execution_count": 44,
     "metadata": {},
     "output_type": "execute_result"
    }
   ],
   "source": [
    "# Loading the data\n",
    "raw_data_2022_Q4 = pd.read_csv(r\"/kaggle/input/complete-raw-median/waqi-covid19-airqualitydata-2022Q4.csv\")\n",
    "\n",
    "# print the shape\n",
    "print(raw_data_2022_Q4.shape)\n",
    "\n",
    "#runs the first 5 rows\n",
    "raw_data_2022_Q4.head(10)"
   ]
  },
  {
   "cell_type": "code",
   "execution_count": 45,
   "id": "61f95d9e",
   "metadata": {
    "execution": {
     "iopub.execute_input": "2025-01-09T17:55:11.895681Z",
     "iopub.status.busy": "2025-01-09T17:55:11.895314Z",
     "iopub.status.idle": "2025-01-09T17:55:11.977799Z",
     "shell.execute_reply": "2025-01-09T17:55:11.976626Z"
    },
    "id": "8AsvhPlK6qcn",
    "papermill": {
     "duration": 0.127836,
     "end_time": "2025-01-09T17:55:11.979787",
     "exception": false,
     "start_time": "2025-01-09T17:55:11.851951",
     "status": "completed"
    },
    "tags": []
   },
   "outputs": [],
   "source": [
    "# Convert 'Date' to datetime\n",
    "raw_data_2022_Q4['Date'] = pd.to_datetime(raw_data_2022_Q4['Date'])"
   ]
  },
  {
   "cell_type": "code",
   "execution_count": 46,
   "id": "00ae18f0",
   "metadata": {
    "execution": {
     "iopub.execute_input": "2025-01-09T17:55:12.068125Z",
     "iopub.status.busy": "2025-01-09T17:55:12.067710Z",
     "iopub.status.idle": "2025-01-09T17:55:12.073584Z",
     "shell.execute_reply": "2025-01-09T17:55:12.072658Z"
    },
    "executionInfo": {
     "elapsed": 9,
     "status": "ok",
     "timestamp": 1734445427456,
     "user": {
      "displayName": "Tahmida Majumder",
      "userId": "15415648085337204568"
     },
     "user_tz": -480
    },
    "id": "K3Tj8lJH6qcn",
    "outputId": "9bfdfb56-8669-469d-950d-42d4c41edc5d",
    "papermill": {
     "duration": 0.052361,
     "end_time": "2025-01-09T17:55:12.075290",
     "exception": false,
     "start_time": "2025-01-09T17:55:12.022929",
     "status": "completed"
    },
    "tags": []
   },
   "outputs": [
    {
     "data": {
      "text/plain": [
       "(551341, 5)"
      ]
     },
     "execution_count": 46,
     "metadata": {},
     "output_type": "execute_result"
    }
   ],
   "source": [
    "raw_data_2022_Q4.shape"
   ]
  },
  {
   "cell_type": "code",
   "execution_count": 47,
   "id": "63473a5f",
   "metadata": {
    "execution": {
     "iopub.execute_input": "2025-01-09T17:55:12.163641Z",
     "iopub.status.busy": "2025-01-09T17:55:12.163288Z",
     "iopub.status.idle": "2025-01-09T17:55:12.574552Z",
     "shell.execute_reply": "2025-01-09T17:55:12.573607Z"
    },
    "id": "IESMeOdC6qcn",
    "papermill": {
     "duration": 0.457527,
     "end_time": "2025-01-09T17:55:12.577083",
     "exception": false,
     "start_time": "2025-01-09T17:55:12.119556",
     "status": "completed"
    },
    "tags": []
   },
   "outputs": [],
   "source": [
    "# Pivot the data\n",
    "data_df_2022_Q4 = raw_data_2022_Q4.pivot_table(\n",
    "    index=['Date', 'Country', 'City'],  # Grouping columns\n",
    "    columns='Specie',                  # Unique values become columns\n",
    "    values='median',                   # Values to aggregate\n",
    "    aggfunc='mean'                     # Aggregation function\n",
    ").reset_index()"
   ]
  },
  {
   "cell_type": "code",
   "execution_count": 48,
   "id": "361d0997",
   "metadata": {
    "execution": {
     "iopub.execute_input": "2025-01-09T17:55:12.665233Z",
     "iopub.status.busy": "2025-01-09T17:55:12.664862Z",
     "iopub.status.idle": "2025-01-09T17:55:12.689771Z",
     "shell.execute_reply": "2025-01-09T17:55:12.688674Z"
    },
    "executionInfo": {
     "elapsed": 11,
     "status": "ok",
     "timestamp": 1734445428523,
     "user": {
      "displayName": "Tahmida Majumder",
      "userId": "15415648085337204568"
     },
     "user_tz": -480
    },
    "id": "3WEISQiN6qcn",
    "outputId": "f23c8ec4-39e3-4a08-f170-0b056271a9fc",
    "papermill": {
     "duration": 0.06999,
     "end_time": "2025-01-09T17:55:12.691507",
     "exception": false,
     "start_time": "2025-01-09T17:55:12.621517",
     "status": "completed"
    },
    "tags": []
   },
   "outputs": [
    {
     "name": "stdout",
     "output_type": "stream",
     "text": [
      "(54530, 22)\n"
     ]
    },
    {
     "data": {
      "text/html": [
       "<div>\n",
       "<style scoped>\n",
       "    .dataframe tbody tr th:only-of-type {\n",
       "        vertical-align: middle;\n",
       "    }\n",
       "\n",
       "    .dataframe tbody tr th {\n",
       "        vertical-align: top;\n",
       "    }\n",
       "\n",
       "    .dataframe thead th {\n",
       "        text-align: right;\n",
       "    }\n",
       "</style>\n",
       "<table border=\"1\" class=\"dataframe\">\n",
       "  <thead>\n",
       "    <tr style=\"text-align: right;\">\n",
       "      <th>Specie</th>\n",
       "      <th>Date</th>\n",
       "      <th>Country</th>\n",
       "      <th>City</th>\n",
       "      <th>aqi</th>\n",
       "      <th>co</th>\n",
       "      <th>dew</th>\n",
       "      <th>humidity</th>\n",
       "      <th>mepaqi</th>\n",
       "      <th>neph</th>\n",
       "      <th>no2</th>\n",
       "      <th>...</th>\n",
       "      <th>pm10</th>\n",
       "      <th>pm25</th>\n",
       "      <th>precipitation</th>\n",
       "      <th>pressure</th>\n",
       "      <th>so2</th>\n",
       "      <th>temperature</th>\n",
       "      <th>uvi</th>\n",
       "      <th>wd</th>\n",
       "      <th>wind-gust</th>\n",
       "      <th>wind-speed</th>\n",
       "    </tr>\n",
       "  </thead>\n",
       "  <tbody>\n",
       "    <tr>\n",
       "      <th>0</th>\n",
       "      <td>2022-09-26</td>\n",
       "      <td>AE</td>\n",
       "      <td>Abu Dhabi</td>\n",
       "      <td>NaN</td>\n",
       "      <td>0.1</td>\n",
       "      <td>27.0</td>\n",
       "      <td>79.0</td>\n",
       "      <td>NaN</td>\n",
       "      <td>NaN</td>\n",
       "      <td>6.5</td>\n",
       "      <td>...</td>\n",
       "      <td>110.0</td>\n",
       "      <td>NaN</td>\n",
       "      <td>NaN</td>\n",
       "      <td>1005.0</td>\n",
       "      <td>2.3</td>\n",
       "      <td>32.0</td>\n",
       "      <td>NaN</td>\n",
       "      <td>NaN</td>\n",
       "      <td>2.5</td>\n",
       "      <td>2.5</td>\n",
       "    </tr>\n",
       "    <tr>\n",
       "      <th>1</th>\n",
       "      <td>2022-09-26</td>\n",
       "      <td>AE</td>\n",
       "      <td>Dubai</td>\n",
       "      <td>NaN</td>\n",
       "      <td>NaN</td>\n",
       "      <td>26.0</td>\n",
       "      <td>66.0</td>\n",
       "      <td>NaN</td>\n",
       "      <td>NaN</td>\n",
       "      <td>NaN</td>\n",
       "      <td>...</td>\n",
       "      <td>NaN</td>\n",
       "      <td>186.0</td>\n",
       "      <td>NaN</td>\n",
       "      <td>1004.0</td>\n",
       "      <td>NaN</td>\n",
       "      <td>33.0</td>\n",
       "      <td>NaN</td>\n",
       "      <td>NaN</td>\n",
       "      <td>NaN</td>\n",
       "      <td>3.0</td>\n",
       "    </tr>\n",
       "    <tr>\n",
       "      <th>2</th>\n",
       "      <td>2022-09-26</td>\n",
       "      <td>AR</td>\n",
       "      <td>Buenos Aires</td>\n",
       "      <td>NaN</td>\n",
       "      <td>5.3</td>\n",
       "      <td>12.9</td>\n",
       "      <td>82.9</td>\n",
       "      <td>NaN</td>\n",
       "      <td>NaN</td>\n",
       "      <td>NaN</td>\n",
       "      <td>...</td>\n",
       "      <td>35.0</td>\n",
       "      <td>9.0</td>\n",
       "      <td>NaN</td>\n",
       "      <td>1011.3</td>\n",
       "      <td>4.1</td>\n",
       "      <td>16.6</td>\n",
       "      <td>NaN</td>\n",
       "      <td>67.5</td>\n",
       "      <td>NaN</td>\n",
       "      <td>2.0</td>\n",
       "    </tr>\n",
       "    <tr>\n",
       "      <th>3</th>\n",
       "      <td>2022-09-26</td>\n",
       "      <td>AT</td>\n",
       "      <td>Graz</td>\n",
       "      <td>NaN</td>\n",
       "      <td>0.1</td>\n",
       "      <td>11.4</td>\n",
       "      <td>90.6</td>\n",
       "      <td>NaN</td>\n",
       "      <td>NaN</td>\n",
       "      <td>8.3</td>\n",
       "      <td>...</td>\n",
       "      <td>10.0</td>\n",
       "      <td>30.0</td>\n",
       "      <td>99.2</td>\n",
       "      <td>964.7</td>\n",
       "      <td>1.1</td>\n",
       "      <td>12.9</td>\n",
       "      <td>NaN</td>\n",
       "      <td>NaN</td>\n",
       "      <td>2.6</td>\n",
       "      <td>1.0</td>\n",
       "    </tr>\n",
       "    <tr>\n",
       "      <th>4</th>\n",
       "      <td>2022-09-26</td>\n",
       "      <td>AT</td>\n",
       "      <td>Innsbruck</td>\n",
       "      <td>NaN</td>\n",
       "      <td>0.1</td>\n",
       "      <td>8.6</td>\n",
       "      <td>96.5</td>\n",
       "      <td>NaN</td>\n",
       "      <td>NaN</td>\n",
       "      <td>6.0</td>\n",
       "      <td>...</td>\n",
       "      <td>6.0</td>\n",
       "      <td>NaN</td>\n",
       "      <td>99.0</td>\n",
       "      <td>938.6</td>\n",
       "      <td>0.6</td>\n",
       "      <td>10.8</td>\n",
       "      <td>NaN</td>\n",
       "      <td>NaN</td>\n",
       "      <td>1.0</td>\n",
       "      <td>2.0</td>\n",
       "    </tr>\n",
       "  </tbody>\n",
       "</table>\n",
       "<p>5 rows × 22 columns</p>\n",
       "</div>"
      ],
      "text/plain": [
       "Specie       Date Country          City  aqi   co   dew  humidity  mepaqi  \\\n",
       "0      2022-09-26      AE     Abu Dhabi  NaN  0.1  27.0      79.0     NaN   \n",
       "1      2022-09-26      AE         Dubai  NaN  NaN  26.0      66.0     NaN   \n",
       "2      2022-09-26      AR  Buenos Aires  NaN  5.3  12.9      82.9     NaN   \n",
       "3      2022-09-26      AT          Graz  NaN  0.1  11.4      90.6     NaN   \n",
       "4      2022-09-26      AT     Innsbruck  NaN  0.1   8.6      96.5     NaN   \n",
       "\n",
       "Specie  neph  no2  ...   pm10   pm25  precipitation  pressure  so2  \\\n",
       "0        NaN  6.5  ...  110.0    NaN            NaN    1005.0  2.3   \n",
       "1        NaN  NaN  ...    NaN  186.0            NaN    1004.0  NaN   \n",
       "2        NaN  NaN  ...   35.0    9.0            NaN    1011.3  4.1   \n",
       "3        NaN  8.3  ...   10.0   30.0           99.2     964.7  1.1   \n",
       "4        NaN  6.0  ...    6.0    NaN           99.0     938.6  0.6   \n",
       "\n",
       "Specie  temperature  uvi    wd  wind-gust  wind-speed  \n",
       "0              32.0  NaN   NaN        2.5         2.5  \n",
       "1              33.0  NaN   NaN        NaN         3.0  \n",
       "2              16.6  NaN  67.5        NaN         2.0  \n",
       "3              12.9  NaN   NaN        2.6         1.0  \n",
       "4              10.8  NaN   NaN        1.0         2.0  \n",
       "\n",
       "[5 rows x 22 columns]"
      ]
     },
     "execution_count": 48,
     "metadata": {},
     "output_type": "execute_result"
    }
   ],
   "source": [
    "print(data_df_2022_Q4.shape)\n",
    "data_df_2022_Q4.head()"
   ]
  },
  {
   "cell_type": "code",
   "execution_count": 49,
   "id": "c16f3430",
   "metadata": {
    "execution": {
     "iopub.execute_input": "2025-01-09T17:55:12.779635Z",
     "iopub.status.busy": "2025-01-09T17:55:12.779281Z",
     "iopub.status.idle": "2025-01-09T17:55:12.793583Z",
     "shell.execute_reply": "2025-01-09T17:55:12.792621Z"
    },
    "executionInfo": {
     "elapsed": 7,
     "status": "ok",
     "timestamp": 1734445428523,
     "user": {
      "displayName": "Tahmida Majumder",
      "userId": "15415648085337204568"
     },
     "user_tz": -480
    },
    "id": "CfSd78vh6qcn",
    "outputId": "5b2b2a3a-18d4-4055-df17-f9e04a373c9a",
    "papermill": {
     "duration": 0.060578,
     "end_time": "2025-01-09T17:55:12.795288",
     "exception": false,
     "start_time": "2025-01-09T17:55:12.734710",
     "status": "completed"
    },
    "tags": []
   },
   "outputs": [
    {
     "data": {
      "text/plain": [
       "Specie\n",
       "Date                 0\n",
       "Country              0\n",
       "City                 0\n",
       "aqi              53624\n",
       "co               19997\n",
       "dew              10675\n",
       "humidity           203\n",
       "mepaqi           54432\n",
       "neph             54334\n",
       "no2               9605\n",
       "o3               12958\n",
       "pm1              54282\n",
       "pm10             10067\n",
       "pm25              6960\n",
       "precipitation    48184\n",
       "pressure           395\n",
       "so2              16571\n",
       "temperature        103\n",
       "uvi              53550\n",
       "wd               50877\n",
       "wind-gust        26553\n",
       "wind-speed        1359\n",
       "dtype: int64"
      ]
     },
     "execution_count": 49,
     "metadata": {},
     "output_type": "execute_result"
    }
   ],
   "source": [
    "data_df_2022_Q4.isnull().sum()"
   ]
  },
  {
   "cell_type": "code",
   "execution_count": null,
   "id": "f5b2a8c9",
   "metadata": {
    "id": "mR7YzXW3kmui",
    "papermill": {
     "duration": 0.043274,
     "end_time": "2025-01-09T17:55:12.882394",
     "exception": false,
     "start_time": "2025-01-09T17:55:12.839120",
     "status": "completed"
    },
    "tags": []
   },
   "outputs": [],
   "source": []
  },
  {
   "cell_type": "markdown",
   "id": "7402ac92",
   "metadata": {
    "id": "7OJzdlsl6-ni",
    "papermill": {
     "duration": 0.042935,
     "end_time": "2025-01-09T17:55:12.970185",
     "exception": false,
     "start_time": "2025-01-09T17:55:12.927250",
     "status": "completed"
    },
    "tags": []
   },
   "source": [
    "# 2021_Q1"
   ]
  },
  {
   "cell_type": "code",
   "execution_count": 50,
   "id": "7f0ca7a2",
   "metadata": {
    "execution": {
     "iopub.execute_input": "2025-01-09T17:55:13.058720Z",
     "iopub.status.busy": "2025-01-09T17:55:13.058398Z",
     "iopub.status.idle": "2025-01-09T17:55:13.656016Z",
     "shell.execute_reply": "2025-01-09T17:55:13.654831Z"
    },
    "executionInfo": {
     "elapsed": 801,
     "status": "ok",
     "timestamp": 1734445429318,
     "user": {
      "displayName": "Tahmida Majumder",
      "userId": "15415648085337204568"
     },
     "user_tz": -480
    },
    "id": "cabEtMG26-ni",
    "outputId": "9ab70de8-8853-43ee-a233-414b5ddc8e8a",
    "papermill": {
     "duration": 0.647503,
     "end_time": "2025-01-09T17:55:13.661242",
     "exception": false,
     "start_time": "2025-01-09T17:55:13.013739",
     "status": "completed"
    },
    "tags": []
   },
   "outputs": [
    {
     "name": "stdout",
     "output_type": "stream",
     "text": [
      "(590729, 5)\n"
     ]
    },
    {
     "data": {
      "text/html": [
       "<div>\n",
       "<style scoped>\n",
       "    .dataframe tbody tr th:only-of-type {\n",
       "        vertical-align: middle;\n",
       "    }\n",
       "\n",
       "    .dataframe tbody tr th {\n",
       "        vertical-align: top;\n",
       "    }\n",
       "\n",
       "    .dataframe thead th {\n",
       "        text-align: right;\n",
       "    }\n",
       "</style>\n",
       "<table border=\"1\" class=\"dataframe\">\n",
       "  <thead>\n",
       "    <tr style=\"text-align: right;\">\n",
       "      <th></th>\n",
       "      <th>Date</th>\n",
       "      <th>Country</th>\n",
       "      <th>City</th>\n",
       "      <th>Specie</th>\n",
       "      <th>median</th>\n",
       "    </tr>\n",
       "  </thead>\n",
       "  <tbody>\n",
       "    <tr>\n",
       "      <th>0</th>\n",
       "      <td>4/4/2021</td>\n",
       "      <td>CN</td>\n",
       "      <td>Beijing</td>\n",
       "      <td>pressure</td>\n",
       "      <td>1026.0</td>\n",
       "    </tr>\n",
       "    <tr>\n",
       "      <th>1</th>\n",
       "      <td>2/13/2021</td>\n",
       "      <td>CN</td>\n",
       "      <td>Beijing</td>\n",
       "      <td>pressure</td>\n",
       "      <td>1021.0</td>\n",
       "    </tr>\n",
       "    <tr>\n",
       "      <th>2</th>\n",
       "      <td>2/16/2021</td>\n",
       "      <td>CN</td>\n",
       "      <td>Beijing</td>\n",
       "      <td>pressure</td>\n",
       "      <td>1026.0</td>\n",
       "    </tr>\n",
       "    <tr>\n",
       "      <th>3</th>\n",
       "      <td>3/1/2021</td>\n",
       "      <td>CN</td>\n",
       "      <td>Beijing</td>\n",
       "      <td>pressure</td>\n",
       "      <td>1028.5</td>\n",
       "    </tr>\n",
       "    <tr>\n",
       "      <th>4</th>\n",
       "      <td>3/14/2021</td>\n",
       "      <td>CN</td>\n",
       "      <td>Beijing</td>\n",
       "      <td>pressure</td>\n",
       "      <td>1015.5</td>\n",
       "    </tr>\n",
       "    <tr>\n",
       "      <th>5</th>\n",
       "      <td>3/16/2021</td>\n",
       "      <td>CN</td>\n",
       "      <td>Beijing</td>\n",
       "      <td>pressure</td>\n",
       "      <td>1022.5</td>\n",
       "    </tr>\n",
       "    <tr>\n",
       "      <th>6</th>\n",
       "      <td>4/2/2021</td>\n",
       "      <td>CN</td>\n",
       "      <td>Beijing</td>\n",
       "      <td>pressure</td>\n",
       "      <td>1019.0</td>\n",
       "    </tr>\n",
       "    <tr>\n",
       "      <th>7</th>\n",
       "      <td>3/21/2021</td>\n",
       "      <td>CN</td>\n",
       "      <td>Beijing</td>\n",
       "      <td>pressure</td>\n",
       "      <td>1025.0</td>\n",
       "    </tr>\n",
       "    <tr>\n",
       "      <th>8</th>\n",
       "      <td>1/6/2021</td>\n",
       "      <td>CN</td>\n",
       "      <td>Beijing</td>\n",
       "      <td>pressure</td>\n",
       "      <td>1036.0</td>\n",
       "    </tr>\n",
       "    <tr>\n",
       "      <th>9</th>\n",
       "      <td>1/16/2021</td>\n",
       "      <td>CN</td>\n",
       "      <td>Beijing</td>\n",
       "      <td>pressure</td>\n",
       "      <td>1034.0</td>\n",
       "    </tr>\n",
       "  </tbody>\n",
       "</table>\n",
       "</div>"
      ],
      "text/plain": [
       "        Date Country     City    Specie  median\n",
       "0   4/4/2021      CN  Beijing  pressure  1026.0\n",
       "1  2/13/2021      CN  Beijing  pressure  1021.0\n",
       "2  2/16/2021      CN  Beijing  pressure  1026.0\n",
       "3   3/1/2021      CN  Beijing  pressure  1028.5\n",
       "4  3/14/2021      CN  Beijing  pressure  1015.5\n",
       "5  3/16/2021      CN  Beijing  pressure  1022.5\n",
       "6   4/2/2021      CN  Beijing  pressure  1019.0\n",
       "7  3/21/2021      CN  Beijing  pressure  1025.0\n",
       "8   1/6/2021      CN  Beijing  pressure  1036.0\n",
       "9  1/16/2021      CN  Beijing  pressure  1034.0"
      ]
     },
     "execution_count": 50,
     "metadata": {},
     "output_type": "execute_result"
    }
   ],
   "source": [
    "# Loading the data\n",
    "raw_data_2021_Q1 = pd.read_csv(r\"/kaggle/input/complete-raw-median/waqi-covid19-airqualitydata-2021Q1.csv\")\n",
    "\n",
    "# print the shape\n",
    "print(raw_data_2021_Q1.shape)\n",
    "\n",
    "#runs the first 5 rows\n",
    "raw_data_2021_Q1.head(10)"
   ]
  },
  {
   "cell_type": "code",
   "execution_count": 51,
   "id": "557c17da",
   "metadata": {
    "execution": {
     "iopub.execute_input": "2025-01-09T17:55:13.753917Z",
     "iopub.status.busy": "2025-01-09T17:55:13.753514Z",
     "iopub.status.idle": "2025-01-09T17:55:13.838098Z",
     "shell.execute_reply": "2025-01-09T17:55:13.837043Z"
    },
    "id": "B-f0yfdB6-ni",
    "papermill": {
     "duration": 0.132788,
     "end_time": "2025-01-09T17:55:13.840010",
     "exception": false,
     "start_time": "2025-01-09T17:55:13.707222",
     "status": "completed"
    },
    "tags": []
   },
   "outputs": [],
   "source": [
    "# Convert 'Date' to datetime\n",
    "raw_data_2021_Q1['Date'] = pd.to_datetime(raw_data_2021_Q1['Date'])"
   ]
  },
  {
   "cell_type": "code",
   "execution_count": 52,
   "id": "779be8db",
   "metadata": {
    "execution": {
     "iopub.execute_input": "2025-01-09T17:55:13.929272Z",
     "iopub.status.busy": "2025-01-09T17:55:13.928939Z",
     "iopub.status.idle": "2025-01-09T17:55:13.934905Z",
     "shell.execute_reply": "2025-01-09T17:55:13.933821Z"
    },
    "executionInfo": {
     "elapsed": 6,
     "status": "ok",
     "timestamp": 1734445429318,
     "user": {
      "displayName": "Tahmida Majumder",
      "userId": "15415648085337204568"
     },
     "user_tz": -480
    },
    "id": "OMm8NtLO6-ni",
    "outputId": "b012fc16-71a5-417b-bf6e-6fe8588b8bca",
    "papermill": {
     "duration": 0.052799,
     "end_time": "2025-01-09T17:55:13.936645",
     "exception": false,
     "start_time": "2025-01-09T17:55:13.883846",
     "status": "completed"
    },
    "tags": []
   },
   "outputs": [
    {
     "data": {
      "text/plain": [
       "(590729, 5)"
      ]
     },
     "execution_count": 52,
     "metadata": {},
     "output_type": "execute_result"
    }
   ],
   "source": [
    "raw_data_2021_Q1.shape"
   ]
  },
  {
   "cell_type": "code",
   "execution_count": 53,
   "id": "6d4d92d0",
   "metadata": {
    "execution": {
     "iopub.execute_input": "2025-01-09T17:55:14.025346Z",
     "iopub.status.busy": "2025-01-09T17:55:14.024980Z",
     "iopub.status.idle": "2025-01-09T17:55:14.472973Z",
     "shell.execute_reply": "2025-01-09T17:55:14.471869Z"
    },
    "id": "mdLTyMD96-nj",
    "papermill": {
     "duration": 0.4947,
     "end_time": "2025-01-09T17:55:14.474969",
     "exception": false,
     "start_time": "2025-01-09T17:55:13.980269",
     "status": "completed"
    },
    "tags": []
   },
   "outputs": [],
   "source": [
    "# Pivot the data\n",
    "data_df_2021_Q1 = raw_data_2021_Q1.pivot_table(\n",
    "    index=['Date', 'Country', 'City'],  # Grouping columns\n",
    "    columns='Specie',                  # Unique values become columns\n",
    "    values='median',                   # Values to aggregate\n",
    "    aggfunc='mean'                     # Aggregation function\n",
    ").reset_index()"
   ]
  },
  {
   "cell_type": "code",
   "execution_count": 54,
   "id": "7f7b246f",
   "metadata": {
    "execution": {
     "iopub.execute_input": "2025-01-09T17:55:14.564552Z",
     "iopub.status.busy": "2025-01-09T17:55:14.564220Z",
     "iopub.status.idle": "2025-01-09T17:55:14.590844Z",
     "shell.execute_reply": "2025-01-09T17:55:14.589676Z"
    },
    "executionInfo": {
     "elapsed": 571,
     "status": "ok",
     "timestamp": 1734445430617,
     "user": {
      "displayName": "Tahmida Majumder",
      "userId": "15415648085337204568"
     },
     "user_tz": -480
    },
    "id": "-TKzBkVF6-nj",
    "outputId": "05fe4fae-db24-41e8-f983-8a20a15c8c25",
    "papermill": {
     "duration": 0.072639,
     "end_time": "2025-01-09T17:55:14.592373",
     "exception": false,
     "start_time": "2025-01-09T17:55:14.519734",
     "status": "completed"
    },
    "tags": []
   },
   "outputs": [
    {
     "name": "stdout",
     "output_type": "stream",
     "text": [
      "(58552, 22)\n"
     ]
    },
    {
     "data": {
      "text/html": [
       "<div>\n",
       "<style scoped>\n",
       "    .dataframe tbody tr th:only-of-type {\n",
       "        vertical-align: middle;\n",
       "    }\n",
       "\n",
       "    .dataframe tbody tr th {\n",
       "        vertical-align: top;\n",
       "    }\n",
       "\n",
       "    .dataframe thead th {\n",
       "        text-align: right;\n",
       "    }\n",
       "</style>\n",
       "<table border=\"1\" class=\"dataframe\">\n",
       "  <thead>\n",
       "    <tr style=\"text-align: right;\">\n",
       "      <th>Specie</th>\n",
       "      <th>Date</th>\n",
       "      <th>Country</th>\n",
       "      <th>City</th>\n",
       "      <th>aqi</th>\n",
       "      <th>co</th>\n",
       "      <th>dew</th>\n",
       "      <th>humidity</th>\n",
       "      <th>mepaqi</th>\n",
       "      <th>neph</th>\n",
       "      <th>no2</th>\n",
       "      <th>...</th>\n",
       "      <th>pm10</th>\n",
       "      <th>pm25</th>\n",
       "      <th>precipitation</th>\n",
       "      <th>pressure</th>\n",
       "      <th>so2</th>\n",
       "      <th>temperature</th>\n",
       "      <th>uvi</th>\n",
       "      <th>wd</th>\n",
       "      <th>wind-gust</th>\n",
       "      <th>wind-speed</th>\n",
       "    </tr>\n",
       "  </thead>\n",
       "  <tbody>\n",
       "    <tr>\n",
       "      <th>0</th>\n",
       "      <td>2020-12-28</td>\n",
       "      <td>AE</td>\n",
       "      <td>Abu Dhabi</td>\n",
       "      <td>NaN</td>\n",
       "      <td>0.1</td>\n",
       "      <td>11.0</td>\n",
       "      <td>55.0</td>\n",
       "      <td>NaN</td>\n",
       "      <td>NaN</td>\n",
       "      <td>15.1</td>\n",
       "      <td>...</td>\n",
       "      <td>100.0</td>\n",
       "      <td>34.0</td>\n",
       "      <td>NaN</td>\n",
       "      <td>1019.0</td>\n",
       "      <td>4.6</td>\n",
       "      <td>20.0</td>\n",
       "      <td>NaN</td>\n",
       "      <td>NaN</td>\n",
       "      <td>NaN</td>\n",
       "      <td>2.5</td>\n",
       "    </tr>\n",
       "    <tr>\n",
       "      <th>1</th>\n",
       "      <td>2020-12-28</td>\n",
       "      <td>AE</td>\n",
       "      <td>Dubai</td>\n",
       "      <td>NaN</td>\n",
       "      <td>NaN</td>\n",
       "      <td>8.0</td>\n",
       "      <td>45.0</td>\n",
       "      <td>NaN</td>\n",
       "      <td>NaN</td>\n",
       "      <td>NaN</td>\n",
       "      <td>...</td>\n",
       "      <td>NaN</td>\n",
       "      <td>63.0</td>\n",
       "      <td>NaN</td>\n",
       "      <td>1019.0</td>\n",
       "      <td>NaN</td>\n",
       "      <td>21.0</td>\n",
       "      <td>NaN</td>\n",
       "      <td>NaN</td>\n",
       "      <td>NaN</td>\n",
       "      <td>3.0</td>\n",
       "    </tr>\n",
       "    <tr>\n",
       "      <th>2</th>\n",
       "      <td>2020-12-28</td>\n",
       "      <td>AF</td>\n",
       "      <td>Kabul</td>\n",
       "      <td>NaN</td>\n",
       "      <td>NaN</td>\n",
       "      <td>-15.0</td>\n",
       "      <td>35.0</td>\n",
       "      <td>NaN</td>\n",
       "      <td>NaN</td>\n",
       "      <td>NaN</td>\n",
       "      <td>...</td>\n",
       "      <td>NaN</td>\n",
       "      <td>102.0</td>\n",
       "      <td>NaN</td>\n",
       "      <td>1019.0</td>\n",
       "      <td>NaN</td>\n",
       "      <td>-2.0</td>\n",
       "      <td>NaN</td>\n",
       "      <td>NaN</td>\n",
       "      <td>NaN</td>\n",
       "      <td>3.6</td>\n",
       "    </tr>\n",
       "    <tr>\n",
       "      <th>3</th>\n",
       "      <td>2020-12-28</td>\n",
       "      <td>AR</td>\n",
       "      <td>Buenos Aires</td>\n",
       "      <td>NaN</td>\n",
       "      <td>2.8</td>\n",
       "      <td>20.7</td>\n",
       "      <td>75.1</td>\n",
       "      <td>NaN</td>\n",
       "      <td>NaN</td>\n",
       "      <td>14.2</td>\n",
       "      <td>...</td>\n",
       "      <td>19.0</td>\n",
       "      <td>25.0</td>\n",
       "      <td>NaN</td>\n",
       "      <td>1012.0</td>\n",
       "      <td>NaN</td>\n",
       "      <td>25.8</td>\n",
       "      <td>NaN</td>\n",
       "      <td>90.0</td>\n",
       "      <td>13.0</td>\n",
       "      <td>5.6</td>\n",
       "    </tr>\n",
       "    <tr>\n",
       "      <th>4</th>\n",
       "      <td>2020-12-28</td>\n",
       "      <td>AT</td>\n",
       "      <td>Graz</td>\n",
       "      <td>NaN</td>\n",
       "      <td>0.1</td>\n",
       "      <td>-3.6</td>\n",
       "      <td>54.3</td>\n",
       "      <td>NaN</td>\n",
       "      <td>NaN</td>\n",
       "      <td>11.2</td>\n",
       "      <td>...</td>\n",
       "      <td>19.0</td>\n",
       "      <td>NaN</td>\n",
       "      <td>99.5</td>\n",
       "      <td>986.6</td>\n",
       "      <td>1.1</td>\n",
       "      <td>-0.3</td>\n",
       "      <td>NaN</td>\n",
       "      <td>NaN</td>\n",
       "      <td>2.3</td>\n",
       "      <td>1.0</td>\n",
       "    </tr>\n",
       "  </tbody>\n",
       "</table>\n",
       "<p>5 rows × 22 columns</p>\n",
       "</div>"
      ],
      "text/plain": [
       "Specie       Date Country          City  aqi   co   dew  humidity  mepaqi  \\\n",
       "0      2020-12-28      AE     Abu Dhabi  NaN  0.1  11.0      55.0     NaN   \n",
       "1      2020-12-28      AE         Dubai  NaN  NaN   8.0      45.0     NaN   \n",
       "2      2020-12-28      AF         Kabul  NaN  NaN -15.0      35.0     NaN   \n",
       "3      2020-12-28      AR  Buenos Aires  NaN  2.8  20.7      75.1     NaN   \n",
       "4      2020-12-28      AT          Graz  NaN  0.1  -3.6      54.3     NaN   \n",
       "\n",
       "Specie  neph   no2  ...   pm10   pm25  precipitation  pressure  so2  \\\n",
       "0        NaN  15.1  ...  100.0   34.0            NaN    1019.0  4.6   \n",
       "1        NaN   NaN  ...    NaN   63.0            NaN    1019.0  NaN   \n",
       "2        NaN   NaN  ...    NaN  102.0            NaN    1019.0  NaN   \n",
       "3        NaN  14.2  ...   19.0   25.0            NaN    1012.0  NaN   \n",
       "4        NaN  11.2  ...   19.0    NaN           99.5     986.6  1.1   \n",
       "\n",
       "Specie  temperature  uvi    wd  wind-gust  wind-speed  \n",
       "0              20.0  NaN   NaN        NaN         2.5  \n",
       "1              21.0  NaN   NaN        NaN         3.0  \n",
       "2              -2.0  NaN   NaN        NaN         3.6  \n",
       "3              25.8  NaN  90.0       13.0         5.6  \n",
       "4              -0.3  NaN   NaN        2.3         1.0  \n",
       "\n",
       "[5 rows x 22 columns]"
      ]
     },
     "execution_count": 54,
     "metadata": {},
     "output_type": "execute_result"
    }
   ],
   "source": [
    "print(data_df_2021_Q1.shape)\n",
    "data_df_2021_Q1.head()"
   ]
  },
  {
   "cell_type": "code",
   "execution_count": 55,
   "id": "83d9eb2a",
   "metadata": {
    "execution": {
     "iopub.execute_input": "2025-01-09T17:55:14.681839Z",
     "iopub.status.busy": "2025-01-09T17:55:14.681445Z",
     "iopub.status.idle": "2025-01-09T17:55:14.695714Z",
     "shell.execute_reply": "2025-01-09T17:55:14.694642Z"
    },
    "executionInfo": {
     "elapsed": 7,
     "status": "ok",
     "timestamp": 1734445430618,
     "user": {
      "displayName": "Tahmida Majumder",
      "userId": "15415648085337204568"
     },
     "user_tz": -480
    },
    "id": "amjDbX-q6-nj",
    "outputId": "a273a9cb-fadc-4978-9038-0cdc6f155924",
    "papermill": {
     "duration": 0.061045,
     "end_time": "2025-01-09T17:55:14.697553",
     "exception": false,
     "start_time": "2025-01-09T17:55:14.636508",
     "status": "completed"
    },
    "tags": []
   },
   "outputs": [
    {
     "data": {
      "text/plain": [
       "Specie\n",
       "Date                 0\n",
       "Country              0\n",
       "City                 0\n",
       "aqi              57095\n",
       "co               21064\n",
       "dew              12610\n",
       "humidity           203\n",
       "mepaqi           58454\n",
       "neph             58356\n",
       "no2              10946\n",
       "o3               15009\n",
       "pm1              58358\n",
       "pm10             10897\n",
       "pm25              8962\n",
       "precipitation    52036\n",
       "pressure           360\n",
       "so2              18363\n",
       "temperature        177\n",
       "uvi              57577\n",
       "wd               53821\n",
       "wind-gust        26579\n",
       "wind-speed         892\n",
       "dtype: int64"
      ]
     },
     "execution_count": 55,
     "metadata": {},
     "output_type": "execute_result"
    }
   ],
   "source": [
    "data_df_2021_Q1.isnull().sum()"
   ]
  },
  {
   "cell_type": "code",
   "execution_count": null,
   "id": "fd7e3aef",
   "metadata": {
    "id": "z7QPUFHekmxG",
    "papermill": {
     "duration": 0.043735,
     "end_time": "2025-01-09T17:55:14.785971",
     "exception": false,
     "start_time": "2025-01-09T17:55:14.742236",
     "status": "completed"
    },
    "tags": []
   },
   "outputs": [],
   "source": []
  },
  {
   "cell_type": "code",
   "execution_count": null,
   "id": "19ad9013",
   "metadata": {
    "id": "C_JNMdE37dA1",
    "papermill": {
     "duration": 0.043982,
     "end_time": "2025-01-09T17:55:14.874071",
     "exception": false,
     "start_time": "2025-01-09T17:55:14.830089",
     "status": "completed"
    },
    "tags": []
   },
   "outputs": [],
   "source": []
  },
  {
   "cell_type": "markdown",
   "id": "2574c9b0",
   "metadata": {
    "id": "DK1N9LM97dA1",
    "papermill": {
     "duration": 0.044916,
     "end_time": "2025-01-09T17:55:14.962865",
     "exception": false,
     "start_time": "2025-01-09T17:55:14.917949",
     "status": "completed"
    },
    "tags": []
   },
   "source": [
    "# 2021_Q2"
   ]
  },
  {
   "cell_type": "code",
   "execution_count": 56,
   "id": "23ea0af5",
   "metadata": {
    "execution": {
     "iopub.execute_input": "2025-01-09T17:55:15.052973Z",
     "iopub.status.busy": "2025-01-09T17:55:15.052583Z",
     "iopub.status.idle": "2025-01-09T17:55:15.638191Z",
     "shell.execute_reply": "2025-01-09T17:55:15.636983Z"
    },
    "executionInfo": {
     "elapsed": 957,
     "status": "ok",
     "timestamp": 1734445431570,
     "user": {
      "displayName": "Tahmida Majumder",
      "userId": "15415648085337204568"
     },
     "user_tz": -480
    },
    "id": "13HBc4s67dA2",
    "outputId": "abfacf20-9a88-4737-c6ba-2f5f852aa94d",
    "papermill": {
     "duration": 0.632309,
     "end_time": "2025-01-09T17:55:15.639736",
     "exception": false,
     "start_time": "2025-01-09T17:55:15.007427",
     "status": "completed"
    },
    "tags": []
   },
   "outputs": [
    {
     "name": "stdout",
     "output_type": "stream",
     "text": [
      "(587119, 5)\n"
     ]
    },
    {
     "data": {
      "text/html": [
       "<div>\n",
       "<style scoped>\n",
       "    .dataframe tbody tr th:only-of-type {\n",
       "        vertical-align: middle;\n",
       "    }\n",
       "\n",
       "    .dataframe tbody tr th {\n",
       "        vertical-align: top;\n",
       "    }\n",
       "\n",
       "    .dataframe thead th {\n",
       "        text-align: right;\n",
       "    }\n",
       "</style>\n",
       "<table border=\"1\" class=\"dataframe\">\n",
       "  <thead>\n",
       "    <tr style=\"text-align: right;\">\n",
       "      <th></th>\n",
       "      <th>Date</th>\n",
       "      <th>Country</th>\n",
       "      <th>City</th>\n",
       "      <th>Specie</th>\n",
       "      <th>median</th>\n",
       "    </tr>\n",
       "  </thead>\n",
       "  <tbody>\n",
       "    <tr>\n",
       "      <th>0</th>\n",
       "      <td>4/8/2021</td>\n",
       "      <td>IQ</td>\n",
       "      <td>Baghdad</td>\n",
       "      <td>dew</td>\n",
       "      <td>6.0</td>\n",
       "    </tr>\n",
       "    <tr>\n",
       "      <th>1</th>\n",
       "      <td>7/1/2021</td>\n",
       "      <td>IQ</td>\n",
       "      <td>Baghdad</td>\n",
       "      <td>dew</td>\n",
       "      <td>9.0</td>\n",
       "    </tr>\n",
       "    <tr>\n",
       "      <th>2</th>\n",
       "      <td>4/6/2021</td>\n",
       "      <td>IQ</td>\n",
       "      <td>Baghdad</td>\n",
       "      <td>dew</td>\n",
       "      <td>6.0</td>\n",
       "    </tr>\n",
       "    <tr>\n",
       "      <th>3</th>\n",
       "      <td>4/14/2021</td>\n",
       "      <td>IQ</td>\n",
       "      <td>Baghdad</td>\n",
       "      <td>dew</td>\n",
       "      <td>3.0</td>\n",
       "    </tr>\n",
       "    <tr>\n",
       "      <th>4</th>\n",
       "      <td>4/19/2021</td>\n",
       "      <td>IQ</td>\n",
       "      <td>Baghdad</td>\n",
       "      <td>dew</td>\n",
       "      <td>8.0</td>\n",
       "    </tr>\n",
       "    <tr>\n",
       "      <th>5</th>\n",
       "      <td>5/8/2021</td>\n",
       "      <td>IQ</td>\n",
       "      <td>Baghdad</td>\n",
       "      <td>dew</td>\n",
       "      <td>10.0</td>\n",
       "    </tr>\n",
       "    <tr>\n",
       "      <th>6</th>\n",
       "      <td>5/17/2021</td>\n",
       "      <td>IQ</td>\n",
       "      <td>Baghdad</td>\n",
       "      <td>dew</td>\n",
       "      <td>7.0</td>\n",
       "    </tr>\n",
       "    <tr>\n",
       "      <th>7</th>\n",
       "      <td>5/21/2021</td>\n",
       "      <td>IQ</td>\n",
       "      <td>Baghdad</td>\n",
       "      <td>dew</td>\n",
       "      <td>7.0</td>\n",
       "    </tr>\n",
       "    <tr>\n",
       "      <th>8</th>\n",
       "      <td>5/22/2021</td>\n",
       "      <td>IQ</td>\n",
       "      <td>Baghdad</td>\n",
       "      <td>dew</td>\n",
       "      <td>9.0</td>\n",
       "    </tr>\n",
       "    <tr>\n",
       "      <th>9</th>\n",
       "      <td>6/3/2021</td>\n",
       "      <td>IQ</td>\n",
       "      <td>Baghdad</td>\n",
       "      <td>dew</td>\n",
       "      <td>8.0</td>\n",
       "    </tr>\n",
       "  </tbody>\n",
       "</table>\n",
       "</div>"
      ],
      "text/plain": [
       "        Date Country     City Specie  median\n",
       "0   4/8/2021      IQ  Baghdad    dew     6.0\n",
       "1   7/1/2021      IQ  Baghdad    dew     9.0\n",
       "2   4/6/2021      IQ  Baghdad    dew     6.0\n",
       "3  4/14/2021      IQ  Baghdad    dew     3.0\n",
       "4  4/19/2021      IQ  Baghdad    dew     8.0\n",
       "5   5/8/2021      IQ  Baghdad    dew    10.0\n",
       "6  5/17/2021      IQ  Baghdad    dew     7.0\n",
       "7  5/21/2021      IQ  Baghdad    dew     7.0\n",
       "8  5/22/2021      IQ  Baghdad    dew     9.0\n",
       "9   6/3/2021      IQ  Baghdad    dew     8.0"
      ]
     },
     "execution_count": 56,
     "metadata": {},
     "output_type": "execute_result"
    }
   ],
   "source": [
    "# Loading the data\n",
    "raw_data_2021_Q2 = pd.read_csv(r\"/kaggle/input/complete-raw-median/waqi-covid19-airqualitydata-2021Q2.csv\")\n",
    "\n",
    "# print the shape\n",
    "print(raw_data_2021_Q2.shape)\n",
    "\n",
    "#runs the first 5 rows\n",
    "raw_data_2021_Q2.head(10)"
   ]
  },
  {
   "cell_type": "code",
   "execution_count": 57,
   "id": "be2d4905",
   "metadata": {
    "execution": {
     "iopub.execute_input": "2025-01-09T17:55:15.732518Z",
     "iopub.status.busy": "2025-01-09T17:55:15.732174Z",
     "iopub.status.idle": "2025-01-09T17:55:15.816636Z",
     "shell.execute_reply": "2025-01-09T17:55:15.815313Z"
    },
    "id": "f97XI_7l7dA2",
    "papermill": {
     "duration": 0.132999,
     "end_time": "2025-01-09T17:55:15.818941",
     "exception": false,
     "start_time": "2025-01-09T17:55:15.685942",
     "status": "completed"
    },
    "tags": []
   },
   "outputs": [],
   "source": [
    "# Convert 'Date' to datetime\n",
    "raw_data_2021_Q2['Date'] = pd.to_datetime(raw_data_2021_Q2['Date'])"
   ]
  },
  {
   "cell_type": "code",
   "execution_count": 58,
   "id": "49cd59f1",
   "metadata": {
    "execution": {
     "iopub.execute_input": "2025-01-09T17:55:15.910987Z",
     "iopub.status.busy": "2025-01-09T17:55:15.910619Z",
     "iopub.status.idle": "2025-01-09T17:55:15.916215Z",
     "shell.execute_reply": "2025-01-09T17:55:15.915228Z"
    },
    "executionInfo": {
     "elapsed": 8,
     "status": "ok",
     "timestamp": 1734445431571,
     "user": {
      "displayName": "Tahmida Majumder",
      "userId": "15415648085337204568"
     },
     "user_tz": -480
    },
    "id": "iZ02mbgV7dA2",
    "outputId": "e51e4e76-d24f-4c4f-a7d9-6f99c39c55c4",
    "papermill": {
     "duration": 0.052045,
     "end_time": "2025-01-09T17:55:15.917589",
     "exception": false,
     "start_time": "2025-01-09T17:55:15.865544",
     "status": "completed"
    },
    "tags": []
   },
   "outputs": [
    {
     "data": {
      "text/plain": [
       "(587119, 5)"
      ]
     },
     "execution_count": 58,
     "metadata": {},
     "output_type": "execute_result"
    }
   ],
   "source": [
    "raw_data_2021_Q2.shape"
   ]
  },
  {
   "cell_type": "code",
   "execution_count": 59,
   "id": "fadf537a",
   "metadata": {
    "execution": {
     "iopub.execute_input": "2025-01-09T17:55:16.008882Z",
     "iopub.status.busy": "2025-01-09T17:55:16.008452Z",
     "iopub.status.idle": "2025-01-09T17:55:16.428052Z",
     "shell.execute_reply": "2025-01-09T17:55:16.426881Z"
    },
    "id": "Y2kR42f67dA2",
    "papermill": {
     "duration": 0.468094,
     "end_time": "2025-01-09T17:55:16.430014",
     "exception": false,
     "start_time": "2025-01-09T17:55:15.961920",
     "status": "completed"
    },
    "tags": []
   },
   "outputs": [],
   "source": [
    "# Pivot the data\n",
    "data_df_2021_Q2 = raw_data_2021_Q2.pivot_table(\n",
    "    index=['Date', 'Country', 'City'],  # Grouping columns\n",
    "    columns='Specie',                  # Unique values become columns\n",
    "    values='median',                   # Values to aggregate\n",
    "    aggfunc='mean'                     # Aggregation function\n",
    ").reset_index()"
   ]
  },
  {
   "cell_type": "code",
   "execution_count": 60,
   "id": "08e4018a",
   "metadata": {
    "execution": {
     "iopub.execute_input": "2025-01-09T17:55:16.521262Z",
     "iopub.status.busy": "2025-01-09T17:55:16.520920Z",
     "iopub.status.idle": "2025-01-09T17:55:16.545348Z",
     "shell.execute_reply": "2025-01-09T17:55:16.544290Z"
    },
    "executionInfo": {
     "elapsed": 8,
     "status": "ok",
     "timestamp": 1734445432481,
     "user": {
      "displayName": "Tahmida Majumder",
      "userId": "15415648085337204568"
     },
     "user_tz": -480
    },
    "id": "HzLh01FP7dA2",
    "outputId": "bf7486e9-db00-41b2-84dd-1ea467117bee",
    "papermill": {
     "duration": 0.072376,
     "end_time": "2025-01-09T17:55:16.547182",
     "exception": false,
     "start_time": "2025-01-09T17:55:16.474806",
     "status": "completed"
    },
    "tags": []
   },
   "outputs": [
    {
     "name": "stdout",
     "output_type": "stream",
     "text": [
      "(58359, 22)\n"
     ]
    },
    {
     "data": {
      "text/html": [
       "<div>\n",
       "<style scoped>\n",
       "    .dataframe tbody tr th:only-of-type {\n",
       "        vertical-align: middle;\n",
       "    }\n",
       "\n",
       "    .dataframe tbody tr th {\n",
       "        vertical-align: top;\n",
       "    }\n",
       "\n",
       "    .dataframe thead th {\n",
       "        text-align: right;\n",
       "    }\n",
       "</style>\n",
       "<table border=\"1\" class=\"dataframe\">\n",
       "  <thead>\n",
       "    <tr style=\"text-align: right;\">\n",
       "      <th>Specie</th>\n",
       "      <th>Date</th>\n",
       "      <th>Country</th>\n",
       "      <th>City</th>\n",
       "      <th>aqi</th>\n",
       "      <th>co</th>\n",
       "      <th>dew</th>\n",
       "      <th>humidity</th>\n",
       "      <th>mepaqi</th>\n",
       "      <th>neph</th>\n",
       "      <th>no2</th>\n",
       "      <th>...</th>\n",
       "      <th>pm10</th>\n",
       "      <th>pm25</th>\n",
       "      <th>precipitation</th>\n",
       "      <th>pressure</th>\n",
       "      <th>so2</th>\n",
       "      <th>temperature</th>\n",
       "      <th>uvi</th>\n",
       "      <th>wd</th>\n",
       "      <th>wind-gust</th>\n",
       "      <th>wind-speed</th>\n",
       "    </tr>\n",
       "  </thead>\n",
       "  <tbody>\n",
       "    <tr>\n",
       "      <th>0</th>\n",
       "      <td>2021-03-29</td>\n",
       "      <td>AE</td>\n",
       "      <td>Abu Dhabi</td>\n",
       "      <td>NaN</td>\n",
       "      <td>0.1</td>\n",
       "      <td>17.0</td>\n",
       "      <td>64.0</td>\n",
       "      <td>NaN</td>\n",
       "      <td>NaN</td>\n",
       "      <td>5.5</td>\n",
       "      <td>...</td>\n",
       "      <td>72.0</td>\n",
       "      <td>NaN</td>\n",
       "      <td>NaN</td>\n",
       "      <td>1012.0</td>\n",
       "      <td>5.6</td>\n",
       "      <td>25.0</td>\n",
       "      <td>NaN</td>\n",
       "      <td>NaN</td>\n",
       "      <td>NaN</td>\n",
       "      <td>4.6</td>\n",
       "    </tr>\n",
       "    <tr>\n",
       "      <th>1</th>\n",
       "      <td>2021-03-29</td>\n",
       "      <td>AE</td>\n",
       "      <td>Dubai</td>\n",
       "      <td>NaN</td>\n",
       "      <td>NaN</td>\n",
       "      <td>18.0</td>\n",
       "      <td>65.0</td>\n",
       "      <td>NaN</td>\n",
       "      <td>NaN</td>\n",
       "      <td>NaN</td>\n",
       "      <td>...</td>\n",
       "      <td>NaN</td>\n",
       "      <td>72.0</td>\n",
       "      <td>NaN</td>\n",
       "      <td>1011.0</td>\n",
       "      <td>NaN</td>\n",
       "      <td>25.0</td>\n",
       "      <td>NaN</td>\n",
       "      <td>NaN</td>\n",
       "      <td>NaN</td>\n",
       "      <td>3.6</td>\n",
       "    </tr>\n",
       "    <tr>\n",
       "      <th>2</th>\n",
       "      <td>2021-03-29</td>\n",
       "      <td>AF</td>\n",
       "      <td>Kabul</td>\n",
       "      <td>NaN</td>\n",
       "      <td>NaN</td>\n",
       "      <td>-4.0</td>\n",
       "      <td>25.0</td>\n",
       "      <td>NaN</td>\n",
       "      <td>NaN</td>\n",
       "      <td>NaN</td>\n",
       "      <td>...</td>\n",
       "      <td>NaN</td>\n",
       "      <td>65.0</td>\n",
       "      <td>NaN</td>\n",
       "      <td>1015.0</td>\n",
       "      <td>NaN</td>\n",
       "      <td>14.0</td>\n",
       "      <td>NaN</td>\n",
       "      <td>NaN</td>\n",
       "      <td>11.8</td>\n",
       "      <td>5.6</td>\n",
       "    </tr>\n",
       "    <tr>\n",
       "      <th>3</th>\n",
       "      <td>2021-03-29</td>\n",
       "      <td>AR</td>\n",
       "      <td>Buenos Aires</td>\n",
       "      <td>NaN</td>\n",
       "      <td>0.1</td>\n",
       "      <td>NaN</td>\n",
       "      <td>86.0</td>\n",
       "      <td>NaN</td>\n",
       "      <td>NaN</td>\n",
       "      <td>NaN</td>\n",
       "      <td>...</td>\n",
       "      <td>NaN</td>\n",
       "      <td>NaN</td>\n",
       "      <td>NaN</td>\n",
       "      <td>1013.2</td>\n",
       "      <td>NaN</td>\n",
       "      <td>19.1</td>\n",
       "      <td>NaN</td>\n",
       "      <td>202.5</td>\n",
       "      <td>8.6</td>\n",
       "      <td>2.8</td>\n",
       "    </tr>\n",
       "    <tr>\n",
       "      <th>4</th>\n",
       "      <td>2021-03-29</td>\n",
       "      <td>AT</td>\n",
       "      <td>Graz</td>\n",
       "      <td>NaN</td>\n",
       "      <td>0.1</td>\n",
       "      <td>1.8</td>\n",
       "      <td>50.0</td>\n",
       "      <td>NaN</td>\n",
       "      <td>NaN</td>\n",
       "      <td>10.1</td>\n",
       "      <td>...</td>\n",
       "      <td>20.0</td>\n",
       "      <td>NaN</td>\n",
       "      <td>NaN</td>\n",
       "      <td>1031.2</td>\n",
       "      <td>1.1</td>\n",
       "      <td>12.2</td>\n",
       "      <td>NaN</td>\n",
       "      <td>NaN</td>\n",
       "      <td>2.7</td>\n",
       "      <td>1.5</td>\n",
       "    </tr>\n",
       "  </tbody>\n",
       "</table>\n",
       "<p>5 rows × 22 columns</p>\n",
       "</div>"
      ],
      "text/plain": [
       "Specie       Date Country          City  aqi   co   dew  humidity  mepaqi  \\\n",
       "0      2021-03-29      AE     Abu Dhabi  NaN  0.1  17.0      64.0     NaN   \n",
       "1      2021-03-29      AE         Dubai  NaN  NaN  18.0      65.0     NaN   \n",
       "2      2021-03-29      AF         Kabul  NaN  NaN  -4.0      25.0     NaN   \n",
       "3      2021-03-29      AR  Buenos Aires  NaN  0.1   NaN      86.0     NaN   \n",
       "4      2021-03-29      AT          Graz  NaN  0.1   1.8      50.0     NaN   \n",
       "\n",
       "Specie  neph   no2  ...  pm10  pm25  precipitation  pressure  so2  \\\n",
       "0        NaN   5.5  ...  72.0   NaN            NaN    1012.0  5.6   \n",
       "1        NaN   NaN  ...   NaN  72.0            NaN    1011.0  NaN   \n",
       "2        NaN   NaN  ...   NaN  65.0            NaN    1015.0  NaN   \n",
       "3        NaN   NaN  ...   NaN   NaN            NaN    1013.2  NaN   \n",
       "4        NaN  10.1  ...  20.0   NaN            NaN    1031.2  1.1   \n",
       "\n",
       "Specie  temperature  uvi     wd  wind-gust  wind-speed  \n",
       "0              25.0  NaN    NaN        NaN         4.6  \n",
       "1              25.0  NaN    NaN        NaN         3.6  \n",
       "2              14.0  NaN    NaN       11.8         5.6  \n",
       "3              19.1  NaN  202.5        8.6         2.8  \n",
       "4              12.2  NaN    NaN        2.7         1.5  \n",
       "\n",
       "[5 rows x 22 columns]"
      ]
     },
     "execution_count": 60,
     "metadata": {},
     "output_type": "execute_result"
    }
   ],
   "source": [
    "print(data_df_2021_Q2.shape)\n",
    "data_df_2021_Q2.head()"
   ]
  },
  {
   "cell_type": "code",
   "execution_count": 61,
   "id": "e53f31be",
   "metadata": {
    "execution": {
     "iopub.execute_input": "2025-01-09T17:55:16.639685Z",
     "iopub.status.busy": "2025-01-09T17:55:16.639363Z",
     "iopub.status.idle": "2025-01-09T17:55:16.653932Z",
     "shell.execute_reply": "2025-01-09T17:55:16.652959Z"
    },
    "executionInfo": {
     "elapsed": 7,
     "status": "ok",
     "timestamp": 1734445432481,
     "user": {
      "displayName": "Tahmida Majumder",
      "userId": "15415648085337204568"
     },
     "user_tz": -480
    },
    "id": "UJcxOBzk7dA2",
    "outputId": "18639109-5b27-4018-d064-58cabeffc075",
    "papermill": {
     "duration": 0.061696,
     "end_time": "2025-01-09T17:55:16.655564",
     "exception": false,
     "start_time": "2025-01-09T17:55:16.593868",
     "status": "completed"
    },
    "tags": []
   },
   "outputs": [
    {
     "data": {
      "text/plain": [
       "Specie\n",
       "Date                 0\n",
       "Country              0\n",
       "City                 0\n",
       "aqi              57041\n",
       "co               21327\n",
       "dew              13091\n",
       "humidity           798\n",
       "mepaqi           58261\n",
       "neph             58163\n",
       "no2              11014\n",
       "o3               14925\n",
       "pm1              57970\n",
       "pm10             10603\n",
       "pm25              8315\n",
       "precipitation    51439\n",
       "pressure           951\n",
       "so2              19006\n",
       "temperature        776\n",
       "uvi              57379\n",
       "wd               54281\n",
       "wind-gust        24945\n",
       "wind-speed        1417\n",
       "dtype: int64"
      ]
     },
     "execution_count": 61,
     "metadata": {},
     "output_type": "execute_result"
    }
   ],
   "source": [
    "data_df_2021_Q2.isnull().sum()"
   ]
  },
  {
   "cell_type": "code",
   "execution_count": null,
   "id": "0faf4228",
   "metadata": {
    "id": "uULCz6QPkmzq",
    "papermill": {
     "duration": 0.045191,
     "end_time": "2025-01-09T17:55:16.746153",
     "exception": false,
     "start_time": "2025-01-09T17:55:16.700962",
     "status": "completed"
    },
    "tags": []
   },
   "outputs": [],
   "source": []
  },
  {
   "cell_type": "markdown",
   "id": "be83fcf4",
   "metadata": {
    "id": "YCjaAdZW77Fa",
    "papermill": {
     "duration": 0.045195,
     "end_time": "2025-01-09T17:55:16.836304",
     "exception": false,
     "start_time": "2025-01-09T17:55:16.791109",
     "status": "completed"
    },
    "tags": []
   },
   "source": [
    "# 2021_Q3"
   ]
  },
  {
   "cell_type": "code",
   "execution_count": 62,
   "id": "48445d4b",
   "metadata": {
    "execution": {
     "iopub.execute_input": "2025-01-09T17:55:16.930720Z",
     "iopub.status.busy": "2025-01-09T17:55:16.930379Z",
     "iopub.status.idle": "2025-01-09T17:55:17.482772Z",
     "shell.execute_reply": "2025-01-09T17:55:17.481681Z"
    },
    "executionInfo": {
     "elapsed": 843,
     "status": "ok",
     "timestamp": 1734445433318,
     "user": {
      "displayName": "Tahmida Majumder",
      "userId": "15415648085337204568"
     },
     "user_tz": -480
    },
    "id": "wNrgtH5J77Fb",
    "outputId": "40b315ec-bab1-49f4-c35f-779212e63005",
    "papermill": {
     "duration": 0.601581,
     "end_time": "2025-01-09T17:55:17.484393",
     "exception": false,
     "start_time": "2025-01-09T17:55:16.882812",
     "status": "completed"
    },
    "tags": []
   },
   "outputs": [
    {
     "name": "stdout",
     "output_type": "stream",
     "text": [
      "(570079, 5)\n"
     ]
    },
    {
     "data": {
      "text/html": [
       "<div>\n",
       "<style scoped>\n",
       "    .dataframe tbody tr th:only-of-type {\n",
       "        vertical-align: middle;\n",
       "    }\n",
       "\n",
       "    .dataframe tbody tr th {\n",
       "        vertical-align: top;\n",
       "    }\n",
       "\n",
       "    .dataframe thead th {\n",
       "        text-align: right;\n",
       "    }\n",
       "</style>\n",
       "<table border=\"1\" class=\"dataframe\">\n",
       "  <thead>\n",
       "    <tr style=\"text-align: right;\">\n",
       "      <th></th>\n",
       "      <th>Date</th>\n",
       "      <th>Country</th>\n",
       "      <th>City</th>\n",
       "      <th>Specie</th>\n",
       "      <th>median</th>\n",
       "    </tr>\n",
       "  </thead>\n",
       "  <tbody>\n",
       "    <tr>\n",
       "      <th>0</th>\n",
       "      <td>7/5/2021</td>\n",
       "      <td>BR</td>\n",
       "      <td>São José dos Campos</td>\n",
       "      <td>no2</td>\n",
       "      <td>3.7</td>\n",
       "    </tr>\n",
       "    <tr>\n",
       "      <th>1</th>\n",
       "      <td>7/16/2021</td>\n",
       "      <td>BR</td>\n",
       "      <td>São José dos Campos</td>\n",
       "      <td>no2</td>\n",
       "      <td>6.9</td>\n",
       "    </tr>\n",
       "    <tr>\n",
       "      <th>2</th>\n",
       "      <td>7/27/2021</td>\n",
       "      <td>BR</td>\n",
       "      <td>São José dos Campos</td>\n",
       "      <td>no2</td>\n",
       "      <td>14.7</td>\n",
       "    </tr>\n",
       "    <tr>\n",
       "      <th>3</th>\n",
       "      <td>8/3/2021</td>\n",
       "      <td>BR</td>\n",
       "      <td>São José dos Campos</td>\n",
       "      <td>no2</td>\n",
       "      <td>6.4</td>\n",
       "    </tr>\n",
       "    <tr>\n",
       "      <th>4</th>\n",
       "      <td>8/29/2021</td>\n",
       "      <td>BR</td>\n",
       "      <td>São José dos Campos</td>\n",
       "      <td>no2</td>\n",
       "      <td>2.3</td>\n",
       "    </tr>\n",
       "    <tr>\n",
       "      <th>5</th>\n",
       "      <td>9/21/2021</td>\n",
       "      <td>BR</td>\n",
       "      <td>São José dos Campos</td>\n",
       "      <td>no2</td>\n",
       "      <td>5.1</td>\n",
       "    </tr>\n",
       "    <tr>\n",
       "      <th>6</th>\n",
       "      <td>8/22/2021</td>\n",
       "      <td>BR</td>\n",
       "      <td>São José dos Campos</td>\n",
       "      <td>no2</td>\n",
       "      <td>16.5</td>\n",
       "    </tr>\n",
       "    <tr>\n",
       "      <th>7</th>\n",
       "      <td>9/11/2021</td>\n",
       "      <td>BR</td>\n",
       "      <td>São José dos Campos</td>\n",
       "      <td>no2</td>\n",
       "      <td>9.6</td>\n",
       "    </tr>\n",
       "    <tr>\n",
       "      <th>8</th>\n",
       "      <td>7/2/2021</td>\n",
       "      <td>BR</td>\n",
       "      <td>São José dos Campos</td>\n",
       "      <td>no2</td>\n",
       "      <td>13.8</td>\n",
       "    </tr>\n",
       "    <tr>\n",
       "      <th>9</th>\n",
       "      <td>7/7/2021</td>\n",
       "      <td>BR</td>\n",
       "      <td>São José dos Campos</td>\n",
       "      <td>no2</td>\n",
       "      <td>6.9</td>\n",
       "    </tr>\n",
       "  </tbody>\n",
       "</table>\n",
       "</div>"
      ],
      "text/plain": [
       "        Date Country                 City Specie  median\n",
       "0   7/5/2021      BR  São José dos Campos    no2     3.7\n",
       "1  7/16/2021      BR  São José dos Campos    no2     6.9\n",
       "2  7/27/2021      BR  São José dos Campos    no2    14.7\n",
       "3   8/3/2021      BR  São José dos Campos    no2     6.4\n",
       "4  8/29/2021      BR  São José dos Campos    no2     2.3\n",
       "5  9/21/2021      BR  São José dos Campos    no2     5.1\n",
       "6  8/22/2021      BR  São José dos Campos    no2    16.5\n",
       "7  9/11/2021      BR  São José dos Campos    no2     9.6\n",
       "8   7/2/2021      BR  São José dos Campos    no2    13.8\n",
       "9   7/7/2021      BR  São José dos Campos    no2     6.9"
      ]
     },
     "execution_count": 62,
     "metadata": {},
     "output_type": "execute_result"
    }
   ],
   "source": [
    "# Loading the data\n",
    "raw_data_2021_Q3 = pd.read_csv(r\"/kaggle/input/complete-raw-median/waqi-covid19-airqualitydata-2021Q3.csv\")\n",
    "\n",
    "# print the shape\n",
    "print(raw_data_2021_Q3.shape)\n",
    "\n",
    "#runs the first 5 rows\n",
    "raw_data_2021_Q3.head(10)"
   ]
  },
  {
   "cell_type": "code",
   "execution_count": 63,
   "id": "fbbbfa1e",
   "metadata": {
    "execution": {
     "iopub.execute_input": "2025-01-09T17:55:17.576049Z",
     "iopub.status.busy": "2025-01-09T17:55:17.575673Z",
     "iopub.status.idle": "2025-01-09T17:55:17.660844Z",
     "shell.execute_reply": "2025-01-09T17:55:17.659875Z"
    },
    "id": "JeJKKX7h77Fb",
    "papermill": {
     "duration": 0.132963,
     "end_time": "2025-01-09T17:55:17.662655",
     "exception": false,
     "start_time": "2025-01-09T17:55:17.529692",
     "status": "completed"
    },
    "tags": []
   },
   "outputs": [],
   "source": [
    "# Convert 'Date' to datetime\n",
    "raw_data_2021_Q3['Date'] = pd.to_datetime(raw_data_2021_Q3['Date'])"
   ]
  },
  {
   "cell_type": "code",
   "execution_count": 64,
   "id": "12e3ccda",
   "metadata": {
    "execution": {
     "iopub.execute_input": "2025-01-09T17:55:17.756293Z",
     "iopub.status.busy": "2025-01-09T17:55:17.755948Z",
     "iopub.status.idle": "2025-01-09T17:55:17.761404Z",
     "shell.execute_reply": "2025-01-09T17:55:17.760422Z"
    },
    "executionInfo": {
     "elapsed": 4,
     "status": "ok",
     "timestamp": 1734445433318,
     "user": {
      "displayName": "Tahmida Majumder",
      "userId": "15415648085337204568"
     },
     "user_tz": -480
    },
    "id": "-dawFSwX77Fb",
    "outputId": "be86aa29-f511-4143-f68e-6fd3bdf2d30a",
    "papermill": {
     "duration": 0.054077,
     "end_time": "2025-01-09T17:55:17.763054",
     "exception": false,
     "start_time": "2025-01-09T17:55:17.708977",
     "status": "completed"
    },
    "tags": []
   },
   "outputs": [
    {
     "data": {
      "text/plain": [
       "(570079, 5)"
      ]
     },
     "execution_count": 64,
     "metadata": {},
     "output_type": "execute_result"
    }
   ],
   "source": [
    "raw_data_2021_Q3.shape"
   ]
  },
  {
   "cell_type": "code",
   "execution_count": 65,
   "id": "8c4f84b8",
   "metadata": {
    "execution": {
     "iopub.execute_input": "2025-01-09T17:55:17.856310Z",
     "iopub.status.busy": "2025-01-09T17:55:17.855951Z",
     "iopub.status.idle": "2025-01-09T17:55:18.284833Z",
     "shell.execute_reply": "2025-01-09T17:55:18.283634Z"
    },
    "id": "26Jtc7WT77Fb",
    "papermill": {
     "duration": 0.478553,
     "end_time": "2025-01-09T17:55:18.286724",
     "exception": false,
     "start_time": "2025-01-09T17:55:17.808171",
     "status": "completed"
    },
    "tags": []
   },
   "outputs": [],
   "source": [
    "# Pivot the data\n",
    "data_df_2021_Q3 = raw_data_2021_Q3.pivot_table(\n",
    "    index=['Date', 'Country', 'City'],  # Grouping columns\n",
    "    columns='Specie',                  # Unique values become columns\n",
    "    values='median',                   # Values to aggregate\n",
    "    aggfunc='mean'                     # Aggregation function\n",
    ").reset_index()\n"
   ]
  },
  {
   "cell_type": "code",
   "execution_count": 66,
   "id": "2fb1bd7e",
   "metadata": {
    "execution": {
     "iopub.execute_input": "2025-01-09T17:55:18.383244Z",
     "iopub.status.busy": "2025-01-09T17:55:18.382887Z",
     "iopub.status.idle": "2025-01-09T17:55:18.408989Z",
     "shell.execute_reply": "2025-01-09T17:55:18.408115Z"
    },
    "executionInfo": {
     "elapsed": 11,
     "status": "ok",
     "timestamp": 1734445433727,
     "user": {
      "displayName": "Tahmida Majumder",
      "userId": "15415648085337204568"
     },
     "user_tz": -480
    },
    "id": "6er8GPv877Fc",
    "outputId": "2b614acf-5bcd-4f5d-baf7-578b9cd1aa1d",
    "papermill": {
     "duration": 0.078424,
     "end_time": "2025-01-09T17:55:18.410659",
     "exception": false,
     "start_time": "2025-01-09T17:55:18.332235",
     "status": "completed"
    },
    "tags": []
   },
   "outputs": [
    {
     "name": "stdout",
     "output_type": "stream",
     "text": [
      "(57529, 22)\n"
     ]
    },
    {
     "data": {
      "text/html": [
       "<div>\n",
       "<style scoped>\n",
       "    .dataframe tbody tr th:only-of-type {\n",
       "        vertical-align: middle;\n",
       "    }\n",
       "\n",
       "    .dataframe tbody tr th {\n",
       "        vertical-align: top;\n",
       "    }\n",
       "\n",
       "    .dataframe thead th {\n",
       "        text-align: right;\n",
       "    }\n",
       "</style>\n",
       "<table border=\"1\" class=\"dataframe\">\n",
       "  <thead>\n",
       "    <tr style=\"text-align: right;\">\n",
       "      <th>Specie</th>\n",
       "      <th>Date</th>\n",
       "      <th>Country</th>\n",
       "      <th>City</th>\n",
       "      <th>aqi</th>\n",
       "      <th>co</th>\n",
       "      <th>dew</th>\n",
       "      <th>humidity</th>\n",
       "      <th>mepaqi</th>\n",
       "      <th>neph</th>\n",
       "      <th>no2</th>\n",
       "      <th>...</th>\n",
       "      <th>pm10</th>\n",
       "      <th>pm25</th>\n",
       "      <th>precipitation</th>\n",
       "      <th>pressure</th>\n",
       "      <th>so2</th>\n",
       "      <th>temperature</th>\n",
       "      <th>uvi</th>\n",
       "      <th>wd</th>\n",
       "      <th>wind-gust</th>\n",
       "      <th>wind-speed</th>\n",
       "    </tr>\n",
       "  </thead>\n",
       "  <tbody>\n",
       "    <tr>\n",
       "      <th>0</th>\n",
       "      <td>2021-06-28</td>\n",
       "      <td>AE</td>\n",
       "      <td>Abu Dhabi</td>\n",
       "      <td>NaN</td>\n",
       "      <td>0.1</td>\n",
       "      <td>19.0</td>\n",
       "      <td>30.0</td>\n",
       "      <td>NaN</td>\n",
       "      <td>NaN</td>\n",
       "      <td>7.8</td>\n",
       "      <td>...</td>\n",
       "      <td>194.0</td>\n",
       "      <td>151.0</td>\n",
       "      <td>NaN</td>\n",
       "      <td>1002.0</td>\n",
       "      <td>4.1</td>\n",
       "      <td>37.0</td>\n",
       "      <td>NaN</td>\n",
       "      <td>NaN</td>\n",
       "      <td>NaN</td>\n",
       "      <td>4.6</td>\n",
       "    </tr>\n",
       "    <tr>\n",
       "      <th>1</th>\n",
       "      <td>2021-06-28</td>\n",
       "      <td>AE</td>\n",
       "      <td>Dubai</td>\n",
       "      <td>NaN</td>\n",
       "      <td>NaN</td>\n",
       "      <td>20.0</td>\n",
       "      <td>39.0</td>\n",
       "      <td>NaN</td>\n",
       "      <td>NaN</td>\n",
       "      <td>NaN</td>\n",
       "      <td>...</td>\n",
       "      <td>NaN</td>\n",
       "      <td>NaN</td>\n",
       "      <td>NaN</td>\n",
       "      <td>1003.0</td>\n",
       "      <td>NaN</td>\n",
       "      <td>37.0</td>\n",
       "      <td>NaN</td>\n",
       "      <td>NaN</td>\n",
       "      <td>NaN</td>\n",
       "      <td>4.1</td>\n",
       "    </tr>\n",
       "    <tr>\n",
       "      <th>2</th>\n",
       "      <td>2021-06-28</td>\n",
       "      <td>AF</td>\n",
       "      <td>Kabul</td>\n",
       "      <td>NaN</td>\n",
       "      <td>NaN</td>\n",
       "      <td>5.0</td>\n",
       "      <td>29.0</td>\n",
       "      <td>NaN</td>\n",
       "      <td>NaN</td>\n",
       "      <td>NaN</td>\n",
       "      <td>...</td>\n",
       "      <td>NaN</td>\n",
       "      <td>157.0</td>\n",
       "      <td>NaN</td>\n",
       "      <td>1018.0</td>\n",
       "      <td>NaN</td>\n",
       "      <td>25.0</td>\n",
       "      <td>NaN</td>\n",
       "      <td>NaN</td>\n",
       "      <td>10.2</td>\n",
       "      <td>2.5</td>\n",
       "    </tr>\n",
       "    <tr>\n",
       "      <th>3</th>\n",
       "      <td>2021-06-28</td>\n",
       "      <td>AR</td>\n",
       "      <td>Buenos Aires</td>\n",
       "      <td>NaN</td>\n",
       "      <td>1.6</td>\n",
       "      <td>3.0</td>\n",
       "      <td>77.3</td>\n",
       "      <td>NaN</td>\n",
       "      <td>NaN</td>\n",
       "      <td>6.0</td>\n",
       "      <td>...</td>\n",
       "      <td>10.0</td>\n",
       "      <td>25.0</td>\n",
       "      <td>99.0</td>\n",
       "      <td>1021.0</td>\n",
       "      <td>1.1</td>\n",
       "      <td>7.7</td>\n",
       "      <td>NaN</td>\n",
       "      <td>247.5</td>\n",
       "      <td>10.7</td>\n",
       "      <td>4.1</td>\n",
       "    </tr>\n",
       "    <tr>\n",
       "      <th>4</th>\n",
       "      <td>2021-06-28</td>\n",
       "      <td>AT</td>\n",
       "      <td>Graz</td>\n",
       "      <td>NaN</td>\n",
       "      <td>0.1</td>\n",
       "      <td>15.5</td>\n",
       "      <td>51.3</td>\n",
       "      <td>NaN</td>\n",
       "      <td>NaN</td>\n",
       "      <td>6.4</td>\n",
       "      <td>...</td>\n",
       "      <td>16.0</td>\n",
       "      <td>NaN</td>\n",
       "      <td>99.0</td>\n",
       "      <td>1015.1</td>\n",
       "      <td>0.6</td>\n",
       "      <td>26.1</td>\n",
       "      <td>NaN</td>\n",
       "      <td>NaN</td>\n",
       "      <td>6.0</td>\n",
       "      <td>2.0</td>\n",
       "    </tr>\n",
       "  </tbody>\n",
       "</table>\n",
       "<p>5 rows × 22 columns</p>\n",
       "</div>"
      ],
      "text/plain": [
       "Specie       Date Country          City  aqi   co   dew  humidity  mepaqi  \\\n",
       "0      2021-06-28      AE     Abu Dhabi  NaN  0.1  19.0      30.0     NaN   \n",
       "1      2021-06-28      AE         Dubai  NaN  NaN  20.0      39.0     NaN   \n",
       "2      2021-06-28      AF         Kabul  NaN  NaN   5.0      29.0     NaN   \n",
       "3      2021-06-28      AR  Buenos Aires  NaN  1.6   3.0      77.3     NaN   \n",
       "4      2021-06-28      AT          Graz  NaN  0.1  15.5      51.3     NaN   \n",
       "\n",
       "Specie  neph  no2  ...   pm10   pm25  precipitation  pressure  so2  \\\n",
       "0        NaN  7.8  ...  194.0  151.0            NaN    1002.0  4.1   \n",
       "1        NaN  NaN  ...    NaN    NaN            NaN    1003.0  NaN   \n",
       "2        NaN  NaN  ...    NaN  157.0            NaN    1018.0  NaN   \n",
       "3        NaN  6.0  ...   10.0   25.0           99.0    1021.0  1.1   \n",
       "4        NaN  6.4  ...   16.0    NaN           99.0    1015.1  0.6   \n",
       "\n",
       "Specie  temperature  uvi     wd  wind-gust  wind-speed  \n",
       "0              37.0  NaN    NaN        NaN         4.6  \n",
       "1              37.0  NaN    NaN        NaN         4.1  \n",
       "2              25.0  NaN    NaN       10.2         2.5  \n",
       "3               7.7  NaN  247.5       10.7         4.1  \n",
       "4              26.1  NaN    NaN        6.0         2.0  \n",
       "\n",
       "[5 rows x 22 columns]"
      ]
     },
     "execution_count": 66,
     "metadata": {},
     "output_type": "execute_result"
    }
   ],
   "source": [
    "print(data_df_2021_Q3.shape)\n",
    "data_df_2021_Q3.head()"
   ]
  },
  {
   "cell_type": "code",
   "execution_count": 67,
   "id": "268f2a3a",
   "metadata": {
    "execution": {
     "iopub.execute_input": "2025-01-09T17:55:18.508290Z",
     "iopub.status.busy": "2025-01-09T17:55:18.507952Z",
     "iopub.status.idle": "2025-01-09T17:55:18.522060Z",
     "shell.execute_reply": "2025-01-09T17:55:18.520890Z"
    },
    "executionInfo": {
     "elapsed": 9,
     "status": "ok",
     "timestamp": 1734445433728,
     "user": {
      "displayName": "Tahmida Majumder",
      "userId": "15415648085337204568"
     },
     "user_tz": -480
    },
    "id": "lIKlQuFQ77Fc",
    "outputId": "fbe44aec-422a-41a6-ce8e-d4a22500a18f",
    "papermill": {
     "duration": 0.064804,
     "end_time": "2025-01-09T17:55:18.523705",
     "exception": false,
     "start_time": "2025-01-09T17:55:18.458901",
     "status": "completed"
    },
    "tags": []
   },
   "outputs": [
    {
     "data": {
      "text/plain": [
       "Specie\n",
       "Date                 0\n",
       "Country              0\n",
       "City                 0\n",
       "aqi              56333\n",
       "co               21042\n",
       "dew              12891\n",
       "humidity          2237\n",
       "mepaqi           57432\n",
       "neph             57333\n",
       "no2              10657\n",
       "o3               14558\n",
       "pm1              57173\n",
       "pm10             10242\n",
       "pm25              8362\n",
       "precipitation    51411\n",
       "pressure          2320\n",
       "so2              18480\n",
       "temperature       2216\n",
       "uvi              56561\n",
       "wd               54784\n",
       "wind-gust        26014\n",
       "wind-speed        2926\n",
       "dtype: int64"
      ]
     },
     "execution_count": 67,
     "metadata": {},
     "output_type": "execute_result"
    }
   ],
   "source": [
    "data_df_2021_Q3.isnull().sum()"
   ]
  },
  {
   "cell_type": "code",
   "execution_count": null,
   "id": "45c413e3",
   "metadata": {
    "id": "VEYeMekUkm1x",
    "papermill": {
     "duration": 0.047054,
     "end_time": "2025-01-09T17:55:18.616441",
     "exception": false,
     "start_time": "2025-01-09T17:55:18.569387",
     "status": "completed"
    },
    "tags": []
   },
   "outputs": [],
   "source": []
  },
  {
   "cell_type": "markdown",
   "id": "8bd29581",
   "metadata": {
    "id": "hQImY60a8Q8k",
    "papermill": {
     "duration": 0.046212,
     "end_time": "2025-01-09T17:55:18.708343",
     "exception": false,
     "start_time": "2025-01-09T17:55:18.662131",
     "status": "completed"
    },
    "tags": []
   },
   "source": [
    "# 2021_Q4"
   ]
  },
  {
   "cell_type": "code",
   "execution_count": 68,
   "id": "d8779c14",
   "metadata": {
    "execution": {
     "iopub.execute_input": "2025-01-09T17:55:18.802846Z",
     "iopub.status.busy": "2025-01-09T17:55:18.802309Z",
     "iopub.status.idle": "2025-01-09T17:55:19.338389Z",
     "shell.execute_reply": "2025-01-09T17:55:19.337267Z"
    },
    "executionInfo": {
     "elapsed": 1055,
     "status": "ok",
     "timestamp": 1734445434776,
     "user": {
      "displayName": "Tahmida Majumder",
      "userId": "15415648085337204568"
     },
     "user_tz": -480
    },
    "id": "bDDkw4C18Q8k",
    "outputId": "47dd3bc5-47a6-4ba2-97a5-f59b302dbc62",
    "papermill": {
     "duration": 0.584737,
     "end_time": "2025-01-09T17:55:19.339846",
     "exception": false,
     "start_time": "2025-01-09T17:55:18.755109",
     "status": "completed"
    },
    "tags": []
   },
   "outputs": [
    {
     "name": "stdout",
     "output_type": "stream",
     "text": [
      "(548423, 5)\n"
     ]
    },
    {
     "data": {
      "text/html": [
       "<div>\n",
       "<style scoped>\n",
       "    .dataframe tbody tr th:only-of-type {\n",
       "        vertical-align: middle;\n",
       "    }\n",
       "\n",
       "    .dataframe tbody tr th {\n",
       "        vertical-align: top;\n",
       "    }\n",
       "\n",
       "    .dataframe thead th {\n",
       "        text-align: right;\n",
       "    }\n",
       "</style>\n",
       "<table border=\"1\" class=\"dataframe\">\n",
       "  <thead>\n",
       "    <tr style=\"text-align: right;\">\n",
       "      <th></th>\n",
       "      <th>Date</th>\n",
       "      <th>Country</th>\n",
       "      <th>City</th>\n",
       "      <th>Specie</th>\n",
       "      <th>median</th>\n",
       "    </tr>\n",
       "  </thead>\n",
       "  <tbody>\n",
       "    <tr>\n",
       "      <th>0</th>\n",
       "      <td>10/24/2021</td>\n",
       "      <td>BH</td>\n",
       "      <td>Manama</td>\n",
       "      <td>pressure</td>\n",
       "      <td>1010.7</td>\n",
       "    </tr>\n",
       "    <tr>\n",
       "      <th>1</th>\n",
       "      <td>11/12/2021</td>\n",
       "      <td>BH</td>\n",
       "      <td>Manama</td>\n",
       "      <td>pressure</td>\n",
       "      <td>1013.6</td>\n",
       "    </tr>\n",
       "    <tr>\n",
       "      <th>2</th>\n",
       "      <td>11/27/2021</td>\n",
       "      <td>BH</td>\n",
       "      <td>Manama</td>\n",
       "      <td>pressure</td>\n",
       "      <td>1015.8</td>\n",
       "    </tr>\n",
       "    <tr>\n",
       "      <th>3</th>\n",
       "      <td>12/10/2021</td>\n",
       "      <td>BH</td>\n",
       "      <td>Manama</td>\n",
       "      <td>pressure</td>\n",
       "      <td>1020.7</td>\n",
       "    </tr>\n",
       "    <tr>\n",
       "      <th>4</th>\n",
       "      <td>12/22/2021</td>\n",
       "      <td>BH</td>\n",
       "      <td>Manama</td>\n",
       "      <td>pressure</td>\n",
       "      <td>1017.5</td>\n",
       "    </tr>\n",
       "    <tr>\n",
       "      <th>5</th>\n",
       "      <td>12/26/2021</td>\n",
       "      <td>BH</td>\n",
       "      <td>Manama</td>\n",
       "      <td>pressure</td>\n",
       "      <td>1019.6</td>\n",
       "    </tr>\n",
       "    <tr>\n",
       "      <th>6</th>\n",
       "      <td>10/11/2021</td>\n",
       "      <td>BH</td>\n",
       "      <td>Manama</td>\n",
       "      <td>pressure</td>\n",
       "      <td>1007.3</td>\n",
       "    </tr>\n",
       "    <tr>\n",
       "      <th>7</th>\n",
       "      <td>10/18/2021</td>\n",
       "      <td>BH</td>\n",
       "      <td>Manama</td>\n",
       "      <td>pressure</td>\n",
       "      <td>1008.7</td>\n",
       "    </tr>\n",
       "    <tr>\n",
       "      <th>8</th>\n",
       "      <td>11/15/2021</td>\n",
       "      <td>BH</td>\n",
       "      <td>Manama</td>\n",
       "      <td>pressure</td>\n",
       "      <td>1013.1</td>\n",
       "    </tr>\n",
       "    <tr>\n",
       "      <th>9</th>\n",
       "      <td>11/16/2021</td>\n",
       "      <td>BH</td>\n",
       "      <td>Manama</td>\n",
       "      <td>pressure</td>\n",
       "      <td>1010.4</td>\n",
       "    </tr>\n",
       "  </tbody>\n",
       "</table>\n",
       "</div>"
      ],
      "text/plain": [
       "         Date Country    City    Specie  median\n",
       "0  10/24/2021      BH  Manama  pressure  1010.7\n",
       "1  11/12/2021      BH  Manama  pressure  1013.6\n",
       "2  11/27/2021      BH  Manama  pressure  1015.8\n",
       "3  12/10/2021      BH  Manama  pressure  1020.7\n",
       "4  12/22/2021      BH  Manama  pressure  1017.5\n",
       "5  12/26/2021      BH  Manama  pressure  1019.6\n",
       "6  10/11/2021      BH  Manama  pressure  1007.3\n",
       "7  10/18/2021      BH  Manama  pressure  1008.7\n",
       "8  11/15/2021      BH  Manama  pressure  1013.1\n",
       "9  11/16/2021      BH  Manama  pressure  1010.4"
      ]
     },
     "execution_count": 68,
     "metadata": {},
     "output_type": "execute_result"
    }
   ],
   "source": [
    "# Loading the data\n",
    "raw_data_2021_Q4 = pd.read_csv(r\"/kaggle/input/complete-raw-median/waqi-covid19-airqualitydata-2021Q4.csv\")\n",
    "\n",
    "# print the shape\n",
    "print(raw_data_2021_Q4.shape)\n",
    "\n",
    "#runs the first 5 rows\n",
    "raw_data_2021_Q4.head(10)"
   ]
  },
  {
   "cell_type": "code",
   "execution_count": 69,
   "id": "5b55663a",
   "metadata": {
    "execution": {
     "iopub.execute_input": "2025-01-09T17:55:19.432409Z",
     "iopub.status.busy": "2025-01-09T17:55:19.432028Z",
     "iopub.status.idle": "2025-01-09T17:55:19.512429Z",
     "shell.execute_reply": "2025-01-09T17:55:19.511309Z"
    },
    "id": "IINip_WP8Q8k",
    "papermill": {
     "duration": 0.128886,
     "end_time": "2025-01-09T17:55:19.514348",
     "exception": false,
     "start_time": "2025-01-09T17:55:19.385462",
     "status": "completed"
    },
    "tags": []
   },
   "outputs": [],
   "source": [
    "# Convert 'Date' to datetime\n",
    "raw_data_2021_Q4['Date'] = pd.to_datetime(raw_data_2021_Q4['Date'])"
   ]
  },
  {
   "cell_type": "code",
   "execution_count": 70,
   "id": "9bf4e226",
   "metadata": {
    "execution": {
     "iopub.execute_input": "2025-01-09T17:55:19.609411Z",
     "iopub.status.busy": "2025-01-09T17:55:19.609047Z",
     "iopub.status.idle": "2025-01-09T17:55:19.614544Z",
     "shell.execute_reply": "2025-01-09T17:55:19.613582Z"
    },
    "executionInfo": {
     "elapsed": 9,
     "status": "ok",
     "timestamp": 1734445434776,
     "user": {
      "displayName": "Tahmida Majumder",
      "userId": "15415648085337204568"
     },
     "user_tz": -480
    },
    "id": "aIKkewJJ8Q8l",
    "outputId": "28c2e81d-8f48-4aac-fa6f-6924da89dfe0",
    "papermill": {
     "duration": 0.055048,
     "end_time": "2025-01-09T17:55:19.616161",
     "exception": false,
     "start_time": "2025-01-09T17:55:19.561113",
     "status": "completed"
    },
    "tags": []
   },
   "outputs": [
    {
     "data": {
      "text/plain": [
       "(548423, 5)"
      ]
     },
     "execution_count": 70,
     "metadata": {},
     "output_type": "execute_result"
    }
   ],
   "source": [
    "raw_data_2021_Q4.shape"
   ]
  },
  {
   "cell_type": "code",
   "execution_count": 71,
   "id": "0301330a",
   "metadata": {
    "execution": {
     "iopub.execute_input": "2025-01-09T17:55:19.710216Z",
     "iopub.status.busy": "2025-01-09T17:55:19.709858Z",
     "iopub.status.idle": "2025-01-09T17:55:20.094969Z",
     "shell.execute_reply": "2025-01-09T17:55:20.093870Z"
    },
    "id": "qh-GSPCC8Q8l",
    "papermill": {
     "duration": 0.43464,
     "end_time": "2025-01-09T17:55:20.097123",
     "exception": false,
     "start_time": "2025-01-09T17:55:19.662483",
     "status": "completed"
    },
    "tags": []
   },
   "outputs": [],
   "source": [
    "# Pivot the data\n",
    "data_df_2021_Q4 = raw_data_2021_Q4.pivot_table(\n",
    "    index=['Date', 'Country', 'City'],  # Grouping columns\n",
    "    columns='Specie',                  # Unique values become columns\n",
    "    values='median',                   # Values to aggregate\n",
    "    aggfunc='mean'                     # Aggregation function\n",
    ").reset_index()\n"
   ]
  },
  {
   "cell_type": "code",
   "execution_count": 72,
   "id": "dc3b5b34",
   "metadata": {
    "execution": {
     "iopub.execute_input": "2025-01-09T17:55:20.191163Z",
     "iopub.status.busy": "2025-01-09T17:55:20.190745Z",
     "iopub.status.idle": "2025-01-09T17:55:20.216513Z",
     "shell.execute_reply": "2025-01-09T17:55:20.215469Z"
    },
    "executionInfo": {
     "elapsed": 8,
     "status": "ok",
     "timestamp": 1734445435256,
     "user": {
      "displayName": "Tahmida Majumder",
      "userId": "15415648085337204568"
     },
     "user_tz": -480
    },
    "id": "7n4M9wEZ8Q8l",
    "outputId": "28fbdd4e-073d-40f6-9b20-a8ee54781fcb",
    "papermill": {
     "duration": 0.074675,
     "end_time": "2025-01-09T17:55:20.218273",
     "exception": false,
     "start_time": "2025-01-09T17:55:20.143598",
     "status": "completed"
    },
    "tags": []
   },
   "outputs": [
    {
     "name": "stdout",
     "output_type": "stream",
     "text": [
      "(57596, 22)\n"
     ]
    },
    {
     "data": {
      "text/html": [
       "<div>\n",
       "<style scoped>\n",
       "    .dataframe tbody tr th:only-of-type {\n",
       "        vertical-align: middle;\n",
       "    }\n",
       "\n",
       "    .dataframe tbody tr th {\n",
       "        vertical-align: top;\n",
       "    }\n",
       "\n",
       "    .dataframe thead th {\n",
       "        text-align: right;\n",
       "    }\n",
       "</style>\n",
       "<table border=\"1\" class=\"dataframe\">\n",
       "  <thead>\n",
       "    <tr style=\"text-align: right;\">\n",
       "      <th>Specie</th>\n",
       "      <th>Date</th>\n",
       "      <th>Country</th>\n",
       "      <th>City</th>\n",
       "      <th>aqi</th>\n",
       "      <th>co</th>\n",
       "      <th>dew</th>\n",
       "      <th>humidity</th>\n",
       "      <th>mepaqi</th>\n",
       "      <th>neph</th>\n",
       "      <th>no2</th>\n",
       "      <th>...</th>\n",
       "      <th>pm10</th>\n",
       "      <th>pm25</th>\n",
       "      <th>precipitation</th>\n",
       "      <th>pressure</th>\n",
       "      <th>so2</th>\n",
       "      <th>temperature</th>\n",
       "      <th>uvi</th>\n",
       "      <th>wd</th>\n",
       "      <th>wind-gust</th>\n",
       "      <th>wind-speed</th>\n",
       "    </tr>\n",
       "  </thead>\n",
       "  <tbody>\n",
       "    <tr>\n",
       "      <th>0</th>\n",
       "      <td>2021-09-27</td>\n",
       "      <td>AE</td>\n",
       "      <td>Abu Dhabi</td>\n",
       "      <td>NaN</td>\n",
       "      <td>0.1</td>\n",
       "      <td>21.0</td>\n",
       "      <td>49.0</td>\n",
       "      <td>NaN</td>\n",
       "      <td>NaN</td>\n",
       "      <td>5.1</td>\n",
       "      <td>...</td>\n",
       "      <td>107.0</td>\n",
       "      <td>112.0</td>\n",
       "      <td>NaN</td>\n",
       "      <td>1003.0</td>\n",
       "      <td>3.1</td>\n",
       "      <td>33.0</td>\n",
       "      <td>NaN</td>\n",
       "      <td>NaN</td>\n",
       "      <td>NaN</td>\n",
       "      <td>3.0</td>\n",
       "    </tr>\n",
       "    <tr>\n",
       "      <th>1</th>\n",
       "      <td>2021-09-27</td>\n",
       "      <td>AE</td>\n",
       "      <td>Dubai</td>\n",
       "      <td>NaN</td>\n",
       "      <td>NaN</td>\n",
       "      <td>24.0</td>\n",
       "      <td>59.0</td>\n",
       "      <td>NaN</td>\n",
       "      <td>NaN</td>\n",
       "      <td>NaN</td>\n",
       "      <td>...</td>\n",
       "      <td>NaN</td>\n",
       "      <td>70.0</td>\n",
       "      <td>NaN</td>\n",
       "      <td>1003.0</td>\n",
       "      <td>NaN</td>\n",
       "      <td>33.0</td>\n",
       "      <td>NaN</td>\n",
       "      <td>NaN</td>\n",
       "      <td>NaN</td>\n",
       "      <td>3.0</td>\n",
       "    </tr>\n",
       "    <tr>\n",
       "      <th>2</th>\n",
       "      <td>2021-09-27</td>\n",
       "      <td>AR</td>\n",
       "      <td>Buenos Aires</td>\n",
       "      <td>NaN</td>\n",
       "      <td>5.7</td>\n",
       "      <td>12.8</td>\n",
       "      <td>87.7</td>\n",
       "      <td>NaN</td>\n",
       "      <td>NaN</td>\n",
       "      <td>6.9</td>\n",
       "      <td>...</td>\n",
       "      <td>17.0</td>\n",
       "      <td>50.0</td>\n",
       "      <td>NaN</td>\n",
       "      <td>1018.4</td>\n",
       "      <td>NaN</td>\n",
       "      <td>14.9</td>\n",
       "      <td>NaN</td>\n",
       "      <td>NaN</td>\n",
       "      <td>8.0</td>\n",
       "      <td>6.0</td>\n",
       "    </tr>\n",
       "    <tr>\n",
       "      <th>3</th>\n",
       "      <td>2021-09-27</td>\n",
       "      <td>AT</td>\n",
       "      <td>Graz</td>\n",
       "      <td>NaN</td>\n",
       "      <td>0.1</td>\n",
       "      <td>14.8</td>\n",
       "      <td>79.6</td>\n",
       "      <td>NaN</td>\n",
       "      <td>NaN</td>\n",
       "      <td>12.4</td>\n",
       "      <td>...</td>\n",
       "      <td>19.0</td>\n",
       "      <td>NaN</td>\n",
       "      <td>0.3</td>\n",
       "      <td>974.8</td>\n",
       "      <td>1.1</td>\n",
       "      <td>16.6</td>\n",
       "      <td>NaN</td>\n",
       "      <td>NaN</td>\n",
       "      <td>2.5</td>\n",
       "      <td>1.2</td>\n",
       "    </tr>\n",
       "    <tr>\n",
       "      <th>4</th>\n",
       "      <td>2021-09-27</td>\n",
       "      <td>AT</td>\n",
       "      <td>Innsbruck</td>\n",
       "      <td>NaN</td>\n",
       "      <td>0.1</td>\n",
       "      <td>13.2</td>\n",
       "      <td>86.2</td>\n",
       "      <td>NaN</td>\n",
       "      <td>NaN</td>\n",
       "      <td>9.6</td>\n",
       "      <td>...</td>\n",
       "      <td>12.0</td>\n",
       "      <td>NaN</td>\n",
       "      <td>0.6</td>\n",
       "      <td>951.6</td>\n",
       "      <td>0.6</td>\n",
       "      <td>15.2</td>\n",
       "      <td>NaN</td>\n",
       "      <td>NaN</td>\n",
       "      <td>6.0</td>\n",
       "      <td>1.0</td>\n",
       "    </tr>\n",
       "  </tbody>\n",
       "</table>\n",
       "<p>5 rows × 22 columns</p>\n",
       "</div>"
      ],
      "text/plain": [
       "Specie       Date Country          City  aqi   co   dew  humidity  mepaqi  \\\n",
       "0      2021-09-27      AE     Abu Dhabi  NaN  0.1  21.0      49.0     NaN   \n",
       "1      2021-09-27      AE         Dubai  NaN  NaN  24.0      59.0     NaN   \n",
       "2      2021-09-27      AR  Buenos Aires  NaN  5.7  12.8      87.7     NaN   \n",
       "3      2021-09-27      AT          Graz  NaN  0.1  14.8      79.6     NaN   \n",
       "4      2021-09-27      AT     Innsbruck  NaN  0.1  13.2      86.2     NaN   \n",
       "\n",
       "Specie  neph   no2  ...   pm10   pm25  precipitation  pressure  so2  \\\n",
       "0        NaN   5.1  ...  107.0  112.0            NaN    1003.0  3.1   \n",
       "1        NaN   NaN  ...    NaN   70.0            NaN    1003.0  NaN   \n",
       "2        NaN   6.9  ...   17.0   50.0            NaN    1018.4  NaN   \n",
       "3        NaN  12.4  ...   19.0    NaN            0.3     974.8  1.1   \n",
       "4        NaN   9.6  ...   12.0    NaN            0.6     951.6  0.6   \n",
       "\n",
       "Specie  temperature  uvi  wd  wind-gust  wind-speed  \n",
       "0              33.0  NaN NaN        NaN         3.0  \n",
       "1              33.0  NaN NaN        NaN         3.0  \n",
       "2              14.9  NaN NaN        8.0         6.0  \n",
       "3              16.6  NaN NaN        2.5         1.2  \n",
       "4              15.2  NaN NaN        6.0         1.0  \n",
       "\n",
       "[5 rows x 22 columns]"
      ]
     },
     "execution_count": 72,
     "metadata": {},
     "output_type": "execute_result"
    }
   ],
   "source": [
    "print(data_df_2021_Q4.shape)\n",
    "data_df_2021_Q4.head()"
   ]
  },
  {
   "cell_type": "code",
   "execution_count": 73,
   "id": "cf749f52",
   "metadata": {
    "execution": {
     "iopub.execute_input": "2025-01-09T17:55:20.312931Z",
     "iopub.status.busy": "2025-01-09T17:55:20.312518Z",
     "iopub.status.idle": "2025-01-09T17:55:20.326898Z",
     "shell.execute_reply": "2025-01-09T17:55:20.325947Z"
    },
    "executionInfo": {
     "elapsed": 7,
     "status": "ok",
     "timestamp": 1734445435256,
     "user": {
      "displayName": "Tahmida Majumder",
      "userId": "15415648085337204568"
     },
     "user_tz": -480
    },
    "id": "HLSD09398Q8l",
    "outputId": "cfd33c82-8964-49aa-b79e-337dc62a80ed",
    "papermill": {
     "duration": 0.063606,
     "end_time": "2025-01-09T17:55:20.328670",
     "exception": false,
     "start_time": "2025-01-09T17:55:20.265064",
     "status": "completed"
    },
    "tags": []
   },
   "outputs": [
    {
     "data": {
      "text/plain": [
       "Specie\n",
       "Date                 0\n",
       "Country              0\n",
       "City                 0\n",
       "aqi              56254\n",
       "co               21421\n",
       "dew              15917\n",
       "humidity          5137\n",
       "mepaqi           57498\n",
       "neph             57400\n",
       "no2              11193\n",
       "o3               15551\n",
       "pm1              57213\n",
       "pm10             10535\n",
       "pm25              9407\n",
       "precipitation    52472\n",
       "pressure          4971\n",
       "so2              19425\n",
       "temperature       4923\n",
       "uvi              56620\n",
       "wd               55617\n",
       "wind-gust        28316\n",
       "wind-speed        6031\n",
       "dtype: int64"
      ]
     },
     "execution_count": 73,
     "metadata": {},
     "output_type": "execute_result"
    }
   ],
   "source": [
    "data_df_2021_Q4.isnull().sum()"
   ]
  },
  {
   "cell_type": "code",
   "execution_count": null,
   "id": "a41c68c2",
   "metadata": {
    "id": "6mKdTCdQ-h6F",
    "papermill": {
     "duration": 0.047347,
     "end_time": "2025-01-09T17:55:20.423413",
     "exception": false,
     "start_time": "2025-01-09T17:55:20.376066",
     "status": "completed"
    },
    "tags": []
   },
   "outputs": [],
   "source": []
  },
  {
   "cell_type": "markdown",
   "id": "3c73122e",
   "metadata": {
    "id": "bb0jSl23TLES",
    "papermill": {
     "duration": 0.045837,
     "end_time": "2025-01-09T17:55:20.515493",
     "exception": false,
     "start_time": "2025-01-09T17:55:20.469656",
     "status": "completed"
    },
    "tags": []
   },
   "source": [
    "# 2020_Q1"
   ]
  },
  {
   "cell_type": "code",
   "execution_count": 74,
   "id": "bb8d1b8f",
   "metadata": {
    "execution": {
     "iopub.execute_input": "2025-01-09T17:55:20.611950Z",
     "iopub.status.busy": "2025-01-09T17:55:20.611539Z",
     "iopub.status.idle": "2025-01-09T17:55:21.138256Z",
     "shell.execute_reply": "2025-01-09T17:55:21.137096Z"
    },
    "executionInfo": {
     "elapsed": 1028,
     "status": "ok",
     "timestamp": 1734445436278,
     "user": {
      "displayName": "Tahmida Majumder",
      "userId": "15415648085337204568"
     },
     "user_tz": -480
    },
    "id": "olJx7kX2TLET",
    "outputId": "24b93e39-8a14-40ae-adbe-94b23904766d",
    "papermill": {
     "duration": 0.578341,
     "end_time": "2025-01-09T17:55:21.140086",
     "exception": false,
     "start_time": "2025-01-09T17:55:20.561745",
     "status": "completed"
    },
    "tags": []
   },
   "outputs": [
    {
     "name": "stdout",
     "output_type": "stream",
     "text": [
      "(539573, 5)\n"
     ]
    },
    {
     "data": {
      "text/html": [
       "<div>\n",
       "<style scoped>\n",
       "    .dataframe tbody tr th:only-of-type {\n",
       "        vertical-align: middle;\n",
       "    }\n",
       "\n",
       "    .dataframe tbody tr th {\n",
       "        vertical-align: top;\n",
       "    }\n",
       "\n",
       "    .dataframe thead th {\n",
       "        text-align: right;\n",
       "    }\n",
       "</style>\n",
       "<table border=\"1\" class=\"dataframe\">\n",
       "  <thead>\n",
       "    <tr style=\"text-align: right;\">\n",
       "      <th></th>\n",
       "      <th>Date</th>\n",
       "      <th>Country</th>\n",
       "      <th>City</th>\n",
       "      <th>Specie</th>\n",
       "      <th>median</th>\n",
       "    </tr>\n",
       "  </thead>\n",
       "  <tbody>\n",
       "    <tr>\n",
       "      <th>0</th>\n",
       "      <td>1/13/2020</td>\n",
       "      <td>CO</td>\n",
       "      <td>Bogotá</td>\n",
       "      <td>so2</td>\n",
       "      <td>0.5</td>\n",
       "    </tr>\n",
       "    <tr>\n",
       "      <th>1</th>\n",
       "      <td>2/25/2020</td>\n",
       "      <td>CO</td>\n",
       "      <td>Bogotá</td>\n",
       "      <td>so2</td>\n",
       "      <td>0.8</td>\n",
       "    </tr>\n",
       "    <tr>\n",
       "      <th>2</th>\n",
       "      <td>3/9/2020</td>\n",
       "      <td>CO</td>\n",
       "      <td>Bogotá</td>\n",
       "      <td>so2</td>\n",
       "      <td>0.6</td>\n",
       "    </tr>\n",
       "    <tr>\n",
       "      <th>3</th>\n",
       "      <td>3/13/2020</td>\n",
       "      <td>CO</td>\n",
       "      <td>Bogotá</td>\n",
       "      <td>so2</td>\n",
       "      <td>0.8</td>\n",
       "    </tr>\n",
       "    <tr>\n",
       "      <th>4</th>\n",
       "      <td>3/27/2020</td>\n",
       "      <td>CO</td>\n",
       "      <td>Bogotá</td>\n",
       "      <td>so2</td>\n",
       "      <td>0.7</td>\n",
       "    </tr>\n",
       "    <tr>\n",
       "      <th>5</th>\n",
       "      <td>4/5/2020</td>\n",
       "      <td>CO</td>\n",
       "      <td>Bogotá</td>\n",
       "      <td>so2</td>\n",
       "      <td>0.6</td>\n",
       "    </tr>\n",
       "    <tr>\n",
       "      <th>6</th>\n",
       "      <td>1/1/2020</td>\n",
       "      <td>CO</td>\n",
       "      <td>Bogotá</td>\n",
       "      <td>so2</td>\n",
       "      <td>0.6</td>\n",
       "    </tr>\n",
       "    <tr>\n",
       "      <th>7</th>\n",
       "      <td>1/10/2020</td>\n",
       "      <td>CO</td>\n",
       "      <td>Bogotá</td>\n",
       "      <td>so2</td>\n",
       "      <td>0.5</td>\n",
       "    </tr>\n",
       "    <tr>\n",
       "      <th>8</th>\n",
       "      <td>2/27/2020</td>\n",
       "      <td>CO</td>\n",
       "      <td>Bogotá</td>\n",
       "      <td>so2</td>\n",
       "      <td>0.6</td>\n",
       "    </tr>\n",
       "    <tr>\n",
       "      <th>9</th>\n",
       "      <td>3/8/2020</td>\n",
       "      <td>CO</td>\n",
       "      <td>Bogotá</td>\n",
       "      <td>so2</td>\n",
       "      <td>0.6</td>\n",
       "    </tr>\n",
       "  </tbody>\n",
       "</table>\n",
       "</div>"
      ],
      "text/plain": [
       "        Date Country    City Specie  median\n",
       "0  1/13/2020      CO  Bogotá    so2     0.5\n",
       "1  2/25/2020      CO  Bogotá    so2     0.8\n",
       "2   3/9/2020      CO  Bogotá    so2     0.6\n",
       "3  3/13/2020      CO  Bogotá    so2     0.8\n",
       "4  3/27/2020      CO  Bogotá    so2     0.7\n",
       "5   4/5/2020      CO  Bogotá    so2     0.6\n",
       "6   1/1/2020      CO  Bogotá    so2     0.6\n",
       "7  1/10/2020      CO  Bogotá    so2     0.5\n",
       "8  2/27/2020      CO  Bogotá    so2     0.6\n",
       "9   3/8/2020      CO  Bogotá    so2     0.6"
      ]
     },
     "execution_count": 74,
     "metadata": {},
     "output_type": "execute_result"
    }
   ],
   "source": [
    "# Loading the data\n",
    "raw_data_2020_Q1 = pd.read_csv(r\"/kaggle/input/complete-raw-median/waqi-covid19-airqualitydata-2020Q1.csv\")\n",
    "\n",
    "# print the shape\n",
    "print(raw_data_2020_Q1.shape)\n",
    "\n",
    "#runs the first 5 rows\n",
    "raw_data_2020_Q1.head(10)"
   ]
  },
  {
   "cell_type": "code",
   "execution_count": 75,
   "id": "7c73489e",
   "metadata": {
    "execution": {
     "iopub.execute_input": "2025-01-09T17:55:21.237645Z",
     "iopub.status.busy": "2025-01-09T17:55:21.237313Z",
     "iopub.status.idle": "2025-01-09T17:55:21.317749Z",
     "shell.execute_reply": "2025-01-09T17:55:21.316628Z"
    },
    "id": "RV3cx5rqTLET",
    "papermill": {
     "duration": 0.132788,
     "end_time": "2025-01-09T17:55:21.319695",
     "exception": false,
     "start_time": "2025-01-09T17:55:21.186907",
     "status": "completed"
    },
    "tags": []
   },
   "outputs": [],
   "source": [
    "# Convert 'Date' to datetime\n",
    "raw_data_2020_Q1['Date'] = pd.to_datetime(raw_data_2020_Q1['Date'])"
   ]
  },
  {
   "cell_type": "code",
   "execution_count": 76,
   "id": "2f1a7fa4",
   "metadata": {
    "execution": {
     "iopub.execute_input": "2025-01-09T17:55:21.417530Z",
     "iopub.status.busy": "2025-01-09T17:55:21.417190Z",
     "iopub.status.idle": "2025-01-09T17:55:21.423555Z",
     "shell.execute_reply": "2025-01-09T17:55:21.422305Z"
    },
    "executionInfo": {
     "elapsed": 11,
     "status": "ok",
     "timestamp": 1734445436278,
     "user": {
      "displayName": "Tahmida Majumder",
      "userId": "15415648085337204568"
     },
     "user_tz": -480
    },
    "id": "CAq3ew-gTLET",
    "outputId": "d1f110fd-c5c1-42ec-f4c8-926fe2d8815f",
    "papermill": {
     "duration": 0.056837,
     "end_time": "2025-01-09T17:55:21.425549",
     "exception": false,
     "start_time": "2025-01-09T17:55:21.368712",
     "status": "completed"
    },
    "tags": []
   },
   "outputs": [
    {
     "data": {
      "text/plain": [
       "(539573, 5)"
      ]
     },
     "execution_count": 76,
     "metadata": {},
     "output_type": "execute_result"
    }
   ],
   "source": [
    "raw_data_2020_Q1.shape"
   ]
  },
  {
   "cell_type": "code",
   "execution_count": 77,
   "id": "490e632b",
   "metadata": {
    "execution": {
     "iopub.execute_input": "2025-01-09T17:55:21.544162Z",
     "iopub.status.busy": "2025-01-09T17:55:21.543630Z",
     "iopub.status.idle": "2025-01-09T17:55:22.012022Z",
     "shell.execute_reply": "2025-01-09T17:55:22.010948Z"
    },
    "id": "ApuQo9RUTLET",
    "papermill": {
     "duration": 0.536505,
     "end_time": "2025-01-09T17:55:22.014233",
     "exception": false,
     "start_time": "2025-01-09T17:55:21.477728",
     "status": "completed"
    },
    "tags": []
   },
   "outputs": [],
   "source": [
    "# Pivot the data\n",
    "data_df_2020_Q1 = raw_data_2020_Q1.pivot_table(\n",
    "    index=['Date', 'Country', 'City'],  # Grouping columns\n",
    "    columns='Specie',                  # Unique values become columns\n",
    "    values='median',                   # Values to aggregate\n",
    "    aggfunc='mean'                     # Aggregation function\n",
    ").reset_index()"
   ]
  },
  {
   "cell_type": "code",
   "execution_count": 78,
   "id": "32f84e22",
   "metadata": {
    "execution": {
     "iopub.execute_input": "2025-01-09T17:55:22.126658Z",
     "iopub.status.busy": "2025-01-09T17:55:22.126190Z",
     "iopub.status.idle": "2025-01-09T17:55:22.153195Z",
     "shell.execute_reply": "2025-01-09T17:55:22.152093Z"
    },
    "executionInfo": {
     "elapsed": 400,
     "status": "ok",
     "timestamp": 1734445436669,
     "user": {
      "displayName": "Tahmida Majumder",
      "userId": "15415648085337204568"
     },
     "user_tz": -480
    },
    "id": "aYWh6ZKXTLET",
    "outputId": "a393338c-c3cf-422c-f237-a7bfa5b14e20",
    "papermill": {
     "duration": 0.081476,
     "end_time": "2025-01-09T17:55:22.154816",
     "exception": false,
     "start_time": "2025-01-09T17:55:22.073340",
     "status": "completed"
    },
    "tags": []
   },
   "outputs": [
    {
     "name": "stdout",
     "output_type": "stream",
     "text": [
      "(59069, 25)\n"
     ]
    },
    {
     "data": {
      "text/html": [
       "<div>\n",
       "<style scoped>\n",
       "    .dataframe tbody tr th:only-of-type {\n",
       "        vertical-align: middle;\n",
       "    }\n",
       "\n",
       "    .dataframe tbody tr th {\n",
       "        vertical-align: top;\n",
       "    }\n",
       "\n",
       "    .dataframe thead th {\n",
       "        text-align: right;\n",
       "    }\n",
       "</style>\n",
       "<table border=\"1\" class=\"dataframe\">\n",
       "  <thead>\n",
       "    <tr style=\"text-align: right;\">\n",
       "      <th>Specie</th>\n",
       "      <th>Date</th>\n",
       "      <th>Country</th>\n",
       "      <th>City</th>\n",
       "      <th>aqi</th>\n",
       "      <th>co</th>\n",
       "      <th>dew</th>\n",
       "      <th>humidity</th>\n",
       "      <th>mepaqi</th>\n",
       "      <th>neph</th>\n",
       "      <th>no2</th>\n",
       "      <th>...</th>\n",
       "      <th>precipitation</th>\n",
       "      <th>pressure</th>\n",
       "      <th>so2</th>\n",
       "      <th>temperature</th>\n",
       "      <th>uvi</th>\n",
       "      <th>wd</th>\n",
       "      <th>wind gust</th>\n",
       "      <th>wind speed</th>\n",
       "      <th>wind-gust</th>\n",
       "      <th>wind-speed</th>\n",
       "    </tr>\n",
       "  </thead>\n",
       "  <tbody>\n",
       "    <tr>\n",
       "      <th>0</th>\n",
       "      <td>2019-12-30</td>\n",
       "      <td>AE</td>\n",
       "      <td>Abu Dhabi</td>\n",
       "      <td>NaN</td>\n",
       "      <td>0.1</td>\n",
       "      <td>NaN</td>\n",
       "      <td>NaN</td>\n",
       "      <td>NaN</td>\n",
       "      <td>NaN</td>\n",
       "      <td>19.2</td>\n",
       "      <td>...</td>\n",
       "      <td>NaN</td>\n",
       "      <td>NaN</td>\n",
       "      <td>6.1</td>\n",
       "      <td>NaN</td>\n",
       "      <td>NaN</td>\n",
       "      <td>NaN</td>\n",
       "      <td>NaN</td>\n",
       "      <td>NaN</td>\n",
       "      <td>NaN</td>\n",
       "      <td>NaN</td>\n",
       "    </tr>\n",
       "    <tr>\n",
       "      <th>1</th>\n",
       "      <td>2019-12-30</td>\n",
       "      <td>AE</td>\n",
       "      <td>Dubai</td>\n",
       "      <td>NaN</td>\n",
       "      <td>NaN</td>\n",
       "      <td>NaN</td>\n",
       "      <td>NaN</td>\n",
       "      <td>NaN</td>\n",
       "      <td>NaN</td>\n",
       "      <td>NaN</td>\n",
       "      <td>...</td>\n",
       "      <td>NaN</td>\n",
       "      <td>NaN</td>\n",
       "      <td>NaN</td>\n",
       "      <td>NaN</td>\n",
       "      <td>NaN</td>\n",
       "      <td>NaN</td>\n",
       "      <td>NaN</td>\n",
       "      <td>NaN</td>\n",
       "      <td>NaN</td>\n",
       "      <td>NaN</td>\n",
       "    </tr>\n",
       "    <tr>\n",
       "      <th>2</th>\n",
       "      <td>2019-12-30</td>\n",
       "      <td>AF</td>\n",
       "      <td>Kabul</td>\n",
       "      <td>NaN</td>\n",
       "      <td>NaN</td>\n",
       "      <td>NaN</td>\n",
       "      <td>NaN</td>\n",
       "      <td>NaN</td>\n",
       "      <td>NaN</td>\n",
       "      <td>NaN</td>\n",
       "      <td>...</td>\n",
       "      <td>NaN</td>\n",
       "      <td>NaN</td>\n",
       "      <td>NaN</td>\n",
       "      <td>NaN</td>\n",
       "      <td>NaN</td>\n",
       "      <td>NaN</td>\n",
       "      <td>NaN</td>\n",
       "      <td>NaN</td>\n",
       "      <td>NaN</td>\n",
       "      <td>NaN</td>\n",
       "    </tr>\n",
       "    <tr>\n",
       "      <th>3</th>\n",
       "      <td>2019-12-30</td>\n",
       "      <td>AR</td>\n",
       "      <td>Buenos Aires</td>\n",
       "      <td>NaN</td>\n",
       "      <td>3.8</td>\n",
       "      <td>NaN</td>\n",
       "      <td>NaN</td>\n",
       "      <td>NaN</td>\n",
       "      <td>NaN</td>\n",
       "      <td>7.4</td>\n",
       "      <td>...</td>\n",
       "      <td>NaN</td>\n",
       "      <td>NaN</td>\n",
       "      <td>NaN</td>\n",
       "      <td>NaN</td>\n",
       "      <td>NaN</td>\n",
       "      <td>NaN</td>\n",
       "      <td>NaN</td>\n",
       "      <td>NaN</td>\n",
       "      <td>NaN</td>\n",
       "      <td>NaN</td>\n",
       "    </tr>\n",
       "    <tr>\n",
       "      <th>4</th>\n",
       "      <td>2019-12-30</td>\n",
       "      <td>AT</td>\n",
       "      <td>Graz</td>\n",
       "      <td>NaN</td>\n",
       "      <td>0.1</td>\n",
       "      <td>NaN</td>\n",
       "      <td>NaN</td>\n",
       "      <td>NaN</td>\n",
       "      <td>NaN</td>\n",
       "      <td>16.5</td>\n",
       "      <td>...</td>\n",
       "      <td>NaN</td>\n",
       "      <td>NaN</td>\n",
       "      <td>1.1</td>\n",
       "      <td>NaN</td>\n",
       "      <td>NaN</td>\n",
       "      <td>NaN</td>\n",
       "      <td>NaN</td>\n",
       "      <td>NaN</td>\n",
       "      <td>NaN</td>\n",
       "      <td>NaN</td>\n",
       "    </tr>\n",
       "  </tbody>\n",
       "</table>\n",
       "<p>5 rows × 25 columns</p>\n",
       "</div>"
      ],
      "text/plain": [
       "Specie       Date Country          City  aqi   co  dew  humidity  mepaqi  \\\n",
       "0      2019-12-30      AE     Abu Dhabi  NaN  0.1  NaN       NaN     NaN   \n",
       "1      2019-12-30      AE         Dubai  NaN  NaN  NaN       NaN     NaN   \n",
       "2      2019-12-30      AF         Kabul  NaN  NaN  NaN       NaN     NaN   \n",
       "3      2019-12-30      AR  Buenos Aires  NaN  3.8  NaN       NaN     NaN   \n",
       "4      2019-12-30      AT          Graz  NaN  0.1  NaN       NaN     NaN   \n",
       "\n",
       "Specie  neph   no2  ...  precipitation  pressure  so2  temperature  uvi  wd  \\\n",
       "0        NaN  19.2  ...            NaN       NaN  6.1          NaN  NaN NaN   \n",
       "1        NaN   NaN  ...            NaN       NaN  NaN          NaN  NaN NaN   \n",
       "2        NaN   NaN  ...            NaN       NaN  NaN          NaN  NaN NaN   \n",
       "3        NaN   7.4  ...            NaN       NaN  NaN          NaN  NaN NaN   \n",
       "4        NaN  16.5  ...            NaN       NaN  1.1          NaN  NaN NaN   \n",
       "\n",
       "Specie  wind gust  wind speed  wind-gust  wind-speed  \n",
       "0             NaN         NaN        NaN         NaN  \n",
       "1             NaN         NaN        NaN         NaN  \n",
       "2             NaN         NaN        NaN         NaN  \n",
       "3             NaN         NaN        NaN         NaN  \n",
       "4             NaN         NaN        NaN         NaN  \n",
       "\n",
       "[5 rows x 25 columns]"
      ]
     },
     "execution_count": 78,
     "metadata": {},
     "output_type": "execute_result"
    }
   ],
   "source": [
    "print(data_df_2020_Q1.shape)\n",
    "data_df_2020_Q1.head()"
   ]
  },
  {
   "cell_type": "code",
   "execution_count": 79,
   "id": "fc1e182f",
   "metadata": {
    "execution": {
     "iopub.execute_input": "2025-01-09T17:55:22.253341Z",
     "iopub.status.busy": "2025-01-09T17:55:22.253014Z",
     "iopub.status.idle": "2025-01-09T17:55:22.268506Z",
     "shell.execute_reply": "2025-01-09T17:55:22.267357Z"
    },
    "executionInfo": {
     "elapsed": 6,
     "status": "ok",
     "timestamp": 1734445436669,
     "user": {
      "displayName": "Tahmida Majumder",
      "userId": "15415648085337204568"
     },
     "user_tz": -480
    },
    "id": "EQUiUnjrTLET",
    "outputId": "e84122f3-e118-48f3-b958-abd1625bc15b",
    "papermill": {
     "duration": 0.068604,
     "end_time": "2025-01-09T17:55:22.270466",
     "exception": false,
     "start_time": "2025-01-09T17:55:22.201862",
     "status": "completed"
    },
    "tags": []
   },
   "outputs": [
    {
     "data": {
      "text/plain": [
       "Specie\n",
       "Date                 0\n",
       "Country              0\n",
       "City                 0\n",
       "aqi              57661\n",
       "co               22080\n",
       "dew              22910\n",
       "humidity         11489\n",
       "mepaqi           58971\n",
       "neph             58873\n",
       "no2              11017\n",
       "o3               14542\n",
       "pm1              58687\n",
       "pm10             10818\n",
       "pm25              9623\n",
       "pol              58354\n",
       "precipitation    55234\n",
       "pressure         11631\n",
       "so2              18847\n",
       "temperature      11481\n",
       "uvi              58086\n",
       "wd               55488\n",
       "wind gust        30802\n",
       "wind speed       14994\n",
       "wind-gust        55472\n",
       "wind-speed       52885\n",
       "dtype: int64"
      ]
     },
     "execution_count": 79,
     "metadata": {},
     "output_type": "execute_result"
    }
   ],
   "source": [
    "data_df_2020_Q1.isnull().sum()"
   ]
  },
  {
   "cell_type": "code",
   "execution_count": null,
   "id": "c96ab83a",
   "metadata": {
    "id": "fm1JPY2nBLi9",
    "papermill": {
     "duration": 0.047635,
     "end_time": "2025-01-09T17:55:22.366337",
     "exception": false,
     "start_time": "2025-01-09T17:55:22.318702",
     "status": "completed"
    },
    "tags": []
   },
   "outputs": [],
   "source": []
  },
  {
   "cell_type": "markdown",
   "id": "4731136f",
   "metadata": {
    "id": "LGYwkNVzToWU",
    "papermill": {
     "duration": 0.047893,
     "end_time": "2025-01-09T17:55:22.465663",
     "exception": false,
     "start_time": "2025-01-09T17:55:22.417770",
     "status": "completed"
    },
    "tags": []
   },
   "source": [
    "# 2020_Q2"
   ]
  },
  {
   "cell_type": "code",
   "execution_count": 80,
   "id": "115d8fc0",
   "metadata": {
    "execution": {
     "iopub.execute_input": "2025-01-09T17:55:22.564075Z",
     "iopub.status.busy": "2025-01-09T17:55:22.563687Z",
     "iopub.status.idle": "2025-01-09T17:55:23.210082Z",
     "shell.execute_reply": "2025-01-09T17:55:23.208831Z"
    },
    "executionInfo": {
     "elapsed": 1250,
     "status": "ok",
     "timestamp": 1734445437914,
     "user": {
      "displayName": "Tahmida Majumder",
      "userId": "15415648085337204568"
     },
     "user_tz": -480
    },
    "id": "xSyoEhVsToWV",
    "outputId": "02d3233d-6501-46f6-e68a-6322b0ea3acd",
    "papermill": {
     "duration": 0.696942,
     "end_time": "2025-01-09T17:55:23.211742",
     "exception": false,
     "start_time": "2025-01-09T17:55:22.514800",
     "status": "completed"
    },
    "tags": []
   },
   "outputs": [
    {
     "name": "stdout",
     "output_type": "stream",
     "text": [
      "(602520, 5)\n"
     ]
    },
    {
     "data": {
      "text/html": [
       "<div>\n",
       "<style scoped>\n",
       "    .dataframe tbody tr th:only-of-type {\n",
       "        vertical-align: middle;\n",
       "    }\n",
       "\n",
       "    .dataframe tbody tr th {\n",
       "        vertical-align: top;\n",
       "    }\n",
       "\n",
       "    .dataframe thead th {\n",
       "        text-align: right;\n",
       "    }\n",
       "</style>\n",
       "<table border=\"1\" class=\"dataframe\">\n",
       "  <thead>\n",
       "    <tr style=\"text-align: right;\">\n",
       "      <th></th>\n",
       "      <th>Date</th>\n",
       "      <th>Country</th>\n",
       "      <th>City</th>\n",
       "      <th>Specie</th>\n",
       "      <th>median</th>\n",
       "    </tr>\n",
       "  </thead>\n",
       "  <tbody>\n",
       "    <tr>\n",
       "      <th>0</th>\n",
       "      <td>4/15/2020</td>\n",
       "      <td>IN</td>\n",
       "      <td>Thrissur</td>\n",
       "      <td>wind-gust</td>\n",
       "      <td>10.2</td>\n",
       "    </tr>\n",
       "    <tr>\n",
       "      <th>1</th>\n",
       "      <td>4/26/2020</td>\n",
       "      <td>IN</td>\n",
       "      <td>Thrissur</td>\n",
       "      <td>wind-gust</td>\n",
       "      <td>12.8</td>\n",
       "    </tr>\n",
       "    <tr>\n",
       "      <th>2</th>\n",
       "      <td>5/2/2020</td>\n",
       "      <td>IN</td>\n",
       "      <td>Thrissur</td>\n",
       "      <td>wind-gust</td>\n",
       "      <td>8.7</td>\n",
       "    </tr>\n",
       "    <tr>\n",
       "      <th>3</th>\n",
       "      <td>5/11/2020</td>\n",
       "      <td>IN</td>\n",
       "      <td>Thrissur</td>\n",
       "      <td>wind-gust</td>\n",
       "      <td>11.3</td>\n",
       "    </tr>\n",
       "    <tr>\n",
       "      <th>4</th>\n",
       "      <td>6/21/2020</td>\n",
       "      <td>IN</td>\n",
       "      <td>Thrissur</td>\n",
       "      <td>wind-gust</td>\n",
       "      <td>10.2</td>\n",
       "    </tr>\n",
       "    <tr>\n",
       "      <th>5</th>\n",
       "      <td>7/2/2020</td>\n",
       "      <td>IN</td>\n",
       "      <td>Thrissur</td>\n",
       "      <td>wind-gust</td>\n",
       "      <td>11.8</td>\n",
       "    </tr>\n",
       "    <tr>\n",
       "      <th>6</th>\n",
       "      <td>3/30/2020</td>\n",
       "      <td>IN</td>\n",
       "      <td>Thrissur</td>\n",
       "      <td>wind speed</td>\n",
       "      <td>0.9</td>\n",
       "    </tr>\n",
       "    <tr>\n",
       "      <th>7</th>\n",
       "      <td>3/31/2020</td>\n",
       "      <td>IN</td>\n",
       "      <td>Thrissur</td>\n",
       "      <td>wind speed</td>\n",
       "      <td>1.0</td>\n",
       "    </tr>\n",
       "    <tr>\n",
       "      <th>8</th>\n",
       "      <td>5/31/2020</td>\n",
       "      <td>IN</td>\n",
       "      <td>Thrissur</td>\n",
       "      <td>o3</td>\n",
       "      <td>0.7</td>\n",
       "    </tr>\n",
       "    <tr>\n",
       "      <th>9</th>\n",
       "      <td>4/8/2020</td>\n",
       "      <td>IN</td>\n",
       "      <td>Thrissur</td>\n",
       "      <td>o3</td>\n",
       "      <td>0.8</td>\n",
       "    </tr>\n",
       "  </tbody>\n",
       "</table>\n",
       "</div>"
      ],
      "text/plain": [
       "        Date Country      City      Specie  median\n",
       "0  4/15/2020      IN  Thrissur   wind-gust    10.2\n",
       "1  4/26/2020      IN  Thrissur   wind-gust    12.8\n",
       "2   5/2/2020      IN  Thrissur   wind-gust     8.7\n",
       "3  5/11/2020      IN  Thrissur   wind-gust    11.3\n",
       "4  6/21/2020      IN  Thrissur   wind-gust    10.2\n",
       "5   7/2/2020      IN  Thrissur   wind-gust    11.8\n",
       "6  3/30/2020      IN  Thrissur  wind speed     0.9\n",
       "7  3/31/2020      IN  Thrissur  wind speed     1.0\n",
       "8  5/31/2020      IN  Thrissur          o3     0.7\n",
       "9   4/8/2020      IN  Thrissur          o3     0.8"
      ]
     },
     "execution_count": 80,
     "metadata": {},
     "output_type": "execute_result"
    }
   ],
   "source": [
    "# Loading the data\n",
    "raw_data_2020_Q2 = pd.read_csv(r\"/kaggle/input/complete-raw-median/waqi-covid19-airqualitydata-2020Q2.csv\")\n",
    "\n",
    "# print the shape\n",
    "print(raw_data_2020_Q2.shape)\n",
    "\n",
    "#runs the first 5 rows\n",
    "raw_data_2020_Q2.head(10)"
   ]
  },
  {
   "cell_type": "code",
   "execution_count": 81,
   "id": "6725a6f3",
   "metadata": {
    "execution": {
     "iopub.execute_input": "2025-01-09T17:55:23.310943Z",
     "iopub.status.busy": "2025-01-09T17:55:23.310458Z",
     "iopub.status.idle": "2025-01-09T17:55:23.397162Z",
     "shell.execute_reply": "2025-01-09T17:55:23.396007Z"
    },
    "id": "b0XbQ7rFToWV",
    "papermill": {
     "duration": 0.138516,
     "end_time": "2025-01-09T17:55:23.399167",
     "exception": false,
     "start_time": "2025-01-09T17:55:23.260651",
     "status": "completed"
    },
    "tags": []
   },
   "outputs": [],
   "source": [
    "# Convert 'Date' to datetime\n",
    "raw_data_2020_Q2['Date'] = pd.to_datetime(raw_data_2020_Q2['Date'])"
   ]
  },
  {
   "cell_type": "code",
   "execution_count": 82,
   "id": "b8d6b0d6",
   "metadata": {
    "execution": {
     "iopub.execute_input": "2025-01-09T17:55:23.497471Z",
     "iopub.status.busy": "2025-01-09T17:55:23.497098Z",
     "iopub.status.idle": "2025-01-09T17:55:23.502909Z",
     "shell.execute_reply": "2025-01-09T17:55:23.501683Z"
    },
    "executionInfo": {
     "elapsed": 10,
     "status": "ok",
     "timestamp": 1734445437915,
     "user": {
      "displayName": "Tahmida Majumder",
      "userId": "15415648085337204568"
     },
     "user_tz": -480
    },
    "id": "xKxi2CK8ToWV",
    "outputId": "440244db-2fa4-4e07-f3d8-0dbbe5edf054",
    "papermill": {
     "duration": 0.056286,
     "end_time": "2025-01-09T17:55:23.504491",
     "exception": false,
     "start_time": "2025-01-09T17:55:23.448205",
     "status": "completed"
    },
    "tags": []
   },
   "outputs": [
    {
     "data": {
      "text/plain": [
       "(602520, 5)"
      ]
     },
     "execution_count": 82,
     "metadata": {},
     "output_type": "execute_result"
    }
   ],
   "source": [
    "raw_data_2020_Q2.shape"
   ]
  },
  {
   "cell_type": "code",
   "execution_count": 83,
   "id": "edbdac50",
   "metadata": {
    "execution": {
     "iopub.execute_input": "2025-01-09T17:55:23.603489Z",
     "iopub.status.busy": "2025-01-09T17:55:23.603166Z",
     "iopub.status.idle": "2025-01-09T17:55:24.054258Z",
     "shell.execute_reply": "2025-01-09T17:55:24.053307Z"
    },
    "id": "ZKV6xvpVToWV",
    "papermill": {
     "duration": 0.502103,
     "end_time": "2025-01-09T17:55:24.056149",
     "exception": false,
     "start_time": "2025-01-09T17:55:23.554046",
     "status": "completed"
    },
    "tags": []
   },
   "outputs": [],
   "source": [
    "# Pivot the data\n",
    "data_df_2020_Q2 = raw_data_2020_Q2.pivot_table(\n",
    "    index=['Date', 'Country', 'City'],  # Grouping columns\n",
    "    columns='Specie',                  # Unique values become columns\n",
    "    values='median',                   # Values to aggregate\n",
    "    aggfunc='mean'                     # Aggregation function\n",
    ").reset_index()\n"
   ]
  },
  {
   "cell_type": "code",
   "execution_count": 84,
   "id": "b1f8b7f7",
   "metadata": {
    "execution": {
     "iopub.execute_input": "2025-01-09T17:55:24.158416Z",
     "iopub.status.busy": "2025-01-09T17:55:24.158074Z",
     "iopub.status.idle": "2025-01-09T17:55:24.180929Z",
     "shell.execute_reply": "2025-01-09T17:55:24.179854Z"
    },
    "executionInfo": {
     "elapsed": 11,
     "status": "ok",
     "timestamp": 1734445438399,
     "user": {
      "displayName": "Tahmida Majumder",
      "userId": "15415648085337204568"
     },
     "user_tz": -480
    },
    "id": "_824_kVMToWV",
    "outputId": "7eaa3e0c-df23-4d87-8509-3ee748405b7b",
    "papermill": {
     "duration": 0.075891,
     "end_time": "2025-01-09T17:55:24.182367",
     "exception": false,
     "start_time": "2025-01-09T17:55:24.106476",
     "status": "completed"
    },
    "tags": []
   },
   "outputs": [
    {
     "name": "stdout",
     "output_type": "stream",
     "text": [
      "(59500, 24)\n"
     ]
    },
    {
     "data": {
      "text/html": [
       "<div>\n",
       "<style scoped>\n",
       "    .dataframe tbody tr th:only-of-type {\n",
       "        vertical-align: middle;\n",
       "    }\n",
       "\n",
       "    .dataframe tbody tr th {\n",
       "        vertical-align: top;\n",
       "    }\n",
       "\n",
       "    .dataframe thead th {\n",
       "        text-align: right;\n",
       "    }\n",
       "</style>\n",
       "<table border=\"1\" class=\"dataframe\">\n",
       "  <thead>\n",
       "    <tr style=\"text-align: right;\">\n",
       "      <th>Specie</th>\n",
       "      <th>Date</th>\n",
       "      <th>Country</th>\n",
       "      <th>City</th>\n",
       "      <th>aqi</th>\n",
       "      <th>co</th>\n",
       "      <th>dew</th>\n",
       "      <th>humidity</th>\n",
       "      <th>mepaqi</th>\n",
       "      <th>neph</th>\n",
       "      <th>no2</th>\n",
       "      <th>...</th>\n",
       "      <th>precipitation</th>\n",
       "      <th>pressure</th>\n",
       "      <th>so2</th>\n",
       "      <th>temperature</th>\n",
       "      <th>uvi</th>\n",
       "      <th>wd</th>\n",
       "      <th>wind gust</th>\n",
       "      <th>wind speed</th>\n",
       "      <th>wind-gust</th>\n",
       "      <th>wind-speed</th>\n",
       "    </tr>\n",
       "  </thead>\n",
       "  <tbody>\n",
       "    <tr>\n",
       "      <th>0</th>\n",
       "      <td>2019-12-30</td>\n",
       "      <td>AE</td>\n",
       "      <td>Abu Dhabi</td>\n",
       "      <td>NaN</td>\n",
       "      <td>0.1</td>\n",
       "      <td>NaN</td>\n",
       "      <td>NaN</td>\n",
       "      <td>NaN</td>\n",
       "      <td>NaN</td>\n",
       "      <td>19.2</td>\n",
       "      <td>...</td>\n",
       "      <td>NaN</td>\n",
       "      <td>NaN</td>\n",
       "      <td>6.1</td>\n",
       "      <td>NaN</td>\n",
       "      <td>NaN</td>\n",
       "      <td>NaN</td>\n",
       "      <td>NaN</td>\n",
       "      <td>NaN</td>\n",
       "      <td>NaN</td>\n",
       "      <td>NaN</td>\n",
       "    </tr>\n",
       "    <tr>\n",
       "      <th>1</th>\n",
       "      <td>2019-12-30</td>\n",
       "      <td>AE</td>\n",
       "      <td>Dubai</td>\n",
       "      <td>NaN</td>\n",
       "      <td>NaN</td>\n",
       "      <td>NaN</td>\n",
       "      <td>NaN</td>\n",
       "      <td>NaN</td>\n",
       "      <td>NaN</td>\n",
       "      <td>NaN</td>\n",
       "      <td>...</td>\n",
       "      <td>NaN</td>\n",
       "      <td>NaN</td>\n",
       "      <td>NaN</td>\n",
       "      <td>NaN</td>\n",
       "      <td>NaN</td>\n",
       "      <td>NaN</td>\n",
       "      <td>NaN</td>\n",
       "      <td>NaN</td>\n",
       "      <td>NaN</td>\n",
       "      <td>NaN</td>\n",
       "    </tr>\n",
       "    <tr>\n",
       "      <th>2</th>\n",
       "      <td>2019-12-30</td>\n",
       "      <td>AF</td>\n",
       "      <td>Kabul</td>\n",
       "      <td>NaN</td>\n",
       "      <td>NaN</td>\n",
       "      <td>NaN</td>\n",
       "      <td>NaN</td>\n",
       "      <td>NaN</td>\n",
       "      <td>NaN</td>\n",
       "      <td>NaN</td>\n",
       "      <td>...</td>\n",
       "      <td>NaN</td>\n",
       "      <td>NaN</td>\n",
       "      <td>NaN</td>\n",
       "      <td>NaN</td>\n",
       "      <td>NaN</td>\n",
       "      <td>NaN</td>\n",
       "      <td>NaN</td>\n",
       "      <td>NaN</td>\n",
       "      <td>NaN</td>\n",
       "      <td>NaN</td>\n",
       "    </tr>\n",
       "    <tr>\n",
       "      <th>3</th>\n",
       "      <td>2019-12-30</td>\n",
       "      <td>AR</td>\n",
       "      <td>Buenos Aires</td>\n",
       "      <td>NaN</td>\n",
       "      <td>3.8</td>\n",
       "      <td>NaN</td>\n",
       "      <td>NaN</td>\n",
       "      <td>NaN</td>\n",
       "      <td>NaN</td>\n",
       "      <td>7.4</td>\n",
       "      <td>...</td>\n",
       "      <td>NaN</td>\n",
       "      <td>NaN</td>\n",
       "      <td>NaN</td>\n",
       "      <td>NaN</td>\n",
       "      <td>NaN</td>\n",
       "      <td>NaN</td>\n",
       "      <td>NaN</td>\n",
       "      <td>NaN</td>\n",
       "      <td>NaN</td>\n",
       "      <td>NaN</td>\n",
       "    </tr>\n",
       "    <tr>\n",
       "      <th>4</th>\n",
       "      <td>2019-12-30</td>\n",
       "      <td>AT</td>\n",
       "      <td>Graz</td>\n",
       "      <td>NaN</td>\n",
       "      <td>0.1</td>\n",
       "      <td>NaN</td>\n",
       "      <td>NaN</td>\n",
       "      <td>NaN</td>\n",
       "      <td>NaN</td>\n",
       "      <td>16.5</td>\n",
       "      <td>...</td>\n",
       "      <td>NaN</td>\n",
       "      <td>NaN</td>\n",
       "      <td>1.1</td>\n",
       "      <td>NaN</td>\n",
       "      <td>NaN</td>\n",
       "      <td>NaN</td>\n",
       "      <td>NaN</td>\n",
       "      <td>NaN</td>\n",
       "      <td>NaN</td>\n",
       "      <td>NaN</td>\n",
       "    </tr>\n",
       "  </tbody>\n",
       "</table>\n",
       "<p>5 rows × 25 columns</p>\n",
       "</div>"
      ],
      "text/plain": [
       "Specie       Date Country          City  aqi   co  dew  humidity  mepaqi  \\\n",
       "0      2019-12-30      AE     Abu Dhabi  NaN  0.1  NaN       NaN     NaN   \n",
       "1      2019-12-30      AE         Dubai  NaN  NaN  NaN       NaN     NaN   \n",
       "2      2019-12-30      AF         Kabul  NaN  NaN  NaN       NaN     NaN   \n",
       "3      2019-12-30      AR  Buenos Aires  NaN  3.8  NaN       NaN     NaN   \n",
       "4      2019-12-30      AT          Graz  NaN  0.1  NaN       NaN     NaN   \n",
       "\n",
       "Specie  neph   no2  ...  precipitation  pressure  so2  temperature  uvi  wd  \\\n",
       "0        NaN  19.2  ...            NaN       NaN  6.1          NaN  NaN NaN   \n",
       "1        NaN   NaN  ...            NaN       NaN  NaN          NaN  NaN NaN   \n",
       "2        NaN   NaN  ...            NaN       NaN  NaN          NaN  NaN NaN   \n",
       "3        NaN   7.4  ...            NaN       NaN  NaN          NaN  NaN NaN   \n",
       "4        NaN  16.5  ...            NaN       NaN  1.1          NaN  NaN NaN   \n",
       "\n",
       "Specie  wind gust  wind speed  wind-gust  wind-speed  \n",
       "0             NaN         NaN        NaN         NaN  \n",
       "1             NaN         NaN        NaN         NaN  \n",
       "2             NaN         NaN        NaN         NaN  \n",
       "3             NaN         NaN        NaN         NaN  \n",
       "4             NaN         NaN        NaN         NaN  \n",
       "\n",
       "[5 rows x 25 columns]"
      ]
     },
     "execution_count": 84,
     "metadata": {},
     "output_type": "execute_result"
    }
   ],
   "source": [
    "print(data_df_2020_Q2.shape)\n",
    "data_df_2020_Q1.head()"
   ]
  },
  {
   "cell_type": "code",
   "execution_count": 85,
   "id": "4abc89dc",
   "metadata": {
    "execution": {
     "iopub.execute_input": "2025-01-09T17:55:24.280694Z",
     "iopub.status.busy": "2025-01-09T17:55:24.280331Z",
     "iopub.status.idle": "2025-01-09T17:55:24.295037Z",
     "shell.execute_reply": "2025-01-09T17:55:24.294075Z"
    },
    "executionInfo": {
     "elapsed": 8,
     "status": "ok",
     "timestamp": 1734445438399,
     "user": {
      "displayName": "Tahmida Majumder",
      "userId": "15415648085337204568"
     },
     "user_tz": -480
    },
    "id": "WjsOL4tsToWW",
    "outputId": "1956ceed-9f66-434f-c4a7-5a3d99b391ff",
    "papermill": {
     "duration": 0.065988,
     "end_time": "2025-01-09T17:55:24.296703",
     "exception": false,
     "start_time": "2025-01-09T17:55:24.230715",
     "status": "completed"
    },
    "tags": []
   },
   "outputs": [
    {
     "data": {
      "text/plain": [
       "Specie\n",
       "Date                 0\n",
       "Country              0\n",
       "City                 0\n",
       "aqi              58118\n",
       "co               22434\n",
       "dew              12453\n",
       "humidity            84\n",
       "mepaqi           59402\n",
       "neph             59304\n",
       "no2              11349\n",
       "o3               14440\n",
       "pm1              59138\n",
       "pm10             11078\n",
       "pm25              9389\n",
       "precipitation    52038\n",
       "pressure           309\n",
       "so2              18997\n",
       "temperature         71\n",
       "uvi              58494\n",
       "wd               55060\n",
       "wind gust        58877\n",
       "wind speed       58341\n",
       "wind-gust        26841\n",
       "wind-speed         763\n",
       "dtype: int64"
      ]
     },
     "execution_count": 85,
     "metadata": {},
     "output_type": "execute_result"
    }
   ],
   "source": [
    "data_df_2020_Q2.isnull().sum()"
   ]
  },
  {
   "cell_type": "code",
   "execution_count": null,
   "id": "df50691f",
   "metadata": {
    "id": "FWlYCoEQBLlt",
    "papermill": {
     "duration": 0.049041,
     "end_time": "2025-01-09T17:55:24.394048",
     "exception": false,
     "start_time": "2025-01-09T17:55:24.345007",
     "status": "completed"
    },
    "tags": []
   },
   "outputs": [],
   "source": []
  },
  {
   "cell_type": "markdown",
   "id": "cbba3d30",
   "metadata": {
    "id": "Oe30n0_jT2xM",
    "papermill": {
     "duration": 0.04784,
     "end_time": "2025-01-09T17:55:24.489920",
     "exception": false,
     "start_time": "2025-01-09T17:55:24.442080",
     "status": "completed"
    },
    "tags": []
   },
   "source": [
    "# 2020_Q3"
   ]
  },
  {
   "cell_type": "code",
   "execution_count": 86,
   "id": "d115f987",
   "metadata": {
    "execution": {
     "iopub.execute_input": "2025-01-09T17:55:24.647134Z",
     "iopub.status.busy": "2025-01-09T17:55:24.646742Z",
     "iopub.status.idle": "2025-01-09T17:55:25.224641Z",
     "shell.execute_reply": "2025-01-09T17:55:25.223577Z"
    },
    "executionInfo": {
     "elapsed": 1322,
     "status": "ok",
     "timestamp": 1734445439714,
     "user": {
      "displayName": "Tahmida Majumder",
      "userId": "15415648085337204568"
     },
     "user_tz": -480
    },
    "id": "kR-yJOqKT2xN",
    "outputId": "c8db1d56-6259-467c-d00f-3f411621b605",
    "papermill": {
     "duration": 0.689678,
     "end_time": "2025-01-09T17:55:25.230800",
     "exception": false,
     "start_time": "2025-01-09T17:55:24.541122",
     "status": "completed"
    },
    "tags": []
   },
   "outputs": [
    {
     "name": "stdout",
     "output_type": "stream",
     "text": [
      "(598100, 5)\n"
     ]
    },
    {
     "data": {
      "text/html": [
       "<div>\n",
       "<style scoped>\n",
       "    .dataframe tbody tr th:only-of-type {\n",
       "        vertical-align: middle;\n",
       "    }\n",
       "\n",
       "    .dataframe tbody tr th {\n",
       "        vertical-align: top;\n",
       "    }\n",
       "\n",
       "    .dataframe thead th {\n",
       "        text-align: right;\n",
       "    }\n",
       "</style>\n",
       "<table border=\"1\" class=\"dataframe\">\n",
       "  <thead>\n",
       "    <tr style=\"text-align: right;\">\n",
       "      <th></th>\n",
       "      <th>Date</th>\n",
       "      <th>Country</th>\n",
       "      <th>City</th>\n",
       "      <th>Specie</th>\n",
       "      <th>median</th>\n",
       "    </tr>\n",
       "  </thead>\n",
       "  <tbody>\n",
       "    <tr>\n",
       "      <th>0</th>\n",
       "      <td>8/16/2020</td>\n",
       "      <td>UA</td>\n",
       "      <td>Odessa</td>\n",
       "      <td>pm10</td>\n",
       "      <td>7.0</td>\n",
       "    </tr>\n",
       "    <tr>\n",
       "      <th>1</th>\n",
       "      <td>8/18/2020</td>\n",
       "      <td>UA</td>\n",
       "      <td>Odessa</td>\n",
       "      <td>pm10</td>\n",
       "      <td>5.0</td>\n",
       "    </tr>\n",
       "    <tr>\n",
       "      <th>2</th>\n",
       "      <td>8/24/2020</td>\n",
       "      <td>UA</td>\n",
       "      <td>Odessa</td>\n",
       "      <td>pm10</td>\n",
       "      <td>5.0</td>\n",
       "    </tr>\n",
       "    <tr>\n",
       "      <th>3</th>\n",
       "      <td>8/25/2020</td>\n",
       "      <td>UA</td>\n",
       "      <td>Odessa</td>\n",
       "      <td>pm10</td>\n",
       "      <td>6.0</td>\n",
       "    </tr>\n",
       "    <tr>\n",
       "      <th>4</th>\n",
       "      <td>8/26/2020</td>\n",
       "      <td>UA</td>\n",
       "      <td>Odessa</td>\n",
       "      <td>pm10</td>\n",
       "      <td>5.0</td>\n",
       "    </tr>\n",
       "    <tr>\n",
       "      <th>5</th>\n",
       "      <td>8/28/2020</td>\n",
       "      <td>UA</td>\n",
       "      <td>Odessa</td>\n",
       "      <td>pm10</td>\n",
       "      <td>5.0</td>\n",
       "    </tr>\n",
       "    <tr>\n",
       "      <th>6</th>\n",
       "      <td>8/13/2020</td>\n",
       "      <td>UA</td>\n",
       "      <td>Odessa</td>\n",
       "      <td>pm10</td>\n",
       "      <td>4.0</td>\n",
       "    </tr>\n",
       "    <tr>\n",
       "      <th>7</th>\n",
       "      <td>8/14/2020</td>\n",
       "      <td>UA</td>\n",
       "      <td>Odessa</td>\n",
       "      <td>pm10</td>\n",
       "      <td>5.0</td>\n",
       "    </tr>\n",
       "    <tr>\n",
       "      <th>8</th>\n",
       "      <td>8/19/2020</td>\n",
       "      <td>UA</td>\n",
       "      <td>Odessa</td>\n",
       "      <td>pm10</td>\n",
       "      <td>7.0</td>\n",
       "    </tr>\n",
       "    <tr>\n",
       "      <th>9</th>\n",
       "      <td>8/27/2020</td>\n",
       "      <td>UA</td>\n",
       "      <td>Odessa</td>\n",
       "      <td>pm10</td>\n",
       "      <td>7.0</td>\n",
       "    </tr>\n",
       "  </tbody>\n",
       "</table>\n",
       "</div>"
      ],
      "text/plain": [
       "        Date Country    City Specie  median\n",
       "0  8/16/2020      UA  Odessa   pm10     7.0\n",
       "1  8/18/2020      UA  Odessa   pm10     5.0\n",
       "2  8/24/2020      UA  Odessa   pm10     5.0\n",
       "3  8/25/2020      UA  Odessa   pm10     6.0\n",
       "4  8/26/2020      UA  Odessa   pm10     5.0\n",
       "5  8/28/2020      UA  Odessa   pm10     5.0\n",
       "6  8/13/2020      UA  Odessa   pm10     4.0\n",
       "7  8/14/2020      UA  Odessa   pm10     5.0\n",
       "8  8/19/2020      UA  Odessa   pm10     7.0\n",
       "9  8/27/2020      UA  Odessa   pm10     7.0"
      ]
     },
     "execution_count": 86,
     "metadata": {},
     "output_type": "execute_result"
    }
   ],
   "source": [
    "# Loading the data\n",
    "raw_data_2020_Q3 = pd.read_csv(r\"/kaggle/input/complete-raw-median/waqi-covid19-airqualitydata-2020Q3.csv\")\n",
    "\n",
    "# print the shape\n",
    "print(raw_data_2020_Q3.shape)\n",
    "\n",
    "#runs the first 5 rows\n",
    "raw_data_2020_Q3.head(10)"
   ]
  },
  {
   "cell_type": "code",
   "execution_count": 87,
   "id": "dd364b8e",
   "metadata": {
    "execution": {
     "iopub.execute_input": "2025-01-09T17:55:25.329939Z",
     "iopub.status.busy": "2025-01-09T17:55:25.329507Z",
     "iopub.status.idle": "2025-01-09T17:55:25.431114Z",
     "shell.execute_reply": "2025-01-09T17:55:25.429999Z"
    },
    "id": "P1LXqvwgT2xN",
    "papermill": {
     "duration": 0.152624,
     "end_time": "2025-01-09T17:55:25.433103",
     "exception": false,
     "start_time": "2025-01-09T17:55:25.280479",
     "status": "completed"
    },
    "tags": []
   },
   "outputs": [],
   "source": [
    "# Convert 'Date' to datetime\n",
    "raw_data_2020_Q3['Date'] = pd.to_datetime(raw_data_2020_Q3['Date'])"
   ]
  },
  {
   "cell_type": "code",
   "execution_count": 88,
   "id": "2320b514",
   "metadata": {
    "execution": {
     "iopub.execute_input": "2025-01-09T17:55:25.532578Z",
     "iopub.status.busy": "2025-01-09T17:55:25.532236Z",
     "iopub.status.idle": "2025-01-09T17:55:25.537718Z",
     "shell.execute_reply": "2025-01-09T17:55:25.536729Z"
    },
    "executionInfo": {
     "elapsed": 7,
     "status": "ok",
     "timestamp": 1734445439714,
     "user": {
      "displayName": "Tahmida Majumder",
      "userId": "15415648085337204568"
     },
     "user_tz": -480
    },
    "id": "1xuoEFgCT2xN",
    "outputId": "a8e84f99-c3c3-40a7-9abe-543b5e3ab17d",
    "papermill": {
     "duration": 0.05787,
     "end_time": "2025-01-09T17:55:25.539449",
     "exception": false,
     "start_time": "2025-01-09T17:55:25.481579",
     "status": "completed"
    },
    "tags": []
   },
   "outputs": [
    {
     "data": {
      "text/plain": [
       "(598100, 5)"
      ]
     },
     "execution_count": 88,
     "metadata": {},
     "output_type": "execute_result"
    }
   ],
   "source": [
    "raw_data_2020_Q3.shape"
   ]
  },
  {
   "cell_type": "code",
   "execution_count": 89,
   "id": "e58658cf",
   "metadata": {
    "execution": {
     "iopub.execute_input": "2025-01-09T17:55:25.641502Z",
     "iopub.status.busy": "2025-01-09T17:55:25.641137Z",
     "iopub.status.idle": "2025-01-09T17:55:26.096709Z",
     "shell.execute_reply": "2025-01-09T17:55:26.095863Z"
    },
    "id": "b3f4bsOuT2xO",
    "papermill": {
     "duration": 0.510224,
     "end_time": "2025-01-09T17:55:26.098799",
     "exception": false,
     "start_time": "2025-01-09T17:55:25.588575",
     "status": "completed"
    },
    "tags": []
   },
   "outputs": [],
   "source": [
    "# Pivot the data\n",
    "data_df_2020_Q3 = raw_data_2020_Q3.pivot_table(\n",
    "    index=['Date', 'Country', 'City'],  # Grouping columns\n",
    "    columns='Specie',                  # Unique values become columns\n",
    "    values='median',                   # Values to aggregate\n",
    "    aggfunc='mean'                     # Aggregation function\n",
    ").reset_index()"
   ]
  },
  {
   "cell_type": "code",
   "execution_count": 90,
   "id": "5a54c28a",
   "metadata": {
    "execution": {
     "iopub.execute_input": "2025-01-09T17:55:26.201459Z",
     "iopub.status.busy": "2025-01-09T17:55:26.201081Z",
     "iopub.status.idle": "2025-01-09T17:55:26.226589Z",
     "shell.execute_reply": "2025-01-09T17:55:26.225512Z"
    },
    "executionInfo": {
     "elapsed": 11,
     "status": "ok",
     "timestamp": 1734445440164,
     "user": {
      "displayName": "Tahmida Majumder",
      "userId": "15415648085337204568"
     },
     "user_tz": -480
    },
    "id": "s2sgLso6T2xO",
    "outputId": "89c37051-abc5-4b15-952a-9f50373cf363",
    "papermill": {
     "duration": 0.079593,
     "end_time": "2025-01-09T17:55:26.228170",
     "exception": false,
     "start_time": "2025-01-09T17:55:26.148577",
     "status": "completed"
    },
    "tags": []
   },
   "outputs": [
    {
     "name": "stdout",
     "output_type": "stream",
     "text": [
      "(59172, 22)\n"
     ]
    },
    {
     "data": {
      "text/html": [
       "<div>\n",
       "<style scoped>\n",
       "    .dataframe tbody tr th:only-of-type {\n",
       "        vertical-align: middle;\n",
       "    }\n",
       "\n",
       "    .dataframe tbody tr th {\n",
       "        vertical-align: top;\n",
       "    }\n",
       "\n",
       "    .dataframe thead th {\n",
       "        text-align: right;\n",
       "    }\n",
       "</style>\n",
       "<table border=\"1\" class=\"dataframe\">\n",
       "  <thead>\n",
       "    <tr style=\"text-align: right;\">\n",
       "      <th>Specie</th>\n",
       "      <th>Date</th>\n",
       "      <th>Country</th>\n",
       "      <th>City</th>\n",
       "      <th>aqi</th>\n",
       "      <th>co</th>\n",
       "      <th>dew</th>\n",
       "      <th>humidity</th>\n",
       "      <th>mepaqi</th>\n",
       "      <th>neph</th>\n",
       "      <th>no2</th>\n",
       "      <th>...</th>\n",
       "      <th>pm10</th>\n",
       "      <th>pm25</th>\n",
       "      <th>precipitation</th>\n",
       "      <th>pressure</th>\n",
       "      <th>so2</th>\n",
       "      <th>temperature</th>\n",
       "      <th>uvi</th>\n",
       "      <th>wd</th>\n",
       "      <th>wind-gust</th>\n",
       "      <th>wind-speed</th>\n",
       "    </tr>\n",
       "  </thead>\n",
       "  <tbody>\n",
       "    <tr>\n",
       "      <th>0</th>\n",
       "      <td>2020-06-29</td>\n",
       "      <td>AE</td>\n",
       "      <td>Abu Dhabi</td>\n",
       "      <td>NaN</td>\n",
       "      <td>0.1</td>\n",
       "      <td>25.0</td>\n",
       "      <td>50.0</td>\n",
       "      <td>NaN</td>\n",
       "      <td>NaN</td>\n",
       "      <td>6.4</td>\n",
       "      <td>...</td>\n",
       "      <td>100.0</td>\n",
       "      <td>97.0</td>\n",
       "      <td>NaN</td>\n",
       "      <td>997.0</td>\n",
       "      <td>4.1</td>\n",
       "      <td>36.0</td>\n",
       "      <td>NaN</td>\n",
       "      <td>NaN</td>\n",
       "      <td>NaN</td>\n",
       "      <td>2.0</td>\n",
       "    </tr>\n",
       "    <tr>\n",
       "      <th>1</th>\n",
       "      <td>2020-06-29</td>\n",
       "      <td>AE</td>\n",
       "      <td>Dubai</td>\n",
       "      <td>NaN</td>\n",
       "      <td>NaN</td>\n",
       "      <td>26.0</td>\n",
       "      <td>56.0</td>\n",
       "      <td>NaN</td>\n",
       "      <td>NaN</td>\n",
       "      <td>NaN</td>\n",
       "      <td>...</td>\n",
       "      <td>NaN</td>\n",
       "      <td>155.0</td>\n",
       "      <td>NaN</td>\n",
       "      <td>996.0</td>\n",
       "      <td>NaN</td>\n",
       "      <td>35.0</td>\n",
       "      <td>NaN</td>\n",
       "      <td>NaN</td>\n",
       "      <td>NaN</td>\n",
       "      <td>2.5</td>\n",
       "    </tr>\n",
       "    <tr>\n",
       "      <th>2</th>\n",
       "      <td>2020-06-29</td>\n",
       "      <td>AF</td>\n",
       "      <td>Kabul</td>\n",
       "      <td>NaN</td>\n",
       "      <td>NaN</td>\n",
       "      <td>-2.0</td>\n",
       "      <td>25.0</td>\n",
       "      <td>NaN</td>\n",
       "      <td>NaN</td>\n",
       "      <td>NaN</td>\n",
       "      <td>...</td>\n",
       "      <td>NaN</td>\n",
       "      <td>85.0</td>\n",
       "      <td>NaN</td>\n",
       "      <td>1013.0</td>\n",
       "      <td>NaN</td>\n",
       "      <td>25.0</td>\n",
       "      <td>NaN</td>\n",
       "      <td>NaN</td>\n",
       "      <td>12.8</td>\n",
       "      <td>5.1</td>\n",
       "    </tr>\n",
       "    <tr>\n",
       "      <th>3</th>\n",
       "      <td>2020-06-29</td>\n",
       "      <td>AR</td>\n",
       "      <td>Buenos Aires</td>\n",
       "      <td>NaN</td>\n",
       "      <td>2.7</td>\n",
       "      <td>6.8</td>\n",
       "      <td>78.0</td>\n",
       "      <td>NaN</td>\n",
       "      <td>NaN</td>\n",
       "      <td>11.9</td>\n",
       "      <td>...</td>\n",
       "      <td>8.0</td>\n",
       "      <td>17.0</td>\n",
       "      <td>NaN</td>\n",
       "      <td>1016.4</td>\n",
       "      <td>0.6</td>\n",
       "      <td>11.1</td>\n",
       "      <td>NaN</td>\n",
       "      <td>112.5</td>\n",
       "      <td>10.6</td>\n",
       "      <td>5.6</td>\n",
       "    </tr>\n",
       "    <tr>\n",
       "      <th>4</th>\n",
       "      <td>2020-06-29</td>\n",
       "      <td>AT</td>\n",
       "      <td>Graz</td>\n",
       "      <td>NaN</td>\n",
       "      <td>0.1</td>\n",
       "      <td>16.8</td>\n",
       "      <td>80.5</td>\n",
       "      <td>NaN</td>\n",
       "      <td>NaN</td>\n",
       "      <td>6.0</td>\n",
       "      <td>...</td>\n",
       "      <td>10.0</td>\n",
       "      <td>NaN</td>\n",
       "      <td>2.1</td>\n",
       "      <td>969.5</td>\n",
       "      <td>1.6</td>\n",
       "      <td>19.1</td>\n",
       "      <td>NaN</td>\n",
       "      <td>NaN</td>\n",
       "      <td>4.0</td>\n",
       "      <td>1.0</td>\n",
       "    </tr>\n",
       "  </tbody>\n",
       "</table>\n",
       "<p>5 rows × 22 columns</p>\n",
       "</div>"
      ],
      "text/plain": [
       "Specie       Date Country          City  aqi   co   dew  humidity  mepaqi  \\\n",
       "0      2020-06-29      AE     Abu Dhabi  NaN  0.1  25.0      50.0     NaN   \n",
       "1      2020-06-29      AE         Dubai  NaN  NaN  26.0      56.0     NaN   \n",
       "2      2020-06-29      AF         Kabul  NaN  NaN  -2.0      25.0     NaN   \n",
       "3      2020-06-29      AR  Buenos Aires  NaN  2.7   6.8      78.0     NaN   \n",
       "4      2020-06-29      AT          Graz  NaN  0.1  16.8      80.5     NaN   \n",
       "\n",
       "Specie  neph   no2  ...   pm10   pm25  precipitation  pressure  so2  \\\n",
       "0        NaN   6.4  ...  100.0   97.0            NaN     997.0  4.1   \n",
       "1        NaN   NaN  ...    NaN  155.0            NaN     996.0  NaN   \n",
       "2        NaN   NaN  ...    NaN   85.0            NaN    1013.0  NaN   \n",
       "3        NaN  11.9  ...    8.0   17.0            NaN    1016.4  0.6   \n",
       "4        NaN   6.0  ...   10.0    NaN            2.1     969.5  1.6   \n",
       "\n",
       "Specie  temperature  uvi     wd  wind-gust  wind-speed  \n",
       "0              36.0  NaN    NaN        NaN         2.0  \n",
       "1              35.0  NaN    NaN        NaN         2.5  \n",
       "2              25.0  NaN    NaN       12.8         5.1  \n",
       "3              11.1  NaN  112.5       10.6         5.6  \n",
       "4              19.1  NaN    NaN        4.0         1.0  \n",
       "\n",
       "[5 rows x 22 columns]"
      ]
     },
     "execution_count": 90,
     "metadata": {},
     "output_type": "execute_result"
    }
   ],
   "source": [
    "print(data_df_2020_Q3.shape)\n",
    "data_df_2020_Q3.head()"
   ]
  },
  {
   "cell_type": "code",
   "execution_count": 91,
   "id": "86c8033c",
   "metadata": {
    "execution": {
     "iopub.execute_input": "2025-01-09T17:55:26.331217Z",
     "iopub.status.busy": "2025-01-09T17:55:26.330838Z",
     "iopub.status.idle": "2025-01-09T17:55:26.345690Z",
     "shell.execute_reply": "2025-01-09T17:55:26.344578Z"
    },
    "executionInfo": {
     "elapsed": 8,
     "status": "ok",
     "timestamp": 1734445440164,
     "user": {
      "displayName": "Tahmida Majumder",
      "userId": "15415648085337204568"
     },
     "user_tz": -480
    },
    "id": "nUdvyyH6T2xO",
    "outputId": "8ec35553-6095-4082-e566-d9f028326dc2",
    "papermill": {
     "duration": 0.068401,
     "end_time": "2025-01-09T17:55:26.347523",
     "exception": false,
     "start_time": "2025-01-09T17:55:26.279122",
     "status": "completed"
    },
    "tags": []
   },
   "outputs": [
    {
     "data": {
      "text/plain": [
       "Specie\n",
       "Date                 0\n",
       "Country              0\n",
       "City                 0\n",
       "aqi              57689\n",
       "co               22203\n",
       "dew              12016\n",
       "humidity            87\n",
       "mepaqi           59074\n",
       "neph             58976\n",
       "no2              11175\n",
       "o3               13982\n",
       "pm1              58848\n",
       "pm10             10889\n",
       "pm25              9314\n",
       "precipitation    51268\n",
       "pressure           426\n",
       "so2              18642\n",
       "temperature        106\n",
       "uvi              58291\n",
       "wd               54519\n",
       "wind-gust        27905\n",
       "wind-speed         758\n",
       "dtype: int64"
      ]
     },
     "execution_count": 91,
     "metadata": {},
     "output_type": "execute_result"
    }
   ],
   "source": [
    "data_df_2020_Q3.isnull().sum()"
   ]
  },
  {
   "cell_type": "code",
   "execution_count": null,
   "id": "f0d2d4a4",
   "metadata": {
    "id": "AaRID5BRBLoJ",
    "papermill": {
     "duration": 0.053496,
     "end_time": "2025-01-09T17:55:26.451775",
     "exception": false,
     "start_time": "2025-01-09T17:55:26.398279",
     "status": "completed"
    },
    "tags": []
   },
   "outputs": [],
   "source": []
  },
  {
   "cell_type": "markdown",
   "id": "0b678fd2",
   "metadata": {
    "id": "p4Ouvbl1UGVk",
    "papermill": {
     "duration": 0.049607,
     "end_time": "2025-01-09T17:55:26.556441",
     "exception": false,
     "start_time": "2025-01-09T17:55:26.506834",
     "status": "completed"
    },
    "tags": []
   },
   "source": [
    "# 2020_Q4"
   ]
  },
  {
   "cell_type": "code",
   "execution_count": 92,
   "id": "0979a59e",
   "metadata": {
    "execution": {
     "iopub.execute_input": "2025-01-09T17:55:26.660060Z",
     "iopub.status.busy": "2025-01-09T17:55:26.659666Z",
     "iopub.status.idle": "2025-01-09T17:55:27.268728Z",
     "shell.execute_reply": "2025-01-09T17:55:27.267412Z"
    },
    "executionInfo": {
     "elapsed": 422,
     "status": "ok",
     "timestamp": 1734445440580,
     "user": {
      "displayName": "Tahmida Majumder",
      "userId": "15415648085337204568"
     },
     "user_tz": -480
    },
    "id": "i4NjDJ1PUGVl",
    "outputId": "100b89a1-4150-4a15-82cb-928de516c328",
    "papermill": {
     "duration": 0.663585,
     "end_time": "2025-01-09T17:55:27.270639",
     "exception": false,
     "start_time": "2025-01-09T17:55:26.607054",
     "status": "completed"
    },
    "tags": []
   },
   "outputs": [
    {
     "name": "stdout",
     "output_type": "stream",
     "text": [
      "(586937, 5)\n"
     ]
    },
    {
     "data": {
      "text/html": [
       "<div>\n",
       "<style scoped>\n",
       "    .dataframe tbody tr th:only-of-type {\n",
       "        vertical-align: middle;\n",
       "    }\n",
       "\n",
       "    .dataframe tbody tr th {\n",
       "        vertical-align: top;\n",
       "    }\n",
       "\n",
       "    .dataframe thead th {\n",
       "        text-align: right;\n",
       "    }\n",
       "</style>\n",
       "<table border=\"1\" class=\"dataframe\">\n",
       "  <thead>\n",
       "    <tr style=\"text-align: right;\">\n",
       "      <th></th>\n",
       "      <th>Date</th>\n",
       "      <th>Country</th>\n",
       "      <th>City</th>\n",
       "      <th>Specie</th>\n",
       "      <th>median</th>\n",
       "    </tr>\n",
       "  </thead>\n",
       "  <tbody>\n",
       "    <tr>\n",
       "      <th>0</th>\n",
       "      <td>12/23/2020</td>\n",
       "      <td>ET</td>\n",
       "      <td>Addis Ababa</td>\n",
       "      <td>pm25</td>\n",
       "      <td>46.0</td>\n",
       "    </tr>\n",
       "    <tr>\n",
       "      <th>1</th>\n",
       "      <td>10/12/2020</td>\n",
       "      <td>ET</td>\n",
       "      <td>Addis Ababa</td>\n",
       "      <td>pm25</td>\n",
       "      <td>68.0</td>\n",
       "    </tr>\n",
       "    <tr>\n",
       "      <th>2</th>\n",
       "      <td>10/17/2020</td>\n",
       "      <td>ET</td>\n",
       "      <td>Addis Ababa</td>\n",
       "      <td>pm25</td>\n",
       "      <td>72.0</td>\n",
       "    </tr>\n",
       "    <tr>\n",
       "      <th>3</th>\n",
       "      <td>11/25/2020</td>\n",
       "      <td>ET</td>\n",
       "      <td>Addis Ababa</td>\n",
       "      <td>pm25</td>\n",
       "      <td>68.0</td>\n",
       "    </tr>\n",
       "    <tr>\n",
       "      <th>4</th>\n",
       "      <td>11/27/2020</td>\n",
       "      <td>ET</td>\n",
       "      <td>Addis Ababa</td>\n",
       "      <td>pm25</td>\n",
       "      <td>46.0</td>\n",
       "    </tr>\n",
       "    <tr>\n",
       "      <th>5</th>\n",
       "      <td>12/9/2020</td>\n",
       "      <td>ET</td>\n",
       "      <td>Addis Ababa</td>\n",
       "      <td>pm25</td>\n",
       "      <td>46.0</td>\n",
       "    </tr>\n",
       "    <tr>\n",
       "      <th>6</th>\n",
       "      <td>10/25/2020</td>\n",
       "      <td>ET</td>\n",
       "      <td>Addis Ababa</td>\n",
       "      <td>pm25</td>\n",
       "      <td>61.0</td>\n",
       "    </tr>\n",
       "    <tr>\n",
       "      <th>7</th>\n",
       "      <td>10/31/2020</td>\n",
       "      <td>ET</td>\n",
       "      <td>Addis Ababa</td>\n",
       "      <td>pm25</td>\n",
       "      <td>53.0</td>\n",
       "    </tr>\n",
       "    <tr>\n",
       "      <th>8</th>\n",
       "      <td>10/18/2020</td>\n",
       "      <td>ET</td>\n",
       "      <td>Addis Ababa</td>\n",
       "      <td>pm25</td>\n",
       "      <td>70.0</td>\n",
       "    </tr>\n",
       "    <tr>\n",
       "      <th>9</th>\n",
       "      <td>11/8/2020</td>\n",
       "      <td>ET</td>\n",
       "      <td>Addis Ababa</td>\n",
       "      <td>pm25</td>\n",
       "      <td>55.0</td>\n",
       "    </tr>\n",
       "  </tbody>\n",
       "</table>\n",
       "</div>"
      ],
      "text/plain": [
       "         Date Country         City Specie  median\n",
       "0  12/23/2020      ET  Addis Ababa   pm25    46.0\n",
       "1  10/12/2020      ET  Addis Ababa   pm25    68.0\n",
       "2  10/17/2020      ET  Addis Ababa   pm25    72.0\n",
       "3  11/25/2020      ET  Addis Ababa   pm25    68.0\n",
       "4  11/27/2020      ET  Addis Ababa   pm25    46.0\n",
       "5   12/9/2020      ET  Addis Ababa   pm25    46.0\n",
       "6  10/25/2020      ET  Addis Ababa   pm25    61.0\n",
       "7  10/31/2020      ET  Addis Ababa   pm25    53.0\n",
       "8  10/18/2020      ET  Addis Ababa   pm25    70.0\n",
       "9   11/8/2020      ET  Addis Ababa   pm25    55.0"
      ]
     },
     "execution_count": 92,
     "metadata": {},
     "output_type": "execute_result"
    }
   ],
   "source": [
    "# Loading the data\n",
    "raw_data_2020_Q4 = pd.read_csv(r\"/kaggle/input/complete-raw-median/waqi-covid19-airqualitydata-2020Q4.csv\")\n",
    "\n",
    "# print the shape\n",
    "print(raw_data_2020_Q4.shape)\n",
    "\n",
    "#runs the first 5 rows\n",
    "raw_data_2020_Q4.head(10)"
   ]
  },
  {
   "cell_type": "code",
   "execution_count": 93,
   "id": "a22cb877",
   "metadata": {
    "execution": {
     "iopub.execute_input": "2025-01-09T17:55:27.381834Z",
     "iopub.status.busy": "2025-01-09T17:55:27.381391Z",
     "iopub.status.idle": "2025-01-09T17:55:27.467093Z",
     "shell.execute_reply": "2025-01-09T17:55:27.465901Z"
    },
    "id": "ZvXbzhK4UGVl",
    "papermill": {
     "duration": 0.143783,
     "end_time": "2025-01-09T17:55:27.469241",
     "exception": false,
     "start_time": "2025-01-09T17:55:27.325458",
     "status": "completed"
    },
    "tags": []
   },
   "outputs": [],
   "source": [
    "# Convert 'Date' to datetime\n",
    "raw_data_2020_Q4['Date'] = pd.to_datetime(raw_data_2020_Q4['Date'])"
   ]
  },
  {
   "cell_type": "code",
   "execution_count": 94,
   "id": "62eef0da",
   "metadata": {
    "execution": {
     "iopub.execute_input": "2025-01-09T17:55:27.572994Z",
     "iopub.status.busy": "2025-01-09T17:55:27.572609Z",
     "iopub.status.idle": "2025-01-09T17:55:27.578243Z",
     "shell.execute_reply": "2025-01-09T17:55:27.577416Z"
    },
    "executionInfo": {
     "elapsed": 7,
     "status": "ok",
     "timestamp": 1734445440580,
     "user": {
      "displayName": "Tahmida Majumder",
      "userId": "15415648085337204568"
     },
     "user_tz": -480
    },
    "id": "VqKup5l4UGVl",
    "outputId": "7240289d-f562-40ab-e873-525624b6674f",
    "papermill": {
     "duration": 0.057936,
     "end_time": "2025-01-09T17:55:27.579716",
     "exception": false,
     "start_time": "2025-01-09T17:55:27.521780",
     "status": "completed"
    },
    "tags": []
   },
   "outputs": [
    {
     "data": {
      "text/plain": [
       "(586937, 5)"
      ]
     },
     "execution_count": 94,
     "metadata": {},
     "output_type": "execute_result"
    }
   ],
   "source": [
    "raw_data_2020_Q4.shape"
   ]
  },
  {
   "cell_type": "code",
   "execution_count": 95,
   "id": "695da97e",
   "metadata": {
    "execution": {
     "iopub.execute_input": "2025-01-09T17:55:27.684313Z",
     "iopub.status.busy": "2025-01-09T17:55:27.683984Z",
     "iopub.status.idle": "2025-01-09T17:55:28.106606Z",
     "shell.execute_reply": "2025-01-09T17:55:28.105556Z"
    },
    "id": "YJ_WLPDvUGVl",
    "papermill": {
     "duration": 0.476569,
     "end_time": "2025-01-09T17:55:28.108448",
     "exception": false,
     "start_time": "2025-01-09T17:55:27.631879",
     "status": "completed"
    },
    "tags": []
   },
   "outputs": [],
   "source": [
    "# Pivot the data\n",
    "data_df_2020_Q4 = raw_data_2020_Q4.pivot_table(\n",
    "    index=['Date', 'Country', 'City'],  # Grouping columns\n",
    "    columns='Specie',                  # Unique values become columns\n",
    "    values='median',                   # Values to aggregate\n",
    "    aggfunc='mean'                     # Aggregation function\n",
    ").reset_index()"
   ]
  },
  {
   "cell_type": "code",
   "execution_count": 96,
   "id": "aa8305aa",
   "metadata": {
    "execution": {
     "iopub.execute_input": "2025-01-09T17:55:28.211958Z",
     "iopub.status.busy": "2025-01-09T17:55:28.211555Z",
     "iopub.status.idle": "2025-01-09T17:55:28.237119Z",
     "shell.execute_reply": "2025-01-09T17:55:28.236042Z"
    },
    "executionInfo": {
     "elapsed": 11,
     "status": "ok",
     "timestamp": 1734445441522,
     "user": {
      "displayName": "Tahmida Majumder",
      "userId": "15415648085337204568"
     },
     "user_tz": -480
    },
    "id": "X62TzyIFUGVl",
    "outputId": "3909d5ca-b968-4fdc-ffa1-659da2426908",
    "papermill": {
     "duration": 0.08079,
     "end_time": "2025-01-09T17:55:28.238709",
     "exception": false,
     "start_time": "2025-01-09T17:55:28.157919",
     "status": "completed"
    },
    "tags": []
   },
   "outputs": [
    {
     "name": "stdout",
     "output_type": "stream",
     "text": [
      "(58362, 22)\n"
     ]
    },
    {
     "data": {
      "text/html": [
       "<div>\n",
       "<style scoped>\n",
       "    .dataframe tbody tr th:only-of-type {\n",
       "        vertical-align: middle;\n",
       "    }\n",
       "\n",
       "    .dataframe tbody tr th {\n",
       "        vertical-align: top;\n",
       "    }\n",
       "\n",
       "    .dataframe thead th {\n",
       "        text-align: right;\n",
       "    }\n",
       "</style>\n",
       "<table border=\"1\" class=\"dataframe\">\n",
       "  <thead>\n",
       "    <tr style=\"text-align: right;\">\n",
       "      <th>Specie</th>\n",
       "      <th>Date</th>\n",
       "      <th>Country</th>\n",
       "      <th>City</th>\n",
       "      <th>aqi</th>\n",
       "      <th>co</th>\n",
       "      <th>dew</th>\n",
       "      <th>humidity</th>\n",
       "      <th>mepaqi</th>\n",
       "      <th>neph</th>\n",
       "      <th>no2</th>\n",
       "      <th>...</th>\n",
       "      <th>pm10</th>\n",
       "      <th>pm25</th>\n",
       "      <th>precipitation</th>\n",
       "      <th>pressure</th>\n",
       "      <th>so2</th>\n",
       "      <th>temperature</th>\n",
       "      <th>uvi</th>\n",
       "      <th>wd</th>\n",
       "      <th>wind-gust</th>\n",
       "      <th>wind-speed</th>\n",
       "    </tr>\n",
       "  </thead>\n",
       "  <tbody>\n",
       "    <tr>\n",
       "      <th>0</th>\n",
       "      <td>2020-09-28</td>\n",
       "      <td>AE</td>\n",
       "      <td>Abu Dhabi</td>\n",
       "      <td>NaN</td>\n",
       "      <td>0.1</td>\n",
       "      <td>24.0</td>\n",
       "      <td>70.0</td>\n",
       "      <td>NaN</td>\n",
       "      <td>NaN</td>\n",
       "      <td>10.6</td>\n",
       "      <td>...</td>\n",
       "      <td>66.0</td>\n",
       "      <td>74.0</td>\n",
       "      <td>NaN</td>\n",
       "      <td>1005.0</td>\n",
       "      <td>4.6</td>\n",
       "      <td>32.0</td>\n",
       "      <td>NaN</td>\n",
       "      <td>NaN</td>\n",
       "      <td>NaN</td>\n",
       "      <td>2.5</td>\n",
       "    </tr>\n",
       "    <tr>\n",
       "      <th>1</th>\n",
       "      <td>2020-09-28</td>\n",
       "      <td>AE</td>\n",
       "      <td>Dubai</td>\n",
       "      <td>NaN</td>\n",
       "      <td>NaN</td>\n",
       "      <td>25.0</td>\n",
       "      <td>70.0</td>\n",
       "      <td>NaN</td>\n",
       "      <td>NaN</td>\n",
       "      <td>NaN</td>\n",
       "      <td>...</td>\n",
       "      <td>NaN</td>\n",
       "      <td>99.0</td>\n",
       "      <td>NaN</td>\n",
       "      <td>1005.0</td>\n",
       "      <td>NaN</td>\n",
       "      <td>32.0</td>\n",
       "      <td>NaN</td>\n",
       "      <td>NaN</td>\n",
       "      <td>NaN</td>\n",
       "      <td>2.0</td>\n",
       "    </tr>\n",
       "    <tr>\n",
       "      <th>2</th>\n",
       "      <td>2020-09-28</td>\n",
       "      <td>AF</td>\n",
       "      <td>Kabul</td>\n",
       "      <td>NaN</td>\n",
       "      <td>NaN</td>\n",
       "      <td>6.0</td>\n",
       "      <td>43.0</td>\n",
       "      <td>NaN</td>\n",
       "      <td>NaN</td>\n",
       "      <td>NaN</td>\n",
       "      <td>...</td>\n",
       "      <td>NaN</td>\n",
       "      <td>89.0</td>\n",
       "      <td>NaN</td>\n",
       "      <td>1019.0</td>\n",
       "      <td>NaN</td>\n",
       "      <td>17.0</td>\n",
       "      <td>NaN</td>\n",
       "      <td>NaN</td>\n",
       "      <td>NaN</td>\n",
       "      <td>3.0</td>\n",
       "    </tr>\n",
       "    <tr>\n",
       "      <th>3</th>\n",
       "      <td>2020-09-28</td>\n",
       "      <td>AR</td>\n",
       "      <td>Buenos Aires</td>\n",
       "      <td>NaN</td>\n",
       "      <td>4.4</td>\n",
       "      <td>4.1</td>\n",
       "      <td>50.3</td>\n",
       "      <td>NaN</td>\n",
       "      <td>NaN</td>\n",
       "      <td>6.9</td>\n",
       "      <td>...</td>\n",
       "      <td>12.0</td>\n",
       "      <td>21.0</td>\n",
       "      <td>NaN</td>\n",
       "      <td>1011.6</td>\n",
       "      <td>0.6</td>\n",
       "      <td>16.5</td>\n",
       "      <td>NaN</td>\n",
       "      <td>247.5</td>\n",
       "      <td>7.6</td>\n",
       "      <td>2.8</td>\n",
       "    </tr>\n",
       "    <tr>\n",
       "      <th>4</th>\n",
       "      <td>2020-09-28</td>\n",
       "      <td>AT</td>\n",
       "      <td>Graz</td>\n",
       "      <td>NaN</td>\n",
       "      <td>0.1</td>\n",
       "      <td>8.9</td>\n",
       "      <td>92.3</td>\n",
       "      <td>NaN</td>\n",
       "      <td>NaN</td>\n",
       "      <td>7.8</td>\n",
       "      <td>...</td>\n",
       "      <td>6.0</td>\n",
       "      <td>NaN</td>\n",
       "      <td>0.4</td>\n",
       "      <td>965.6</td>\n",
       "      <td>1.1</td>\n",
       "      <td>10.4</td>\n",
       "      <td>NaN</td>\n",
       "      <td>NaN</td>\n",
       "      <td>3.7</td>\n",
       "      <td>2.0</td>\n",
       "    </tr>\n",
       "  </tbody>\n",
       "</table>\n",
       "<p>5 rows × 22 columns</p>\n",
       "</div>"
      ],
      "text/plain": [
       "Specie       Date Country          City  aqi   co   dew  humidity  mepaqi  \\\n",
       "0      2020-09-28      AE     Abu Dhabi  NaN  0.1  24.0      70.0     NaN   \n",
       "1      2020-09-28      AE         Dubai  NaN  NaN  25.0      70.0     NaN   \n",
       "2      2020-09-28      AF         Kabul  NaN  NaN   6.0      43.0     NaN   \n",
       "3      2020-09-28      AR  Buenos Aires  NaN  4.4   4.1      50.3     NaN   \n",
       "4      2020-09-28      AT          Graz  NaN  0.1   8.9      92.3     NaN   \n",
       "\n",
       "Specie  neph   no2  ...  pm10  pm25  precipitation  pressure  so2  \\\n",
       "0        NaN  10.6  ...  66.0  74.0            NaN    1005.0  4.6   \n",
       "1        NaN   NaN  ...   NaN  99.0            NaN    1005.0  NaN   \n",
       "2        NaN   NaN  ...   NaN  89.0            NaN    1019.0  NaN   \n",
       "3        NaN   6.9  ...  12.0  21.0            NaN    1011.6  0.6   \n",
       "4        NaN   7.8  ...   6.0   NaN            0.4     965.6  1.1   \n",
       "\n",
       "Specie  temperature  uvi     wd  wind-gust  wind-speed  \n",
       "0              32.0  NaN    NaN        NaN         2.5  \n",
       "1              32.0  NaN    NaN        NaN         2.0  \n",
       "2              17.0  NaN    NaN        NaN         3.0  \n",
       "3              16.5  NaN  247.5        7.6         2.8  \n",
       "4              10.4  NaN    NaN        3.7         2.0  \n",
       "\n",
       "[5 rows x 22 columns]"
      ]
     },
     "execution_count": 96,
     "metadata": {},
     "output_type": "execute_result"
    }
   ],
   "source": [
    "print(data_df_2020_Q4.shape)\n",
    "data_df_2020_Q4.head()"
   ]
  },
  {
   "cell_type": "code",
   "execution_count": 97,
   "id": "bb1017ee",
   "metadata": {
    "execution": {
     "iopub.execute_input": "2025-01-09T17:55:28.344143Z",
     "iopub.status.busy": "2025-01-09T17:55:28.343785Z",
     "iopub.status.idle": "2025-01-09T17:55:28.357892Z",
     "shell.execute_reply": "2025-01-09T17:55:28.356847Z"
    },
    "executionInfo": {
     "elapsed": 8,
     "status": "ok",
     "timestamp": 1734445441523,
     "user": {
      "displayName": "Tahmida Majumder",
      "userId": "15415648085337204568"
     },
     "user_tz": -480
    },
    "id": "tWnkp8BJUGVm",
    "outputId": "e1e12277-e930-4b0d-cb8c-0d105953be31",
    "papermill": {
     "duration": 0.0688,
     "end_time": "2025-01-09T17:55:28.359667",
     "exception": false,
     "start_time": "2025-01-09T17:55:28.290867",
     "status": "completed"
    },
    "tags": []
   },
   "outputs": [
    {
     "data": {
      "text/plain": [
       "Specie\n",
       "Date                 0\n",
       "Country              0\n",
       "City                 0\n",
       "aqi              56864\n",
       "co               21639\n",
       "dew              11928\n",
       "humidity           150\n",
       "mepaqi           58264\n",
       "neph             58166\n",
       "no2              10851\n",
       "o3               14731\n",
       "pm1              58017\n",
       "pm10             10882\n",
       "pm25              8929\n",
       "precipitation    52342\n",
       "pressure           356\n",
       "so2              18883\n",
       "temperature        113\n",
       "uvi              57392\n",
       "wd               53565\n",
       "wind-gust        27934\n",
       "wind-speed         935\n",
       "dtype: int64"
      ]
     },
     "execution_count": 97,
     "metadata": {},
     "output_type": "execute_result"
    }
   ],
   "source": [
    "data_df_2020_Q4.isnull().sum()"
   ]
  },
  {
   "cell_type": "code",
   "execution_count": null,
   "id": "d427e21c",
   "metadata": {
    "id": "DWaMHJphBLrl",
    "papermill": {
     "duration": 0.052989,
     "end_time": "2025-01-09T17:55:28.463320",
     "exception": false,
     "start_time": "2025-01-09T17:55:28.410331",
     "status": "completed"
    },
    "tags": []
   },
   "outputs": [],
   "source": []
  },
  {
   "cell_type": "markdown",
   "id": "8164aa21",
   "metadata": {
    "id": "4vWuznNRUWPs",
    "papermill": {
     "duration": 0.050688,
     "end_time": "2025-01-09T17:55:28.568847",
     "exception": false,
     "start_time": "2025-01-09T17:55:28.518159",
     "status": "completed"
    },
    "tags": []
   },
   "source": [
    "# 2019_Q1"
   ]
  },
  {
   "cell_type": "code",
   "execution_count": 98,
   "id": "f5a6a7fb",
   "metadata": {
    "execution": {
     "iopub.execute_input": "2025-01-09T17:55:28.673476Z",
     "iopub.status.busy": "2025-01-09T17:55:28.673115Z",
     "iopub.status.idle": "2025-01-09T17:55:29.158349Z",
     "shell.execute_reply": "2025-01-09T17:55:29.157224Z"
    },
    "executionInfo": {
     "elapsed": 653,
     "status": "ok",
     "timestamp": 1734445442169,
     "user": {
      "displayName": "Tahmida Majumder",
      "userId": "15415648085337204568"
     },
     "user_tz": -480
    },
    "id": "lvL5BAUIUWPs",
    "outputId": "69a3a43d-79c3-40f2-8231-d27a30519c31",
    "papermill": {
     "duration": 0.539745,
     "end_time": "2025-01-09T17:55:29.160260",
     "exception": false,
     "start_time": "2025-01-09T17:55:28.620515",
     "status": "completed"
    },
    "tags": []
   },
   "outputs": [
    {
     "name": "stdout",
     "output_type": "stream",
     "text": [
      "(491161, 5)\n"
     ]
    },
    {
     "data": {
      "text/html": [
       "<div>\n",
       "<style scoped>\n",
       "    .dataframe tbody tr th:only-of-type {\n",
       "        vertical-align: middle;\n",
       "    }\n",
       "\n",
       "    .dataframe tbody tr th {\n",
       "        vertical-align: top;\n",
       "    }\n",
       "\n",
       "    .dataframe thead th {\n",
       "        text-align: right;\n",
       "    }\n",
       "</style>\n",
       "<table border=\"1\" class=\"dataframe\">\n",
       "  <thead>\n",
       "    <tr style=\"text-align: right;\">\n",
       "      <th></th>\n",
       "      <th>Date</th>\n",
       "      <th>Country</th>\n",
       "      <th>City</th>\n",
       "      <th>Specie</th>\n",
       "      <th>median</th>\n",
       "    </tr>\n",
       "  </thead>\n",
       "  <tbody>\n",
       "    <tr>\n",
       "      <th>0</th>\n",
       "      <td>1/16/2019</td>\n",
       "      <td>AE</td>\n",
       "      <td>Abu Dhabi</td>\n",
       "      <td>pm10</td>\n",
       "      <td>97.0</td>\n",
       "    </tr>\n",
       "    <tr>\n",
       "      <th>1</th>\n",
       "      <td>1/22/2019</td>\n",
       "      <td>AE</td>\n",
       "      <td>Abu Dhabi</td>\n",
       "      <td>pm10</td>\n",
       "      <td>55.0</td>\n",
       "    </tr>\n",
       "    <tr>\n",
       "      <th>2</th>\n",
       "      <td>1/26/2019</td>\n",
       "      <td>AE</td>\n",
       "      <td>Abu Dhabi</td>\n",
       "      <td>pm10</td>\n",
       "      <td>160.0</td>\n",
       "    </tr>\n",
       "    <tr>\n",
       "      <th>3</th>\n",
       "      <td>1/7/2019</td>\n",
       "      <td>AE</td>\n",
       "      <td>Abu Dhabi</td>\n",
       "      <td>pm10</td>\n",
       "      <td>72.0</td>\n",
       "    </tr>\n",
       "    <tr>\n",
       "      <th>4</th>\n",
       "      <td>1/10/2019</td>\n",
       "      <td>AE</td>\n",
       "      <td>Abu Dhabi</td>\n",
       "      <td>pm10</td>\n",
       "      <td>87.0</td>\n",
       "    </tr>\n",
       "    <tr>\n",
       "      <th>5</th>\n",
       "      <td>1/14/2019</td>\n",
       "      <td>AE</td>\n",
       "      <td>Abu Dhabi</td>\n",
       "      <td>pm10</td>\n",
       "      <td>74.0</td>\n",
       "    </tr>\n",
       "    <tr>\n",
       "      <th>6</th>\n",
       "      <td>1/15/2019</td>\n",
       "      <td>AE</td>\n",
       "      <td>Abu Dhabi</td>\n",
       "      <td>pm10</td>\n",
       "      <td>83.0</td>\n",
       "    </tr>\n",
       "    <tr>\n",
       "      <th>7</th>\n",
       "      <td>1/21/2019</td>\n",
       "      <td>AE</td>\n",
       "      <td>Abu Dhabi</td>\n",
       "      <td>pm10</td>\n",
       "      <td>58.0</td>\n",
       "    </tr>\n",
       "    <tr>\n",
       "      <th>8</th>\n",
       "      <td>1/8/2019</td>\n",
       "      <td>AE</td>\n",
       "      <td>Abu Dhabi</td>\n",
       "      <td>pm10</td>\n",
       "      <td>97.0</td>\n",
       "    </tr>\n",
       "    <tr>\n",
       "      <th>9</th>\n",
       "      <td>1/17/2019</td>\n",
       "      <td>AE</td>\n",
       "      <td>Abu Dhabi</td>\n",
       "      <td>pm10</td>\n",
       "      <td>77.0</td>\n",
       "    </tr>\n",
       "  </tbody>\n",
       "</table>\n",
       "</div>"
      ],
      "text/plain": [
       "        Date Country       City Specie  median\n",
       "0  1/16/2019      AE  Abu Dhabi   pm10    97.0\n",
       "1  1/22/2019      AE  Abu Dhabi   pm10    55.0\n",
       "2  1/26/2019      AE  Abu Dhabi   pm10   160.0\n",
       "3   1/7/2019      AE  Abu Dhabi   pm10    72.0\n",
       "4  1/10/2019      AE  Abu Dhabi   pm10    87.0\n",
       "5  1/14/2019      AE  Abu Dhabi   pm10    74.0\n",
       "6  1/15/2019      AE  Abu Dhabi   pm10    83.0\n",
       "7  1/21/2019      AE  Abu Dhabi   pm10    58.0\n",
       "8   1/8/2019      AE  Abu Dhabi   pm10    97.0\n",
       "9  1/17/2019      AE  Abu Dhabi   pm10    77.0"
      ]
     },
     "execution_count": 98,
     "metadata": {},
     "output_type": "execute_result"
    }
   ],
   "source": [
    "# Loading the data\n",
    "raw_data_2019_Q1 = pd.read_csv(r\"/kaggle/input/complete-raw-median/waqi-covid19-airqualitydata-2019Q1.csv\")\n",
    "\n",
    "# print the shape\n",
    "print(raw_data_2019_Q1.shape)\n",
    "\n",
    "#runs the first 5 rows\n",
    "raw_data_2019_Q1.head(10)"
   ]
  },
  {
   "cell_type": "code",
   "execution_count": 99,
   "id": "20bf9786",
   "metadata": {
    "execution": {
     "iopub.execute_input": "2025-01-09T17:55:29.265355Z",
     "iopub.status.busy": "2025-01-09T17:55:29.265022Z",
     "iopub.status.idle": "2025-01-09T17:55:29.334142Z",
     "shell.execute_reply": "2025-01-09T17:55:29.333028Z"
    },
    "id": "dGfJZYbrUWPs",
    "papermill": {
     "duration": 0.122587,
     "end_time": "2025-01-09T17:55:29.336051",
     "exception": false,
     "start_time": "2025-01-09T17:55:29.213464",
     "status": "completed"
    },
    "tags": []
   },
   "outputs": [],
   "source": [
    "# Convert 'Date' to datetime\n",
    "raw_data_2019_Q1['Date'] = pd.to_datetime(raw_data_2019_Q1['Date'])"
   ]
  },
  {
   "cell_type": "code",
   "execution_count": 100,
   "id": "b1ec8096",
   "metadata": {
    "execution": {
     "iopub.execute_input": "2025-01-09T17:55:29.440126Z",
     "iopub.status.busy": "2025-01-09T17:55:29.439706Z",
     "iopub.status.idle": "2025-01-09T17:55:29.445176Z",
     "shell.execute_reply": "2025-01-09T17:55:29.444163Z"
    },
    "executionInfo": {
     "elapsed": 7,
     "status": "ok",
     "timestamp": 1734445442169,
     "user": {
      "displayName": "Tahmida Majumder",
      "userId": "15415648085337204568"
     },
     "user_tz": -480
    },
    "id": "5f1QMtHrUWPs",
    "outputId": "a5ac0f2b-6aa8-4c51-e9b0-4772808281c8",
    "papermill": {
     "duration": 0.060355,
     "end_time": "2025-01-09T17:55:29.446842",
     "exception": false,
     "start_time": "2025-01-09T17:55:29.386487",
     "status": "completed"
    },
    "tags": []
   },
   "outputs": [
    {
     "data": {
      "text/plain": [
       "(491161, 5)"
      ]
     },
     "execution_count": 100,
     "metadata": {},
     "output_type": "execute_result"
    }
   ],
   "source": [
    "raw_data_2019_Q1.shape"
   ]
  },
  {
   "cell_type": "code",
   "execution_count": 101,
   "id": "c2451bd6",
   "metadata": {
    "execution": {
     "iopub.execute_input": "2025-01-09T17:55:29.548418Z",
     "iopub.status.busy": "2025-01-09T17:55:29.548083Z",
     "iopub.status.idle": "2025-01-09T17:55:29.891599Z",
     "shell.execute_reply": "2025-01-09T17:55:29.890592Z"
    },
    "id": "cBV6g4USUWPs",
    "papermill": {
     "duration": 0.39655,
     "end_time": "2025-01-09T17:55:29.893555",
     "exception": false,
     "start_time": "2025-01-09T17:55:29.497005",
     "status": "completed"
    },
    "tags": []
   },
   "outputs": [],
   "source": [
    "# Pivot the data\n",
    "data_df_2019_Q1 = raw_data_2019_Q1.pivot_table(\n",
    "    index=['Date', 'Country', 'City'],  # Grouping columns\n",
    "    columns='Specie',                  # Unique values become columns\n",
    "    values='median',                   # Values to aggregate\n",
    "    aggfunc='mean'                     # Aggregation function\n",
    ").reset_index()"
   ]
  },
  {
   "cell_type": "code",
   "execution_count": 102,
   "id": "f56e1021",
   "metadata": {
    "execution": {
     "iopub.execute_input": "2025-01-09T17:55:29.999138Z",
     "iopub.status.busy": "2025-01-09T17:55:29.998706Z",
     "iopub.status.idle": "2025-01-09T17:55:30.022828Z",
     "shell.execute_reply": "2025-01-09T17:55:30.021739Z"
    },
    "executionInfo": {
     "elapsed": 12,
     "status": "ok",
     "timestamp": 1734445442579,
     "user": {
      "displayName": "Tahmida Majumder",
      "userId": "15415648085337204568"
     },
     "user_tz": -480
    },
    "id": "g_kaIAN3UWPt",
    "outputId": "4dd78eaf-5e39-4ffc-c7a6-97139ca90ca7",
    "papermill": {
     "duration": 0.078973,
     "end_time": "2025-01-09T17:55:30.024446",
     "exception": false,
     "start_time": "2025-01-09T17:55:29.945473",
     "status": "completed"
    },
    "tags": []
   },
   "outputs": [
    {
     "name": "stdout",
     "output_type": "stream",
     "text": [
      "(49006, 22)\n"
     ]
    },
    {
     "data": {
      "text/html": [
       "<div>\n",
       "<style scoped>\n",
       "    .dataframe tbody tr th:only-of-type {\n",
       "        vertical-align: middle;\n",
       "    }\n",
       "\n",
       "    .dataframe tbody tr th {\n",
       "        vertical-align: top;\n",
       "    }\n",
       "\n",
       "    .dataframe thead th {\n",
       "        text-align: right;\n",
       "    }\n",
       "</style>\n",
       "<table border=\"1\" class=\"dataframe\">\n",
       "  <thead>\n",
       "    <tr style=\"text-align: right;\">\n",
       "      <th>Specie</th>\n",
       "      <th>Date</th>\n",
       "      <th>Country</th>\n",
       "      <th>City</th>\n",
       "      <th>aqi</th>\n",
       "      <th>co</th>\n",
       "      <th>dew</th>\n",
       "      <th>humidity</th>\n",
       "      <th>mepaqi</th>\n",
       "      <th>no2</th>\n",
       "      <th>o3</th>\n",
       "      <th>...</th>\n",
       "      <th>pm25</th>\n",
       "      <th>pol</th>\n",
       "      <th>precipitation</th>\n",
       "      <th>pressure</th>\n",
       "      <th>so2</th>\n",
       "      <th>temperature</th>\n",
       "      <th>uvi</th>\n",
       "      <th>wd</th>\n",
       "      <th>wind-gust</th>\n",
       "      <th>wind-speed</th>\n",
       "    </tr>\n",
       "  </thead>\n",
       "  <tbody>\n",
       "    <tr>\n",
       "      <th>0</th>\n",
       "      <td>2018-12-31</td>\n",
       "      <td>AE</td>\n",
       "      <td>Abu Dhabi</td>\n",
       "      <td>NaN</td>\n",
       "      <td>NaN</td>\n",
       "      <td>16.0</td>\n",
       "      <td>68.0</td>\n",
       "      <td>NaN</td>\n",
       "      <td>27.9</td>\n",
       "      <td>27.3</td>\n",
       "      <td>...</td>\n",
       "      <td>112.0</td>\n",
       "      <td>NaN</td>\n",
       "      <td>NaN</td>\n",
       "      <td>1019.0</td>\n",
       "      <td>4.6</td>\n",
       "      <td>22.0</td>\n",
       "      <td>NaN</td>\n",
       "      <td>NaN</td>\n",
       "      <td>NaN</td>\n",
       "      <td>2.0</td>\n",
       "    </tr>\n",
       "    <tr>\n",
       "      <th>1</th>\n",
       "      <td>2018-12-31</td>\n",
       "      <td>AR</td>\n",
       "      <td>Buenos Aires</td>\n",
       "      <td>NaN</td>\n",
       "      <td>NaN</td>\n",
       "      <td>14.0</td>\n",
       "      <td>0.0</td>\n",
       "      <td>NaN</td>\n",
       "      <td>NaN</td>\n",
       "      <td>NaN</td>\n",
       "      <td>...</td>\n",
       "      <td>NaN</td>\n",
       "      <td>NaN</td>\n",
       "      <td>NaN</td>\n",
       "      <td>0.0</td>\n",
       "      <td>NaN</td>\n",
       "      <td>0.0</td>\n",
       "      <td>NaN</td>\n",
       "      <td>0.0</td>\n",
       "      <td>11.3</td>\n",
       "      <td>5.0</td>\n",
       "    </tr>\n",
       "    <tr>\n",
       "      <th>2</th>\n",
       "      <td>2018-12-31</td>\n",
       "      <td>AT</td>\n",
       "      <td>Graz</td>\n",
       "      <td>NaN</td>\n",
       "      <td>0.1</td>\n",
       "      <td>NaN</td>\n",
       "      <td>70.2</td>\n",
       "      <td>NaN</td>\n",
       "      <td>14.2</td>\n",
       "      <td>NaN</td>\n",
       "      <td>...</td>\n",
       "      <td>NaN</td>\n",
       "      <td>NaN</td>\n",
       "      <td>NaN</td>\n",
       "      <td>1027.1</td>\n",
       "      <td>1.1</td>\n",
       "      <td>3.7</td>\n",
       "      <td>NaN</td>\n",
       "      <td>NaN</td>\n",
       "      <td>4.3</td>\n",
       "      <td>1.5</td>\n",
       "    </tr>\n",
       "    <tr>\n",
       "      <th>3</th>\n",
       "      <td>2018-12-31</td>\n",
       "      <td>AT</td>\n",
       "      <td>Innsbruck</td>\n",
       "      <td>NaN</td>\n",
       "      <td>0.1</td>\n",
       "      <td>0.5</td>\n",
       "      <td>93.0</td>\n",
       "      <td>NaN</td>\n",
       "      <td>30.7</td>\n",
       "      <td>NaN</td>\n",
       "      <td>...</td>\n",
       "      <td>NaN</td>\n",
       "      <td>NaN</td>\n",
       "      <td>NaN</td>\n",
       "      <td>1032.0</td>\n",
       "      <td>1.3</td>\n",
       "      <td>0.0</td>\n",
       "      <td>NaN</td>\n",
       "      <td>NaN</td>\n",
       "      <td>2.2</td>\n",
       "      <td>0.7</td>\n",
       "    </tr>\n",
       "    <tr>\n",
       "      <th>4</th>\n",
       "      <td>2018-12-31</td>\n",
       "      <td>AT</td>\n",
       "      <td>Linz</td>\n",
       "      <td>NaN</td>\n",
       "      <td>0.1</td>\n",
       "      <td>2.5</td>\n",
       "      <td>92.0</td>\n",
       "      <td>NaN</td>\n",
       "      <td>9.6</td>\n",
       "      <td>NaN</td>\n",
       "      <td>...</td>\n",
       "      <td>53.0</td>\n",
       "      <td>NaN</td>\n",
       "      <td>NaN</td>\n",
       "      <td>1031.0</td>\n",
       "      <td>7.1</td>\n",
       "      <td>3.3</td>\n",
       "      <td>NaN</td>\n",
       "      <td>NaN</td>\n",
       "      <td>2.5</td>\n",
       "      <td>1.2</td>\n",
       "    </tr>\n",
       "  </tbody>\n",
       "</table>\n",
       "<p>5 rows × 22 columns</p>\n",
       "</div>"
      ],
      "text/plain": [
       "Specie       Date Country          City  aqi   co   dew  humidity  mepaqi  \\\n",
       "0      2018-12-31      AE     Abu Dhabi  NaN  NaN  16.0      68.0     NaN   \n",
       "1      2018-12-31      AR  Buenos Aires  NaN  NaN  14.0       0.0     NaN   \n",
       "2      2018-12-31      AT          Graz  NaN  0.1   NaN      70.2     NaN   \n",
       "3      2018-12-31      AT     Innsbruck  NaN  0.1   0.5      93.0     NaN   \n",
       "4      2018-12-31      AT          Linz  NaN  0.1   2.5      92.0     NaN   \n",
       "\n",
       "Specie   no2    o3  ...   pm25  pol  precipitation  pressure  so2  \\\n",
       "0       27.9  27.3  ...  112.0  NaN            NaN    1019.0  4.6   \n",
       "1        NaN   NaN  ...    NaN  NaN            NaN       0.0  NaN   \n",
       "2       14.2   NaN  ...    NaN  NaN            NaN    1027.1  1.1   \n",
       "3       30.7   NaN  ...    NaN  NaN            NaN    1032.0  1.3   \n",
       "4        9.6   NaN  ...   53.0  NaN            NaN    1031.0  7.1   \n",
       "\n",
       "Specie  temperature  uvi   wd  wind-gust  wind-speed  \n",
       "0              22.0  NaN  NaN        NaN         2.0  \n",
       "1               0.0  NaN  0.0       11.3         5.0  \n",
       "2               3.7  NaN  NaN        4.3         1.5  \n",
       "3               0.0  NaN  NaN        2.2         0.7  \n",
       "4               3.3  NaN  NaN        2.5         1.2  \n",
       "\n",
       "[5 rows x 22 columns]"
      ]
     },
     "execution_count": 102,
     "metadata": {},
     "output_type": "execute_result"
    }
   ],
   "source": [
    "print(data_df_2019_Q1.shape)\n",
    "data_df_2019_Q1.head()"
   ]
  },
  {
   "cell_type": "code",
   "execution_count": 103,
   "id": "58fd9694",
   "metadata": {
    "execution": {
     "iopub.execute_input": "2025-01-09T17:55:30.130659Z",
     "iopub.status.busy": "2025-01-09T17:55:30.130275Z",
     "iopub.status.idle": "2025-01-09T17:55:30.143988Z",
     "shell.execute_reply": "2025-01-09T17:55:30.142867Z"
    },
    "executionInfo": {
     "elapsed": 9,
     "status": "ok",
     "timestamp": 1734445442579,
     "user": {
      "displayName": "Tahmida Majumder",
      "userId": "15415648085337204568"
     },
     "user_tz": -480
    },
    "id": "XgyHV654UWPt",
    "outputId": "e107e617-5ebc-495b-ac82-59a851117406",
    "papermill": {
     "duration": 0.069177,
     "end_time": "2025-01-09T17:55:30.145903",
     "exception": false,
     "start_time": "2025-01-09T17:55:30.076726",
     "status": "completed"
    },
    "tags": []
   },
   "outputs": [
    {
     "data": {
      "text/plain": [
       "Specie\n",
       "Date                 0\n",
       "Country              0\n",
       "City                 0\n",
       "aqi              47701\n",
       "co               17145\n",
       "dew              21593\n",
       "humidity           293\n",
       "mepaqi           48915\n",
       "no2               7765\n",
       "o3                9237\n",
       "pm1              48915\n",
       "pm10              9686\n",
       "pm25              7771\n",
       "pol              48812\n",
       "precipitation    45579\n",
       "pressure           526\n",
       "so2              13818\n",
       "temperature        280\n",
       "uvi              48084\n",
       "wd               43626\n",
       "wind-gust        16846\n",
       "wind-speed        3361\n",
       "dtype: int64"
      ]
     },
     "execution_count": 103,
     "metadata": {},
     "output_type": "execute_result"
    }
   ],
   "source": [
    "data_df_2019_Q1.isnull().sum()"
   ]
  },
  {
   "cell_type": "code",
   "execution_count": null,
   "id": "5643ee96",
   "metadata": {
    "id": "LmE5EK_BBLtg",
    "papermill": {
     "duration": 0.053372,
     "end_time": "2025-01-09T17:55:30.251889",
     "exception": false,
     "start_time": "2025-01-09T17:55:30.198517",
     "status": "completed"
    },
    "tags": []
   },
   "outputs": [],
   "source": []
  },
  {
   "cell_type": "markdown",
   "id": "917dbb24",
   "metadata": {
    "id": "Fa0XA693UvmX",
    "papermill": {
     "duration": 0.051736,
     "end_time": "2025-01-09T17:55:30.357702",
     "exception": false,
     "start_time": "2025-01-09T17:55:30.305966",
     "status": "completed"
    },
    "tags": []
   },
   "source": [
    "# 2019_Q2"
   ]
  },
  {
   "cell_type": "code",
   "execution_count": 104,
   "id": "5149fedd",
   "metadata": {
    "execution": {
     "iopub.execute_input": "2025-01-09T17:55:30.464124Z",
     "iopub.status.busy": "2025-01-09T17:55:30.463695Z",
     "iopub.status.idle": "2025-01-09T17:55:30.926813Z",
     "shell.execute_reply": "2025-01-09T17:55:30.925406Z"
    },
    "executionInfo": {
     "elapsed": 1504,
     "status": "ok",
     "timestamp": 1734445444075,
     "user": {
      "displayName": "Tahmida Majumder",
      "userId": "15415648085337204568"
     },
     "user_tz": -480
    },
    "id": "9_-gBvDPUvmX",
    "outputId": "321c62f3-8e0c-4b0c-bc66-54b1db61eca7",
    "papermill": {
     "duration": 0.517703,
     "end_time": "2025-01-09T17:55:30.928637",
     "exception": false,
     "start_time": "2025-01-09T17:55:30.410934",
     "status": "completed"
    },
    "tags": []
   },
   "outputs": [
    {
     "name": "stdout",
     "output_type": "stream",
     "text": [
      "(522904, 5)\n"
     ]
    },
    {
     "data": {
      "text/html": [
       "<div>\n",
       "<style scoped>\n",
       "    .dataframe tbody tr th:only-of-type {\n",
       "        vertical-align: middle;\n",
       "    }\n",
       "\n",
       "    .dataframe tbody tr th {\n",
       "        vertical-align: top;\n",
       "    }\n",
       "\n",
       "    .dataframe thead th {\n",
       "        text-align: right;\n",
       "    }\n",
       "</style>\n",
       "<table border=\"1\" class=\"dataframe\">\n",
       "  <thead>\n",
       "    <tr style=\"text-align: right;\">\n",
       "      <th></th>\n",
       "      <th>Date</th>\n",
       "      <th>Country</th>\n",
       "      <th>City</th>\n",
       "      <th>Specie</th>\n",
       "      <th>median</th>\n",
       "    </tr>\n",
       "  </thead>\n",
       "  <tbody>\n",
       "    <tr>\n",
       "      <th>0</th>\n",
       "      <td>5/10/2019</td>\n",
       "      <td>MO</td>\n",
       "      <td>Macau</td>\n",
       "      <td>o3</td>\n",
       "      <td>15.7</td>\n",
       "    </tr>\n",
       "    <tr>\n",
       "      <th>1</th>\n",
       "      <td>5/14/2019</td>\n",
       "      <td>MO</td>\n",
       "      <td>Macau</td>\n",
       "      <td>o3</td>\n",
       "      <td>10.1</td>\n",
       "    </tr>\n",
       "    <tr>\n",
       "      <th>2</th>\n",
       "      <td>5/15/2019</td>\n",
       "      <td>MO</td>\n",
       "      <td>Macau</td>\n",
       "      <td>o3</td>\n",
       "      <td>9.8</td>\n",
       "    </tr>\n",
       "    <tr>\n",
       "      <th>3</th>\n",
       "      <td>5/22/2019</td>\n",
       "      <td>MO</td>\n",
       "      <td>Macau</td>\n",
       "      <td>o3</td>\n",
       "      <td>36.0</td>\n",
       "    </tr>\n",
       "    <tr>\n",
       "      <th>4</th>\n",
       "      <td>5/29/2019</td>\n",
       "      <td>MO</td>\n",
       "      <td>Macau</td>\n",
       "      <td>o3</td>\n",
       "      <td>18.8</td>\n",
       "    </tr>\n",
       "    <tr>\n",
       "      <th>5</th>\n",
       "      <td>4/19/2019</td>\n",
       "      <td>MO</td>\n",
       "      <td>Macau</td>\n",
       "      <td>o3</td>\n",
       "      <td>16.1</td>\n",
       "    </tr>\n",
       "    <tr>\n",
       "      <th>6</th>\n",
       "      <td>4/22/2019</td>\n",
       "      <td>MO</td>\n",
       "      <td>Macau</td>\n",
       "      <td>o3</td>\n",
       "      <td>10.3</td>\n",
       "    </tr>\n",
       "    <tr>\n",
       "      <th>7</th>\n",
       "      <td>4/24/2019</td>\n",
       "      <td>MO</td>\n",
       "      <td>Macau</td>\n",
       "      <td>o3</td>\n",
       "      <td>12.2</td>\n",
       "    </tr>\n",
       "    <tr>\n",
       "      <th>8</th>\n",
       "      <td>5/7/2019</td>\n",
       "      <td>MO</td>\n",
       "      <td>Macau</td>\n",
       "      <td>o3</td>\n",
       "      <td>22.8</td>\n",
       "    </tr>\n",
       "    <tr>\n",
       "      <th>9</th>\n",
       "      <td>6/4/2019</td>\n",
       "      <td>MO</td>\n",
       "      <td>Macau</td>\n",
       "      <td>o3</td>\n",
       "      <td>10.1</td>\n",
       "    </tr>\n",
       "  </tbody>\n",
       "</table>\n",
       "</div>"
      ],
      "text/plain": [
       "        Date Country   City Specie  median\n",
       "0  5/10/2019      MO  Macau     o3    15.7\n",
       "1  5/14/2019      MO  Macau     o3    10.1\n",
       "2  5/15/2019      MO  Macau     o3     9.8\n",
       "3  5/22/2019      MO  Macau     o3    36.0\n",
       "4  5/29/2019      MO  Macau     o3    18.8\n",
       "5  4/19/2019      MO  Macau     o3    16.1\n",
       "6  4/22/2019      MO  Macau     o3    10.3\n",
       "7  4/24/2019      MO  Macau     o3    12.2\n",
       "8   5/7/2019      MO  Macau     o3    22.8\n",
       "9   6/4/2019      MO  Macau     o3    10.1"
      ]
     },
     "execution_count": 104,
     "metadata": {},
     "output_type": "execute_result"
    }
   ],
   "source": [
    "# Loading the data\n",
    "raw_data_2019_Q2 = pd.read_csv(r\"/kaggle/input/complete-raw-median/waqi-covid19-airqualitydata-2019Q2.csv\")\n",
    "\n",
    "# print the shape\n",
    "print(raw_data_2019_Q2.shape)\n",
    "\n",
    "#runs the first 5 rows\n",
    "raw_data_2019_Q2.head(10)"
   ]
  },
  {
   "cell_type": "code",
   "execution_count": 105,
   "id": "96e0fbd6",
   "metadata": {
    "execution": {
     "iopub.execute_input": "2025-01-09T17:55:31.031387Z",
     "iopub.status.busy": "2025-01-09T17:55:31.031008Z",
     "iopub.status.idle": "2025-01-09T17:55:31.103432Z",
     "shell.execute_reply": "2025-01-09T17:55:31.102339Z"
    },
    "id": "ISYacVaHUvmY",
    "papermill": {
     "duration": 0.125786,
     "end_time": "2025-01-09T17:55:31.105323",
     "exception": false,
     "start_time": "2025-01-09T17:55:30.979537",
     "status": "completed"
    },
    "tags": []
   },
   "outputs": [],
   "source": [
    "# Convert 'Date' to datetime\n",
    "raw_data_2019_Q2['Date'] = pd.to_datetime(raw_data_2019_Q2['Date'])"
   ]
  },
  {
   "cell_type": "code",
   "execution_count": 106,
   "id": "f7bd4d54",
   "metadata": {
    "execution": {
     "iopub.execute_input": "2025-01-09T17:55:31.210270Z",
     "iopub.status.busy": "2025-01-09T17:55:31.209945Z",
     "iopub.status.idle": "2025-01-09T17:55:31.215260Z",
     "shell.execute_reply": "2025-01-09T17:55:31.214444Z"
    },
    "executionInfo": {
     "elapsed": 10,
     "status": "ok",
     "timestamp": 1734445444076,
     "user": {
      "displayName": "Tahmida Majumder",
      "userId": "15415648085337204568"
     },
     "user_tz": -480
    },
    "id": "F79iK7hQUvmY",
    "outputId": "f9d409e3-9207-42e3-e810-248341fb99f8",
    "papermill": {
     "duration": 0.059551,
     "end_time": "2025-01-09T17:55:31.216652",
     "exception": false,
     "start_time": "2025-01-09T17:55:31.157101",
     "status": "completed"
    },
    "tags": []
   },
   "outputs": [
    {
     "data": {
      "text/plain": [
       "(522904, 5)"
      ]
     },
     "execution_count": 106,
     "metadata": {},
     "output_type": "execute_result"
    }
   ],
   "source": [
    "raw_data_2019_Q2.shape"
   ]
  },
  {
   "cell_type": "code",
   "execution_count": 107,
   "id": "2717cc39",
   "metadata": {
    "execution": {
     "iopub.execute_input": "2025-01-09T17:55:31.322750Z",
     "iopub.status.busy": "2025-01-09T17:55:31.322421Z",
     "iopub.status.idle": "2025-01-09T17:55:31.695979Z",
     "shell.execute_reply": "2025-01-09T17:55:31.694652Z"
    },
    "id": "uZSqb0FoUvmY",
    "papermill": {
     "duration": 0.429881,
     "end_time": "2025-01-09T17:55:31.698391",
     "exception": false,
     "start_time": "2025-01-09T17:55:31.268510",
     "status": "completed"
    },
    "tags": []
   },
   "outputs": [],
   "source": [
    "# Pivot the data\n",
    "data_df_2019_Q2 = raw_data_2019_Q2.pivot_table(\n",
    "    index=['Date', 'Country', 'City'],  # Grouping columns\n",
    "    columns='Specie',                  # Unique values become columns\n",
    "    values='median',                   # Values to aggregate\n",
    "    aggfunc='mean'                     # Aggregation function\n",
    ").reset_index()"
   ]
  },
  {
   "cell_type": "code",
   "execution_count": 108,
   "id": "a91bc7d1",
   "metadata": {
    "execution": {
     "iopub.execute_input": "2025-01-09T17:55:31.834216Z",
     "iopub.status.busy": "2025-01-09T17:55:31.833864Z",
     "iopub.status.idle": "2025-01-09T17:55:31.857658Z",
     "shell.execute_reply": "2025-01-09T17:55:31.856573Z"
    },
    "executionInfo": {
     "elapsed": 11,
     "status": "ok",
     "timestamp": 1734445444552,
     "user": {
      "displayName": "Tahmida Majumder",
      "userId": "15415648085337204568"
     },
     "user_tz": -480
    },
    "id": "EKadAQLeUvmY",
    "outputId": "ab665ff2-72c9-4b7a-fa14-e3611219d034",
    "papermill": {
     "duration": 0.079272,
     "end_time": "2025-01-09T17:55:31.859349",
     "exception": false,
     "start_time": "2025-01-09T17:55:31.780077",
     "status": "completed"
    },
    "tags": []
   },
   "outputs": [
    {
     "name": "stdout",
     "output_type": "stream",
     "text": [
      "(51421, 22)\n"
     ]
    },
    {
     "data": {
      "text/html": [
       "<div>\n",
       "<style scoped>\n",
       "    .dataframe tbody tr th:only-of-type {\n",
       "        vertical-align: middle;\n",
       "    }\n",
       "\n",
       "    .dataframe tbody tr th {\n",
       "        vertical-align: top;\n",
       "    }\n",
       "\n",
       "    .dataframe thead th {\n",
       "        text-align: right;\n",
       "    }\n",
       "</style>\n",
       "<table border=\"1\" class=\"dataframe\">\n",
       "  <thead>\n",
       "    <tr style=\"text-align: right;\">\n",
       "      <th>Specie</th>\n",
       "      <th>Date</th>\n",
       "      <th>Country</th>\n",
       "      <th>City</th>\n",
       "      <th>aqi</th>\n",
       "      <th>co</th>\n",
       "      <th>dew</th>\n",
       "      <th>humidity</th>\n",
       "      <th>mepaqi</th>\n",
       "      <th>no2</th>\n",
       "      <th>o3</th>\n",
       "      <th>...</th>\n",
       "      <th>pm25</th>\n",
       "      <th>pol</th>\n",
       "      <th>precipitation</th>\n",
       "      <th>pressure</th>\n",
       "      <th>so2</th>\n",
       "      <th>temperature</th>\n",
       "      <th>uvi</th>\n",
       "      <th>wd</th>\n",
       "      <th>wind-gust</th>\n",
       "      <th>wind-speed</th>\n",
       "    </tr>\n",
       "  </thead>\n",
       "  <tbody>\n",
       "    <tr>\n",
       "      <th>0</th>\n",
       "      <td>2019-04-01</td>\n",
       "      <td>AE</td>\n",
       "      <td>Abu Dhabi</td>\n",
       "      <td>NaN</td>\n",
       "      <td>NaN</td>\n",
       "      <td>6.0</td>\n",
       "      <td>17.0</td>\n",
       "      <td>NaN</td>\n",
       "      <td>NaN</td>\n",
       "      <td>NaN</td>\n",
       "      <td>...</td>\n",
       "      <td>154.0</td>\n",
       "      <td>NaN</td>\n",
       "      <td>NaN</td>\n",
       "      <td>1008.0</td>\n",
       "      <td>NaN</td>\n",
       "      <td>32.0</td>\n",
       "      <td>NaN</td>\n",
       "      <td>NaN</td>\n",
       "      <td>NaN</td>\n",
       "      <td>6.1</td>\n",
       "    </tr>\n",
       "    <tr>\n",
       "      <th>1</th>\n",
       "      <td>2019-04-01</td>\n",
       "      <td>AE</td>\n",
       "      <td>Dubai</td>\n",
       "      <td>NaN</td>\n",
       "      <td>NaN</td>\n",
       "      <td>8.0</td>\n",
       "      <td>23.0</td>\n",
       "      <td>NaN</td>\n",
       "      <td>NaN</td>\n",
       "      <td>7.4</td>\n",
       "      <td>...</td>\n",
       "      <td>112.0</td>\n",
       "      <td>NaN</td>\n",
       "      <td>NaN</td>\n",
       "      <td>1009.0</td>\n",
       "      <td>NaN</td>\n",
       "      <td>32.0</td>\n",
       "      <td>NaN</td>\n",
       "      <td>NaN</td>\n",
       "      <td>NaN</td>\n",
       "      <td>5.1</td>\n",
       "    </tr>\n",
       "    <tr>\n",
       "      <th>2</th>\n",
       "      <td>2019-04-01</td>\n",
       "      <td>AR</td>\n",
       "      <td>Buenos Aires</td>\n",
       "      <td>NaN</td>\n",
       "      <td>NaN</td>\n",
       "      <td>20.0</td>\n",
       "      <td>80.2</td>\n",
       "      <td>NaN</td>\n",
       "      <td>NaN</td>\n",
       "      <td>11.8</td>\n",
       "      <td>...</td>\n",
       "      <td>42.0</td>\n",
       "      <td>NaN</td>\n",
       "      <td>NaN</td>\n",
       "      <td>1011.6</td>\n",
       "      <td>1.1</td>\n",
       "      <td>21.6</td>\n",
       "      <td>NaN</td>\n",
       "      <td>0.0</td>\n",
       "      <td>4.5</td>\n",
       "      <td>2.0</td>\n",
       "    </tr>\n",
       "    <tr>\n",
       "      <th>3</th>\n",
       "      <td>2019-04-01</td>\n",
       "      <td>AT</td>\n",
       "      <td>Graz</td>\n",
       "      <td>NaN</td>\n",
       "      <td>0.1</td>\n",
       "      <td>NaN</td>\n",
       "      <td>51.0</td>\n",
       "      <td>NaN</td>\n",
       "      <td>12.8</td>\n",
       "      <td>NaN</td>\n",
       "      <td>...</td>\n",
       "      <td>NaN</td>\n",
       "      <td>NaN</td>\n",
       "      <td>NaN</td>\n",
       "      <td>1019.0</td>\n",
       "      <td>1.1</td>\n",
       "      <td>10.1</td>\n",
       "      <td>NaN</td>\n",
       "      <td>NaN</td>\n",
       "      <td>3.5</td>\n",
       "      <td>1.6</td>\n",
       "    </tr>\n",
       "    <tr>\n",
       "      <th>4</th>\n",
       "      <td>2019-04-01</td>\n",
       "      <td>AT</td>\n",
       "      <td>Innsbruck</td>\n",
       "      <td>NaN</td>\n",
       "      <td>0.1</td>\n",
       "      <td>2.5</td>\n",
       "      <td>64.2</td>\n",
       "      <td>NaN</td>\n",
       "      <td>13.3</td>\n",
       "      <td>NaN</td>\n",
       "      <td>...</td>\n",
       "      <td>NaN</td>\n",
       "      <td>NaN</td>\n",
       "      <td>NaN</td>\n",
       "      <td>1015.5</td>\n",
       "      <td>0.6</td>\n",
       "      <td>8.0</td>\n",
       "      <td>NaN</td>\n",
       "      <td>NaN</td>\n",
       "      <td>1.7</td>\n",
       "      <td>1.8</td>\n",
       "    </tr>\n",
       "  </tbody>\n",
       "</table>\n",
       "<p>5 rows × 22 columns</p>\n",
       "</div>"
      ],
      "text/plain": [
       "Specie       Date Country          City  aqi   co   dew  humidity  mepaqi  \\\n",
       "0      2019-04-01      AE     Abu Dhabi  NaN  NaN   6.0      17.0     NaN   \n",
       "1      2019-04-01      AE         Dubai  NaN  NaN   8.0      23.0     NaN   \n",
       "2      2019-04-01      AR  Buenos Aires  NaN  NaN  20.0      80.2     NaN   \n",
       "3      2019-04-01      AT          Graz  NaN  0.1   NaN      51.0     NaN   \n",
       "4      2019-04-01      AT     Innsbruck  NaN  0.1   2.5      64.2     NaN   \n",
       "\n",
       "Specie   no2    o3  ...   pm25  pol  precipitation  pressure  so2  \\\n",
       "0        NaN   NaN  ...  154.0  NaN            NaN    1008.0  NaN   \n",
       "1        NaN   7.4  ...  112.0  NaN            NaN    1009.0  NaN   \n",
       "2        NaN  11.8  ...   42.0  NaN            NaN    1011.6  1.1   \n",
       "3       12.8   NaN  ...    NaN  NaN            NaN    1019.0  1.1   \n",
       "4       13.3   NaN  ...    NaN  NaN            NaN    1015.5  0.6   \n",
       "\n",
       "Specie  temperature  uvi   wd  wind-gust  wind-speed  \n",
       "0              32.0  NaN  NaN        NaN         6.1  \n",
       "1              32.0  NaN  NaN        NaN         5.1  \n",
       "2              21.6  NaN  0.0        4.5         2.0  \n",
       "3              10.1  NaN  NaN        3.5         1.6  \n",
       "4               8.0  NaN  NaN        1.7         1.8  \n",
       "\n",
       "[5 rows x 22 columns]"
      ]
     },
     "execution_count": 108,
     "metadata": {},
     "output_type": "execute_result"
    }
   ],
   "source": [
    "print(data_df_2019_Q2.shape)\n",
    "data_df_2019_Q2.head()"
   ]
  },
  {
   "cell_type": "code",
   "execution_count": 109,
   "id": "2a633e76",
   "metadata": {
    "execution": {
     "iopub.execute_input": "2025-01-09T17:55:31.964935Z",
     "iopub.status.busy": "2025-01-09T17:55:31.964507Z",
     "iopub.status.idle": "2025-01-09T17:55:31.978288Z",
     "shell.execute_reply": "2025-01-09T17:55:31.977169Z"
    },
    "executionInfo": {
     "elapsed": 8,
     "status": "ok",
     "timestamp": 1734445444552,
     "user": {
      "displayName": "Tahmida Majumder",
      "userId": "15415648085337204568"
     },
     "user_tz": -480
    },
    "id": "gNU4pm3aUvmY",
    "outputId": "a4696837-af6b-40ca-890d-12e16efa6a00",
    "papermill": {
     "duration": 0.068168,
     "end_time": "2025-01-09T17:55:31.980023",
     "exception": false,
     "start_time": "2025-01-09T17:55:31.911855",
     "status": "completed"
    },
    "tags": []
   },
   "outputs": [
    {
     "data": {
      "text/plain": [
       "Specie\n",
       "Date                 0\n",
       "Country              0\n",
       "City                 0\n",
       "aqi              50092\n",
       "co               18780\n",
       "dew              13355\n",
       "humidity           229\n",
       "mepaqi           51331\n",
       "no2               9320\n",
       "o3               10834\n",
       "pm1              51268\n",
       "pm10             10047\n",
       "pm25              8810\n",
       "pol              51067\n",
       "precipitation    47158\n",
       "pressure           501\n",
       "so2              15164\n",
       "temperature        207\n",
       "uvi              50526\n",
       "wd               47337\n",
       "wind-gust        16360\n",
       "wind-speed        1709\n",
       "dtype: int64"
      ]
     },
     "execution_count": 109,
     "metadata": {},
     "output_type": "execute_result"
    }
   ],
   "source": [
    "data_df_2019_Q2.isnull().sum()"
   ]
  },
  {
   "cell_type": "code",
   "execution_count": null,
   "id": "11f5086a",
   "metadata": {
    "id": "MbM8_D2PBLwG",
    "papermill": {
     "duration": 0.053051,
     "end_time": "2025-01-09T17:55:32.087220",
     "exception": false,
     "start_time": "2025-01-09T17:55:32.034169",
     "status": "completed"
    },
    "tags": []
   },
   "outputs": [],
   "source": []
  },
  {
   "cell_type": "markdown",
   "id": "58b0d7a6",
   "metadata": {
    "id": "Ie9ifpybU_N5",
    "papermill": {
     "duration": 0.05154,
     "end_time": "2025-01-09T17:55:32.191026",
     "exception": false,
     "start_time": "2025-01-09T17:55:32.139486",
     "status": "completed"
    },
    "tags": []
   },
   "source": [
    "# 2019_Q3"
   ]
  },
  {
   "cell_type": "code",
   "execution_count": 110,
   "id": "897d7333",
   "metadata": {
    "execution": {
     "iopub.execute_input": "2025-01-09T17:55:32.302081Z",
     "iopub.status.busy": "2025-01-09T17:55:32.301641Z",
     "iopub.status.idle": "2025-01-09T17:55:32.845158Z",
     "shell.execute_reply": "2025-01-09T17:55:32.843991Z"
    },
    "executionInfo": {
     "elapsed": 1157,
     "status": "ok",
     "timestamp": 1734445445702,
     "user": {
      "displayName": "Tahmida Majumder",
      "userId": "15415648085337204568"
     },
     "user_tz": -480
    },
    "id": "faydXS6IU_N6",
    "outputId": "cc070e3a-3f74-45b4-ab9c-f1da56c17635",
    "papermill": {
     "duration": 0.602492,
     "end_time": "2025-01-09T17:55:32.846942",
     "exception": false,
     "start_time": "2025-01-09T17:55:32.244450",
     "status": "completed"
    },
    "tags": []
   },
   "outputs": [
    {
     "name": "stdout",
     "output_type": "stream",
     "text": [
      "(582606, 5)\n"
     ]
    },
    {
     "data": {
      "text/html": [
       "<div>\n",
       "<style scoped>\n",
       "    .dataframe tbody tr th:only-of-type {\n",
       "        vertical-align: middle;\n",
       "    }\n",
       "\n",
       "    .dataframe tbody tr th {\n",
       "        vertical-align: top;\n",
       "    }\n",
       "\n",
       "    .dataframe thead th {\n",
       "        text-align: right;\n",
       "    }\n",
       "</style>\n",
       "<table border=\"1\" class=\"dataframe\">\n",
       "  <thead>\n",
       "    <tr style=\"text-align: right;\">\n",
       "      <th></th>\n",
       "      <th>Date</th>\n",
       "      <th>Country</th>\n",
       "      <th>City</th>\n",
       "      <th>Specie</th>\n",
       "      <th>median</th>\n",
       "    </tr>\n",
       "  </thead>\n",
       "  <tbody>\n",
       "    <tr>\n",
       "      <th>0</th>\n",
       "      <td>8/20/2019</td>\n",
       "      <td>SK</td>\n",
       "      <td>Košice</td>\n",
       "      <td>dew</td>\n",
       "      <td>17.0</td>\n",
       "    </tr>\n",
       "    <tr>\n",
       "      <th>1</th>\n",
       "      <td>8/22/2019</td>\n",
       "      <td>SK</td>\n",
       "      <td>Košice</td>\n",
       "      <td>dew</td>\n",
       "      <td>13.0</td>\n",
       "    </tr>\n",
       "    <tr>\n",
       "      <th>2</th>\n",
       "      <td>9/20/2019</td>\n",
       "      <td>SK</td>\n",
       "      <td>Košice</td>\n",
       "      <td>dew</td>\n",
       "      <td>2.5</td>\n",
       "    </tr>\n",
       "    <tr>\n",
       "      <th>3</th>\n",
       "      <td>9/27/2019</td>\n",
       "      <td>SK</td>\n",
       "      <td>Košice</td>\n",
       "      <td>dew</td>\n",
       "      <td>11.5</td>\n",
       "    </tr>\n",
       "    <tr>\n",
       "      <th>4</th>\n",
       "      <td>10/1/2019</td>\n",
       "      <td>SK</td>\n",
       "      <td>Košice</td>\n",
       "      <td>dew</td>\n",
       "      <td>7.0</td>\n",
       "    </tr>\n",
       "    <tr>\n",
       "      <th>5</th>\n",
       "      <td>7/8/2019</td>\n",
       "      <td>SK</td>\n",
       "      <td>Košice</td>\n",
       "      <td>dew</td>\n",
       "      <td>7.0</td>\n",
       "    </tr>\n",
       "    <tr>\n",
       "      <th>6</th>\n",
       "      <td>8/3/2019</td>\n",
       "      <td>SK</td>\n",
       "      <td>Košice</td>\n",
       "      <td>dew</td>\n",
       "      <td>13.0</td>\n",
       "    </tr>\n",
       "    <tr>\n",
       "      <th>7</th>\n",
       "      <td>7/21/2019</td>\n",
       "      <td>SK</td>\n",
       "      <td>Košice</td>\n",
       "      <td>dew</td>\n",
       "      <td>17.0</td>\n",
       "    </tr>\n",
       "    <tr>\n",
       "      <th>8</th>\n",
       "      <td>7/23/2019</td>\n",
       "      <td>SK</td>\n",
       "      <td>Košice</td>\n",
       "      <td>dew</td>\n",
       "      <td>14.5</td>\n",
       "    </tr>\n",
       "    <tr>\n",
       "      <th>9</th>\n",
       "      <td>8/11/2019</td>\n",
       "      <td>SK</td>\n",
       "      <td>Košice</td>\n",
       "      <td>dew</td>\n",
       "      <td>17.5</td>\n",
       "    </tr>\n",
       "  </tbody>\n",
       "</table>\n",
       "</div>"
      ],
      "text/plain": [
       "        Date Country    City Specie  median\n",
       "0  8/20/2019      SK  Košice    dew    17.0\n",
       "1  8/22/2019      SK  Košice    dew    13.0\n",
       "2  9/20/2019      SK  Košice    dew     2.5\n",
       "3  9/27/2019      SK  Košice    dew    11.5\n",
       "4  10/1/2019      SK  Košice    dew     7.0\n",
       "5   7/8/2019      SK  Košice    dew     7.0\n",
       "6   8/3/2019      SK  Košice    dew    13.0\n",
       "7  7/21/2019      SK  Košice    dew    17.0\n",
       "8  7/23/2019      SK  Košice    dew    14.5\n",
       "9  8/11/2019      SK  Košice    dew    17.5"
      ]
     },
     "execution_count": 110,
     "metadata": {},
     "output_type": "execute_result"
    }
   ],
   "source": [
    "# Loading the data\n",
    "raw_data_2019_Q3 = pd.read_csv(r\"/kaggle/input/complete-raw-median/waqi-covid19-airqualitydata-2019Q3.csv\")\n",
    "\n",
    "# print the shape\n",
    "print(raw_data_2019_Q3.shape)\n",
    "\n",
    "#runs the first 5 rows\n",
    "raw_data_2019_Q3.head(10)"
   ]
  },
  {
   "cell_type": "code",
   "execution_count": 111,
   "id": "06bc4874",
   "metadata": {
    "execution": {
     "iopub.execute_input": "2025-01-09T17:55:32.956848Z",
     "iopub.status.busy": "2025-01-09T17:55:32.956453Z",
     "iopub.status.idle": "2025-01-09T17:55:33.044336Z",
     "shell.execute_reply": "2025-01-09T17:55:33.043140Z"
    },
    "id": "QefLoWV3U_N6",
    "papermill": {
     "duration": 0.145731,
     "end_time": "2025-01-09T17:55:33.046340",
     "exception": false,
     "start_time": "2025-01-09T17:55:32.900609",
     "status": "completed"
    },
    "tags": []
   },
   "outputs": [],
   "source": [
    "# Convert 'Date' to datetime\n",
    "raw_data_2019_Q3['Date'] = pd.to_datetime(raw_data_2019_Q3['Date'])"
   ]
  },
  {
   "cell_type": "code",
   "execution_count": 112,
   "id": "36435c1a",
   "metadata": {
    "execution": {
     "iopub.execute_input": "2025-01-09T17:55:33.154156Z",
     "iopub.status.busy": "2025-01-09T17:55:33.153812Z",
     "iopub.status.idle": "2025-01-09T17:55:33.159578Z",
     "shell.execute_reply": "2025-01-09T17:55:33.158507Z"
    },
    "executionInfo": {
     "elapsed": 10,
     "status": "ok",
     "timestamp": 1734445445703,
     "user": {
      "displayName": "Tahmida Majumder",
      "userId": "15415648085337204568"
     },
     "user_tz": -480
    },
    "id": "M5C6J40TU_N7",
    "outputId": "2edcde12-f403-4e99-b43e-5863fefbe88f",
    "papermill": {
     "duration": 0.062118,
     "end_time": "2025-01-09T17:55:33.161279",
     "exception": false,
     "start_time": "2025-01-09T17:55:33.099161",
     "status": "completed"
    },
    "tags": []
   },
   "outputs": [
    {
     "data": {
      "text/plain": [
       "(582606, 5)"
      ]
     },
     "execution_count": 112,
     "metadata": {},
     "output_type": "execute_result"
    }
   ],
   "source": [
    "raw_data_2019_Q3.shape"
   ]
  },
  {
   "cell_type": "code",
   "execution_count": 113,
   "id": "e1a81286",
   "metadata": {
    "execution": {
     "iopub.execute_input": "2025-01-09T17:55:33.273005Z",
     "iopub.status.busy": "2025-01-09T17:55:33.272631Z",
     "iopub.status.idle": "2025-01-09T17:55:33.715112Z",
     "shell.execute_reply": "2025-01-09T17:55:33.714082Z"
    },
    "id": "ex5MbtTWU_N7",
    "papermill": {
     "duration": 0.500415,
     "end_time": "2025-01-09T17:55:33.717021",
     "exception": false,
     "start_time": "2025-01-09T17:55:33.216606",
     "status": "completed"
    },
    "tags": []
   },
   "outputs": [],
   "source": [
    "# Pivot the data\n",
    "data_df_2019_Q3 = raw_data_2019_Q3.pivot_table(\n",
    "    index=['Date', 'Country', 'City'],  # Grouping columns\n",
    "    columns='Specie',                  # Unique values become columns\n",
    "    values='median',                   # Values to aggregate\n",
    "    aggfunc='mean'                     # Aggregation function\n",
    ").reset_index()\n"
   ]
  },
  {
   "cell_type": "code",
   "execution_count": 114,
   "id": "6fd5cc3d",
   "metadata": {
    "execution": {
     "iopub.execute_input": "2025-01-09T17:55:33.825606Z",
     "iopub.status.busy": "2025-01-09T17:55:33.825261Z",
     "iopub.status.idle": "2025-01-09T17:55:33.850830Z",
     "shell.execute_reply": "2025-01-09T17:55:33.849872Z"
    },
    "executionInfo": {
     "elapsed": 10,
     "status": "ok",
     "timestamp": 1734445446314,
     "user": {
      "displayName": "Tahmida Majumder",
      "userId": "15415648085337204568"
     },
     "user_tz": -480
    },
    "id": "fOZF32TvU_N7",
    "outputId": "0e38b96e-d5b6-43eb-e5cc-9d842148aa1f",
    "papermill": {
     "duration": 0.082147,
     "end_time": "2025-01-09T17:55:33.852483",
     "exception": false,
     "start_time": "2025-01-09T17:55:33.770336",
     "status": "completed"
    },
    "tags": []
   },
   "outputs": [
    {
     "name": "stdout",
     "output_type": "stream",
     "text": [
      "(57230, 22)\n"
     ]
    },
    {
     "data": {
      "text/html": [
       "<div>\n",
       "<style scoped>\n",
       "    .dataframe tbody tr th:only-of-type {\n",
       "        vertical-align: middle;\n",
       "    }\n",
       "\n",
       "    .dataframe tbody tr th {\n",
       "        vertical-align: top;\n",
       "    }\n",
       "\n",
       "    .dataframe thead th {\n",
       "        text-align: right;\n",
       "    }\n",
       "</style>\n",
       "<table border=\"1\" class=\"dataframe\">\n",
       "  <thead>\n",
       "    <tr style=\"text-align: right;\">\n",
       "      <th>Specie</th>\n",
       "      <th>Date</th>\n",
       "      <th>Country</th>\n",
       "      <th>City</th>\n",
       "      <th>aqi</th>\n",
       "      <th>co</th>\n",
       "      <th>dew</th>\n",
       "      <th>humidity</th>\n",
       "      <th>mepaqi</th>\n",
       "      <th>no2</th>\n",
       "      <th>o3</th>\n",
       "      <th>...</th>\n",
       "      <th>pm25</th>\n",
       "      <th>pol</th>\n",
       "      <th>precipitation</th>\n",
       "      <th>pressure</th>\n",
       "      <th>so2</th>\n",
       "      <th>temperature</th>\n",
       "      <th>uvi</th>\n",
       "      <th>wd</th>\n",
       "      <th>wind-gust</th>\n",
       "      <th>wind-speed</th>\n",
       "    </tr>\n",
       "  </thead>\n",
       "  <tbody>\n",
       "    <tr>\n",
       "      <th>0</th>\n",
       "      <td>2019-07-01</td>\n",
       "      <td>AE</td>\n",
       "      <td>Abu Dhabi</td>\n",
       "      <td>NaN</td>\n",
       "      <td>NaN</td>\n",
       "      <td>19.0</td>\n",
       "      <td>34.0</td>\n",
       "      <td>NaN</td>\n",
       "      <td>NaN</td>\n",
       "      <td>11.4</td>\n",
       "      <td>...</td>\n",
       "      <td>144.0</td>\n",
       "      <td>NaN</td>\n",
       "      <td>NaN</td>\n",
       "      <td>996.0</td>\n",
       "      <td>NaN</td>\n",
       "      <td>37.0</td>\n",
       "      <td>NaN</td>\n",
       "      <td>NaN</td>\n",
       "      <td>NaN</td>\n",
       "      <td>2.5</td>\n",
       "    </tr>\n",
       "    <tr>\n",
       "      <th>1</th>\n",
       "      <td>2019-07-01</td>\n",
       "      <td>AE</td>\n",
       "      <td>Dubai</td>\n",
       "      <td>NaN</td>\n",
       "      <td>NaN</td>\n",
       "      <td>23.0</td>\n",
       "      <td>47.0</td>\n",
       "      <td>NaN</td>\n",
       "      <td>NaN</td>\n",
       "      <td>NaN</td>\n",
       "      <td>...</td>\n",
       "      <td>152.0</td>\n",
       "      <td>NaN</td>\n",
       "      <td>NaN</td>\n",
       "      <td>996.0</td>\n",
       "      <td>NaN</td>\n",
       "      <td>35.0</td>\n",
       "      <td>NaN</td>\n",
       "      <td>NaN</td>\n",
       "      <td>NaN</td>\n",
       "      <td>3.0</td>\n",
       "    </tr>\n",
       "    <tr>\n",
       "      <th>2</th>\n",
       "      <td>2019-07-01</td>\n",
       "      <td>AR</td>\n",
       "      <td>Buenos Aires</td>\n",
       "      <td>NaN</td>\n",
       "      <td>4.2</td>\n",
       "      <td>1.7</td>\n",
       "      <td>70.0</td>\n",
       "      <td>NaN</td>\n",
       "      <td>6.4</td>\n",
       "      <td>7.0</td>\n",
       "      <td>...</td>\n",
       "      <td>34.0</td>\n",
       "      <td>NaN</td>\n",
       "      <td>NaN</td>\n",
       "      <td>1019.0</td>\n",
       "      <td>NaN</td>\n",
       "      <td>7.8</td>\n",
       "      <td>NaN</td>\n",
       "      <td>292.5</td>\n",
       "      <td>5.5</td>\n",
       "      <td>2.0</td>\n",
       "    </tr>\n",
       "    <tr>\n",
       "      <th>3</th>\n",
       "      <td>2019-07-01</td>\n",
       "      <td>AT</td>\n",
       "      <td>Graz</td>\n",
       "      <td>NaN</td>\n",
       "      <td>0.1</td>\n",
       "      <td>17.0</td>\n",
       "      <td>48.5</td>\n",
       "      <td>NaN</td>\n",
       "      <td>7.8</td>\n",
       "      <td>NaN</td>\n",
       "      <td>...</td>\n",
       "      <td>NaN</td>\n",
       "      <td>NaN</td>\n",
       "      <td>NaN</td>\n",
       "      <td>1017.0</td>\n",
       "      <td>1.6</td>\n",
       "      <td>26.0</td>\n",
       "      <td>NaN</td>\n",
       "      <td>NaN</td>\n",
       "      <td>4.1</td>\n",
       "      <td>0.8</td>\n",
       "    </tr>\n",
       "    <tr>\n",
       "      <th>4</th>\n",
       "      <td>2019-07-01</td>\n",
       "      <td>AT</td>\n",
       "      <td>Innsbruck</td>\n",
       "      <td>NaN</td>\n",
       "      <td>0.1</td>\n",
       "      <td>16.5</td>\n",
       "      <td>76.2</td>\n",
       "      <td>NaN</td>\n",
       "      <td>12.8</td>\n",
       "      <td>NaN</td>\n",
       "      <td>...</td>\n",
       "      <td>NaN</td>\n",
       "      <td>NaN</td>\n",
       "      <td>NaN</td>\n",
       "      <td>1015.4</td>\n",
       "      <td>1.1</td>\n",
       "      <td>18.8</td>\n",
       "      <td>NaN</td>\n",
       "      <td>NaN</td>\n",
       "      <td>6.0</td>\n",
       "      <td>1.8</td>\n",
       "    </tr>\n",
       "  </tbody>\n",
       "</table>\n",
       "<p>5 rows × 22 columns</p>\n",
       "</div>"
      ],
      "text/plain": [
       "Specie       Date Country          City  aqi   co   dew  humidity  mepaqi  \\\n",
       "0      2019-07-01      AE     Abu Dhabi  NaN  NaN  19.0      34.0     NaN   \n",
       "1      2019-07-01      AE         Dubai  NaN  NaN  23.0      47.0     NaN   \n",
       "2      2019-07-01      AR  Buenos Aires  NaN  4.2   1.7      70.0     NaN   \n",
       "3      2019-07-01      AT          Graz  NaN  0.1  17.0      48.5     NaN   \n",
       "4      2019-07-01      AT     Innsbruck  NaN  0.1  16.5      76.2     NaN   \n",
       "\n",
       "Specie   no2    o3  ...   pm25  pol  precipitation  pressure  so2  \\\n",
       "0        NaN  11.4  ...  144.0  NaN            NaN     996.0  NaN   \n",
       "1        NaN   NaN  ...  152.0  NaN            NaN     996.0  NaN   \n",
       "2        6.4   7.0  ...   34.0  NaN            NaN    1019.0  NaN   \n",
       "3        7.8   NaN  ...    NaN  NaN            NaN    1017.0  1.6   \n",
       "4       12.8   NaN  ...    NaN  NaN            NaN    1015.4  1.1   \n",
       "\n",
       "Specie  temperature  uvi     wd  wind-gust  wind-speed  \n",
       "0              37.0  NaN    NaN        NaN         2.5  \n",
       "1              35.0  NaN    NaN        NaN         3.0  \n",
       "2               7.8  NaN  292.5        5.5         2.0  \n",
       "3              26.0  NaN    NaN        4.1         0.8  \n",
       "4              18.8  NaN    NaN        6.0         1.8  \n",
       "\n",
       "[5 rows x 22 columns]"
      ]
     },
     "execution_count": 114,
     "metadata": {},
     "output_type": "execute_result"
    }
   ],
   "source": [
    "print(data_df_2019_Q3.shape)\n",
    "data_df_2019_Q3.head()"
   ]
  },
  {
   "cell_type": "code",
   "execution_count": 115,
   "id": "b955970a",
   "metadata": {
    "execution": {
     "iopub.execute_input": "2025-01-09T17:55:33.966298Z",
     "iopub.status.busy": "2025-01-09T17:55:33.965940Z",
     "iopub.status.idle": "2025-01-09T17:55:33.980661Z",
     "shell.execute_reply": "2025-01-09T17:55:33.979405Z"
    },
    "executionInfo": {
     "elapsed": 8,
     "status": "ok",
     "timestamp": 1734445446314,
     "user": {
      "displayName": "Tahmida Majumder",
      "userId": "15415648085337204568"
     },
     "user_tz": -480
    },
    "id": "hhIyzbkFU_N8",
    "outputId": "37419db7-4d05-4cdd-dfaa-99b8a622f2e0",
    "papermill": {
     "duration": 0.073314,
     "end_time": "2025-01-09T17:55:33.982549",
     "exception": false,
     "start_time": "2025-01-09T17:55:33.909235",
     "status": "completed"
    },
    "tags": []
   },
   "outputs": [
    {
     "data": {
      "text/plain": [
       "Specie\n",
       "Date                 0\n",
       "Country              0\n",
       "City                 0\n",
       "aqi              55734\n",
       "co               21758\n",
       "dew              14427\n",
       "humidity            74\n",
       "mepaqi           57132\n",
       "no2              10192\n",
       "o3               12979\n",
       "pm1              57100\n",
       "pm10             10728\n",
       "pm25              9627\n",
       "pol              56146\n",
       "precipitation    52356\n",
       "pressure           530\n",
       "so2              17234\n",
       "temperature         67\n",
       "uvi              56261\n",
       "wd               52620\n",
       "wind-gust        18819\n",
       "wind-speed         980\n",
       "dtype: int64"
      ]
     },
     "execution_count": 115,
     "metadata": {},
     "output_type": "execute_result"
    }
   ],
   "source": [
    "data_df_2019_Q3.isnull().sum()"
   ]
  },
  {
   "cell_type": "code",
   "execution_count": null,
   "id": "a4817701",
   "metadata": {
    "id": "2XtakEpkBL0Y",
    "papermill": {
     "duration": 0.06172,
     "end_time": "2025-01-09T17:55:34.099428",
     "exception": false,
     "start_time": "2025-01-09T17:55:34.037708",
     "status": "completed"
    },
    "tags": []
   },
   "outputs": [],
   "source": []
  },
  {
   "cell_type": "markdown",
   "id": "0d1aa07e",
   "metadata": {
    "id": "TZS06jG3VqRZ",
    "papermill": {
     "duration": 0.053047,
     "end_time": "2025-01-09T17:55:34.213147",
     "exception": false,
     "start_time": "2025-01-09T17:55:34.160100",
     "status": "completed"
    },
    "tags": []
   },
   "source": [
    "# 2019_Q4"
   ]
  },
  {
   "cell_type": "code",
   "execution_count": 116,
   "id": "82fe8a06",
   "metadata": {
    "execution": {
     "iopub.execute_input": "2025-01-09T17:55:34.322830Z",
     "iopub.status.busy": "2025-01-09T17:55:34.322399Z",
     "iopub.status.idle": "2025-01-09T17:55:34.917625Z",
     "shell.execute_reply": "2025-01-09T17:55:34.916621Z"
    },
    "executionInfo": {
     "elapsed": 1031,
     "status": "ok",
     "timestamp": 1734445447338,
     "user": {
      "displayName": "Tahmida Majumder",
      "userId": "15415648085337204568"
     },
     "user_tz": -480
    },
    "id": "ffHovsxPVqRZ",
    "outputId": "b8e1afa9-a07b-4be0-e104-d29b00781c0f",
    "papermill": {
     "duration": 0.652251,
     "end_time": "2025-01-09T17:55:34.919377",
     "exception": false,
     "start_time": "2025-01-09T17:55:34.267126",
     "status": "completed"
    },
    "tags": []
   },
   "outputs": [
    {
     "name": "stdout",
     "output_type": "stream",
     "text": [
      "(578226, 5)\n"
     ]
    },
    {
     "data": {
      "text/html": [
       "<div>\n",
       "<style scoped>\n",
       "    .dataframe tbody tr th:only-of-type {\n",
       "        vertical-align: middle;\n",
       "    }\n",
       "\n",
       "    .dataframe tbody tr th {\n",
       "        vertical-align: top;\n",
       "    }\n",
       "\n",
       "    .dataframe thead th {\n",
       "        text-align: right;\n",
       "    }\n",
       "</style>\n",
       "<table border=\"1\" class=\"dataframe\">\n",
       "  <thead>\n",
       "    <tr style=\"text-align: right;\">\n",
       "      <th></th>\n",
       "      <th>Date</th>\n",
       "      <th>Country</th>\n",
       "      <th>City</th>\n",
       "      <th>Specie</th>\n",
       "      <th>median</th>\n",
       "    </tr>\n",
       "  </thead>\n",
       "  <tbody>\n",
       "    <tr>\n",
       "      <th>0</th>\n",
       "      <td>11/2/2019</td>\n",
       "      <td>HU</td>\n",
       "      <td>Debrecen</td>\n",
       "      <td>o3</td>\n",
       "      <td>7.0</td>\n",
       "    </tr>\n",
       "    <tr>\n",
       "      <th>1</th>\n",
       "      <td>11/11/2019</td>\n",
       "      <td>HU</td>\n",
       "      <td>Debrecen</td>\n",
       "      <td>o3</td>\n",
       "      <td>7.1</td>\n",
       "    </tr>\n",
       "    <tr>\n",
       "      <th>2</th>\n",
       "      <td>11/12/2019</td>\n",
       "      <td>HU</td>\n",
       "      <td>Debrecen</td>\n",
       "      <td>o3</td>\n",
       "      <td>12.0</td>\n",
       "    </tr>\n",
       "    <tr>\n",
       "      <th>3</th>\n",
       "      <td>12/22/2019</td>\n",
       "      <td>HU</td>\n",
       "      <td>Debrecen</td>\n",
       "      <td>o3</td>\n",
       "      <td>18.6</td>\n",
       "    </tr>\n",
       "    <tr>\n",
       "      <th>4</th>\n",
       "      <td>1/5/2020</td>\n",
       "      <td>HU</td>\n",
       "      <td>Debrecen</td>\n",
       "      <td>o3</td>\n",
       "      <td>16.7</td>\n",
       "    </tr>\n",
       "    <tr>\n",
       "      <th>5</th>\n",
       "      <td>10/4/2019</td>\n",
       "      <td>HU</td>\n",
       "      <td>Debrecen</td>\n",
       "      <td>o3</td>\n",
       "      <td>10.4</td>\n",
       "    </tr>\n",
       "    <tr>\n",
       "      <th>6</th>\n",
       "      <td>10/9/2019</td>\n",
       "      <td>HU</td>\n",
       "      <td>Debrecen</td>\n",
       "      <td>o3</td>\n",
       "      <td>21.0</td>\n",
       "    </tr>\n",
       "    <tr>\n",
       "      <th>7</th>\n",
       "      <td>11/20/2019</td>\n",
       "      <td>HU</td>\n",
       "      <td>Debrecen</td>\n",
       "      <td>o3</td>\n",
       "      <td>8.3</td>\n",
       "    </tr>\n",
       "    <tr>\n",
       "      <th>8</th>\n",
       "      <td>12/11/2019</td>\n",
       "      <td>HU</td>\n",
       "      <td>Debrecen</td>\n",
       "      <td>o3</td>\n",
       "      <td>11.5</td>\n",
       "    </tr>\n",
       "    <tr>\n",
       "      <th>9</th>\n",
       "      <td>12/15/2019</td>\n",
       "      <td>HU</td>\n",
       "      <td>Debrecen</td>\n",
       "      <td>o3</td>\n",
       "      <td>11.4</td>\n",
       "    </tr>\n",
       "  </tbody>\n",
       "</table>\n",
       "</div>"
      ],
      "text/plain": [
       "         Date Country      City Specie  median\n",
       "0   11/2/2019      HU  Debrecen     o3     7.0\n",
       "1  11/11/2019      HU  Debrecen     o3     7.1\n",
       "2  11/12/2019      HU  Debrecen     o3    12.0\n",
       "3  12/22/2019      HU  Debrecen     o3    18.6\n",
       "4    1/5/2020      HU  Debrecen     o3    16.7\n",
       "5   10/4/2019      HU  Debrecen     o3    10.4\n",
       "6   10/9/2019      HU  Debrecen     o3    21.0\n",
       "7  11/20/2019      HU  Debrecen     o3     8.3\n",
       "8  12/11/2019      HU  Debrecen     o3    11.5\n",
       "9  12/15/2019      HU  Debrecen     o3    11.4"
      ]
     },
     "execution_count": 116,
     "metadata": {},
     "output_type": "execute_result"
    }
   ],
   "source": [
    "# Loading the data\n",
    "raw_data_2019_Q4 = pd.read_csv(r\"/kaggle/input/complete-raw-median/waqi-covid19-airqualitydata-2019Q4.csv\")\n",
    "\n",
    "# print the shape\n",
    "print(raw_data_2019_Q4.shape)\n",
    "\n",
    "#runs the first 5 rows\n",
    "raw_data_2019_Q4.head(10)"
   ]
  },
  {
   "cell_type": "code",
   "execution_count": 117,
   "id": "1462af20",
   "metadata": {
    "execution": {
     "iopub.execute_input": "2025-01-09T17:55:35.029113Z",
     "iopub.status.busy": "2025-01-09T17:55:35.028729Z",
     "iopub.status.idle": "2025-01-09T17:55:35.111529Z",
     "shell.execute_reply": "2025-01-09T17:55:35.110558Z"
    },
    "id": "kqSYvto8VqRZ",
    "papermill": {
     "duration": 0.139748,
     "end_time": "2025-01-09T17:55:35.113499",
     "exception": false,
     "start_time": "2025-01-09T17:55:34.973751",
     "status": "completed"
    },
    "tags": []
   },
   "outputs": [],
   "source": [
    "# Convert 'Date' to datetime\n",
    "raw_data_2019_Q4['Date'] = pd.to_datetime(raw_data_2019_Q4['Date'])"
   ]
  },
  {
   "cell_type": "code",
   "execution_count": 118,
   "id": "4d12c1fd",
   "metadata": {
    "execution": {
     "iopub.execute_input": "2025-01-09T17:55:35.221744Z",
     "iopub.status.busy": "2025-01-09T17:55:35.221410Z",
     "iopub.status.idle": "2025-01-09T17:55:35.227518Z",
     "shell.execute_reply": "2025-01-09T17:55:35.226467Z"
    },
    "executionInfo": {
     "elapsed": 9,
     "status": "ok",
     "timestamp": 1734445447338,
     "user": {
      "displayName": "Tahmida Majumder",
      "userId": "15415648085337204568"
     },
     "user_tz": -480
    },
    "id": "b8hAqhbUVqRZ",
    "outputId": "384d481e-bb79-4ee6-f30b-1e2244f25960",
    "papermill": {
     "duration": 0.062552,
     "end_time": "2025-01-09T17:55:35.229120",
     "exception": false,
     "start_time": "2025-01-09T17:55:35.166568",
     "status": "completed"
    },
    "tags": []
   },
   "outputs": [
    {
     "data": {
      "text/plain": [
       "(578226, 5)"
      ]
     },
     "execution_count": 118,
     "metadata": {},
     "output_type": "execute_result"
    }
   ],
   "source": [
    "raw_data_2019_Q4.shape"
   ]
  },
  {
   "cell_type": "code",
   "execution_count": 119,
   "id": "fad04d72",
   "metadata": {
    "execution": {
     "iopub.execute_input": "2025-01-09T17:55:35.338591Z",
     "iopub.status.busy": "2025-01-09T17:55:35.338267Z",
     "iopub.status.idle": "2025-01-09T17:55:35.771369Z",
     "shell.execute_reply": "2025-01-09T17:55:35.770485Z"
    },
    "id": "hzPxkgpeVqRa",
    "papermill": {
     "duration": 0.490413,
     "end_time": "2025-01-09T17:55:35.773283",
     "exception": false,
     "start_time": "2025-01-09T17:55:35.282870",
     "status": "completed"
    },
    "tags": []
   },
   "outputs": [],
   "source": [
    "# Pivot the data\n",
    "data_df_2019_Q4 = raw_data_2019_Q4.pivot_table(\n",
    "    index=['Date', 'Country', 'City'],  # Grouping columns\n",
    "    columns='Specie',                  # Unique values become columns\n",
    "    values='median',                   # Values to aggregate\n",
    "    aggfunc='mean'                     # Aggregation function\n",
    ").reset_index()"
   ]
  },
  {
   "cell_type": "code",
   "execution_count": 120,
   "id": "03ac95d0",
   "metadata": {
    "execution": {
     "iopub.execute_input": "2025-01-09T17:55:35.888537Z",
     "iopub.status.busy": "2025-01-09T17:55:35.888192Z",
     "iopub.status.idle": "2025-01-09T17:55:35.912786Z",
     "shell.execute_reply": "2025-01-09T17:55:35.911854Z"
    },
    "executionInfo": {
     "elapsed": 12,
     "status": "ok",
     "timestamp": 1734445447744,
     "user": {
      "displayName": "Tahmida Majumder",
      "userId": "15415648085337204568"
     },
     "user_tz": -480
    },
    "id": "xn9BPhn1VqRa",
    "outputId": "c9730021-96bd-44a5-9fe8-866bdb9f88fd",
    "papermill": {
     "duration": 0.083945,
     "end_time": "2025-01-09T17:55:35.914413",
     "exception": false,
     "start_time": "2025-01-09T17:55:35.830468",
     "status": "completed"
    },
    "tags": []
   },
   "outputs": [
    {
     "name": "stdout",
     "output_type": "stream",
     "text": [
      "(57861, 25)\n"
     ]
    },
    {
     "data": {
      "text/html": [
       "<div>\n",
       "<style scoped>\n",
       "    .dataframe tbody tr th:only-of-type {\n",
       "        vertical-align: middle;\n",
       "    }\n",
       "\n",
       "    .dataframe tbody tr th {\n",
       "        vertical-align: top;\n",
       "    }\n",
       "\n",
       "    .dataframe thead th {\n",
       "        text-align: right;\n",
       "    }\n",
       "</style>\n",
       "<table border=\"1\" class=\"dataframe\">\n",
       "  <thead>\n",
       "    <tr style=\"text-align: right;\">\n",
       "      <th>Specie</th>\n",
       "      <th>Date</th>\n",
       "      <th>Country</th>\n",
       "      <th>City</th>\n",
       "      <th>aqi</th>\n",
       "      <th>co</th>\n",
       "      <th>dew</th>\n",
       "      <th>humidity</th>\n",
       "      <th>mepaqi</th>\n",
       "      <th>no2</th>\n",
       "      <th>o3</th>\n",
       "      <th>...</th>\n",
       "      <th>pm25</th>\n",
       "      <th>pol</th>\n",
       "      <th>precipitation</th>\n",
       "      <th>pressure</th>\n",
       "      <th>so2</th>\n",
       "      <th>temperature</th>\n",
       "      <th>uvi</th>\n",
       "      <th>wd</th>\n",
       "      <th>wind-gust</th>\n",
       "      <th>wind-speed</th>\n",
       "    </tr>\n",
       "  </thead>\n",
       "  <tbody>\n",
       "    <tr>\n",
       "      <th>0</th>\n",
       "      <td>2018-12-31</td>\n",
       "      <td>AE</td>\n",
       "      <td>Abu Dhabi</td>\n",
       "      <td>NaN</td>\n",
       "      <td>NaN</td>\n",
       "      <td>16.0</td>\n",
       "      <td>68.0</td>\n",
       "      <td>NaN</td>\n",
       "      <td>27.9</td>\n",
       "      <td>27.3</td>\n",
       "      <td>...</td>\n",
       "      <td>112.0</td>\n",
       "      <td>NaN</td>\n",
       "      <td>NaN</td>\n",
       "      <td>1019.0</td>\n",
       "      <td>4.6</td>\n",
       "      <td>22.0</td>\n",
       "      <td>NaN</td>\n",
       "      <td>NaN</td>\n",
       "      <td>NaN</td>\n",
       "      <td>2.0</td>\n",
       "    </tr>\n",
       "    <tr>\n",
       "      <th>1</th>\n",
       "      <td>2018-12-31</td>\n",
       "      <td>AR</td>\n",
       "      <td>Buenos Aires</td>\n",
       "      <td>NaN</td>\n",
       "      <td>NaN</td>\n",
       "      <td>14.0</td>\n",
       "      <td>0.0</td>\n",
       "      <td>NaN</td>\n",
       "      <td>NaN</td>\n",
       "      <td>NaN</td>\n",
       "      <td>...</td>\n",
       "      <td>NaN</td>\n",
       "      <td>NaN</td>\n",
       "      <td>NaN</td>\n",
       "      <td>0.0</td>\n",
       "      <td>NaN</td>\n",
       "      <td>0.0</td>\n",
       "      <td>NaN</td>\n",
       "      <td>0.0</td>\n",
       "      <td>11.3</td>\n",
       "      <td>5.0</td>\n",
       "    </tr>\n",
       "    <tr>\n",
       "      <th>2</th>\n",
       "      <td>2018-12-31</td>\n",
       "      <td>AT</td>\n",
       "      <td>Graz</td>\n",
       "      <td>NaN</td>\n",
       "      <td>0.1</td>\n",
       "      <td>NaN</td>\n",
       "      <td>70.2</td>\n",
       "      <td>NaN</td>\n",
       "      <td>14.2</td>\n",
       "      <td>NaN</td>\n",
       "      <td>...</td>\n",
       "      <td>NaN</td>\n",
       "      <td>NaN</td>\n",
       "      <td>NaN</td>\n",
       "      <td>1027.1</td>\n",
       "      <td>1.1</td>\n",
       "      <td>3.7</td>\n",
       "      <td>NaN</td>\n",
       "      <td>NaN</td>\n",
       "      <td>4.3</td>\n",
       "      <td>1.5</td>\n",
       "    </tr>\n",
       "    <tr>\n",
       "      <th>3</th>\n",
       "      <td>2018-12-31</td>\n",
       "      <td>AT</td>\n",
       "      <td>Innsbruck</td>\n",
       "      <td>NaN</td>\n",
       "      <td>0.1</td>\n",
       "      <td>0.5</td>\n",
       "      <td>93.0</td>\n",
       "      <td>NaN</td>\n",
       "      <td>30.7</td>\n",
       "      <td>NaN</td>\n",
       "      <td>...</td>\n",
       "      <td>NaN</td>\n",
       "      <td>NaN</td>\n",
       "      <td>NaN</td>\n",
       "      <td>1032.0</td>\n",
       "      <td>1.3</td>\n",
       "      <td>0.0</td>\n",
       "      <td>NaN</td>\n",
       "      <td>NaN</td>\n",
       "      <td>2.2</td>\n",
       "      <td>0.7</td>\n",
       "    </tr>\n",
       "    <tr>\n",
       "      <th>4</th>\n",
       "      <td>2018-12-31</td>\n",
       "      <td>AT</td>\n",
       "      <td>Linz</td>\n",
       "      <td>NaN</td>\n",
       "      <td>0.1</td>\n",
       "      <td>2.5</td>\n",
       "      <td>92.0</td>\n",
       "      <td>NaN</td>\n",
       "      <td>9.6</td>\n",
       "      <td>NaN</td>\n",
       "      <td>...</td>\n",
       "      <td>53.0</td>\n",
       "      <td>NaN</td>\n",
       "      <td>NaN</td>\n",
       "      <td>1031.0</td>\n",
       "      <td>7.1</td>\n",
       "      <td>3.3</td>\n",
       "      <td>NaN</td>\n",
       "      <td>NaN</td>\n",
       "      <td>2.5</td>\n",
       "      <td>1.2</td>\n",
       "    </tr>\n",
       "  </tbody>\n",
       "</table>\n",
       "<p>5 rows × 22 columns</p>\n",
       "</div>"
      ],
      "text/plain": [
       "Specie       Date Country          City  aqi   co   dew  humidity  mepaqi  \\\n",
       "0      2018-12-31      AE     Abu Dhabi  NaN  NaN  16.0      68.0     NaN   \n",
       "1      2018-12-31      AR  Buenos Aires  NaN  NaN  14.0       0.0     NaN   \n",
       "2      2018-12-31      AT          Graz  NaN  0.1   NaN      70.2     NaN   \n",
       "3      2018-12-31      AT     Innsbruck  NaN  0.1   0.5      93.0     NaN   \n",
       "4      2018-12-31      AT          Linz  NaN  0.1   2.5      92.0     NaN   \n",
       "\n",
       "Specie   no2    o3  ...   pm25  pol  precipitation  pressure  so2  \\\n",
       "0       27.9  27.3  ...  112.0  NaN            NaN    1019.0  4.6   \n",
       "1        NaN   NaN  ...    NaN  NaN            NaN       0.0  NaN   \n",
       "2       14.2   NaN  ...    NaN  NaN            NaN    1027.1  1.1   \n",
       "3       30.7   NaN  ...    NaN  NaN            NaN    1032.0  1.3   \n",
       "4        9.6   NaN  ...   53.0  NaN            NaN    1031.0  7.1   \n",
       "\n",
       "Specie  temperature  uvi   wd  wind-gust  wind-speed  \n",
       "0              22.0  NaN  NaN        NaN         2.0  \n",
       "1               0.0  NaN  0.0       11.3         5.0  \n",
       "2               3.7  NaN  NaN        4.3         1.5  \n",
       "3               0.0  NaN  NaN        2.2         0.7  \n",
       "4               3.3  NaN  NaN        2.5         1.2  \n",
       "\n",
       "[5 rows x 22 columns]"
      ]
     },
     "execution_count": 120,
     "metadata": {},
     "output_type": "execute_result"
    }
   ],
   "source": [
    "print(data_df_2019_Q4.shape)\n",
    "data_df_2019_Q1.head()"
   ]
  },
  {
   "cell_type": "code",
   "execution_count": 121,
   "id": "265f162b",
   "metadata": {
    "execution": {
     "iopub.execute_input": "2025-01-09T17:55:36.024975Z",
     "iopub.status.busy": "2025-01-09T17:55:36.024587Z",
     "iopub.status.idle": "2025-01-09T17:55:36.039503Z",
     "shell.execute_reply": "2025-01-09T17:55:36.038573Z"
    },
    "executionInfo": {
     "elapsed": 8,
     "status": "ok",
     "timestamp": 1734445447744,
     "user": {
      "displayName": "Tahmida Majumder",
      "userId": "15415648085337204568"
     },
     "user_tz": -480
    },
    "id": "xbfysSPtVqRa",
    "outputId": "88dbf73b-036e-4118-940b-084a557c7a45",
    "papermill": {
     "duration": 0.073374,
     "end_time": "2025-01-09T17:55:36.041223",
     "exception": false,
     "start_time": "2025-01-09T17:55:35.967849",
     "status": "completed"
    },
    "tags": []
   },
   "outputs": [
    {
     "data": {
      "text/plain": [
       "Specie\n",
       "Date                 0\n",
       "Country              0\n",
       "City                 0\n",
       "aqi              56388\n",
       "co               21943\n",
       "dew              16361\n",
       "humidity          2755\n",
       "mepaqi           57763\n",
       "neph             57795\n",
       "no2              10772\n",
       "o3               13984\n",
       "pm1              57569\n",
       "pm10             10930\n",
       "pm25              9774\n",
       "pol              56418\n",
       "precipitation    54213\n",
       "pressure          3069\n",
       "so2              17888\n",
       "temperature       2730\n",
       "uvi              56952\n",
       "wd               53664\n",
       "wind gust        54986\n",
       "wind speed       53344\n",
       "wind-gust        21844\n",
       "wind-speed        3574\n",
       "dtype: int64"
      ]
     },
     "execution_count": 121,
     "metadata": {},
     "output_type": "execute_result"
    }
   ],
   "source": [
    "data_df_2019_Q4.isnull().sum()"
   ]
  },
  {
   "cell_type": "code",
   "execution_count": null,
   "id": "cdf80559",
   "metadata": {
    "id": "6pYMJ_iMV4C5",
    "papermill": {
     "duration": 0.053707,
     "end_time": "2025-01-09T17:55:36.150429",
     "exception": false,
     "start_time": "2025-01-09T17:55:36.096722",
     "status": "completed"
    },
    "tags": []
   },
   "outputs": [],
   "source": []
  },
  {
   "cell_type": "markdown",
   "id": "6827cbde",
   "metadata": {
    "id": "mKFAh6nXV5u6",
    "papermill": {
     "duration": 0.054182,
     "end_time": "2025-01-09T17:55:36.259114",
     "exception": false,
     "start_time": "2025-01-09T17:55:36.204932",
     "status": "completed"
    },
    "tags": []
   },
   "source": [
    "# 2018_H1"
   ]
  },
  {
   "cell_type": "code",
   "execution_count": 122,
   "id": "d3019317",
   "metadata": {
    "execution": {
     "iopub.execute_input": "2025-01-09T17:55:36.370247Z",
     "iopub.status.busy": "2025-01-09T17:55:36.369907Z",
     "iopub.status.idle": "2025-01-09T17:55:36.889299Z",
     "shell.execute_reply": "2025-01-09T17:55:36.888197Z"
    },
    "executionInfo": {
     "elapsed": 594,
     "status": "ok",
     "timestamp": 1734445448331,
     "user": {
      "displayName": "Tahmida Majumder",
      "userId": "15415648085337204568"
     },
     "user_tz": -480
    },
    "id": "QZSML_ewV5u6",
    "outputId": "5febc503-d96a-4ac5-811c-0a4acba0f690",
    "papermill": {
     "duration": 0.57735,
     "end_time": "2025-01-09T17:55:36.891101",
     "exception": false,
     "start_time": "2025-01-09T17:55:36.313751",
     "status": "completed"
    },
    "tags": []
   },
   "outputs": [
    {
     "name": "stdout",
     "output_type": "stream",
     "text": [
      "(552440, 5)\n"
     ]
    },
    {
     "data": {
      "text/html": [
       "<div>\n",
       "<style scoped>\n",
       "    .dataframe tbody tr th:only-of-type {\n",
       "        vertical-align: middle;\n",
       "    }\n",
       "\n",
       "    .dataframe tbody tr th {\n",
       "        vertical-align: top;\n",
       "    }\n",
       "\n",
       "    .dataframe thead th {\n",
       "        text-align: right;\n",
       "    }\n",
       "</style>\n",
       "<table border=\"1\" class=\"dataframe\">\n",
       "  <thead>\n",
       "    <tr style=\"text-align: right;\">\n",
       "      <th></th>\n",
       "      <th>Date</th>\n",
       "      <th>Country</th>\n",
       "      <th>City</th>\n",
       "      <th>Specie</th>\n",
       "      <th>median</th>\n",
       "    </tr>\n",
       "  </thead>\n",
       "  <tbody>\n",
       "    <tr>\n",
       "      <th>0</th>\n",
       "      <td>4/19/2018</td>\n",
       "      <td>HR</td>\n",
       "      <td>Zagreb</td>\n",
       "      <td>pm10</td>\n",
       "      <td>19.0</td>\n",
       "    </tr>\n",
       "    <tr>\n",
       "      <th>1</th>\n",
       "      <td>5/3/2018</td>\n",
       "      <td>HR</td>\n",
       "      <td>Zagreb</td>\n",
       "      <td>pm10</td>\n",
       "      <td>20.0</td>\n",
       "    </tr>\n",
       "    <tr>\n",
       "      <th>2</th>\n",
       "      <td>5/8/2018</td>\n",
       "      <td>HR</td>\n",
       "      <td>Zagreb</td>\n",
       "      <td>pm10</td>\n",
       "      <td>17.0</td>\n",
       "    </tr>\n",
       "    <tr>\n",
       "      <th>3</th>\n",
       "      <td>5/31/2018</td>\n",
       "      <td>HR</td>\n",
       "      <td>Zagreb</td>\n",
       "      <td>pm10</td>\n",
       "      <td>25.0</td>\n",
       "    </tr>\n",
       "    <tr>\n",
       "      <th>4</th>\n",
       "      <td>6/22/2018</td>\n",
       "      <td>HR</td>\n",
       "      <td>Zagreb</td>\n",
       "      <td>pm10</td>\n",
       "      <td>7.0</td>\n",
       "    </tr>\n",
       "    <tr>\n",
       "      <th>5</th>\n",
       "      <td>3/2/2018</td>\n",
       "      <td>HR</td>\n",
       "      <td>Zagreb</td>\n",
       "      <td>pm10</td>\n",
       "      <td>55.0</td>\n",
       "    </tr>\n",
       "    <tr>\n",
       "      <th>6</th>\n",
       "      <td>2/20/2018</td>\n",
       "      <td>HR</td>\n",
       "      <td>Zagreb</td>\n",
       "      <td>pm10</td>\n",
       "      <td>10.0</td>\n",
       "    </tr>\n",
       "    <tr>\n",
       "      <th>7</th>\n",
       "      <td>2/23/2018</td>\n",
       "      <td>HR</td>\n",
       "      <td>Zagreb</td>\n",
       "      <td>pm10</td>\n",
       "      <td>13.0</td>\n",
       "    </tr>\n",
       "    <tr>\n",
       "      <th>8</th>\n",
       "      <td>3/12/2018</td>\n",
       "      <td>HR</td>\n",
       "      <td>Zagreb</td>\n",
       "      <td>pm10</td>\n",
       "      <td>9.0</td>\n",
       "    </tr>\n",
       "    <tr>\n",
       "      <th>9</th>\n",
       "      <td>3/25/2018</td>\n",
       "      <td>HR</td>\n",
       "      <td>Zagreb</td>\n",
       "      <td>pm10</td>\n",
       "      <td>27.0</td>\n",
       "    </tr>\n",
       "  </tbody>\n",
       "</table>\n",
       "</div>"
      ],
      "text/plain": [
       "        Date Country    City Specie  median\n",
       "0  4/19/2018      HR  Zagreb   pm10    19.0\n",
       "1   5/3/2018      HR  Zagreb   pm10    20.0\n",
       "2   5/8/2018      HR  Zagreb   pm10    17.0\n",
       "3  5/31/2018      HR  Zagreb   pm10    25.0\n",
       "4  6/22/2018      HR  Zagreb   pm10     7.0\n",
       "5   3/2/2018      HR  Zagreb   pm10    55.0\n",
       "6  2/20/2018      HR  Zagreb   pm10    10.0\n",
       "7  2/23/2018      HR  Zagreb   pm10    13.0\n",
       "8  3/12/2018      HR  Zagreb   pm10     9.0\n",
       "9  3/25/2018      HR  Zagreb   pm10    27.0"
      ]
     },
     "execution_count": 122,
     "metadata": {},
     "output_type": "execute_result"
    }
   ],
   "source": [
    "# Loading the data\n",
    "raw_data_2018_H1 = pd.read_csv(r\"/kaggle/input/complete-raw-median/waqi-covid19-airqualitydata-2018H1.csv\")\n",
    "\n",
    "# print the shape\n",
    "print(raw_data_2018_H1.shape)\n",
    "\n",
    "#runs the first 5 rows\n",
    "raw_data_2018_H1.head(10)"
   ]
  },
  {
   "cell_type": "code",
   "execution_count": 123,
   "id": "5b6886f1",
   "metadata": {
    "execution": {
     "iopub.execute_input": "2025-01-09T17:55:37.003897Z",
     "iopub.status.busy": "2025-01-09T17:55:37.003437Z",
     "iopub.status.idle": "2025-01-09T17:55:37.080853Z",
     "shell.execute_reply": "2025-01-09T17:55:37.079658Z"
    },
    "id": "JPelQxICV5u7",
    "papermill": {
     "duration": 0.136293,
     "end_time": "2025-01-09T17:55:37.082888",
     "exception": false,
     "start_time": "2025-01-09T17:55:36.946595",
     "status": "completed"
    },
    "tags": []
   },
   "outputs": [],
   "source": [
    "# Convert 'Date' to datetime\n",
    "raw_data_2018_H1['Date'] = pd.to_datetime(raw_data_2018_H1['Date'])"
   ]
  },
  {
   "cell_type": "code",
   "execution_count": 124,
   "id": "5b1da87c",
   "metadata": {
    "execution": {
     "iopub.execute_input": "2025-01-09T17:55:37.194656Z",
     "iopub.status.busy": "2025-01-09T17:55:37.194283Z",
     "iopub.status.idle": "2025-01-09T17:55:37.200000Z",
     "shell.execute_reply": "2025-01-09T17:55:37.198880Z"
    },
    "executionInfo": {
     "elapsed": 5,
     "status": "ok",
     "timestamp": 1734445448690,
     "user": {
      "displayName": "Tahmida Majumder",
      "userId": "15415648085337204568"
     },
     "user_tz": -480
    },
    "id": "ZHkuZ82UV5u7",
    "outputId": "e5e8997a-e0d3-48cb-abcb-e898a59d20ca",
    "papermill": {
     "duration": 0.063536,
     "end_time": "2025-01-09T17:55:37.201677",
     "exception": false,
     "start_time": "2025-01-09T17:55:37.138141",
     "status": "completed"
    },
    "tags": []
   },
   "outputs": [
    {
     "data": {
      "text/plain": [
       "(552440, 5)"
      ]
     },
     "execution_count": 124,
     "metadata": {},
     "output_type": "execute_result"
    }
   ],
   "source": [
    "raw_data_2018_H1.shape"
   ]
  },
  {
   "cell_type": "code",
   "execution_count": 125,
   "id": "ce90b356",
   "metadata": {
    "execution": {
     "iopub.execute_input": "2025-01-09T17:55:37.313777Z",
     "iopub.status.busy": "2025-01-09T17:55:37.313355Z",
     "iopub.status.idle": "2025-01-09T17:55:37.750458Z",
     "shell.execute_reply": "2025-01-09T17:55:37.749282Z"
    },
    "id": "V3SCxI-cV5u7",
    "papermill": {
     "duration": 0.495926,
     "end_time": "2025-01-09T17:55:37.752617",
     "exception": false,
     "start_time": "2025-01-09T17:55:37.256691",
     "status": "completed"
    },
    "tags": []
   },
   "outputs": [],
   "source": [
    "# Pivot the data\n",
    "data_df_2018_H1 = raw_data_2018_H1.pivot_table(\n",
    "    index=['Date', 'Country', 'City'],  # Grouping columns\n",
    "    columns='Specie',                  # Unique values become columns\n",
    "    values='median',                   # Values to aggregate\n",
    "    aggfunc='mean'                     # Aggregation function\n",
    ").reset_index()"
   ]
  },
  {
   "cell_type": "code",
   "execution_count": 126,
   "id": "7475dbbc",
   "metadata": {
    "execution": {
     "iopub.execute_input": "2025-01-09T17:55:37.867660Z",
     "iopub.status.busy": "2025-01-09T17:55:37.867259Z",
     "iopub.status.idle": "2025-01-09T17:55:37.892182Z",
     "shell.execute_reply": "2025-01-09T17:55:37.891080Z"
    },
    "executionInfo": {
     "elapsed": 13,
     "status": "ok",
     "timestamp": 1734445449140,
     "user": {
      "displayName": "Tahmida Majumder",
      "userId": "15415648085337204568"
     },
     "user_tz": -480
    },
    "id": "saMJRBpZV5u7",
    "outputId": "789956c9-ac5b-46f4-ddc0-d49b61d8df58",
    "papermill": {
     "duration": 0.085753,
     "end_time": "2025-01-09T17:55:37.893934",
     "exception": false,
     "start_time": "2025-01-09T17:55:37.808181",
     "status": "completed"
    },
    "tags": []
   },
   "outputs": [
    {
     "name": "stdout",
     "output_type": "stream",
     "text": [
      "(92410, 22)\n"
     ]
    },
    {
     "data": {
      "text/html": [
       "<div>\n",
       "<style scoped>\n",
       "    .dataframe tbody tr th:only-of-type {\n",
       "        vertical-align: middle;\n",
       "    }\n",
       "\n",
       "    .dataframe tbody tr th {\n",
       "        vertical-align: top;\n",
       "    }\n",
       "\n",
       "    .dataframe thead th {\n",
       "        text-align: right;\n",
       "    }\n",
       "</style>\n",
       "<table border=\"1\" class=\"dataframe\">\n",
       "  <thead>\n",
       "    <tr style=\"text-align: right;\">\n",
       "      <th>Specie</th>\n",
       "      <th>Date</th>\n",
       "      <th>Country</th>\n",
       "      <th>City</th>\n",
       "      <th>aqi</th>\n",
       "      <th>co</th>\n",
       "      <th>d</th>\n",
       "      <th>humidity</th>\n",
       "      <th>mepaqi</th>\n",
       "      <th>no2</th>\n",
       "      <th>o3</th>\n",
       "      <th>...</th>\n",
       "      <th>pm25</th>\n",
       "      <th>pol</th>\n",
       "      <th>precipitation</th>\n",
       "      <th>pressure</th>\n",
       "      <th>so2</th>\n",
       "      <th>temperature</th>\n",
       "      <th>uvi</th>\n",
       "      <th>wd</th>\n",
       "      <th>wind-gust</th>\n",
       "      <th>wind-speed</th>\n",
       "    </tr>\n",
       "  </thead>\n",
       "  <tbody>\n",
       "    <tr>\n",
       "      <th>0</th>\n",
       "      <td>2018-01-01</td>\n",
       "      <td>AE</td>\n",
       "      <td>Abu Dhabi</td>\n",
       "      <td>NaN</td>\n",
       "      <td>NaN</td>\n",
       "      <td>NaN</td>\n",
       "      <td>NaN</td>\n",
       "      <td>NaN</td>\n",
       "      <td>NaN</td>\n",
       "      <td>NaN</td>\n",
       "      <td>...</td>\n",
       "      <td>85.0</td>\n",
       "      <td>NaN</td>\n",
       "      <td>NaN</td>\n",
       "      <td>NaN</td>\n",
       "      <td>NaN</td>\n",
       "      <td>NaN</td>\n",
       "      <td>NaN</td>\n",
       "      <td>NaN</td>\n",
       "      <td>NaN</td>\n",
       "      <td>NaN</td>\n",
       "    </tr>\n",
       "    <tr>\n",
       "      <th>1</th>\n",
       "      <td>2018-01-01</td>\n",
       "      <td>AR</td>\n",
       "      <td>Buenos Aires</td>\n",
       "      <td>NaN</td>\n",
       "      <td>2.9</td>\n",
       "      <td>NaN</td>\n",
       "      <td>NaN</td>\n",
       "      <td>NaN</td>\n",
       "      <td>6.0</td>\n",
       "      <td>11.0</td>\n",
       "      <td>...</td>\n",
       "      <td>50.0</td>\n",
       "      <td>NaN</td>\n",
       "      <td>NaN</td>\n",
       "      <td>NaN</td>\n",
       "      <td>1.1</td>\n",
       "      <td>NaN</td>\n",
       "      <td>NaN</td>\n",
       "      <td>NaN</td>\n",
       "      <td>NaN</td>\n",
       "      <td>NaN</td>\n",
       "    </tr>\n",
       "    <tr>\n",
       "      <th>2</th>\n",
       "      <td>2018-01-01</td>\n",
       "      <td>AT</td>\n",
       "      <td>Graz</td>\n",
       "      <td>NaN</td>\n",
       "      <td>0.1</td>\n",
       "      <td>NaN</td>\n",
       "      <td>NaN</td>\n",
       "      <td>NaN</td>\n",
       "      <td>15.1</td>\n",
       "      <td>NaN</td>\n",
       "      <td>...</td>\n",
       "      <td>NaN</td>\n",
       "      <td>NaN</td>\n",
       "      <td>NaN</td>\n",
       "      <td>NaN</td>\n",
       "      <td>1.6</td>\n",
       "      <td>NaN</td>\n",
       "      <td>NaN</td>\n",
       "      <td>NaN</td>\n",
       "      <td>NaN</td>\n",
       "      <td>NaN</td>\n",
       "    </tr>\n",
       "    <tr>\n",
       "      <th>3</th>\n",
       "      <td>2018-01-01</td>\n",
       "      <td>AT</td>\n",
       "      <td>Innsbruck</td>\n",
       "      <td>NaN</td>\n",
       "      <td>0.1</td>\n",
       "      <td>NaN</td>\n",
       "      <td>NaN</td>\n",
       "      <td>NaN</td>\n",
       "      <td>18.3</td>\n",
       "      <td>NaN</td>\n",
       "      <td>...</td>\n",
       "      <td>NaN</td>\n",
       "      <td>NaN</td>\n",
       "      <td>NaN</td>\n",
       "      <td>NaN</td>\n",
       "      <td>1.1</td>\n",
       "      <td>NaN</td>\n",
       "      <td>NaN</td>\n",
       "      <td>NaN</td>\n",
       "      <td>NaN</td>\n",
       "      <td>NaN</td>\n",
       "    </tr>\n",
       "    <tr>\n",
       "      <th>4</th>\n",
       "      <td>2018-01-01</td>\n",
       "      <td>AT</td>\n",
       "      <td>Linz</td>\n",
       "      <td>NaN</td>\n",
       "      <td>0.1</td>\n",
       "      <td>NaN</td>\n",
       "      <td>NaN</td>\n",
       "      <td>NaN</td>\n",
       "      <td>13.8</td>\n",
       "      <td>NaN</td>\n",
       "      <td>...</td>\n",
       "      <td>93.0</td>\n",
       "      <td>NaN</td>\n",
       "      <td>NaN</td>\n",
       "      <td>NaN</td>\n",
       "      <td>1.3</td>\n",
       "      <td>NaN</td>\n",
       "      <td>NaN</td>\n",
       "      <td>NaN</td>\n",
       "      <td>NaN</td>\n",
       "      <td>NaN</td>\n",
       "    </tr>\n",
       "  </tbody>\n",
       "</table>\n",
       "<p>5 rows × 22 columns</p>\n",
       "</div>"
      ],
      "text/plain": [
       "Specie       Date Country          City  aqi   co   d  humidity  mepaqi   no2  \\\n",
       "0      2018-01-01      AE     Abu Dhabi  NaN  NaN NaN       NaN     NaN   NaN   \n",
       "1      2018-01-01      AR  Buenos Aires  NaN  2.9 NaN       NaN     NaN   6.0   \n",
       "2      2018-01-01      AT          Graz  NaN  0.1 NaN       NaN     NaN  15.1   \n",
       "3      2018-01-01      AT     Innsbruck  NaN  0.1 NaN       NaN     NaN  18.3   \n",
       "4      2018-01-01      AT          Linz  NaN  0.1 NaN       NaN     NaN  13.8   \n",
       "\n",
       "Specie    o3  ...  pm25  pol  precipitation  pressure  so2  temperature  uvi  \\\n",
       "0        NaN  ...  85.0  NaN            NaN       NaN  NaN          NaN  NaN   \n",
       "1       11.0  ...  50.0  NaN            NaN       NaN  1.1          NaN  NaN   \n",
       "2        NaN  ...   NaN  NaN            NaN       NaN  1.6          NaN  NaN   \n",
       "3        NaN  ...   NaN  NaN            NaN       NaN  1.1          NaN  NaN   \n",
       "4        NaN  ...  93.0  NaN            NaN       NaN  1.3          NaN  NaN   \n",
       "\n",
       "Specie  wd  wind-gust  wind-speed  \n",
       "0      NaN        NaN         NaN  \n",
       "1      NaN        NaN         NaN  \n",
       "2      NaN        NaN         NaN  \n",
       "3      NaN        NaN         NaN  \n",
       "4      NaN        NaN         NaN  \n",
       "\n",
       "[5 rows x 22 columns]"
      ]
     },
     "execution_count": 126,
     "metadata": {},
     "output_type": "execute_result"
    }
   ],
   "source": [
    "print(data_df_2018_H1.shape)\n",
    "data_df_2018_H1.head()"
   ]
  },
  {
   "cell_type": "code",
   "execution_count": 127,
   "id": "be274609",
   "metadata": {
    "execution": {
     "iopub.execute_input": "2025-01-09T17:55:38.008949Z",
     "iopub.status.busy": "2025-01-09T17:55:38.008542Z",
     "iopub.status.idle": "2025-01-09T17:55:38.027458Z",
     "shell.execute_reply": "2025-01-09T17:55:38.026225Z"
    },
    "executionInfo": {
     "elapsed": 10,
     "status": "ok",
     "timestamp": 1734445449140,
     "user": {
      "displayName": "Tahmida Majumder",
      "userId": "15415648085337204568"
     },
     "user_tz": -480
    },
    "id": "HXEnb-q1V5u7",
    "outputId": "aa296fa0-488a-4c6b-ea0f-3db7fc1837e9",
    "papermill": {
     "duration": 0.078865,
     "end_time": "2025-01-09T17:55:38.029236",
     "exception": false,
     "start_time": "2025-01-09T17:55:37.950371",
     "status": "completed"
    },
    "tags": []
   },
   "outputs": [
    {
     "data": {
      "text/plain": [
       "Specie\n",
       "Date                 0\n",
       "Country              0\n",
       "City                 0\n",
       "aqi              89157\n",
       "co               32652\n",
       "d                90397\n",
       "humidity         68770\n",
       "mepaqi           92232\n",
       "no2              12867\n",
       "o3               16072\n",
       "pm1              92249\n",
       "pm10             16901\n",
       "pm25             16184\n",
       "pol              91979\n",
       "precipitation    90576\n",
       "pressure         69101\n",
       "so2              27288\n",
       "temperature      68764\n",
       "uvi              90294\n",
       "wd               88246\n",
       "wind-gust        77551\n",
       "wind-speed       72070\n",
       "dtype: int64"
      ]
     },
     "execution_count": 127,
     "metadata": {},
     "output_type": "execute_result"
    }
   ],
   "source": [
    "data_df_2018_H1.isnull().sum()"
   ]
  },
  {
   "cell_type": "code",
   "execution_count": null,
   "id": "41e6fb06",
   "metadata": {
    "id": "LrH9cHRcV4GW",
    "papermill": {
     "duration": 0.05678,
     "end_time": "2025-01-09T17:55:38.146927",
     "exception": false,
     "start_time": "2025-01-09T17:55:38.090147",
     "status": "completed"
    },
    "tags": []
   },
   "outputs": [],
   "source": []
  },
  {
   "cell_type": "markdown",
   "id": "310e46b3",
   "metadata": {
    "id": "MMOZkreeWbiJ",
    "papermill": {
     "duration": 0.054681,
     "end_time": "2025-01-09T17:55:38.257622",
     "exception": false,
     "start_time": "2025-01-09T17:55:38.202941",
     "status": "completed"
    },
    "tags": []
   },
   "source": [
    "# 2017_H1"
   ]
  },
  {
   "cell_type": "code",
   "execution_count": 128,
   "id": "06a40a95",
   "metadata": {
    "execution": {
     "iopub.execute_input": "2025-01-09T17:55:38.369741Z",
     "iopub.status.busy": "2025-01-09T17:55:38.369388Z",
     "iopub.status.idle": "2025-01-09T17:55:38.744829Z",
     "shell.execute_reply": "2025-01-09T17:55:38.743609Z"
    },
    "executionInfo": {
     "elapsed": 1232,
     "status": "ok",
     "timestamp": 1734445450364,
     "user": {
      "displayName": "Tahmida Majumder",
      "userId": "15415648085337204568"
     },
     "user_tz": -480
    },
    "id": "gTFzIl_eWbiJ",
    "outputId": "99cf2c57-f316-46ef-9ac6-71f03c00eeec",
    "papermill": {
     "duration": 0.433618,
     "end_time": "2025-01-09T17:55:38.746617",
     "exception": false,
     "start_time": "2025-01-09T17:55:38.312999",
     "status": "completed"
    },
    "tags": []
   },
   "outputs": [
    {
     "name": "stdout",
     "output_type": "stream",
     "text": [
      "(427974, 5)\n"
     ]
    },
    {
     "data": {
      "text/html": [
       "<div>\n",
       "<style scoped>\n",
       "    .dataframe tbody tr th:only-of-type {\n",
       "        vertical-align: middle;\n",
       "    }\n",
       "\n",
       "    .dataframe tbody tr th {\n",
       "        vertical-align: top;\n",
       "    }\n",
       "\n",
       "    .dataframe thead th {\n",
       "        text-align: right;\n",
       "    }\n",
       "</style>\n",
       "<table border=\"1\" class=\"dataframe\">\n",
       "  <thead>\n",
       "    <tr style=\"text-align: right;\">\n",
       "      <th></th>\n",
       "      <th>Date</th>\n",
       "      <th>Country</th>\n",
       "      <th>City</th>\n",
       "      <th>Specie</th>\n",
       "      <th>median</th>\n",
       "    </tr>\n",
       "  </thead>\n",
       "  <tbody>\n",
       "    <tr>\n",
       "      <th>0</th>\n",
       "      <td>12/27/2016</td>\n",
       "      <td>CN</td>\n",
       "      <td>Beijing</td>\n",
       "      <td>co</td>\n",
       "      <td>7.3</td>\n",
       "    </tr>\n",
       "    <tr>\n",
       "      <th>1</th>\n",
       "      <td>1/28/2017</td>\n",
       "      <td>CN</td>\n",
       "      <td>Beijing</td>\n",
       "      <td>co</td>\n",
       "      <td>23.5</td>\n",
       "    </tr>\n",
       "    <tr>\n",
       "      <th>2</th>\n",
       "      <td>2/24/2017</td>\n",
       "      <td>CN</td>\n",
       "      <td>Beijing</td>\n",
       "      <td>co</td>\n",
       "      <td>6.4</td>\n",
       "    </tr>\n",
       "    <tr>\n",
       "      <th>3</th>\n",
       "      <td>3/18/2017</td>\n",
       "      <td>CN</td>\n",
       "      <td>Beijing</td>\n",
       "      <td>co</td>\n",
       "      <td>11.8</td>\n",
       "    </tr>\n",
       "    <tr>\n",
       "      <th>4</th>\n",
       "      <td>4/16/2017</td>\n",
       "      <td>CN</td>\n",
       "      <td>Beijing</td>\n",
       "      <td>co</td>\n",
       "      <td>9.1</td>\n",
       "    </tr>\n",
       "    <tr>\n",
       "      <th>5</th>\n",
       "      <td>6/12/2017</td>\n",
       "      <td>CN</td>\n",
       "      <td>Beijing</td>\n",
       "      <td>co</td>\n",
       "      <td>10.0</td>\n",
       "    </tr>\n",
       "    <tr>\n",
       "      <th>6</th>\n",
       "      <td>2/16/2017</td>\n",
       "      <td>CN</td>\n",
       "      <td>Beijing</td>\n",
       "      <td>co</td>\n",
       "      <td>4.6</td>\n",
       "    </tr>\n",
       "    <tr>\n",
       "      <th>7</th>\n",
       "      <td>3/6/2017</td>\n",
       "      <td>CN</td>\n",
       "      <td>Beijing</td>\n",
       "      <td>co</td>\n",
       "      <td>4.6</td>\n",
       "    </tr>\n",
       "    <tr>\n",
       "      <th>8</th>\n",
       "      <td>4/29/2017</td>\n",
       "      <td>CN</td>\n",
       "      <td>Beijing</td>\n",
       "      <td>co</td>\n",
       "      <td>3.7</td>\n",
       "    </tr>\n",
       "    <tr>\n",
       "      <th>9</th>\n",
       "      <td>6/3/2017</td>\n",
       "      <td>CN</td>\n",
       "      <td>Beijing</td>\n",
       "      <td>co</td>\n",
       "      <td>6.4</td>\n",
       "    </tr>\n",
       "  </tbody>\n",
       "</table>\n",
       "</div>"
      ],
      "text/plain": [
       "         Date Country     City Specie  median\n",
       "0  12/27/2016      CN  Beijing     co     7.3\n",
       "1   1/28/2017      CN  Beijing     co    23.5\n",
       "2   2/24/2017      CN  Beijing     co     6.4\n",
       "3   3/18/2017      CN  Beijing     co    11.8\n",
       "4   4/16/2017      CN  Beijing     co     9.1\n",
       "5   6/12/2017      CN  Beijing     co    10.0\n",
       "6   2/16/2017      CN  Beijing     co     4.6\n",
       "7    3/6/2017      CN  Beijing     co     4.6\n",
       "8   4/29/2017      CN  Beijing     co     3.7\n",
       "9    6/3/2017      CN  Beijing     co     6.4"
      ]
     },
     "execution_count": 128,
     "metadata": {},
     "output_type": "execute_result"
    }
   ],
   "source": [
    "# Loading the data\n",
    "raw_data_2017_H1 = pd.read_csv(r\"/kaggle/input/complete-raw-median/waqi-covid19-airqualitydata-2017H1.csv\")\n",
    "\n",
    "# print the shape\n",
    "print(raw_data_2017_H1.shape)\n",
    "\n",
    "#runs the first 5 rows\n",
    "raw_data_2017_H1.head(10)"
   ]
  },
  {
   "cell_type": "code",
   "execution_count": 129,
   "id": "360ed170",
   "metadata": {
    "execution": {
     "iopub.execute_input": "2025-01-09T17:55:38.859719Z",
     "iopub.status.busy": "2025-01-09T17:55:38.859335Z",
     "iopub.status.idle": "2025-01-09T17:55:38.922149Z",
     "shell.execute_reply": "2025-01-09T17:55:38.920933Z"
    },
    "id": "Lnzv_vyuWbiJ",
    "papermill": {
     "duration": 0.121474,
     "end_time": "2025-01-09T17:55:38.924100",
     "exception": false,
     "start_time": "2025-01-09T17:55:38.802626",
     "status": "completed"
    },
    "tags": []
   },
   "outputs": [],
   "source": [
    "# Convert 'Date' to datetime\n",
    "raw_data_2017_H1['Date'] = pd.to_datetime(raw_data_2017_H1['Date'])"
   ]
  },
  {
   "cell_type": "code",
   "execution_count": 130,
   "id": "3edbcb19",
   "metadata": {
    "execution": {
     "iopub.execute_input": "2025-01-09T17:55:39.038411Z",
     "iopub.status.busy": "2025-01-09T17:55:39.038085Z",
     "iopub.status.idle": "2025-01-09T17:55:39.043931Z",
     "shell.execute_reply": "2025-01-09T17:55:39.043011Z"
    },
    "executionInfo": {
     "elapsed": 15,
     "status": "ok",
     "timestamp": 1734445450364,
     "user": {
      "displayName": "Tahmida Majumder",
      "userId": "15415648085337204568"
     },
     "user_tz": -480
    },
    "id": "sE_T9b0-WbiJ",
    "outputId": "04196de5-0cf9-4b4e-bcc7-a24814a8cbe2",
    "papermill": {
     "duration": 0.065491,
     "end_time": "2025-01-09T17:55:39.045654",
     "exception": false,
     "start_time": "2025-01-09T17:55:38.980163",
     "status": "completed"
    },
    "tags": []
   },
   "outputs": [
    {
     "data": {
      "text/plain": [
       "(427974, 5)"
      ]
     },
     "execution_count": 130,
     "metadata": {},
     "output_type": "execute_result"
    }
   ],
   "source": [
    "raw_data_2017_H1.shape"
   ]
  },
  {
   "cell_type": "code",
   "execution_count": 131,
   "id": "775f18a9",
   "metadata": {
    "execution": {
     "iopub.execute_input": "2025-01-09T17:55:39.165901Z",
     "iopub.status.busy": "2025-01-09T17:55:39.165511Z",
     "iopub.status.idle": "2025-01-09T17:55:39.480623Z",
     "shell.execute_reply": "2025-01-09T17:55:39.479544Z"
    },
    "id": "B1LZaSuFWbiK",
    "papermill": {
     "duration": 0.378732,
     "end_time": "2025-01-09T17:55:39.482581",
     "exception": false,
     "start_time": "2025-01-09T17:55:39.103849",
     "status": "completed"
    },
    "tags": []
   },
   "outputs": [],
   "source": [
    "# Pivot the data\n",
    "data_df_2017_H1 = raw_data_2017_H1.pivot_table(\n",
    "    index=['Date', 'Country', 'City'],  # Grouping columns\n",
    "    columns='Specie',                  # Unique values become columns\n",
    "    values='median',                   # Values to aggregate\n",
    "    aggfunc='mean'                     # Aggregation function\n",
    ").reset_index()"
   ]
  },
  {
   "cell_type": "code",
   "execution_count": 132,
   "id": "56e4da99",
   "metadata": {
    "execution": {
     "iopub.execute_input": "2025-01-09T17:55:39.595719Z",
     "iopub.status.busy": "2025-01-09T17:55:39.595346Z",
     "iopub.status.idle": "2025-01-09T17:55:39.621354Z",
     "shell.execute_reply": "2025-01-09T17:55:39.620293Z"
    },
    "executionInfo": {
     "elapsed": 13,
     "status": "ok",
     "timestamp": 1734445450364,
     "user": {
      "displayName": "Tahmida Majumder",
      "userId": "15415648085337204568"
     },
     "user_tz": -480
    },
    "id": "ZUeeQdFoWbiK",
    "outputId": "8d1a07b8-68eb-40f6-8b94-4c0557aa1cd3",
    "papermill": {
     "duration": 0.084172,
     "end_time": "2025-01-09T17:55:39.623038",
     "exception": false,
     "start_time": "2025-01-09T17:55:39.538866",
     "status": "completed"
    },
    "tags": []
   },
   "outputs": [
    {
     "name": "stdout",
     "output_type": "stream",
     "text": [
      "(88640, 21)\n"
     ]
    },
    {
     "data": {
      "text/html": [
       "<div>\n",
       "<style scoped>\n",
       "    .dataframe tbody tr th:only-of-type {\n",
       "        vertical-align: middle;\n",
       "    }\n",
       "\n",
       "    .dataframe tbody tr th {\n",
       "        vertical-align: top;\n",
       "    }\n",
       "\n",
       "    .dataframe thead th {\n",
       "        text-align: right;\n",
       "    }\n",
       "</style>\n",
       "<table border=\"1\" class=\"dataframe\">\n",
       "  <thead>\n",
       "    <tr style=\"text-align: right;\">\n",
       "      <th>Specie</th>\n",
       "      <th>Date</th>\n",
       "      <th>Country</th>\n",
       "      <th>City</th>\n",
       "      <th>aqi</th>\n",
       "      <th>co</th>\n",
       "      <th>d</th>\n",
       "      <th>humidity</th>\n",
       "      <th>mepaqi</th>\n",
       "      <th>neph</th>\n",
       "      <th>no2</th>\n",
       "      <th>...</th>\n",
       "      <th>pm1</th>\n",
       "      <th>pm10</th>\n",
       "      <th>pm25</th>\n",
       "      <th>pol</th>\n",
       "      <th>pressure</th>\n",
       "      <th>so2</th>\n",
       "      <th>temperature</th>\n",
       "      <th>uvi</th>\n",
       "      <th>wd</th>\n",
       "      <th>wind-speed</th>\n",
       "    </tr>\n",
       "  </thead>\n",
       "  <tbody>\n",
       "    <tr>\n",
       "      <th>0</th>\n",
       "      <td>2016-12-26</td>\n",
       "      <td>AR</td>\n",
       "      <td>Buenos Aires</td>\n",
       "      <td>NaN</td>\n",
       "      <td>0.1</td>\n",
       "      <td>NaN</td>\n",
       "      <td>NaN</td>\n",
       "      <td>NaN</td>\n",
       "      <td>NaN</td>\n",
       "      <td>NaN</td>\n",
       "      <td>...</td>\n",
       "      <td>NaN</td>\n",
       "      <td>9.0</td>\n",
       "      <td>25.0</td>\n",
       "      <td>NaN</td>\n",
       "      <td>NaN</td>\n",
       "      <td>2.1</td>\n",
       "      <td>NaN</td>\n",
       "      <td>NaN</td>\n",
       "      <td>NaN</td>\n",
       "      <td>NaN</td>\n",
       "    </tr>\n",
       "    <tr>\n",
       "      <th>1</th>\n",
       "      <td>2016-12-26</td>\n",
       "      <td>AT</td>\n",
       "      <td>Graz</td>\n",
       "      <td>NaN</td>\n",
       "      <td>0.1</td>\n",
       "      <td>NaN</td>\n",
       "      <td>NaN</td>\n",
       "      <td>NaN</td>\n",
       "      <td>NaN</td>\n",
       "      <td>15.1</td>\n",
       "      <td>...</td>\n",
       "      <td>NaN</td>\n",
       "      <td>34.0</td>\n",
       "      <td>NaN</td>\n",
       "      <td>NaN</td>\n",
       "      <td>NaN</td>\n",
       "      <td>1.6</td>\n",
       "      <td>NaN</td>\n",
       "      <td>NaN</td>\n",
       "      <td>NaN</td>\n",
       "      <td>NaN</td>\n",
       "    </tr>\n",
       "    <tr>\n",
       "      <th>2</th>\n",
       "      <td>2016-12-26</td>\n",
       "      <td>AT</td>\n",
       "      <td>Innsbruck</td>\n",
       "      <td>NaN</td>\n",
       "      <td>0.1</td>\n",
       "      <td>NaN</td>\n",
       "      <td>NaN</td>\n",
       "      <td>NaN</td>\n",
       "      <td>NaN</td>\n",
       "      <td>19.7</td>\n",
       "      <td>...</td>\n",
       "      <td>NaN</td>\n",
       "      <td>19.0</td>\n",
       "      <td>NaN</td>\n",
       "      <td>NaN</td>\n",
       "      <td>NaN</td>\n",
       "      <td>2.8</td>\n",
       "      <td>NaN</td>\n",
       "      <td>NaN</td>\n",
       "      <td>NaN</td>\n",
       "      <td>NaN</td>\n",
       "    </tr>\n",
       "    <tr>\n",
       "      <th>3</th>\n",
       "      <td>2016-12-26</td>\n",
       "      <td>AT</td>\n",
       "      <td>Linz</td>\n",
       "      <td>NaN</td>\n",
       "      <td>0.1</td>\n",
       "      <td>NaN</td>\n",
       "      <td>NaN</td>\n",
       "      <td>NaN</td>\n",
       "      <td>NaN</td>\n",
       "      <td>6.9</td>\n",
       "      <td>...</td>\n",
       "      <td>NaN</td>\n",
       "      <td>8.0</td>\n",
       "      <td>21.0</td>\n",
       "      <td>NaN</td>\n",
       "      <td>NaN</td>\n",
       "      <td>3.6</td>\n",
       "      <td>NaN</td>\n",
       "      <td>NaN</td>\n",
       "      <td>NaN</td>\n",
       "      <td>NaN</td>\n",
       "    </tr>\n",
       "    <tr>\n",
       "      <th>4</th>\n",
       "      <td>2016-12-26</td>\n",
       "      <td>AT</td>\n",
       "      <td>Salzburg</td>\n",
       "      <td>NaN</td>\n",
       "      <td>0.1</td>\n",
       "      <td>NaN</td>\n",
       "      <td>NaN</td>\n",
       "      <td>NaN</td>\n",
       "      <td>NaN</td>\n",
       "      <td>14.2</td>\n",
       "      <td>...</td>\n",
       "      <td>NaN</td>\n",
       "      <td>10.0</td>\n",
       "      <td>NaN</td>\n",
       "      <td>NaN</td>\n",
       "      <td>NaN</td>\n",
       "      <td>2.1</td>\n",
       "      <td>NaN</td>\n",
       "      <td>NaN</td>\n",
       "      <td>NaN</td>\n",
       "      <td>NaN</td>\n",
       "    </tr>\n",
       "  </tbody>\n",
       "</table>\n",
       "<p>5 rows × 21 columns</p>\n",
       "</div>"
      ],
      "text/plain": [
       "Specie       Date Country          City  aqi   co   d  humidity  mepaqi  neph  \\\n",
       "0      2016-12-26      AR  Buenos Aires  NaN  0.1 NaN       NaN     NaN   NaN   \n",
       "1      2016-12-26      AT          Graz  NaN  0.1 NaN       NaN     NaN   NaN   \n",
       "2      2016-12-26      AT     Innsbruck  NaN  0.1 NaN       NaN     NaN   NaN   \n",
       "3      2016-12-26      AT          Linz  NaN  0.1 NaN       NaN     NaN   NaN   \n",
       "4      2016-12-26      AT      Salzburg  NaN  0.1 NaN       NaN     NaN   NaN   \n",
       "\n",
       "Specie   no2  ...  pm1  pm10  pm25  pol  pressure  so2  temperature  uvi  wd  \\\n",
       "0        NaN  ...  NaN   9.0  25.0  NaN       NaN  2.1          NaN  NaN NaN   \n",
       "1       15.1  ...  NaN  34.0   NaN  NaN       NaN  1.6          NaN  NaN NaN   \n",
       "2       19.7  ...  NaN  19.0   NaN  NaN       NaN  2.8          NaN  NaN NaN   \n",
       "3        6.9  ...  NaN   8.0  21.0  NaN       NaN  3.6          NaN  NaN NaN   \n",
       "4       14.2  ...  NaN  10.0   NaN  NaN       NaN  2.1          NaN  NaN NaN   \n",
       "\n",
       "Specie  wind-speed  \n",
       "0              NaN  \n",
       "1              NaN  \n",
       "2              NaN  \n",
       "3              NaN  \n",
       "4              NaN  \n",
       "\n",
       "[5 rows x 21 columns]"
      ]
     },
     "execution_count": 132,
     "metadata": {},
     "output_type": "execute_result"
    }
   ],
   "source": [
    "print(data_df_2017_H1.shape)\n",
    "data_df_2017_H1.head()"
   ]
  },
  {
   "cell_type": "code",
   "execution_count": 133,
   "id": "a20640e9",
   "metadata": {
    "execution": {
     "iopub.execute_input": "2025-01-09T17:55:39.737833Z",
     "iopub.status.busy": "2025-01-09T17:55:39.737402Z",
     "iopub.status.idle": "2025-01-09T17:55:39.755977Z",
     "shell.execute_reply": "2025-01-09T17:55:39.754661Z"
    },
    "executionInfo": {
     "elapsed": 11,
     "status": "ok",
     "timestamp": 1734445450365,
     "user": {
      "displayName": "Tahmida Majumder",
      "userId": "15415648085337204568"
     },
     "user_tz": -480
    },
    "id": "fayUPva7WbiK",
    "outputId": "930137a7-f030-4094-d89b-ae7c91fb0979",
    "papermill": {
     "duration": 0.076752,
     "end_time": "2025-01-09T17:55:39.758036",
     "exception": false,
     "start_time": "2025-01-09T17:55:39.681284",
     "status": "completed"
    },
    "tags": []
   },
   "outputs": [
    {
     "data": {
      "text/plain": [
       "Specie\n",
       "Date               0\n",
       "Country            0\n",
       "City               0\n",
       "aqi            86591\n",
       "co             30374\n",
       "d              88622\n",
       "humidity       88493\n",
       "mepaqi         88451\n",
       "neph           88100\n",
       "no2            10738\n",
       "o3             12809\n",
       "pm1            88425\n",
       "pm10           16164\n",
       "pm25           13666\n",
       "pol            88438\n",
       "pressure       88507\n",
       "so2            25932\n",
       "temperature    88493\n",
       "uvi            86525\n",
       "wd             88610\n",
       "wind-speed     88608\n",
       "dtype: int64"
      ]
     },
     "execution_count": 133,
     "metadata": {},
     "output_type": "execute_result"
    }
   ],
   "source": [
    "data_df_2017_H1.isnull().sum()"
   ]
  },
  {
   "cell_type": "code",
   "execution_count": null,
   "id": "13df48f1",
   "metadata": {
    "id": "0UJPBKFuWa3t",
    "papermill": {
     "duration": 0.056185,
     "end_time": "2025-01-09T17:55:39.871904",
     "exception": false,
     "start_time": "2025-01-09T17:55:39.815719",
     "status": "completed"
    },
    "tags": []
   },
   "outputs": [],
   "source": []
  },
  {
   "cell_type": "markdown",
   "id": "4db7eb8e",
   "metadata": {
    "id": "tyiqL55NW0Jb",
    "papermill": {
     "duration": 0.056329,
     "end_time": "2025-01-09T17:55:39.983988",
     "exception": false,
     "start_time": "2025-01-09T17:55:39.927659",
     "status": "completed"
    },
    "tags": []
   },
   "source": [
    "# 2016_H1"
   ]
  },
  {
   "cell_type": "code",
   "execution_count": 134,
   "id": "a05bfbaf",
   "metadata": {
    "execution": {
     "iopub.execute_input": "2025-01-09T17:55:40.099207Z",
     "iopub.status.busy": "2025-01-09T17:55:40.098816Z",
     "iopub.status.idle": "2025-01-09T17:55:40.449603Z",
     "shell.execute_reply": "2025-01-09T17:55:40.448504Z"
    },
    "executionInfo": {
     "elapsed": 871,
     "status": "ok",
     "timestamp": 1734445451226,
     "user": {
      "displayName": "Tahmida Majumder",
      "userId": "15415648085337204568"
     },
     "user_tz": -480
    },
    "id": "A0oX3oOmW0Jc",
    "outputId": "b6d471b6-9709-4de1-9746-16490d2fee20",
    "papermill": {
     "duration": 0.410334,
     "end_time": "2025-01-09T17:55:40.451076",
     "exception": false,
     "start_time": "2025-01-09T17:55:40.040742",
     "status": "completed"
    },
    "tags": []
   },
   "outputs": [
    {
     "name": "stdout",
     "output_type": "stream",
     "text": [
      "(413840, 5)\n"
     ]
    },
    {
     "data": {
      "text/html": [
       "<div>\n",
       "<style scoped>\n",
       "    .dataframe tbody tr th:only-of-type {\n",
       "        vertical-align: middle;\n",
       "    }\n",
       "\n",
       "    .dataframe tbody tr th {\n",
       "        vertical-align: top;\n",
       "    }\n",
       "\n",
       "    .dataframe thead th {\n",
       "        text-align: right;\n",
       "    }\n",
       "</style>\n",
       "<table border=\"1\" class=\"dataframe\">\n",
       "  <thead>\n",
       "    <tr style=\"text-align: right;\">\n",
       "      <th></th>\n",
       "      <th>Date</th>\n",
       "      <th>Country</th>\n",
       "      <th>City</th>\n",
       "      <th>Specie</th>\n",
       "      <th>median</th>\n",
       "    </tr>\n",
       "  </thead>\n",
       "  <tbody>\n",
       "    <tr>\n",
       "      <th>0</th>\n",
       "      <td>2/3/2016</td>\n",
       "      <td>SE</td>\n",
       "      <td>Stockholm</td>\n",
       "      <td>o3</td>\n",
       "      <td>17.6</td>\n",
       "    </tr>\n",
       "    <tr>\n",
       "      <th>1</th>\n",
       "      <td>2/4/2016</td>\n",
       "      <td>SE</td>\n",
       "      <td>Stockholm</td>\n",
       "      <td>o3</td>\n",
       "      <td>17.8</td>\n",
       "    </tr>\n",
       "    <tr>\n",
       "      <th>2</th>\n",
       "      <td>2/16/2016</td>\n",
       "      <td>SE</td>\n",
       "      <td>Stockholm</td>\n",
       "      <td>o3</td>\n",
       "      <td>15.4</td>\n",
       "    </tr>\n",
       "    <tr>\n",
       "      <th>3</th>\n",
       "      <td>3/11/2016</td>\n",
       "      <td>SE</td>\n",
       "      <td>Stockholm</td>\n",
       "      <td>o3</td>\n",
       "      <td>15.6</td>\n",
       "    </tr>\n",
       "    <tr>\n",
       "      <th>4</th>\n",
       "      <td>4/2/2016</td>\n",
       "      <td>SE</td>\n",
       "      <td>Stockholm</td>\n",
       "      <td>o3</td>\n",
       "      <td>25.6</td>\n",
       "    </tr>\n",
       "    <tr>\n",
       "      <th>5</th>\n",
       "      <td>5/2/2016</td>\n",
       "      <td>SE</td>\n",
       "      <td>Stockholm</td>\n",
       "      <td>o3</td>\n",
       "      <td>35.1</td>\n",
       "    </tr>\n",
       "    <tr>\n",
       "      <th>6</th>\n",
       "      <td>5/11/2016</td>\n",
       "      <td>SE</td>\n",
       "      <td>Stockholm</td>\n",
       "      <td>o3</td>\n",
       "      <td>30.5</td>\n",
       "    </tr>\n",
       "    <tr>\n",
       "      <th>7</th>\n",
       "      <td>1/4/2016</td>\n",
       "      <td>SE</td>\n",
       "      <td>Stockholm</td>\n",
       "      <td>o3</td>\n",
       "      <td>12.9</td>\n",
       "    </tr>\n",
       "    <tr>\n",
       "      <th>8</th>\n",
       "      <td>5/26/2016</td>\n",
       "      <td>SE</td>\n",
       "      <td>Stockholm</td>\n",
       "      <td>o3</td>\n",
       "      <td>17.5</td>\n",
       "    </tr>\n",
       "    <tr>\n",
       "      <th>9</th>\n",
       "      <td>6/18/2016</td>\n",
       "      <td>SE</td>\n",
       "      <td>Stockholm</td>\n",
       "      <td>o3</td>\n",
       "      <td>16.9</td>\n",
       "    </tr>\n",
       "  </tbody>\n",
       "</table>\n",
       "</div>"
      ],
      "text/plain": [
       "        Date Country       City Specie  median\n",
       "0   2/3/2016      SE  Stockholm     o3    17.6\n",
       "1   2/4/2016      SE  Stockholm     o3    17.8\n",
       "2  2/16/2016      SE  Stockholm     o3    15.4\n",
       "3  3/11/2016      SE  Stockholm     o3    15.6\n",
       "4   4/2/2016      SE  Stockholm     o3    25.6\n",
       "5   5/2/2016      SE  Stockholm     o3    35.1\n",
       "6  5/11/2016      SE  Stockholm     o3    30.5\n",
       "7   1/4/2016      SE  Stockholm     o3    12.9\n",
       "8  5/26/2016      SE  Stockholm     o3    17.5\n",
       "9  6/18/2016      SE  Stockholm     o3    16.9"
      ]
     },
     "execution_count": 134,
     "metadata": {},
     "output_type": "execute_result"
    }
   ],
   "source": [
    "# Loading the data\n",
    "raw_data_2016_H1 = pd.read_csv(r\"/kaggle/input/complete-raw-median/waqi-covid19-airqualitydata-2016H1.csv\")\n",
    "\n",
    "# print the shape\n",
    "print(raw_data_2016_H1.shape)\n",
    "\n",
    "#runs the first 5 rows\n",
    "raw_data_2016_H1.head(10)"
   ]
  },
  {
   "cell_type": "code",
   "execution_count": 135,
   "id": "17614923",
   "metadata": {
    "execution": {
     "iopub.execute_input": "2025-01-09T17:55:40.567686Z",
     "iopub.status.busy": "2025-01-09T17:55:40.567315Z",
     "iopub.status.idle": "2025-01-09T17:55:40.625958Z",
     "shell.execute_reply": "2025-01-09T17:55:40.624859Z"
    },
    "id": "pQoiKds5W0Jc",
    "papermill": {
     "duration": 0.118888,
     "end_time": "2025-01-09T17:55:40.627955",
     "exception": false,
     "start_time": "2025-01-09T17:55:40.509067",
     "status": "completed"
    },
    "tags": []
   },
   "outputs": [],
   "source": [
    "# Convert 'Date' to datetime\n",
    "raw_data_2016_H1['Date'] = pd.to_datetime(raw_data_2016_H1['Date'])"
   ]
  },
  {
   "cell_type": "code",
   "execution_count": 136,
   "id": "6daff027",
   "metadata": {
    "execution": {
     "iopub.execute_input": "2025-01-09T17:55:40.747403Z",
     "iopub.status.busy": "2025-01-09T17:55:40.747071Z",
     "iopub.status.idle": "2025-01-09T17:55:40.752708Z",
     "shell.execute_reply": "2025-01-09T17:55:40.751705Z"
    },
    "executionInfo": {
     "elapsed": 9,
     "status": "ok",
     "timestamp": 1734445451226,
     "user": {
      "displayName": "Tahmida Majumder",
      "userId": "15415648085337204568"
     },
     "user_tz": -480
    },
    "id": "i7ywTKmBW0Jc",
    "outputId": "6ac79b3d-acac-4d2b-f332-edb1a90399ed",
    "papermill": {
     "duration": 0.066763,
     "end_time": "2025-01-09T17:55:40.754207",
     "exception": false,
     "start_time": "2025-01-09T17:55:40.687444",
     "status": "completed"
    },
    "tags": []
   },
   "outputs": [
    {
     "data": {
      "text/plain": [
       "(413840, 5)"
      ]
     },
     "execution_count": 136,
     "metadata": {},
     "output_type": "execute_result"
    }
   ],
   "source": [
    "raw_data_2016_H1.shape"
   ]
  },
  {
   "cell_type": "code",
   "execution_count": 137,
   "id": "e3f838cf",
   "metadata": {
    "execution": {
     "iopub.execute_input": "2025-01-09T17:55:40.876661Z",
     "iopub.status.busy": "2025-01-09T17:55:40.876283Z",
     "iopub.status.idle": "2025-01-09T17:55:41.164781Z",
     "shell.execute_reply": "2025-01-09T17:55:41.163867Z"
    },
    "id": "5Yu3LLm9W0Jc",
    "papermill": {
     "duration": 0.351938,
     "end_time": "2025-01-09T17:55:41.166611",
     "exception": false,
     "start_time": "2025-01-09T17:55:40.814673",
     "status": "completed"
    },
    "tags": []
   },
   "outputs": [],
   "source": [
    "# Pivot the data\n",
    "data_df_2016_H1 = raw_data_2016_H1.pivot_table(\n",
    "    index=['Date', 'Country', 'City'],  # Grouping columns\n",
    "    columns='Specie',                  # Unique values become columns\n",
    "    values='median',                   # Values to aggregate\n",
    "    aggfunc='mean'                     # Aggregation function\n",
    ").reset_index()"
   ]
  },
  {
   "cell_type": "code",
   "execution_count": 138,
   "id": "557db068",
   "metadata": {
    "execution": {
     "iopub.execute_input": "2025-01-09T17:55:41.283535Z",
     "iopub.status.busy": "2025-01-09T17:55:41.283206Z",
     "iopub.status.idle": "2025-01-09T17:55:41.302360Z",
     "shell.execute_reply": "2025-01-09T17:55:41.301287Z"
    },
    "executionInfo": {
     "elapsed": 407,
     "status": "ok",
     "timestamp": 1734445451627,
     "user": {
      "displayName": "Tahmida Majumder",
      "userId": "15415648085337204568"
     },
     "user_tz": -480
    },
    "id": "NOMXGHXbW0Jc",
    "outputId": "c875047d-b804-4179-ecb4-ab92a18deccb",
    "papermill": {
     "duration": 0.079687,
     "end_time": "2025-01-09T17:55:41.304258",
     "exception": false,
     "start_time": "2025-01-09T17:55:41.224571",
     "status": "completed"
    },
    "tags": []
   },
   "outputs": [
    {
     "name": "stdout",
     "output_type": "stream",
     "text": [
      "(86762, 15)\n"
     ]
    },
    {
     "data": {
      "text/html": [
       "<div>\n",
       "<style scoped>\n",
       "    .dataframe tbody tr th:only-of-type {\n",
       "        vertical-align: middle;\n",
       "    }\n",
       "\n",
       "    .dataframe tbody tr th {\n",
       "        vertical-align: top;\n",
       "    }\n",
       "\n",
       "    .dataframe thead th {\n",
       "        text-align: right;\n",
       "    }\n",
       "</style>\n",
       "<table border=\"1\" class=\"dataframe\">\n",
       "  <thead>\n",
       "    <tr style=\"text-align: right;\">\n",
       "      <th>Specie</th>\n",
       "      <th>Date</th>\n",
       "      <th>Country</th>\n",
       "      <th>City</th>\n",
       "      <th>aqi</th>\n",
       "      <th>co</th>\n",
       "      <th>mepaqi</th>\n",
       "      <th>neph</th>\n",
       "      <th>no2</th>\n",
       "      <th>o3</th>\n",
       "      <th>pm10</th>\n",
       "      <th>pm25</th>\n",
       "      <th>pol</th>\n",
       "      <th>psi</th>\n",
       "      <th>so2</th>\n",
       "      <th>uvi</th>\n",
       "    </tr>\n",
       "  </thead>\n",
       "  <tbody>\n",
       "    <tr>\n",
       "      <th>0</th>\n",
       "      <td>2015-12-28</td>\n",
       "      <td>AE</td>\n",
       "      <td>Dubai</td>\n",
       "      <td>NaN</td>\n",
       "      <td>4.3</td>\n",
       "      <td>NaN</td>\n",
       "      <td>NaN</td>\n",
       "      <td>16.0</td>\n",
       "      <td>10.7</td>\n",
       "      <td>8.0</td>\n",
       "      <td>70.0</td>\n",
       "      <td>NaN</td>\n",
       "      <td>NaN</td>\n",
       "      <td>1.9</td>\n",
       "      <td>NaN</td>\n",
       "    </tr>\n",
       "    <tr>\n",
       "      <th>1</th>\n",
       "      <td>2015-12-28</td>\n",
       "      <td>AT</td>\n",
       "      <td>Graz</td>\n",
       "      <td>NaN</td>\n",
       "      <td>0.1</td>\n",
       "      <td>NaN</td>\n",
       "      <td>NaN</td>\n",
       "      <td>18.8</td>\n",
       "      <td>NaN</td>\n",
       "      <td>32.0</td>\n",
       "      <td>NaN</td>\n",
       "      <td>NaN</td>\n",
       "      <td>NaN</td>\n",
       "      <td>3.6</td>\n",
       "      <td>NaN</td>\n",
       "    </tr>\n",
       "    <tr>\n",
       "      <th>2</th>\n",
       "      <td>2015-12-28</td>\n",
       "      <td>AT</td>\n",
       "      <td>Innsbruck</td>\n",
       "      <td>NaN</td>\n",
       "      <td>0.1</td>\n",
       "      <td>NaN</td>\n",
       "      <td>NaN</td>\n",
       "      <td>37.5</td>\n",
       "      <td>NaN</td>\n",
       "      <td>44.0</td>\n",
       "      <td>NaN</td>\n",
       "      <td>NaN</td>\n",
       "      <td>NaN</td>\n",
       "      <td>3.6</td>\n",
       "      <td>NaN</td>\n",
       "    </tr>\n",
       "    <tr>\n",
       "      <th>3</th>\n",
       "      <td>2015-12-28</td>\n",
       "      <td>AT</td>\n",
       "      <td>Linz</td>\n",
       "      <td>NaN</td>\n",
       "      <td>0.1</td>\n",
       "      <td>NaN</td>\n",
       "      <td>NaN</td>\n",
       "      <td>18.8</td>\n",
       "      <td>NaN</td>\n",
       "      <td>40.0</td>\n",
       "      <td>108.0</td>\n",
       "      <td>NaN</td>\n",
       "      <td>NaN</td>\n",
       "      <td>2.1</td>\n",
       "      <td>NaN</td>\n",
       "    </tr>\n",
       "    <tr>\n",
       "      <th>4</th>\n",
       "      <td>2015-12-28</td>\n",
       "      <td>AT</td>\n",
       "      <td>Salzburg</td>\n",
       "      <td>NaN</td>\n",
       "      <td>0.1</td>\n",
       "      <td>NaN</td>\n",
       "      <td>NaN</td>\n",
       "      <td>28.8</td>\n",
       "      <td>NaN</td>\n",
       "      <td>21.0</td>\n",
       "      <td>NaN</td>\n",
       "      <td>NaN</td>\n",
       "      <td>NaN</td>\n",
       "      <td>2.6</td>\n",
       "      <td>NaN</td>\n",
       "    </tr>\n",
       "  </tbody>\n",
       "</table>\n",
       "</div>"
      ],
      "text/plain": [
       "Specie       Date Country       City  aqi   co  mepaqi  neph   no2    o3  \\\n",
       "0      2015-12-28      AE      Dubai  NaN  4.3     NaN   NaN  16.0  10.7   \n",
       "1      2015-12-28      AT       Graz  NaN  0.1     NaN   NaN  18.8   NaN   \n",
       "2      2015-12-28      AT  Innsbruck  NaN  0.1     NaN   NaN  37.5   NaN   \n",
       "3      2015-12-28      AT       Linz  NaN  0.1     NaN   NaN  18.8   NaN   \n",
       "4      2015-12-28      AT   Salzburg  NaN  0.1     NaN   NaN  28.8   NaN   \n",
       "\n",
       "Specie  pm10   pm25  pol  psi  so2  uvi  \n",
       "0        8.0   70.0  NaN  NaN  1.9  NaN  \n",
       "1       32.0    NaN  NaN  NaN  3.6  NaN  \n",
       "2       44.0    NaN  NaN  NaN  3.6  NaN  \n",
       "3       40.0  108.0  NaN  NaN  2.1  NaN  \n",
       "4       21.0    NaN  NaN  NaN  2.6  NaN  "
      ]
     },
     "execution_count": 138,
     "metadata": {},
     "output_type": "execute_result"
    }
   ],
   "source": [
    "print(data_df_2016_H1.shape)\n",
    "data_df_2016_H1.head()"
   ]
  },
  {
   "cell_type": "code",
   "execution_count": 139,
   "id": "3dceed31",
   "metadata": {
    "execution": {
     "iopub.execute_input": "2025-01-09T17:55:41.423565Z",
     "iopub.status.busy": "2025-01-09T17:55:41.423223Z",
     "iopub.status.idle": "2025-01-09T17:55:41.441161Z",
     "shell.execute_reply": "2025-01-09T17:55:41.440012Z"
    },
    "executionInfo": {
     "elapsed": 8,
     "status": "ok",
     "timestamp": 1734445451627,
     "user": {
      "displayName": "Tahmida Majumder",
      "userId": "15415648085337204568"
     },
     "user_tz": -480
    },
    "id": "5Rhi5yskW0Jd",
    "outputId": "27a7de6a-d82c-44e0-91cd-a8473d11f26f",
    "papermill": {
     "duration": 0.080621,
     "end_time": "2025-01-09T17:55:41.443122",
     "exception": false,
     "start_time": "2025-01-09T17:55:41.362501",
     "status": "completed"
    },
    "tags": []
   },
   "outputs": [
    {
     "data": {
      "text/plain": [
       "Specie\n",
       "Date           0\n",
       "Country        0\n",
       "City           0\n",
       "aqi        83470\n",
       "co         30320\n",
       "mepaqi     86575\n",
       "neph       86753\n",
       "no2        11241\n",
       "o3         12670\n",
       "pm10       15432\n",
       "pm25       17453\n",
       "pol        86227\n",
       "psi        86575\n",
       "so2        25835\n",
       "uvi        84753\n",
       "dtype: int64"
      ]
     },
     "execution_count": 139,
     "metadata": {},
     "output_type": "execute_result"
    }
   ],
   "source": [
    "data_df_2016_H1.isnull().sum()"
   ]
  },
  {
   "cell_type": "code",
   "execution_count": null,
   "id": "bc810d1f",
   "metadata": {
    "id": "S4jQH2d5Wa6V",
    "papermill": {
     "duration": 0.062318,
     "end_time": "2025-01-09T17:55:41.565251",
     "exception": false,
     "start_time": "2025-01-09T17:55:41.502933",
     "status": "completed"
    },
    "tags": []
   },
   "outputs": [],
   "source": []
  },
  {
   "cell_type": "markdown",
   "id": "ca8f7397",
   "metadata": {
    "id": "_XHNv7igXJZF",
    "papermill": {
     "duration": 0.066487,
     "end_time": "2025-01-09T17:55:41.689020",
     "exception": false,
     "start_time": "2025-01-09T17:55:41.622533",
     "status": "completed"
    },
    "tags": []
   },
   "source": [
    "# 2015_H1"
   ]
  },
  {
   "cell_type": "code",
   "execution_count": 140,
   "id": "a5d22e48",
   "metadata": {
    "execution": {
     "iopub.execute_input": "2025-01-09T17:55:41.834721Z",
     "iopub.status.busy": "2025-01-09T17:55:41.834371Z",
     "iopub.status.idle": "2025-01-09T17:55:42.187025Z",
     "shell.execute_reply": "2025-01-09T17:55:42.185903Z"
    },
    "executionInfo": {
     "elapsed": 619,
     "status": "ok",
     "timestamp": 1734445452240,
     "user": {
      "displayName": "Tahmida Majumder",
      "userId": "15415648085337204568"
     },
     "user_tz": -480
    },
    "id": "X7VepbA2XJZF",
    "outputId": "1c20e3b3-b3c9-447b-fece-e3185546fe3c",
    "papermill": {
     "duration": 0.41395,
     "end_time": "2025-01-09T17:55:42.188666",
     "exception": false,
     "start_time": "2025-01-09T17:55:41.774716",
     "status": "completed"
    },
    "tags": []
   },
   "outputs": [
    {
     "name": "stdout",
     "output_type": "stream",
     "text": [
      "(388980, 5)\n"
     ]
    },
    {
     "data": {
      "text/html": [
       "<div>\n",
       "<style scoped>\n",
       "    .dataframe tbody tr th:only-of-type {\n",
       "        vertical-align: middle;\n",
       "    }\n",
       "\n",
       "    .dataframe tbody tr th {\n",
       "        vertical-align: top;\n",
       "    }\n",
       "\n",
       "    .dataframe thead th {\n",
       "        text-align: right;\n",
       "    }\n",
       "</style>\n",
       "<table border=\"1\" class=\"dataframe\">\n",
       "  <thead>\n",
       "    <tr style=\"text-align: right;\">\n",
       "      <th></th>\n",
       "      <th>Date</th>\n",
       "      <th>Country</th>\n",
       "      <th>City</th>\n",
       "      <th>Specie</th>\n",
       "      <th>median</th>\n",
       "    </tr>\n",
       "  </thead>\n",
       "  <tbody>\n",
       "    <tr>\n",
       "      <th>0</th>\n",
       "      <td>1/6/2015</td>\n",
       "      <td>KR</td>\n",
       "      <td>Jeonju</td>\n",
       "      <td>co</td>\n",
       "      <td>4.5</td>\n",
       "    </tr>\n",
       "    <tr>\n",
       "      <th>1</th>\n",
       "      <td>1/22/2015</td>\n",
       "      <td>KR</td>\n",
       "      <td>Jeonju</td>\n",
       "      <td>co</td>\n",
       "      <td>6.7</td>\n",
       "    </tr>\n",
       "    <tr>\n",
       "      <th>2</th>\n",
       "      <td>3/30/2015</td>\n",
       "      <td>KR</td>\n",
       "      <td>Jeonju</td>\n",
       "      <td>co</td>\n",
       "      <td>5.6</td>\n",
       "    </tr>\n",
       "    <tr>\n",
       "      <th>3</th>\n",
       "      <td>5/27/2015</td>\n",
       "      <td>KR</td>\n",
       "      <td>Jeonju</td>\n",
       "      <td>co</td>\n",
       "      <td>3.4</td>\n",
       "    </tr>\n",
       "    <tr>\n",
       "      <th>4</th>\n",
       "      <td>2/3/2015</td>\n",
       "      <td>KR</td>\n",
       "      <td>Jeonju</td>\n",
       "      <td>co</td>\n",
       "      <td>7.8</td>\n",
       "    </tr>\n",
       "    <tr>\n",
       "      <th>5</th>\n",
       "      <td>2/11/2015</td>\n",
       "      <td>KR</td>\n",
       "      <td>Jeonju</td>\n",
       "      <td>co</td>\n",
       "      <td>6.7</td>\n",
       "    </tr>\n",
       "    <tr>\n",
       "      <th>6</th>\n",
       "      <td>2/18/2015</td>\n",
       "      <td>KR</td>\n",
       "      <td>Jeonju</td>\n",
       "      <td>co</td>\n",
       "      <td>6.7</td>\n",
       "    </tr>\n",
       "    <tr>\n",
       "      <th>7</th>\n",
       "      <td>3/5/2015</td>\n",
       "      <td>KR</td>\n",
       "      <td>Jeonju</td>\n",
       "      <td>co</td>\n",
       "      <td>5.6</td>\n",
       "    </tr>\n",
       "    <tr>\n",
       "      <th>8</th>\n",
       "      <td>3/19/2015</td>\n",
       "      <td>KR</td>\n",
       "      <td>Jeonju</td>\n",
       "      <td>co</td>\n",
       "      <td>4.5</td>\n",
       "    </tr>\n",
       "    <tr>\n",
       "      <th>9</th>\n",
       "      <td>4/4/2015</td>\n",
       "      <td>KR</td>\n",
       "      <td>Jeonju</td>\n",
       "      <td>co</td>\n",
       "      <td>4.5</td>\n",
       "    </tr>\n",
       "  </tbody>\n",
       "</table>\n",
       "</div>"
      ],
      "text/plain": [
       "        Date Country    City Specie  median\n",
       "0   1/6/2015      KR  Jeonju     co     4.5\n",
       "1  1/22/2015      KR  Jeonju     co     6.7\n",
       "2  3/30/2015      KR  Jeonju     co     5.6\n",
       "3  5/27/2015      KR  Jeonju     co     3.4\n",
       "4   2/3/2015      KR  Jeonju     co     7.8\n",
       "5  2/11/2015      KR  Jeonju     co     6.7\n",
       "6  2/18/2015      KR  Jeonju     co     6.7\n",
       "7   3/5/2015      KR  Jeonju     co     5.6\n",
       "8  3/19/2015      KR  Jeonju     co     4.5\n",
       "9   4/4/2015      KR  Jeonju     co     4.5"
      ]
     },
     "execution_count": 140,
     "metadata": {},
     "output_type": "execute_result"
    }
   ],
   "source": [
    "# Loading the data\n",
    "raw_data_2015_H1 = pd.read_csv(r\"/kaggle/input/complete-raw-median/waqi-covid19-airqualitydata-2015H1.csv\")\n",
    "\n",
    "# print the shape\n",
    "print(raw_data_2015_H1.shape)\n",
    "\n",
    "#runs the first 5 rows\n",
    "raw_data_2015_H1.head(10)"
   ]
  },
  {
   "cell_type": "code",
   "execution_count": 141,
   "id": "8ab5ba30",
   "metadata": {
    "execution": {
     "iopub.execute_input": "2025-01-09T17:55:42.309187Z",
     "iopub.status.busy": "2025-01-09T17:55:42.308845Z",
     "iopub.status.idle": "2025-01-09T17:55:42.367582Z",
     "shell.execute_reply": "2025-01-09T17:55:42.366515Z"
    },
    "id": "kPDM2cWjXJZF",
    "papermill": {
     "duration": 0.121739,
     "end_time": "2025-01-09T17:55:42.369522",
     "exception": false,
     "start_time": "2025-01-09T17:55:42.247783",
     "status": "completed"
    },
    "tags": []
   },
   "outputs": [],
   "source": [
    "# Convert 'Date' to datetime\n",
    "raw_data_2015_H1['Date'] = pd.to_datetime(raw_data_2015_H1['Date'])"
   ]
  },
  {
   "cell_type": "code",
   "execution_count": 142,
   "id": "885f3320",
   "metadata": {
    "execution": {
     "iopub.execute_input": "2025-01-09T17:55:42.489685Z",
     "iopub.status.busy": "2025-01-09T17:55:42.489346Z",
     "iopub.status.idle": "2025-01-09T17:55:42.495046Z",
     "shell.execute_reply": "2025-01-09T17:55:42.494103Z"
    },
    "executionInfo": {
     "elapsed": 8,
     "status": "ok",
     "timestamp": 1734445452240,
     "user": {
      "displayName": "Tahmida Majumder",
      "userId": "15415648085337204568"
     },
     "user_tz": -480
    },
    "id": "Z3QTA-YXXJZF",
    "outputId": "ba2ac09d-6e6e-4991-927b-aa4345128eb9",
    "papermill": {
     "duration": 0.067331,
     "end_time": "2025-01-09T17:55:42.496521",
     "exception": false,
     "start_time": "2025-01-09T17:55:42.429190",
     "status": "completed"
    },
    "tags": []
   },
   "outputs": [
    {
     "data": {
      "text/plain": [
       "(388980, 5)"
      ]
     },
     "execution_count": 142,
     "metadata": {},
     "output_type": "execute_result"
    }
   ],
   "source": [
    "raw_data_2015_H1.shape"
   ]
  },
  {
   "cell_type": "code",
   "execution_count": 143,
   "id": "9002b320",
   "metadata": {
    "execution": {
     "iopub.execute_input": "2025-01-09T17:55:42.614887Z",
     "iopub.status.busy": "2025-01-09T17:55:42.614495Z",
     "iopub.status.idle": "2025-01-09T17:55:42.878335Z",
     "shell.execute_reply": "2025-01-09T17:55:42.877346Z"
    },
    "id": "SB7P9HiuXJZG",
    "papermill": {
     "duration": 0.326519,
     "end_time": "2025-01-09T17:55:42.880162",
     "exception": false,
     "start_time": "2025-01-09T17:55:42.553643",
     "status": "completed"
    },
    "tags": []
   },
   "outputs": [],
   "source": [
    "# Pivot the data\n",
    "data_df_2015_H1 = raw_data_2015_H1.pivot_table(\n",
    "    index=['Date', 'Country', 'City'],  # Grouping columns\n",
    "    columns='Specie',                  # Unique values become columns\n",
    "    values='median',                   # Values to aggregate\n",
    "    aggfunc='mean'                     # Aggregation function\n",
    ").reset_index()"
   ]
  },
  {
   "cell_type": "code",
   "execution_count": 144,
   "id": "25b6be76",
   "metadata": {
    "execution": {
     "iopub.execute_input": "2025-01-09T17:55:43.000185Z",
     "iopub.status.busy": "2025-01-09T17:55:42.999616Z",
     "iopub.status.idle": "2025-01-09T17:55:43.022269Z",
     "shell.execute_reply": "2025-01-09T17:55:43.021109Z"
    },
    "executionInfo": {
     "elapsed": 10,
     "status": "ok",
     "timestamp": 1734445452894,
     "user": {
      "displayName": "Tahmida Majumder",
      "userId": "15415648085337204568"
     },
     "user_tz": -480
    },
    "id": "7OXNbflxXJZG",
    "outputId": "7379c4e2-03de-4e8c-8769-416805c32492",
    "papermill": {
     "duration": 0.084852,
     "end_time": "2025-01-09T17:55:43.024028",
     "exception": false,
     "start_time": "2025-01-09T17:55:42.939176",
     "status": "completed"
    },
    "tags": []
   },
   "outputs": [
    {
     "name": "stdout",
     "output_type": "stream",
     "text": [
      "(83090, 14)\n"
     ]
    },
    {
     "data": {
      "text/html": [
       "<div>\n",
       "<style scoped>\n",
       "    .dataframe tbody tr th:only-of-type {\n",
       "        vertical-align: middle;\n",
       "    }\n",
       "\n",
       "    .dataframe tbody tr th {\n",
       "        vertical-align: top;\n",
       "    }\n",
       "\n",
       "    .dataframe thead th {\n",
       "        text-align: right;\n",
       "    }\n",
       "</style>\n",
       "<table border=\"1\" class=\"dataframe\">\n",
       "  <thead>\n",
       "    <tr style=\"text-align: right;\">\n",
       "      <th>Specie</th>\n",
       "      <th>Date</th>\n",
       "      <th>Country</th>\n",
       "      <th>City</th>\n",
       "      <th>aqi</th>\n",
       "      <th>co</th>\n",
       "      <th>mepaqi</th>\n",
       "      <th>neph</th>\n",
       "      <th>no2</th>\n",
       "      <th>o3</th>\n",
       "      <th>pm10</th>\n",
       "      <th>pm25</th>\n",
       "      <th>psi</th>\n",
       "      <th>so2</th>\n",
       "      <th>uvi</th>\n",
       "    </tr>\n",
       "  </thead>\n",
       "  <tbody>\n",
       "    <tr>\n",
       "      <th>0</th>\n",
       "      <td>2014-12-29</td>\n",
       "      <td>AT</td>\n",
       "      <td>Graz</td>\n",
       "      <td>NaN</td>\n",
       "      <td>0.1</td>\n",
       "      <td>NaN</td>\n",
       "      <td>NaN</td>\n",
       "      <td>9.0</td>\n",
       "      <td>NaN</td>\n",
       "      <td>13.0</td>\n",
       "      <td>NaN</td>\n",
       "      <td>NaN</td>\n",
       "      <td>1.6</td>\n",
       "      <td>NaN</td>\n",
       "    </tr>\n",
       "    <tr>\n",
       "      <th>1</th>\n",
       "      <td>2014-12-29</td>\n",
       "      <td>AT</td>\n",
       "      <td>Innsbruck</td>\n",
       "      <td>NaN</td>\n",
       "      <td>0.1</td>\n",
       "      <td>NaN</td>\n",
       "      <td>NaN</td>\n",
       "      <td>25.6</td>\n",
       "      <td>NaN</td>\n",
       "      <td>25.0</td>\n",
       "      <td>NaN</td>\n",
       "      <td>NaN</td>\n",
       "      <td>1.6</td>\n",
       "      <td>NaN</td>\n",
       "    </tr>\n",
       "    <tr>\n",
       "      <th>2</th>\n",
       "      <td>2014-12-29</td>\n",
       "      <td>AT</td>\n",
       "      <td>Linz</td>\n",
       "      <td>NaN</td>\n",
       "      <td>0.1</td>\n",
       "      <td>NaN</td>\n",
       "      <td>NaN</td>\n",
       "      <td>14.2</td>\n",
       "      <td>NaN</td>\n",
       "      <td>25.0</td>\n",
       "      <td>74.0</td>\n",
       "      <td>NaN</td>\n",
       "      <td>2.1</td>\n",
       "      <td>NaN</td>\n",
       "    </tr>\n",
       "    <tr>\n",
       "      <th>3</th>\n",
       "      <td>2014-12-29</td>\n",
       "      <td>AT</td>\n",
       "      <td>Salzburg</td>\n",
       "      <td>NaN</td>\n",
       "      <td>0.1</td>\n",
       "      <td>NaN</td>\n",
       "      <td>NaN</td>\n",
       "      <td>21.1</td>\n",
       "      <td>NaN</td>\n",
       "      <td>21.0</td>\n",
       "      <td>NaN</td>\n",
       "      <td>NaN</td>\n",
       "      <td>2.1</td>\n",
       "      <td>NaN</td>\n",
       "    </tr>\n",
       "    <tr>\n",
       "      <th>4</th>\n",
       "      <td>2014-12-29</td>\n",
       "      <td>AT</td>\n",
       "      <td>Vienna</td>\n",
       "      <td>NaN</td>\n",
       "      <td>0.1</td>\n",
       "      <td>NaN</td>\n",
       "      <td>NaN</td>\n",
       "      <td>9.0</td>\n",
       "      <td>NaN</td>\n",
       "      <td>20.0</td>\n",
       "      <td>65.0</td>\n",
       "      <td>NaN</td>\n",
       "      <td>2.6</td>\n",
       "      <td>NaN</td>\n",
       "    </tr>\n",
       "  </tbody>\n",
       "</table>\n",
       "</div>"
      ],
      "text/plain": [
       "Specie       Date Country       City  aqi   co  mepaqi  neph   no2  o3  pm10  \\\n",
       "0      2014-12-29      AT       Graz  NaN  0.1     NaN   NaN   9.0 NaN  13.0   \n",
       "1      2014-12-29      AT  Innsbruck  NaN  0.1     NaN   NaN  25.6 NaN  25.0   \n",
       "2      2014-12-29      AT       Linz  NaN  0.1     NaN   NaN  14.2 NaN  25.0   \n",
       "3      2014-12-29      AT   Salzburg  NaN  0.1     NaN   NaN  21.1 NaN  21.0   \n",
       "4      2014-12-29      AT     Vienna  NaN  0.1     NaN   NaN   9.0 NaN  20.0   \n",
       "\n",
       "Specie  pm25  psi  so2  uvi  \n",
       "0        NaN  NaN  1.6  NaN  \n",
       "1        NaN  NaN  1.6  NaN  \n",
       "2       74.0  NaN  2.1  NaN  \n",
       "3        NaN  NaN  2.1  NaN  \n",
       "4       65.0  NaN  2.6  NaN  "
      ]
     },
     "execution_count": 144,
     "metadata": {},
     "output_type": "execute_result"
    }
   ],
   "source": [
    "print(data_df_2015_H1.shape)\n",
    "data_df_2015_H1.head()"
   ]
  },
  {
   "cell_type": "code",
   "execution_count": 145,
   "id": "1ea8c5d3",
   "metadata": {
    "execution": {
     "iopub.execute_input": "2025-01-09T17:55:43.142739Z",
     "iopub.status.busy": "2025-01-09T17:55:43.142346Z",
     "iopub.status.idle": "2025-01-09T17:55:43.159696Z",
     "shell.execute_reply": "2025-01-09T17:55:43.158409Z"
    },
    "executionInfo": {
     "elapsed": 7,
     "status": "ok",
     "timestamp": 1734445452894,
     "user": {
      "displayName": "Tahmida Majumder",
      "userId": "15415648085337204568"
     },
     "user_tz": -480
    },
    "id": "SFCgjDgeXJZG",
    "outputId": "c7f73fa5-b55c-4f57-a58b-29f0509c3a05",
    "papermill": {
     "duration": 0.078252,
     "end_time": "2025-01-09T17:55:43.161723",
     "exception": false,
     "start_time": "2025-01-09T17:55:43.083471",
     "status": "completed"
    },
    "tags": []
   },
   "outputs": [
    {
     "data": {
      "text/plain": [
       "Specie\n",
       "Date           0\n",
       "Country        0\n",
       "City           0\n",
       "aqi        80383\n",
       "co         30736\n",
       "mepaqi     82901\n",
       "neph       82526\n",
       "no2        12888\n",
       "o3         14612\n",
       "pm10       14221\n",
       "pm25       18769\n",
       "psi        82914\n",
       "so2        24251\n",
       "uvi        80809\n",
       "dtype: int64"
      ]
     },
     "execution_count": 145,
     "metadata": {},
     "output_type": "execute_result"
    }
   ],
   "source": [
    "data_df_2015_H1.isnull().sum()"
   ]
  },
  {
   "cell_type": "markdown",
   "id": "f85282d5",
   "metadata": {
    "id": "sj16G4xjbPmz",
    "papermill": {
     "duration": 0.059325,
     "end_time": "2025-01-09T17:55:43.282868",
     "exception": false,
     "start_time": "2025-01-09T17:55:43.223543",
     "status": "completed"
    },
    "tags": []
   },
   "source": [
    "# **Combine 2015-2024**"
   ]
  },
  {
   "cell_type": "code",
   "execution_count": 146,
   "id": "3ee9848a",
   "metadata": {
    "execution": {
     "iopub.execute_input": "2025-01-09T17:55:43.405656Z",
     "iopub.status.busy": "2025-01-09T17:55:43.405322Z",
     "iopub.status.idle": "2025-01-09T17:55:43.649227Z",
     "shell.execute_reply": "2025-01-09T17:55:43.648225Z"
    },
    "id": "aXOUsDcDkm5T",
    "papermill": {
     "duration": 0.306662,
     "end_time": "2025-01-09T17:55:43.651169",
     "exception": false,
     "start_time": "2025-01-09T17:55:43.344507",
     "status": "completed"
    },
    "tags": []
   },
   "outputs": [],
   "source": [
    "data_2015_2024 = pd.concat([data_df_2015_H1, data_df_2016_H1, data_df_2017_H1, data_df_2018_H1,\n",
    "                            data_df_2019_Q1, data_df_2019_Q2, data_df_2019_Q3, data_df_2019_Q4,\n",
    "                            data_df_2020_Q1, data_df_2020_Q2, data_df_2020_Q3, data_df_2020_Q4,\n",
    "                            data_df_2021_Q1, data_df_2021_Q2, data_df_2021_Q3, data_df_2021_Q4,\n",
    "                            data_df_2022_Q2, data_df_2022_Q3, data_df_2022_Q4,\n",
    "                            data_df_2023_Q1, data_df_2023_Q2, data_df_2023_Q3, data_df_2023_Q4,\n",
    "                            data_df_2024], ignore_index=True)"
   ]
  },
  {
   "cell_type": "code",
   "execution_count": 147,
   "id": "0cb37a6d",
   "metadata": {
    "execution": {
     "iopub.execute_input": "2025-01-09T17:55:43.773837Z",
     "iopub.status.busy": "2025-01-09T17:55:43.773450Z",
     "iopub.status.idle": "2025-01-09T17:55:43.779399Z",
     "shell.execute_reply": "2025-01-09T17:55:43.778354Z"
    },
    "executionInfo": {
     "elapsed": 416,
     "status": "ok",
     "timestamp": 1734445678440,
     "user": {
      "displayName": "Tahmida Majumder",
      "userId": "15415648085337204568"
     },
     "user_tz": -480
    },
    "id": "xMdnjpaqj1xp",
    "outputId": "c297388a-7bbc-46a4-f802-5c00edd37d28",
    "papermill": {
     "duration": 0.067996,
     "end_time": "2025-01-09T17:55:43.781282",
     "exception": false,
     "start_time": "2025-01-09T17:55:43.713286",
     "status": "completed"
    },
    "tags": []
   },
   "outputs": [
    {
     "data": {
      "text/plain": [
       "(1465292, 27)"
      ]
     },
     "execution_count": 147,
     "metadata": {},
     "output_type": "execute_result"
    }
   ],
   "source": [
    "data_2015_2024.shape"
   ]
  },
  {
   "cell_type": "code",
   "execution_count": 148,
   "id": "63da9f2f",
   "metadata": {
    "execution": {
     "iopub.execute_input": "2025-01-09T17:55:43.900258Z",
     "iopub.status.busy": "2025-01-09T17:55:43.899925Z",
     "iopub.status.idle": "2025-01-09T17:55:44.110408Z",
     "shell.execute_reply": "2025-01-09T17:55:44.109387Z"
    },
    "executionInfo": {
     "elapsed": 371,
     "status": "ok",
     "timestamp": 1734445681461,
     "user": {
      "displayName": "Tahmida Majumder",
      "userId": "15415648085337204568"
     },
     "user_tz": -480
    },
    "id": "KXv8f-CUbzgh",
    "outputId": "841c597e-0a59-4318-c87e-59c9927581a3",
    "papermill": {
     "duration": 0.27117,
     "end_time": "2025-01-09T17:55:44.112173",
     "exception": false,
     "start_time": "2025-01-09T17:55:43.841003",
     "status": "completed"
    },
    "tags": []
   },
   "outputs": [
    {
     "data": {
      "text/plain": [
       "Specie\n",
       "Date                   0\n",
       "Country                0\n",
       "City                   0\n",
       "aqi              1425087\n",
       "co                543338\n",
       "mepaqi           1462465\n",
       "neph             1460620\n",
       "no2               252644\n",
       "o3                334264\n",
       "pm10              270226\n",
       "pm25              231892\n",
       "psi              1464929\n",
       "so2               454404\n",
       "uvi              1436260\n",
       "pol              1460334\n",
       "d                1463261\n",
       "humidity          353390\n",
       "pm1              1459918\n",
       "pressure          357472\n",
       "temperature       352369\n",
       "wd               1384106\n",
       "wind-speed        415550\n",
       "precipitation    1345013\n",
       "wind-gust         857154\n",
       "dew               616231\n",
       "wind gust        1433527\n",
       "wind speed       1415541\n",
       "dtype: int64"
      ]
     },
     "execution_count": 148,
     "metadata": {},
     "output_type": "execute_result"
    }
   ],
   "source": [
    "data_2015_2024.isnull().sum()"
   ]
  },
  {
   "cell_type": "code",
   "execution_count": 149,
   "id": "1e02c803",
   "metadata": {
    "execution": {
     "iopub.execute_input": "2025-01-09T17:55:44.235821Z",
     "iopub.status.busy": "2025-01-09T17:55:44.235452Z",
     "iopub.status.idle": "2025-01-09T17:55:44.256862Z",
     "shell.execute_reply": "2025-01-09T17:55:44.255669Z"
    },
    "executionInfo": {
     "elapsed": 618,
     "status": "ok",
     "timestamp": 1734445685400,
     "user": {
      "displayName": "Tahmida Majumder",
      "userId": "15415648085337204568"
     },
     "user_tz": -480
    },
    "id": "mssZYD39j11H",
    "outputId": "c33709e0-d3d8-4bd1-e283-1a1b253f7681",
    "papermill": {
     "duration": 0.084641,
     "end_time": "2025-01-09T17:55:44.258628",
     "exception": false,
     "start_time": "2025-01-09T17:55:44.173987",
     "status": "completed"
    },
    "tags": []
   },
   "outputs": [
    {
     "data": {
      "text/html": [
       "<div>\n",
       "<style scoped>\n",
       "    .dataframe tbody tr th:only-of-type {\n",
       "        vertical-align: middle;\n",
       "    }\n",
       "\n",
       "    .dataframe tbody tr th {\n",
       "        vertical-align: top;\n",
       "    }\n",
       "\n",
       "    .dataframe thead th {\n",
       "        text-align: right;\n",
       "    }\n",
       "</style>\n",
       "<table border=\"1\" class=\"dataframe\">\n",
       "  <thead>\n",
       "    <tr style=\"text-align: right;\">\n",
       "      <th>Specie</th>\n",
       "      <th>Date</th>\n",
       "      <th>Country</th>\n",
       "      <th>City</th>\n",
       "      <th>aqi</th>\n",
       "      <th>co</th>\n",
       "      <th>mepaqi</th>\n",
       "      <th>neph</th>\n",
       "      <th>no2</th>\n",
       "      <th>o3</th>\n",
       "      <th>pm10</th>\n",
       "      <th>...</th>\n",
       "      <th>pm1</th>\n",
       "      <th>pressure</th>\n",
       "      <th>temperature</th>\n",
       "      <th>wd</th>\n",
       "      <th>wind-speed</th>\n",
       "      <th>precipitation</th>\n",
       "      <th>wind-gust</th>\n",
       "      <th>dew</th>\n",
       "      <th>wind gust</th>\n",
       "      <th>wind speed</th>\n",
       "    </tr>\n",
       "  </thead>\n",
       "  <tbody>\n",
       "    <tr>\n",
       "      <th>0</th>\n",
       "      <td>2014-12-29</td>\n",
       "      <td>AT</td>\n",
       "      <td>Graz</td>\n",
       "      <td>NaN</td>\n",
       "      <td>0.1</td>\n",
       "      <td>NaN</td>\n",
       "      <td>NaN</td>\n",
       "      <td>9.0</td>\n",
       "      <td>NaN</td>\n",
       "      <td>13.0</td>\n",
       "      <td>...</td>\n",
       "      <td>NaN</td>\n",
       "      <td>NaN</td>\n",
       "      <td>NaN</td>\n",
       "      <td>NaN</td>\n",
       "      <td>NaN</td>\n",
       "      <td>NaN</td>\n",
       "      <td>NaN</td>\n",
       "      <td>NaN</td>\n",
       "      <td>NaN</td>\n",
       "      <td>NaN</td>\n",
       "    </tr>\n",
       "    <tr>\n",
       "      <th>1</th>\n",
       "      <td>2014-12-29</td>\n",
       "      <td>AT</td>\n",
       "      <td>Innsbruck</td>\n",
       "      <td>NaN</td>\n",
       "      <td>0.1</td>\n",
       "      <td>NaN</td>\n",
       "      <td>NaN</td>\n",
       "      <td>25.6</td>\n",
       "      <td>NaN</td>\n",
       "      <td>25.0</td>\n",
       "      <td>...</td>\n",
       "      <td>NaN</td>\n",
       "      <td>NaN</td>\n",
       "      <td>NaN</td>\n",
       "      <td>NaN</td>\n",
       "      <td>NaN</td>\n",
       "      <td>NaN</td>\n",
       "      <td>NaN</td>\n",
       "      <td>NaN</td>\n",
       "      <td>NaN</td>\n",
       "      <td>NaN</td>\n",
       "    </tr>\n",
       "    <tr>\n",
       "      <th>2</th>\n",
       "      <td>2014-12-29</td>\n",
       "      <td>AT</td>\n",
       "      <td>Linz</td>\n",
       "      <td>NaN</td>\n",
       "      <td>0.1</td>\n",
       "      <td>NaN</td>\n",
       "      <td>NaN</td>\n",
       "      <td>14.2</td>\n",
       "      <td>NaN</td>\n",
       "      <td>25.0</td>\n",
       "      <td>...</td>\n",
       "      <td>NaN</td>\n",
       "      <td>NaN</td>\n",
       "      <td>NaN</td>\n",
       "      <td>NaN</td>\n",
       "      <td>NaN</td>\n",
       "      <td>NaN</td>\n",
       "      <td>NaN</td>\n",
       "      <td>NaN</td>\n",
       "      <td>NaN</td>\n",
       "      <td>NaN</td>\n",
       "    </tr>\n",
       "    <tr>\n",
       "      <th>3</th>\n",
       "      <td>2014-12-29</td>\n",
       "      <td>AT</td>\n",
       "      <td>Salzburg</td>\n",
       "      <td>NaN</td>\n",
       "      <td>0.1</td>\n",
       "      <td>NaN</td>\n",
       "      <td>NaN</td>\n",
       "      <td>21.1</td>\n",
       "      <td>NaN</td>\n",
       "      <td>21.0</td>\n",
       "      <td>...</td>\n",
       "      <td>NaN</td>\n",
       "      <td>NaN</td>\n",
       "      <td>NaN</td>\n",
       "      <td>NaN</td>\n",
       "      <td>NaN</td>\n",
       "      <td>NaN</td>\n",
       "      <td>NaN</td>\n",
       "      <td>NaN</td>\n",
       "      <td>NaN</td>\n",
       "      <td>NaN</td>\n",
       "    </tr>\n",
       "    <tr>\n",
       "      <th>4</th>\n",
       "      <td>2014-12-29</td>\n",
       "      <td>AT</td>\n",
       "      <td>Vienna</td>\n",
       "      <td>NaN</td>\n",
       "      <td>0.1</td>\n",
       "      <td>NaN</td>\n",
       "      <td>NaN</td>\n",
       "      <td>9.0</td>\n",
       "      <td>NaN</td>\n",
       "      <td>20.0</td>\n",
       "      <td>...</td>\n",
       "      <td>NaN</td>\n",
       "      <td>NaN</td>\n",
       "      <td>NaN</td>\n",
       "      <td>NaN</td>\n",
       "      <td>NaN</td>\n",
       "      <td>NaN</td>\n",
       "      <td>NaN</td>\n",
       "      <td>NaN</td>\n",
       "      <td>NaN</td>\n",
       "      <td>NaN</td>\n",
       "    </tr>\n",
       "  </tbody>\n",
       "</table>\n",
       "<p>5 rows × 27 columns</p>\n",
       "</div>"
      ],
      "text/plain": [
       "Specie       Date Country       City  aqi   co  mepaqi  neph   no2  o3  pm10  \\\n",
       "0      2014-12-29      AT       Graz  NaN  0.1     NaN   NaN   9.0 NaN  13.0   \n",
       "1      2014-12-29      AT  Innsbruck  NaN  0.1     NaN   NaN  25.6 NaN  25.0   \n",
       "2      2014-12-29      AT       Linz  NaN  0.1     NaN   NaN  14.2 NaN  25.0   \n",
       "3      2014-12-29      AT   Salzburg  NaN  0.1     NaN   NaN  21.1 NaN  21.0   \n",
       "4      2014-12-29      AT     Vienna  NaN  0.1     NaN   NaN   9.0 NaN  20.0   \n",
       "\n",
       "Specie  ...  pm1  pressure  temperature  wd  wind-speed  precipitation  \\\n",
       "0       ...  NaN       NaN          NaN NaN         NaN            NaN   \n",
       "1       ...  NaN       NaN          NaN NaN         NaN            NaN   \n",
       "2       ...  NaN       NaN          NaN NaN         NaN            NaN   \n",
       "3       ...  NaN       NaN          NaN NaN         NaN            NaN   \n",
       "4       ...  NaN       NaN          NaN NaN         NaN            NaN   \n",
       "\n",
       "Specie  wind-gust  dew  wind gust  wind speed  \n",
       "0             NaN  NaN        NaN         NaN  \n",
       "1             NaN  NaN        NaN         NaN  \n",
       "2             NaN  NaN        NaN         NaN  \n",
       "3             NaN  NaN        NaN         NaN  \n",
       "4             NaN  NaN        NaN         NaN  \n",
       "\n",
       "[5 rows x 27 columns]"
      ]
     },
     "execution_count": 149,
     "metadata": {},
     "output_type": "execute_result"
    }
   ],
   "source": [
    "data_2015_2024.head()"
   ]
  },
  {
   "cell_type": "code",
   "execution_count": 150,
   "id": "55b8450a",
   "metadata": {
    "execution": {
     "iopub.execute_input": "2025-01-09T17:55:44.375732Z",
     "iopub.status.busy": "2025-01-09T17:55:44.375405Z",
     "iopub.status.idle": "2025-01-09T17:55:44.389171Z",
     "shell.execute_reply": "2025-01-09T17:55:44.388141Z"
    },
    "executionInfo": {
     "elapsed": 468,
     "status": "ok",
     "timestamp": 1734445689653,
     "user": {
      "displayName": "Tahmida Majumder",
      "userId": "15415648085337204568"
     },
     "user_tz": -480
    },
    "id": "bZeT3eCFAnGw",
    "outputId": "ac3572b3-a2ef-40bc-f5ec-4d1351f35263",
    "papermill": {
     "duration": 0.074015,
     "end_time": "2025-01-09T17:55:44.390952",
     "exception": false,
     "start_time": "2025-01-09T17:55:44.316937",
     "status": "completed"
    },
    "tags": []
   },
   "outputs": [
    {
     "name": "stdout",
     "output_type": "stream",
     "text": [
      "Minimum date: 2014-12-29 00:00:00\n",
      "Maximum date: 2025-01-09 00:00:00\n"
     ]
    }
   ],
   "source": [
    "# Find the minimum and maximum dates\n",
    "min_date = data_2015_2024['Date'].min()\n",
    "max_date = data_2015_2024['Date'].max()\n",
    "\n",
    "print('Minimum date:', min_date)\n",
    "print('Maximum date:', max_date)"
   ]
  },
  {
   "cell_type": "code",
   "execution_count": 151,
   "id": "76489a63",
   "metadata": {
    "execution": {
     "iopub.execute_input": "2025-01-09T17:55:44.509439Z",
     "iopub.status.busy": "2025-01-09T17:55:44.509075Z",
     "iopub.status.idle": "2025-01-09T17:55:44.513170Z",
     "shell.execute_reply": "2025-01-09T17:55:44.512087Z"
    },
    "id": "QCR5xMN0_UkA",
    "papermill": {
     "duration": 0.064569,
     "end_time": "2025-01-09T17:55:44.514921",
     "exception": false,
     "start_time": "2025-01-09T17:55:44.450352",
     "status": "completed"
    },
    "tags": []
   },
   "outputs": [],
   "source": [
    "import os"
   ]
  },
  {
   "cell_type": "code",
   "execution_count": 152,
   "id": "d8d58a14",
   "metadata": {
    "execution": {
     "iopub.execute_input": "2025-01-09T17:55:44.631986Z",
     "iopub.status.busy": "2025-01-09T17:55:44.631597Z",
     "iopub.status.idle": "2025-01-09T17:56:02.501339Z",
     "shell.execute_reply": "2025-01-09T17:56:02.500268Z"
    },
    "id": "ysJ7Sc3w_lSR",
    "papermill": {
     "duration": 17.930465,
     "end_time": "2025-01-09T17:56:02.503356",
     "exception": false,
     "start_time": "2025-01-09T17:55:44.572891",
     "status": "completed"
    },
    "tags": []
   },
   "outputs": [],
   "source": [
    "os.makedirs('/kaggle/working', exist_ok=True)\n",
    "data_2015_2024.to_csv('/kaggle/working/data_2015_2024.csv')"
   ]
  },
  {
   "cell_type": "markdown",
   "id": "7e9a295b",
   "metadata": {
    "id": "ji1dRy6wbZ_l",
    "papermill": {
     "duration": 0.060576,
     "end_time": "2025-01-09T17:56:02.625303",
     "exception": false,
     "start_time": "2025-01-09T17:56:02.564727",
     "status": "completed"
    },
    "tags": []
   },
   "source": [
    "**Combine 2021-2024**"
   ]
  },
  {
   "cell_type": "code",
   "execution_count": 153,
   "id": "c9ab6c06",
   "metadata": {
    "execution": {
     "iopub.execute_input": "2025-01-09T17:56:02.752129Z",
     "iopub.status.busy": "2025-01-09T17:56:02.751667Z",
     "iopub.status.idle": "2025-01-09T17:56:02.823688Z",
     "shell.execute_reply": "2025-01-09T17:56:02.822677Z"
    },
    "id": "cIfjk149a_z0",
    "papermill": {
     "duration": 0.139708,
     "end_time": "2025-01-09T17:56:02.826057",
     "exception": false,
     "start_time": "2025-01-09T17:56:02.686349",
     "status": "completed"
    },
    "tags": []
   },
   "outputs": [],
   "source": [
    "data_2021_2024 = pd.concat([data_df_2021_Q1, data_df_2021_Q2, data_df_2021_Q3, data_df_2021_Q4,\n",
    "                            data_df_2022_Q2, data_df_2022_Q3, data_df_2022_Q4,\n",
    "                            data_df_2023_Q1, data_df_2023_Q2, data_df_2023_Q3, data_df_2023_Q4,\n",
    "                            data_df_2024], ignore_index=True)"
   ]
  },
  {
   "cell_type": "code",
   "execution_count": 154,
   "id": "7354acad",
   "metadata": {
    "execution": {
     "iopub.execute_input": "2025-01-09T17:56:02.950822Z",
     "iopub.status.busy": "2025-01-09T17:56:02.950361Z",
     "iopub.status.idle": "2025-01-09T17:56:02.956220Z",
     "shell.execute_reply": "2025-01-09T17:56:02.955183Z"
    },
    "executionInfo": {
     "elapsed": 420,
     "status": "ok",
     "timestamp": 1734445728824,
     "user": {
      "displayName": "Tahmida Majumder",
      "userId": "15415648085337204568"
     },
     "user_tz": -480
    },
    "id": "AAYvH0U5a_z0",
    "outputId": "6f724cdf-a59a-4cf8-f36e-99e742456c17",
    "papermill": {
     "duration": 0.070752,
     "end_time": "2025-01-09T17:56:02.957730",
     "exception": false,
     "start_time": "2025-01-09T17:56:02.886978",
     "status": "completed"
    },
    "tags": []
   },
   "outputs": [
    {
     "data": {
      "text/plain": [
       "(662769, 22)"
      ]
     },
     "execution_count": 154,
     "metadata": {},
     "output_type": "execute_result"
    }
   ],
   "source": [
    "data_2021_2024.shape"
   ]
  },
  {
   "cell_type": "code",
   "execution_count": 155,
   "id": "e20181a2",
   "metadata": {
    "execution": {
     "iopub.execute_input": "2025-01-09T17:56:03.078961Z",
     "iopub.status.busy": "2025-01-09T17:56:03.078529Z",
     "iopub.status.idle": "2025-01-09T17:56:03.172373Z",
     "shell.execute_reply": "2025-01-09T17:56:03.171229Z"
    },
    "executionInfo": {
     "elapsed": 459,
     "status": "ok",
     "timestamp": 1734445732246,
     "user": {
      "displayName": "Tahmida Majumder",
      "userId": "15415648085337204568"
     },
     "user_tz": -480
    },
    "id": "RVMoHje7cDz6",
    "outputId": "2ea13b1d-5c84-426d-912c-629934cadd7c",
    "papermill": {
     "duration": 0.155848,
     "end_time": "2025-01-09T17:56:03.174028",
     "exception": false,
     "start_time": "2025-01-09T17:56:03.018180",
     "status": "completed"
    },
    "tags": []
   },
   "outputs": [
    {
     "data": {
      "text/plain": [
       "Specie\n",
       "Date                  0\n",
       "Country               0\n",
       "City                  0\n",
       "aqi              645239\n",
       "co               251274\n",
       "dew              140286\n",
       "humidity          11114\n",
       "mepaqi           661454\n",
       "neph             660060\n",
       "no2              122469\n",
       "o3               173372\n",
       "pm1              659850\n",
       "pm10             122450\n",
       "pm25              92583\n",
       "precipitation    585757\n",
       "pressure          12664\n",
       "so2              211625\n",
       "temperature       10205\n",
       "uvi              649793\n",
       "wd               621519\n",
       "wind-gust        309090\n",
       "wind-speed        20055\n",
       "dtype: int64"
      ]
     },
     "execution_count": 155,
     "metadata": {},
     "output_type": "execute_result"
    }
   ],
   "source": [
    "data_2021_2024.isnull().sum()"
   ]
  },
  {
   "cell_type": "code",
   "execution_count": 156,
   "id": "e93fd30c",
   "metadata": {
    "execution": {
     "iopub.execute_input": "2025-01-09T17:56:03.299311Z",
     "iopub.status.busy": "2025-01-09T17:56:03.298963Z",
     "iopub.status.idle": "2025-01-09T17:56:03.326349Z",
     "shell.execute_reply": "2025-01-09T17:56:03.325283Z"
    },
    "executionInfo": {
     "elapsed": 400,
     "status": "ok",
     "timestamp": 1734445735767,
     "user": {
      "displayName": "Tahmida Majumder",
      "userId": "15415648085337204568"
     },
     "user_tz": -480
    },
    "id": "F2MaY926a_z1",
    "outputId": "90b9f835-4046-4237-fc19-29c4745903fe",
    "papermill": {
     "duration": 0.092392,
     "end_time": "2025-01-09T17:56:03.328403",
     "exception": false,
     "start_time": "2025-01-09T17:56:03.236011",
     "status": "completed"
    },
    "tags": []
   },
   "outputs": [
    {
     "data": {
      "text/html": [
       "<div>\n",
       "<style scoped>\n",
       "    .dataframe tbody tr th:only-of-type {\n",
       "        vertical-align: middle;\n",
       "    }\n",
       "\n",
       "    .dataframe tbody tr th {\n",
       "        vertical-align: top;\n",
       "    }\n",
       "\n",
       "    .dataframe thead th {\n",
       "        text-align: right;\n",
       "    }\n",
       "</style>\n",
       "<table border=\"1\" class=\"dataframe\">\n",
       "  <thead>\n",
       "    <tr style=\"text-align: right;\">\n",
       "      <th>Specie</th>\n",
       "      <th>Date</th>\n",
       "      <th>Country</th>\n",
       "      <th>City</th>\n",
       "      <th>aqi</th>\n",
       "      <th>co</th>\n",
       "      <th>dew</th>\n",
       "      <th>humidity</th>\n",
       "      <th>mepaqi</th>\n",
       "      <th>neph</th>\n",
       "      <th>no2</th>\n",
       "      <th>...</th>\n",
       "      <th>pm10</th>\n",
       "      <th>pm25</th>\n",
       "      <th>precipitation</th>\n",
       "      <th>pressure</th>\n",
       "      <th>so2</th>\n",
       "      <th>temperature</th>\n",
       "      <th>uvi</th>\n",
       "      <th>wd</th>\n",
       "      <th>wind-gust</th>\n",
       "      <th>wind-speed</th>\n",
       "    </tr>\n",
       "  </thead>\n",
       "  <tbody>\n",
       "    <tr>\n",
       "      <th>0</th>\n",
       "      <td>2020-12-28</td>\n",
       "      <td>AE</td>\n",
       "      <td>Abu Dhabi</td>\n",
       "      <td>NaN</td>\n",
       "      <td>0.1</td>\n",
       "      <td>11.0</td>\n",
       "      <td>55.0</td>\n",
       "      <td>NaN</td>\n",
       "      <td>NaN</td>\n",
       "      <td>15.1</td>\n",
       "      <td>...</td>\n",
       "      <td>100.0</td>\n",
       "      <td>34.0</td>\n",
       "      <td>NaN</td>\n",
       "      <td>1019.0</td>\n",
       "      <td>4.6</td>\n",
       "      <td>20.0</td>\n",
       "      <td>NaN</td>\n",
       "      <td>NaN</td>\n",
       "      <td>NaN</td>\n",
       "      <td>2.5</td>\n",
       "    </tr>\n",
       "    <tr>\n",
       "      <th>1</th>\n",
       "      <td>2020-12-28</td>\n",
       "      <td>AE</td>\n",
       "      <td>Dubai</td>\n",
       "      <td>NaN</td>\n",
       "      <td>NaN</td>\n",
       "      <td>8.0</td>\n",
       "      <td>45.0</td>\n",
       "      <td>NaN</td>\n",
       "      <td>NaN</td>\n",
       "      <td>NaN</td>\n",
       "      <td>...</td>\n",
       "      <td>NaN</td>\n",
       "      <td>63.0</td>\n",
       "      <td>NaN</td>\n",
       "      <td>1019.0</td>\n",
       "      <td>NaN</td>\n",
       "      <td>21.0</td>\n",
       "      <td>NaN</td>\n",
       "      <td>NaN</td>\n",
       "      <td>NaN</td>\n",
       "      <td>3.0</td>\n",
       "    </tr>\n",
       "    <tr>\n",
       "      <th>2</th>\n",
       "      <td>2020-12-28</td>\n",
       "      <td>AF</td>\n",
       "      <td>Kabul</td>\n",
       "      <td>NaN</td>\n",
       "      <td>NaN</td>\n",
       "      <td>-15.0</td>\n",
       "      <td>35.0</td>\n",
       "      <td>NaN</td>\n",
       "      <td>NaN</td>\n",
       "      <td>NaN</td>\n",
       "      <td>...</td>\n",
       "      <td>NaN</td>\n",
       "      <td>102.0</td>\n",
       "      <td>NaN</td>\n",
       "      <td>1019.0</td>\n",
       "      <td>NaN</td>\n",
       "      <td>-2.0</td>\n",
       "      <td>NaN</td>\n",
       "      <td>NaN</td>\n",
       "      <td>NaN</td>\n",
       "      <td>3.6</td>\n",
       "    </tr>\n",
       "    <tr>\n",
       "      <th>3</th>\n",
       "      <td>2020-12-28</td>\n",
       "      <td>AR</td>\n",
       "      <td>Buenos Aires</td>\n",
       "      <td>NaN</td>\n",
       "      <td>2.8</td>\n",
       "      <td>20.7</td>\n",
       "      <td>75.1</td>\n",
       "      <td>NaN</td>\n",
       "      <td>NaN</td>\n",
       "      <td>14.2</td>\n",
       "      <td>...</td>\n",
       "      <td>19.0</td>\n",
       "      <td>25.0</td>\n",
       "      <td>NaN</td>\n",
       "      <td>1012.0</td>\n",
       "      <td>NaN</td>\n",
       "      <td>25.8</td>\n",
       "      <td>NaN</td>\n",
       "      <td>90.0</td>\n",
       "      <td>13.0</td>\n",
       "      <td>5.6</td>\n",
       "    </tr>\n",
       "    <tr>\n",
       "      <th>4</th>\n",
       "      <td>2020-12-28</td>\n",
       "      <td>AT</td>\n",
       "      <td>Graz</td>\n",
       "      <td>NaN</td>\n",
       "      <td>0.1</td>\n",
       "      <td>-3.6</td>\n",
       "      <td>54.3</td>\n",
       "      <td>NaN</td>\n",
       "      <td>NaN</td>\n",
       "      <td>11.2</td>\n",
       "      <td>...</td>\n",
       "      <td>19.0</td>\n",
       "      <td>NaN</td>\n",
       "      <td>99.5</td>\n",
       "      <td>986.6</td>\n",
       "      <td>1.1</td>\n",
       "      <td>-0.3</td>\n",
       "      <td>NaN</td>\n",
       "      <td>NaN</td>\n",
       "      <td>2.3</td>\n",
       "      <td>1.0</td>\n",
       "    </tr>\n",
       "  </tbody>\n",
       "</table>\n",
       "<p>5 rows × 22 columns</p>\n",
       "</div>"
      ],
      "text/plain": [
       "Specie       Date Country          City  aqi   co   dew  humidity  mepaqi  \\\n",
       "0      2020-12-28      AE     Abu Dhabi  NaN  0.1  11.0      55.0     NaN   \n",
       "1      2020-12-28      AE         Dubai  NaN  NaN   8.0      45.0     NaN   \n",
       "2      2020-12-28      AF         Kabul  NaN  NaN -15.0      35.0     NaN   \n",
       "3      2020-12-28      AR  Buenos Aires  NaN  2.8  20.7      75.1     NaN   \n",
       "4      2020-12-28      AT          Graz  NaN  0.1  -3.6      54.3     NaN   \n",
       "\n",
       "Specie  neph   no2  ...   pm10   pm25  precipitation  pressure  so2  \\\n",
       "0        NaN  15.1  ...  100.0   34.0            NaN    1019.0  4.6   \n",
       "1        NaN   NaN  ...    NaN   63.0            NaN    1019.0  NaN   \n",
       "2        NaN   NaN  ...    NaN  102.0            NaN    1019.0  NaN   \n",
       "3        NaN  14.2  ...   19.0   25.0            NaN    1012.0  NaN   \n",
       "4        NaN  11.2  ...   19.0    NaN           99.5     986.6  1.1   \n",
       "\n",
       "Specie  temperature  uvi    wd  wind-gust  wind-speed  \n",
       "0              20.0  NaN   NaN        NaN         2.5  \n",
       "1              21.0  NaN   NaN        NaN         3.0  \n",
       "2              -2.0  NaN   NaN        NaN         3.6  \n",
       "3              25.8  NaN  90.0       13.0         5.6  \n",
       "4              -0.3  NaN   NaN        2.3         1.0  \n",
       "\n",
       "[5 rows x 22 columns]"
      ]
     },
     "execution_count": 156,
     "metadata": {},
     "output_type": "execute_result"
    }
   ],
   "source": [
    "data_2021_2024.head()"
   ]
  },
  {
   "cell_type": "code",
   "execution_count": 157,
   "id": "56fbc91e",
   "metadata": {
    "execution": {
     "iopub.execute_input": "2025-01-09T17:56:03.456362Z",
     "iopub.status.busy": "2025-01-09T17:56:03.456017Z",
     "iopub.status.idle": "2025-01-09T17:56:03.466197Z",
     "shell.execute_reply": "2025-01-09T17:56:03.464797Z"
    },
    "executionInfo": {
     "elapsed": 475,
     "status": "ok",
     "timestamp": 1734445791046,
     "user": {
      "displayName": "Tahmida Majumder",
      "userId": "15415648085337204568"
     },
     "user_tz": -480
    },
    "id": "POgiBz6uBiju",
    "outputId": "e4a4681b-9b73-4d04-a6db-18d3bc160025",
    "papermill": {
     "duration": 0.078163,
     "end_time": "2025-01-09T17:56:03.468558",
     "exception": false,
     "start_time": "2025-01-09T17:56:03.390395",
     "status": "completed"
    },
    "tags": []
   },
   "outputs": [
    {
     "name": "stdout",
     "output_type": "stream",
     "text": [
      "Minimum date: 2020-12-28 00:00:00\n",
      "Maximum date: 2025-01-09 00:00:00\n"
     ]
    }
   ],
   "source": [
    "# Find the minimum and maximum dates\n",
    "min_date = data_2021_2024['Date'].min()\n",
    "max_date = data_2021_2024['Date'].max()\n",
    "\n",
    "print('Minimum date:', min_date)\n",
    "print('Maximum date:', max_date)"
   ]
  },
  {
   "cell_type": "code",
   "execution_count": 158,
   "id": "e1b8ceec",
   "metadata": {
    "execution": {
     "iopub.execute_input": "2025-01-09T17:56:03.590961Z",
     "iopub.status.busy": "2025-01-09T17:56:03.590575Z",
     "iopub.status.idle": "2025-01-09T17:56:11.240211Z",
     "shell.execute_reply": "2025-01-09T17:56:11.239034Z"
    },
    "id": "Uk9ON_gba_z1",
    "papermill": {
     "duration": 7.712357,
     "end_time": "2025-01-09T17:56:11.242198",
     "exception": false,
     "start_time": "2025-01-09T17:56:03.529841",
     "status": "completed"
    },
    "tags": []
   },
   "outputs": [],
   "source": [
    "os.makedirs('/kaggle/working', exist_ok=True)\n",
    "data_2021_2024.to_csv('/kaggle/working/data_2021_2024.csv')"
   ]
  }
 ],
 "metadata": {
  "colab": {
   "authorship_tag": "ABX9TyM2h2pBYoWj/rl0Kxoyfj8H",
   "provenance": []
  },
  "kaggle": {
   "accelerator": "none",
   "dataSources": [
    {
     "datasetId": 6454512,
     "sourceId": 10414434,
     "sourceType": "datasetVersion"
    }
   ],
   "dockerImageVersionId": 30822,
   "isGpuEnabled": false,
   "isInternetEnabled": false,
   "language": "python",
   "sourceType": "notebook"
  },
  "kernelspec": {
   "display_name": "Python 3",
   "language": "python",
   "name": "python3"
  },
  "language_info": {
   "codemirror_mode": {
    "name": "ipython",
    "version": 3
   },
   "file_extension": ".py",
   "mimetype": "text/x-python",
   "name": "python",
   "nbconvert_exporter": "python",
   "pygments_lexer": "ipython3",
   "version": "3.10.12"
  },
  "papermill": {
   "default_parameters": {},
   "duration": 78.585664,
   "end_time": "2025-01-09T17:56:12.126669",
   "environment_variables": {},
   "exception": null,
   "input_path": "__notebook__.ipynb",
   "output_path": "__notebook__.ipynb",
   "parameters": {},
   "start_time": "2025-01-09T17:54:53.541005",
   "version": "2.6.0"
  }
 },
 "nbformat": 4,
 "nbformat_minor": 5
}
