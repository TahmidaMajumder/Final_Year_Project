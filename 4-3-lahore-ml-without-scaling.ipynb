{
 "cells": [
  {
   "cell_type": "code",
   "execution_count": 1,
   "id": "f0a4ede1",
   "metadata": {
    "_cell_guid": "0bd5fd8f-4de5-406f-92da-d16f3c990795",
    "_uuid": "63737120-456d-498d-a950-7893b9099e72",
    "collapsed": false,
    "execution": {
     "iopub.execute_input": "2025-01-20T14:03:44.965161Z",
     "iopub.status.busy": "2025-01-20T14:03:44.964734Z",
     "iopub.status.idle": "2025-01-20T14:03:49.176312Z",
     "shell.execute_reply": "2025-01-20T14:03:49.174994Z"
    },
    "jupyter": {
     "outputs_hidden": false
    },
    "papermill": {
     "duration": 4.232791,
     "end_time": "2025-01-20T14:03:49.178379",
     "exception": false,
     "start_time": "2025-01-20T14:03:44.945588",
     "status": "completed"
    },
    "tags": []
   },
   "outputs": [],
   "source": [
    "# Packages / libraries\n",
    "import os #provides functions for interacting with the operating system\n",
    "import numpy as np\n",
    "import pandas as pd\n",
    "from matplotlib import pyplot as plt\n",
    "import seaborn as sns\n",
    "\n",
    "\n",
    "from sklearn.model_selection import train_test_split\n",
    "from sklearn.pipeline import Pipeline\n",
    "from sklearn.preprocessing import StandardScaler, MinMaxScaler, LabelEncoder, OneHotEncoder, PolynomialFeatures\n",
    "from sklearn.metrics import r2_score, explained_variance_score, mean_absolute_error, mean_squared_error\n",
    "from math import sqrt\n",
    "from sklearn.impute import SimpleImputer\n",
    "from sklearn.compose import ColumnTransformer\n",
    "from sklearn.model_selection import GridSearchCV\n",
    "from sklearn.model_selection import RandomizedSearchCV\n",
    "\n",
    "from sklearn.linear_model import LinearRegression\n",
    "from sklearn.ensemble import RandomForestRegressor\n",
    "from sklearn.neighbors import KNeighborsRegressor\n",
    "from sklearn.tree import DecisionTreeRegressor\n",
    "from sklearn.svm import SVR\n",
    "from sklearn.neural_network import MLPRegressor\n",
    "from xgboost import XGBRegressor\n",
    "from sklearn.ensemble import GradientBoostingRegressor\n",
    "\n",
    "import graphviz\n",
    "from sklearn import tree\n",
    "\n",
    "# remove warnings\n",
    "import warnings\n",
    "\n",
    "# Suppress specific warnings\n",
    "warnings.filterwarnings('ignore', category=RuntimeWarning, module='pandas.io.formats.format')"
   ]
  },
  {
   "cell_type": "markdown",
   "id": "a9ce4f57",
   "metadata": {
    "papermill": {
     "duration": 0.015637,
     "end_time": "2025-01-20T14:03:49.210349",
     "exception": false,
     "start_time": "2025-01-20T14:03:49.194712",
     "status": "completed"
    },
    "tags": []
   },
   "source": [
    "# **1. Loading Dataset**"
   ]
  },
  {
   "cell_type": "code",
   "execution_count": 2,
   "id": "257eaba5",
   "metadata": {
    "execution": {
     "iopub.execute_input": "2025-01-20T14:03:49.249542Z",
     "iopub.status.busy": "2025-01-20T14:03:49.248960Z",
     "iopub.status.idle": "2025-01-20T14:03:49.312787Z",
     "shell.execute_reply": "2025-01-20T14:03:49.311558Z"
    },
    "papermill": {
     "duration": 0.088496,
     "end_time": "2025-01-20T14:03:49.314601",
     "exception": false,
     "start_time": "2025-01-20T14:03:49.226105",
     "status": "completed"
    },
    "tags": []
   },
   "outputs": [
    {
     "name": "stdout",
     "output_type": "stream",
     "text": [
      "(1570, 12)\n"
     ]
    },
    {
     "data": {
      "text/html": [
       "<div>\n",
       "<style scoped>\n",
       "    .dataframe tbody tr th:only-of-type {\n",
       "        vertical-align: middle;\n",
       "    }\n",
       "\n",
       "    .dataframe tbody tr th {\n",
       "        vertical-align: top;\n",
       "    }\n",
       "\n",
       "    .dataframe thead th {\n",
       "        text-align: right;\n",
       "    }\n",
       "</style>\n",
       "<table border=\"1\" class=\"dataframe\">\n",
       "  <thead>\n",
       "    <tr style=\"text-align: right;\">\n",
       "      <th></th>\n",
       "      <th>Date</th>\n",
       "      <th>co</th>\n",
       "      <th>no2</th>\n",
       "      <th>o3</th>\n",
       "      <th>pm10</th>\n",
       "      <th>pm25</th>\n",
       "      <th>so2</th>\n",
       "      <th>humidity</th>\n",
       "      <th>pressure</th>\n",
       "      <th>temperature</th>\n",
       "      <th>wind-speed</th>\n",
       "      <th>Country_City</th>\n",
       "    </tr>\n",
       "  </thead>\n",
       "  <tbody>\n",
       "    <tr>\n",
       "      <th>0</th>\n",
       "      <td>2019-05-09</td>\n",
       "      <td>NaN</td>\n",
       "      <td>NaN</td>\n",
       "      <td>NaN</td>\n",
       "      <td>NaN</td>\n",
       "      <td>196.0</td>\n",
       "      <td>NaN</td>\n",
       "      <td>20.0</td>\n",
       "      <td>1003.0</td>\n",
       "      <td>33.0</td>\n",
       "      <td>2.3</td>\n",
       "      <td>Pakistan_Lahore</td>\n",
       "    </tr>\n",
       "    <tr>\n",
       "      <th>1</th>\n",
       "      <td>2019-05-10</td>\n",
       "      <td>NaN</td>\n",
       "      <td>NaN</td>\n",
       "      <td>NaN</td>\n",
       "      <td>NaN</td>\n",
       "      <td>159.0</td>\n",
       "      <td>NaN</td>\n",
       "      <td>28.0</td>\n",
       "      <td>1004.0</td>\n",
       "      <td>32.0</td>\n",
       "      <td>3.6</td>\n",
       "      <td>Pakistan_Lahore</td>\n",
       "    </tr>\n",
       "    <tr>\n",
       "      <th>2</th>\n",
       "      <td>2019-05-11</td>\n",
       "      <td>NaN</td>\n",
       "      <td>NaN</td>\n",
       "      <td>NaN</td>\n",
       "      <td>NaN</td>\n",
       "      <td>197.0</td>\n",
       "      <td>NaN</td>\n",
       "      <td>43.0</td>\n",
       "      <td>1007.0</td>\n",
       "      <td>29.0</td>\n",
       "      <td>3.0</td>\n",
       "      <td>Pakistan_Lahore</td>\n",
       "    </tr>\n",
       "    <tr>\n",
       "      <th>3</th>\n",
       "      <td>2019-05-12</td>\n",
       "      <td>NaN</td>\n",
       "      <td>NaN</td>\n",
       "      <td>NaN</td>\n",
       "      <td>NaN</td>\n",
       "      <td>176.0</td>\n",
       "      <td>NaN</td>\n",
       "      <td>37.0</td>\n",
       "      <td>1006.0</td>\n",
       "      <td>31.0</td>\n",
       "      <td>2.5</td>\n",
       "      <td>Pakistan_Lahore</td>\n",
       "    </tr>\n",
       "    <tr>\n",
       "      <th>4</th>\n",
       "      <td>2019-05-13</td>\n",
       "      <td>NaN</td>\n",
       "      <td>NaN</td>\n",
       "      <td>NaN</td>\n",
       "      <td>NaN</td>\n",
       "      <td>171.0</td>\n",
       "      <td>NaN</td>\n",
       "      <td>51.0</td>\n",
       "      <td>1005.0</td>\n",
       "      <td>28.0</td>\n",
       "      <td>2.5</td>\n",
       "      <td>Pakistan_Lahore</td>\n",
       "    </tr>\n",
       "  </tbody>\n",
       "</table>\n",
       "</div>"
      ],
      "text/plain": [
       "         Date  co  no2  o3  pm10   pm25  so2  humidity  pressure  temperature  \\\n",
       "0  2019-05-09 NaN  NaN NaN   NaN  196.0  NaN      20.0    1003.0         33.0   \n",
       "1  2019-05-10 NaN  NaN NaN   NaN  159.0  NaN      28.0    1004.0         32.0   \n",
       "2  2019-05-11 NaN  NaN NaN   NaN  197.0  NaN      43.0    1007.0         29.0   \n",
       "3  2019-05-12 NaN  NaN NaN   NaN  176.0  NaN      37.0    1006.0         31.0   \n",
       "4  2019-05-13 NaN  NaN NaN   NaN  171.0  NaN      51.0    1005.0         28.0   \n",
       "\n",
       "   wind-speed     Country_City  \n",
       "0         2.3  Pakistan_Lahore  \n",
       "1         3.6  Pakistan_Lahore  \n",
       "2         3.0  Pakistan_Lahore  \n",
       "3         2.5  Pakistan_Lahore  \n",
       "4         2.5  Pakistan_Lahore  "
      ]
     },
     "execution_count": 2,
     "metadata": {},
     "output_type": "execute_result"
    }
   ],
   "source": [
    "# Loading the data\n",
    "new_data = pd.read_csv(\"/kaggle/input/seperated-data/Pakistan_Lahore.csv\")\n",
    "\n",
    "# print the shape\n",
    "print(new_data.shape)\n",
    "\n",
    "#runs the first 5 rows\n",
    "new_data.head()"
   ]
  },
  {
   "cell_type": "code",
   "execution_count": 3,
   "id": "4e3bfe73",
   "metadata": {
    "execution": {
     "iopub.execute_input": "2025-01-20T14:03:49.348634Z",
     "iopub.status.busy": "2025-01-20T14:03:49.348257Z",
     "iopub.status.idle": "2025-01-20T14:03:49.356087Z",
     "shell.execute_reply": "2025-01-20T14:03:49.355048Z"
    },
    "papermill": {
     "duration": 0.026808,
     "end_time": "2025-01-20T14:03:49.357867",
     "exception": false,
     "start_time": "2025-01-20T14:03:49.331059",
     "status": "completed"
    },
    "tags": []
   },
   "outputs": [
    {
     "name": "stdout",
     "output_type": "stream",
     "text": [
      "Minimum date: 2019-05-09\n",
      "Maximum date: 2025-01-09\n"
     ]
    }
   ],
   "source": [
    "# Find the minimum and maximum dates\n",
    "min_date = new_data['Date'].min()\n",
    "max_date = new_data['Date'].max()\n",
    "\n",
    "print('Minimum date:', min_date)\n",
    "print('Maximum date:', max_date)"
   ]
  },
  {
   "cell_type": "code",
   "execution_count": 4,
   "id": "7baf098f",
   "metadata": {
    "execution": {
     "iopub.execute_input": "2025-01-20T14:03:49.392311Z",
     "iopub.status.busy": "2025-01-20T14:03:49.391746Z",
     "iopub.status.idle": "2025-01-20T14:03:49.421275Z",
     "shell.execute_reply": "2025-01-20T14:03:49.419450Z"
    },
    "papermill": {
     "duration": 0.049458,
     "end_time": "2025-01-20T14:03:49.423210",
     "exception": false,
     "start_time": "2025-01-20T14:03:49.373752",
     "status": "completed"
    },
    "tags": []
   },
   "outputs": [
    {
     "name": "stdout",
     "output_type": "stream",
     "text": [
      "<class 'pandas.core.frame.DataFrame'>\n",
      "RangeIndex: 1570 entries, 0 to 1569\n",
      "Data columns (total 12 columns):\n",
      " #   Column        Non-Null Count  Dtype  \n",
      "---  ------        --------------  -----  \n",
      " 0   Date          1570 non-null   object \n",
      " 1   co            0 non-null      float64\n",
      " 2   no2           0 non-null      float64\n",
      " 3   o3            0 non-null      float64\n",
      " 4   pm10          0 non-null      float64\n",
      " 5   pm25          1570 non-null   float64\n",
      " 6   so2           0 non-null      float64\n",
      " 7   humidity      1546 non-null   float64\n",
      " 8   pressure      1546 non-null   float64\n",
      " 9   temperature   1546 non-null   float64\n",
      " 10  wind-speed    1452 non-null   float64\n",
      " 11  Country_City  1570 non-null   object \n",
      "dtypes: float64(10), object(2)\n",
      "memory usage: 147.3+ KB\n"
     ]
    }
   ],
   "source": [
    "new_data.info()"
   ]
  },
  {
   "cell_type": "code",
   "execution_count": 5,
   "id": "059e7798",
   "metadata": {
    "execution": {
     "iopub.execute_input": "2025-01-20T14:03:49.477486Z",
     "iopub.status.busy": "2025-01-20T14:03:49.477080Z",
     "iopub.status.idle": "2025-01-20T14:03:49.522719Z",
     "shell.execute_reply": "2025-01-20T14:03:49.521631Z"
    },
    "papermill": {
     "duration": 0.076052,
     "end_time": "2025-01-20T14:03:49.524862",
     "exception": false,
     "start_time": "2025-01-20T14:03:49.448810",
     "status": "completed"
    },
    "tags": []
   },
   "outputs": [
    {
     "data": {
      "text/html": [
       "<div>\n",
       "<style scoped>\n",
       "    .dataframe tbody tr th:only-of-type {\n",
       "        vertical-align: middle;\n",
       "    }\n",
       "\n",
       "    .dataframe tbody tr th {\n",
       "        vertical-align: top;\n",
       "    }\n",
       "\n",
       "    .dataframe thead th {\n",
       "        text-align: right;\n",
       "    }\n",
       "</style>\n",
       "<table border=\"1\" class=\"dataframe\">\n",
       "  <thead>\n",
       "    <tr style=\"text-align: right;\">\n",
       "      <th></th>\n",
       "      <th>co</th>\n",
       "      <th>no2</th>\n",
       "      <th>o3</th>\n",
       "      <th>pm10</th>\n",
       "      <th>pm25</th>\n",
       "      <th>so2</th>\n",
       "      <th>humidity</th>\n",
       "      <th>pressure</th>\n",
       "      <th>temperature</th>\n",
       "      <th>wind-speed</th>\n",
       "    </tr>\n",
       "  </thead>\n",
       "  <tbody>\n",
       "    <tr>\n",
       "      <th>count</th>\n",
       "      <td>0.0</td>\n",
       "      <td>0.0</td>\n",
       "      <td>0.0</td>\n",
       "      <td>0.0</td>\n",
       "      <td>1570.000000</td>\n",
       "      <td>0.0</td>\n",
       "      <td>1546.000000</td>\n",
       "      <td>1546.000000</td>\n",
       "      <td>1546.000000</td>\n",
       "      <td>1452.000000</td>\n",
       "    </tr>\n",
       "    <tr>\n",
       "      <th>mean</th>\n",
       "      <td>NaN</td>\n",
       "      <td>NaN</td>\n",
       "      <td>NaN</td>\n",
       "      <td>NaN</td>\n",
       "      <td>177.652229</td>\n",
       "      <td>NaN</td>\n",
       "      <td>60.527814</td>\n",
       "      <td>1008.290944</td>\n",
       "      <td>24.336869</td>\n",
       "      <td>2.848829</td>\n",
       "    </tr>\n",
       "    <tr>\n",
       "      <th>std</th>\n",
       "      <td>NaN</td>\n",
       "      <td>NaN</td>\n",
       "      <td>NaN</td>\n",
       "      <td>NaN</td>\n",
       "      <td>83.876598</td>\n",
       "      <td>NaN</td>\n",
       "      <td>16.844766</td>\n",
       "      <td>7.182917</td>\n",
       "      <td>8.097599</td>\n",
       "      <td>1.260782</td>\n",
       "    </tr>\n",
       "    <tr>\n",
       "      <th>min</th>\n",
       "      <td>NaN</td>\n",
       "      <td>NaN</td>\n",
       "      <td>NaN</td>\n",
       "      <td>NaN</td>\n",
       "      <td>5.000000</td>\n",
       "      <td>NaN</td>\n",
       "      <td>18.000000</td>\n",
       "      <td>992.000000</td>\n",
       "      <td>6.000000</td>\n",
       "      <td>0.500000</td>\n",
       "    </tr>\n",
       "    <tr>\n",
       "      <th>25%</th>\n",
       "      <td>NaN</td>\n",
       "      <td>NaN</td>\n",
       "      <td>NaN</td>\n",
       "      <td>NaN</td>\n",
       "      <td>127.000000</td>\n",
       "      <td>NaN</td>\n",
       "      <td>50.000000</td>\n",
       "      <td>1002.000000</td>\n",
       "      <td>18.000000</td>\n",
       "      <td>2.000000</td>\n",
       "    </tr>\n",
       "    <tr>\n",
       "      <th>50%</th>\n",
       "      <td>NaN</td>\n",
       "      <td>NaN</td>\n",
       "      <td>NaN</td>\n",
       "      <td>NaN</td>\n",
       "      <td>159.000000</td>\n",
       "      <td>NaN</td>\n",
       "      <td>62.000000</td>\n",
       "      <td>1008.000000</td>\n",
       "      <td>26.500000</td>\n",
       "      <td>2.500000</td>\n",
       "    </tr>\n",
       "    <tr>\n",
       "      <th>75%</th>\n",
       "      <td>NaN</td>\n",
       "      <td>NaN</td>\n",
       "      <td>NaN</td>\n",
       "      <td>NaN</td>\n",
       "      <td>196.000000</td>\n",
       "      <td>NaN</td>\n",
       "      <td>72.000000</td>\n",
       "      <td>1015.000000</td>\n",
       "      <td>30.500000</td>\n",
       "      <td>3.600000</td>\n",
       "    </tr>\n",
       "    <tr>\n",
       "      <th>max</th>\n",
       "      <td>NaN</td>\n",
       "      <td>NaN</td>\n",
       "      <td>NaN</td>\n",
       "      <td>NaN</td>\n",
       "      <td>568.000000</td>\n",
       "      <td>NaN</td>\n",
       "      <td>100.000000</td>\n",
       "      <td>1024.000000</td>\n",
       "      <td>39.000000</td>\n",
       "      <td>8.700000</td>\n",
       "    </tr>\n",
       "  </tbody>\n",
       "</table>\n",
       "</div>"
      ],
      "text/plain": [
       "        co  no2   o3  pm10         pm25  so2     humidity     pressure  \\\n",
       "count  0.0  0.0  0.0   0.0  1570.000000  0.0  1546.000000  1546.000000   \n",
       "mean   NaN  NaN  NaN   NaN   177.652229  NaN    60.527814  1008.290944   \n",
       "std    NaN  NaN  NaN   NaN    83.876598  NaN    16.844766     7.182917   \n",
       "min    NaN  NaN  NaN   NaN     5.000000  NaN    18.000000   992.000000   \n",
       "25%    NaN  NaN  NaN   NaN   127.000000  NaN    50.000000  1002.000000   \n",
       "50%    NaN  NaN  NaN   NaN   159.000000  NaN    62.000000  1008.000000   \n",
       "75%    NaN  NaN  NaN   NaN   196.000000  NaN    72.000000  1015.000000   \n",
       "max    NaN  NaN  NaN   NaN   568.000000  NaN   100.000000  1024.000000   \n",
       "\n",
       "       temperature   wind-speed  \n",
       "count  1546.000000  1452.000000  \n",
       "mean     24.336869     2.848829  \n",
       "std       8.097599     1.260782  \n",
       "min       6.000000     0.500000  \n",
       "25%      18.000000     2.000000  \n",
       "50%      26.500000     2.500000  \n",
       "75%      30.500000     3.600000  \n",
       "max      39.000000     8.700000  "
      ]
     },
     "execution_count": 5,
     "metadata": {},
     "output_type": "execute_result"
    }
   ],
   "source": [
    "new_data.describe()"
   ]
  },
  {
   "cell_type": "code",
   "execution_count": 6,
   "id": "e410d68c",
   "metadata": {
    "execution": {
     "iopub.execute_input": "2025-01-20T14:03:49.571379Z",
     "iopub.status.busy": "2025-01-20T14:03:49.570984Z",
     "iopub.status.idle": "2025-01-20T14:03:49.587624Z",
     "shell.execute_reply": "2025-01-20T14:03:49.585858Z"
    },
    "papermill": {
     "duration": 0.040838,
     "end_time": "2025-01-20T14:03:49.589492",
     "exception": false,
     "start_time": "2025-01-20T14:03:49.548654",
     "status": "completed"
    },
    "tags": []
   },
   "outputs": [
    {
     "name": "stdout",
     "output_type": "stream",
     "text": [
      "The number of values for feature Date :1569\n",
      "The number of values for feature co :1 -- [nan]\n",
      "The number of values for feature no2 :1 -- [nan]\n",
      "The number of values for feature o3 :1 -- [nan]\n",
      "The number of values for feature pm10 :1 -- [nan]\n",
      "The number of values for feature pm25 :324\n",
      "The number of values for feature so2 :1 -- [nan]\n",
      "The number of values for feature humidity :153\n",
      "The number of values for feature pressure :76\n",
      "The number of values for feature temperature :78\n",
      "The number of values for feature wind-speed :41\n",
      "The number of values for feature Country_City :1 -- ['Pakistan_Lahore']\n"
     ]
    }
   ],
   "source": [
    "# Investigate all the elements whithin each Feature\n",
    "\n",
    "for column in new_data:\n",
    "    # Handle numerical and string columns differently\n",
    "    if new_data[column].dtype == 'object':  # Check if column is of object type\n",
    "        unique_vals = new_data[column].unique()  # pandas unique for strings\n",
    "    else:\n",
    "        unique_vals = np.unique(new_data[column])  # numpy unique for numerical types\n",
    "\n",
    "    nr_values = len(unique_vals)\n",
    "    if nr_values < 14:\n",
    "        print('The number of values for feature {} :{} -- {}'.format(column, nr_values,unique_vals))\n",
    "    else:\n",
    "        print('The number of values for feature {} :{}'.format(column, nr_values))"
   ]
  },
  {
   "cell_type": "code",
   "execution_count": 7,
   "id": "979da9e1",
   "metadata": {
    "execution": {
     "iopub.execute_input": "2025-01-20T14:03:49.624040Z",
     "iopub.status.busy": "2025-01-20T14:03:49.623644Z",
     "iopub.status.idle": "2025-01-20T14:03:49.631815Z",
     "shell.execute_reply": "2025-01-20T14:03:49.630785Z"
    },
    "papermill": {
     "duration": 0.027253,
     "end_time": "2025-01-20T14:03:49.633592",
     "exception": false,
     "start_time": "2025-01-20T14:03:49.606339",
     "status": "completed"
    },
    "tags": []
   },
   "outputs": [
    {
     "data": {
      "text/plain": [
       "Date               0\n",
       "co              1570\n",
       "no2             1570\n",
       "o3              1570\n",
       "pm10            1570\n",
       "pm25               0\n",
       "so2             1570\n",
       "humidity          24\n",
       "pressure          24\n",
       "temperature       24\n",
       "wind-speed       118\n",
       "Country_City       0\n",
       "dtype: int64"
      ]
     },
     "execution_count": 7,
     "metadata": {},
     "output_type": "execute_result"
    }
   ],
   "source": [
    "new_data.isna().sum()"
   ]
  },
  {
   "cell_type": "markdown",
   "id": "fe9ca942",
   "metadata": {
    "papermill": {
     "duration": 0.016291,
     "end_time": "2025-01-20T14:03:49.666599",
     "exception": false,
     "start_time": "2025-01-20T14:03:49.650308",
     "status": "completed"
    },
    "tags": []
   },
   "source": [
    "# **1.2 - Function -- Preprocessing**"
   ]
  },
  {
   "cell_type": "code",
   "execution_count": 8,
   "id": "729a5d74",
   "metadata": {
    "execution": {
     "iopub.execute_input": "2025-01-20T14:03:49.701874Z",
     "iopub.status.busy": "2025-01-20T14:03:49.701436Z",
     "iopub.status.idle": "2025-01-20T14:03:49.706898Z",
     "shell.execute_reply": "2025-01-20T14:03:49.705867Z"
    },
    "papermill": {
     "duration": 0.025177,
     "end_time": "2025-01-20T14:03:49.708691",
     "exception": false,
     "start_time": "2025-01-20T14:03:49.683514",
     "status": "completed"
    },
    "tags": []
   },
   "outputs": [],
   "source": [
    "#Convert into datatime index\n",
    "def prepare_datetime_index(df, date_column='Date'):\n",
    "    \"\"\"Convert date column to datetime and set as index.\"\"\"\n",
    "    df = df.copy()\n",
    "    df[date_column] = pd.to_datetime(df[date_column])\n",
    "    df = df.drop_duplicates(subset=[date_column], keep='last')\n",
    "    df.set_index(date_column, inplace=True)\n",
    "    return df"
   ]
  },
  {
   "cell_type": "code",
   "execution_count": 9,
   "id": "7b87f249",
   "metadata": {
    "execution": {
     "iopub.execute_input": "2025-01-20T14:03:49.744032Z",
     "iopub.status.busy": "2025-01-20T14:03:49.743618Z",
     "iopub.status.idle": "2025-01-20T14:03:49.771688Z",
     "shell.execute_reply": "2025-01-20T14:03:49.770363Z"
    },
    "papermill": {
     "duration": 0.048151,
     "end_time": "2025-01-20T14:03:49.773798",
     "exception": false,
     "start_time": "2025-01-20T14:03:49.725647",
     "status": "completed"
    },
    "tags": []
   },
   "outputs": [
    {
     "data": {
      "text/html": [
       "<div>\n",
       "<style scoped>\n",
       "    .dataframe tbody tr th:only-of-type {\n",
       "        vertical-align: middle;\n",
       "    }\n",
       "\n",
       "    .dataframe tbody tr th {\n",
       "        vertical-align: top;\n",
       "    }\n",
       "\n",
       "    .dataframe thead th {\n",
       "        text-align: right;\n",
       "    }\n",
       "</style>\n",
       "<table border=\"1\" class=\"dataframe\">\n",
       "  <thead>\n",
       "    <tr style=\"text-align: right;\">\n",
       "      <th></th>\n",
       "      <th>co</th>\n",
       "      <th>no2</th>\n",
       "      <th>o3</th>\n",
       "      <th>pm10</th>\n",
       "      <th>pm25</th>\n",
       "      <th>so2</th>\n",
       "      <th>humidity</th>\n",
       "      <th>pressure</th>\n",
       "      <th>temperature</th>\n",
       "      <th>wind-speed</th>\n",
       "      <th>Country_City</th>\n",
       "    </tr>\n",
       "    <tr>\n",
       "      <th>Date</th>\n",
       "      <th></th>\n",
       "      <th></th>\n",
       "      <th></th>\n",
       "      <th></th>\n",
       "      <th></th>\n",
       "      <th></th>\n",
       "      <th></th>\n",
       "      <th></th>\n",
       "      <th></th>\n",
       "      <th></th>\n",
       "      <th></th>\n",
       "    </tr>\n",
       "  </thead>\n",
       "  <tbody>\n",
       "    <tr>\n",
       "      <th>2019-05-09</th>\n",
       "      <td>NaN</td>\n",
       "      <td>NaN</td>\n",
       "      <td>NaN</td>\n",
       "      <td>NaN</td>\n",
       "      <td>196.0</td>\n",
       "      <td>NaN</td>\n",
       "      <td>20.0</td>\n",
       "      <td>1003.0</td>\n",
       "      <td>33.0</td>\n",
       "      <td>2.3</td>\n",
       "      <td>Pakistan_Lahore</td>\n",
       "    </tr>\n",
       "    <tr>\n",
       "      <th>2019-05-10</th>\n",
       "      <td>NaN</td>\n",
       "      <td>NaN</td>\n",
       "      <td>NaN</td>\n",
       "      <td>NaN</td>\n",
       "      <td>159.0</td>\n",
       "      <td>NaN</td>\n",
       "      <td>28.0</td>\n",
       "      <td>1004.0</td>\n",
       "      <td>32.0</td>\n",
       "      <td>3.6</td>\n",
       "      <td>Pakistan_Lahore</td>\n",
       "    </tr>\n",
       "    <tr>\n",
       "      <th>2019-05-11</th>\n",
       "      <td>NaN</td>\n",
       "      <td>NaN</td>\n",
       "      <td>NaN</td>\n",
       "      <td>NaN</td>\n",
       "      <td>197.0</td>\n",
       "      <td>NaN</td>\n",
       "      <td>43.0</td>\n",
       "      <td>1007.0</td>\n",
       "      <td>29.0</td>\n",
       "      <td>3.0</td>\n",
       "      <td>Pakistan_Lahore</td>\n",
       "    </tr>\n",
       "    <tr>\n",
       "      <th>2019-05-12</th>\n",
       "      <td>NaN</td>\n",
       "      <td>NaN</td>\n",
       "      <td>NaN</td>\n",
       "      <td>NaN</td>\n",
       "      <td>176.0</td>\n",
       "      <td>NaN</td>\n",
       "      <td>37.0</td>\n",
       "      <td>1006.0</td>\n",
       "      <td>31.0</td>\n",
       "      <td>2.5</td>\n",
       "      <td>Pakistan_Lahore</td>\n",
       "    </tr>\n",
       "    <tr>\n",
       "      <th>2019-05-13</th>\n",
       "      <td>NaN</td>\n",
       "      <td>NaN</td>\n",
       "      <td>NaN</td>\n",
       "      <td>NaN</td>\n",
       "      <td>171.0</td>\n",
       "      <td>NaN</td>\n",
       "      <td>51.0</td>\n",
       "      <td>1005.0</td>\n",
       "      <td>28.0</td>\n",
       "      <td>2.5</td>\n",
       "      <td>Pakistan_Lahore</td>\n",
       "    </tr>\n",
       "  </tbody>\n",
       "</table>\n",
       "</div>"
      ],
      "text/plain": [
       "            co  no2  o3  pm10   pm25  so2  humidity  pressure  temperature  \\\n",
       "Date                                                                         \n",
       "2019-05-09 NaN  NaN NaN   NaN  196.0  NaN      20.0    1003.0         33.0   \n",
       "2019-05-10 NaN  NaN NaN   NaN  159.0  NaN      28.0    1004.0         32.0   \n",
       "2019-05-11 NaN  NaN NaN   NaN  197.0  NaN      43.0    1007.0         29.0   \n",
       "2019-05-12 NaN  NaN NaN   NaN  176.0  NaN      37.0    1006.0         31.0   \n",
       "2019-05-13 NaN  NaN NaN   NaN  171.0  NaN      51.0    1005.0         28.0   \n",
       "\n",
       "            wind-speed     Country_City  \n",
       "Date                                     \n",
       "2019-05-09         2.3  Pakistan_Lahore  \n",
       "2019-05-10         3.6  Pakistan_Lahore  \n",
       "2019-05-11         3.0  Pakistan_Lahore  \n",
       "2019-05-12         2.5  Pakistan_Lahore  \n",
       "2019-05-13         2.5  Pakistan_Lahore  "
      ]
     },
     "execution_count": 9,
     "metadata": {},
     "output_type": "execute_result"
    }
   ],
   "source": [
    "# Call the functions\n",
    "new_data1 = prepare_datetime_index(new_data, date_column='Date')\n",
    "new_data1.head()"
   ]
  },
  {
   "cell_type": "code",
   "execution_count": 10,
   "id": "7c138beb",
   "metadata": {
    "execution": {
     "iopub.execute_input": "2025-01-20T14:03:49.809175Z",
     "iopub.status.busy": "2025-01-20T14:03:49.808731Z",
     "iopub.status.idle": "2025-01-20T14:03:49.815481Z",
     "shell.execute_reply": "2025-01-20T14:03:49.814297Z"
    },
    "papermill": {
     "duration": 0.026354,
     "end_time": "2025-01-20T14:03:49.817283",
     "exception": false,
     "start_time": "2025-01-20T14:03:49.790929",
     "status": "completed"
    },
    "tags": []
   },
   "outputs": [
    {
     "data": {
      "text/plain": [
       "Index(['co', 'no2', 'o3', 'pm10', 'pm25', 'so2', 'humidity', 'pressure',\n",
       "       'temperature', 'wind-speed', 'Country_City'],\n",
       "      dtype='object')"
      ]
     },
     "execution_count": 10,
     "metadata": {},
     "output_type": "execute_result"
    }
   ],
   "source": [
    "new_data1.columns"
   ]
  },
  {
   "cell_type": "code",
   "execution_count": 11,
   "id": "54d49066",
   "metadata": {
    "execution": {
     "iopub.execute_input": "2025-01-20T14:03:49.852335Z",
     "iopub.status.busy": "2025-01-20T14:03:49.851800Z",
     "iopub.status.idle": "2025-01-20T14:03:49.857617Z",
     "shell.execute_reply": "2025-01-20T14:03:49.856335Z"
    },
    "papermill": {
     "duration": 0.025252,
     "end_time": "2025-01-20T14:03:49.859529",
     "exception": false,
     "start_time": "2025-01-20T14:03:49.834277",
     "status": "completed"
    },
    "tags": []
   },
   "outputs": [],
   "source": [
    "# Drop collumns which have large quantity of missing value and of no use\n",
    "new_data2 = new_data1.drop(['co', 'no2', 'o3', 'pm10', 'so2', 'Country_City'], axis= 1)"
   ]
  },
  {
   "cell_type": "code",
   "execution_count": 12,
   "id": "d02b28ce",
   "metadata": {
    "execution": {
     "iopub.execute_input": "2025-01-20T14:03:49.895827Z",
     "iopub.status.busy": "2025-01-20T14:03:49.895464Z",
     "iopub.status.idle": "2025-01-20T14:03:49.902982Z",
     "shell.execute_reply": "2025-01-20T14:03:49.901948Z"
    },
    "papermill": {
     "duration": 0.028414,
     "end_time": "2025-01-20T14:03:49.904775",
     "exception": false,
     "start_time": "2025-01-20T14:03:49.876361",
     "status": "completed"
    },
    "tags": []
   },
   "outputs": [
    {
     "data": {
      "text/plain": [
       "pm25             0\n",
       "humidity        24\n",
       "pressure        24\n",
       "temperature     24\n",
       "wind-speed     118\n",
       "dtype: int64"
      ]
     },
     "execution_count": 12,
     "metadata": {},
     "output_type": "execute_result"
    }
   ],
   "source": [
    "new_data2.isna().sum()"
   ]
  },
  {
   "cell_type": "code",
   "execution_count": 13,
   "id": "35a15f53",
   "metadata": {
    "execution": {
     "iopub.execute_input": "2025-01-20T14:03:49.940437Z",
     "iopub.status.busy": "2025-01-20T14:03:49.940072Z",
     "iopub.status.idle": "2025-01-20T14:03:49.950696Z",
     "shell.execute_reply": "2025-01-20T14:03:49.949676Z"
    },
    "papermill": {
     "duration": 0.030732,
     "end_time": "2025-01-20T14:03:49.952650",
     "exception": false,
     "start_time": "2025-01-20T14:03:49.921918",
     "status": "completed"
    },
    "tags": []
   },
   "outputs": [],
   "source": [
    "# Fill the missing value \n",
    "\n",
    "imputer = SimpleImputer(strategy=\"mean\")\n",
    "\n",
    "# Select the columns\n",
    "columns_to_impute = ['humidity', 'pressure', 'temperature', 'wind-speed']\n",
    "\n",
    "new_data2[columns_to_impute] = imputer.fit_transform(new_data2[columns_to_impute])"
   ]
  },
  {
   "cell_type": "markdown",
   "id": "a072fc96",
   "metadata": {
    "papermill": {
     "duration": 0.017888,
     "end_time": "2025-01-20T14:03:49.988013",
     "exception": false,
     "start_time": "2025-01-20T14:03:49.970125",
     "status": "completed"
    },
    "tags": []
   },
   "source": [
    "**Check**"
   ]
  },
  {
   "cell_type": "code",
   "execution_count": 14,
   "id": "ddc22de4",
   "metadata": {
    "execution": {
     "iopub.execute_input": "2025-01-20T14:03:50.023704Z",
     "iopub.status.busy": "2025-01-20T14:03:50.023269Z",
     "iopub.status.idle": "2025-01-20T14:03:50.031622Z",
     "shell.execute_reply": "2025-01-20T14:03:50.030534Z"
    },
    "papermill": {
     "duration": 0.028045,
     "end_time": "2025-01-20T14:03:50.033361",
     "exception": false,
     "start_time": "2025-01-20T14:03:50.005316",
     "status": "completed"
    },
    "tags": []
   },
   "outputs": [
    {
     "data": {
      "text/plain": [
       "pm25           0\n",
       "humidity       0\n",
       "pressure       0\n",
       "temperature    0\n",
       "wind-speed     0\n",
       "dtype: int64"
      ]
     },
     "execution_count": 14,
     "metadata": {},
     "output_type": "execute_result"
    }
   ],
   "source": [
    "new_data2.isna().sum()"
   ]
  },
  {
   "cell_type": "code",
   "execution_count": 15,
   "id": "d4bb0c8a",
   "metadata": {
    "execution": {
     "iopub.execute_input": "2025-01-20T14:03:50.127294Z",
     "iopub.status.busy": "2025-01-20T14:03:50.126774Z",
     "iopub.status.idle": "2025-01-20T14:03:50.143520Z",
     "shell.execute_reply": "2025-01-20T14:03:50.142155Z"
    },
    "papermill": {
     "duration": 0.094764,
     "end_time": "2025-01-20T14:03:50.145423",
     "exception": false,
     "start_time": "2025-01-20T14:03:50.050659",
     "status": "completed"
    },
    "tags": []
   },
   "outputs": [
    {
     "name": "stdout",
     "output_type": "stream",
     "text": [
      "Missing Dates:\n",
      "DatetimeIndex(['2019-10-05', '2019-10-06', '2020-05-03', '2020-07-05',\n",
      "               '2021-03-31', '2021-05-15', '2021-05-16', '2021-06-26',\n",
      "               '2021-06-28', '2021-06-29',\n",
      "               ...\n",
      "               '2024-06-20', '2024-06-21', '2024-06-22', '2024-06-23',\n",
      "               '2024-06-24', '2024-06-25', '2024-06-26', '2024-06-27',\n",
      "               '2024-06-28', '2024-06-29'],\n",
      "              dtype='datetime64[ns]', length=504, freq=None)\n"
     ]
    }
   ],
   "source": [
    "# Create a complete range of dates\n",
    "full_range = pd.date_range(start=new_data2.index.min(), end=new_data2.index.max())\n",
    "\n",
    "# Find missing dates\n",
    "missing_dates = full_range.difference(new_data2.index)\n",
    "print(\"Missing Dates:\")\n",
    "print(missing_dates)"
   ]
  },
  {
   "cell_type": "code",
   "execution_count": 16,
   "id": "824eebda",
   "metadata": {
    "execution": {
     "iopub.execute_input": "2025-01-20T14:03:50.181245Z",
     "iopub.status.busy": "2025-01-20T14:03:50.180811Z",
     "iopub.status.idle": "2025-01-20T14:03:50.186761Z",
     "shell.execute_reply": "2025-01-20T14:03:50.185640Z"
    },
    "papermill": {
     "duration": 0.025984,
     "end_time": "2025-01-20T14:03:50.188785",
     "exception": false,
     "start_time": "2025-01-20T14:03:50.162801",
     "status": "completed"
    },
    "tags": []
   },
   "outputs": [],
   "source": [
    "#Function for imputing missing dates\n",
    "def impute_missing_dates(df):\n",
    "    \"\"\"Handle missing dates and duplicates in the time series.\"\"\"\n",
    "    df = df.copy()\n",
    "    \n",
    "    # Create full date range\n",
    "    full_range = pd.date_range(start=df.index.min(), end=df.index.max(), freq='D')\n",
    "    \n",
    "    # Reindex to include missing dates\n",
    "    df = df.reindex(full_range)\n",
    "    \n",
    "    # Fill missing values using forward fill\n",
    "    df = df.ffill()\n",
    "    \n",
    "    # Drop any duplicates and sort by index\n",
    "    df = df[~df.index.duplicated(keep='last')].sort_index()\n",
    "    \n",
    "    return df"
   ]
  },
  {
   "cell_type": "code",
   "execution_count": 17,
   "id": "ecd6a398",
   "metadata": {
    "execution": {
     "iopub.execute_input": "2025-01-20T14:03:50.224905Z",
     "iopub.status.busy": "2025-01-20T14:03:50.224520Z",
     "iopub.status.idle": "2025-01-20T14:03:50.233920Z",
     "shell.execute_reply": "2025-01-20T14:03:50.232804Z"
    },
    "papermill": {
     "duration": 0.029493,
     "end_time": "2025-01-20T14:03:50.235993",
     "exception": false,
     "start_time": "2025-01-20T14:03:50.206500",
     "status": "completed"
    },
    "tags": []
   },
   "outputs": [],
   "source": [
    "new_data3 = impute_missing_dates(new_data2)"
   ]
  },
  {
   "cell_type": "code",
   "execution_count": 18,
   "id": "295248c4",
   "metadata": {
    "execution": {
     "iopub.execute_input": "2025-01-20T14:03:50.274614Z",
     "iopub.status.busy": "2025-01-20T14:03:50.274176Z",
     "iopub.status.idle": "2025-01-20T14:03:50.283581Z",
     "shell.execute_reply": "2025-01-20T14:03:50.282112Z"
    },
    "papermill": {
     "duration": 0.030803,
     "end_time": "2025-01-20T14:03:50.285450",
     "exception": false,
     "start_time": "2025-01-20T14:03:50.254647",
     "status": "completed"
    },
    "tags": []
   },
   "outputs": [
    {
     "name": "stdout",
     "output_type": "stream",
     "text": [
      "Missing Dates:\n",
      "DatetimeIndex([], dtype='datetime64[ns]', freq='D')\n"
     ]
    }
   ],
   "source": [
    "# Create a complete range of dates\n",
    "full_range = pd.date_range(start=new_data3.index.min(), end=new_data3.index.max())\n",
    "\n",
    "# Find missing dates\n",
    "missing_dates = full_range.difference(new_data3.index)\n",
    "print(\"Missing Dates:\")\n",
    "print(missing_dates)"
   ]
  },
  {
   "cell_type": "code",
   "execution_count": 19,
   "id": "6c8d154e",
   "metadata": {
    "execution": {
     "iopub.execute_input": "2025-01-20T14:03:50.322825Z",
     "iopub.status.busy": "2025-01-20T14:03:50.322396Z",
     "iopub.status.idle": "2025-01-20T14:03:50.328646Z",
     "shell.execute_reply": "2025-01-20T14:03:50.327302Z"
    },
    "papermill": {
     "duration": 0.027211,
     "end_time": "2025-01-20T14:03:50.330604",
     "exception": false,
     "start_time": "2025-01-20T14:03:50.303393",
     "status": "completed"
    },
    "tags": []
   },
   "outputs": [
    {
     "name": "stdout",
     "output_type": "stream",
     "text": [
      "Duplicate indexes: DatetimeIndex([], dtype='datetime64[ns]', freq='D')\n"
     ]
    }
   ],
   "source": [
    "duplicates = new_data3.index[new_data3.index.duplicated()]\n",
    "print(f\"Duplicate indexes: {duplicates}\")"
   ]
  },
  {
   "cell_type": "markdown",
   "id": "95134930",
   "metadata": {
    "papermill": {
     "duration": 0.016877,
     "end_time": "2025-01-20T14:03:50.366755",
     "exception": false,
     "start_time": "2025-01-20T14:03:50.349878",
     "status": "completed"
    },
    "tags": []
   },
   "source": [
    "# **1.3.Normal AQI count**"
   ]
  },
  {
   "cell_type": "code",
   "execution_count": 20,
   "id": "604c9cca",
   "metadata": {
    "execution": {
     "iopub.execute_input": "2025-01-20T14:03:50.403297Z",
     "iopub.status.busy": "2025-01-20T14:03:50.402926Z",
     "iopub.status.idle": "2025-01-20T14:03:50.409081Z",
     "shell.execute_reply": "2025-01-20T14:03:50.407731Z"
    },
    "papermill": {
     "duration": 0.027184,
     "end_time": "2025-01-20T14:03:50.411000",
     "exception": false,
     "start_time": "2025-01-20T14:03:50.383816",
     "status": "completed"
    },
    "tags": []
   },
   "outputs": [],
   "source": [
    "#Normal AQI count Function\n",
    "def calculate_aqi(data, subindex_columns=None):\n",
    "    \"\"\"Calculate Air Quality Index based on available pollutants.\"\"\"\n",
    "    data = data.copy()\n",
    "    \n",
    "    # Determine available pollutant columns\n",
    "    if subindex_columns is None:\n",
    "        all_possible_columns = ['co', 'no2', 'o3', 'pm10', 'pm25', 'so2']\n",
    "        subindex_columns = [col for col in all_possible_columns if col in data.columns]\n",
    "    \n",
    "    # Skip if no pollutant columns are available\n",
    "    if not subindex_columns:\n",
    "        print(f\"Warning: No pollutant columns available for {data.index}. Skipping record.\")\n",
    "        return None\n",
    "    \n",
    "    # Calculate AQI as maximum value among available pollutants\n",
    "    data[\"AQI\"] = data[subindex_columns].max(axis=1)\n",
    "    data[\"AQI\"] = data[\"AQI\"].round()\n",
    "    \n",
    "    return data"
   ]
  },
  {
   "cell_type": "code",
   "execution_count": 21,
   "id": "b5819250",
   "metadata": {
    "execution": {
     "iopub.execute_input": "2025-01-20T14:03:50.448424Z",
     "iopub.status.busy": "2025-01-20T14:03:50.448053Z",
     "iopub.status.idle": "2025-01-20T14:03:50.456550Z",
     "shell.execute_reply": "2025-01-20T14:03:50.455328Z"
    },
    "papermill": {
     "duration": 0.029403,
     "end_time": "2025-01-20T14:03:50.458731",
     "exception": false,
     "start_time": "2025-01-20T14:03:50.429328",
     "status": "completed"
    },
    "tags": []
   },
   "outputs": [],
   "source": [
    "new_data4 = calculate_aqi(new_data3)"
   ]
  },
  {
   "cell_type": "code",
   "execution_count": 22,
   "id": "7152ef06",
   "metadata": {
    "execution": {
     "iopub.execute_input": "2025-01-20T14:03:50.495396Z",
     "iopub.status.busy": "2025-01-20T14:03:50.494969Z",
     "iopub.status.idle": "2025-01-20T14:03:50.509389Z",
     "shell.execute_reply": "2025-01-20T14:03:50.508175Z"
    },
    "papermill": {
     "duration": 0.035013,
     "end_time": "2025-01-20T14:03:50.511355",
     "exception": false,
     "start_time": "2025-01-20T14:03:50.476342",
     "status": "completed"
    },
    "tags": []
   },
   "outputs": [
    {
     "data": {
      "text/html": [
       "<div>\n",
       "<style scoped>\n",
       "    .dataframe tbody tr th:only-of-type {\n",
       "        vertical-align: middle;\n",
       "    }\n",
       "\n",
       "    .dataframe tbody tr th {\n",
       "        vertical-align: top;\n",
       "    }\n",
       "\n",
       "    .dataframe thead th {\n",
       "        text-align: right;\n",
       "    }\n",
       "</style>\n",
       "<table border=\"1\" class=\"dataframe\">\n",
       "  <thead>\n",
       "    <tr style=\"text-align: right;\">\n",
       "      <th></th>\n",
       "      <th>pm25</th>\n",
       "      <th>humidity</th>\n",
       "      <th>pressure</th>\n",
       "      <th>temperature</th>\n",
       "      <th>wind-speed</th>\n",
       "      <th>AQI</th>\n",
       "    </tr>\n",
       "  </thead>\n",
       "  <tbody>\n",
       "    <tr>\n",
       "      <th>2019-05-09</th>\n",
       "      <td>196.0</td>\n",
       "      <td>20.0</td>\n",
       "      <td>1003.0</td>\n",
       "      <td>33.0</td>\n",
       "      <td>2.3</td>\n",
       "      <td>196.0</td>\n",
       "    </tr>\n",
       "    <tr>\n",
       "      <th>2019-05-10</th>\n",
       "      <td>159.0</td>\n",
       "      <td>28.0</td>\n",
       "      <td>1004.0</td>\n",
       "      <td>32.0</td>\n",
       "      <td>3.6</td>\n",
       "      <td>159.0</td>\n",
       "    </tr>\n",
       "    <tr>\n",
       "      <th>2019-05-11</th>\n",
       "      <td>197.0</td>\n",
       "      <td>43.0</td>\n",
       "      <td>1007.0</td>\n",
       "      <td>29.0</td>\n",
       "      <td>3.0</td>\n",
       "      <td>197.0</td>\n",
       "    </tr>\n",
       "    <tr>\n",
       "      <th>2019-05-12</th>\n",
       "      <td>176.0</td>\n",
       "      <td>37.0</td>\n",
       "      <td>1006.0</td>\n",
       "      <td>31.0</td>\n",
       "      <td>2.5</td>\n",
       "      <td>176.0</td>\n",
       "    </tr>\n",
       "    <tr>\n",
       "      <th>2019-05-13</th>\n",
       "      <td>171.0</td>\n",
       "      <td>51.0</td>\n",
       "      <td>1005.0</td>\n",
       "      <td>28.0</td>\n",
       "      <td>2.5</td>\n",
       "      <td>171.0</td>\n",
       "    </tr>\n",
       "  </tbody>\n",
       "</table>\n",
       "</div>"
      ],
      "text/plain": [
       "             pm25  humidity  pressure  temperature  wind-speed    AQI\n",
       "2019-05-09  196.0      20.0    1003.0         33.0         2.3  196.0\n",
       "2019-05-10  159.0      28.0    1004.0         32.0         3.6  159.0\n",
       "2019-05-11  197.0      43.0    1007.0         29.0         3.0  197.0\n",
       "2019-05-12  176.0      37.0    1006.0         31.0         2.5  176.0\n",
       "2019-05-13  171.0      51.0    1005.0         28.0         2.5  171.0"
      ]
     },
     "execution_count": 22,
     "metadata": {},
     "output_type": "execute_result"
    }
   ],
   "source": [
    "new_data4.head()"
   ]
  },
  {
   "cell_type": "code",
   "execution_count": 23,
   "id": "69fb36fe",
   "metadata": {
    "execution": {
     "iopub.execute_input": "2025-01-20T14:03:50.548663Z",
     "iopub.status.busy": "2025-01-20T14:03:50.548151Z",
     "iopub.status.idle": "2025-01-20T14:03:51.220026Z",
     "shell.execute_reply": "2025-01-20T14:03:51.218762Z"
    },
    "papermill": {
     "duration": 0.692437,
     "end_time": "2025-01-20T14:03:51.221993",
     "exception": false,
     "start_time": "2025-01-20T14:03:50.529556",
     "status": "completed"
    },
    "tags": []
   },
   "outputs": [
    {
     "data": {
      "text/plain": [
       "<Axes: >"
      ]
     },
     "execution_count": 23,
     "metadata": {},
     "output_type": "execute_result"
    },
    {
     "data": {
      "image/png": "[encoded data removed]",
      "text/plain": [
       "<Figure size 640x480 with 1 Axes>"
      ]
     },
     "metadata": {},
     "output_type": "display_data"
    }
   ],
   "source": [
    "norm_aqi = new_data4['AQI']\n",
    "norm_aqi.plot()"
   ]
  },
  {
   "cell_type": "markdown",
   "id": "65e6707b",
   "metadata": {
    "papermill": {
     "duration": 0.018208,
     "end_time": "2025-01-20T14:03:51.258872",
     "exception": false,
     "start_time": "2025-01-20T14:03:51.240664",
     "status": "completed"
    },
    "tags": []
   },
   "source": [
    "# **1.4. Smooth AQI count (Preprocess Pollution(outlier handling-IQR) --> Smooth Pollution --> Calculate smooth aqi).**"
   ]
  },
  {
   "cell_type": "code",
   "execution_count": 24,
   "id": "f1455ce9",
   "metadata": {
    "execution": {
     "iopub.execute_input": "2025-01-20T14:03:51.298644Z",
     "iopub.status.busy": "2025-01-20T14:03:51.298296Z",
     "iopub.status.idle": "2025-01-20T14:03:51.304129Z",
     "shell.execute_reply": "2025-01-20T14:03:51.302896Z"
    },
    "papermill": {
     "duration": 0.027162,
     "end_time": "2025-01-20T14:03:51.305945",
     "exception": false,
     "start_time": "2025-01-20T14:03:51.278783",
     "status": "completed"
    },
    "tags": []
   },
   "outputs": [],
   "source": [
    "def handle_aqi_outliers(series, method='iqr'):\n",
    "    \"\"\"Handle outliers in AQI data.\"\"\"\n",
    "    if method == 'iqr':\n",
    "        Q1 = series.quantile(0.25)\n",
    "        Q3 = series.quantile(0.75)\n",
    "        IQR = Q3 - Q1\n",
    "        lower_bound = Q1 - 1.5 * IQR\n",
    "        upper_bound = Q3 + 1.5 * IQR\n",
    "        return series.clip(lower=lower_bound, upper=upper_bound)\n",
    "    elif method == 'rolling':\n",
    "        return series.rolling(window=3, center=True, min_periods=1).median()\n",
    "    return series"
   ]
  },
  {
   "cell_type": "code",
   "execution_count": 25,
   "id": "fd593432",
   "metadata": {
    "execution": {
     "iopub.execute_input": "2025-01-20T14:03:51.345960Z",
     "iopub.status.busy": "2025-01-20T14:03:51.345546Z",
     "iopub.status.idle": "2025-01-20T14:03:51.352235Z",
     "shell.execute_reply": "2025-01-20T14:03:51.351028Z"
    },
    "papermill": {
     "duration": 0.028792,
     "end_time": "2025-01-20T14:03:51.354206",
     "exception": false,
     "start_time": "2025-01-20T14:03:51.325414",
     "status": "completed"
    },
    "tags": []
   },
   "outputs": [],
   "source": [
    "def calculate_smooth_aqi(df):\n",
    "    \"\"\"Calculate smoothed AQI based on available pollutants.\"\"\"\n",
    "    df_processed = df.copy()\n",
    "    \n",
    "    # Get available pollutant columns\n",
    "    pollutant_columns = [col for col in ['co', 'no2', 'o3', 'pm10', 'pm25', 'so2'] \n",
    "                        if col in df.columns]\n",
    "    \n",
    "    if not pollutant_columns:\n",
    "        raise ValueError(\"No pollutant columns available for AQI calculation\")\n",
    "    \n",
    "    # Preprocess available components\n",
    "    for col in pollutant_columns:\n",
    "        df_processed[col] = handle_aqi_outliers(df_processed[col], method='iqr')\n",
    "        df_processed[col] = (df_processed[col]\n",
    "                           .rolling(window=6, center=True)\n",
    "                           .mean()\n",
    "                           .ffill()\n",
    "                           .bfill())\n",
    "    \n",
    "    # Calculate smooth AQI\n",
    "    smooth_aqi = df_processed[pollutant_columns].max(axis=1)\n",
    "    smooth_aqi = handle_aqi_outliers(smooth_aqi, method='rolling')\n",
    "    \n",
    "    df_processed['AQI_Smooth'] = smooth_aqi\n",
    "    \n",
    "    return df_processed"
   ]
  },
  {
   "cell_type": "code",
   "execution_count": 26,
   "id": "eb5aaedf",
   "metadata": {
    "execution": {
     "iopub.execute_input": "2025-01-20T14:03:51.392609Z",
     "iopub.status.busy": "2025-01-20T14:03:51.392242Z",
     "iopub.status.idle": "2025-01-20T14:03:51.416485Z",
     "shell.execute_reply": "2025-01-20T14:03:51.415445Z"
    },
    "papermill": {
     "duration": 0.045663,
     "end_time": "2025-01-20T14:03:51.418247",
     "exception": false,
     "start_time": "2025-01-20T14:03:51.372584",
     "status": "completed"
    },
    "tags": []
   },
   "outputs": [
    {
     "data": {
      "text/html": [
       "<div>\n",
       "<style scoped>\n",
       "    .dataframe tbody tr th:only-of-type {\n",
       "        vertical-align: middle;\n",
       "    }\n",
       "\n",
       "    .dataframe tbody tr th {\n",
       "        vertical-align: top;\n",
       "    }\n",
       "\n",
       "    .dataframe thead th {\n",
       "        text-align: right;\n",
       "    }\n",
       "</style>\n",
       "<table border=\"1\" class=\"dataframe\">\n",
       "  <thead>\n",
       "    <tr style=\"text-align: right;\">\n",
       "      <th></th>\n",
       "      <th>pm25</th>\n",
       "      <th>humidity</th>\n",
       "      <th>pressure</th>\n",
       "      <th>temperature</th>\n",
       "      <th>wind-speed</th>\n",
       "      <th>AQI_Smooth</th>\n",
       "    </tr>\n",
       "  </thead>\n",
       "  <tbody>\n",
       "    <tr>\n",
       "      <th>2019-05-09</th>\n",
       "      <td>174.166667</td>\n",
       "      <td>20.0</td>\n",
       "      <td>1003.0</td>\n",
       "      <td>33.0</td>\n",
       "      <td>2.3</td>\n",
       "      <td>174.166667</td>\n",
       "    </tr>\n",
       "    <tr>\n",
       "      <th>2019-05-10</th>\n",
       "      <td>174.166667</td>\n",
       "      <td>28.0</td>\n",
       "      <td>1004.0</td>\n",
       "      <td>32.0</td>\n",
       "      <td>3.6</td>\n",
       "      <td>174.166667</td>\n",
       "    </tr>\n",
       "    <tr>\n",
       "      <th>2019-05-11</th>\n",
       "      <td>174.166667</td>\n",
       "      <td>43.0</td>\n",
       "      <td>1007.0</td>\n",
       "      <td>29.0</td>\n",
       "      <td>3.0</td>\n",
       "      <td>174.166667</td>\n",
       "    </tr>\n",
       "    <tr>\n",
       "      <th>2019-05-12</th>\n",
       "      <td>174.166667</td>\n",
       "      <td>37.0</td>\n",
       "      <td>1006.0</td>\n",
       "      <td>31.0</td>\n",
       "      <td>2.5</td>\n",
       "      <td>174.166667</td>\n",
       "    </tr>\n",
       "    <tr>\n",
       "      <th>2019-05-13</th>\n",
       "      <td>170.166667</td>\n",
       "      <td>51.0</td>\n",
       "      <td>1005.0</td>\n",
       "      <td>28.0</td>\n",
       "      <td>2.5</td>\n",
       "      <td>172.500000</td>\n",
       "    </tr>\n",
       "  </tbody>\n",
       "</table>\n",
       "</div>"
      ],
      "text/plain": [
       "                  pm25  humidity  pressure  temperature  wind-speed  \\\n",
       "2019-05-09  174.166667      20.0    1003.0         33.0         2.3   \n",
       "2019-05-10  174.166667      28.0    1004.0         32.0         3.6   \n",
       "2019-05-11  174.166667      43.0    1007.0         29.0         3.0   \n",
       "2019-05-12  174.166667      37.0    1006.0         31.0         2.5   \n",
       "2019-05-13  170.166667      51.0    1005.0         28.0         2.5   \n",
       "\n",
       "            AQI_Smooth  \n",
       "2019-05-09  174.166667  \n",
       "2019-05-10  174.166667  \n",
       "2019-05-11  174.166667  \n",
       "2019-05-12  174.166667  \n",
       "2019-05-13  172.500000  "
      ]
     },
     "execution_count": 26,
     "metadata": {},
     "output_type": "execute_result"
    }
   ],
   "source": [
    "new_smooth = calculate_smooth_aqi(new_data3)\n",
    "new_smooth.head()"
   ]
  },
  {
   "cell_type": "code",
   "execution_count": 27,
   "id": "c1a8c520",
   "metadata": {
    "execution": {
     "iopub.execute_input": "2025-01-20T14:03:51.458474Z",
     "iopub.status.busy": "2025-01-20T14:03:51.458103Z",
     "iopub.status.idle": "2025-01-20T14:03:51.877741Z",
     "shell.execute_reply": "2025-01-20T14:03:51.876579Z"
    },
    "papermill": {
     "duration": 0.442962,
     "end_time": "2025-01-20T14:03:51.880058",
     "exception": false,
     "start_time": "2025-01-20T14:03:51.437096",
     "status": "completed"
    },
    "tags": []
   },
   "outputs": [
    {
     "data": {
      "text/plain": [
       "<Axes: >"
      ]
     },
     "execution_count": 27,
     "metadata": {},
     "output_type": "execute_result"
    },
    {
     "data": {
      "image/png": "[encoded data removed]",
      "text/plain": [
       "<Figure size 640x480 with 1 Axes>"
      ]
     },
     "metadata": {},
     "output_type": "display_data"
    }
   ],
   "source": [
    "smooth_aqi = new_smooth['AQI_Smooth']\n",
    "smooth_aqi.plot()"
   ]
  },
  {
   "cell_type": "markdown",
   "id": "1d9b9752",
   "metadata": {
    "papermill": {
     "duration": 0.019532,
     "end_time": "2025-01-20T14:03:51.919581",
     "exception": false,
     "start_time": "2025-01-20T14:03:51.900049",
     "status": "completed"
    },
    "tags": []
   },
   "source": [
    "# **2.1. Splitting & Preprocessing the Raw Data(Normal AQI)**"
   ]
  },
  {
   "cell_type": "markdown",
   "id": "520632f2",
   "metadata": {
    "papermill": {
     "duration": 0.019208,
     "end_time": "2025-01-20T14:03:51.958392",
     "exception": false,
     "start_time": "2025-01-20T14:03:51.939184",
     "status": "completed"
    },
    "tags": []
   },
   "source": [
    "Normal AQI"
   ]
  },
  {
   "cell_type": "code",
   "execution_count": 28,
   "id": "b8a192c5",
   "metadata": {
    "execution": {
     "iopub.execute_input": "2025-01-20T14:03:51.999561Z",
     "iopub.status.busy": "2025-01-20T14:03:51.999193Z",
     "iopub.status.idle": "2025-01-20T14:03:52.014146Z",
     "shell.execute_reply": "2025-01-20T14:03:52.013004Z"
    },
    "papermill": {
     "duration": 0.037697,
     "end_time": "2025-01-20T14:03:52.015832",
     "exception": false,
     "start_time": "2025-01-20T14:03:51.978135",
     "status": "completed"
    },
    "tags": []
   },
   "outputs": [
    {
     "data": {
      "text/html": [
       "<div>\n",
       "<style scoped>\n",
       "    .dataframe tbody tr th:only-of-type {\n",
       "        vertical-align: middle;\n",
       "    }\n",
       "\n",
       "    .dataframe tbody tr th {\n",
       "        vertical-align: top;\n",
       "    }\n",
       "\n",
       "    .dataframe thead th {\n",
       "        text-align: right;\n",
       "    }\n",
       "</style>\n",
       "<table border=\"1\" class=\"dataframe\">\n",
       "  <thead>\n",
       "    <tr style=\"text-align: right;\">\n",
       "      <th></th>\n",
       "      <th>pm25</th>\n",
       "      <th>humidity</th>\n",
       "      <th>pressure</th>\n",
       "      <th>temperature</th>\n",
       "      <th>wind-speed</th>\n",
       "      <th>AQI</th>\n",
       "    </tr>\n",
       "  </thead>\n",
       "  <tbody>\n",
       "    <tr>\n",
       "      <th>2019-05-09</th>\n",
       "      <td>196.0</td>\n",
       "      <td>20.0</td>\n",
       "      <td>1003.0</td>\n",
       "      <td>33.0</td>\n",
       "      <td>2.3</td>\n",
       "      <td>196.0</td>\n",
       "    </tr>\n",
       "    <tr>\n",
       "      <th>2019-05-10</th>\n",
       "      <td>159.0</td>\n",
       "      <td>28.0</td>\n",
       "      <td>1004.0</td>\n",
       "      <td>32.0</td>\n",
       "      <td>3.6</td>\n",
       "      <td>159.0</td>\n",
       "    </tr>\n",
       "    <tr>\n",
       "      <th>2019-05-11</th>\n",
       "      <td>197.0</td>\n",
       "      <td>43.0</td>\n",
       "      <td>1007.0</td>\n",
       "      <td>29.0</td>\n",
       "      <td>3.0</td>\n",
       "      <td>197.0</td>\n",
       "    </tr>\n",
       "    <tr>\n",
       "      <th>2019-05-12</th>\n",
       "      <td>176.0</td>\n",
       "      <td>37.0</td>\n",
       "      <td>1006.0</td>\n",
       "      <td>31.0</td>\n",
       "      <td>2.5</td>\n",
       "      <td>176.0</td>\n",
       "    </tr>\n",
       "    <tr>\n",
       "      <th>2019-05-13</th>\n",
       "      <td>171.0</td>\n",
       "      <td>51.0</td>\n",
       "      <td>1005.0</td>\n",
       "      <td>28.0</td>\n",
       "      <td>2.5</td>\n",
       "      <td>171.0</td>\n",
       "    </tr>\n",
       "  </tbody>\n",
       "</table>\n",
       "</div>"
      ],
      "text/plain": [
       "             pm25  humidity  pressure  temperature  wind-speed    AQI\n",
       "2019-05-09  196.0      20.0    1003.0         33.0         2.3  196.0\n",
       "2019-05-10  159.0      28.0    1004.0         32.0         3.6  159.0\n",
       "2019-05-11  197.0      43.0    1007.0         29.0         3.0  197.0\n",
       "2019-05-12  176.0      37.0    1006.0         31.0         2.5  176.0\n",
       "2019-05-13  171.0      51.0    1005.0         28.0         2.5  171.0"
      ]
     },
     "execution_count": 28,
     "metadata": {},
     "output_type": "execute_result"
    }
   ],
   "source": [
    "new_data4.head()"
   ]
  },
  {
   "cell_type": "code",
   "execution_count": 29,
   "id": "ea974b09",
   "metadata": {
    "execution": {
     "iopub.execute_input": "2025-01-20T14:03:52.057548Z",
     "iopub.status.busy": "2025-01-20T14:03:52.057167Z",
     "iopub.status.idle": "2025-01-20T14:03:52.063228Z",
     "shell.execute_reply": "2025-01-20T14:03:52.062298Z"
    },
    "papermill": {
     "duration": 0.02913,
     "end_time": "2025-01-20T14:03:52.064928",
     "exception": false,
     "start_time": "2025-01-20T14:03:52.035798",
     "status": "completed"
    },
    "tags": []
   },
   "outputs": [
    {
     "data": {
      "text/plain": [
       "Index(['pm25', 'humidity', 'pressure', 'temperature', 'wind-speed', 'AQI'], dtype='object')"
      ]
     },
     "execution_count": 29,
     "metadata": {},
     "output_type": "execute_result"
    }
   ],
   "source": [
    "new_data4.columns"
   ]
  },
  {
   "cell_type": "markdown",
   "id": "9f524f1c",
   "metadata": {
    "papermill": {
     "duration": 0.020072,
     "end_time": "2025-01-20T14:03:52.105498",
     "exception": false,
     "start_time": "2025-01-20T14:03:52.085426",
     "status": "completed"
    },
    "tags": []
   },
   "source": [
    "***Working with Normal AQI***"
   ]
  },
  {
   "cell_type": "code",
   "execution_count": 30,
   "id": "737fb4d5",
   "metadata": {
    "execution": {
     "iopub.execute_input": "2025-01-20T14:03:52.147950Z",
     "iopub.status.busy": "2025-01-20T14:03:52.147549Z",
     "iopub.status.idle": "2025-01-20T14:03:52.152511Z",
     "shell.execute_reply": "2025-01-20T14:03:52.151517Z"
    },
    "papermill": {
     "duration": 0.028341,
     "end_time": "2025-01-20T14:03:52.154329",
     "exception": false,
     "start_time": "2025-01-20T14:03:52.125988",
     "status": "completed"
    },
    "tags": []
   },
   "outputs": [],
   "source": [
    "data = new_data4.copy()"
   ]
  },
  {
   "cell_type": "code",
   "execution_count": 31,
   "id": "43a379bf",
   "metadata": {
    "execution": {
     "iopub.execute_input": "2025-01-20T14:03:52.196321Z",
     "iopub.status.busy": "2025-01-20T14:03:52.195893Z",
     "iopub.status.idle": "2025-01-20T14:03:52.210436Z",
     "shell.execute_reply": "2025-01-20T14:03:52.209341Z"
    },
    "papermill": {
     "duration": 0.037532,
     "end_time": "2025-01-20T14:03:52.212047",
     "exception": false,
     "start_time": "2025-01-20T14:03:52.174515",
     "status": "completed"
    },
    "tags": []
   },
   "outputs": [
    {
     "data": {
      "text/html": [
       "<div>\n",
       "<style scoped>\n",
       "    .dataframe tbody tr th:only-of-type {\n",
       "        vertical-align: middle;\n",
       "    }\n",
       "\n",
       "    .dataframe tbody tr th {\n",
       "        vertical-align: top;\n",
       "    }\n",
       "\n",
       "    .dataframe thead th {\n",
       "        text-align: right;\n",
       "    }\n",
       "</style>\n",
       "<table border=\"1\" class=\"dataframe\">\n",
       "  <thead>\n",
       "    <tr style=\"text-align: right;\">\n",
       "      <th></th>\n",
       "      <th>pm25</th>\n",
       "      <th>humidity</th>\n",
       "      <th>pressure</th>\n",
       "      <th>temperature</th>\n",
       "      <th>wind-speed</th>\n",
       "      <th>AQI</th>\n",
       "    </tr>\n",
       "  </thead>\n",
       "  <tbody>\n",
       "    <tr>\n",
       "      <th>2019-05-09</th>\n",
       "      <td>196.0</td>\n",
       "      <td>20.0</td>\n",
       "      <td>1003.0</td>\n",
       "      <td>33.0</td>\n",
       "      <td>2.3</td>\n",
       "      <td>196.0</td>\n",
       "    </tr>\n",
       "    <tr>\n",
       "      <th>2019-05-10</th>\n",
       "      <td>159.0</td>\n",
       "      <td>28.0</td>\n",
       "      <td>1004.0</td>\n",
       "      <td>32.0</td>\n",
       "      <td>3.6</td>\n",
       "      <td>159.0</td>\n",
       "    </tr>\n",
       "    <tr>\n",
       "      <th>2019-05-11</th>\n",
       "      <td>197.0</td>\n",
       "      <td>43.0</td>\n",
       "      <td>1007.0</td>\n",
       "      <td>29.0</td>\n",
       "      <td>3.0</td>\n",
       "      <td>197.0</td>\n",
       "    </tr>\n",
       "    <tr>\n",
       "      <th>2019-05-12</th>\n",
       "      <td>176.0</td>\n",
       "      <td>37.0</td>\n",
       "      <td>1006.0</td>\n",
       "      <td>31.0</td>\n",
       "      <td>2.5</td>\n",
       "      <td>176.0</td>\n",
       "    </tr>\n",
       "    <tr>\n",
       "      <th>2019-05-13</th>\n",
       "      <td>171.0</td>\n",
       "      <td>51.0</td>\n",
       "      <td>1005.0</td>\n",
       "      <td>28.0</td>\n",
       "      <td>2.5</td>\n",
       "      <td>171.0</td>\n",
       "    </tr>\n",
       "  </tbody>\n",
       "</table>\n",
       "</div>"
      ],
      "text/plain": [
       "             pm25  humidity  pressure  temperature  wind-speed    AQI\n",
       "2019-05-09  196.0      20.0    1003.0         33.0         2.3  196.0\n",
       "2019-05-10  159.0      28.0    1004.0         32.0         3.6  159.0\n",
       "2019-05-11  197.0      43.0    1007.0         29.0         3.0  197.0\n",
       "2019-05-12  176.0      37.0    1006.0         31.0         2.5  176.0\n",
       "2019-05-13  171.0      51.0    1005.0         28.0         2.5  171.0"
      ]
     },
     "execution_count": 31,
     "metadata": {},
     "output_type": "execute_result"
    }
   ],
   "source": [
    "data.head()"
   ]
  },
  {
   "cell_type": "code",
   "execution_count": 32,
   "id": "97ebe672",
   "metadata": {
    "execution": {
     "iopub.execute_input": "2025-01-20T14:03:52.254245Z",
     "iopub.status.busy": "2025-01-20T14:03:52.253803Z",
     "iopub.status.idle": "2025-01-20T14:03:52.262044Z",
     "shell.execute_reply": "2025-01-20T14:03:52.260664Z"
    },
    "papermill": {
     "duration": 0.031361,
     "end_time": "2025-01-20T14:03:52.263816",
     "exception": false,
     "start_time": "2025-01-20T14:03:52.232455",
     "status": "completed"
    },
    "tags": []
   },
   "outputs": [
    {
     "name": "stdout",
     "output_type": "stream",
     "text": [
      "Index(['pm25', 'humidity', 'pressure', 'temperature', 'wind-speed', 'AQI'], dtype='object')\n",
      "Index([], dtype='object')\n"
     ]
    }
   ],
   "source": [
    "num = data.select_dtypes(include=['int16', 'int32', 'int64', 'float16', 'float32', 'float64'])\n",
    "cat = data.select_dtypes(include=['object'])\n",
    "\n",
    "print(num.columns)\n",
    "print(cat.columns)"
   ]
  },
  {
   "cell_type": "code",
   "execution_count": 33,
   "id": "c0395ebe",
   "metadata": {
    "execution": {
     "iopub.execute_input": "2025-01-20T14:03:52.308871Z",
     "iopub.status.busy": "2025-01-20T14:03:52.308488Z",
     "iopub.status.idle": "2025-01-20T14:03:52.319774Z",
     "shell.execute_reply": "2025-01-20T14:03:52.318590Z"
    },
    "papermill": {
     "duration": 0.035501,
     "end_time": "2025-01-20T14:03:52.321895",
     "exception": false,
     "start_time": "2025-01-20T14:03:52.286394",
     "status": "completed"
    },
    "tags": []
   },
   "outputs": [
    {
     "name": "stdout",
     "output_type": "stream",
     "text": [
      "(1658, 5) (1658,) (415, 5) (415,)\n"
     ]
    }
   ],
   "source": [
    "X = data[['pm25', 'humidity', 'pressure', 'temperature', 'wind-speed']]\n",
    "\n",
    "y = data['AQI']\n",
    "\n",
    "X_train, X_test, y_train, y_test = train_test_split(X, y, test_size = 0.2, random_state = 42)\n",
    "\n",
    "print(X_train.shape, y_train.shape, X_test.shape, y_test.shape)"
   ]
  },
  {
   "cell_type": "code",
   "execution_count": 34,
   "id": "94cda8fc",
   "metadata": {
    "execution": {
     "iopub.execute_input": "2025-01-20T14:03:52.364442Z",
     "iopub.status.busy": "2025-01-20T14:03:52.364019Z",
     "iopub.status.idle": "2025-01-20T14:03:52.369225Z",
     "shell.execute_reply": "2025-01-20T14:03:52.368119Z"
    },
    "papermill": {
     "duration": 0.028657,
     "end_time": "2025-01-20T14:03:52.371102",
     "exception": false,
     "start_time": "2025-01-20T14:03:52.342445",
     "status": "completed"
    },
    "tags": []
   },
   "outputs": [],
   "source": [
    "# Preprocessor without scaling\n",
    "preprocessor = ColumnTransformer(\n",
    "    transformers=[\n",
    "        ('num', 'passthrough', ['pm25', 'humidity', 'pressure', 'temperature', 'wind-speed'])\n",
    "    ])\n",
    "# Pipeline\n",
    "pipeline = Pipeline(steps=[\n",
    "    ('preprocessor', preprocessor)\n",
    "])"
   ]
  },
  {
   "cell_type": "markdown",
   "id": "0a9466bd",
   "metadata": {
    "papermill": {
     "duration": 0.020195,
     "end_time": "2025-01-20T14:03:52.411702",
     "exception": false,
     "start_time": "2025-01-20T14:03:52.391507",
     "status": "completed"
    },
    "tags": []
   },
   "source": [
    "# **2.2. Model Training & Testing**"
   ]
  },
  {
   "cell_type": "markdown",
   "id": "4baf20d6",
   "metadata": {
    "papermill": {
     "duration": 0.02013,
     "end_time": "2025-01-20T14:03:52.452238",
     "exception": false,
     "start_time": "2025-01-20T14:03:52.432108",
     "status": "completed"
    },
    "tags": []
   },
   "source": [
    "## **2.2.1. LinearRegression**"
   ]
  },
  {
   "cell_type": "code",
   "execution_count": 35,
   "id": "ca17a1f4",
   "metadata": {
    "execution": {
     "iopub.execute_input": "2025-01-20T14:03:52.496327Z",
     "iopub.status.busy": "2025-01-20T14:03:52.495912Z",
     "iopub.status.idle": "2025-01-20T14:03:52.551017Z",
     "shell.execute_reply": "2025-01-20T14:03:52.549788Z"
    },
    "papermill": {
     "duration": 0.07964,
     "end_time": "2025-01-20T14:03:52.552913",
     "exception": false,
     "start_time": "2025-01-20T14:03:52.473273",
     "status": "completed"
    },
    "tags": []
   },
   "outputs": [],
   "source": [
    "# training with LinearRegression\n",
    "\n",
    "lm = LinearRegression(fit_intercept = True)\n",
    "\n",
    "pipeline = Pipeline(steps=[('preprocessor', preprocessor), ('regressor', lm)])\n",
    "\n",
    "# Fit the pipeline to the training data\n",
    "pipeline.fit(X_train,y_train)\n",
    "\n",
    "# Predict on the training and test datasets\n",
    "y_pred_train_lm = pipeline.predict(X_train)\n",
    "y_pred_test_lm = pipeline.predict(X_test)"
   ]
  },
  {
   "cell_type": "code",
   "execution_count": 36,
   "id": "3d7c9cfa",
   "metadata": {
    "execution": {
     "iopub.execute_input": "2025-01-20T14:03:52.597556Z",
     "iopub.status.busy": "2025-01-20T14:03:52.597149Z",
     "iopub.status.idle": "2025-01-20T14:03:52.612168Z",
     "shell.execute_reply": "2025-01-20T14:03:52.610575Z"
    },
    "papermill": {
     "duration": 0.039993,
     "end_time": "2025-01-20T14:03:52.614127",
     "exception": false,
     "start_time": "2025-01-20T14:03:52.574134",
     "status": "completed"
    },
    "tags": []
   },
   "outputs": [
    {
     "name": "stdout",
     "output_type": "stream",
     "text": [
      "The r2 Accuracy on the training dataset prediction is:  1.0\n",
      "The r2 Accuracy on the test dataset prediction is:  1.0\n",
      "\n",
      "The RMSE  on the training dataset is:  7.635264772032994e-14\n",
      "The RMSE  on the testing dataset is:  8.107987846512235e-14\n",
      "\n",
      "The MAE  on the training dataset is:  6.09543242846794e-14\n",
      "The MAE  on the testing dataset is:  6.676747508285495e-14\n",
      "\n",
      "The MSE  on the training dataset is:  5.829726813904804e-27\n",
      "The MSE  on the testing dataset is:  6.573946691919012e-27\n"
     ]
    }
   ],
   "source": [
    "# Model Accuracy on training and testing dataset\n",
    "\n",
    "print('The r2 Accuracy on the training dataset prediction is: ',r2_score(y_train,y_pred_train_lm) )\n",
    "print('The r2 Accuracy on the test dataset prediction is: ',r2_score(y_test,y_pred_test_lm) )\n",
    "\n",
    "print(\"\")\n",
    "\n",
    "# The Root Mean Squared Error (RMSE)\n",
    "print('The RMSE  on the training dataset is: ',sqrt(mean_squared_error(y_train, y_pred_train_lm)))\n",
    "print('The RMSE  on the testing dataset is: ',sqrt(mean_squared_error(y_test, y_pred_test_lm)))\n",
    "\n",
    "print(\"\")\n",
    "# The Mean Absolute Error (MAE)\n",
    "print('The MAE  on the training dataset is: ',mean_absolute_error(y_train, y_pred_train_lm))\n",
    "print('The MAE  on the testing dataset is: ',mean_absolute_error(y_test, y_pred_test_lm))\n",
    "\n",
    "print(\"\")\n",
    "# The Mean Squared Error (MSE)\n",
    "print('The MSE  on the training dataset is: ',mean_squared_error(y_train, y_pred_train_lm))\n",
    "print('The MSE  on the testing dataset is: ',mean_squared_error(y_test, y_pred_test_lm))"
   ]
  },
  {
   "cell_type": "markdown",
   "id": "b2e58fce",
   "metadata": {
    "papermill": {
     "duration": 0.020776,
     "end_time": "2025-01-20T14:03:52.655919",
     "exception": false,
     "start_time": "2025-01-20T14:03:52.635143",
     "status": "completed"
    },
    "tags": []
   },
   "source": [
    "## **2.2.2.  KNeighborsRegressor**"
   ]
  },
  {
   "cell_type": "code",
   "execution_count": 37,
   "id": "26d68552",
   "metadata": {
    "execution": {
     "iopub.execute_input": "2025-01-20T14:03:52.704441Z",
     "iopub.status.busy": "2025-01-20T14:03:52.704076Z",
     "iopub.status.idle": "2025-01-20T14:03:52.724197Z",
     "shell.execute_reply": "2025-01-20T14:03:52.722974Z"
    },
    "papermill": {
     "duration": 0.049501,
     "end_time": "2025-01-20T14:03:52.726440",
     "exception": false,
     "start_time": "2025-01-20T14:03:52.676939",
     "status": "completed"
    },
    "tags": []
   },
   "outputs": [],
   "source": [
    "# training with KNeighborsRegressor\n",
    "\n",
    "neigh = KNeighborsRegressor(n_neighbors=2)\n",
    "\n",
    "pipeline = Pipeline(steps=[('preprocessor', preprocessor), ('regressor', neigh)])\n",
    "\n",
    "# Fit the pipeline to the training data\n",
    "pipeline.fit(X_train,y_train)\n",
    "\n",
    "# Predict on the training and test datasets\n",
    "y_pred_train_knn = pipeline.predict(X_train)\n",
    "y_pred_test_knn = pipeline.predict(X_test)"
   ]
  },
  {
   "cell_type": "code",
   "execution_count": 38,
   "id": "7e059a8f",
   "metadata": {
    "execution": {
     "iopub.execute_input": "2025-01-20T14:03:52.769638Z",
     "iopub.status.busy": "2025-01-20T14:03:52.769196Z",
     "iopub.status.idle": "2025-01-20T14:03:52.785369Z",
     "shell.execute_reply": "2025-01-20T14:03:52.784325Z"
    },
    "papermill": {
     "duration": 0.040194,
     "end_time": "2025-01-20T14:03:52.787356",
     "exception": false,
     "start_time": "2025-01-20T14:03:52.747162",
     "status": "completed"
    },
    "tags": []
   },
   "outputs": [
    {
     "name": "stdout",
     "output_type": "stream",
     "text": [
      "The R2 score on the training dataset prediction is:  0.9998023517693524\n",
      "The R2 score on the test dataset prediction is:  0.9989554149419444\n",
      "\n",
      "The RMSE  on the training dataset is:  1.2491251462045663\n",
      "The RMSE  on the testing dataset is:  3.0459334929334054\n",
      "\n",
      "The MAE  on the training dataset is:  0.7515078407720145\n",
      "The MAE  on the testing dataset is:  1.297590361445783\n",
      "\n",
      "The MSE  on the training dataset is:  1.560313630880579\n",
      "The MSE  on the testing dataset is:  9.277710843373494\n"
     ]
    }
   ],
   "source": [
    "# Model Accuracy on training dataset\n",
    "print('The R2 score on the training dataset prediction is: ', r2_score(y_train,y_pred_train_knn))\n",
    "print('The R2 score on the test dataset prediction is: ', r2_score(y_test, y_pred_test_knn))\n",
    "print(\"\")\n",
    "\n",
    "# The Root Mean Squared Error (RMSE)\n",
    "print('The RMSE  on the training dataset is: ',sqrt(mean_squared_error(y_train,y_pred_train_knn)))\n",
    "print('The RMSE  on the testing dataset is: ',sqrt(mean_squared_error(y_test, y_pred_test_knn)))\n",
    "\n",
    "print(\"\")\n",
    "# The Mean Absolute Error (MAE)\n",
    "print('The MAE  on the training dataset is: ',mean_absolute_error(y_train,y_pred_train_knn))\n",
    "print('The MAE  on the testing dataset is: ',mean_absolute_error(y_test, y_pred_test_knn))\n",
    "\n",
    "print(\"\")\n",
    "# The Mean Squared Error (MSE)\n",
    "print('The MSE  on the training dataset is: ',mean_squared_error(y_train, y_pred_train_knn))\n",
    "print('The MSE  on the testing dataset is: ',mean_squared_error(y_test, y_pred_test_knn))"
   ]
  },
  {
   "cell_type": "markdown",
   "id": "9a9b9841",
   "metadata": {
    "papermill": {
     "duration": 0.020455,
     "end_time": "2025-01-20T14:03:52.828727",
     "exception": false,
     "start_time": "2025-01-20T14:03:52.808272",
     "status": "completed"
    },
    "tags": []
   },
   "source": [
    "## **2.2.3.  Random Forest Regressor**"
   ]
  },
  {
   "cell_type": "code",
   "execution_count": 39,
   "id": "c6b586ad",
   "metadata": {
    "execution": {
     "iopub.execute_input": "2025-01-20T14:03:52.871609Z",
     "iopub.status.busy": "2025-01-20T14:03:52.871212Z",
     "iopub.status.idle": "2025-01-20T14:03:53.294226Z",
     "shell.execute_reply": "2025-01-20T14:03:53.293083Z"
    },
    "papermill": {
     "duration": 0.447005,
     "end_time": "2025-01-20T14:03:53.296305",
     "exception": false,
     "start_time": "2025-01-20T14:03:52.849300",
     "status": "completed"
    },
    "tags": []
   },
   "outputs": [],
   "source": [
    "# Training with random forest regressor\n",
    "random = RandomForestRegressor()\n",
    "\n",
    "pipeline = Pipeline(steps=[('preprocessor', preprocessor), ('regressor', random)])\n",
    "\n",
    "# Fit the pipeline to the training data\n",
    "pipeline.fit(X_train,y_train)\n",
    "\n",
    "# Predict on the training and test datasets\n",
    "y_pred_train_random = pipeline.predict(X_train)\n",
    "y_pred_test_random = pipeline.predict(X_test)"
   ]
  },
  {
   "cell_type": "code",
   "execution_count": 40,
   "id": "6cba72e9",
   "metadata": {
    "execution": {
     "iopub.execute_input": "2025-01-20T14:03:53.340426Z",
     "iopub.status.busy": "2025-01-20T14:03:53.340045Z",
     "iopub.status.idle": "2025-01-20T14:03:53.354767Z",
     "shell.execute_reply": "2025-01-20T14:03:53.351805Z"
    },
    "papermill": {
     "duration": 0.038995,
     "end_time": "2025-01-20T14:03:53.356902",
     "exception": false,
     "start_time": "2025-01-20T14:03:53.317907",
     "status": "completed"
    },
    "tags": []
   },
   "outputs": [
    {
     "name": "stdout",
     "output_type": "stream",
     "text": [
      "The R2 score on the training dataset prediction is:  0.999981938168182\n",
      "The R2 score on the test dataset prediction is:  0.9989393535225504\n",
      "\n",
      "The RMSE  on the training dataset is:  0.3776073010733305\n",
      "The RMSE  on the testing dataset is:  3.0692611253234365\n",
      "\n",
      "The MAE  on the training dataset is:  0.07984921592279877\n",
      "The MAE  on the testing dataset is:  0.3493493975903607\n",
      "\n",
      "The MSE  on the training dataset is:  0.1425872738238849\n",
      "The MSE  on the testing dataset is:  9.420363855421687\n"
     ]
    }
   ],
   "source": [
    "# Model Accuracy on training dataset\n",
    "print('The R2 score on the training dataset prediction is: ', r2_score(y_train,y_pred_train_random))\n",
    "print('The R2 score on the test dataset prediction is: ', r2_score(y_test, y_pred_test_random))\n",
    "print(\"\")\n",
    "\n",
    "# The Root Mean Squared Error (RMSE)\n",
    "print('The RMSE  on the training dataset is: ',sqrt(mean_squared_error(y_train,y_pred_train_random)))\n",
    "print('The RMSE  on the testing dataset is: ',sqrt(mean_squared_error(y_test, y_pred_test_random)))\n",
    "\n",
    "print(\"\")\n",
    "# The Mean Absolute Error (MAE)\n",
    "print('The MAE  on the training dataset is: ',mean_absolute_error(y_train,y_pred_train_random))\n",
    "print('The MAE  on the testing dataset is: ',mean_absolute_error(y_test, y_pred_test_random))\n",
    "\n",
    "print(\"\")\n",
    "# The Mean Squared Error (MSE)\n",
    "print('The MSE  on the training dataset is: ',mean_squared_error(y_train, y_pred_train_random))\n",
    "print('The MSE  on the testing dataset is: ',mean_squared_error(y_test, y_pred_test_random))"
   ]
  },
  {
   "cell_type": "markdown",
   "id": "cc95a566",
   "metadata": {
    "papermill": {
     "duration": 0.020423,
     "end_time": "2025-01-20T14:03:53.398065",
     "exception": false,
     "start_time": "2025-01-20T14:03:53.377642",
     "status": "completed"
    },
    "tags": []
   },
   "source": [
    "## **2.2.4.  Decision Tree regressor**"
   ]
  },
  {
   "cell_type": "code",
   "execution_count": 41,
   "id": "14532829",
   "metadata": {
    "execution": {
     "iopub.execute_input": "2025-01-20T14:03:53.440362Z",
     "iopub.status.busy": "2025-01-20T14:03:53.440002Z",
     "iopub.status.idle": "2025-01-20T14:03:53.454029Z",
     "shell.execute_reply": "2025-01-20T14:03:53.453058Z"
    },
    "papermill": {
     "duration": 0.037398,
     "end_time": "2025-01-20T14:03:53.455921",
     "exception": false,
     "start_time": "2025-01-20T14:03:53.418523",
     "status": "completed"
    },
    "tags": []
   },
   "outputs": [],
   "source": [
    "# Training with Decision Tree regressor\n",
    "dt = DecisionTreeRegressor()\n",
    "\n",
    "pipeline = Pipeline(steps=[('preprocessor', preprocessor), ('regressor', dt)])\n",
    "\n",
    "# Fit the pipeline to the training data\n",
    "pipeline.fit(X_train,y_train)\n",
    "\n",
    "# Predict on the training and test datasets\n",
    "y_pred_train_dt = pipeline.predict(X_train)\n",
    "y_pred_test_dt = pipeline.predict(X_test)"
   ]
  },
  {
   "cell_type": "code",
   "execution_count": 42,
   "id": "5036e2fb",
   "metadata": {
    "execution": {
     "iopub.execute_input": "2025-01-20T14:03:53.499359Z",
     "iopub.status.busy": "2025-01-20T14:03:53.498878Z",
     "iopub.status.idle": "2025-01-20T14:03:53.514112Z",
     "shell.execute_reply": "2025-01-20T14:03:53.512692Z"
    },
    "papermill": {
     "duration": 0.038689,
     "end_time": "2025-01-20T14:03:53.515977",
     "exception": false,
     "start_time": "2025-01-20T14:03:53.477288",
     "status": "completed"
    },
    "tags": []
   },
   "outputs": [
    {
     "name": "stdout",
     "output_type": "stream",
     "text": [
      "The R2 score on the training dataset prediction is:  1.0\n",
      "The R2 score on the test dataset prediction is:  0.9994948334840337\n",
      "\n",
      "The RMSE  on the training dataset is:  0.0\n",
      "The RMSE  on the testing dataset is:  2.1181942753089973\n",
      "\n",
      "The MAE  on the training dataset is:  0.0\n",
      "The MAE  on the testing dataset is:  0.327710843373494\n",
      "\n",
      "The MSE  on the training dataset is:  0.0\n",
      "The MSE  on the testing dataset is:  4.486746987951808\n"
     ]
    }
   ],
   "source": [
    "# Model Accuracy on training dataset\n",
    "print('The R2 score on the training dataset prediction is: ', r2_score(y_train,y_pred_train_dt))\n",
    "print('The R2 score on the test dataset prediction is: ', r2_score(y_test, y_pred_test_dt))\n",
    "print(\"\")\n",
    "\n",
    "# The Root Mean Squared Error (RMSE)\n",
    "print('The RMSE  on the training dataset is: ',sqrt(mean_squared_error(y_train,y_pred_train_dt)))\n",
    "print('The RMSE  on the testing dataset is: ',sqrt(mean_squared_error(y_test, y_pred_test_dt)))\n",
    "\n",
    "print(\"\")\n",
    "# The Mean Absolute Error (MAE)\n",
    "print('The MAE  on the training dataset is: ',mean_absolute_error(y_train,y_pred_train_dt))\n",
    "print('The MAE  on the testing dataset is: ',mean_absolute_error(y_test, y_pred_test_dt))\n",
    "\n",
    "print(\"\")\n",
    "# The Mean Squared Error (MSE)\n",
    "print('The MSE  on the training dataset is: ',mean_squared_error(y_train, y_pred_train_dt))\n",
    "print('The MSE  on the testing dataset is: ',mean_squared_error(y_test, y_pred_test_dt))"
   ]
  },
  {
   "cell_type": "markdown",
   "id": "32280ba2",
   "metadata": {
    "papermill": {
     "duration": 0.020545,
     "end_time": "2025-01-20T14:03:53.557099",
     "exception": false,
     "start_time": "2025-01-20T14:03:53.536554",
     "status": "completed"
    },
    "tags": []
   },
   "source": [
    "## **2.2.5.  Support Vector Machine regressor**"
   ]
  },
  {
   "cell_type": "code",
   "execution_count": 43,
   "id": "4486de50",
   "metadata": {
    "execution": {
     "iopub.execute_input": "2025-01-20T14:03:53.599489Z",
     "iopub.status.busy": "2025-01-20T14:03:53.599038Z",
     "iopub.status.idle": "2025-01-20T14:03:53.639861Z",
     "shell.execute_reply": "2025-01-20T14:03:53.638709Z"
    },
    "papermill": {
     "duration": 0.064212,
     "end_time": "2025-01-20T14:03:53.641580",
     "exception": false,
     "start_time": "2025-01-20T14:03:53.577368",
     "status": "completed"
    },
    "tags": []
   },
   "outputs": [],
   "source": [
    "# Training with Support Vector Machine regressor\n",
    "svr = SVR(kernel='linear')\n",
    "\n",
    "pipeline = Pipeline(steps=[('preprocessor', preprocessor), ('regressor', svr)])\n",
    "\n",
    "# Fit the pipeline to the training data\n",
    "pipeline.fit(X_train, y_train)\n",
    "\n",
    "# Predict on the training and test datasets\n",
    "y_pred_train_svr = pipeline.predict(X_train)\n",
    "y_pred_test_svr = pipeline.predict(X_test)"
   ]
  },
  {
   "cell_type": "code",
   "execution_count": 44,
   "id": "1e8cf2fd",
   "metadata": {
    "execution": {
     "iopub.execute_input": "2025-01-20T14:03:53.684876Z",
     "iopub.status.busy": "2025-01-20T14:03:53.684447Z",
     "iopub.status.idle": "2025-01-20T14:03:53.700375Z",
     "shell.execute_reply": "2025-01-20T14:03:53.699095Z"
    },
    "papermill": {
     "duration": 0.039943,
     "end_time": "2025-01-20T14:03:53.702242",
     "exception": false,
     "start_time": "2025-01-20T14:03:53.662299",
     "status": "completed"
    },
    "tags": []
   },
   "outputs": [
    {
     "name": "stdout",
     "output_type": "stream",
     "text": [
      "The R2 score on the training dataset prediction is:  0.9999997232515452\n",
      "The R2 score on the test dataset prediction is:  0.9999997399772302\n",
      "\n",
      "The RMSE on the training dataset is:  0.04674144003181773\n",
      "The RMSE on the testing dataset is:  0.048056728421015445\n",
      "\n",
      "The MAE on the training dataset is:  0.04126119312296478\n",
      "The MAE on the testing dataset is:  0.04247680272950786\n",
      "\n",
      "The MSE  on the training dataset is:  0.0021847622162480132\n",
      "The MSE  on the testing dataset is:  0.0023094491465312336\n"
     ]
    }
   ],
   "source": [
    "# Model Accuracy on training dataset\n",
    "print('The R2 score on the training dataset prediction is: ', r2_score(y_train, y_pred_train_svr))\n",
    "print('The R2 score on the test dataset prediction is: ', r2_score(y_test, y_pred_test_svr))\n",
    "print(\"\")\n",
    "\n",
    "# The Root Mean Squared Error (RMSE)\n",
    "print('The RMSE on the training dataset is: ', sqrt(mean_squared_error(y_train, y_pred_train_svr)))\n",
    "print('The RMSE on the testing dataset is: ', sqrt(mean_squared_error(y_test, y_pred_test_svr)))\n",
    "print(\"\")\n",
    "\n",
    "# The Mean Absolute Error (MAE)\n",
    "print('The MAE on the training dataset is: ', mean_absolute_error(y_train, y_pred_train_svr))\n",
    "print('The MAE on the testing dataset is: ', mean_absolute_error(y_test, y_pred_test_svr))\n",
    "\n",
    "print(\"\")\n",
    "# The Mean Squared Error (MSE)\n",
    "print('The MSE  on the training dataset is: ',mean_squared_error(y_train, y_pred_train_svr))\n",
    "print('The MSE  on the testing dataset is: ',mean_squared_error(y_test, y_pred_test_svr))"
   ]
  },
  {
   "cell_type": "markdown",
   "id": "469c2da7",
   "metadata": {
    "papermill": {
     "duration": 0.020667,
     "end_time": "2025-01-20T14:03:53.744654",
     "exception": false,
     "start_time": "2025-01-20T14:03:53.723987",
     "status": "completed"
    },
    "tags": []
   },
   "source": [
    "## **2.2.6.  XGBoost Regressor**"
   ]
  },
  {
   "cell_type": "code",
   "execution_count": 45,
   "id": "2122bea7",
   "metadata": {
    "execution": {
     "iopub.execute_input": "2025-01-20T14:03:53.788055Z",
     "iopub.status.busy": "2025-01-20T14:03:53.787648Z",
     "iopub.status.idle": "2025-01-20T14:03:53.928736Z",
     "shell.execute_reply": "2025-01-20T14:03:53.927872Z"
    },
    "papermill": {
     "duration": 0.165256,
     "end_time": "2025-01-20T14:03:53.930896",
     "exception": false,
     "start_time": "2025-01-20T14:03:53.765640",
     "status": "completed"
    },
    "tags": []
   },
   "outputs": [],
   "source": [
    "# Training with XGBoost regressor\n",
    "xgb_regressor = XGBRegressor(objective='reg:squarederror')\n",
    "\n",
    "pipeline = Pipeline(steps=[('preprocessor', preprocessor), ('regressor', xgb_regressor)])\n",
    "\n",
    "# Fit the pipeline to the training data\n",
    "pipeline.fit(X_train, y_train)\n",
    "\n",
    "# Predict on the training and test datasets\n",
    "y_pred_train_xgb = pipeline.predict(X_train)\n",
    "y_pred_test_xgb = pipeline.predict(X_test)"
   ]
  },
  {
   "cell_type": "code",
   "execution_count": 46,
   "id": "801fb46c",
   "metadata": {
    "execution": {
     "iopub.execute_input": "2025-01-20T14:03:53.980275Z",
     "iopub.status.busy": "2025-01-20T14:03:53.979925Z",
     "iopub.status.idle": "2025-01-20T14:03:53.995143Z",
     "shell.execute_reply": "2025-01-20T14:03:53.993731Z"
    },
    "papermill": {
     "duration": 0.040037,
     "end_time": "2025-01-20T14:03:53.997296",
     "exception": false,
     "start_time": "2025-01-20T14:03:53.957259",
     "status": "completed"
    },
    "tags": []
   },
   "outputs": [
    {
     "name": "stdout",
     "output_type": "stream",
     "text": [
      "The R2 score on the training dataset prediction is:  0.9999975633210375\n",
      "The R2 score on the test dataset prediction is:  0.9981608724256541\n",
      "\n",
      "The RMSE on the training dataset is:  0.13869430948532485\n",
      "The RMSE on the testing dataset is:  4.041610337477007\n",
      "\n",
      "The MAE on the training dataset is:  0.07736054548164616\n",
      "The MAE on the testing dataset is:  0.8001983780458749\n",
      "\n",
      "The MSE  on the training dataset is:  0.01923611148361107\n",
      "The MSE  on the testing dataset is:  16.334614120001007\n"
     ]
    }
   ],
   "source": [
    "# Model Accuracy on training dataset\n",
    "print('The R2 score on the training dataset prediction is: ', r2_score(y_train, y_pred_train_xgb))\n",
    "print('The R2 score on the test dataset prediction is: ', r2_score(y_test, y_pred_test_xgb))\n",
    "print(\"\")\n",
    "\n",
    "# The Root Mean Squared Error (RMSE)\n",
    "print('The RMSE on the training dataset is: ', sqrt(mean_squared_error(y_train, y_pred_train_xgb)))\n",
    "print('The RMSE on the testing dataset is: ', sqrt(mean_squared_error(y_test, y_pred_test_xgb)))\n",
    "print(\"\")\n",
    "\n",
    "# The Mean Absolute Error (MAE)\n",
    "print('The MAE on the training dataset is: ', mean_absolute_error(y_train, y_pred_train_xgb))\n",
    "print('The MAE on the testing dataset is: ', mean_absolute_error(y_test, y_pred_test_xgb))\n",
    "\n",
    "print(\"\")\n",
    "# The Mean Squared Error (MSE)\n",
    "print('The MSE  on the training dataset is: ',mean_squared_error(y_train, y_pred_train_xgb))\n",
    "print('The MSE  on the testing dataset is: ',mean_squared_error(y_test, y_pred_test_xgb))"
   ]
  },
  {
   "cell_type": "markdown",
   "id": "ceccbfa8",
   "metadata": {
    "papermill": {
     "duration": 0.020658,
     "end_time": "2025-01-20T14:03:54.038699",
     "exception": false,
     "start_time": "2025-01-20T14:03:54.018041",
     "status": "completed"
    },
    "tags": []
   },
   "source": [
    "## **2.2.7.  Neural Network Regressor**"
   ]
  },
  {
   "cell_type": "code",
   "execution_count": 47,
   "id": "ef37563c",
   "metadata": {
    "execution": {
     "iopub.execute_input": "2025-01-20T14:03:54.083999Z",
     "iopub.status.busy": "2025-01-20T14:03:54.083595Z",
     "iopub.status.idle": "2025-01-20T14:03:55.166785Z",
     "shell.execute_reply": "2025-01-20T14:03:55.165792Z"
    },
    "papermill": {
     "duration": 1.107912,
     "end_time": "2025-01-20T14:03:55.168732",
     "exception": false,
     "start_time": "2025-01-20T14:03:54.060820",
     "status": "completed"
    },
    "tags": []
   },
   "outputs": [],
   "source": [
    "# training with neural network regressor\n",
    "\n",
    "nn = MLPRegressor(hidden_layer_sizes=(8,), activation='relu', solver='adam', max_iter=2000, learning_rate_init=0.001)\n",
    "\n",
    "pipeline = Pipeline(steps=[('preprocessor', preprocessor), ('regressor', nn)])\n",
    "\n",
    "# Fit the pipeline to the training data\n",
    "pipeline.fit(X_train,y_train)\n",
    "\n",
    "# Predict on the training and test datasets\n",
    "y_pred_train_nn = pipeline.predict(X_train)\n",
    "y_pred_test_nn = pipeline.predict(X_test)"
   ]
  },
  {
   "cell_type": "code",
   "execution_count": 48,
   "id": "7c634fb0",
   "metadata": {
    "execution": {
     "iopub.execute_input": "2025-01-20T14:03:55.217124Z",
     "iopub.status.busy": "2025-01-20T14:03:55.216696Z",
     "iopub.status.idle": "2025-01-20T14:03:55.232395Z",
     "shell.execute_reply": "2025-01-20T14:03:55.230342Z"
    },
    "papermill": {
     "duration": 0.043787,
     "end_time": "2025-01-20T14:03:55.234321",
     "exception": false,
     "start_time": "2025-01-20T14:03:55.190534",
     "status": "completed"
    },
    "tags": []
   },
   "outputs": [
    {
     "name": "stdout",
     "output_type": "stream",
     "text": [
      "The R2 score on the training dataset prediction is:  0.9999994574333063\n",
      "The R2 score on the test dataset prediction is:  0.9999997606679173\n",
      "\n",
      "The RMSE on the training dataset is:  0.06544644349610436\n",
      "The RMSE on the testing dataset is:  0.04610510037342395\n",
      "\n",
      "The MAE on the training dataset is:  0.029630972940442854\n",
      "The MAE on the testing dataset is:  0.030891839703707968\n",
      "\n",
      "The MSE  on the training dataset is:  0.004283236966288781\n",
      "The MSE  on the testing dataset is:  0.002125680280443497\n"
     ]
    }
   ],
   "source": [
    "# Model Accuracy on training dataset\n",
    "print('The R2 score on the training dataset prediction is: ', r2_score(y_train, y_pred_train_nn))\n",
    "print('The R2 score on the test dataset prediction is: ', r2_score(y_test, y_pred_test_nn))\n",
    "print(\"\")\n",
    "\n",
    "# The Root Mean Squared Error (RMSE)\n",
    "print('The RMSE on the training dataset is: ', sqrt(mean_squared_error(y_train, y_pred_train_nn)))\n",
    "print('The RMSE on the testing dataset is: ', sqrt(mean_squared_error(y_test, y_pred_test_nn)))\n",
    "print(\"\")\n",
    "\n",
    "# The Mean Absolute Error (MAE)\n",
    "print('The MAE on the training dataset is: ', mean_absolute_error(y_train, y_pred_train_nn))\n",
    "print('The MAE on the testing dataset is: ', mean_absolute_error(y_test, y_pred_test_nn))\n",
    "\n",
    "print(\"\")\n",
    "# The Mean Squared Error (MSE)\n",
    "print('The MSE  on the training dataset is: ',mean_squared_error(y_train, y_pred_train_nn))\n",
    "print('The MSE  on the testing dataset is: ',mean_squared_error(y_test, y_pred_test_nn))"
   ]
  },
  {
   "cell_type": "code",
   "execution_count": null,
   "id": "80956191",
   "metadata": {
    "papermill": {
     "duration": 0.020716,
     "end_time": "2025-01-20T14:03:55.276283",
     "exception": false,
     "start_time": "2025-01-20T14:03:55.255567",
     "status": "completed"
    },
    "tags": []
   },
   "outputs": [],
   "source": []
  },
  {
   "cell_type": "markdown",
   "id": "b2cefae9",
   "metadata": {
    "papermill": {
     "duration": 0.021109,
     "end_time": "2025-01-20T14:03:55.321432",
     "exception": false,
     "start_time": "2025-01-20T14:03:55.300323",
     "status": "completed"
    },
    "tags": []
   },
   "source": [
    "# **6.1. Splitting & Preprocessing the Raw Data**"
   ]
  },
  {
   "cell_type": "markdown",
   "id": "72d3c72a",
   "metadata": {
    "papermill": {
     "duration": 0.02089,
     "end_time": "2025-01-20T14:03:55.363390",
     "exception": false,
     "start_time": "2025-01-20T14:03:55.342500",
     "status": "completed"
    },
    "tags": []
   },
   "source": [
    "(Preprocess Pollution --> Smooth Pollution --> Calculate smooth aqi)"
   ]
  },
  {
   "cell_type": "code",
   "execution_count": 49,
   "id": "aed23c35",
   "metadata": {
    "execution": {
     "iopub.execute_input": "2025-01-20T14:03:55.407027Z",
     "iopub.status.busy": "2025-01-20T14:03:55.406594Z",
     "iopub.status.idle": "2025-01-20T14:03:55.420806Z",
     "shell.execute_reply": "2025-01-20T14:03:55.419427Z"
    },
    "papermill": {
     "duration": 0.038379,
     "end_time": "2025-01-20T14:03:55.422759",
     "exception": false,
     "start_time": "2025-01-20T14:03:55.384380",
     "status": "completed"
    },
    "tags": []
   },
   "outputs": [
    {
     "data": {
      "text/html": [
       "<div>\n",
       "<style scoped>\n",
       "    .dataframe tbody tr th:only-of-type {\n",
       "        vertical-align: middle;\n",
       "    }\n",
       "\n",
       "    .dataframe tbody tr th {\n",
       "        vertical-align: top;\n",
       "    }\n",
       "\n",
       "    .dataframe thead th {\n",
       "        text-align: right;\n",
       "    }\n",
       "</style>\n",
       "<table border=\"1\" class=\"dataframe\">\n",
       "  <thead>\n",
       "    <tr style=\"text-align: right;\">\n",
       "      <th></th>\n",
       "      <th>pm25</th>\n",
       "      <th>humidity</th>\n",
       "      <th>pressure</th>\n",
       "      <th>temperature</th>\n",
       "      <th>wind-speed</th>\n",
       "      <th>AQI_Smooth</th>\n",
       "    </tr>\n",
       "  </thead>\n",
       "  <tbody>\n",
       "    <tr>\n",
       "      <th>2019-05-09</th>\n",
       "      <td>174.166667</td>\n",
       "      <td>20.0</td>\n",
       "      <td>1003.0</td>\n",
       "      <td>33.0</td>\n",
       "      <td>2.3</td>\n",
       "      <td>174.166667</td>\n",
       "    </tr>\n",
       "    <tr>\n",
       "      <th>2019-05-10</th>\n",
       "      <td>174.166667</td>\n",
       "      <td>28.0</td>\n",
       "      <td>1004.0</td>\n",
       "      <td>32.0</td>\n",
       "      <td>3.6</td>\n",
       "      <td>174.166667</td>\n",
       "    </tr>\n",
       "    <tr>\n",
       "      <th>2019-05-11</th>\n",
       "      <td>174.166667</td>\n",
       "      <td>43.0</td>\n",
       "      <td>1007.0</td>\n",
       "      <td>29.0</td>\n",
       "      <td>3.0</td>\n",
       "      <td>174.166667</td>\n",
       "    </tr>\n",
       "    <tr>\n",
       "      <th>2019-05-12</th>\n",
       "      <td>174.166667</td>\n",
       "      <td>37.0</td>\n",
       "      <td>1006.0</td>\n",
       "      <td>31.0</td>\n",
       "      <td>2.5</td>\n",
       "      <td>174.166667</td>\n",
       "    </tr>\n",
       "    <tr>\n",
       "      <th>2019-05-13</th>\n",
       "      <td>170.166667</td>\n",
       "      <td>51.0</td>\n",
       "      <td>1005.0</td>\n",
       "      <td>28.0</td>\n",
       "      <td>2.5</td>\n",
       "      <td>172.500000</td>\n",
       "    </tr>\n",
       "  </tbody>\n",
       "</table>\n",
       "</div>"
      ],
      "text/plain": [
       "                  pm25  humidity  pressure  temperature  wind-speed  \\\n",
       "2019-05-09  174.166667      20.0    1003.0         33.0         2.3   \n",
       "2019-05-10  174.166667      28.0    1004.0         32.0         3.6   \n",
       "2019-05-11  174.166667      43.0    1007.0         29.0         3.0   \n",
       "2019-05-12  174.166667      37.0    1006.0         31.0         2.5   \n",
       "2019-05-13  170.166667      51.0    1005.0         28.0         2.5   \n",
       "\n",
       "            AQI_Smooth  \n",
       "2019-05-09  174.166667  \n",
       "2019-05-10  174.166667  \n",
       "2019-05-11  174.166667  \n",
       "2019-05-12  174.166667  \n",
       "2019-05-13  172.500000  "
      ]
     },
     "execution_count": 49,
     "metadata": {},
     "output_type": "execute_result"
    }
   ],
   "source": [
    "new_smooth.head()"
   ]
  },
  {
   "cell_type": "code",
   "execution_count": 50,
   "id": "e0570fd8",
   "metadata": {
    "execution": {
     "iopub.execute_input": "2025-01-20T14:03:55.467770Z",
     "iopub.status.busy": "2025-01-20T14:03:55.467382Z",
     "iopub.status.idle": "2025-01-20T14:03:55.473810Z",
     "shell.execute_reply": "2025-01-20T14:03:55.472452Z"
    },
    "papermill": {
     "duration": 0.031212,
     "end_time": "2025-01-20T14:03:55.475673",
     "exception": false,
     "start_time": "2025-01-20T14:03:55.444461",
     "status": "completed"
    },
    "tags": []
   },
   "outputs": [
    {
     "data": {
      "text/plain": [
       "Index(['pm25', 'humidity', 'pressure', 'temperature', 'wind-speed',\n",
       "       'AQI_Smooth'],\n",
       "      dtype='object')"
      ]
     },
     "execution_count": 50,
     "metadata": {},
     "output_type": "execute_result"
    }
   ],
   "source": [
    "new_smooth.columns"
   ]
  },
  {
   "cell_type": "markdown",
   "id": "6585fa31",
   "metadata": {
    "papermill": {
     "duration": 0.020938,
     "end_time": "2025-01-20T14:03:55.517668",
     "exception": false,
     "start_time": "2025-01-20T14:03:55.496730",
     "status": "completed"
    },
    "tags": []
   },
   "source": [
    "***Working with AQI_smoothed_iqr***"
   ]
  },
  {
   "cell_type": "code",
   "execution_count": 51,
   "id": "f8cf9178",
   "metadata": {
    "execution": {
     "iopub.execute_input": "2025-01-20T14:03:55.561281Z",
     "iopub.status.busy": "2025-01-20T14:03:55.560831Z",
     "iopub.status.idle": "2025-01-20T14:03:55.566029Z",
     "shell.execute_reply": "2025-01-20T14:03:55.564924Z"
    },
    "papermill": {
     "duration": 0.029229,
     "end_time": "2025-01-20T14:03:55.567943",
     "exception": false,
     "start_time": "2025-01-20T14:03:55.538714",
     "status": "completed"
    },
    "tags": []
   },
   "outputs": [],
   "source": [
    "data = new_smooth.copy()"
   ]
  },
  {
   "cell_type": "code",
   "execution_count": 52,
   "id": "64b8dba7",
   "metadata": {
    "execution": {
     "iopub.execute_input": "2025-01-20T14:03:55.612641Z",
     "iopub.status.busy": "2025-01-20T14:03:55.612273Z",
     "iopub.status.idle": "2025-01-20T14:03:55.626089Z",
     "shell.execute_reply": "2025-01-20T14:03:55.624977Z"
    },
    "papermill": {
     "duration": 0.038563,
     "end_time": "2025-01-20T14:03:55.627792",
     "exception": false,
     "start_time": "2025-01-20T14:03:55.589229",
     "status": "completed"
    },
    "tags": []
   },
   "outputs": [
    {
     "data": {
      "text/html": [
       "<div>\n",
       "<style scoped>\n",
       "    .dataframe tbody tr th:only-of-type {\n",
       "        vertical-align: middle;\n",
       "    }\n",
       "\n",
       "    .dataframe tbody tr th {\n",
       "        vertical-align: top;\n",
       "    }\n",
       "\n",
       "    .dataframe thead th {\n",
       "        text-align: right;\n",
       "    }\n",
       "</style>\n",
       "<table border=\"1\" class=\"dataframe\">\n",
       "  <thead>\n",
       "    <tr style=\"text-align: right;\">\n",
       "      <th></th>\n",
       "      <th>pm25</th>\n",
       "      <th>humidity</th>\n",
       "      <th>pressure</th>\n",
       "      <th>temperature</th>\n",
       "      <th>wind-speed</th>\n",
       "      <th>AQI_Smooth</th>\n",
       "    </tr>\n",
       "  </thead>\n",
       "  <tbody>\n",
       "    <tr>\n",
       "      <th>2019-05-09</th>\n",
       "      <td>174.166667</td>\n",
       "      <td>20.0</td>\n",
       "      <td>1003.0</td>\n",
       "      <td>33.0</td>\n",
       "      <td>2.3</td>\n",
       "      <td>174.166667</td>\n",
       "    </tr>\n",
       "    <tr>\n",
       "      <th>2019-05-10</th>\n",
       "      <td>174.166667</td>\n",
       "      <td>28.0</td>\n",
       "      <td>1004.0</td>\n",
       "      <td>32.0</td>\n",
       "      <td>3.6</td>\n",
       "      <td>174.166667</td>\n",
       "    </tr>\n",
       "    <tr>\n",
       "      <th>2019-05-11</th>\n",
       "      <td>174.166667</td>\n",
       "      <td>43.0</td>\n",
       "      <td>1007.0</td>\n",
       "      <td>29.0</td>\n",
       "      <td>3.0</td>\n",
       "      <td>174.166667</td>\n",
       "    </tr>\n",
       "    <tr>\n",
       "      <th>2019-05-12</th>\n",
       "      <td>174.166667</td>\n",
       "      <td>37.0</td>\n",
       "      <td>1006.0</td>\n",
       "      <td>31.0</td>\n",
       "      <td>2.5</td>\n",
       "      <td>174.166667</td>\n",
       "    </tr>\n",
       "    <tr>\n",
       "      <th>2019-05-13</th>\n",
       "      <td>170.166667</td>\n",
       "      <td>51.0</td>\n",
       "      <td>1005.0</td>\n",
       "      <td>28.0</td>\n",
       "      <td>2.5</td>\n",
       "      <td>172.500000</td>\n",
       "    </tr>\n",
       "  </tbody>\n",
       "</table>\n",
       "</div>"
      ],
      "text/plain": [
       "                  pm25  humidity  pressure  temperature  wind-speed  \\\n",
       "2019-05-09  174.166667      20.0    1003.0         33.0         2.3   \n",
       "2019-05-10  174.166667      28.0    1004.0         32.0         3.6   \n",
       "2019-05-11  174.166667      43.0    1007.0         29.0         3.0   \n",
       "2019-05-12  174.166667      37.0    1006.0         31.0         2.5   \n",
       "2019-05-13  170.166667      51.0    1005.0         28.0         2.5   \n",
       "\n",
       "            AQI_Smooth  \n",
       "2019-05-09  174.166667  \n",
       "2019-05-10  174.166667  \n",
       "2019-05-11  174.166667  \n",
       "2019-05-12  174.166667  \n",
       "2019-05-13  172.500000  "
      ]
     },
     "execution_count": 52,
     "metadata": {},
     "output_type": "execute_result"
    }
   ],
   "source": [
    "data.head()"
   ]
  },
  {
   "cell_type": "code",
   "execution_count": 53,
   "id": "6d5f81f3",
   "metadata": {
    "execution": {
     "iopub.execute_input": "2025-01-20T14:03:55.673276Z",
     "iopub.status.busy": "2025-01-20T14:03:55.672894Z",
     "iopub.status.idle": "2025-01-20T14:03:55.680124Z",
     "shell.execute_reply": "2025-01-20T14:03:55.678962Z"
    },
    "papermill": {
     "duration": 0.031043,
     "end_time": "2025-01-20T14:03:55.681657",
     "exception": false,
     "start_time": "2025-01-20T14:03:55.650614",
     "status": "completed"
    },
    "tags": []
   },
   "outputs": [
    {
     "name": "stdout",
     "output_type": "stream",
     "text": [
      "Index(['pm25', 'humidity', 'pressure', 'temperature', 'wind-speed',\n",
      "       'AQI_Smooth'],\n",
      "      dtype='object')\n",
      "Index([], dtype='object')\n"
     ]
    }
   ],
   "source": [
    "num = data.select_dtypes(include=['int16', 'int32', 'int64', 'float16', 'float32', 'float64'])\n",
    "cat = data.select_dtypes(include=['object'])\n",
    "\n",
    "print(num.columns)\n",
    "print(cat.columns)"
   ]
  },
  {
   "cell_type": "code",
   "execution_count": 54,
   "id": "39c8d054",
   "metadata": {
    "execution": {
     "iopub.execute_input": "2025-01-20T14:03:55.726521Z",
     "iopub.status.busy": "2025-01-20T14:03:55.726064Z",
     "iopub.status.idle": "2025-01-20T14:03:55.736267Z",
     "shell.execute_reply": "2025-01-20T14:03:55.735273Z"
    },
    "papermill": {
     "duration": 0.034883,
     "end_time": "2025-01-20T14:03:55.738304",
     "exception": false,
     "start_time": "2025-01-20T14:03:55.703421",
     "status": "completed"
    },
    "tags": []
   },
   "outputs": [
    {
     "name": "stdout",
     "output_type": "stream",
     "text": [
      "(1658, 5) (1658,) (415, 5) (415,)\n"
     ]
    }
   ],
   "source": [
    "X = data[['pm25', 'humidity', 'pressure', 'temperature', 'wind-speed']]\n",
    "\n",
    "y = data['AQI_Smooth']\n",
    "\n",
    "X_train, X_test, y_train, y_test = train_test_split(X, y, test_size = 0.2, random_state = 42)\n",
    "\n",
    "print(X_train.shape, y_train.shape, X_test.shape, y_test.shape)"
   ]
  },
  {
   "cell_type": "code",
   "execution_count": 55,
   "id": "f8996b7b",
   "metadata": {
    "execution": {
     "iopub.execute_input": "2025-01-20T14:03:55.784008Z",
     "iopub.status.busy": "2025-01-20T14:03:55.783610Z",
     "iopub.status.idle": "2025-01-20T14:03:55.788743Z",
     "shell.execute_reply": "2025-01-20T14:03:55.787599Z"
    },
    "papermill": {
     "duration": 0.029696,
     "end_time": "2025-01-20T14:03:55.790466",
     "exception": false,
     "start_time": "2025-01-20T14:03:55.760770",
     "status": "completed"
    },
    "tags": []
   },
   "outputs": [],
   "source": [
    "# Preprocessor without scaling\n",
    "preprocessor = ColumnTransformer(\n",
    "    transformers=[\n",
    "        ('num', 'passthrough', ['pm25', 'humidity', 'pressure', 'temperature', 'wind-speed'])\n",
    "    ])\n",
    "# Pipeline\n",
    "pipeline = Pipeline(steps=[\n",
    "    ('preprocessor', preprocessor)\n",
    "])"
   ]
  },
  {
   "cell_type": "markdown",
   "id": "d99461a7",
   "metadata": {
    "papermill": {
     "duration": 0.022411,
     "end_time": "2025-01-20T14:03:55.834892",
     "exception": false,
     "start_time": "2025-01-20T14:03:55.812481",
     "status": "completed"
    },
    "tags": []
   },
   "source": [
    "# **6.2. Model Training & Testing**"
   ]
  },
  {
   "cell_type": "markdown",
   "id": "758d0517",
   "metadata": {
    "papermill": {
     "duration": 0.021726,
     "end_time": "2025-01-20T14:03:55.878164",
     "exception": false,
     "start_time": "2025-01-20T14:03:55.856438",
     "status": "completed"
    },
    "tags": []
   },
   "source": [
    "## **6.2.1. LinearRegression**"
   ]
  },
  {
   "cell_type": "code",
   "execution_count": 56,
   "id": "ecd16f2e",
   "metadata": {
    "execution": {
     "iopub.execute_input": "2025-01-20T14:03:55.922525Z",
     "iopub.status.busy": "2025-01-20T14:03:55.921987Z",
     "iopub.status.idle": "2025-01-20T14:03:55.935400Z",
     "shell.execute_reply": "2025-01-20T14:03:55.934526Z"
    },
    "papermill": {
     "duration": 0.037785,
     "end_time": "2025-01-20T14:03:55.937280",
     "exception": false,
     "start_time": "2025-01-20T14:03:55.899495",
     "status": "completed"
    },
    "tags": []
   },
   "outputs": [],
   "source": [
    "# training with LinearRegression\n",
    "\n",
    "lm = LinearRegression(fit_intercept = True)\n",
    "\n",
    "pipeline = Pipeline(steps=[('preprocessor', preprocessor), ('regressor', lm)])\n",
    "\n",
    "# Fit the pipeline to the training data\n",
    "pipeline.fit(X_train,y_train)\n",
    "\n",
    "# Predict on the training and test datasets\n",
    "y_pred_train_lm = pipeline.predict(X_train)\n",
    "y_pred_test_lm = pipeline.predict(X_test)"
   ]
  },
  {
   "cell_type": "code",
   "execution_count": 57,
   "id": "1e58c78c",
   "metadata": {
    "execution": {
     "iopub.execute_input": "2025-01-20T14:03:55.982247Z",
     "iopub.status.busy": "2025-01-20T14:03:55.981821Z",
     "iopub.status.idle": "2025-01-20T14:03:55.999505Z",
     "shell.execute_reply": "2025-01-20T14:03:55.998174Z"
    },
    "papermill": {
     "duration": 0.042627,
     "end_time": "2025-01-20T14:03:56.001704",
     "exception": false,
     "start_time": "2025-01-20T14:03:55.959077",
     "status": "completed"
    },
    "tags": []
   },
   "outputs": [
    {
     "name": "stdout",
     "output_type": "stream",
     "text": [
      "The r2 Accuracy on the training dataset prediction is:  0.9994020383046222\n",
      "The r2 Accuracy on the test dataset prediction is:  0.9992749825850545\n",
      "\n",
      "The RMSE  on the training dataset is:  1.9075165176662634\n",
      "The RMSE  on the testing dataset is:  2.1899254574303666\n",
      "\n",
      "The MAE  on the training dataset is:  0.8002678903166306\n",
      "The MAE  on the testing dataset is:  0.8094364620470412\n",
      "\n",
      "The MSE  on the training dataset is:  3.6386192651696283\n",
      "The MSE  on the testing dataset is:  4.7957735091016\n"
     ]
    }
   ],
   "source": [
    "# Model Accuracy on training and testing dataset\n",
    "\n",
    "print('The r2 Accuracy on the training dataset prediction is: ',r2_score(y_train,y_pred_train_lm) )\n",
    "print('The r2 Accuracy on the test dataset prediction is: ',r2_score(y_test,y_pred_test_lm) )\n",
    "\n",
    "print(\"\")\n",
    "\n",
    "# The Root Mean Squared Error (RMSE)\n",
    "print('The RMSE  on the training dataset is: ',sqrt(mean_squared_error(y_train, y_pred_train_lm)))\n",
    "print('The RMSE  on the testing dataset is: ',sqrt(mean_squared_error(y_test, y_pred_test_lm)))\n",
    "\n",
    "print(\"\")\n",
    "# The Mean Absolute Error (MAE)\n",
    "print('The MAE  on the training dataset is: ',mean_absolute_error(y_train, y_pred_train_lm))\n",
    "print('The MAE  on the testing dataset is: ',mean_absolute_error(y_test, y_pred_test_lm))\n",
    "\n",
    "print(\"\")\n",
    "# The Mean Squared Error (MSE)\n",
    "print('The MSE  on the training dataset is: ',mean_squared_error(y_train, y_pred_train_lm))\n",
    "print('The MSE  on the testing dataset is: ',mean_squared_error(y_test, y_pred_test_lm))"
   ]
  },
  {
   "cell_type": "markdown",
   "id": "30263d09",
   "metadata": {
    "papermill": {
     "duration": 0.021918,
     "end_time": "2025-01-20T14:03:56.047967",
     "exception": false,
     "start_time": "2025-01-20T14:03:56.026049",
     "status": "completed"
    },
    "tags": []
   },
   "source": [
    "## **6.2.2.  KNeighborsRegressor**"
   ]
  },
  {
   "cell_type": "code",
   "execution_count": 58,
   "id": "f36a25e2",
   "metadata": {
    "execution": {
     "iopub.execute_input": "2025-01-20T14:03:56.093522Z",
     "iopub.status.busy": "2025-01-20T14:03:56.093137Z",
     "iopub.status.idle": "2025-01-20T14:03:56.112949Z",
     "shell.execute_reply": "2025-01-20T14:03:56.111782Z"
    },
    "papermill": {
     "duration": 0.04501,
     "end_time": "2025-01-20T14:03:56.114964",
     "exception": false,
     "start_time": "2025-01-20T14:03:56.069954",
     "status": "completed"
    },
    "tags": []
   },
   "outputs": [],
   "source": [
    "# training with KNeighborsRegressor\n",
    "\n",
    "neigh = KNeighborsRegressor(n_neighbors=2)\n",
    "\n",
    "pipeline = Pipeline(steps=[('preprocessor', preprocessor), ('regressor', neigh)])\n",
    "\n",
    "# Fit the pipeline to the training data\n",
    "pipeline.fit(X_train,y_train)\n",
    "\n",
    "# Predict on the training and test datasets\n",
    "y_pred_train_knn = pipeline.predict(X_train)\n",
    "y_pred_test_knn = pipeline.predict(X_test)"
   ]
  },
  {
   "cell_type": "code",
   "execution_count": 59,
   "id": "b67ed1de",
   "metadata": {
    "execution": {
     "iopub.execute_input": "2025-01-20T14:03:56.159754Z",
     "iopub.status.busy": "2025-01-20T14:03:56.159402Z",
     "iopub.status.idle": "2025-01-20T14:03:56.174769Z",
     "shell.execute_reply": "2025-01-20T14:03:56.173463Z"
    },
    "papermill": {
     "duration": 0.040019,
     "end_time": "2025-01-20T14:03:56.176800",
     "exception": false,
     "start_time": "2025-01-20T14:03:56.136781",
     "status": "completed"
    },
    "tags": []
   },
   "outputs": [
    {
     "name": "stdout",
     "output_type": "stream",
     "text": [
      "The R2 score on the training dataset prediction is:  0.9995824639989205\n",
      "The R2 score on the test dataset prediction is:  0.9986287244160025\n",
      "\n",
      "The RMSE  on the training dataset is:  1.593964294443531\n",
      "The RMSE  on the testing dataset is:  3.0117400528460285\n",
      "\n",
      "The MAE  on the training dataset is:  0.9741656614394852\n",
      "The MAE  on the testing dataset is:  1.6784136546184736\n",
      "\n",
      "The MSE  on the training dataset is:  2.5407221719608635\n",
      "The MSE  on the testing dataset is:  9.070578145916999\n"
     ]
    }
   ],
   "source": [
    "# Model Accuracy on training dataset\n",
    "print('The R2 score on the training dataset prediction is: ', r2_score(y_train,y_pred_train_knn))\n",
    "print('The R2 score on the test dataset prediction is: ', r2_score(y_test, y_pred_test_knn))\n",
    "print(\"\")\n",
    "\n",
    "# The Root Mean Squared Error (RMSE)\n",
    "print('The RMSE  on the training dataset is: ',sqrt(mean_squared_error(y_train,y_pred_train_knn)))\n",
    "print('The RMSE  on the testing dataset is: ',sqrt(mean_squared_error(y_test, y_pred_test_knn)))\n",
    "\n",
    "print(\"\")\n",
    "# The Mean Absolute Error (MAE)\n",
    "print('The MAE  on the training dataset is: ',mean_absolute_error(y_train,y_pred_train_knn))\n",
    "print('The MAE  on the testing dataset is: ',mean_absolute_error(y_test, y_pred_test_knn))\n",
    "\n",
    "print(\"\")\n",
    "# The Mean Squared Error (MSE)\n",
    "print('The MSE  on the training dataset is: ',mean_squared_error(y_train, y_pred_train_knn))\n",
    "print('The MSE  on the testing dataset is: ',mean_squared_error(y_test, y_pred_test_knn))"
   ]
  },
  {
   "cell_type": "markdown",
   "id": "7746565d",
   "metadata": {
    "papermill": {
     "duration": 0.021584,
     "end_time": "2025-01-20T14:03:56.221067",
     "exception": false,
     "start_time": "2025-01-20T14:03:56.199483",
     "status": "completed"
    },
    "tags": []
   },
   "source": [
    "## **6.2.3.  Random Forest Regressor**"
   ]
  },
  {
   "cell_type": "code",
   "execution_count": 60,
   "id": "cbd2ee90",
   "metadata": {
    "execution": {
     "iopub.execute_input": "2025-01-20T14:03:56.265923Z",
     "iopub.status.busy": "2025-01-20T14:03:56.265437Z",
     "iopub.status.idle": "2025-01-20T14:03:56.836576Z",
     "shell.execute_reply": "2025-01-20T14:03:56.835254Z"
    },
    "papermill": {
     "duration": 0.596422,
     "end_time": "2025-01-20T14:03:56.838995",
     "exception": false,
     "start_time": "2025-01-20T14:03:56.242573",
     "status": "completed"
    },
    "tags": []
   },
   "outputs": [],
   "source": [
    "# Training with random forest regressor\n",
    "random = RandomForestRegressor()\n",
    "\n",
    "pipeline = Pipeline(steps=[('preprocessor', preprocessor), ('regressor', random)])\n",
    "\n",
    "# Fit the pipeline to the training data\n",
    "pipeline.fit(X_train,y_train)\n",
    "\n",
    "# Predict on the training and test datasets\n",
    "y_pred_train_random = pipeline.predict(X_train)\n",
    "y_pred_test_random = pipeline.predict(X_test)"
   ]
  },
  {
   "cell_type": "code",
   "execution_count": 61,
   "id": "f5a4f00c",
   "metadata": {
    "execution": {
     "iopub.execute_input": "2025-01-20T14:03:56.884660Z",
     "iopub.status.busy": "2025-01-20T14:03:56.884186Z",
     "iopub.status.idle": "2025-01-20T14:03:56.903000Z",
     "shell.execute_reply": "2025-01-20T14:03:56.901612Z"
    },
    "papermill": {
     "duration": 0.043777,
     "end_time": "2025-01-20T14:03:56.904820",
     "exception": false,
     "start_time": "2025-01-20T14:03:56.861043",
     "status": "completed"
    },
    "tags": []
   },
   "outputs": [
    {
     "name": "stdout",
     "output_type": "stream",
     "text": [
      "The R2 score on the training dataset prediction is:  0.9998980673001944\n",
      "The R2 score on the test dataset prediction is:  0.999067769729608\n",
      "\n",
      "The RMSE  on the training dataset is:  0.7875685925986684\n",
      "The RMSE  on the testing dataset is:  2.483228667843646\n",
      "\n",
      "The MAE  on the training dataset is:  0.3933981704865261\n",
      "The MAE  on the testing dataset is:  1.1004638554216855\n",
      "\n",
      "The MSE  on the training dataset is:  0.6202642880478473\n",
      "The MSE  on the testing dataset is:  6.166424616800529\n"
     ]
    }
   ],
   "source": [
    "# Model Accuracy on training dataset\n",
    "print('The R2 score on the training dataset prediction is: ', r2_score(y_train,y_pred_train_random))\n",
    "print('The R2 score on the test dataset prediction is: ', r2_score(y_test, y_pred_test_random))\n",
    "print(\"\")\n",
    "\n",
    "# The Root Mean Squared Error (RMSE)\n",
    "print('The RMSE  on the training dataset is: ',sqrt(mean_squared_error(y_train,y_pred_train_random)))\n",
    "print('The RMSE  on the testing dataset is: ',sqrt(mean_squared_error(y_test, y_pred_test_random)))\n",
    "\n",
    "print(\"\")\n",
    "# The Mean Absolute Error (MAE)\n",
    "print('The MAE  on the training dataset is: ',mean_absolute_error(y_train,y_pred_train_random))\n",
    "print('The MAE  on the testing dataset is: ',mean_absolute_error(y_test, y_pred_test_random))\n",
    "\n",
    "print(\"\")\n",
    "# The Mean Squared Error (MSE)\n",
    "print('The MSE  on the training dataset is: ',mean_squared_error(y_train, y_pred_train_random))\n",
    "print('The MSE  on the testing dataset is: ',mean_squared_error(y_test, y_pred_test_random))"
   ]
  },
  {
   "cell_type": "markdown",
   "id": "ba19ea72",
   "metadata": {
    "papermill": {
     "duration": 0.021524,
     "end_time": "2025-01-20T14:03:56.949084",
     "exception": false,
     "start_time": "2025-01-20T14:03:56.927560",
     "status": "completed"
    },
    "tags": []
   },
   "source": [
    "## **6.2.4.  Decision Tree regressor**"
   ]
  },
  {
   "cell_type": "code",
   "execution_count": 62,
   "id": "d1efced9",
   "metadata": {
    "execution": {
     "iopub.execute_input": "2025-01-20T14:03:56.996377Z",
     "iopub.status.busy": "2025-01-20T14:03:56.995957Z",
     "iopub.status.idle": "2025-01-20T14:03:57.014940Z",
     "shell.execute_reply": "2025-01-20T14:03:57.013733Z"
    },
    "papermill": {
     "duration": 0.045846,
     "end_time": "2025-01-20T14:03:57.017112",
     "exception": false,
     "start_time": "2025-01-20T14:03:56.971266",
     "status": "completed"
    },
    "tags": []
   },
   "outputs": [],
   "source": [
    "# Training with Decision Tree regressor\n",
    "dt = DecisionTreeRegressor()\n",
    "\n",
    "pipeline = Pipeline(steps=[('preprocessor', preprocessor), ('regressor', dt)])\n",
    "\n",
    "# Fit the pipeline to the training data\n",
    "pipeline.fit(X_train,y_train)\n",
    "\n",
    "# Predict on the training and test datasets\n",
    "y_pred_train_dt = pipeline.predict(X_train)\n",
    "y_pred_test_dt = pipeline.predict(X_test)"
   ]
  },
  {
   "cell_type": "code",
   "execution_count": 63,
   "id": "7586881c",
   "metadata": {
    "execution": {
     "iopub.execute_input": "2025-01-20T14:03:57.065872Z",
     "iopub.status.busy": "2025-01-20T14:03:57.065421Z",
     "iopub.status.idle": "2025-01-20T14:03:57.086414Z",
     "shell.execute_reply": "2025-01-20T14:03:57.085005Z"
    },
    "papermill": {
     "duration": 0.047941,
     "end_time": "2025-01-20T14:03:57.088385",
     "exception": false,
     "start_time": "2025-01-20T14:03:57.040444",
     "status": "completed"
    },
    "tags": []
   },
   "outputs": [
    {
     "name": "stdout",
     "output_type": "stream",
     "text": [
      "The R2 score on the training dataset prediction is:  1.0\n",
      "The R2 score on the test dataset prediction is:  0.9985391778968988\n",
      "\n",
      "The RMSE  on the training dataset is:  0.0\n",
      "The RMSE  on the testing dataset is:  3.1085208068188477\n",
      "\n",
      "The MAE  on the training dataset is:  0.0\n",
      "The MAE  on the testing dataset is:  1.4010040160642574\n",
      "\n",
      "The MSE  on the training dataset is:  0.0\n",
      "The MSE  on the testing dataset is:  9.6629016064257\n"
     ]
    }
   ],
   "source": [
    "# Model Accuracy on training dataset\n",
    "print('The R2 score on the training dataset prediction is: ', r2_score(y_train,y_pred_train_dt))\n",
    "print('The R2 score on the test dataset prediction is: ', r2_score(y_test, y_pred_test_dt))\n",
    "print(\"\")\n",
    "\n",
    "# The Root Mean Squared Error (RMSE)\n",
    "print('The RMSE  on the training dataset is: ',sqrt(mean_squared_error(y_train,y_pred_train_dt)))\n",
    "print('The RMSE  on the testing dataset is: ',sqrt(mean_squared_error(y_test, y_pred_test_dt)))\n",
    "\n",
    "print(\"\")\n",
    "# The Mean Absolute Error (MAE)\n",
    "print('The MAE  on the training dataset is: ',mean_absolute_error(y_train,y_pred_train_dt))\n",
    "print('The MAE  on the testing dataset is: ',mean_absolute_error(y_test, y_pred_test_dt))\n",
    "\n",
    "print(\"\")\n",
    "# The Mean Squared Error (MSE)\n",
    "print('The MSE  on the training dataset is: ',mean_squared_error(y_train, y_pred_train_dt))\n",
    "print('The MSE  on the testing dataset is: ',mean_squared_error(y_test, y_pred_test_dt))"
   ]
  },
  {
   "cell_type": "markdown",
   "id": "4216cd5d",
   "metadata": {
    "papermill": {
     "duration": 0.022408,
     "end_time": "2025-01-20T14:03:57.133563",
     "exception": false,
     "start_time": "2025-01-20T14:03:57.111155",
     "status": "completed"
    },
    "tags": []
   },
   "source": [
    "## **6.2.5.  Support Vector Machine regressor**"
   ]
  },
  {
   "cell_type": "code",
   "execution_count": 64,
   "id": "f469da0a",
   "metadata": {
    "execution": {
     "iopub.execute_input": "2025-01-20T14:03:57.181563Z",
     "iopub.status.busy": "2025-01-20T14:03:57.181142Z",
     "iopub.status.idle": "2025-01-20T14:04:00.994634Z",
     "shell.execute_reply": "2025-01-20T14:04:00.993425Z"
    },
    "papermill": {
     "duration": 3.839918,
     "end_time": "2025-01-20T14:04:00.996686",
     "exception": false,
     "start_time": "2025-01-20T14:03:57.156768",
     "status": "completed"
    },
    "tags": []
   },
   "outputs": [],
   "source": [
    "# Training with Support Vector Machine regressor\n",
    "svr = SVR(kernel='linear')\n",
    "\n",
    "pipeline = Pipeline(steps=[('preprocessor', preprocessor), ('regressor', svr)])\n",
    "\n",
    "# Fit the pipeline to the training data\n",
    "pipeline.fit(X_train, y_train)\n",
    "\n",
    "# Predict on the training and test datasets\n",
    "y_pred_train_svr = pipeline.predict(X_train)\n",
    "y_pred_test_svr = pipeline.predict(X_test)"
   ]
  },
  {
   "cell_type": "code",
   "execution_count": 65,
   "id": "11c4499c",
   "metadata": {
    "execution": {
     "iopub.execute_input": "2025-01-20T14:04:01.042969Z",
     "iopub.status.busy": "2025-01-20T14:04:01.042554Z",
     "iopub.status.idle": "2025-01-20T14:04:01.061326Z",
     "shell.execute_reply": "2025-01-20T14:04:01.059816Z"
    },
    "papermill": {
     "duration": 0.044483,
     "end_time": "2025-01-20T14:04:01.063496",
     "exception": false,
     "start_time": "2025-01-20T14:04:01.019013",
     "status": "completed"
    },
    "tags": []
   },
   "outputs": [
    {
     "name": "stdout",
     "output_type": "stream",
     "text": [
      "The R2 score on the training dataset prediction is:  0.9973446467090742\n",
      "The R2 score on the test dataset prediction is:  0.9972639506108291\n",
      "\n",
      "The RMSE on the training dataset is:  4.01969203036883\n",
      "The RMSE on the testing dataset is:  4.254191928926373\n",
      "\n",
      "The MAE on the training dataset is:  3.145403239661123\n",
      "The MAE on the testing dataset is:  3.3568881179582712\n",
      "\n",
      "The MSE  on the training dataset is:  16.157924019010686\n",
      "The MSE  on the testing dataset is:  18.098148968142294\n"
     ]
    }
   ],
   "source": [
    "# Model Accuracy on training dataset\n",
    "print('The R2 score on the training dataset prediction is: ', r2_score(y_train, y_pred_train_svr))\n",
    "print('The R2 score on the test dataset prediction is: ', r2_score(y_test, y_pred_test_svr))\n",
    "print(\"\")\n",
    "\n",
    "# The Root Mean Squared Error (RMSE)\n",
    "print('The RMSE on the training dataset is: ', sqrt(mean_squared_error(y_train, y_pred_train_svr)))\n",
    "print('The RMSE on the testing dataset is: ', sqrt(mean_squared_error(y_test, y_pred_test_svr)))\n",
    "print(\"\")\n",
    "\n",
    "# The Mean Absolute Error (MAE)\n",
    "print('The MAE on the training dataset is: ', mean_absolute_error(y_train, y_pred_train_svr))\n",
    "print('The MAE on the testing dataset is: ', mean_absolute_error(y_test, y_pred_test_svr))\n",
    "\n",
    "print(\"\")\n",
    "# The Mean Squared Error (MSE)\n",
    "print('The MSE  on the training dataset is: ',mean_squared_error(y_train, y_pred_train_svr))\n",
    "print('The MSE  on the testing dataset is: ',mean_squared_error(y_test, y_pred_test_svr))"
   ]
  },
  {
   "cell_type": "markdown",
   "id": "43413b64",
   "metadata": {
    "papermill": {
     "duration": 0.02198,
     "end_time": "2025-01-20T14:04:01.107732",
     "exception": false,
     "start_time": "2025-01-20T14:04:01.085752",
     "status": "completed"
    },
    "tags": []
   },
   "source": [
    "## **6.2.6.  XGBoost Regressor**"
   ]
  },
  {
   "cell_type": "code",
   "execution_count": 66,
   "id": "6c5fdc15",
   "metadata": {
    "execution": {
     "iopub.execute_input": "2025-01-20T14:04:01.152977Z",
     "iopub.status.busy": "2025-01-20T14:04:01.152549Z",
     "iopub.status.idle": "2025-01-20T14:04:01.249460Z",
     "shell.execute_reply": "2025-01-20T14:04:01.248528Z"
    },
    "papermill": {
     "duration": 0.122203,
     "end_time": "2025-01-20T14:04:01.251686",
     "exception": false,
     "start_time": "2025-01-20T14:04:01.129483",
     "status": "completed"
    },
    "tags": []
   },
   "outputs": [],
   "source": [
    "# Training with XGBoost regressor\n",
    "xgb_regressor = XGBRegressor(objective='reg:squarederror')\n",
    "\n",
    "pipeline = Pipeline(steps=[('preprocessor', preprocessor), ('regressor', xgb_regressor)])\n",
    "\n",
    "# Fit the pipeline to the training data\n",
    "pipeline.fit(X_train, y_train)\n",
    "\n",
    "# Predict on the training and test datasets\n",
    "y_pred_train_xgb = pipeline.predict(X_train)\n",
    "y_pred_test_xgb = pipeline.predict(X_test)"
   ]
  },
  {
   "cell_type": "code",
   "execution_count": 67,
   "id": "a20d2b6d",
   "metadata": {
    "execution": {
     "iopub.execute_input": "2025-01-20T14:04:01.300782Z",
     "iopub.status.busy": "2025-01-20T14:04:01.300426Z",
     "iopub.status.idle": "2025-01-20T14:04:01.320588Z",
     "shell.execute_reply": "2025-01-20T14:04:01.319418Z"
    },
    "papermill": {
     "duration": 0.04523,
     "end_time": "2025-01-20T14:04:01.322669",
     "exception": false,
     "start_time": "2025-01-20T14:04:01.277439",
     "status": "completed"
    },
    "tags": []
   },
   "outputs": [
    {
     "name": "stdout",
     "output_type": "stream",
     "text": [
      "The R2 score on the training dataset prediction is:  0.9999156814796453\n",
      "The R2 score on the test dataset prediction is:  0.9987028244033564\n",
      "\n",
      "The RMSE on the training dataset is:  0.7162969689729505\n",
      "The RMSE on the testing dataset is:  2.9292369102421056\n",
      "\n",
      "The MAE on the training dataset is:  0.31378432205991663\n",
      "The MAE on the testing dataset is:  1.534000981189161\n",
      "\n",
      "The MSE  on the training dataset is:  0.5130813477598359\n",
      "The MSE  on the testing dataset is:  8.580428876324719\n"
     ]
    }
   ],
   "source": [
    "# Model Accuracy on training dataset\n",
    "print('The R2 score on the training dataset prediction is: ', r2_score(y_train, y_pred_train_xgb))\n",
    "print('The R2 score on the test dataset prediction is: ', r2_score(y_test, y_pred_test_xgb))\n",
    "print(\"\")\n",
    "\n",
    "# The Root Mean Squared Error (RMSE)\n",
    "print('The RMSE on the training dataset is: ', sqrt(mean_squared_error(y_train, y_pred_train_xgb)))\n",
    "print('The RMSE on the testing dataset is: ', sqrt(mean_squared_error(y_test, y_pred_test_xgb)))\n",
    "print(\"\")\n",
    "\n",
    "# The Mean Absolute Error (MAE)\n",
    "print('The MAE on the training dataset is: ', mean_absolute_error(y_train, y_pred_train_xgb))\n",
    "print('The MAE on the testing dataset is: ', mean_absolute_error(y_test, y_pred_test_xgb))\n",
    "\n",
    "print(\"\")\n",
    "# The Mean Squared Error (MSE)\n",
    "print('The MSE  on the training dataset is: ',mean_squared_error(y_train, y_pred_train_xgb))\n",
    "print('The MSE  on the testing dataset is: ',mean_squared_error(y_test, y_pred_test_xgb))"
   ]
  },
  {
   "cell_type": "markdown",
   "id": "f5689106",
   "metadata": {
    "papermill": {
     "duration": 0.02195,
     "end_time": "2025-01-20T14:04:01.367435",
     "exception": false,
     "start_time": "2025-01-20T14:04:01.345485",
     "status": "completed"
    },
    "tags": []
   },
   "source": [
    "## **6.2.7.  Neural Network Regressor**"
   ]
  },
  {
   "cell_type": "code",
   "execution_count": 68,
   "id": "d76a8b3e",
   "metadata": {
    "execution": {
     "iopub.execute_input": "2025-01-20T14:04:01.413141Z",
     "iopub.status.busy": "2025-01-20T14:04:01.412728Z",
     "iopub.status.idle": "2025-01-20T14:04:02.564708Z",
     "shell.execute_reply": "2025-01-20T14:04:02.563400Z"
    },
    "papermill": {
     "duration": 1.177119,
     "end_time": "2025-01-20T14:04:02.566678",
     "exception": false,
     "start_time": "2025-01-20T14:04:01.389559",
     "status": "completed"
    },
    "tags": []
   },
   "outputs": [],
   "source": [
    "# training with neural network regressor\n",
    "\n",
    "nn = MLPRegressor(hidden_layer_sizes=(8,), activation='relu', solver='adam', max_iter=2000, learning_rate_init=0.001)\n",
    "\n",
    "pipeline = Pipeline(steps=[('preprocessor', preprocessor), ('regressor', nn)])\n",
    "\n",
    "# Fit the pipeline to the training data\n",
    "pipeline.fit(X_train,y_train)\n",
    "\n",
    "# Predict on the training and test datasets\n",
    "y_pred_train_nn = pipeline.predict(X_train)\n",
    "y_pred_test_nn = pipeline.predict(X_test)"
   ]
  },
  {
   "cell_type": "code",
   "execution_count": 69,
   "id": "9f0c7150",
   "metadata": {
    "execution": {
     "iopub.execute_input": "2025-01-20T14:04:02.615442Z",
     "iopub.status.busy": "2025-01-20T14:04:02.615021Z",
     "iopub.status.idle": "2025-01-20T14:04:02.633530Z",
     "shell.execute_reply": "2025-01-20T14:04:02.632263Z"
    },
    "papermill": {
     "duration": 0.043875,
     "end_time": "2025-01-20T14:04:02.635426",
     "exception": false,
     "start_time": "2025-01-20T14:04:02.591551",
     "status": "completed"
    },
    "tags": []
   },
   "outputs": [
    {
     "name": "stdout",
     "output_type": "stream",
     "text": [
      "The R2 score on the training dataset prediction is:  0.9993620032759104\n",
      "The R2 score on the test dataset prediction is:  0.9992295034099352\n",
      "\n",
      "The RMSE on the training dataset is:  1.9703385270526992\n",
      "The RMSE on the testing dataset is:  2.2575660920233847\n",
      "\n",
      "The MAE on the training dataset is:  1.0493433252799547\n",
      "The MAE on the testing dataset is:  1.0606266417086634\n",
      "\n",
      "The MSE  on the training dataset is:  3.8822339111882003\n",
      "The MSE  on the testing dataset is:  5.096604659853738\n"
     ]
    }
   ],
   "source": [
    "# Model Accuracy on training dataset\n",
    "print('The R2 score on the training dataset prediction is: ', r2_score(y_train, y_pred_train_nn))\n",
    "print('The R2 score on the test dataset prediction is: ', r2_score(y_test, y_pred_test_nn))\n",
    "print(\"\")\n",
    "\n",
    "# The Root Mean Squared Error (RMSE)\n",
    "print('The RMSE on the training dataset is: ', sqrt(mean_squared_error(y_train, y_pred_train_nn)))\n",
    "print('The RMSE on the testing dataset is: ', sqrt(mean_squared_error(y_test, y_pred_test_nn)))\n",
    "print(\"\")\n",
    "\n",
    "# The Mean Absolute Error (MAE)\n",
    "print('The MAE on the training dataset is: ', mean_absolute_error(y_train, y_pred_train_nn))\n",
    "print('The MAE on the testing dataset is: ', mean_absolute_error(y_test, y_pred_test_nn))\n",
    "\n",
    "print(\"\")\n",
    "# The Mean Squared Error (MSE)\n",
    "print('The MSE  on the training dataset is: ',mean_squared_error(y_train, y_pred_train_nn))\n",
    "print('The MSE  on the testing dataset is: ',mean_squared_error(y_test, y_pred_test_nn))"
   ]
  },
  {
   "cell_type": "code",
   "execution_count": null,
   "id": "8d7648d3",
   "metadata": {
    "papermill": {
     "duration": 0.022052,
     "end_time": "2025-01-20T14:04:02.680281",
     "exception": false,
     "start_time": "2025-01-20T14:04:02.658229",
     "status": "completed"
    },
    "tags": []
   },
   "outputs": [],
   "source": []
  }
 ],
 "metadata": {
  "kaggle": {
   "accelerator": "none",
   "dataSources": [
    {
     "datasetId": 6454996,
     "sourceId": 10415081,
     "sourceType": "datasetVersion"
    }
   ],
   "dockerImageVersionId": 30839,
   "isGpuEnabled": false,
   "isInternetEnabled": true,
   "language": "python",
   "sourceType": "notebook"
  },
  "kernelspec": {
   "display_name": "Python 3",
   "language": "python",
   "name": "python3"
  },
  "language_info": {
   "codemirror_mode": {
    "name": "ipython",
    "version": 3
   },
   "file_extension": ".py",
   "mimetype": "text/x-python",
   "name": "python",
   "nbconvert_exporter": "python",
   "pygments_lexer": "ipython3",
   "version": "3.10.12"
  },
  "papermill": {
   "default_parameters": {},
   "duration": 21.580212,
   "end_time": "2025-01-20T14:04:03.525406",
   "environment_variables": {},
   "exception": null,
   "input_path": "__notebook__.ipynb",
   "output_path": "__notebook__.ipynb",
   "parameters": {},
   "start_time": "2025-01-20T14:03:41.945194",
   "version": "2.6.0"
  }
 },
 "nbformat": 4,
 "nbformat_minor": 5
}
